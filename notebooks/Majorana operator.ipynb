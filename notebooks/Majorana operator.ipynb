{
 "cells": [
  {
   "cell_type": "markdown",
   "id": "1f026262",
   "metadata": {},
   "source": [
    "# Majorana Operator "
   ]
  },
  {
   "cell_type": "code",
   "execution_count": 1,
   "id": "6ed9113f",
   "metadata": {},
   "outputs": [],
   "source": [
    "from symred.symplectic_form import MajoranaOp\n",
    "import numpy as np"
   ]
  },
  {
   "cell_type": "markdown",
   "id": "92375848",
   "metadata": {},
   "source": [
    "# notes:\n",
    "\n",
    "https://arxiv.org/pdf/2101.09349.pdf (pg11)\n",
    "\n",
    "https://arxiv.org/abs/2110.10280"
   ]
  },
  {
   "cell_type": "code",
   "execution_count": null,
   "id": "61328a4d",
   "metadata": {},
   "outputs": [],
   "source": []
  },
  {
   "cell_type": "markdown",
   "id": "5498d956",
   "metadata": {},
   "source": [
    "The Majorana operators {γ0, γ1, . . . , γm−1}, for m even, are linear Hermitian operators acting on the\n",
    "fermionic Fock space \n",
    "\n",
    "$$H_{m/2} = \\{ |b\\rangle : b ∈ F_{2}^{m/2} \\}$$\n",
    "\n",
    "or equivalently the $m/2$-qubit complex Hilbert space satisfying $\\forall 0 \\leq i < j \\leq m-1$:\n",
    "\n",
    "1. $\\gamma_{i}^{2} = \\mathcal{I}$ - self inverse!\n",
    "2. $\\gamma_{i}\\gamma_{j} = -\\gamma_{j}\\gamma_{i}$ - anti-commute!\n"
   ]
  },
  {
   "cell_type": "code",
   "execution_count": null,
   "id": "75cdeac4",
   "metadata": {},
   "outputs": [],
   "source": []
  },
  {
   "cell_type": "markdown",
   "id": "31b2e9a1",
   "metadata": {},
   "source": [
    "These M single-mode operators generate a basis (up to phase factors) for the full algebra of Majorana operators via arbitrary products (https://arxiv.org/pdf/1908.08067.pdf pg9):\n",
    "\n",
    "$$\\gamma_{A} = \\prod_{k \\in A}^{M-1} \\gamma_{k}$$\n",
    "\n",
    "where $A \\subseteq \\{0,1,...,M-1 \\} $ and represents the \"support\" of $\\gamma_{A}$. We write this as $|A|$ where is the hamming weight of $\\gamma_{A}$."
   ]
  },
  {
   "cell_type": "code",
   "execution_count": null,
   "id": "4c1c58ee",
   "metadata": {},
   "outputs": [],
   "source": []
  },
  {
   "cell_type": "markdown",
   "id": "b5a1f643",
   "metadata": {},
   "source": [
    "The anticommutator between two arbitrary Majorana operators $\\gamma_{A}$ and $\\gamma_{B}$ is determined by their individual supports and their overlap:\n",
    "\n",
    "\n",
    "\n",
    "$$\\{ \\gamma_{A}, \\gamma_{B} \\} = \\Big(1 + (-1)^{|A|\\dot|B|- |A\\cap B|} \\Big) \\gamma_{A}\\gamma_{B}$$\n",
    "\n",
    "Therefore:\n",
    "- if $|A|\\dot|B|- |A\\cap B| = 0$\n",
    "    - then terms anticommute\n",
    "    \n",
    "-else $|A|\\dot|B|- |A\\cap B| = 1$\n",
    "    - and terms commute\n"
   ]
  },
  {
   "cell_type": "code",
   "execution_count": null,
   "id": "0a630bd5",
   "metadata": {},
   "outputs": [],
   "source": []
  },
  {
   "cell_type": "markdown",
   "id": "bff24a5a",
   "metadata": {},
   "source": [
    "# sympletic form"
   ]
  },
  {
   "cell_type": "markdown",
   "id": "06030eea",
   "metadata": {},
   "source": [
    "Class stores Majorana operator as a symplectic array and vector of coefficients.\n",
    "\n",
    "rows of symplectic array give an individual operator and associated coefficient in coeff vec gives coefficient\n",
    "\n",
    "therefore symplectic matrix is size $N \\times M$ for $N$ terms and $M$ fermionic sites (note $M$ always even!)"
   ]
  },
  {
   "cell_type": "code",
   "execution_count": 2,
   "id": "df6497e5",
   "metadata": {},
   "outputs": [
    {
     "name": "stdout",
     "output_type": "stream",
     "text": [
      "(1+0j) γ1 γ2 γ3 γ4 +\n",
      "(2+0j) γ5\n"
     ]
    }
   ],
   "source": [
    "operators = [\n",
    "            [1,2,3,4], # op1\n",
    "            [5] # op2\n",
    "           ]\n",
    "coeffs = [1,\n",
    "         2]\n",
    "Maj = MajoranaOp(operators, coeffs)\n",
    "print(Maj)"
   ]
  },
  {
   "cell_type": "code",
   "execution_count": 3,
   "id": "80f0b1a9",
   "metadata": {},
   "outputs": [
    {
     "data": {
      "text/plain": [
       "array([[0, 1, 1, 1, 1, 0],\n",
       "       [0, 0, 0, 0, 0, 1]])"
      ]
     },
     "execution_count": 3,
     "metadata": {},
     "output_type": "execute_result"
    }
   ],
   "source": [
    "Maj.symp_matrix"
   ]
  },
  {
   "cell_type": "code",
   "execution_count": 4,
   "id": "83eeef06",
   "metadata": {},
   "outputs": [
    {
     "data": {
      "text/plain": [
       "array([1.+0.j, 2.+0.j])"
      ]
     },
     "execution_count": 4,
     "metadata": {},
     "output_type": "execute_result"
    }
   ],
   "source": [
    "Maj.coeff_vec"
   ]
  },
  {
   "cell_type": "code",
   "execution_count": null,
   "id": "9b270ba7",
   "metadata": {},
   "outputs": [],
   "source": []
  },
  {
   "cell_type": "code",
   "execution_count": null,
   "id": "f02f4731",
   "metadata": {},
   "outputs": [],
   "source": []
  },
  {
   "cell_type": "markdown",
   "id": "734d78a7",
   "metadata": {},
   "source": [
    "# NOTE order matters!\n",
    "\n",
    "code uses bubble sort to fix operator to normal form"
   ]
  },
  {
   "cell_type": "code",
   "execution_count": 29,
   "id": "40a88eaf",
   "metadata": {},
   "outputs": [
    {
     "name": "stdout",
     "output_type": "stream",
     "text": [
      "(-1+0j) γ3 γ4\n"
     ]
    }
   ],
   "source": [
    "ops = [\n",
    "            [4,3]# op1\n",
    "           ]\n",
    "amps = [1]\n",
    "\n",
    "Maj = MajoranaOp(ops, amps)\n",
    "print(Maj)\n",
    "\n",
    "# order flipped! generating a sign!"
   ]
  },
  {
   "cell_type": "markdown",
   "id": "682cd6fb",
   "metadata": {},
   "source": [
    "# check commutation relations\n",
    "\n",
    "uses above definition!"
   ]
  },
  {
   "cell_type": "markdown",
   "id": "8c667fa2",
   "metadata": {},
   "source": [
    "### 1. termwise commutation!"
   ]
  },
  {
   "cell_type": "code",
   "execution_count": 5,
   "id": "33893677",
   "metadata": {},
   "outputs": [],
   "source": [
    "operators = [\n",
    "            [1,2,3,4], # op1\n",
    "            [5,6,10] # op2\n",
    "           ]\n",
    "coeffs = [1,\n",
    "         2]\n",
    "Maj1 = MajoranaOp(operators, coeffs)\n",
    "\n",
    "\n",
    "operators2 = [\n",
    "            [0], # op1\n",
    "            [2], # op2\n",
    "            [3], # op3\n",
    "           ]\n",
    "coeffs2 = [1,\n",
    "           2,\n",
    "           3+1j]\n",
    "Maj2 = MajoranaOp(operators2, coeffs2)"
   ]
  },
  {
   "cell_type": "code",
   "execution_count": 6,
   "id": "7a82d631",
   "metadata": {},
   "outputs": [
    {
     "data": {
      "text/plain": [
       "array([[1, 0, 0],\n",
       "       [0, 0, 0]])"
      ]
     },
     "execution_count": 6,
     "metadata": {},
     "output_type": "execute_result"
    }
   ],
   "source": [
    "Maj1.commutes_termwise(Maj2)"
   ]
  },
  {
   "cell_type": "code",
   "execution_count": 7,
   "id": "db6e212f",
   "metadata": {},
   "outputs": [
    {
     "name": "stdout",
     "output_type": "stream",
     "text": [
      "(1+0j) γ1 γ2 γ3 γ4 +\n",
      "(2+0j) γ5 γ6 γ10\n"
     ]
    },
    {
     "data": {
      "text/plain": [
       "array([[1, 1],\n",
       "       [1, 1]])"
      ]
     },
     "execution_count": 7,
     "metadata": {},
     "output_type": "execute_result"
    }
   ],
   "source": [
    "print(Maj1)\n",
    "# can see no overlap of terms therefore do (4*3)%2 = 0... therefore terms anticommute!\n",
    "Maj1.adjacency_matrix()"
   ]
  },
  {
   "cell_type": "code",
   "execution_count": 8,
   "id": "efe8d5cf",
   "metadata": {},
   "outputs": [
    {
     "name": "stdout",
     "output_type": "stream",
     "text": [
      "(1+0j) γ0 +\n",
      "(2+0j) γ2 +\n",
      "(3+1j) γ3\n"
     ]
    },
    {
     "data": {
      "text/plain": [
       "array([[1, 0, 0],\n",
       "       [0, 1, 0],\n",
       "       [0, 0, 1]])"
      ]
     },
     "execution_count": 8,
     "metadata": {},
     "output_type": "execute_result"
    }
   ],
   "source": [
    "print(Maj2)\n",
    "# can see no overlap of terms therefore do (1*1)%2 = 1... therefore terms commute!\n",
    "Maj2.commutes_termwise(Maj2)"
   ]
  },
  {
   "cell_type": "code",
   "execution_count": null,
   "id": "1ac2b306",
   "metadata": {},
   "outputs": [],
   "source": []
  },
  {
   "cell_type": "code",
   "execution_count": 9,
   "id": "911ccf06",
   "metadata": {},
   "outputs": [
    {
     "name": "stdout",
     "output_type": "stream",
     "text": [
      "(2+0j) γ0 γ1 γ2 γ3 +\n",
      "(3+0j) γ5 γ6 +\n",
      "(4+0j) γ3 γ5 +\n",
      "(5+0j) γ0 γ1 γ2 γ3 γ4 γ5 γ6 γ7 +\n",
      "(6+0j) γ2 γ3 +\n",
      "(7+0j) γ4\n"
     ]
    },
    {
     "data": {
      "text/plain": [
       "array([[1, 1, 0, 1, 1, 1],\n",
       "       [1, 1, 0, 1, 1, 1],\n",
       "       [0, 0, 1, 1, 0, 1],\n",
       "       [1, 1, 1, 1, 1, 0],\n",
       "       [1, 1, 0, 1, 1, 1],\n",
       "       [1, 1, 1, 0, 1, 1]])"
      ]
     },
     "execution_count": 9,
     "metadata": {},
     "output_type": "execute_result"
    }
   ],
   "source": [
    "operator = [\n",
    "    [0,1,2,3],\n",
    "    [5,6],\n",
    "    [3,5],\n",
    "    [0,1,2,3,4,5,6,7],\n",
    "    [2,3],\n",
    "    [4]\n",
    "]\n",
    "\n",
    "coeffs = np.arange(2,len(operator)+2)\n",
    "\n",
    "###\n",
    "M = MajoranaOp(operator, coeffs)\n",
    "print(M)\n",
    "\n",
    "M.adjacency_matrix()"
   ]
  },
  {
   "cell_type": "code",
   "execution_count": 10,
   "id": "46ba38ea",
   "metadata": {},
   "outputs": [
    {
     "name": "stdout",
     "output_type": "stream",
     "text": [
      "(17+0j) I +\n",
      "(42+0j) γ4 γ5 γ6 +\n",
      "(20+0j) γ4 γ5 γ6 γ7 +\n",
      "(-56+0j) γ3 γ4 γ5 +\n",
      "(36+0j) γ2 γ3 γ5 γ6 +\n",
      "(84+0j) γ2 γ3 γ4 +\n",
      "(-24+0j) γ0 γ1 +\n",
      "(-60+0j) γ0 γ1 γ4 γ5 γ6 γ7 +\n",
      "(40+0j) γ0 γ1 γ2 γ4 γ6 γ7 +\n",
      "(12+0j) γ0 γ1 γ2 γ3 γ5 γ6 +\n",
      "(28+0j) γ0 γ1 γ2 γ3 γ4 +\n",
      "(-30+0j) γ0 γ1 γ2 γ3 γ4 γ7\n",
      "\n",
      "(17+0j) () +\n",
      "(-24+0j) (0, 1) +\n",
      "(28+0j) (0, 1, 2, 3, 4) +\n",
      "(-30+0j) (0, 1, 2, 3, 4, 7) +\n",
      "(12+0j) (0, 1, 2, 3, 5, 6) +\n",
      "(40+0j) (0, 1, 2, 4, 6, 7) +\n",
      "(-60+0j) (0, 1, 4, 5, 6, 7) +\n",
      "(84+0j) (2, 3, 4) +\n",
      "(36+0j) (2, 3, 5, 6) +\n",
      "(-56+0j) (3, 4, 5) +\n",
      "(42+0j) (4, 5, 6) +\n",
      "(20+0j) (4, 5, 6, 7)\n"
     ]
    }
   ],
   "source": [
    "print(M*M)\n",
    "print()\n",
    "\n",
    "C = M.to_OF_op()\n",
    "out = C*C\n",
    "print(out)"
   ]
  },
  {
   "cell_type": "code",
   "execution_count": 11,
   "id": "924583c8",
   "metadata": {},
   "outputs": [
    {
     "data": {
      "text/plain": [
       "array([[1, 1, 0, 1, 1, 1],\n",
       "       [1, 1, 0, 1, 1, 1],\n",
       "       [0, 0, 1, 1, 0, 1],\n",
       "       [1, 1, 1, 1, 1, 0],\n",
       "       [1, 1, 0, 1, 1, 1],\n",
       "       [1, 1, 1, 0, 1, 1]])"
      ]
     },
     "execution_count": 11,
     "metadata": {},
     "output_type": "execute_result"
    }
   ],
   "source": [
    "M.adjacency_matrix()"
   ]
  },
  {
   "cell_type": "markdown",
   "id": "dc25712f",
   "metadata": {},
   "source": [
    "# get basis for operator"
   ]
  },
  {
   "cell_type": "code",
   "execution_count": 12,
   "id": "5b1c4004",
   "metadata": {},
   "outputs": [],
   "source": [
    "from symred.utils import gf2_basis_for_gf2_rref, gf2_gaus_elim"
   ]
  },
  {
   "cell_type": "code",
   "execution_count": 13,
   "id": "de12ecbf",
   "metadata": {},
   "outputs": [
    {
     "data": {
      "text/plain": [
       "array([[1, 1, 0, 0, 0, 0, 0, 0],\n",
       "       [0, 0, 1, 1, 0, 1, 1, 0]])"
      ]
     },
     "execution_count": 13,
     "metadata": {},
     "output_type": "execute_result"
    }
   ],
   "source": [
    "ZX_symp = M.symp_matrix\n",
    "reduced = gf2_gaus_elim(ZX_symp)\n",
    "kernel  =  gf2_basis_for_gf2_rref(reduced)\n",
    "\n",
    "kernel = kernel.astype(int)\n",
    "kernel"
   ]
  },
  {
   "cell_type": "code",
   "execution_count": 14,
   "id": "ca5a4019",
   "metadata": {},
   "outputs": [
    {
     "name": "stdout",
     "output_type": "stream",
     "text": [
      "(1+0j) γ0 γ1 +\n",
      "(1+0j) γ2 γ3 γ5 γ6\n"
     ]
    }
   ],
   "source": [
    "if kernel.shape[0]:\n",
    "    basis_coeffs = np.ones(kernel.shape[0])\n",
    "else:\n",
    "    basis_coeffs=[1]\n",
    "\n",
    "basis_op = MajoranaOp(kernel, basis_coeffs)\n",
    "print(basis_op)"
   ]
  },
  {
   "cell_type": "code",
   "execution_count": 16,
   "id": "2b223fc1",
   "metadata": {},
   "outputs": [
    {
     "name": "stdout",
     "output_type": "stream",
     "text": [
      "(2+0j) γ0 γ1 γ2 γ3 +\n",
      "(3+0j) γ5 γ6 +\n",
      "(4+0j) γ3 γ5 +\n",
      "(5+0j) γ0 γ1 γ2 γ3 γ4 γ5 γ6 γ7 +\n",
      "(6+0j) γ2 γ3 +\n",
      "(7+0j) γ4\n",
      "\n",
      "(1+0j) γ0 γ1 +\n",
      "(1+0j) γ2 γ3 γ5 γ6\n",
      "commmutes:  True\n",
      "[[1 1]\n",
      " [1 1]\n",
      " [1 1]\n",
      " [1 1]\n",
      " [1 1]\n",
      " [1 1]]\n"
     ]
    },
    {
     "data": {
      "text/plain": [
       "True"
      ]
     },
     "execution_count": 16,
     "metadata": {},
     "output_type": "execute_result"
    }
   ],
   "source": [
    "print(M)\n",
    "print()\n",
    "print(basis_op)\n",
    "\n",
    "openF_M_op = M.to_OF_op()\n",
    "basis_op_openF =  basis_op.to_OF_op()\n",
    "print('commmutes: ', openF_M_op*basis_op_openF == basis_op_openF*openF_M_op)\n",
    "\n",
    "print(M.commutes_termwise(basis_op))\n",
    "M.commutes(basis_op)"
   ]
  },
  {
   "cell_type": "code",
   "execution_count": 17,
   "id": "6df8589f",
   "metadata": {},
   "outputs": [
    {
     "name": "stdout",
     "output_type": "stream",
     "text": [
      "(2+0j) γ0 γ1 γ2 γ3 +\n",
      "(3+0j) γ5 γ6 +\n",
      "(4+0j) γ3 γ5 +\n",
      "(5+0j) γ0 γ1 γ2 γ3 γ4 γ5 γ6 γ7 +\n",
      "(6+0j) γ2 γ3 +\n",
      "(7+0j) γ4\n"
     ]
    }
   ],
   "source": [
    "print(M)"
   ]
  },
  {
   "cell_type": "code",
   "execution_count": null,
   "id": "3437885d",
   "metadata": {},
   "outputs": [],
   "source": []
  },
  {
   "cell_type": "markdown",
   "id": "5ee595aa",
   "metadata": {},
   "source": [
    "# convert from Fermions to Majoranas"
   ]
  },
  {
   "cell_type": "code",
   "execution_count": 25,
   "id": "1c16720d",
   "metadata": {},
   "outputs": [
    {
     "name": "stdout",
     "output_type": "stream",
     "text": [
      "True\n"
     ]
    }
   ],
   "source": [
    "from openfermion import FermionOperator, get_majorana_operator\n",
    "from symred.symplectic_form import convert_openF_fermionic_op_to_maj_op\n",
    "\n",
    "ham = (FermionOperator('0^ 3', .5) +\n",
    "       FermionOperator('3^ 0', 0.5) +\n",
    "      FermionOperator('3^ 2^ 0 1', 0.5))\n",
    "\n",
    "M_out = convert_openF_fermionic_op_to_maj_op(ham)\n",
    "\n",
    "print(M_out.to_OF_op() == get_majorana_operator(ham))"
   ]
  },
  {
   "cell_type": "code",
   "execution_count": 26,
   "id": "02fb1827",
   "metadata": {},
   "outputs": [
    {
     "name": "stdout",
     "output_type": "stream",
     "text": [
      "-0.25j γ1 γ6 +\n",
      "(-0.03125+0j) γ1 γ3 γ5 γ7 +\n",
      "-0.03125j γ1 γ3 γ5 γ6 +\n",
      "-0.03125j γ1 γ3 γ4 γ7 +\n",
      "(0.03125+0j) γ1 γ3 γ4 γ6 +\n",
      "0.03125j γ1 γ2 γ5 γ7 +\n",
      "(-0.03125+0j) γ1 γ2 γ5 γ6 +\n",
      "(-0.03125+0j) γ1 γ2 γ4 γ7 +\n",
      "-0.03125j γ1 γ2 γ4 γ6 +\n",
      "0.25j γ0 γ7 +\n",
      "0.03125j γ0 γ3 γ5 γ7 +\n",
      "(-0.03125+0j) γ0 γ3 γ5 γ6 +\n",
      "(-0.03125+0j) γ0 γ3 γ4 γ7 +\n",
      "-0.03125j γ0 γ3 γ4 γ6 +\n",
      "(0.03125+0j) γ0 γ2 γ5 γ7 +\n",
      "0.03125j γ0 γ2 γ5 γ6 +\n",
      "0.03125j γ0 γ2 γ4 γ7 +\n",
      "(-0.03125+0j) γ0 γ2 γ4 γ6\n"
     ]
    }
   ],
   "source": [
    "print(M_out)"
   ]
  },
  {
   "cell_type": "code",
   "execution_count": 27,
   "id": "92a96844",
   "metadata": {},
   "outputs": [
    {
     "name": "stdout",
     "output_type": "stream",
     "text": [
      "(1+0j) γ0 γ1 +\n",
      "(1+0j) γ2 γ3 γ5 γ6 \n",
      "\n",
      "(1+0j) γ2 γ3 γ5 γ6 +\n",
      "1j γ1\n"
     ]
    },
    {
     "data": {
      "text/plain": [
       "array([[1, 1],\n",
       "       [0, 1]])"
      ]
     },
     "execution_count": 27,
     "metadata": {},
     "output_type": "execute_result"
    }
   ],
   "source": [
    "print(basis_op, '\\n')\n",
    "op1 = MajoranaOp([[],[0]],[np.cos(np.pi/4), 1j*np.sin(np.pi/4)])\n",
    "op1_dag = MajoranaOp([[],[0]],[np.cos(np.pi/4), -1j*np.sin(np.pi/4)])\n",
    "\n",
    "rot1 = op1*basis_op*op1_dag\n",
    "print(rot1)\n",
    "\n",
    "op1.commutes_termwise(basis_op)"
   ]
  },
  {
   "cell_type": "code",
   "execution_count": null,
   "id": "b9c8d162",
   "metadata": {},
   "outputs": [],
   "source": [
    "print(op1*op1_dag)"
   ]
  },
  {
   "cell_type": "code",
   "execution_count": null,
   "id": "e41f7468",
   "metadata": {},
   "outputs": [],
   "source": [
    "print(op1.commutes(basis_op))\n",
    "\n",
    "op1.commutes_termwise(basis_op)"
   ]
  },
  {
   "cell_type": "code",
   "execution_count": null,
   "id": "ce3cdf36",
   "metadata": {},
   "outputs": [],
   "source": []
  },
  {
   "cell_type": "code",
   "execution_count": null,
   "id": "86016ce3",
   "metadata": {},
   "outputs": [],
   "source": [
    "print(rot1)\n",
    "print(op2)"
   ]
  },
  {
   "cell_type": "code",
   "execution_count": null,
   "id": "4287eec0",
   "metadata": {},
   "outputs": [],
   "source": [
    "op2 = MajoranaOp([[], [1, 6]],[np.cos(np.pi/4), 1j*np.sin(np.pi/4)])\n",
    "op2_dag = MajoranaOp([[], [1, 6]],[np.cos(np.pi/4), -1j*np.sin(np.pi/4)])\n",
    "\n",
    "rot2 = op2*rot1*op2_dag\n",
    "print(rot2)\n",
    "\n",
    "rot1.commutes_termwise(pp)"
   ]
  },
  {
   "cell_type": "code",
   "execution_count": null,
   "id": "1557c279",
   "metadata": {},
   "outputs": [],
   "source": []
  },
  {
   "cell_type": "code",
   "execution_count": null,
   "id": "7eca6f7f",
   "metadata": {},
   "outputs": [],
   "source": [
    "print(op1*basis_op*op1_dag)"
   ]
  },
  {
   "cell_type": "code",
   "execution_count": null,
   "id": "a8c54a04",
   "metadata": {},
   "outputs": [],
   "source": []
  },
  {
   "cell_type": "code",
   "execution_count": null,
   "id": "14f7d936",
   "metadata": {},
   "outputs": [],
   "source": [
    "# bug fixed\n",
    "op2 = MajoranaOp([[12, 10]], [1])\n",
    "print(op2)\n",
    "from openfermion import MajoranaOperator\n",
    "test = MajoranaOperator(term=(12,10))\n",
    "print(test)"
   ]
  },
  {
   "cell_type": "code",
   "execution_count": null,
   "id": "01fe79cc",
   "metadata": {},
   "outputs": [],
   "source": []
  },
  {
   "cell_type": "code",
   "execution_count": null,
   "id": "91ebf43f",
   "metadata": {},
   "outputs": [],
   "source": [
    "op1 = MajoranaOp([[1,2,3,4,5]],[1])\n",
    "op2 = MajoranaOp([[6]],[1])\n",
    "\n",
    "print(op1.commutes(op2))\n",
    "\n",
    "print(op1*op2*op1)"
   ]
  }
 ],
 "metadata": {
  "kernelspec": {
   "display_name": "Python 3 (ipykernel)",
   "language": "python",
   "name": "python3"
  },
  "language_info": {
   "codemirror_mode": {
    "name": "ipython",
    "version": 3
   },
   "file_extension": ".py",
   "mimetype": "text/x-python",
   "name": "python",
   "nbconvert_exporter": "python",
   "pygments_lexer": "ipython3",
   "version": "3.9.7"
  }
 },
 "nbformat": 4,
 "nbformat_minor": 5
}
