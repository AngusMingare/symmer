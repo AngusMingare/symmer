{
 "cells": [
  {
   "cell_type": "markdown",
   "id": "1f026262",
   "metadata": {},
   "source": [
    "# Majorana Operator "
   ]
  },
  {
   "cell_type": "code",
   "execution_count": 1,
   "id": "1f2cbbc7",
   "metadata": {},
   "outputs": [],
   "source": [
    "from symred.majorana_operator import MajoranaOp\n",
    "import numpy as np"
   ]
  },
  {
   "cell_type": "markdown",
   "id": "62fff52b",
   "metadata": {},
   "source": [
    "# notes:\n",
    "\n",
    "https://arxiv.org/pdf/2101.09349.pdf (pg11)\n",
    "\n",
    "https://arxiv.org/abs/2110.10280"
   ]
  },
  {
   "cell_type": "code",
   "execution_count": null,
   "id": "cb92ed8e",
   "metadata": {},
   "outputs": [],
   "source": []
  },
  {
   "cell_type": "markdown",
   "id": "358fcbcb",
   "metadata": {},
   "source": [
    "The Majorana operators {γ0, γ1, . . . , γm−1}, for m even, are linear Hermitian operators acting on the\n",
    "fermionic Fock space \n",
    "\n",
    "$$H_{m/2} = \\{ |b\\rangle : b ∈ F_{2}^{m/2} \\}$$\n",
    "\n",
    "or equivalently the $m/2$-qubit complex Hilbert space satisfying $\\forall 0 \\leq i < j \\leq m-1$:\n",
    "\n",
    "1. $\\gamma_{i}^{2} = \\mathcal{I}$ - self inverse!\n",
    "2. $\\gamma_{i}\\gamma_{j} = -\\gamma_{j}\\gamma_{i}$ - anti-commute!\n"
   ]
  },
  {
   "cell_type": "code",
   "execution_count": null,
   "id": "08c63e06",
   "metadata": {},
   "outputs": [],
   "source": []
  },
  {
   "cell_type": "markdown",
   "id": "b73e6c88",
   "metadata": {},
   "source": [
    "These M single-mode operators generate a basis (up to phase factors) for the full algebra of Majorana operators via arbitrary products (https://arxiv.org/pdf/1908.08067.pdf pg9):\n",
    "\n",
    "$$\\gamma_{A} = \\prod_{k \\in A}^{M-1} \\gamma_{k}$$\n",
    "\n",
    "where $A \\subseteq \\{0,1,...,M-1 \\} $ and represents the \"support\" of $\\gamma_{A}$. We write this as $|A|$ where is the hamming weight of $\\gamma_{A}$."
   ]
  },
  {
   "cell_type": "code",
   "execution_count": null,
   "id": "4460daa5",
   "metadata": {},
   "outputs": [],
   "source": []
  },
  {
   "cell_type": "markdown",
   "id": "cd962a9e",
   "metadata": {},
   "source": [
    "The anticommutator between two arbitrary Majorana operators $\\gamma_{A}$ and $\\gamma_{B}$ is determined by their individual supports and their overlap:\n",
    "\n",
    "\n",
    "\n",
    "$$\\{ \\gamma_{A}, \\gamma_{B} \\} = \\Big(1 + (-1)^{|A|\\dot|B|- |A\\cap B|} \\Big) \\gamma_{A}\\gamma_{B}$$\n",
    "\n",
    "Therefore:\n",
    "- if $|A|\\dot|B|- |A\\cap B| = 0$\n",
    "    - then terms anticommute\n",
    "    \n",
    "-else $|A|\\dot|B|- |A\\cap B| = 1$\n",
    "    - and terms commute\n"
   ]
  },
  {
   "cell_type": "code",
   "execution_count": null,
   "id": "6e638876",
   "metadata": {},
   "outputs": [],
   "source": []
  },
  {
   "cell_type": "markdown",
   "id": "a68abd2f",
   "metadata": {},
   "source": [
    "# sympletic form"
   ]
  },
  {
   "cell_type": "markdown",
   "id": "7e3e7c1d",
   "metadata": {},
   "source": [
    "Class stores Majorana operator as a symplectic array and vector of coefficients.\n",
    "\n",
    "rows of symplectic array give an individual operator and associated coefficient in coeff vec gives coefficient\n",
    "\n",
    "therefore symplectic matrix is size $N \\times M$ for $N$ terms and $M$ fermionic sites (note $M$ always even!)"
   ]
  },
  {
   "cell_type": "code",
   "execution_count": 2,
   "id": "608e273b",
   "metadata": {},
   "outputs": [
    {
     "name": "stdout",
     "output_type": "stream",
     "text": [
      "(1+0j) γ1 γ2 γ3 γ4 +\n",
      "(2+0j) γ5\n"
     ]
    }
   ],
   "source": [
    "operators = [\n",
    "            [1,2,3,4], # op1\n",
    "            [5] # op2\n",
    "           ]\n",
    "coeffs = [1,\n",
    "         2]\n",
    "Maj = MajoranaOp(operators, coeffs)\n",
    "print(Maj)"
   ]
  },
  {
   "cell_type": "code",
   "execution_count": 3,
   "id": "5a4c95f3",
   "metadata": {},
   "outputs": [
    {
     "data": {
      "text/plain": [
       "array([[0, 1, 1, 1, 1, 0],\n",
       "       [0, 0, 0, 0, 0, 1]])"
      ]
     },
     "execution_count": 3,
     "metadata": {},
     "output_type": "execute_result"
    }
   ],
   "source": [
    "Maj.symp_matrix"
   ]
  },
  {
   "cell_type": "code",
   "execution_count": 4,
   "id": "7d929be0",
   "metadata": {},
   "outputs": [
    {
     "data": {
      "text/plain": [
       "array([1.+0.j, 2.+0.j])"
      ]
     },
     "execution_count": 4,
     "metadata": {},
     "output_type": "execute_result"
    }
   ],
   "source": [
    "Maj.coeff_vec"
   ]
  },
  {
   "cell_type": "code",
   "execution_count": null,
   "id": "9d71876a",
   "metadata": {},
   "outputs": [],
   "source": []
  },
  {
   "cell_type": "code",
   "execution_count": null,
   "id": "d3e39e07",
   "metadata": {},
   "outputs": [],
   "source": []
  },
  {
   "cell_type": "markdown",
   "id": "7b784157",
   "metadata": {},
   "source": [
    "# NOTE order matters!\n",
    "\n",
    "code uses bubble sort to fix operator to normal form"
   ]
  },
  {
   "cell_type": "code",
   "execution_count": 5,
   "id": "abfbe0f1",
   "metadata": {},
   "outputs": [
    {
     "name": "stdout",
     "output_type": "stream",
     "text": [
      "(-1+0j) γ3 γ4\n"
     ]
    }
   ],
   "source": [
    "ops = [\n",
    "            [4,3]# op1\n",
    "           ]\n",
    "amps = [1]\n",
    "\n",
    "Maj = MajoranaOp(ops, amps)\n",
    "print(Maj)\n",
    "\n",
    "# order flipped! generating a sign!"
   ]
  },
  {
   "cell_type": "markdown",
   "id": "3fb34392",
   "metadata": {},
   "source": [
    "# check commutation relations\n",
    "\n",
    "uses above definition!"
   ]
  },
  {
   "cell_type": "markdown",
   "id": "690cf767",
   "metadata": {},
   "source": [
    "### 1. termwise commutation!"
   ]
  },
  {
   "cell_type": "code",
   "execution_count": 6,
   "id": "98695a4c",
   "metadata": {},
   "outputs": [],
   "source": [
    "operators = [\n",
    "            [1,2,3,4], # op1\n",
    "            [5,6,10] # op2\n",
    "           ]\n",
    "coeffs = [1,\n",
    "         2]\n",
    "Maj1 = MajoranaOp(operators, coeffs)\n",
    "\n",
    "\n",
    "operators2 = [\n",
    "            [0], # op1\n",
    "            [2], # op2\n",
    "            [3], # op3\n",
    "           ]\n",
    "coeffs2 = [1,\n",
    "           2,\n",
    "           3+1j]\n",
    "Maj2 = MajoranaOp(operators2, coeffs2)"
   ]
  },
  {
   "cell_type": "code",
   "execution_count": 7,
   "id": "969ff25b",
   "metadata": {},
   "outputs": [
    {
     "data": {
      "text/plain": [
       "array([[1, 0, 0],\n",
       "       [0, 0, 0]])"
      ]
     },
     "execution_count": 7,
     "metadata": {},
     "output_type": "execute_result"
    }
   ],
   "source": [
    "Maj1.commutes_termwise(Maj2)"
   ]
  },
  {
   "cell_type": "code",
   "execution_count": 8,
   "id": "91d6c224",
   "metadata": {},
   "outputs": [
    {
     "name": "stdout",
     "output_type": "stream",
     "text": [
      "(1+0j) γ1 γ2 γ3 γ4 +\n",
      "(2+0j) γ5 γ6 γ10\n"
     ]
    },
    {
     "data": {
      "text/plain": [
       "array([[1, 1],\n",
       "       [1, 1]])"
      ]
     },
     "execution_count": 8,
     "metadata": {},
     "output_type": "execute_result"
    }
   ],
   "source": [
    "print(Maj1)\n",
    "# can see no overlap of terms therefore do (4*3)%2 = 0... therefore terms anticommute!\n",
    "Maj1.adjacency_matrix()"
   ]
  },
  {
   "cell_type": "code",
   "execution_count": null,
   "id": "e7e14a41",
   "metadata": {},
   "outputs": [],
   "source": []
  },
  {
   "cell_type": "code",
   "execution_count": 9,
   "id": "35cfc8e7",
   "metadata": {},
   "outputs": [
    {
     "name": "stdout",
     "output_type": "stream",
     "text": [
      "(1+0j) γ0 +\n",
      "(2+0j) γ2 +\n",
      "(3+1j) γ3\n"
     ]
    },
    {
     "data": {
      "text/plain": [
       "array([[1, 0, 0],\n",
       "       [0, 1, 0],\n",
       "       [0, 0, 1]])"
      ]
     },
     "execution_count": 9,
     "metadata": {},
     "output_type": "execute_result"
    }
   ],
   "source": [
    "print(Maj2)\n",
    "# can see no overlap of terms therefore do (1*1)%2 = 1... therefore terms commute!\n",
    "Maj2.commutes_termwise(Maj2)"
   ]
  },
  {
   "cell_type": "code",
   "execution_count": null,
   "id": "1ac2b306",
   "metadata": {},
   "outputs": [],
   "source": []
  },
  {
   "cell_type": "code",
   "execution_count": 10,
   "id": "911ccf06",
   "metadata": {},
   "outputs": [
    {
     "name": "stdout",
     "output_type": "stream",
     "text": [
      "(2+0j) γ0 γ1 γ2 γ3 +\n",
      "(3+0j) γ5 γ6 +\n",
      "(4+0j) γ3 γ5 +\n",
      "(5+0j) γ0 γ1 γ2 γ3 γ4 γ5 γ6 γ7 +\n",
      "(6+0j) γ2 γ3 +\n",
      "(7+0j) γ4\n"
     ]
    },
    {
     "data": {
      "text/plain": [
       "array([[1, 1, 0, 1, 1, 1],\n",
       "       [1, 1, 0, 1, 1, 1],\n",
       "       [0, 0, 1, 1, 0, 1],\n",
       "       [1, 1, 1, 1, 1, 0],\n",
       "       [1, 1, 0, 1, 1, 1],\n",
       "       [1, 1, 1, 0, 1, 1]])"
      ]
     },
     "execution_count": 10,
     "metadata": {},
     "output_type": "execute_result"
    }
   ],
   "source": [
    "operator = [\n",
    "    [0,1,2,3],\n",
    "    [5,6],\n",
    "    [3,5],\n",
    "    [0,1,2,3,4,5,6,7],\n",
    "    [2,3],\n",
    "    [4]\n",
    "]\n",
    "\n",
    "coeffs = np.arange(2,len(operator)+2)\n",
    "\n",
    "###\n",
    "M = MajoranaOp(operator, coeffs)\n",
    "print(M)\n",
    "\n",
    "M.adjacency_matrix()"
   ]
  },
  {
   "cell_type": "code",
   "execution_count": 11,
   "id": "46ba38ea",
   "metadata": {},
   "outputs": [
    {
     "name": "stdout",
     "output_type": "stream",
     "text": [
      "(17+0j) I +\n",
      "(42+0j) γ4 γ5 γ6 +\n",
      "(20+0j) γ4 γ5 γ6 γ7 +\n",
      "(-56+0j) γ3 γ4 γ5 +\n",
      "(36+0j) γ2 γ3 γ5 γ6 +\n",
      "(84+0j) γ2 γ3 γ4 +\n",
      "(-24+0j) γ0 γ1 +\n",
      "(-60+0j) γ0 γ1 γ4 γ5 γ6 γ7 +\n",
      "(40+0j) γ0 γ1 γ2 γ4 γ6 γ7 +\n",
      "(12+0j) γ0 γ1 γ2 γ3 γ5 γ6 +\n",
      "(28+0j) γ0 γ1 γ2 γ3 γ4 +\n",
      "(-30+0j) γ0 γ1 γ2 γ3 γ4 γ7\n",
      "\n",
      "(17+0j) () +\n",
      "(-24+0j) (0, 1) +\n",
      "(28+0j) (0, 1, 2, 3, 4) +\n",
      "(-30+0j) (0, 1, 2, 3, 4, 7) +\n",
      "(12+0j) (0, 1, 2, 3, 5, 6) +\n",
      "(40+0j) (0, 1, 2, 4, 6, 7) +\n",
      "(-60+0j) (0, 1, 4, 5, 6, 7) +\n",
      "(84+0j) (2, 3, 4) +\n",
      "(36+0j) (2, 3, 5, 6) +\n",
      "(-56+0j) (3, 4, 5) +\n",
      "(42+0j) (4, 5, 6) +\n",
      "(20+0j) (4, 5, 6, 7)\n"
     ]
    }
   ],
   "source": [
    "print(M*M)\n",
    "print()\n",
    "\n",
    "C = M.to_OF_op()\n",
    "out = C*C\n",
    "print(out)"
   ]
  },
  {
   "cell_type": "code",
   "execution_count": 12,
   "id": "924583c8",
   "metadata": {},
   "outputs": [
    {
     "data": {
      "text/plain": [
       "array([[1, 1, 0, 1, 1, 1],\n",
       "       [1, 1, 0, 1, 1, 1],\n",
       "       [0, 0, 1, 1, 0, 1],\n",
       "       [1, 1, 1, 1, 1, 0],\n",
       "       [1, 1, 0, 1, 1, 1],\n",
       "       [1, 1, 1, 0, 1, 1]])"
      ]
     },
     "execution_count": 12,
     "metadata": {},
     "output_type": "execute_result"
    }
   ],
   "source": [
    "M.adjacency_matrix()"
   ]
  },
  {
   "cell_type": "markdown",
   "id": "8b82936b",
   "metadata": {},
   "source": [
    "# convert from Fermions to Majoranas"
   ]
  },
  {
   "cell_type": "code",
   "execution_count": 13,
   "id": "24296391",
   "metadata": {},
   "outputs": [
    {
     "name": "stdout",
     "output_type": "stream",
     "text": [
      "True\n"
     ]
    }
   ],
   "source": [
    "from openfermion import FermionOperator, get_majorana_operator\n",
    "from symred.majorana_operator import convert_openF_fermionic_op_to_maj_op\n",
    "\n",
    "ham = (FermionOperator('0^ 3', .5) +\n",
    "       FermionOperator('3^ 0', 0.5) +\n",
    "      FermionOperator('3^ 2^ 0 1', 0.5))\n",
    "\n",
    "M_out = convert_openF_fermionic_op_to_maj_op(ham)\n",
    "\n",
    "print(M_out.to_OF_op() == get_majorana_operator(ham))"
   ]
  },
  {
   "cell_type": "code",
   "execution_count": null,
   "id": "fb41c7ca",
   "metadata": {},
   "outputs": [],
   "source": []
  },
  {
   "cell_type": "code",
   "execution_count": null,
   "id": "7c44a02d",
   "metadata": {},
   "outputs": [],
   "source": []
  },
  {
   "cell_type": "code",
   "execution_count": null,
   "id": "b7836131",
   "metadata": {},
   "outputs": [],
   "source": []
  },
  {
   "cell_type": "markdown",
   "id": "dc25712f",
   "metadata": {},
   "source": [
    "# get basis for operator"
   ]
  },
  {
   "cell_type": "code",
   "execution_count": 14,
   "id": "acb2b359",
   "metadata": {},
   "outputs": [],
   "source": [
    "from symred.utils import gf2_basis_for_gf2_rref, gf2_gaus_elim\n",
    "import os\n",
    "import json\n",
    "from openfermion import reverse_jordan_wigner, jordan_wigner\n",
    "from symred.symplectic import PauliwordOp\n",
    "from functools import reduce"
   ]
  },
  {
   "cell_type": "code",
   "execution_count": 15,
   "id": "5faf0967",
   "metadata": {},
   "outputs": [],
   "source": [
    "working_dir = os.getcwd()\n",
    "parent_dir = os.path.dirname(working_dir)\n",
    "data_dir = os.path.join(parent_dir,'data')\n",
    "\n",
    "\n",
    "\n",
    "file = 'O1_STO-3G_triplet_OO.json'\n",
    "# file = 'H2-Be1_STO-3G_singlet_BeH2BeH2.json'\n",
    "\n",
    "file_path = os.path.join(data_dir, file)\n",
    "with open(file_path, 'r') as input_file:\n",
    "    ham_dict = json.load(input_file)\n",
    "    \n",
    "ham = PauliwordOp(ham_dict)\n",
    "\n",
    "ham_opemF = ham.PauliwordOp_to_OF\n",
    "\n",
    "H_qubit = reduce(lambda x,y: x+y, ham_opemF)\n",
    "\n",
    "fermionic_H = reverse_jordan_wigner(H_qubit)\n",
    "maj_H = convert_openF_fermionic_op_to_maj_op(fermionic_H)"
   ]
  },
  {
   "cell_type": "code",
   "execution_count": null,
   "id": "241bc9ca",
   "metadata": {},
   "outputs": [],
   "source": []
  },
  {
   "cell_type": "code",
   "execution_count": 41,
   "id": "de12ecbf",
   "metadata": {},
   "outputs": [
    {
     "data": {
      "text/plain": [
       "array([[1, 1, 0, 0, 0, 0, 1, 1, 0, 0, 1, 1, 0, 0, 1, 1, 0, 0, 1, 1],\n",
       "       [0, 0, 1, 1, 0, 0, 1, 1, 0, 0, 1, 1, 0, 0, 1, 1, 0, 0, 1, 1],\n",
       "       [0, 0, 0, 0, 1, 1, 1, 1, 0, 0, 0, 0, 0, 0, 0, 0, 0, 0, 0, 0],\n",
       "       [0, 0, 0, 0, 0, 0, 0, 0, 1, 1, 1, 1, 0, 0, 0, 0, 0, 0, 0, 0],\n",
       "       [0, 0, 0, 0, 0, 0, 0, 0, 0, 0, 0, 0, 1, 1, 1, 1, 1, 1, 1, 1]])"
      ]
     },
     "execution_count": 41,
     "metadata": {},
     "output_type": "execute_result"
    }
   ],
   "source": [
    "ZX_symp = maj_H.symp_matrix\n",
    "reduced = gf2_gaus_elim(ZX_symp)\n",
    "kernel  =  gf2_basis_for_gf2_rref(reduced)\n",
    "\n",
    "kernel = kernel.astype(int)\n",
    "kernel"
   ]
  },
  {
   "cell_type": "code",
   "execution_count": 42,
   "id": "ca5a4019",
   "metadata": {},
   "outputs": [
    {
     "name": "stdout",
     "output_type": "stream",
     "text": [
      "(1+0j) γ0 γ1 γ6 γ7 γ10 γ11 γ14 γ15 γ18 γ19 +\n",
      "(1+0j) γ2 γ3 γ6 γ7 γ10 γ11 γ14 γ15 γ18 γ19 +\n",
      "(1+0j) γ4 γ5 γ6 γ7 +\n",
      "(1+0j) γ8 γ9 γ10 γ11 +\n",
      "(1+0j) γ12 γ13 γ14 γ15 γ16 γ17 γ18 γ19\n"
     ]
    }
   ],
   "source": [
    "if kernel.shape[0]:\n",
    "    basis_coeffs = np.ones(kernel.shape[0])\n",
    "else:\n",
    "    basis_coeffs=[1]\n",
    "\n",
    "basis_op = MajoranaOp(kernel, basis_coeffs)\n",
    "print(basis_op)"
   ]
  },
  {
   "cell_type": "code",
   "execution_count": 18,
   "id": "2b223fc1",
   "metadata": {},
   "outputs": [
    {
     "name": "stdout",
     "output_type": "stream",
     "text": [
      "commmutes:  True\n"
     ]
    },
    {
     "data": {
      "text/plain": [
       "True"
      ]
     },
     "execution_count": 18,
     "metadata": {},
     "output_type": "execute_result"
    }
   ],
   "source": [
    "openF_M_op = maj_H.to_OF_op()\n",
    "basis_op_openF =  basis_op.to_OF_op()\n",
    "print('commmutes: ', openF_M_op*basis_op_openF == basis_op_openF*openF_M_op)\n",
    "\n",
    "# print(maj_H.commutes_termwise(basis_op))\n",
    "maj_H.commutes(basis_op)"
   ]
  },
  {
   "cell_type": "code",
   "execution_count": 19,
   "id": "3437885d",
   "metadata": {},
   "outputs": [
    {
     "data": {
      "text/plain": [
       "1j [Z0 Z3 Z5 Z7 Z9] +\n",
       "1j [Z1 Z3 Z5 Z7 Z9] +\n",
       "(-1+0j) [Z2 Z3] +\n",
       "(-1+0j) [Z4 Z5] +\n",
       "(1+0j) [Z6 Z7 Z8 Z9]"
      ]
     },
     "execution_count": 19,
     "metadata": {},
     "output_type": "execute_result"
    }
   ],
   "source": [
    "jordan_wigner(basis_op.to_OF_op())"
   ]
  },
  {
   "cell_type": "markdown",
   "id": "f4ecdca6",
   "metadata": {},
   "source": [
    "## Get cliffords to map to terms!"
   ]
  },
  {
   "cell_type": "markdown",
   "id": "c97ffe8c",
   "metadata": {},
   "source": [
    "Section C of https://arxiv.org/pdf/2110.10280.pdf\n",
    "\n",
    "A Majorana fermion stabilizer code [32], or Majorana stabilizer code for brevity, is the simultaneous +1 eigenspace of a collection of commuting, Hermitian, even **weight Majorana operators**. The evenness constraint ensures that these operators are fermion-parity preserving, and hence physically observable. \n",
    "\n",
    "Therefore rotate down onto pairs of majorana modes!"
   ]
  },
  {
   "cell_type": "code",
   "execution_count": null,
   "id": "8a8de0d0",
   "metadata": {},
   "outputs": [],
   "source": []
  },
  {
   "cell_type": "code",
   "execution_count": 20,
   "id": "29695c35",
   "metadata": {},
   "outputs": [
    {
     "data": {
      "text/plain": [
       "array([[1, 0, 0, 1, 0, 1, 0, 1, 0, 1],\n",
       "       [0, 1, 0, 1, 0, 1, 0, 1, 0, 1],\n",
       "       [0, 0, 1, 1, 0, 0, 0, 0, 0, 0],\n",
       "       [0, 0, 0, 0, 1, 1, 0, 0, 0, 0],\n",
       "       [0, 0, 0, 0, 0, 0, 1, 1, 1, 1]])"
      ]
     },
     "execution_count": 20,
     "metadata": {},
     "output_type": "execute_result"
    }
   ],
   "source": [
    "# even_inds = np.arange(0,basis_op.n_sites, 2) # 2i positions\n",
    "# odd_inds = np.arange(1,basis_op.n_sites, 2) # 2i+1 positions\n",
    "\n",
    "basis_op.symp_matrix[:, basis_op.even_inds]\n",
    "basis_op.symp_matrix[:, basis_op.odd_inds]"
   ]
  },
  {
   "cell_type": "code",
   "execution_count": 21,
   "id": "c5cce7f0",
   "metadata": {},
   "outputs": [
    {
     "name": "stdout",
     "output_type": "stream",
     "text": [
      "(1+0j) γ0 γ1 γ6 γ7 γ10 γ11 γ14 γ15 γ18 γ19 +\n",
      "(1+0j) γ2 γ3 γ6 γ7 γ10 γ11 γ14 γ15 γ18 γ19 +\n",
      "(1+0j) γ4 γ5 γ6 γ7 +\n",
      "(1+0j) γ8 γ9 γ10 γ11 +\n",
      "(1+0j) γ12 γ13 γ14 γ15 γ16 γ17 γ18 γ19\n"
     ]
    }
   ],
   "source": [
    "print(basis_op)"
   ]
  },
  {
   "cell_type": "code",
   "execution_count": null,
   "id": "8401d59b",
   "metadata": {},
   "outputs": [],
   "source": []
  },
  {
   "cell_type": "code",
   "execution_count": 22,
   "id": "120c8a66",
   "metadata": {},
   "outputs": [],
   "source": [
    "# remember consider pairs of sites!\n",
    "\n",
    "pairs = np.logical_or(basis_op.symp_matrix[:, basis_op.even_inds],\n",
    "                      basis_op.symp_matrix[:, basis_op.odd_inds]).astype(int)\n",
    "\n",
    "row_sum = np.einsum('ij->i',pairs)\n",
    "sqp_indices = np.where(pairs[np.where(row_sum==1)])[1]\n",
    "\n",
    "non_sqp_basis = MajoranaOp(basis_op.symp_matrix[np.where(row_sum!=1)],\n",
    "                            basis_op.coeff_vec[np.where(row_sum!=1)])\n",
    "\n",
    "# _recursive_rotate_onto_sqp(non_sqp_basis)\n",
    "\n",
    "# rotated_op = self.recursive_rotate_by_Pword(rotations)\n"
   ]
  },
  {
   "cell_type": "code",
   "execution_count": null,
   "id": "c6a8860e",
   "metadata": {},
   "outputs": [],
   "source": []
  },
  {
   "cell_type": "code",
   "execution_count": 23,
   "id": "2f1e1b93",
   "metadata": {},
   "outputs": [
    {
     "name": "stdout",
     "output_type": "stream",
     "text": [
      "(1+0j) γ0 γ1 γ6 γ7 γ10 γ11 γ14 γ15 γ18 γ19 +\n",
      "(1+0j) γ2 γ3 γ6 γ7 γ10 γ11 γ14 γ15 γ18 γ19 +\n",
      "(1+0j) γ4 γ5 γ6 γ7 +\n",
      "(1+0j) γ8 γ9 γ10 γ11 +\n",
      "(1+0j) γ12 γ13 γ14 γ15 γ16 γ17 γ18 γ19\n"
     ]
    }
   ],
   "source": [
    "print(basis_op)"
   ]
  },
  {
   "cell_type": "code",
   "execution_count": 24,
   "id": "f10c311d",
   "metadata": {},
   "outputs": [
    {
     "name": "stdout",
     "output_type": "stream",
     "text": [
      "(1+0j) γ5\n",
      "(1+0j) [Z0 Z1 Y2]\n"
     ]
    }
   ],
   "source": [
    "\n",
    "n =  MajoranaOp([[5]], [1])\n",
    "# n =  MajoranaOp([[0,1,2,3,4]], [1])\n",
    "\n",
    "basis_op = n\n",
    "print(basis_op)\n",
    "\n",
    "print(jordan_wigner(n.to_OF_op()))"
   ]
  },
  {
   "cell_type": "code",
   "execution_count": 25,
   "id": "37ec01ff",
   "metadata": {},
   "outputs": [
    {
     "ename": "NameError",
     "evalue": "name 'pivot_row' is not defined",
     "output_type": "error",
     "traceback": [
      "\u001b[0;31m---------------------------------------------------------------------------\u001b[0m",
      "\u001b[0;31mNameError\u001b[0m                                 Traceback (most recent call last)",
      "\u001b[0;32m/var/folders/7l/9g4tmq2s5zg48_szmd8z7qh40000gn/T/ipykernel_3736/2275997147.py\u001b[0m in \u001b[0;36m<cell line: 1>\u001b[0;34m()\u001b[0m\n\u001b[0;32m----> 1\u001b[0;31m \u001b[0mn\u001b[0m \u001b[0;34m=\u001b[0m \u001b[0mMajoranaOp\u001b[0m\u001b[0;34m(\u001b[0m\u001b[0;34m[\u001b[0m\u001b[0mnp\u001b[0m\u001b[0;34m.\u001b[0m\u001b[0mwhere\u001b[0m\u001b[0;34m(\u001b[0m\u001b[0mpivot_row\u001b[0m\u001b[0;34m!=\u001b[0m\u001b[0;36m0\u001b[0m\u001b[0;34m)\u001b[0m\u001b[0;34m[\u001b[0m\u001b[0;36m0\u001b[0m\u001b[0;34m]\u001b[0m\u001b[0;34m]\u001b[0m\u001b[0;34m,\u001b[0m \u001b[0;34m[\u001b[0m\u001b[0;36m1\u001b[0m\u001b[0;34m]\u001b[0m\u001b[0;34m)\u001b[0m\u001b[0;34m\u001b[0m\u001b[0;34m\u001b[0m\u001b[0m\n\u001b[0m\u001b[1;32m      2\u001b[0m \u001b[0;31m# n =  MajoranaOp([[3,4,5,6]], [1])\u001b[0m\u001b[0;34m\u001b[0m\u001b[0;34m\u001b[0m\u001b[0m\n\u001b[1;32m      3\u001b[0m \u001b[0;34m\u001b[0m\u001b[0m\n\u001b[1;32m      4\u001b[0m \u001b[0mbasis_op\u001b[0m \u001b[0;34m=\u001b[0m \u001b[0mn\u001b[0m\u001b[0;34m\u001b[0m\u001b[0;34m\u001b[0m\u001b[0m\n\u001b[1;32m      5\u001b[0m \u001b[0mprint\u001b[0m\u001b[0;34m(\u001b[0m\u001b[0mbasis_op\u001b[0m\u001b[0;34m)\u001b[0m\u001b[0;34m\u001b[0m\u001b[0;34m\u001b[0m\u001b[0m\n",
      "\u001b[0;31mNameError\u001b[0m: name 'pivot_row' is not defined"
     ]
    }
   ],
   "source": [
    "n = MajoranaOp([np.where(pivot_row!=0)[0]], [1])\n",
    "# n =  MajoranaOp([[3,4,5,6]], [1])\n",
    "\n",
    "basis_op = n\n",
    "print(basis_op)\n",
    "\n",
    "print(jordan_wigner(n.to_OF_op()))"
   ]
  },
  {
   "cell_type": "code",
   "execution_count": null,
   "id": "a906673b",
   "metadata": {},
   "outputs": [],
   "source": []
  },
  {
   "cell_type": "code",
   "execution_count": null,
   "id": "a5c5d384",
   "metadata": {},
   "outputs": [],
   "source": [
    "np.where(pivot_row!=0)"
   ]
  },
  {
   "cell_type": "code",
   "execution_count": null,
   "id": "95b5826a",
   "metadata": {},
   "outputs": [],
   "source": [
    "basis_op.symp_matrix[:, basis_op.even_inds]\n",
    "basis_op.symp_matrix[:, basis_op.odd_inds]\n",
    "\n",
    "basis_op.odd_inds"
   ]
  },
  {
   "cell_type": "code",
   "execution_count": null,
   "id": "16742954",
   "metadata": {},
   "outputs": [],
   "source": [
    "jordan_wigner(MajoranaOp([[0,1,2,3,4,5,6]], [1]).to_OF_op())"
   ]
  },
  {
   "cell_type": "code",
   "execution_count": null,
   "id": "f555a933",
   "metadata": {},
   "outputs": [],
   "source": [
    "jordan_wigner(MajoranaOp([np.arange(0,pivot_point_odd)], [1]).to_OF_op())"
   ]
  },
  {
   "cell_type": "code",
   "execution_count": null,
   "id": "8013420c",
   "metadata": {},
   "outputs": [],
   "source": []
  },
  {
   "cell_type": "code",
   "execution_count": null,
   "id": "24056ec7",
   "metadata": {},
   "outputs": [],
   "source": [
    "# remember consider pairs of sites!\n",
    "used_indices=[]\n",
    "\n",
    "mode_pairs = np.logical_or(basis_op.symp_matrix[:, basis_op.even_inds],\n",
    "                      basis_op.symp_matrix[:, basis_op.odd_inds]).astype(int)\n",
    "\n",
    "# sum along pairs of indices to find how large a given term is!\n",
    "row_sum = np.einsum('ij->i',mode_pairs)\n",
    "# sort by least dense majorana operators\n",
    "sort_rows_by_weight = np.argsort(row_sum)\n",
    "\n",
    "# take first term (which is least dense)\n",
    "pivot_row = basis_op.symp_matrix[sort_rows_by_weight][0]\n",
    "\n",
    "non_I = np.setdiff1d(np.where(pivot_row)[0], np.array(used_indices)) #<-checked\n",
    "\n",
    "# gives positions in whole operator where single mode terms terms occur\n",
    "col_sum = np.einsum('ij->j',basis_op.symp_matrix)\n",
    "\n",
    "# pivot_row * col_sum : gives positions where pivot term and where other single mode terms occur\n",
    "support = pivot_row*col_sum\n",
    "\n",
    "# want to take lowest index support (as this will allow unique terms)\n",
    "pivot_point_even = non_I[np.argmin(support[non_I])]\n",
    "pivot_point_odd = pivot_point_even + 1 # 2i+1 index!\n",
    "\n",
    "\n",
    "print(MajoranaOp([np.where(pivot_row!=0)[0]], [1]))\n",
    "print(jordan_wigner(MajoranaOp([np.where(pivot_row!=0)[0]], [1]).to_OF_op()))\n",
    "\n",
    "# first need to make pivot position non-diagonal!\n",
    "\n",
    "# take term we are rotating to single term\n",
    "rot_op = pivot_row.copy()\n",
    "pivot_maj = MajoranaOp([np.where(pivot_row!=0)[0]], [1])\n",
    "\n",
    "# check if pivot term is Pauli Z term... if so then rotate pivot position to something else!\n",
    "Z_rot= False\n",
    "if (pivot_row[pivot_point_even] + pivot_row[pivot_point_odd])==2:\n",
    "    Z_rot = True\n",
    "    # like Pauli X on pivot position\n",
    "    rot_op_inds = np.arange(0,pivot_point_odd)\n",
    "elif rot_op[pivot_point_even] == rot_op[pivot_point_odd] == 0:\n",
    "    raise ValueError('pivot error')\n",
    "\n",
    "phase_conv = {1: 1j, -1: -1j, 1j:1, -1j:-1}\n",
    "if Z_rot:\n",
    "    \n",
    "    # number of Zs in rotation\n",
    "    phase =(1j)**((len(rot_op_inds))//2) \n",
    "    \n",
    "    maj_rot_op = MajoranaOp([[],rot_op_inds], [np.cos(np.pi/4), phase_conv[phase]*np.sin(np.pi/4)])\n",
    "    maj_rot_op_conj = MajoranaOp([[],rot_op_inds], [np.cos(np.pi/4), -1* phase_conv[phase]* np.sin(np.pi/4)])\n",
    "\n",
    "    rot_basis_out = (maj_rot_op * basis_op * maj_rot_op_conj).cleanup()\n",
    "    rot_piv =  (maj_rot_op * pivot_maj * maj_rot_op_conj).cleanup() \n",
    "else:\n",
    "    rot_basis_out =  basis_op\n",
    "    rot_piv = pivot_maj\n",
    "    \n",
    "print(rot_basis_out)\n",
    "print(jordan_wigner(rot_basis_out.to_OF_op()))\n",
    "\n",
    "# put correct Pauli on pivot position\n",
    "rot_op2 = rot_piv.symp_matrix[0]\n",
    "rot_op2[pivot_point_even] = (rot_op2[pivot_point_even]+1)%2\n",
    "rot_op2[pivot_point_odd] = (rot_op2[pivot_point_odd]+1)%2\n",
    "# print(jordan_wigner(MajoranaOp([np.where(rot_op2!=0)[0]], [1]).to_OF_op()))\n",
    "phase2 =(1j)**(sum(np.logical_and(rot_op2[basis_op.even_inds],\n",
    "                                 rot_op2[basis_op.odd_inds])))\n",
    "rot_op2_inds = np.where(rot_op2!=0)[0]\n",
    "maj_rot_op2 = MajoranaOp([[],rot_op2_inds], [np.cos(np.pi/4), phase_conv[phase2]*np.sin(np.pi/4)])\n",
    "maj_rot_op2_conj = MajoranaOp([[],rot_op2_inds], [np.cos(np.pi/4), -1*phase_conv[phase2]*np.sin(np.pi/4)])\n",
    "\n",
    "rot_basis_out2 = (maj_rot_op2 * rot_basis_out * maj_rot_op2_conj).cleanup()\n",
    "print()\n",
    "print(jordan_wigner(rot_basis_out2.to_OF_op()))"
   ]
  },
  {
   "cell_type": "code",
   "execution_count": null,
   "id": "2ab57633",
   "metadata": {},
   "outputs": [],
   "source": [
    "print(jordan_wigner(rot_basis_out.to_OF_op()))\n"
   ]
  },
  {
   "cell_type": "code",
   "execution_count": null,
   "id": "6e763d12",
   "metadata": {},
   "outputs": [],
   "source": []
  },
  {
   "cell_type": "code",
   "execution_count": null,
   "id": "e636e0af",
   "metadata": {},
   "outputs": [],
   "source": []
  },
  {
   "cell_type": "code",
   "execution_count": null,
   "id": "bfd464d3",
   "metadata": {},
   "outputs": [],
   "source": [
    "pivot_point_even"
   ]
  },
  {
   "cell_type": "code",
   "execution_count": null,
   "id": "40e43532",
   "metadata": {},
   "outputs": [],
   "source": [
    "pivot_point_even = 6\n",
    "pivot_point_odd = 7\n",
    "\n",
    "rot_op2 = rot_basis_out.symp_matrix[0].copy()\n",
    "rot_op2"
   ]
  },
  {
   "cell_type": "code",
   "execution_count": null,
   "id": "02d79633",
   "metadata": {},
   "outputs": [],
   "source": [
    "# rot_op2 = rot_piv.symp_matrix[0].copy()\n",
    "rot_op2 = rot_basis_out.symp_matrix[0].copy()\n",
    "if (rot_op2[pivot_point_even]+rot_op2[pivot_point_odd])%2==1:\n",
    "    # pivot position is X or Y\n",
    "    # if X use Y and if Y use X to make pauli Z on this position\n",
    "    rot_op2[pivot_point_even] = (rot_op2[pivot_point_even]+1)%2\n",
    "    rot_op2[pivot_point_odd] = (rot_op2[pivot_point_odd]+1)%2\n",
    "else:\n",
    "    # pivot position is Pauli Z\n",
    "    # find where non diag term is:\n",
    "    print('lol')\n",
    "    diag_inds = np.logical_xor(rot_op2[rot_basis_out.odd_inds],\n",
    "                              rot_op2[rot_basis_out.even_inds]).astype(int)\n",
    "    first_nondiag_ind = np.where(diag_inds!=0)[0][0]\n",
    "\n",
    "    rot_op2[first_nondiag_ind] = (rot_op2[first_nondiag_ind]+1)%2\n",
    "    rot_op2[first_nondiag_ind+1] = (rot_op2[first_nondiag_ind+1]+1)%2 # odd ind\n",
    "\n",
    "    # zero out Z pivot pos\n",
    "    rot_op2[pivot_point_even] = 0\n",
    "    rot_op2[pivot_point_odd]  = 0\n",
    "\n",
    "rot_op2_inds = np.where(rot_op2!=0)[0]\n",
    "maj_rot_op2 = MajoranaOp([[],rot_op2_inds], [np.cos(np.pi/4), phase_conv[phase2]*np.sin(np.pi/4)])\n",
    "jordan_wigner(maj_rot_op2.to_OF_op())"
   ]
  },
  {
   "cell_type": "code",
   "execution_count": null,
   "id": "26cc3d25",
   "metadata": {},
   "outputs": [],
   "source": [
    "jordan_wigner(MajoranaOp([[2,3,4,5,6,7,8,10]], [1]).to_OF_op())"
   ]
  },
  {
   "cell_type": "code",
   "execution_count": null,
   "id": "d9134a31",
   "metadata": {},
   "outputs": [],
   "source": [
    "print(rot_basis_out)"
   ]
  },
  {
   "cell_type": "code",
   "execution_count": null,
   "id": "7dd661a3",
   "metadata": {},
   "outputs": [],
   "source": [
    "rot_basis_out.symp_matrix"
   ]
  },
  {
   "cell_type": "code",
   "execution_count": null,
   "id": "d50600bb",
   "metadata": {},
   "outputs": [],
   "source": [
    "mode_pairs"
   ]
  },
  {
   "cell_type": "code",
   "execution_count": null,
   "id": "35b4a97f",
   "metadata": {},
   "outputs": [],
   "source": [
    "print(basis_op)"
   ]
  },
  {
   "cell_type": "code",
   "execution_count": null,
   "id": "7c805ebf",
   "metadata": {},
   "outputs": [],
   "source": []
  },
  {
   "cell_type": "code",
   "execution_count": null,
   "id": "d51382bc",
   "metadata": {},
   "outputs": [],
   "source": [
    "jordan_wigner(test.to_OF_op())"
   ]
  },
  {
   "cell_type": "code",
   "execution_count": null,
   "id": "5f4c40df",
   "metadata": {},
   "outputs": [],
   "source": [
    "test = MajoranaOp([[0,1,2,3], [4,5]],[1,1])\n",
    "print(jordan_wigner(test.to_OF_op()))\n",
    "print()\n",
    "\n",
    "out = majorana_rotations(test)\n",
    "terms, rots = out.get_rotations()\n",
    "print('###')\n",
    "for t in terms:\n",
    "    print(jordan_wigner(t.to_OF_op()))"
   ]
  },
  {
   "cell_type": "code",
   "execution_count": null,
   "id": "4d551d0e",
   "metadata": {},
   "outputs": [],
   "source": []
  },
  {
   "cell_type": "code",
   "execution_count": null,
   "id": "d3df7858",
   "metadata": {},
   "outputs": [],
   "source": [
    "class majorana_rotations():\n",
    "    def __init__(self, majorana_basis):\n",
    "        self.phase_conv_dict = {1: 1j, -1: -1j, 1j:1, -1j:-1}\n",
    "        self.majorana_basis = majorana_basis\n",
    "        \n",
    "        self.used_indices  = None\n",
    "        self.maj_rotations = None\n",
    "        self.rotated_basis = None\n",
    "        \n",
    "    def get_rotations(self):\n",
    "        self.used_indices=[]\n",
    "        self.maj_rotations=[]\n",
    "        self.maj_rotations_conj=[]\n",
    "        \n",
    "        ## remove any single terms \n",
    "        maj_basis = self.majorana_basis.cleanup().copy()\n",
    "        \n",
    "        \n",
    "        single_terms_rows = np.where(np.einsum('ij->i', maj_basis.symp_matrix)==2)[0]\n",
    "        if single_terms_rows.shape[0]>0:\n",
    "            z_term_check = np.logical_xor(maj_basis.symp_matrix[single_terms_rows][:, maj_basis.even_inds],\n",
    "                                     maj_basis.symp_matrix[single_terms_rows][:, maj_basis.odd_inds]).astype(int)\n",
    "\n",
    "            z_terms = np.where(np.einsum('ij->i', z_term_check)==0)[0]\n",
    "            single_z_inds = single_terms_rows[z_terms]\n",
    "        else:\n",
    "            single_z_inds = []\n",
    "            \n",
    "        self.used_indices = set(np.union1d(self.used_indices, single_z_inds).astype(int).tolist())\n",
    "        \n",
    "        # append aleady single terms to rotated basis (that keeps tracks of single terms)\n",
    "        self.rotated_basis = [MajoranaOp([np.where(sym_vec)[0]], [sym_coeff]) \\\n",
    "                              for sym_vec, sym_coeff in zip(maj_basis.symp_matrix[single_z_inds], maj_basis.coeff_vec[single_z_inds])]\n",
    "        \n",
    "        \n",
    "        # remove single Z terms then find rotaions\n",
    "        maj_basis = MajoranaOp(np.delete(maj_basis.symp_matrix, single_z_inds, axis=0),\n",
    "                              np.delete(maj_basis.coeff_vec, single_z_inds, axis=0))\n",
    "\n",
    "        final_terms = self._recursively_rotate(maj_basis)\n",
    "        return self.rotated_basis, self.maj_rotations, self.maj_rotations_conj\n",
    "        \n",
    "    def _recursively_rotate(self, maj_basis):\n",
    "            \n",
    "        single_terms_rows = np.where(np.einsum('ij->i', maj_basis.symp_matrix)==2)[0]\n",
    "        if single_terms_rows.shape[0]>0:\n",
    "            z_term_check = np.logical_xor(maj_basis.symp_matrix[single_terms_rows][:, maj_basis.even_inds],\n",
    "                                          maj_basis.symp_matrix[single_terms_rows][:, maj_basis.odd_inds]\n",
    "                                         ).astype(int)\n",
    "\n",
    "            z_terms = np.where(np.einsum('ij->i', z_term_check)==0)[0]\n",
    "            single_z_inds = single_terms_rows[z_terms]\n",
    "        \n",
    "            if len(single_z_inds) == maj_basis.n_terms:\n",
    "                # all single qubit pauli Z's\n",
    "                # break out of recursion!\n",
    "                return maj_basis\n",
    "            \n",
    "            # mask out single Z terms\n",
    "            maj_basis = MajoranaOp(np.delete(maj_basis.symp_matrix, single_z_inds, axis=0),\n",
    "                                  np.delete(maj_basis.coeff_vec, single_z_inds, axis=0))\n",
    "            seen_inds = np.union1d(list(self.used_indices), single_z_inds).astype(int).tolist()\n",
    "            self.used_indices.update(seen_inds)\n",
    "                \n",
    "        \n",
    "        #### NOW ROTATE ONTO SINGLE TERM!\n",
    "        mode_pairs = np.logical_or(maj_basis.symp_matrix[:, maj_basis.even_inds],\n",
    "                                   maj_basis.symp_matrix[:, maj_basis.odd_inds]\n",
    "                                  ).astype(int)\n",
    "        \n",
    "        # sum along pairs of indices to find how large a given term is!\n",
    "        row_sum = np.einsum('ij->i',mode_pairs)\n",
    "        \n",
    "        # sort by least dense majorana operators\n",
    "        sort_rows_by_weight = np.argsort(row_sum)\n",
    "        \n",
    "        # take first term (which is least dense)\n",
    "        pivot_row = maj_basis.symp_matrix[sort_rows_by_weight][0]\n",
    "        \n",
    "        # get non identity positions (also ignores positions that have been rotated onto!)\n",
    "        non_I = np.setdiff1d(np.where(pivot_row)[0], np.array(self.used_indices))\n",
    "        \n",
    "        # gives positions in whole operator where single mode terms terms occur\n",
    "        col_sum = np.einsum('ij->j',maj_basis.symp_matrix)\n",
    "        \n",
    "        # pivot_row * col_sum : gives positions where pivot term and where other single mode terms occur\n",
    "        support = pivot_row*col_sum\n",
    "        \n",
    "        # want to take lowest index support (as this will allow unique terms)\n",
    "        pivot_point = non_I[np.argmin(support[non_I])]\n",
    "        if pivot_point%2==0:\n",
    "            pivot_point_even = pivot_point\n",
    "            pivot_point_odd = pivot_point_even + 1 # 2i+1 index!\n",
    "        else:\n",
    "            pivot_point_odd  = pivot_point\n",
    "            pivot_point_even = pivot_point_odd-1\n",
    "        \n",
    "        # take term we are rotating to single term\n",
    "        rot_op = pivot_row.copy()\n",
    "        pivot_maj = MajoranaOp([np.where(pivot_row!=0)[0]], [1])\n",
    "\n",
    "        # check if pivot term is Pauli Z term... if so then rotate pivot position to something else!\n",
    "        Z_rot= False\n",
    "        if (pivot_row[pivot_point_even] + pivot_row[pivot_point_odd])==2:\n",
    "            Z_rot = True\n",
    "            # apply op like Pauli X on pivot position\n",
    "            rot_op_inds = np.arange(0,pivot_point_odd)\n",
    "        elif rot_op[pivot_point_even] == rot_op[pivot_point_odd] == 0:\n",
    "            raise ValueError('pivot error')\n",
    "        \n",
    "        if Z_rot:\n",
    "            # number of Zs in rotation (majorana have complex phase here)\n",
    "            phase =(1j)**((len(rot_op_inds))//2) \n",
    "\n",
    "            maj_rot_op = MajoranaOp([[],rot_op_inds], [np.cos(np.pi/4), self.phase_conv_dict[phase]*np.sin(np.pi/4)])\n",
    "            maj_rot_op_conj = MajoranaOp([[],rot_op_inds], [np.cos(np.pi/4), -1* self.phase_conv_dict[phase]* np.sin(np.pi/4)])\n",
    "\n",
    "            rot_basis_out = (maj_rot_op * maj_basis * maj_rot_op_conj).cleanup()\n",
    "            rot_piv =  (maj_rot_op * pivot_maj * maj_rot_op_conj).cleanup() \n",
    "            \n",
    "            self.maj_rotations.append(maj_rot_op)\n",
    "            self.maj_rotations_conj.append(maj_rot_op_conj)\n",
    "        else:\n",
    "            rot_basis_out =  maj_basis\n",
    "            rot_piv = pivot_maj\n",
    "                \n",
    "        \n",
    "        rot_op2 = rot_piv.symp_matrix[0].copy()\n",
    "        # pivot position is X or Y\n",
    "        # if X use Y and if Y use X to make pauli Z on this position\n",
    "        rot_op2[pivot_point_even] = (rot_op2[pivot_point_even]+1)%2\n",
    "        rot_op2[pivot_point_odd] = (rot_op2[pivot_point_odd]+1)%2\n",
    "\n",
    "            \n",
    "        # print(jordan_wigner(MajoranaOp([np.where(rot_op2!=0)[0]], [1]).to_OF_op()))\n",
    "        phase2 =(1j)**(sum(np.logical_and(rot_op2[rot_piv.even_inds],\n",
    "                                          rot_op2[rot_piv.odd_inds])))\n",
    "        rot_op2_inds = np.where(rot_op2!=0)[0]\n",
    "        maj_rot_op2 = MajoranaOp([[],rot_op2_inds], [np.cos(np.pi/4), self.phase_conv_dict[phase2]*np.sin(np.pi/4)])\n",
    "        maj_rot_op2_conj = MajoranaOp([[],rot_op2_inds], [np.cos(np.pi/4), -1*self.phase_conv_dict[phase2]*np.sin(np.pi/4)])\n",
    "        \n",
    "        rot_basis_out2 = (maj_rot_op2 * rot_basis_out * maj_rot_op2_conj).cleanup()\n",
    "        \n",
    "        self.maj_rotations.append(maj_rot_op2)\n",
    "        self.maj_rotations_conj.append(maj_rot_op2_conj)\n",
    "        \n",
    "        rotated_term = (maj_rot_op2 * rot_piv * maj_rot_op2_conj).cleanup()\n",
    "        self.rotated_basis.append(rotated_term)\n",
    "        \n",
    "        self.used_indices.update([pivot_point_even, pivot_point_odd])\n",
    "        \n",
    "        \n",
    "        return self._recursively_rotate(rot_basis_out2)\n",
    "        "
   ]
  },
  {
   "cell_type": "code",
   "execution_count": null,
   "id": "b6a98c37",
   "metadata": {},
   "outputs": [],
   "source": [
    "1j*-1j"
   ]
  },
  {
   "cell_type": "code",
   "execution_count": null,
   "id": "13d557d5",
   "metadata": {},
   "outputs": [],
   "source": []
  },
  {
   "cell_type": "code",
   "execution_count": 43,
   "id": "e793246f",
   "metadata": {},
   "outputs": [],
   "source": [
    "class majorana_rotations():\n",
    "    def __init__(self, majorana_basis):\n",
    "        self.phase_conv_dict = {1: 1j, -1: -1j, 1j:1, -1j:-1}\n",
    "        self.majorana_basis = majorana_basis\n",
    "        \n",
    "        self.used_indices  = None\n",
    "        self.maj_rotations = None\n",
    "        self.rotated_basis = None\n",
    "        \n",
    "    def get_rotations(self):\n",
    "        self.used_indices=[]\n",
    "        self.maj_rotations=[]\n",
    "        self.maj_rotations_conj=[]\n",
    "        \n",
    "        ## remove any single terms \n",
    "        maj_basis = self.majorana_basis.cleanup().copy()\n",
    "        \n",
    "        \n",
    "        single_terms_rows = np.where(np.einsum('ij->i', maj_basis.symp_matrix)==2)[0]\n",
    "        if single_terms_rows.shape[0]>0:\n",
    "            z_term_check = np.logical_xor(maj_basis.symp_matrix[single_terms_rows][:, maj_basis.even_inds],\n",
    "                                     maj_basis.symp_matrix[single_terms_rows][:, maj_basis.odd_inds]).astype(int)\n",
    "\n",
    "            z_terms = np.where(np.einsum('ij->i', z_term_check)==0)[0]\n",
    "            single_z_inds = single_terms_rows[z_terms]\n",
    "        else:\n",
    "            single_z_inds = []\n",
    "            \n",
    "        self.used_indices = set(np.union1d(self.used_indices, single_z_inds).astype(int).tolist())\n",
    "        \n",
    "        # append aleady single terms to rotated basis (that keeps tracks of single terms)\n",
    "        self.rotated_basis = [MajoranaOp([np.where(sym_vec)[0]], [sym_coeff]) \\\n",
    "                              for sym_vec, sym_coeff in zip(maj_basis.symp_matrix[single_z_inds], maj_basis.coeff_vec[single_z_inds])]\n",
    "        \n",
    "        \n",
    "        # remove single Z terms then find rotaions\n",
    "        maj_basis = MajoranaOp(np.delete(maj_basis.symp_matrix, single_z_inds, axis=0),\n",
    "                              np.delete(maj_basis.coeff_vec, single_z_inds, axis=0))\n",
    "\n",
    "        final_terms = self._recursively_rotate(maj_basis)\n",
    "        return self.rotated_basis, self.maj_rotations, self.maj_rotations_conj\n",
    "        \n",
    "    def _recursively_rotate(self, maj_basis):\n",
    "            \n",
    "        single_terms_rows = np.where(np.einsum('ij->i', maj_basis.symp_matrix)==2)[0]\n",
    "        if single_terms_rows.shape[0]>0:\n",
    "            z_term_check = np.logical_xor(maj_basis.symp_matrix[single_terms_rows][:, maj_basis.even_inds],\n",
    "                                          maj_basis.symp_matrix[single_terms_rows][:, maj_basis.odd_inds]\n",
    "                                         ).astype(int)\n",
    "\n",
    "            z_terms = np.where(np.einsum('ij->i', z_term_check)==0)[0]\n",
    "            single_z_inds = single_terms_rows[z_terms]\n",
    "        \n",
    "            if len(single_z_inds) == maj_basis.n_terms:\n",
    "                # all single qubit pauli Z's\n",
    "                # break out of recursion!\n",
    "                return maj_basis\n",
    "            \n",
    "            # mask out single Z terms\n",
    "            maj_basis = MajoranaOp(np.delete(maj_basis.symp_matrix, single_z_inds, axis=0),\n",
    "                                  np.delete(maj_basis.coeff_vec, single_z_inds, axis=0))\n",
    "            seen_inds = np.union1d(list(self.used_indices), single_z_inds).astype(int).tolist()\n",
    "            self.used_indices.update(seen_inds)\n",
    "                \n",
    "        \n",
    "        #### NOW ROTATE ONTO SINGLE TERM!\n",
    "        mode_pairs = np.logical_or(maj_basis.symp_matrix[:, maj_basis.even_inds],\n",
    "                                   maj_basis.symp_matrix[:, maj_basis.odd_inds]\n",
    "                                  ).astype(int)\n",
    "        \n",
    "        # sum along pairs of indices to find how large a given term is!\n",
    "        row_sum = np.einsum('ij->i',mode_pairs)\n",
    "        \n",
    "        # sort by least dense majorana operators\n",
    "        sort_rows_by_weight = np.argsort(row_sum)\n",
    "        \n",
    "        # take first term (which is least dense)\n",
    "        pivot_row = maj_basis.symp_matrix[sort_rows_by_weight][0]\n",
    "        \n",
    "        # get non identity positions (also ignores positions that have been rotated onto!)\n",
    "        non_I = np.setdiff1d(np.where(pivot_row)[0], np.array(self.used_indices))\n",
    "        \n",
    "        # gives positions in whole operator where single mode terms terms occur\n",
    "        col_sum = np.einsum('ij->j',maj_basis.symp_matrix)\n",
    "        \n",
    "        # pivot_row * col_sum : gives positions where pivot term and where other single mode terms occur\n",
    "        support = pivot_row*col_sum\n",
    "        \n",
    "        # want to take lowest index support (as this will allow unique terms)\n",
    "        pivot_point = non_I[np.argmin(support[non_I])]\n",
    "        if pivot_point%2==0:\n",
    "            pivot_point_even = pivot_point\n",
    "            pivot_point_odd = pivot_point_even + 1 # 2i+1 index!\n",
    "        else:\n",
    "            pivot_point_odd  = pivot_point\n",
    "            pivot_point_even = pivot_point_odd-1\n",
    "        \n",
    "        # take term we are rotating to single term\n",
    "        rot_op = pivot_row.copy()\n",
    "        pivot_maj = MajoranaOp([np.where(pivot_row!=0)[0]], [1])\n",
    "\n",
    "        # check if pivot term is Pauli Z term... if so then rotate pivot position to something else!\n",
    "        Z_rot= False\n",
    "        if (pivot_row[pivot_point_even] + pivot_row[pivot_point_odd])==2:\n",
    "            Z_rot = True\n",
    "            # apply op like Pauli X on pivot position\n",
    "            rot_op_inds = np.arange(0,pivot_point_odd)\n",
    "        elif rot_op[pivot_point_even] == rot_op[pivot_point_odd] == 0:\n",
    "            raise ValueError('pivot error')\n",
    "        \n",
    "        if Z_rot:\n",
    "            # number of Zs in rotation (majorana have complex phase here)\n",
    "            phase =(1j)**((len(rot_op_inds))//2) \n",
    "\n",
    "            maj_rot_op = MajoranaOp([[],rot_op_inds], [np.cos(np.pi/4), self.phase_conv_dict[phase]*np.sin(np.pi/4)])\n",
    "            maj_rot_op_conj = MajoranaOp([[],rot_op_inds], [np.cos(np.pi/4), -1* self.phase_conv_dict[phase]* np.sin(np.pi/4)])\n",
    "\n",
    "            rot_basis_out = (maj_rot_op * maj_basis * maj_rot_op_conj).cleanup()\n",
    "            rot_piv =  (maj_rot_op * pivot_maj * maj_rot_op_conj).cleanup() \n",
    "            \n",
    "            self.maj_rotations.append(maj_rot_op)\n",
    "            self.maj_rotations_conj.append(maj_rot_op_conj)\n",
    "        else:\n",
    "            rot_basis_out =  maj_basis\n",
    "            rot_piv = pivot_maj\n",
    "                \n",
    "        \n",
    "        rot_op2 = rot_piv.symp_matrix[0].copy()\n",
    "        # pivot position is X or Y\n",
    "        # if X use Y and if Y use X to make pauli Z on this position\n",
    "        rot_op2[pivot_point_even] = (rot_op2[pivot_point_even]+1)%2\n",
    "        rot_op2[pivot_point_odd] = (rot_op2[pivot_point_odd]+1)%2\n",
    "\n",
    "            \n",
    "        # print(jordan_wigner(MajoranaOp([np.where(rot_op2!=0)[0]], [1]).to_OF_op()))\n",
    "        phase2 =(1j)**(sum(np.logical_and(rot_op2[rot_piv.even_inds],\n",
    "                                          rot_op2[rot_piv.odd_inds])))\n",
    "        rot_op2_inds = np.where(rot_op2!=0)[0]\n",
    "        maj_rot_op2 = MajoranaOp([[],rot_op2_inds], [np.cos(np.pi/4), self.phase_conv_dict[phase2]*np.sin(np.pi/4)])\n",
    "        maj_rot_op2_conj = MajoranaOp([[],rot_op2_inds], [np.cos(np.pi/4), -1*self.phase_conv_dict[phase2]*np.sin(np.pi/4)])\n",
    "        \n",
    "        rot_basis_out2 = (maj_rot_op2 * rot_basis_out * maj_rot_op2_conj).cleanup()\n",
    "        \n",
    "        self.maj_rotations.append(maj_rot_op2)\n",
    "        self.maj_rotations_conj.append(maj_rot_op2_conj)\n",
    "        \n",
    "        rotated_term = (maj_rot_op2 * rot_piv * maj_rot_op2_conj).cleanup()\n",
    "        self.rotated_basis.append(rotated_term)\n",
    "        \n",
    "        self.used_indices.update([pivot_point_even, pivot_point_odd])\n",
    "        \n",
    "        \n",
    "        return self._recursively_rotate(rot_basis_out2)\n",
    "        "
   ]
  },
  {
   "cell_type": "code",
   "execution_count": null,
   "id": "8648e237",
   "metadata": {},
   "outputs": [],
   "source": [
    "# basis_op = MajoranaOp([\n",
    "#                       [1,2,3],\n",
    "#                       [5],\n",
    "#                       [0,1,2,3],\n",
    "#                       [2,3],\n",
    "#                       [4,5],\n",
    "#                       [1,4]], [1,1,1,1,1,1])\n",
    "# jordan_wigner(basis_op.to_OF_op())"
   ]
  },
  {
   "cell_type": "code",
   "execution_count": null,
   "id": "78974a4a",
   "metadata": {},
   "outputs": [],
   "source": [
    "print(basis_op)"
   ]
  },
  {
   "cell_type": "code",
   "execution_count": null,
   "id": "ced52a64",
   "metadata": {},
   "outputs": [],
   "source": [
    "# out = majorana_rotations(basis_op)\n",
    "# print(jordan_wigner(basis_op.to_OF_op()))\n",
    "# print()\n",
    "# print()\n",
    "# terms, rots = out.get_rotations()\n",
    "\n",
    "# for t in terms:\n",
    "#     print(jordan_wigner(t.to_OF_op()))"
   ]
  },
  {
   "cell_type": "code",
   "execution_count": 45,
   "id": "97a0e493",
   "metadata": {},
   "outputs": [
    {
     "name": "stdout",
     "output_type": "stream",
     "text": [
      "1j [Z0 Z3 Z5 Z7 Z9] +\n",
      "1j [Z1 Z3 Z5 Z7 Z9] +\n",
      "(-1+0j) [Z2 Z3] +\n",
      "(-1+0j) [Z4 Z5] +\n",
      "(1+0j) [Z6 Z7 Z8 Z9]\n",
      "\n",
      "\n",
      "(1+0j) [Z4]\n",
      "(1+0j) [Z2]\n",
      "(-1+0j) [Z6]\n",
      "-1j [Z1]\n",
      "-1j [Z0]\n"
     ]
    }
   ],
   "source": [
    "out = majorana_rotations(basis_op)\n",
    "print(jordan_wigner(basis_op.to_OF_op()))\n",
    "print()\n",
    "print()\n",
    "terms, rots, rots_conj = out.get_rotations()\n",
    "\n",
    "for t in terms:\n",
    "    print(jordan_wigner(t.to_OF_op()))"
   ]
  },
  {
   "cell_type": "code",
   "execution_count": null,
   "id": "81516fd8",
   "metadata": {},
   "outputs": [],
   "source": []
  },
  {
   "cell_type": "code",
   "execution_count": null,
   "id": "e6c78223",
   "metadata": {},
   "outputs": [],
   "source": [
    "# rot_maj_H = basis_op.copy()\n",
    "# for rot in rots:\n",
    "#     rot_maj_H = (rot * rot_maj_H * rot.conjugate).cleanup()\n",
    "# #     print('##')\n",
    "# #     print(jordan_wigner(rot_maj_H.to_OF_op()))\n",
    "# #     print('##')\n",
    "# print(rot_maj_H)"
   ]
  },
  {
   "cell_type": "code",
   "execution_count": 46,
   "id": "5f5f88ca",
   "metadata": {},
   "outputs": [
    {
     "name": "stdout",
     "output_type": "stream",
     "text": [
      "1j γ12 γ13 +\n",
      "-1j γ8 γ9 +\n",
      "-1j γ4 γ5 +\n",
      "(-1+0j) γ2 γ3 +\n",
      "(-1+0j) γ0 γ1\n"
     ]
    }
   ],
   "source": [
    "rot_maj_H = basis_op.copy()\n",
    "for rot in rots:\n",
    "    rot_maj_H = (rot * rot_maj_H * rot.conjugate).cleanup()\n",
    "#     print('##')\n",
    "#     print(jordan_wigner(rot_maj_H.to_OF_op()))\n",
    "#     print('##')\n",
    "print(rot_maj_H)"
   ]
  },
  {
   "cell_type": "code",
   "execution_count": 47,
   "id": "b979e00f",
   "metadata": {},
   "outputs": [],
   "source": [
    "for t, r in zip(rots, rots_conj):\n",
    "#     print(t)\n",
    "#     print(r)abs\n",
    "    out = t.conjugate - r\n",
    "    if out.n_terms>0:\n",
    "#         print(t.conjugate - r)\n",
    "        print(jordan_wigner(t.to_OF_op()))\n",
    "#         print(jordan_wigner(r.to_OF_op())) \n",
    "        ww = t.conjugate\n",
    "        print(jordan_wigner(ww.to_OF_op())) \n",
    "    \n",
    "#         print(jordan_wigner(t.to_OF_op()) + jordan_wigner(r.to_OF_op()))\n",
    "#        print(t)\n",
    "#         print(r)\n",
    "        print()"
   ]
  },
  {
   "cell_type": "code",
   "execution_count": null,
   "id": "d2d6c977",
   "metadata": {},
   "outputs": [],
   "source": []
  },
  {
   "cell_type": "code",
   "execution_count": null,
   "id": "89ca514b",
   "metadata": {},
   "outputs": [],
   "source": [
    "rot_conj.n_terms"
   ]
  },
  {
   "cell_type": "code",
   "execution_count": null,
   "id": "9570ce33",
   "metadata": {},
   "outputs": [],
   "source": [
    "rot_maj_H = basis_op.copy()\n",
    "for rot, rot_conj in zip(rots, rots_conj):\n",
    "    rot_maj_H = (rot * rot_maj_H * rot_conj).cleanup()\n",
    "#     print('##')\n",
    "#     print(jordan_wigner(rot_maj_H.to_OF_op()))\n",
    "#     print('##')\n",
    "print(rot_maj_H)"
   ]
  },
  {
   "cell_type": "code",
   "execution_count": null,
   "id": "0bb002da",
   "metadata": {},
   "outputs": [],
   "source": [
    "out = majorana_rotations(basis_op)\n",
    "print(jordan_wigner(basis_op.to_OF_op()))\n",
    "print()\n",
    "print()\n",
    "terms, rots, rots_conj = out.get_rotations()\n",
    "\n",
    "for t in terms:\n",
    "    print(jordan_wigner(t.to_OF_op()))"
   ]
  },
  {
   "cell_type": "code",
   "execution_count": null,
   "id": "7185c518",
   "metadata": {},
   "outputs": [],
   "source": [
    "print(basis_op)"
   ]
  },
  {
   "cell_type": "code",
   "execution_count": null,
   "id": "5567822e",
   "metadata": {},
   "outputs": [],
   "source": [
    "basis_op.symp_matrix[basis_op.even_inds]"
   ]
  },
  {
   "cell_type": "code",
   "execution_count": null,
   "id": "116d4aec",
   "metadata": {},
   "outputs": [],
   "source": [
    "# test.symp_matrix\n",
    "# test.symp_matrix[test.even_inds]\n",
    "test.symp_matrix[]"
   ]
  },
  {
   "cell_type": "code",
   "execution_count": null,
   "id": "e4d5d22a",
   "metadata": {},
   "outputs": [],
   "source": []
  },
  {
   "cell_type": "code",
   "execution_count": null,
   "id": "48672985",
   "metadata": {},
   "outputs": [],
   "source": [
    "np.logical_and(test.symp_matrix[:, test.even_inds],\n",
    "                                                 test.symp_matrix[:, test.odd_inds]).astype(int)\n"
   ]
  },
  {
   "cell_type": "code",
   "execution_count": null,
   "id": "c7bb4855",
   "metadata": {},
   "outputs": [],
   "source": [
    "basis_op.symp_matrix[:, basis_op.even_inds]"
   ]
  },
  {
   "cell_type": "code",
   "execution_count": null,
   "id": "a307fd2c",
   "metadata": {},
   "outputs": [],
   "source": [
    "basis_op.symp_matrix[:, basis_op.odd_inds]"
   ]
  },
  {
   "cell_type": "code",
   "execution_count": null,
   "id": "48c28b26",
   "metadata": {},
   "outputs": [],
   "source": [
    "basis_op.symp_matrix"
   ]
  },
  {
   "cell_type": "code",
   "execution_count": null,
   "id": "1c1b2f50",
   "metadata": {},
   "outputs": [],
   "source": []
  },
  {
   "cell_type": "code",
   "execution_count": null,
   "id": "c94d4926",
   "metadata": {},
   "outputs": [],
   "source": [
    "basis_op.symp_matrix"
   ]
  },
  {
   "cell_type": "code",
   "execution_count": null,
   "id": "eee56049",
   "metadata": {},
   "outputs": [],
   "source": [
    "single_terms_rows.shape"
   ]
  },
  {
   "cell_type": "code",
   "execution_count": null,
   "id": "fc6e40b2",
   "metadata": {},
   "outputs": [],
   "source": [
    "basis_op.symp_matrix[single_terms_rows][:,basis_op.even_inds]"
   ]
  },
  {
   "cell_type": "code",
   "execution_count": null,
   "id": "bba70237",
   "metadata": {},
   "outputs": [],
   "source": []
  },
  {
   "cell_type": "code",
   "execution_count": null,
   "id": "07b1d64f",
   "metadata": {},
   "outputs": [],
   "source": [
    "Z_terms = np.logical_and(basis_op.symp_matrix[:, basis_op.even_inds],\n",
    "                         basis_op.symp_matrix[:, basis_op.odd_inds]).astype(int)\n",
    "\n",
    "Z_terms"
   ]
  },
  {
   "cell_type": "code",
   "execution_count": null,
   "id": "09eeb554",
   "metadata": {},
   "outputs": [],
   "source": [
    "out = majorana_rotations(basis_op)\n",
    "print(jordan_wigner(basis_op.to_OF_op()))\n",
    "print()\n",
    "print()\n",
    "terms, rots = out.get_rotations()\n",
    "\n",
    "for t in terms:\n",
    "    print(jordan_wigner(t.to_OF_op()))"
   ]
  },
  {
   "cell_type": "code",
   "execution_count": null,
   "id": "73b66081",
   "metadata": {},
   "outputs": [],
   "source": []
  },
  {
   "cell_type": "code",
   "execution_count": null,
   "id": "53340d30",
   "metadata": {},
   "outputs": [],
   "source": [
    "rot_maj_H = basis_op.copy()\n",
    "for rot in rots[::-1]:\n",
    "    rot_maj_H = (rot * rot_maj_H * rot.conjugate).cleanup()\n",
    "    \n",
    "    print(rot_maj_H)"
   ]
  },
  {
   "cell_type": "code",
   "execution_count": null,
   "id": "41af35f4",
   "metadata": {},
   "outputs": [],
   "source": [
    "rot_maj_H = maj_H.copy()\n",
    "for rot in rots:\n",
    "    rot_maj_H = (rot * rot_maj_H * rot.conjugate).cleanup()\n",
    "    \n",
    "jordan_wigner(rot_maj_H.to_OF_op())"
   ]
  },
  {
   "cell_type": "code",
   "execution_count": null,
   "id": "127a81b9",
   "metadata": {},
   "outputs": [],
   "source": []
  },
  {
   "cell_type": "code",
   "execution_count": null,
   "id": "b864f50e",
   "metadata": {},
   "outputs": [],
   "source": [
    "asdf"
   ]
  },
  {
   "cell_type": "code",
   "execution_count": null,
   "id": "32fcdd5c",
   "metadata": {},
   "outputs": [],
   "source": [
    "ZX_symp = maj_H.symp_matrix\n",
    "reduced = gf2_gaus_elim(ZX_symp)\n",
    "kernel  =  gf2_basis_for_gf2_rref(reduced)\n",
    "\n",
    "kernel = kernel.astype(int)\n",
    "kernel"
   ]
  },
  {
   "cell_type": "code",
   "execution_count": null,
   "id": "633ceb40",
   "metadata": {},
   "outputs": [],
   "source": []
  },
  {
   "cell_type": "code",
   "execution_count": null,
   "id": "2ef50de6",
   "metadata": {},
   "outputs": [],
   "source": []
  },
  {
   "cell_type": "code",
   "execution_count": null,
   "id": "a9f2a1c8",
   "metadata": {},
   "outputs": [],
   "source": []
  },
  {
   "cell_type": "code",
   "execution_count": null,
   "id": "c47141cb",
   "metadata": {},
   "outputs": [],
   "source": []
  },
  {
   "cell_type": "code",
   "execution_count": null,
   "id": "74cccade",
   "metadata": {},
   "outputs": [],
   "source": [
    "# remember consider pairs of sites!\n",
    "used_indices=[]\n",
    "\n",
    "mode_pairs = np.logical_or(basis_op.symp_matrix[:, basis_op.even_inds],\n",
    "                      basis_op.symp_matrix[:, basis_op.odd_inds]).astype(int)\n",
    "\n",
    "# sum along pairs of indices to find how large a given term is!\n",
    "row_sum = np.einsum('ij->i',mode_pairs)\n",
    "# sort by least dense majorana operators\n",
    "sort_rows_by_weight = np.argsort(row_sum)\n",
    "\n",
    "# take first term (which is least dense)\n",
    "pivot_row = basis_op.symp_matrix[sort_rows_by_weight][0]\n",
    "\n",
    "non_I = np.setdiff1d(np.where(pivot_row)[0], np.array(used_indices)) #<-checked\n",
    "\n",
    "# gives positions in whole operator where single mode terms terms occur\n",
    "col_sum = np.einsum('ij->j',basis_op.symp_matrix)\n",
    "\n",
    "# pivot_row * col_sum : gives positions where pivot term and where other single mode terms occur\n",
    "support = pivot_row*col_sum\n",
    "\n",
    "# want to take lowest index support (as this will allow unique terms)\n",
    "pivot_point_even = non_I[np.argmin(support[non_I])]\n",
    "pivot_point_odd = pivot_point_even + 1 # 2i+1 index!\n",
    "\n",
    "\n",
    "# take term we are rotating to single term\n",
    "rot_op = pivot_row.copy()\n",
    "\n",
    "# check if \"Pauli Z\" anywhere... if so then rotate away!\n",
    "Z_rot = False\n",
    "if rot_op[pivot_point_even] == rot_op[pivot_point_odd] == 1:\n",
    "    Z_rot = True\n",
    "    rot_op[pivot_point_odd]=0\n",
    "elif rot_op[pivot_point_even] == rot_op[pivot_point_odd] == 0:\n",
    "    raise ValueError('pivot error')\n",
    "\n",
    "    \n",
    "if Z_rot:\n",
    "    phase =(1j)**(sum(np.logical_and(rot_op[basis_op.even_inds],\n",
    "                                     rot_op[basis_op.odd_inds])))\n",
    "\n",
    "    # print(phase)\n",
    "\n",
    "    phase_conv = {1: 1j, -1: -1j, 1j:1, -1j:-1}\n",
    "\n",
    "    rot_op_inds = np.where(rot_op!=0)[0]\n",
    "    maj_rot_op = MajoranaOp([[],rot_op_inds], [np.cos(np.pi/4), phase_conv[phase]*np.sin(np.pi/4)])\n",
    "    maj_rot_op_conj = MajoranaOp([[],rot_op_inds], [np.cos(np.pi/4), -1* phase_conv[phase]* np.sin(np.pi/4)])\n",
    "\n",
    "    rot_basis_out = (maj_rot_op * basis_op * maj_rot_op_conj).cleanup()\n",
    "    # print(rot_basis_out)\n",
    "else:\n",
    "    rot_basis_out = basis_op \n",
    "    \n",
    "rot_op2 = np.zeros_like(rot_op)\n",
    "rot_op2[:pivot_point_odd] = (rot_op[:pivot_point_odd])%2\n",
    "\n",
    "phase2 =(1j)**(sum(np.logical_and(rot_op2[basis_op.even_inds],\n",
    "                                 rot_op2[basis_op.odd_inds])))\n",
    "\n",
    "rot_op2_inds = np.where(rot_op2!=0)[0]\n",
    "maj_rot_op2 = MajoranaOp([[],rot_op2_inds], [np.cos(np.pi/4), phase_conv[phase2]*np.sin(np.pi/4)])\n",
    "maj_rot_op2_conj = MajoranaOp([[],rot_op2_inds], [np.cos(np.pi/4), -1*phase_conv[phase2]*np.sin(np.pi/4)])\n",
    "\n",
    "rot_basis_out2 = (maj_rot_op2 * rot_basis_out * maj_rot_op2_conj).cleanup()\n",
    "\n",
    "print(rot_basis_out2)"
   ]
  },
  {
   "cell_type": "code",
   "execution_count": null,
   "id": "25602833",
   "metadata": {},
   "outputs": [],
   "source": [
    "# remember consider pairs of sites!\n",
    "used_indices=[]\n",
    "\n",
    "mode_pairs = np.logical_or(basis_op.symp_matrix[:, basis_op.even_inds],\n",
    "                      basis_op.symp_matrix[:, basis_op.odd_inds]).astype(int)\n",
    "\n",
    "# sum along pairs of indices to find how large a given term is!\n",
    "row_sum = np.einsum('ij->i',mode_pairs)\n",
    "# sort by least dense majorana operators\n",
    "sort_rows_by_weight = np.argsort(row_sum)\n",
    "\n",
    "# take first term (which is least dense)\n",
    "pivot_row = basis_op.symp_matrix[sort_rows_by_weight][0]\n",
    "\n",
    "non_I = np.setdiff1d(np.where(pivot_row)[0], np.array(used_indices))\n",
    "\n",
    "# gives positions in whole operator where single mode terms terms occur\n",
    "col_sum = np.einsum('ij->j',basis_op.symp_matrix)\n",
    "\n",
    "# pivot_row * col_sum : gives positions where pivot term and where other single mode terms occur\n",
    "support = pivot_row*col_sum\n",
    "\n",
    "# want to take lowest index support (as this will allow unique terms)\n",
    "pivot_point_even = non_I[np.argmin(support[non_I])]\n",
    "pivot_point_odd = pivot_point_even + 1 # 2i+1 index!\n",
    "\n",
    "\n",
    "# take term we are rotating to single term\n",
    "rot_op = pivot_row.copy()\n",
    "\n",
    "# check if \"Pauli Z\" anywhere... if so then rotate away!\n",
    "Z_rot = False\n",
    "if rot_op[pivot_point_even] == rot_op[pivot_point_odd] == 1:\n",
    "    Z_rot = True\n",
    "    rot_op[pivot_point_odd]=0\n",
    "elif rot_op[pivot_point_even] == rot_op[pivot_point_odd] == 0:\n",
    "    raise ValueError('pivot error')\n",
    "\n",
    "    \n",
    "if Z_rot:\n",
    "    phase =(1j)**(sum(np.logical_and(rot_op[basis_op.even_inds],\n",
    "                                     rot_op[basis_op.odd_inds])))\n",
    "\n",
    "    # print(phase)\n",
    "\n",
    "    phase_conv = {1: 1j, -1: -1j, 1j:1, -1j:-1}\n",
    "\n",
    "    rot_op_inds = np.where(rot_op!=0)[0]\n",
    "    maj_rot_op = MajoranaOp([[],rot_op_inds], [np.cos(np.pi/4), phase_conv[phase]*np.sin(np.pi/4)])\n",
    "    maj_rot_op_conj = MajoranaOp([[],rot_op_inds], [np.cos(np.pi/4), -1* phase_conv[phase]* np.sin(np.pi/4)])\n",
    "\n",
    "    rot_basis_out = (maj_rot_op * basis_op * maj_rot_op_conj).cleanup()\n",
    "    # print(rot_basis_out)\n",
    "else:\n",
    "    rot_basis_out = basis_op \n",
    "    \n",
    "rot_op2 = np.zeros_like(rot_op)\n",
    "rot_op2[:pivot_point_odd] = (rot_op[:pivot_point_odd])%2\n",
    "\n",
    "phase2 =(1j)**(sum(np.logical_and(rot_op2[basis_op.even_inds],\n",
    "                                 rot_op2[basis_op.odd_inds])))\n",
    "\n",
    "rot_op2_inds = np.where(rot_op2!=0)[0]\n",
    "maj_rot_op2 = MajoranaOp([[],rot_op2_inds], [np.cos(np.pi/4), phase_conv[phase2]*np.sin(np.pi/4)])\n",
    "maj_rot_op2_conj = MajoranaOp([[],rot_op2_inds], [np.cos(np.pi/4), -1*phase_conv[phase2]*np.sin(np.pi/4)])\n",
    "\n",
    "rot_basis_out2 = (maj_rot_op2 * rot_basis_out * maj_rot_op2_conj).cleanup()\n",
    "\n",
    "print(rot_basis_out2)"
   ]
  },
  {
   "cell_type": "code",
   "execution_count": null,
   "id": "8088e167",
   "metadata": {},
   "outputs": [],
   "source": [
    "df"
   ]
  },
  {
   "cell_type": "code",
   "execution_count": null,
   "id": "37208aea",
   "metadata": {},
   "outputs": [],
   "source": [
    "rot_op2"
   ]
  },
  {
   "cell_type": "code",
   "execution_count": null,
   "id": "412d86ce",
   "metadata": {},
   "outputs": [],
   "source": [
    "print(maj_rot_op2)"
   ]
  },
  {
   "cell_type": "code",
   "execution_count": null,
   "id": "6f4f01de",
   "metadata": {},
   "outputs": [],
   "source": [
    "print(rot_basis_out2)"
   ]
  },
  {
   "cell_type": "code",
   "execution_count": null,
   "id": "59594295",
   "metadata": {},
   "outputs": [],
   "source": [
    "rot_basis_out\n",
    "jordan_wigner(rot_basis_out.to_OF_op())"
   ]
  },
  {
   "cell_type": "code",
   "execution_count": null,
   "id": "198a9e14",
   "metadata": {},
   "outputs": [],
   "source": [
    "v = MajoranaOp([[5]],[1])\n",
    "b = MajoranaOp([[0,1,2,3]],[1])\n",
    "jordan_wigner(b.to_OF_op())"
   ]
  },
  {
   "cell_type": "code",
   "execution_count": null,
   "id": "91a14372",
   "metadata": {},
   "outputs": [],
   "source": []
  },
  {
   "cell_type": "code",
   "execution_count": null,
   "id": "c662c4c8",
   "metadata": {},
   "outputs": [],
   "source": [
    "pivot_point_even"
   ]
  },
  {
   "cell_type": "code",
   "execution_count": null,
   "id": "82cb85a1",
   "metadata": {},
   "outputs": [],
   "source": [
    "Z0 Z1 X2"
   ]
  },
  {
   "cell_type": "code",
   "execution_count": null,
   "id": "5d3825c5",
   "metadata": {},
   "outputs": [],
   "source": [
    "jordan_wigner(rot_basis_out.to_OF_op())"
   ]
  },
  {
   "cell_type": "code",
   "execution_count": null,
   "id": "fa0e201d",
   "metadata": {},
   "outputs": [],
   "source": [
    "print(basis_op)"
   ]
  },
  {
   "cell_type": "code",
   "execution_count": null,
   "id": "91a212ed",
   "metadata": {},
   "outputs": [],
   "source": []
  },
  {
   "cell_type": "code",
   "execution_count": null,
   "id": "63997a06",
   "metadata": {},
   "outputs": [],
   "source": [
    "    # find rows of mode_pairs matrix that are not already unique\n",
    "    free_mode_inds = np.setdiff1d(np.arange(mode_pairs.shape[1]), unqiue_mode_indices)\n",
    "\n",
    "    ## use integar sort to sort non_unique rows\n",
    "    int_list = mode_pairs[:, free_mode_inds] @ (1 << np.arange(mode_pairs[:, free_mode_inds].shape[1])[::-1])\n",
    "    sort_rows_by_weight = np.argsort(-1*int_list)\n",
    "\n",
    "    ## find indpendent index of pivot! (cannot use dependent term)\n",
    "    # sum down column... note any term with 1 in row is unique term\n",
    "    support = np.einsum('ij->j', mode_pairs)\n",
    "    support[unqiue_mode_indices]=2 # push any unique index to above 1 (so as not to use)\n",
    "    pivot_index_even = 2*np.where(support==1)[0][0] # gives independent index for symp matrix (not times 2 as 2i not i)\n",
    "    pivot_index_odd = pivot_index_even + 1 # get odd pivot index too\n",
    "    \n",
    "    # take term we are rotating to single term\n",
    "    rot_op = basis.symp_matrix[sort_rows_by_weight][0].copy()\n",
    "    \n",
    "    print('reduce:', jordan_wigner(MajoranaOp(np.array([rot_op]), [1]).to_OF_op()))\n",
    "    if rot_op[pivot_index_even] == rot_op[pivot_index_odd] == 1:\n",
    "        rot_op[pivot_index_odd]=0\n",
    "    elif rot_op[pivot_index_even] == rot_op[pivot_index_odd] == 0:\n",
    "        raise ValueError('pivot error')"
   ]
  },
  {
   "cell_type": "code",
   "execution_count": null,
   "id": "944af1a6",
   "metadata": {},
   "outputs": [],
   "source": []
  },
  {
   "cell_type": "code",
   "execution_count": null,
   "id": "46207762",
   "metadata": {},
   "outputs": [],
   "source": [
    "row_sum = np.aeinsum('ij->i',basis.symp_matrix)\n",
    "col_sum = np.einsum('ij->j',basis.symp_matrix)\n",
    "sort_rows_by_weight = np.argsort(row_sum)\n",
    "pivot_row = basis.symp_matrix[sort_rows_by_weight][0]\n",
    "non_I = np.setdiff1d(np.where(pivot_row)[0], np.array(used_indices))\n",
    "support = pivot_row*col_sum\n",
    "pivot_point = non_I[np.argmin(support[non_I])]\n",
    "pivot_rotation = update_sets(pivot_row.copy(), pivot_point)\n",
    "rotated_basis = basis._rotate_by_single_Pword(pivot_rotation)\n",
    "non_sqp = np.where(np.einsum('ij->i', rotated_basis.symp_matrix)!=1)[0].tolist()"
   ]
  },
  {
   "cell_type": "code",
   "execution_count": null,
   "id": "19c79966",
   "metadata": {},
   "outputs": [],
   "source": []
  },
  {
   "cell_type": "code",
   "execution_count": null,
   "id": "4661cc1b",
   "metadata": {},
   "outputs": [],
   "source": [
    "## for non pairs use individual\n",
    "# op1 = MajoranaOp([[1,6,7,10,11,14,15,18,19]],[1])\n",
    "# allowed_inds= [0,6,7,10,11,14,15,18,19]\n",
    "\n",
    "# for pairs used even ind!\n",
    "op1 = MajoranaOp([[0,1,6,7,10,11,14,15,18,19]],[1])\n",
    "allowed_inds= [0,6,7,10,11,14,15,18,19]\n",
    "\n",
    "rott = MajoranaOp([allowed_inds],[1])\n",
    "phase_conv = {1: 1j, -1: -1j, 1j:1, -1j:-1}\n",
    "phase =(1j)**(sum(np.logical_and(new_op[rott.even_inds],\n",
    "                                 new_op[rott.odd_inds])))\n",
    "\n",
    "rott = MajoranaOp([[], allowed_inds] ,[np.cos(np.pi/4), phase_conv[phase]*np.sin(np.pi/4)])\n",
    "rott2 = MajoranaOp([[], allowed_inds],[np.cos(np.pi/4), -1*phase_conv[phase]*np.sin(np.pi/4)])\n",
    "\n",
    "print(rott.commutes(op1))\n",
    "\n",
    "print(rott * op1 * rott2)\n",
    "\n",
    "\n",
    "# rot_op = MajoranaOp([[],new_op_inds], [np.cos(np.pi/4), phase_conv[phase]*np.sin(np.pi/4)])"
   ]
  },
  {
   "cell_type": "code",
   "execution_count": null,
   "id": "2fe41a74",
   "metadata": {},
   "outputs": [],
   "source": [
    "basis = basis_op.copy()    \n",
    "\n",
    "# check if unique (equiv to single qubit Pauli operators!)\n",
    "mode_pairs = np.logical_or(basis.symp_matrix[:, basis.even_inds], \n",
    "                           basis.symp_matrix[:, basis.odd_inds]).astype(int)\n",
    "\n",
    "mode_row_sum = np.einsum('ij->i',mode_pairs)\n",
    "unique_rows = (mode_row_sum==1)\n",
    "\n",
    "unqiue_mode_indices = np.where(np.einsum('ij->j',mode_pairs[unique_rows])==1)[0]\n",
    "\n",
    "\n",
    "free_mode_inds = np.setdiff1d(np.arange(mode_pairs.shape[1]), unqiue_mode_indices)\n",
    "free_mode_inds"
   ]
  },
  {
   "cell_type": "code",
   "execution_count": null,
   "id": "4d4c9fa9",
   "metadata": {},
   "outputs": [],
   "source": [
    "from openfermion import jordan_wigner"
   ]
  },
  {
   "cell_type": "code",
   "execution_count": null,
   "id": "7a931be1",
   "metadata": {},
   "outputs": [],
   "source": [
    "rot_basis = basis"
   ]
  },
  {
   "cell_type": "code",
   "execution_count": null,
   "id": "f875704d",
   "metadata": {},
   "outputs": [],
   "source": [
    "basis_op"
   ]
  },
  {
   "cell_type": "code",
   "execution_count": null,
   "id": "963faef9",
   "metadata": {},
   "outputs": [],
   "source": [
    "basis = basis_op.copy()    \n",
    "\n",
    "# check if unique (equiv to single qubit Pauli operators!)\n",
    "mode_pairs = np.logical_or(basis.symp_matrix[:, basis.even_inds], \n",
    "                           basis.symp_matrix[:, basis.odd_inds]).astype(int)\n",
    "\n",
    "mode_row_sum = np.einsum('ij->i',mode_pairs)\n",
    "unique_rows = (mode_row_sum==1)\n",
    "\n",
    "\n",
    "if all(unique_rows):\n",
    "    # all unique!\n",
    "    pass\n",
    "else:\n",
    "    # sort basis by left most terms\n",
    "\n",
    "    unqiue_mode_indices = np.where(np.einsum('ij->j',mode_pairs[unique_rows])==1)[0]\n",
    "\n",
    "#         even_inds_used = np.sort(2*unqiue_mode_indices)\n",
    "#         odd_inds_used = even_inds_used+1\n",
    "#         used_inds = np.union1d(even_inds_used, odd_inds_used)\n",
    "#         free_inds = np.setdiff1d(np.arange(basis.symp_matrix.shape[1]), used_inds)\n",
    "\n",
    "    # find rows of mode_pairs matrix that are not already unique\n",
    "    free_mode_inds = np.setdiff1d(np.arange(mode_pairs.shape[1]), unqiue_mode_indices)\n",
    "\n",
    "    ## use integar sort to sort non_unique rows\n",
    "    int_list = mode_pairs[:, free_mode_inds] @ (1 << np.arange(mode_pairs[:, free_mode_inds].shape[1])[::-1])\n",
    "    sort_rows_by_weight = np.argsort(-1*int_list)\n",
    "\n",
    "    ## find indpendent index of pivot! (cannot use dependent term)\n",
    "    # sum down column... note any term with 1 in row is unique term\n",
    "    support = np.einsum('ij->j', mode_pairs)\n",
    "    support[unqiue_mode_indices]=2 # push any unique index to above 1 (so as not to use)\n",
    "    pivot_index_even = 2*np.where(support==1)[0][0] # gives independent index for symp matrix (not times 2 as 2i not i)\n",
    "    pivot_index_odd = pivot_index_even + 1 # get odd pivot index too\n",
    "    \n",
    "    # take term we are rotating to single term\n",
    "    rot_op = basis.symp_matrix[sort_rows_by_weight][0].copy()\n",
    "    \n",
    "#     print('reduce:', jordan_wigner(MajoranaOp(np.array([rot_op]), [1]).to_OF_op()))\n",
    "    if rot_op[pivot_index_even] == rot_op[pivot_index_odd] == 1:\n",
    "        rot_op[pivot_index_odd]=0\n",
    "    elif rot_op[pivot_index_even] == rot_op[pivot_index_odd] == 0:\n",
    "        raise ValueError('pivot error')\n",
    "    \n",
    "    rot_op[0]=1\n",
    "    rot_op[1]=1\n",
    "    \n",
    "    phase =(1j)**(sum(np.logical_and(rot_op[basis_op.even_inds],\n",
    "                                     rot_op[basis_op.odd_inds])))\n",
    "\n",
    "    print(phase)\n",
    "    \n",
    "    phase_conv = {1: 1j, -1: -1j, 1j:1, -1j:-1}\n",
    "\n",
    "    rot_op_inds = np.where(rot_op!=0)[0]\n",
    "    maj_rot_op = MajoranaOp([[],rot_op_inds], [np.cos(np.pi/4), phase_conv[phase]*np.sin(np.pi/4)])\n",
    "    maj_rot_op_conj = MajoranaOp([[],rot_op_inds], [np.cos(np.pi/4), -1* phase_conv[phase]* np.sin(np.pi/4)])\n",
    "#         rotations.append((str(MajoranaOp(np.array([pivot_row_rot]), [1]).__str__()), None))\n",
    "    \n",
    "#     print('using:', jordan_wigner(maj_rot_op.to_OF_op()))\n",
    "#     print(maj_rot_op)\n",
    "    rot_basis_out = maj_rot_op * basis * maj_rot_op_conj\n",
    "    \n",
    "#     print(maj_rot_op * MajoranaOp(np.array([basis.symp_matrix[sort_rows_by_weight][0]]),[1]) * maj_rot_op_conj)\n",
    "\n",
    "print()\n",
    "print(rot_basis_out)\n",
    "print()\n",
    "print(jordan_wigner(rot_basis_out.to_OF_op()))\n"
   ]
  },
  {
   "cell_type": "code",
   "execution_count": null,
   "id": "fc774492",
   "metadata": {},
   "outputs": [],
   "source": []
  },
  {
   "cell_type": "code",
   "execution_count": null,
   "id": "8ade24f0",
   "metadata": {},
   "outputs": [],
   "source": []
  },
  {
   "cell_type": "code",
   "execution_count": null,
   "id": "6f4c24f1",
   "metadata": {},
   "outputs": [],
   "source": []
  },
  {
   "cell_type": "code",
   "execution_count": null,
   "id": "bafa2402",
   "metadata": {},
   "outputs": [],
   "source": []
  },
  {
   "cell_type": "code",
   "execution_count": null,
   "id": "d33378d2",
   "metadata": {},
   "outputs": [],
   "source": []
  },
  {
   "cell_type": "code",
   "execution_count": null,
   "id": "258b3f1a",
   "metadata": {},
   "outputs": [],
   "source": []
  },
  {
   "cell_type": "code",
   "execution_count": null,
   "id": "6c1b490b",
   "metadata": {},
   "outputs": [],
   "source": []
  },
  {
   "cell_type": "code",
   "execution_count": null,
   "id": "81c760db",
   "metadata": {},
   "outputs": [],
   "source": []
  },
  {
   "cell_type": "code",
   "execution_count": null,
   "id": "92a96844",
   "metadata": {},
   "outputs": [],
   "source": [
    "print(basis_op, '\\n')\n",
    "op1 = MajoranaOp([[],[0]],[np.cos(np.pi/4), 1j*np.sin(np.pi/4)])\n",
    "op1_dag = MajoranaOp([[],[0]],[np.cos(np.pi/4), -1j*np.sin(np.pi/4)])\n",
    "\n",
    "rot1 = op1*basis_op*op1_dag\n",
    "print(rot1)\n",
    "\n",
    "op1.commutes_termwise(basis_op)"
   ]
  },
  {
   "cell_type": "code",
   "execution_count": null,
   "id": "b9c8d162",
   "metadata": {},
   "outputs": [],
   "source": [
    "print(op1*op1_dag)"
   ]
  },
  {
   "cell_type": "code",
   "execution_count": null,
   "id": "e41f7468",
   "metadata": {},
   "outputs": [],
   "source": [
    "print(op1.commutes(basis_op))\n",
    "\n",
    "op1.commutes_termwise(basis_op)"
   ]
  },
  {
   "cell_type": "code",
   "execution_count": 38,
   "id": "ce3cdf36",
   "metadata": {},
   "outputs": [
    {
     "name": "stdout",
     "output_type": "stream",
     "text": [
      "(1+0j) γ0 γ1 γ2 γ3 γ4 γ5\n",
      "(-1+0j) γ0 γ1 γ2 γ3 γ4 γ5\n"
     ]
    }
   ],
   "source": [
    "conj_test = MajoranaOp([[0,1,2,3,4,5]], [1])\n",
    "# conj_test = MajoranaOp([[0,1,2,3]], [1])\n",
    "# conj_test = MajoranaOp([[0,1]], [1])\n",
    "# conj_test = MajoranaOp([[0, 6]], [1])\n",
    "# conj_test = MajoranaOp([[0, 5,6]], [1])\n",
    "# conj_test = MajoranaOp([[0,6]], [1])\n",
    "print(conj_test)\n",
    "\n",
    "print(conj_test.conjugate)"
   ]
  },
  {
   "cell_type": "code",
   "execution_count": null,
   "id": "38ad9d0d",
   "metadata": {},
   "outputs": [],
   "source": [
    "(0+6)%2"
   ]
  },
  {
   "cell_type": "code",
   "execution_count": 39,
   "id": "31c0d542",
   "metadata": {},
   "outputs": [
    {
     "data": {
      "text/plain": [
       "array([3])"
      ]
     },
     "execution_count": 39,
     "metadata": {},
     "output_type": "execute_result"
    }
   ],
   "source": [
    "num_Z_terms = np.einsum('ij->i', np.logical_and(conj_test.symp_matrix[:, conj_test.even_inds],\n",
    "                                         conj_test.symp_matrix[:, conj_test.odd_inds]).astype(int))\n",
    "num_Z_terms"
   ]
  },
  {
   "cell_type": "code",
   "execution_count": 40,
   "id": "427cc100",
   "metadata": {},
   "outputs": [
    {
     "name": "stdout",
     "output_type": "stream",
     "text": [
      "-1j [Z0 Z1 Z2]\n",
      "1j [Z0 Z1 Z2]\n",
      "1j [Z0 Z1 Z2]\n"
     ]
    }
   ],
   "source": [
    "print(jordan_wigner(conj_test.to_OF_op()))\n",
    "print(jordan_wigner(conj_test.conjugate.to_OF_op()))\n",
    "\n",
    "print(hermitian_conjugated(jordan_wigner(conj_test.to_OF_op())))"
   ]
  },
  {
   "cell_type": "code",
   "execution_count": null,
   "id": "a882b19b",
   "metadata": {},
   "outputs": [],
   "source": [
    "conj_test = MajoranaOp([[3,6,9]], [1])\n",
    "conj_test.symp_matrix"
   ]
  },
  {
   "cell_type": "code",
   "execution_count": null,
   "id": "6216d15f",
   "metadata": {},
   "outputs": [],
   "source": [
    "num_Z_terms = np.einsum('ij->i', np.logical_and(conj_test.symp_matrix[:, conj_test.even_inds],\n",
    "                                         conj_test.symp_matrix[:, conj_test.odd_inds]).astype(int)) \\\n",
    "    + np.einsum('ij->i', np.logical_xor(conj_test.symp_matrix[:, conj_test.even_inds],\n",
    "                                  conj_test.symp_matrix[:, conj_test.odd_inds]).astype(int))\n",
    "num_Z_terms"
   ]
  },
  {
   "cell_type": "code",
   "execution_count": 30,
   "id": "a6e83bbb",
   "metadata": {},
   "outputs": [
    {
     "name": "stdout",
     "output_type": "stream",
     "text": [
      "-1j [Y0 Z1 Z2 X3]\n",
      "1j [Y0 Z1 Z2 X3]\n"
     ]
    }
   ],
   "source": [
    "op1 = jordan_wigner(conj_test.to_OF_op())\n",
    "print(op1)\n",
    "print(hermitian_conjugated(op1))"
   ]
  },
  {
   "cell_type": "code",
   "execution_count": 29,
   "id": "5282d619",
   "metadata": {},
   "outputs": [
    {
     "data": {
      "text/plain": [
       "1 [12 10^]"
      ]
     },
     "execution_count": 29,
     "metadata": {},
     "output_type": "execute_result"
    }
   ],
   "source": [
    "from openfermion import FermionOperator, MajoranaOperator, get_majorana_operator, hermitian_conjugated\n",
    "\n",
    "wolf = FermionOperator('10 12^', 1)\n",
    "hermitian_conjugated(wolf)"
   ]
  },
  {
   "cell_type": "code",
   "execution_count": null,
   "id": "debb9099",
   "metadata": {},
   "outputs": [],
   "source": [
    "opl.symp_matrix[0]"
   ]
  },
  {
   "cell_type": "code",
   "execution_count": null,
   "id": "8bed6a7c",
   "metadata": {},
   "outputs": [],
   "source": []
  },
  {
   "cell_type": "code",
   "execution_count": null,
   "id": "7be1b9c5",
   "metadata": {},
   "outputs": [],
   "source": [
    "l = [0,5,6]\n",
    "opl = MajoranaOp([l], [1])\n",
    "re_order = opl.term_index_list[opl.symp_matrix[0].astype(bool)]\n",
    "re_order[::-1]"
   ]
  },
  {
   "cell_type": "code",
   "execution_count": null,
   "id": "e878c43c",
   "metadata": {},
   "outputs": [],
   "source": [
    "l = [0,5,6]\n",
    "opl = MajoranaOp([l], [1])\n",
    "opl_con = MajoranaOp([l[::-1]], [1])\n",
    "\n",
    "print(jordan_wigner(opl.to_OF_op()))\n",
    "print()\n",
    "print(jordan_wigner(opl_con.to_OF_op()))\n",
    "print(hermitian_conjugated(jordan_wigner(opl.to_OF_op())))"
   ]
  },
  {
   "cell_type": "code",
   "execution_count": null,
   "id": "873b086d",
   "metadata": {},
   "outputs": [],
   "source": [
    "wolf2 = get_majorana_operator(wolf)\n",
    "print(wolf2)\n",
    "print()\n",
    "wolf3 = get_majorana_operator(hermitian_conjugated(wolf))\n",
    "print(wolf3)"
   ]
  },
  {
   "cell_type": "code",
   "execution_count": null,
   "id": "e0fb664b",
   "metadata": {},
   "outputs": [],
   "source": [
    "wolf = MajoranaOperator(term=(10, 12))\n",
    "hermitian_conjugated(wolf)"
   ]
  },
  {
   "cell_type": "code",
   "execution_count": null,
   "id": "0de7819b",
   "metadata": {},
   "outputs": [],
   "source": [
    "(-1)**2"
   ]
  },
  {
   "cell_type": "code",
   "execution_count": null,
   "id": "e70bc05a",
   "metadata": {},
   "outputs": [],
   "source": [
    "ttt = MajoranaOp([[0,1,2,3]], [1])\n",
    "print(jordan_wigner(ttt.to_OF_op()))"
   ]
  },
  {
   "cell_type": "code",
   "execution_count": null,
   "id": "7aec9d67",
   "metadata": {},
   "outputs": [],
   "source": [
    "print(jordan_wigner(conj_test.to_OF_op()))\n",
    "print(jordan_wigner(conj_test.conjugate.to_OF_op()))"
   ]
  },
  {
   "cell_type": "code",
   "execution_count": null,
   "id": "40f05cba",
   "metadata": {},
   "outputs": [],
   "source": [
    "1j*(1j*1j)"
   ]
  },
  {
   "cell_type": "code",
   "execution_count": null,
   "id": "e4c51804",
   "metadata": {},
   "outputs": [],
   "source": [
    "from openfermion import hermitian_conjugated"
   ]
  },
  {
   "cell_type": "code",
   "execution_count": null,
   "id": "8dbe4c61",
   "metadata": {},
   "outputs": [],
   "source": []
  },
  {
   "cell_type": "code",
   "execution_count": null,
   "id": "86016ce3",
   "metadata": {},
   "outputs": [],
   "source": [
    "print(rot1)\n",
    "print(op2)"
   ]
  },
  {
   "cell_type": "code",
   "execution_count": null,
   "id": "4287eec0",
   "metadata": {},
   "outputs": [],
   "source": [
    "op2 = MajoranaOp([[], [1, 6]],[np.cos(np.pi/4), 1j*np.sin(np.pi/4)])\n",
    "op2_dag = MajoranaOp([[], [1, 6]],[np.cos(np.pi/4), -1j*np.sin(np.pi/4)])\n",
    "\n",
    "rot2 = op2*rot1*op2_dag\n",
    "print(rot2)\n",
    "\n",
    "rot1.commutes_termwise(pp)"
   ]
  },
  {
   "cell_type": "code",
   "execution_count": null,
   "id": "1557c279",
   "metadata": {},
   "outputs": [],
   "source": []
  },
  {
   "cell_type": "code",
   "execution_count": null,
   "id": "7eca6f7f",
   "metadata": {},
   "outputs": [],
   "source": [
    "print(op1*basis_op*op1_dag)"
   ]
  },
  {
   "cell_type": "code",
   "execution_count": null,
   "id": "a8c54a04",
   "metadata": {},
   "outputs": [],
   "source": []
  },
  {
   "cell_type": "code",
   "execution_count": null,
   "id": "14f7d936",
   "metadata": {},
   "outputs": [],
   "source": [
    "# bug fixed\n",
    "op2 = MajoranaOp([[12, 10]], [1])\n",
    "print(op2)\n",
    "from openfermion import MajoranaOperator\n",
    "test = MajoranaOperator(term=(12,10))\n",
    "print(test)"
   ]
  },
  {
   "cell_type": "code",
   "execution_count": null,
   "id": "01fe79cc",
   "metadata": {},
   "outputs": [],
   "source": []
  },
  {
   "cell_type": "code",
   "execution_count": null,
   "id": "91ebf43f",
   "metadata": {},
   "outputs": [],
   "source": [
    "class majorana_rotations():\n",
    "    def __init__(self, majorana_basis):\n",
    "        self.phase_conv_dict = {1: 1j, -1: -1j, 1j:1, -1j:-1}\n",
    "        self.majorana_basis = majorana_basis\n",
    "        \n",
    "        self.used_indices  = None\n",
    "        self.maj_rotations = None\n",
    "        self.rotated_basis = None\n",
    "        \n",
    "    def get_rotations(self):\n",
    "        self.used_indices=[]\n",
    "        self.maj_rotations=[]\n",
    "        self.rotated_basis = []\n",
    "        \n",
    "        ## remove any single terms \n",
    "        maj_basis = self.majorana_basis.cleanup().copy()\n",
    "        Z_terms = np.logical_and(maj_basis.symp_matrix[:, maj_basis.even_inds],\n",
    "                                 maj_basis.symp_matrix[:, maj_basis.odd_inds]).astype(int)\n",
    "        \n",
    "        Z_rows = np.einsum('ij->i',Z_terms)\n",
    "        \n",
    "        self.used_indices = np.union1d(self.used_indices, np.where(Z_rows==1)[0]).astype(int).tolist()\n",
    "        print(maj_basis)\n",
    "        print(self.used_indices)\n",
    "        \n",
    "        non_single_Z = np.where(Z_rows!=1)[0]\n",
    "        maj_basis = MajoranaOp(maj_basis.symp_matrix[non_single_Z], maj_basis.coeff_vec[non_single_Z])\n",
    "        \n",
    "        print(maj_basis)\n",
    "        \n",
    "        final_terms = self._recursively_rotate(maj_basis)\n",
    "        return self.rotated_basis, self.maj_rotations\n",
    "        \n",
    "    def _recursively_rotate(self, maj_basis):\n",
    "        \n",
    "        Z_terms = np.logical_and(maj_basis.symp_matrix[:, maj_basis.even_inds],\n",
    "                                 maj_basis.symp_matrix[:, maj_basis.odd_inds]).astype(int)\n",
    "        \n",
    "        Z_rows = np.einsum('ij->i',Z_terms)\n",
    "        \n",
    "        if sum(Z_rows) == maj_basis.n_terms:\n",
    "            # all single qubit pauli Z's\n",
    "            return maj_basis\n",
    "        \n",
    "        # mask out single Z terms\n",
    "        non_single_Z = np.where(Z_rows!=1)[0]\n",
    "        maj_basis = MajoranaOp(maj_basis.symp_matrix[non_single_Z], maj_basis.coeff_vec[non_single_Z])\n",
    "        \n",
    "        \n",
    "        #### NOW ROTATE ONTO SINGLE TERM!\n",
    "        mode_pairs = np.logical_or(maj_basis.symp_matrix[:, maj_basis.even_inds],\n",
    "                                   maj_basis.symp_matrix[:, maj_basis.odd_inds]\n",
    "                                  ).astype(int)\n",
    "        \n",
    "        # sum along pairs of indices to find how large a given term is!\n",
    "        row_sum = np.einsum('ij->i',mode_pairs)\n",
    "        \n",
    "        # sort by least dense majorana operators\n",
    "        sort_rows_by_weight = np.argsort(row_sum)\n",
    "        \n",
    "        # take first term (which is least dense)\n",
    "        pivot_row = maj_basis.symp_matrix[sort_rows_by_weight][0]\n",
    "        \n",
    "        # get non identity positions (also ignores positions that have been rotated onto!)\n",
    "        non_I = np.setdiff1d(np.where(pivot_row)[0], np.array(self.used_indices))\n",
    "        \n",
    "        # gives positions in whole operator where single mode terms terms occur\n",
    "        col_sum = np.einsum('ij->j',maj_basis.symp_matrix)\n",
    "        \n",
    "        # pivot_row * col_sum : gives positions where pivot term and where other single mode terms occur\n",
    "        support = pivot_row*col_sum\n",
    "        \n",
    "        # want to take lowest index support (as this will allow unique terms)\n",
    "        pivot_point = non_I[np.argmin(support[non_I])]\n",
    "        if pivot_point%2==0:\n",
    "            pivot_point_even = pivot_point\n",
    "            pivot_point_odd = pivot_point_even + 1 # 2i+1 index!\n",
    "        else:\n",
    "            pivot_point_odd = pivot_point\n",
    "            pivot_point_even = pivot_point_odd-1\n",
    "        \n",
    "        # take term we are rotating to single term\n",
    "        rot_op = pivot_row.copy()\n",
    "        pivot_maj = MajoranaOp([np.where(pivot_row!=0)[0]], [1])\n",
    "\n",
    "        # check if pivot term is Pauli Z term... if so then rotate pivot position to something else!\n",
    "        Z_rot= False\n",
    "        if (pivot_row[pivot_point_even] + pivot_row[pivot_point_odd])==2:\n",
    "            Z_rot = True\n",
    "            # apply op like Pauli X on pivot position\n",
    "            rot_op_inds = np.arange(0,pivot_point_odd)\n",
    "            print('inds:', rot_op_inds)\n",
    "        elif rot_op[pivot_point_even] == rot_op[pivot_point_odd] == 0:\n",
    "            raise ValueError('pivot error')\n",
    "        \n",
    "        if Z_rot:\n",
    "            # number of Zs in rotation (majorana have complex phase here)\n",
    "            phase =(1j)**((len(rot_op_inds))//2) \n",
    "\n",
    "            maj_rot_op = MajoranaOp([[],rot_op_inds], [np.cos(np.pi/4), self.phase_conv_dict[phase]*np.sin(np.pi/4)])\n",
    "            maj_rot_op_conj = MajoranaOp([[],rot_op_inds], [np.cos(np.pi/4), -1* self.phase_conv_dict[phase]* np.sin(np.pi/4)])\n",
    "\n",
    "            rot_basis_out = (maj_rot_op * maj_basis * maj_rot_op_conj).cleanup()\n",
    "            rot_piv =  (maj_rot_op * pivot_maj * maj_rot_op_conj).cleanup() \n",
    "            \n",
    "            self.maj_rotations.append(maj_rot_op)\n",
    "        else:\n",
    "            rot_basis_out =  maj_basis\n",
    "            rot_piv = pivot_maj\n",
    "        \n",
    "        print(maj_rot_op)\n",
    "        \n",
    "        \n",
    "        rot_op2 = rot_piv.symp_matrix[0].copy()\n",
    "        # pivot position is X or Y\n",
    "        # if X use Y and if Y use X to make pauli Z on this position\n",
    "        rot_op2[pivot_point_even] = (rot_op2[pivot_point_even]+1)%2\n",
    "        rot_op2[pivot_point_odd] = (rot_op2[pivot_point_odd]+1)%2\n",
    "\n",
    "            \n",
    "        # print(jordan_wigner(MajoranaOp([np.where(rot_op2!=0)[0]], [1]).to_OF_op()))\n",
    "        phase2 =(1j)**(sum(np.logical_and(rot_op2[rot_piv.even_inds],\n",
    "                                          rot_op2[rot_piv.odd_inds])))\n",
    "        rot_op2_inds = np.where(rot_op2!=0)[0]\n",
    "        maj_rot_op2 = MajoranaOp([[],rot_op2_inds], [np.cos(np.pi/4), phase_conv[phase2]*np.sin(np.pi/4)])\n",
    "        maj_rot_op2_conj = MajoranaOp([[],rot_op2_inds], [np.cos(np.pi/4), -1*phase_conv[phase2]*np.sin(np.pi/4)])\n",
    "\n",
    "        rot_basis_out2 = (maj_rot_op2 * rot_basis_out * maj_rot_op2_conj).cleanup()\n",
    "        \n",
    "        self.maj_rotations.append(maj_rot_op2)\n",
    "        \n",
    "        rotated_term = (maj_rot_op2 * rot_piv * maj_rot_op2_conj).cleanup()\n",
    "        self.rotated_basis.append(rotated_term)\n",
    "        \n",
    "        self.used_indices.append(pivot_point_even)\n",
    "        self.used_indices.append(pivot_point_odd)\n",
    "        \n",
    "        print(rot_basis_out2, 'LOL')\n",
    "        print(rot_piv)\n",
    "        \n",
    "        return self._recursively_rotate(rot_basis_out2)\n",
    "        "
   ]
  },
  {
   "cell_type": "code",
   "execution_count": null,
   "id": "0cceef78",
   "metadata": {},
   "outputs": [],
   "source": [
    "class majorana_rotations():\n",
    "    def __init__(self, majorana_basis):\n",
    "        self.phase_conv_dict = {1: 1j, -1: -1j, 1j:1, -1j:-1}\n",
    "        self.majorana_basis = majorana_basis\n",
    "        \n",
    "        self.used_indices  = None\n",
    "        self.maj_rotations = None\n",
    "        self.rotated_basis = None\n",
    "        \n",
    "    def get_rotations(self):\n",
    "        self.used_indices=[]\n",
    "        self.maj_rotations=[]\n",
    "#         self.rotated_basis = []\n",
    "        \n",
    "        ## remove any single terms \n",
    "        maj_basis = self.majorana_basis.cleanup().copy()\n",
    "        Z_terms = np.logical_and(maj_basis.symp_matrix[:, maj_basis.even_inds],\n",
    "                                 maj_basis.symp_matrix[:, maj_basis.odd_inds]).astype(int)\n",
    "        \n",
    "        Z_rows = np.einsum('ij->i',Z_terms)\n",
    "        non_single_Z = np.where(Z_rows!=1)[0]\n",
    "        single_Z = np.where(Z_rows==1)[0]\n",
    "        \n",
    "        self.used_indices = np.union1d(self.used_indices, single_Z).astype(int).tolist()\n",
    "        \n",
    "        # append aleady single terms to rotated basis (that keeps tracks of single terms)\n",
    "        self.rotated_basis = [MajoranaOp([np.where(sym_vec)[0]], [sym_coeff]) \\\n",
    "                              for sym_vec, sym_coeff in zip(maj_basis.symp_matrix[single_Z], maj_basis.coeff_vec[single_Z])]\n",
    "        print(self.rotated_basis[0])\n",
    "        \n",
    "        maj_comp = MajoranaOp(maj_basis.symp_matrix[non_single_Z], maj_basis.coeff_vec[non_single_Z])\n",
    "        \n",
    "        # remove single Z terms then find rotaions\n",
    "        maj_basis = MajoranaOp(maj_basis.symp_matrix[non_single_Z], maj_basis.coeff_vec[non_single_Z])\n",
    "        final_terms = self._recursively_rotate(maj_basis)\n",
    "        return self.rotated_basis, self.maj_rotations\n",
    "        \n",
    "    def _recursively_rotate(self, maj_basis):\n",
    "        \n",
    "        Z_terms = np.logical_and(maj_basis.symp_matrix[:, maj_basis.even_inds],\n",
    "                                 maj_basis.symp_matrix[:, maj_basis.odd_inds]).astype(int)\n",
    "        \n",
    "        Z_rows = np.einsum('ij->i',Z_terms)\n",
    "        \n",
    "        if sum(Z_rows) == maj_basis.n_terms:\n",
    "            # all single qubit pauli Z's\n",
    "            return maj_basis\n",
    "        \n",
    "        # mask out single Z terms\n",
    "        non_single_Z = np.where(Z_rows!=1)[0]\n",
    "        maj_basis = MajoranaOp(maj_basis.symp_matrix[non_single_Z], maj_basis.coeff_vec[non_single_Z])\n",
    "        \n",
    "        \n",
    "        #### NOW ROTATE ONTO SINGLE TERM!\n",
    "        mode_pairs = np.logical_or(maj_basis.symp_matrix[:, maj_basis.even_inds],\n",
    "                                   maj_basis.symp_matrix[:, maj_basis.odd_inds]\n",
    "                                  ).astype(int)\n",
    "        \n",
    "        # sum along pairs of indices to find how large a given term is!\n",
    "        row_sum = np.einsum('ij->i',mode_pairs)\n",
    "        \n",
    "        # sort by least dense majorana operators\n",
    "        sort_rows_by_weight = np.argsort(row_sum)\n",
    "        \n",
    "        # take first term (which is least dense)\n",
    "        pivot_row = maj_basis.symp_matrix[sort_rows_by_weight][0]\n",
    "        \n",
    "        # get non identity positions (also ignores positions that have been rotated onto!)\n",
    "        non_I = np.setdiff1d(np.where(pivot_row)[0], np.array(self.used_indices))\n",
    "        \n",
    "        # gives positions in whole operator where single mode terms terms occur\n",
    "        col_sum = np.einsum('ij->j',maj_basis.symp_matrix)\n",
    "        \n",
    "        # pivot_row * col_sum : gives positions where pivot term and where other single mode terms occur\n",
    "        support = pivot_row*col_sum\n",
    "        \n",
    "        # want to take lowest index support (as this will allow unique terms)\n",
    "        pivot_point = non_I[np.argmin(support[non_I])]\n",
    "        if pivot_point%2==0:\n",
    "            pivot_point_even = pivot_point\n",
    "            pivot_point_odd = pivot_point_even + 1 # 2i+1 index!\n",
    "        else:\n",
    "            pivot_point_odd  = pivot_point\n",
    "            pivot_point_even = pivot_point_odd-1\n",
    "        \n",
    "        # take term we are rotating to single term\n",
    "        rot_op = pivot_row.copy()\n",
    "        pivot_maj = MajoranaOp([np.where(pivot_row!=0)[0]], [1])\n",
    "\n",
    "        # check if pivot term is Pauli Z term... if so then rotate pivot position to something else!\n",
    "        Z_rot= False\n",
    "        if (pivot_row[pivot_point_even] + pivot_row[pivot_point_odd])==2:\n",
    "            Z_rot = True\n",
    "            # apply op like Pauli X on pivot position\n",
    "            rot_op_inds = np.arange(0,pivot_point_odd)\n",
    "        elif rot_op[pivot_point_even] == rot_op[pivot_point_odd] == 0:\n",
    "            raise ValueError('pivot error')\n",
    "        \n",
    "        if Z_rot:\n",
    "            # number of Zs in rotation (majorana have complex phase here)\n",
    "            phase =(1j)**((len(rot_op_inds))//2) \n",
    "\n",
    "            maj_rot_op = MajoranaOp([[],rot_op_inds], [np.cos(np.pi/4), self.phase_conv_dict[phase]*np.sin(np.pi/4)])\n",
    "            maj_rot_op_conj = MajoranaOp([[],rot_op_inds], [np.cos(np.pi/4), -1* self.phase_conv_dict[phase]* np.sin(np.pi/4)])\n",
    "\n",
    "            rot_basis_out = (maj_rot_op * maj_basis * maj_rot_op_conj).cleanup()\n",
    "            rot_piv =  (maj_rot_op * pivot_maj * maj_rot_op_conj).cleanup() \n",
    "            \n",
    "            self.maj_rotations.append(maj_rot_op)\n",
    "        else:\n",
    "            rot_basis_out =  maj_basis\n",
    "            rot_piv = pivot_maj\n",
    "                \n",
    "        \n",
    "        rot_op2 = rot_piv.symp_matrix[0].copy()\n",
    "        # pivot position is X or Y\n",
    "        # if X use Y and if Y use X to make pauli Z on this position\n",
    "        rot_op2[pivot_point_even] = (rot_op2[pivot_point_even]+1)%2\n",
    "        rot_op2[pivot_point_odd] = (rot_op2[pivot_point_odd]+1)%2\n",
    "\n",
    "            \n",
    "        # print(jordan_wigner(MajoranaOp([np.where(rot_op2!=0)[0]], [1]).to_OF_op()))\n",
    "        phase2 =(1j)**(sum(np.logical_and(rot_op2[rot_piv.even_inds],\n",
    "                                          rot_op2[rot_piv.odd_inds])))\n",
    "        rot_op2_inds = np.where(rot_op2!=0)[0]\n",
    "        maj_rot_op2 = MajoranaOp([[],rot_op2_inds], [np.cos(np.pi/4), self.phase_conv_dict[phase2]*np.sin(np.pi/4)])\n",
    "        maj_rot_op2_conj = MajoranaOp([[],rot_op2_inds], [np.cos(np.pi/4), -1*self.phase_conv_dict[phase2]*np.sin(np.pi/4)])\n",
    "\n",
    "        rot_basis_out2 = (maj_rot_op2 * rot_basis_out * maj_rot_op2_conj).cleanup()\n",
    "        \n",
    "        self.maj_rotations.append(maj_rot_op2)\n",
    "        \n",
    "        rotated_term = (maj_rot_op2 * rot_piv * maj_rot_op2_conj).cleanup()\n",
    "        self.rotated_basis.append(rotated_term)\n",
    "        \n",
    "        self.used_indices.append(pivot_point_even)\n",
    "        self.used_indices.append(pivot_point_odd)\n",
    "        \n",
    "        return self._recursively_rotate(rot_basis_out2)\n",
    "        "
   ]
  }
 ],
 "metadata": {
  "kernelspec": {
   "display_name": "Python 3 (ipykernel)",
   "language": "python",
   "name": "python3"
  },
  "language_info": {
   "codemirror_mode": {
    "name": "ipython",
    "version": 3
   },
   "file_extension": ".py",
   "mimetype": "text/x-python",
   "name": "python",
   "nbconvert_exporter": "python",
   "pygments_lexer": "ipython3",
   "version": "3.9.7"
  }
 },
 "nbformat": 4,
 "nbformat_minor": 5
}
