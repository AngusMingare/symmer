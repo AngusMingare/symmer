{
 "cells": [
  {
   "cell_type": "markdown",
   "id": "c07b9d6d",
   "metadata": {},
   "source": [
    "# The `QuantumState` class\n",
    "\n",
    "Express an N-qubit quantum state as an array of N columns, where rows are binary bit values, complemented by a vector of coefficients. Note the similarity with the symplectic representation - indeed, the QuantumState class will infact set the above array as the X block in a PauliwordOp, with the Z block its complement.\n",
    "\n",
    "What we are doing here is writing $|0\\rangle = Z|0\\rangle$ and $|1\\rangle = X|0\\rangle$, which ensures correct phases when multiplying the state by Pauli operators, since\n",
    "\n",
    "$$X|0\\rangle = XZ|0\\rangle = -iY|0\\rangle = |1\\rangle,\\; X|1\\rangle = XX|0\\rangle = |0\\rangle$$\n",
    "$$Y|0\\rangle = YZ|0\\rangle = iX|0\\rangle = i|1\\rangle,\\; Y|1\\rangle = YX|0\\rangle = -iZ|0\\rangle = -i|0\\rangle$$\n",
    "$$Z|0\\rangle = ZZ|0\\rangle = |0\\rangle,\\; Z|1\\rangle = ZX|0\\rangle = iY|0\\rangle = -|1\\rangle$$\n",
    "\n",
    "Finally, we have $$| \\vec{b} \\rangle = \\bigotimes_{i=1}^N \\big(b_i X + (1-b_i) Z\\big) | \\vec{0} \\rangle$$ and we may drop the zero vector and use the functionality of PauliwordOp to manipulate quantum states. In this represenation, a quantum state is stored as an operator consisting of Paulis $X, Z$, which is implicitly applied to the zero (or vacuum) state. "
   ]
  },
  {
   "cell_type": "code",
   "execution_count": 1,
   "id": "b71a6aa8",
   "metadata": {},
   "outputs": [],
   "source": [
    "import numpy as np\n",
    "from symred.utils import unit_n_sphere_cartesian_coords\n",
    "from symred.symplectic_form import PauliwordOp, QuantumState\n",
    "from functools import cached_property\n",
    "from typing import Union"
   ]
  },
  {
   "cell_type": "markdown",
   "id": "14efa282",
   "metadata": {},
   "source": [
    "Firstly, note the correct phases under multiplication by a Pauli Y:"
   ]
  },
  {
   "cell_type": "code",
   "execution_count": 2,
   "id": "e5131b2d",
   "metadata": {},
   "outputs": [
    {
     "name": "stdout",
     "output_type": "stream",
     "text": [
      " 1.0000000000 |0> ->  0.0000000000+1.0000000000j |1>\n",
      " 1.0000000000 |1> ->  0.0000000000-1.0000000000j |0>\n"
     ]
    }
   ],
   "source": [
    "zero = QuantumState([[0]])\n",
    "one = QuantumState([[1]])\n",
    "Y = PauliwordOp(['Y'], [1])\n",
    "\n",
    "print(f'{zero} -> {Y * zero}')\n",
    "print(f'{one} -> {Y * one}')"
   ]
  },
  {
   "cell_type": "markdown",
   "id": "2e3a82d3",
   "metadata": {},
   "source": [
    "Now, let's see what happens when we apply the Hadamard gate to the zero state:"
   ]
  },
  {
   "cell_type": "code",
   "execution_count": 3,
   "id": "3a03866a",
   "metadata": {},
   "outputs": [
    {
     "name": "stdout",
     "output_type": "stream",
     "text": [
      "Zero state:  1.0000000000 |00>\n",
      "\n",
      "After application of the Hadamard gate:\n",
      "\n",
      " 0.5000000000+0.0000000000j |00> +\n",
      " 0.5000000000+0.0000000000j |01> +\n",
      " 0.5000000000+0.0000000000j |10> +\n",
      " 0.5000000000-0.0000000000j |11>\n"
     ]
    }
   ],
   "source": [
    "psi = QuantumState([[0,0]])\n",
    "had = PauliwordOp(['XZ','ZX','XX', 'ZZ'], np.ones(4)/2) # 2-qubit Hadamard gate decomposed over Paulis\n",
    "eq_superposition = had * psi\n",
    "print(f'Zero state: {psi}\\n')\n",
    "print(f'After application of the Hadamard gate:\\n\\n{eq_superposition}')"
   ]
  },
  {
   "cell_type": "markdown",
   "id": "bd6c7f78",
   "metadata": {},
   "source": [
    "Observe that the QuantumState is represented internally by its `state_op`, a PauliwordOp object that governs its behaviour under multiplication"
   ]
  },
  {
   "cell_type": "code",
   "execution_count": 4,
   "id": "6c007a11",
   "metadata": {},
   "outputs": [
    {
     "name": "stdout",
     "output_type": "stream",
     "text": [
      "0.5000000000+0.0000000000j ZZ +\n",
      "0.5000000000+0.0000000000j ZX +\n",
      "0.5000000000+0.0000000000j XZ +\n",
      "0.5000000000-0.0000000000j XX\n"
     ]
    }
   ],
   "source": [
    "print(eq_superposition.state_op)"
   ]
  },
  {
   "cell_type": "markdown",
   "id": "66c9bd60",
   "metadata": {},
   "source": [
    "Try evaluating expectation values for randomly generated state and Hermitian operators:"
   ]
  },
  {
   "cell_type": "code",
   "execution_count": 5,
   "id": "c09ee04b",
   "metadata": {},
   "outputs": [],
   "source": [
    "def random_state(num_qubits, num_terms):\n",
    "    \"\"\" Generates a random normalized QuantumState\n",
    "    \"\"\"\n",
    "    # random binary array with N columns, M rows\n",
    "    random_state = np.random.randint(0,2,(num_terms,num_qubits))\n",
    "    # random vector of coefficients\n",
    "    coeff_vec = (\n",
    "        np.random.rand(num_terms) + \n",
    "        np.random.rand(num_terms)*1j\n",
    "    )\n",
    "    return QuantumState(random_state, coeff_vec).normalize\n",
    "\n",
    "def random_herm_op(num_qubits, num_terms):\n",
    "    \"\"\" Generates a random PaulwordOp\n",
    "    \"\"\"\n",
    "    # random binary array with 2N columns, M rows\n",
    "    random_symp_mat = np.random.randint(0,2,(num_terms,num_qubits*2))\n",
    "    # random vector of coefficients\n",
    "    coeff_vec = np.random.rand(num_terms)\n",
    "    coeff_vec/=coeff_vec[::-1]\n",
    "    coeff_vec*=(2*np.random.randint(0,2,num_terms)-1)\n",
    "    return PauliwordOp(random_symp_mat, coeff_vec)"
   ]
  },
  {
   "cell_type": "code",
   "execution_count": 6,
   "id": "277acf81",
   "metadata": {},
   "outputs": [
    {
     "name": "stdout",
     "output_type": "stream",
     "text": [
      " 0.3985173978+0.7233753686j |1011> +\n",
      " 0.5537726046+0.1060559391j |0101>\n",
      "\n",
      " 0.6993170211+0.2655889463j |0111> +\n",
      " 0.6538480047+0.1135825798j |1001>\n"
     ]
    }
   ],
   "source": [
    "N = 4 # number of qubits\n",
    "M = 2 # number of terms\n",
    "\n",
    "psi_1 = random_state(N, M)\n",
    "psi_2 = random_state(N, M)\n",
    "\n",
    "print(psi_1)\n",
    "print()\n",
    "print(psi_2)"
   ]
  },
  {
   "cell_type": "code",
   "execution_count": 7,
   "id": "2c9aa59f",
   "metadata": {},
   "outputs": [
    {
     "name": "stdout",
     "output_type": "stream",
     "text": [
      " 0.3915763639+0.0749928737j |0101> +\n",
      " 0.4944918078+0.1877997450j |0111> +\n",
      " 0.4623403580+0.0803150124j |1001> +\n",
      " 0.2817943544+0.5115036285j |1011>\n",
      "\n",
      "Norm: (1+0j)\n"
     ]
    }
   ],
   "source": [
    "psi = (psi_1 + psi_2).normalize\n",
    "print(psi)\n",
    "print()\n",
    "print('Norm:', psi.conjugate * psi)"
   ]
  },
  {
   "cell_type": "code",
   "execution_count": 8,
   "id": "bc1e9705",
   "metadata": {},
   "outputs": [
    {
     "name": "stdout",
     "output_type": "stream",
     "text": [
      "1.6140737073+0.0000000000j YIZY +\n",
      "0.7095530362+0.0000000000j ZIXI +\n",
      "-2.3766391112+0.0000000000j YYYX +\n",
      "0.4689553394+0.0000000000j YIXX +\n",
      "-0.6282655340+0.0000000000j IYIX +\n",
      "0.2433565895+0.0000000000j YYIZ +\n",
      "0.2278358649+0.0000000000j ZIIX +\n",
      "-1.0000000000+0.0000000000j IIYI +\n",
      "4.3891246033+0.0000000000j YZXX +\n",
      "4.1091963122+0.0000000000j ZZXX +\n",
      "-1.5916836845+0.0000000000j XIYI +\n",
      "2.1323992203+0.0000000000j XXXZ +\n",
      "0.4207622416+0.0000000000j IXZY +\n",
      "-1.4093379197+0.0000000000j IIXI +\n",
      "-0.6195503932+0.0000000000j ZZXI\n",
      "\n",
      "Expectation value <psi|op|psi> = (-2.926997156382183-1.1102230246251565e-16j)\n"
     ]
    }
   ],
   "source": [
    "op = random_herm_op(N, 15)\n",
    "print(op)\n",
    "print()\n",
    "print('Expectation value <psi|op|psi> =', psi.conjugate * op * psi)"
   ]
  },
  {
   "cell_type": "code",
   "execution_count": 9,
   "id": "a0cf21b6",
   "metadata": {},
   "outputs": [
    {
     "name": "stdout",
     "output_type": "stream",
     "text": [
      " 1.7231128342-1.4173604660j |0000> +\n",
      "-0.8141519800+0.4485274763j |0001> +\n",
      " 0.6480064602-0.9017462206j |0010> +\n",
      " 0.1278360948-0.7358996045j |0011> +\n",
      "-3.1584083024-0.0848964693j |0100> +\n",
      "-0.9408866774-0.6308513350j |0101> +\n",
      "-1.3055213823-1.3641891003j |0110> +\n",
      "-1.0108957881-0.6933348272j |0111> +\n",
      "-1.7096182561-0.9449388935j |1000> +\n",
      "-2.0837559681-0.9038378235j |1001> +\n",
      "-1.7858191576-1.3772047258j |1010> +\n",
      "-1.5682256131-0.7883769647j |1011> +\n",
      " 1.4524925802-2.3024554377j |1100> +\n",
      "-0.2989177900+0.7870745426j |1101> +\n",
      "-0.3980227799-1.8966415133j |1110> +\n",
      " 0.1193649336-0.6232657097j |1111>\n"
     ]
    }
   ],
   "source": [
    "op_psi = op * psi\n",
    "print(op_psi)"
   ]
  },
  {
   "cell_type": "code",
   "execution_count": 11,
   "id": "549954cf",
   "metadata": {},
   "outputs": [
    {
     "data": {
      "text/plain": [
       "(-2.926997156382183+1.1102230246251565e-16j)"
      ]
     },
     "execution_count": 11,
     "metadata": {},
     "output_type": "execute_result"
    }
   ],
   "source": [
    "psi.conjugate * op_psi"
   ]
  },
  {
   "cell_type": "code",
   "execution_count": null,
   "id": "bb741ebd",
   "metadata": {},
   "outputs": [],
   "source": []
  }
 ],
 "metadata": {
  "kernelspec": {
   "display_name": "Python 3 (ipykernel)",
   "language": "python",
   "name": "python3"
  },
  "language_info": {
   "codemirror_mode": {
    "name": "ipython",
    "version": 3
   },
   "file_extension": ".py",
   "mimetype": "text/x-python",
   "name": "python",
   "nbconvert_exporter": "python",
   "pygments_lexer": "ipython3",
   "version": "3.8.8"
  }
 },
 "nbformat": 4,
 "nbformat_minor": 5
}
