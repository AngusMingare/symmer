{
 "cells": [
  {
   "cell_type": "markdown",
   "id": "c07b9d6d",
   "metadata": {},
   "source": [
    "# The `QuantumState` class\n",
    "\n",
    "Express an N-qubit quantum state as an array of N columns, where rows are binary bit values, complemented by a vector of coefficients. Note the similarity with the symplectic representation - indeed, the QuantumState class will infact set the above array as the X block in a PauliwordOp, with the Z block its complement.\n",
    "\n",
    "What we are doing here is writing $|0\\rangle = Z|0\\rangle$ and $|1\\rangle = X|0\\rangle$, which ensures correct phases when multiplying the state by Pauli operators, since\n",
    "\n",
    "$$X|0\\rangle = XZ|0\\rangle = -iY|0\\rangle = |1\\rangle,\\; X|1\\rangle = XX|0\\rangle = |0\\rangle$$\n",
    "$$Y|0\\rangle = YZ|0\\rangle = iX|0\\rangle = i|1\\rangle,\\; Y|1\\rangle = YX|0\\rangle = -iZ|0\\rangle = -i|0\\rangle$$\n",
    "$$Z|0\\rangle = ZZ|0\\rangle = |0\\rangle,\\; Z|1\\rangle = ZX|0\\rangle = iY|0\\rangle = -|1\\rangle$$\n",
    "\n",
    "Finally, we have $$| \\vec{b} \\rangle = \\bigotimes_{i=1}^N \\big(b_i X + (1-b_i) Z\\big) | \\vec{0} \\rangle$$ and we may drop the zero vector and use the functionality of PauliwordOp to manipulate quantum states. In this represenation, a quantum state is stored as an operator consisting of Paulis $X, Z$, which is implicitly applied to the zero (or vacuum) state. "
   ]
  },
  {
   "cell_type": "code",
   "execution_count": 1,
   "id": "b71a6aa8",
   "metadata": {},
   "outputs": [],
   "source": [
    "import numpy as np\n",
    "from symred.utils import unit_n_sphere_cartesian_coords\n",
    "from symred.symplectic_form import PauliwordOp, QuantumState, array_to_QuantumState\n",
    "from functools import cached_property\n",
    "from typing import Union"
   ]
  },
  {
   "cell_type": "markdown",
   "id": "14efa282",
   "metadata": {},
   "source": [
    "Firstly, note the correct phases under multiplication by a Pauli Y:"
   ]
  },
  {
   "cell_type": "code",
   "execution_count": 2,
   "id": "e5131b2d",
   "metadata": {},
   "outputs": [
    {
     "name": "stdout",
     "output_type": "stream",
     "text": [
      " 1.0000000000 |0> ->  0.0000000000+1.0000000000j |1>\n",
      " 1.0000000000 |1> ->  0.0000000000-1.0000000000j |0>\n"
     ]
    }
   ],
   "source": [
    "zero = QuantumState([[0]])\n",
    "one = QuantumState([[1]])\n",
    "Y = PauliwordOp(['Y'], [1])\n",
    "\n",
    "print(f'{zero} -> {Y * zero}')\n",
    "print(f'{one} -> {Y * one}')"
   ]
  },
  {
   "cell_type": "markdown",
   "id": "2e3a82d3",
   "metadata": {},
   "source": [
    "Now, let's see what happens when we apply the Hadamard gate to the zero state:"
   ]
  },
  {
   "cell_type": "code",
   "execution_count": 3,
   "id": "3a03866a",
   "metadata": {},
   "outputs": [
    {
     "name": "stdout",
     "output_type": "stream",
     "text": [
      "Zero state:  1.0000000000 |00>\n",
      "\n",
      "After application of the Hadamard gate:\n",
      "\n",
      " 0.5000000000+0.0000000000j |00> +\n",
      " 0.5000000000+0.0000000000j |01> +\n",
      " 0.5000000000+0.0000000000j |10> +\n",
      " 0.5000000000-0.0000000000j |11>\n"
     ]
    }
   ],
   "source": [
    "psi = QuantumState([[0,0]])\n",
    "had = PauliwordOp(['XZ','ZX','XX', 'ZZ'], np.ones(4)/2) # 2-qubit Hadamard gate decomposed over Paulis\n",
    "eq_superposition = had * psi\n",
    "print(f'Zero state: {psi}\\n')\n",
    "print(f'After application of the Hadamard gate:\\n\\n{eq_superposition}')"
   ]
  },
  {
   "cell_type": "markdown",
   "id": "bd6c7f78",
   "metadata": {},
   "source": [
    "Observe that the QuantumState is represented internally by its `state_op`, a PauliwordOp object that governs its behaviour under multiplication"
   ]
  },
  {
   "cell_type": "code",
   "execution_count": 4,
   "id": "6c007a11",
   "metadata": {},
   "outputs": [
    {
     "name": "stdout",
     "output_type": "stream",
     "text": [
      "0.5000000000+0.0000000000j ZZ +\n",
      "0.5000000000+0.0000000000j ZX +\n",
      "0.5000000000+0.0000000000j XZ +\n",
      "0.5000000000-0.0000000000j XX\n"
     ]
    }
   ],
   "source": [
    "print(eq_superposition.state_op)"
   ]
  },
  {
   "cell_type": "markdown",
   "id": "66c9bd60",
   "metadata": {},
   "source": [
    "Try evaluating expectation values for randomly generated state and Hermitian operators:"
   ]
  },
  {
   "cell_type": "code",
   "execution_count": 5,
   "id": "c09ee04b",
   "metadata": {},
   "outputs": [],
   "source": [
    "def random_state(num_qubits, num_terms):\n",
    "    \"\"\" Generates a random normalized QuantumState\n",
    "    \"\"\"\n",
    "    # random binary array with N columns, M rows\n",
    "    random_state = np.random.randint(0,2,(num_terms,num_qubits))\n",
    "    # random vector of coefficients\n",
    "    coeff_vec = (\n",
    "        np.random.rand(num_terms) + \n",
    "        np.random.rand(num_terms)*1j\n",
    "    )\n",
    "    return QuantumState(random_state, coeff_vec).normalize\n",
    "\n",
    "def random_herm_op(num_qubits, num_terms):\n",
    "    \"\"\" Generates a random PaulwordOp\n",
    "    \"\"\"\n",
    "    # random binary array with 2N columns, M rows\n",
    "    random_symp_mat = np.random.randint(0,2,(num_terms,num_qubits*2))\n",
    "    # random vector of coefficients\n",
    "    coeff_vec = np.random.rand(num_terms)\n",
    "    coeff_vec/=coeff_vec[::-1]\n",
    "    coeff_vec*=(2*np.random.randint(0,2,num_terms)-1)\n",
    "    return PauliwordOp(random_symp_mat, coeff_vec)"
   ]
  },
  {
   "cell_type": "code",
   "execution_count": 6,
   "id": "277acf81",
   "metadata": {},
   "outputs": [
    {
     "name": "stdout",
     "output_type": "stream",
     "text": [
      " 0.2430739504+0.0909935595j |0101> +\n",
      " 0.3324373365+0.9067086876j |0010>\n",
      "\n",
      " 0.3302040854+0.1350497740j |0101> +\n",
      " 0.7956724053+0.4895224652j |0001>\n"
     ]
    }
   ],
   "source": [
    "N = 4 # number of qubits\n",
    "M = 2 # number of terms\n",
    "\n",
    "psi_1 = random_state(N, M)\n",
    "psi_2 = random_state(N, M)\n",
    "\n",
    "print(psi_1)\n",
    "print()\n",
    "print(psi_2)"
   ]
  },
  {
   "cell_type": "code",
   "execution_count": 7,
   "id": "2c9aa59f",
   "metadata": {},
   "outputs": [
    {
     "name": "stdout",
     "output_type": "stream",
     "text": [
      " 0.5382674365+0.3311589050j |0001> +\n",
      " 0.2248917918+0.6133827913j |0010> +\n",
      " 0.3878190279+0.1529169101j |0101>\n",
      "\n",
      "Norm: (1.0000000000000002+0j)\n"
     ]
    }
   ],
   "source": [
    "psi = (psi_1 + psi_2).normalize\n",
    "print(psi)\n",
    "print()\n",
    "print('Norm:', psi.conjugate * psi)"
   ]
  },
  {
   "cell_type": "code",
   "execution_count": 8,
   "id": "bc1e9705",
   "metadata": {},
   "outputs": [
    {
     "name": "stdout",
     "output_type": "stream",
     "text": [
      "-0.2752208861+0.0000000000j XZZX +\n",
      "1.2070865378+0.0000000000j XYII +\n",
      "-40.9043454528+0.0000000000j IYIX +\n",
      "80.8677045434+0.0000000000j IZII +\n",
      "-0.4272038189+0.0000000000j IIZZ +\n",
      "0.6282262417+0.0000000000j ZXIZ +\n",
      "-0.0907285754+0.0000000000j IIIZ +\n",
      "-1.0000000000+0.0000000000j ZIZI +\n",
      "11.0218858381+0.0000000000j ZIYI +\n",
      "1.5917832361+0.0000000000j XXYY +\n",
      "-2.3408030449+0.0000000000j XZII +\n",
      "0.0123658759+0.0000000000j XIXI +\n",
      "-0.0244472803+0.0000000000j ZIII +\n",
      "0.8284410179+0.0000000000j IIXX +\n",
      "-3.6334451727+0.0000000000j ZXIX\n",
      "\n",
      "Expectation value <psi|op|psi> = (53.241045117643914-3.552713678800501e-15j)\n"
     ]
    }
   ],
   "source": [
    "op = random_herm_op(N, 15)\n",
    "print(op)\n",
    "print()\n",
    "print('Expectation value <psi|op|psi> =', psi.conjugate * op * psi)"
   ]
  },
  {
   "cell_type": "code",
   "execution_count": 9,
   "id": "a0cf21b6",
   "metadata": {},
   "outputs": [
    {
     "name": "stdout",
     "output_type": "stream",
     "text": [
      "-0.9034501904+12.8291366247j |0000> +\n",
      " 43.1984830467+27.0244086192j |0001> +\n",
      " 18.9274701149+50.6819793330j |0010> +\n",
      "-3.6499956451+5.9327222357j |0011> +\n",
      " 11.5900730308-23.2207248939j |0100> +\n",
      "-31.8966244003-12.6515369116j |0101> +\n",
      " 0.4625681153+0.5120258063j |0110> +\n",
      " 22.5874568687-7.1532472319j |0111> +\n",
      "-0.1453614568-0.0835568318j |1000> +\n",
      "-1.0753941108-1.2433089008j |1001> +\n",
      " 0.0908964362-1.1923977315j |1010> +\n",
      " 0.0685510665+0.1729108253j |1011> +\n",
      " 0.1067358965+0.0420859275j |1100> +\n",
      " 0.8660494893+1.9840561896j |1101> +\n",
      " 0.1163989721+0.7985970478j |1110> +\n",
      " 0.0047957220+0.0018909515j |1111>\n"
     ]
    }
   ],
   "source": [
    "op_psi = op * psi\n",
    "print(op_psi)"
   ]
  },
  {
   "cell_type": "code",
   "execution_count": 10,
   "id": "549954cf",
   "metadata": {},
   "outputs": [
    {
     "data": {
      "text/plain": [
       "(53.241045117643914+3.552713678800501e-15j)"
      ]
     },
     "execution_count": 10,
     "metadata": {},
     "output_type": "execute_result"
    }
   ],
   "source": [
    "psi.conjugate * op_psi"
   ]
  },
  {
   "cell_type": "markdown",
   "id": "bca48c97",
   "metadata": {},
   "source": [
    "It is also possible to convert from a $2^N$ dimensional statevector over $N$ qubits to a `QuantumState` object, via the `array_to_QuantumState` function:"
   ]
  },
  {
   "cell_type": "code",
   "execution_count": 11,
   "id": "bb741ebd",
   "metadata": {},
   "outputs": [
    {
     "name": "stdout",
     "output_type": "stream",
     "text": [
      " 0.4082482905 |0000000000> +\n",
      " 0.5773502692 |0011111010> +\n",
      " 0.7071067812 |0111110100>\n",
      "1.0\n"
     ]
    }
   ],
   "source": [
    "statevector = np.zeros(2**10)\n",
    "statevector[0]   = np.sqrt(1/6)\n",
    "statevector[250] = np.sqrt(2/6)\n",
    "statevector[500] = np.sqrt(3/6)\n",
    "psi = array_to_QuantumState(statevector)\n",
    "print(psi)\n",
    "print(psi.conjugate * psi)"
   ]
  }
 ],
 "metadata": {
  "kernelspec": {
   "display_name": "Python 3 (ipykernel)",
   "language": "python",
   "name": "python3"
  },
  "language_info": {
   "codemirror_mode": {
    "name": "ipython",
    "version": 3
   },
   "file_extension": ".py",
   "mimetype": "text/x-python",
   "name": "python",
   "nbconvert_exporter": "python",
   "pygments_lexer": "ipython3",
   "version": "3.8.8"
  }
 },
 "nbformat": 4,
 "nbformat_minor": 5
}
