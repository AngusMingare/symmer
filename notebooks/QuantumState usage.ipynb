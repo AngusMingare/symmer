{
 "cells": [
  {
   "cell_type": "markdown",
   "id": "c07b9d6d",
   "metadata": {},
   "source": [
    "# The `QuantumState` class\n",
    "\n",
    "Express an N-qubit quantum state as an array of N columns, where rows are binary bit values, complemented by a vector of coefficients. Note the similarity with the symplectic representation - indeed, the QuantumState class will infact set the above array as the X block in a PauliwordOp, with the Z block its complement.\n",
    "\n",
    "What we are doing here is writing $|0\\rangle = Z|0\\rangle$ and $|1\\rangle = X|0\\rangle$, which ensures correct phases when multiplying the state by Pauli operators, since\n",
    "\n",
    "$$X|0\\rangle = XZ|0\\rangle = -iY|0\\rangle = |1\\rangle,\\; X|1\\rangle = XX|0\\rangle = |0\\rangle$$\n",
    "$$Y|0\\rangle = YZ|0\\rangle = iX|0\\rangle = i|1\\rangle,\\; Y|1\\rangle = YX|0\\rangle = -iZ|0\\rangle = -i|0\\rangle$$\n",
    "$$Z|0\\rangle = ZZ|0\\rangle = |0\\rangle,\\; Z|1\\rangle = ZX|0\\rangle = iY|0\\rangle = -|1\\rangle$$\n",
    "\n",
    "Finally, we have $$| \\vec{b} \\rangle = \\bigotimes_{i=1}^N \\big(b_i X + (1-b_i) Z\\big) | \\vec{0} \\rangle$$ and we may drop the zero vector and use the functionality of PauliwordOp to manipulate quantum states. In this represenation, a quantum state is stored as an operator consisting of Paulis $X, Z$, which is implicitly applied to the zero (or vacuum) state. "
   ]
  },
  {
   "cell_type": "code",
   "execution_count": 1,
   "id": "b71a6aa8",
   "metadata": {},
   "outputs": [],
   "source": [
    "import numpy as np\n",
    "from symred.utils import unit_n_sphere_cartesian_coords\n",
    "from symred.symplectic_form import PauliwordOp, QuantumState\n",
    "from functools import cached_property\n",
    "from typing import Union\n",
    "\n",
    "def random_state(num_qubits, num_terms):\n",
    "    # random binary array with N columns, M rows\n",
    "    random_state = np.random.randint(0,2,(M,N))\n",
    "    # note the coefficient vector must be normalized\n",
    "    coeff_vec = (\n",
    "        unit_n_sphere_cartesian_coords(np.pi*np.random.rand(M-1)) + 0\n",
    "        #unit_n_sphere_cartesian_coords(np.pi*np.random.rand(M-1)) * 1j\n",
    "    )\n",
    "    return QuantumState(random_state, coeff_vec)"
   ]
  },
  {
   "cell_type": "code",
   "execution_count": 6,
   "id": "c09ee04b",
   "metadata": {},
   "outputs": [
    {
     "name": "stdout",
     "output_type": "stream",
     "text": [
      " 1.0000000000 |1>\n",
      " 0.0000000000-1.0000000000j |0>\n"
     ]
    }
   ],
   "source": [
    "psi = QuantumState(np.array([[1]]))\n",
    "Y = PauliwordOp(['Y'], [1])\n",
    "print(psi)\n",
    "print(Y*psi)"
   ]
  },
  {
   "cell_type": "code",
   "execution_count": 23,
   "id": "277acf81",
   "metadata": {},
   "outputs": [
    {
     "name": "stdout",
     "output_type": "stream",
     "text": [
      " 1.0000000000 |0010>\n",
      "\n",
      " 1.0000000000 |0110>\n",
      "\n",
      " 1.0000000000 |0000>\n"
     ]
    }
   ],
   "source": [
    "N = 4 # number of qubits\n",
    "M = 1 # number of terms\n",
    "\n",
    "psi_1 = random_state(N, M)\n",
    "psi_2 = random_state(N, M)\n",
    "psi_3 = random_state(N, M)\n",
    "\n",
    "print(psi_1)\n",
    "print()\n",
    "print(psi_2)\n",
    "print()\n",
    "print(psi_3)"
   ]
  },
  {
   "cell_type": "code",
   "execution_count": 24,
   "id": "2c9aa59f",
   "metadata": {},
   "outputs": [
    {
     "name": "stdout",
     "output_type": "stream",
     "text": [
      " 0.7071067812+0.0000000000j |0010> +\n",
      " 0.7071067812+0.0000000000j |0110>\n"
     ]
    }
   ],
   "source": [
    "print(psi_1 + psi_2)"
   ]
  },
  {
   "cell_type": "code",
   "execution_count": null,
   "id": "bc1e9705",
   "metadata": {},
   "outputs": [],
   "source": []
  },
  {
   "cell_type": "code",
   "execution_count": 27,
   "id": "ccf020cf",
   "metadata": {},
   "outputs": [
    {
     "name": "stdout",
     "output_type": "stream",
     "text": [
      " 0.7071067812+0.0000000000j |0000> +\n",
      " 0.5000000000+0.0000000000j |0010> +\n",
      " 0.5000000000+0.0000000000j |0110>\n",
      "\n",
      " 0.0000000000-0.2886751346j |0000> +\n",
      " 0.0000000000-0.2886751346j |0010> +\n",
      " 0.0000000000+0.4082482905j |0100> +\n",
      "-0.0000000000-0.2886751346j |0100> +\n",
      " 0.0000000000+0.2886751346j |0110> +\n",
      " 0.0000000000+0.4082482905j |0110> +\n",
      " 0.2886751346-0.0000000000j |1001> +\n",
      " 0.2886751346-0.0000000000j |1101> +\n",
      " 0.4082482905+0.0000000000j |1111>\n"
     ]
    }
   ],
   "source": [
    "op  = PauliwordOp(['IXYZ', 'XXXX', 'IYII'],[1, 1,1])\n",
    "psi = psi_1 + psi_2 + psi_3\n",
    "print(psi)\n",
    "print()\n",
    "new_state = op*psi\n",
    "print(new_state)"
   ]
  },
  {
   "cell_type": "code",
   "execution_count": 33,
   "id": "901f67c1",
   "metadata": {},
   "outputs": [
    {
     "ename": "TypeError",
     "evalue": "unsupported operand type(s) for *: 'QuantumState' and 'PauliwordOp'",
     "output_type": "error",
     "traceback": [
      "\u001b[0;31m---------------------------------------------------------------------------\u001b[0m",
      "\u001b[0;31mTypeError\u001b[0m                                 Traceback (most recent call last)",
      "\u001b[0;32m/tmp/ipykernel_12366/2937920115.py\u001b[0m in \u001b[0;36m<module>\u001b[0;34m\u001b[0m\n\u001b[0;32m----> 1\u001b[0;31m \u001b[0mpsi\u001b[0m\u001b[0;34m.\u001b[0m\u001b[0mconjugate\u001b[0m \u001b[0;34m*\u001b[0m \u001b[0mop\u001b[0m\u001b[0;34m\u001b[0m\u001b[0;34m\u001b[0m\u001b[0m\n\u001b[0m",
      "\u001b[0;31mTypeError\u001b[0m: unsupported operand type(s) for *: 'QuantumState' and 'PauliwordOp'"
     ]
    }
   ],
   "source": [
    "psi.conjugate * op"
   ]
  },
  {
   "cell_type": "code",
   "execution_count": null,
   "id": "601abe93",
   "metadata": {},
   "outputs": [],
   "source": []
  },
  {
   "cell_type": "code",
   "execution_count": null,
   "id": "6f92b2f5",
   "metadata": {},
   "outputs": [],
   "source": []
  }
 ],
 "metadata": {
  "kernelspec": {
   "display_name": "Python 3 (ipykernel)",
   "language": "python",
   "name": "python3"
  },
  "language_info": {
   "codemirror_mode": {
    "name": "ipython",
    "version": 3
   },
   "file_extension": ".py",
   "mimetype": "text/x-python",
   "name": "python",
   "nbconvert_exporter": "python",
   "pygments_lexer": "ipython3",
   "version": "3.8.8"
  }
 },
 "nbformat": 4,
 "nbformat_minor": 5
}
