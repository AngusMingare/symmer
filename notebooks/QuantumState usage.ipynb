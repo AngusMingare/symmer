{
 "cells": [
  {
   "cell_type": "markdown",
   "id": "c07b9d6d",
   "metadata": {},
   "source": [
    "# The `QuantumState` class\n",
    "\n",
    "Express an N-qubit quantum state as an array of N columns, where rows are binary bit values, complemented by a vector of coefficients. Note the similarity with the symplectic representation - indeed, the QuantumState class will infact set the above array as the X block in a PauliwordOp, with the Z block its complement.\n",
    "\n",
    "What we are doing here is writing $|0\\rangle = Z|0\\rangle$ and $|1\\rangle = X|0\\rangle$, which ensures correct phases when multiplying the state by Pauli operators, since\n",
    "\n",
    "$$X|0\\rangle = XZ|0\\rangle = -iY|0\\rangle = |1\\rangle,\\; X|1\\rangle = XX|0\\rangle = |0\\rangle$$\n",
    "$$Y|0\\rangle = YZ|0\\rangle = iX|0\\rangle = i|1\\rangle,\\; Y|1\\rangle = YX|0\\rangle = -iZ|0\\rangle = -i|0\\rangle$$\n",
    "$$Z|0\\rangle = ZZ|0\\rangle = |0\\rangle,\\; Z|1\\rangle = ZX|0\\rangle = iY|0\\rangle = -|1\\rangle$$\n",
    "\n",
    "Finally, we have $$| \\vec{b} \\rangle = \\bigotimes_{i=1}^N \\big(b_i X + (1-b_i) Z\\big) | \\vec{0} \\rangle$$ and we may drop the zero vector and use the functionality of PauliwordOp to manipulate quantum states. In this represenation, a quantum state is stored as an operator consisting of Paulis $X, Z$, which is implicitly applied to the zero (or vacuum) state. "
   ]
  },
  {
   "cell_type": "code",
   "execution_count": 1,
   "id": "b71a6aa8",
   "metadata": {},
   "outputs": [],
   "source": [
    "import numpy as np\n",
    "from symmer.symplectic import PauliwordOp, QuantumState"
   ]
  },
  {
   "cell_type": "markdown",
   "id": "14efa282",
   "metadata": {},
   "source": [
    "Firstly, note the correct phases under multiplication by a Pauli Y:"
   ]
  },
  {
   "cell_type": "code",
   "execution_count": 2,
   "id": "e5131b2d",
   "metadata": {},
   "outputs": [
    {
     "name": "stdout",
     "output_type": "stream",
     "text": [
      " 1.000+0.000j |0> ->  0.000+1.000j |1>\n",
      " 1.000+0.000j |1> ->  0.000-1.000j |0>\n"
     ]
    }
   ],
   "source": [
    "zero = QuantumState([[0]])\n",
    "one = QuantumState([[1]])\n",
    "Y = PauliwordOp.from_list(['Y'], [1])\n",
    "\n",
    "print(f'{zero} -> {Y * zero}')\n",
    "print(f'{one} -> {Y * one}')"
   ]
  },
  {
   "cell_type": "markdown",
   "id": "2e3a82d3",
   "metadata": {},
   "source": [
    "Now, let's see what happens when we apply the Hadamard gate to the zero state:"
   ]
  },
  {
   "cell_type": "code",
   "execution_count": 3,
   "id": "3a03866a",
   "metadata": {},
   "outputs": [
    {
     "name": "stdout",
     "output_type": "stream",
     "text": [
      "Zero state:  1.000+0.000j |00>\n",
      "\n",
      "After application of the Hadamard gate:\n",
      "\n",
      " 0.500+0.000j |00> +\n",
      " 0.500+0.000j |01> +\n",
      " 0.500+0.000j |10> +\n",
      " 0.500-0.000j |11>\n"
     ]
    }
   ],
   "source": [
    "psi = QuantumState([[0,0]])\n",
    "had = PauliwordOp.from_list(['XZ','ZX','XX', 'ZZ'], np.ones(4)/2) # 2-qubit Hadamard gate decomposed over Paulis\n",
    "eq_superposition = had * psi\n",
    "print(f'Zero state: {psi}\\n')\n",
    "print(f'After application of the Hadamard gate:\\n\\n{eq_superposition}')"
   ]
  },
  {
   "cell_type": "markdown",
   "id": "bd6c7f78",
   "metadata": {},
   "source": [
    "Observe that the QuantumState is represented internally by its `state_op`, a PauliwordOp object that governs its behaviour under multiplication"
   ]
  },
  {
   "cell_type": "code",
   "execution_count": 4,
   "id": "6c007a11",
   "metadata": {},
   "outputs": [
    {
     "name": "stdout",
     "output_type": "stream",
     "text": [
      " 0.500+0.000j ZZ +\n",
      " 0.500+0.000j ZX +\n",
      " 0.500+0.000j XZ +\n",
      " 0.500-0.000j XX\n"
     ]
    }
   ],
   "source": [
    "print(eq_superposition.state_op)"
   ]
  },
  {
   "cell_type": "markdown",
   "id": "66c9bd60",
   "metadata": {},
   "source": [
    "Try evaluating expectation values for randomly generated state and Hermitian operators:"
   ]
  },
  {
   "cell_type": "code",
   "execution_count": 5,
   "id": "c09ee04b",
   "metadata": {},
   "outputs": [],
   "source": [
    "def random_state(num_qubits, num_terms):\n",
    "    \"\"\" Generates a random normalized QuantumState\n",
    "    \"\"\"\n",
    "    # random binary array with N columns, M rows\n",
    "    random_state = np.random.randint(0,2,(num_terms,num_qubits))\n",
    "    # random vector of coefficients\n",
    "    coeff_vec = (\n",
    "        np.random.rand(num_terms) + \n",
    "        np.random.rand(num_terms)*1j\n",
    "    )\n",
    "    return QuantumState(random_state, coeff_vec).normalize\n",
    "\n",
    "def random_herm_op(num_qubits, num_terms):\n",
    "    \"\"\" Generates a random PaulwordOp\n",
    "    \"\"\"\n",
    "    # random binary array with 2N columns, M rows\n",
    "    random_symp_mat = np.random.randint(0,2,(num_terms,num_qubits*2))\n",
    "    # random vector of coefficients\n",
    "    coeff_vec = np.random.rand(num_terms)\n",
    "    coeff_vec/=coeff_vec[::-1]\n",
    "    coeff_vec*=(2*np.random.randint(0,2,num_terms)-1)\n",
    "    return PauliwordOp(random_symp_mat, coeff_vec)"
   ]
  },
  {
   "cell_type": "code",
   "execution_count": 6,
   "id": "277acf81",
   "metadata": {},
   "outputs": [
    {
     "name": "stdout",
     "output_type": "stream",
     "text": [
      " 0.049+0.282j |0101010011> +\n",
      " 0.035+0.262j |0101000100> +\n",
      " 0.046+0.095j |1001001101> +\n",
      " 0.170+0.277j |1010100111> +\n",
      " 0.051+0.271j |1001101011> +\n",
      " 0.039+0.327j |0011001011> +\n",
      " 0.298+0.226j |1010011000> +\n",
      " 0.140+0.158j |1011001010> +\n",
      " 0.362+0.035j |0111000000> +\n",
      " 0.327+0.352j |1001011001>\n",
      "\n",
      " 0.295+0.207j |0110100001> +\n",
      " 0.239+0.245j |1001011100> +\n",
      " 0.198+0.163j |0100100011> +\n",
      " 0.047+0.004j |0000001010> +\n",
      " 0.263+0.248j |0111010010> +\n",
      " 0.363+0.087j |1110011001> +\n",
      " 0.383+0.328j |0010001001> +\n",
      " 0.212+0.269j |1000110001> +\n",
      " 0.032+0.068j |1000100111> +\n",
      " 0.130+0.143j |1110000000>\n"
     ]
    }
   ],
   "source": [
    "N = 10 # number of qubits\n",
    "M = 10 # number of terms\n",
    "\n",
    "psi_1 = random_state(N, M)\n",
    "psi_2 = random_state(N, M)\n",
    "\n",
    "print(psi_1)\n",
    "print()\n",
    "print(psi_2)"
   ]
  },
  {
   "cell_type": "code",
   "execution_count": 7,
   "id": "2c9aa59f",
   "metadata": {},
   "outputs": [
    {
     "name": "stdout",
     "output_type": "stream",
     "text": [
      " 0.033+0.003j |0000001010> +\n",
      " 0.271+0.232j |0010001001> +\n",
      " 0.028+0.231j |0011001011> +\n",
      " 0.140+0.115j |0100100011> +\n",
      " 0.025+0.185j |0101000100> +\n",
      " 0.034+0.199j |0101010011> +\n",
      " 0.208+0.146j |0110100001> +\n",
      " 0.256+0.025j |0111000000> +\n",
      " 0.186+0.176j |0111010010> +\n",
      " 0.023+0.048j |1000100111> +\n",
      " 0.150+0.190j |1000110001> +\n",
      " 0.032+0.067j |1001001101> +\n",
      " 0.231+0.249j |1001011001> +\n",
      " 0.169+0.174j |1001011100> +\n",
      " 0.036+0.191j |1001101011> +\n",
      " 0.211+0.160j |1010011000> +\n",
      " 0.121+0.196j |1010100111> +\n",
      " 0.099+0.112j |1011001010> +\n",
      " 0.092+0.101j |1110000000> +\n",
      " 0.257+0.061j |1110011001>\n",
      "\n",
      "Norm: (0.9999999999999998+0j)\n"
     ]
    }
   ],
   "source": [
    "psi = (psi_1 + psi_2).normalize\n",
    "print(psi)\n",
    "print()\n",
    "print('Norm:', psi.dagger * psi)"
   ]
  },
  {
   "cell_type": "code",
   "execution_count": 8,
   "id": "bc1e9705",
   "metadata": {},
   "outputs": [
    {
     "name": "stdout",
     "output_type": "stream",
     "text": [
      " 0.089+0.000j IIYXXIZYXI +\n",
      "-0.588+0.000j IIYYYIIYYZ +\n",
      " 5.463+0.000j XXYXZYZXXI +\n",
      " 0.760+0.000j XZIIXZZXZY +\n",
      "-6.054+0.000j IZXZZZYZYI +\n",
      "-0.165+0.000j IIYXZIIIZZ +\n",
      "-1.316+0.000j YZXYXZIZYI +\n",
      "-0.183+0.000j XXZXIYZYXX +\n",
      " 1.702+0.000j IXIZYIZIII +\n",
      " 11.292+0.000j YIXXXYYYYZ\n",
      "\n",
      "Expectation value <psi|op|psi> = (0.11446684290031195+1.3877787807814457e-17j)\n"
     ]
    }
   ],
   "source": [
    "op = random_herm_op(N, 10)\n",
    "print(op)\n",
    "print()\n",
    "print('Expectation value <psi|op|psi> =', psi.dagger * op * psi)"
   ]
  },
  {
   "cell_type": "markdown",
   "id": "bca48c97",
   "metadata": {},
   "source": [
    "It is also possible to convert from a $2^N$ dimensional statevector over $N$ qubits to a `QuantumState` object, via the `array_to_QuantumState` function:"
   ]
  },
  {
   "cell_type": "code",
   "execution_count": 9,
   "id": "bb741ebd",
   "metadata": {},
   "outputs": [
    {
     "name": "stdout",
     "output_type": "stream",
     "text": [
      " 0.408+0.000j |0000000000> +\n",
      " 0.577+0.000j |0011111010> +\n",
      " 0.707+0.000j |0111110100>\n",
      "(1+0j)\n"
     ]
    }
   ],
   "source": [
    "statevector = np.zeros(2**10).reshape([-1,1])\n",
    "statevector[0]   = np.sqrt(1/6)\n",
    "statevector[250] = np.sqrt(2/6)\n",
    "statevector[500] = np.sqrt(3/6)\n",
    "psi = QuantumState.from_array(statevector)\n",
    "print(psi)\n",
    "print(psi.dagger * psi)"
   ]
  },
  {
   "cell_type": "code",
   "execution_count": null,
   "id": "80256de7",
   "metadata": {},
   "outputs": [],
   "source": []
  },
  {
   "cell_type": "markdown",
   "id": "cfd71f22",
   "metadata": {},
   "source": [
    "# plotting probabillity amplitudes of quantum state"
   ]
  },
  {
   "cell_type": "code",
   "execution_count": 10,
   "id": "8b6fe4c7",
   "metadata": {},
   "outputs": [
    {
     "name": "stdout",
     "output_type": "stream",
     "text": [
      " 0.192-0.176j |000> +\n",
      "-0.347-0.063j |001> +\n",
      "-0.473+0.131j |010> +\n",
      "-0.012+0.033j |011> +\n",
      " 0.092-0.528j |100> +\n",
      "-0.217-0.078j |101> +\n",
      " 0.105-0.244j |110> +\n",
      "-0.390+0.048j |111>\n"
     ]
    }
   ],
   "source": [
    "%matplotlib inline\n",
    "random_state = QuantumState.haar_random(3, vec_type='ket')\n",
    "print(random_state)"
   ]
  },
  {
   "cell_type": "code",
   "execution_count": 11,
   "id": "2fdfbaf2",
   "metadata": {},
   "outputs": [
    {
     "data": {
      "image/png": "[encoded data removed]",
      "text/plain": [
       "<Figure size 640x480 with 1 Axes>"
      ]
     },
     "metadata": {},
     "output_type": "display_data"
    }
   ],
   "source": [
    "ax = random_state.plot_state()"
   ]
  },
  {
   "cell_type": "code",
   "execution_count": 12,
   "id": "267f7600",
   "metadata": {},
   "outputs": [
    {
     "data": {
      "image/png": "[encoded data removed]",
      "text/plain": [
       "<Figure size 640x480 with 1 Axes>"
      ]
     },
     "metadata": {},
     "output_type": "display_data"
    }
   ],
   "source": [
    "%matplotlib inline\n",
    "random_large_state = QuantumState.haar_random(10, vec_type='ket')\n",
    "ax2 = random_large_state.plot_state()"
   ]
  },
  {
   "cell_type": "code",
   "execution_count": null,
   "id": "93d51cba",
   "metadata": {},
   "outputs": [],
   "source": []
  },
  {
   "cell_type": "code",
   "execution_count": null,
   "id": "96b34b95",
   "metadata": {},
   "outputs": [],
   "source": []
  }
 ],
 "metadata": {
  "kernelspec": {
   "display_name": "Python 3 (ipykernel)",
   "language": "python",
   "name": "python3"
  },
  "language_info": {
   "codemirror_mode": {
    "name": "ipython",
    "version": 3
   },
   "file_extension": ".py",
   "mimetype": "text/x-python",
   "name": "python",
   "nbconvert_exporter": "python",
   "pygments_lexer": "ipython3",
   "version": "3.7.13"
  }
 },
 "nbformat": 4,
 "nbformat_minor": 5
}
