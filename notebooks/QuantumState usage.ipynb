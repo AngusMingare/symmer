{
 "cells": [
  {
   "cell_type": "markdown",
   "id": "c07b9d6d",
   "metadata": {},
   "source": [
    "# The `QuantumState` class\n",
    "\n",
    "Express an N-qubit quantum state as an array of N columns, where rows are binary bit values, complemented by a vector of coefficients. Note the similarity with the symplectic representation - indeed, the QuantumState class will infact set the above array as the X block in a PauliwordOp, with the Z block its complement.\n",
    "\n",
    "What we are doing here is writing $|0\\rangle = Z|0\\rangle$ and $|1\\rangle = X|0\\rangle$, which ensures correct phases when multiplying the state by Pauli operators, since\n",
    "\n",
    "$$X|0\\rangle = XZ|0\\rangle = -iY|0\\rangle = |1\\rangle,\\; X|1\\rangle = XX|0\\rangle = |0\\rangle$$\n",
    "$$Y|0\\rangle = YZ|0\\rangle = iX|0\\rangle = i|1\\rangle,\\; Y|1\\rangle = YX|0\\rangle = -iZ|0\\rangle = -i|0\\rangle$$\n",
    "$$Z|0\\rangle = ZZ|0\\rangle = |0\\rangle,\\; Z|1\\rangle = ZX|0\\rangle = iY|0\\rangle = -|1\\rangle$$\n",
    "\n",
    "Finally, we have $$| \\vec{b} \\rangle = \\bigotimes_{i=1}^N \\big(b_i X + (1-b_i) Z\\big) | \\vec{0} \\rangle$$ and we may drop the zero vector and use the functionality of PauliwordOp to manipulate quantum states. In this represenation, a quantum state is stored as an operator consisting of Paulis $X, Z$, which is implicitly applied to the zero (or vacuum) state. "
   ]
  },
  {
   "cell_type": "code",
   "execution_count": 1,
   "id": "b71a6aa8",
   "metadata": {},
   "outputs": [],
   "source": [
    "import numpy as np\n",
    "from symmer.utils import unit_n_sphere_cartesian_coords\n",
    "from symmer.symplectic import PauliwordOp, QuantumState, array_to_QuantumState"
   ]
  },
  {
   "cell_type": "markdown",
   "id": "14efa282",
   "metadata": {},
   "source": [
    "Firstly, note the correct phases under multiplication by a Pauli Y:"
   ]
  },
  {
   "cell_type": "code",
   "execution_count": 3,
   "id": "e5131b2d",
   "metadata": {},
   "outputs": [
    {
     "name": "stdout",
     "output_type": "stream",
     "text": [
      " 1.000 |0> ->  0.000+1.000j |1>\n",
      " 1.000 |1> ->  0.000-1.000j |0>\n"
     ]
    }
   ],
   "source": [
    "zero = QuantumState([[0]])\n",
    "one = QuantumState([[1]])\n",
    "Y = PauliwordOp.from_list(['Y'], [1])\n",
    "\n",
    "print(f'{zero} -> {Y * zero}')\n",
    "print(f'{one} -> {Y * one}')"
   ]
  },
  {
   "cell_type": "markdown",
   "id": "2e3a82d3",
   "metadata": {},
   "source": [
    "Now, let's see what happens when we apply the Hadamard gate to the zero state:"
   ]
  },
  {
   "cell_type": "code",
   "execution_count": 6,
   "id": "3a03866a",
   "metadata": {},
   "outputs": [
    {
     "name": "stdout",
     "output_type": "stream",
     "text": [
      "Zero state:  1.000 |00>\n",
      "\n",
      "After application of the Hadamard gate:\n",
      "\n",
      " 0.500+0.000j |00> +\n",
      " 0.500+0.000j |01> +\n",
      " 0.500+0.000j |10> +\n",
      " 0.500-0.000j |11>\n"
     ]
    }
   ],
   "source": [
    "psi = QuantumState([[0,0]])\n",
    "had = PauliwordOp.from_list(['XZ','ZX','XX', 'ZZ'], np.ones(4)/2) # 2-qubit Hadamard gate decomposed over Paulis\n",
    "eq_superposition = had * psi\n",
    "print(f'Zero state: {psi}\\n')\n",
    "print(f'After application of the Hadamard gate:\\n\\n{eq_superposition}')"
   ]
  },
  {
   "cell_type": "markdown",
   "id": "bd6c7f78",
   "metadata": {},
   "source": [
    "Observe that the QuantumState is represented internally by its `state_op`, a PauliwordOp object that governs its behaviour under multiplication"
   ]
  },
  {
   "cell_type": "code",
   "execution_count": 7,
   "id": "6c007a11",
   "metadata": {},
   "outputs": [
    {
     "name": "stdout",
     "output_type": "stream",
     "text": [
      " 0.500+0.000j ZZ +\n",
      " 0.500+0.000j ZX +\n",
      " 0.500+0.000j XZ +\n",
      " 0.500-0.000j XX\n"
     ]
    }
   ],
   "source": [
    "print(eq_superposition.state_op)"
   ]
  },
  {
   "cell_type": "markdown",
   "id": "66c9bd60",
   "metadata": {},
   "source": [
    "Try evaluating expectation values for randomly generated state and Hermitian operators:"
   ]
  },
  {
   "cell_type": "code",
   "execution_count": 8,
   "id": "c09ee04b",
   "metadata": {},
   "outputs": [],
   "source": [
    "def random_state(num_qubits, num_terms):\n",
    "    \"\"\" Generates a random normalized QuantumState\n",
    "    \"\"\"\n",
    "    # random binary array with N columns, M rows\n",
    "    random_state = np.random.randint(0,2,(num_terms,num_qubits))\n",
    "    # random vector of coefficients\n",
    "    coeff_vec = (\n",
    "        np.random.rand(num_terms) + \n",
    "        np.random.rand(num_terms)*1j\n",
    "    )\n",
    "    return QuantumState(random_state, coeff_vec).normalize\n",
    "\n",
    "def random_herm_op(num_qubits, num_terms):\n",
    "    \"\"\" Generates a random PaulwordOp\n",
    "    \"\"\"\n",
    "    # random binary array with 2N columns, M rows\n",
    "    random_symp_mat = np.random.randint(0,2,(num_terms,num_qubits*2))\n",
    "    # random vector of coefficients\n",
    "    coeff_vec = np.random.rand(num_terms)\n",
    "    coeff_vec/=coeff_vec[::-1]\n",
    "    coeff_vec*=(2*np.random.randint(0,2,num_terms)-1)\n",
    "    return PauliwordOp(random_symp_mat, coeff_vec)"
   ]
  },
  {
   "cell_type": "code",
   "execution_count": 9,
   "id": "277acf81",
   "metadata": {},
   "outputs": [
    {
     "name": "stdout",
     "output_type": "stream",
     "text": [
      " 0.345+0.112j |0001011110> +\n",
      " 0.273+0.266j |1110111001> +\n",
      " 0.049+0.063j |1000101011> +\n",
      " 0.321+0.301j |1001101110> +\n",
      " 0.242+0.063j |0110001111> +\n",
      " 0.065+0.090j |1001111011> +\n",
      " 0.119+0.318j |1001010000> +\n",
      " 0.313+0.026j |1001000010> +\n",
      " 0.332+0.007j |1111101000> +\n",
      " 0.185+0.300j |0011111000>\n",
      "\n",
      " 0.361+0.126j |1001010000> +\n",
      " 0.274+0.056j |0000010111> +\n",
      " 0.125+0.229j |1100010000> +\n",
      " 0.154+0.239j |0110100101> +\n",
      " 0.320+0.149j |1011011011> +\n",
      " 0.059+0.044j |0001111001> +\n",
      " 0.174+0.243j |1101011011> +\n",
      " 0.369+0.318j |0110001110> +\n",
      " 0.056+0.338j |0000111111> +\n",
      " 0.180+0.140j |1111010100>\n"
     ]
    }
   ],
   "source": [
    "N = 10 # number of qubits\n",
    "M = 10 # number of terms\n",
    "\n",
    "psi_1 = random_state(N, M)\n",
    "psi_2 = random_state(N, M)\n",
    "\n",
    "print(psi_1)\n",
    "print()\n",
    "print(psi_2)"
   ]
  },
  {
   "cell_type": "code",
   "execution_count": 10,
   "id": "2c9aa59f",
   "metadata": {},
   "outputs": [
    {
     "name": "stdout",
     "output_type": "stream",
     "text": [
      " 0.186+0.038j |0000010111> +\n",
      " 0.038+0.230j |0000111111> +\n",
      " 0.235+0.076j |0001011110> +\n",
      " 0.040+0.030j |0001111001> +\n",
      " 0.126+0.204j |0011111000> +\n",
      " 0.251+0.216j |0110001110> +\n",
      " 0.165+0.043j |0110001111> +\n",
      " 0.104+0.162j |0110100101> +\n",
      " 0.033+0.043j |1000101011> +\n",
      " 0.213+0.018j |1001000010> +\n",
      " 0.326+0.302j |1001010000> +\n",
      " 0.218+0.205j |1001101110> +\n",
      " 0.044+0.061j |1001111011> +\n",
      " 0.217+0.102j |1011011011> +\n",
      " 0.085+0.155j |1100010000> +\n",
      " 0.118+0.165j |1101011011> +\n",
      " 0.185+0.181j |1110111001> +\n",
      " 0.122+0.095j |1111010100> +\n",
      " 0.225+0.005j |1111101000>\n",
      "\n",
      "Norm: (1+0j)\n"
     ]
    }
   ],
   "source": [
    "psi = (psi_1 + psi_2).normalize\n",
    "print(psi)\n",
    "print()\n",
    "print('Norm:', psi.conjugate * psi)"
   ]
  },
  {
   "cell_type": "code",
   "execution_count": 11,
   "id": "bc1e9705",
   "metadata": {},
   "outputs": [
    {
     "name": "stdout",
     "output_type": "stream",
     "text": [
      "-1.799+0.000j YXZIZYXXZZ +\n",
      " 0.721+0.000j YYIYYIZXZX +\n",
      " 0.189+0.000j ZZZZXXZIZI +\n",
      " 0.424+0.000j XZIIXYXIZZ +\n",
      "-25.584+0.000j XZYXIYIXII +\n",
      " 0.039+0.000j IXIIIXZXIY +\n",
      " 2.361+0.000j YIZIZZZXXX +\n",
      " 5.289+0.000j YZZYYXIYXZ +\n",
      "-1.387+0.000j ZZYZXXYYYY +\n",
      " 0.556+0.000j ZIIIZXIIIX\n",
      "\n",
      "Expectation value <psi|op|psi> = (1.3579609771205203+2.220446049250313e-16j)\n"
     ]
    }
   ],
   "source": [
    "op = random_herm_op(N, 10)\n",
    "print(op)\n",
    "print()\n",
    "print('Expectation value <psi|op|psi> =', psi.conjugate * op * psi)"
   ]
  },
  {
   "cell_type": "markdown",
   "id": "bca48c97",
   "metadata": {},
   "source": [
    "It is also possible to convert from a $2^N$ dimensional statevector over $N$ qubits to a `QuantumState` object, via the `array_to_QuantumState` function:"
   ]
  },
  {
   "cell_type": "code",
   "execution_count": 12,
   "id": "bb741ebd",
   "metadata": {},
   "outputs": [
    {
     "name": "stdout",
     "output_type": "stream",
     "text": [
      " 0.408 |0000000000> +\n",
      " 0.577 |0011111010> +\n",
      " 0.707 |0111110100>\n",
      "1.0\n"
     ]
    }
   ],
   "source": [
    "statevector = np.zeros(2**10)\n",
    "statevector[0]   = np.sqrt(1/6)\n",
    "statevector[250] = np.sqrt(2/6)\n",
    "statevector[500] = np.sqrt(3/6)\n",
    "psi = array_to_QuantumState(statevector)\n",
    "print(psi)\n",
    "print(psi.conjugate * psi)"
   ]
  },
  {
   "cell_type": "code",
   "execution_count": 17,
   "id": "3dbda28d",
   "metadata": {},
   "outputs": [
    {
     "data": {
      "text/plain": [
       "<4x4 sparse matrix of type '<class 'numpy.complex128'>'\n",
       "\twith 16 stored elements in Compressed Sparse Row format>"
      ]
     },
     "execution_count": 17,
     "metadata": {},
     "output_type": "execute_result"
    }
   ],
   "source": []
  },
  {
   "cell_type": "code",
   "execution_count": 25,
   "id": "038c4dac",
   "metadata": {},
   "outputs": [
    {
     "data": {
      "text/plain": [
       " 0.707+0.000j |0> +\n",
       " 0.707+0.000j |1>"
      ]
     },
     "execution_count": 25,
     "metadata": {},
     "output_type": "execute_result"
    }
   ],
   "source": [
    "PauliwordOp.from_matrix(np.array([[1,1],[1,-1]])) * (1/np.sqrt(2)) * QuantumState([[0]])"
   ]
  },
  {
   "cell_type": "code",
   "execution_count": null,
   "id": "b3db4ee5",
   "metadata": {},
   "outputs": [],
   "source": []
  }
 ],
 "metadata": {
  "kernelspec": {
   "display_name": "Python 3 (ipykernel)",
   "language": "python",
   "name": "python3"
  },
  "language_info": {
   "codemirror_mode": {
    "name": "ipython",
    "version": 3
   },
   "file_extension": ".py",
   "mimetype": "text/x-python",
   "name": "python",
   "nbconvert_exporter": "python",
   "pygments_lexer": "ipython3",
   "version": "3.8.8"
  }
 },
 "nbformat": 4,
 "nbformat_minor": 5
}
