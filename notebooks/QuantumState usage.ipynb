{
 "cells": [
  {
   "cell_type": "markdown",
   "id": "c07b9d6d",
   "metadata": {},
   "source": [
    "# The `QuantumState` class\n",
    "\n",
    "Express an N-qubit quantum state as an array of N columns, where rows are binary bit values, complemented by a vector of coefficients. Note the similarity with the symplectic representation - indeed, the QuantumState class will infact set the above array as the X block in a PauliwordOp, with the Z block an array of 1's with the same dimension. \n",
    "\n",
    "What we are doing here is writing $|0\\rangle = Z|0\\rangle$ and $|1\\rangle = X|0\\rangle$, which ensures correct phases when multiplying the state by Pauli operators, since\n",
    "\n",
    "$$X|0\\rangle = XZ|0\\rangle = -iY|0\\rangle = |1\\rangle,\\; X|1\\rangle = XX|0\\rangle = |0\\rangle$$\n",
    "$$Y|0\\rangle = YZ|0\\rangle = iX|0\\rangle = i|1\\rangle,\\; Y|1\\rangle = YX|0\\rangle = -iZ|0\\rangle = -i|0\\rangle$$\n",
    "$$Z|0\\rangle = ZZ|0\\rangle = |0\\rangle,\\; Z|1\\rangle = ZX|0\\rangle = iY|0\\rangle = -|1\\rangle$$\n",
    "\n",
    "Finally, we have $$| \\vec{b} \\rangle = \\bigotimes_{i=1}^N \\big(b_i X + (1-b_i) Z\\big) | \\vec{0} \\rangle$$ and we may drop the zero vector and use the functionality of PauliwordOp to manipulate quantum states. In this represenation, a quantum state is stored as an operator consisting of Paulis $X, Z$, which is implicitly applied to the zero (or vacuum) state. "
   ]
  },
  {
   "cell_type": "code",
   "execution_count": 1,
   "id": "b71a6aa8",
   "metadata": {},
   "outputs": [],
   "source": [
    "import numpy as np\n",
    "from symred.utils import unit_n_sphere_cartesian_coords\n",
    "from symred.symplectic_form import PauliwordOp, QuantumState\n",
    "from functools import cached_property\n",
    "from typing import Union\n",
    "\n",
    "def random_state(num_qubits, num_terms):\n",
    "    # random binary array with N columns, M rows\n",
    "    random_state = np.random.randint(0,2,(M,N))\n",
    "    # note the coefficient vector must be normalized\n",
    "    coeff_vec = 1j* unit_n_sphere_cartesian_coords(np.pi*np.random.rand(M-1))\n",
    "    return QuantumState(random_state, coeff_vec)"
   ]
  },
  {
   "cell_type": "code",
   "execution_count": null,
   "id": "c09ee04b",
   "metadata": {},
   "outputs": [],
   "source": []
  },
  {
   "cell_type": "code",
   "execution_count": 2,
   "id": "277acf81",
   "metadata": {},
   "outputs": [
    {
     "name": "stdout",
     "output_type": "stream",
     "text": [
      "-0.0000000000-0.6669512198j |01> +\n",
      " 0.0000000000+0.7451013826j |11>\n",
      "\n",
      "-0.0000000000-0.3777189565j |11> +\n",
      " 0.0000000000+0.9259202935j |11>\n"
     ]
    },
    {
     "data": {
      "text/plain": [
       "(None, None, None)"
      ]
     },
     "execution_count": 2,
     "metadata": {},
     "output_type": "execute_result"
    }
   ],
   "source": [
    "N = 2 # number of qubits\n",
    "M = 2 # number of terms\n",
    "\n",
    "psi_1 = random_state(N, M)\n",
    "psi_2 = random_state(N, M)\n",
    "\n",
    "print(psi_1), print(),  print(psi_2)"
   ]
  },
  {
   "cell_type": "code",
   "execution_count": 3,
   "id": "2c9aa59f",
   "metadata": {},
   "outputs": [
    {
     "name": "stdout",
     "output_type": "stream",
     "text": [
      "-0.0000000000-0.6669512198j |01> +\n",
      " 0.0000000000+1.2933027196j |11>\n"
     ]
    }
   ],
   "source": [
    "print(psi_1 + psi_2)"
   ]
  },
  {
   "cell_type": "code",
   "execution_count": 9,
   "id": "bc1e9705",
   "metadata": {},
   "outputs": [],
   "source": [
    "XX = PauliwordOp(['XX'],[1])"
   ]
  },
  {
   "cell_type": "code",
   "execution_count": 12,
   "id": "ccf020cf",
   "metadata": {},
   "outputs": [
    {
     "name": "stdout",
     "output_type": "stream",
     "text": [
      "-0.0000000000-0.6669512198j |01> +\n",
      " 0.0000000000+0.7451013826j |11>\n",
      "\n",
      "0.0000000000+0.7451013826j ZZ +\n",
      "-0.6669512198+0.0000000000j XZ\n"
     ]
    }
   ],
   "source": [
    "print(psi_1)\n",
    "print()\n",
    "new_state = XX * psi_1\n",
    "print(new_state.state_op)"
   ]
  },
  {
   "cell_type": "code",
   "execution_count": 11,
   "id": "409af3fd",
   "metadata": {},
   "outputs": [
    {
     "name": "stdout",
     "output_type": "stream",
     "text": [
      "-0.0000000000-0.6669512198j ZX +\n",
      "0.0000000000+0.7451013826j XX\n"
     ]
    }
   ],
   "source": [
    "print(psi_1.state_op)"
   ]
  },
  {
   "cell_type": "code",
   "execution_count": 7,
   "id": "c5ccf908",
   "metadata": {},
   "outputs": [],
   "source": [
    "random_state = np.random.randint(0,2,(4,4))"
   ]
  },
  {
   "cell_type": "code",
   "execution_count": 8,
   "id": "b9be0eb6",
   "metadata": {},
   "outputs": [
    {
     "data": {
      "text/plain": [
       "array([[1, 0, 0, 0],\n",
       "       [1, 0, 0, 0],\n",
       "       [1, 0, 0, 1],\n",
       "       [0, 0, 1, 0]])"
      ]
     },
     "execution_count": 8,
     "metadata": {},
     "output_type": "execute_result"
    }
   ],
   "source": [
    "random_state"
   ]
  },
  {
   "cell_type": "code",
   "execution_count": 33,
   "id": "c2d1e419",
   "metadata": {},
   "outputs": [
    {
     "data": {
      "text/plain": [
       "array([[0, 1, 1, 1],\n",
       "       [1, 0, 0, 1],\n",
       "       [0, 1, 1, 0],\n",
       "       [1, 1, 0, 0]])"
      ]
     },
     "execution_count": 33,
     "metadata": {},
     "output_type": "execute_result"
    }
   ],
   "source": [
    "1-random_state"
   ]
  },
  {
   "cell_type": "code",
   "execution_count": null,
   "id": "bbc4f0ae",
   "metadata": {},
   "outputs": [],
   "source": []
  }
 ],
 "metadata": {
  "kernelspec": {
   "display_name": "Python 3 (ipykernel)",
   "language": "python",
   "name": "python3"
  },
  "language_info": {
   "codemirror_mode": {
    "name": "ipython",
    "version": 3
   },
   "file_extension": ".py",
   "mimetype": "text/x-python",
   "name": "python",
   "nbconvert_exporter": "python",
   "pygments_lexer": "ipython3",
   "version": "3.8.8"
  }
 },
 "nbformat": 4,
 "nbformat_minor": 5
}
