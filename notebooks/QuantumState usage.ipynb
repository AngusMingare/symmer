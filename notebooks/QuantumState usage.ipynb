{
 "cells": [
  {
   "cell_type": "markdown",
   "id": "c07b9d6d",
   "metadata": {},
   "source": [
    "# The `QuantumState` class\n",
    "\n",
    "Express an N-qubit quantum state as an array of N columns, where rows are binary bit values, complemented by a vector of coefficients. Note the similarity with the symplectic representation - indeed, the QuantumState class will infact set the above array as the X block in a PauliwordOp, with the Z block its complement.\n",
    "\n",
    "What we are doing here is writing $|0\\rangle = Z|0\\rangle$ and $|1\\rangle = X|0\\rangle$, which ensures correct phases when multiplying the state by Pauli operators, since\n",
    "\n",
    "$$X|0\\rangle = XZ|0\\rangle = -iY|0\\rangle = |1\\rangle,\\; X|1\\rangle = XX|0\\rangle = |0\\rangle$$\n",
    "$$Y|0\\rangle = YZ|0\\rangle = iX|0\\rangle = i|1\\rangle,\\; Y|1\\rangle = YX|0\\rangle = -iZ|0\\rangle = -i|0\\rangle$$\n",
    "$$Z|0\\rangle = ZZ|0\\rangle = |0\\rangle,\\; Z|1\\rangle = ZX|0\\rangle = iY|0\\rangle = -|1\\rangle$$\n",
    "\n",
    "Finally, we have $$| \\vec{b} \\rangle = \\bigotimes_{i=1}^N \\big(b_i X + (1-b_i) Z\\big) | \\vec{0} \\rangle$$ and we may drop the zero vector and use the functionality of PauliwordOp to manipulate quantum states. In this represenation, a quantum state is stored as an operator consisting of Paulis $X, Z$, which is implicitly applied to the zero (or vacuum) state. "
   ]
  },
  {
   "cell_type": "code",
   "execution_count": 1,
   "id": "b71a6aa8",
   "metadata": {},
   "outputs": [],
   "source": [
    "import numpy as np\n",
    "from symmer.symplectic import PauliwordOp, QuantumState"
   ]
  },
  {
   "cell_type": "markdown",
   "id": "14efa282",
   "metadata": {},
   "source": [
    "Firstly, note the correct phases under multiplication by a Pauli Y:"
   ]
  },
  {
   "cell_type": "code",
   "execution_count": 2,
   "id": "e5131b2d",
   "metadata": {},
   "outputs": [
    {
     "name": "stdout",
     "output_type": "stream",
     "text": [
      " 1.000+0.000j |0> ->  0.000+1.000j |1>\n",
      " 1.000+0.000j |1> ->  0.000-1.000j |0>\n"
     ]
    }
   ],
   "source": [
    "zero = QuantumState([[0]])\n",
    "one = QuantumState([[1]])\n",
    "Y = PauliwordOp.from_list(['Y'], [1])\n",
    "\n",
    "print(f'{zero} -> {Y * zero}')\n",
    "print(f'{one} -> {Y * one}')"
   ]
  },
  {
   "cell_type": "markdown",
   "id": "2e3a82d3",
   "metadata": {},
   "source": [
    "Now, let's see what happens when we apply the Hadamard gate to the zero state:"
   ]
  },
  {
   "cell_type": "code",
   "execution_count": 3,
   "id": "3a03866a",
   "metadata": {},
   "outputs": [
    {
     "name": "stdout",
     "output_type": "stream",
     "text": [
      "Zero state:  1.000+0.000j |00>\n",
      "\n",
      "After application of the Hadamard gate:\n",
      "\n",
      " 0.500+0.000j |00> +\n",
      " 0.500+0.000j |01> +\n",
      " 0.500+0.000j |10> +\n",
      " 0.500-0.000j |11>\n"
     ]
    }
   ],
   "source": [
    "psi = QuantumState([[0,0]])\n",
    "had = PauliwordOp.from_list(['XZ','ZX','XX', 'ZZ'], np.ones(4)/2) # 2-qubit Hadamard gate decomposed over Paulis\n",
    "eq_superposition = had * psi\n",
    "print(f'Zero state: {psi}\\n')\n",
    "print(f'After application of the Hadamard gate:\\n\\n{eq_superposition}')"
   ]
  },
  {
   "cell_type": "markdown",
   "id": "bd6c7f78",
   "metadata": {},
   "source": [
    "Observe that the QuantumState is represented internally by its `state_op`, a PauliwordOp object that governs its behaviour under multiplication"
   ]
  },
  {
   "cell_type": "code",
   "execution_count": 4,
   "id": "6c007a11",
   "metadata": {},
   "outputs": [
    {
     "name": "stdout",
     "output_type": "stream",
     "text": [
      " 0.500+0.000j ZZ +\n",
      " 0.500+0.000j ZX +\n",
      " 0.500+0.000j XZ +\n",
      " 0.500-0.000j XX\n"
     ]
    }
   ],
   "source": [
    "print(eq_superposition.state_op)"
   ]
  },
  {
   "cell_type": "markdown",
   "id": "66c9bd60",
   "metadata": {},
   "source": [
    "Try evaluating expectation values for randomly generated state and Hermitian operators:"
   ]
  },
  {
   "cell_type": "code",
   "execution_count": 5,
   "id": "c09ee04b",
   "metadata": {},
   "outputs": [],
   "source": [
    "def random_state(num_qubits, num_terms):\n",
    "    \"\"\" Generates a random normalized QuantumState\n",
    "    \"\"\"\n",
    "    # random binary array with N columns, M rows\n",
    "    random_state = np.random.randint(0,2,(num_terms,num_qubits))\n",
    "    # random vector of coefficients\n",
    "    coeff_vec = (\n",
    "        np.random.rand(num_terms) + \n",
    "        np.random.rand(num_terms)*1j\n",
    "    )\n",
    "    return QuantumState(random_state, coeff_vec).normalize\n",
    "\n",
    "def random_herm_op(num_qubits, num_terms):\n",
    "    \"\"\" Generates a random PaulwordOp\n",
    "    \"\"\"\n",
    "    # random binary array with 2N columns, M rows\n",
    "    random_symp_mat = np.random.randint(0,2,(num_terms,num_qubits*2))\n",
    "    # random vector of coefficients\n",
    "    coeff_vec = np.random.rand(num_terms)\n",
    "    coeff_vec/=coeff_vec[::-1]\n",
    "    coeff_vec*=(2*np.random.randint(0,2,num_terms)-1)\n",
    "    return PauliwordOp(random_symp_mat, coeff_vec)"
   ]
  },
  {
   "cell_type": "code",
   "execution_count": 6,
   "id": "277acf81",
   "metadata": {},
   "outputs": [
    {
     "name": "stdout",
     "output_type": "stream",
     "text": [
      " 0.257+0.050j |1010010011> +\n",
      " 0.152+0.293j |1110000001> +\n",
      " 0.339+0.364j |0100001101> +\n",
      " 0.201+0.013j |1110000111> +\n",
      " 0.322+0.239j |0011100110> +\n",
      " 0.047+0.252j |0100010100> +\n",
      " 0.047+0.011j |1101001000> +\n",
      " 0.107+0.314j |1000010010> +\n",
      " 0.296+0.094j |0111001000> +\n",
      " 0.253+0.191j |0010011101>\n",
      "\n",
      " 0.134+0.117j |1101101100> +\n",
      " 0.263+0.270j |1111011100> +\n",
      " 0.250+0.182j |1000011011> +\n",
      " 0.173+0.064j |1000100100> +\n",
      " 0.025+0.303j |0100001101> +\n",
      " 0.343+0.332j |0110110011> +\n",
      " 0.021+0.298j |1111111101> +\n",
      " 0.229+0.004j |0111011101> +\n",
      " 0.312+0.041j |0000101000> +\n",
      " 0.220+0.296j |1000111001>\n"
     ]
    }
   ],
   "source": [
    "N = 10 # number of qubits\n",
    "M = 10 # number of terms\n",
    "\n",
    "psi_1 = random_state(N, M)\n",
    "psi_2 = random_state(N, M)\n",
    "\n",
    "print(psi_1)\n",
    "print()\n",
    "print(psi_2)"
   ]
  },
  {
   "cell_type": "code",
   "execution_count": 9,
   "id": "2c9aa59f",
   "metadata": {},
   "outputs": [
    {
     "name": "stdout",
     "output_type": "stream",
     "text": [
      " 0.209+0.027j |0000101000> +\n",
      " 0.169+0.128j |0010011101> +\n",
      " 0.215+0.160j |0011100110> +\n",
      " 0.243+0.446j |0100001101> +\n",
      " 0.032+0.168j |0100010100> +\n",
      " 0.229+0.222j |0110110011> +\n",
      " 0.198+0.063j |0111001000> +\n",
      " 0.153+0.003j |0111011101> +\n",
      " 0.072+0.210j |1000010010> +\n",
      " 0.167+0.121j |1000011011> +\n",
      " 0.115+0.043j |1000100100> +\n",
      " 0.147+0.198j |1000111001> +\n",
      " 0.171+0.034j |1010010011> +\n",
      " 0.032+0.007j |1101001000> +\n",
      " 0.090+0.078j |1101101100> +\n",
      " 0.102+0.196j |1110000001> +\n",
      " 0.134+0.009j |1110000111> +\n",
      " 0.176+0.180j |1111011100> +\n",
      " 0.014+0.200j |1111111101>\n",
      "\n",
      "Norm: (0.9999999999999998+0j)\n"
     ]
    }
   ],
   "source": [
    "psi = (psi_1 + psi_2).normalize\n",
    "print(psi)\n",
    "print()\n",
    "print('Norm:', psi.dagger * psi)"
   ]
  },
  {
   "cell_type": "code",
   "execution_count": 11,
   "id": "bc1e9705",
   "metadata": {},
   "outputs": [
    {
     "name": "stdout",
     "output_type": "stream",
     "text": [
      " 1.876+0.000j YYIZYIXIYI +\n",
      " 1.386+0.000j YZZYZIIYYY +\n",
      "-0.155+0.000j ZIYZYIZXZY +\n",
      "-4.208+0.000j XYIXZIZXZZ +\n",
      "-0.297+0.000j IIIIYXZYZI +\n",
      " 3.366+0.000j YYZZXIIXYY +\n",
      " 0.238+0.000j XYIIXYIIZI +\n",
      " 6.436+0.000j YIIYIYYIIX +\n",
      "-0.722+0.000j YYIYIXIZIX +\n",
      "-0.533+0.000j XZZYIYYZXZ\n",
      "\n",
      "Expectation value <psi|op|psi> = (-0.12298367631617613+6.938893903907228e-18j)\n"
     ]
    }
   ],
   "source": [
    "op = random_herm_op(N, 10)\n",
    "print(op)\n",
    "print()\n",
    "print('Expectation value <psi|op|psi> =', psi.dagger * op * psi)"
   ]
  },
  {
   "cell_type": "markdown",
   "id": "bca48c97",
   "metadata": {},
   "source": [
    "It is also possible to convert from a $2^N$ dimensional statevector over $N$ qubits to a `QuantumState` object, via the `array_to_QuantumState` function:"
   ]
  },
  {
   "cell_type": "code",
   "execution_count": 13,
   "id": "bb741ebd",
   "metadata": {},
   "outputs": [
    {
     "name": "stdout",
     "output_type": "stream",
     "text": [
      " 0.408+0.000j |0000000000> +\n",
      " 0.577+0.000j |0011111010> +\n",
      " 0.707+0.000j |0111110100>\n",
      "(1+0j)\n"
     ]
    }
   ],
   "source": [
    "statevector = np.zeros(2**10).reshape([-1,1])\n",
    "statevector[0]   = np.sqrt(1/6)\n",
    "statevector[250] = np.sqrt(2/6)\n",
    "statevector[500] = np.sqrt(3/6)\n",
    "psi = QuantumState.from_array(statevector)\n",
    "print(psi)\n",
    "print(psi.dagger * psi)"
   ]
  },
  {
   "cell_type": "code",
   "execution_count": null,
   "id": "80256de7",
   "metadata": {},
   "outputs": [],
   "source": []
  }
 ],
 "metadata": {
  "kernelspec": {
   "display_name": "Python 3 (ipykernel)",
   "language": "python",
   "name": "python3"
  },
  "language_info": {
   "codemirror_mode": {
    "name": "ipython",
    "version": 3
   },
   "file_extension": ".py",
   "mimetype": "text/x-python",
   "name": "python",
   "nbconvert_exporter": "python",
   "pygments_lexer": "ipython3",
   "version": "3.7.13"
  }
 },
 "nbformat": 4,
 "nbformat_minor": 5
}
