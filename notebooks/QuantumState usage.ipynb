{
 "cells": [
  {
   "cell_type": "markdown",
   "id": "c07b9d6d",
   "metadata": {},
   "source": [
    "# The `QuantumState` class\n",
    "\n",
    "Express an N-qubit quantum state as an array of N columns, where rows are binary bit values, complemented by a vector of coefficients. Note the similarity with the symplectic representation - indeed, the QuantumState class will infact set the above array as the X block in a PauliwordOp, with the Z block its complement.\n",
    "\n",
    "What we are doing here is writing $|0\\rangle = Z|0\\rangle$ and $|1\\rangle = X|0\\rangle$, which ensures correct phases when multiplying the state by Pauli operators, since\n",
    "\n",
    "$$X|0\\rangle = XZ|0\\rangle = -iY|0\\rangle = |1\\rangle,\\; X|1\\rangle = XX|0\\rangle = |0\\rangle$$\n",
    "$$Y|0\\rangle = YZ|0\\rangle = iX|0\\rangle = i|1\\rangle,\\; Y|1\\rangle = YX|0\\rangle = -iZ|0\\rangle = -i|0\\rangle$$\n",
    "$$Z|0\\rangle = ZZ|0\\rangle = |0\\rangle,\\; Z|1\\rangle = ZX|0\\rangle = iY|0\\rangle = -|1\\rangle$$\n",
    "\n",
    "Finally, we have $$| \\vec{b} \\rangle = \\bigotimes_{i=1}^N \\big(b_i X + (1-b_i) Z\\big) | \\vec{0} \\rangle$$ and we may drop the zero vector and use the functionality of PauliwordOp to manipulate quantum states. In this represenation, a quantum state is stored as an operator consisting of Paulis $X, Z$, which is implicitly applied to the zero (or vacuum) state. "
   ]
  },
  {
   "cell_type": "code",
   "execution_count": 1,
   "id": "b71a6aa8",
   "metadata": {},
   "outputs": [],
   "source": [
    "import numpy as np\n",
    "from symmer.utils import unit_n_sphere_cartesian_coords\n",
    "from symmer.symplectic import PauliwordOp, QuantumState, array_to_QuantumState"
   ]
  },
  {
   "cell_type": "markdown",
   "id": "14efa282",
   "metadata": {},
   "source": [
    "Firstly, note the correct phases under multiplication by a Pauli Y:"
   ]
  },
  {
   "cell_type": "code",
   "execution_count": 2,
   "id": "e5131b2d",
   "metadata": {},
   "outputs": [
    {
     "name": "stdout",
     "output_type": "stream",
     "text": [
      " 1.000 |0> ->  0.000+1.000j |1>\n",
      " 1.000 |1> ->  0.000-1.000j |0>\n"
     ]
    }
   ],
   "source": [
    "zero = QuantumState([[0]])\n",
    "one = QuantumState([[1]])\n",
    "Y = PauliwordOp(['Y'], [1])\n",
    "\n",
    "print(f'{zero} -> {Y * zero}')\n",
    "print(f'{one} -> {Y * one}')"
   ]
  },
  {
   "cell_type": "markdown",
   "id": "2e3a82d3",
   "metadata": {},
   "source": [
    "Now, let's see what happens when we apply the Hadamard gate to the zero state:"
   ]
  },
  {
   "cell_type": "code",
   "execution_count": 3,
   "id": "3a03866a",
   "metadata": {},
   "outputs": [
    {
     "name": "stdout",
     "output_type": "stream",
     "text": [
      "Zero state:  1.000 |00>\n",
      "\n",
      "After application of the Hadamard gate:\n",
      "\n",
      " 0.500+0.000j |00> +\n",
      " 0.500+0.000j |01> +\n",
      " 0.500+0.000j |10> +\n",
      " 0.500-0.000j |11>\n"
     ]
    }
   ],
   "source": [
    "psi = QuantumState([[0,0]])\n",
    "had = PauliwordOp(['XZ','ZX','XX', 'ZZ'], np.ones(4)/2) # 2-qubit Hadamard gate decomposed over Paulis\n",
    "eq_superposition = had * psi\n",
    "print(f'Zero state: {psi}\\n')\n",
    "print(f'After application of the Hadamard gate:\\n\\n{eq_superposition}')"
   ]
  },
  {
   "cell_type": "markdown",
   "id": "bd6c7f78",
   "metadata": {},
   "source": [
    "Observe that the QuantumState is represented internally by its `state_op`, a PauliwordOp object that governs its behaviour under multiplication"
   ]
  },
  {
   "cell_type": "code",
   "execution_count": 4,
   "id": "6c007a11",
   "metadata": {},
   "outputs": [
    {
     "name": "stdout",
     "output_type": "stream",
     "text": [
      " 0.500+0.000j ZZ +\n",
      " 0.500+0.000j ZX +\n",
      " 0.500+0.000j XZ +\n",
      " 0.500-0.000j XX\n"
     ]
    }
   ],
   "source": [
    "print(eq_superposition.state_op)"
   ]
  },
  {
   "cell_type": "markdown",
   "id": "66c9bd60",
   "metadata": {},
   "source": [
    "Try evaluating expectation values for randomly generated state and Hermitian operators:"
   ]
  },
  {
   "cell_type": "code",
   "execution_count": 5,
   "id": "c09ee04b",
   "metadata": {},
   "outputs": [],
   "source": [
    "def random_state(num_qubits, num_terms):\n",
    "    \"\"\" Generates a random normalized QuantumState\n",
    "    \"\"\"\n",
    "    # random binary array with N columns, M rows\n",
    "    random_state = np.random.randint(0,2,(num_terms,num_qubits))\n",
    "    # random vector of coefficients\n",
    "    coeff_vec = (\n",
    "        np.random.rand(num_terms) + \n",
    "        np.random.rand(num_terms)*1j\n",
    "    )\n",
    "    return QuantumState(random_state, coeff_vec).normalize\n",
    "\n",
    "def random_herm_op(num_qubits, num_terms):\n",
    "    \"\"\" Generates a random PaulwordOp\n",
    "    \"\"\"\n",
    "    # random binary array with 2N columns, M rows\n",
    "    random_symp_mat = np.random.randint(0,2,(num_terms,num_qubits*2))\n",
    "    # random vector of coefficients\n",
    "    coeff_vec = np.random.rand(num_terms)\n",
    "    coeff_vec/=coeff_vec[::-1]\n",
    "    coeff_vec*=(2*np.random.randint(0,2,num_terms)-1)\n",
    "    return PauliwordOp(random_symp_mat, coeff_vec)"
   ]
  },
  {
   "cell_type": "code",
   "execution_count": 6,
   "id": "277acf81",
   "metadata": {},
   "outputs": [
    {
     "name": "stdout",
     "output_type": "stream",
     "text": [
      " 0.338+0.266j |1001110001> +\n",
      " 0.120+0.197j |0101010100> +\n",
      " 0.334+0.109j |1100110011> +\n",
      " 0.036+0.118j |0000101101> +\n",
      " 0.052+0.151j |0001101100> +\n",
      " 0.275+0.223j |1101001000> +\n",
      " 0.185+0.044j |0101010101> +\n",
      " 0.079+0.353j |1010010100> +\n",
      " 0.357+0.015j |1101111101> +\n",
      " 0.290+0.306j |0101011100>\n",
      "\n",
      " 0.080+0.197j |1011111011> +\n",
      " 0.311+0.367j |0111111100> +\n",
      " 0.299+0.324j |0001100110> +\n",
      " 0.019+0.060j |1101011011> +\n",
      " 0.402+0.173j |1110001110> +\n",
      " 0.002+0.072j |0010010111> +\n",
      " 0.066+0.288j |0000001110> +\n",
      " 0.030+0.198j |1101101110> +\n",
      " 0.167+0.310j |0100010011> +\n",
      " 0.086+0.263j |0010110011>\n"
     ]
    }
   ],
   "source": [
    "N = 10 # number of qubits\n",
    "M = 10 # number of terms\n",
    "\n",
    "psi_1 = random_state(N, M)\n",
    "psi_2 = random_state(N, M)\n",
    "\n",
    "print(psi_1)\n",
    "print()\n",
    "print(psi_2)"
   ]
  },
  {
   "cell_type": "code",
   "execution_count": 7,
   "id": "2c9aa59f",
   "metadata": {},
   "outputs": [
    {
     "name": "stdout",
     "output_type": "stream",
     "text": [
      " 0.047+0.204j |0000001110> +\n",
      " 0.026+0.083j |0000101101> +\n",
      " 0.212+0.229j |0001100110> +\n",
      " 0.037+0.107j |0001101100> +\n",
      " 0.001+0.051j |0010010111> +\n",
      " 0.061+0.186j |0010110011> +\n",
      " 0.118+0.219j |0100010011> +\n",
      " 0.085+0.140j |0101010100> +\n",
      " 0.131+0.031j |0101010101> +\n",
      " 0.205+0.216j |0101011100> +\n",
      " 0.220+0.259j |0111111100> +\n",
      " 0.239+0.188j |1001110001> +\n",
      " 0.056+0.250j |1010010100> +\n",
      " 0.057+0.139j |1011111011> +\n",
      " 0.236+0.077j |1100110011> +\n",
      " 0.195+0.158j |1101001000> +\n",
      " 0.013+0.042j |1101011011> +\n",
      " 0.021+0.140j |1101101110> +\n",
      " 0.252+0.010j |1101111101> +\n",
      " 0.284+0.122j |1110001110>\n",
      "\n",
      "Norm: (1+0j)\n"
     ]
    }
   ],
   "source": [
    "psi = (psi_1 + psi_2).normalize\n",
    "print(psi)\n",
    "print()\n",
    "print('Norm:', psi.conjugate * psi)"
   ]
  },
  {
   "cell_type": "code",
   "execution_count": 8,
   "id": "bc1e9705",
   "metadata": {},
   "outputs": [
    {
     "name": "stdout",
     "output_type": "stream",
     "text": [
      "-0.450+0.000j ZXYIIYYZIZ +\n",
      "-6.210+0.000j IZYXYZYZXX +\n",
      "-33.687+0.000j YIZIYYYXYI +\n",
      "-2.248+0.000j XXZZYIYXXX +\n",
      "-3.166+0.000j YXZXXZIZYY +\n",
      "-0.316+0.000j ZYXIYIIZYI +\n",
      "-0.445+0.000j XYYXXYZYXX +\n",
      " 0.030+0.000j IYXIIIZYZY +\n",
      "-0.161+0.000j YIXZIIYZZI +\n",
      "-2.221+0.000j YIZXYIIYII\n",
      "\n",
      "Expectation value <psi|op|psi> = 0\n"
     ]
    }
   ],
   "source": [
    "op = random_herm_op(N, 10)\n",
    "print(op)\n",
    "print()\n",
    "print('Expectation value <psi|op|psi> =', psi.conjugate * op * psi)"
   ]
  },
  {
   "cell_type": "markdown",
   "id": "bca48c97",
   "metadata": {},
   "source": [
    "It is also possible to convert from a $2^N$ dimensional statevector over $N$ qubits to a `QuantumState` object, via the `array_to_QuantumState` function:"
   ]
  },
  {
   "cell_type": "code",
   "execution_count": 9,
   "id": "bb741ebd",
   "metadata": {},
   "outputs": [
    {
     "name": "stdout",
     "output_type": "stream",
     "text": [
      " 0.408 |0000000000> +\n",
      " 0.577 |0011111010> +\n",
      " 0.707 |0111110100>\n",
      "1.0\n"
     ]
    }
   ],
   "source": [
    "statevector = np.zeros(2**10)\n",
    "statevector[0]   = np.sqrt(1/6)\n",
    "statevector[250] = np.sqrt(2/6)\n",
    "statevector[500] = np.sqrt(3/6)\n",
    "psi = array_to_QuantumState(statevector)\n",
    "print(psi)\n",
    "print(psi.conjugate * psi)"
   ]
  },
  {
   "cell_type": "code",
   "execution_count": null,
   "id": "3dbda28d",
   "metadata": {},
   "outputs": [],
   "source": []
  }
 ],
 "metadata": {
  "kernelspec": {
   "display_name": "Python 3 (ipykernel)",
   "language": "python",
   "name": "python3"
  },
  "language_info": {
   "codemirror_mode": {
    "name": "ipython",
    "version": 3
   },
   "file_extension": ".py",
   "mimetype": "text/x-python",
   "name": "python",
   "nbconvert_exporter": "python",
   "pygments_lexer": "ipython3",
   "version": "3.8.8"
  }
 },
 "nbformat": 4,
 "nbformat_minor": 5
}
