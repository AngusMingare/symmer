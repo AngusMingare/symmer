{
 "cells": [
  {
   "cell_type": "markdown",
   "id": "c07b9d6d",
   "metadata": {},
   "source": [
    "# The `QuantumState` class\n",
    "\n",
    "Express an N-qubit quantum state as an array of N columns, where rows are binary bit values, complemented by a vector of coefficients. Note the similarity with the symplectic representation - indeed, the QuantumState class will infact set the above array as the X block in a PauliwordOp, with the Z block its complement.\n",
    "\n",
    "What we are doing here is writing $|0\\rangle = Z|0\\rangle$ and $|1\\rangle = X|0\\rangle$, which ensures correct phases when multiplying the state by Pauli operators, since\n",
    "\n",
    "$$X|0\\rangle = XZ|0\\rangle = -iY|0\\rangle = |1\\rangle,\\; X|1\\rangle = XX|0\\rangle = |0\\rangle$$\n",
    "$$Y|0\\rangle = YZ|0\\rangle = iX|0\\rangle = i|1\\rangle,\\; Y|1\\rangle = YX|0\\rangle = -iZ|0\\rangle = -i|0\\rangle$$\n",
    "$$Z|0\\rangle = ZZ|0\\rangle = |0\\rangle,\\; Z|1\\rangle = ZX|0\\rangle = iY|0\\rangle = -|1\\rangle$$\n",
    "\n",
    "Finally, we have $$| \\vec{b} \\rangle = \\bigotimes_{i=1}^N \\big(b_i X + (1-b_i) Z\\big) | \\vec{0} \\rangle$$ and we may drop the zero vector and use the functionality of PauliwordOp to manipulate quantum states. In this represenation, a quantum state is stored as an operator consisting of Paulis $X, Z$, which is implicitly applied to the zero (or vacuum) state. "
   ]
  },
  {
   "cell_type": "code",
   "execution_count": 1,
   "id": "b71a6aa8",
   "metadata": {},
   "outputs": [],
   "source": [
    "import numpy as np\n",
    "from symmer.utils import unit_n_sphere_cartesian_coords\n",
    "from symmer.symplectic import PauliwordOp, QuantumState, array_to_QuantumState"
   ]
  },
  {
   "cell_type": "markdown",
   "id": "14efa282",
   "metadata": {},
   "source": [
    "Firstly, note the correct phases under multiplication by a Pauli Y:"
   ]
  },
  {
   "cell_type": "code",
   "execution_count": 2,
   "id": "e5131b2d",
   "metadata": {},
   "outputs": [
    {
     "name": "stdout",
     "output_type": "stream",
     "text": [
      "1.000 |0> -> 0.000+1.000j |1>\n",
      "1.000 |1> -> 0.000-1.000j |0>\n"
     ]
    }
   ],
   "source": [
    "zero = QuantumState([[0]])\n",
    "one = QuantumState([[1]])\n",
    "Y = PauliwordOp(['Y'], [1])\n",
    "\n",
    "print(f'{zero} -> {Y * zero}')\n",
    "print(f'{one} -> {Y * one}')"
   ]
  },
  {
   "cell_type": "markdown",
   "id": "2e3a82d3",
   "metadata": {},
   "source": [
    "Now, let's see what happens when we apply the Hadamard gate to the zero state:"
   ]
  },
  {
   "cell_type": "code",
   "execution_count": 3,
   "id": "3a03866a",
   "metadata": {},
   "outputs": [
    {
     "name": "stdout",
     "output_type": "stream",
     "text": [
      "Zero state: 1.000 |00>\n",
      "\n",
      "After application of the Hadamard gate:\n",
      "\n",
      "0.500+0.000j |00> +\n",
      "0.500+0.000j |01> +\n",
      "0.500+0.000j |10> +\n",
      "0.500-0.000j |11>\n"
     ]
    }
   ],
   "source": [
    "psi = QuantumState([[0,0]])\n",
    "had = PauliwordOp(['XZ','ZX','XX', 'ZZ'], np.ones(4)/2) # 2-qubit Hadamard gate decomposed over Paulis\n",
    "eq_superposition = had * psi\n",
    "print(f'Zero state: {psi}\\n')\n",
    "print(f'After application of the Hadamard gate:\\n\\n{eq_superposition}')"
   ]
  },
  {
   "cell_type": "markdown",
   "id": "bd6c7f78",
   "metadata": {},
   "source": [
    "Observe that the QuantumState is represented internally by its `state_op`, a PauliwordOp object that governs its behaviour under multiplication"
   ]
  },
  {
   "cell_type": "code",
   "execution_count": 4,
   "id": "6c007a11",
   "metadata": {},
   "outputs": [
    {
     "name": "stdout",
     "output_type": "stream",
     "text": [
      "0.500+0.000j ZZ +\n",
      "0.500+0.000j ZX +\n",
      "0.500+0.000j XZ +\n",
      "0.500-0.000j XX\n"
     ]
    }
   ],
   "source": [
    "print(eq_superposition.state_op)"
   ]
  },
  {
   "cell_type": "markdown",
   "id": "66c9bd60",
   "metadata": {},
   "source": [
    "Try evaluating expectation values for randomly generated state and Hermitian operators:"
   ]
  },
  {
   "cell_type": "code",
   "execution_count": 5,
   "id": "c09ee04b",
   "metadata": {},
   "outputs": [],
   "source": [
    "def random_state(num_qubits, num_terms):\n",
    "    \"\"\" Generates a random normalized QuantumState\n",
    "    \"\"\"\n",
    "    # random binary array with N columns, M rows\n",
    "    random_state = np.random.randint(0,2,(num_terms,num_qubits))\n",
    "    # random vector of coefficients\n",
    "    coeff_vec = (\n",
    "        np.random.rand(num_terms) + \n",
    "        np.random.rand(num_terms)*1j\n",
    "    )\n",
    "    return QuantumState(random_state, coeff_vec).normalize\n",
    "\n",
    "def random_herm_op(num_qubits, num_terms):\n",
    "    \"\"\" Generates a random PaulwordOp\n",
    "    \"\"\"\n",
    "    # random binary array with 2N columns, M rows\n",
    "    random_symp_mat = np.random.randint(0,2,(num_terms,num_qubits*2))\n",
    "    # random vector of coefficients\n",
    "    coeff_vec = np.random.rand(num_terms)\n",
    "    coeff_vec/=coeff_vec[::-1]\n",
    "    coeff_vec*=(2*np.random.randint(0,2,num_terms)-1)\n",
    "    return PauliwordOp(random_symp_mat, coeff_vec)"
   ]
  },
  {
   "cell_type": "code",
   "execution_count": 6,
   "id": "277acf81",
   "metadata": {},
   "outputs": [
    {
     "name": "stdout",
     "output_type": "stream",
     "text": [
      "0.175+0.016j |1011110001> +\n",
      "0.115+0.315j |0110101001> +\n",
      "0.340+0.048j |0001100001> +\n",
      "0.124+0.042j |1011000011> +\n",
      "0.135+0.310j |0110000110> +\n",
      "0.191+0.251j |0100010001> +\n",
      "0.057+0.299j |1111001001> +\n",
      "0.218+0.005j |0001000001> +\n",
      "0.317+0.218j |0101111000> +\n",
      "0.331+0.332j |1011100001>\n",
      "\n",
      "0.182+0.092j |1011111001> +\n",
      "0.355+0.416j |0001010101> +\n",
      "0.298+0.345j |1111001010> +\n",
      "0.233+0.255j |1110110110> +\n",
      "0.227+0.149j |1011100010> +\n",
      "0.148+0.164j |0010000010> +\n",
      "0.176+0.096j |1100010111> +\n",
      "0.173+0.217j |1011110110> +\n",
      "0.078+0.259j |0000101001> +\n",
      "0.127+0.053j |0001011010>\n"
     ]
    }
   ],
   "source": [
    "N = 10 # number of qubits\n",
    "M = 10 # number of terms\n",
    "\n",
    "psi_1 = random_state(N, M)\n",
    "psi_2 = random_state(N, M)\n",
    "\n",
    "print(psi_1)\n",
    "print()\n",
    "print(psi_2)"
   ]
  },
  {
   "cell_type": "code",
   "execution_count": 7,
   "id": "2c9aa59f",
   "metadata": {},
   "outputs": [
    {
     "name": "stdout",
     "output_type": "stream",
     "text": [
      "0.055+0.183j |0000101001> +\n",
      "0.154+0.003j |0001000001> +\n",
      "0.251+0.294j |0001010101> +\n",
      "0.090+0.038j |0001011010> +\n",
      "0.241+0.034j |0001100001> +\n",
      "0.104+0.116j |0010000010> +\n",
      "0.135+0.178j |0100010001> +\n",
      "0.224+0.154j |0101111000> +\n",
      "0.095+0.219j |0110000110> +\n",
      "0.081+0.223j |0110101001> +\n",
      "0.088+0.030j |1011000011> +\n",
      "0.234+0.235j |1011100001> +\n",
      "0.160+0.106j |1011100010> +\n",
      "0.123+0.011j |1011110001> +\n",
      "0.122+0.154j |1011110110> +\n",
      "0.129+0.065j |1011111001> +\n",
      "0.125+0.068j |1100010111> +\n",
      "0.165+0.180j |1110110110> +\n",
      "0.040+0.211j |1111001001> +\n",
      "0.211+0.244j |1111001010>\n",
      "\n",
      "Norm: (0.9999999999999998+0j)\n"
     ]
    }
   ],
   "source": [
    "psi = (psi_1 + psi_2).normalize\n",
    "print(psi)\n",
    "print()\n",
    "print('Norm:', psi.conjugate * psi)"
   ]
  },
  {
   "cell_type": "code",
   "execution_count": 8,
   "id": "bc1e9705",
   "metadata": {},
   "outputs": [
    {
     "name": "stdout",
     "output_type": "stream",
     "text": [
      "0.913+0.000j XXXXZXIZII +\n",
      "1.287+0.000j YZZZIIXZXI +\n",
      "0.786+0.000j XXIIXXYXYZ +\n",
      "-25.848+0.000j YIXXYZYXZZ +\n",
      "2.264+0.000j ZYZXIZYIXZ +\n",
      "0.442+0.000j IXXXIIXIYY +\n",
      "-0.039+0.000j YZIIXYXYXZ +\n",
      "-1.272+0.000j IZIXYZXXIZ +\n",
      "0.777+0.000j XZXZIIYZZY +\n",
      "1.095+0.000j ZIYIIYXIXY\n",
      "\n",
      "Expectation value <psi|op|psi> = (-0.030281407293039492+1.734723475976807e-18j)\n"
     ]
    }
   ],
   "source": [
    "op = random_herm_op(N, 10)\n",
    "print(op)\n",
    "print()\n",
    "print('Expectation value <psi|op|psi> =', psi.conjugate * op * psi)"
   ]
  },
  {
   "cell_type": "markdown",
   "id": "bca48c97",
   "metadata": {},
   "source": [
    "It is also possible to convert from a $2^N$ dimensional statevector over $N$ qubits to a `QuantumState` object, via the `array_to_QuantumState` function:"
   ]
  },
  {
   "cell_type": "code",
   "execution_count": 9,
   "id": "bb741ebd",
   "metadata": {},
   "outputs": [
    {
     "name": "stdout",
     "output_type": "stream",
     "text": [
      "0.408 |0000000000> +\n",
      "0.577 |0011111010> +\n",
      "0.707 |0111110100>\n",
      "1.0\n"
     ]
    }
   ],
   "source": [
    "statevector = np.zeros(2**10)\n",
    "statevector[0]   = np.sqrt(1/6)\n",
    "statevector[250] = np.sqrt(2/6)\n",
    "statevector[500] = np.sqrt(3/6)\n",
    "psi = array_to_QuantumState(statevector)\n",
    "print(psi)\n",
    "print(psi.conjugate * psi)"
   ]
  }
 ],
 "metadata": {
  "kernelspec": {
   "display_name": "Python 3 (ipykernel)",
   "language": "python",
   "name": "python3"
  },
  "language_info": {
   "codemirror_mode": {
    "name": "ipython",
    "version": 3
   },
   "file_extension": ".py",
   "mimetype": "text/x-python",
   "name": "python",
   "nbconvert_exporter": "python",
   "pygments_lexer": "ipython3",
   "version": "3.8.8"
  }
 },
 "nbformat": 4,
 "nbformat_minor": 5
}
