{
 "cells": [
  {
   "cell_type": "code",
   "execution_count": 1,
   "id": "edfb75f6",
   "metadata": {},
   "outputs": [],
   "source": [
    "from symmer.chemistry import xyz_from_pubchem\n",
    "import numpy as np\n",
    "from openfermion import FermionOperator\n",
    "from scipy.sparse.linalg import expm\n",
    "from openfermion import get_sparse_operator\n",
    "from symmer.symplectic import PauliwordOp, QuantumState\n",
    "import itertools\n",
    "from scipy.sparse import csr_matrix, coo_matrix\n",
    "from scipy.sparse.linalg import eigsh\n",
    "from pyscf import ci"
   ]
  },
  {
   "cell_type": "code",
   "execution_count": null,
   "id": "3f9da97a",
   "metadata": {},
   "outputs": [],
   "source": []
  },
  {
   "cell_type": "code",
   "execution_count": 41,
   "id": "4166c7b4",
   "metadata": {},
   "outputs": [],
   "source": [
    "mol_name = 'H2O'\n",
    "# mol_name = 'Be'\n",
    "# mol_name = 'LiH'"
   ]
  },
  {
   "cell_type": "code",
   "execution_count": 42,
   "id": "c09bcec6",
   "metadata": {},
   "outputs": [
    {
     "name": "stdout",
     "output_type": "stream",
     "text": [
      "3\n",
      " \n",
      "O\t0\t0\t0\n",
      "H\t0.2774\t0.8929\t0.2544\n",
      "H\t0.6068\t-0.2383\t-0.7169\n",
      "\n"
     ]
    }
   ],
   "source": [
    "xyz_file = xyz_from_pubchem(mol_name)\n",
    "print(xyz_file)"
   ]
  },
  {
   "cell_type": "code",
   "execution_count": null,
   "id": "9107830b",
   "metadata": {},
   "outputs": [],
   "source": []
  },
  {
   "cell_type": "code",
   "execution_count": 43,
   "id": "f918ee0c",
   "metadata": {},
   "outputs": [
    {
     "data": {
      "application/3dmoljs_load.v0": "<div id=\"3dmolviewer_16690734984031181\"  style=\"position: relative; width: 400px; height: 400px\">\n        <p id=\"3dmolwarning_16690734984031181\" style=\"background-color:#ffcccc;color:black\">You appear to be running in JupyterLab (or JavaScript failed to load for some other reason).  You need to install the 3dmol extension: <br>\n        <tt>jupyter labextension install jupyterlab_3dmol</tt></p>\n        </div>\n<script>\n\nvar loadScriptAsync = function(uri){\n  return new Promise((resolve, reject) => {\n    var tag = document.createElement('script');\n    tag.src = uri;\n    tag.async = true;\n    tag.onload = () => {\n      resolve();\n    };\n  var firstScriptTag = document.getElementsByTagName('script')[0];\n  firstScriptTag.parentNode.insertBefore(tag, firstScriptTag);\n});\n};\n\nif(typeof $3Dmolpromise === 'undefined') {\n$3Dmolpromise = null;\n  $3Dmolpromise = loadScriptAsync('https://3dmol.org/build/3Dmol.js');\n}\n\nvar viewer_16690734984031181 = null;\nvar warn = document.getElementById(\"3dmolwarning_16690734984031181\");\nif(warn) {\n    warn.parentNode.removeChild(warn);\n}\n$3Dmolpromise.then(function() {\nviewer_16690734984031181 = $3Dmol.createViewer($(\"#3dmolviewer_16690734984031181\"),{backgroundColor:\"white\"});\nviewer_16690734984031181.zoomTo();\n\tviewer_16690734984031181.addModel(\"3\\n \\nO\\t0\\t0\\t0\\nH\\t0.2774\\t0.8929\\t0.2544\\nH\\t0.6068\\t-0.2383\\t-0.7169\\n\",\"xyz\");\n\tviewer_16690734984031181.setStyle({\"stick\": {}});\n\tviewer_16690734984031181.zoomTo();\nviewer_16690734984031181.render();\n});\n</script>",
      "text/html": [
       "<div id=\"3dmolviewer_16690734984031181\"  style=\"position: relative; width: 400px; height: 400px\">\n",
       "        <p id=\"3dmolwarning_16690734984031181\" style=\"background-color:#ffcccc;color:black\">You appear to be running in JupyterLab (or JavaScript failed to load for some other reason).  You need to install the 3dmol extension: <br>\n",
       "        <tt>jupyter labextension install jupyterlab_3dmol</tt></p>\n",
       "        </div>\n",
       "<script>\n",
       "\n",
       "var loadScriptAsync = function(uri){\n",
       "  return new Promise((resolve, reject) => {\n",
       "    var tag = document.createElement('script');\n",
       "    tag.src = uri;\n",
       "    tag.async = true;\n",
       "    tag.onload = () => {\n",
       "      resolve();\n",
       "    };\n",
       "  var firstScriptTag = document.getElementsByTagName('script')[0];\n",
       "  firstScriptTag.parentNode.insertBefore(tag, firstScriptTag);\n",
       "});\n",
       "};\n",
       "\n",
       "if(typeof $3Dmolpromise === 'undefined') {\n",
       "$3Dmolpromise = null;\n",
       "  $3Dmolpromise = loadScriptAsync('https://3dmol.org/build/3Dmol.js');\n",
       "}\n",
       "\n",
       "var viewer_16690734984031181 = null;\n",
       "var warn = document.getElementById(\"3dmolwarning_16690734984031181\");\n",
       "if(warn) {\n",
       "    warn.parentNode.removeChild(warn);\n",
       "}\n",
       "$3Dmolpromise.then(function() {\n",
       "viewer_16690734984031181 = $3Dmol.createViewer($(\"#3dmolviewer_16690734984031181\"),{backgroundColor:\"white\"});\n",
       "viewer_16690734984031181.zoomTo();\n",
       "\tviewer_16690734984031181.addModel(\"3\\n \\nO\\t0\\t0\\t0\\nH\\t0.2774\\t0.8929\\t0.2544\\nH\\t0.6068\\t-0.2383\\t-0.7169\\n\",\"xyz\");\n",
       "\tviewer_16690734984031181.setStyle({\"stick\": {}});\n",
       "\tviewer_16690734984031181.zoomTo();\n",
       "viewer_16690734984031181.render();\n",
       "});\n",
       "</script>"
      ]
     },
     "metadata": {},
     "output_type": "display_data"
    }
   ],
   "source": [
    "from symmer.chemistry import Draw_molecule\n",
    "\n",
    "viewer = Draw_molecule(xyz_file,\n",
    "                       width=400,\n",
    "                       height=400,\n",
    "                       style=\"stick\") # change to sphere/stick\n",
    "viewer.show()\n",
    "\n",
    "## can move around in notebook!"
   ]
  },
  {
   "cell_type": "code",
   "execution_count": null,
   "id": "406afa3e",
   "metadata": {},
   "outputs": [],
   "source": []
  },
  {
   "cell_type": "code",
   "execution_count": 44,
   "id": "4af41f8b",
   "metadata": {},
   "outputs": [],
   "source": [
    "from symmer.chemistry import PySCFDriver"
   ]
  },
  {
   "cell_type": "code",
   "execution_count": 45,
   "id": "8afc465e",
   "metadata": {},
   "outputs": [],
   "source": [
    "basis = 'STO-3G'\n",
    "convergence = 1e-6\n",
    "charge=0\n",
    "max_hf_cycles=50\n",
    "ram = 8_000\n",
    "run_mp2  = False,\n",
    "run_cisd = True,\n",
    "run_ccsd = False,\n",
    "run_fci  = False"
   ]
  },
  {
   "cell_type": "code",
   "execution_count": 46,
   "id": "c558040b",
   "metadata": {},
   "outputs": [],
   "source": [
    "pyscf_obj = PySCFDriver(xyz_file,\n",
    "                       basis,\n",
    "                       convergence=convergence,\n",
    "                       charge=charge,\n",
    "                       max_ram_memory=ram,\n",
    "                       max_hf_cycles=max_hf_cycles,\n",
    "                       \n",
    "                       run_mp2=run_mp2,\n",
    "                       run_cisd=run_cisd,\n",
    "                       run_ccsd=run_ccsd,\n",
    "                       run_fci=run_fci)"
   ]
  },
  {
   "cell_type": "code",
   "execution_count": 47,
   "id": "6ecdd762",
   "metadata": {},
   "outputs": [],
   "source": [
    "pyscf_obj.run_pyscf()"
   ]
  },
  {
   "cell_type": "code",
   "execution_count": 48,
   "id": "169558ce",
   "metadata": {},
   "outputs": [
    {
     "data": {
      "text/plain": [
       "14"
      ]
     },
     "execution_count": 48,
     "metadata": {},
     "output_type": "execute_result"
    }
   ],
   "source": [
    "2*pyscf_obj.pyscf_hf.mol.nao"
   ]
  },
  {
   "cell_type": "code",
   "execution_count": 49,
   "id": "bb405792",
   "metadata": {},
   "outputs": [],
   "source": [
    "from symmer.chemistry import FermionicHamiltonian\n",
    "from openfermion import jordan_wigner, get_sparse_operator"
   ]
  },
  {
   "cell_type": "code",
   "execution_count": 50,
   "id": "17328980",
   "metadata": {},
   "outputs": [],
   "source": [
    "H_ferm = FermionicHamiltonian(pyscf_obj.pyscf_hf)\n",
    "\n",
    "H_ferm.build_fermionic_hamiltonian_operator()\n",
    "\n",
    "H = jordan_wigner(H_ferm.fermionic_molecular_hamiltonian)"
   ]
  },
  {
   "cell_type": "code",
   "execution_count": null,
   "id": "16a13276",
   "metadata": {},
   "outputs": [],
   "source": []
  },
  {
   "cell_type": "code",
   "execution_count": 51,
   "id": "2f8b4621",
   "metadata": {},
   "outputs": [],
   "source": [
    "H_symmer = PauliwordOp.from_openfermion(H)"
   ]
  },
  {
   "cell_type": "code",
   "execution_count": 52,
   "id": "1918d04e",
   "metadata": {},
   "outputs": [
    {
     "data": {
      "text/plain": [
       "array([1, 1, 1, 1, 1, 1, 1, 1, 1, 1, 0, 0, 0, 0])"
      ]
     },
     "execution_count": 52,
     "metadata": {},
     "output_type": "execute_result"
    }
   ],
   "source": [
    "hf_state = H_ferm.hf_fermionic_basis_state\n",
    "hf_state\n"
   ]
  },
  {
   "cell_type": "code",
   "execution_count": 53,
   "id": "c4e56f7c",
   "metadata": {},
   "outputs": [],
   "source": [
    "H_cisd = H_ferm.get_cisd_fermionic()"
   ]
  },
  {
   "cell_type": "code",
   "execution_count": 54,
   "id": "3aaafa1c",
   "metadata": {},
   "outputs": [],
   "source": [
    "E_CISD, vec_CISD = eigsh(H_cisd, which='SA', k=1)\n",
    "cisd_qstate = QuantumState.from_array(vec_CISD)\n",
    "del vec_CISD\n",
    "E_CISD += pyscf_obj.pyscf_hf.mol.energy_nuc() #<- need to add back in nuclear energy!"
   ]
  },
  {
   "cell_type": "code",
   "execution_count": 55,
   "id": "05e458e2",
   "metadata": {},
   "outputs": [
    {
     "data": {
      "text/plain": [
       "-75.01477057556038"
      ]
     },
     "execution_count": 55,
     "metadata": {},
     "output_type": "execute_result"
    }
   ],
   "source": [
    "pyscf_obj.pyscf_cisd.e_tot"
   ]
  },
  {
   "cell_type": "code",
   "execution_count": 56,
   "id": "eb5f7f42",
   "metadata": {},
   "outputs": [
    {
     "data": {
      "text/plain": [
       "array([-1.23634436e-11])"
      ]
     },
     "execution_count": 56,
     "metadata": {},
     "output_type": "execute_result"
    }
   ],
   "source": [
    "E_CISD - pyscf_obj.pyscf_cisd.e_tot"
   ]
  },
  {
   "cell_type": "code",
   "execution_count": 66,
   "id": "0f0af9a4",
   "metadata": {},
   "outputs": [
    {
     "data": {
      "text/plain": [
       "(-75.01477057557257+0j)"
      ]
     },
     "execution_count": 66,
     "metadata": {},
     "output_type": "execute_result"
    }
   ],
   "source": [
    "cisd_qstate.dagger * H_symmer * cisd_qstate"
   ]
  },
  {
   "cell_type": "code",
   "execution_count": null,
   "id": "ccf9f87a",
   "metadata": {},
   "outputs": [],
   "source": []
  },
  {
   "cell_type": "code",
   "execution_count": null,
   "id": "dae1251e",
   "metadata": {},
   "outputs": [],
   "source": [
    "class CI_from_qubit_H():\n",
    "    def __init__(self, qubitH, hf_array_number):\n",
    "        self.H = qubitH\n",
    "        self.hf_array = hf_array_number # HF in number basis (not BK / parity / ...)\n",
    "        self.n_electrons = np.sum(self.hf_array)\n",
    "        \n",
    "    def _gen_single_excitations(self):\n",
    "        single_dets = []\n",
    "        single_excitations = []\n",
    "        for i in range(self.n_electrons):\n",
    "            for a in range(self.n_electrons, self.H.n_qubits):\n",
    "                single_excitations.append((i, a))\n",
    "\n",
    "                det = self.hf_array.copy()\n",
    "                det[[i,a]] = det[[a,i]]\n",
    "                single_dets.append(det)\n",
    "        return single_dets#, single_excitations\n",
    "    \n",
    "    def _gen_double_excitations(self):\n",
    "        double_dets = []\n",
    "        double_excitations = []\n",
    "        for i in range(self.n_electrons):\n",
    "            for j in range(i+1, self.n_electrons):\n",
    "                for a in range(self.n_electrons, self.H.n_qubits):\n",
    "                    for b in range(a+1, self.H.n_qubits):\n",
    "                        double_excitations.append((i,j, a,b))\n",
    "\n",
    "                        det = self.hf_array.copy()\n",
    "                        det[[i,a]] = det[[a,i]]\n",
    "                        det[[j,b]] = det[[b,j]]\n",
    "                        double_dets.append(det)\n",
    "        return double_dets#, double_excitations\n",
    "                        \n",
    "    def _gen_single_double_excitations(self):\n",
    "        double_dets = []\n",
    "        double_excitations = []\n",
    "        single_dets = []\n",
    "        single_excitations = []\n",
    "        for i in range(self.n_electrons):\n",
    "            for a in range(self.n_electrons, self.H.n_qubits):\n",
    "                single_excitations.append((i, a))\n",
    "\n",
    "                det = self.hf_array.copy()\n",
    "                det[[i,a]] = det[[a,i]]\n",
    "                single_dets.append(det)\n",
    "                for j in range(i+1, self.n_electrons):\n",
    "                    for b in range(a+1, self.H.n_qubits):\n",
    "                        double_excitations.append((i,j, a,b))\n",
    "\n",
    "                        det = self.hf_array.copy()\n",
    "                        det[[i,a]] = det[[a,i]]\n",
    "                        det[[j,b]] = det[[b,j]]\n",
    "                        double_dets.append(det)\n",
    "                        \n",
    "        #return single_dets, single_excitations, double_dets, double_excitations\n",
    "        return [*single_dets, *double_dets]\n",
    "    \n",
    "    def _perform_CI_JW(self, det_list):\n",
    "        \n",
    "        # include HF array\n",
    "        det_list = [self.hf_array, *det_list]\n",
    "        \n",
    "        data =[]\n",
    "        row =[]\n",
    "        col =[]\n",
    "        for i, det_i in enumerate(det_list):\n",
    "            for det_j in det_list:\n",
    "                index_i = int(''.join(det_i.astype(str)),2)\n",
    "                q_state_i = QuantumState(np.array(det_i).reshape([1,-1]), [1])\n",
    "                    \n",
    "                index_j = int(''.join(det_j.astype(str)),2)\n",
    "                q_state_j = QuantumState(np.array(det_j).astype(int).reshape([1,-1]), [1])\n",
    "                \n",
    "                mat_ij_element = q_state_j.dagger * self.H * q_state_i\n",
    "                data.append(mat_ij_element)\n",
    "                row.append(index_i)\n",
    "                col.append(index_j)\n",
    "                \n",
    "#                 # ij == ji ! (symmetry)\n",
    "#                 data.append(mat_ij_element)\n",
    "#                 row.append(index_j)\n",
    "#                 col.append(index_i)\n",
    "                \n",
    "        H_CI_JW = csr_matrix((data, (row, col)), shape=(2**self.H.n_qubits, 2**self.H.n_qubits))\n",
    "#         H_CI_JW = csr_matrix((data, (row, col)))\n",
    "        return H_CI_JW\n",
    "    \n",
    "    def perform_CI(self, method='CISD', encoding='JW'):\n",
    "        if method== 'CISD':\n",
    "            det_list = self._gen_single_double_excitations()\n",
    "        elif method== 'CIS':\n",
    "            det_list = self._gen_single_excitations()\n",
    "        elif method== 'CID':\n",
    "            det_list = self._gen_double_excitations()\n",
    "        else:\n",
    "            raise ValueError(f'unknown / not implemented CI method: {method}')\n",
    "            \n",
    "        if encoding=='JW':\n",
    "            H_CI = self._perform_CI_JW(det_list)\n",
    "        elif encoding=='BK':\n",
    "            H_CI = self._perform_CI_BK(det_list)\n",
    "        \n",
    "#         print(H_CI.shape)\n",
    "        E_CI, vec_CI = eigsh(H_CI, which='SA', k=1)\n",
    "        ci_qstate = QuantumState.from_array(vec_CI)\n",
    "        del vec_CI\n",
    "        return H_CI, E_CI, ci_qstate\n",
    "    def _perform_CI_BW(self, det_list):\n",
    "        pass\n",
    "    "
   ]
  },
  {
   "cell_type": "code",
   "execution_count": null,
   "id": "084856e5",
   "metadata": {},
   "outputs": [],
   "source": [
    "HF_qstate = QuantumState(hf_state.reshape([1,-1]), [1])\n",
    "print(pyscf_obj.pyscf_hf.e_tot)\n",
    "HF_qstate.dagger * H_symmer * HF_qstate"
   ]
  },
  {
   "cell_type": "code",
   "execution_count": null,
   "id": "5212eb93",
   "metadata": {},
   "outputs": [],
   "source": [
    "# n_occ = H_ferm.n_electrons\n",
    "# n_virt = H_ferm.n_qubits-H_ferm.n_electrons\n",
    "\n",
    "# HF_term = 1\n",
    "# single_terms =  n_occ* n_virt\n",
    "# double_terms = (n_occ**2-n_occ)/2 *  (n_virt**2-n_virt)/2\n",
    "\n",
    "# total = HF_term + single_terms + double_terms\n",
    "# total"
   ]
  },
  {
   "cell_type": "code",
   "execution_count": null,
   "id": "0ad19143",
   "metadata": {},
   "outputs": [],
   "source": [
    "hf_state = H_ferm.hf_fermionic_basis_state\n",
    "\n",
    "test = CI_from_qubit_H(H_symmer, hf_state)"
   ]
  },
  {
   "cell_type": "code",
   "execution_count": null,
   "id": "15806d98",
   "metadata": {},
   "outputs": [],
   "source": [
    "H_CISD, E_CISD, CISD_qstate = test.perform_CI(method='CISD', encoding='JW')"
   ]
  },
  {
   "cell_type": "code",
   "execution_count": null,
   "id": "fedc4123",
   "metadata": {},
   "outputs": [],
   "source": [
    "print(E_CISD - pyscf_obj.pyscf_cisd.e_tot)"
   ]
  },
  {
   "cell_type": "code",
   "execution_count": null,
   "id": "1bbfc78c",
   "metadata": {},
   "outputs": [],
   "source": [
    "# H_CIS, E_CIS, CIS_qstate = test.perform_CI(method='CIS', encoding='JW')\n",
    "# H_CID, E_CID, CID_qstate = test.perform_CI(method='CID', encoding='JW')\n",
    "# H_CISD, E_CISD, CISD_qstate = test.perform_CI(method='CISD', encoding='JW')"
   ]
  },
  {
   "cell_type": "code",
   "execution_count": null,
   "id": "c656b77a",
   "metadata": {},
   "outputs": [],
   "source": [
    "print(E_CIS - pyscf_obj.pyscf_hf.e_tot)\n",
    "print(E_CID - pyscf_obj.pyscf_hf.e_tot)\n",
    "print(E_CISD - pyscf_obj.pyscf_hf.e_tot)"
   ]
  },
  {
   "cell_type": "code",
   "execution_count": null,
   "id": "a3cdff54",
   "metadata": {},
   "outputs": [],
   "source": [
    "print(E_CISD - pyscf_obj.pyscf_cisd.e_tot)"
   ]
  },
  {
   "cell_type": "code",
   "execution_count": null,
   "id": "a933913e",
   "metadata": {},
   "outputs": [],
   "source": [
    "len(H_CI.nonzero()[0])"
   ]
  },
  {
   "cell_type": "code",
   "execution_count": null,
   "id": "3c2cfa24",
   "metadata": {},
   "outputs": [],
   "source": [
    "np.isclose((ci_qstate.dagger * H_symmer * ci_qstate).real,\n",
    "          E_CISD)"
   ]
  },
  {
   "cell_type": "code",
   "execution_count": null,
   "id": "5c1d503d",
   "metadata": {},
   "outputs": [],
   "source": [
    "np.isclose(pyscf_obj.pyscf_cisd.e_tot ,\n",
    "          E_CISD)"
   ]
  },
  {
   "cell_type": "code",
   "execution_count": null,
   "id": "87c6b2d1",
   "metadata": {},
   "outputs": [],
   "source": [
    "pyscf_obj.pyscf_hf.e_tot"
   ]
  },
  {
   "cell_type": "code",
   "execution_count": null,
   "id": "dde3901f",
   "metadata": {},
   "outputs": [],
   "source": [
    "ci.CISD\n",
    "pyscf_obj.pyscf_hf"
   ]
  },
  {
   "cell_type": "code",
   "execution_count": null,
   "id": "ef0fef45",
   "metadata": {},
   "outputs": [],
   "source": []
  },
  {
   "cell_type": "code",
   "execution_count": null,
   "id": "b81a8ba9",
   "metadata": {},
   "outputs": [],
   "source": [
    "\n",
    "E_CISD, vec_CISD = eigsh(CI, which='SA', k=1)\n",
    "E_CISD"
   ]
  },
  {
   "cell_type": "code",
   "execution_count": null,
   "id": "d9d6feae",
   "metadata": {},
   "outputs": [],
   "source": [
    "pyscf_obj.pyscf_cisd.e_tot "
   ]
  },
  {
   "cell_type": "code",
   "execution_count": null,
   "id": "673ffc1a",
   "metadata": {},
   "outputs": [],
   "source": []
  },
  {
   "cell_type": "code",
   "execution_count": null,
   "id": "c816dee8",
   "metadata": {},
   "outputs": [],
   "source": [
    "i_rows, j_rows = CI.nonzero()\n",
    "\n",
    "ind = 40\n",
    "print(CI[i_rows[ind], j_rows[ind]])\n",
    "print(CI[j_rows[ind], i_rows[ind]])"
   ]
  },
  {
   "cell_type": "code",
   "execution_count": null,
   "id": "003b9506",
   "metadata": {},
   "outputs": [],
   "source": [
    "n_occ = H_ferm.n_electrons\n",
    "n_virt = H_ferm.n_qubits-H_ferm.n_electrons\n",
    "\n",
    "HF_term = 1\n",
    "single_terms =  n_occ* n_virt\n",
    "double_terms = (n_occ**2-n_occ)/2 *  (n_virt**2-n_virt)/2\n",
    "\n",
    "total = HF_term + single_terms + double_terms\n",
    "total"
   ]
  },
  {
   "cell_type": "code",
   "execution_count": null,
   "id": "72c0ea5c",
   "metadata": {},
   "outputs": [],
   "source": [
    "row = np.array([0, 0, 1, 2, 2, 2])\n",
    "\n",
    "col = np.array([0, 2, 2, 0, 1, 2])\n",
    "\n",
    "data = np.array([1, 2, 3, 4, 5, 6])\n",
    "\n",
    "csr_matrix((data, (row, col)), shape=(3, 3)).toarray()"
   ]
  },
  {
   "cell_type": "code",
   "execution_count": null,
   "id": "4c8e742b",
   "metadata": {},
   "outputs": [],
   "source": []
  },
  {
   "cell_type": "code",
   "execution_count": null,
   "id": "37b7f61a",
   "metadata": {},
   "outputs": [],
   "source": [
    "# https://github.com/psi4/psi4numpy/blob/master/Tutorials/09_Configuration_Interaction/9a_cis.ipynb\n",
    "# szabo page 236-237\n",
    "\n",
    "# Build the possible excitations, collect indices into a list\n",
    "single_dets = []\n",
    "single_excitations = []\n",
    "for i in range(H_ferm.n_electrons):\n",
    "    for a in range(H_ferm.n_electrons, H_ferm.n_qubits):\n",
    "        single_excitations.append((i, a))\n",
    "        \n",
    "        det = hf_state.copy()\n",
    "        det[[i,a]] = det[[a,i]]\n",
    "        single_dets.append(det)\n",
    "# single_excitations\n",
    "\n",
    "\n",
    "double_dets = []\n",
    "double_excitations = []\n",
    "for i in range(H_ferm.n_electrons):\n",
    "    for j in range(i+1, H_ferm.n_electrons):\n",
    "        for a in range(H_ferm.n_electrons, H_ferm.n_qubits):\n",
    "            for b in range(a+1, H_ferm.n_qubits):\n",
    "                double_excitations.append((i,j, a,b))\n",
    "\n",
    "                det = hf_state.copy()\n",
    "                det[[i,a]] = det[[a,i]]\n",
    "                det[[j,b]] = det[[b,j]]\n",
    "                double_dets.append(det)\n",
    "\n",
    "## should calc integrals needed from this!!!"
   ]
  },
  {
   "cell_type": "code",
   "execution_count": null,
   "id": "2848517c",
   "metadata": {},
   "outputs": [],
   "source": [
    "# single_excitations"
   ]
  },
  {
   "cell_type": "code",
   "execution_count": null,
   "id": "2d099f89",
   "metadata": {},
   "outputs": [],
   "source": [
    "24**2"
   ]
  },
  {
   "cell_type": "code",
   "execution_count": null,
   "id": "7ad9a5e1",
   "metadata": {},
   "outputs": [],
   "source": [
    "print(len(double_dets))\n",
    "print(len(single_dets))"
   ]
  },
  {
   "cell_type": "code",
   "execution_count": null,
   "id": "dac6c413",
   "metadata": {},
   "outputs": [],
   "source": [
    "# single_excitations"
   ]
  },
  {
   "cell_type": "code",
   "execution_count": null,
   "id": "d1539dcd",
   "metadata": {},
   "outputs": [],
   "source": [
    "## scalings:\n",
    "\n",
    "n_occ = H_ferm.n_electrons\n",
    "n_virt = H_ferm.n_qubits-H_ferm.n_electrons\n",
    "\n",
    "print(len(single_excitations) == n_occ* n_virt)\n",
    "print(len(double_excitations)== (n_occ**2-n_occ)/2 *  (n_virt**2-n_virt)/2)"
   ]
  },
  {
   "cell_type": "markdown",
   "id": "31843b74",
   "metadata": {},
   "source": [
    "$$singles = n_{occ} \\cdot n_{virt}$$\n",
    "\n",
    "$$doubles = \\bigg( \\frac{n_{occ}^{2}-n_{occ}}{2} \\cdot \\frac{n_{virt}^{2}-n_{virt}}{2} \\bigg) $$\n",
    "$$doubles = \\frac{1}{4} (n_{occ}^{2} n_{virt}^{2} - n_{occ}^{2}n_{virt} - n_{occ}n_{virt}^{2} + n_{occ}n_{virt})$$"
   ]
  },
  {
   "cell_type": "code",
   "execution_count": null,
   "id": "8922d42a",
   "metadata": {},
   "outputs": [],
   "source": []
  },
  {
   "cell_type": "code",
   "execution_count": null,
   "id": "4ac66682",
   "metadata": {},
   "outputs": [],
   "source": [
    "from openfermion import FermionOperator, get_sparse_operator\n",
    "\n",
    "\n",
    "# get_sparse_operator(FermionOperator(f'{2}^ {2}', 1)).toarray()\n",
    "# get_sparse_operator(FermionOperator(f'{1} {1} {0}^ {0}^', 1)).toarray()"
   ]
  },
  {
   "cell_type": "code",
   "execution_count": null,
   "id": "98df0ce3",
   "metadata": {},
   "outputs": [],
   "source": []
  },
  {
   "cell_type": "code",
   "execution_count": null,
   "id": "ae1815fc",
   "metadata": {},
   "outputs": [],
   "source": [
    "HF_index = int(''.join(hf_state.astype(str)),2)\n",
    "H_symmer.to_sparse_matrix[HF_index,HF_index]"
   ]
  },
  {
   "cell_type": "code",
   "execution_count": null,
   "id": "61f738b0",
   "metadata": {},
   "outputs": [],
   "source": [
    "HF_qstate = QuantumState(hf_state.reshape([1,-1]), [1])\n",
    "HF_qstate.dagger * H_symmer * HF_qstate"
   ]
  },
  {
   "cell_type": "code",
   "execution_count": null,
   "id": "225d8203",
   "metadata": {},
   "outputs": [],
   "source": [
    "H_ferm.scf_method.e_tot"
   ]
  },
  {
   "cell_type": "code",
   "execution_count": null,
   "id": "55e7160d",
   "metadata": {},
   "outputs": [],
   "source": []
  },
  {
   "cell_type": "code",
   "execution_count": null,
   "id": "5beee836",
   "metadata": {},
   "outputs": [],
   "source": [
    "#### note this slices QUBIT H_SYMMER\n",
    "\n",
    "H_red = coo_matrix(H_symmer.to_sparse_matrix.shape,\n",
    "            dtype=complex\n",
    "        )\n",
    "H_red = csr_matrix(H_red)\n",
    "\n",
    "allowed_dets = [hf_state, *single_dets,*double_dets]\n",
    "print(len(allowed_dets))\n",
    "\n",
    "for det_i in allowed_dets:\n",
    "    for det_j in allowed_dets:\n",
    "        index_i = int(''.join(det_i.astype(str)),2)\n",
    "        index_j = int(''.join(det_j.astype(str)),2)\n",
    "        H_red[index_i, index_j] = H_symmer.to_sparse_matrix[index_i, index_j]"
   ]
  },
  {
   "cell_type": "code",
   "execution_count": null,
   "id": "6ea6173d",
   "metadata": {},
   "outputs": [],
   "source": [
    "from scipy.sparse.linalg import eigsh\n",
    "E_CISD, vec_CISD = eigsh(H_red, which='SA', k=1)\n",
    "E_CISD"
   ]
  },
  {
   "cell_type": "code",
   "execution_count": null,
   "id": "f89e5f1d",
   "metadata": {},
   "outputs": [],
   "source": [
    "#### note this slices FERMIONIC!!!!!!! \n",
    "H_second = get_sparse_operator(H_ferm.fermionic_molecular_hamiltonian)\n",
    "\n",
    "H_red = coo_matrix(H_second.shape,\n",
    "            dtype=complex\n",
    "        )\n",
    "H_red = csr_matrix(H_red)\n",
    "\n",
    "allowed_dets = [hf_state, *single_dets,*double_dets]\n",
    "print(len(allowed_dets))\n",
    "\n",
    "for det_i in allowed_dets:\n",
    "    for det_j in allowed_dets:\n",
    "        index_i = int(''.join(det_i.astype(str)),2)\n",
    "        index_j = int(''.join(det_j.astype(str)),2)\n",
    "        H_red[index_i, index_j] = H_second[index_i, index_j]\n",
    "E_CISD, vec_CISD = eigsh(H_red, which='SA', k=1)\n",
    "E_CISD"
   ]
  },
  {
   "cell_type": "code",
   "execution_count": null,
   "id": "8a66d7e9",
   "metadata": {},
   "outputs": [],
   "source": [
    "# dir(H_ferm)\n",
    "pyscf_obj.pyscf_cisd.e_tot"
   ]
  },
  {
   "cell_type": "code",
   "execution_count": null,
   "id": "c3886ead",
   "metadata": {},
   "outputs": [],
   "source": [
    "from symmer.symplectic import QuantumState\n",
    "psi_cisd = QuantumState.from_array(vec_CISD)"
   ]
  },
  {
   "cell_type": "code",
   "execution_count": null,
   "id": "466d8e33",
   "metadata": {},
   "outputs": [],
   "source": [
    "# OVERLAP with HF\n",
    "psi_cisd.dagger * QuantumState([hf_state])"
   ]
  },
  {
   "cell_type": "code",
   "execution_count": null,
   "id": "07d0b22c",
   "metadata": {},
   "outputs": [],
   "source": [
    "psi_cisd.cleanup(zero_threshold=1e-2)"
   ]
  },
  {
   "cell_type": "code",
   "execution_count": null,
   "id": "34aa7686",
   "metadata": {},
   "outputs": [],
   "source": []
  },
  {
   "cell_type": "code",
   "execution_count": null,
   "id": "f2d7cfa0",
   "metadata": {},
   "outputs": [],
   "source": [
    "def sort_det(array):\n",
    "    \"\"\"\n",
    "    \n",
    "    \"\"\"\n",
    "\n",
    "    arr = np.asarray(array)\n",
    "    n_sites = arr.shape[0]\n",
    "    sign_dict = {0: +1, 1:-1}\n",
    "    # Traverse through all array elements\n",
    "    swap_counter = 0\n",
    "    for i in range(n_sites):\n",
    "        swapped = False\n",
    "        for j in range(0, n_sites - i - 1):\n",
    "            if arr[j] > arr[j + 1]:\n",
    "                arr[j], arr[j + 1] = arr[j + 1], arr[j]\n",
    "                swapped = True\n",
    "                swap_counter+=1\n",
    "\n",
    "        if swapped == False:\n",
    "            break\n",
    "\n",
    "#     return np.abs(arr.tolist()), sign_dict[swap_counter%2]\n",
    "    return sign_dict[swap_counter%2]\n",
    "\n",
    "\n",
    "\n",
    "def get_sign(i_det, j_det, bit_differ):\n",
    "    \n",
    "    # first put unique part to start of list (count if swap needed!)\n",
    "    # then order RHS that contains common elements!\n",
    "    \n",
    "    nonzero_i = i_det.nonzero()[0]\n",
    "    nonzero_j = j_det.nonzero()[0]\n",
    "    \n",
    "    unique = bit_differ.nonzero()[0]\n",
    "    i_unique = np.intersect1d(nonzero_i, unique)\n",
    "    j_unique = np.intersect1d(nonzero_j, unique)\n",
    "    \n",
    "    count_i = 0\n",
    "    count_j = 0\n",
    "    for ind, unique_i in enumerate(i_unique):\n",
    "        swap_ind_i = np.where(unique_i==nonzero_i)[0]\n",
    "        \n",
    "        unique_j = j_unique[ind]\n",
    "        swap_ind_j = np.where(unique_j==nonzero_j)[0]\n",
    "        \n",
    "        # swap \n",
    "        if ind != swap_ind_i:\n",
    "            count_i+=1\n",
    "            nonzero_i[ind], nonzero_i[swap_ind_i] = nonzero_i[swap_ind_i], nonzero_i[ind]\n",
    "        if ind != swap_ind_j:\n",
    "            count_j +=1\n",
    "            nonzero_j[ind], nonzero_j[swap_ind_j] = nonzero_j[swap_ind_j], nonzero_j[ind]\n",
    "    \n",
    "    sign_i = sort_det(nonzero_i[len(i_unique):])\n",
    "    sign_j =  sort_det(nonzero_j[len(j_unique):])\n",
    "    return sign_i * sign_j * (-1)**(count_i+ count_j)"
   ]
  },
  {
   "cell_type": "code",
   "execution_count": null,
   "id": "f5f9e9e6",
   "metadata": {},
   "outputs": [],
   "source": []
  },
  {
   "cell_type": "code",
   "execution_count": null,
   "id": "39bfe36a",
   "metadata": {},
   "outputs": [],
   "source": [
    "from pyscf import ao2mo, gto, scf, ci\n",
    "\n",
    "full_system_mol = gto.Mole(atom=xyz_file[3:],\n",
    "                           basis=basis,\n",
    "                           charge=0,\n",
    "                           spin=0\n",
    "                           )\n",
    "full_system_mol.build()\n",
    "\n",
    "H_core_ao = scf.hf.get_hcore(full_system_mol)\n",
    "eri_ao = full_system_mol.intor('int2e')  # 2e- electron repulsion integrals in AO basis\n",
    "\n",
    "n_docc = full_system_mol.nelectron // 2  # number of double occupied orbitals\n",
    "n_bas_ft = full_system_mol.nao\n",
    "\n",
    "\n",
    "SCF_obj = scf.RHF(full_system_mol)\n",
    "SCF_obj.verbose = 1\n",
    "SCF_obj.kernel()\n",
    "\n",
    "SCF_obj.kernel()\n",
    "\n",
    "pyscf_cisd = ci.CISD(SCF_obj)\n",
    "pyscf_cisd.verbose = 1\n",
    "pyscf_cisd.kernel()[0]\n",
    "pyscf_cisd.e_tot"
   ]
  },
  {
   "cell_type": "code",
   "execution_count": null,
   "id": "a94211ce",
   "metadata": {},
   "outputs": [],
   "source": [
    "from pyscf import ao2mo\n",
    "# pyscf version!\n",
    "C = pyscf_obj.pyscf_hf.mo_coeff\n",
    "H_core_ao = pyscf_obj.pyscf_hf.get_hcore()\n",
    "n_bas_ft =pyscf_obj.pyscf_hf.mol.nao\n",
    "\n",
    "pyscf_mo_ints = ao2mo.kernel(pyscf_obj.pyscf_hf.mol, C)\n",
    "\n",
    "# Convert the 2e integrals (in Chemist’s notation)\n",
    "pyscf_mo_ints = ao2mo.restore(1, pyscf_mo_ints, pyscf_obj.pyscf_hf.mol.nao)\n",
    "\n",
    "# pyscf_mo_ints = pyscf_mo_ints.transpose(0,2,3,1) #<- converts to physists notation if needed\n",
    "\n",
    "# h_ij MO basis\n",
    "hcore_ij = C.conj().T @ H_core_ao @ C  # # NOT FOCK\n",
    "\n",
    "###### next convert into spatial to spin\n",
    "n_spatial = n_bas_ft  # number of atomic orbitals\n",
    "n_spin = 2 * n_spatial  # two times for spin up and down!\n",
    "\n",
    "# H_CORE\n",
    "h_core_spin = np.zeros((n_spin, n_spin))\n",
    "for p in range(n_spatial):\n",
    "    for q in range(n_spatial):\n",
    "        # even indices are SPIN UP!\n",
    "        h_core_spin[2 * p,\n",
    "                    2 * q] = hcore_ij[p, q]\n",
    "\n",
    "        # odd indices are SPIN DOWN!\n",
    "        h_core_spin[2 * p + 1,\n",
    "                    2 * q + 1] = hcore_ij[p, q]\n",
    "\n",
    "# ERI\n",
    "eri_spin_physicists = np.zeros((n_spin, n_spin, n_spin, n_spin))\n",
    "eri_mo_spatial_physicists = np.einsum('ijkl -> ikjl', pyscf_mo_ints)\n",
    "for p in range(n_spatial):\n",
    "    for q in range(n_spatial):\n",
    "        for r in range(n_spatial):\n",
    "            for s in range(n_spatial):\n",
    "                MO_spatial_term = eri_mo_spatial_physicists[p, q, r, s]\n",
    "\n",
    "                # up, up, up, up\n",
    "                eri_spin_physicists[2 * p, 2 * q,\n",
    "                                    2 * r, 2 * s] = MO_spatial_term\n",
    "\n",
    "                # down, down, down, down\n",
    "                eri_spin_physicists[2 * p + 1, 2 * q + 1,\n",
    "                                    2 * r + 1, 2 * s + 1] = MO_spatial_term\n",
    "\n",
    "                # up down up down\n",
    "                eri_spin_physicists[2 * p, 2 * q + 1,\n",
    "                                    2 * r, 2 * s + 1] = MO_spatial_term\n",
    "\n",
    "                # down up down up\n",
    "                eri_spin_physicists[2 * p + 1, 2 * q,\n",
    "                                    2 * r + 1, 2 * s] = MO_spatial_term\n",
    "\n",
    "                # other terms go to ZERO!\n",
    "\n",
    "## physicists notation\n",
    "# eri_spin_physicists = np.einsum('ikjl -> ijkl', eri_spin_physicists)\n",
    "# eri_spin_physicists = np.einsum('ikjl -> ijlk', eri_spin_physicists)\n",
    "CONSTANT_nuclear_energy = full_system_mol.energy_nuc()\n",
    "\n",
    "h_pq = h_core_spin\n",
    "\n",
    "\n",
    "H_ci = coo_matrix((2**H_symmer.n_qubits,2**H_symmer.n_qubits) ,\n",
    "            dtype=complex)\n",
    "H_ci = csr_matrix(H_ci)\n",
    "\n",
    "allowed_dets = [hf_state, *single_dets,*double_dets]\n",
    "for det_i in allowed_dets:\n",
    "    for det_j in allowed_dets:\n",
    "        \n",
    "        bit_diff = np.logical_xor(det_i,det_j)\n",
    "        n_diff = int(sum(bit_diff))\n",
    "        \n",
    "        if n_diff>4:\n",
    "            pass\n",
    "        else:\n",
    "            index_i = int(''.join(det_i.astype(str)),2)\n",
    "            index_j = int(''.join(det_j.astype(str)),2)\n",
    "            \n",
    "    \n",
    "            mat_element = 0\n",
    "            if n_diff == 0:\n",
    "                # <i | H | i>\n",
    "                occ_inds_i = np.where(det_i)[0]\n",
    "                for i in occ_inds_i:\n",
    "                    mat_element+= h_pq[i,i] \n",
    "                    \n",
    "                for ind1, i in enumerate(occ_inds_i[:-1]):\n",
    "                    for ind2 in range(ind1+1, len(occ_inds_i)):\n",
    "                        j = occ_inds_i[ind2]\n",
    "                        mat_element+= (eri_spin_physicists[i,j,i,j] - eri_spin_physicists[i,j,j,i])\n",
    "                sign = 1\n",
    "                \n",
    "            elif n_diff==2:                \n",
    "                # order matters!\n",
    "                k = np.logical_and(det_i, bit_diff).nonzero()[0]\n",
    "                l = np.logical_and(det_j, bit_diff).nonzero()[0]\n",
    "                mat_element += h_pq[k,l]\n",
    "                \n",
    "                common_bits = np.where(np.logical_and(det_i,det_j))[0]\n",
    "                for i in common_bits:\n",
    "                    mat_element+= (eri_spin_physicists[k,i,l,i] \n",
    "                                   - eri_spin_physicists[k,i,i,l]) \n",
    "                \n",
    "                sign = get_sign(det_i, det_j, bit_diff)\n",
    "                \n",
    "            elif n_diff==4:\n",
    "                ij = np.logical_and(det_i, bit_diff).nonzero()[0]\n",
    "                kl = np.logical_and(det_j, bit_diff).nonzero()[0]\n",
    "                i, j = ij[0],ij[1]\n",
    "                k, l = kl[0], kl[1]\n",
    "                mat_element += (eri_spin_physicists[i,j,k,l] - eri_spin_physicists[i,j,l,k])\n",
    "                \n",
    "                sign = get_sign(det_i, det_j, bit_diff)\n",
    "                \n",
    "                \n",
    "            \n",
    "            H_ci[index_i, index_j] = mat_element * sign"
   ]
  },
  {
   "cell_type": "code",
   "execution_count": null,
   "id": "e58d7ef7",
   "metadata": {},
   "outputs": [],
   "source": []
  },
  {
   "cell_type": "code",
   "execution_count": null,
   "id": "9473afb3",
   "metadata": {},
   "outputs": [],
   "source": [
    "E_CISD, vec_CISD = eigsh(H_ci, which='SA', k=1)\n",
    "E_CISD + SCF_obj.energy_nuc()"
   ]
  },
  {
   "cell_type": "code",
   "execution_count": null,
   "id": "13c8c6b6",
   "metadata": {},
   "outputs": [],
   "source": [
    "pyscf_obj.pyscf_cisd.e_tot"
   ]
  },
  {
   "cell_type": "code",
   "execution_count": null,
   "id": "6e6ad728",
   "metadata": {},
   "outputs": [],
   "source": [
    "(E_CISD + SCF_obj.energy_nuc()) - pyscf_obj.pyscf_cisd.e_tot"
   ]
  },
  {
   "cell_type": "code",
   "execution_count": null,
   "id": "b5483df1",
   "metadata": {},
   "outputs": [],
   "source": [
    "# out = H_red - H_ci\n",
    "# np.einsum('ij->', out.toarray())"
   ]
  },
  {
   "cell_type": "code",
   "execution_count": null,
   "id": "05a7fdae",
   "metadata": {},
   "outputs": [],
   "source": [
    "np.allclose(abs(H_red.toarray()),\n",
    "            abs(H_ci.toarray()))"
   ]
  },
  {
   "cell_type": "code",
   "execution_count": null,
   "id": "7a505d2f",
   "metadata": {},
   "outputs": [],
   "source": [
    "np.allclose(H_red.toarray(),\n",
    "            H_ci.toarray())"
   ]
  },
  {
   "cell_type": "code",
   "execution_count": null,
   "id": "52125d5c",
   "metadata": {},
   "outputs": [],
   "source": [
    "### Difference could be due to re-ordering with signs\n",
    "### as opposed to just slicing the element (aka no sign changes)\n",
    "\n",
    "### still gives correct answer"
   ]
  },
  {
   "cell_type": "code",
   "execution_count": null,
   "id": "5237a80d",
   "metadata": {},
   "outputs": [],
   "source": [
    "done"
   ]
  },
  {
   "cell_type": "code",
   "execution_count": null,
   "id": "d4b5fe9d",
   "metadata": {},
   "outputs": [],
   "source": []
  },
  {
   "cell_type": "code",
   "execution_count": null,
   "id": "99728212",
   "metadata": {},
   "outputs": [],
   "source": []
  },
  {
   "cell_type": "code",
   "execution_count": null,
   "id": "e49ecefe",
   "metadata": {},
   "outputs": [],
   "source": []
  },
  {
   "cell_type": "code",
   "execution_count": null,
   "id": "fcac1064",
   "metadata": {},
   "outputs": [],
   "source": []
  },
  {
   "cell_type": "code",
   "execution_count": null,
   "id": "9964d75a",
   "metadata": {},
   "outputs": [],
   "source": []
  },
  {
   "cell_type": "code",
   "execution_count": null,
   "id": "dbec9083",
   "metadata": {},
   "outputs": [],
   "source": []
  },
  {
   "cell_type": "code",
   "execution_count": null,
   "id": "917810e4",
   "metadata": {},
   "outputs": [],
   "source": []
  },
  {
   "cell_type": "code",
   "execution_count": null,
   "id": "2e317ed9",
   "metadata": {},
   "outputs": [],
   "source": []
  },
  {
   "cell_type": "code",
   "execution_count": null,
   "id": "5f89b122",
   "metadata": {},
   "outputs": [],
   "source": []
  },
  {
   "cell_type": "code",
   "execution_count": null,
   "id": "866e603e",
   "metadata": {},
   "outputs": [],
   "source": []
  },
  {
   "cell_type": "code",
   "execution_count": null,
   "id": "40053cfe",
   "metadata": {},
   "outputs": [],
   "source": []
  },
  {
   "cell_type": "code",
   "execution_count": null,
   "id": "5ecf674c",
   "metadata": {},
   "outputs": [],
   "source": []
  },
  {
   "cell_type": "code",
   "execution_count": null,
   "id": "d4faa897",
   "metadata": {},
   "outputs": [],
   "source": [
    "A = np.array([0,1,1,0])\n",
    "B = np.array([1,1,1,1])\n",
    "sum(np.logical_xor(A,B))"
   ]
  },
  {
   "cell_type": "code",
   "execution_count": null,
   "id": "2b7679b3",
   "metadata": {},
   "outputs": [],
   "source": [
    "# ecisd, civec = pyscf_obj.pyscf_cisd.kernel()\n",
    "\n",
    "# full_cisd_vec = pyscf_obj.pyscf_cisd.to_fcivec(civec, \n",
    "#                                           pyscf_obj.pyscf_cisd.mol.nao,\n",
    "#                                           pyscf_obj.pyscf_cisd.mol.nelectron\n",
    "#                                           )\n",
    "\n",
    "# full_cisd_vec.shape"
   ]
  },
  {
   "cell_type": "code",
   "execution_count": null,
   "id": "98f8ee2c",
   "metadata": {},
   "outputs": [],
   "source": [
    "# single_excitations, double_excitations\n",
    "# single_excitations\n",
    "# double_excitations"
   ]
  },
  {
   "cell_type": "code",
   "execution_count": null,
   "id": "d334e0ee",
   "metadata": {},
   "outputs": [],
   "source": [
    "h_pq.shape"
   ]
  },
  {
   "cell_type": "code",
   "execution_count": null,
   "id": "bc703507",
   "metadata": {},
   "outputs": [],
   "source": [
    "H_ferm.fermionic_fock_operator"
   ]
  },
  {
   "cell_type": "code",
   "execution_count": null,
   "id": "83f0c567",
   "metadata": {},
   "outputs": [],
   "source": []
  },
  {
   "cell_type": "code",
   "execution_count": null,
   "id": "af1d804f",
   "metadata": {},
   "outputs": [],
   "source": [
    "# A = np.array([1,1,0,0,1,1,0,0])\n",
    "# B = np.array([1,1,1,1,0,0,0,0])\n",
    "\n",
    "A = np.array([1,1,1,0,0,0,0,1])\n",
    "B = np.array([1,1,0,1,1,0,0,0])\n",
    "\n",
    "bit_diff = np.logical_xor(A,B)\n",
    "bit_diff.astype(int)\n",
    "\n",
    "np.logical_and(A, bit_diff).nonzero()"
   ]
  },
  {
   "cell_type": "code",
   "execution_count": null,
   "id": "081f4997",
   "metadata": {},
   "outputs": [],
   "source": [
    "# https://iopscience.iop.org/article/10.1088/2058-9565/aa9463/pdf\n",
    "\n",
    "from openfermion.chem.molecular_data import spinorb_from_spatial\n",
    "\n",
    "h_pq, eri_spin_physicists = spinorb_from_spatial(\n",
    "    H_ferm._one_body_integrals,  H_ferm._two_body_integrals)\n",
    "\n",
    "# eri_spin_physicists = np.einsum('ikjl -> ijkl', eri_spin_physicists)\n",
    "# eri_spin_physicists = np.einsum('ijkl -> ikjl', eri_spin_physicists)\n",
    "eri_mo_spatial_physicists = np.einsum('ikjl -> ijkl', pyscf_mo_ints)\n",
    "H_ci = coo_matrix((2**H_symmer.n_qubits,2**H_symmer.n_qubits) ,\n",
    "            dtype=complex\n",
    "        )\n",
    "H_ci = csr_matrix(H_ci)\n",
    "\n",
    "allowed_dets = [hf_state, *single_dets,*double_dets]\n",
    "for det_i in allowed_dets:\n",
    "    for det_j in allowed_dets:\n",
    "        \n",
    "        bit_diff = np.logical_xor(det_i,det_j)\n",
    "        n_diff = int(sum(bit_diff))\n",
    "        \n",
    "        if n_diff>4:\n",
    "            pass\n",
    "        else:\n",
    "            index_i = int(''.join(det_i.astype(str)),2)\n",
    "            index_j = int(''.join(det_j.astype(str)),2)\n",
    "            mat_element = 0\n",
    "            \n",
    "            if n_diff == 0:\n",
    "                # <i | H | i>\n",
    "                occ_inds_i = np.where(det_i)[0]\n",
    "                for i in occ_inds_i:\n",
    "                    mat_element+= h_pq[i,i]\n",
    "                    \n",
    "                for ind1, i in enumerate(occ_inds_i[:-1]):\n",
    "                    for ind2 in range(ind1+1, len(occ_inds_i)):\n",
    "                        j = occ_inds_i[ind2]\n",
    "                        mat_element+= eri_spin_physicists[i,j,i,j] - eri_spin_physicists[i,j,j,i]\n",
    "\n",
    "            elif n_diff==2:                \n",
    "#                 diff_bit_indices = np.where(bit_diff)[0]\n",
    "#                 k = diff_bit_indices[0]\n",
    "#                 l = diff_bit_indices[1]\n",
    "                # order matters!\n",
    "                k = np.logical_and(det_i, bit_diff).nonzero()[0]\n",
    "                l = np.logical_and(det_j, bit_diff).nonzero()[0]\n",
    "                mat_element += h_pq[k,l]\n",
    "                \n",
    "                common_bits = np.where(np.logical_and(det_i,det_j))[0]\n",
    "                for i in common_bits:\n",
    "                    mat_element+= (eri_spin_physicists[k,i,l,i] \n",
    "                                   - eri_spin_physicists[k,i,i,l])\n",
    "                \n",
    "            elif n_diff==4:\n",
    "#                 diff_bit_indices = np.where(bit_diff)[0]\n",
    "#                 i = diff_bit_indices[0]\n",
    "#                 j =diff_bit_indices[1]\n",
    "#                 k = diff_bit_indices[2]\n",
    "#                 l = diff_bit_indices[3]\n",
    "                ij = np.logical_and(det_i, bit_diff).nonzero()[0]\n",
    "                kl = np.logical_and(det_j, bit_diff).nonzero()[0]\n",
    "                i, j = ij[0],ij[1]\n",
    "                k, l = kl[0], kl[1]\n",
    "                mat_element += eri_spin_physicists[i,j,k,l] - eri_spin_physicists[i,j,l,k]\n",
    "            \n",
    "            H_ci[index_i, index_j] = mat_element"
   ]
  },
  {
   "cell_type": "code",
   "execution_count": null,
   "id": "dac29bb9",
   "metadata": {},
   "outputs": [],
   "source": [
    "kl"
   ]
  },
  {
   "cell_type": "code",
   "execution_count": null,
   "id": "ead08c97",
   "metadata": {},
   "outputs": [],
   "source": [
    "E_CISD, vec_CISD = eigsh(H_ci, which='SA', k=1)\n",
    "E_CISD + pyscf_obj.pyscf_hf.energy_nuc()"
   ]
  },
  {
   "cell_type": "code",
   "execution_count": null,
   "id": "30de748c",
   "metadata": {},
   "outputs": [],
   "source": [
    "pyscf_obj.pyscf_cisd.e_corr"
   ]
  },
  {
   "cell_type": "code",
   "execution_count": null,
   "id": "43cee1b3",
   "metadata": {},
   "outputs": [],
   "source": [
    "# pyscf_obj.pyscf_hf.energy_elec()[0] "
   ]
  },
  {
   "cell_type": "code",
   "execution_count": null,
   "id": "9e7fdea9",
   "metadata": {},
   "outputs": [],
   "source": [
    "pyscf_obj.pyscf_cisd.e_tot"
   ]
  },
  {
   "cell_type": "code",
   "execution_count": null,
   "id": "27ac2e16",
   "metadata": {},
   "outputs": [],
   "source": [
    "H_ci.shape"
   ]
  },
  {
   "cell_type": "code",
   "execution_count": null,
   "id": "4f8ec9a5",
   "metadata": {},
   "outputs": [],
   "source": []
  },
  {
   "cell_type": "code",
   "execution_count": null,
   "id": "09f179d1",
   "metadata": {},
   "outputs": [],
   "source": []
  },
  {
   "cell_type": "code",
   "execution_count": null,
   "id": "2b567fcd",
   "metadata": {},
   "outputs": [],
   "source": [
    "out = H_red - H_ci\n",
    "\n",
    "np.einsum('ij->', out.toarray())"
   ]
  },
  {
   "cell_type": "code",
   "execution_count": null,
   "id": "0cec4c1d",
   "metadata": {},
   "outputs": [],
   "source": [
    "from pyscf import ao2mo, gto, scf, ci\n",
    "\n",
    "full_system_mol = gto.Mole(atom=xyz_file[3:],\n",
    "                           basis=basis,\n",
    "                           charge=0,\n",
    "                           spin=0\n",
    "                           )\n",
    "full_system_mol.build()\n",
    "\n",
    "H_core_ao = scf.hf.get_hcore(full_system_mol)\n",
    "eri_ao = full_system_mol.intor('int2e')  # 2e- electron repulsion integrals in AO basis\n",
    "\n",
    "n_docc = full_system_mol.nelectron // 2  # number of double occupied orbitals\n",
    "n_bas_ft = full_system_mol.nao\n",
    "\n",
    "\n",
    "SCF_obj = scf.RHF(full_system_mol)\n",
    "SCF_obj.verbose = 1\n",
    "SCF_obj.kernel()\n",
    "\n",
    "SCF_obj.kernel()\n",
    "\n",
    "pyscf_cisd = ci.CISD(SCF_obj)\n",
    "pyscf_cisd.verbose = 1\n",
    "pyscf_cisd.kernel()[0]\n",
    "pyscf_cisd.e_tot"
   ]
  },
  {
   "cell_type": "code",
   "execution_count": null,
   "id": "a2123458",
   "metadata": {},
   "outputs": [],
   "source": [
    "from pyscf import ao2mo\n",
    "# pyscf version!\n",
    "C = pyscf_obj.pyscf_hf.mo_coeff\n",
    "H_core_ao = pyscf_obj.pyscf_hf.get_hcore()\n",
    "n_bas_ft =pyscf_obj.pyscf_hf.mol.nao\n",
    "\n",
    "pyscf_mo_ints = ao2mo.kernel(pyscf_obj.pyscf_hf.mol, C)\n",
    "\n",
    "# Convert the 2e integrals (in Chemist’s notation)\n",
    "pyscf_mo_ints = ao2mo.restore(1, pyscf_mo_ints, pyscf_obj.pyscf_hf.mol.nao)\n",
    "\n",
    "# pyscf_mo_ints = pyscf_mo_ints.transpose(0,2,3,1) #<- converts to physists notation if needed\n",
    "\n",
    "# h_ij MO basis\n",
    "hcore_ij = C.conj().T @ H_core_ao @ C  # # NOT FOCK\n",
    "\n",
    "###### next convert into spatial to spin\n",
    "n_spatial = n_bas_ft  # number of atomic orbitals\n",
    "n_spin = 2 * n_spatial  # two times for spin up and down!\n",
    "\n",
    "# H_CORE\n",
    "h_core_spin = np.zeros((n_spin, n_spin))\n",
    "for p in range(n_spatial):\n",
    "    for q in range(n_spatial):\n",
    "        # even indices are SPIN UP!\n",
    "        h_core_spin[2 * p,\n",
    "                    2 * q] = hcore_ij[p, q]\n",
    "\n",
    "        # odd indices are SPIN DOWN!\n",
    "        h_core_spin[2 * p + 1,\n",
    "                    2 * q + 1] = hcore_ij[p, q]\n",
    "\n",
    "# ERI\n",
    "eri_spin_physicists = np.zeros((n_spin, n_spin, n_spin, n_spin))\n",
    "eri_mo_spatial_physicists = np.einsum('ijkl -> ikjl', pyscf_mo_ints)\n",
    "for p in range(n_spatial):\n",
    "    for q in range(n_spatial):\n",
    "        for r in range(n_spatial):\n",
    "            for s in range(n_spatial):\n",
    "                MO_spatial_term = eri_mo_spatial_physicists[p, q, r, s]\n",
    "\n",
    "                # up, up, up, up\n",
    "                eri_spin_physicists[2 * p, 2 * q,\n",
    "                                    2 * r, 2 * s] = MO_spatial_term\n",
    "\n",
    "                # down, down, down, down\n",
    "                eri_spin_physicists[2 * p + 1, 2 * q + 1,\n",
    "                                    2 * r + 1, 2 * s + 1] = MO_spatial_term\n",
    "\n",
    "                # up down up down\n",
    "                eri_spin_physicists[2 * p, 2 * q + 1,\n",
    "                                    2 * r, 2 * s + 1] = MO_spatial_term\n",
    "\n",
    "                # down up down up\n",
    "                eri_spin_physicists[2 * p + 1, 2 * q,\n",
    "                                    2 * r + 1, 2 * s] = MO_spatial_term\n",
    "\n",
    "                # other terms go to ZERO!\n",
    "\n",
    "## physicists notation\n",
    "# eri_spin_physicists = np.einsum('ikjl -> ijkl', eri_spin_physicists)\n",
    "# eri_spin_physicists = np.einsum('ikjl -> ijlk', eri_spin_physicists)\n",
    "CONSTANT_nuclear_energy = full_system_mol.energy_nuc()\n",
    "\n",
    "h_pq = h_core_spin\n",
    "\n",
    "\n",
    "H_ci = coo_matrix((2**H_symmer.n_qubits,2**H_symmer.n_qubits) ,\n",
    "            dtype=complex)\n",
    "H_ci = csr_matrix(H_ci)\n",
    "\n",
    "allowed_dets = [hf_state, *single_dets,*double_dets]\n",
    "for det_i in allowed_dets:\n",
    "    for det_j in allowed_dets:\n",
    "        \n",
    "        bit_diff = np.logical_xor(det_i,det_j)\n",
    "        n_diff = int(sum(bit_diff))\n",
    "        \n",
    "        if n_diff>4:\n",
    "            pass\n",
    "        else:\n",
    "            index_i = int(''.join(det_i.astype(str)),2)\n",
    "            index_j = int(''.join(det_j.astype(str)),2)\n",
    "            mat_element = 0\n",
    "            \n",
    "            if n_diff == 0:\n",
    "                # <i | H | i>\n",
    "                occ_inds_i = np.where(det_i)[0]\n",
    "                for i in occ_inds_i:\n",
    "                    mat_element+= h_pq[i,i]\n",
    "                    \n",
    "                for ind1, i in enumerate(occ_inds_i[:-1]):\n",
    "                    for ind2 in range(ind1+1, len(occ_inds_i)):\n",
    "                        j = occ_inds_i[ind2]\n",
    "                        mat_element+= eri_spin_physicists[i,j,i,j] - eri_spin_physicists[i,j,j,i]\n",
    "\n",
    "            elif n_diff==2:                \n",
    "#                 diff_bit_indices = np.where(bit_diff)[0]\n",
    "#                 k = diff_bit_indices[0]\n",
    "#                 l = diff_bit_indices[1]\n",
    "                # order matters!\n",
    "                k = np.logical_and(det_i, bit_diff).nonzero()[0]\n",
    "                l = np.logical_and(det_j, bit_diff).nonzero()[0]\n",
    "                mat_element += h_pq[k,l]\n",
    "                \n",
    "                common_bits = np.where(np.logical_and(det_i,det_j))[0]\n",
    "                for i in common_bits:\n",
    "                    mat_element+= (eri_spin_physicists[k,i,l,i] \n",
    "                                   - eri_spin_physicists[k,i,i,l])\n",
    "                \n",
    "            elif n_diff==4:\n",
    "#                 diff_bit_indices = np.where(bit_diff)[0]\n",
    "#                 i = diff_bit_indices[0]\n",
    "#                 j =diff_bit_indices[1]\n",
    "#                 k = diff_bit_indices[2]\n",
    "#                 l = diff_bit_indices[3]\n",
    "                ij = np.logical_and(det_i, bit_diff).nonzero()[0]\n",
    "                kl = np.logical_and(det_j, bit_diff).nonzero()[0]\n",
    "                i, j = ij[0],ij[1]\n",
    "                k, l = kl[0], kl[1]\n",
    "                mat_element += eri_spin_physicists[i,j,k,l] - eri_spin_physicists[i,j,l,k]\n",
    "            \n",
    "            \n",
    "            sign = 1\n",
    "            alphaPositions = np.where(det_i[::2])[0] *2 \n",
    "            betaPositions = np.where(det_i[1::2])[0] *2  +1\n",
    "            for i in range(len(alphaPositions)):\n",
    "                if (alphaPositions[i] - i) % 2 == 1:\n",
    "                    sign = -sign\n",
    "            for i in range(len(betaPositions)):\n",
    "                if (betaPositions[i] - i) % 2 == 1:\n",
    "                    sign = -sign\n",
    "            \n",
    "            alphaPositions = np.where(det_j[::2])[0] *2 \n",
    "            betaPositions = np.where(det_j[1::2])[0] *2  +1\n",
    "            for i in range(len(alphaPositions)):\n",
    "                if (alphaPositions[i] - i) % 2 == 1:\n",
    "                    sign = -sign\n",
    "            for i in range(len(betaPositions)):\n",
    "                if (betaPositions[i] - i) % 2 == 1:\n",
    "                    sign = -sign\n",
    "            H_ci[index_i, index_j] = mat_element * sign"
   ]
  },
  {
   "cell_type": "code",
   "execution_count": null,
   "id": "db4ee15d",
   "metadata": {},
   "outputs": [],
   "source": [
    "E_CISD, vec_CISD = eigsh(H_ci, which='SA', k=1)\n",
    "E_CISD + SCF_obj.energy_nuc()"
   ]
  },
  {
   "cell_type": "code",
   "execution_count": null,
   "id": "14689cee",
   "metadata": {},
   "outputs": [],
   "source": [
    "pyscf_cisd.e_tot"
   ]
  },
  {
   "cell_type": "code",
   "execution_count": null,
   "id": "f790efc6",
   "metadata": {},
   "outputs": [],
   "source": [
    "np.allclose(H_red.toarray(),\n",
    "            H_ci.toarray())"
   ]
  },
  {
   "cell_type": "code",
   "execution_count": null,
   "id": "953e519b",
   "metadata": {},
   "outputs": [],
   "source": [
    "H1 = H_red.toarray()\n",
    "H2 = H_ci.toarray()\n",
    "diff = (H1 - H2)\n",
    "np.einsum('ij->', diff)\n",
    "\n",
    "diff_h = abs(H1 - H2)\n",
    "diff_inds = np.where(diff_h>1e-12)\n",
    "\n",
    "# ind=6$\n",
    "ind=12\n",
    "row = diff_inds[0][ind]\n",
    "col = diff_inds[1][ind]\n",
    "print('wrong:', len(diff_inds[0]))\n",
    "print(row,col)\n",
    "\n",
    "print(H1[row, col] )\n",
    "print(H2[row, col])\n",
    "\n",
    "print(np.binary_repr(row, width=H_ferm.n_qubits))\n",
    "print(np.binary_repr(col, width=H_ferm.n_qubits))"
   ]
  },
  {
   "cell_type": "code",
   "execution_count": null,
   "id": "ac65c629",
   "metadata": {},
   "outputs": [],
   "source": [
    "T = np.array(list(np.binary_repr(row, width=H_ferm.n_qubits))).astype(int)\n",
    "W = np.array(list(np.binary_repr(col, width=H_ferm.n_qubits))).astype(int)\n",
    "# sort_det(T) * sort_det(W) * sort_det(hf_state)\n",
    "# sort_det(W)"
   ]
  },
  {
   "cell_type": "code",
   "execution_count": null,
   "id": "d50f633d",
   "metadata": {},
   "outputs": [],
   "source": [
    "# print(W)\n",
    "# print(hf_state)\n",
    "# print(np.logical_and(hf_state,W).astype(int))\n"
   ]
  },
  {
   "cell_type": "code",
   "execution_count": null,
   "id": "8eea855d",
   "metadata": {},
   "outputs": [],
   "source": [
    "T = np.array([0,1,0,1,0,1,0,1])\n",
    "W = np.array([0,0,1,1,1,1,0,0])\n",
    "\n",
    "# T = np.array([0,0,1,1,0,0])\n",
    "# W = np.array([0,0,0,1,0,1])\n",
    "\n",
    "print('T', T)\n",
    "nonz_T = T.nonzero()[0]\n",
    "print('T', nonz_T)\n",
    "print()\n",
    "print('W', W)\n",
    "nonz_W = W.nonzero()[0]\n",
    "print('W', nonz_W)\n",
    "\n",
    "common_ints = np.intersect1d(nonz_T, nonz_W)\n",
    "print('common', common_ints)\n",
    "\n",
    "T_to_sort = [i if i in common_ints else 0 for i in nonz_T ]\n",
    "W_to_sort = [i if i in common_ints else 0 for i in nonz_W ]\n",
    "\n",
    "print(T_to_sort)\n",
    "print(W_to_sort)\n",
    "\n",
    "\n",
    "sort_det(T_to_sort)\n",
    "# T_mod = T.copy()\n",
    "# for i in nonz_T:\n",
    "#     if i in common_ints:\n",
    "#         T_mod[i]=1\n",
    "# T_mod\n"
   ]
  },
  {
   "cell_type": "code",
   "execution_count": null,
   "id": "43a43540",
   "metadata": {},
   "outputs": [],
   "source": []
  },
  {
   "cell_type": "code",
   "execution_count": null,
   "id": "a178f980",
   "metadata": {},
   "outputs": [],
   "source": [
    "sort_det(hf_state)\n",
    "hf_state\n",
    "np.log"
   ]
  },
  {
   "cell_type": "code",
   "execution_count": null,
   "id": "98c054ea",
   "metadata": {},
   "outputs": [],
   "source": [
    "HF_index"
   ]
  },
  {
   "cell_type": "code",
   "execution_count": null,
   "id": "ac994520",
   "metadata": {},
   "outputs": [],
   "source": [
    "np.allclose(abs(H1),\n",
    "            abs(H2))"
   ]
  },
  {
   "cell_type": "code",
   "execution_count": null,
   "id": "8370df1d",
   "metadata": {},
   "outputs": [],
   "source": [
    "np.logical_and(3,2)"
   ]
  },
  {
   "cell_type": "code",
   "execution_count": null,
   "id": "577caf6b",
   "metadata": {},
   "outputs": [],
   "source": [
    "\n",
    "np.logical_and(W,T)"
   ]
  },
  {
   "cell_type": "code",
   "execution_count": null,
   "id": "40aacb71",
   "metadata": {},
   "outputs": [],
   "source": [
    "print(W)\n",
    "print(T)\n"
   ]
  },
  {
   "cell_type": "code",
   "execution_count": null,
   "id": "bee5cfeb",
   "metadata": {},
   "outputs": [],
   "source": [
    "sign=1\n",
    "temp = T+W\n",
    "for i in range(len(temp)):\n",
    "    if (temp[i] - i) % 2 == 1:\n",
    "        sign = -sign\n",
    "sign"
   ]
  },
  {
   "cell_type": "code",
   "execution_count": null,
   "id": "c5bc48bd",
   "metadata": {},
   "outputs": [],
   "source": []
  },
  {
   "cell_type": "code",
   "execution_count": null,
   "id": "099242cb",
   "metadata": {},
   "outputs": [],
   "source": [
    "def sort_det(array):\n",
    "    \"\"\"\n",
    "    \n",
    "    \"\"\"\n",
    "\n",
    "    arr = np.asarray(array)*-1\n",
    "    n_sites = arr.shape[0]\n",
    "    sign_dict = {0: +1, 1:-1}\n",
    "    # Traverse through all array elements\n",
    "    swap_counter = 0\n",
    "    for i in range(n_sites):\n",
    "        swapped = False\n",
    "        for j in range(0, n_sites - i - 1):\n",
    "            if arr[j] > arr[j + 1]:\n",
    "                arr[j], arr[j + 1] = arr[j + 1], arr[j]\n",
    "                swapped = True\n",
    "                swap_counter+=1\n",
    "\n",
    "        if swapped == False:\n",
    "            break\n",
    "\n",
    "#     return np.abs(arr.tolist()), sign_dict[swap_counter%2]\n",
    "    return sign_dict[swap_counter%2]\n",
    "\n",
    "sort_det([0,1,1,1])"
   ]
  },
  {
   "cell_type": "code",
   "execution_count": null,
   "id": "2bde53c7",
   "metadata": {},
   "outputs": [],
   "source": [
    "A=[1,0,1,0]\n",
    "B=[1,0,0,1]\n",
    "# sort_det(A) * sort_det(B)\n",
    "sort_det(np.logical_or(A,B).astype(int))"
   ]
  },
  {
   "cell_type": "code",
   "execution_count": null,
   "id": "b29881f9",
   "metadata": {},
   "outputs": [],
   "source": [
    "W_temp = np.arange(len(W.nonzero()[0]))\n",
    "# W_temp[W.nonzero()]*=-1\n",
    "# bubble_sort_maj(W_temp)\n",
    "W_temp"
   ]
  },
  {
   "cell_type": "code",
   "execution_count": null,
   "id": "b667db81",
   "metadata": {},
   "outputs": [],
   "source": [
    "\n",
    "\n",
    "bit_diff = np.logical_xor(det_i,det_j)\n",
    "# k = np.logical_and(det_i, bit_diff).nonzero()[0]\n",
    "# l = np.logical_and(det_j, bit_diff).nonzero()[0]\n",
    "\n",
    "ij = np.logical_and(det_i, bit_diff).nonzero()[0]\n",
    "kl = np.logical_and(det_j, bit_diff).nonzero()[0]\n",
    "i, j = ij[0],ij[1]\n",
    "k, l = kl[0], kl[1]\n",
    "\n",
    "-1**(sum(det_i[:(i-1)]) + sum(det_i[:(j-1)])) * -1**(sum(det_j[:(k-1)]) + sum(det_j[:(l-1)]))"
   ]
  },
  {
   "cell_type": "code",
   "execution_count": null,
   "id": "05e58b94",
   "metadata": {},
   "outputs": [],
   "source": []
  },
  {
   "cell_type": "code",
   "execution_count": null,
   "id": "6eb90808",
   "metadata": {},
   "outputs": [],
   "source": [
    "sign = 1\n",
    "alphaPositions = np.where(det_i[::2])[0]\n",
    "alphaPositions = alphaPositions*2\n",
    "\n",
    "betaPositions = np.where(det_i[1::2])[0]\n",
    "betaPositions = betaPositions*2 + 1\n",
    "\n",
    "sign=1\n",
    "for i in range(len(alphaPositions)):\n",
    "    if (alphaPositions[i] - i) % 2 == 1:\n",
    "        sign = -sign\n",
    "for i in range(len(betaPositions)):\n",
    "    if (betaPositions[i] - i) % 2 == 1:\n",
    "        sign = -sign\n",
    "sign"
   ]
  },
  {
   "cell_type": "code",
   "execution_count": null,
   "id": "afc9801b",
   "metadata": {},
   "outputs": [],
   "source": [
    "T = np.array(list(np.binary_repr(row, width=H_ferm.n_qubits))).astype(int)\n",
    "W = np.array(list(np.binary_repr(col, width=H_ferm.n_qubits))).astype(int)\n",
    "bit_diff = np.logical_xor(W,T)\n",
    "# bit_diff\n",
    "permutations = sum(bit_diff.nonzero()[0])/2\n",
    "-1**permutations"
   ]
  },
  {
   "cell_type": "code",
   "execution_count": null,
   "id": "2f6c5d68",
   "metadata": {},
   "outputs": [],
   "source": []
  },
  {
   "cell_type": "code",
   "execution_count": null,
   "id": "b5791e04",
   "metadata": {},
   "outputs": [],
   "source": [
    "# alphaPositions, betaPositions = self.getOrbitalPositionLists(alphaIndexList, betaIndexList)\n",
    "#         for i in range(len(alphaPositions)):\n",
    "#             if (alphaPositions[i] - i) % 2 == 1:\n",
    "#                 sign = -sign\n",
    "#         for i in range(len(betaPositions)):\n",
    "#             if (betaPositions[i] - i) % 2 == 1:\n",
    "#                 sign = -sign\n",
    "#         return sign\n",
    "    \n",
    "\n",
    "# np.where()[0]\n"
   ]
  },
  {
   "cell_type": "code",
   "execution_count": null,
   "id": "820991d2",
   "metadata": {},
   "outputs": [],
   "source": [
    "# def bubble_sort_maj(array):\n",
    "#     \"\"\"\n",
    "\n",
    "#     order a determinant so occ first\n",
    "#     Count number of swaps done\n",
    "#     \"\"\"\n",
    "\n",
    "#     arr = np.asarray(array)\n",
    "#     n_sites = arr.shape[0]\n",
    "#     sign_dict = {0: +1, 1:-1}\n",
    "#     # Traverse through all array elements\n",
    "#     swap_counter = 0\n",
    "#     for i in range(n_sites):\n",
    "#         swapped = False\n",
    "#         for j in range(0, n_sites - i - 1):\n",
    "#             if arr[j] > arr[j + 1]:\n",
    "#                 arr[j], arr[j + 1] = arr[j + 1], arr[j]\n",
    "#                 swapped = True\n",
    "#                 swap_counter+=1\n",
    "\n",
    "#         if swapped == False:\n",
    "#             break\n",
    "\n",
    "#     return arr.tolist(), sign_dict[swap_counter%2]"
   ]
  },
  {
   "cell_type": "code",
   "execution_count": null,
   "id": "f273fe5f",
   "metadata": {},
   "outputs": [],
   "source": []
  },
  {
   "cell_type": "code",
   "execution_count": null,
   "id": "5b666a7f",
   "metadata": {},
   "outputs": [],
   "source": [
    "B"
   ]
  },
  {
   "cell_type": "code",
   "execution_count": null,
   "id": "45a0edd0",
   "metadata": {},
   "outputs": [],
   "source": [
    "np.setdiff1d([1,2,3], 1)"
   ]
  },
  {
   "cell_type": "code",
   "execution_count": null,
   "id": "a684c652",
   "metadata": {},
   "outputs": [],
   "source": [
    "from openfermion.chem.molecular_data import spinorb_from_spatial\n",
    "\n",
    "h_pq, eri_spin_physicists = spinorb_from_spatial(\n",
    "    H_ferm._one_body_integrals,  H_ferm._two_body_integrals\n",
    ")\n",
    "\n",
    "\n",
    "\n",
    "CONSTANT_nuclear_energy = pyscf_obj.pyscf_hf.mol.energy_nuc()\n",
    "fermionic_CISD = FermionOperator('', CONSTANT_nuclear_energy)\n",
    "for q,p in single_excitations:\n",
    "    fermionic_CISD += FermionOperator(f'{p}^ {q}', h_pq[p,q])\n",
    "\n",
    "for s,q,p,r in double_excitations:\n",
    "    g_pqrs = eri_spin_physicists[p, q, r, s]\n",
    "    fermionic_CISD += 0.5 * FermionOperator(f'{p}^ {r}^ {s} {q}', g_pqrs)\n",
    "\n",
    "    \n",
    "# fermionic_CISD += H_ferm.fermionic_fock_operator + \n",
    "# for p in range(n_spin):\n",
    "#     for q in range(n_spin):\n",
    "#         h_pq = h_core_spin[p, q]\n",
    "#         fermionic_H += FermionOperator(f'{p}^ {q}', h_pq)\n",
    "\n",
    "#         for r in range(n_spin):\n",
    "#             for s in range(n_spin):\n",
    "#                 g_pqrs = eri_spin_physicists[p, q, r, s]\n",
    "#                 fermionic_H += 0.5 * FermionOperator(f'{p}^ {r}^ {s} {q}', g_pqrs)"
   ]
  },
  {
   "cell_type": "code",
   "execution_count": null,
   "id": "4704480d",
   "metadata": {},
   "outputs": [],
   "source": [
    "E, vec = eigsh(get_sparse_operator(fermionic_CISD), which='SA', k=1)\n",
    "E"
   ]
  },
  {
   "cell_type": "code",
   "execution_count": null,
   "id": "de417181",
   "metadata": {},
   "outputs": [],
   "source": [
    "RDM_1 = pyscf_obj.pyscf_cisd.make_rdm1()\n",
    "\n",
    "# spin_RDM_1 = np.zeros((RDM_1.shape[0]*2, RDM_1.shape[1]*2))\n",
    "\n",
    "\n",
    "\n",
    "single_terms = FermionOperator()\n",
    "for i, a in single_excitations:\n",
    "    alpha = RDM_1[i//2,a//2]\n",
    "    beta = alpha # restricted!\n",
    "    op1 = FermionOperator(f'{2*a}^ {2*i}', alpha)\n",
    "    op2 = FermionOperator(f'{2*a+1}^ {2*i+1}', beta)\n",
    "    single_terms+= op1\n",
    "    single_terms += op2\n",
    "\n",
    "    "
   ]
  },
  {
   "cell_type": "code",
   "execution_count": null,
   "id": "72fde57d",
   "metadata": {},
   "outputs": [],
   "source": []
  },
  {
   "cell_type": "code",
   "execution_count": null,
   "id": "9f340b72",
   "metadata": {},
   "outputs": [],
   "source": [
    "double_excitations[100]"
   ]
  },
  {
   "cell_type": "code",
   "execution_count": null,
   "id": "f9d04a33",
   "metadata": {},
   "outputs": [],
   "source": [
    "# could also brute force"
   ]
  },
  {
   "cell_type": "code",
   "execution_count": null,
   "id": "21f1ce86",
   "metadata": {},
   "outputs": [],
   "source": [
    "double_dets[50] == double_dets[2]"
   ]
  },
  {
   "cell_type": "code",
   "execution_count": null,
   "id": "17cfe13f",
   "metadata": {},
   "outputs": [],
   "source": []
  },
  {
   "cell_type": "code",
   "execution_count": null,
   "id": "3bfbb489",
   "metadata": {},
   "outputs": [],
   "source": []
  },
  {
   "cell_type": "code",
   "execution_count": null,
   "id": "bb326f80",
   "metadata": {},
   "outputs": [],
   "source": [
    "hf_state = H_ferm.hf_comp_basis_state\n",
    "hf_state\n"
   ]
  },
  {
   "cell_type": "code",
   "execution_count": null,
   "id": "d5626532",
   "metadata": {},
   "outputs": [],
   "source": [
    "hf_ket = H_ferm.hf_ket\n",
    "hf_ket.shape"
   ]
  },
  {
   "cell_type": "code",
   "execution_count": null,
   "id": "78c3ce9b",
   "metadata": {},
   "outputs": [],
   "source": [
    "hfock_energy = pyscf_obj.pyscf_hf.energy_tot()\n",
    "print(hfock_energy)\n",
    "\n",
    "H_mat = H_ferm.get_sparse_ham()\n",
    "hf_ket.conj().T @ H_mat @ hf_ket"
   ]
  },
  {
   "cell_type": "code",
   "execution_count": null,
   "id": "ae90168a",
   "metadata": {},
   "outputs": [],
   "source": []
  },
  {
   "cell_type": "code",
   "execution_count": null,
   "id": "eefdba2c",
   "metadata": {},
   "outputs": [],
   "source": [
    "from symmer.chemistry import Draw_cube_orbital\n",
    "\n",
    "print('indices:', list(range(pyscf_obj.pyscf_hf.mo_coeff.shape[1])))\n",
    "\n",
    "index_list = [3,4]\n",
    "\n",
    "orb_list = Draw_cube_orbital(pyscf_obj.pyscf_hf.mol,\n",
    "                           xyz_file,  \n",
    "                           pyscf_obj.pyscf_hf.mo_coeff,\n",
    "                           index_list,\n",
    "                           width=400,\n",
    "                           height=400,\n",
    "                           style=\"stick\") # change to sphere/stick\n",
    "for orb in orb_list:\n",
    "    orb.show()"
   ]
  },
  {
   "cell_type": "code",
   "execution_count": null,
   "id": "173e8438",
   "metadata": {},
   "outputs": [],
   "source": [
    "get_sparse_operator( FermionOperator(f'{1}^ {1}', 1)).toarray()"
   ]
  },
  {
   "cell_type": "code",
   "execution_count": null,
   "id": "3f649659",
   "metadata": {},
   "outputs": [],
   "source": [
    "get_sparse_operator( FermionOperator(f'{0}^ {1}', 1), n_qubits=2).toarray()"
   ]
  },
  {
   "cell_type": "code",
   "execution_count": null,
   "id": "38fb6fcd",
   "metadata": {},
   "outputs": [],
   "source": [
    "get_sparse_operator( FermionOperator(f'{0}^ {1}^ {1} {0}', 1), n_qubits=2).toarray()"
   ]
  },
  {
   "cell_type": "code",
   "execution_count": null,
   "id": "7a5daa2d",
   "metadata": {},
   "outputs": [],
   "source": [
    "get_sparse_operator( FermionOperator(f'{1}^ {0}^ {1} {1}', 1), n_qubits=2).toarray()"
   ]
  },
  {
   "cell_type": "code",
   "execution_count": null,
   "id": "409eb02c",
   "metadata": {},
   "outputs": [],
   "source": []
  },
  {
   "cell_type": "code",
   "execution_count": null,
   "id": "1030d0cb",
   "metadata": {},
   "outputs": [],
   "source": []
  },
  {
   "cell_type": "code",
   "execution_count": null,
   "id": "d20c2bac",
   "metadata": {},
   "outputs": [],
   "source": [
    "\n",
    "\n",
    "\n",
    "    \n",
    "\n",
    "sort_det([4,5,2])"
   ]
  },
  {
   "cell_type": "code",
   "execution_count": null,
   "id": "0b9b09b1",
   "metadata": {},
   "outputs": [],
   "source": [
    "diff = np.logical_xor(T,W)\n",
    "print(T)\n",
    "print(W)\n",
    "get_sign(T,W,diff)"
   ]
  },
  {
   "cell_type": "code",
   "execution_count": null,
   "id": "753dac50",
   "metadata": {},
   "outputs": [],
   "source": []
  },
  {
   "cell_type": "code",
   "execution_count": null,
   "id": "afaa3191",
   "metadata": {},
   "outputs": [],
   "source": [
    "# T = np.array([0,1,0,1,0,1,0,1])\n",
    "# W = np.array([0,0,1,1,1,1,0,0])\n",
    "\n",
    "diff = np.logical_xor(T,W)\n",
    "get_sign(T,W, diff)"
   ]
  },
  {
   "cell_type": "code",
   "execution_count": null,
   "id": "fa7ff1c4",
   "metadata": {},
   "outputs": [],
   "source": [
    "# T = np.array([0,1,0,1,0,1,0,1])\n",
    "# W = np.array([0,0,1,1,1,1,0,0])\n",
    "\n",
    "# T = np.array([0,0,1,1,0,0])\n",
    "# W = np.array([0,0,0,1,0,1])\n",
    "\n",
    "print('T', T)\n",
    "nonz_T = T.nonzero()[0]\n",
    "print('T', nonz_T)\n",
    "print()\n",
    "print('W', W)\n",
    "nonz_W = W.nonzero()[0]\n",
    "print('W', nonz_W)\n",
    "\n",
    "diff = np.logical_xor(T,W)\n",
    "unique = diff.nonzero()[0]\n",
    "T_unique = np.intersect1d(nonz_T, unique)\n",
    "W_unique = np.intersect1d(nonz_W, unique)\n",
    "\n",
    "\n",
    "for ind, t in enumerate(T_unique):\n",
    "    swap_ind = np.where(t==nonz_T)[0]\n",
    "    nonz_T[ind], nonz_T[swap_ind] = nonz_T[swap_ind], nonz_T[ind]\n",
    "\n",
    "for ind, w in enumerate(W_unique):\n",
    "    swap_ind = np.where(w==nonz_W)[0]\n",
    "    nonz_W[ind], nonz_W[swap_ind] = nonz_W[swap_ind], nonz_W[ind]\n",
    "\n",
    "print(nonz_W)\n",
    "print(nonz_T) \n",
    "\n",
    "sign = sort_det(nonz_W[len(T_unique):]) * sort_det(nonz_T[len(T_unique):])\n",
    "print(sign)\n",
    "    # nonz_T[1], nonz_T[T_unique[1]] = nonz_T[T_unique[1]], nonz_T[1]\n",
    "# common_ints = np.intersect1d(nonz_T, nonz_W)\n",
    "# print('common', common_ints)\n",
    "\n",
    "# T_to_sort = [i if i in common_ints else 0 for i in nonz_T ]\n",
    "# W_to_sort = [i if i in common_ints else 0 for i in nonz_W ]\n",
    "\n",
    "# print(T_to_sort)\n",
    "# print(W_to_sort)\n",
    "\n",
    "\n",
    "# sort_det(T_to_sort)\n",
    "# # T_mod = T.copy()\n",
    "# # for i in nonz_T:\n",
    "# #     if i in common_ints:\n",
    "# #         T_mod[i]=1\n",
    "# # T_mod\n"
   ]
  },
  {
   "cell_type": "code",
   "execution_count": null,
   "id": "c029c4ab",
   "metadata": {},
   "outputs": [],
   "source": []
  },
  {
   "cell_type": "code",
   "execution_count": null,
   "id": "ad4772fd",
   "metadata": {},
   "outputs": [],
   "source": [
    "def sort_det(array):\n",
    "    \"\"\"\n",
    "    \n",
    "    \"\"\"\n",
    "\n",
    "    arr = np.asarray(array)\n",
    "    n_sites = arr.shape[0]\n",
    "    sign_dict = {0: +1, 1:-1}\n",
    "    # Traverse through all array elements\n",
    "    swap_counter = 0\n",
    "    for i in range(n_sites):\n",
    "        swapped = False\n",
    "        for j in range(0, n_sites - i - 1):\n",
    "            if arr[j] > arr[j + 1]:\n",
    "                arr[j], arr[j + 1] = arr[j + 1], arr[j]\n",
    "                swapped = True\n",
    "                swap_counter+=1\n",
    "\n",
    "        if swapped == False:\n",
    "            break\n",
    "\n",
    "#     return np.abs(arr.tolist()), sign_dict[swap_counter%2]\n",
    "    return sign_dict[swap_counter%2]\n",
    "\n",
    "\n",
    "\n",
    "def get_sign(i_det, j_det, bit_differ):\n",
    "    \n",
    "    # first put unique part to start of list (count if swap needed!)\n",
    "    # then order RHS that contains common elements!\n",
    "    \n",
    "    nonzero_i = i_det.nonzero()[0]\n",
    "    nonzero_j = j_det.nonzero()[0]\n",
    "    \n",
    "    unique = bit_differ.nonzero()[0]\n",
    "    i_unique = np.intersect1d(nonzero_i, unique)\n",
    "    j_unique = np.intersect1d(nonzero_j, unique)\n",
    "    \n",
    "    count_i = 0\n",
    "    count_j = 0\n",
    "    for ind, unique_i in enumerate(i_unique):\n",
    "        swap_ind_i = np.where(unique_i==nonzero_i)[0]\n",
    "        \n",
    "        unique_j = j_unique[ind]\n",
    "        swap_ind_j = np.where(unique_j==nonzero_j)[0]\n",
    "        \n",
    "        # swap \n",
    "        if ind != swap_ind_i:\n",
    "            count_i+=1\n",
    "            nonzero_i[ind], nonzero_i[swap_ind_i] = nonzero_i[swap_ind_i], nonzero_i[ind]\n",
    "        if ind != swap_ind_j:\n",
    "            count_j +=1\n",
    "            nonzero_j[ind], nonzero_j[swap_ind_j] = nonzero_j[swap_ind_j], nonzero_j[ind]\n",
    "    \n",
    "    sign_i = sort_det(nonzero_i[len(i_unique):])\n",
    "    sign_j =  sort_det(nonzero_j[len(j_unique):])\n",
    "    return sign_i * sign_j * (-1)**(count_i+ count_j)"
   ]
  },
  {
   "cell_type": "code",
   "execution_count": null,
   "id": "dff7b6d2",
   "metadata": {},
   "outputs": [],
   "source": [
    "from pyscf import ao2mo, gto, scf, ci\n",
    "\n",
    "full_system_mol = gto.Mole(atom=xyz_file[3:],\n",
    "                           basis=basis,\n",
    "                           charge=0,\n",
    "                           spin=0\n",
    "                           )\n",
    "full_system_mol.build()\n",
    "\n",
    "H_core_ao = scf.hf.get_hcore(full_system_mol)\n",
    "eri_ao = full_system_mol.intor('int2e')  # 2e- electron repulsion integrals in AO basis\n",
    "\n",
    "n_docc = full_system_mol.nelectron // 2  # number of double occupied orbitals\n",
    "n_bas_ft = full_system_mol.nao\n",
    "\n",
    "\n",
    "SCF_obj = scf.RHF(full_system_mol)\n",
    "SCF_obj.verbose = 1\n",
    "SCF_obj.kernel()\n",
    "\n",
    "SCF_obj.kernel()\n",
    "\n",
    "pyscf_cisd = ci.CISD(SCF_obj)\n",
    "pyscf_cisd.verbose = 1\n",
    "pyscf_cisd.kernel()[0]\n",
    "pyscf_cisd.e_tot"
   ]
  },
  {
   "cell_type": "code",
   "execution_count": null,
   "id": "4a8686a8",
   "metadata": {},
   "outputs": [],
   "source": [
    "from pyscf import ao2mo\n",
    "# pyscf version!\n",
    "C = pyscf_obj.pyscf_hf.mo_coeff\n",
    "H_core_ao = pyscf_obj.pyscf_hf.get_hcore()\n",
    "n_bas_ft =pyscf_obj.pyscf_hf.mol.nao\n",
    "\n",
    "pyscf_mo_ints = ao2mo.kernel(pyscf_obj.pyscf_hf.mol, C)\n",
    "\n",
    "# Convert the 2e integrals (in Chemist’s notation)\n",
    "pyscf_mo_ints = ao2mo.restore(1, pyscf_mo_ints, pyscf_obj.pyscf_hf.mol.nao)\n",
    "\n",
    "# pyscf_mo_ints = pyscf_mo_ints.transpose(0,2,3,1) #<- converts to physists notation if needed\n",
    "\n",
    "# h_ij MO basis\n",
    "hcore_ij = C.conj().T @ H_core_ao @ C  # # NOT FOCK\n",
    "\n",
    "###### next convert into spatial to spin\n",
    "n_spatial = n_bas_ft  # number of atomic orbitals\n",
    "n_spin = 2 * n_spatial  # two times for spin up and down!\n",
    "\n",
    "# H_CORE\n",
    "h_core_spin = np.zeros((n_spin, n_spin))\n",
    "for p in range(n_spatial):\n",
    "    for q in range(n_spatial):\n",
    "        # even indices are SPIN UP!\n",
    "        h_core_spin[2 * p,\n",
    "                    2 * q] = hcore_ij[p, q]\n",
    "\n",
    "        # odd indices are SPIN DOWN!\n",
    "        h_core_spin[2 * p + 1,\n",
    "                    2 * q + 1] = hcore_ij[p, q]\n",
    "\n",
    "# ERI\n",
    "eri_spin_physicists = np.zeros((n_spin, n_spin, n_spin, n_spin))\n",
    "eri_mo_spatial_physicists = np.einsum('ijkl -> ikjl', pyscf_mo_ints)\n",
    "for p in range(n_spatial):\n",
    "    for q in range(n_spatial):\n",
    "        for r in range(n_spatial):\n",
    "            for s in range(n_spatial):\n",
    "                MO_spatial_term = eri_mo_spatial_physicists[p, q, r, s]\n",
    "\n",
    "                # up, up, up, up\n",
    "                eri_spin_physicists[2 * p, 2 * q,\n",
    "                                    2 * r, 2 * s] = MO_spatial_term\n",
    "\n",
    "                # down, down, down, down\n",
    "                eri_spin_physicists[2 * p + 1, 2 * q + 1,\n",
    "                                    2 * r + 1, 2 * s + 1] = MO_spatial_term\n",
    "\n",
    "                # up down up down\n",
    "                eri_spin_physicists[2 * p, 2 * q + 1,\n",
    "                                    2 * r, 2 * s + 1] = MO_spatial_term\n",
    "\n",
    "                # down up down up\n",
    "                eri_spin_physicists[2 * p + 1, 2 * q,\n",
    "                                    2 * r + 1, 2 * s] = MO_spatial_term\n",
    "\n",
    "                # other terms go to ZERO!\n",
    "\n",
    "## physicists notation\n",
    "# eri_spin_physicists = np.einsum('ikjl -> ijkl', eri_spin_physicists)\n",
    "# eri_spin_physicists = np.einsum('ikjl -> ijlk', eri_spin_physicists)\n",
    "CONSTANT_nuclear_energy = full_system_mol.energy_nuc()\n",
    "\n",
    "h_pq = h_core_spin\n"
   ]
  },
  {
   "cell_type": "code",
   "execution_count": null,
   "id": "6ed6f254",
   "metadata": {},
   "outputs": [],
   "source": [
    "# H_ci = coo_matrix((2**H_symmer.n_qubits,2**H_symmer.n_qubits) ,\n",
    "#             dtype=complex)\n",
    "# H_ci = csr_matrix(H_ci)\n",
    "data =[]\n",
    "row=[]\n",
    "col=[]\n",
    "\n",
    "allowed_dets = [hf_state, *single_dets,*double_dets]\n",
    "# allowed_dets = [*single_dets]\n",
    "for det_i in allowed_dets:\n",
    "    for det_j in allowed_dets:\n",
    "        \n",
    "        bit_diff = np.logical_xor(det_i,det_j)\n",
    "        n_diff = int(sum(bit_diff))\n",
    "        \n",
    "        if n_diff>4:\n",
    "            pass\n",
    "        else:\n",
    "            index_i = int(''.join(det_i.astype(str)),2)\n",
    "            index_j = int(''.join(det_j.astype(str)),2)\n",
    "            \n",
    "    \n",
    "            mat_element = 0\n",
    "            if n_diff == 0:\n",
    "                # <i | H | i>\n",
    "                occ_inds_i = np.where(det_i)[0]\n",
    "                for i in occ_inds_i:\n",
    "                    mat_element+= h_pq[i,i]\n",
    "                    \n",
    "                for ind1, i in enumerate(occ_inds_i[:-1]):\n",
    "                    for ind2 in range(ind1+1, len(occ_inds_i)):\n",
    "                        j = occ_inds_i[ind2]\n",
    "                        mat_element+= (eri_spin_physicists[i,j,i,j] - eri_spin_physicists[i,j,j,i])\n",
    "                sign = 1\n",
    "                \n",
    "            elif n_diff==2:                \n",
    "                # order matters!\n",
    "                k = np.logical_and(det_i, bit_diff).nonzero()[0]\n",
    "                l = np.logical_and(det_j, bit_diff).nonzero()[0]\n",
    "                mat_element += h_pq[k,l]\n",
    "                \n",
    "                common_bits = np.where(np.logical_and(det_i,det_j))[0]\n",
    "                for i in common_bits:\n",
    "                    mat_element+= (eri_spin_physicists[k,i,l,i] \n",
    "                                   - eri_spin_physicists[k,i,i,l]) \n",
    "                \n",
    "                sign = get_sign(det_i, det_j, bit_diff)\n",
    "                \n",
    "            elif n_diff==4:\n",
    "                ij = np.logical_and(det_i, bit_diff).nonzero()[0]\n",
    "                kl = np.logical_and(det_j, bit_diff).nonzero()[0]\n",
    "                i, j = ij[0],ij[1]\n",
    "                k, l = kl[0], kl[1]\n",
    "                mat_element += (eri_spin_physicists[i,j,k,l] - eri_spin_physicists[i,j,l,k])\n",
    "                \n",
    "                sign = get_sign(det_i, det_j, bit_diff)\n",
    "                \n",
    "                \n",
    "            \n",
    "            data.append(float(mat_element * sign))\n",
    "            row.append(index_i)\n",
    "            col.append(index_j)\n",
    "\n",
    "H_ci = csr_matrix((data, (row, col)), shape=(2**(2*n_spatial), 2**(2*n_spatial)))\n",
    "\n",
    "E_CI, vec_CI = eigsh(H_ci, which='SA', k=1)\n",
    "ci_qstate = QuantumState.from_array(vec_CI)\n",
    "del vec_CI"
   ]
  },
  {
   "cell_type": "code",
   "execution_count": null,
   "id": "e4193b65",
   "metadata": {},
   "outputs": [],
   "source": [
    "E_CI - pyscf_cisd.e_tot"
   ]
  },
  {
   "cell_type": "code",
   "execution_count": null,
   "id": "496804ef",
   "metadata": {},
   "outputs": [],
   "source": [
    "E_CI - SCF_obj.e_tot"
   ]
  },
  {
   "cell_type": "code",
   "execution_count": null,
   "id": "e269e14c",
   "metadata": {},
   "outputs": [],
   "source": []
  },
  {
   "cell_type": "code",
   "execution_count": null,
   "id": "3627b29f",
   "metadata": {},
   "outputs": [],
   "source": []
  }
 ],
 "metadata": {
  "kernelspec": {
   "display_name": "Python 3 (ipykernel)",
   "language": "python",
   "name": "python3"
  },
  "language_info": {
   "codemirror_mode": {
    "name": "ipython",
    "version": 3
   },
   "file_extension": ".py",
   "mimetype": "text/x-python",
   "name": "python",
   "nbconvert_exporter": "python",
   "pygments_lexer": "ipython3",
   "version": "3.9.7"
  },
  "vscode": {
   "interpreter": {
    "hash": "916dbcbb3f70747c44a77c7bcd40155683ae19c65e1c03b4aa3499c5328201f1"
   }
  }
 },
 "nbformat": 4,
 "nbformat_minor": 5
}
