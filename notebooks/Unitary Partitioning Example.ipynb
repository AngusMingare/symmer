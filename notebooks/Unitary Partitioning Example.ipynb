{
 "cells": [
  {
   "cell_type": "code",
   "execution_count": 1,
   "id": "e2ad199a",
   "metadata": {},
   "outputs": [],
   "source": [
    "import numpy as np\n",
    "from symmer.symplectic import (AntiCommutingOp, PauliwordOp, \n",
    "                               random_anitcomm_2n_1_PauliwordOp)\n",
    "\n",
    "from symmer.symplectic.anticommuting_op import conjugate_Pop_with_R"
   ]
  },
  {
   "cell_type": "code",
   "execution_count": null,
   "id": "ee1b3c89",
   "metadata": {},
   "outputs": [],
   "source": []
  },
  {
   "cell_type": "markdown",
   "id": "23774efa",
   "metadata": {},
   "source": [
    "# 1. Given an anticommuting set of operators"
   ]
  },
  {
   "cell_type": "code",
   "execution_count": 39,
   "id": "ad9a0546",
   "metadata": {},
   "outputs": [
    {
     "data": {
      "text/plain": [
       "11"
      ]
     },
     "execution_count": 39,
     "metadata": {},
     "output_type": "execute_result"
    }
   ],
   "source": [
    "# AC_dict = {'ZZZ':2, 'XXX':1, 'YYY':2}\n",
    "# test_op = AntiCommutingOp.from_dictionary(AC_dict)\n",
    "\n",
    "\n",
    "### randomly generate anticommuting operator\n",
    "nq = 5\n",
    "test_op = AntiCommutingOp.from_PauliwordOp(random_anitcomm_2n_1_PauliwordOp(nq))\n",
    "test_op.coeff_vec = (test_op.coeff_vec.real).astype(complex)\n",
    "test_op.n_terms"
   ]
  },
  {
   "cell_type": "code",
   "execution_count": 9,
   "id": "a2223686",
   "metadata": {},
   "outputs": [
    {
     "data": {
      "text/plain": [
       "-0.162+0.000j YYXZY +\n",
       "-0.292+0.000j ZYYYI +\n",
       "-0.233+0.000j IXIII +\n",
       " 0.179+0.000j YZYZX +\n",
       " 1.328+0.000j IZYIZ +\n",
       "-1.635+0.000j ZZIYY +\n",
       "-0.292+0.000j YZXII +\n",
       "-0.671+0.000j XZIZX +\n",
       " 0.029+0.000j ZZIIX +\n",
       " 2.092+0.000j XYZXY +\n",
       "-0.875+0.000j XZXYI"
      ]
     },
     "execution_count": 9,
     "metadata": {},
     "output_type": "execute_result"
    }
   ],
   "source": [
    "test_op"
   ]
  },
  {
   "cell_type": "code",
   "execution_count": null,
   "id": "c3ed1f3d",
   "metadata": {},
   "outputs": [],
   "source": []
  },
  {
   "cell_type": "markdown",
   "id": "40953bf6",
   "metadata": {},
   "source": [
    "# 2. Use unitary partitioning to find unitary mapping to a single term in the linear combination"
   ]
  },
  {
   "cell_type": "markdown",
   "id": "d9240c46",
   "metadata": {},
   "source": [
    "For full details see the following papers:\n",
    "- [PAPER](https://arxiv.org/abs/1908.08067)\n",
    "- [PAPER](https://journals.aps.org/prresearch/abstract/10.1103/PhysRevResearch.3.033195)\n",
    "\n",
    "TWO methods:\n",
    "1. linear combination of unitaries (LCU)\n",
    "2. a sequence of (exponentiated pauli) rotations"
   ]
  },
  {
   "cell_type": "code",
   "execution_count": null,
   "id": "3f1d28e8",
   "metadata": {},
   "outputs": [],
   "source": []
  },
  {
   "cell_type": "code",
   "execution_count": null,
   "id": "a47890b2",
   "metadata": {},
   "outputs": [],
   "source": []
  },
  {
   "cell_type": "code",
   "execution_count": null,
   "id": "72f93443",
   "metadata": {},
   "outputs": [],
   "source": []
  },
  {
   "cell_type": "markdown",
   "id": "422a287e",
   "metadata": {},
   "source": [
    "## 2.1 LCU method"
   ]
  },
  {
   "cell_type": "code",
   "execution_count": 37,
   "id": "d9b7e9e9",
   "metadata": {},
   "outputs": [],
   "source": [
    "# s_index gives index in symplectic matrix of Pauli term to be reduced too\n",
    "# if NOT defined then s_index is automatically chosen to be least Pauli dense term\n",
    "\n",
    "Ps_LCU, rotations_LCU, gamma_l_LCU, normed_clique_LCU = test_op.unitary_partitioning(up_method='LCU',\n",
    "                                                                                    s_index=None)\n",
    "\n",
    "# Ps_LCU = term that is reduced too\n",
    "# rotations_LCU = PauliwordOp of LCU unitary that does this\n",
    "# gamma_l_LCU = normalization factor of clique\n",
    "# normed_clique_LCU = normalized anticommuting operator"
   ]
  },
  {
   "cell_type": "code",
   "execution_count": 32,
   "id": "f959495c",
   "metadata": {},
   "outputs": [
    {
     "data": {
      "text/plain": [
       "True"
      ]
     },
     "execution_count": 32,
     "metadata": {},
     "output_type": "execute_result"
    }
   ],
   "source": [
    "# clique normalized by gamma_l\n",
    "test_op == normed_clique_LCU.multiply_by_constant(gamma_l_LCU)"
   ]
  },
  {
   "cell_type": "code",
   "execution_count": 33,
   "id": "73931950",
   "metadata": {},
   "outputs": [
    {
     "data": {
      "text/plain": [
       " 1.000+0.000j IXIII"
      ]
     },
     "execution_count": 33,
     "metadata": {},
     "output_type": "execute_result"
    }
   ],
   "source": [
    "# check reduction\n",
    "rotations_LCU * normed_clique_LCU * rotations_LCU.conjugate"
   ]
  },
  {
   "cell_type": "code",
   "execution_count": 34,
   "id": "68651f8b",
   "metadata": {},
   "outputs": [
    {
     "data": {
      "text/plain": [
       " 1.000+0.000j IXIII"
      ]
     },
     "execution_count": 34,
     "metadata": {},
     "output_type": "execute_result"
    }
   ],
   "source": [
    "# other method to perform conjugation\n",
    "conjugate_Pop_with_R(normed_clique_LCU, rotations_LCU)"
   ]
  },
  {
   "cell_type": "code",
   "execution_count": 18,
   "id": "96984559",
   "metadata": {},
   "outputs": [
    {
     "name": "stdout",
     "output_type": "stream",
     "text": [
      "normaliziation factor: 3.2116805082177207\n"
     ]
    },
    {
     "data": {
      "text/plain": [
       " 3.212+0.000j IXIII"
      ]
     },
     "execution_count": 18,
     "metadata": {},
     "output_type": "execute_result"
    }
   ],
   "source": [
    "# note what happens if rotation performed without normalization\n",
    "print('normaliziation factor:', gamma_l_LCU)\n",
    "\n",
    "rotations_LCU * test_op * rotations_LCU.conjugate"
   ]
  },
  {
   "cell_type": "code",
   "execution_count": null,
   "id": "401e52ba",
   "metadata": {},
   "outputs": [],
   "source": []
  },
  {
   "cell_type": "markdown",
   "id": "421c03fc",
   "metadata": {},
   "source": [
    "## 2.2 Sequence of Rotations method"
   ]
  },
  {
   "cell_type": "code",
   "execution_count": 38,
   "id": "58a09e4c",
   "metadata": {},
   "outputs": [],
   "source": [
    "# Ps_SeqRot = term that is reduced too\n",
    "# rotations_SeqRot = list of PauliwordOp rotations. List of tuples of (P, angle_of_rotation)\n",
    "# gamma_l_SeqRot = normalization factor of clique\n",
    "# normed_clique_SeqRot = normalized anticommuting operator\n",
    "(Ps_SeqRot, rotations_SeqRot, \n",
    " gamma_l_SeqRot, normed_clique_SeqRot) = test_op.unitary_partitioning(up_method='seq_rot',\n",
    "                                                                      s_index=None)"
   ]
  },
  {
   "cell_type": "code",
   "execution_count": 21,
   "id": "1c8080e5",
   "metadata": {},
   "outputs": [
    {
     "data": {
      "text/plain": [
       "True"
      ]
     },
     "execution_count": 21,
     "metadata": {},
     "output_type": "execute_result"
    }
   ],
   "source": [
    "# clique normalized by gamma_l\n",
    "test_op == normed_clique_SeqRot.multiply_by_constant(gamma_l_SeqRot)"
   ]
  },
  {
   "cell_type": "code",
   "execution_count": 22,
   "id": "36c51402",
   "metadata": {},
   "outputs": [
    {
     "data": {
      "text/plain": [
       " 1.000+0.000j IXIII"
      ]
     },
     "execution_count": 22,
     "metadata": {},
     "output_type": "execute_result"
    }
   ],
   "source": [
    "# apply sequence of rotations on anticommuting operator (normalized)\n",
    "normed_clique_SeqRot.perform_rotations(rotations_SeqRot)"
   ]
  },
  {
   "cell_type": "code",
   "execution_count": 23,
   "id": "d88aeb3f",
   "metadata": {},
   "outputs": [
    {
     "data": {
      "text/plain": [
       " 3.212+0.000j IXIII"
      ]
     },
     "execution_count": 23,
     "metadata": {},
     "output_type": "execute_result"
    }
   ],
   "source": [
    "# without normalization\n",
    "test_op.perform_rotations(rotations_SeqRot)"
   ]
  },
  {
   "cell_type": "code",
   "execution_count": null,
   "id": "05f9d442",
   "metadata": {},
   "outputs": [],
   "source": []
  },
  {
   "cell_type": "markdown",
   "id": "9c6fa671",
   "metadata": {},
   "source": [
    "# 3. Further work\n",
    "\n",
    "Some methods require applying unitary partitioning operator (unitary of LCU or seq_rot) to other combinations of Pauli operators (such as a Hamiltonian)\n",
    "\n",
    "For examples see:\n",
    "- [PAPER1](https://arxiv.org/abs/2011.10027) \n",
    "- [PAPER2](https://arxiv.org/abs/2204.02150)\n",
    "- [PAPER3](https://arxiv.org/abs/2207.03451)\n",
    "\n",
    "This subsection looks at the scaling of the different methods"
   ]
  },
  {
   "cell_type": "code",
   "execution_count": 24,
   "id": "ca977868",
   "metadata": {},
   "outputs": [
    {
     "data": {
      "text/plain": [
       "30"
      ]
     },
     "execution_count": 24,
     "metadata": {},
     "output_type": "execute_result"
    }
   ],
   "source": [
    "### Generate a random linear combination of Pauli operators (on same no. of qubits as rotations above)\n",
    "\n",
    "n_terms= 30\n",
    "# n_terms= 500\n",
    "# n_terms= 12\n",
    "op = PauliwordOp.random(test_op.n_qubits, n_terms)\n",
    "\n",
    "# op = PauliwordOp.haar_random(test_op.n_qubits)\n",
    "op.n_terms"
   ]
  },
  {
   "cell_type": "code",
   "execution_count": 26,
   "id": "60fe7e71",
   "metadata": {},
   "outputs": [
    {
     "name": "stdout",
     "output_type": "stream",
     "text": [
      "max possible P terms on defined qubits: 1024\n",
      "max terms SeqRot: 61440\n"
     ]
    }
   ],
   "source": [
    "## SeqRot scaling\n",
    "print('max possible P terms on defined qubits:', 4**rotations_LCU.n_qubits)\n",
    "print('max terms SeqRot:', 2**rotations_LCU.n_terms * op.n_terms)"
   ]
  },
  {
   "cell_type": "code",
   "execution_count": 27,
   "id": "c0af0050",
   "metadata": {},
   "outputs": [
    {
     "data": {
      "text/plain": [
       "755"
      ]
     },
     "execution_count": 27,
     "metadata": {},
     "output_type": "execute_result"
    }
   ],
   "source": [
    "op.perform_rotations(rotations_SeqRot).n_terms"
   ]
  },
  {
   "cell_type": "code",
   "execution_count": 28,
   "id": "a276b341",
   "metadata": {},
   "outputs": [
    {
     "name": "stdout",
     "output_type": "stream",
     "text": [
      "max terms on qubits: 1024\n",
      "max terms LCU: 3630\n"
     ]
    }
   ],
   "source": [
    "## LCU scaling\n",
    "print('max terms on qubits:', 4**rotations_LCU.n_qubits)\n",
    "print('max terms LCU:', rotations_LCU.n_terms**2 * op.n_terms)"
   ]
  },
  {
   "cell_type": "code",
   "execution_count": 29,
   "id": "8cfcdec3",
   "metadata": {},
   "outputs": [
    {
     "data": {
      "text/plain": [
       "570"
      ]
     },
     "execution_count": 29,
     "metadata": {},
     "output_type": "execute_result"
    }
   ],
   "source": [
    "# manual multiplication\n",
    "(rotations_LCU * op * rotations_LCU.conjugate).n_terms"
   ]
  },
  {
   "cell_type": "code",
   "execution_count": null,
   "id": "d650d8a8",
   "metadata": {},
   "outputs": [],
   "source": []
  },
  {
   "cell_type": "markdown",
   "id": "e0ec1b37",
   "metadata": {},
   "source": [
    "**Important**: note how LCU method results in **fewer** terms!\n",
    "\n",
    "- SeqRot method increases terms as ~$2^{|U|}$\n",
    "- LCU method increases terms as  ~$|U|^{2}$\n",
    "\n",
    "where $|U|$ is the number of Pauli terms in the operator performing unitary partitioning.\n",
    "\n",
    "for further details see [PAPER](https://journals.aps.org/prresearch/abstract/10.1103/PhysRevResearch.3.033195)"
   ]
  },
  {
   "cell_type": "code",
   "execution_count": null,
   "id": "1fd44b93",
   "metadata": {},
   "outputs": [],
   "source": []
  }
 ],
 "metadata": {
  "kernelspec": {
   "display_name": "Python 3 (ipykernel)",
   "language": "python",
   "name": "python3"
  },
  "language_info": {
   "codemirror_mode": {
    "name": "ipython",
    "version": 3
   },
   "file_extension": ".py",
   "mimetype": "text/x-python",
   "name": "python",
   "nbconvert_exporter": "python",
   "pygments_lexer": "ipython3",
   "version": "3.9.7"
  }
 },
 "nbformat": 4,
 "nbformat_minor": 5
}
