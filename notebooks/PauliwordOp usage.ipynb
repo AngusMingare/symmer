{
 "cells": [
  {
   "cell_type": "markdown",
   "id": "7adf97e9",
   "metadata": {},
   "source": [
    "# Getting Started with PauliwordOp"
   ]
  },
  {
   "cell_type": "code",
   "execution_count": 45,
   "id": "494e69c1",
   "metadata": {},
   "outputs": [],
   "source": [
    "from symmer.symplectic import PauliwordOp\n",
    "import numpy as np"
   ]
  },
  {
   "cell_type": "markdown",
   "id": "0857ad78",
   "metadata": {},
   "source": [
    "# 1. Basic initialization\n",
    "\n",
    "- `PauliwordOp.from_list`\n",
    "- `PauliwordOp.from_dictionary`\n",
    "- `PauliwordOp.from_matrix`"
   ]
  },
  {
   "cell_type": "code",
   "execution_count": 46,
   "id": "52a6ac28",
   "metadata": {},
   "outputs": [
    {
     "data": {
      "text/plain": [
       " 1.000+0.000j ZI +\n",
       " 2.000+0.000j ZZ +\n",
       " 3.000+0.000j ZX +\n",
       " 4.000+0.000j YZ +\n",
       " 5.000+0.000j XX +\n",
       " 6.000+0.000j XY"
      ]
     },
     "execution_count": 46,
     "metadata": {},
     "output_type": "execute_result"
    }
   ],
   "source": [
    "term_list = ['ZI', 'ZZ', 'ZX', 'YZ', 'XX', 'XY']\n",
    "coeffs = [1,2,3,4,5,6]\n",
    "\n",
    "PauliwordOp.from_list(term_list, coeffs)"
   ]
  },
  {
   "cell_type": "code",
   "execution_count": 47,
   "id": "641b2429",
   "metadata": {},
   "outputs": [
    {
     "data": {
      "text/plain": [
       " 1.000+0.000j ZI +\n",
       " 2.000+0.000j ZZ +\n",
       " 3.000+0.000j ZX +\n",
       " 4.000+0.000j YZ +\n",
       " 5.000+0.000j XX +\n",
       " 6.000+0.000j XY"
      ]
     },
     "execution_count": 47,
     "metadata": {},
     "output_type": "execute_result"
    }
   ],
   "source": [
    "term_dict = {'ZI': (1+0j),\n",
    " 'ZZ': (2+0j),\n",
    " 'ZX': (3+0j),\n",
    " 'YZ': (4+0j),\n",
    " 'XX': (5+0j),\n",
    " 'XY': (6+0j)}\n",
    "             \n",
    "PauliwordOp.from_dictionary(term_dict)"
   ]
  },
  {
   "cell_type": "code",
   "execution_count": 48,
   "id": "4d4291c4",
   "metadata": {},
   "outputs": [
    {
     "data": {
      "text/plain": [
       " 1.000+0.000j ZI +\n",
       " 2.000+0.000j ZZ +\n",
       " 3.000+0.000j ZX +\n",
       " 4.000+0.000j YZ +\n",
       " 5.000+0.000j XX +\n",
       " 6.000+0.000j XY"
      ]
     },
     "execution_count": 48,
     "metadata": {},
     "output_type": "execute_result"
    }
   ],
   "source": [
    "mat = np.array([[ 3.+0.j,  3.+0.j,  0.-4.j,  5.-6.j],\n",
    "                   [ 3.+0.j, -1.+0.j,  5.+6.j,  0.+4.j],\n",
    "                   [ 0.+4.j,  5.-6.j, -3.+0.j, -3.+0.j],\n",
    "                   [ 5.+6.j,  0.-4.j, -3.+0.j,  1.+0.j]])\n",
    "\n",
    "PauliwordOp.from_matrix(mat)"
   ]
  },
  {
   "cell_type": "markdown",
   "id": "eac1d055",
   "metadata": {},
   "source": [
    "# 2. Addition"
   ]
  },
  {
   "cell_type": "code",
   "execution_count": 53,
   "id": "b56bff4f",
   "metadata": {},
   "outputs": [],
   "source": [
    "P1 = PauliwordOp.from_list(['XY', 'ZX'])\n",
    "P2 = PauliwordOp.from_list(['IY', 'ZX'])"
   ]
  },
  {
   "cell_type": "code",
   "execution_count": 60,
   "id": "ca477b0c",
   "metadata": {},
   "outputs": [
    {
     "data": {
      "text/plain": [
       " 1.000+0.000j IY +\n",
       " 2.000+0.000j ZX +\n",
       " 1.000+0.000j XY"
      ]
     },
     "execution_count": 60,
     "metadata": {},
     "output_type": "execute_result"
    }
   ],
   "source": [
    "P_add = P1 + P2\n",
    "P_add"
   ]
  },
  {
   "cell_type": "markdown",
   "id": "6cc4e5f7",
   "metadata": {},
   "source": [
    "# 3. Multiplication"
   ]
  },
  {
   "cell_type": "code",
   "execution_count": 61,
   "id": "6a9c350a",
   "metadata": {},
   "outputs": [
    {
     "data": {
      "text/plain": [
       " 1.000+0.000j II +\n",
       " 0.000+1.000j ZZ +\n",
       " 1.000+0.000j XI +\n",
       "-1.000+0.000j YZ"
      ]
     },
     "execution_count": 61,
     "metadata": {},
     "output_type": "execute_result"
    }
   ],
   "source": [
    "P_mult = P1 * P2\n",
    "P_mult"
   ]
  },
  {
   "cell_type": "markdown",
   "id": "188b380b",
   "metadata": {},
   "source": [
    "# 4. Commutativity"
   ]
  },
  {
   "cell_type": "code",
   "execution_count": 72,
   "id": "06a48b73",
   "metadata": {},
   "outputs": [
    {
     "name": "stdout",
     "output_type": "stream",
     "text": [
      "[[ True  True False]\n",
      " [ True  True  True]\n",
      " [False  True  True]]\n"
     ]
    }
   ],
   "source": [
    "# adjacency matrix of commuting terms within a defined operator\n",
    "P = PauliwordOp.from_list(['XX', 'YY', 'ZX'])\n",
    "print(P.adjacency_matrix)"
   ]
  },
  {
   "cell_type": "code",
   "execution_count": 73,
   "id": "81930158",
   "metadata": {},
   "outputs": [
    {
     "name": "stdout",
     "output_type": "stream",
     "text": [
      "True\n",
      "False\n"
     ]
    }
   ],
   "source": [
    "# commutativity between operators\n",
    "P1 = PauliwordOp.from_list(['XX'])\n",
    "P2 = PauliwordOp.from_list(['ZZ'])\n",
    "P3 = PauliwordOp.from_list(['IY'])\n",
    "\n",
    "print(P1.commutes(P2))\n",
    "print(P1.commutes(P3))\n"
   ]
  },
  {
   "cell_type": "code",
   "execution_count": 74,
   "id": "69282ae9",
   "metadata": {},
   "outputs": [
    {
     "name": "stdout",
     "output_type": "stream",
     "text": [
      "[[ True  True False]]\n"
     ]
    }
   ],
   "source": [
    "# termwise commutativy\n",
    "P1 = PauliwordOp.from_list(['ZZ'])\n",
    "P2 = PauliwordOp.from_list(['XX', 'YY', 'ZX'])\n",
    "\n",
    "\n",
    "print(P1.commutes_termwise(P2))"
   ]
  },
  {
   "cell_type": "markdown",
   "id": "300f3a40",
   "metadata": {},
   "source": [
    "# 5. Convert to sparse matrix"
   ]
  },
  {
   "cell_type": "code",
   "execution_count": 80,
   "id": "bc91dd25",
   "metadata": {},
   "outputs": [
    {
     "name": "stdout",
     "output_type": "stream",
     "text": [
      "<class 'scipy.sparse.csr.csr_matrix'>\n",
      "[[ 1.+0.j  0.+0.j  0.+0.j  0.+0.j]\n",
      " [ 0.+0.j -1.+0.j  0.+0.j  0.+0.j]\n",
      " [ 0.+0.j  0.+0.j -1.+0.j  0.+0.j]\n",
      " [ 0.+0.j  0.+0.j  0.+0.j  1.+0.j]]\n"
     ]
    }
   ],
   "source": [
    "P_zz = PauliwordOp.from_list(['ZZ'])\n",
    "\n",
    "ZZ_mat = P_zz.to_sparse_matrix\n",
    "\n",
    "print(type(ZZ_mat))\n",
    "print(ZZ_mat.todense())"
   ]
  },
  {
   "cell_type": "code",
   "execution_count": null,
   "id": "46d16aa6",
   "metadata": {},
   "outputs": [],
   "source": []
  }
 ],
 "metadata": {
  "kernelspec": {
   "display_name": "Python 3 (ipykernel)",
   "language": "python",
   "name": "python3"
  },
  "language_info": {
   "codemirror_mode": {
    "name": "ipython",
    "version": 3
   },
   "file_extension": ".py",
   "mimetype": "text/x-python",
   "name": "python",
   "nbconvert_exporter": "python",
   "pygments_lexer": "ipython3",
   "version": "3.8.8"
  }
 },
 "nbformat": 4,
 "nbformat_minor": 5
}
