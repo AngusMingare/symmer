{
 "cells": [
  {
   "cell_type": "code",
   "execution_count": 1,
   "id": "42869b99",
   "metadata": {},
   "outputs": [],
   "source": [
    "from symred.build_model import build_molecule_for_projection\n",
    "from symred.utils import exact_gs_energy, quasi_model\n",
    "import json\n",
    "import numpy as np\n",
    "from functools import reduce\n",
    "import matplotlib.pyplot as plt\n",
    "from itertools import combinations, product\n",
    "import openfermion as of\n",
    "import openfermionpyscf as ofpyscf\n",
    "import warnings\n",
    "warnings.filterwarnings(\"ignore\")"
   ]
  },
  {
   "cell_type": "code",
   "execution_count": 2,
   "id": "fd743adf",
   "metadata": {},
   "outputs": [
    {
     "name": "stdout",
     "output_type": "stream",
     "text": [
      "dict_keys(['H2_3-21G_SINGLET', 'H6_STO-3G_SINGLET', 'H2_6-31G_SINGLET', 'H2_6-311G_SINGLET', 'H3+_STO-3G_SINGLET', 'H3+_3-21G_SINGLET', 'HeH+_3-21G_SINGLET', 'HeH+_6-311G_SINGLET', 'H2O_STO-3G_SINGLET', 'BeH+_STO-3G_SINGLET', 'LiH_STO-3G_SINGLET', 'CH+_STO-3G_SINGLET', 'HF_STO-3G_SINGLET', 'B+_STO-3G_SINGLET', 'B_STO-3G_DOUBLET', 'N_STO-3G_QUARTET', 'OH-_STO-3G_SINGLET', 'O_STO-3G_TRIPLET', 'CH2_STO-3G_TRIPLET', 'BeH2_STO-3G_SINGLET', 'Be_STO-3G_SINGLET', 'C_STO-3G_TRIPLET', 'NH_STO-3G_SINGLET', 'Ne_STO-3G_SINGLET', 'F_STO-3G_DOUBLET', 'Li_STO-3G_DOUBLET', 'BH_STO-3G_SINGLET', 'NeH+_STO-3G_SINGLET', 'NH2+_STO-3G_SINGLET', 'BH2+_STO-3G_SINGLET', 'HCl_STO-3G_SINGLET', 'H4_STO-3G_SINGLET', 'NH3_STO-3G_SINGLET', 'F2_STO-3G_SINGLET', 'HCN_STO-3G_SINGLET', 'CH4_STO-3G_SINGLET', 'CH3OH_STO-3G_SINGLET', 'C2H6_STO-3G_SINGLET', 'CH3CN_STO-3G_SINGLET', 'CH3CHO_STO-3G_SINGLET', 'CH3CHOHCH3_STO-3G_SINGLET', 'CHONH2_STO-3G_SINGLET', 'CO2_STO-3G_SINGLET', 'O2_STO-3G_SINGLET', 'O3_STO-3G_SINGLET', 'HOOH_STO-3G_SINGLET', 'NaCl_STO-3G_SINGLET', 'H2S_STO-3G_SINGLET', 'SiH4_STO-3G_SINGLET'])\n"
     ]
    }
   ],
   "source": [
    "with open('data/molecule_data.json', 'r') as jfile:\n",
    "    molecule_geometries = json.load(jfile)\n",
    "print(molecule_geometries.keys())"
   ]
  },
  {
   "cell_type": "markdown",
   "id": "b2436265",
   "metadata": {},
   "source": [
    "# Build the molecule and CS-VQE model"
   ]
  },
  {
   "cell_type": "code",
   "execution_count": 332,
   "id": "aff090e6",
   "metadata": {},
   "outputs": [
    {
     "name": "stdout",
     "output_type": "stream",
     "text": [
      "------------------------------------------------\n",
      "Information concerning the full system:\n",
      "------------------------------------------------\n",
      "Number of qubits in full problem: 10\n",
      "The Hartree-Fock state is |1111000000>\n",
      "HF   energy = -14.35188048\n",
      "MP2  energy = -14.37623885\n",
      "CISD energy = -14.40364578\n",
      "CCSD energy = -14.40365075\n",
      "FCI energy  = -14.40365511\n",
      "------------------------------------------------\n",
      "Tapering information:\n",
      "------------------------------------------------\n",
      "We are able to taper 5 qubits from the Hamiltonian\n",
      "The symmetry sector is:\n",
      "1 ZIZIIZIZIZ +\n",
      "1 IZIZIZIZIZ +\n",
      "1 IIIIZZIIII +\n",
      "1 IIIIIIZZII +\n",
      "1 IIIIIIIIZZ\n",
      "The tapered Hartree-Fock state is |11000>\n",
      "------------------------------------------------\n",
      "CS-VQE information:\n",
      "------------------------------------------------\n",
      "Noncontextual GS energy: -14.352558957524035\n",
      "Symmetry generators:    \n",
      "1 IIIIZ +\n",
      "1 IIIZI +\n",
      "1 IIZII +\n",
      "-1 ZIZZZ\n",
      "Clique representatives: \n",
      "-0.9997423322 IZZZZ +\n",
      "-0.0226995442 IXIII\n",
      "------------------------------------------------\n"
     ]
    }
   ],
   "source": [
    "# Set molecule parameters\n",
    "speciesname = 'Be_STO-3G_SINGLET'\n",
    "mol_data = molecule_geometries[speciesname]\n",
    "if 'name' in mol_data:\n",
    "    print(mol_data['name'])\n",
    "    \n",
    "atoms = mol_data['atoms']\n",
    "coords = mol_data['coords']\n",
    "basis = mol_data['basis']\n",
    "multiplicity = mol_data['multiplicity']\n",
    "charge = mol_data['charge']\n",
    "geometry = list(zip(atoms, coords))\n",
    "\n",
    "delete_input = True\n",
    "delete_output = True\n",
    "cisd=1\n",
    "ccsd=1\n",
    "fci =1 # wouldn't advise turning this on over 32 qubits!\n",
    "\n",
    "# Run pyscf.\n",
    "molecule_data = of.MolecularData(geometry, basis, multiplicity, charge)\n",
    "calculated_molecule = ofpyscf.run_pyscf(molecule_data,\n",
    "                     run_scf=1,run_mp2=1,run_cisd=cisd,run_ccsd=ccsd,run_fci=fci)\n",
    "model = build_molecule_for_projection(calculated_molecule, basis_weighting='ham_coeff')"
   ]
  },
  {
   "cell_type": "code",
   "execution_count": 334,
   "id": "35168f83",
   "metadata": {},
   "outputs": [
    {
     "name": "stdout",
     "output_type": "stream",
     "text": [
      "1-qubit CS-VQE error:  0.031615\n",
      "2-qubit CS-VQE error:  0.015027\n",
      "3-qubit CS-VQE error:  0.001190\n",
      "------ done ------\n",
      "3-qubit CS-VQE error:  0.001190 | stabilizer indices: [0, 4]\n"
     ]
    }
   ],
   "source": [
    "num_sim_q = 3\n",
    "stab_indices = model.greedy_search(num_sim_q)\n",
    "projected = model.contextual_subspace_projection(stab_indices)\n",
    "nrg = exact_gs_energy(projected.to_sparse_matrix)[0]\n",
    "error = abs(nrg-model.fci_energy)\n",
    "print(f'{projected.n_qubits}-qubit CS-VQE error: {error: .6f} | stabilizer indices: {stab_indices}')"
   ]
  },
  {
   "cell_type": "code",
   "execution_count": 335,
   "id": "6e1e7e5a",
   "metadata": {},
   "outputs": [
    {
     "name": "stdout",
     "output_type": "stream",
     "text": [
      "     ┌───┐┌───┐┌──────────┐┌───┐┌─────┐┌───┐┌───┐                           »\n",
      "q_0: ┤ S ├┤ H ├┤ Rz(P[0]) ├┤ H ├┤ Sdg ├┤ S ├┤ H ├──■────────────────────────»\n",
      "     └───┘└───┘└──────────┘└───┘└─────┘└───┘└───┘┌─┴─┐                      »\n",
      "q_1: ────────────────────────────────────────────┤ X ├──■────────────────■──»\n",
      "                                                 └───┘┌─┴─┐┌──────────┐┌─┴─┐»\n",
      "q_2: ─────────────────────────────────────────────────┤ X ├┤ Rz(P[1]) ├┤ X ├»\n",
      "                                                      └───┘└──────────┘└───┘»\n",
      "«          ┌───┐┌─────┐                                                        »\n",
      "«q_0: ──■──┤ H ├┤ Sdg ├────────────────────────────────────■───────────────────»\n",
      "«     ┌─┴─┐├───┤└┬───┬┘┌──────────┐┌───┐┌─────┐┌───┐┌───┐┌─┴─┐                 »\n",
      "«q_1: ┤ X ├┤ S ├─┤ H ├─┤ Rz(P[2]) ├┤ H ├┤ Sdg ├┤ S ├┤ H ├┤ X ├──■──────────────»\n",
      "«     └───┘└───┘ └───┘ └──────────┘└───┘└─────┘└───┘└───┘└───┘┌─┴─┐┌──────────┐»\n",
      "«q_2: ────────────────────────────────────────────────────────┤ X ├┤ Rz(P[3]) ├»\n",
      "«                                                             └───┘└──────────┘»\n",
      "«                                                                            »\n",
      "«q_0: ───────■─────────────────────■─────────────────────────────────────────»\n",
      "«          ┌─┴─┐┌───┐  ┌─────┐   ┌─┴─┐                                       »\n",
      "«q_1: ──■──┤ X ├┤ H ├──┤ Sdg ├───┤ X ├───────────────────■────────────────■──»\n",
      "«     ┌─┴─┐├───┤├───┤┌─┴─────┴──┐├───┤┌─────┐┌───┐┌───┐┌─┴─┐┌──────────┐┌─┴─┐»\n",
      "«q_2: ┤ X ├┤ S ├┤ H ├┤ Rz(P[4]) ├┤ H ├┤ Sdg ├┤ S ├┤ H ├┤ X ├┤ Rz(P[5]) ├┤ X ├»\n",
      "«     └───┘└───┘└───┘└──────────┘└───┘└─────┘└───┘└───┘└───┘└──────────┘└───┘»\n",
      "«           ┌───┐ ┌───┐┌──────────┐┌───┐┌─────┐┌───┐┌───┐                      »\n",
      "«q_0: ──■───┤ S ├─┤ H ├┤ Rz(P[0]) ├┤ H ├┤ Sdg ├┤ S ├┤ H ├──■───────────────────»\n",
      "«     ┌─┴─┐ └───┘ └───┘└──────────┘└───┘└─────┘└───┘└───┘┌─┴─┐                 »\n",
      "«q_1: ┤ X ├──────────────────────────────────────────────┤ X ├──■──────────────»\n",
      "«     ├───┤┌─────┐                                       └───┘┌─┴─┐┌──────────┐»\n",
      "«q_2: ┤ H ├┤ Sdg ├────────────────────────────────────────────┤ X ├┤ Rz(P[1]) ├»\n",
      "«     └───┘└─────┘                                            └───┘└──────────┘»\n",
      "«               ┌───┐┌─────┐                                            »\n",
      "«q_0: ───────■──┤ H ├┤ Sdg ├────────────────────────────────────■───────»\n",
      "«          ┌─┴─┐├───┤└┬───┬┘┌──────────┐┌───┐┌─────┐┌───┐┌───┐┌─┴─┐     »\n",
      "«q_1: ──■──┤ X ├┤ S ├─┤ H ├─┤ Rz(P[2]) ├┤ H ├┤ Sdg ├┤ S ├┤ H ├┤ X ├──■──»\n",
      "«     ┌─┴─┐└───┘└───┘ └───┘ └──────────┘└───┘└─────┘└───┘└───┘└───┘┌─┴─┐»\n",
      "«q_2: ┤ X ├────────────────────────────────────────────────────────┤ X ├»\n",
      "«     └───┘                                                        └───┘»\n",
      "«                                                                       »\n",
      "«q_0: ───────────────────■─────────────────────■────────────────────────»\n",
      "«                      ┌─┴─┐┌───┐  ┌─────┐   ┌─┴─┐                      »\n",
      "«q_1: ──────────────■──┤ X ├┤ H ├──┤ Sdg ├───┤ X ├───────────────────■──»\n",
      "«     ┌──────────┐┌─┴─┐├───┤├───┤┌─┴─────┴──┐├───┤┌─────┐┌───┐┌───┐┌─┴─┐»\n",
      "«q_2: ┤ Rz(P[3]) ├┤ X ├┤ S ├┤ H ├┤ Rz(P[4]) ├┤ H ├┤ Sdg ├┤ S ├┤ H ├┤ X ├»\n",
      "«     └──────────┘└───┘└───┘└───┘└──────────┘└───┘└─────┘└───┘└───┘└───┘»\n",
      "«                                  \n",
      "«q_0: ───────────────────■─────────\n",
      "«                      ┌─┴─┐       \n",
      "«q_1: ──────────────■──┤ X ├───────\n",
      "«     ┌──────────┐┌─┴─┐├───┤┌─────┐\n",
      "«q_2: ┤ Rz(P[5]) ├┤ X ├┤ H ├┤ Sdg ├\n",
      "«     └──────────┘└───┘└───┘└─────┘\n"
     ]
    }
   ],
   "source": [
    "ham_cs = model.contextual_subspace_projection(stab_indices)\n",
    "ref_cs = model.hf_tapered[model.free_qubit_indices]\n",
    "ucc_cs = model.contextual_subspace_projection(stab_indices, aux_operator=model.ucc_tap)\n",
    "\n",
    "def qiskit_ordering(indices):\n",
    "        return ham_cs.n_qubits - 1 - indices\n",
    "    \n",
    "qc = QuantumCircuit(ham_cs.n_qubits)\n",
    "for i in qiskit_ordering(np.where(ref_cs==1)[0]):\n",
    "    qc.x(i)\n",
    "\n",
    "circuit_instructions = {}\n",
    "for step, (X,Z) in enumerate(zip(ucc_cs.X_block, ucc_cs.Z_block)):\n",
    "    # locations for H and S gates to transform into Pauli Z basis\n",
    "    H_indices = qiskit_ordering(np.where(X)[0])[::-1]\n",
    "    S_indices = qiskit_ordering(np.where(X & Z)[0])[::-1]\n",
    "    # CNOT cascade indices\n",
    "    CNOT_indices = qiskit_ordering(np.where(X | Z)[0])[::-1]\n",
    "    \n",
    "    circuit_instructions[step] = {'H_indices':H_indices, \n",
    "                                  'S_indices':S_indices, \n",
    "                                  'CNOT_indices':CNOT_indices,\n",
    "                                  'RZ_index':CNOT_indices[-1]}\n",
    "    \n",
    "def CNOT_cascade(cascade_indices, reverse=False):\n",
    "    index_pairs = list(zip(cascade_indices[:-1], cascade_indices[1:]))\n",
    "    if reverse:\n",
    "        index_pairs = index_pairs[::-1]\n",
    "    for source, target in index_pairs:\n",
    "        qc.cx(source, target)\n",
    "\n",
    "def circuit_from_step(angle, H_indices, S_indices, CNOT_indices, RZ_index):\n",
    "    # to Pauli X basis\n",
    "    for i in S_indices:\n",
    "        qc.s(i)\n",
    "    # to Pauli Z basis\n",
    "    for i in H_indices:\n",
    "        qc.h(i)\n",
    "    # compute parity\n",
    "    CNOT_cascade(CNOT_indices)\n",
    "    qc.rz(2*angle, RZ_index)\n",
    "    CNOT_cascade(CNOT_indices, reverse=True)\n",
    "    for i in H_indices:\n",
    "        qc.h(i)\n",
    "    for i in S_indices:\n",
    "        qc.sdg(i)\n",
    "    \n",
    "def circ_from_instructions(instructions, angles, trotter_number=2):\n",
    "    angles= np.array(angles)/trotter_number\n",
    "    assert(len(angles)==len(instructions))\n",
    "    for trot_step in range(trotter_number):\n",
    "        for step, gate_indices in instructions.items():\n",
    "            circuit_from_step(angles[step], *gate_indices.values())\n",
    "    return qc\n",
    "\n",
    "qc = circ_from_instructions(circuit_instructions, ParameterVector('P', ucc_cs.n_terms))\n",
    "print(qc.draw())"
   ]
  },
  {
   "cell_type": "markdown",
   "id": "5c7defd2",
   "metadata": {},
   "source": [
    "# Noiseless VQE"
   ]
  },
  {
   "cell_type": "code",
   "execution_count": 336,
   "id": "a78bd1e4",
   "metadata": {},
   "outputs": [],
   "source": [
    "from qiskit.aqua.components.optimizers import IMFIL, NELDER_MEAD, POWELL, NFT, SPSA, SLSQP, SNOBFIT, COBYLA\n",
    "from qiskit import Aer\n",
    "from qiskit.utils import QuantumInstance\n",
    "from qiskit.algorithms import VQE\n",
    "\n",
    "seed = 42\n",
    "backend = Aer.get_backend('statevector_simulator')\n",
    "qi = QuantumInstance(backend=backend, seed_simulator=seed, seed_transpiler=seed)\n",
    "\n",
    "interim_results = {'counts':[], 'prmset':[], 'values':[], 'errors':[]}\n",
    "def store_interim_results(eval_count, parameters, mean, std):\n",
    "    \"\"\" Outputs intermediate data during VQE routine\n",
    "    \"\"\"\n",
    "    interim_results['counts'].append(eval_count)\n",
    "    interim_results['prmset'].append(parameters)\n",
    "    interim_results['values'].append(mean)\n",
    "    interim_results['errors'].append(std)\n",
    "    \n",
    "def dict_to_WeightedPauliOperator(op):\n",
    "    assert(type(op) == dict)\n",
    "    return sum([PauliOp(Pauli(p), op[p]) for p in op.keys()])\n",
    "\n",
    "# simulate the input Hamiltonian\n",
    "vqe = VQE(ansatz=qc, \n",
    "          initial_point=np.zeros(ucc_cs.n_terms), \n",
    "          optimizer=COBYLA(maxiter=5000), \n",
    "          callback=store_interim_results, \n",
    "          quantum_instance=qi)\n",
    "vqe_input_ham = dict_to_WeightedPauliOperator(ham_cs.to_dictionary)\n",
    "vqe_run = vqe.compute_minimum_eigenvalue(operator=vqe_input_ham)"
   ]
  },
  {
   "cell_type": "code",
   "execution_count": 337,
   "id": "0a99a397",
   "metadata": {},
   "outputs": [
    {
     "data": {
      "text/plain": [
       "<matplotlib.legend.Legend at 0x7fc8ea6fa9d0>"
      ]
     },
     "execution_count": 337,
     "metadata": {},
     "output_type": "execute_result"
    },
    {
     "data": {
      "image/png": "[encoded data removed]",
      "text/plain": [
       "<Figure size 432x288 with 1 Axes>"
      ]
     },
     "metadata": {
      "needs_background": "light"
     },
     "output_type": "display_data"
    }
   ],
   "source": [
    "X = np.array(interim_results['counts'])\n",
    "Y = np.array(interim_results['values'])\n",
    "plt.plot(X, np.log10(Y-model.fci_energy), color='black', label='VQE convergence')\n",
    "plt.hlines(np.log10(abs(model.noncontextual_energy-model.fci_energy)), 0, X[-1], color='orange', ls='--', label='Noncontextual energy')\n",
    "plt.hlines(np.log10(0.0016), 0, X[-1], color='green', ls='--', label='Chemical accuracy')\n",
    "plt.legend()"
   ]
  },
  {
   "cell_type": "markdown",
   "id": "4b6500dd",
   "metadata": {},
   "source": [
    "# VQE with statistical noise"
   ]
  },
  {
   "cell_type": "code",
   "execution_count": 349,
   "id": "9deeafd7",
   "metadata": {},
   "outputs": [],
   "source": [
    "import pyzx as zx\n",
    "from qiskit import QuantumCircuit, BasicAer, execute\n",
    "from qiskit.circuit import ParameterVector\n",
    "from qiskit.quantum_info import Statevector\n",
    "from qiskit.opflow import CircuitStateFn\n",
    "from qiskit.visualization import plot_histogram\n",
    "from copy import deepcopy\n",
    "from collections import Counter\n",
    "from operator import add\n",
    "from functools import reduce\n",
    "\n",
    "backend = BasicAer.get_backend('qasm_simulator')\n",
    "\n",
    "def QWC_grouping(ham):\n",
    "    # group Hamiltonian terms that may be estimated simulataneously\n",
    "    term_grouping = {}\n",
    "    for term in ham:\n",
    "        X = [i for i,Pi in enumerate(term) if Pi=='X']\n",
    "        Y = [i for i,Pi in enumerate(term) if Pi=='Y']\n",
    "        key = f'{X}_{Y}'\n",
    "        if key not in term_grouping:\n",
    "            term_grouping[key] = {'paulis':[term]}\n",
    "        else:\n",
    "            term_grouping[key]['paulis'].append(term)\n",
    "            \n",
    "    return term_grouping\n",
    "\n",
    "def bound_circuit(qc, params, ZX_reduce=False):\n",
    "    variables   = qc.parameters\n",
    "    assert(len(params)==len(variables))\n",
    "    bind_params = {p:v for p,v in zip(variables, params)}\n",
    "    bound_qc    = qc.bind_parameters(bind_params)\n",
    "    if ZX_reduce:\n",
    "        # to perform ZX-calculus optimization\n",
    "        qc_qasm = bound_qc.qasm()\n",
    "        qc_pyzx = zx.Circuit.from_qasm(qc_qasm)\n",
    "        g = qc_pyzx.to_graph()\n",
    "        zx.full_reduce(g)#, quiet=False) # simplifies the Graph in-place\n",
    "        g.normalize()\n",
    "        c_opt = zx.extract_circuit(g.copy())\n",
    "        simplified_qc = QuantumCircuit.from_qasm_str(c_opt.to_qasm())\n",
    "        return simplified_qc\n",
    "    else:\n",
    "        return bound_qc\n",
    "\n",
    "svec = False\n",
    "# function to evaluation expectation value of Pauli Z-type operator wrt bitstring\n",
    "eigvals={'I':{'0':1, '1':1}, 'Z':{'0':1, '1':-1}}\n",
    "def Z_expectation(pauli, bitstring):\n",
    "    out=1\n",
    "    for Pi,bi in zip(pauli, bitstring):\n",
    "        out*=eigvals[Pi][bi]\n",
    "    return out\n",
    "\n",
    "# function that generates measurement outcomes per Hamiltonian term group (applies H, Sdg gates as necessary)\n",
    "# then manually computes the corresponding expectation value\n",
    "def expectation(qc, term_grouping, n_shots):\n",
    "    # determine counts\n",
    "    for XY in term_grouping:\n",
    "        qc_copy = qc.copy()\n",
    "        X_Y = XY.split('_')\n",
    "        X = [int(i) for i in X_Y[0][1:-1].split(',') if i!='']\n",
    "        Y = [int(i) for i in X_Y[1][1:-1].split(',') if i!='']\n",
    "        for i in X:\n",
    "            q_pos = num_sim_q-1-i\n",
    "            qc_copy.h(q_pos)\n",
    "        for i in Y:\n",
    "            q_pos = num_sim_q-1-i\n",
    "            qc_copy.sdg(q_pos)\n",
    "            qc_copy.h(q_pos)\n",
    "        \n",
    "        if svec:\n",
    "            statevector = Statevector(qc_copy)\n",
    "            counts = {}\n",
    "            for sample in range(n_shots):\n",
    "                outcome = statevector.measure()[0]\n",
    "                if outcome in counts:\n",
    "                    counts[outcome]+=1\n",
    "                else:\n",
    "                    counts[outcome] =1\n",
    "        else:\n",
    "            qc_copy.measure_all()\n",
    "            # if n_shots exceeds qiskit's limit:\n",
    "            if n_shots > 2**15:\n",
    "                jobs = [(2**15) for i in range(n_shots//(2**15))]\n",
    "                extra = n_shots%(2**15)\n",
    "                if extra != 0:\n",
    "                    jobs.append(extra)\n",
    "            else:\n",
    "                jobs = [n_shots]\n",
    "            input=[]\n",
    "            for shots in jobs:\n",
    "                job = execute(qc_copy, backend, shots=shots)\n",
    "                counts = job.result().get_counts()\n",
    "                input.append(counts)\n",
    "            counts = dict(reduce(add, (Counter(dict(x)) for x in input)))\n",
    "        \n",
    "        term_grouping[XY]['counts'] = counts\n",
    "    \n",
    "    # evaluate expectation value from relative frequency of measurement outcomes per group\n",
    "    expectation=0\n",
    "    for XY, countdata in term_grouping.items():\n",
    "        paulis = countdata['paulis']\n",
    "        counts = countdata['counts']\n",
    "        for P in paulis:\n",
    "            P_copy = list(deepcopy(P))\n",
    "            for i,Pi in enumerate(P_copy):\n",
    "                if Pi in ['X', 'Y']:\n",
    "                    P_copy[i]='Z'\n",
    "            P_copy = ''.join(P_copy)\n",
    "            relative_weight=sum([Z_expectation(P_copy, state)*freq/n_shots for state, freq in counts.items()])\n",
    "            expectation += ham_cs.to_dictionary[P]*relative_weight\n",
    "            \n",
    "    return expectation"
   ]
  },
  {
   "cell_type": "code",
   "execution_count": 436,
   "id": "f84ccb8a",
   "metadata": {},
   "outputs": [],
   "source": [
    "from scipy.optimize import minimize\n",
    "\n",
    "term_grouping = QWC_grouping(ham_cs.to_dictionary)\n",
    "n_realize = 1\n",
    "n_shots = 2**12\n",
    "\n",
    "def objective(x):\n",
    "    bound_qc = bound_circuit(qc, x)\n",
    "    samples = np.array([expectation(bound_qc, term_grouping, n_shots) for itr in range(n_realize)])\n",
    "    return np.mean(samples)\n",
    "\n",
    "def derivative(x):\n",
    "    derivative_vec = []\n",
    "    for i in range(ucc_cs.n_terms):\n",
    "        diff_vec = np.zeros(ucc_cs.n_terms)\n",
    "        diff_vec[i] = np.pi/4\n",
    "        derivative_vec.append(objective(x+diff_vec) - objective(x-diff_vec))\n",
    "    return np.array(derivative_vec)\n",
    "\n",
    "def cb(xk):\n",
    "    print(xk)\n",
    "\n",
    "min_val = minimize(objective, \n",
    "               x0=np.zeros(ucc_cs.n_terms), \n",
    "               jac=derivative,\n",
    "               method='CG',\n",
    "               options={'maxiter':10})#,#,'disp':False}, \n",
    "               #callback=cb)"
   ]
  },
  {
   "cell_type": "code",
   "execution_count": 437,
   "id": "78fa572c",
   "metadata": {},
   "outputs": [
    {
     "data": {
      "text/plain": [
       "     fun: (-14.404268311317287+0j)\n",
       "     jac: array([-0.00250482+0.j,  0.00016226+0.j, -0.00236297+0.j, -0.00007981+0.j,\n",
       "        0.00523444+0.j, -0.0095773 +0.j])\n",
       " message: 'Desired error not necessarily achieved due to precision loss.'\n",
       "    nfev: 20\n",
       "     nit: 2\n",
       "    njev: 15\n",
       "  status: 2\n",
       " success: False\n",
       "       x: array([-0.0951179 +0.j, -0.09138653+0.j, -0.09704984+0.j, -0.09504806+0.j,\n",
       "       -0.09651294+0.j, -0.10121981+0.j])"
      ]
     },
     "execution_count": 437,
     "metadata": {},
     "output_type": "execute_result"
    }
   ],
   "source": [
    "min_val"
   ]
  },
  {
   "cell_type": "code",
   "execution_count": 439,
   "id": "f3c89d06",
   "metadata": {},
   "outputs": [
    {
     "data": {
      "text/plain": [
       "0.000613203249605121"
      ]
     },
     "execution_count": 439,
     "metadata": {},
     "output_type": "execute_result"
    }
   ],
   "source": [
    "abs(min_val['fun']-model.fci_energy)"
   ]
  },
  {
   "cell_type": "code",
   "execution_count": 440,
   "id": "6ec1180e",
   "metadata": {},
   "outputs": [
    {
     "data": {
      "text/plain": [
       "0.0011897237388165394"
      ]
     },
     "execution_count": 440,
     "metadata": {},
     "output_type": "execute_result"
    }
   ],
   "source": [
    "error"
   ]
  },
  {
   "cell_type": "code",
   "execution_count": null,
   "id": "5aa805d6",
   "metadata": {},
   "outputs": [],
   "source": []
  }
 ],
 "metadata": {
  "kernelspec": {
   "display_name": "Python 3 (ipykernel)",
   "language": "python",
   "name": "python3"
  },
  "language_info": {
   "codemirror_mode": {
    "name": "ipython",
    "version": 3
   },
   "file_extension": ".py",
   "mimetype": "text/x-python",
   "name": "python",
   "nbconvert_exporter": "python",
   "pygments_lexer": "ipython3",
   "version": "3.8.8"
  }
 },
 "nbformat": 4,
 "nbformat_minor": 5
}
