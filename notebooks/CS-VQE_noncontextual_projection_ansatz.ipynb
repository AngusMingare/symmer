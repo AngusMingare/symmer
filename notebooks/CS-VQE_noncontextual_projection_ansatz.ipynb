{
 "cells": [
  {
   "cell_type": "markdown",
   "id": "77e9f7f6",
   "metadata": {},
   "source": [
    "# Testing the noncontextual projection Ansatz for CS-VQE\n",
    "\n",
    "We take the base Ansatz for projection to be UCCSD and observe the resuting CS-VQE errors"
   ]
  },
  {
   "cell_type": "code",
   "execution_count": 1,
   "id": "30c61886",
   "metadata": {},
   "outputs": [],
   "source": [
    "from symred.build_model import build_molecule_for_projection\n",
    "from symred.utils import exact_gs_energy, quasi_model\n",
    "from quantumtools import VariationalAlgorithm\n",
    "import json\n",
    "import numpy as np\n",
    "from functools import reduce\n",
    "import matplotlib.pyplot as plt\n",
    "from itertools import combinations, product\n",
    "import openfermion as of\n",
    "import openfermionpyscf as ofpyscf\n",
    "import warnings\n",
    "warnings.filterwarnings(\"ignore\")"
   ]
  },
  {
   "cell_type": "code",
   "execution_count": 2,
   "id": "51ff1c04",
   "metadata": {},
   "outputs": [
    {
     "name": "stdout",
     "output_type": "stream",
     "text": [
      "dict_keys(['H2_3-21G_SINGLET', 'H6_STO-3G_SINGLET', 'H2_6-31G_SINGLET', 'H2_6-311G_SINGLET', 'H3+_STO-3G_SINGLET', 'H3+_3-21G_SINGLET', 'HeH+_3-21G_SINGLET', 'HeH+_6-311G_SINGLET', 'H2O_STO-3G_SINGLET', 'BeH+_STO-3G_SINGLET', 'LiH_STO-3G_SINGLET', 'CH+_STO-3G_SINGLET', 'HF_STO-3G_SINGLET', 'B+_STO-3G_SINGLET', 'B_STO-3G_DOUBLET', 'N_STO-3G_QUARTET', 'OH-_STO-3G_SINGLET', 'O_STO-3G_TRIPLET', 'CH2_STO-3G_TRIPLET', 'BeH2_STO-3G_SINGLET', 'Be_STO-3G_SINGLET', 'C_STO-3G_TRIPLET', 'NH_STO-3G_SINGLET', 'Ne_STO-3G_SINGLET', 'F_STO-3G_DOUBLET', 'Li_STO-3G_DOUBLET', 'BH_STO-3G_SINGLET', 'NeH+_STO-3G_SINGLET', 'NH2+_STO-3G_SINGLET', 'BH2+_STO-3G_SINGLET', 'HCl_STO-3G_SINGLET', 'H4_STO-3G_SINGLET', 'NH3_STO-3G_SINGLET', 'F2_STO-3G_SINGLET', 'HCN_STO-3G_SINGLET', 'CH4_STO-3G_SINGLET', 'CH3OH_STO-3G_SINGLET', 'C2H6_STO-3G_SINGLET', 'CH3CN_STO-3G_SINGLET', 'CH3CHO_STO-3G_SINGLET', 'CH3CHOHCH3_STO-3G_SINGLET', 'CHONH2_STO-3G_SINGLET', 'CO2_STO-3G_SINGLET', 'O2_STO-3G_SINGLET', 'O3_STO-3G_SINGLET', 'HOOH_STO-3G_SINGLET', 'NaCl_STO-3G_SINGLET', 'H2S_STO-3G_SINGLET', 'SiH4_STO-3G_SINGLET'])\n"
     ]
    }
   ],
   "source": [
    "with open('data/molecule_data.json', 'r') as jfile:\n",
    "    molecule_geometries = json.load(jfile)\n",
    "print(molecule_geometries.keys())"
   ]
  },
  {
   "cell_type": "markdown",
   "id": "b9ae2aec",
   "metadata": {},
   "source": [
    "# Build the molecule and CS-VQE model"
   ]
  },
  {
   "cell_type": "code",
   "execution_count": 3,
   "id": "0fdc5fc2",
   "metadata": {},
   "outputs": [
    {
     "name": "stdout",
     "output_type": "stream",
     "text": [
      "------------------------------------------------\n",
      "Information concerning the full system:\n",
      "------------------------------------------------\n",
      "Number of qubits in full problem: 10\n",
      "The Hartree-Fock state is |1111000000>\n",
      "HF   energy = -14.35188048\n",
      "MP2  energy = -14.37623885\n",
      "CISD energy = -14.40364578\n",
      "CCSD energy = -14.40365075\n",
      "FCI energy  = -14.40365511\n",
      "------------------------------------------------\n",
      "Tapering information:\n",
      "------------------------------------------------\n",
      "We are able to taper 5 qubits from the Hamiltonian\n",
      "The symmetry sector is:\n",
      "1 ZIZIIZIZIZ +\n",
      "1 IZIZIZIZIZ +\n",
      "1 IIIIZZIIII +\n",
      "1 IIIIIIZZII +\n",
      "1 IIIIIIIIZZ\n",
      "The tapered Hartree-Fock state is |11000>\n",
      "------------------------------------------------\n",
      "CS-VQE information:\n",
      "------------------------------------------------\n",
      "Noncontextual GS energy: -14.352558957524035\n",
      "Symmetry generators:    \n",
      "1 IIIIZ +\n",
      "1 IIIZI +\n",
      "1 IIZII +\n",
      "-1 ZIZZZ\n",
      "Clique representatives: \n",
      "-0.9997423322 IZZZZ +\n",
      "-0.0226995442 IXIII\n",
      "------------------------------------------------\n"
     ]
    }
   ],
   "source": [
    "# Set molecule parameters\n",
    "speciesname = 'Be_STO-3G_SINGLET'\n",
    "mol_data = molecule_geometries[speciesname]\n",
    "if 'name' in mol_data:\n",
    "    print(mol_data['name'])\n",
    "    \n",
    "atoms = mol_data['atoms']\n",
    "coords = mol_data['coords']\n",
    "basis = mol_data['basis']\n",
    "multiplicity = mol_data['multiplicity']\n",
    "charge = mol_data['charge']\n",
    "geometry = list(zip(atoms, coords))\n",
    "\n",
    "delete_input = True\n",
    "delete_output = True\n",
    "cisd=1\n",
    "ccsd=1\n",
    "fci =1 # wouldn't advise turning this on over 32 qubits!\n",
    "\n",
    "# Run pyscf.\n",
    "molecule_data = of.MolecularData(geometry, basis, multiplicity, charge)\n",
    "calculated_molecule = ofpyscf.run_pyscf(molecule_data,\n",
    "                     run_scf=1,run_mp2=1,run_cisd=cisd,run_ccsd=ccsd,run_fci=fci)\n",
    "model = build_molecule_for_projection(calculated_molecule, basis_weighting='ham_coeff')"
   ]
  },
  {
   "cell_type": "code",
   "execution_count": 4,
   "id": "d7a5ac74",
   "metadata": {},
   "outputs": [
    {
     "name": "stdout",
     "output_type": "stream",
     "text": [
      "1-qubit CS-VQE error:  0.031615\n",
      "2-qubit CS-VQE error:  0.015027\n",
      "3-qubit CS-VQE error:  0.001190\n",
      "------ done ------\n",
      "3-qubit CS-VQE error:  0.001190 | stabilizer indices: [0, 4]\n"
     ]
    }
   ],
   "source": [
    "num_sim_q = 3\n",
    "stab_indices = model.greedy_search(num_sim_q)\n",
    "projected = model.contextual_subspace_projection(stab_indices)\n",
    "nrg = exact_gs_energy(projected.to_sparse_matrix)[0]\n",
    "error = abs(nrg-model.fci_energy)\n",
    "print(f'{projected.n_qubits}-qubit CS-VQE error: {error: .6f} | stabilizer indices: {stab_indices}')"
   ]
  },
  {
   "cell_type": "markdown",
   "id": "37ab2a18",
   "metadata": {},
   "source": [
    "# Run a VQE simulation over the contextual subspace"
   ]
  },
  {
   "cell_type": "code",
   "execution_count": 5,
   "id": "54050e64",
   "metadata": {},
   "outputs": [],
   "source": [
    "ham_cs = model.contextual_subspace_projection(stab_indices)\n",
    "ucc_cs = model.contextual_subspace_projection(stab_indices, aux_operator=model.ucc_tap)\n",
    "ref_cs = model.hf_tapered[model.free_qubit_indices]\n",
    "\n",
    "vqe = VariationalAlgorithm(ham_cs, ucc_cs, ref_cs)"
   ]
  },
  {
   "cell_type": "code",
   "execution_count": 6,
   "id": "c98262de",
   "metadata": {
    "scrolled": true
   },
   "outputs": [
    {
     "name": "stdout",
     "output_type": "stream",
     "text": [
      "CS-VQE noncontextual projection Ansatz error: 0.001192063846929159\n"
     ]
    }
   ],
   "source": [
    "opt_out, interim = vqe.VQE(optimizer='BFGS', exact=True, maxiter=10)#, n_shots=2**16, n_realize=1)\n",
    "print('CS-VQE noncontextual projection Ansatz error:', opt_out['fun'] - model.fci_energy)"
   ]
  },
  {
   "cell_type": "code",
   "execution_count": 7,
   "id": "d8d8acc3",
   "metadata": {},
   "outputs": [
    {
     "data": {
      "image/png": "[encoded data removed]",
      "text/plain": [
       "<Figure size 360x360 with 2 Axes>"
      ]
     },
     "metadata": {
      "needs_background": "light"
     },
     "output_type": "display_data"
    }
   ],
   "source": [
    "from matplotlib.ticker import FormatStrFormatter\n",
    "\n",
    "fig,axis = plt.subplots(figsize = (5,5))#, sharex=True, gridspec_kw={'height_ratios': [2, 1]})\n",
    "#fig.tight_layout()\n",
    "\n",
    "def transform(dataset, ref_val=0):\n",
    "    return np.log10(abs(dataset-ref_val))\n",
    "\n",
    "truegs = model.fci_energy\n",
    "target = transform(opt_out['fun'], truegs)\n",
    "\n",
    "X, Y = zip(*interim['values'])\n",
    "X = np.array(X)\n",
    "Y = np.array(Y)\n",
    "Y_error = transform(Y, truegs)\n",
    "Y_max = np.max(Y_error)+0.5\n",
    "\n",
    "nfev      = X[-1]\n",
    "noncon    = transform(model.noncontextual_energy, truegs)\n",
    "hf_energy = transform(model.hf_energy, truegs)\n",
    "chemacc   = transform(0.0016)\n",
    "axis.plot(X, Y_error, label='CS-VQE convergence', color='black', zorder=4, lw=1.3)\n",
    "\n",
    "axis.hlines(hf_energy, 1, nfev, color='red',ls=':',label='Hartree-Fock energy', zorder=3)\n",
    "axis.hlines(noncon, 1, nfev, color='orange', label='Noncontextual energy', zorder=2)\n",
    "axis.hlines(chemacc, 1, nfev, color='green', label='Chemical accuracy', zorder=2)\n",
    "axis.hlines(target, 1, nfev, color='blue', label='Optimal value', ls='-.', lw=0.8, zorder=3)\n",
    "\n",
    "axis.fill_between(X, -3.5,np.log10(0.0016), color='green', alpha=0.1, zorder=1)\n",
    "axis.fill_between(X, np.log10(0.0016), np.log10(model.noncontextual_energy- truegs), color='orange', alpha=0.1, zorder=1)\n",
    "axis.fill_between(X, np.log10(model.noncontextual_energy- truegs),Y_max, color='red', alpha=0.1, zorder=1)\n",
    "\n",
    "axis.set_xlabel('nfev')#, fontname=font)    \n",
    "axis.set_ylabel('Simulation error [$\\mathrm{log}_{10}\\mathrm{Ha}$]', fontsize=10)#,fontname = font)\n",
    "#axis.set_xticks(np.arange(1, X_max, 5))\n",
    "axis.set_yticks(np.arange(-3.5, Y_max, 0.5))\n",
    "axis.legend()\n",
    "\n",
    "axis_grad = axis.twinx()\n",
    "X_grad, Y_grad_list = zip(*interim['gradients'])\n",
    "for index, Y_grad in enumerate(zip(*Y_grad_list)):\n",
    "    Y_grad = np.array(Y_grad)\n",
    "    c = plt.cm.jet(index/(len(Y_grad_list[0])))\n",
    "    axis_grad.plot(X_grad, Y_grad, color=c, lw=0.8, alpha=0.7, marker='x', ms=2)\n",
    "\n",
    "axis_grad.set_ylabel('Parameter gradients $dE/d\\\\theta$', fontsize=10)#,fontname = font)\n",
    "axis_grad.yaxis.set_major_formatter(FormatStrFormatter('%.2f'))\n",
    "#axis_grad.set_ylim(-1,1)\n",
    "axis.set_zorder(axis_grad.get_zorder()+1)\n",
    "axis.set_frame_on(False)\n"
   ]
  },
  {
   "cell_type": "markdown",
   "id": "f52fffc6",
   "metadata": {},
   "source": [
    "# Try to find a more compact Ansatz from the terms of ucc_cs:"
   ]
  },
  {
   "cell_type": "code",
   "execution_count": 8,
   "id": "a0edd24b",
   "metadata": {},
   "outputs": [
    {
     "name": "stdout",
     "output_type": "stream",
     "text": [
      "Best 1-term Ansatz has an error of  0.03161485:\n",
      "0.0000000000-0.0984641071j YII\n",
      "\n",
      "Best 2-term Ansatz has an error of  0.01643272:\n",
      "0.0000000000-0.0984641071j ZZY +\n",
      "0.0000000000-0.1969282143j YII\n",
      "\n",
      "Best 3-term Ansatz has an error of  0.00568006:\n",
      "0.0000000000-0.1969282143j ZZY +\n",
      "0.0000000000-0.0984641071j ZYZ +\n",
      "0.0000000000-0.3938564286j YII\n",
      "\n",
      "Best 4-term Ansatz has an error of  0.00416677:\n",
      "0.0000000000-0.3938564286j ZZY +\n",
      "0.0000000000-0.0984641071j IYI +\n",
      "0.0000000000-0.1969282143j ZYZ +\n",
      "0.0000000000-0.7877128572j YII\n",
      "\n",
      "Best 5-term Ansatz has an error of  0.00143011:\n",
      "0.0000000000-0.7877128572j ZZY +\n",
      "0.0000000000-0.1969282143j IYI +\n",
      "0.0000000000-0.3938564286j ZYZ +\n",
      "0.0000000000-1.5754257143j YII +\n",
      "0.0000000000-0.0984641071j YZZ\n",
      "\n"
     ]
    }
   ],
   "source": [
    "ansatz=[]\n",
    "used_indices = []\n",
    "for t in range(1,6):\n",
    "    trials = []\n",
    "    for i in set(range(ucc_cs.n_terms)).difference(used_indices):\n",
    "        anz_op_list = [ucc_cs[i]]+ansatz\n",
    "        anz_op = reduce(lambda x,y:x+y, anz_op_list)\n",
    "        vqe = VariationalAlgorithm(ham_cs, anz_op, ref_cs)\n",
    "        min_val, interim = vqe.VQE(init_params=anz_op.coeff_vec.imag, \n",
    "                                   optimizer='BFGS', \n",
    "                                   maxiter=10, \n",
    "                                   exact=True,\n",
    "                                   opt_tol=1e-10)\n",
    "        trials.append((i, anz_op, abs(min_val['fun']-model.fci_energy)))   \n",
    "    best_index, best_term, best_error = sorted(trials, key=lambda x:x[2])[0]\n",
    "    used_indices.append(best_index)\n",
    "    ansatz.append(best_term)\n",
    "    ansatz_op = reduce(lambda x,y:x+y, ansatz)\n",
    "    print(f'Best {ansatz_op.n_terms}-term Ansatz has an error of {best_error: .8f}:')\n",
    "    print(ansatz_op)\n",
    "    print()"
   ]
  },
  {
   "cell_type": "code",
   "execution_count": null,
   "id": "588bf063",
   "metadata": {},
   "outputs": [],
   "source": []
  }
 ],
 "metadata": {
  "kernelspec": {
   "display_name": "Python 3 (ipykernel)",
   "language": "python",
   "name": "python3"
  },
  "language_info": {
   "codemirror_mode": {
    "name": "ipython",
    "version": 3
   },
   "file_extension": ".py",
   "mimetype": "text/x-python",
   "name": "python",
   "nbconvert_exporter": "python",
   "pygments_lexer": "ipython3",
   "version": "3.8.8"
  }
 },
 "nbformat": 4,
 "nbformat_minor": 5
}
