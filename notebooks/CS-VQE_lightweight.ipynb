{
 "cells": [
  {
   "cell_type": "code",
   "execution_count": 1,
   "id": "13d2cd4d",
   "metadata": {},
   "outputs": [],
   "source": [
    "from symred.S3_projection import S3_projection, QubitTapering, unitary_partitioning_rotations\n",
    "from symred.symplectic_form import *\n",
    "from symred.utils import exact_gs_energy\n",
    "from symred.utils import gf2_gaus_elim, gf2_basis_for_gf2_rref\n",
    "from symred.chem import FermionicHamilt, FermioniCC, PySCFDriver, geometry_from_pubchem\n",
    "from openfermion import get_fermion_operator, jordan_wigner, hermitian_conjugated, QubitOperator\n",
    "from functools import reduce\n",
    "import json"
   ]
  },
  {
   "cell_type": "code",
   "execution_count": 2,
   "id": "68cd3f8d",
   "metadata": {},
   "outputs": [],
   "source": [
    "class CS_VQE_LW(S3_projection):\n",
    "    \"\"\" A lightweight CS-VQE implementation in which we choose an arbitrary\n",
    "    Pauli Z-basis and project in accordance with it. Can be interpretted as\n",
    "    CS-VQE with the noncontextual set taken as the diagonal Hamiltonian terms.\n",
    "\n",
    "    Second-order-response-corrected VQE... identify the independent Z-basis\n",
    "    that maxises the SOR objective function\n",
    "    \"\"\"\n",
    "    def __init__(self, \n",
    "            operator: PauliwordOp,\n",
    "            ref_state: np.array,\n",
    "            target_sqp: str = 'Z',\n",
    "            basis_weighting_operator=None):\n",
    "        self.operator = operator\n",
    "        self.ref_state = ref_state\n",
    "        self.target_sqp = target_sqp\n",
    "        if basis_weighting_operator is None:\n",
    "            self.basis_weighting_operator = operator\n",
    "        else:\n",
    "            self.basis_weighting_operator = basis_weighting_operator\n",
    "\n",
    "    def project_onto_subspace(self, \n",
    "            basis: StabilizerOp,\n",
    "            aux_operator: PauliwordOp = None\n",
    "        ) -> PauliwordOp:\n",
    "        \"\"\" Project the operator in accordance with the supplied basis\n",
    "        \"\"\"\n",
    "        # define the operator to be projected (aux_operator faciliates ansatze to be projected)\n",
    "        if aux_operator is not None:\n",
    "            operator_to_project = aux_operator.copy()\n",
    "        else:\n",
    "            operator_to_project = self.operator.copy()\n",
    "        \n",
    "        # instantiate as StabilizerOp to ensure algebraic independence and coefficients are +/-1\n",
    "        basis = StabilizerOp(\n",
    "            basis.symp_matrix, \n",
    "            np.ones(basis.n_terms, dtype=int), \n",
    "            target_sqp=self.target_sqp\n",
    "        )\n",
    "        # update symmetry sector in accordance with the reference state\n",
    "        basis.update_sector(ref_state=self.ref_state)\n",
    "        \n",
    "        # instantiate the parent S3_projection class with the stabilizers we are enforcing\n",
    "        super().__init__(basis, target_sqp=self.target_sqp)\n",
    "        \n",
    "        return self.perform_projection(\n",
    "            operator=operator_to_project\n",
    "        )\n",
    "\n",
    "    def basis_score(self, \n",
    "            basis: StabilizerOp\n",
    "        ) -> float:\n",
    "        \"\"\" Evaluate the score of an input basis according \n",
    "        to the basis weighting operator, for example:\n",
    "            - set Hamiltonian cofficients to 1 for unweighted number of commuting terms\n",
    "            - specify as the SOR Hamiltonian to weight according to second-order response\n",
    "            - input UCC operator to weight according to coupled-cluster theory <- best performance\n",
    "            - if None given then weights by Hamiltonian coefficient magnitude\n",
    "        \"\"\"\n",
    "        # mask terms of the weighting operator that are preserved under projection over the basis\n",
    "        mask_preserved = np.where(np.all(self.basis_weighting_operator.commutes_termwise(basis),axis=1))[0]\n",
    "        return (\n",
    "            np.linalg.norm(self.basis_weighting_operator.coeff_vec[mask_preserved]) /\n",
    "            np.linalg.norm(self.basis_weighting_operator.coeff_vec)\n",
    "            )"
   ]
  },
  {
   "cell_type": "code",
   "execution_count": 3,
   "id": "e23c5340",
   "metadata": {},
   "outputs": [
    {
     "name": "stdout",
     "output_type": "stream",
     "text": [
      "dict_keys(['H2_3-21G_SINGLET', 'H6_STO-3G_SINGLET', 'H2_6-31G_SINGLET', 'H2_6-311G_SINGLET', 'H3+_STO-3G_SINGLET', 'H3+_3-21G_SINGLET', 'HeH+_3-21G_SINGLET', 'HeH+_6-311G_SINGLET', 'H2O_STO-3G_SINGLET', 'BeH+_STO-3G_SINGLET', 'LiH_STO-3G_SINGLET', 'CH+_STO-3G_SINGLET', 'HF_STO-3G_SINGLET', 'B+_STO-3G_SINGLET', 'B_STO-3G_DOUBLET', 'N_STO-3G_QUARTET', 'OH-_STO-3G_SINGLET', 'O_STO-3G_TRIPLET', 'CH2_STO-3G_TRIPLET', 'BeH2_STO-3G_SINGLET', 'Be_STO-3G_SINGLET', 'C_STO-3G_TRIPLET', 'NH_STO-3G_SINGLET', 'Ne_STO-3G_SINGLET', 'F_STO-3G_DOUBLET', 'Li_STO-3G_DOUBLET', 'BH_STO-3G_SINGLET', 'NeH+_STO-3G_SINGLET', 'NH2-_STO-3G_SINGLET', 'BH3_STO-3G_SINGLET', 'BH2+_STO-3G_SINGLET', 'HCl_STO-3G_SINGLET', 'H4_STO-3G_SINGLET', 'NH3_STO-3G_SINGLET', 'F2_STO-3G_SINGLET', 'HCN_STO-3G_SINGLET', 'CH4_STO-3G_SINGLET', 'CH3NHCH3_STO-3G_SINGLET', 'CH3CH2NH2_STO-3G_SINGLET', 'CH3CH2OH_STO-3G_SINGLET', 'CH3OH_STO-3G_SINGLET', 'C2H6_STO-3G_SINGLET', 'CH3CN_STO-3G_SINGLET', 'CH3CHO_STO-3G_SINGLET', 'CH3CHOHCH3_STO-3G_SINGLET', 'CHONH2_STO-3G_SINGLET', 'CH3OCH3_STO-3G_SINGLET', 'C2H5F_STO-3G_SINGLET', 'CH3COCH3_STO-3G_SINGLET', 'CO2_STO-3G_SINGLET', 'O2_STO-3G_SINGLET', 'O3_STO-3G_SINGLET', 'HOOH_STO-3G_SINGLET', 'NaCl_STO-3G_SINGLET', 'H2S_STO-3G_SINGLET', 'SiH4_STO-3G_SINGLET'])\n"
     ]
    }
   ],
   "source": [
    "with open('data/molecule_data.json', 'r') as jfile:\n",
    "    molecule_geometries = json.load(jfile)\n",
    "#with open('data/score_data.json', 'r') as infile:\n",
    "#    scoring_data = json.load(infile)\n",
    "print(molecule_geometries.keys())"
   ]
  },
  {
   "cell_type": "code",
   "execution_count": 208,
   "id": "9b13e6df",
   "metadata": {},
   "outputs": [
    {
     "name": "stdout",
     "output_type": "stream",
     "text": [
      "Molecule geometry:\n",
      "O\t0\t0\t0\n",
      "H\t0.952519\t0\t0\n",
      "H\t-0.246530058\t0.9200627021\t0\n"
     ]
    }
   ],
   "source": [
    "# Set molecule parameters\n",
    "speciesname = 'H2O_STO-3G_SINGLET'\n",
    "#print(speciesname in scoring_data)\n",
    "mol_data = molecule_geometries[speciesname]\n",
    "if 'name' in mol_data:\n",
    "    print(mol_data['name'])\n",
    "    \n",
    "atoms = mol_data['atoms']\n",
    "coords = mol_data['coords']\n",
    "basis = mol_data['basis']\n",
    "multiplicity = mol_data['multiplicity']\n",
    "charge = mol_data['charge']\n",
    "geometry = list(zip(atoms, coords))\n",
    "#geometry = geometry_from_pubchem('N2')\n",
    "\n",
    "xyz_file = str(len(atoms))+'\\n '\n",
    "\n",
    "for atom, coords in geometry:\n",
    "    xyz_file += '\\n'+atom+'\\t'\n",
    "    xyz_file += '\\t'.join(list(map(str, coords)))\n",
    "#xyz_file = '4\\n \\nH\\t0\\t0\\t0\\nH\\t2.45366053071732\\t0\\t0\\nH\\t2.45366053071732\\t2.45366053071732\\t0\\nH\\t0\\t2.45366053071732\\t0\\n'\n",
    "print('Molecule geometry:')\n",
    "print(xyz_file[4:])"
   ]
  },
  {
   "cell_type": "code",
   "execution_count": 209,
   "id": "ee52ea87",
   "metadata": {},
   "outputs": [
    {
     "name": "stdout",
     "output_type": "stream",
     "text": [
      "HF converged?   True\n",
      "CCSD converged? True\n",
      "FCI converged?  True\n",
      "\n",
      "HF energy: -74.96203967838727\n",
      "MP2 energy: -74.99708201366202\n",
      "CCSD energy: -75.01073164269077\n",
      "FCI energy: -75.01084664816946\n"
     ]
    }
   ],
   "source": [
    "convergence = 1e-6; max_hf_cycles=100_000; ram = 8_000\n",
    "run_mp2  = True; run_cisd = False; run_ccsd = True; run_fci  = True\n",
    "\n",
    "pyscf_obj = PySCFDriver(xyz_file,\n",
    "                        basis,\n",
    "                        #convergence=convergence,\n",
    "                        charge=charge,\n",
    "                        #max_ram_memory=ram,\n",
    "                        #max_hf_cycles=max_hf_cycles,                   \n",
    "                        run_mp2=run_mp2,\n",
    "                        run_cisd=run_cisd,\n",
    "                        run_ccsd=run_ccsd,\n",
    "                        run_fci=run_fci)\n",
    "\n",
    "pyscf_obj.run_pyscf()\n",
    "\n",
    "print('HF converged?  ', pyscf_obj.pyscf_hf.converged)\n",
    "print('CCSD converged?', pyscf_obj.pyscf_ccsd.converged)\n",
    "if run_fci:\n",
    "    print('FCI converged? ', pyscf_obj.pyscf_fci.converged)\n",
    "    fci_energy = pyscf_obj.pyscf_fci.e_tot\n",
    "else:\n",
    "    fci_energy = None\n",
    "    \n",
    "hf_energy = pyscf_obj.pyscf_hf.e_tot\n",
    "mp2_energy = pyscf_obj.pyscf_mp2.e_tot\n",
    "ccsd_energy = pyscf_obj.pyscf_ccsd.e_tot\n",
    "\n",
    "print()\n",
    "print(f'HF energy: {hf_energy}')\n",
    "print(f'MP2 energy: {mp2_energy}')\n",
    "print(f'CCSD energy: {ccsd_energy}')\n",
    "print(f'FCI energy: {fci_energy}')"
   ]
  },
  {
   "cell_type": "code",
   "execution_count": 210,
   "id": "06f0d112",
   "metadata": {},
   "outputs": [
    {
     "name": "stdout",
     "output_type": "stream",
     "text": [
      "Number of qubits: 14\n"
     ]
    }
   ],
   "source": [
    "H_fermion = FermionicHamilt(pyscf_obj.pyscf_hf)\n",
    "T_fermion = FermioniCC(pyscf_obj.pyscf_ccsd)\n",
    "H_fermion.build_operator()\n",
    "T_fermion.build_operator()\n",
    "\n",
    "n_qubits = H_fermion.n_qubits\n",
    "print('Number of qubits:', n_qubits)\n",
    "\n",
    "H = get_fermion_operator(H_fermion.fermionic_molecular_hamiltonian)\n",
    "T = T_fermion.fermionic_cc_operator\n",
    "T -= hermitian_conjugated(T)\n",
    "\n",
    "H_jw = jordan_wigner(H)\n",
    "T_jw = jordan_wigner(T)"
   ]
  },
  {
   "cell_type": "code",
   "execution_count": 211,
   "id": "e844150e",
   "metadata": {},
   "outputs": [],
   "source": [
    "def QubitOperator_to_dict(op, num_qubits):\n",
    "    assert(type(op) == QubitOperator)\n",
    "    op_dict = {}\n",
    "    term_dict = op.terms\n",
    "    terms = list(term_dict.keys())\n",
    "\n",
    "    for t in terms:    \n",
    "        letters = ['I' for i in range(num_qubits)]\n",
    "        for i in t:\n",
    "            letters[i[0]] = i[1]\n",
    "        p_string = ''.join(letters)        \n",
    "        op_dict[p_string] = term_dict[t]\n",
    "         \n",
    "    return op_dict\n",
    "\n",
    "H_q = PauliwordOp(QubitOperator_to_dict(H_jw, n_qubits))\n",
    "T_q = PauliwordOp(QubitOperator_to_dict(T_jw, n_qubits))\n",
    "T_q.coeff_vec = T_q.coeff_vec.imag"
   ]
  },
  {
   "cell_type": "code",
   "execution_count": 212,
   "id": "5168cd80",
   "metadata": {},
   "outputs": [
    {
     "name": "stdout",
     "output_type": "stream",
     "text": [
      "We are able to taper 4 qubits from the Hamiltonian.\n",
      "\n",
      "The symmetry generators are\n",
      "\n",
      "1+0j ZIZIIZZIIZZIIZ +\n",
      "1+0j IZIZIZIZIZIZIZ +\n",
      "1+0j IIIIZZIIIIIIZZ +\n",
      "1+0j IIIIIIIIZZIIII\n",
      "\n",
      "and may be rotated via a sequence of Clifford pi/2 rotations\n",
      "\n",
      "[('IIIIIIIIYZIIII', None), ('IIIIYZIIIIIIZZ', None), ('YIZIIZZIIZZIIZ', None), ('IYIZIZIZIZIZIZ', None)]\n",
      "\n",
      "onto the single-qubit Pauli operators\n",
      "\n",
      "-1+0j XIIIIIIIIIIIII +\n",
      "-1+0j IXIIIIIIIIIIII +\n",
      "-1+0j IIIIXIIIIIIIII +\n",
      "-1+0j IIIIIIIIXIIIII\n"
     ]
    }
   ],
   "source": [
    "taper_hamiltonian = QubitTapering(H_q)\n",
    "\n",
    "print(f'We are able to taper {taper_hamiltonian.n_taper} qubits from the Hamiltonian.\\n')\n",
    "print('The symmetry generators are\\n')\n",
    "print(taper_hamiltonian.symmetry_generators)\n",
    "print('\\nand may be rotated via a sequence of Clifford pi/2 rotations\\n')\n",
    "print(taper_hamiltonian.stabilizers.stabilizer_rotations)\n",
    "print('\\nonto the single-qubit Pauli operators\\n')\n",
    "print(taper_hamiltonian.stabilizers.rotate_onto_single_qubit_paulis())"
   ]
  },
  {
   "cell_type": "code",
   "execution_count": 213,
   "id": "f42095e2",
   "metadata": {},
   "outputs": [
    {
     "name": "stdout",
     "output_type": "stream",
     "text": [
      "The symmetry sector corresponding with the single reference [1 1 1 1 1 1 1 1 1 1 0 0 0 0] is [-1 -1  1  1]\n"
     ]
    }
   ],
   "source": [
    "hf_array = H_fermion.hf_comp_basis_state\n",
    "taper_hamiltonian.stabilizers.update_sector(hf_array)\n",
    "print(f'The symmetry sector corresponding with the single reference {hf_array} is {taper_hamiltonian.stabilizers.coeff_vec}')"
   ]
  },
  {
   "cell_type": "code",
   "execution_count": 214,
   "id": "d7512ca7",
   "metadata": {},
   "outputs": [
    {
     "name": "stdout",
     "output_type": "stream",
     "text": [
      "Tapering information:\n",
      "------------------------------------------------\n",
      "We are able to taper 4 qubits from the Hamiltonian\n",
      "The symmetry basis/sector is:\n",
      "-1 ZIZIIZZIIZZIIZ +\n",
      "-1 IZIZIZIZIZIZIZ +\n",
      "1 IIIIZZIIIIIIZZ +\n",
      "1 IIIIIIIIZZIIII\n",
      "The tapered Hartree-Fock state is  1.0000000000 |1111110000>\n",
      "------------------------------------------------\n"
     ]
    }
   ],
   "source": [
    "ham_tap = taper_hamiltonian.taper_it(ref_state=hf_array)\n",
    "#sor_tap = taper_hamiltonian.taper_it(aux_operator=sor_ham, ref_state=hf_array)\n",
    "#sor_tap.coeff_vec/=np.linalg.norm(sor_tap.coeff_vec)\n",
    "ucc_tap = taper_hamiltonian.taper_it(aux_operator=T_q, ref_state=hf_array)\n",
    "n_taper = taper_hamiltonian.n_taper\n",
    "tapered_qubits   = taper_hamiltonian.stab_qubit_indices\n",
    "untapered_qubits = taper_hamiltonian.free_qubit_indices\n",
    "hf_tapered = taper_hamiltonian.tapered_ref_state\n",
    "\n",
    "dashes = \"------------------------------------------------\"\n",
    "print(\"Tapering information:\")\n",
    "print(dashes)\n",
    "print(f'We are able to taper {taper_hamiltonian.n_taper} qubits from the Hamiltonian')\n",
    "print('The symmetry basis/sector is:') \n",
    "print(taper_hamiltonian.symmetry_generators)\n",
    "print(f'The tapered Hartree-Fock state is', QuantumState([hf_tapered]))\n",
    "print(dashes)"
   ]
  },
  {
   "cell_type": "code",
   "execution_count": 215,
   "id": "3cfb277d",
   "metadata": {},
   "outputs": [],
   "source": [
    "cs_vqe_lw = CS_VQE_LW(ham_tap, hf_tapered, basis_weighting_operator=ucc_tap)"
   ]
  },
  {
   "cell_type": "code",
   "execution_count": 216,
   "id": "111a3fa0",
   "metadata": {},
   "outputs": [
    {
     "data": {
      "text/plain": [
       "10"
      ]
     },
     "execution_count": 216,
     "metadata": {},
     "output_type": "execute_result"
    }
   ],
   "source": [
    "ham_tap.n_qubits"
   ]
  },
  {
   "cell_type": "code",
   "execution_count": 217,
   "id": "54b2dda9",
   "metadata": {},
   "outputs": [],
   "source": [
    "ucc_sort = ucc_tap.sort(key='magnitude')\n",
    "ham_sort = ham_tap.sort(key='magnitude')\n",
    "\n",
    "def stabilizers_by_ucc_term_significance(n_terms):\n",
    "    preserve = ucc_sort[:n_terms]# + cs_vqe.clique_operator[1]\n",
    "    ZX_symp = np.hstack([preserve.Z_block, preserve.X_block])\n",
    "    reduced = gf2_gaus_elim(ZX_symp)\n",
    "    kernel  = gf2_basis_for_gf2_rref(reduced)\n",
    "    stabilizers = StabilizerOp(kernel, np.ones(kernel.shape[0]))\n",
    "    mask_diag = np.where(~np.any(stabilizers.X_block, axis=1))[0]\n",
    "    return StabilizerOp(stabilizers.symp_matrix[mask_diag], stabilizers.coeff_vec[mask_diag])\n",
    "\n",
    "def find_stabilizers(n_sim_qubits, region=[0,ucc_sort.n_terms]):\n",
    "    assert(n_sim_qubits < ham_tap.n_qubits), 'Number of qubits to simulate exceeds those in the operator'\n",
    "    assert(region[1]-region[0]>1), 'Search region collapsed without identifying any stabilizers'\n",
    "    \n",
    "    n_terms = sum(region)//2\n",
    "    stabilizers = stabilizers_by_ucc_term_significance(n_terms)\n",
    "    current_n_qubits = ham_tap.n_qubits - stabilizers.n_terms\n",
    "    sign = np.sign(current_n_qubits - n_sim_qubits)\n",
    "    \n",
    "    if sign==0:\n",
    "        # i.e. n_sim_qubits == current_n_qubits\n",
    "        return stabilizers\n",
    "    elif sign==+1:\n",
    "        # i.e. n_sim_qubits < current_n_qubits\n",
    "        region[1] = n_terms\n",
    "    else:\n",
    "        region[0] = n_terms\n",
    "    return find_stabilizers(n_sim_qubits, region)"
   ]
  },
  {
   "cell_type": "code",
   "execution_count": 218,
   "id": "ab884644",
   "metadata": {},
   "outputs": [
    {
     "name": "stdout",
     "output_type": "stream",
     "text": [
      "Basis score (min:0, max:1): 0.5907886228629134\n",
      "Number of qubits in contextual subspace: 1/10\n",
      "Error from CCSD: 0.03640646645381196\n",
      "Basis score (min:0, max:1): 0.6076032695625557\n",
      "Number of qubits in contextual subspace: 2/10\n",
      "Error from CCSD: 0.03640456431710959\n",
      "Basis score (min:0, max:1): 0.6707198559522228\n",
      "Number of qubits in contextual subspace: 3/10\n",
      "Error from CCSD: 0.03322074096378458\n",
      "Basis score (min:0, max:1): 0.6999581284623875\n",
      "Number of qubits in contextual subspace: 4/10\n",
      "Error from CCSD: 0.032138931884205135\n",
      "Basis score (min:0, max:1): 0.7917728919381283\n",
      "Number of qubits in contextual subspace: 5/10\n",
      "Error from CCSD: 0.02435076727032026\n",
      "Basis score (min:0, max:1): 0.8983334155684702\n",
      "Number of qubits in contextual subspace: 6/10\n",
      "Error from CCSD: 0.015773419566230018\n",
      "Basis score (min:0, max:1): 0.9402666655948179\n",
      "Number of qubits in contextual subspace: 7/10\n",
      "Error from CCSD: 0.009508696321745447\n",
      "Basis score (min:0, max:1): 0.9999538429324424\n",
      "Number of qubits in contextual subspace: 8/10\n",
      "Error from CCSD: 7.87740978154261e-05\n",
      "Basis score (min:0, max:1): 0.9999724151786067\n",
      "Number of qubits in contextual subspace: 9/10\n",
      "Error from CCSD: 5.267749530446508e-05\n"
     ]
    }
   ],
   "source": [
    "ref_energy = fci_energy\n",
    "\n",
    "scores = []\n",
    "energy = []\n",
    "\n",
    "for i in range(1, ham_tap.n_qubits):\n",
    "    try:\n",
    "        stabilizers =  find_stabilizers(n_sim_qubits=i, region=[0,ucc_sort.n_terms])\n",
    "        stab_score = cs_vqe_lw.basis_score(stabilizers)\n",
    "        scores.append(stab_score)\n",
    "        print('Basis score (min:0, max:1):', stab_score)\n",
    "        if i<=15:\n",
    "            ham_cs = cs_vqe_lw.project_onto_subspace(stabilizers)\n",
    "            print(f'Number of qubits in contextual subspace: {ham_cs.n_qubits}/{ham_tap.n_qubits}')\n",
    "            matrix = ham_cs.to_sparse_matrix\n",
    "            e = exact_gs_energy(matrix)[0]\n",
    "            print('Error from CCSD:', e-ref_energy)\n",
    "            energy.append(e)\n",
    "    except:\n",
    "        print(i, 'did not work')"
   ]
  },
  {
   "cell_type": "code",
   "execution_count": 219,
   "id": "b08c6dcf",
   "metadata": {},
   "outputs": [
    {
     "data": {
      "image/png": "[encoded data removed]",
      "text/plain": [
       "<Figure size 432x288 with 2 Axes>"
      ]
     },
     "metadata": {
      "needs_background": "light"
     },
     "output_type": "display_data"
    }
   ],
   "source": [
    "from matplotlib import pyplot as plt\n",
    "#plt.style.use('ggplot')\n",
    "\n",
    "fig,energy_axis = plt.subplots()\n",
    "X=np.arange(1, ham_tap.n_qubits)\n",
    "\n",
    "Y_energy=np.array(energy)-ref_energy\n",
    "energy_axis.plot(X[:15], Y_energy, color='black')\n",
    "energy_axis.hlines(hf_energy-ref_energy, 1, X[-1], ls='--', color='red', label='HF energy')\n",
    "energy_axis.hlines(mp2_energy-ref_energy, 1, X[-1], ls='--', color='orange', label='MP2 energy')\n",
    "energy_axis.hlines(ccsd_energy-ref_energy, 1, X[-1], ls='--', color='green', label='CCSD energy')\n",
    "energy_axis.hlines(0.0016, 1, X[-1], ls='--', color='black', label='Chemical accuracy')\n",
    "\n",
    "#energy_axis.set_ylim(1e-15, 1e-0) \n",
    "#energy_axis.set_yscale('log')\n",
    "\n",
    "score_axis = energy_axis.twinx()\n",
    "Y_scores=np.array(scores)\n",
    "score_axis.scatter(X, Y_scores, color='black', marker='+')\n",
    "\n",
    "#energy_axis.set_xticks(X)\n",
    "\n",
    "fig.legend(ncol=4)\n",
    "plt.show()"
   ]
  },
  {
   "cell_type": "code",
   "execution_count": 220,
   "id": "3d1c31a4",
   "metadata": {},
   "outputs": [],
   "source": [
    "#with open('data/score_data.json', 'r') as infile:\n",
    "#    scoring_data = json.load(infile)"
   ]
  },
  {
   "cell_type": "code",
   "execution_count": 221,
   "id": "f596ba52",
   "metadata": {},
   "outputs": [],
   "source": [
    "#scoring_data[speciesname] = {\n",
    "#    'n_qubits_pre_taper': H_q.n_qubits, \n",
    "#    'n_qubits_post_taper': ham_tap.n_qubits,\n",
    "#    'hf_energy': hf_energy,\n",
    "#    'mp2_energy': mp2_energy,\n",
    "#    'ccsd_energy': ccsd_energy,\n",
    "#    'fci_energy': fci_energy,\n",
    "#    'cs_vqe_energies': energy,\n",
    "#    'stabilizer_score': scores\n",
    "#}\n",
    "\n",
    "#scoring_data"
   ]
  },
  {
   "cell_type": "code",
   "execution_count": 222,
   "id": "9404cd39",
   "metadata": {},
   "outputs": [],
   "source": [
    "#with open('data/score_data.json', 'w') as outfile:\n",
    "#    json.dump(scoring_data, outfile)"
   ]
  },
  {
   "cell_type": "code",
   "execution_count": 223,
   "id": "1fa4a9cb",
   "metadata": {},
   "outputs": [
    {
     "name": "stdout",
     "output_type": "stream",
     "text": [
      "1\n",
      "2\n",
      "3\n",
      "4\n",
      "5\n",
      "6\n",
      "7\n",
      "8\n",
      "9\n"
     ]
    }
   ],
   "source": [
    "def random_stabs(n_stabs):\n",
    "    Z_block = np.random.randint(0,2,(n_stabs, ham_tap.n_qubits))\n",
    "    S = StabilizerOp(np.hstack([np.zeros_like(Z_block), Z_block]), np.ones(n_stabs))\n",
    "    return S\n",
    "\n",
    "def score_vs_energy(n_stabs):\n",
    "    S = random_stabs(n_stabs)\n",
    "    stab_score = cs_vqe_lw.basis_score(S)\n",
    "    ham_cs = cs_vqe_lw.project_onto_subspace(S)\n",
    "    matrix = ham_cs.to_sparse_matrix\n",
    "    e = exact_gs_energy(matrix)[0]\n",
    "    return stab_score, e\n",
    "\n",
    "data={}\n",
    "\n",
    "for n_stabs in range(1, ham_tap.n_qubits):\n",
    "    print(n_stabs)\n",
    "    results = []\n",
    "    for i in range(250):\n",
    "        try:\n",
    "            results.append(score_vs_energy(n_stabs))\n",
    "        except:\n",
    "            pass\n",
    "    data[n_stabs] = results"
   ]
  },
  {
   "cell_type": "code",
   "execution_count": 224,
   "id": "3b4ab39e",
   "metadata": {},
   "outputs": [
    {
     "data": {
      "text/plain": [
       "<matplotlib.legend.Legend at 0x7f8d37720220>"
      ]
     },
     "execution_count": 224,
     "metadata": {},
     "output_type": "execute_result"
    },
    {
     "data": {
      "image/png": "[encoded data removed]",
      "text/plain": [
       "<Figure size 432x288 with 2 Axes>"
      ]
     },
     "metadata": {
      "needs_background": "light"
     },
     "output_type": "display_data"
    }
   ],
   "source": [
    "fig,axis = plt.subplots()\n",
    "\n",
    "increments = []\n",
    "\n",
    "for n_stabs,results in data.items():\n",
    "    ratio = n_stabs/ham_tap.n_qubits\n",
    "    increments.append(ratio)\n",
    "    c = plt.cm.jet(ratio)\n",
    "    X,Y = zip(*results)\n",
    "    X = np.array(X)\n",
    "    Y = np.array(Y) - fci_energy\n",
    "    axis.scatter(\n",
    "        X, \n",
    "        Y, \n",
    "        marker='+', \n",
    "        color=c, \n",
    "        zorder=n_stabs,\n",
    "        alpha=0.9)\n",
    "    \n",
    "keys = list(data.keys())\n",
    "cbar = fig.colorbar(cm.ScalarMappable(norm=Normalize(), cmap='jet_r'), \n",
    "                     ax=axis, label='# qubits in stabilizer subspace', ticks=increments)#, fraction=0.78)\n",
    "cbar.ax.set_yticklabels(keys)\n",
    "\n",
    "axis.set_xlabel('Stabilizer subspace score')\n",
    "axis.set_ylabel('$\\omega(\\mathcal{S})$')\n",
    "\n",
    "axis.hlines(hf_energy-fci_energy, 0, 1, ls='--', lw=1, color='red', zorder=0, label='HF energy')\n",
    "axis.hlines(mp2_energy-fci_energy, 0, 1, ls='--', lw=1, color='orange', zorder=0, label='MP2 energy')\n",
    "axis.hlines(ccsd_energy-fci_energy, 0, 1, ls='--', lw=1, color='green', zorder=0, label='CCSD energy')\n",
    "axis.hlines(0.0016, 0, 1, ls='--', lw=1, color='black', zorder=0, label='Chemical accuracy')\n",
    "\n",
    "fig.legend(ncol=2, bbox_to_anchor=(0.7,0))"
   ]
  },
  {
   "cell_type": "code",
   "execution_count": null,
   "id": "f4138bb4",
   "metadata": {},
   "outputs": [],
   "source": []
  },
  {
   "cell_type": "code",
   "execution_count": 100,
   "id": "6b8f83d9",
   "metadata": {},
   "outputs": [
    {
     "ename": "NameError",
     "evalue": "name 'cs_data' is not defined",
     "output_type": "error",
     "traceback": [
      "\u001b[0;31m---------------------------------------------------------------------------\u001b[0m",
      "\u001b[0;31mNameError\u001b[0m                                 Traceback (most recent call last)",
      "\u001b[0;32m/tmp/ipykernel_80378/1692421529.py\u001b[0m in \u001b[0;36m<module>\u001b[0;34m\u001b[0m\n\u001b[1;32m     22\u001b[0m     \u001b[0maxes\u001b[0m\u001b[0;34m[\u001b[0m\u001b[0maxis_ind\u001b[0m\u001b[0;34m]\u001b[0m\u001b[0;34m.\u001b[0m\u001b[0mhlines\u001b[0m\u001b[0;34m(\u001b[0m\u001b[0;36m0.0016\u001b[0m\u001b[0;34m,\u001b[0m \u001b[0;36m0\u001b[0m\u001b[0;34m,\u001b[0m \u001b[0;36m1\u001b[0m\u001b[0;34m,\u001b[0m \u001b[0mls\u001b[0m\u001b[0;34m=\u001b[0m\u001b[0;34m'-'\u001b[0m\u001b[0;34m,\u001b[0m \u001b[0mlw\u001b[0m\u001b[0;34m=\u001b[0m\u001b[0;36m1\u001b[0m\u001b[0;34m,\u001b[0m \u001b[0mcolor\u001b[0m\u001b[0;34m=\u001b[0m\u001b[0;34m'black'\u001b[0m\u001b[0;34m,\u001b[0m \u001b[0mzorder\u001b[0m\u001b[0;34m=\u001b[0m\u001b[0;36m0\u001b[0m\u001b[0;34m)\u001b[0m\u001b[0;34m\u001b[0m\u001b[0;34m\u001b[0m\u001b[0m\n\u001b[1;32m     23\u001b[0m \u001b[0;34m\u001b[0m\u001b[0m\n\u001b[0;32m---> 24\u001b[0;31m \u001b[0;32mfor\u001b[0m \u001b[0mstab_ind\u001b[0m\u001b[0;34m,\u001b[0m \u001b[0mdata\u001b[0m \u001b[0;32min\u001b[0m \u001b[0mcs_data\u001b[0m\u001b[0;34m.\u001b[0m\u001b[0mitems\u001b[0m\u001b[0;34m(\u001b[0m\u001b[0;34m)\u001b[0m\u001b[0;34m:\u001b[0m\u001b[0;34m\u001b[0m\u001b[0;34m\u001b[0m\u001b[0m\n\u001b[0m\u001b[1;32m     25\u001b[0m     \u001b[0mc_ratio\u001b[0m \u001b[0;34m=\u001b[0m \u001b[0mstab_ind\u001b[0m\u001b[0;34m/\u001b[0m\u001b[0mham_tap\u001b[0m\u001b[0;34m.\u001b[0m\u001b[0mn_qubits\u001b[0m\u001b[0;34m\u001b[0m\u001b[0;34m\u001b[0m\u001b[0m\n\u001b[1;32m     26\u001b[0m     \u001b[0mincrements\u001b[0m\u001b[0;34m.\u001b[0m\u001b[0mappend\u001b[0m\u001b[0;34m(\u001b[0m\u001b[0mc_ratio\u001b[0m\u001b[0;34m)\u001b[0m\u001b[0;34m\u001b[0m\u001b[0;34m\u001b[0m\u001b[0m\n",
      "\u001b[0;31mNameError\u001b[0m: name 'cs_data' is not defined"
     ]
    },
    {
     "data": {
      "image/png": "[encoded data removed]",
      "text/plain": [
       "<Figure size 864x288 with 4 Axes>"
      ]
     },
     "metadata": {
      "needs_background": "light"
     },
     "output_type": "display_data"
    }
   ],
   "source": [
    "from matplotlib import pyplot as plt\n",
    "from matplotlib import cm\n",
    "from matplotlib.colors import Normalize\n",
    "\n",
    "fig,axes = plt.subplots(1,4, sharey=True, sharex=True, \n",
    "                        gridspec_kw={'width_ratios': [10, 10, 10, 1]}, figsize=(12,4))\n",
    "increments = []\n",
    "\n",
    "def plot_data(X, axis_ind):\n",
    "    axes[axis_ind].scatter(\n",
    "        X, Y, \n",
    "        marker='+', \n",
    "        color=c, \n",
    "        #label = f'{ham_tap.n_qubits - stab_ind}-qubit CS-VQE', \n",
    "        zorder=stab_ind,\n",
    "        alpha=0.9\n",
    "    )\n",
    "    axes[axis_ind].set_xlabel('Stabilizer subspace score')\n",
    "    axes[axis_ind].hlines(hf_energy-fci_energy, 0, 1, ls='-', lw=1, color='red', zorder=0)\n",
    "    axes[axis_ind].hlines(mp2_energy-fci_energy, 0, 1, ls='-', lw=1, color='orange', zorder=0)\n",
    "    axes[axis_ind].hlines(ccsd_energy-fci_energy, 0, 1, ls='-', lw=1, color='green', zorder=0)\n",
    "    axes[axis_ind].hlines(0.0016, 0, 1, ls='-', lw=1, color='black', zorder=0)\n",
    "\n",
    "for stab_ind, data in cs_data.items():\n",
    "    c_ratio = stab_ind/ham_tap.n_qubits\n",
    "    increments.append(c_ratio)\n",
    "    c = plt.cm.jet(c_ratio)\n",
    "    X_ham, X_ucc, X_sor, Y = zip(*data)\n",
    "    X_avg = [(a+b+c)/3 for a,b,c in zip(X_ham, X_ucc, X_sor)]\n",
    "    X_hyb = [(a*b*c)   for a,b,c in zip(X_ham, X_ucc, X_sor)]\n",
    "    Y = np.array(Y)\n",
    "    Y-=fci_energy\n",
    "\n",
    "    plot_data(X_ham, 0)\n",
    "    plot_data(X_ucc, 1)\n",
    "    plot_data(X_sor, 2)\n",
    "    \n",
    "axes[0].set_ylabel('Error [mHa]')\n",
    "axes[0].set_title('Hamiltonian weighting')\n",
    "axes[1].set_title('UCC weighting')\n",
    "axes[2].set_title('SOR weighting')\n",
    "\n",
    "keys = list(cs_data.keys())\n",
    "cbar = fig.colorbar(cm.ScalarMappable(norm=Normalize(), cmap='jet_r'), \n",
    "                     ax=axes[3], label='# qubits in stabilizer subspace', ticks=increments, fraction=0.78)\n",
    "cbar.ax.set_yticklabels(keys)\n",
    "\n",
    "axes[3].hlines(hf_energy-fci_energy, 0, 0, ls='-', lw=1.2, color='red', label='HF energy', zorder=0)\n",
    "axes[3].hlines(mp2_energy-fci_energy, 0, 0, ls='-', lw=1.2, color='orange', label='MP2 energy', zorder=0)\n",
    "axes[3].hlines(ccsd_energy-fci_energy, 0, 0, ls='-', lw=1.2, color='green', label='CCSD energy', zorder=0)\n",
    "axes[3].hlines(0.0016, 0, 0, ls='-', lw=1.2, color='black', label='Chemical accuracy', zorder=0)\n",
    "    \n",
    "axes[3].set_visible(False)    \n",
    "    \n",
    "fig.legend(loc=\"lower center\", bbox_to_anchor=(.49,-.1), ncol=4)"
   ]
  },
  {
   "cell_type": "code",
   "execution_count": null,
   "id": "58baf814",
   "metadata": {},
   "outputs": [],
   "source": []
  },
  {
   "cell_type": "code",
   "execution_count": null,
   "id": "bcc73095",
   "metadata": {},
   "outputs": [],
   "source": [
    "i=3\n",
    "stabilizers =  find_stabilizers(n_sim_qubits=i, region=[0,ucc_sort.n_terms])\n",
    "stab_score = cs_vqe_lw.basis_score(stabilizers)\n",
    "scores.append(stab_score)\n",
    "print('Basis score (min:0, max:1):', stab_score)\n",
    "if i<10:\n",
    "    ham_cs = cs_vqe_lw.project_onto_subspace(stabilizers)\n",
    "    print(f'Number of qubits in contextual subspace: {ham_cs.n_qubits}/{ham_tap.n_qubits}')\n",
    "    matrix = ham_cs.to_sparse_matrix\n",
    "    print(exact_gs_energy(matrix)[0]-fci_energy)"
   ]
  },
  {
   "cell_type": "code",
   "execution_count": null,
   "id": "c2916383",
   "metadata": {},
   "outputs": [],
   "source": [
    "def stabilizers_by_term_weighting(n_terms, weighting_operator):\n",
    "    preserve = weighting_operator[:n_terms]\n",
    "    ZX_symp = np.hstack([preserve.Z_block, preserve.X_block])\n",
    "    reduced = gf2_gaus_elim(ZX_symp)\n",
    "    kernel  = gf2_basis_for_gf2_rref(reduced)\n",
    "    stabilizers = StabilizerOp(kernel, np.ones(kernel.shape[0]))\n",
    "    mask_diag = np.where(~np.any(stabilizers.X_block, axis=1))[0]\n",
    "    return StabilizerOp(stabilizers.symp_matrix[mask_diag], stabilizers.coeff_vec[mask_diag])\n",
    "\n",
    "def find_stabilizers(n_sim_qubits, weighting_operator=ucc_sort, region=[0, ucc_tap.n_terms]):\n",
    "    print(region)\n",
    "    assert(n_sim_qubits < ham_tap.n_qubits), 'Number of qubits to simulate exceeds those in the operator'\n",
    "    assert(len(set(region))!=1), 'Search region collapsed without identifying any stabilizers'\n",
    "    n_terms = sum(region)//2\n",
    "    stabilizers = stabilizers_by_term_weighting(n_terms, weighting_operator)\n",
    "    current_n_qubits = ham_tap.n_qubits - stabilizers.n_terms\n",
    "    sign = np.sign(current_n_qubits - n_sim_qubits)\n",
    "    print(region)\n",
    "    if sign==0:\n",
    "        # i.e. n_sim_qubits == current_n_qubits\n",
    "        return stabilizers\n",
    "    elif sign==+1:\n",
    "        # i.e. n_sim_qubits < current_n_qubits\n",
    "        region[1] = n_terms\n",
    "    else:\n",
    "        region[0] = n_terms\n",
    "    return find_stabilizers(n_sim_qubits, weighting_operator, region)\n",
    "\n",
    "def region_about_HL_gap(degree):\n",
    "    HL_gap = np.where(hf_tapered==0)[0][0]\n",
    "    above, below = HL_gap+degree, HL_gap-degree\n",
    "    if above>hf_tapered.shape:\n",
    "        above=hf_tapered.shape\n",
    "    return np.arange(below, above)\n",
    "\n",
    "def nontrivial_HL_action(degree):\n",
    "    complement = np.array([i for i in np.arange(ham_tap.n_qubits) if i not in region_about_HL_gap(degree)])\n",
    "    mask_nontrivial = np.where(~np.any(ham_tap.X_block[:,complement], axis=1))\n",
    "    weighting = PauliwordOp(ham_tap.symp_matrix[mask_nontrivial], ham_tap.coeff_vec[mask_nontrivial]).sort(key='magnitude')\n",
    "    print(weighting)\n",
    "    return stabilizers_by_term_weighting(n_terms=weighting.n_terms, weighting_operator=weighting)"
   ]
  },
  {
   "cell_type": "code",
   "execution_count": null,
   "id": "0e7c1360",
   "metadata": {},
   "outputs": [],
   "source": [
    "stabilizers = nontrivial_HL_action(1)\n",
    "print(stabilizers)\n",
    "print('Basis score (min:0, max:1):', cs_vqe_lw.basis_score(stabilizers))\n",
    "ham_cs = cs_vqe_lw.project_onto_subspace(stabilizers)\n",
    "print(f'Number of qubits in contextual subspace: {ham_cs.n_qubits}/{ham_tap.n_qubits}')"
   ]
  },
  {
   "cell_type": "code",
   "execution_count": null,
   "id": "8c1c1364",
   "metadata": {},
   "outputs": [],
   "source": [
    "matrix = ham_cs.to_sparse_matrix\n",
    "print(matrix.shape)\n",
    "exact_gs_energy(matrix)[0] - fci_energy"
   ]
  },
  {
   "cell_type": "code",
   "execution_count": null,
   "id": "7408faaf",
   "metadata": {},
   "outputs": [],
   "source": [
    "print(ucc_tap)"
   ]
  },
  {
   "cell_type": "code",
   "execution_count": null,
   "id": "aa8ece07",
   "metadata": {},
   "outputs": [],
   "source": []
  }
 ],
 "metadata": {
  "kernelspec": {
   "display_name": "Python 3 (ipykernel)",
   "language": "python",
   "name": "python3"
  },
  "language_info": {
   "codemirror_mode": {
    "name": "ipython",
    "version": 3
   },
   "file_extension": ".py",
   "mimetype": "text/x-python",
   "name": "python",
   "nbconvert_exporter": "python",
   "pygments_lexer": "ipython3",
   "version": "3.8.8"
  }
 },
 "nbformat": 4,
 "nbformat_minor": 5
}
