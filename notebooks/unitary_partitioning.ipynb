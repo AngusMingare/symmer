{
 "cells": [
  {
   "cell_type": "code",
   "execution_count": 1,
   "id": "97b87bba",
   "metadata": {},
   "outputs": [],
   "source": [
    "from symred.unitary_partitioning import AntiCommutingOp#, AntiCommutingOp2\n",
    "\n",
    "from symred.symplectic_form import PauliwordOp\n",
    "import numpy as np\n",
    "from typing import Dict, List, Union"
   ]
  },
  {
   "cell_type": "code",
   "execution_count": 2,
   "id": "4443483c",
   "metadata": {},
   "outputs": [],
   "source": [
    "test = AntiCommutingOp({'XXX':1, 'IIY':2, 'XXZ':1})\n",
    "test.lexicographical_sort()"
   ]
  },
  {
   "cell_type": "code",
   "execution_count": 6,
   "id": "0639a9b6",
   "metadata": {
    "scrolled": true
   },
   "outputs": [
    {
     "name": "stdout",
     "output_type": "stream",
     "text": [
      "0.8300495386+0.0000000000j III +\n",
      "-0.0000000000-0.2276758527j ZYY +\n",
      "0.0000000000+0.4553517055j XZZ +\n",
      "0.0000000000+0.2276758527j XXZ\n",
      "1.0000000000+0.0000000000j IIX\n"
     ]
    }
   ],
   "source": [
    "test = AntiCommutingOp({'XXY':1, 'XZY':2, 'ZYZ':1, 'IIX':1})\n",
    "rots, Pseq = test.gen_LCU()\n",
    "\n",
    "print(rots)\n",
    "print(Pseq)"
   ]
  },
  {
   "cell_type": "code",
   "execution_count": 5,
   "id": "34c3ed24",
   "metadata": {},
   "outputs": [
    {
     "name": "stdout",
     "output_type": "stream",
     "text": [
      "[(<symred.symplectic_form.PauliwordOp object at 0x7fad57511370>, (0.7853981633974483+0j)), (<symred.symplectic_form.PauliwordOp object at 0x7fad57511310>, (0.9553166181245093+0j)), (<symred.symplectic_form.PauliwordOp object at 0x7fad57511490>, (-0.38759668665518066+0j))]\n",
      "1.0000000000+0.0000000000j IIX\n"
     ]
    }
   ],
   "source": [
    "test = AntiCommutingOp({'XXY':1, 'XZY':2, 'ZYZ':1, 'IIX':1})\n",
    "rots, PLCU = test.gen_seq_rotations()\n",
    "\n",
    "print(rots)\n",
    "print(PLCU)"
   ]
  },
  {
   "cell_type": "code",
   "execution_count": null,
   "id": "7793bcbf",
   "metadata": {},
   "outputs": [],
   "source": [
    "%timeit test.gen_seq_rotations(check_reduction=False)"
   ]
  },
  {
   "cell_type": "code",
   "execution_count": null,
   "id": "096b1945",
   "metadata": {},
   "outputs": [],
   "source": []
  },
  {
   "cell_type": "code",
   "execution_count": null,
   "id": "b0ab67a9",
   "metadata": {},
   "outputs": [],
   "source": [
    "np.array([3, *np.array([1,2])])"
   ]
  },
  {
   "cell_type": "code",
   "execution_count": null,
   "id": "f2a2ff5b",
   "metadata": {},
   "outputs": [],
   "source": [
    "A = np.arange(10)\n",
    "B = np.array([3])\n",
    "C = np.setdiff1d(A,B)\n",
    "C"
   ]
  },
  {
   "cell_type": "code",
   "execution_count": null,
   "id": "faaf2433",
   "metadata": {},
   "outputs": [],
   "source": [
    "A = set(range(10))\n",
    "B = [3]\n",
    "C = A.difference([3])\n",
    "new = [*B,*C]\n",
    "\n",
    "A.difference([3])"
   ]
  },
  {
   "cell_type": "code",
   "execution_count": null,
   "id": "50db640c",
   "metadata": {},
   "outputs": [],
   "source": [
    "%timeit one = (rots * test).cleanup_zeros()"
   ]
  },
  {
   "cell_type": "code",
   "execution_count": null,
   "id": "36659cb5",
   "metadata": {},
   "outputs": [],
   "source": [
    "one = (rots * test).cleanup_zeros()\n",
    "%timeit two = (one * rots.conjugate).cleanup_zeros()"
   ]
  },
  {
   "cell_type": "code",
   "execution_count": null,
   "id": "65a24a05",
   "metadata": {},
   "outputs": [],
   "source": [
    "%timeit test.gen_seq_rotations()"
   ]
  },
  {
   "cell_type": "code",
   "execution_count": null,
   "id": "cc8aaa68",
   "metadata": {},
   "outputs": [],
   "source": [
    "test = AntiCommutingOp2({'XXY':1, 'XZY':2, 'ZYZ':1, 'IIX':1})\n",
    "%timeit test.gen_seq_rotations()"
   ]
  },
  {
   "cell_type": "code",
   "execution_count": null,
   "id": "8c8e3e55",
   "metadata": {},
   "outputs": [],
   "source": [
    "%timeit test.gen_LCU(check_reduction=False)"
   ]
  },
  {
   "cell_type": "code",
   "execution_count": null,
   "id": "e520d93e",
   "metadata": {},
   "outputs": [],
   "source": [
    "rots = test.gen_seq_rotations()\n",
    "print(rots)"
   ]
  },
  {
   "cell_type": "code",
   "execution_count": null,
   "id": "fab6c672",
   "metadata": {},
   "outputs": [],
   "source": [
    "test = AntiCommutingOp({'XXY':1, 'XZY':2, 'ZYZ':1, 'IIX':1})\n",
    "%timeit test.gen_seq_rotations()"
   ]
  },
  {
   "cell_type": "code",
   "execution_count": null,
   "id": "ec6801cc",
   "metadata": {},
   "outputs": [],
   "source": [
    "test = AntiCommutingOp({'XXY':1, 'XZY':2, 'IIZ':1})\n",
    "rots = test.gen_seq_rotations()\n",
    "\n",
    "rots_working = test.X_sk_rotations"
   ]
  },
  {
   "cell_type": "code",
   "execution_count": null,
   "id": "699b0d5c",
   "metadata": {},
   "outputs": [],
   "source": []
  },
  {
   "cell_type": "code",
   "execution_count": null,
   "id": "11f47bac",
   "metadata": {},
   "outputs": [],
   "source": [
    "class AntiCommutingOp2(PauliwordOp):\n",
    "\n",
    "\n",
    "    def __init__(self,\n",
    "                 AC_operator: Union[List[str], Dict[str, float], np.array],\n",
    "                 coeff_list: Union[List[complex], np.array] = None):\n",
    "        super().__init__(AC_operator, coeff_list)\n",
    "\n",
    "        # check all operators anticommute\n",
    "        anti_comm_check = self.adjacency_matrix.astype(int) - np.eye(self.adjacency_matrix.shape[0])\n",
    "        assert(np.einsum('ij->', anti_comm_check) == 0), 'operator needs to be made of anti-commuting Pauli operators'\n",
    "\n",
    "        # normalization factor\n",
    "        self.gamma_l = np.linalg.norm(self.coeff_vec)\n",
    "        # normalize coefficients\n",
    "        self.coeff_vec = self.coeff_vec/self.gamma_l\n",
    "\n",
    "    def lexicographical_sort(self):\n",
    "        \"\"\"\n",
    "        sort object into lexicographical order\n",
    "\n",
    "        Returns:\n",
    "\n",
    "        \"\"\"\n",
    "        # convert sym form to list of ints\n",
    "        int_list = self.symp_matrix @ (1 << np.arange(self.symp_matrix.shape[1], dtype=object)[::-1])\n",
    "        lex_ordered_indices = np.argsort(int_list)\n",
    "        return lex_ordered_indices\n",
    "\n",
    "\n",
    "    def get_lowest_dense_index(self):\n",
    "\n",
    "        # np.logical_or(X_block, Z_block)\n",
    "        pos_terms_occur = np.logical_or(self.symp_matrix[:, :self.n_qubits],self.symp_matrix[:, self.n_qubits:])\n",
    "\n",
    "        int_list = pos_terms_occur @ (1 << np.arange(pos_terms_occur.shape[1])[::-1])\n",
    "        s_index = np.argmin(int_list)\n",
    "        return s_index\n",
    "\n",
    "\n",
    "    def gen_sequence_of_rotations(self, s_index=None):\n",
    "        \"\"\"\n",
    "\n",
    "        Args:\n",
    "            s_index:\n",
    "\n",
    "        Returns:\n",
    "\n",
    "        \"\"\"\n",
    "        X_sk_theta_sk_list=[]\n",
    "        if self.n_terms == 1:\n",
    "            return None\n",
    "\n",
    "        s_index=0\n",
    "        # if s_index is None:\n",
    "        #     s_index = self.get_lowest_dense_index()\n",
    "\n",
    "        # take β_s P_s\n",
    "        P_s = PauliwordOp(self.symp_matrix[s_index], [1])\n",
    "        β_s = self.coeff_vec[s_index]\n",
    "\n",
    "        # then remove from symp mat and coeff vec\n",
    "        symp_matrix_no_Ps = np.delete(self.symp_matrix, s_index, axis=0)\n",
    "        coeff_vec_no_βs = np.delete(self.coeff_vec, s_index, axis=0)\n",
    "\n",
    "        theta_sk = np.arctan(coeff_vec_no_βs[0] / β_s)\n",
    "        if β_s.real < 0:\n",
    "            theta_sk = theta_sk + np.pi\n",
    "        assert(np.isclose((coeff_vec_no_βs[0] * np.cos(theta_sk) - β_s * np.sin(theta_sk)), 0)), 'term not zeroing out'\n",
    "\n",
    "        # X_sk = 1j * Ps @ Pk\n",
    "        X_sk = P_s * PauliwordOp(symp_matrix_no_Ps[0], [-1j])\n",
    "        X_sk_theta_sk_list.append((X_sk, theta_sk))\n",
    "\n",
    "\n",
    "        # β_s_new = np.sqrt(coeff_vec_no_βs[0] ** 2 + β_s ** 2)\n",
    "        β_s_new = np.linalg.norm([coeff_vec_no_βs[0],  β_s])\n",
    "        for ind, Pk in enumerate(symp_matrix_no_Ps[1:]):\n",
    "            β_k = coeff_vec_no_βs[1:][ind]\n",
    "\n",
    "            # X_sk = 1j * Ps @ Pk\n",
    "            theta_sk = np.arctan(β_k / β_s_new)\n",
    "            assert (np.isclose((β_k * np.cos(theta_sk) - β_s_new * np.sin(theta_sk)), 0)), 'term not zeroing out'\n",
    "\n",
    "            # X_sk = 1j * Ps @ Pk\n",
    "            X_sk = P_s * PauliwordOp(Pk, [-1j])\n",
    "            X_sk_theta_sk_list.append((X_sk, theta_sk))\n",
    "\n",
    "            β_s_new = np.linalg.norm([β_k, β_s])\n",
    "\n",
    "        return X_sk_theta_sk_list\n",
    "\n",
    "\n",
    "    def Apply_SeqRot(self, list_rotations):\n",
    "        AC_op_rotated = PauliwordOp(self.symp_matrix, self.coeff_vec)\n",
    "        for X_sk, theta_sk in list_rotations:\n",
    "            if X_sk.coeff_vec[0].real<0:\n",
    "                AC_op_rotated = AC_op_rotated._rotate_by_single_Pword(X_sk, theta_sk).cleanup_zeros()\n",
    "        return AC_op_rotated.cleanup_zeros()"
   ]
  },
  {
   "cell_type": "code",
   "execution_count": null,
   "id": "d55af24d",
   "metadata": {},
   "outputs": [],
   "source": [
    "test = AntiCommutingOp2({'XXY':1, 'XZY':2, 'IIZ':1})\n",
    "rots = test.gen_sequence_of_rotations()\n",
    "for r, ang in rots:\n",
    "    print(r, ang)"
   ]
  },
  {
   "cell_type": "code",
   "execution_count": null,
   "id": "c6a3d247",
   "metadata": {},
   "outputs": [],
   "source": [
    "for r, ang in rots_working:\n",
    "    print(r, ang)"
   ]
  },
  {
   "cell_type": "code",
   "execution_count": null,
   "id": "8d80d877",
   "metadata": {},
   "outputs": [],
   "source": [
    "%timeit test.gen_sequence_of_rotations()"
   ]
  }
 ],
 "metadata": {
  "kernelspec": {
   "display_name": "Python 3 (ipykernel)",
   "language": "python",
   "name": "python3"
  },
  "language_info": {
   "codemirror_mode": {
    "name": "ipython",
    "version": 3
   },
   "file_extension": ".py",
   "mimetype": "text/x-python",
   "name": "python",
   "nbconvert_exporter": "python",
   "pygments_lexer": "ipython3",
   "version": "3.9.7"
  }
 },
 "nbformat": 4,
 "nbformat_minor": 5
}
