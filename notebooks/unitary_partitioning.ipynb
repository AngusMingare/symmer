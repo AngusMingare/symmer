{
 "cells": [
  {
   "cell_type": "code",
   "execution_count": 1,
   "id": "c59cd9eb",
   "metadata": {},
   "outputs": [],
   "source": [
    "from symred.unitary_partitioning import AntiCommutingOp"
   ]
  },
  {
   "cell_type": "code",
   "execution_count": null,
   "id": "7b3b2f55",
   "metadata": {},
   "outputs": [],
   "source": []
  },
  {
   "cell_type": "code",
   "execution_count": 2,
   "id": "36724ed2",
   "metadata": {},
   "outputs": [
    {
     "name": "stdout",
     "output_type": "stream",
     "text": [
      "0.267+0.000j IXX +\n",
      "0.535+0.000j IYX +\n",
      "0.267+0.000j IZX +\n",
      "0.535+0.000j ZIZ +\n",
      "-0.535+0.000j ZIY\n"
     ]
    }
   ],
   "source": [
    "anticommuting = {\n",
    "'IXX':1,\n",
    "'IYX':2, \n",
    "'IZX':1,\n",
    "'ZIZ':2,\n",
    "'ZIY':-2,\n",
    "}\n",
    "\n",
    "AC_operator_test = AntiCommutingOp(anticommuting)\n",
    "\n",
    "print(AC_operator_test)"
   ]
  },
  {
   "cell_type": "code",
   "execution_count": 3,
   "id": "4451569d",
   "metadata": {},
   "outputs": [
    {
     "name": "stdout",
     "output_type": "stream",
     "text": [
      "0.535+0.000j ZIZ +\n",
      "0.267+0.000j IZX +\n",
      "-0.535+0.000j ZIY +\n",
      "0.267+0.000j IXX +\n",
      "0.535+0.000j IYX\n"
     ]
    }
   ],
   "source": [
    "## optional sorting of operator! This can improve circuit reductions in SeqRots approach,\n",
    "## but not need for contextual subspace stuff\n",
    "\n",
    "# sort into lexicographical order\n",
    "AC_operator_test.lexicographical_sort()\n",
    "print(AC_operator_test)"
   ]
  },
  {
   "cell_type": "code",
   "execution_count": 4,
   "id": "75a0973c",
   "metadata": {},
   "outputs": [
    {
     "name": "stdout",
     "output_type": "stream",
     "text": [
      "1.000-0.000j ZZY angle: 0.464+0.000j\n",
      "1.000-0.000j IIX angle: 0.730-0.000j\n",
      "1.000-0.000j ZXY angle: 0.322+0.000j\n",
      "1.000-0.000j ZYY angle: 0.564+0.000j\n",
      "\n",
      "term reduced too: 1.000+0.000j ZIZ\n"
     ]
    }
   ],
   "source": [
    "# generate sequence of rotations\n",
    "\n",
    "## note check_reduction can be expensive... only run as a check if necessary\n",
    "\n",
    "SeqRots, Pfin = AC_operator_test.gen_seq_rotations(s_index=0, check_reduction=True)\n",
    "\n",
    "for X_sk, theta_sk in SeqRots:\n",
    "    print(X_sk, f'angle: {theta_sk:.3f}')\n",
    "print()\n",
    "print('term reduced too:', Pfin)"
   ]
  },
  {
   "cell_type": "code",
   "execution_count": 5,
   "id": "a2f26190",
   "metadata": {},
   "outputs": [
    {
     "data": {
      "text/plain": [
       "[(1.000-0.000j ZZY, (0.4636476090008061+0j)),\n",
       " (1.000-0.000j IIX, (0.7297276562269663-0j)),\n",
       " (1.000-0.000j ZXY, (0.32175055439664213+0j)),\n",
       " (1.000-0.000j ZYY, (0.5639426413606288+0j))]"
      ]
     },
     "execution_count": 5,
     "metadata": {},
     "output_type": "execute_result"
    }
   ],
   "source": [
    "SeqRots"
   ]
  },
  {
   "cell_type": "code",
   "execution_count": 6,
   "id": "b0e29c24",
   "metadata": {},
   "outputs": [
    {
     "name": "stdout",
     "output_type": "stream",
     "text": [
      "LCU op: 0.796+0.000j III +\n",
      "-0.000-0.336j IXI +\n",
      "0.000+0.168j IYI +\n",
      "-0.000-0.336j ZZZ +\n",
      "-0.000-0.336j ZZY\n",
      "\n",
      "term reduced too: 1.000+0.000j IZX\n"
     ]
    }
   ],
   "source": [
    "# generate LCU\n",
    "\n",
    "## note check_reduction can be expensive... only run as a check if necessary\n",
    "\n",
    "LCU_rot, Pfin = AC_operator_test.gen_LCU(s_index=None, check_reduction=True)\n",
    "\n",
    "print('LCU op:', LCU_rot)\n",
    "print()\n",
    "print('term reduced too:', Pfin)"
   ]
  },
  {
   "cell_type": "code",
   "execution_count": null,
   "id": "f8fe9e6c",
   "metadata": {},
   "outputs": [],
   "source": []
  },
  {
   "cell_type": "code",
   "execution_count": 8,
   "id": "14b5e5fa",
   "metadata": {},
   "outputs": [
    {
     "name": "stdout",
     "output_type": "stream",
     "text": [
      "1.000+0.000j ZIZ\n"
     ]
    }
   ],
   "source": [
    "# manual SeqRot reduction with object (needed for use with other methods)\n",
    "rotated_op = AC_operator_test.copy()\n",
    "for X_sk, theta_sk in SeqRots:\n",
    "    rotated_op = rotated_op._rotate_by_single_Pword(X_sk, theta_sk)\n",
    "    \n",
    "print(rotated_op)\n"
   ]
  },
  {
   "cell_type": "code",
   "execution_count": null,
   "id": "f7afa881",
   "metadata": {},
   "outputs": [],
   "source": []
  },
  {
   "cell_type": "code",
   "execution_count": 10,
   "id": "5711f771",
   "metadata": {},
   "outputs": [
    {
     "name": "stdout",
     "output_type": "stream",
     "text": [
      "1.000+0.000j IZX\n"
     ]
    }
   ],
   "source": [
    "# manual LCU reduction with object (needed for use with other methods)\n",
    "\n",
    "rotated_op = (LCU_rot * AC_operator_test * LCU_rot.conjugate)\n",
    "print(rotated_op)\n"
   ]
  },
  {
   "cell_type": "markdown",
   "id": "30f20a7c",
   "metadata": {},
   "source": [
    "# CS-VQE example"
   ]
  },
  {
   "cell_type": "code",
   "execution_count": null,
   "id": "155c0bac",
   "metadata": {},
   "outputs": [],
   "source": [
    "from symred.chem import MoleculeBuilder\n",
    "from symred.projection import QubitTapering, CS_VQE\n",
    "from symred.symplectic import QuantumState\n",
    "import json"
   ]
  },
  {
   "cell_type": "code",
   "execution_count": null,
   "id": "5518557a",
   "metadata": {},
   "outputs": [],
   "source": [
    "with open('data/molecule_data.json', 'r') as jfile:\n",
    "    molecule_geometries = json.load(jfile)\n",
    "#with open('data/score_data.json', 'r') as infile:\n",
    "#    scoring_data = json.load(infile)\n",
    "#print(molecule_geometries.keys())"
   ]
  },
  {
   "cell_type": "code",
   "execution_count": null,
   "id": "0d61e9a0",
   "metadata": {},
   "outputs": [],
   "source": [
    "# Set molecule parameters\n",
    "speciesname = 'Be_STO-3G_SINGLET'\n",
    "#print(speciesname in scoring_data)\n",
    "mol_data = molecule_geometries[speciesname]\n",
    "if 'name' in mol_data:\n",
    "    print(mol_data['name'])\n",
    "    \n",
    "atoms  = mol_data['atoms']\n",
    "coords = mol_data['coords']\n",
    "basis  = mol_data['basis'] #'6-31g' #'cc-pVDZ' #\n",
    "spin   = mol_data['multiplicity']\n",
    "charge = mol_data['charge']\n",
    "geometry = list(zip(atoms, coords))\n",
    "molecule = MoleculeBuilder(geometry=geometry, charge=charge, basis=basis)"
   ]
  },
  {
   "cell_type": "code",
   "execution_count": null,
   "id": "79a4f672",
   "metadata": {},
   "outputs": [],
   "source": [
    "taper_hamiltonian = QubitTapering(molecule.H_q)\n",
    "\n",
    "print(f'We are able to taper {taper_hamiltonian.n_taper} qubits from the Hamiltonian.\\n')\n",
    "print('The symmetry generators are\\n')\n",
    "print(taper_hamiltonian.symmetry_generators)\n",
    "print('\\nand may be rotated via a sequence of Clifford pi/2 rotations\\n')\n",
    "print(taper_hamiltonian.stabilizers.stabilizer_rotations)\n",
    "print('\\nonto the single-qubit Pauli operators\\n')\n",
    "print(taper_hamiltonian.stabilizers.rotate_onto_single_qubit_paulis())\n",
    "hf_array = molecule.H_fermion.hf_comp_basis_state\n",
    "taper_hamiltonian.stabilizers.update_sector(hf_array)\n",
    "print(f'\\nThe symetry sector corresponding with the reference {hf_array} is {taper_hamiltonian.stabilizers.coeff_vec}')\n",
    "ham_tap = taper_hamiltonian.taper_it(ref_state=hf_array)\n",
    "#sor_tap = taper_hamiltonian.taper_it(aux_operator=sor_ham, ref_state=hf_array)\n",
    "#sor_tap.coeff_vec/=np.linalg.norm(sor_tap.coeff_vec)\n",
    "ucc_tap = taper_hamiltonian.taper_it(aux_operator=molecule.T_q, ref_state=hf_array)\n",
    "n_taper = taper_hamiltonian.n_taper\n",
    "tapered_qubits   = taper_hamiltonian.stab_qubit_indices\n",
    "untapered_qubits = taper_hamiltonian.free_qubit_indices\n",
    "hf_tapered = taper_hamiltonian.tapered_ref_state\n",
    "\n",
    "print(f'The tapered Hartree-Fock state is', QuantumState([hf_tapered]))"
   ]
  },
  {
   "cell_type": "code",
   "execution_count": null,
   "id": "3d1904c1",
   "metadata": {},
   "outputs": [],
   "source": [
    "cs_vqe = CS_VQE(ham_tap, hf_tapered, basis_weighting_operator=ucc_tap)"
   ]
  },
  {
   "cell_type": "code",
   "execution_count": null,
   "id": "f914ad3d",
   "metadata": {},
   "outputs": [],
   "source": [
    "print(cs_vqe.clique_operator)"
   ]
  },
  {
   "cell_type": "code",
   "execution_count": null,
   "id": "44e06c22",
   "metadata": {},
   "outputs": [],
   "source": [
    "cs_vqe.SeqRots"
   ]
  },
  {
   "cell_type": "code",
   "execution_count": null,
   "id": "a18783b9",
   "metadata": {},
   "outputs": [],
   "source": [
    "print(cs_vqe.clique_operator.perform_rotations(cs_vqe.SeqRots))"
   ]
  },
  {
   "cell_type": "code",
   "execution_count": null,
   "id": "6c403201",
   "metadata": {},
   "outputs": [],
   "source": [
    "from symred.symplectic import PauliwordOp\n",
    "from symred.utils import exact_gs_energy\n",
    "H_cs = cs_vqe.project_onto_subspace(\n",
    "    stabilizers=PauliwordOp({'IZZZZ':1}), \n",
    "    enforce_clique_operator=True\n",
    ")\n",
    "cs_nrg = exact_gs_energy(H_cs.to_sparse_matrix)[0]\n",
    "\n",
    "print(cs_nrg - molecule.fci_energy)"
   ]
  },
  {
   "cell_type": "code",
   "execution_count": null,
   "id": "72dd01c7",
   "metadata": {},
   "outputs": [],
   "source": []
  },
  {
   "cell_type": "code",
   "execution_count": null,
   "id": "8ebfaf5b",
   "metadata": {},
   "outputs": [],
   "source": [
    "op = cs_vqe.symmetry_generators.copy()\n",
    "print(op)\n",
    "op+=cs_vqe.C0\n",
    "op"
   ]
  },
  {
   "cell_type": "markdown",
   "id": "67dc365e",
   "metadata": {},
   "source": [
    "# SeqRot"
   ]
  },
  {
   "cell_type": "code",
   "execution_count": null,
   "id": "dd3a1fee",
   "metadata": {},
   "outputs": [],
   "source": [
    "SeqRots, Pfin = AC_op.gen_seq_rotations(s_index=None, check_reduction=True)\n",
    "\n",
    "for X_sk, theta_sk in SeqRots:\n",
    "    print(X_sk, f'angle: {theta_sk:.3f}')\n",
    "print()\n",
    "print('term reduced too:', Pfin)"
   ]
  },
  {
   "cell_type": "code",
   "execution_count": null,
   "id": "84617fa0",
   "metadata": {},
   "outputs": [],
   "source": [
    "# manual SeqRot reduction with object (needed for use with other methods)\n",
    "rotated_op = AC_op.copy()\n",
    "for X_sk, theta_sk in SeqRots:\n",
    "    rotated_op = rotated_op._rotate_by_single_Pword(X_sk, theta_sk)\n",
    "    rotated_op= rotated_op.cleanup_zeros()\n",
    "    \n",
    "print(rotated_op)"
   ]
  },
  {
   "cell_type": "markdown",
   "id": "833727a7",
   "metadata": {},
   "source": [
    "# LCU"
   ]
  },
  {
   "cell_type": "code",
   "execution_count": null,
   "id": "87f8b3c3",
   "metadata": {},
   "outputs": [],
   "source": [
    "LCU_rot, Pfin = AC_op.gen_LCU(s_index=None, check_reduction=True)\n",
    "\n",
    "print('LCU op:', LCU_rot)\n",
    "print()\n",
    "print('term reduced too:', Pfin)"
   ]
  },
  {
   "cell_type": "code",
   "execution_count": null,
   "id": "bf3723f6",
   "metadata": {},
   "outputs": [],
   "source": [
    "rotated_op = (LCU_rot * AC_op * LCU_rot.conjugate).cleanup_zeros()\n",
    "print(rotated_op)"
   ]
  },
  {
   "cell_type": "markdown",
   "id": "46c33e4a",
   "metadata": {},
   "source": [
    "# Performance comparison"
   ]
  },
  {
   "cell_type": "code",
   "execution_count": null,
   "id": "83f6a1b6",
   "metadata": {},
   "outputs": [],
   "source": [
    "%%timeit\n",
    "\n",
    "rotated_op = AC_op.copy()\n",
    "for X_sk, theta_sk in SeqRots:\n",
    "    rotated_op = rotated_op._rotate_by_single_Pword(X_sk, theta_sk)\n",
    "    rotated_op = rotated_op.cleanup_zeros()"
   ]
  },
  {
   "cell_type": "code",
   "execution_count": null,
   "id": "d987aaf8",
   "metadata": {},
   "outputs": [],
   "source": [
    "%timeit (LCU_rot * ham_tap * LCU_rot.conjugate).cleanup_zeros()"
   ]
  },
  {
   "cell_type": "code",
   "execution_count": null,
   "id": "82efccd2",
   "metadata": {},
   "outputs": [],
   "source": [
    "print(cs_vqe.symmetry_generators)"
   ]
  },
  {
   "cell_type": "code",
   "execution_count": null,
   "id": "9daf7f92",
   "metadata": {},
   "outputs": [],
   "source": [
    "print(cs_vqe.clique_operator)"
   ]
  },
  {
   "cell_type": "code",
   "execution_count": null,
   "id": "6539cb37",
   "metadata": {},
   "outputs": [],
   "source": [
    "print(cs_vqe.noncontextual_operator)"
   ]
  },
  {
   "cell_type": "code",
   "execution_count": null,
   "id": "ce57ef9b",
   "metadata": {},
   "outputs": [],
   "source": [
    "for row in cs_vqe.r_indices:\n",
    "    print(row)"
   ]
  },
  {
   "cell_type": "code",
   "execution_count": null,
   "id": "b8b59e24",
   "metadata": {},
   "outputs": [],
   "source": [
    "print(cs_vqe.noncontextual_basis)"
   ]
  },
  {
   "cell_type": "code",
   "execution_count": null,
   "id": "3119eb92",
   "metadata": {},
   "outputs": [],
   "source": [
    "op_1 = {'IZX':1, 'YZY':1, 'ZZZ':1, 'XXX':1}"
   ]
  },
  {
   "cell_type": "code",
   "execution_count": null,
   "id": "76fffc1d",
   "metadata": {},
   "outputs": [],
   "source": []
  },
  {
   "cell_type": "code",
   "execution_count": null,
   "id": "231b7570",
   "metadata": {},
   "outputs": [],
   "source": [
    "import numpy as np\n",
    "\n",
    "A = np.random.randint(0,2, (int(1e4),int(1e4)))\n",
    "B = np.random.randint(0,2, (int(1e4),int(1e4)))"
   ]
  },
  {
   "cell_type": "code",
   "execution_count": null,
   "id": "27516f7b",
   "metadata": {},
   "outputs": [],
   "source": [
    "%timeit (A-B).nonzero()"
   ]
  },
  {
   "cell_type": "code",
   "execution_count": null,
   "id": "bebf3bab",
   "metadata": {},
   "outputs": [],
   "source": [
    "%timeit np.any(A!=B)"
   ]
  },
  {
   "cell_type": "code",
   "execution_count": null,
   "id": "950a8ff6",
   "metadata": {},
   "outputs": [],
   "source": [
    "%timeit np.all(A==B)"
   ]
  },
  {
   "cell_type": "code",
   "execution_count": null,
   "id": "c482269a",
   "metadata": {},
   "outputs": [],
   "source": [
    "%timeit ~np.logical_xor(A, B)"
   ]
  },
  {
   "cell_type": "code",
   "execution_count": null,
   "id": "079280f7",
   "metadata": {},
   "outputs": [],
   "source": [
    "%timeit np.einsum('ij->', np.logical_xor(A, B).astype(int))==0"
   ]
  },
  {
   "cell_type": "code",
   "execution_count": null,
   "id": "69ea333e",
   "metadata": {},
   "outputs": [],
   "source": [
    "np.einsum('ij->', np.logical_xor(A, B).astype(int))==0"
   ]
  },
  {
   "cell_type": "code",
   "execution_count": null,
   "id": "5f3a9447",
   "metadata": {},
   "outputs": [],
   "source": [
    "%timeit np.einsum('ij->', np.logical_xor(A, B))==0"
   ]
  },
  {
   "cell_type": "code",
   "execution_count": null,
   "id": "be5ce2f4",
   "metadata": {},
   "outputs": [],
   "source": [
    "not np.einsum('ij->', np.logical_xor(A, B))"
   ]
  },
  {
   "cell_type": "code",
   "execution_count": null,
   "id": "ebc1ecf4",
   "metadata": {},
   "outputs": [],
   "source": [
    "np.einsum('ij->', np.logical_xor(A, A).astype(int))==0"
   ]
  },
  {
   "cell_type": "code",
   "execution_count": null,
   "id": "c0481754",
   "metadata": {},
   "outputs": [],
   "source": [
    "%timeit np.logical_xor(A, B).astype(int).nonzero()"
   ]
  },
  {
   "cell_type": "code",
   "execution_count": null,
   "id": "c2e6fea5",
   "metadata": {},
   "outputs": [],
   "source": [
    "np.random"
   ]
  },
  {
   "cell_type": "code",
   "execution_count": null,
   "id": "c84a1f9a",
   "metadata": {},
   "outputs": [],
   "source": []
  }
 ],
 "metadata": {
  "kernelspec": {
   "display_name": "Python 3 (ipykernel)",
   "language": "python",
   "name": "python3"
  },
  "language_info": {
   "codemirror_mode": {
    "name": "ipython",
    "version": 3
   },
   "file_extension": ".py",
   "mimetype": "text/x-python",
   "name": "python",
   "nbconvert_exporter": "python",
   "pygments_lexer": "ipython3",
   "version": "3.9.7"
  }
 },
 "nbformat": 4,
 "nbformat_minor": 5
}
