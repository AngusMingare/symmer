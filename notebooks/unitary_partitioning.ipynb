{
 "cells": [
  {
   "cell_type": "code",
   "execution_count": 1,
   "id": "c59cd9eb",
   "metadata": {},
   "outputs": [],
   "source": [
    "from symred.unitary_partitioning import AntiCommutingOp"
   ]
  },
  {
   "cell_type": "code",
   "execution_count": null,
   "id": "aa37d661",
   "metadata": {},
   "outputs": [],
   "source": []
  },
  {
   "cell_type": "code",
   "execution_count": 2,
   "id": "36724ed2",
   "metadata": {},
   "outputs": [
    {
     "name": "stdout",
     "output_type": "stream",
     "text": [
      "0.2672612419+0.0000000000j IXX +\n",
      "0.5345224838+0.0000000000j IYX +\n",
      "0.2672612419+0.0000000000j IZX +\n",
      "0.5345224838+0.0000000000j ZIZ +\n",
      "-0.5345224838+0.0000000000j ZIY\n"
     ]
    }
   ],
   "source": [
    "anticommuting = {\n",
    "'IXX':1,\n",
    "'IYX':2, \n",
    "'IZX':1,\n",
    "'ZIZ':2,\n",
    "'ZIY':-2,\n",
    "}\n",
    "\n",
    "AC_operator_test = AntiCommutingOp(anticommuting)\n",
    "\n",
    "print(AC_operator_test)"
   ]
  },
  {
   "cell_type": "code",
   "execution_count": 3,
   "id": "4451569d",
   "metadata": {},
   "outputs": [
    {
     "name": "stdout",
     "output_type": "stream",
     "text": [
      "0.5345224838+0.0000000000j ZIZ +\n",
      "0.2672612419+0.0000000000j IZX +\n",
      "-0.5345224838+0.0000000000j ZIY +\n",
      "0.2672612419+0.0000000000j IXX +\n",
      "0.5345224838+0.0000000000j IYX\n"
     ]
    }
   ],
   "source": [
    "## optional sorting of operator! This can improve circuit reductions in SeqRots approach,\n",
    "## but not need for contextual subspace stuff\n",
    "\n",
    "# sort into lexicographical order\n",
    "AC_operator_test.lexicographical_sort()\n",
    "print(AC_operator_test)"
   ]
  },
  {
   "cell_type": "code",
   "execution_count": 4,
   "id": "75a0973c",
   "metadata": {},
   "outputs": [
    {
     "name": "stdout",
     "output_type": "stream",
     "text": [
      "1.0000000000-0.0000000000j ZZY angle: -1.107+0.000j\n",
      "1.0000000000-0.0000000000j ZZZ angle: -0.730+0.000j\n",
      "1.0000000000-0.0000000000j IYI angle: 0.322+0.000j\n",
      "1.0000000000-0.0000000000j IXI angle: -0.564+0.000j\n",
      "\n",
      "term reduced too: 1.0000000000+0.0000000000j IZX\n"
     ]
    }
   ],
   "source": [
    "# generate sequence of rotations\n",
    "\n",
    "## note check_reduction can be expensive... only run as a check if necessary\n",
    "\n",
    "SeqRots, Pfin = AC_operator_test.gen_seq_rotations(s_index=None, check_reduction=True)\n",
    "\n",
    "for X_sk, theta_sk in SeqRots:\n",
    "    print(X_sk, f'angle: {theta_sk:.3f}')\n",
    "print()\n",
    "print('term reduced too:', Pfin)"
   ]
  },
  {
   "cell_type": "code",
   "execution_count": 8,
   "id": "b0e29c24",
   "metadata": {},
   "outputs": [
    {
     "name": "stdout",
     "output_type": "stream",
     "text": [
      "LCU op: 0.7960091840+0.0000000000j III +\n",
      "-0.0000000000-0.3357514553j ZZZ +\n",
      "-0.0000000000-0.3357514553j ZZY +\n",
      "-0.0000000000-0.3357514553j IXI +\n",
      "0.0000000000+0.1678757276j IYI\n",
      "\n",
      "term reduced too: 1.0000000000+0.0000000000j IZX\n"
     ]
    }
   ],
   "source": [
    "# generate LCU\n",
    "\n",
    "## note check_reduction can be expensive... only run as a check if necessary\n",
    "\n",
    "LCU_rot, Pfin = AC_operator_test.gen_LCU(s_index=None, check_reduction=True)\n",
    "\n",
    "print('LCU op:', LCU_rot)\n",
    "print()\n",
    "print('term reduced too:', Pfin)"
   ]
  },
  {
   "cell_type": "code",
   "execution_count": null,
   "id": "f8fe9e6c",
   "metadata": {},
   "outputs": [],
   "source": []
  },
  {
   "cell_type": "code",
   "execution_count": 6,
   "id": "14b5e5fa",
   "metadata": {},
   "outputs": [
    {
     "name": "stdout",
     "output_type": "stream",
     "text": [
      "1.0000000000+0.0000000000j IZX\n"
     ]
    }
   ],
   "source": [
    "# manual SeqRot reduction with object (needed for use with other methods)\n",
    "rotated_op = AC_operator_test.copy()\n",
    "for X_sk, theta_sk in SeqRots:\n",
    "    rotated_op = rotated_op._rotate_by_single_Pword(X_sk, theta_sk)\n",
    "    rotated_op= rotated_op.cleanup_zeros()\n",
    "    \n",
    "print(rotated_op)\n"
   ]
  },
  {
   "cell_type": "code",
   "execution_count": null,
   "id": "f7afa881",
   "metadata": {},
   "outputs": [],
   "source": []
  },
  {
   "cell_type": "code",
   "execution_count": 7,
   "id": "5711f771",
   "metadata": {},
   "outputs": [
    {
     "name": "stdout",
     "output_type": "stream",
     "text": [
      "1.0000000000+0.0000000000j IZX\n"
     ]
    }
   ],
   "source": [
    "# manual LCU reduction with object (needed for use with other methods)\n",
    "\n",
    "rotated_op = (LCU_rot * AC_operator_test * LCU_rot.conjugate).cleanup_zeros()\n",
    "print(rotated_op)\n"
   ]
  }
 ],
 "metadata": {
  "kernelspec": {
   "display_name": "Python 3 (ipykernel)",
   "language": "python",
   "name": "python3"
  },
  "language_info": {
   "codemirror_mode": {
    "name": "ipython",
    "version": 3
   },
   "file_extension": ".py",
   "mimetype": "text/x-python",
   "name": "python",
   "nbconvert_exporter": "python",
   "pygments_lexer": "ipython3",
   "version": "3.9.7"
  }
 },
 "nbformat": 4,
 "nbformat_minor": 5
}
