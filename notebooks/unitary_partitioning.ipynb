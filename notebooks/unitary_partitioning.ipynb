{
 "cells": [
  {
   "cell_type": "code",
   "execution_count": 1,
   "id": "c59cd9eb",
   "metadata": {},
   "outputs": [],
   "source": [
    "from symred.unitary_partitioning import AntiCommutingOp"
   ]
  },
  {
   "cell_type": "code",
   "execution_count": null,
   "id": "7b3b2f55",
   "metadata": {},
   "outputs": [],
   "source": []
  },
  {
   "cell_type": "code",
   "execution_count": 2,
   "id": "36724ed2",
   "metadata": {},
   "outputs": [
    {
     "name": "stdout",
     "output_type": "stream",
     "text": [
      "0.2672612419+0.0000000000j IXX +\n",
      "0.5345224838+0.0000000000j IYX +\n",
      "0.2672612419+0.0000000000j IZX +\n",
      "0.5345224838+0.0000000000j ZIZ +\n",
      "-0.5345224838+0.0000000000j ZIY\n"
     ]
    }
   ],
   "source": [
    "anticommuting = {\n",
    "'IXX':1,\n",
    "'IYX':2, \n",
    "'IZX':1,\n",
    "'ZIZ':2,\n",
    "'ZIY':-2,\n",
    "}\n",
    "\n",
    "AC_operator_test = AntiCommutingOp(anticommuting)\n",
    "\n",
    "print(AC_operator_test)"
   ]
  },
  {
   "cell_type": "code",
   "execution_count": 3,
   "id": "4451569d",
   "metadata": {},
   "outputs": [
    {
     "name": "stdout",
     "output_type": "stream",
     "text": [
      "0.5345224838+0.0000000000j ZIZ +\n",
      "0.2672612419+0.0000000000j IZX +\n",
      "-0.5345224838+0.0000000000j ZIY +\n",
      "0.2672612419+0.0000000000j IXX +\n",
      "0.5345224838+0.0000000000j IYX\n"
     ]
    }
   ],
   "source": [
    "## optional sorting of operator! This can improve circuit reductions in SeqRots approach,\n",
    "## but not need for contextual subspace stuff\n",
    "\n",
    "# sort into lexicographical order\n",
    "AC_operator_test.lexicographical_sort()\n",
    "print(AC_operator_test)"
   ]
  },
  {
   "cell_type": "code",
   "execution_count": 4,
   "id": "75a0973c",
   "metadata": {},
   "outputs": [
    {
     "name": "stdout",
     "output_type": "stream",
     "text": [
      "1.0000000000-0.0000000000j ZZY angle: 0.464+0.000j\n",
      "1.0000000000-0.0000000000j IIX angle: 0.730-0.000j\n",
      "1.0000000000-0.0000000000j ZXY angle: 0.322+0.000j\n",
      "1.0000000000-0.0000000000j ZYY angle: 0.564+0.000j\n",
      "\n",
      "term reduced too: 1.0000000000+0.0000000000j ZIZ\n"
     ]
    }
   ],
   "source": [
    "# generate sequence of rotations\n",
    "\n",
    "## note check_reduction can be expensive... only run as a check if necessary\n",
    "\n",
    "SeqRots, Pfin = AC_operator_test.gen_seq_rotations(s_index=0, check_reduction=True)\n",
    "\n",
    "for X_sk, theta_sk in SeqRots:\n",
    "    print(X_sk, f'angle: {theta_sk:.3f}')\n",
    "print()\n",
    "print('term reduced too:', Pfin)"
   ]
  },
  {
   "cell_type": "code",
   "execution_count": 5,
   "id": "5924aa52",
   "metadata": {},
   "outputs": [
    {
     "data": {
      "text/plain": [
       "[(<symred.symplectic.base.PauliwordOp at 0x7ff0c281eaf0>,\n",
       "  (0.4636476090008061+0j)),\n",
       " (<symred.symplectic.base.PauliwordOp at 0x7ff0c281e220>,\n",
       "  (0.7297276562269663-0j)),\n",
       " (<symred.symplectic.base.PauliwordOp at 0x7ff0c27ad0d0>,\n",
       "  (0.32175055439664213+0j)),\n",
       " (<symred.symplectic.base.PauliwordOp at 0x7ff0c27ad130>,\n",
       "  (0.5639426413606288+0j))]"
      ]
     },
     "execution_count": 5,
     "metadata": {},
     "output_type": "execute_result"
    }
   ],
   "source": [
    "SeqRots"
   ]
  },
  {
   "cell_type": "code",
   "execution_count": 6,
   "id": "b0e29c24",
   "metadata": {},
   "outputs": [
    {
     "name": "stdout",
     "output_type": "stream",
     "text": [
      "LCU op: 0.7960091840+0.0000000000j III +\n",
      "-0.0000000000-0.3357514553j IXI +\n",
      "0.0000000000+0.1678757276j IYI +\n",
      "-0.0000000000-0.3357514553j ZZZ +\n",
      "-0.0000000000-0.3357514553j ZZY\n",
      "\n",
      "term reduced too: 1.0000000000+0.0000000000j IZX\n"
     ]
    }
   ],
   "source": [
    "# generate LCU\n",
    "\n",
    "## note check_reduction can be expensive... only run as a check if necessary\n",
    "\n",
    "LCU_rot, Pfin = AC_operator_test.gen_LCU(s_index=None, check_reduction=True)\n",
    "\n",
    "print('LCU op:', LCU_rot)\n",
    "print()\n",
    "print('term reduced too:', Pfin)"
   ]
  },
  {
   "cell_type": "code",
   "execution_count": null,
   "id": "f8fe9e6c",
   "metadata": {},
   "outputs": [],
   "source": []
  },
  {
   "cell_type": "code",
   "execution_count": 7,
   "id": "14b5e5fa",
   "metadata": {},
   "outputs": [
    {
     "name": "stdout",
     "output_type": "stream",
     "text": [
      "1.0000000000+0.0000000000j ZIZ\n"
     ]
    }
   ],
   "source": [
    "# manual SeqRot reduction with object (needed for use with other methods)\n",
    "rotated_op = AC_operator_test.copy()\n",
    "for X_sk, theta_sk in SeqRots:\n",
    "    rotated_op = rotated_op._rotate_by_single_Pword(X_sk, theta_sk)\n",
    "    rotated_op= rotated_op.cleanup_zeros()\n",
    "    \n",
    "print(rotated_op)\n"
   ]
  },
  {
   "cell_type": "code",
   "execution_count": null,
   "id": "f7afa881",
   "metadata": {},
   "outputs": [],
   "source": []
  },
  {
   "cell_type": "code",
   "execution_count": 8,
   "id": "5711f771",
   "metadata": {},
   "outputs": [
    {
     "name": "stdout",
     "output_type": "stream",
     "text": [
      "1.0000000000+0.0000000000j IZX\n"
     ]
    }
   ],
   "source": [
    "# manual LCU reduction with object (needed for use with other methods)\n",
    "\n",
    "rotated_op = (LCU_rot * AC_operator_test * LCU_rot.conjugate).cleanup_zeros()\n",
    "print(rotated_op)\n"
   ]
  },
  {
   "cell_type": "markdown",
   "id": "0a5a6e1f",
   "metadata": {},
   "source": [
    "# CS-VQE example"
   ]
  },
  {
   "cell_type": "code",
   "execution_count": 9,
   "id": "a1a82f19",
   "metadata": {},
   "outputs": [],
   "source": [
    "from symred.chem import MoleculeBuilder\n",
    "from symred.projection import QubitTapering, CS_VQE\n",
    "from symred.symplectic import QuantumState\n",
    "import json"
   ]
  },
  {
   "cell_type": "code",
   "execution_count": 10,
   "id": "3023dc87",
   "metadata": {},
   "outputs": [],
   "source": [
    "with open('data/molecule_data.json', 'r') as jfile:\n",
    "    molecule_geometries = json.load(jfile)\n",
    "#with open('data/score_data.json', 'r') as infile:\n",
    "#    scoring_data = json.load(infile)\n",
    "#print(molecule_geometries.keys())"
   ]
  },
  {
   "cell_type": "code",
   "execution_count": 11,
   "id": "6cb03449",
   "metadata": {},
   "outputs": [
    {
     "name": "stdout",
     "output_type": "stream",
     "text": [
      "Molecule geometry:\n",
      "Be\t0\t0\t0\n",
      "\n",
      "HF converged?   True\n",
      "CCSD converged? True\n",
      "FCI converged?  True\n",
      "\n",
      "HF energy:   -14.351880476202023\n",
      "MP2 energy:  -14.376238850841515\n",
      "CCSD energy: -14.403650751752787\n",
      "FCI energy:  -14.403655108067682\n",
      "\n",
      "\n",
      "Number of qubits: 10\n"
     ]
    }
   ],
   "source": [
    "# Set molecule parameters\n",
    "speciesname = 'Be_STO-3G_SINGLET'\n",
    "#print(speciesname in scoring_data)\n",
    "mol_data = molecule_geometries[speciesname]\n",
    "if 'name' in mol_data:\n",
    "    print(mol_data['name'])\n",
    "    \n",
    "atoms  = mol_data['atoms']\n",
    "coords = mol_data['coords']\n",
    "basis  = mol_data['basis'] #'6-31g' #'cc-pVDZ' #\n",
    "spin   = mol_data['multiplicity']\n",
    "charge = mol_data['charge']\n",
    "geometry = list(zip(atoms, coords))\n",
    "molecule = MoleculeBuilder(geometry=geometry, charge=charge, basis=basis)"
   ]
  },
  {
   "cell_type": "code",
   "execution_count": 12,
   "id": "56efe246",
   "metadata": {},
   "outputs": [
    {
     "name": "stdout",
     "output_type": "stream",
     "text": [
      "We are able to taper 5 qubits from the Hamiltonian.\n",
      "\n",
      "The symmetry generators are\n",
      "\n",
      "1.0000000000+0.0000000000j ZIZIIZIZIZ +\n",
      "1.0000000000+0.0000000000j IZIZIZIZIZ +\n",
      "1.0000000000+0.0000000000j IIIIZZIIII +\n",
      "1.0000000000+0.0000000000j IIIIIIZZII +\n",
      "1.0000000000+0.0000000000j IIIIIIIIZZ\n",
      "\n",
      "and may be rotated via a sequence of Clifford pi/2 rotations\n",
      "\n",
      "[(<symred.symplectic.base.PauliwordOp object at 0x7ff0b4c90250>, None), (<symred.symplectic.base.PauliwordOp object at 0x7ff0b4c80f10>, None), (<symred.symplectic.base.PauliwordOp object at 0x7ff0b4c80b50>, None), (<symred.symplectic.base.PauliwordOp object at 0x7ff0bb7d48e0>, None), (<symred.symplectic.base.PauliwordOp object at 0x7ff0b4c903d0>, None)]\n",
      "\n",
      "onto the single-qubit Pauli operators\n",
      "\n",
      "-1.0000000000+0.0000000000j XIIIIIIIII +\n",
      "-1.0000000000+0.0000000000j IXIIIIIIII +\n",
      "-1.0000000000+0.0000000000j IIIIXIIIII +\n",
      "-1.0000000000+0.0000000000j IIIIIIXIII +\n",
      "-1.0000000000+0.0000000000j IIIIIIIIXI\n",
      "\n",
      "The symetry sector corresponding with the reference [1 1 1 1 0 0 0 0 0 0] is [1 1 1 1 1]\n",
      "The tapered Hartree-Fock state is  1.0000000000 |11000>\n"
     ]
    }
   ],
   "source": [
    "taper_hamiltonian = QubitTapering(molecule.H_q)\n",
    "\n",
    "print(f'We are able to taper {taper_hamiltonian.n_taper} qubits from the Hamiltonian.\\n')\n",
    "print('The symmetry generators are\\n')\n",
    "print(taper_hamiltonian.symmetry_generators)\n",
    "print('\\nand may be rotated via a sequence of Clifford pi/2 rotations\\n')\n",
    "print(taper_hamiltonian.stabilizers.stabilizer_rotations)\n",
    "print('\\nonto the single-qubit Pauli operators\\n')\n",
    "print(taper_hamiltonian.stabilizers.rotate_onto_single_qubit_paulis())\n",
    "hf_array = molecule.H_fermion.hf_comp_basis_state\n",
    "taper_hamiltonian.stabilizers.update_sector(hf_array)\n",
    "print(f'\\nThe symetry sector corresponding with the reference {hf_array} is {taper_hamiltonian.stabilizers.coeff_vec}')\n",
    "ham_tap = taper_hamiltonian.taper_it(ref_state=hf_array)\n",
    "#sor_tap = taper_hamiltonian.taper_it(aux_operator=sor_ham, ref_state=hf_array)\n",
    "#sor_tap.coeff_vec/=np.linalg.norm(sor_tap.coeff_vec)\n",
    "ucc_tap = taper_hamiltonian.taper_it(aux_operator=molecule.T_q, ref_state=hf_array)\n",
    "n_taper = taper_hamiltonian.n_taper\n",
    "tapered_qubits   = taper_hamiltonian.stab_qubit_indices\n",
    "untapered_qubits = taper_hamiltonian.free_qubit_indices\n",
    "hf_tapered = taper_hamiltonian.tapered_ref_state\n",
    "\n",
    "print(f'The tapered Hartree-Fock state is', QuantumState([hf_tapered]))"
   ]
  },
  {
   "cell_type": "code",
   "execution_count": 13,
   "id": "3c25fe5d",
   "metadata": {},
   "outputs": [],
   "source": [
    "cs_vqe = CS_VQE(ham_tap, hf_tapered, basis_weighting_operator=ucc_tap)"
   ]
  },
  {
   "cell_type": "code",
   "execution_count": 14,
   "id": "d6ab6712",
   "metadata": {},
   "outputs": [
    {
     "name": "stdout",
     "output_type": "stream",
     "text": [
      "-0.0000001411 XZIII +\n",
      "-1.0000000000 ZIZZZ\n"
     ]
    }
   ],
   "source": [
    "print(cs_vqe.clique_operator)"
   ]
  },
  {
   "cell_type": "code",
   "execution_count": 15,
   "id": "3c3ab25c",
   "metadata": {},
   "outputs": [
    {
     "data": {
      "text/plain": [
       "[(<symred.symplectic.base.PauliwordOp at 0x7ff0b4c80cd0>,\n",
       "  (3.1415927946846507+0j))]"
      ]
     },
     "execution_count": 15,
     "metadata": {},
     "output_type": "execute_result"
    }
   ],
   "source": [
    "cs_vqe.SeqRots"
   ]
  },
  {
   "cell_type": "code",
   "execution_count": 16,
   "id": "4c84475c",
   "metadata": {},
   "outputs": [
    {
     "name": "stdout",
     "output_type": "stream",
     "text": [
      "0.0000000000+0.0000000000j XZIII +\n",
      "1.0000000000+0.0000000000j ZIZZZ\n"
     ]
    }
   ],
   "source": [
    "print(cs_vqe.clique_operator.perform_rotations(cs_vqe.SeqRots))"
   ]
  },
  {
   "cell_type": "code",
   "execution_count": 21,
   "id": "4dd59b3b",
   "metadata": {},
   "outputs": [
    {
     "name": "stdout",
     "output_type": "stream",
     "text": [
      "0.0003265047524880771\n"
     ]
    }
   ],
   "source": [
    "from symred.symplectic import PauliwordOp\n",
    "from symred.utils import exact_gs_energy\n",
    "H_cs = cs_vqe.project_onto_subspace(\n",
    "    stabilizers=PauliwordOp({'IZZZZ':1}), \n",
    "    enforce_clique_operator=True\n",
    ")\n",
    "cs_nrg = exact_gs_energy(H_cs.to_sparse_matrix)[0]\n",
    "\n",
    "print(cs_nrg - molecule.fci_energy)"
   ]
  },
  {
   "cell_type": "code",
   "execution_count": null,
   "id": "6e99f0cf",
   "metadata": {},
   "outputs": [],
   "source": []
  },
  {
   "cell_type": "code",
   "execution_count": null,
   "id": "5ab7e530",
   "metadata": {},
   "outputs": [],
   "source": []
  },
  {
   "cell_type": "markdown",
   "id": "edb38528",
   "metadata": {},
   "source": [
    "# SeqRot"
   ]
  },
  {
   "cell_type": "code",
   "execution_count": 18,
   "id": "120edd28",
   "metadata": {},
   "outputs": [
    {
     "ename": "NameError",
     "evalue": "name 'AC_op' is not defined",
     "output_type": "error",
     "traceback": [
      "\u001b[0;31m---------------------------------------------------------------------------\u001b[0m",
      "\u001b[0;31mNameError\u001b[0m                                 Traceback (most recent call last)",
      "\u001b[0;32m/tmp/ipykernel_77673/2090446544.py\u001b[0m in \u001b[0;36m<module>\u001b[0;34m\u001b[0m\n\u001b[0;32m----> 1\u001b[0;31m \u001b[0mSeqRots\u001b[0m\u001b[0;34m,\u001b[0m \u001b[0mPfin\u001b[0m \u001b[0;34m=\u001b[0m \u001b[0mAC_op\u001b[0m\u001b[0;34m.\u001b[0m\u001b[0mgen_seq_rotations\u001b[0m\u001b[0;34m(\u001b[0m\u001b[0ms_index\u001b[0m\u001b[0;34m=\u001b[0m\u001b[0;32mNone\u001b[0m\u001b[0;34m,\u001b[0m \u001b[0mcheck_reduction\u001b[0m\u001b[0;34m=\u001b[0m\u001b[0;32mTrue\u001b[0m\u001b[0;34m)\u001b[0m\u001b[0;34m\u001b[0m\u001b[0;34m\u001b[0m\u001b[0m\n\u001b[0m\u001b[1;32m      2\u001b[0m \u001b[0;34m\u001b[0m\u001b[0m\n\u001b[1;32m      3\u001b[0m \u001b[0;32mfor\u001b[0m \u001b[0mX_sk\u001b[0m\u001b[0;34m,\u001b[0m \u001b[0mtheta_sk\u001b[0m \u001b[0;32min\u001b[0m \u001b[0mSeqRots\u001b[0m\u001b[0;34m:\u001b[0m\u001b[0;34m\u001b[0m\u001b[0;34m\u001b[0m\u001b[0m\n\u001b[1;32m      4\u001b[0m     \u001b[0mprint\u001b[0m\u001b[0;34m(\u001b[0m\u001b[0mX_sk\u001b[0m\u001b[0;34m,\u001b[0m \u001b[0;34mf'angle: {theta_sk:.3f}'\u001b[0m\u001b[0;34m)\u001b[0m\u001b[0;34m\u001b[0m\u001b[0;34m\u001b[0m\u001b[0m\n\u001b[1;32m      5\u001b[0m \u001b[0mprint\u001b[0m\u001b[0;34m(\u001b[0m\u001b[0;34m)\u001b[0m\u001b[0;34m\u001b[0m\u001b[0;34m\u001b[0m\u001b[0m\n",
      "\u001b[0;31mNameError\u001b[0m: name 'AC_op' is not defined"
     ]
    }
   ],
   "source": [
    "SeqRots, Pfin = AC_op.gen_seq_rotations(s_index=None, check_reduction=True)\n",
    "\n",
    "for X_sk, theta_sk in SeqRots:\n",
    "    print(X_sk, f'angle: {theta_sk:.3f}')\n",
    "print()\n",
    "print('term reduced too:', Pfin)"
   ]
  },
  {
   "cell_type": "code",
   "execution_count": null,
   "id": "958ef0db",
   "metadata": {},
   "outputs": [],
   "source": [
    "# manual SeqRot reduction with object (needed for use with other methods)\n",
    "rotated_op = AC_op.copy()\n",
    "for X_sk, theta_sk in SeqRots:\n",
    "    rotated_op = rotated_op._rotate_by_single_Pword(X_sk, theta_sk)\n",
    "    rotated_op= rotated_op.cleanup_zeros()\n",
    "    \n",
    "print(rotated_op)"
   ]
  },
  {
   "cell_type": "markdown",
   "id": "acce9359",
   "metadata": {},
   "source": [
    "# LCU"
   ]
  },
  {
   "cell_type": "code",
   "execution_count": null,
   "id": "3dcbdbf9",
   "metadata": {},
   "outputs": [],
   "source": [
    "LCU_rot, Pfin = AC_op.gen_LCU(s_index=None, check_reduction=True)\n",
    "\n",
    "print('LCU op:', LCU_rot)\n",
    "print()\n",
    "print('term reduced too:', Pfin)"
   ]
  },
  {
   "cell_type": "code",
   "execution_count": null,
   "id": "f158f3f9",
   "metadata": {},
   "outputs": [],
   "source": [
    "rotated_op = (LCU_rot * AC_op * LCU_rot.conjugate).cleanup_zeros()\n",
    "print(rotated_op)"
   ]
  },
  {
   "cell_type": "markdown",
   "id": "2017d6f3",
   "metadata": {},
   "source": [
    "# Performance comparison"
   ]
  },
  {
   "cell_type": "code",
   "execution_count": null,
   "id": "91766bdc",
   "metadata": {},
   "outputs": [],
   "source": [
    "%%timeit\n",
    "\n",
    "rotated_op = AC_op.copy()\n",
    "for X_sk, theta_sk in SeqRots:\n",
    "    rotated_op = rotated_op._rotate_by_single_Pword(X_sk, theta_sk)\n",
    "    rotated_op = rotated_op.cleanup_zeros()"
   ]
  },
  {
   "cell_type": "code",
   "execution_count": null,
   "id": "6c27845d",
   "metadata": {},
   "outputs": [],
   "source": [
    "%timeit (LCU_rot * ham_tap * LCU_rot.conjugate).cleanup_zeros()"
   ]
  },
  {
   "cell_type": "code",
   "execution_count": null,
   "id": "56b7e9a4",
   "metadata": {},
   "outputs": [],
   "source": [
    "print(cs_vqe.symmetry_generators)"
   ]
  },
  {
   "cell_type": "code",
   "execution_count": null,
   "id": "3bbaf2e0",
   "metadata": {},
   "outputs": [],
   "source": [
    "print(cs_vqe.clique_operator)"
   ]
  },
  {
   "cell_type": "code",
   "execution_count": null,
   "id": "d280b8ee",
   "metadata": {},
   "outputs": [],
   "source": [
    "print(cs_vqe.noncontextual_operator)"
   ]
  },
  {
   "cell_type": "code",
   "execution_count": null,
   "id": "301265f3",
   "metadata": {},
   "outputs": [],
   "source": [
    "for row in cs_vqe.r_indices:\n",
    "    print(row)"
   ]
  },
  {
   "cell_type": "code",
   "execution_count": null,
   "id": "452f7b4e",
   "metadata": {},
   "outputs": [],
   "source": [
    "print(cs_vqe.noncontextual_basis)"
   ]
  },
  {
   "cell_type": "code",
   "execution_count": null,
   "id": "e41ba590",
   "metadata": {},
   "outputs": [],
   "source": [
    "op_1 = {'IZX':1, 'YZY':1, 'ZZZ':1, 'XXX':1}"
   ]
  },
  {
   "cell_type": "code",
   "execution_count": null,
   "id": "85f408e2",
   "metadata": {},
   "outputs": [],
   "source": []
  },
  {
   "cell_type": "code",
   "execution_count": null,
   "id": "d3e9588c",
   "metadata": {},
   "outputs": [],
   "source": [
    "import numpy as np\n",
    "\n",
    "A = np.random.randint(0,2, (int(1e4),int(1e4)))\n",
    "B = np.random.randint(0,2, (int(1e4),int(1e4)))"
   ]
  },
  {
   "cell_type": "code",
   "execution_count": null,
   "id": "cd4da012",
   "metadata": {},
   "outputs": [],
   "source": [
    "%timeit (A-B).nonzero()"
   ]
  },
  {
   "cell_type": "code",
   "execution_count": null,
   "id": "b5f06452",
   "metadata": {},
   "outputs": [],
   "source": [
    "%timeit np.any(A!=B)"
   ]
  },
  {
   "cell_type": "code",
   "execution_count": null,
   "id": "8bc759ee",
   "metadata": {},
   "outputs": [],
   "source": [
    "%timeit np.all(A==B)"
   ]
  },
  {
   "cell_type": "code",
   "execution_count": null,
   "id": "f2473145",
   "metadata": {},
   "outputs": [],
   "source": [
    "%timeit ~np.logical_xor(A, B)"
   ]
  },
  {
   "cell_type": "code",
   "execution_count": null,
   "id": "b72cd5c7",
   "metadata": {},
   "outputs": [],
   "source": [
    "%timeit np.einsum('ij->', np.logical_xor(A, B).astype(int))==0"
   ]
  },
  {
   "cell_type": "code",
   "execution_count": null,
   "id": "7e8531db",
   "metadata": {},
   "outputs": [],
   "source": [
    "np.einsum('ij->', np.logical_xor(A, B).astype(int))==0"
   ]
  },
  {
   "cell_type": "code",
   "execution_count": null,
   "id": "341737ba",
   "metadata": {},
   "outputs": [],
   "source": [
    "%timeit np.einsum('ij->', np.logical_xor(A, B))==0"
   ]
  },
  {
   "cell_type": "code",
   "execution_count": null,
   "id": "135f2d12",
   "metadata": {},
   "outputs": [],
   "source": [
    "not np.einsum('ij->', np.logical_xor(A, B))"
   ]
  },
  {
   "cell_type": "code",
   "execution_count": null,
   "id": "d5d9d3ae",
   "metadata": {},
   "outputs": [],
   "source": [
    "np.einsum('ij->', np.logical_xor(A, A).astype(int))==0"
   ]
  },
  {
   "cell_type": "code",
   "execution_count": null,
   "id": "27a46207",
   "metadata": {},
   "outputs": [],
   "source": [
    "%timeit np.logical_xor(A, B).astype(int).nonzero()"
   ]
  },
  {
   "cell_type": "code",
   "execution_count": null,
   "id": "94cd9085",
   "metadata": {},
   "outputs": [],
   "source": [
    "np.random"
   ]
  },
  {
   "cell_type": "code",
   "execution_count": null,
   "id": "672564d5",
   "metadata": {},
   "outputs": [],
   "source": []
  }
 ],
 "metadata": {
  "kernelspec": {
   "display_name": "Python 3 (ipykernel)",
   "language": "python",
   "name": "python3"
  },
  "language_info": {
   "codemirror_mode": {
    "name": "ipython",
    "version": 3
   },
   "file_extension": ".py",
   "mimetype": "text/x-python",
   "name": "python",
   "nbconvert_exporter": "python",
   "pygments_lexer": "ipython3",
   "version": "3.8.8"
  }
 },
 "nbformat": 4,
 "nbformat_minor": 5
}
