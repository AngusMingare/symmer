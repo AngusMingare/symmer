{
 "cells": [
  {
   "cell_type": "markdown",
   "id": "f029e667",
   "metadata": {},
   "source": [
    "# Matrix to PauliwordOp\n",
    "\n",
    "We provide three methods of converting a matrix to the `PauliwordOp` representation:\n",
    "\n",
    "1. Full basis expansion scaling as $\\mathcal{O}(4^N)$\n",
    "2. Expansion over a defined basis $\\mathcal{B}$ scaling as $\\mathcal{O}(|\\mathcal{B}|)$\n",
    "3. Expansion via projectors scaling as $\\mathcal{O}(2^N M)$ where $M$ is the number of non-zero elements"
   ]
  },
  {
   "cell_type": "code",
   "execution_count": 1,
   "id": "1a4f058d",
   "metadata": {},
   "outputs": [],
   "source": [
    "import numpy as np\n",
    "#from symmer.symplectic.matrix import matrix_to_Pword\n",
    "from symmer.symplectic import PauliwordOp, get_PauliwordOp_projector\n",
    "import warnings\n",
    "warnings.filterwarnings(action='always')"
   ]
  },
  {
   "cell_type": "markdown",
   "id": "1f605640",
   "metadata": {},
   "source": [
    "# Full basis method\n",
    "\n",
    "We can select a basis for any $\\mathcal{C}^{2^{N}\\times 2^{N}}$ matrix by taking all n-fold tensor product of Pauli operators, which is of size $4^{N}$.\n",
    "\n",
    "E.g.\n",
    "\n",
    "$$basis = B = $$\n",
    "$$\\{II, IZ,ZI,ZZ, $$\n",
    "$$\\:IX,IY,ZX,ZY, $$\n",
    "$$\\:XI,XZ,YI,YZ, $$\n",
    "$$\\:XX,XY,YX,YY \\}$$\n",
    "\n",
    "The decomposition of any matrix $M$ is then\n",
    "\n",
    "$$M = \\sum_{P \\in basis} c_{i}P_{i}$$\n",
    "\n",
    "It should be clear that:\n",
    "\n",
    "$$Trace(M P_{i}) = c_{i} 2^{N}$$\n",
    "\n",
    "so re-aranging we find:\n",
    "\n",
    "$$c_{i} = \\frac{Trace(M P_{i})}{ 2^{N}}$$"
   ]
  },
  {
   "cell_type": "markdown",
   "id": "6f3430bb",
   "metadata": {},
   "source": [
    "Function currently uses $4^{N}$ terms to build operator...\n",
    "\n",
    "interesting question is **what are the smallest set of unitaries which we can decompose a given matrix!**"
   ]
  },
  {
   "cell_type": "code",
   "execution_count": null,
   "id": "5b96dd45",
   "metadata": {},
   "outputs": [],
   "source": []
  },
  {
   "cell_type": "markdown",
   "id": "9edf80fe",
   "metadata": {},
   "source": [
    "potential solution for CHEMISTRY:\n",
    "\n",
    "second quantized operator is given as:\n",
    "\n",
    "$$     H_{e} = \\sum_{p=0}^{N-1}  \\sum_{q=0}^{N-1} h_{pq} a_{p}^{\\dagger} a_{q} + \\frac{1}{2} \\sum_{p=0}^{N-1}  \\sum_{q=0}^{N-1}  \\sum_{r=0}^{N-1}  \\sum_{s=0}^{N-1}  h_{pqrs} a_{p}^{\\dagger} a_{q}^{\\dagger} a_{r} a_{s}$$\n",
    "\n",
    "\n",
    "Therefore basis can be built by getting all the $N^{2}$ 1-RDM operators and all the $N^{4}$ 2-RDM operators  (as Pauli operators!)\n",
    "\n",
    "TODO: check this out"
   ]
  },
  {
   "cell_type": "code",
   "execution_count": 3,
   "id": "8b8c1b58",
   "metadata": {},
   "outputs": [
    {
     "name": "stderr",
     "output_type": "stream",
     "text": [
      "Building operator: 100%|██████████████████| 4095/4095 [00:03<00:00, 1108.70it/s]\n"
     ]
    }
   ],
   "source": [
    "n_qub = 6\n",
    "mat = np.arange(2**n_qub * 2**n_qub).reshape([2**n_qub,2**n_qub])\n",
    "decomp_obj = PauliwordOp.from_matrix(mat, strategy='projector')"
   ]
  },
  {
   "cell_type": "code",
   "execution_count": null,
   "id": "16c62f29",
   "metadata": {},
   "outputs": [],
   "source": []
  },
  {
   "cell_type": "code",
   "execution_count": 12,
   "id": "f9223be5",
   "metadata": {},
   "outputs": [
    {
     "data": {
      "text/plain": [
       "True"
      ]
     },
     "execution_count": 12,
     "metadata": {},
     "output_type": "execute_result"
    }
   ],
   "source": [
    "np.all(decomp_obj.to_sparse_matrix == mat)"
   ]
  },
  {
   "cell_type": "code",
   "execution_count": 42,
   "id": "ad2d628a",
   "metadata": {},
   "outputs": [],
   "source": [
    "from scipy.sparse import rand\n",
    "import numpy as np\n",
    "from time import time\n",
    "\n",
    "n_qubits = 10\n",
    "\n",
    "D = 2**n_qubits\n",
    "#x = rand(D, D, density=1/(2**(1.9*n_qubits)), format='csr')\n",
    "x = rand(D, D, density=0.001, format='csr')"
   ]
  },
  {
   "cell_type": "code",
   "execution_count": 43,
   "id": "d802080e",
   "metadata": {},
   "outputs": [
    {
     "name": "stderr",
     "output_type": "stream",
     "text": [
      "Building operator: 100%|████████████████████| 1049/1049 [01:49<00:00,  9.59it/s]"
     ]
    },
    {
     "name": "stdout",
     "output_type": "stream",
     "text": [
      "657408\n"
     ]
    },
    {
     "name": "stderr",
     "output_type": "stream",
     "text": [
      "\n"
     ]
    }
   ],
   "source": [
    "p = PauliwordOp.from_matrix(x)\n",
    "print(p.n_terms)"
   ]
  },
  {
   "cell_type": "code",
   "execution_count": 44,
   "id": "934a352d",
   "metadata": {},
   "outputs": [
    {
     "name": "stderr",
     "output_type": "stream",
     "text": [
      "Building operator:  75%|███████████████▋     | 786/1049 [01:05<00:21, 11.99it/s]\n"
     ]
    },
    {
     "ename": "KeyboardInterrupt",
     "evalue": "",
     "output_type": "error",
     "traceback": [
      "\u001b[0;31m---------------------------------------------------------------------------\u001b[0m",
      "\u001b[0;31mKeyboardInterrupt\u001b[0m                         Traceback (most recent call last)",
      "\u001b[0;32m/tmp/ipykernel_352623/1324000538.py\u001b[0m in \u001b[0;36m<module>\u001b[0;34m\u001b[0m\n\u001b[0;32m----> 1\u001b[0;31m \u001b[0mp\u001b[0m \u001b[0;34m=\u001b[0m \u001b[0mPauliwordOp\u001b[0m\u001b[0;34m.\u001b[0m\u001b[0mfrom_matrix\u001b[0m\u001b[0;34m(\u001b[0m\u001b[0mx\u001b[0m\u001b[0;34m.\u001b[0m\u001b[0mtoarray\u001b[0m\u001b[0;34m(\u001b[0m\u001b[0;34m)\u001b[0m\u001b[0;34m)\u001b[0m\u001b[0;34m\u001b[0m\u001b[0;34m\u001b[0m\u001b[0m\n\u001b[0m\u001b[1;32m      2\u001b[0m \u001b[0mprint\u001b[0m\u001b[0;34m(\u001b[0m\u001b[0mp\u001b[0m\u001b[0;34m.\u001b[0m\u001b[0mn_terms\u001b[0m\u001b[0;34m)\u001b[0m\u001b[0;34m\u001b[0m\u001b[0;34m\u001b[0m\u001b[0m\n",
      "\u001b[0;32m~/anaconda3/envs/symmer/lib/python3.7/site-packages/symmer/symplectic/base.py\u001b[0m in \u001b[0;36mfrom_matrix\u001b[0;34m(cls, matrix, operator_basis, strategy)\u001b[0m\n\u001b[1;32m    260\u001b[0m         \u001b[0;32melif\u001b[0m \u001b[0mstrategy\u001b[0m \u001b[0;34m==\u001b[0m \u001b[0;34m'projector'\u001b[0m\u001b[0;34m:\u001b[0m\u001b[0;34m\u001b[0m\u001b[0;34m\u001b[0m\u001b[0m\n\u001b[1;32m    261\u001b[0m             operator_out = cls._from_matrix_projector(\n\u001b[0;32m--> 262\u001b[0;31m                 \u001b[0mmatrix\u001b[0m\u001b[0;34m=\u001b[0m\u001b[0mmatrix\u001b[0m\u001b[0;34m,\u001b[0m \u001b[0mn_qubits\u001b[0m\u001b[0;34m=\u001b[0m\u001b[0mn_qubits\u001b[0m\u001b[0;34m\u001b[0m\u001b[0;34m\u001b[0m\u001b[0m\n\u001b[0m\u001b[1;32m    263\u001b[0m             )\n\u001b[1;32m    264\u001b[0m         \u001b[0;32melse\u001b[0m\u001b[0;34m:\u001b[0m\u001b[0;34m\u001b[0m\u001b[0;34m\u001b[0m\u001b[0m\n",
      "\u001b[0;32m~/anaconda3/envs/symmer/lib/python3.7/site-packages/symmer/symplectic/base.py\u001b[0m in \u001b[0;36m_from_matrix_projector\u001b[0;34m(cls, matrix, n_qubits)\u001b[0m\n\u001b[1;32m    212\u001b[0m         \u001b[0;32mfor\u001b[0m \u001b[0mi\u001b[0m\u001b[0;34m,\u001b[0m\u001b[0mj\u001b[0m \u001b[0;32min\u001b[0m \u001b[0mtqdm\u001b[0m\u001b[0;34m(\u001b[0m\u001b[0mzip\u001b[0m\u001b[0;34m(\u001b[0m\u001b[0mrow\u001b[0m\u001b[0;34m,\u001b[0m \u001b[0mcol\u001b[0m\u001b[0;34m)\u001b[0m\u001b[0;34m,\u001b[0m \u001b[0mdesc\u001b[0m\u001b[0;34m=\u001b[0m\u001b[0;34m'Building operator'\u001b[0m\u001b[0;34m,\u001b[0m \u001b[0mtotal\u001b[0m\u001b[0;34m=\u001b[0m\u001b[0mlen\u001b[0m\u001b[0;34m(\u001b[0m\u001b[0mrow\u001b[0m\u001b[0;34m)\u001b[0m\u001b[0;34m)\u001b[0m\u001b[0;34m:\u001b[0m\u001b[0;34m\u001b[0m\u001b[0;34m\u001b[0m\u001b[0m\n\u001b[1;32m    213\u001b[0m             \u001b[0mij_op\u001b[0m \u001b[0;34m=\u001b[0m \u001b[0mget_ij_operator\u001b[0m\u001b[0;34m(\u001b[0m\u001b[0mi\u001b[0m\u001b[0;34m,\u001b[0m\u001b[0mj\u001b[0m\u001b[0;34m,\u001b[0m\u001b[0mn_qubits\u001b[0m\u001b[0;34m,\u001b[0m\u001b[0mbinary_vec\u001b[0m\u001b[0;34m=\u001b[0m\u001b[0mbinary_vec\u001b[0m\u001b[0;34m)\u001b[0m\u001b[0;34m\u001b[0m\u001b[0;34m\u001b[0m\u001b[0m\n\u001b[0;32m--> 214\u001b[0;31m             \u001b[0mP_out\u001b[0m \u001b[0;34m+=\u001b[0m \u001b[0mij_op\u001b[0m \u001b[0;34m*\u001b[0m \u001b[0mmatrix\u001b[0m\u001b[0;34m[\u001b[0m\u001b[0mi\u001b[0m\u001b[0;34m,\u001b[0m\u001b[0mj\u001b[0m\u001b[0;34m]\u001b[0m\u001b[0;34m\u001b[0m\u001b[0;34m\u001b[0m\u001b[0m\n\u001b[0m\u001b[1;32m    215\u001b[0m \u001b[0;34m\u001b[0m\u001b[0m\n\u001b[1;32m    216\u001b[0m         \u001b[0;32mreturn\u001b[0m \u001b[0mP_out\u001b[0m\u001b[0;34m\u001b[0m\u001b[0;34m\u001b[0m\u001b[0m\n",
      "\u001b[0;32m~/anaconda3/envs/symmer/lib/python3.7/site-packages/symmer/symplectic/base.py\u001b[0m in \u001b[0;36m__add__\u001b[0;34m(self, PwordOp)\u001b[0m\n\u001b[1;32m    405\u001b[0m \u001b[0;34m\u001b[0m\u001b[0m\n\u001b[1;32m    406\u001b[0m         \u001b[0;31m# cleanup run to remove duplicate rows (Pauliwords)\u001b[0m\u001b[0;34m\u001b[0m\u001b[0;34m\u001b[0m\u001b[0;34m\u001b[0m\u001b[0m\n\u001b[0;32m--> 407\u001b[0;31m         \u001b[0;32mreturn\u001b[0m \u001b[0mPauliwordOp\u001b[0m\u001b[0;34m(\u001b[0m\u001b[0mP_symp_mat_new\u001b[0m\u001b[0;34m,\u001b[0m \u001b[0mP_new_coeffs\u001b[0m\u001b[0;34m)\u001b[0m\u001b[0;34m.\u001b[0m\u001b[0mcleanup\u001b[0m\u001b[0;34m(\u001b[0m\u001b[0;34m)\u001b[0m\u001b[0;34m\u001b[0m\u001b[0;34m\u001b[0m\u001b[0m\n\u001b[0m\u001b[1;32m    408\u001b[0m \u001b[0;34m\u001b[0m\u001b[0m\n\u001b[1;32m    409\u001b[0m     def __radd__(self, \n",
      "\u001b[0;32m~/anaconda3/envs/symmer/lib/python3.7/site-packages/symmer/symplectic/base.py\u001b[0m in \u001b[0;36mcleanup\u001b[0;34m(self, zero_threshold)\u001b[0m\n\u001b[1;32m    371\u001b[0m             return PauliwordOp(\n\u001b[1;32m    372\u001b[0m                 *symplectic_cleanup(\n\u001b[0;32m--> 373\u001b[0;31m                     \u001b[0mself\u001b[0m\u001b[0;34m.\u001b[0m\u001b[0msymp_matrix\u001b[0m\u001b[0;34m,\u001b[0m \u001b[0mself\u001b[0m\u001b[0;34m.\u001b[0m\u001b[0mcoeff_vec\u001b[0m\u001b[0;34m,\u001b[0m \u001b[0mzero_threshold\u001b[0m\u001b[0;34m=\u001b[0m\u001b[0mzero_threshold\u001b[0m\u001b[0;34m\u001b[0m\u001b[0;34m\u001b[0m\u001b[0m\n\u001b[0m\u001b[1;32m    374\u001b[0m                 )\n\u001b[1;32m    375\u001b[0m             )\n",
      "\u001b[0;32m~/anaconda3/envs/symmer/lib/python3.7/site-packages/symmer/symplectic/utils.py\u001b[0m in \u001b[0;36msymplectic_cleanup\u001b[0;34m(symp_matrix, coeff_vec, zero_threshold)\u001b[0m\n\u001b[1;32m    132\u001b[0m     \u001b[0msorted_coeff\u001b[0m \u001b[0;34m=\u001b[0m \u001b[0mcoeff_vec\u001b[0m\u001b[0;34m[\u001b[0m\u001b[0mre_order_indices\u001b[0m\u001b[0;34m]\u001b[0m\u001b[0;34m\u001b[0m\u001b[0;34m\u001b[0m\u001b[0m\n\u001b[1;32m    133\u001b[0m     \u001b[0;31m# unique terms are those with non-zero entries in the adjacent row difference array\u001b[0m\u001b[0;34m\u001b[0m\u001b[0;34m\u001b[0m\u001b[0;34m\u001b[0m\u001b[0m\n\u001b[0;32m--> 134\u001b[0;31m     \u001b[0mdiff_adjacent\u001b[0m \u001b[0;34m=\u001b[0m \u001b[0mnp\u001b[0m\u001b[0;34m.\u001b[0m\u001b[0mdiff\u001b[0m\u001b[0;34m(\u001b[0m\u001b[0msorted_terms\u001b[0m\u001b[0;34m,\u001b[0m \u001b[0maxis\u001b[0m\u001b[0;34m=\u001b[0m\u001b[0;36m0\u001b[0m\u001b[0;34m)\u001b[0m\u001b[0;34m\u001b[0m\u001b[0;34m\u001b[0m\u001b[0m\n\u001b[0m\u001b[1;32m    135\u001b[0m     \u001b[0mmask_unique_terms\u001b[0m \u001b[0;34m=\u001b[0m \u001b[0mnp\u001b[0m\u001b[0;34m.\u001b[0m\u001b[0mappend\u001b[0m\u001b[0;34m(\u001b[0m\u001b[0;32mTrue\u001b[0m\u001b[0;34m,\u001b[0m \u001b[0mnp\u001b[0m\u001b[0;34m.\u001b[0m\u001b[0many\u001b[0m\u001b[0;34m(\u001b[0m\u001b[0mdiff_adjacent\u001b[0m\u001b[0;34m,\u001b[0m \u001b[0maxis\u001b[0m\u001b[0;34m=\u001b[0m\u001b[0;36m1\u001b[0m\u001b[0;34m)\u001b[0m\u001b[0;34m)\u001b[0m\u001b[0;34m\u001b[0m\u001b[0;34m\u001b[0m\u001b[0m\n\u001b[1;32m    136\u001b[0m     \u001b[0mreduced_symp_matrix\u001b[0m \u001b[0;34m=\u001b[0m \u001b[0msorted_terms\u001b[0m\u001b[0;34m[\u001b[0m\u001b[0mmask_unique_terms\u001b[0m\u001b[0;34m]\u001b[0m\u001b[0;34m\u001b[0m\u001b[0;34m\u001b[0m\u001b[0m\n",
      "\u001b[0;32m<__array_function__ internals>\u001b[0m in \u001b[0;36mdiff\u001b[0;34m(*args, **kwargs)\u001b[0m\n",
      "\u001b[0;32m~/anaconda3/envs/symmer/lib/python3.7/site-packages/numpy/lib/function_base.py\u001b[0m in \u001b[0;36mdiff\u001b[0;34m(a, n, axis, prepend, append)\u001b[0m\n\u001b[1;32m   1290\u001b[0m     \u001b[0mop\u001b[0m \u001b[0;34m=\u001b[0m \u001b[0mnot_equal\u001b[0m \u001b[0;32mif\u001b[0m \u001b[0ma\u001b[0m\u001b[0;34m.\u001b[0m\u001b[0mdtype\u001b[0m \u001b[0;34m==\u001b[0m \u001b[0mnp\u001b[0m\u001b[0;34m.\u001b[0m\u001b[0mbool_\u001b[0m \u001b[0;32melse\u001b[0m \u001b[0msubtract\u001b[0m\u001b[0;34m\u001b[0m\u001b[0;34m\u001b[0m\u001b[0m\n\u001b[1;32m   1291\u001b[0m     \u001b[0;32mfor\u001b[0m \u001b[0m_\u001b[0m \u001b[0;32min\u001b[0m \u001b[0mrange\u001b[0m\u001b[0;34m(\u001b[0m\u001b[0mn\u001b[0m\u001b[0;34m)\u001b[0m\u001b[0;34m:\u001b[0m\u001b[0;34m\u001b[0m\u001b[0;34m\u001b[0m\u001b[0m\n\u001b[0;32m-> 1292\u001b[0;31m         \u001b[0ma\u001b[0m \u001b[0;34m=\u001b[0m \u001b[0mop\u001b[0m\u001b[0;34m(\u001b[0m\u001b[0ma\u001b[0m\u001b[0;34m[\u001b[0m\u001b[0mslice1\u001b[0m\u001b[0;34m]\u001b[0m\u001b[0;34m,\u001b[0m \u001b[0ma\u001b[0m\u001b[0;34m[\u001b[0m\u001b[0mslice2\u001b[0m\u001b[0;34m]\u001b[0m\u001b[0;34m)\u001b[0m\u001b[0;34m\u001b[0m\u001b[0;34m\u001b[0m\u001b[0m\n\u001b[0m\u001b[1;32m   1293\u001b[0m \u001b[0;34m\u001b[0m\u001b[0m\n\u001b[1;32m   1294\u001b[0m     \u001b[0;32mreturn\u001b[0m \u001b[0ma\u001b[0m\u001b[0;34m\u001b[0m\u001b[0;34m\u001b[0m\u001b[0m\n",
      "\u001b[0;31mKeyboardInterrupt\u001b[0m: "
     ]
    }
   ],
   "source": [
    "p = PauliwordOp.from_matrix(x.toarray())\n",
    "print(p.n_terms)"
   ]
  },
  {
   "cell_type": "code",
   "execution_count": 36,
   "id": "1defcaf2",
   "metadata": {},
   "outputs": [
    {
     "data": {
      "text/plain": [
       "2.6341780319308768e-09"
      ]
     },
     "execution_count": 36,
     "metadata": {},
     "output_type": "execute_result"
    }
   ],
   "source": [
    "1/(2**(1.9*n_qubits))"
   ]
  },
  {
   "cell_type": "markdown",
   "id": "c1503620",
   "metadata": {},
   "source": [
    "The user may specify their own pauli basis, however care must be taken to ensure it is sufficiently expressible to represent the input matrix. An error will be thrown if it is not:"
   ]
  },
  {
   "cell_type": "code",
   "execution_count": 43,
   "id": "680bc9ff",
   "metadata": {},
   "outputs": [
    {
     "name": "stdout",
     "output_type": "stream",
     "text": [
      " 1.000+0.000j XIZ +\n",
      " 1.000+0.000j XYY\n"
     ]
    },
    {
     "name": "stderr",
     "output_type": "stream",
     "text": [
      "/home/tweaving/anaconda3/envs/symmer/lib/python3.7/site-packages/symmer/symplectic/base.py:184: UserWarning: Basis not sufficiently expressive, output operator projected onto basis supplied.\n",
      "  warnings.warn('Basis not sufficiently expressive, output operator projected onto basis supplied.')\n"
     ]
    },
    {
     "data": {
      "text/plain": [
       " 1.000+0.000j XYY"
      ]
     },
     "execution_count": 43,
     "metadata": {},
     "output_type": "execute_result"
    }
   ],
   "source": [
    "P = PauliwordOp.from_dictionary({'XYY':1, 'ZZZ':1})\n",
    "basis = P[0] + PauliwordOp.from_dictionary({'XIZ':1})\n",
    "print(basis)\n",
    "matrix = P.to_sparse_matrix\n",
    "PauliwordOp.from_matrix(matrix, operator_basis=basis)"
   ]
  },
  {
   "cell_type": "markdown",
   "id": "18a6249c",
   "metadata": {},
   "source": [
    "The adapted basis now sufficiently expressive, and note redundancy in the basis is okay. Defining a basis can circumvent accessing the full $4^N$-dimensional Hilbert space of $2^N \\times 2^N$ square matrices."
   ]
  },
  {
   "cell_type": "code",
   "execution_count": 6,
   "id": "11ecd2d5",
   "metadata": {},
   "outputs": [
    {
     "name": "stdout",
     "output_type": "stream",
     "text": [
      " 1.000+0.000j ZZZ +\n",
      " 1.000+0.000j XIZ +\n",
      " 1.000+0.000j XYY\n"
     ]
    },
    {
     "data": {
      "text/plain": [
       " 1.000+0.000j ZZZ +\n",
       " 1.000+0.000j XYY"
      ]
     },
     "execution_count": 6,
     "metadata": {},
     "output_type": "execute_result"
    }
   ],
   "source": [
    "P = PauliwordOp.from_dictionary({'XYY':1, 'ZZZ':1})\n",
    "basis = P + PauliwordOp.from_dictionary({'XIZ':1})\n",
    "print(basis)\n",
    "matrix = P.to_sparse_matrix.todense()\n",
    "PauliwordOp.from_matrix(matrix, operator_basis=basis)"
   ]
  },
  {
   "cell_type": "markdown",
   "id": "150bba16",
   "metadata": {},
   "source": [
    "# Projector method\n",
    "\n",
    "This strategy uses projectors on the computational basis to pick non-zero matrix elements out. In particular, we may write $$ | 0 \\rangle \\langle 0 | = \\sum_{\\vec{Z} \\in \\{I, Z\\}^{\\otimes N}} \\vec{Z}.$$ An arbitrary projection $| i \\rangle \\langle j |$ may be obtained via application of Pauli $X$ operators on either side of the base projection, $$| i \\rangle \\langle j | = \\vec{X}_i | 0 \\rangle \\langle 0 | \\vec{X}_j.$$ For example,"
   ]
  },
  {
   "cell_type": "code",
   "execution_count": 17,
   "id": "9614a210",
   "metadata": {},
   "outputs": [
    {
     "data": {
      "text/plain": [
       "array([[1., 0., 0., 0.],\n",
       "       [0., 0., 0., 0.],\n",
       "       [0., 0., 0., 0.],\n",
       "       [0., 0., 0., 0.]])"
      ]
     },
     "execution_count": 17,
     "metadata": {},
     "output_type": "execute_result"
    }
   ],
   "source": [
    "_00_projector = get_PauliwordOp_projector('00')\n",
    "_00_projector.to_sparse_matrix.toarray().real"
   ]
  },
  {
   "cell_type": "code",
   "execution_count": 24,
   "id": "f70e41dd",
   "metadata": {},
   "outputs": [
    {
     "data": {
      "text/plain": [
       "array([[0., 0., 0., 0.],\n",
       "       [0., 0., 1., 0.],\n",
       "       [0., 0., 0., 0.],\n",
       "       [0., 0., 0., 0.]])"
      ]
     },
     "execution_count": 24,
     "metadata": {},
     "output_type": "execute_result"
    }
   ],
   "source": [
    "# change row and column index for two qubit example\n",
    "i=1\n",
    "j=2\n",
    "\n",
    "\n",
    "Xi = np.binary_repr(i, width=_00_projector.n_qubits)\n",
    "Xj = np.binary_repr(j, width=_00_projector.n_qubits)\n",
    "Xi_op = PauliwordOp.from_list([Xi.replace('0', 'I').replace('1', 'X')])\n",
    "Xj_op = PauliwordOp.from_list([Xj.replace('0', 'I').replace('1', 'X')])\n",
    "_ij_projector = (Xi_op * _00_projector * Xj_op)\n",
    "_ij_projector.to_sparse_matrix.toarray().real"
   ]
  },
  {
   "cell_type": "code",
   "execution_count": null,
   "id": "b3cf9929",
   "metadata": {},
   "outputs": [],
   "source": []
  },
  {
   "cell_type": "code",
   "execution_count": null,
   "id": "c4cd705d",
   "metadata": {},
   "outputs": [],
   "source": []
  },
  {
   "cell_type": "code",
   "execution_count": 8,
   "id": "d931e184",
   "metadata": {},
   "outputs": [
    {
     "name": "stdout",
     "output_type": "stream",
     "text": [
      "1.55 ms ± 36.8 µs per loop (mean ± std. dev. of 7 runs, 1000 loops each)\n",
      "24.1 ms ± 1.37 ms per loop (mean ± std. dev. of 7 runs, 10 loops each)\n",
      "6.18 ms ± 152 µs per loop (mean ± std. dev. of 7 runs, 100 loops each)\n"
     ]
    }
   ],
   "source": [
    "# basis supplied\n",
    "%timeit PauliwordOp.from_matrix(matrix, operator_basis=basis, strategy='full_basis')\n",
    "\n",
    "# no basis supplied\n",
    "%timeit PauliwordOp.from_matrix(matrix, strategy='full_basis')\n",
    "\n",
    "# projector method\n",
    "%timeit PauliwordOp.from_matrix(matrix, strategy='projector')"
   ]
  },
  {
   "cell_type": "code",
   "execution_count": null,
   "id": "14d726f4",
   "metadata": {},
   "outputs": [],
   "source": []
  },
  {
   "cell_type": "code",
   "execution_count": 33,
   "id": "1f05ded0",
   "metadata": {},
   "outputs": [],
   "source": [
    "from scipy.sparse import csr_matrix\n",
    "nq = 20\n",
    "\n",
    "row = np.array([1, 1000])\n",
    "col = np.array([2000,478])\n",
    "\n",
    "data = np.array([1e6,1e3])\n",
    "\n",
    "sparse_mat = csr_matrix((data, (row, col)), shape=(2**nq, 2**nq))"
   ]
  },
  {
   "cell_type": "code",
   "execution_count": 34,
   "id": "b1be26f5",
   "metadata": {},
   "outputs": [
    {
     "data": {
      "text/plain": [
       "2097152"
      ]
     },
     "execution_count": 34,
     "metadata": {},
     "output_type": "execute_result"
    }
   ],
   "source": [
    "P_sparse = PauliwordOp.from_matrix(sparse_mat, strategy='projector')\n",
    "P_sparse.n_terms"
   ]
  },
  {
   "cell_type": "code",
   "execution_count": null,
   "id": "baeead2b",
   "metadata": {},
   "outputs": [],
   "source": []
  }
 ],
 "metadata": {
  "kernelspec": {
   "display_name": "Python 3 (ipykernel)",
   "language": "python",
   "name": "python3"
  },
  "language_info": {
   "codemirror_mode": {
    "name": "ipython",
    "version": 3
   },
   "file_extension": ".py",
   "mimetype": "text/x-python",
   "name": "python",
   "nbconvert_exporter": "python",
   "pygments_lexer": "ipython3",
   "version": "3.7.13"
  },
  "vscode": {
   "interpreter": {
    "hash": "916dbcbb3f70747c44a77c7bcd40155683ae19c65e1c03b4aa3499c5328201f1"
   }
  }
 },
 "nbformat": 4,
 "nbformat_minor": 5
}
