{
 "cells": [
  {
   "cell_type": "code",
   "execution_count": 1,
   "id": "1a4f058d",
   "metadata": {},
   "outputs": [],
   "source": [
    "import numpy as np\n",
    "#from symmer.symplectic.matrix import matrix_to_Pword\n",
    "from symmer.symplectic import PauliwordOp"
   ]
  },
  {
   "cell_type": "code",
   "execution_count": null,
   "id": "28ad4ae4",
   "metadata": {},
   "outputs": [],
   "source": []
  },
  {
   "cell_type": "markdown",
   "id": "1f605640",
   "metadata": {},
   "source": [
    "We can select a basis for any $\\mathcal{C}^{2^{N}\\times 2^{N}}$ matrix by taking all n-fold tensor product of Pauli operators, which is of size $4^{N}$.\n",
    "\n",
    "E.g.\n",
    "\n",
    "$$basis = B = $$\n",
    "$$\\{II, IZ,ZI,ZZ, $$\n",
    "$$\\:IX,IY,ZX,ZY, $$\n",
    "$$\\:XI,XZ,YI,YZ, $$\n",
    "$$\\:XX,XY,YX,YY \\}$$\n",
    "\n",
    "The decomposition of any matrix $M$ is then\n",
    "\n",
    "$$M = \\sum_{P \\in basis} c_{i}P_{i}$$\n",
    "\n",
    "It should be clear that:\n",
    "\n",
    "$$Trace(M P_{i}) = c_{i} 2^{N}$$\n",
    "\n",
    "so re-aranging we find:\n",
    "\n",
    "$$c_{i} = \\frac{Trace(M P_{i})}{ 2^{N}}$$"
   ]
  },
  {
   "cell_type": "markdown",
   "id": "6f3430bb",
   "metadata": {},
   "source": [
    "Function currently uses $4^{N}$ terms to build operator...\n",
    "\n",
    "interesting question is **what are the smallest set of unitaries which we can decompose a given matrix!**"
   ]
  },
  {
   "cell_type": "code",
   "execution_count": null,
   "id": "5b96dd45",
   "metadata": {},
   "outputs": [],
   "source": []
  },
  {
   "cell_type": "markdown",
   "id": "9edf80fe",
   "metadata": {},
   "source": [
    "potential solution for CHEMISTRY:\n",
    "\n",
    "second quantized operator is given as:\n",
    "\n",
    "$$     H_{e} = \\sum_{p=0}^{N-1}  \\sum_{q=0}^{N-1} h_{pq} a_{p}^{\\dagger} a_{q} + \\frac{1}{2} \\sum_{p=0}^{N-1}  \\sum_{q=0}^{N-1}  \\sum_{r=0}^{N-1}  \\sum_{s=0}^{N-1}  h_{pqrs} a_{p}^{\\dagger} a_{q}^{\\dagger} a_{r} a_{s}$$\n",
    "\n",
    "\n",
    "Therefore basis can be built by getting all the $N^{2}$ 1-RDM operators and all the $N^{4}$ 2-RDM operators  (as Pauli operators!)\n",
    "\n",
    "TODO: check this out"
   ]
  },
  {
   "cell_type": "code",
   "execution_count": null,
   "id": "f2159c22",
   "metadata": {},
   "outputs": [],
   "source": []
  },
  {
   "cell_type": "code",
   "execution_count": null,
   "id": "bb45a903",
   "metadata": {},
   "outputs": [],
   "source": []
  },
  {
   "cell_type": "code",
   "execution_count": 2,
   "id": "8b8c1b58",
   "metadata": {},
   "outputs": [],
   "source": [
    "n_qub = 3\n",
    "mat = np.arange(2**n_qub * 2**n_qub).reshape([2**n_qub,2**n_qub])\n",
    "decomp_obj = PauliwordOp.from_matrix(mat)"
   ]
  },
  {
   "cell_type": "code",
   "execution_count": 3,
   "id": "f9223be5",
   "metadata": {},
   "outputs": [
    {
     "data": {
      "text/plain": [
       "matrix([[ True,  True,  True,  True,  True,  True,  True,  True],\n",
       "        [ True,  True,  True,  True,  True,  True,  True,  True],\n",
       "        [ True,  True,  True,  True,  True,  True,  True,  True],\n",
       "        [ True,  True,  True,  True,  True,  True,  True,  True],\n",
       "        [ True,  True,  True,  True,  True,  True,  True,  True],\n",
       "        [ True,  True,  True,  True,  True,  True,  True,  True],\n",
       "        [ True,  True,  True,  True,  True,  True,  True,  True],\n",
       "        [ True,  True,  True,  True,  True,  True,  True,  True]])"
      ]
     },
     "execution_count": 3,
     "metadata": {},
     "output_type": "execute_result"
    }
   ],
   "source": [
    "decomp_obj.to_sparse_matrix == mat"
   ]
  },
  {
   "cell_type": "markdown",
   "id": "c1503620",
   "metadata": {},
   "source": [
    "The user may specify their own pauli basis, however care must be taken to ensure it is sufficiently expressible to represent the input matrix. An error will be thrown if it is not:"
   ]
  },
  {
   "cell_type": "code",
   "execution_count": 4,
   "id": "680bc9ff",
   "metadata": {},
   "outputs": [
    {
     "name": "stdout",
     "output_type": "stream",
     "text": [
      " 1.000+0.000j XIZ +\n",
      " 1.000+0.000j XYY\n"
     ]
    },
    {
     "ename": "ValueError",
     "evalue": "Basis not sufficiently expressive.",
     "output_type": "error",
     "traceback": [
      "\u001b[0;31m---------------------------------------------------------------------------\u001b[0m",
      "\u001b[0;31mValueError\u001b[0m                                Traceback (most recent call last)",
      "\u001b[0;32m/tmp/ipykernel_333602/3728075885.py\u001b[0m in \u001b[0;36m<module>\u001b[0;34m\u001b[0m\n\u001b[1;32m      3\u001b[0m \u001b[0mprint\u001b[0m\u001b[0;34m(\u001b[0m\u001b[0mbasis\u001b[0m\u001b[0;34m)\u001b[0m\u001b[0;34m\u001b[0m\u001b[0;34m\u001b[0m\u001b[0m\n\u001b[1;32m      4\u001b[0m \u001b[0mmatrix\u001b[0m \u001b[0;34m=\u001b[0m \u001b[0mP\u001b[0m\u001b[0;34m.\u001b[0m\u001b[0mto_sparse_matrix\u001b[0m\u001b[0;34m\u001b[0m\u001b[0;34m\u001b[0m\u001b[0m\n\u001b[0;32m----> 5\u001b[0;31m \u001b[0mPauliwordOp\u001b[0m\u001b[0;34m.\u001b[0m\u001b[0mfrom_matrix\u001b[0m\u001b[0;34m(\u001b[0m\u001b[0mmatrix\u001b[0m\u001b[0;34m,\u001b[0m \u001b[0moperator_basis\u001b[0m\u001b[0;34m=\u001b[0m\u001b[0mbasis\u001b[0m\u001b[0;34m)\u001b[0m\u001b[0;34m\u001b[0m\u001b[0;34m\u001b[0m\u001b[0m\n\u001b[0m",
      "\u001b[0;32m~/anaconda3/lib/python3.8/site-packages/symmer/symplectic/base.py\u001b[0m in \u001b[0;36mfrom_matrix\u001b[0;34m(cls, matrix, operator_basis)\u001b[0m\n\u001b[1;32m    235\u001b[0m         \u001b[0;32mif\u001b[0m \u001b[0moperator_basis\u001b[0m \u001b[0;32mis\u001b[0m \u001b[0;32mnot\u001b[0m \u001b[0;32mNone\u001b[0m\u001b[0;34m:\u001b[0m\u001b[0;34m\u001b[0m\u001b[0;34m\u001b[0m\u001b[0m\n\u001b[1;32m    236\u001b[0m             \u001b[0;32mif\u001b[0m \u001b[0;32mnot\u001b[0m \u001b[0mnp\u001b[0m\u001b[0;34m.\u001b[0m\u001b[0mall\u001b[0m\u001b[0;34m(\u001b[0m\u001b[0moperator_out\u001b[0m\u001b[0;34m.\u001b[0m\u001b[0mto_sparse_matrix\u001b[0m\u001b[0;34m.\u001b[0m\u001b[0mtoarray\u001b[0m\u001b[0;34m(\u001b[0m\u001b[0;34m)\u001b[0m \u001b[0;34m==\u001b[0m \u001b[0mmatrix\u001b[0m\u001b[0;34m)\u001b[0m\u001b[0;34m:\u001b[0m\u001b[0;34m\u001b[0m\u001b[0;34m\u001b[0m\u001b[0m\n\u001b[0;32m--> 237\u001b[0;31m                 \u001b[0;32mraise\u001b[0m \u001b[0mValueError\u001b[0m\u001b[0;34m(\u001b[0m\u001b[0;34m'Basis not sufficiently expressive.'\u001b[0m\u001b[0;34m)\u001b[0m\u001b[0;34m\u001b[0m\u001b[0;34m\u001b[0m\u001b[0m\n\u001b[0m\u001b[1;32m    238\u001b[0m \u001b[0;34m\u001b[0m\u001b[0m\n\u001b[1;32m    239\u001b[0m         \u001b[0;32mreturn\u001b[0m \u001b[0moperator_out\u001b[0m\u001b[0;34m\u001b[0m\u001b[0;34m\u001b[0m\u001b[0m\n",
      "\u001b[0;31mValueError\u001b[0m: Basis not sufficiently expressive."
     ]
    }
   ],
   "source": [
    "P = PauliwordOp.from_dictionary({'XYY':1, 'ZZZ':1})\n",
    "basis = P[0] + PauliwordOp.from_dictionary({'XIZ':1})\n",
    "print(basis)\n",
    "matrix = P.to_sparse_matrix\n",
    "PauliwordOp.from_matrix(matrix, operator_basis=basis)"
   ]
  },
  {
   "cell_type": "markdown",
   "id": "18a6249c",
   "metadata": {},
   "source": [
    "The adapted basis now sufficiently expressive, and note redundancy in the basis is okay. Defining a basis can circumvent accessing the full $4^N$-dimensional Hilbert space of $2^N \\times 2^N$ square matrices."
   ]
  },
  {
   "cell_type": "code",
   "execution_count": 5,
   "id": "11ecd2d5",
   "metadata": {},
   "outputs": [
    {
     "name": "stdout",
     "output_type": "stream",
     "text": [
      " 1.000+0.000j ZZZ +\n",
      " 1.000+0.000j XIZ +\n",
      " 1.000+0.000j XYY\n"
     ]
    },
    {
     "data": {
      "text/plain": [
       " 1.000+0.000j ZZZ +\n",
       " 1.000+0.000j XYY"
      ]
     },
     "execution_count": 5,
     "metadata": {},
     "output_type": "execute_result"
    }
   ],
   "source": [
    "P = PauliwordOp.from_dictionary({'XYY':1, 'ZZZ':1})\n",
    "basis = P + PauliwordOp.from_dictionary({'XIZ':1})\n",
    "print(basis)\n",
    "matrix = P.to_sparse_matrix.todense()\n",
    "PauliwordOp.from_matrix(matrix, operator_basis=basis)"
   ]
  },
  {
   "cell_type": "code",
   "execution_count": null,
   "id": "d931e184",
   "metadata": {},
   "outputs": [],
   "source": []
  }
 ],
 "metadata": {
  "kernelspec": {
   "display_name": "Python 3.8.10 64-bit",
   "language": "python",
   "name": "python3"
  },
  "language_info": {
   "codemirror_mode": {
    "name": "ipython",
    "version": 3
   },
   "file_extension": ".py",
   "mimetype": "text/x-python",
   "name": "python",
   "nbconvert_exporter": "python",
   "pygments_lexer": "ipython3",
   "version": "3.8.10"
  },
  "vscode": {
   "interpreter": {
    "hash": "916dbcbb3f70747c44a77c7bcd40155683ae19c65e1c03b4aa3499c5328201f1"
   }
  }
 },
 "nbformat": 4,
 "nbformat_minor": 5
}
