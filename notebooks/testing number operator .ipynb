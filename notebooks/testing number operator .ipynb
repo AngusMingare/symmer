{
 "cells": [
  {
   "cell_type": "markdown",
   "id": "2f5c6e01",
   "metadata": {},
   "source": [
    "# A cautionary tale of ground state energy calculation\n",
    "\n",
    "When calculating the ground state energy of an electronic structure Hamiltonian, some care should be exercised. Converting the Hamiltonian to a sparse matrix and finding the least eigenvalue will not always be the _true_ ground state with respect to the system it represents, since the diagonalization scheme used may not inherently observe any symmetries present in the underlying physical system.\n",
    "\n",
    "Consider the following $H_3^+$ example, consisting of 2 electrons in 6 spin-orbitals..."
   ]
  },
  {
   "cell_type": "code",
   "execution_count": 2,
   "id": "29fc03b7",
   "metadata": {},
   "outputs": [
    {
     "name": "stdout",
     "output_type": "stream",
     "text": [
      "Molecule geometry:\n",
      "H\t0.0\t0.558243\t0.0\n",
      "H\t0.483452\t-0.279121\t0.0\n",
      "H\t-0.483452\t-0.279121\t0.0\n",
      "\n",
      "HF converged?   True\n",
      "CCSD converged? True\n",
      "FCI converged?  True\n",
      "\n",
      "HF energy:   -1.246860006338445\n",
      "MP2 energy:  -1.2658602663569554\n",
      "CCSD energy: -1.274144616958313\n",
      "FCI energy:  -1.2741444671239879\n",
      "\n",
      "\n",
      "Number of qubits: 6\n"
     ]
    }
   ],
   "source": [
    "from symmer.chemistry import MoleculeBuilder\n",
    "from symmer.symplectic import array_to_QuantumState\n",
    "from symmer.projection import QubitTapering\n",
    "\n",
    "basis='sto-3g'\n",
    "charge=+1\n",
    "geometry =[\n",
    "    (\"H\", [0., 0.558243000, 0.]),\n",
    "    (\"H\", [0.483452000, -0.279121000, 0.]),\n",
    "    (\"H\", [-0.483452000, -0.279121000, 0.])\n",
    "]\n",
    "molecule = MoleculeBuilder(geometry=geometry, charge=charge, basis=basis, spin=0, run_fci=True, print_info=True)"
   ]
  },
  {
   "cell_type": "markdown",
   "id": "1a12cea3",
   "metadata": {},
   "source": [
    "Naively computing the ground state energy by taking the smallest eigenvalue of the Hamiltonian does not match the FCI energy:"
   ]
  },
  {
   "cell_type": "code",
   "execution_count": 33,
   "id": "e8aebb80",
   "metadata": {},
   "outputs": [
    {
     "name": "stdout",
     "output_type": "stream",
     "text": [
      "Molecule geometry:\n",
      "H\t0.0\t0.0\t1.0\n",
      "H\t0.0\t1.0\t0\n",
      "H\t0.0\t1.0\t1.0\n",
      "H\t0.0\t0.0\t0.0\n",
      "\n",
      "HF converged?   True\n",
      "CCSD converged? True\n",
      "FCI converged?  True\n",
      "\n",
      "HF energy:   -1.7610750541348996\n",
      "MP2 energy:  -1.81984049526728\n",
      "CCSD energy: -1.9186787645494061\n",
      "FCI energy:  -1.915106549511806\n",
      "\n",
      "\n",
      "Number of qubits: 8\n"
     ]
    }
   ],
   "source": [
    "from symmer.chemistry import MoleculeBuilder\n",
    "from symmer.symplectic import array_to_QuantumState\n",
    "\n",
    "basis='sto-3g'\n",
    "charge=0\n",
    "geometry =[\n",
    "    (\"H\", [0., 0., 1.]),\n",
    "    (\"H\", [0., 1., 0]),\n",
    "    (\"H\", [0., 1., 1.]),\n",
    "    (\"H\", [0., 0., 0.])\n",
    "]\n",
    "\n",
    "# geometry =[\n",
    "#     (\"H\", [0., 0., 0.]),\n",
    "#     (\"H\", [0., 0., 0.74]),\n",
    "# ]\n",
    "molecule = MoleculeBuilder(geometry=geometry, charge=charge, basis=basis, spin=0, run_fci=True, print_info=True)"
   ]
  },
  {
   "cell_type": "code",
   "execution_count": 34,
   "id": "55e0ea78",
   "metadata": {},
   "outputs": [
    {
     "name": "stdout",
     "output_type": "stream",
     "text": [
      "Least eigenvalue = -1.9151065495117348 | FCI error = 7.127631818093505e-14\n"
     ]
    }
   ],
   "source": [
    "from symmer.utils import exact_gs_energy\n",
    "\n",
    "gs_nrg, gs_vec = exact_gs_energy(molecule.H_q.to_sparse_matrix)\n",
    "\n",
    "print(f'Least eigenvalue = {gs_nrg} | FCI error = {gs_nrg - molecule.fci_energy}')"
   ]
  },
  {
   "cell_type": "markdown",
   "id": "c632ed58",
   "metadata": {},
   "source": [
    "What has gone wrong here? Taking a look at the corresponding eigenvector, we see the identified state actually contains 3 particles, whereas the underlying system only contains 2:"
   ]
  },
  {
   "cell_type": "code",
   "execution_count": 35,
   "id": "15aef568",
   "metadata": {},
   "outputs": [
    {
     "name": "stdout",
     "output_type": "stream",
     "text": [
      "Eigenvector with eigenvalue -1.9151065495117348:\n",
      "\n",
      "-0.044-0.007j |00001111> +\n",
      " 0.044+0.007j |00110011> +\n",
      "-0.060-0.010j |01011010> +\n",
      "-0.060-0.010j |01100110> +\n",
      " 0.120+0.020j |01101001> +\n",
      " 0.120+0.020j |10010110> +\n",
      "-0.060-0.010j |10011001> +\n",
      "-0.060-0.010j |10100101> +\n",
      " 0.681+0.111j |11001100> +\n",
      "-0.681-0.111j |11110000>\n"
     ]
    }
   ],
   "source": [
    "psi = array_to_QuantumState(gs_vec).cleanup(zero_threshold=1e-5)\n",
    "print(f'Eigenvector with eigenvalue {gs_nrg}:\\n')\n",
    "print(psi)"
   ]
  },
  {
   "cell_type": "markdown",
   "id": "b51b93ff",
   "metadata": {},
   "source": [
    "To counter this issue, we instead need to select the least eigenvalue that contains the _correct_ number of particles. This is implemented in `symmer.chem.exact_gs_state`"
   ]
  },
  {
   "cell_type": "code",
   "execution_count": 40,
   "id": "977665f4",
   "metadata": {},
   "outputs": [
    {
     "data": {
      "text/plain": [
       "4"
      ]
     },
     "execution_count": 40,
     "metadata": {},
     "output_type": "execute_result"
    }
   ],
   "source": []
  },
  {
   "cell_type": "code",
   "execution_count": 41,
   "id": "5265519a",
   "metadata": {},
   "outputs": [
    {
     "name": "stdout",
     "output_type": "stream",
     "text": [
      "Least eigenvalue = -1.9151065495117299 | FCI error = 7.616129948928574e-14\n",
      "\n",
      "Eigenvector with eigenvalue -1.9151065495117299:\n",
      "\n",
      " 0.043-0.011j |00001111> +\n",
      "-0.043+0.011j |00110011> +\n",
      " 0.059-0.015j |01011010> +\n",
      " 0.059-0.015j |01100110> +\n",
      "-0.117+0.031j |01101001> +\n",
      "-0.117+0.031j |10010110> +\n",
      " 0.059-0.015j |10011001> +\n",
      " 0.059-0.015j |10100101> +\n",
      "-0.668+0.174j |11001100> +\n",
      " 0.668-0.174j |11110000>\n"
     ]
    }
   ],
   "source": [
    "from symmer.chemistry import exact_gs_energy\n",
    "\n",
    "gs_nrg, gs_vec = exact_gs_energy(molecule.H_q.to_sparse_matrix, n_particles=molecule.pyscf_obj.pyscf_hf.mol.nelectron)\n",
    "psi = array_to_QuantumState(gs_vec).cleanup(zero_threshold=1e-5)\n",
    "\n",
    "print(f'Least eigenvalue = {gs_nrg} | FCI error = {gs_nrg - molecule.fci_energy}\\n')\n",
    "print(f'Eigenvector with eigenvalue {gs_nrg}:\\n')\n",
    "print(psi)"
   ]
  },
  {
   "cell_type": "markdown",
   "id": "a3066e1c",
   "metadata": {},
   "source": [
    "Success! We have now recovered the true ground state by enforcing that only solutions with the correct number of particles are considered. Note however it is possible that no solution is identified at first - in this case, increase the `n_eigs` parameter in `symmer.chem.exact_gs_state` to increase the search space."
   ]
  },
  {
   "cell_type": "code",
   "execution_count": 42,
   "id": "66b2f806",
   "metadata": {},
   "outputs": [
    {
     "data": {
      "text/plain": [
       "-0.243+0.000j IIIIIIII +\n",
       " 0.238+0.000j ZIIIIIII +\n",
       "-0.000+0.000j YZZZZZYI +\n",
       "-0.000+0.000j XZZZZZXI +\n",
       " 0.238+0.000j IZIIIIII +\n",
       "-0.000+0.000j IYZZZZZY +\n",
       "-0.000+0.000j IXZZZZZX +\n",
       "-0.009+0.000j IIZIIIII +\n",
       "-0.009+0.000j IIIZIIII +\n",
       "-0.009+0.000j IIIIZIII +\n",
       "-0.009+0.000j IIIIIZII +\n",
       "-0.313+0.000j IIIIIIZI +\n",
       "-0.313+0.000j IIIIIIIZ +\n",
       " 0.133+0.000j ZZIIIIII +\n",
       " 0.034+0.000j YXXYIIII +\n",
       "-0.034+0.000j YYXXIIII +\n",
       "-0.034+0.000j XXYYIIII +\n",
       " 0.034+0.000j XYYXIIII +\n",
       " 0.034+0.000j YXIIXYII +\n",
       "-0.034+0.000j YYIIXXII +\n",
       "-0.034+0.000j XXIIYYII +\n",
       " 0.034+0.000j XYIIYXII +\n",
       " 0.019+0.000j YXIIIIXY +\n",
       "-0.019+0.000j YYIIIIXX +\n",
       "-0.019+0.000j XXIIIIYY +\n",
       " 0.019+0.000j XYIIIIYX +\n",
       " 0.095+0.000j ZIZIIIII +\n",
       " 0.014+0.000j YZXIXZYI +\n",
       " 0.014+0.000j YZYIYZYI +\n",
       " 0.014+0.000j XZXIXZXI +\n",
       " 0.014+0.000j XZYIYZXI +\n",
       " 0.129+0.000j ZIIZIIII +\n",
       "-0.000+0.000j YZZIZZYI +\n",
       "-0.000+0.000j XZZIZZXI +\n",
       "-0.019+0.000j YZZXIXYI +\n",
       "-0.019+0.000j YZZYIYYI +\n",
       "-0.019+0.000j XZZXIXXI +\n",
       "-0.019+0.000j XZZYIYXI +\n",
       " 0.000+0.000j YZYYZZZY +\n",
       " 0.000+0.000j YZYXZZZX +\n",
       " 0.000+0.000j XZXYZZZY +\n",
       " 0.000+0.000j XZXXZZZX +\n",
       " 0.034+0.000j YZZXXZZY +\n",
       "-0.034+0.000j YZZYXZZX +\n",
       "-0.034+0.000j XZZXYZZY +\n",
       " 0.034+0.000j XZZYYZZX +\n",
       " 0.095+0.000j ZIIIZIII +\n",
       " 0.129+0.000j ZIIIIZII +\n",
       " 0.000+0.000j YZZZZIYI +\n",
       " 0.000+0.000j XZZZZIXI +\n",
       " 0.034+0.000j YZYIIYZY +\n",
       " 0.034+0.000j YZYIIXZX +\n",
       " 0.034+0.000j XZXIIYZY +\n",
       " 0.034+0.000j XZXIIXZX +\n",
       "-0.000+0.000j YZZZYYZY +\n",
       "-0.000+0.000j YZZZYXZX +\n",
       "-0.000+0.000j XZZZXYZY +\n",
       "-0.000+0.000j XZZZXXZX +\n",
       " 0.111+0.000j ZIIIIIZI +\n",
       " 0.131+0.000j ZIIIIIIZ +\n",
       " 0.129+0.000j IZZIIIII +\n",
       "-0.000+0.000j IYIZZZZY +\n",
       "-0.000+0.000j IXIZZZZX +\n",
       "-0.019+0.000j IYXIXZZY +\n",
       "-0.019+0.000j IYYIYZZY +\n",
       "-0.019+0.000j IXXIXZZX +\n",
       "-0.019+0.000j IXYIYZZX +\n",
       " 0.000+0.000j IYXXZZYI +\n",
       "-0.000+0.000j IYYXZZXI +\n",
       "-0.000+0.000j IXXYZZYI +\n",
       " 0.000+0.000j IXYYZZXI +\n",
       " 0.034+0.000j IYXIIXYI +\n",
       "-0.034+0.000j IYYIIXXI +\n",
       "-0.034+0.000j IXXIIYYI +\n",
       " 0.034+0.000j IXYIIYXI +\n",
       " 0.095+0.000j IZIZIIII +\n",
       " 0.014+0.000j IYZXIXZY +\n",
       " 0.014+0.000j IYZYIYZY +\n",
       " 0.014+0.000j IXZXIXZX +\n",
       " 0.014+0.000j IXZYIYZX +\n",
       " 0.129+0.000j IZIIZIII +\n",
       " 0.000+0.000j IYZZIZZY +\n",
       " 0.000+0.000j IXZZIZZX +\n",
       " 0.034+0.000j IYZYYZYI +\n",
       " 0.034+0.000j IYZYXZXI +\n",
       " 0.034+0.000j IXZXYZYI +\n",
       " 0.034+0.000j IXZXXZXI +\n",
       "-0.000+0.000j IYZZXXYI +\n",
       " 0.000+0.000j IYZZYXXI +\n",
       " 0.000+0.000j IXZZXYYI +\n",
       "-0.000+0.000j IXZZYYXI +\n",
       " 0.095+0.000j IZIIIZII +\n",
       " 0.131+0.000j IZIIIIZI +\n",
       " 0.111+0.000j IZIIIIIZ +\n",
       " 0.132+0.000j IIZZIIII +\n",
       "-0.000+0.000j IIYIYIII +\n",
       "-0.000+0.000j IIXIXIII +\n",
       "-0.000+0.000j IIZYZYII +\n",
       "-0.000+0.000j IIZXZXII +\n",
       " 0.019+0.000j IIYXXYII +\n",
       "-0.019+0.000j IIYYXXII +\n",
       "-0.019+0.000j IIXXYYII +\n",
       " 0.019+0.000j IIXYYXII +\n",
       " 0.037+0.000j IIYXIIXY +\n",
       "-0.037+0.000j IIYYIIXX +\n",
       "-0.037+0.000j IIXXIIYY +\n",
       " 0.037+0.000j IIXYIIYX +\n",
       " 0.107+0.000j IIZIZIII +\n",
       " 0.126+0.000j IIZIIZII +\n",
       " 0.000+0.000j IIYZYZII +\n",
       " 0.000+0.000j IIXZXZII +\n",
       " 0.000+0.000j XZIZZZXI +\n",
       " 0.000+0.000j YZIZZZYI +\n",
       " 0.095+0.000j IIZIIIZI +\n",
       " 0.132+0.000j IIZIIIIZ +\n",
       " 0.126+0.000j IIIZZIII +\n",
       " 0.000+0.000j IIIYIYII +\n",
       " 0.000+0.000j IIIXIXII +\n",
       " 0.107+0.000j IIIZIZII +\n",
       " 0.132+0.000j IIIZIIZI +\n",
       " 0.000+0.000j IXZIZZZX +\n",
       " 0.000+0.000j IYZIZZZY +\n",
       " 0.095+0.000j IIIZIIIZ +\n",
       " 0.132+0.000j IIIIZZII +\n",
       " 0.037+0.000j IIIIYXXY +\n",
       "-0.037+0.000j IIIIYYXX +\n",
       "-0.037+0.000j IIIIXXYY +\n",
       " 0.037+0.000j IIIIXYYX +\n",
       "-0.000+0.000j XZZZIZXI +\n",
       "-0.000+0.000j YZZZIZYI +\n",
       " 0.095+0.000j IIIIZIZI +\n",
       " 0.132+0.000j IIIIZIIZ +\n",
       " 0.132+0.000j IIIIIZZI +\n",
       "-0.000+0.000j IXZZZIZX +\n",
       "-0.000+0.000j IYZZZIZY +\n",
       " 0.095+0.000j IIIIIZIZ +\n",
       " 0.138+0.000j IIIIIIZZ"
      ]
     },
     "execution_count": 42,
     "metadata": {},
     "output_type": "execute_result"
    }
   ],
   "source": [
    "molecule.H_q"
   ]
  },
  {
   "cell_type": "code",
   "execution_count": 43,
   "id": "df941350",
   "metadata": {},
   "outputs": [
    {
     "name": "stdout",
     "output_type": "stream",
     "text": [
      "We are able to taper 3 qubits from the Hamiltonian.\n",
      "\n",
      "The symmetry generators are\n",
      "\n",
      " 1 ZIIZIZZI \n",
      " 1 IZIZIZIZ \n",
      " 1 IIZZZZII\n"
     ]
    }
   ],
   "source": [
    "taper_hamiltonian = QubitTapering(molecule.H_q)\n",
    "\n",
    "print(f'We are able to taper {taper_hamiltonian.n_taper} qubits from the Hamiltonian.\\n')\n",
    "print('The symmetry generators are\\n')\n",
    "print(taper_hamiltonian.symmetry_generators)\n",
    "# print('\\nand may be rotated onto the single-qubit Pauli operators\\n')\n",
    "# print(taper_hamiltonian.stabilizers.rotate_onto_single_qubit_paulis())\n",
    "# print('\\nvia a sequence of rotations e^{i pi/4 R} where\\n')\n",
    "# for index, (rot, angle) in enumerate(taper_hamiltonian.stabilizers.stabilizer_rotations):\n",
    "#     print(f'R_{index} = {rot}')"
   ]
  },
  {
   "cell_type": "code",
   "execution_count": 45,
   "id": "858b4083",
   "metadata": {},
   "outputs": [
    {
     "data": {
      "text/plain": [
       "array([1, 1, 1, 1, 0, 0, 0, 0])"
      ]
     },
     "execution_count": 45,
     "metadata": {},
     "output_type": "execute_result"
    }
   ],
   "source": [
    "molecule.hf_array"
   ]
  },
  {
   "cell_type": "code",
   "execution_count": 11,
   "id": "e2e5a0e1",
   "metadata": {},
   "outputs": [],
   "source": [
    "from openfermion import FermionOperator\n",
    "import numpy as np\n",
    "\n",
    "def parity_operators(N_qubits):\n",
    "    \"\"\"\n",
    "    note order is assumed to be spin up, spin down, spin up, spin down ... etc\n",
    "    \n",
    "    each op is built as product of parities of individual sites!\n",
    "    \n",
    "    https://arxiv.org/pdf/1008.4346.pdf\n",
    "    \"\"\"\n",
    "    \n",
    "    parity_up = FermionOperator('', 1)\n",
    "    for spin_up_ind in np.arange(0,N_qubits, 2):\n",
    "        parity_up*= FermionOperator('', 1) - 2*FermionOperator(f'{spin_up_ind}^ {spin_up_ind}', 1)#\n",
    "    \n",
    "    parity_down = FermionOperator('',1)\n",
    "    for spin_down_ind in  np.arange(1,N_qubits, 2):\n",
    "        parity_down*= FermionOperator('', 1) - 2*FermionOperator(f'{spin_down_ind}^ {spin_down_ind}', 1)\n",
    "    \n",
    "    return parity_up, parity_down"
   ]
  },
  {
   "cell_type": "code",
   "execution_count": 18,
   "id": "c245ed00",
   "metadata": {},
   "outputs": [],
   "source": [
    "from openfermion import jordan_wigner, bravyi_kitaev\n",
    "\n",
    "up_parity, down_parity = parity_operators(len(molecule.hf_array))"
   ]
  },
  {
   "cell_type": "code",
   "execution_count": null,
   "id": "06fc7d2f",
   "metadata": {},
   "outputs": [],
   "source": []
  },
  {
   "cell_type": "code",
   "execution_count": 20,
   "id": "ac9ff6bd",
   "metadata": {},
   "outputs": [
    {
     "name": "stdout",
     "output_type": "stream",
     "text": [
      "(1+0j) [Z0 Z2]\n",
      "\n",
      "(1+0j) [Z1 Z3]\n"
     ]
    }
   ],
   "source": [
    "print(jordan_wigner(up_parity))\n",
    "print()\n",
    "print(jordan_wigner(down_parity))"
   ]
  },
  {
   "cell_type": "code",
   "execution_count": null,
   "id": "e68ac135",
   "metadata": {},
   "outputs": [],
   "source": [
    "# ZIZI (up)\n",
    "# IZIZ (down)\n",
    "# ###\n",
    "\n",
    "\n",
    "# 1 ZIIZ (a)\n",
    "# 1 IZIZ (b)\n",
    "# 1 IIZZ (c)\n",
    "\n",
    "\n",
    "# down == b\n",
    "\n",
    "# up == (a).(c)\n"
   ]
  },
  {
   "cell_type": "code",
   "execution_count": 19,
   "id": "8bda291c",
   "metadata": {
    "scrolled": true
   },
   "outputs": [
    {
     "name": "stdout",
     "output_type": "stream",
     "text": [
      "(1+0j) [Z0 Z2]\n",
      "\n",
      "(1+0j) [Z0 Z2 Z3]\n"
     ]
    }
   ],
   "source": [
    "print(bravyi_kitaev(up_parity))\n",
    "print()\n",
    "print(bravyi_kitaev(down_parity))"
   ]
  },
  {
   "cell_type": "code",
   "execution_count": 44,
   "id": "6cf17822",
   "metadata": {},
   "outputs": [
    {
     "name": "stdout",
     "output_type": "stream",
     "text": [
      " 1 ZIIZIZZI \n",
      " 1 IZIZIZIZ \n",
      " 1 IIZZZZII\n"
     ]
    }
   ],
   "source": [
    "taper_hamiltonian.stabilizers.update_sector(molecule.hf_array)\n",
    "\n",
    "print(taper_hamiltonian.symmetry_generators)"
   ]
  },
  {
   "cell_type": "code",
   "execution_count": 279,
   "id": "0fe613fe",
   "metadata": {},
   "outputs": [],
   "source": [
    "# molecule.H"
   ]
  },
  {
   "cell_type": "code",
   "execution_count": 21,
   "id": "f1ff2426",
   "metadata": {},
   "outputs": [
    {
     "data": {
      "text/plain": [
       "array([1, 1, 0, 0])"
      ]
     },
     "execution_count": 21,
     "metadata": {},
     "output_type": "execute_result"
    }
   ],
   "source": [
    "molecule.hf_array"
   ]
  },
  {
   "cell_type": "code",
   "execution_count": 22,
   "id": "f7fe5323",
   "metadata": {},
   "outputs": [],
   "source": [
    "HF_state = np.eye(2**molecule.n_qubits)[int(''.join(map(str, molecule.hf_array.tolist())), 2), :]"
   ]
  },
  {
   "cell_type": "code",
   "execution_count": 23,
   "id": "58d67792",
   "metadata": {},
   "outputs": [
    {
     "data": {
      "text/plain": [
       "True"
      ]
     },
     "execution_count": 23,
     "metadata": {},
     "output_type": "execute_result"
    }
   ],
   "source": [
    "from functools import reduce\n",
    "test = [np.array([[0],[1]]) if bit==1 else np.array([[1],[0]]) for bit in molecule.hf_array]\n",
    "test_state = reduce(np.kron, test)\n",
    "\n",
    "np.allclose(test_state.reshape([-1]), HF_state.reshape([-1]))"
   ]
  },
  {
   "cell_type": "code",
   "execution_count": null,
   "id": "eaf9e83f",
   "metadata": {},
   "outputs": [],
   "source": []
  },
  {
   "cell_type": "code",
   "execution_count": 24,
   "id": "9398ab72",
   "metadata": {},
   "outputs": [
    {
     "data": {
      "text/plain": [
       "(-1+0j)"
      ]
     },
     "execution_count": 24,
     "metadata": {},
     "output_type": "execute_result"
    }
   ],
   "source": [
    "from openfermion import get_sparse_operator\n",
    "\n",
    "HF_state.conj().T @get_sparse_operator(up_parity, n_qubits=molecule.n_qubits) @ HF_state"
   ]
  },
  {
   "cell_type": "code",
   "execution_count": 25,
   "id": "ab4200be",
   "metadata": {},
   "outputs": [
    {
     "data": {
      "text/plain": [
       "(-1+0j)"
      ]
     },
     "execution_count": 25,
     "metadata": {},
     "output_type": "execute_result"
    }
   ],
   "source": [
    "HF_state.conj().T @get_sparse_operator(down_parity, n_qubits=molecule.n_qubits) @ HF_state"
   ]
  },
  {
   "cell_type": "markdown",
   "id": "51faef2c",
   "metadata": {},
   "source": [
    "https://arxiv.org/pdf/1007.0586.pdf\n",
    "\n",
    "parity operator for site $i$ is:\n",
    "\n",
    "$$(-1)^{n_{i}}$$\n",
    "\n",
    "aka -1 to the power of number of particles on site $i$"
   ]
  },
  {
   "cell_type": "code",
   "execution_count": null,
   "id": "a98d2d50",
   "metadata": {},
   "outputs": [],
   "source": []
  },
  {
   "cell_type": "code",
   "execution_count": null,
   "id": "5bb291af",
   "metadata": {},
   "outputs": [],
   "source": []
  },
  {
   "cell_type": "markdown",
   "id": "ce81d0a0",
   "metadata": {},
   "source": [
    "https://arxiv.org/pdf/1008.4346.pdf"
   ]
  },
  {
   "cell_type": "code",
   "execution_count": 137,
   "id": "3159965a",
   "metadata": {},
   "outputs": [],
   "source": [
    "n_0 =  FermionOperator(f'{0}^ {0}', 1)\n",
    "n_1 =  FermionOperator(f'{1}^ {1}', 1)\n",
    "n_2 =  FermionOperator(f'{2}^ {2}', 1)\n",
    "n_3 =  FermionOperator(f'{3}^ {3}', 1)\n",
    "ni_list = [n_0, n_1, n_2, n_3]"
   ]
  },
  {
   "cell_type": "code",
   "execution_count": 138,
   "id": "1f57bbcf",
   "metadata": {},
   "outputs": [],
   "source": [
    "from openfermion import jordan_wigner, bravyi_kitaev\n",
    "\n",
    "j0,j1,j2,j3 = [jordan_wigner(n) for n in ni_list]\n",
    "\n",
    "q_list = [j0,j1,j2,j3]"
   ]
  },
  {
   "cell_type": "code",
   "execution_count": 139,
   "id": "baaf2cec",
   "metadata": {},
   "outputs": [
    {
     "data": {
      "text/plain": [
       "(0.5+0j) [] +\n",
       "(-0.5+0j) [Z0]"
      ]
     },
     "execution_count": 139,
     "metadata": {},
     "output_type": "execute_result"
    }
   ],
   "source": [
    "j0"
   ]
  },
  {
   "cell_type": "code",
   "execution_count": 140,
   "id": "8e5f4069",
   "metadata": {},
   "outputs": [
    {
     "data": {
      "text/plain": [
       "array([ 1.+0.j, -1.+0.j, -1.+0.j,  1.-0.j, -1.+0.j,  1.-0.j,  1.-0.j,\n",
       "       -1.+0.j, -1.+0.j,  1.-0.j,  1.-0.j, -1.+0.j,  1.-0.j, -1.+0.j,\n",
       "       -1.+0.j,  1.-0.j])"
      ]
     },
     "execution_count": 140,
     "metadata": {},
     "output_type": "execute_result"
    }
   ],
   "source": [
    "from scipy.linalg import expm\n",
    "\n",
    "ttt = [1j*np.pi*get_sparse_operator(op, n_qubits=4).todense() for op in q_list]\n",
    "\n",
    "pol = reduce(lambda x,y: x+y, ttt)\n",
    "\n",
    "exp_pol = expm(pol)\n",
    "np.where(expm(exp_pol)!=0)\n",
    "\n",
    "np.diag(exp_pol)"
   ]
  },
  {
   "cell_type": "code",
   "execution_count": 142,
   "id": "04fc2634",
   "metadata": {},
   "outputs": [],
   "source": [
    "H_mat = get_sparse_operator(molecule.H).todense()"
   ]
  },
  {
   "cell_type": "code",
   "execution_count": 144,
   "id": "25cfece2",
   "metadata": {},
   "outputs": [
    {
     "data": {
      "text/plain": [
       "matrix([[ True,  True,  True,  True,  True,  True,  True,  True,  True,\n",
       "          True,  True,  True,  True,  True,  True,  True],\n",
       "        [ True,  True,  True,  True,  True,  True,  True,  True,  True,\n",
       "          True,  True,  True,  True,  True,  True,  True],\n",
       "        [ True,  True,  True,  True,  True,  True,  True,  True,  True,\n",
       "          True,  True,  True,  True,  True,  True,  True],\n",
       "        [ True,  True,  True,  True,  True,  True,  True,  True,  True,\n",
       "          True,  True,  True,  True,  True,  True,  True],\n",
       "        [ True,  True,  True,  True,  True,  True,  True,  True,  True,\n",
       "          True,  True,  True,  True,  True,  True,  True],\n",
       "        [ True,  True,  True,  True,  True,  True,  True,  True,  True,\n",
       "          True,  True,  True,  True,  True,  True,  True],\n",
       "        [ True,  True,  True,  True,  True,  True,  True,  True,  True,\n",
       "          True,  True,  True,  True,  True,  True,  True],\n",
       "        [ True,  True,  True,  True,  True,  True,  True,  True,  True,\n",
       "          True,  True,  True,  True,  True,  True,  True],\n",
       "        [ True,  True,  True,  True,  True,  True,  True,  True,  True,\n",
       "          True,  True,  True,  True,  True,  True,  True],\n",
       "        [ True,  True,  True,  True,  True,  True,  True,  True,  True,\n",
       "          True,  True,  True,  True,  True,  True,  True],\n",
       "        [ True,  True,  True,  True,  True,  True,  True,  True,  True,\n",
       "          True,  True,  True,  True,  True,  True,  True],\n",
       "        [ True,  True,  True,  True,  True,  True,  True,  True,  True,\n",
       "          True,  True,  True,  True,  True,  True,  True],\n",
       "        [ True,  True,  True,  True,  True,  True,  True,  True,  True,\n",
       "          True,  True,  True,  True,  True,  True,  True],\n",
       "        [ True,  True,  True,  True,  True,  True,  True,  True,  True,\n",
       "          True,  True,  True,  True,  True,  True,  True],\n",
       "        [ True,  True,  True,  True,  True,  True,  True,  True,  True,\n",
       "          True,  True,  True,  True,  True,  True,  True],\n",
       "        [ True,  True,  True,  True,  True,  True,  True,  True,  True,\n",
       "          True,  True,  True,  True,  True,  True,  True]])"
      ]
     },
     "execution_count": 144,
     "metadata": {},
     "output_type": "execute_result"
    }
   ],
   "source": [
    "H_mat@exp_pol == exp_pol@H_mat"
   ]
  },
  {
   "cell_type": "code",
   "execution_count": null,
   "id": "922ea0bc",
   "metadata": {},
   "outputs": [],
   "source": []
  },
  {
   "cell_type": "code",
   "execution_count": 145,
   "id": "f2a2c90c",
   "metadata": {},
   "outputs": [
    {
     "data": {
      "text/plain": [
       "0"
      ]
     },
     "execution_count": 145,
     "metadata": {},
     "output_type": "execute_result"
    }
   ],
   "source": [
    "FermionOperator()"
   ]
  },
  {
   "cell_type": "code",
   "execution_count": 146,
   "id": "9f640d4c",
   "metadata": {},
   "outputs": [],
   "source": []
  },
  {
   "cell_type": "code",
   "execution_count": 297,
   "id": "149a21ea",
   "metadata": {},
   "outputs": [],
   "source": [
    "import os\n",
    "import yaml"
   ]
  },
  {
   "cell_type": "code",
   "execution_count": 304,
   "id": "9331c4f0",
   "metadata": {},
   "outputs": [
    {
     "data": {
      "text/plain": [
       "[1, 1, 0, 0]"
      ]
     },
     "execution_count": 304,
     "metadata": {},
     "output_type": "execute_result"
    }
   ],
   "source": [
    "molecule.hf_array.tolist()\n"
   ]
  },
  {
   "cell_type": "code",
   "execution_count": 364,
   "id": "64937333",
   "metadata": {},
   "outputs": [],
   "source": [
    "data = {}\n",
    "H_dict = molecule.H_q.to_dictionary\n",
    "\n",
    "for key in H_dict.keys():\n",
    "    H_dict[key] = float(H_dict[key].real)\n",
    "\n",
    "# H_dict = {'cat': H_dict['IIII']}\n",
    "data['H'] = H_dict\n",
    "data['taper_reference'] = molecule.hf_array.tolist()"
   ]
  },
  {
   "cell_type": "code",
   "execution_count": 365,
   "id": "f94ef142",
   "metadata": {},
   "outputs": [
    {
     "data": {
      "text/plain": [
       "{'H': {'IIII': -0.09706626816763056,\n",
       "  'IIIZ': -0.2234315369081347,\n",
       "  'IIZI': -0.2234315369081347,\n",
       "  'IIZZ': 0.1744128761226159,\n",
       "  'IZII': 0.1714128264477691,\n",
       "  'IZIZ': 0.12062523483390414,\n",
       "  'IZZI': 0.1659278503377034,\n",
       "  'ZIII': 0.17141282644776906,\n",
       "  'ZIIZ': 0.1659278503377034,\n",
       "  'ZIZI': 0.12062523483390414,\n",
       "  'ZZII': 0.16868898170361205,\n",
       "  'XXYY': -0.045302615503799264,\n",
       "  'XYYX': 0.045302615503799264,\n",
       "  'YXXY': 0.045302615503799264,\n",
       "  'YYXX': -0.045302615503799264},\n",
       " 'taper_reference': [1, 1, 0, 0]}"
      ]
     },
     "execution_count": 365,
     "metadata": {},
     "output_type": "execute_result"
    }
   ],
   "source": [
    "data"
   ]
  },
  {
   "cell_type": "code",
   "execution_count": 366,
   "id": "c043a9fd",
   "metadata": {},
   "outputs": [],
   "source": [
    "out = os.path.join(os.getcwd(), 'H2_JW.yaml')\n",
    "with open(out, 'w') as file:\n",
    "    yaml.dump(data, file)"
   ]
  },
  {
   "cell_type": "code",
   "execution_count": null,
   "id": "a76d1685",
   "metadata": {},
   "outputs": [],
   "source": []
  },
  {
   "cell_type": "code",
   "execution_count": 367,
   "id": "27dde65c",
   "metadata": {},
   "outputs": [],
   "source": [
    "with open(out, \"r\") as stream:\n",
    "    try:\n",
    "        test = yaml.full_load(stream)\n",
    "    except yaml.YAMLError as exc:\n",
    "        print(exc)"
   ]
  },
  {
   "cell_type": "code",
   "execution_count": 368,
   "id": "30787640",
   "metadata": {},
   "outputs": [
    {
     "data": {
      "text/plain": [
       "{'H': {'IIII': -0.09706626816763056,\n",
       "  'IIIZ': -0.2234315369081347,\n",
       "  'IIZI': -0.2234315369081347,\n",
       "  'IIZZ': 0.1744128761226159,\n",
       "  'IZII': 0.1714128264477691,\n",
       "  'IZIZ': 0.12062523483390414,\n",
       "  'IZZI': 0.1659278503377034,\n",
       "  'XXYY': -0.045302615503799264,\n",
       "  'XYYX': 0.045302615503799264,\n",
       "  'YXXY': 0.045302615503799264,\n",
       "  'YYXX': -0.045302615503799264,\n",
       "  'ZIII': 0.17141282644776906,\n",
       "  'ZIIZ': 0.1659278503377034,\n",
       "  'ZIZI': 0.12062523483390414,\n",
       "  'ZZII': 0.16868898170361205},\n",
       " 'taper_reference': [1, 1, 0, 0]}"
      ]
     },
     "execution_count": 368,
     "metadata": {},
     "output_type": "execute_result"
    }
   ],
   "source": [
    "test"
   ]
  },
  {
   "cell_type": "code",
   "execution_count": null,
   "id": "6476d0ea",
   "metadata": {},
   "outputs": [],
   "source": []
  }
 ],
 "metadata": {
  "kernelspec": {
   "display_name": "Python 3 (ipykernel)",
   "language": "python",
   "name": "python3"
  },
  "language_info": {
   "codemirror_mode": {
    "name": "ipython",
    "version": 3
   },
   "file_extension": ".py",
   "mimetype": "text/x-python",
   "name": "python",
   "nbconvert_exporter": "python",
   "pygments_lexer": "ipython3",
   "version": "3.9.7"
  }
 },
 "nbformat": 4,
 "nbformat_minor": 5
}
