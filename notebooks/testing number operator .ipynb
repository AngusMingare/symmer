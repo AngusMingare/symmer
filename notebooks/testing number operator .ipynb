{
 "cells": [
  {
   "cell_type": "markdown",
   "id": "2f5c6e01",
   "metadata": {},
   "source": [
    "# A cautionary tale of ground state energy calculation\n",
    "\n",
    "When calculating the ground state energy of an electronic structure Hamiltonian, some care should be exercised. Converting the Hamiltonian to a sparse matrix and finding the least eigenvalue will not always be the _true_ ground state with respect to the system it represents, since the diagonalization scheme used may not inherently observe any symmetries present in the underlying physical system.\n",
    "\n",
    "Consider the following $H_3^+$ example, consisting of 2 electrons in 6 spin-orbitals..."
   ]
  },
  {
   "cell_type": "code",
   "execution_count": 258,
   "id": "29fc03b7",
   "metadata": {},
   "outputs": [
    {
     "name": "stdout",
     "output_type": "stream",
     "text": [
      "Molecule geometry:\n",
      "H\t0.0\t0.558243\t0.0\n",
      "H\t0.483452\t-0.279121\t0.0\n",
      "H\t-0.483452\t-0.279121\t0.0\n",
      "\n",
      "HF converged?   True\n",
      "CCSD converged? True\n",
      "FCI converged?  True\n",
      "\n",
      "HF energy:   -1.2468600063384467\n",
      "MP2 energy:  -1.2658602663569571\n",
      "CCSD energy: -1.2741446169583148\n",
      "FCI energy:  -1.2741444671239888\n",
      "\n",
      "\n",
      "Number of qubits: 6\n"
     ]
    }
   ],
   "source": [
    "from symmer.chemistry import MoleculeBuilder\n",
    "from symmer.symplectic import array_to_QuantumState\n",
    "from symmer.projection import QubitTapering\n",
    "\n",
    "basis='sto-3g'\n",
    "charge=+1\n",
    "geometry =[\n",
    "    (\"H\", [0., 0.558243000, 0.]),\n",
    "    (\"H\", [0.483452000, -0.279121000, 0.]),\n",
    "    (\"H\", [-0.483452000, -0.279121000, 0.])\n",
    "]\n",
    "molecule = MoleculeBuilder(geometry=geometry, charge=charge, basis=basis, spin=0, run_fci=True, print_info=True)"
   ]
  },
  {
   "cell_type": "markdown",
   "id": "1a12cea3",
   "metadata": {},
   "source": [
    "Naively computing the ground state energy by taking the smallest eigenvalue of the Hamiltonian does not match the FCI energy:"
   ]
  },
  {
   "cell_type": "code",
   "execution_count": 283,
   "id": "e8aebb80",
   "metadata": {},
   "outputs": [
    {
     "name": "stdout",
     "output_type": "stream",
     "text": [
      "Molecule geometry:\n",
      "H\t0.0\t0.0\t0.0\n",
      "H\t0.0\t0.0\t0.74\n",
      "\n",
      "HF converged?   True\n",
      "CCSD converged? True\n",
      "FCI converged?  True\n",
      "\n",
      "HF energy:   -1.1167593073964255\n",
      "MP2 energy:  -1.1298973809859585\n",
      "CCSD energy: -1.13728399861044\n",
      "FCI energy:  -1.1372838344885028\n",
      "\n",
      "\n",
      "Number of qubits: 4\n"
     ]
    }
   ],
   "source": [
    "from symmer.chemistry import MoleculeBuilder\n",
    "from symmer.symplectic import array_to_QuantumState\n",
    "\n",
    "basis='sto-3g'\n",
    "charge=0\n",
    "# geometry =[\n",
    "#     (\"H\", [0., 0.558243000, 0.]),\n",
    "#     (\"H\", [0.483452000, -0.279121000, 0.]),\n",
    "# #     (\"H\", [0.483452000, -0.279121000, 1.]),\n",
    "# #     (\"H\", [-0.483452000, -0.279121000, 0.])\n",
    "# ]\n",
    "\n",
    "geometry =[\n",
    "    (\"H\", [0., 0., 0.]),\n",
    "    (\"H\", [0., 0., 0.74]),\n",
    "]\n",
    "molecule = MoleculeBuilder(geometry=geometry, charge=charge, basis=basis, spin=0, run_fci=True, print_info=True)"
   ]
  },
  {
   "cell_type": "code",
   "execution_count": 284,
   "id": "55e0ea78",
   "metadata": {},
   "outputs": [
    {
     "name": "stdout",
     "output_type": "stream",
     "text": [
      "Least eigenvalue = -1.1372838344885017 | FCI error = 1.1102230246251565e-15\n"
     ]
    }
   ],
   "source": [
    "from symmer.utils import exact_gs_energy\n",
    "\n",
    "gs_nrg, gs_vec = exact_gs_energy(molecule.H_q.to_sparse_matrix)\n",
    "\n",
    "print(f'Least eigenvalue = {gs_nrg} | FCI error = {gs_nrg - molecule.fci_energy}')"
   ]
  },
  {
   "cell_type": "markdown",
   "id": "c632ed58",
   "metadata": {},
   "source": [
    "What has gone wrong here? Taking a look at the corresponding eigenvector, we see the identified state actually contains 3 particles, whereas the underlying system only contains 2:"
   ]
  },
  {
   "cell_type": "code",
   "execution_count": 285,
   "id": "15aef568",
   "metadata": {},
   "outputs": [
    {
     "name": "stdout",
     "output_type": "stream",
     "text": [
      "Eigenvector with eigenvalue -1.1372838344885017:\n",
      "\n",
      " 0.113+0.000j |0011> +\n",
      "-0.994+0.000j |1100>\n"
     ]
    }
   ],
   "source": [
    "psi = array_to_QuantumState(gs_vec).cleanup(zero_threshold=1e-5)\n",
    "print(f'Eigenvector with eigenvalue {gs_nrg}:\\n')\n",
    "print(psi)"
   ]
  },
  {
   "cell_type": "markdown",
   "id": "b51b93ff",
   "metadata": {},
   "source": [
    "To counter this issue, we instead need to select the least eigenvalue that contains the _correct_ number of particles. This is implemented in `symmer.chem.exact_gs_state`"
   ]
  },
  {
   "cell_type": "code",
   "execution_count": 286,
   "id": "5265519a",
   "metadata": {},
   "outputs": [
    {
     "name": "stdout",
     "output_type": "stream",
     "text": [
      "Least eigenvalue = -1.1372838344885017 | FCI error = 1.1102230246251565e-15\n",
      "\n",
      "Eigenvector with eigenvalue -1.1372838344885017:\n",
      "\n",
      " 0.113+0.000j |0011> +\n",
      "-0.994+0.000j |1100>\n"
     ]
    }
   ],
   "source": [
    "from symmer.chemistry import exact_gs_energy\n",
    "\n",
    "gs_nrg, gs_vec = exact_gs_energy(molecule.H_q.to_sparse_matrix, n_particles=2)\n",
    "psi = array_to_QuantumState(gs_vec).cleanup(zero_threshold=1e-5)\n",
    "\n",
    "print(f'Least eigenvalue = {gs_nrg} | FCI error = {gs_nrg - molecule.fci_energy}\\n')\n",
    "print(f'Eigenvector with eigenvalue {gs_nrg}:\\n')\n",
    "print(psi)"
   ]
  },
  {
   "cell_type": "markdown",
   "id": "a3066e1c",
   "metadata": {},
   "source": [
    "Success! We have now recovered the true ground state by enforcing that only solutions with the correct number of particles are considered. Note however it is possible that no solution is identified at first - in this case, increase the `n_eigs` parameter in `symmer.chem.exact_gs_state` to increase the search space."
   ]
  },
  {
   "cell_type": "code",
   "execution_count": 287,
   "id": "66b2f806",
   "metadata": {},
   "outputs": [
    {
     "data": {
      "text/plain": [
       "-0.097+0.000j IIII +\n",
       " 0.171+0.000j ZIII +\n",
       " 0.171+0.000j IZII +\n",
       "-0.223+0.000j IIZI +\n",
       "-0.223+0.000j IIIZ +\n",
       " 0.169+0.000j ZZII +\n",
       " 0.045+0.000j YXXY +\n",
       "-0.045+0.000j YYXX +\n",
       "-0.045+0.000j XXYY +\n",
       " 0.045+0.000j XYYX +\n",
       " 0.121+0.000j ZIZI +\n",
       " 0.166+0.000j ZIIZ +\n",
       " 0.166+0.000j IZZI +\n",
       " 0.121+0.000j IZIZ +\n",
       " 0.174+0.000j IIZZ"
      ]
     },
     "execution_count": 287,
     "metadata": {},
     "output_type": "execute_result"
    }
   ],
   "source": [
    "molecule.H_q"
   ]
  },
  {
   "cell_type": "code",
   "execution_count": 265,
   "id": "df941350",
   "metadata": {},
   "outputs": [
    {
     "name": "stdout",
     "output_type": "stream",
     "text": [
      "We are able to taper 3 qubits from the Hamiltonian.\n",
      "\n",
      "The symmetry generators are\n",
      "\n",
      " 1 ZIIZ \n",
      " 1 IZIZ \n",
      " 1 IIZZ\n"
     ]
    }
   ],
   "source": [
    "taper_hamiltonian = QubitTapering(molecule.H_q)\n",
    "\n",
    "print(f'We are able to taper {taper_hamiltonian.n_taper} qubits from the Hamiltonian.\\n')\n",
    "print('The symmetry generators are\\n')\n",
    "print(taper_hamiltonian.symmetry_generators)\n",
    "# print('\\nand may be rotated onto the single-qubit Pauli operators\\n')\n",
    "# print(taper_hamiltonian.stabilizers.rotate_onto_single_qubit_paulis())\n",
    "# print('\\nvia a sequence of rotations e^{i pi/4 R} where\\n')\n",
    "# for index, (rot, angle) in enumerate(taper_hamiltonian.stabilizers.stabilizer_rotations):\n",
    "#     print(f'R_{index} = {rot}')"
   ]
  },
  {
   "cell_type": "code",
   "execution_count": 280,
   "id": "e2e5a0e1",
   "metadata": {},
   "outputs": [],
   "source": [
    "from openfermion import FermionOperator\n",
    "import numpy as np\n",
    "\n",
    "def parity_operators(N_qubits):\n",
    "    \"\"\"\n",
    "    note order is assumed to be spin up, spin down, spin up, spin down ... etc\n",
    "    \n",
    "    each op is built as product of parities of individual sites!\n",
    "    \n",
    "    https://arxiv.org/pdf/1008.4346.pdf\n",
    "    \"\"\"\n",
    "    \n",
    "    parity_up = FermionOperator('', 1)\n",
    "    for spin_up_ind in np.arange(0,N_qubits, 2):\n",
    "        parity_up*= FermionOperator('', 1) - 2*FermionOperator(f'{spin_up_ind}^ {spin_up_ind}', 1)#\n",
    "    \n",
    "    parity_down = FermionOperator('',1)\n",
    "    for spin_down_ind in  np.arange(1,N_qubits, 2):\n",
    "        parity_down*= FermionOperator('', 1) - 2*FermionOperator(f'{spin_down_ind}^ {spin_down_ind}', 1)\n",
    "    \n",
    "    return parity_up, parity_down"
   ]
  },
  {
   "cell_type": "code",
   "execution_count": 281,
   "id": "c245ed00",
   "metadata": {},
   "outputs": [],
   "source": [
    "up_parity, down_parity = parity_operators(len(molecule.hf_array))"
   ]
  },
  {
   "cell_type": "code",
   "execution_count": 282,
   "id": "ac9ff6bd",
   "metadata": {},
   "outputs": [
    {
     "name": "stdout",
     "output_type": "stream",
     "text": [
      "(1+0j) [Z0 Z2]\n",
      "\n",
      "(1+0j) [Z1 Z3]\n"
     ]
    }
   ],
   "source": [
    "print(jordan_wigner(up_parity))\n",
    "print()\n",
    "print(jordan_wigner(down_parity))"
   ]
  },
  {
   "cell_type": "code",
   "execution_count": null,
   "id": "e68ac135",
   "metadata": {},
   "outputs": [],
   "source": [
    "ZIZI (up)\n",
    "IZIZ (down)\n",
    "###\n",
    "\n",
    "\n",
    "1 ZIIZ (a)\n",
    "1 IZIZ (b)\n",
    "1 IIZZ (c)\n",
    "\n",
    "\n",
    "down == b\n",
    "\n",
    "up == (a).(c)\n"
   ]
  },
  {
   "cell_type": "code",
   "execution_count": 256,
   "id": "8bda291c",
   "metadata": {
    "scrolled": true
   },
   "outputs": [
    {
     "name": "stdout",
     "output_type": "stream",
     "text": [
      "(1+0j) [Z0 Z2 Z4 Z6]\n",
      "\n",
      "(1+0j) [Z0 Z2 Z4 Z6 Z7]\n"
     ]
    }
   ],
   "source": [
    "print(bravyi_kitaev(up_parity))\n",
    "print()\n",
    "print(bravyi_kitaev(down_parity))"
   ]
  },
  {
   "cell_type": "code",
   "execution_count": 278,
   "id": "6cf17822",
   "metadata": {},
   "outputs": [
    {
     "name": "stdout",
     "output_type": "stream",
     "text": [
      "-1 ZIIZ \n",
      "-1 IZIZ \n",
      " 1 IIZZ\n"
     ]
    }
   ],
   "source": [
    "taper_hamiltonian.stabilizers.update_sector(molecule.hf_array)\n",
    "\n",
    "print(taper_hamiltonian.symmetry_generators)"
   ]
  },
  {
   "cell_type": "code",
   "execution_count": 279,
   "id": "0fe613fe",
   "metadata": {},
   "outputs": [],
   "source": [
    "# molecule.H"
   ]
  },
  {
   "cell_type": "code",
   "execution_count": 294,
   "id": "f1ff2426",
   "metadata": {},
   "outputs": [
    {
     "data": {
      "text/plain": [
       "array([1, 1, 0, 0])"
      ]
     },
     "execution_count": 294,
     "metadata": {},
     "output_type": "execute_result"
    }
   ],
   "source": [
    "molecule.hf_array"
   ]
  },
  {
   "cell_type": "code",
   "execution_count": 273,
   "id": "f7fe5323",
   "metadata": {},
   "outputs": [],
   "source": [
    "HF_state = np.eye(2**molecule.n_qubits)[int(''.join(map(str, molecule.hf_array.tolist())), 2), :]"
   ]
  },
  {
   "cell_type": "code",
   "execution_count": 274,
   "id": "58d67792",
   "metadata": {},
   "outputs": [
    {
     "data": {
      "text/plain": [
       "True"
      ]
     },
     "execution_count": 274,
     "metadata": {},
     "output_type": "execute_result"
    }
   ],
   "source": [
    "from functools import reduce\n",
    "test = [np.array([[0],[1]]) if bit==1 else np.array([[1],[0]]) for bit in molecule.hf_array]\n",
    "test_state = reduce(np.kron, test)\n",
    "\n",
    "np.allclose(test_state.reshape([-1]), HF_state.reshape([-1]))"
   ]
  },
  {
   "cell_type": "code",
   "execution_count": null,
   "id": "eaf9e83f",
   "metadata": {},
   "outputs": [],
   "source": []
  },
  {
   "cell_type": "code",
   "execution_count": 275,
   "id": "9398ab72",
   "metadata": {},
   "outputs": [
    {
     "data": {
      "text/plain": [
       "(-1+0j)"
      ]
     },
     "execution_count": 275,
     "metadata": {},
     "output_type": "execute_result"
    }
   ],
   "source": [
    "from openfermion import get_sparse_operator\n",
    "\n",
    "HF_state.conj().T @get_sparse_operator(up_parity, n_qubits=molecule.n_qubits) @ HF_state"
   ]
  },
  {
   "cell_type": "code",
   "execution_count": 276,
   "id": "ab4200be",
   "metadata": {},
   "outputs": [
    {
     "data": {
      "text/plain": [
       "(-1+0j)"
      ]
     },
     "execution_count": 276,
     "metadata": {},
     "output_type": "execute_result"
    }
   ],
   "source": [
    "HF_state.conj().T @get_sparse_operator(down_parity, n_qubits=molecule.n_qubits) @ HF_state"
   ]
  },
  {
   "cell_type": "markdown",
   "id": "51faef2c",
   "metadata": {},
   "source": [
    "https://arxiv.org/pdf/1007.0586.pdf\n",
    "\n",
    "parity operator for site $i$ is:\n",
    "\n",
    "$$(-1)^{n_{i}}$$\n",
    "\n",
    "aka -1 to the power of number of particles on site $i$"
   ]
  },
  {
   "cell_type": "code",
   "execution_count": null,
   "id": "a98d2d50",
   "metadata": {},
   "outputs": [],
   "source": []
  },
  {
   "cell_type": "code",
   "execution_count": null,
   "id": "5bb291af",
   "metadata": {},
   "outputs": [],
   "source": []
  },
  {
   "cell_type": "markdown",
   "id": "ce81d0a0",
   "metadata": {},
   "source": [
    "https://arxiv.org/pdf/1008.4346.pdf"
   ]
  },
  {
   "cell_type": "code",
   "execution_count": 137,
   "id": "3159965a",
   "metadata": {},
   "outputs": [],
   "source": [
    "n_0 =  FermionOperator(f'{0}^ {0}', 1)\n",
    "n_1 =  FermionOperator(f'{1}^ {1}', 1)\n",
    "n_2 =  FermionOperator(f'{2}^ {2}', 1)\n",
    "n_3 =  FermionOperator(f'{3}^ {3}', 1)\n",
    "ni_list = [n_0, n_1, n_2, n_3]"
   ]
  },
  {
   "cell_type": "code",
   "execution_count": 138,
   "id": "1f57bbcf",
   "metadata": {},
   "outputs": [],
   "source": [
    "from openfermion import jordan_wigner, bravyi_kitaev\n",
    "\n",
    "j0,j1,j2,j3 = [jordan_wigner(n) for n in ni_list]\n",
    "\n",
    "q_list = [j0,j1,j2,j3]"
   ]
  },
  {
   "cell_type": "code",
   "execution_count": 139,
   "id": "baaf2cec",
   "metadata": {},
   "outputs": [
    {
     "data": {
      "text/plain": [
       "(0.5+0j) [] +\n",
       "(-0.5+0j) [Z0]"
      ]
     },
     "execution_count": 139,
     "metadata": {},
     "output_type": "execute_result"
    }
   ],
   "source": [
    "j0"
   ]
  },
  {
   "cell_type": "code",
   "execution_count": 140,
   "id": "8e5f4069",
   "metadata": {},
   "outputs": [
    {
     "data": {
      "text/plain": [
       "array([ 1.+0.j, -1.+0.j, -1.+0.j,  1.-0.j, -1.+0.j,  1.-0.j,  1.-0.j,\n",
       "       -1.+0.j, -1.+0.j,  1.-0.j,  1.-0.j, -1.+0.j,  1.-0.j, -1.+0.j,\n",
       "       -1.+0.j,  1.-0.j])"
      ]
     },
     "execution_count": 140,
     "metadata": {},
     "output_type": "execute_result"
    }
   ],
   "source": [
    "from scipy.linalg import expm\n",
    "\n",
    "ttt = [1j*np.pi*get_sparse_operator(op, n_qubits=4).todense() for op in q_list]\n",
    "\n",
    "pol = reduce(lambda x,y: x+y, ttt)\n",
    "\n",
    "exp_pol = expm(pol)\n",
    "np.where(expm(exp_pol)!=0)\n",
    "\n",
    "np.diag(exp_pol)"
   ]
  },
  {
   "cell_type": "code",
   "execution_count": 142,
   "id": "04fc2634",
   "metadata": {},
   "outputs": [],
   "source": [
    "H_mat = get_sparse_operator(molecule.H).todense()"
   ]
  },
  {
   "cell_type": "code",
   "execution_count": 144,
   "id": "25cfece2",
   "metadata": {},
   "outputs": [
    {
     "data": {
      "text/plain": [
       "matrix([[ True,  True,  True,  True,  True,  True,  True,  True,  True,\n",
       "          True,  True,  True,  True,  True,  True,  True],\n",
       "        [ True,  True,  True,  True,  True,  True,  True,  True,  True,\n",
       "          True,  True,  True,  True,  True,  True,  True],\n",
       "        [ True,  True,  True,  True,  True,  True,  True,  True,  True,\n",
       "          True,  True,  True,  True,  True,  True,  True],\n",
       "        [ True,  True,  True,  True,  True,  True,  True,  True,  True,\n",
       "          True,  True,  True,  True,  True,  True,  True],\n",
       "        [ True,  True,  True,  True,  True,  True,  True,  True,  True,\n",
       "          True,  True,  True,  True,  True,  True,  True],\n",
       "        [ True,  True,  True,  True,  True,  True,  True,  True,  True,\n",
       "          True,  True,  True,  True,  True,  True,  True],\n",
       "        [ True,  True,  True,  True,  True,  True,  True,  True,  True,\n",
       "          True,  True,  True,  True,  True,  True,  True],\n",
       "        [ True,  True,  True,  True,  True,  True,  True,  True,  True,\n",
       "          True,  True,  True,  True,  True,  True,  True],\n",
       "        [ True,  True,  True,  True,  True,  True,  True,  True,  True,\n",
       "          True,  True,  True,  True,  True,  True,  True],\n",
       "        [ True,  True,  True,  True,  True,  True,  True,  True,  True,\n",
       "          True,  True,  True,  True,  True,  True,  True],\n",
       "        [ True,  True,  True,  True,  True,  True,  True,  True,  True,\n",
       "          True,  True,  True,  True,  True,  True,  True],\n",
       "        [ True,  True,  True,  True,  True,  True,  True,  True,  True,\n",
       "          True,  True,  True,  True,  True,  True,  True],\n",
       "        [ True,  True,  True,  True,  True,  True,  True,  True,  True,\n",
       "          True,  True,  True,  True,  True,  True,  True],\n",
       "        [ True,  True,  True,  True,  True,  True,  True,  True,  True,\n",
       "          True,  True,  True,  True,  True,  True,  True],\n",
       "        [ True,  True,  True,  True,  True,  True,  True,  True,  True,\n",
       "          True,  True,  True,  True,  True,  True,  True],\n",
       "        [ True,  True,  True,  True,  True,  True,  True,  True,  True,\n",
       "          True,  True,  True,  True,  True,  True,  True]])"
      ]
     },
     "execution_count": 144,
     "metadata": {},
     "output_type": "execute_result"
    }
   ],
   "source": [
    "H_mat@exp_pol == exp_pol@H_mat"
   ]
  },
  {
   "cell_type": "code",
   "execution_count": null,
   "id": "922ea0bc",
   "metadata": {},
   "outputs": [],
   "source": []
  },
  {
   "cell_type": "code",
   "execution_count": 145,
   "id": "f2a2c90c",
   "metadata": {},
   "outputs": [
    {
     "data": {
      "text/plain": [
       "0"
      ]
     },
     "execution_count": 145,
     "metadata": {},
     "output_type": "execute_result"
    }
   ],
   "source": [
    "FermionOperator()"
   ]
  },
  {
   "cell_type": "code",
   "execution_count": 146,
   "id": "9f640d4c",
   "metadata": {},
   "outputs": [],
   "source": []
  },
  {
   "cell_type": "code",
   "execution_count": 297,
   "id": "149a21ea",
   "metadata": {},
   "outputs": [],
   "source": [
    "import os\n",
    "import yaml"
   ]
  },
  {
   "cell_type": "code",
   "execution_count": 304,
   "id": "9331c4f0",
   "metadata": {},
   "outputs": [
    {
     "data": {
      "text/plain": [
       "[1, 1, 0, 0]"
      ]
     },
     "execution_count": 304,
     "metadata": {},
     "output_type": "execute_result"
    }
   ],
   "source": [
    "molecule.hf_array.tolist()\n"
   ]
  },
  {
   "cell_type": "code",
   "execution_count": 364,
   "id": "64937333",
   "metadata": {},
   "outputs": [],
   "source": [
    "data = {}\n",
    "H_dict = molecule.H_q.to_dictionary\n",
    "\n",
    "for key in H_dict.keys():\n",
    "    H_dict[key] = float(H_dict[key].real)\n",
    "\n",
    "# H_dict = {'cat': H_dict['IIII']}\n",
    "data['H'] = H_dict\n",
    "data['taper_reference'] = molecule.hf_array.tolist()"
   ]
  },
  {
   "cell_type": "code",
   "execution_count": 365,
   "id": "f94ef142",
   "metadata": {},
   "outputs": [
    {
     "data": {
      "text/plain": [
       "{'H': {'IIII': -0.09706626816763056,\n",
       "  'IIIZ': -0.2234315369081347,\n",
       "  'IIZI': -0.2234315369081347,\n",
       "  'IIZZ': 0.1744128761226159,\n",
       "  'IZII': 0.1714128264477691,\n",
       "  'IZIZ': 0.12062523483390414,\n",
       "  'IZZI': 0.1659278503377034,\n",
       "  'ZIII': 0.17141282644776906,\n",
       "  'ZIIZ': 0.1659278503377034,\n",
       "  'ZIZI': 0.12062523483390414,\n",
       "  'ZZII': 0.16868898170361205,\n",
       "  'XXYY': -0.045302615503799264,\n",
       "  'XYYX': 0.045302615503799264,\n",
       "  'YXXY': 0.045302615503799264,\n",
       "  'YYXX': -0.045302615503799264},\n",
       " 'taper_reference': [1, 1, 0, 0]}"
      ]
     },
     "execution_count": 365,
     "metadata": {},
     "output_type": "execute_result"
    }
   ],
   "source": [
    "data"
   ]
  },
  {
   "cell_type": "code",
   "execution_count": 366,
   "id": "c043a9fd",
   "metadata": {},
   "outputs": [],
   "source": [
    "out = os.path.join(os.getcwd(), 'H2_JW.yaml')\n",
    "with open(out, 'w') as file:\n",
    "    yaml.dump(data, file)"
   ]
  },
  {
   "cell_type": "code",
   "execution_count": null,
   "id": "a76d1685",
   "metadata": {},
   "outputs": [],
   "source": []
  },
  {
   "cell_type": "code",
   "execution_count": 367,
   "id": "27dde65c",
   "metadata": {},
   "outputs": [],
   "source": [
    "with open(out, \"r\") as stream:\n",
    "    try:\n",
    "        test = yaml.full_load(stream)\n",
    "    except yaml.YAMLError as exc:\n",
    "        print(exc)"
   ]
  },
  {
   "cell_type": "code",
   "execution_count": 368,
   "id": "30787640",
   "metadata": {},
   "outputs": [
    {
     "data": {
      "text/plain": [
       "{'H': {'IIII': -0.09706626816763056,\n",
       "  'IIIZ': -0.2234315369081347,\n",
       "  'IIZI': -0.2234315369081347,\n",
       "  'IIZZ': 0.1744128761226159,\n",
       "  'IZII': 0.1714128264477691,\n",
       "  'IZIZ': 0.12062523483390414,\n",
       "  'IZZI': 0.1659278503377034,\n",
       "  'XXYY': -0.045302615503799264,\n",
       "  'XYYX': 0.045302615503799264,\n",
       "  'YXXY': 0.045302615503799264,\n",
       "  'YYXX': -0.045302615503799264,\n",
       "  'ZIII': 0.17141282644776906,\n",
       "  'ZIIZ': 0.1659278503377034,\n",
       "  'ZIZI': 0.12062523483390414,\n",
       "  'ZZII': 0.16868898170361205},\n",
       " 'taper_reference': [1, 1, 0, 0]}"
      ]
     },
     "execution_count": 368,
     "metadata": {},
     "output_type": "execute_result"
    }
   ],
   "source": [
    "test"
   ]
  },
  {
   "cell_type": "code",
   "execution_count": null,
   "id": "6476d0ea",
   "metadata": {},
   "outputs": [],
   "source": []
  }
 ],
 "metadata": {
  "kernelspec": {
   "display_name": "Python 3 (ipykernel)",
   "language": "python",
   "name": "python3"
  },
  "language_info": {
   "codemirror_mode": {
    "name": "ipython",
    "version": 3
   },
   "file_extension": ".py",
   "mimetype": "text/x-python",
   "name": "python",
   "nbconvert_exporter": "python",
   "pygments_lexer": "ipython3",
   "version": "3.9.12"
  }
 },
 "nbformat": 4,
 "nbformat_minor": 5
}
