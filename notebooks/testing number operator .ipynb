{
 "cells": [
  {
   "cell_type": "markdown",
   "id": "2f5c6e01",
   "metadata": {},
   "source": [
    "# A cautionary tale of ground state energy calculation\n",
    "\n",
    "When calculating the ground state energy of an electronic structure Hamiltonian, some care should be exercised. Converting the Hamiltonian to a sparse matrix and finding the least eigenvalue will not always be the _true_ ground state with respect to the system it represents, since the diagonalization scheme used may not inherently observe any symmetries present in the underlying physical system.\n",
    "\n",
    "Consider the following $H_3^+$ example, consisting of 2 electrons in 6 spin-orbitals..."
   ]
  },
  {
   "cell_type": "code",
   "execution_count": 1,
   "id": "29fc03b7",
   "metadata": {},
   "outputs": [
    {
     "name": "stdout",
     "output_type": "stream",
     "text": [
      "Molecule geometry:\n",
      "H\t0.0\t0.558243\t0.0\n",
      "H\t0.483452\t-0.279121\t0.0\n",
      "H\t-0.483452\t-0.279121\t0.0\n",
      "\n",
      "HF converged?   True\n",
      "CCSD converged? True\n",
      "FCI converged?  True\n",
      "\n",
      "HF energy:   -1.2468600063384467\n",
      "MP2 energy:  -1.2658602663569571\n",
      "CCSD energy: -1.2741446169583148\n",
      "FCI energy:  -1.2741444671239888\n",
      "\n",
      "\n",
      "Number of qubits: 6\n"
     ]
    }
   ],
   "source": [
    "from symmer.chemistry import MoleculeBuilder\n",
    "from symmer.symplectic import array_to_QuantumState\n",
    "from symmer.projection import QubitTapering\n",
    "\n",
    "basis='sto-3g'\n",
    "charge=+1\n",
    "geometry =[\n",
    "    (\"H\", [0., 0.558243000, 0.]),\n",
    "    (\"H\", [0.483452000, -0.279121000, 0.]),\n",
    "    (\"H\", [-0.483452000, -0.279121000, 0.])\n",
    "]\n",
    "#geometry=[\n",
    "#    ('H', (0.0,0.0,0.0)),\n",
    "#    ('H', (2.45366053071732,0.0,0.0)),\n",
    "#    ('H', (2.45366053071732,2.45366053071732,0.0)),\n",
    "#    ('H', (0.0,2.45366053071732,0.0))\n",
    "#     ]  \n",
    "#charge=0\n",
    "molecule = MoleculeBuilder(\n",
    "    geometry=geometry, charge=charge, basis=basis, spin=0, run_fci=True, print_info=True,\n",
    "    qubit_mapping_str='jordan_wigner')"
   ]
  },
  {
   "cell_type": "markdown",
   "id": "1a12cea3",
   "metadata": {},
   "source": [
    "Naively computing the ground state energy by taking the smallest eigenvalue of the Hamiltonian does not match the FCI energy:"
   ]
  },
  {
   "cell_type": "code",
   "execution_count": 2,
   "id": "55e0ea78",
   "metadata": {},
   "outputs": [
    {
     "name": "stdout",
     "output_type": "stream",
     "text": [
      "Least eigenvalue = -1.3507306438907631 | FCI error = -0.07658617676677437\n"
     ]
    }
   ],
   "source": [
    "from symmer.utils import exact_gs_energy\n",
    "\n",
    "gs_nrg, gs_vec = exact_gs_energy(molecule.H_q.to_sparse_matrix)\n",
    "\n",
    "print(f'Least eigenvalue = {gs_nrg} | FCI error = {gs_nrg - molecule.fci_energy}')"
   ]
  },
  {
   "cell_type": "markdown",
   "id": "c632ed58",
   "metadata": {},
   "source": [
    "What has gone wrong here? Taking a look at the corresponding eigenvector, we see the identified state actually contains 3 particles, whereas the underlying system only contains 2:"
   ]
  },
  {
   "cell_type": "code",
   "execution_count": 3,
   "id": "15aef568",
   "metadata": {},
   "outputs": [
    {
     "name": "stdout",
     "output_type": "stream",
     "text": [
      "Eigenvector with eigenvalue -1.3507306438907631:\n",
      "\n",
      " 0.062+0.102j |001011> +\n",
      " 0.075+0.123j |100011> +\n",
      "-0.075-0.123j |101100> +\n",
      "-0.507-0.829j |111000>\n"
     ]
    }
   ],
   "source": [
    "psi = array_to_QuantumState(gs_vec).cleanup(zero_threshold=1e-5)\n",
    "print(f'Eigenvector with eigenvalue {gs_nrg}:\\n')\n",
    "print(psi)"
   ]
  },
  {
   "cell_type": "code",
   "execution_count": 4,
   "id": "74bf7310",
   "metadata": {},
   "outputs": [
    {
     "data": {
      "text/plain": [
       "array([1, 1, 0, 0, 0, 0])"
      ]
     },
     "execution_count": 4,
     "metadata": {},
     "output_type": "execute_result"
    }
   ],
   "source": [
    "molecule.hf_array"
   ]
  },
  {
   "cell_type": "code",
   "execution_count": 5,
   "id": "45990b7f",
   "metadata": {},
   "outputs": [
    {
     "name": "stdout",
     "output_type": "stream",
     "text": [
      "We are able to taper 3 qubits from the Hamiltonian.\n",
      "\n",
      "The symmetry generators are\n",
      "\n",
      " 1 ZIZIIZ \n",
      " 1 IZIZIZ \n",
      " 1 IIIIZZ\n"
     ]
    }
   ],
   "source": [
    "taper_hamiltonian = QubitTapering(molecule.H_q)\n",
    "\n",
    "print(f'We are able to taper {taper_hamiltonian.n_taper} qubits from the Hamiltonian.\\n')\n",
    "print('The symmetry generators are\\n')\n",
    "print(taper_hamiltonian.symmetry_generators)\n",
    "# print('\\nand may be rotated onto the single-qubit Pauli operators\\n')\n",
    "# print(taper_hamiltonian.stabilizers.rotate_onto_single_qubit_paulis())\n",
    "# print('\\nvia a sequence of rotations e^{i pi/4 R} where\\n')\n",
    "# for index, (rot, angle) in enumerate(taper_hamiltonian.stabilizers.stabilizer_rotations):\n",
    "#     print(f'R_{index} = {rot}')"
   ]
  },
  {
   "cell_type": "code",
   "execution_count": 7,
   "id": "03645ad7",
   "metadata": {},
   "outputs": [
    {
     "name": "stdout",
     "output_type": "stream",
     "text": [
      " 1.000+0.000j ZIZIZI  1.000+0.000j IZIZIZ\n",
      "-1\n",
      "-1\n",
      " 1 ZIZIIZ \n",
      " 1 IZIZIZ \n",
      " 1 IIIIZZ\n",
      "[1 0 1]\n",
      "[0 1 0]\n"
     ]
    }
   ],
   "source": [
    "import numpy as np\n",
    "\n",
    "up_op, down_op = molecule.up_down_parity_operators\n",
    "print(up_op, down_op)\n",
    "\n",
    "print((-1)**(np.sum(np.bitwise_and(up_op.Z_block, molecule.hf_array))%2))\n",
    "print((-1)**(np.sum(np.bitwise_and(down_op.Z_block, molecule.hf_array))%2))\n",
    "\n",
    "S = taper_hamiltonian.symmetry_generators\n",
    "print(S)\n",
    "print(up_op.basis_reconstruction(S)[0][0])\n",
    "print(down_op.basis_reconstruction(S)[0][0])"
   ]
  },
  {
   "cell_type": "code",
   "execution_count": 8,
   "id": "4ecda372",
   "metadata": {},
   "outputs": [
    {
     "name": "stdout",
     "output_type": "stream",
     "text": [
      "(0.999999999999952+0j)\n",
      "(-0.999999999999952+0j)\n",
      "(-1+0j)\n",
      "(-1+0j)\n"
     ]
    }
   ],
   "source": [
    "from symmer.symplectic import QuantumState\n",
    "\n",
    "print(psi.conjugate * up_op * psi)\n",
    "print(psi.conjugate * down_op * psi)\n",
    "\n",
    "hf_psi = QuantumState([molecule.hf_array])\n",
    "print(hf_psi.conjugate * up_op * hf_psi)\n",
    "print(hf_psi.conjugate * down_op * hf_psi)"
   ]
  },
  {
   "cell_type": "code",
   "execution_count": 9,
   "id": "de5195f5",
   "metadata": {},
   "outputs": [
    {
     "data": {
      "text/plain": [
       " 1.000 |110000>"
      ]
     },
     "execution_count": 9,
     "metadata": {},
     "output_type": "execute_result"
    }
   ],
   "source": [
    "hf_psi"
   ]
  },
  {
   "cell_type": "markdown",
   "id": "b51b93ff",
   "metadata": {},
   "source": [
    "To counter this issue, we instead need to select the least eigenvalue that contains the _correct_ number of particles. This is implemented in `symmer.chem.exact_gs_state`"
   ]
  },
  {
   "cell_type": "markdown",
   "id": "a3066e1c",
   "metadata": {},
   "source": [
    "Success! We have now recovered the true ground state by enforcing that only solutions with the correct number of particles are considered. Note however it is possible that no solution is identified at first - in this case, increase the `n_eigs` parameter in `symmer.chem.exact_gs_state` to increase the search space."
   ]
  },
  {
   "cell_type": "code",
   "execution_count": 12,
   "id": "98cca6aa",
   "metadata": {},
   "outputs": [
    {
     "data": {
      "text/plain": [
       " 3.000+0.000j IIIIII +\n",
       "-0.500+0.000j ZIIIII +\n",
       "-0.500+0.000j IZIIII +\n",
       "-0.500+0.000j IIZIII +\n",
       "-0.500+0.000j IIIZII +\n",
       "-0.500+0.000j IIIIZI +\n",
       "-0.500+0.000j IIIIIZ"
      ]
     },
     "execution_count": 12,
     "metadata": {},
     "output_type": "execute_result"
    }
   ],
   "source": [
    "molecule.number_operator"
   ]
  },
  {
   "cell_type": "code",
   "execution_count": 14,
   "id": "df941350",
   "metadata": {},
   "outputs": [
    {
     "data": {
      "text/plain": [
       " 3.000+0.000j III +\n",
       "-1.000+0.000j IIZ +\n",
       "-0.500+0.000j IZI +\n",
       " 0.500+0.000j IZZ +\n",
       "-0.500+0.000j ZII +\n",
       " 0.500+0.000j ZIZ"
      ]
     },
     "execution_count": 14,
     "metadata": {},
     "output_type": "execute_result"
    }
   ],
   "source": [
    "H_tap = taper_hamiltonian.taper_it(molecule.hf_array)\n",
    "\n",
    "number_op_tap = taper_hamiltonian.taper_it(molecule.hf_array, aux_operator=molecule.number_operator)\n",
    "number_op_tap"
   ]
  },
  {
   "cell_type": "code",
   "execution_count": 15,
   "id": "858b4083",
   "metadata": {},
   "outputs": [
    {
     "data": {
      "text/plain": [
       "-0.991+0.000j |000> +\n",
       "-0.094+0.000j |001> +\n",
       " 0.000+0.000j |010> +\n",
       " 0.000+0.000j |100> +\n",
       " 0.094+0.000j |110>"
      ]
     },
     "execution_count": 15,
     "metadata": {},
     "output_type": "execute_result"
    }
   ],
   "source": [
    "gs_nrg_tap, gs_vec_tap = exact_gs_energy(H_tap.to_sparse_matrix)\n",
    "gs_psi_tap = array_to_QuantumState(gs_vec_tap)\n",
    "gs_psi_tap"
   ]
  },
  {
   "cell_type": "code",
   "execution_count": 16,
   "id": "d457cf36",
   "metadata": {},
   "outputs": [
    {
     "data": {
      "text/plain": [
       "(1.9999999999999998+0j)"
      ]
     },
     "execution_count": 16,
     "metadata": {},
     "output_type": "execute_result"
    }
   ],
   "source": [
    "gs_psi_tap.conjugate * number_op_tap * gs_psi_tap"
   ]
  },
  {
   "cell_type": "code",
   "execution_count": 18,
   "id": "e3b8a180",
   "metadata": {},
   "outputs": [
    {
     "data": {
      "text/plain": [
       "(array([[0, 0, 0],\n",
       "        [0, 0, 0],\n",
       "        [0, 0, 0],\n",
       "        [0, 0, 0],\n",
       "        [1, 1, 0],\n",
       "        [1, 0, 1],\n",
       "        [1, 0, 0]]),\n",
       " array([0]))"
      ]
     },
     "execution_count": 18,
     "metadata": {},
     "output_type": "execute_result"
    }
   ],
   "source": [
    "molecule.number_operator.basis_reconstruction(S)"
   ]
  },
  {
   "cell_type": "code",
   "execution_count": 19,
   "id": "26f35b37",
   "metadata": {},
   "outputs": [
    {
     "name": "stdout",
     "output_type": "stream",
     "text": [
      "-1 ZIZIIZ \n",
      "-1 IZIZIZ \n",
      " 1 IIIIZZ\n"
     ]
    }
   ],
   "source": [
    "taper_hamiltonian.stabilizers.update_sector(molecule.hf_array)\n",
    "S = taper_hamiltonian.symmetry_generators\n",
    "print(S)"
   ]
  },
  {
   "cell_type": "code",
   "execution_count": 20,
   "id": "6f3e0183",
   "metadata": {},
   "outputs": [
    {
     "ename": "AssertionError",
     "evalue": "Index out of range",
     "output_type": "error",
     "traceback": [
      "\u001b[0;31m---------------------------------------------------------------------------\u001b[0m",
      "\u001b[0;31mAssertionError\u001b[0m                            Traceback (most recent call last)",
      "\u001b[0;32m/tmp/ipykernel_35451/2078642031.py\u001b[0m in \u001b[0;36m<module>\u001b[0;34m\u001b[0m\n\u001b[1;32m      1\u001b[0m \u001b[0;32mfrom\u001b[0m \u001b[0msymmer\u001b[0m\u001b[0;34m.\u001b[0m\u001b[0msymplectic\u001b[0m \u001b[0;32mimport\u001b[0m \u001b[0mStabilizerOp\u001b[0m\u001b[0;34m\u001b[0m\u001b[0;34m\u001b[0m\u001b[0m\n\u001b[1;32m      2\u001b[0m \u001b[0;34m\u001b[0m\u001b[0m\n\u001b[0;32m----> 3\u001b[0;31m \u001b[0ms1\u001b[0m \u001b[0;34m=\u001b[0m \u001b[0mS\u001b[0m\u001b[0;34m[\u001b[0m\u001b[0;36m0\u001b[0m\u001b[0;34m]\u001b[0m\u001b[0;34m*\u001b[0m\u001b[0mS\u001b[0m\u001b[0;34m[\u001b[0m\u001b[0;36m2\u001b[0m\u001b[0;34m]\u001b[0m\u001b[0;34m*\u001b[0m\u001b[0mS\u001b[0m\u001b[0;34m[\u001b[0m\u001b[0;36m3\u001b[0m\u001b[0;34m]\u001b[0m\u001b[0;34m\u001b[0m\u001b[0;34m\u001b[0m\u001b[0m\n\u001b[0m\u001b[1;32m      4\u001b[0m \u001b[0ms2\u001b[0m \u001b[0;34m=\u001b[0m \u001b[0mS\u001b[0m\u001b[0;34m[\u001b[0m\u001b[0;36m1\u001b[0m\u001b[0;34m]\u001b[0m\u001b[0;34m\u001b[0m\u001b[0;34m\u001b[0m\u001b[0m\n\u001b[1;32m      5\u001b[0m \u001b[0ms3\u001b[0m \u001b[0;34m=\u001b[0m \u001b[0mS\u001b[0m\u001b[0;34m[\u001b[0m\u001b[0;36m2\u001b[0m\u001b[0;34m]\u001b[0m\u001b[0;34m*\u001b[0m\u001b[0mup_op\u001b[0m\u001b[0;34m\u001b[0m\u001b[0;34m\u001b[0m\u001b[0m\n",
      "\u001b[0;32m~/anaconda3/lib/python3.8/site-packages/symmer/symplectic/base.py\u001b[0m in \u001b[0;36m__getitem__\u001b[0;34m(self, key)\u001b[0m\n\u001b[1;32m    398\u001b[0m                 \u001b[0;31m# allow negative subscript\u001b[0m\u001b[0;34m\u001b[0m\u001b[0;34m\u001b[0m\u001b[0;34m\u001b[0m\u001b[0m\n\u001b[1;32m    399\u001b[0m                 \u001b[0mkey\u001b[0m\u001b[0;34m+=\u001b[0m\u001b[0mself\u001b[0m\u001b[0;34m.\u001b[0m\u001b[0mn_terms\u001b[0m\u001b[0;34m\u001b[0m\u001b[0;34m\u001b[0m\u001b[0m\n\u001b[0;32m--> 400\u001b[0;31m             \u001b[0;32massert\u001b[0m\u001b[0;34m(\u001b[0m\u001b[0mkey\u001b[0m\u001b[0;34m<\u001b[0m\u001b[0mself\u001b[0m\u001b[0;34m.\u001b[0m\u001b[0mn_terms\u001b[0m\u001b[0;34m)\u001b[0m\u001b[0;34m,\u001b[0m \u001b[0;34m'Index out of range'\u001b[0m\u001b[0;34m\u001b[0m\u001b[0;34m\u001b[0m\u001b[0m\n\u001b[0m\u001b[1;32m    401\u001b[0m             \u001b[0mmask\u001b[0m \u001b[0;34m=\u001b[0m \u001b[0;34m[\u001b[0m\u001b[0mkey\u001b[0m\u001b[0;34m]\u001b[0m\u001b[0;34m\u001b[0m\u001b[0;34m\u001b[0m\u001b[0m\n\u001b[1;32m    402\u001b[0m         \u001b[0;32melif\u001b[0m \u001b[0misinstance\u001b[0m\u001b[0;34m(\u001b[0m\u001b[0mkey\u001b[0m\u001b[0;34m,\u001b[0m \u001b[0mslice\u001b[0m\u001b[0;34m)\u001b[0m\u001b[0;34m:\u001b[0m\u001b[0;34m\u001b[0m\u001b[0;34m\u001b[0m\u001b[0m\n",
      "\u001b[0;31mAssertionError\u001b[0m: Index out of range"
     ]
    }
   ],
   "source": [
    "from symmer.symplectic import StabilizerOp\n",
    "\n",
    "s1 = S[0]*S[2]*S[3]\n",
    "s2 = S[1]\n",
    "s3 = S[2]*up_op\n",
    "s4 = S[3]*up_op\n",
    "\n",
    "S_new = s1+s2+s3+s4\n",
    "\n",
    "S_new = StabilizerOp(S_new.symp_matrix, S_new.coeff_vec)\n",
    "S_new.update_sector(ref)\n",
    "print(S_new)\n",
    "print()\n",
    "S_new.update_sector(molecule.hf_array)\n",
    "print(S_new)"
   ]
  },
  {
   "cell_type": "code",
   "execution_count": 110,
   "id": "5f35888c",
   "metadata": {},
   "outputs": [
    {
     "data": {
      "text/plain": [
       "(1+0j)"
      ]
     },
     "execution_count": 110,
     "metadata": {},
     "output_type": "execute_result"
    }
   ],
   "source": [
    "hf_psi.conjugate * S_new[1] * hf_psi"
   ]
  },
  {
   "cell_type": "code",
   "execution_count": 111,
   "id": "44b0ed84",
   "metadata": {},
   "outputs": [
    {
     "name": "stdout",
     "output_type": "stream",
     "text": [
      " 1 ZIIZIZZI \n",
      " 1 IZIZIZIZ \n",
      "-1 IIZZIIII \n",
      "-1 IIIIZZII\n"
     ]
    }
   ],
   "source": [
    "ref = array_to_QuantumState(gs_vec).cleanup(zero_threshold=1e-5).sort()[0].state_matrix\n",
    "\n",
    "taper_hamiltonian.stabilizers.update_sector(ref)\n",
    "\n",
    "print(taper_hamiltonian.symmetry_generators)"
   ]
  },
  {
   "cell_type": "code",
   "execution_count": null,
   "id": "0501f24b",
   "metadata": {},
   "outputs": [],
   "source": []
  },
  {
   "cell_type": "code",
   "execution_count": 73,
   "id": "3a703feb",
   "metadata": {},
   "outputs": [
    {
     "name": "stdout",
     "output_type": "stream",
     "text": [
      " 1.000+0.000j ZIZIZIZI  1.000+0.000j IZIZIZIZ\n",
      "1\n",
      "1\n",
      "[1 0 1 1]\n",
      "[0 1 0 0]\n"
     ]
    }
   ],
   "source": []
  },
  {
   "cell_type": "code",
   "execution_count": 79,
   "id": "5ece0ac6",
   "metadata": {},
   "outputs": [
    {
     "data": {
      "text/plain": [
       " 4.000+0.000j IIIIIIII +\n",
       "-0.500+0.000j ZIIIIIII +\n",
       "-0.500+0.000j IZIIIIII +\n",
       "-0.500+0.000j IIZIIIII +\n",
       "-0.500+0.000j IIIZIIII +\n",
       "-0.500+0.000j IIIIZIII +\n",
       "-0.500+0.000j IIIIIZII +\n",
       "-0.500+0.000j IIIIIIZI +\n",
       "-0.500+0.000j IIIIIIIZ"
      ]
     },
     "execution_count": 79,
     "metadata": {},
     "output_type": "execute_result"
    }
   ],
   "source": [
    "molecule.get_number_operator"
   ]
  },
  {
   "cell_type": "code",
   "execution_count": 113,
   "id": "0fa73c4b",
   "metadata": {},
   "outputs": [
    {
     "name": "stdout",
     "output_type": "stream",
     "text": [
      " 1 ZIIZIZZI \n",
      " 1 IZIZIZIZ \n",
      "-1 IIZZIIII \n",
      "-1 IIIIZZII\n"
     ]
    }
   ],
   "source": [
    "ref = array_to_QuantumState(gs_vec).cleanup(zero_threshold=1e-5).sort()[0].state_matrix\n",
    "\n",
    "taper_hamiltonian.stabilizers = S_new\n",
    "taper_hamiltonian.stabilizers.update_sector(ref)\n",
    "\n",
    "print(taper_hamiltonian.symmetry_generators)"
   ]
  },
  {
   "cell_type": "code",
   "execution_count": 75,
   "id": "f1059aa6",
   "metadata": {},
   "outputs": [
    {
     "data": {
      "text/plain": [
       "0.009921175011486039"
      ]
     },
     "execution_count": 75,
     "metadata": {},
     "output_type": "execute_result"
    }
   ],
   "source": [
    "H_tap = taper_hamiltonian.taper_it(molecule.hf_array)\n",
    "exact_gs_energy(H_tap.to_sparse_matrix)[0] - molecule.fci_energy"
   ]
  },
  {
   "cell_type": "code",
   "execution_count": null,
   "id": "97103790",
   "metadata": {},
   "outputs": [],
   "source": []
  },
  {
   "cell_type": "code",
   "execution_count": 59,
   "id": "31231c82",
   "metadata": {},
   "outputs": [
    {
     "data": {
      "text/plain": [
       "( 1.000+0.000j ZIZIZIZI,  1.000+0.000j IZIZIZIZ)"
      ]
     },
     "execution_count": 59,
     "metadata": {},
     "output_type": "execute_result"
    }
   ],
   "source": [
    "up_op, down_op"
   ]
  },
  {
   "cell_type": "code",
   "execution_count": null,
   "id": "e2e5a0e1",
   "metadata": {},
   "outputs": [],
   "source": [
    "from openfermion import FermionOperator\n",
    "import numpy as np\n",
    "\n",
    "def parity_operators(N_qubits):\n",
    "    \"\"\"\n",
    "    note order is assumed to be spin up, spin down, spin up, spin down ... etc\n",
    "    \n",
    "    each op is built as product of parities of individual sites!\n",
    "    \n",
    "    https://arxiv.org/pdf/1008.4346.pdf\n",
    "    \"\"\"\n",
    "    \n",
    "    parity_up = FermionOperator('', 1)\n",
    "    for spin_up_ind in np.arange(0,N_qubits, 2):\n",
    "        parity_up*= FermionOperator('', 1) - 2*FermionOperator(f'{spin_up_ind}^ {spin_up_ind}', 1)#\n",
    "    \n",
    "    parity_down = FermionOperator('',1)\n",
    "    for spin_down_ind in  np.arange(1,N_qubits, 2):\n",
    "        parity_down*= FermionOperator('', 1) - 2*FermionOperator(f'{spin_down_ind}^ {spin_down_ind}', 1)\n",
    "    \n",
    "    return parity_up, parity_down"
   ]
  },
  {
   "cell_type": "code",
   "execution_count": null,
   "id": "c245ed00",
   "metadata": {},
   "outputs": [],
   "source": [
    "from openfermion import jordan_wigner, bravyi_kitaev\n",
    "\n",
    "up_parity, down_parity = parity_operators(len(molecule.hf_array))"
   ]
  },
  {
   "cell_type": "code",
   "execution_count": null,
   "id": "06fc7d2f",
   "metadata": {},
   "outputs": [],
   "source": []
  },
  {
   "cell_type": "code",
   "execution_count": null,
   "id": "ac9ff6bd",
   "metadata": {},
   "outputs": [],
   "source": [
    "print(jordan_wigner(up_parity))\n",
    "print()\n",
    "print(jordan_wigner(down_parity))"
   ]
  },
  {
   "cell_type": "code",
   "execution_count": null,
   "id": "e68ac135",
   "metadata": {},
   "outputs": [],
   "source": [
    "# ZIZI (up)\n",
    "# IZIZ (down)\n",
    "# ###\n",
    "\n",
    "\n",
    "# 1 ZIIZ (a)\n",
    "# 1 IZIZ (b)\n",
    "# 1 IIZZ (c)\n",
    "\n",
    "\n",
    "# down == b\n",
    "\n",
    "# up == (a).(c)\n"
   ]
  },
  {
   "cell_type": "code",
   "execution_count": null,
   "id": "8bda291c",
   "metadata": {
    "scrolled": true
   },
   "outputs": [],
   "source": [
    "print(bravyi_kitaev(up_parity))\n",
    "print()\n",
    "print(bravyi_kitaev(down_parity))"
   ]
  },
  {
   "cell_type": "code",
   "execution_count": null,
   "id": "6cf17822",
   "metadata": {},
   "outputs": [],
   "source": [
    "taper_hamiltonian.stabilizers.update_sector(molecule.hf_array)\n",
    "\n",
    "print(taper_hamiltonian.symmetry_generators)"
   ]
  },
  {
   "cell_type": "code",
   "execution_count": null,
   "id": "0fe613fe",
   "metadata": {},
   "outputs": [],
   "source": [
    "# molecule.H"
   ]
  },
  {
   "cell_type": "code",
   "execution_count": null,
   "id": "f1ff2426",
   "metadata": {},
   "outputs": [],
   "source": [
    "molecule.hf_array"
   ]
  },
  {
   "cell_type": "code",
   "execution_count": null,
   "id": "f7fe5323",
   "metadata": {},
   "outputs": [],
   "source": [
    "HF_state = np.eye(2**molecule.n_qubits)[int(''.join(map(str, molecule.hf_array.tolist())), 2), :]"
   ]
  },
  {
   "cell_type": "code",
   "execution_count": null,
   "id": "58d67792",
   "metadata": {},
   "outputs": [],
   "source": [
    "from functools import reduce\n",
    "test = [np.array([[0],[1]]) if bit==1 else np.array([[1],[0]]) for bit in molecule.hf_array]\n",
    "test_state = reduce(np.kron, test)\n",
    "\n",
    "np.allclose(test_state.reshape([-1]), HF_state.reshape([-1]))"
   ]
  },
  {
   "cell_type": "code",
   "execution_count": null,
   "id": "eaf9e83f",
   "metadata": {},
   "outputs": [],
   "source": []
  },
  {
   "cell_type": "code",
   "execution_count": null,
   "id": "9398ab72",
   "metadata": {},
   "outputs": [],
   "source": [
    "from openfermion import get_sparse_operator\n",
    "\n",
    "HF_state.conj().T @get_sparse_operator(up_parity, n_qubits=molecule.n_qubits) @ HF_state"
   ]
  },
  {
   "cell_type": "code",
   "execution_count": null,
   "id": "ab4200be",
   "metadata": {},
   "outputs": [],
   "source": [
    "HF_state.conj().T @get_sparse_operator(down_parity, n_qubits=molecule.n_qubits) @ HF_state"
   ]
  },
  {
   "cell_type": "markdown",
   "id": "51faef2c",
   "metadata": {},
   "source": [
    "https://arxiv.org/pdf/1007.0586.pdf\n",
    "\n",
    "parity operator for site $i$ is:\n",
    "\n",
    "$$(-1)^{n_{i}}$$\n",
    "\n",
    "aka -1 to the power of number of particles on site $i$"
   ]
  },
  {
   "cell_type": "code",
   "execution_count": null,
   "id": "a98d2d50",
   "metadata": {},
   "outputs": [],
   "source": []
  },
  {
   "cell_type": "code",
   "execution_count": null,
   "id": "5bb291af",
   "metadata": {},
   "outputs": [],
   "source": []
  },
  {
   "cell_type": "markdown",
   "id": "ce81d0a0",
   "metadata": {},
   "source": [
    "https://arxiv.org/pdf/1008.4346.pdf"
   ]
  },
  {
   "cell_type": "code",
   "execution_count": null,
   "id": "3159965a",
   "metadata": {},
   "outputs": [],
   "source": [
    "n_0 =  FermionOperator(f'{0}^ {0}', 1)\n",
    "n_1 =  FermionOperator(f'{1}^ {1}', 1)\n",
    "n_2 =  FermionOperator(f'{2}^ {2}', 1)\n",
    "n_3 =  FermionOperator(f'{3}^ {3}', 1)\n",
    "ni_list = [n_0, n_1, n_2, n_3]"
   ]
  },
  {
   "cell_type": "code",
   "execution_count": null,
   "id": "1f57bbcf",
   "metadata": {},
   "outputs": [],
   "source": [
    "from openfermion import jordan_wigner, bravyi_kitaev\n",
    "\n",
    "j0,j1,j2,j3 = [jordan_wigner(n) for n in ni_list]\n",
    "\n",
    "q_list = [j0,j1,j2,j3]"
   ]
  },
  {
   "cell_type": "code",
   "execution_count": null,
   "id": "baaf2cec",
   "metadata": {},
   "outputs": [],
   "source": [
    "j0"
   ]
  },
  {
   "cell_type": "code",
   "execution_count": null,
   "id": "8e5f4069",
   "metadata": {},
   "outputs": [],
   "source": [
    "from scipy.linalg import expm\n",
    "\n",
    "ttt = [1j*np.pi*get_sparse_operator(op, n_qubits=4).todense() for op in q_list]\n",
    "\n",
    "pol = reduce(lambda x,y: x+y, ttt)\n",
    "\n",
    "exp_pol = expm(pol)\n",
    "np.where(expm(exp_pol)!=0)\n",
    "\n",
    "np.diag(exp_pol)"
   ]
  },
  {
   "cell_type": "code",
   "execution_count": null,
   "id": "04fc2634",
   "metadata": {},
   "outputs": [],
   "source": [
    "H_mat = get_sparse_operator(molecule.H).todense()"
   ]
  },
  {
   "cell_type": "code",
   "execution_count": null,
   "id": "25cfece2",
   "metadata": {},
   "outputs": [],
   "source": [
    "H_mat@exp_pol == exp_pol@H_mat"
   ]
  },
  {
   "cell_type": "code",
   "execution_count": null,
   "id": "922ea0bc",
   "metadata": {},
   "outputs": [],
   "source": []
  },
  {
   "cell_type": "code",
   "execution_count": null,
   "id": "f2a2c90c",
   "metadata": {},
   "outputs": [],
   "source": [
    "FermionOperator()"
   ]
  },
  {
   "cell_type": "code",
   "execution_count": null,
   "id": "9f640d4c",
   "metadata": {},
   "outputs": [],
   "source": []
  },
  {
   "cell_type": "code",
   "execution_count": null,
   "id": "149a21ea",
   "metadata": {},
   "outputs": [],
   "source": [
    "import os\n",
    "import yaml"
   ]
  },
  {
   "cell_type": "code",
   "execution_count": null,
   "id": "9331c4f0",
   "metadata": {},
   "outputs": [],
   "source": [
    "molecule.hf_array.tolist()\n"
   ]
  },
  {
   "cell_type": "code",
   "execution_count": null,
   "id": "64937333",
   "metadata": {},
   "outputs": [],
   "source": [
    "data = {}\n",
    "H_dict = molecule.H_q.to_dictionary\n",
    "\n",
    "for key in H_dict.keys():\n",
    "    H_dict[key] = float(H_dict[key].real)\n",
    "\n",
    "# H_dict = {'cat': H_dict['IIII']}\n",
    "data['H'] = H_dict\n",
    "data['taper_reference'] = molecule.hf_array.tolist()"
   ]
  },
  {
   "cell_type": "code",
   "execution_count": null,
   "id": "f94ef142",
   "metadata": {},
   "outputs": [],
   "source": [
    "data"
   ]
  },
  {
   "cell_type": "code",
   "execution_count": null,
   "id": "c043a9fd",
   "metadata": {},
   "outputs": [],
   "source": [
    "out = os.path.join(os.getcwd(), 'H2_JW.yaml')\n",
    "with open(out, 'w') as file:\n",
    "    yaml.dump(data, file)"
   ]
  },
  {
   "cell_type": "code",
   "execution_count": null,
   "id": "a76d1685",
   "metadata": {},
   "outputs": [],
   "source": []
  },
  {
   "cell_type": "code",
   "execution_count": null,
   "id": "27dde65c",
   "metadata": {},
   "outputs": [],
   "source": [
    "with open(out, \"r\") as stream:\n",
    "    try:\n",
    "        test = yaml.full_load(stream)\n",
    "    except yaml.YAMLError as exc:\n",
    "        print(exc)"
   ]
  },
  {
   "cell_type": "code",
   "execution_count": null,
   "id": "30787640",
   "metadata": {},
   "outputs": [],
   "source": [
    "test"
   ]
  },
  {
   "cell_type": "code",
   "execution_count": null,
   "id": "6476d0ea",
   "metadata": {},
   "outputs": [],
   "source": []
  },
  {
   "cell_type": "code",
   "execution_count": null,
   "id": "e8aebb80",
   "metadata": {},
   "outputs": [],
   "source": [
    "from symmer.chemistry import MoleculeBuilder\n",
    "from symmer.symplectic import array_to_QuantumState\n",
    "\n",
    "basis='sto-3g'\n",
    "charge=0\n",
    "geometry =[\n",
    "    (\"H\", [0., 0., 1.]),\n",
    "    (\"H\", [0., 1., 0]),\n",
    "    (\"H\", [0., 1., 1.]),\n",
    "    (\"H\", [0., 0., 0.])\n",
    "]\n",
    "\n",
    "# geometry =[\n",
    "#     (\"H\", [0., 0., 0.]),\n",
    "#     (\"H\", [0., 0., 0.74]),\n",
    "# ]\n",
    "molecule = MoleculeBuilder(geometry=geometry, charge=charge, basis=basis, spin=0, run_fci=True, print_info=True)"
   ]
  },
  {
   "cell_type": "code",
   "execution_count": null,
   "id": "04c9b103",
   "metadata": {},
   "outputs": [],
   "source": []
  }
 ],
 "metadata": {
  "kernelspec": {
   "display_name": "Python 3 (ipykernel)",
   "language": "python",
   "name": "python3"
  },
  "language_info": {
   "codemirror_mode": {
    "name": "ipython",
    "version": 3
   },
   "file_extension": ".py",
   "mimetype": "text/x-python",
   "name": "python",
   "nbconvert_exporter": "python",
   "pygments_lexer": "ipython3",
   "version": "3.8.8"
  }
 },
 "nbformat": 4,
 "nbformat_minor": 5
}
