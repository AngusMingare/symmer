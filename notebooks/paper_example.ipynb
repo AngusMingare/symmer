{
 "cells": [
  {
   "cell_type": "code",
   "execution_count": 1,
   "id": "4f41706e",
   "metadata": {},
   "outputs": [],
   "source": [
    "from symred.symplectic import PauliwordOp\n",
    "from symred.projection.cs_vqe import CS_VQE"
   ]
  },
  {
   "cell_type": "code",
   "execution_count": 496,
   "id": "5e630060",
   "metadata": {},
   "outputs": [],
   "source": [
    "H_full = {\n",
    " # noncon\n",
    " 'IIYI': 0.6,\n",
    " 'XYXI': 0.7,\n",
    " 'XZXI': 0.7,\n",
    " 'XZZI': 0.6,\n",
    " 'YXYI': 0.1,\n",
    "#  'ZYZI': 0.6,\n",
    "#  'ZZXI': 0.1,\n",
    " 'ZZZI': 0.7,\n",
    " 'IIIZ': 0.5,\n",
    "    \n",
    " # con\n",
    " 'XXXI': 0.1,\n",
    " 'XXYI': 0.5,\n",
    " 'XXZI': 0.2,\n",
    " 'YXXI': 0.2,\n",
    "#  'YYXI': 0.2,\n",
    " 'YYZI': 0.2,\n",
    " 'YZXI': 0.1,\n",
    " 'ZYYI': 0.1\n",
    "      }"
   ]
  },
  {
   "cell_type": "code",
   "execution_count": 1091,
   "id": "92425aec",
   "metadata": {},
   "outputs": [
    {
     "data": {
      "text/plain": [
       "0.600+0.000j IIYI +\n",
       "0.700+0.000j XYXI +\n",
       "0.700+0.000j XZXI +\n",
       "0.600+0.000j XZZI +\n",
       "0.100+0.000j YXYI +\n",
       "0.700+0.000j ZZZI +\n",
       "0.500+0.000j IIIZ +\n",
       "0.100+0.000j XXXI +\n",
       "0.500+0.000j XXYI +\n",
       "0.200+0.000j XXZI +\n",
       "0.200+0.000j YXXI +\n",
       "0.200+0.000j YYZI +\n",
       "0.100+0.000j YZXI +\n",
       "0.100+0.000j ZYYI"
      ]
     },
     "execution_count": 1091,
     "metadata": {},
     "output_type": "execute_result"
    }
   ],
   "source": [
    "H = PauliwordOp(H_full)\n",
    "H"
   ]
  },
  {
   "cell_type": "code",
   "execution_count": 4,
   "id": "62e5ed69",
   "metadata": {},
   "outputs": [],
   "source": [
    "cs_vqe_obj = CS_VQE(H)"
   ]
  },
  {
   "cell_type": "code",
   "execution_count": 5,
   "id": "dfa415e0",
   "metadata": {},
   "outputs": [
    {
     "data": {
      "text/plain": [
       "0.100+0.000j XXXI +\n",
       "0.200+0.000j YXXI +\n",
       "0.100+0.000j YZXI +\n",
       "0.200+0.000j XXZI +\n",
       "0.500+0.000j XXYI +\n",
       "0.200+0.000j YYZI +\n",
       "0.100+0.000j ZYYI"
      ]
     },
     "execution_count": 5,
     "metadata": {},
     "output_type": "execute_result"
    }
   ],
   "source": [
    "# H_con\n",
    "cs_vqe_obj.contextual_operator"
   ]
  },
  {
   "cell_type": "code",
   "execution_count": 6,
   "id": "04db590f",
   "metadata": {},
   "outputs": [
    {
     "data": {
      "text/plain": [
       "0.700+0.000j XZXI +\n",
       "0.700+0.000j XYXI +\n",
       "0.600+0.000j IIYI +\n",
       "0.100+0.000j YXYI +\n",
       "0.600+0.000j XZZI +\n",
       "0.700+0.000j ZZZI +\n",
       "0.500+0.000j IIIZ"
      ]
     },
     "execution_count": 6,
     "metadata": {},
     "output_type": "execute_result"
    }
   ],
   "source": [
    "# H_noncon\n",
    "cs_vqe_obj.noncontextual_operator"
   ]
  },
  {
   "cell_type": "code",
   "execution_count": 7,
   "id": "fecf92b6",
   "metadata": {},
   "outputs": [
    {
     "data": {
      "text/plain": [
       "{'symmetry': 0.500+0.000j IIIZ,\n",
       " 'clique_0': 0.600+0.000j IIYI +\n",
       " 0.100+0.000j YXYI,\n",
       " 'clique_1': 0.700+0.000j XYXI +\n",
       " 0.600+0.000j XZZI,\n",
       " 'clique_2': 0.700+0.000j XZXI +\n",
       " 0.700+0.000j ZZZI}"
      ]
     },
     "execution_count": 7,
     "metadata": {},
     "output_type": "execute_result"
    }
   ],
   "source": [
    "#\n",
    "cs_vqe_obj.decomposed"
   ]
  },
  {
   "cell_type": "code",
   "execution_count": null,
   "id": "442b9ebc",
   "metadata": {},
   "outputs": [],
   "source": []
  },
  {
   "cell_type": "code",
   "execution_count": 8,
   "id": "6c26d3e5",
   "metadata": {},
   "outputs": [
    {
     "name": "stdout",
     "output_type": "stream",
     "text": [
      "[-0.25318281 -0.65828113 -0.70891778]\n"
     ]
    }
   ],
   "source": [
    "r_vec = cs_vqe_obj.clique_operator.coeff_vec\n",
    "print(r_vec)"
   ]
  },
  {
   "cell_type": "code",
   "execution_count": 9,
   "id": "ffc5f178",
   "metadata": {},
   "outputs": [
    {
     "data": {
      "text/plain": [
       "-0.253 IIYI +\n",
       "-0.658 XYXI +\n",
       "-0.709 XZXI"
      ]
     },
     "execution_count": 9,
     "metadata": {},
     "output_type": "execute_result"
    }
   ],
   "source": [
    "# A(r)\n",
    "cs_vqe_obj.clique_operator"
   ]
  },
  {
   "cell_type": "code",
   "execution_count": 10,
   "id": "e98d12e9",
   "metadata": {},
   "outputs": [
    {
     "data": {
      "text/plain": [
       "-1 YIYI \n",
       " 1 IXYI \n",
       "-1 IIIZ"
      ]
     },
     "execution_count": 10,
     "metadata": {},
     "output_type": "execute_result"
    }
   ],
   "source": [
    "# q_vec G\n",
    "cs_vqe_obj.symmetry_generators"
   ]
  },
  {
   "cell_type": "code",
   "execution_count": null,
   "id": "80d24570",
   "metadata": {},
   "outputs": [],
   "source": []
  },
  {
   "cell_type": "code",
   "execution_count": 11,
   "id": "a3820e92",
   "metadata": {},
   "outputs": [
    {
     "data": {
      "text/plain": [
       "-2.474841765808721"
      ]
     },
     "execution_count": 11,
     "metadata": {},
     "output_type": "execute_result"
    }
   ],
   "source": [
    "# E_noncon\n",
    "cs_vqe_obj.noncontextual_energy"
   ]
  },
  {
   "cell_type": "code",
   "execution_count": null,
   "id": "4a013e77",
   "metadata": {},
   "outputs": [],
   "source": []
  },
  {
   "cell_type": "code",
   "execution_count": 12,
   "id": "9243a052",
   "metadata": {},
   "outputs": [
    {
     "data": {
      "text/plain": [
       "1.000+0.000j IIYI"
      ]
     },
     "execution_count": 12,
     "metadata": {},
     "output_type": "execute_result"
    }
   ],
   "source": [
    "# term being reduced to via UP\n",
    "cs_vqe_obj.C0"
   ]
  },
  {
   "cell_type": "code",
   "execution_count": 13,
   "id": "dea000a7",
   "metadata": {},
   "outputs": [
    {
     "data": {
      "text/plain": [
       "[(1.000-0.000j XYZI, -4.34521811438243),\n",
       " (1.000-0.000j XZZI, (0.7879625990338508-0j))]"
      ]
     },
     "execution_count": 13,
     "metadata": {},
     "output_type": "execute_result"
    }
   ],
   "source": [
    "# unitary partitioning rots\n",
    "cs_vqe_obj.unitary_partitioning_rotations"
   ]
  },
  {
   "cell_type": "code",
   "execution_count": null,
   "id": "02be73c5",
   "metadata": {},
   "outputs": [],
   "source": []
  },
  {
   "cell_type": "code",
   "execution_count": 14,
   "id": "a0024083",
   "metadata": {},
   "outputs": [
    {
     "name": "stdout",
     "output_type": "stream",
     "text": [
      "term reducing too: 1.000+0.000j IIYI\n",
      "\n",
      "LCU:\n"
     ]
    },
    {
     "data": {
      "text/plain": [
       "0.611+0.000j IIII +\n",
       "0.000+0.580j XZZI +\n",
       "0.000+0.539j XYZI"
      ]
     },
     "execution_count": 14,
     "metadata": {},
     "output_type": "execute_result"
    }
   ],
   "source": [
    "LCU_rots , Ps = cs_vqe_obj.clique_operator.gen_LCU()\n",
    "\n",
    "print(f'term reducing too: {Ps}')\n",
    "print()\n",
    "print('LCU:')\n",
    "LCU_rots"
   ]
  },
  {
   "cell_type": "code",
   "execution_count": null,
   "id": "2b7ee84d",
   "metadata": {},
   "outputs": [],
   "source": []
  },
  {
   "cell_type": "code",
   "execution_count": null,
   "id": "2bf13508",
   "metadata": {},
   "outputs": [],
   "source": []
  },
  {
   "cell_type": "code",
   "execution_count": 15,
   "id": "f482f217",
   "metadata": {},
   "outputs": [
    {
     "data": {
      "text/plain": [
       "-0.500+0.000j I +\n",
       "-1.400+0.000j X +\n",
       "-1.300+0.000j Z +\n",
       "0.500+0.000j Y"
      ]
     },
     "execution_count": 15,
     "metadata": {},
     "output_type": "execute_result"
    }
   ],
   "source": [
    "stabs = PauliwordOp(['YIYI', 'IXYI', 'IIIZ'], [1,1,1])\n",
    "H_reduced = cs_vqe_obj.project_onto_subspace(stabilizers= stabs,\n",
    "                                             enforce_clique_operator= False)\n",
    "H_reduced"
   ]
  },
  {
   "cell_type": "code",
   "execution_count": 16,
   "id": "5370ac23",
   "metadata": {},
   "outputs": [
    {
     "data": {
      "text/plain": [
       "array([0, 1, 3])"
      ]
     },
     "execution_count": 16,
     "metadata": {},
     "output_type": "execute_result"
    }
   ],
   "source": [
    "cs_vqe_obj.stab_qubit_indices"
   ]
  },
  {
   "cell_type": "code",
   "execution_count": 17,
   "id": "821aeaf9",
   "metadata": {},
   "outputs": [
    {
     "data": {
      "text/plain": [
       "-1 ZIII \n",
       " 1 IZII \n",
       "-1 IIIZ"
      ]
     },
     "execution_count": 17,
     "metadata": {},
     "output_type": "execute_result"
    }
   ],
   "source": [
    "cs_vqe_obj.rotated_stabilizers"
   ]
  },
  {
   "cell_type": "code",
   "execution_count": 18,
   "id": "d3bb0cb3",
   "metadata": {},
   "outputs": [
    {
     "ename": "NameError",
     "evalue": "name 'P' is not defined",
     "output_type": "error",
     "traceback": [
      "\u001b[0;31m---------------------------------------------------------------------------\u001b[0m",
      "\u001b[0;31mNameError\u001b[0m                                 Traceback (most recent call last)",
      "\u001b[0;32m/var/folders/7l/9g4tmq2s5zg48_szmd8z7qh40000gn/T/ipykernel_94444/1206225298.py\u001b[0m in \u001b[0;36m<cell line: 1>\u001b[0;34m()\u001b[0m\n\u001b[0;32m----> 1\u001b[0;31m \u001b[0mP\u001b[0m \u001b[0;34m*\u001b[0m \u001b[0mP_rot\u001b[0m \u001b[0;34m-\u001b[0m \u001b[0mP_rot\u001b[0m\u001b[0;34m*\u001b[0m\u001b[0mP\u001b[0m\u001b[0;34m\u001b[0m\u001b[0;34m\u001b[0m\u001b[0m\n\u001b[0m",
      "\u001b[0;31mNameError\u001b[0m: name 'P' is not defined"
     ]
    }
   ],
   "source": [
    "P * P_rot - P_rot*P"
   ]
  },
  {
   "cell_type": "code",
   "execution_count": null,
   "id": "2c93a727",
   "metadata": {},
   "outputs": [],
   "source": [
    "P_rot.commutes(P)"
   ]
  },
  {
   "cell_type": "code",
   "execution_count": null,
   "id": "5db1ad40",
   "metadata": {},
   "outputs": [],
   "source": []
  },
  {
   "cell_type": "code",
   "execution_count": 188,
   "id": "e4c11afd",
   "metadata": {},
   "outputs": [],
   "source": [
    "LCU_rot_list = list(LCU_rots)\n",
    "I_term_LCU = LCU_rot_list[0]\n",
    "non_I_terms = LCU_rot_list[1:]\n",
    "\n",
    "empty_I = 'I'*H.n_qubits\n",
    "rot_H = PauliwordOp({empty_I: 0})\n",
    "dI2 = I_term_LCU.coeff_vec[0]**2\n",
    "two_dI = 2*I_term_LCU.coeff_vec[0]\n",
    "for j, P_rot in enumerate(non_I_terms):\n",
    "    for P in H:\n",
    "\n",
    "        dj_djstar = P_rot.coeff_vec[0]*P_rot.coeff_vec[0].conj()\n",
    "        if P.commutes(P_rot):\n",
    "            #vi = ci_di_di*\n",
    "            new_const = dI2 + dj_djstar\n",
    "            ci_dI2_vi_Pi = P.multiply_by_constant(new_const)\n",
    "            rot_H+= ci_dI2_vi_Pi\n",
    "        else:\n",
    "            new_const = dI2 - dj_djstar\n",
    "            ci_dI2_vi_Pi = P.multiply_by_constant(new_const)\n",
    "            rot_H-= ci_dI2_vi_Pi\n",
    "        \n",
    "        for k, P_rot2 in enumerate(non_I_terms):\n",
    "            if j!=k:\n",
    "                if not P_rot2.commutes(P):                    \n",
    "#                     # ci_dj_PjkPi\n",
    "#                     ci_dj_PjkPi = P_rot2 * P \n",
    "#                      # 2dI_ci_dj_PjkPi\n",
    "#                     rot_H+= ci_dj_PjkPi.multiply_by_constant(two_dI)\n",
    "\n",
    "                    # ci_dj_PjkPi\n",
    "                    neg_dI_ci_dj_PjkPi = (P * P_rot2).multiply_by_constant(-1*I_term_LCU.coeff_vec[0])\n",
    "                    dI_ci_dj_PiPijk = (P_rot2 * P).multiply_by_constant(I_term_LCU.coeff_vec[0])\n",
    "                     # 2dI_ci_dj_PjkPi\n",
    "                    print('t', dI_ci_dj_PiPijk +  neg_dI_ci_dj_PjkPi)\n",
    "                    rot_H+= (neg_dI_ci_dj_PjkPi+dI_ci_dj_PiPijk)\n"
   ]
  },
  {
   "cell_type": "code",
   "execution_count": 284,
   "id": "7364c0ad",
   "metadata": {},
   "outputs": [],
   "source": [
    "LCU_rot_list = list(LCU_rots)\n",
    "I_term_LCU = LCU_rot_list[0]\n",
    "non_I_terms = LCU_rot_list[1:]\n",
    "\n",
    "empty_I = 'I'*H.n_qubits\n",
    "rot_H = PauliwordOp({empty_I: 0})\n",
    "dI2 = I_term_LCU.coeff_vec[0]**2\n",
    "two_dI = 2*I_term_LCU.coeff_vec[0]\n",
    "for j, P_rot in enumerate(non_I_terms):\n",
    "    for P in H:\n",
    "\n",
    "        dj_djstar = P_rot.coeff_vec[0]*P_rot.coeff_vec[0].conj()\n",
    "        if P.commutes(P_rot):\n",
    "            #vi_Pi = ci_di_di*\n",
    "            vi_Pi = P.multiply_by_constant(dj_djstar)\n",
    "            dI2_ci_Pi = P.multiply_by_constant(dI2)\n",
    "            rot_H+= (dI2_ci_Pi + vi_Pi)\n",
    "        else:\n",
    "            #vi_Pi = ci_di_di*\n",
    "            neg_vi_Pi = P.multiply_by_constant(-1*P_rot.coeff_vec[0])\n",
    "            dI2_ci_Pi = P.multiply_by_constant(dI2)\n",
    "            rot_H+= (neg_vi_Pi - dI2_ci_Pi)\n"
   ]
  },
  {
   "cell_type": "code",
   "execution_count": 285,
   "id": "ffd1fd82",
   "metadata": {},
   "outputs": [
    {
     "data": {
      "text/plain": [
       "0.137+0.000j XXXI +\n",
       "-0.149-0.224j YXXI +\n",
       "0.203-0.406j XZXI +\n",
       "0.236-0.377j XYXI +\n",
       "0.034-0.054j YZXI +\n",
       "-0.149-0.224j XXZI +\n",
       "-0.448-0.671j IIYI +\n",
       "0.687+0.000j XXYI +\n",
       "-0.075-0.112j YXYI +\n",
       "0.202-0.323j XZZI +\n",
       "0.203-0.406j ZZZI +\n",
       "0.067-0.108j YYZI +\n",
       "0.029-0.058j ZYYI +\n",
       "0.687+0.000j IIIZ"
      ]
     },
     "execution_count": 285,
     "metadata": {},
     "output_type": "execute_result"
    }
   ],
   "source": [
    "rot_H"
   ]
  },
  {
   "cell_type": "code",
   "execution_count": 1153,
   "id": "157be3c2",
   "metadata": {},
   "outputs": [
    {
     "data": {
      "text/plain": []
     },
     "execution_count": 1153,
     "metadata": {},
     "output_type": "execute_result"
    }
   ],
   "source": [
    "empty_I = 'I'*H.n_qubits\n",
    "rot_H = PauliwordOp({empty_I: 0})\n",
    "dI2 = I_term_LCU.coeff_vec[0]**2\n",
    "two_dI = 2*I_term_LCU.coeff_vec[0]\n",
    "\n",
    " \n",
    "#equation B49\n",
    "rot_H = H.multiply_by_constant(dI2) # first term!\n",
    "for j, P_rot in enumerate(non_I_terms):\n",
    "    dj_djstar = P_rot.coeff_vec[0]*P_rot.coeff_vec[0].conj()\n",
    "    for P in H:\n",
    "        if P.commutes(P_rot):\n",
    "            #vi = ci_di_di*\n",
    "            vi_Pi = P.multiply_by_constant(dj_djstar)\n",
    "        else:\n",
    "            vi_Pi = P.multiply_by_constant(-1*dj_djstar)\n",
    "            \n",
    "#             # extra term from anticommuting part!\n",
    "#             ci_dj_PjkPi = P_rot * P \n",
    "#              # 2dI_ci_dj_PjkPi\n",
    "#             rot_H+= ci_dj_PjkPi.multiply_by_constant(two_dI)    \n",
    "        rot_H+= vi_Pi \n",
    "    \n",
    " \n",
    "        if not P.commutes(P_rot):\n",
    "            # extra term from anticommuting part!\n",
    "            ci_dj_PjkPi = P_rot * P \n",
    "             # 2dI_ci_dj_PjkPi\n",
    "            rot_H+= ci_dj_PjkPi.multiply_by_constant(two_dI)\n",
    "\n",
    "        for l in range(0,len(non_I_terms)):\n",
    "            Plk = non_I_terms[l]\n",
    "            if (P.commutes(Plk) and  (not P.commutes(P_rot))):\n",
    "                Pjk_Plk_Pi =  Plk*P_rot*P\n",
    "                rot_H+= Pjk_Plk_Pi\n",
    "                \n",
    "            if (not P.commutes(Plk) and   P.commutes(P_rot)):\n",
    "                Pjk_Plk_Pi =  P_rot*Plk*P\n",
    "                rot_H+= Pjk_Plk_Pi\n",
    "            \n",
    "        \n",
    "        \n",
    "out1 = LCU_rots * H * LCU_rots.conjugate\n",
    "out1 - rot_H"
   ]
  },
  {
   "cell_type": "code",
   "execution_count": 1152,
   "id": "4390d879",
   "metadata": {},
   "outputs": [
    {
     "data": {
      "text/plain": []
     },
     "execution_count": 1152,
     "metadata": {},
     "output_type": "execute_result"
    }
   ],
   "source": [
    "out1 = LCU_rots * H * LCU_rots.conjugate\n",
    "\n",
    "out1 - rot_H"
   ]
  },
  {
   "cell_type": "code",
   "execution_count": 1135,
   "id": "51f2dbbc",
   "metadata": {},
   "outputs": [
    {
     "data": {
      "text/plain": [
       "-0.395+0.000j IXII +\n",
       "0.100+0.000j XXXI +\n",
       "-0.132+0.000j ZIII +\n",
       "0.496+0.000j YIII +\n",
       "-0.122+0.000j YXXI +\n",
       "0.132+0.000j IZII +\n",
       "-0.142+0.000j IYII +\n",
       "0.217+0.000j XZXI +\n",
       "0.251+0.000j XYXI +\n",
       "0.066+0.000j ZZXI +\n",
       "0.042+0.000j YZXI +\n",
       "-0.071+0.000j ZYXI +\n",
       "0.062+0.000j YYXI +\n",
       "-0.051+0.000j XXZI +\n",
       "-1.109+0.000j IIYI +\n",
       "0.500+0.000j XXYI +\n",
       "0.066+0.000j ZXYI +\n",
       "-0.025+0.000j YXYI +\n",
       "0.252+0.000j XZZI +\n",
       "0.375+0.000j XYZI +\n",
       "0.229+0.000j ZZZI +\n",
       "-0.125+0.000j YZZI +\n",
       "-0.437+0.000j ZYZI +\n",
       "0.084+0.000j YYZI +\n",
       "-0.069+0.000j ZZYI +\n",
       "0.174+0.000j ZYYI +\n",
       "0.500+0.000j IIIZ"
      ]
     },
     "execution_count": 1135,
     "metadata": {},
     "output_type": "execute_result"
    }
   ],
   "source": [
    "LCU_rots * H * LCU_rots.conjugate"
   ]
  },
  {
   "cell_type": "code",
   "execution_count": 1124,
   "id": "981fe080",
   "metadata": {},
   "outputs": [
    {
     "data": {
      "text/plain": [
       "-0.395+0.000j IXII +\n",
       "0.100+0.000j XXXI +\n",
       "-0.132+0.000j ZIII +\n",
       "0.496+0.000j YIII +\n",
       "-0.122+0.000j YXXI +\n",
       "0.132+0.000j IZII +\n",
       "-0.142+0.000j IYII +\n",
       "0.436+0.000j XZXI +\n",
       "0.470+0.000j XYXI +\n",
       "0.066+0.000j ZZXI +\n",
       "0.042+0.000j YZXI +\n",
       "-0.071+0.000j ZYXI +\n",
       "0.031+0.000j YYXI +\n",
       "-0.051+0.000j XXZI +\n",
       "-1.109+0.000j IIYI +\n",
       "0.500+0.000j XXYI +\n",
       "0.066+0.000j ZXYI +\n",
       "-0.025+0.000j YXYI +\n",
       "0.252+0.000j XZZI +\n",
       "0.187+0.000j XYZI +\n",
       "0.229+0.000j ZZZI +\n",
       "-0.062+0.000j YZZI +\n",
       "-0.219+0.000j ZYZI +\n",
       "0.084+0.000j YYZI +\n",
       "-0.100+0.000j ZZYI +\n",
       "0.174+0.000j ZYYI +\n",
       "0.500+0.000j IIIZ"
      ]
     },
     "execution_count": 1124,
     "metadata": {},
     "output_type": "execute_result"
    }
   ],
   "source": [
    "# print(rot_H.cleanup().n_terms)\n",
    "rot_H"
   ]
  },
  {
   "cell_type": "code",
   "execution_count": 192,
   "id": "3b3902b4",
   "metadata": {},
   "outputs": [
    {
     "data": {
      "text/plain": [
       "0.600+0.000j IIYI +\n",
       "0.700+0.000j XYXI +\n",
       "0.700+0.000j XZXI +\n",
       "0.600+0.000j XZZI +\n",
       "0.100+0.000j YXYI +\n",
       "0.700+0.000j ZZZI +\n",
       "0.500+0.000j IIIZ +\n",
       "0.100+0.000j XXXI +\n",
       "0.500+0.000j XXYI +\n",
       "0.200+0.000j XXZI +\n",
       "0.200+0.000j YXXI +\n",
       "0.200+0.000j YYZI +\n",
       "0.100+0.000j YZXI +\n",
       "0.100+0.000j ZYYI"
      ]
     },
     "execution_count": 192,
     "metadata": {},
     "output_type": "execute_result"
    }
   ],
   "source": [
    "H"
   ]
  },
  {
   "cell_type": "code",
   "execution_count": 172,
   "id": "8bbbe740",
   "metadata": {},
   "outputs": [
    {
     "data": {
      "text/plain": [
       "-0.395+0.000j IXII +\n",
       "0.100+0.000j XXXI +\n",
       "-0.132+0.000j ZIII +\n",
       "0.496+0.000j YIII +\n",
       "-0.122+0.000j YXXI +\n",
       "0.132+0.000j IZII +\n",
       "-0.142+0.000j IYII +\n",
       "0.217+0.000j XZXI +\n",
       "0.251+0.000j XYXI +\n",
       "0.066+0.000j ZZXI +\n",
       "0.042+0.000j YZXI +\n",
       "-0.071+0.000j ZYXI +\n",
       "0.062+0.000j YYXI +\n",
       "-0.051+0.000j XXZI +\n",
       "-1.109+0.000j IIYI +\n",
       "0.500+0.000j XXYI +\n",
       "0.066+0.000j ZXYI +\n",
       "-0.025+0.000j YXYI +\n",
       "0.252+0.000j XZZI +\n",
       "0.375+0.000j XYZI +\n",
       "0.229+0.000j ZZZI +\n",
       "-0.125+0.000j YZZI +\n",
       "-0.437+0.000j ZYZI +\n",
       "0.084+0.000j YYZI +\n",
       "-0.069+0.000j ZZYI +\n",
       "0.174+0.000j ZYYI +\n",
       "0.500+0.000j IIIZ"
      ]
     },
     "execution_count": 172,
     "metadata": {},
     "output_type": "execute_result"
    }
   ],
   "source": [
    "LCU_rots * H * LCU_rots.conjugate"
   ]
  },
  {
   "cell_type": "code",
   "execution_count": 26,
   "id": "31e8b6cb",
   "metadata": {},
   "outputs": [
    {
     "data": {
      "text/plain": [
       "0.100+0.000j ZYYI"
      ]
     },
     "execution_count": 26,
     "metadata": {},
     "output_type": "execute_result"
    }
   ],
   "source": [
    "P"
   ]
  },
  {
   "cell_type": "code",
   "execution_count": 27,
   "id": "c06c1913",
   "metadata": {},
   "outputs": [
    {
     "data": {
      "text/plain": [
       "0.000+0.539j XYZI"
      ]
     },
     "execution_count": 27,
     "metadata": {},
     "output_type": "execute_result"
    }
   ],
   "source": [
    "P_rot"
   ]
  },
  {
   "cell_type": "code",
   "execution_count": 29,
   "id": "d1d09f15",
   "metadata": {},
   "outputs": [
    {
     "data": {
      "text/plain": [
       "0.000-0.108j YIXI"
      ]
     },
     "execution_count": 29,
     "metadata": {},
     "output_type": "execute_result"
    }
   ],
   "source": [
    "P.anticommutator(P_rot)"
   ]
  },
  {
   "cell_type": "code",
   "execution_count": null,
   "id": "d97b4c7a",
   "metadata": {},
   "outputs": [],
   "source": [
    "LCU_rot_list = list(LCU_rots)\n",
    "I_term_LCU = LCU_rot_list[0]\n",
    "non_I_terms = LCU_rot_list[1:]\n",
    "\n",
    "empty_I = 'I'*H.n_qubits\n",
    "rot_H = PauliwordOp({empty_I: 0})\n",
    "dI2 = I_term_LCU.coeff_vec[0]**2\n",
    "two_dI = 2*I_term_LCU.coeff_vec[0]\n",
    "for j, P_rot in enumerate(non_I_terms):\n",
    "    for P in H:\n",
    "        ci_dI2 = P.coeff_vec[0]*dI2\n",
    "        new_const = P_rot.coeff_vec[0]*P_rot.coeff_vec[0].conj()\n",
    "        if P.commutes(P_rot):\n",
    "            #vi = ci_di_di*\n",
    "            vi_Pi = P.multiply_by_constant(new_const)\n",
    "            # ci_dI2_vi_Pi\n",
    "            rot_H+= vi_Pi.multiply_by_constant(ci_dI2)\n",
    "        else:\n",
    "            vi_Pi = P.multiply_by_constant(-1*new_const)\n",
    "            # ci_dI2_vi_Pi\n",
    "            rot_H+= vi_Pi.multiply_by_constant(ci_dI2)\n",
    "        \n",
    "        for k, P_rot2 in enumerate(non_I_terms):\n",
    "            if j!=k:\n",
    "                if not P_rot2.commutes(P):                    \n",
    "                    # ci_dj_PjkPi\n",
    "                    ci_dj_PjkPi = P_rot2 * P \n",
    "                    \n",
    "                     # 2dI_ci_dj_PjkPi\n",
    "                    rot_H+= ci_dj_PjkPi.multiply_by_constant(two_dI)\n"
   ]
  },
  {
   "cell_type": "code",
   "execution_count": null,
   "id": "f09656f8",
   "metadata": {},
   "outputs": [],
   "source": []
  },
  {
   "cell_type": "code",
   "execution_count": 213,
   "id": "bf255b5d",
   "metadata": {},
   "outputs": [
    {
     "name": "stdout",
     "output_type": "stream",
     "text": [
      "0.000+1.000j IIZ\n",
      "0.000-1.000j IIZ\n"
     ]
    }
   ],
   "source": [
    "test = PauliwordOp({'XXX':1})\n",
    "test2 = PauliwordOp({'XXY':1})\n",
    "\n",
    "\n",
    "test3 = test*test2\n",
    "\n",
    "print(test3)\n",
    "print(test3.conjugate)"
   ]
  },
  {
   "cell_type": "code",
   "execution_count": 212,
   "id": "ea45dd59",
   "metadata": {},
   "outputs": [
    {
     "name": "stdout",
     "output_type": "stream",
     "text": [
      "0.000-0.500j IIZ\n"
     ]
    },
    {
     "data": {
      "text/plain": [
       "True"
      ]
     },
     "execution_count": 212,
     "metadata": {},
     "output_type": "execute_result"
    }
   ],
   "source": [
    "test4 = test2*test\n",
    "print(test4)\n",
    "\n",
    "test3.conjugate == test4\n"
   ]
  },
  {
   "cell_type": "code",
   "execution_count": null,
   "id": "83cdea49",
   "metadata": {},
   "outputs": [],
   "source": []
  },
  {
   "cell_type": "code",
   "execution_count": 222,
   "id": "2dcc48c0",
   "metadata": {},
   "outputs": [
    {
     "data": {
      "text/plain": [
       "True"
      ]
     },
     "execution_count": 222,
     "metadata": {},
     "output_type": "execute_result"
    }
   ],
   "source": [
    "test = PauliwordOp({'XXX':1})\n",
    "test2 = PauliwordOp({'XXY':1})\n",
    "\n",
    "# op = test+test2\n",
    "\n",
    "# op2 = test.conjugate + test2.conjugate\n",
    "\n",
    "# op2 == op.conjugate\n",
    "\n",
    "op3 = test*test2 \n",
    "op4 = test2*test\n",
    "\n",
    "op3 == op4.conjugate"
   ]
  },
  {
   "cell_type": "code",
   "execution_count": null,
   "id": "09d3615d",
   "metadata": {},
   "outputs": [],
   "source": []
  },
  {
   "cell_type": "code",
   "execution_count": 286,
   "id": "af63ff70",
   "metadata": {},
   "outputs": [
    {
     "data": {
      "text/plain": [
       "0.611+0.000j IIII +\n",
       "0.000+0.580j XZZI +\n",
       "0.000+0.539j XYZI"
      ]
     },
     "execution_count": 286,
     "metadata": {},
     "output_type": "execute_result"
    }
   ],
   "source": [
    "LCU_rots"
   ]
  },
  {
   "cell_type": "code",
   "execution_count": 347,
   "id": "ab82b507",
   "metadata": {},
   "outputs": [
    {
     "data": {
      "text/plain": [
       "0.250+0.000j XXXI +\n",
       "0.500+0.000j XXXX"
      ]
     },
     "execution_count": 347,
     "metadata": {},
     "output_type": "execute_result"
    }
   ],
   "source": [
    "LCU_rots * PauliwordOp({'XXXX':0.5, 'XXXI':0.25}) * LCU_rots.conjugate"
   ]
  },
  {
   "cell_type": "code",
   "execution_count": 309,
   "id": "6aa02c3b",
   "metadata": {},
   "outputs": [
    {
     "data": {
      "text/plain": [
       "0.37332099999999996"
      ]
     },
     "execution_count": 309,
     "metadata": {},
     "output_type": "execute_result"
    }
   ],
   "source": [
    "0.611*0.611"
   ]
  },
  {
   "cell_type": "code",
   "execution_count": 395,
   "id": "9d120865",
   "metadata": {},
   "outputs": [
    {
     "data": {
      "text/plain": [
       "0.954+0.000j XXXI +\n",
       "1.535+0.000j XXXX"
      ]
     },
     "execution_count": 395,
     "metadata": {},
     "output_type": "execute_result"
    }
   ],
   "source": [
    "empty_I = 'I'*H.n_qubits\n",
    "rot_H = PauliwordOp({empty_I: 0})\n",
    "dI2 = I_term_LCU.coeff_vec[0]**2\n",
    "two_dI = 2*I_term_LCU.coeff_vec[0]\n",
    "\n",
    " \n",
    "H =PauliwordOp({'XXXX':0.5, 'XXXI':0.25}) # PauliwordOp({'XXXX': 0.3})\n",
    "for j, P_rot in enumerate(non_I_terms):\n",
    "    dj_djstar = P_rot.coeff_vec[0]*P_rot.coeff_vec[0].conj()\n",
    "    for P in H:\n",
    "        if P.commutes(P_rot):\n",
    "            #vi = ci_di_di*\n",
    "            new_const =  dj_djstar\n",
    "            vi_Pi = P.multiply_by_constant(new_const)\n",
    "            ci_dI2_Pi= P.multiply_by_constant(two_dI)\n",
    "            rot_H+= vi_Pi + ci_dI2_Pi\n",
    "        else:\n",
    "            new_const = dI2 - dj_djstar\n",
    "            ci_dI2_vi_Pi = P.multiply_by_constant(new_const)\n",
    "            rot_H+= ci_dI2_vi_Pi\n",
    "        \n",
    "    rot_H+=P.multiply_by_constant(dI2)\n",
    "rot_H"
   ]
  },
  {
   "cell_type": "code",
   "execution_count": 390,
   "id": "ab7df8ca",
   "metadata": {},
   "outputs": [
    {
     "data": {
      "text/plain": [
       "0.250+0.000j XXXI +\n",
       "0.500+0.000j XXXX"
      ]
     },
     "execution_count": 390,
     "metadata": {},
     "output_type": "execute_result"
    }
   ],
   "source": [
    "LCU_rots * H * LCU_rots.conjugate"
   ]
  },
  {
   "cell_type": "code",
   "execution_count": 376,
   "id": "2349d37c",
   "metadata": {},
   "outputs": [
    {
     "data": {
      "text/plain": [
       "array([0.15664785+0.j, 0.3132957 +0.j])"
      ]
     },
     "execution_count": 376,
     "metadata": {},
     "output_type": "execute_result"
    }
   ],
   "source": [
    "rot_H.coeff_vec"
   ]
  },
  {
   "cell_type": "code",
   "execution_count": 379,
   "id": "c3ee7eb9",
   "metadata": {},
   "outputs": [
    {
     "data": {
      "text/plain": [
       "array([0.25+0.j, 0.5 +0.j])"
      ]
     },
     "execution_count": 379,
     "metadata": {},
     "output_type": "execute_result"
    }
   ],
   "source": [
    "rot_H.coeff_vec + dI2*PauliwordOp({'XXXI':0.25, 'XXXX':0.5}).coeff_vec"
   ]
  },
  {
   "cell_type": "code",
   "execution_count": 365,
   "id": "e6253a6b",
   "metadata": {},
   "outputs": [
    {
     "data": {
      "text/plain": [
       "0.093+0.000j XXXI +\n",
       "0.187+0.000j XXXX"
      ]
     },
     "execution_count": 365,
     "metadata": {},
     "output_type": "execute_result"
    }
   ],
   "source": [
    "LCU_rots[:1] * PauliwordOp({'XXXX':0.5, 'XXXI':0.25}) * LCU_rots[:1].conjugate"
   ]
  },
  {
   "cell_type": "code",
   "execution_count": 369,
   "id": "8e9f8ec7",
   "metadata": {},
   "outputs": [
    {
     "data": {
      "text/plain": [
       "array([0.1867043 +0.j, 0.09335215+0.j])"
      ]
     },
     "execution_count": 369,
     "metadata": {},
     "output_type": "execute_result"
    }
   ],
   "source": []
  },
  {
   "cell_type": "code",
   "execution_count": 355,
   "id": "d3e13205",
   "metadata": {},
   "outputs": [
    {
     "data": {
      "text/plain": [
       "array([0.1867043 +0.j, 0.09335215+0.j])"
      ]
     },
     "execution_count": 355,
     "metadata": {},
     "output_type": "execute_result"
    }
   ],
   "source": [
    "dI2*P.coeff_vec"
   ]
  },
  {
   "cell_type": "code",
   "execution_count": 370,
   "id": "ab92c8e3",
   "metadata": {},
   "outputs": [
    {
     "data": {
      "text/plain": [
       "array([0.34335215+0.j, 0.40664785+0.j])"
      ]
     },
     "execution_count": 370,
     "metadata": {},
     "output_type": "execute_result"
    }
   ],
   "source": [
    "rot_H.coeff_vec + dI2*PauliwordOp({'XXXX':0.5, 'XXXI':0.25}).coeff_vec"
   ]
  },
  {
   "cell_type": "code",
   "execution_count": 340,
   "id": "6315df3c",
   "metadata": {},
   "outputs": [
    {
     "data": {
      "text/plain": [
       "array([0.5+0.j])"
      ]
     },
     "execution_count": 340,
     "metadata": {},
     "output_type": "execute_result"
    }
   ],
   "source": [
    "dI2 * 0.5  + rot_H.coeff_vec "
   ]
  },
  {
   "cell_type": "code",
   "execution_count": 413,
   "id": "24c85579",
   "metadata": {},
   "outputs": [
    {
     "data": {
      "text/plain": [
       "[0.000+0.580j XZZI, 0.000+0.539j XYZI]"
      ]
     },
     "execution_count": 413,
     "metadata": {},
     "output_type": "execute_result"
    }
   ],
   "source": [
    "non_I_terms"
   ]
  },
  {
   "cell_type": "code",
   "execution_count": 427,
   "id": "7b209309",
   "metadata": {},
   "outputs": [
    {
     "data": {
      "text/plain": [
       "0.250+0.000j XXXI +\n",
       "-0.127+0.000j YIII +\n",
       "-0.354+0.000j ZZZI +\n",
       "-0.329+0.000j ZYZI"
      ]
     },
     "execution_count": 427,
     "metadata": {},
     "output_type": "execute_result"
    }
   ],
   "source": [
    "empty_I = 'I'*H.n_qubits\n",
    "rot_H = PauliwordOp({empty_I: 0})\n",
    "dI2 = I_term_LCU.coeff_vec[0]**2\n",
    "two_dI = 2*I_term_LCU.coeff_vec[0]\n",
    "\n",
    " \n",
    "H =PauliwordOp({'YIII':0.5, 'XXXI':0.25}) # PauliwordOp({'XXXX': 0.3})\n",
    "\n",
    "#equation B49\n",
    "rot_H = H.multiply_by_constant(dI2) # first term!\n",
    "for j, P_rot in enumerate(non_I_terms):\n",
    "    dj_djstar = P_rot.coeff_vec[0]*P_rot.coeff_vec[0].conj()\n",
    "    for P in H:\n",
    "        if P.commutes(P_rot):\n",
    "            #vi = ci_di_di*\n",
    "            vi_Pi = P.multiply_by_constant(dj_djstar)\n",
    "        else:\n",
    "            vi_Pi = P.multiply_by_constant(-1*dj_djstar)\n",
    "        rot_H+= vi_Pi \n",
    "        \n",
    "        for l, P_rot2 in enumerate(non_I_terms):\n",
    "            if j!=l:\n",
    "                if not P_rot2.commutes(P):                    \n",
    "                    # ci_dj_PjkPi\n",
    "                    ci_dj_PjkPi = P_rot2 * P \n",
    "                    \n",
    "                     # 2dI_ci_dj_PjkPi\n",
    "                    rot_H+= ci_dj_PjkPi.multiply_by_constant(two_dI)\n",
    "rot_H"
   ]
  },
  {
   "cell_type": "code",
   "execution_count": 454,
   "id": "1ce23818",
   "metadata": {},
   "outputs": [
    {
     "data": {
      "text/plain": [
       "0.250+0.000j XXXI +\n",
       "-0.127+0.000j YIII +\n",
       "-0.354+0.000j ZZZI +\n",
       "-0.329+0.000j ZYZI"
      ]
     },
     "execution_count": 454,
     "metadata": {},
     "output_type": "execute_result"
    }
   ],
   "source": [
    "empty_I = 'I'*H.n_qubits\n",
    "rot_H = PauliwordOp({empty_I: 0})\n",
    "dI2 = I_term_LCU.coeff_vec[0]**2\n",
    "two_dI = 2*I_term_LCU.coeff_vec[0]\n",
    "\n",
    " \n",
    "H =PauliwordOp({'YIII':0.5, 'XXXI':0.25}) # PauliwordOp({'XXXX': 0.3})\n",
    "\n",
    "#equation B49\n",
    "rot_H = H.multiply_by_constant(dI2) # first term!\n",
    "for j, P_rot in enumerate(non_I_terms):\n",
    "    dj_djstar = P_rot.coeff_vec[0]*P_rot.coeff_vec[0].conj()\n",
    "    for P in H:\n",
    "        if P.commutes(P_rot):\n",
    "            #vi = ci_di_di*\n",
    "            vi_Pi = P.multiply_by_constant(dj_djstar)\n",
    "        else:\n",
    "            vi_Pi = P.multiply_by_constant(-1*dj_djstar)\n",
    "        rot_H+= vi_Pi \n",
    "        \n",
    "        for l, P_rot2 in enumerate(non_I_terms):\n",
    "            if j!=l:\n",
    "                if not P_rot2.commutes(P):                    \n",
    "                    # ci_dj_PjkPi\n",
    "                    ci_dj_PjkPi = P_rot2 * P \n",
    "\n",
    "                     # 2dI_ci_dj_PjkPi\n",
    "                    rot_H+= ci_dj_PjkPi.multiply_by_constant(two_dI)\n",
    "rot_H"
   ]
  },
  {
   "cell_type": "code",
   "execution_count": 438,
   "id": "319379bd",
   "metadata": {},
   "outputs": [
    {
     "data": {
      "text/plain": [
       "0.250+0.000j XXXI +\n",
       "-0.127+0.000j YIII +\n",
       "-0.354+0.000j ZZZI +\n",
       "-0.329+0.000j ZYZI"
      ]
     },
     "execution_count": 438,
     "metadata": {},
     "output_type": "execute_result"
    }
   ],
   "source": [
    "LCU_rots * H * LCU_rots.conjugate"
   ]
  },
  {
   "cell_type": "code",
   "execution_count": 455,
   "id": "0988fa3b",
   "metadata": {},
   "outputs": [
    {
     "data": {
      "text/plain": [
       "0.250+0.000j XXXI +\n",
       "-0.127+0.000j YIII"
      ]
     },
     "execution_count": 455,
     "metadata": {},
     "output_type": "execute_result"
    }
   ],
   "source": [
    "empty_I = 'I'*H.n_qubits\n",
    "rot_H = PauliwordOp({empty_I: 0})\n",
    "dI2 = I_term_LCU.coeff_vec[0]**2\n",
    "two_dI = 2*I_term_LCU.coeff_vec[0]\n",
    "\n",
    " \n",
    "H =PauliwordOp({'YIII':0.5, 'XXXI':0.25}) # PauliwordOp({'XXXX': 0.3})\n",
    "\n",
    "#equation B49\n",
    "rot_H = H.multiply_by_constant(dI2) # first term!\n",
    "for j, P_rot in enumerate(non_I_terms):\n",
    "    dj_djstar = P_rot.coeff_vec[0]*P_rot.coeff_vec[0].conj()\n",
    "    for P in H:\n",
    "        if P.commutes(P_rot):\n",
    "            #vi = ci_di_di*\n",
    "            vi_Pi = P.multiply_by_constant(dj_djstar)\n",
    "        else:\n",
    "            vi_Pi = P.multiply_by_constant(-1*dj_djstar)\n",
    "        rot_H+= vi_Pi \n",
    "        \n",
    "rot_H"
   ]
  },
  {
   "cell_type": "code",
   "execution_count": null,
   "id": "b2b21161",
   "metadata": {},
   "outputs": [],
   "source": []
  },
  {
   "cell_type": "code",
   "execution_count": null,
   "id": "fc3ed213",
   "metadata": {},
   "outputs": [],
   "source": []
  },
  {
   "cell_type": "code",
   "execution_count": 736,
   "id": "b7e5d9bf",
   "metadata": {},
   "outputs": [
    {
     "data": {
      "text/plain": [
       "0.250+0.000j XXXI +\n",
       "-0.127+0.000j YIII +\n",
       "-0.354+0.000j ZZZI +\n",
       "-0.329+0.000j ZYZI"
      ]
     },
     "execution_count": 736,
     "metadata": {},
     "output_type": "execute_result"
    }
   ],
   "source": [
    "empty_I = 'I'*H.n_qubits\n",
    "rot_H = PauliwordOp({empty_I: 0})\n",
    "dI2 = I_term_LCU.coeff_vec[0]**2\n",
    "two_dI = 2*I_term_LCU.coeff_vec[0]\n",
    "\n",
    "\n",
    "H =PauliwordOp({'YIII':0.5, 'XXXI':0.25}) # PauliwordOp({'XXXX': 0.3})\n",
    " \n",
    "#equation B49\n",
    "rot_H = H.multiply_by_constant(dI2) # first term!\n",
    "for j, P_rot in enumerate(non_I_terms):\n",
    "    dj_djstar = P_rot.coeff_vec[0]*P_rot.coeff_vec[0].conj()\n",
    "    for P in H:\n",
    "        if P.commutes(P_rot):\n",
    "            #vi = ci_di_di*\n",
    "            vi_Pi = P.multiply_by_constant(dj_djstar)\n",
    "        else:\n",
    "            vi_Pi = P.multiply_by_constant(-1*dj_djstar)\n",
    "        rot_H+= vi_Pi \n",
    "        \n",
    "        for l, P_rot2 in enumerate(non_I_terms):\n",
    "\n",
    "            if not P_rot2.commutes(P):                    \n",
    "                # ci_dj_PjkPi\n",
    "                ci_dj_PjkPi = P_rot2 * P \n",
    "\n",
    "                 # 2dI_ci_dj_PjkPi\n",
    "                rot_H+= ci_dj_PjkPi.multiply_by_constant(two_dI/2)\n",
    "rot_H"
   ]
  },
  {
   "cell_type": "code",
   "execution_count": 1090,
   "id": "f3dba283",
   "metadata": {},
   "outputs": [
    {
     "data": {
      "text/plain": [
       "1.418+0.000j IXII +\n",
       "1.250-0.000j XZZI +\n",
       "0.654+0.000j XYZI"
      ]
     },
     "execution_count": 1090,
     "metadata": {},
     "output_type": "execute_result"
    }
   ],
   "source": [
    "empty_I = 'I'*H.n_qubits\n",
    "rot_H = PauliwordOp({empty_I: 0})\n",
    "dI2 = I_term_LCU.coeff_vec[0]**2\n",
    "two_dI = 2*I_term_LCU.coeff_vec[0]\n",
    "\n",
    "\n",
    "# H =PauliwordOp({'YIII':0.5, 'XXXI':0.25}) \n",
    "# H =PauliwordOp({'YIII':0.5, 'XXXI':0.25, 'XYZI':2})\n",
    "H =PauliwordOp({'XYZI':2})\n",
    " \n",
    "#equation B49\n",
    "rot_H = H.multiply_by_constant(dI2) # first term!\n",
    "for j, P_rot in enumerate(non_I_terms):\n",
    "    dj_djstar = P_rot.coeff_vec[0]*P_rot.coeff_vec[0].conj()\n",
    "    for P in H:\n",
    "        if P.commutes(P_rot):\n",
    "            #vi = ci_di_di*\n",
    "            vi_Pi = P.multiply_by_constant(dj_djstar)\n",
    "        else:\n",
    "            vi_Pi = P.multiply_by_constant(-1*dj_djstar)\n",
    "            \n",
    "#             # extra term from anticommuting part!\n",
    "#             ci_dj_PjkPi = P_rot * P \n",
    "#              # 2dI_ci_dj_PjkPi\n",
    "#             rot_H+= ci_dj_PjkPi.multiply_by_constant(two_dI)    \n",
    "        rot_H+= vi_Pi \n",
    "    \n",
    " \n",
    "        if not P.commutes(P_rot):\n",
    "            # extra term from anticommuting part!\n",
    "            ci_dj_PjkPi = P_rot * P \n",
    "             # 2dI_ci_dj_PjkPi\n",
    "            rot_H+= ci_dj_PjkPi.multiply_by_constant(two_dI)\n",
    "\n",
    "        for l in range(j+1,len(non_I_terms)):\n",
    "            Plk = non_I_terms[l]\n",
    "            if P.commutes(Plk):\n",
    "                Pjk_Plk_Pi = P_rot * Plk*P\n",
    "                rot_H+= Pjk_Plk_Pi.multiply_by_constant(-2)\n",
    "            \n",
    "        \n",
    "\n",
    "        \n",
    "rot_H"
   ]
  },
  {
   "cell_type": "code",
   "execution_count": 1084,
   "id": "7a41728a",
   "metadata": {},
   "outputs": [
    {
     "data": {
      "text/plain": [
       "(1.2528+0j)"
      ]
     },
     "execution_count": 1084,
     "metadata": {},
     "output_type": "execute_result"
    }
   ],
   "source": [
    "0.580j*-1j * 2.16"
   ]
  },
  {
   "cell_type": "code",
   "execution_count": null,
   "id": "719a8190",
   "metadata": {},
   "outputs": [],
   "source": []
  },
  {
   "cell_type": "code",
   "execution_count": 1085,
   "id": "0f479ab9",
   "metadata": {},
   "outputs": [
    {
     "data": {
      "text/plain": [
       "1.418+0.000j IXII +\n",
       "1.250+0.000j XZZI +\n",
       "0.654+0.000j XYZI"
      ]
     },
     "execution_count": 1085,
     "metadata": {},
     "output_type": "execute_result"
    }
   ],
   "source": [
    "out2 = LCU_rots * H * LCU_rots.conjugate\n",
    "out2"
   ]
  },
  {
   "cell_type": "code",
   "execution_count": 746,
   "id": "b9701d50",
   "metadata": {},
   "outputs": [
    {
     "data": {
      "text/plain": [
       "1.250+0.000j XZZI"
      ]
     },
     "execution_count": 746,
     "metadata": {},
     "output_type": "execute_result"
    }
   ],
   "source": [
    "out2-rot_H"
   ]
  },
  {
   "cell_type": "code",
   "execution_count": 648,
   "id": "0d249ccb",
   "metadata": {},
   "outputs": [
    {
     "data": {
      "text/plain": [
       "0.611+0.000j IIII +\n",
       "0.000+0.580j XZZI +\n",
       "0.000+0.539j XYZI"
      ]
     },
     "execution_count": 648,
     "metadata": {},
     "output_type": "execute_result"
    }
   ],
   "source": [
    "LCU_rots"
   ]
  },
  {
   "cell_type": "code",
   "execution_count": null,
   "id": "c5ff5af6",
   "metadata": {},
   "outputs": [],
   "source": []
  },
  {
   "cell_type": "code",
   "execution_count": 920,
   "id": "a5bb7d74",
   "metadata": {},
   "outputs": [
    {
     "data": {
      "text/plain": [
       "1.418+0.000j IXII +\n",
       "0.654+0.000j XYZI"
      ]
     },
     "execution_count": 920,
     "metadata": {},
     "output_type": "execute_result"
    }
   ],
   "source": [
    "empty_I = 'I'*H.n_qubits\n",
    "rot_H = PauliwordOp({empty_I: 0})\n",
    "dI2 = I_term_LCU.coeff_vec[0]**2\n",
    "two_dI = 2*I_term_LCU.coeff_vec[0]\n",
    "\n",
    "\n",
    "# H =PauliwordOp({'YIII':0.5, 'XXXI':0.25}) \n",
    "# H =PauliwordOp({'YIII':0.5, 'XXXI':0.25, 'XYZI':2})\n",
    "H =PauliwordOp({'XYZI':2})\n",
    " \n",
    "#equation B49\n",
    "rot_H = H.multiply_by_constant(dI2) # first term!\n",
    "for j, P_rot in enumerate(non_I_terms):\n",
    "    dj_djstar = P_rot.coeff_vec[0]*P_rot.coeff_vec[0].conj()\n",
    "    for P in H:\n",
    "        if P.commutes(P_rot):\n",
    "            #vi = ci_di_di*\n",
    "            vi_Pi = P.multiply_by_constant(dj_djstar)\n",
    "        else:\n",
    "            vi_Pi = P.multiply_by_constant(-1*dj_djstar)\n",
    "            \n",
    "            # extra term from anticommuting part!\n",
    "            ci_dj_PjkPi = P_rot * P \n",
    "             # 2dI_ci_dj_PjkPi\n",
    "            rot_H+= ci_dj_PjkPi.multiply_by_constant(two_dI)\n",
    "            \n",
    "            \n",
    "        rot_H+= vi_Pi \n",
    "        \n",
    "rot_H"
   ]
  },
  {
   "cell_type": "code",
   "execution_count": 924,
   "id": "605f418b",
   "metadata": {},
   "outputs": [
    {
     "data": {
      "text/plain": [
       "0.000+1.077j IIII"
      ]
     },
     "execution_count": 924,
     "metadata": {},
     "output_type": "execute_result"
    }
   ],
   "source": [
    "P_rot * P "
   ]
  },
  {
   "cell_type": "code",
   "execution_count": 922,
   "id": "9ab9ba77",
   "metadata": {},
   "outputs": [
    {
     "data": {
      "text/plain": [
       "1.418+0.000j IXII +\n",
       "1.250+0.000j XZZI +\n",
       "0.654+0.000j XYZI"
      ]
     },
     "execution_count": 922,
     "metadata": {},
     "output_type": "execute_result"
    }
   ],
   "source": [
    "out2 = LCU_rots * H * LCU_rots.conjugate\n",
    "out2"
   ]
  },
  {
   "cell_type": "code",
   "execution_count": null,
   "id": "e8ce0e49",
   "metadata": {},
   "outputs": [],
   "source": []
  },
  {
   "cell_type": "code",
   "execution_count": 921,
   "id": "994059f0",
   "metadata": {},
   "outputs": [
    {
     "data": {
      "text/plain": [
       "0.000+0.402j IIII +\n",
       "-0.433+0.000j IXII +\n",
       "0.456+0.000j XYZI"
      ]
     },
     "execution_count": 921,
     "metadata": {},
     "output_type": "execute_result"
    }
   ],
   "source": [
    "H.multiply_by_constant(dI2) * LCU_rots "
   ]
  },
  {
   "cell_type": "code",
   "execution_count": 918,
   "id": "d4a0566d",
   "metadata": {},
   "outputs": [
    {
     "name": "stdout",
     "output_type": "stream",
     "text": [
      "1.222+0.000j XYZI\n",
      "0.000+1.077j IIII\n"
     ]
    }
   ],
   "source": [
    "for P_RRR in LCU_rots:\n",
    "    if P_RRR.commutes(P):\n",
    "        print(P_RRR*P)"
   ]
  },
  {
   "cell_type": "code",
   "execution_count": 915,
   "id": "117fa475",
   "metadata": {},
   "outputs": [
    {
     "data": {
      "text/plain": []
     },
     "execution_count": 915,
     "metadata": {},
     "output_type": "execute_result"
    }
   ],
   "source": [
    "LCU_rots[2] * H * LCU_rots[1] - LCU_rots[1] * H * LCU_rots[2]"
   ]
  },
  {
   "cell_type": "code",
   "execution_count": 874,
   "id": "91ba3b21",
   "metadata": {},
   "outputs": [
    {
     "name": "stdout",
     "output_type": "stream",
     "text": [
      "0.000+0.580j XZZI\n",
      "0.000+0.539j XYZI\n"
     ]
    }
   ],
   "source": [
    "for j, P_rot in enumerate(non_I_terms):\n",
    "    for P in H:\n",
    "#         dI_ci_dj_Pjk_Pi = (P_rot*P).multiply_by_constant(I_term_LCU.coeff_vec[0])\n",
    "        \n",
    "        print(P_rot)"
   ]
  },
  {
   "cell_type": "code",
   "execution_count": 778,
   "id": "361b1117",
   "metadata": {},
   "outputs": [
    {
     "data": {
      "text/plain": [
       "0.747+0.000j XYZI"
      ]
     },
     "execution_count": 778,
     "metadata": {},
     "output_type": "execute_result"
    }
   ],
   "source": [
    "H.multiply_by_constant(dI2)"
   ]
  },
  {
   "cell_type": "code",
   "execution_count": 890,
   "id": "d716637a",
   "metadata": {},
   "outputs": [
    {
     "data": {
      "text/plain": [
       "2.000+0.000j XYZI"
      ]
     },
     "execution_count": 890,
     "metadata": {},
     "output_type": "execute_result"
    }
   ],
   "source": [
    "LCU_rots * H #* \n",
    "LCU_rots.conjugate\n",
    "H"
   ]
  },
  {
   "cell_type": "code",
   "execution_count": 884,
   "id": "486c9f49",
   "metadata": {},
   "outputs": [
    {
     "data": {
      "text/plain": [
       "(1.2493199999999998-0j)"
      ]
     },
     "execution_count": 884,
     "metadata": {},
     "output_type": "execute_result"
    }
   ],
   "source": [
    "1.077j * -0.580j + 1.077j * -0.580j"
   ]
  },
  {
   "cell_type": "code",
   "execution_count": 876,
   "id": "9c24aa25",
   "metadata": {},
   "outputs": [
    {
     "data": {
      "text/plain": [
       "1.418+0.000j IXII +\n",
       "1.250+0.000j XZZI +\n",
       "0.654+0.000j XYZI"
      ]
     },
     "execution_count": 876,
     "metadata": {},
     "output_type": "execute_result"
    }
   ],
   "source": [
    "out2 = LCU_rots * H * LCU_rots.conjugate\n",
    "out2"
   ]
  },
  {
   "cell_type": "code",
   "execution_count": 865,
   "id": "0eb04755",
   "metadata": {},
   "outputs": [
    {
     "data": {
      "text/plain": [
       "1.250+0.000j XZZI"
      ]
     },
     "execution_count": 865,
     "metadata": {},
     "output_type": "execute_result"
    }
   ],
   "source": [
    "out2 - rot_H"
   ]
  },
  {
   "cell_type": "code",
   "execution_count": 839,
   "id": "d5ddd66a",
   "metadata": {},
   "outputs": [
    {
     "data": {
      "text/plain": [
       "0.611+0.000j IIII +\n",
       "0.000+0.580j XZZI +\n",
       "0.000+0.539j XYZI"
      ]
     },
     "execution_count": 839,
     "metadata": {},
     "output_type": "execute_result"
    }
   ],
   "source": [
    "LCU_rots"
   ]
  },
  {
   "cell_type": "code",
   "execution_count": 840,
   "id": "6a571fd4",
   "metadata": {},
   "outputs": [
    {
     "data": {
      "text/plain": [
       "0.611-0.000j IIII +\n",
       "0.000-0.580j XZZI +\n",
       "0.000-0.539j XYZI"
      ]
     },
     "execution_count": 840,
     "metadata": {},
     "output_type": "execute_result"
    }
   ],
   "source": [
    "LCU_rots.conjugate"
   ]
  },
  {
   "cell_type": "code",
   "execution_count": null,
   "id": "1cb40b21",
   "metadata": {},
   "outputs": [],
   "source": []
  },
  {
   "cell_type": "code",
   "execution_count": null,
   "id": "70cee549",
   "metadata": {},
   "outputs": [],
   "source": []
  },
  {
   "cell_type": "code",
   "execution_count": null,
   "id": "651c5206",
   "metadata": {},
   "outputs": [],
   "source": []
  },
  {
   "cell_type": "code",
   "execution_count": null,
   "id": "24e83a51",
   "metadata": {},
   "outputs": [],
   "source": []
  },
  {
   "cell_type": "code",
   "execution_count": 989,
   "id": "3802c68a",
   "metadata": {},
   "outputs": [
    {
     "name": "stdout",
     "output_type": "stream",
     "text": [
      "0.625+0.000j XZZI\n"
     ]
    },
    {
     "data": {
      "text/plain": [
       "1.418+0.000j IXII +\n",
       "1.250+0.000j XZZI +\n",
       "0.654+0.000j XYZI"
      ]
     },
     "execution_count": 989,
     "metadata": {},
     "output_type": "execute_result"
    }
   ],
   "source": [
    "empty_I = 'I'*H.n_qubits\n",
    "rot_H = PauliwordOp({empty_I: 0})\n",
    "dI2 = I_term_LCU.coeff_vec[0]**2\n",
    "two_dI = 2*I_term_LCU.coeff_vec[0]\n",
    "\n",
    "\n",
    "# H =PauliwordOp({'YIII':0.5, 'XXXI':0.25}) \n",
    "# H =PauliwordOp({'YIII':0.5, 'XXXI':0.25, 'XYZI':2})\n",
    "H =PauliwordOp({'XYZI':2})\n",
    " \n",
    "#equation B49\n",
    "rot_H = H.multiply_by_constant(dI2) # first term!\n",
    "for j, P_rot in enumerate(non_I_terms):\n",
    "    dj_djstar = P_rot.coeff_vec[0]*P_rot.coeff_vec[0].conj()\n",
    "    for P in H:\n",
    "        if P.commutes(P_rot):\n",
    "            #vi = ci_di_di*\n",
    "            vi_Pi = P.multiply_by_constant(dj_djstar)\n",
    "        else:\n",
    "            vi_Pi = P.multiply_by_constant(-1*dj_djstar)\n",
    "            \n",
    "            # extra term from anticommuting part!\n",
    "            ci_dj_PjkPi = P_rot * P \n",
    "             # 2dI_ci_dj_PjkPi\n",
    "            rot_H+= ci_dj_PjkPi.multiply_by_constant(two_dI)\n",
    "            \n",
    "            \n",
    "        rot_H+= vi_Pi \n",
    "        \n",
    "        if sum((P *P_rot).symp_matrix[0]) == 0:\n",
    "            # identity term!\n",
    "            for l, P_rot_l in enumerate(non_I_terms): \n",
    "                if l!=j:\n",
    "                    term = P_rot_l.conjugate * P * P_rot\n",
    "                    rot_H+= term \n",
    "#                     print(term)\n",
    "\n",
    "        if sum((P_rot*P).symp_matrix[0]) == 0:\n",
    "            # identity term!\n",
    "            for l, P_rot_l in enumerate(non_I_terms): \n",
    "                if l!=j:\n",
    "                    term = P_rot_l.conjugate * P * P_rot\n",
    "                    rot_H+= term \n",
    "                    print(term)\n",
    "                    \n",
    "        \n",
    "rot_H"
   ]
  },
  {
   "cell_type": "code",
   "execution_count": 981,
   "id": "f4f162fa",
   "metadata": {},
   "outputs": [
    {
     "data": {
      "text/plain": [
       "23"
      ]
     },
     "execution_count": 981,
     "metadata": {},
     "output_type": "execute_result"
    }
   ],
   "source": [
    "rot_H.n_terms# + rot_H"
   ]
  },
  {
   "cell_type": "code",
   "execution_count": 960,
   "id": "965bd7cb",
   "metadata": {},
   "outputs": [
    {
     "data": {
      "text/plain": [
       "0.611+0.000j IIII +\n",
       "0.000+0.580j XZZI +\n",
       "0.000+0.539j XYZI"
      ]
     },
     "execution_count": 960,
     "metadata": {},
     "output_type": "execute_result"
    }
   ],
   "source": [
    "LCU_rots"
   ]
  },
  {
   "cell_type": "code",
   "execution_count": 988,
   "id": "ab561972",
   "metadata": {},
   "outputs": [
    {
     "data": {
      "text/plain": [
       "1.418+0.000j IXII +\n",
       "1.250+0.000j XZZI +\n",
       "0.654+0.000j XYZI"
      ]
     },
     "execution_count": 988,
     "metadata": {},
     "output_type": "execute_result"
    }
   ],
   "source": [
    "LCU_rots * H * LCU_rots.conjugate"
   ]
  },
  {
   "cell_type": "code",
   "execution_count": 993,
   "id": "1eb04161",
   "metadata": {},
   "outputs": [
    {
     "data": {
      "text/plain": [
       "0.000+0.580j XZZI +\n",
       "0.000+0.539j XYZI"
      ]
     },
     "execution_count": 993,
     "metadata": {},
     "output_type": "execute_result"
    }
   ],
   "source": [
    "LCU_rots[1:]"
   ]
  },
  {
   "cell_type": "code",
   "execution_count": 1007,
   "id": "4d715727",
   "metadata": {},
   "outputs": [
    {
     "data": {
      "text/plain": [
       "(1-0j)"
      ]
     },
     "execution_count": 1007,
     "metadata": {},
     "output_type": "execute_result"
    }
   ],
   "source": [
    "1j*-1j"
   ]
  },
  {
   "cell_type": "code",
   "execution_count": 1005,
   "id": "2c32c2a6",
   "metadata": {},
   "outputs": [
    {
     "data": {
      "text/plain": [
       "2.000+0.000j XX +\n",
       "-4.000+0.000j ZI"
      ]
     },
     "execution_count": 1005,
     "metadata": {},
     "output_type": "execute_result"
    }
   ],
   "source": [
    "t = PauliwordOp({'XX': 1j, 'XY': 1j} )\n",
    "PP = PauliwordOp({'XY':1, 'ZI':2})\n",
    "\n",
    "t*PP*t.conjugate"
   ]
  },
  {
   "cell_type": "code",
   "execution_count": 1017,
   "id": "a3dd0c13",
   "metadata": {},
   "outputs": [
    {
     "data": {
      "text/plain": [
       "0.611+0.000j IIII +\n",
       "0.000+0.580j XZZI +\n",
       "0.000+0.539j XYZI"
      ]
     },
     "execution_count": 1017,
     "metadata": {},
     "output_type": "execute_result"
    }
   ],
   "source": [
    "LCU_rots"
   ]
  },
  {
   "cell_type": "code",
   "execution_count": 1018,
   "id": "dfede7f7",
   "metadata": {},
   "outputs": [
    {
     "data": {
      "text/plain": [
       "0.611-0.000j IIII +\n",
       "0.000-0.580j XZZI +\n",
       "0.000-0.539j XYZI"
      ]
     },
     "execution_count": 1018,
     "metadata": {},
     "output_type": "execute_result"
    }
   ],
   "source": [
    "LCU_rots.conjugate"
   ]
  },
  {
   "cell_type": "code",
   "execution_count": 1021,
   "id": "793a2c98",
   "metadata": {},
   "outputs": [
    {
     "data": {
      "text/plain": [
       "0.000+1.000j IZ"
      ]
     },
     "execution_count": 1021,
     "metadata": {},
     "output_type": "execute_result"
    }
   ],
   "source": [
    "t = PauliwordOp({'XX': 1j} )\n",
    "y = PauliwordOp({'XY': 1j} )\n",
    "y*t"
   ]
  },
  {
   "cell_type": "code",
   "execution_count": null,
   "id": "bbed52a3",
   "metadata": {},
   "outputs": [],
   "source": []
  },
  {
   "cell_type": "code",
   "execution_count": 1022,
   "id": "a820c405",
   "metadata": {},
   "outputs": [
    {
     "name": "stdout",
     "output_type": "stream",
     "text": [
      "0 1\n",
      "0 2\n",
      "1 0\n",
      "1 2\n",
      "2 0\n",
      "2 1\n"
     ]
    }
   ],
   "source": [
    "for i in range(3):\n",
    "    for j in range(3):\n",
    "        if j!=i:\n",
    "            print(i,j)"
   ]
  },
  {
   "cell_type": "code",
   "execution_count": 1030,
   "id": "da596482",
   "metadata": {},
   "outputs": [
    {
     "data": {
      "text/plain": [
       "0.611+0.000j IIII +\n",
       "0.000+0.580j XZZI +\n",
       "0.000+0.539j XYZI"
      ]
     },
     "execution_count": 1030,
     "metadata": {},
     "output_type": "execute_result"
    }
   ],
   "source": [
    "LCU_rots"
   ]
  },
  {
   "cell_type": "code",
   "execution_count": null,
   "id": "830b7820",
   "metadata": {},
   "outputs": [],
   "source": []
  },
  {
   "cell_type": "code",
   "execution_count": 1233,
   "id": "4831b691",
   "metadata": {},
   "outputs": [
    {
     "data": {
      "text/plain": []
     },
     "execution_count": 1233,
     "metadata": {},
     "output_type": "execute_result"
    }
   ],
   "source": [
    "empty_I = 'I'*H.n_qubits\n",
    "rot_H = PauliwordOp({empty_I: 0})\n",
    "dI2 = I_term_LCU.coeff_vec[0]**2\n",
    "two_dI = 2*I_term_LCU.coeff_vec[0]\n",
    "\n",
    " \n",
    "#equation B49\n",
    "rot_H = H.multiply_by_constant(dI2) # first term!\n",
    "for j, P_rot in enumerate(non_I_terms):\n",
    "    dj_djstar = P_rot.coeff_vec[0]*P_rot.coeff_vec[0].conj()\n",
    "    for P in H:\n",
    "        if P.commutes(P_rot):\n",
    "            #vi = ci_di_di*\n",
    "            vi_Pi = P.multiply_by_constant(dj_djstar)\n",
    "        else:\n",
    "            vi_Pi = P.multiply_by_constant(-1*dj_djstar)\n",
    "            \n",
    "#             # extra term from anticommuting part!\n",
    "#             ci_dj_PjkPi = P_rot * P \n",
    "#              # 2dI_ci_dj_PjkPi\n",
    "#             rot_H+= ci_dj_PjkPi.multiply_by_constant(two_dI)    \n",
    "        rot_H+= vi_Pi \n",
    "    \n",
    " \n",
    "        if not P.commutes(P_rot):\n",
    "            # extra term from anticommuting part!\n",
    "            ci_dj_PjkPi = P_rot * P \n",
    "             # 2dI_ci_dj_PjkPi\n",
    "            rot_H+= ci_dj_PjkPi.multiply_by_constant(two_dI)\n",
    "        \n",
    "        for l in range(j+1,len(non_I_terms)):\n",
    "            Plk = non_I_terms[l]\n",
    "            if (P.commutes(Plk) and  (not P.commutes(P_rot))):\n",
    "                \n",
    "#                 print(l,j)\n",
    "                \n",
    "                Pjk_Plk_Pi =  Plk*P_rot*P - P_rot*Plk*P\n",
    "                rot_H+= Pjk_Plk_Pi\n",
    "                \n",
    "            elif (not P.commutes(Plk) and   P.commutes(P_rot)):\n",
    "                \n",
    "#                 print(l,j)\n",
    "                \n",
    "                Pjk_Plk_Pi =  P_rot*Plk*P - Plk*P_rot*P\n",
    "                rot_H+= Pjk_Plk_Pi\n",
    "            \n",
    "        \n",
    "        \n",
    "out1 = LCU_rots * H * LCU_rots.conjugate\n",
    "out1 - rot_H"
   ]
  },
  {
   "cell_type": "code",
   "execution_count": null,
   "id": "373c1734",
   "metadata": {},
   "outputs": [],
   "source": []
  },
  {
   "cell_type": "code",
   "execution_count": null,
   "id": "b41d5c23",
   "metadata": {},
   "outputs": [],
   "source": []
  },
  {
   "cell_type": "code",
   "execution_count": 1232,
   "id": "7b029f8a",
   "metadata": {},
   "outputs": [
    {
     "data": {
      "text/plain": []
     },
     "execution_count": 1232,
     "metadata": {},
     "output_type": "execute_result"
    }
   ],
   "source": [
    "empty_I = 'I'*H.n_qubits\n",
    "rot_H = PauliwordOp({empty_I: 0})\n",
    "dI2 = I_term_LCU.coeff_vec[0]**2\n",
    "two_dI = 2*I_term_LCU.coeff_vec[0]\n",
    "\n",
    " \n",
    "#equation B49\n",
    "rot_H = H.multiply_by_constant(dI2) # first term!\n",
    "for j, P_rot in enumerate(non_I_terms):\n",
    "    dj_djstar = P_rot.coeff_vec[0]*P_rot.coeff_vec[0].conj()\n",
    "    for P in H:\n",
    "        if P.commutes(P_rot):\n",
    "            #vi = ci_di_di*\n",
    "            vi_Pi = P.multiply_by_constant(dj_djstar)\n",
    "        else:\n",
    "            vi_Pi = P.multiply_by_constant(-1*dj_djstar)\n",
    "            \n",
    "#             # extra term from anticommuting part!\n",
    "#             ci_dj_PjkPi = P_rot * P \n",
    "#              # 2dI_ci_dj_PjkPi\n",
    "#             rot_H+= ci_dj_PjkPi.multiply_by_constant(two_dI)    \n",
    "        rot_H+= vi_Pi \n",
    "    \n",
    " \n",
    "        if not P.commutes(P_rot):\n",
    "            # extra term from anticommuting part!\n",
    "            ci_dj_PjkPi = P_rot * P \n",
    "             # 2dI_ci_dj_PjkPi\n",
    "            rot_H+= ci_dj_PjkPi.multiply_by_constant(two_dI)\n",
    "        \n",
    "        for l in range(j+1,len(non_I_terms)):\n",
    "            Plk = non_I_terms[l]\n",
    "            if (P.commutes(Plk) and  (not P.commutes(P_rot))):\n",
    "                \n",
    "                \n",
    "                Pi_Pjk_Pkl =  P * P_rot * Plk\n",
    "                Pi_Plk_Pkj =  P * Plk * P_rot.conjugate\n",
    "#                 print('t:', Pi_Pjk_Pkl+Pi_Plk_Pkj)\n",
    "#                 print(j,l)\n",
    "                \n",
    "                rot_H+= Pi_Pjk_Pkl\n",
    "                rot_H+= Pi_Plk_Pkj\n",
    "                \n",
    "            elif (not P.commutes(Plk) and   P.commutes(P_rot)):\n",
    "                \n",
    "                Pi_Pjk_Pkl =  P * P_rot.conjugate * Plk\n",
    "                Pi_Plk_Pkj =  P * Plk * P_rot\n",
    "                \n",
    "#                 print('t:', Pi_Pjk_Pkl+Pi_Plk_Pkj)\n",
    "                \n",
    "                rot_H+= Pi_Pjk_Pkl\n",
    "                rot_H+= Pi_Plk_Pkj\n",
    "            \n",
    "        \n",
    "        \n",
    "out1 = LCU_rots * H * LCU_rots.conjugate\n",
    "out1 - rot_H"
   ]
  },
  {
   "cell_type": "code",
   "execution_count": null,
   "id": "fb7909f8",
   "metadata": {},
   "outputs": [],
   "source": []
  },
  {
   "cell_type": "code",
   "execution_count": 1236,
   "id": "a75aae42",
   "metadata": {},
   "outputs": [
    {
     "data": {
      "text/plain": [
       "-0.875+0.000j XYXI +\n",
       "-0.875+0.000j ZYZI +\n",
       "0.125+0.000j ZZYI"
      ]
     },
     "execution_count": 1236,
     "metadata": {},
     "output_type": "execute_result"
    }
   ],
   "source": [
    "# empty_I = 'I'*H.n_qubits\n",
    "# rot_H = PauliwordOp({empty_I: 0})\n",
    "# dI2 = I_term_LCU.coeff_vec[0]**2\n",
    "# two_dI = 2*I_term_LCU.coeff_vec[0]\n",
    "\n",
    " \n",
    "# #equation B49\n",
    "# rot_H = H.multiply_by_constant(dI2) # first term!\n",
    "# for j, P_rot in enumerate(non_I_terms):\n",
    "#     dj_djstar = P_rot.coeff_vec[0]*P_rot.coeff_vec[0].conj()\n",
    "#     for P in H:\n",
    "#         if P.commutes(P_rot):\n",
    "#             #vi = ci_di_di*\n",
    "#             vi_Pi = P.multiply_by_constant(dj_djstar)\n",
    "#         else:\n",
    "#             vi_Pi = P.multiply_by_constant(-1*dj_djstar)\n",
    "            \n",
    "# #             # extra term from anticommuting part!\n",
    "# #             ci_dj_PjkPi = P_rot * P \n",
    "# #              # 2dI_ci_dj_PjkPi\n",
    "# #             rot_H+= ci_dj_PjkPi.multiply_by_constant(two_dI)    \n",
    "#         rot_H+= vi_Pi \n",
    "    \n",
    " \n",
    "#         if not P.commutes(P_rot):\n",
    "#             # extra term from anticommuting part!\n",
    "#             ci_dj_PjkPi = P_rot * P \n",
    "#              # 2dI_ci_dj_PjkPi\n",
    "#             rot_H+= ci_dj_PjkPi.multiply_by_constant(two_dI)\n",
    "        \n",
    "#         for l in range(j+1,len(non_I_terms)):\n",
    "#             Plk = non_I_terms[l]\n",
    "\n",
    "#             if P.commutes(P_rot) and   (not P.commutes(Plk)):\n",
    "                \n",
    "#                 Pi_Pjk_Pkl =  P * P_rot * Plk.conjugate\n",
    "#                 Pi_Plk_Pkj =  P * Plk * P_rot.conjugate\n",
    "                \n",
    "#                 rot_H+= Pi_Pjk_Pkl\n",
    "#                 rot_H-= Pi_Plk_Pkj\n",
    "            \n",
    "#             elif (not P.commutes(P_rot) and P.commutes(Plk)):\n",
    "                \n",
    "#                 Pi_Pjk_Pkl =  P * P_rot.conjugate * Plk\n",
    "#                 Pi_Plk_Pkj =  P * Plk.conjugate * P_rot\n",
    "                \n",
    "#                 rot_H+= Pi_Pjk_Pkl\n",
    "#                 rot_H-= Pi_Plk_Pkj\n",
    "            \n",
    "        \n",
    "        \n",
    "# out1 = LCU_rots * H * LCU_rots.conjugate\n",
    "# out1 - rot_H"
   ]
  },
  {
   "cell_type": "code",
   "execution_count": null,
   "id": "f0cd549e",
   "metadata": {},
   "outputs": [],
   "source": []
  },
  {
   "cell_type": "code",
   "execution_count": 1266,
   "id": "957df898",
   "metadata": {},
   "outputs": [
    {
     "data": {
      "text/plain": [
       "True"
      ]
     },
     "execution_count": 1266,
     "metadata": {},
     "output_type": "execute_result"
    }
   ],
   "source": [
    "empty_I = 'I'*H.n_qubits\n",
    "rot_H = PauliwordOp({empty_I: 0})\n",
    "dI2 = I_term_LCU.coeff_vec[0]**2\n",
    "two_dI = 2*I_term_LCU.coeff_vec[0]\n",
    "\n",
    " \n",
    "#equation B49\n",
    "rot_H = PauliwordOp({'IIII':0})\n",
    "for j, P_rot_j in enumerate(non_I_terms):\n",
    "    for P in H:\n",
    "        for l, P_rot_l in enumerate(non_I_terms):\n",
    "            \n",
    "            if j==l:\n",
    "                if (P.commutes(P_rot_j)):\n",
    "                    rot_H+=P_rot_j*P*P_rot_l.conjugate\n",
    "                elif (not P.commutes(P_rot_l)):\n",
    "                    rot_H+=P_rot_j*P*P_rot_l.conjugate\n",
    "                \n",
    "            \n",
    "rot_H.n_terms == H.n_terms"
   ]
  },
  {
   "cell_type": "code",
   "execution_count": 1291,
   "id": "ea7dc73d",
   "metadata": {},
   "outputs": [
    {
     "data": {
      "text/plain": [
       "0.219+0.000j XZXI +\n",
       "0.219+0.000j XYXI +\n",
       "-0.031+0.000j YYXI +\n",
       "-0.187+0.000j XYZI +\n",
       "0.062+0.000j YZZI +\n",
       "0.219+0.000j ZYZI +\n",
       "-0.031+0.000j ZZYI"
      ]
     },
     "execution_count": 1291,
     "metadata": {},
     "output_type": "execute_result"
    }
   ],
   "source": [
    "empty_I = 'I'*H.n_qubits\n",
    "rot_H = PauliwordOp({empty_I: 0})\n",
    "dI2 = I_term_LCU.coeff_vec[0]**2\n",
    "two_dI = 2*I_term_LCU.coeff_vec[0]\n",
    "\n",
    " \n",
    "#equation B49\n",
    "rot_H = PauliwordOp({'IIII':0})\n",
    "for j, P_rot_j in enumerate(non_I_terms):\n",
    "    for P in H:\n",
    "        for l, P_rot_l in enumerate(non_I_terms):\n",
    "            \n",
    "            if j==l:\n",
    "                if (P.commutes(P_rot_j)):\n",
    "                    rot_H+=P_rot_j*P*P_rot_l.conjugate\n",
    "                elif (not P.commutes(P_rot_l)):\n",
    "                    rot_H+=P_rot_j*P*P_rot_l.conjugate\n",
    "            \n",
    "            if j!=l:\n",
    "                if (P.commutes(P_rot_j)):\n",
    "                    rot_H+=P_rot_j*P*P_rot_l.conjugate\n",
    "                elif (not P.commutes(P_rot_l)):\n",
    "                    rot_H+=P_rot_j*P*P_rot_l.conjugate\n",
    "                \n",
    "                \n",
    "            \n",
    "rot_H.n_terms == (LCU_rots[1:] *H*LCU_rots[1:].conjugate).n_terms\n",
    "rot_H - (LCU_rots[1:] *H*LCU_rots[1:].conjugate)"
   ]
  },
  {
   "cell_type": "code",
   "execution_count": null,
   "id": "9cd35cc9",
   "metadata": {},
   "outputs": [],
   "source": []
  },
  {
   "cell_type": "code",
   "execution_count": null,
   "id": "d6bb3cf8",
   "metadata": {},
   "outputs": [],
   "source": [
    "# out1 = LCU_rots * H * LCU_rots.conjugate\n",
    "# out1 - rot_H"
   ]
  },
  {
   "cell_type": "code",
   "execution_count": 1313,
   "id": "f1f6f8b0",
   "metadata": {},
   "outputs": [
    {
     "data": {
      "text/plain": []
     },
     "execution_count": 1313,
     "metadata": {},
     "output_type": "execute_result"
    }
   ],
   "source": [
    "empty_I = 'I'*H.n_qubits\n",
    "rot_H = PauliwordOp({empty_I: 0})\n",
    "dI2 = I_term_LCU.coeff_vec[0]**2\n",
    "two_dI = 2*I_term_LCU.coeff_vec[0]\n",
    "\n",
    " \n",
    "#equation B49\n",
    "rot_H = H.multiply_by_constant(dI2) # first term!\n",
    "for j, P_rot in enumerate(non_I_terms):\n",
    "    dj_djstar = P_rot.coeff_vec[0]*P_rot.coeff_vec[0].conj()\n",
    "    for P in H:\n",
    "        if P.commutes(P_rot):\n",
    "            #vi = ci_di_di*\n",
    "            vi_Pi = P.multiply_by_constant(dj_djstar)\n",
    "        else:\n",
    "            vi_Pi = P.multiply_by_constant(-1*dj_djstar)\n",
    "            \n",
    "#             # extra term from anticommuting part!\n",
    "#             ci_dj_PjkPi = P_rot * P \n",
    "#              # 2dI_ci_dj_PjkPi\n",
    "#             rot_H+= ci_dj_PjkPi.multiply_by_constant(two_dI)    \n",
    "        rot_H+= vi_Pi \n",
    "    \n",
    " \n",
    "        if not P.commutes(P_rot):\n",
    "            # extra term from anticommuting part!\n",
    "            ci_dj_PjkPi = P_rot * P \n",
    "             # 2dI_ci_dj_PjkPi\n",
    "            rot_H+= ci_dj_PjkPi.multiply_by_constant(two_dI)\n",
    "        \n",
    "        for l in range(j+1,len(non_I_terms)):\n",
    "            Plk = non_I_terms[l]\n",
    "#             Pkl = non_I_terms[l].conjugate\n",
    "            if (P.commutes(P_rot) and  (not P.commutes(Plk))):\n",
    "                \n",
    "                \n",
    "                Pi_Pjk_Plk =  P * P_rot * Plk.conjugate\n",
    "                \n",
    "                rot_H+= Pi_Pjk_Plk.multiply_by_constant(2)\n",
    "                \n",
    "            elif P.commutes(Plk) and   (not P.commutes(P_rot)):\n",
    "                \n",
    "                Pi_Pjk_Plk =  P *  Plk.conjugate * P_rot\n",
    "                rot_H+= Pi_Pjk_Plk.multiply_by_constant(2)\n",
    "            \n",
    "        \n",
    "        \n",
    "out1 = LCU_rots * H * LCU_rots.conjugate\n",
    "out1 - rot_H"
   ]
  },
  {
   "cell_type": "code",
   "execution_count": 1309,
   "id": "35b5ae72",
   "metadata": {},
   "outputs": [
    {
     "name": "stdout",
     "output_type": "stream",
     "text": [
      "\n",
      "-0.203+0.000j XYXI\n",
      "\n",
      "-0.219+0.000j XYXI\n",
      "\n",
      "-0.174+0.000j XZZI\n",
      "\n",
      "\n",
      "-0.219+0.000j ZYZI\n",
      "\n",
      "\n",
      "\n",
      "\n",
      "\n",
      "\n",
      "-0.058+0.000j YYZI\n",
      "\n",
      "-0.029+0.000j YZXI\n",
      "\n",
      "0.031-0.000j ZZYI\n",
      "\n"
     ]
    },
    {
     "data": {
      "text/plain": []
     },
     "execution_count": 1309,
     "metadata": {},
     "output_type": "execute_result"
    }
   ],
   "source": [
    "empty_I = 'I'*H.n_qubits\n",
    "rot_H = PauliwordOp({empty_I: 0})\n",
    "dI2 = I_term_LCU.coeff_vec[0]**2\n",
    "two_dI = 2*I_term_LCU.coeff_vec[0]\n",
    "\n",
    " \n",
    "#equation B49\n",
    "rot_H = H.multiply_by_constant(dI2) # first term!\n",
    "for j, P_rot in enumerate(non_I_terms):\n",
    "    dj_djstar = P_rot.coeff_vec[0]*P_rot.coeff_vec[0].conj()\n",
    "    for P in H:\n",
    "        if P.commutes(P_rot):\n",
    "            #vi = ci_di_di*\n",
    "            vi_Pi = P.multiply_by_constant(dj_djstar)\n",
    "        else:\n",
    "            vi_Pi = P.multiply_by_constant(-1*dj_djstar)\n",
    "            \n",
    "#             # extra term from anticommuting part!\n",
    "#             ci_dj_PjkPi = P_rot * P \n",
    "#              # 2dI_ci_dj_PjkPi\n",
    "#             rot_H+= ci_dj_PjkPi.multiply_by_constant(two_dI)    \n",
    "        rot_H+= vi_Pi \n",
    "    \n",
    " \n",
    "        if not P.commutes(P_rot):\n",
    "            # extra term from anticommuting part!\n",
    "            ci_dj_PjkPi = P_rot * P \n",
    "             # 2dI_ci_dj_PjkPi\n",
    "            rot_H+= ci_dj_PjkPi.multiply_by_constant(two_dI)\n",
    "        \n",
    "        for l in range(j+1,len(non_I_terms)):\n",
    "            Plk = non_I_terms[l]\n",
    "            if (P.commutes(P_rot) and  (not P.commutes(Plk))):\n",
    "                \n",
    "                Pi_Pjk_Plk =  P * P_rot * Plk.conjugate\n",
    "                rot_H+= Pi_Pjk_Plk.multiply_by_constant(2)\n",
    "                \n",
    "                Plk_fake = non_I_terms[j].conjugate\n",
    "                Pjk_fake = non_I_terms[l]\n",
    "                Pi_Pjk_Plk =  P *  Pjk_fake * Pjk_fake\n",
    "                print(Pi_Pjk_Plk)\n",
    "                \n",
    "                \n",
    "            elif P.commutes(Plk) and   (not P.commutes(P_rot)):\n",
    "                \n",
    "                Pi_Pjk_Plk =  P *  Plk.conjugate * P_rot\n",
    "                print(Pi_Pjk_Plk)\n",
    "                rot_H+= Pi_Pjk_Plk.multiply_by_constant(2)\n",
    "            \n",
    "            print()\n",
    "        \n",
    "        \n",
    "out1 = LCU_rots * H * LCU_rots.conjugate\n",
    "out1 - rot_H"
   ]
  },
  {
   "cell_type": "code",
   "execution_count": 1357,
   "id": "a027dd40",
   "metadata": {},
   "outputs": [
    {
     "data": {
      "text/plain": []
     },
     "execution_count": 1357,
     "metadata": {},
     "output_type": "execute_result"
    }
   ],
   "source": [
    "empty_I = 'I'*H.n_qubits\n",
    "rot_H = PauliwordOp({empty_I: 0})\n",
    "dI2 = I_term_LCU.coeff_vec[0]**2\n",
    "two_dI = 2*I_term_LCU.coeff_vec[0]\n",
    "\n",
    " \n",
    "#equation B49\n",
    "rot_H = H.multiply_by_constant(dI2) # first term!\n",
    "for j, P_rot in enumerate(non_I_terms):\n",
    "    dj_djstar = P_rot.coeff_vec[0]*P_rot.coeff_vec[0].conj()\n",
    "    for P in H:\n",
    "#         if P.commutes(P_rot):\n",
    "#             #vi = ci_di_di*\n",
    "#             vi_Pi = P.multiply_by_constant(dj_djstar)\n",
    "#         else:\n",
    "#             vi_Pi = P.multiply_by_constant(-1*dj_djstar)\n",
    "            \n",
    "        vi_Pi = P_rot * P * P_rot.conjugate \n",
    "        \n",
    "        rot_H+= vi_Pi \n",
    "    \n",
    " \n",
    "        if not P.commutes(P_rot):\n",
    "            # extra term from anticommuting part!\n",
    "            ci_dj_PjkPi = P_rot * P \n",
    "             # 2dI_ci_dj_PjkPi\n",
    "            rot_H+= ci_dj_PjkPi.multiply_by_constant(two_dI)\n",
    "        \n",
    "        for l in range(j+1,len(non_I_terms)):\n",
    "            Plk = non_I_terms[l]\n",
    "#             Pkl = non_I_terms[l].conjugate\n",
    "            if (P.commutes(P_rot) and  (not P.commutes(Plk))):\n",
    "                \n",
    "                Pi_Pjk_Plk =  P * P_rot * Plk.conjugate\n",
    "                \n",
    "                rot_H+= Pi_Pjk_Plk.multiply_by_constant(2)\n",
    "                \n",
    "            elif P.commutes(Plk) and   (not P.commutes(P_rot)):\n",
    "                \n",
    "                Pi_Pjk_Plk =  P *  Plk.conjugate * P_rot\n",
    "                rot_H+= Pi_Pjk_Plk.multiply_by_constant(2)\n",
    "            \n",
    "            \n",
    "        \n",
    "        \n",
    "out1 = LCU_rots * H * LCU_rots.conjugate\n",
    "out1 - rot_H"
   ]
  },
  {
   "cell_type": "code",
   "execution_count": null,
   "id": "ed2d8378",
   "metadata": {},
   "outputs": [],
   "source": []
  },
  {
   "cell_type": "code",
   "execution_count": 1331,
   "id": "cdebb791",
   "metadata": {},
   "outputs": [],
   "source": [
    "empty_I = 'I'*H.n_qubits\n",
    "rot_H = PauliwordOp({empty_I: 0})\n",
    "dI2 = I_term_LCU.coeff_vec[0]**2\n",
    "two_dI = 2*I_term_LCU.coeff_vec[0]"
   ]
  },
  {
   "cell_type": "code",
   "execution_count": 1344,
   "id": "3fe1892b",
   "metadata": {},
   "outputs": [
    {
     "data": {
      "text/plain": []
     },
     "execution_count": 1344,
     "metadata": {},
     "output_type": "execute_result"
    }
   ],
   "source": [
    "rot_H = H.multiply_by_constant(dI2) # first term!\n",
    "for j, P_rot in enumerate(non_I_terms):\n",
    "    dj_djstar = P_rot.coeff_vec[0]*P_rot.coeff_vec[0].conj()\n",
    "    for P in H:\n",
    "#         if P.commutes(P_rot):\n",
    "#             #vi = ci_di_di*\n",
    "#             vi_Pi = P.multiply_by_constant(dj_djstar)\n",
    "#         else:\n",
    "#             vi_Pi = P.multiply_by_constant(-1*dj_djstar)\n",
    "#         rot_H+= vi_Pi \n",
    "        \n",
    "        rot_H+= P_rot * P * P_rot.conjugate\n",
    "    \n",
    "\n",
    "rot_H - temp"
   ]
  },
  {
   "cell_type": "code",
   "execution_count": 1342,
   "id": "ee5ea8dd",
   "metadata": {},
   "outputs": [],
   "source": [
    "temp = deepcopy(rot_H)"
   ]
  },
  {
   "cell_type": "code",
   "execution_count": 1329,
   "id": "63de96a7",
   "metadata": {},
   "outputs": [
    {
     "name": "stdout",
     "output_type": "stream",
     "text": [
      "3.48 ms ± 231 µs per loop (mean ± std. dev. of 7 runs, 100 loops each)\n"
     ]
    }
   ],
   "source": [
    "%%timeit\n",
    "out1 = LCU_rots * H * LCU_rots.conjugate"
   ]
  },
  {
   "cell_type": "code",
   "execution_count": null,
   "id": "62195c31",
   "metadata": {},
   "outputs": [],
   "source": []
  },
  {
   "cell_type": "code",
   "execution_count": 1368,
   "id": "2a67f73f",
   "metadata": {},
   "outputs": [
    {
     "name": "stdout",
     "output_type": "stream",
     "text": [
      "-0.437+0.000j XZXI\n",
      "\n",
      "-0.437+0.000j XYXI\n",
      "\n",
      "0.375+0.000j XYZI\n",
      "\n",
      "-0.437+0.000j ZYZI\n",
      "\n",
      "-0.125+0.000j YZZI\n",
      "\n",
      "0.062+0.000j YYXI\n",
      "\n",
      "0.062+0.000j ZZYI\n",
      "\n"
     ]
    }
   ],
   "source": [
    "empty_I = 'I'*H.n_qubits\n",
    "rot_H = PauliwordOp({empty_I: 0})\n",
    "dI2 = I_term_LCU.coeff_vec[0]**2\n",
    "two_dI = 2*I_term_LCU.coeff_vec[0]\n",
    "\n",
    " \n",
    "#equation B49\n",
    "rot_H = H.multiply_by_constant(dI2) # first term!\n",
    "for j, P_rot in enumerate(non_I_terms):\n",
    "    dj_djstar = P_rot.coeff_vec[0]*P_rot.coeff_vec[0].conj()\n",
    "    for P in H:        \n",
    "        for l in range(j+1,len(non_I_terms)):\n",
    "            Plk = non_I_terms[l]\n",
    "            if (P.commutes(P_rot) and  (not P.commutes(Plk))):\n",
    "                \n",
    "                \n",
    "                Pi_Pjk_Plk =  P * P_rot * Plk.conjugate\n",
    "                rot_H+= Pi_Pjk_Plk.multiply_by_constant(2)\n",
    "                print(Pi_Pjk_Plk.multiply_by_constant(2))\n",
    "                \n",
    "            elif P.commutes(Plk) and   (not P.commutes(P_rot)):\n",
    "                \n",
    "                Pi_Pjk_Plk =  P *  Plk.conjugate * P_rot\n",
    "                rot_H+= Pi_Pjk_Plk.multiply_by_constant(2)\n",
    "                \n",
    "                print(Pi_Pjk_Plk.multiply_by_constant(2))\n",
    "            \n",
    "            else:\n",
    "                continue\n",
    "            print()\n",
    "        \n",
    "# rot_H"
   ]
  },
  {
   "cell_type": "code",
   "execution_count": 1375,
   "id": "eb6d10b6",
   "metadata": {},
   "outputs": [
    {
     "data": {
      "text/plain": []
     },
     "execution_count": 1375,
     "metadata": {},
     "output_type": "execute_result"
    }
   ],
   "source": [
    "empty_I = 'I'*H.n_qubits\n",
    "rot_H = PauliwordOp({empty_I: 0})\n",
    "dI2 = I_term_LCU.coeff_vec[0]**2\n",
    "two_dI = 2*I_term_LCU.coeff_vec[0]\n",
    "\n",
    " \n",
    "#equation B49\n",
    "rot_H = H.multiply_by_constant(dI2) # first term!\n",
    "for j, P_jk in enumerate(non_I_terms):\n",
    "    for ci_Pi in H:\n",
    "        vi_Pi = P_jk * ci_Pi * P_jk.conjugate \n",
    "        rot_H+= vi_Pi \n",
    "    \n",
    "        anti_comm_Pi_Pjk = not ci_Pi.commutes(P_jk)\n",
    "        if anti_comm_Pi_Pjk:\n",
    "            # extra term from anticommuting part!\n",
    "            ci_dj_PjkPi = P_jk * ci_Pi \n",
    "             # 2dI_ci_dj_PjkPi\n",
    "            rot_H+= ci_dj_PjkPi.multiply_by_constant(two_dI)\n",
    "        \n",
    "        for l in range(j+1,len(non_I_terms)):\n",
    "            P_lk = non_I_terms[l]\n",
    "            comm_Pi_Plk = ci_Pi.commutes(P_lk)\n",
    "            if ( (not anti_comm_Pi_Pjk) and  (not comm_Pi_Plk)):\n",
    "                \n",
    "                Pi_Pjk_Pkl =  ci_Pi * P_jk * Plk.conjugate\n",
    "                rot_H+= Pi_Pjk_Pkl.multiply_by_constant(2)\n",
    "                \n",
    "            elif (anti_comm_Pi_Pjk and comm_Pi_Plk):\n",
    "                \n",
    "                Pi_Pkl_Pjk =  ci_Pi *  Plk.conjugate * P_jk\n",
    "                rot_H+= Pi_Pkl_Pjk.multiply_by_constant(2)\n",
    "\n",
    "        \n",
    "out1 = LCU_rots * H * LCU_rots.conjugate\n",
    "out1 - rot_H"
   ]
  },
  {
   "cell_type": "code",
   "execution_count": 1377,
   "id": "a2aa8083",
   "metadata": {},
   "outputs": [],
   "source": []
  },
  {
   "cell_type": "code",
   "execution_count": 1381,
   "id": "dfb2b085",
   "metadata": {},
   "outputs": [
    {
     "data": {
      "text/plain": []
     },
     "execution_count": 1381,
     "metadata": {},
     "output_type": "execute_result"
    }
   ],
   "source": [
    "empty_I = 'I'*H.n_qubits\n",
    "rot_H = PauliwordOp({empty_I: 0})\n",
    "dI2 = I_term_LCU.coeff_vec[0]**2\n",
    "two_dI = 2*I_term_LCU.coeff_vec[0]\n",
    "\n",
    " \n",
    "#equation B49\n",
    "rot_H = H.multiply_by_constant(dI2) # first term!\n",
    "for j, P_jk in enumerate(non_I_terms):\n",
    "    for ci_Pi in H:\n",
    "        vi_Pi = P_jk * ci_Pi * P_jk.conjugate \n",
    "        rot_H+= vi_Pi \n",
    "    \n",
    "        anti_comm_Pi_Pjk = not ci_Pi.commutes(P_jk)\n",
    "        if anti_comm_Pi_Pjk:\n",
    "            # extra term from anticommuting part!\n",
    "            ci_dj_PjkPi = P_jk * ci_Pi \n",
    "             # 2dI_ci_dj_PjkPi\n",
    "            rot_H+= ci_dj_PjkPi.multiply_by_constant(two_dI)\n",
    "        \n",
    "        for l in range(j+1,len(non_I_terms)):\n",
    "            P_lk = non_I_terms[l]\n",
    "            comm_Pi_Plk = ci_Pi.commutes(P_lk)\n",
    "            if ( (not anti_comm_Pi_Pjk) and  (not comm_Pi_Plk)):\n",
    "                \n",
    "                Pi_Pjk_Pkl =  ci_Pi * P_jk * Plk.conjugate\n",
    "                rot_H+= Pi_Pjk_Pkl.multiply_by_constant(2)\n",
    "                \n",
    "            elif (anti_comm_Pi_Pjk and comm_Pi_Plk):\n",
    "                \n",
    "                Pi_Pkl_Pjk =  ci_Pi *  Plk.conjugate * P_jk\n",
    "                rot_H+= Pi_Pkl_Pjk.multiply_by_constant(2)\n",
    "\n",
    "        \n",
    "out1 = LCU_rots * H * LCU_rots.conjugate\n",
    "out1 - rot_H"
   ]
  },
  {
   "cell_type": "code",
   "execution_count": 1386,
   "id": "c7ebf258",
   "metadata": {},
   "outputs": [],
   "source": [
    "empty_I = 'I'*H.n_qubits\n",
    "rot_H = PauliwordOp({empty_I: 0})\n",
    "dI2 = I_term_LCU.coeff_vec[0]**2\n",
    "two_dI = 2*I_term_LCU.coeff_vec[0]\n",
    "\n",
    " \n",
    "#equation B49\n",
    "rot_H = H.multiply_by_constant(dI2) # first term!\n",
    "for j, P_jk in enumerate(non_I_terms):\n",
    "    for ci_Pi in H:\n",
    "        vi_Pi = P_jk * ci_Pi * P_jk.conjugate \n",
    "        rot_H+= vi_Pi \n",
    "    \n",
    "        \n",
    "        # anti-comm first\n",
    "        P_kl = P_jk.conjugate\n",
    "        Pi_Pkl = (ci_Pi*P_kl).multiply_by_constant(I_term_LCU.coeff_vec[0])\n",
    "        Pjk_Pi = (P_jk*ci_Pi).multiply_by_constant(I_term_LCU.coeff_vec[0])\n",
    "        \n",
    "        rot_H+= (Pi_Pkl+Pjk_Pi)\n",
    "        \n",
    "        \n",
    "        for l in range(j+1,len(non_I_terms)):\n",
    "            P_lk = non_I_terms[l]\n",
    "            comm_Pi_Plk = ci_Pi.commutes(P_lk)\n",
    "            if ( (not anti_comm_Pi_Pjk) and  (not comm_Pi_Plk)):\n",
    "                \n",
    "                Pi_Pjk_Pkl =  ci_Pi * P_jk * Plk.conjugate\n",
    "                rot_H+= Pi_Pjk_Pkl.multiply_by_constant(2)\n",
    "                \n",
    "            elif (anti_comm_Pi_Pjk and comm_Pi_Plk):\n",
    "                \n",
    "                Pi_Pkl_Pjk =  ci_Pi *  Plk.conjugate * P_jk\n",
    "                rot_H+= Pi_Pkl_Pjk.multiply_by_constant(2)\n",
    "\n",
    "        \n",
    "# out1 = LCU_rots * H * LCU_rots.conjugate\n",
    "# out1 - rot_H"
   ]
  },
  {
   "cell_type": "code",
   "execution_count": null,
   "id": "10cb03ec",
   "metadata": {},
   "outputs": [],
   "source": []
  },
  {
   "cell_type": "code",
   "execution_count": 1429,
   "id": "b6105b9a",
   "metadata": {},
   "outputs": [
    {
     "data": {
      "text/plain": []
     },
     "execution_count": 1429,
     "metadata": {},
     "output_type": "execute_result"
    }
   ],
   "source": [
    "#equation B49\n",
    "rot_H = PauliwordOp({'IIII':0})\n",
    "for j, P_jk in enumerate(non_I_terms):\n",
    "    for ci_Pi in H:    \n",
    "        # anti-comm first\n",
    "        P_kl = P_jk.conjugate\n",
    "        Pi_Pkl = (ci_Pi*P_kl).multiply_by_constant(I_term_LCU.coeff_vec[0])\n",
    "        Pjk_Pi = (P_jk*ci_Pi).multiply_by_constant(I_term_LCU.coeff_vec[0])\n",
    "        \n",
    "        rot_H+= (Pi_Pkl+Pjk_Pi)\n",
    "\n",
    "## vs\n",
    "\n",
    "left_mult = (LCU_rots[1:]*H)#.multiply_by_constant(I_term_LCU.coeff_vec[0])\n",
    "righ_mult = (H*LCU_rots[1:].conjugate)#.multiply_by_constant(I_term_LCU.coeff_vec[0])\n",
    "rot_H - (left_mult + righ_mult).multiply_by_constant(I_term_LCU.coeff_vec[0])"
   ]
  },
  {
   "cell_type": "code",
   "execution_count": null,
   "id": "d6efa79b",
   "metadata": {},
   "outputs": [],
   "source": []
  },
  {
   "cell_type": "code",
   "execution_count": null,
   "id": "25efa2f7",
   "metadata": {},
   "outputs": [],
   "source": []
  },
  {
   "cell_type": "code",
   "execution_count": null,
   "id": "fc5ffb42",
   "metadata": {},
   "outputs": [],
   "source": []
  },
  {
   "cell_type": "code",
   "execution_count": 1489,
   "id": "6121dd2d",
   "metadata": {},
   "outputs": [
    {
     "data": {
      "text/plain": []
     },
     "execution_count": 1489,
     "metadata": {},
     "output_type": "execute_result"
    }
   ],
   "source": [
    "\n",
    "dI2 = I_term_LCU.coeff_vec[0]**2\n",
    "two_dI = 2*I_term_LCU.coeff_vec[0]\n",
    "\n",
    "empty_I = 'I'*H.n_qubits\n",
    "rot_H = PauliwordOp({empty_I: 0}) \n",
    "#equation B49\n",
    "rot_H = H.multiply_by_constant(dI2) # first term!\n",
    "for j, P_jk in enumerate(non_I_terms):\n",
    "    for ci_Pi in H:\n",
    "        vi_Pi = P_jk * ci_Pi * P_jk.conjugate \n",
    "        rot_H+= vi_Pi \n",
    "    \n",
    "        \n",
    "        # anti-comm first\n",
    "        P_kl = P_jk.conjugate\n",
    "        Pi_Pkl = (ci_Pi*P_kl).multiply_by_constant(I_term_LCU.coeff_vec[0])\n",
    "        Pjk_Pi = (P_jk*ci_Pi).multiply_by_constant(I_term_LCU.coeff_vec[0])\n",
    "        \n",
    "        rot_H+= (Pi_Pkl+Pjk_Pi)\n",
    "        \n",
    "        \n",
    "        for l, P_lk in enumerate(non_I_terms[(j+1):]):\n",
    "            P_jk_Pi_P_kl = P_jk * ci_Pi * P_lk.conjugate\n",
    "            P_lk_Pi_P_kj = P_lk * ci_Pi * P_jk.conjugate\n",
    "            rot_H+= (P_jk_Pi_P_kl+P_lk_Pi_P_kj)\n",
    "            \n",
    "#             if ( (not ci_Pi.commutes(P_lk)) and  (not ci_Pi.commutes(P_jk))):\n",
    "#                 print('emtpy:', (P_jk_Pi_P_kl+P_lk_Pi_P_kj))\n",
    "#             if ( ( ci_Pi.commutes(P_lk)) and  ( ci_Pi.commutes(P_jk))):\n",
    "#                 print('emtpy:', (P_jk_Pi_P_kl+P_lk_Pi_P_kj))\n",
    "\n",
    "        \n",
    "out1 = LCU_rots * H * LCU_rots.conjugate\n",
    "out1 - rot_H"
   ]
  },
  {
   "cell_type": "code",
   "execution_count": null,
   "id": "f42c3188",
   "metadata": {},
   "outputs": [],
   "source": []
  },
  {
   "cell_type": "code",
   "execution_count": 1573,
   "id": "767f08e3",
   "metadata": {},
   "outputs": [],
   "source": [
    "empty_I = 'I'*H.n_qubits\n",
    "rot_H = PauliwordOp({empty_I: 0})\n",
    "dI2 = I_term_LCU.coeff_vec[0]**2\n",
    "two_dI = 2*I_term_LCU.coeff_vec[0]\n"
   ]
  },
  {
   "cell_type": "code",
   "execution_count": 1574,
   "id": "86f30ad9",
   "metadata": {},
   "outputs": [
    {
     "name": "stdout",
     "output_type": "stream",
     "text": [
      "32.3 ms ± 408 µs per loop (mean ± std. dev. of 7 runs, 10 loops each)\n"
     ]
    }
   ],
   "source": [
    "%%timeit\n",
    "rot_H = H.multiply_by_constant(dI2) # first term!\n",
    "for j, P_jk in enumerate(non_I_terms):\n",
    "    for ci_Pi in H:\n",
    "        vi_Pi = P_jk * ci_Pi * P_jk.conjugate \n",
    "        rot_H+= vi_Pi \n",
    "    \n",
    "        \n",
    "        # anti-comm first\n",
    "        P_kl = P_jk.conjugate\n",
    "        Pi_Pkl = (ci_Pi*P_kl).multiply_by_constant(I_term_LCU.coeff_vec[0])\n",
    "        Pjk_Pi = (P_jk*ci_Pi).multiply_by_constant(I_term_LCU.coeff_vec[0])\n",
    "        \n",
    "        rot_H+= (Pi_Pkl+Pjk_Pi)\n",
    "        \n",
    "        \n",
    "        for l, P_lk in enumerate(non_I_terms[(j+1):]):\n",
    "            P_jk_Pi_P_kl = P_jk * ci_Pi * P_lk.conjugate\n",
    "            P_lk_Pi_P_kj = P_lk * ci_Pi * P_jk.conjugate\n",
    "            rot_H+= (P_jk_Pi_P_kl+P_lk_Pi_P_kj)\n",
    "            \n",
    "\n",
    "        \n",
    "\n"
   ]
  },
  {
   "cell_type": "code",
   "execution_count": 1474,
   "id": "3855419d",
   "metadata": {},
   "outputs": [
    {
     "name": "stdout",
     "output_type": "stream",
     "text": [
      "3.36 ms ± 49.3 µs per loop (mean ± std. dev. of 7 runs, 100 loops each)\n"
     ]
    }
   ],
   "source": [
    "%%timeit\n",
    "out1 = LCU_rots * H * LCU_rots.conjugate\n"
   ]
  },
  {
   "cell_type": "code",
   "execution_count": null,
   "id": "1e9d88bb",
   "metadata": {},
   "outputs": [],
   "source": []
  },
  {
   "cell_type": "code",
   "execution_count": null,
   "id": "cc728acc",
   "metadata": {},
   "outputs": [],
   "source": []
  },
  {
   "cell_type": "code",
   "execution_count": 1486,
   "id": "3889aac2",
   "metadata": {},
   "outputs": [
    {
     "data": {
      "text/plain": [
       "0.000+0.000j YIXI +\n",
       "3.509-0.000j YXXI +\n",
       "12.281+0.000j XZXI +\n",
       "11.373+0.000j XYXI +\n",
       "0.812-0.000j YZXI +\n",
       "-0.812+0.000j YYXI +\n",
       "0.000+0.000j XIZI +\n",
       "3.509-0.000j XXZI +\n",
       "10.527-0.000j IIYI +\n",
       "1.754-0.000j YXYI +\n",
       "-4.874+0.000j XYZI +\n",
       "6.595-0.000j ZZZI +\n",
       "1.625+0.000j YZZI +\n",
       "5.686+0.000j ZYZI +\n",
       "1.625-0.000j YYZI +\n",
       "-0.812+0.000j ZZYI +\n",
       "0.942-0.000j ZYYI"
      ]
     },
     "execution_count": 1486,
     "metadata": {},
     "output_type": "execute_result"
    }
   ],
   "source": [
    "#equation B49\n",
    "rot_H = PauliwordOp({'IIII':0})\n",
    "for j, P_jk in enumerate(non_I_terms):\n",
    "    for ci_Pi in H:    \n",
    "        for l, P_lk in enumerate(non_I_terms[(j+1):]):\n",
    "            P_jk_Pi_P_kl = P_jk * ci_Pi * P_lk.conjugate\n",
    "            P_lk_Pi_P_kj = P_lk * ci_Pi * P_jk.conjugate\n",
    "            rot_H+= (P_jk_Pi_P_kl+P_lk_Pi_P_kj)\n",
    "\n",
    "## vs\n",
    "\n",
    "left_mult = (LCU_rots[1:]*H)#.multiply_by_constant(I_term_LCU.coeff_vec[0])\n",
    "righ_mult = (H*LCU_rots[1:].conjugate)#.multiply_by_constant(I_term_LCU.coeff_vec[0])\n",
    "\n",
    "test = PauliwordOp({'IIII':0})\n",
    "for j, P_jk in enumerate(non_I_terms):\n",
    "    for ci_Pi in H:    \n",
    "        l=(j+1)\n",
    "        ci_P_jk_Pi_P_kl = P_jk * righ_mult[l:]\n",
    "        bbbbb = P_jk * righ_mult[l:].conjugate\n",
    "        \n",
    "        test +=(ci_P_jk_Pi_P_kl+bbbbb)\n",
    "        \n",
    "rot_H-test"
   ]
  },
  {
   "cell_type": "code",
   "execution_count": 1493,
   "id": "8cdf59bc",
   "metadata": {},
   "outputs": [
    {
     "data": {
      "text/plain": [
       "0.000+0.580j XZZI +\n",
       "0.000+0.539j XYZI"
      ]
     },
     "execution_count": 1493,
     "metadata": {},
     "output_type": "execute_result"
    }
   ],
   "source": []
  },
  {
   "cell_type": "code",
   "execution_count": 1542,
   "id": "f1cd5d9a",
   "metadata": {},
   "outputs": [
    {
     "data": {
      "text/plain": [
       "1"
      ]
     },
     "execution_count": 1542,
     "metadata": {},
     "output_type": "execute_result"
    }
   ],
   "source": []
  },
  {
   "cell_type": "code",
   "execution_count": 1567,
   "id": "a540e85f",
   "metadata": {},
   "outputs": [
    {
     "data": {
      "text/plain": []
     },
     "execution_count": 1567,
     "metadata": {},
     "output_type": "execute_result"
    }
   ],
   "source": [
    "empty_I = 'I'*H.n_qubits\n",
    "rot_H = PauliwordOp({empty_I: 0})\n",
    "dI2 = I_term_LCU.coeff_vec[0]**2\n",
    "two_dI = 2*I_term_LCU.coeff_vec[0]\n",
    "\n",
    "\n",
    "non_I_terms = LCU_rots[1:]\n",
    "\n",
    "commutation_check = H.commutes_termwise(non_I_terms)\n",
    "rot_H = H.multiply_by_constant(dI2) # first term!\n",
    "for j, P_jk in enumerate(non_I_terms):\n",
    "    for i, ci_Pi in enumerate(H):\n",
    "        \n",
    "        # vi_Pi = P_jk * ci_Pi * P_jk.conjugate\n",
    "        # rot_H += vi_Pi\n",
    "        signed_bjk_blk_2 = (-1) ** (not commutation_check[i, j]) * P_jk.coeff_vec[0] * P_jk.coeff_vec[0].conjugate()\n",
    "        vi_Pi = ci_Pi.multiply_by_constant(signed_bjk_blk_2)\n",
    "        rot_H += vi_Pi\n",
    "        \n",
    "    \n",
    " \n",
    "        if not commutation_check[i, j]: #ci_Pi.commutes(P_rot)            \n",
    "            ci_dj_PjkPi = P_jk * ci_Pi \n",
    "             # 2dI_ci_dj_PjkPi\n",
    "            rot_H+= ci_dj_PjkPi.multiply_by_constant(two_dI)\n",
    "        \n",
    "        for l, P_lk in enumerate(non_I_terms[(j+1):]):\n",
    "            l_ind = l+(j+1)\n",
    "            if (commutation_check[i,j] and  (not commutation_check[i,l_ind])):\n",
    "                Pi_Pjk_Pkl =  ci_Pi * P_jk * Plk.conjugate           \n",
    "                rot_H+= Pi_Pjk_Pkl.multiply_by_constant(2)\n",
    "\n",
    "            elif ((not commutation_check[i,j]) and  (commutation_check[i,l_ind])):\n",
    "                Pi_Pkl_Pjk =  ci_Pi *  Plk.conjugate * P_jk\n",
    "                rot_H+= Pi_Pkl_Pjk.multiply_by_constant(2)\n",
    "            \n",
    "        \n",
    "        \n",
    "out1 = LCU_rots * H * LCU_rots.conjugate\n",
    "out1 - rot_H"
   ]
  },
  {
   "cell_type": "code",
   "execution_count": null,
   "id": "ad8e62b6",
   "metadata": {},
   "outputs": [],
   "source": []
  },
  {
   "cell_type": "code",
   "execution_count": 1568,
   "id": "44ebbbc4",
   "metadata": {},
   "outputs": [],
   "source": [
    "empty_I = 'I'*H.n_qubits\n",
    "rot_H = PauliwordOp({empty_I: 0})\n",
    "dI2 = I_term_LCU.coeff_vec[0]**2\n",
    "two_dI = 2*I_term_LCU.coeff_vec[0]\n",
    "\n",
    "\n",
    "non_I_terms = LCU_rots[1:]"
   ]
  },
  {
   "cell_type": "code",
   "execution_count": 1578,
   "id": "4b1edcfd",
   "metadata": {},
   "outputs": [
    {
     "name": "stdout",
     "output_type": "stream",
     "text": [
      "12.3 ms ± 623 µs per loop (mean ± std. dev. of 7 runs, 100 loops each)\n"
     ]
    }
   ],
   "source": [
    "%%timeit\n",
    "commutation_check = H.commutes_termwise(non_I_terms)\n",
    "rot_H = H.multiply_by_constant(dI2) # first term!\n",
    "for j, P_jk in enumerate(non_I_terms):\n",
    "    for i, ci_Pi in enumerate(H):\n",
    "        \n",
    "        # vi_Pi = P_jk * ci_Pi * P_jk.conjugate\n",
    "        # rot_H += vi_Pi\n",
    "        signed_bjk_blk_2 = (-1) ** (not commutation_check[i, j]) * P_jk.coeff_vec[0] * P_jk.coeff_vec[0].conjugate()\n",
    "        vi_Pi = ci_Pi.multiply_by_constant(signed_bjk_blk_2)\n",
    "        rot_H += vi_Pi\n",
    "        \n",
    "    \n",
    " \n",
    "        if not commutation_check[i, j]: #ci_Pi.commutes(P_rot)            \n",
    "            ci_dj_PjkPi = P_jk * ci_Pi \n",
    "             # 2dI_ci_dj_PjkPi\n",
    "            rot_H+= ci_dj_PjkPi.multiply_by_constant(two_dI)\n",
    "        \n",
    "        for l, P_lk in enumerate(non_I_terms[(j+1):]):\n",
    "            l_ind = l+(j+1)\n",
    "            if (commutation_check[i,j] and  (not commutation_check[i,l_ind])):\n",
    "                Pi_Pjk_Pkl =  ci_Pi * P_jk * Plk.conjugate           \n",
    "                rot_H+= Pi_Pjk_Pkl.multiply_by_constant(2)\n",
    "\n",
    "            elif ((not commutation_check[i,j]) and  (commutation_check[i,l_ind])):\n",
    "                Pi_Pkl_Pjk =  ci_Pi *  Plk.conjugate * P_jk\n",
    "                rot_H+= Pi_Pkl_Pjk.multiply_by_constant(2)\n",
    "            \n",
    "        "
   ]
  },
  {
   "cell_type": "code",
   "execution_count": 1579,
   "id": "d78d8f04",
   "metadata": {},
   "outputs": [
    {
     "data": {
      "text/plain": []
     },
     "execution_count": 1579,
     "metadata": {},
     "output_type": "execute_result"
    }
   ],
   "source": [
    "commutation_check = H.commutes_termwise(non_I_terms)\n",
    "rot_H = H.multiply_by_constant(dI2) # first term!\n",
    "for j, P_jk in enumerate(non_I_terms):\n",
    "    for i, ci_Pi in enumerate(H):\n",
    "        \n",
    "        # vi_Pi = P_jk * ci_Pi * P_jk.conjugate\n",
    "        # rot_H += vi_Pi\n",
    "        signed_bjk_blk_2 = (-1) ** (not commutation_check[i, j]) * P_jk.coeff_vec[0] * P_jk.coeff_vec[0].conjugate()\n",
    "        vi_Pi = ci_Pi.multiply_by_constant(signed_bjk_blk_2)\n",
    "        rot_H += vi_Pi\n",
    "        \n",
    "    \n",
    " \n",
    "        if not commutation_check[i, j]: #ci_Pi.commutes(P_rot)            \n",
    "            ci_dj_PjkPi = P_jk * ci_Pi \n",
    "             # 2dI_ci_dj_PjkPi\n",
    "            rot_H+= ci_dj_PjkPi.multiply_by_constant(two_dI)\n",
    "        \n",
    "        for l, P_lk in enumerate(non_I_terms[(j+1):]):\n",
    "            l_ind = l+(j+1)\n",
    "            if (commutation_check[i,j] and  (not commutation_check[i,l_ind])):\n",
    "                Pi_Pjk_Pkl =  ci_Pi * P_jk * Plk.conjugate           \n",
    "                rot_H+= Pi_Pjk_Pkl.multiply_by_constant(2)\n",
    "\n",
    "            elif ((not commutation_check[i,j]) and  (commutation_check[i,l_ind])):\n",
    "                Pi_Pkl_Pjk =  ci_Pi *  Plk.conjugate * P_jk\n",
    "                rot_H+= Pi_Pkl_Pjk.multiply_by_constant(2)\n",
    "                \n",
    "out1 = LCU_rots * H * LCU_rots.conjugate\n",
    "out1 - rot_H"
   ]
  },
  {
   "cell_type": "code",
   "execution_count": 1575,
   "id": "fed0e3be",
   "metadata": {},
   "outputs": [
    {
     "data": {
      "text/plain": [
       "1.000+0.000j YIXI"
      ]
     },
     "execution_count": 1575,
     "metadata": {},
     "output_type": "execute_result"
    }
   ],
   "source": [
    "Pjk_Pi = P_jk._multiply_single_Pword_phaseless(ci_Pi)\n",
    "c"
   ]
  },
  {
   "cell_type": "code",
   "execution_count": null,
   "id": "1b4e2b36",
   "metadata": {},
   "outputs": [],
   "source": []
  },
  {
   "cell_type": "code",
   "execution_count": null,
   "id": "c3451b64",
   "metadata": {},
   "outputs": [],
   "source": []
  },
  {
   "cell_type": "code",
   "execution_count": null,
   "id": "f6b38d2f",
   "metadata": {},
   "outputs": [],
   "source": []
  },
  {
   "cell_type": "code",
   "execution_count": 1601,
   "id": "451751eb",
   "metadata": {},
   "outputs": [
    {
     "data": {
      "text/plain": [
       "-0.020+0.000j IXII +\n",
       "0.100+0.000j XXXI +\n",
       "-0.007+0.000j ZIII +\n",
       "-0.700+0.000j YIII +\n",
       "0.097+0.000j YXXI +\n",
       "0.182+0.000j IZII +\n",
       "-0.083+0.000j IYII +\n",
       "0.910+0.000j XZXI +\n",
       "0.255+0.000j XYXI +\n",
       "0.091+0.000j ZZXI +\n",
       "-0.042+0.000j YZXI +\n",
       "-0.041+0.000j ZYXI +\n",
       "-0.091+0.000j YYXI +\n",
       "-0.003+0.000j XXZI +\n",
       "0.668+0.000j IIYI +\n",
       "0.500+0.000j XXYI +\n",
       "0.003+0.000j ZXYI +\n",
       "-0.001+0.000j YXYI +\n",
       "-0.249+0.000j XZZI +\n",
       "-0.546+0.000j XYZI +\n",
       "0.025+0.000j ZZZI +\n",
       "0.182+0.000j YZZI +\n",
       "-0.083+0.000j YYZI +\n",
       "-0.182+0.000j ZZYI +\n",
       "0.087+0.000j ZYYI +\n",
       "0.500+0.000j IIIZ"
      ]
     },
     "execution_count": 1601,
     "metadata": {},
     "output_type": "execute_result"
    }
   ],
   "source": [
    "\n",
    "rot_H = H.copy()\n",
    "for R_sk, angle in cs_vqe_obj.unitary_partitioning_rotations:\n",
    "    for P in H:\n",
    "        rot_H= (rot_H._rotate_by_single_Pword(R_sk, angle)).cleanup()\n",
    "        \n",
    "rot_H"
   ]
  },
  {
   "cell_type": "code",
   "execution_count": 1611,
   "id": "fb3a0786",
   "metadata": {},
   "outputs": [],
   "source": [
    "from symred.utils import get_ground_state_sparse"
   ]
  },
  {
   "cell_type": "code",
   "execution_count": 1618,
   "id": "964ddcaa",
   "metadata": {},
   "outputs": [
    {
     "data": {
      "text/plain": [
       "4.884981308350689e-15"
      ]
     },
     "execution_count": 1618,
     "metadata": {},
     "output_type": "execute_result"
    }
   ],
   "source": [
    "LCU_mat = get_ground_state_sparse((LCU_rots * H * LCU_rots.conjugate).to_sparse_matrix)\n",
    "seq_rot_mat = get_ground_state_sparse(rot_H.to_sparse_matrix)\n",
    "                                     \n",
    "LCU_mat[0] - seq_rot_mat[0]"
   ]
  }
 ],
 "metadata": {
  "kernelspec": {
   "display_name": "Python 3 (ipykernel)",
   "language": "python",
   "name": "python3"
  },
  "language_info": {
   "codemirror_mode": {
    "name": "ipython",
    "version": 3
   },
   "file_extension": ".py",
   "mimetype": "text/x-python",
   "name": "python",
   "nbconvert_exporter": "python",
   "pygments_lexer": "ipython3",
   "version": "3.9.7"
  }
 },
 "nbformat": 4,
 "nbformat_minor": 5
}
