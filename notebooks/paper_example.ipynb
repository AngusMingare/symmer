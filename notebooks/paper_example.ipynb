{
 "cells": [
  {
   "cell_type": "code",
   "execution_count": 1,
   "id": "02be2d9e",
   "metadata": {},
   "outputs": [],
   "source": [
    "from symred.symplectic import PauliwordOp\n",
    "from symred.projection.cs_vqe import CS_VQE"
   ]
  },
  {
   "cell_type": "code",
   "execution_count": 2,
   "id": "c1942ca8",
   "metadata": {},
   "outputs": [],
   "source": [
    "H_full = {\n",
    " # noncon\n",
    " 'IIYI': 0.6,\n",
    " 'XYXI': 0.7,\n",
    " 'XZXI': 0.7,\n",
    " 'XZZI': 0.6,\n",
    " 'YXYI': 0.1,\n",
    "#  'ZYZI': 0.6,\n",
    "#  'ZZXI': 0.1,\n",
    " 'ZZZI': 0.7,\n",
    " 'IIIZ': 0.5,\n",
    "    \n",
    " # con\n",
    " 'XXXI': 0.1,\n",
    " 'XXYI': 0.5,\n",
    " 'XXZI': 0.2,\n",
    " 'YXXI': 0.2,\n",
    "#  'YYXI': 0.2,\n",
    " 'YYZI': 0.2,\n",
    " 'YZXI': 0.1,\n",
    " 'ZYYI': 0.1\n",
    "      }"
   ]
  },
  {
   "cell_type": "code",
   "execution_count": 3,
   "id": "fae003f4",
   "metadata": {},
   "outputs": [],
   "source": [
    "H = PauliwordOp(H_full)"
   ]
  },
  {
   "cell_type": "code",
   "execution_count": 4,
   "id": "643320b1",
   "metadata": {},
   "outputs": [
    {
     "name": "stderr",
     "output_type": "stream",
     "text": [
      "/Users/lex/anaconda3/envs/symred/lib/python3.9/site-packages/symred/projection/cs_vqe.py:198: ComplexWarning: Casting complex values to real discards the imaginary part\n",
      "  pauli_mult_signs[index] = gen_mult.coeff_vec[0]\n"
     ]
    }
   ],
   "source": [
    "cs_vqe_obj = CS_VQE(H)"
   ]
  },
  {
   "cell_type": "code",
   "execution_count": 5,
   "id": "46398962",
   "metadata": {},
   "outputs": [
    {
     "data": {
      "text/plain": [
       "0.100+0.000j XXXI +\n",
       "0.200+0.000j YXXI +\n",
       "0.100+0.000j YZXI +\n",
       "0.200+0.000j XXZI +\n",
       "0.500+0.000j XXYI +\n",
       "0.200+0.000j YYZI +\n",
       "0.100+0.000j ZYYI"
      ]
     },
     "execution_count": 5,
     "metadata": {},
     "output_type": "execute_result"
    }
   ],
   "source": [
    "# H_con\n",
    "cs_vqe_obj.contextual_operator"
   ]
  },
  {
   "cell_type": "code",
   "execution_count": 6,
   "id": "e596a4fd",
   "metadata": {},
   "outputs": [
    {
     "data": {
      "text/plain": [
       "0.700+0.000j XZXI +\n",
       "0.700+0.000j XYXI +\n",
       "0.600+0.000j IIYI +\n",
       "0.100+0.000j YXYI +\n",
       "0.600+0.000j XZZI +\n",
       "0.700+0.000j ZZZI +\n",
       "0.500+0.000j IIIZ"
      ]
     },
     "execution_count": 6,
     "metadata": {},
     "output_type": "execute_result"
    }
   ],
   "source": [
    "# H_noncon\n",
    "cs_vqe_obj.noncontextual_operator"
   ]
  },
  {
   "cell_type": "code",
   "execution_count": 7,
   "id": "f9dbd110",
   "metadata": {},
   "outputs": [
    {
     "data": {
      "text/plain": [
       "{'symmetry': 0.500+0.000j IIIZ,\n",
       " 'clique_0': 0.600+0.000j IIYI +\n",
       " 0.100+0.000j YXYI,\n",
       " 'clique_1': 0.700+0.000j XYXI +\n",
       " 0.600+0.000j XZZI,\n",
       " 'clique_2': 0.700+0.000j XZXI +\n",
       " 0.700+0.000j ZZZI}"
      ]
     },
     "execution_count": 7,
     "metadata": {},
     "output_type": "execute_result"
    }
   ],
   "source": [
    "#\n",
    "cs_vqe_obj.decomposed"
   ]
  },
  {
   "cell_type": "code",
   "execution_count": null,
   "id": "4f03d5a1",
   "metadata": {},
   "outputs": [],
   "source": []
  },
  {
   "cell_type": "code",
   "execution_count": 8,
   "id": "856d6986",
   "metadata": {},
   "outputs": [
    {
     "data": {
      "text/plain": [
       "-0.253 IIYI +\n",
       "-0.658 XYXI +\n",
       "-0.709 XZXI"
      ]
     },
     "execution_count": 8,
     "metadata": {},
     "output_type": "execute_result"
    }
   ],
   "source": [
    "# A(r)\n",
    "cs_vqe_obj.clique_operator"
   ]
  },
  {
   "cell_type": "code",
   "execution_count": 9,
   "id": "78a5ab03",
   "metadata": {},
   "outputs": [
    {
     "data": {
      "text/plain": [
       "-1 YIYI \n",
       " 1 IXYI \n",
       "-1 IIIZ"
      ]
     },
     "execution_count": 9,
     "metadata": {},
     "output_type": "execute_result"
    }
   ],
   "source": [
    "# q_vec G\n",
    "cs_vqe_obj.symmetry_generators"
   ]
  },
  {
   "cell_type": "code",
   "execution_count": null,
   "id": "03d4b210",
   "metadata": {},
   "outputs": [],
   "source": []
  },
  {
   "cell_type": "code",
   "execution_count": 10,
   "id": "56335bfd",
   "metadata": {},
   "outputs": [
    {
     "data": {
      "text/plain": [
       "-2.474841765813145"
      ]
     },
     "execution_count": 10,
     "metadata": {},
     "output_type": "execute_result"
    }
   ],
   "source": [
    "# E_noncon\n",
    "cs_vqe_obj.noncontextual_energy"
   ]
  },
  {
   "cell_type": "code",
   "execution_count": null,
   "id": "051231ee",
   "metadata": {},
   "outputs": [],
   "source": []
  },
  {
   "cell_type": "code",
   "execution_count": 11,
   "id": "8f03912a",
   "metadata": {},
   "outputs": [],
   "source": [
    "# stabs = PauliwordOp({'IIZI': -1})\n",
    "# H_reduced = cs_vqe_obj.project_onto_subspace(stabilizers= stabs,\n",
    "#                                              enforce_clique_operator= True)"
   ]
  },
  {
   "cell_type": "code",
   "execution_count": 12,
   "id": "7d5b56b9",
   "metadata": {},
   "outputs": [
    {
     "ename": "NameError",
     "evalue": "name 'symp_matrix' is not defined",
     "output_type": "error",
     "traceback": [
      "\u001b[0;31m---------------------------------------------------------------------------\u001b[0m",
      "\u001b[0;31mNameError\u001b[0m                                 Traceback (most recent call last)",
      "\u001b[0;32m/var/folders/7l/9g4tmq2s5zg48_szmd8z7qh40000gn/T/ipykernel_27458/3208394753.py\u001b[0m in \u001b[0;36m<cell line: 1>\u001b[0;34m()\u001b[0m\n\u001b[0;32m----> 1\u001b[0;31m \u001b[0mZ_terms\u001b[0m \u001b[0;34m=\u001b[0m \u001b[0msymp_matrix\u001b[0m\u001b[0;34m[\u001b[0m\u001b[0;34m:\u001b[0m\u001b[0mn_qubits\u001b[0m\u001b[0;34m]\u001b[0m\u001b[0;34m\u001b[0m\u001b[0;34m\u001b[0m\u001b[0m\n\u001b[0m\u001b[1;32m      2\u001b[0m \u001b[0mZ_terms\u001b[0m\u001b[0;34m\u001b[0m\u001b[0;34m\u001b[0m\u001b[0m\n",
      "\u001b[0;31mNameError\u001b[0m: name 'symp_matrix' is not defined"
     ]
    }
   ],
   "source": [
    "Z_terms = symp_matrix[:n_qubits]\n",
    "Z_terms"
   ]
  },
  {
   "cell_type": "code",
   "execution_count": 22,
   "id": "208c2395",
   "metadata": {},
   "outputs": [],
   "source": [
    "def random_PauliwordOp(n_qubits, n_terms, diagonal=False, complex_coeffs=False):\n",
    "    \"\"\" Generate a random PauliwordOp with normally distributed complex coefficients\n",
    "    \"\"\"\n",
    "    symp_matrix = random_symplectic_matrix(n_qubits, n_terms, diagonal)\n",
    "    coeff_vec = np.random.randn(n_terms)\n",
    "    if complex_coeffs:\n",
    "        coeff_vec+=1j*np.random.randn(n_terms)\n",
    "        \n",
    "    return PauliwordOp(symp_matrix, coeff_vec)"
   ]
  },
  {
   "cell_type": "code",
   "execution_count": 69,
   "id": "2438fe7f",
   "metadata": {},
   "outputs": [],
   "source": [
    "from symred.symplectic import random_PauliwordOp"
   ]
  },
  {
   "cell_type": "code",
   "execution_count": 59,
   "id": "9c0042de",
   "metadata": {},
   "outputs": [],
   "source": [
    "from symred.unitary_partitioning import AntiCommutingOp"
   ]
  },
  {
   "cell_type": "code",
   "execution_count": null,
   "id": "04919d98",
   "metadata": {},
   "outputs": [],
   "source": []
  },
  {
   "cell_type": "code",
   "execution_count": 75,
   "id": "64d0577f",
   "metadata": {},
   "outputs": [],
   "source": []
  }
 ],
 "metadata": {
  "kernelspec": {
   "display_name": "Python 3 (ipykernel)",
   "language": "python",
   "name": "python3"
  },
  "language_info": {
   "codemirror_mode": {
    "name": "ipython",
    "version": 3
   },
   "file_extension": ".py",
   "mimetype": "text/x-python",
   "name": "python",
   "nbconvert_exporter": "python",
   "pygments_lexer": "ipython3",
   "version": "3.9.7"
  }
 },
 "nbformat": 4,
 "nbformat_minor": 5
}
