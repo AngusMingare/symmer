{
 "cells": [
  {
   "cell_type": "code",
   "execution_count": 1,
   "id": "1a2fb31a",
   "metadata": {},
   "outputs": [],
   "source": [
    "from symred.symplectic import PauliwordOp\n",
    "from symred.projection.cs_vqe import CS_VQE"
   ]
  },
  {
   "cell_type": "code",
   "execution_count": 2,
   "id": "19ca05fe",
   "metadata": {},
   "outputs": [],
   "source": [
    "H_full = {\n",
    " # noncon\n",
    " 'IIYI': 0.6,\n",
    " 'XYXI': 0.7,\n",
    " 'XZXI': 0.7,\n",
    " 'XZZI': 0.6,\n",
    " 'YXYI': 0.1,\n",
    "#  'ZYZI': 0.6,\n",
    "#  'ZZXI': 0.1,\n",
    " 'ZZZI': 0.7,\n",
    " 'IIIZ': 0.5,\n",
    "    \n",
    " # con\n",
    " 'XXXI': 0.1,\n",
    " 'XXYI': 0.5,\n",
    " 'XXZI': 0.2,\n",
    " 'YXXI': 0.2,\n",
    "#  'YYXI': 0.2,\n",
    " 'YYZI': 0.2,\n",
    " 'YZXI': 0.1,\n",
    " 'ZYYI': 0.1\n",
    "      }"
   ]
  },
  {
   "cell_type": "code",
   "execution_count": 3,
   "id": "faf5288a",
   "metadata": {},
   "outputs": [],
   "source": [
    "H = PauliwordOp(H_full)"
   ]
  },
  {
   "cell_type": "code",
   "execution_count": 4,
   "id": "4176f1d1",
   "metadata": {},
   "outputs": [
    {
     "name": "stderr",
     "output_type": "stream",
     "text": [
      "/Users/lex/anaconda3/envs/symred/lib/python3.9/site-packages/symred/projection/cs_vqe.py:198: ComplexWarning: Casting complex values to real discards the imaginary part\n",
      "  pauli_mult_signs[index] = gen_mult.coeff_vec[0]\n"
     ]
    }
   ],
   "source": [
    "cs_vqe_obj = CS_VQE(H)"
   ]
  },
  {
   "cell_type": "code",
   "execution_count": 5,
   "id": "f08c7443",
   "metadata": {},
   "outputs": [
    {
     "data": {
      "text/plain": [
       "0.100+0.000j XXXI +\n",
       "0.200+0.000j YXXI +\n",
       "0.100+0.000j YZXI +\n",
       "0.200+0.000j XXZI +\n",
       "0.500+0.000j XXYI +\n",
       "0.200+0.000j YYZI +\n",
       "0.100+0.000j ZYYI"
      ]
     },
     "execution_count": 5,
     "metadata": {},
     "output_type": "execute_result"
    }
   ],
   "source": [
    "# H_con\n",
    "cs_vqe_obj.contextual_operator"
   ]
  },
  {
   "cell_type": "code",
   "execution_count": 6,
   "id": "bb4dc9c0",
   "metadata": {},
   "outputs": [
    {
     "data": {
      "text/plain": [
       "0.700+0.000j XZXI +\n",
       "0.700+0.000j XYXI +\n",
       "0.600+0.000j IIYI +\n",
       "0.100+0.000j YXYI +\n",
       "0.600+0.000j XZZI +\n",
       "0.700+0.000j ZZZI +\n",
       "0.500+0.000j IIIZ"
      ]
     },
     "execution_count": 6,
     "metadata": {},
     "output_type": "execute_result"
    }
   ],
   "source": [
    "# H_noncon\n",
    "cs_vqe_obj.noncontextual_operator"
   ]
  },
  {
   "cell_type": "code",
   "execution_count": 7,
   "id": "531b912d",
   "metadata": {},
   "outputs": [
    {
     "data": {
      "text/plain": [
       "{'symmetry': 0.500+0.000j IIIZ,\n",
       " 'clique_0': 0.600+0.000j IIYI +\n",
       " 0.100+0.000j YXYI,\n",
       " 'clique_1': 0.700+0.000j XYXI +\n",
       " 0.600+0.000j XZZI,\n",
       " 'clique_2': 0.700+0.000j XZXI +\n",
       " 0.700+0.000j ZZZI}"
      ]
     },
     "execution_count": 7,
     "metadata": {},
     "output_type": "execute_result"
    }
   ],
   "source": [
    "#\n",
    "cs_vqe_obj.decomposed"
   ]
  },
  {
   "cell_type": "code",
   "execution_count": null,
   "id": "b21d4f28",
   "metadata": {},
   "outputs": [],
   "source": []
  },
  {
   "cell_type": "code",
   "execution_count": 8,
   "id": "505f7aa7",
   "metadata": {},
   "outputs": [
    {
     "data": {
      "text/plain": [
       "-0.253 IIYI +\n",
       "-0.658 XYXI +\n",
       "-0.709 XZXI"
      ]
     },
     "execution_count": 8,
     "metadata": {},
     "output_type": "execute_result"
    }
   ],
   "source": [
    "# A(r)\n",
    "cs_vqe_obj.clique_operator"
   ]
  },
  {
   "cell_type": "code",
   "execution_count": 9,
   "id": "d0467754",
   "metadata": {},
   "outputs": [
    {
     "data": {
      "text/plain": [
       "-1 YIYI \n",
       " 1 IXYI \n",
       "-1 IIIZ"
      ]
     },
     "execution_count": 9,
     "metadata": {},
     "output_type": "execute_result"
    }
   ],
   "source": [
    "# q_vec G\n",
    "cs_vqe_obj.symmetry_generators"
   ]
  },
  {
   "cell_type": "code",
   "execution_count": null,
   "id": "501f5f8b",
   "metadata": {},
   "outputs": [],
   "source": []
  },
  {
   "cell_type": "code",
   "execution_count": 10,
   "id": "4af60149",
   "metadata": {},
   "outputs": [
    {
     "data": {
      "text/plain": [
       "-2.474841765813149"
      ]
     },
     "execution_count": 10,
     "metadata": {},
     "output_type": "execute_result"
    }
   ],
   "source": [
    "# E_noncon\n",
    "cs_vqe_obj.noncontextual_energy"
   ]
  },
  {
   "cell_type": "code",
   "execution_count": 25,
   "id": "cdf268a8",
   "metadata": {},
   "outputs": [
    {
     "data": {
      "text/plain": [
       "1.000+0.000j IIYI"
      ]
     },
     "execution_count": 25,
     "metadata": {},
     "output_type": "execute_result"
    }
   ],
   "source": [
    "cs_vqe_obj.C0"
   ]
  },
  {
   "cell_type": "code",
   "execution_count": 24,
   "id": "e26420dc",
   "metadata": {},
   "outputs": [
    {
     "ename": "ValueError",
     "evalue": "attempt to get argmin of an empty sequence",
     "output_type": "error",
     "traceback": [
      "\u001b[0;31m---------------------------------------------------------------------------\u001b[0m",
      "\u001b[0;31mValueError\u001b[0m                                Traceback (most recent call last)",
      "\u001b[0;32m/var/folders/7l/9g4tmq2s5zg48_szmd8z7qh40000gn/T/ipykernel_29822/22046080.py\u001b[0m in \u001b[0;36m<cell line: 2>\u001b[0;34m()\u001b[0m\n\u001b[1;32m      1\u001b[0m \u001b[0mstabs\u001b[0m \u001b[0;34m=\u001b[0m \u001b[0mPauliwordOp\u001b[0m\u001b[0;34m(\u001b[0m\u001b[0;34m{\u001b[0m\u001b[0;34m'IIIZ'\u001b[0m\u001b[0;34m:\u001b[0m \u001b[0;36m1\u001b[0m\u001b[0;34m}\u001b[0m\u001b[0;34m)\u001b[0m\u001b[0;34m\u001b[0m\u001b[0;34m\u001b[0m\u001b[0m\n\u001b[0;32m----> 2\u001b[0;31m H_reduced = cs_vqe_obj.project_onto_subspace(stabilizers= stabs,\n\u001b[0m\u001b[1;32m      3\u001b[0m                                              enforce_clique_operator= True)\n",
      "\u001b[0;32m~/anaconda3/envs/symred/lib/python3.9/site-packages/symred/projection/cs_vqe.py\u001b[0m in \u001b[0;36mproject_onto_subspace\u001b[0;34m(self, stabilizers, enforce_clique_operator, aux_operator)\u001b[0m\n\u001b[1;32m    300\u001b[0m         \u001b[0msuper\u001b[0m\u001b[0;34m(\u001b[0m\u001b[0;34m)\u001b[0m\u001b[0;34m.\u001b[0m\u001b[0m__init__\u001b[0m\u001b[0;34m(\u001b[0m\u001b[0mfix_stabilizers\u001b[0m\u001b[0;34m)\u001b[0m\u001b[0;34m\u001b[0m\u001b[0;34m\u001b[0m\u001b[0m\n\u001b[1;32m    301\u001b[0m \u001b[0;34m\u001b[0m\u001b[0m\n\u001b[0;32m--> 302\u001b[0;31m         return self.perform_projection(\n\u001b[0m\u001b[1;32m    303\u001b[0m             \u001b[0moperator\u001b[0m\u001b[0;34m=\u001b[0m\u001b[0moperator_to_project\u001b[0m\u001b[0;34m,\u001b[0m\u001b[0;34m\u001b[0m\u001b[0;34m\u001b[0m\u001b[0m\n\u001b[1;32m    304\u001b[0m             \u001b[0minsert_rotations\u001b[0m\u001b[0;34m=\u001b[0m\u001b[0minsert_rotations\u001b[0m\u001b[0;34m\u001b[0m\u001b[0;34m\u001b[0m\u001b[0m\n",
      "\u001b[0;32m~/anaconda3/envs/symred/lib/python3.9/site-packages/symred/projection/base.py\u001b[0m in \u001b[0;36mperform_projection\u001b[0;34m(self, operator, ref_state, sector, insert_rotations)\u001b[0m\n\u001b[1;32m     91\u001b[0m             \u001b[0mself\u001b[0m\u001b[0;34m.\u001b[0m\u001b[0mstabilizers\u001b[0m\u001b[0;34m.\u001b[0m\u001b[0mcoeff_vec\u001b[0m \u001b[0;34m=\u001b[0m \u001b[0mnp\u001b[0m\u001b[0;34m.\u001b[0m\u001b[0marray\u001b[0m\u001b[0;34m(\u001b[0m\u001b[0msector\u001b[0m\u001b[0;34m,\u001b[0m \u001b[0mdtype\u001b[0m\u001b[0;34m=\u001b[0m\u001b[0mint\u001b[0m\u001b[0;34m)\u001b[0m\u001b[0;34m\u001b[0m\u001b[0;34m\u001b[0m\u001b[0m\n\u001b[1;32m     92\u001b[0m \u001b[0;34m\u001b[0m\u001b[0m\n\u001b[0;32m---> 93\u001b[0;31m         \u001b[0mself\u001b[0m\u001b[0;34m.\u001b[0m\u001b[0mrotated_stabilizers\u001b[0m \u001b[0;34m=\u001b[0m \u001b[0mself\u001b[0m\u001b[0;34m.\u001b[0m\u001b[0mstabilizers\u001b[0m\u001b[0;34m.\u001b[0m\u001b[0mrotate_onto_single_qubit_paulis\u001b[0m\u001b[0;34m(\u001b[0m\u001b[0;34m)\u001b[0m\u001b[0;34m\u001b[0m\u001b[0;34m\u001b[0m\u001b[0m\n\u001b[0m\u001b[1;32m     94\u001b[0m         \u001b[0mself\u001b[0m\u001b[0;34m.\u001b[0m\u001b[0mstab_qubit_indices\u001b[0m  \u001b[0;34m=\u001b[0m \u001b[0mnp\u001b[0m\u001b[0;34m.\u001b[0m\u001b[0mwhere\u001b[0m\u001b[0;34m(\u001b[0m\u001b[0mself\u001b[0m\u001b[0;34m.\u001b[0m\u001b[0mrotated_stabilizers\u001b[0m\u001b[0;34m.\u001b[0m\u001b[0msymp_matrix\u001b[0m\u001b[0;34m)\u001b[0m\u001b[0;34m[\u001b[0m\u001b[0;36m1\u001b[0m\u001b[0;34m]\u001b[0m \u001b[0;34m%\u001b[0m \u001b[0moperator\u001b[0m\u001b[0;34m.\u001b[0m\u001b[0mn_qubits\u001b[0m\u001b[0;34m\u001b[0m\u001b[0;34m\u001b[0m\u001b[0m\n\u001b[1;32m     95\u001b[0m         \u001b[0mself\u001b[0m\u001b[0;34m.\u001b[0m\u001b[0mfree_qubit_indices\u001b[0m  \u001b[0;34m=\u001b[0m \u001b[0mnp\u001b[0m\u001b[0;34m.\u001b[0m\u001b[0msetdiff1d\u001b[0m\u001b[0;34m(\u001b[0m\u001b[0mnp\u001b[0m\u001b[0;34m.\u001b[0m\u001b[0marange\u001b[0m\u001b[0;34m(\u001b[0m\u001b[0moperator\u001b[0m\u001b[0;34m.\u001b[0m\u001b[0mn_qubits\u001b[0m\u001b[0;34m)\u001b[0m\u001b[0;34m,\u001b[0m\u001b[0mself\u001b[0m\u001b[0;34m.\u001b[0m\u001b[0mstab_qubit_indices\u001b[0m\u001b[0;34m)\u001b[0m\u001b[0;34m\u001b[0m\u001b[0;34m\u001b[0m\u001b[0m\n",
      "\u001b[0;32m~/anaconda3/envs/symred/lib/python3.9/site-packages/symred/symplectic/stabilizerop.py\u001b[0m in \u001b[0;36mrotate_onto_single_qubit_paulis\u001b[0;34m(self)\u001b[0m\n\u001b[1;32m    189\u001b[0m         \"\"\" Returns the rotated single-qubit Pauli stabilizers\n\u001b[1;32m    190\u001b[0m         \"\"\"\n\u001b[0;32m--> 191\u001b[0;31m         \u001b[0;32mif\u001b[0m \u001b[0mself\u001b[0m\u001b[0;34m.\u001b[0m\u001b[0mstabilizer_rotations\u001b[0m \u001b[0;34m!=\u001b[0m \u001b[0;34m[\u001b[0m\u001b[0;34m]\u001b[0m\u001b[0;34m:\u001b[0m\u001b[0;34m\u001b[0m\u001b[0;34m\u001b[0m\u001b[0m\n\u001b[0m\u001b[1;32m    192\u001b[0m             \u001b[0;32mreturn\u001b[0m \u001b[0mself\u001b[0m\u001b[0;34m.\u001b[0m\u001b[0mperform_rotations\u001b[0m\u001b[0;34m(\u001b[0m\u001b[0mself\u001b[0m\u001b[0;34m.\u001b[0m\u001b[0mstabilizer_rotations\u001b[0m\u001b[0;34m)\u001b[0m\u001b[0;34m\u001b[0m\u001b[0;34m\u001b[0m\u001b[0m\n\u001b[1;32m    193\u001b[0m         \u001b[0;32melse\u001b[0m\u001b[0;34m:\u001b[0m\u001b[0;34m\u001b[0m\u001b[0;34m\u001b[0m\u001b[0m\n",
      "\u001b[0;32m~/anaconda3/envs/symred/lib/python3.9/site-packages/cached_property.py\u001b[0m in \u001b[0;36m__get__\u001b[0;34m(self, obj, cls)\u001b[0m\n\u001b[1;32m     34\u001b[0m             \u001b[0;32mreturn\u001b[0m \u001b[0mself\u001b[0m\u001b[0;34m.\u001b[0m\u001b[0m_wrap_in_coroutine\u001b[0m\u001b[0;34m(\u001b[0m\u001b[0mobj\u001b[0m\u001b[0;34m)\u001b[0m\u001b[0;34m\u001b[0m\u001b[0;34m\u001b[0m\u001b[0m\n\u001b[1;32m     35\u001b[0m \u001b[0;34m\u001b[0m\u001b[0m\n\u001b[0;32m---> 36\u001b[0;31m         \u001b[0mvalue\u001b[0m \u001b[0;34m=\u001b[0m \u001b[0mobj\u001b[0m\u001b[0;34m.\u001b[0m\u001b[0m__dict__\u001b[0m\u001b[0;34m[\u001b[0m\u001b[0mself\u001b[0m\u001b[0;34m.\u001b[0m\u001b[0mfunc\u001b[0m\u001b[0;34m.\u001b[0m\u001b[0m__name__\u001b[0m\u001b[0;34m]\u001b[0m \u001b[0;34m=\u001b[0m \u001b[0mself\u001b[0m\u001b[0;34m.\u001b[0m\u001b[0mfunc\u001b[0m\u001b[0;34m(\u001b[0m\u001b[0mobj\u001b[0m\u001b[0;34m)\u001b[0m\u001b[0;34m\u001b[0m\u001b[0;34m\u001b[0m\u001b[0m\n\u001b[0m\u001b[1;32m     37\u001b[0m         \u001b[0;32mreturn\u001b[0m \u001b[0mvalue\u001b[0m\u001b[0;34m\u001b[0m\u001b[0;34m\u001b[0m\u001b[0m\n\u001b[1;32m     38\u001b[0m \u001b[0;34m\u001b[0m\u001b[0m\n",
      "\u001b[0;32m~/anaconda3/envs/symred/lib/python3.9/site-packages/symred/symplectic/stabilizerop.py\u001b[0m in \u001b[0;36mstabilizer_rotations\u001b[0;34m(self)\u001b[0m\n\u001b[1;32m    161\u001b[0m         \u001b[0;32mif\u001b[0m \u001b[0mnon_sqp_basis\u001b[0m\u001b[0;34m.\u001b[0m\u001b[0mn_terms\u001b[0m \u001b[0;34m!=\u001b[0m \u001b[0;36m0\u001b[0m\u001b[0;34m:\u001b[0m\u001b[0;34m\u001b[0m\u001b[0;34m\u001b[0m\u001b[0m\n\u001b[1;32m    162\u001b[0m             \u001b[0;31m# i.e. the operator does not already consist of single-qubit Paulis\u001b[0m\u001b[0;34m\u001b[0m\u001b[0;34m\u001b[0m\u001b[0m\n\u001b[0;32m--> 163\u001b[0;31m             \u001b[0m_recursive_rotate_onto_sqp\u001b[0m\u001b[0;34m(\u001b[0m\u001b[0mnon_sqp_basis\u001b[0m\u001b[0;34m)\u001b[0m\u001b[0;34m\u001b[0m\u001b[0;34m\u001b[0m\u001b[0m\n\u001b[0m\u001b[1;32m    164\u001b[0m             \u001b[0mrotated_op\u001b[0m \u001b[0;34m=\u001b[0m \u001b[0mself\u001b[0m\u001b[0;34m.\u001b[0m\u001b[0mperform_rotations\u001b[0m\u001b[0;34m(\u001b[0m\u001b[0mrotations\u001b[0m\u001b[0;34m)\u001b[0m\u001b[0;34m\u001b[0m\u001b[0;34m\u001b[0m\u001b[0m\n\u001b[1;32m    165\u001b[0m         \u001b[0;32melse\u001b[0m\u001b[0;34m:\u001b[0m\u001b[0;34m\u001b[0m\u001b[0;34m\u001b[0m\u001b[0m\n",
      "\u001b[0;32m~/anaconda3/envs/symred/lib/python3.9/site-packages/symred/symplectic/stabilizerop.py\u001b[0m in \u001b[0;36m_recursive_rotate_onto_sqp\u001b[0;34m(basis)\u001b[0m\n\u001b[1;32m    149\u001b[0m                 \u001b[0;32mexcept\u001b[0m\u001b[0;34m:\u001b[0m\u001b[0;34m\u001b[0m\u001b[0;34m\u001b[0m\u001b[0m\n\u001b[1;32m    150\u001b[0m                     \u001b[0mnew_basis\u001b[0m \u001b[0;34m=\u001b[0m \u001b[0;32mNone\u001b[0m\u001b[0;34m\u001b[0m\u001b[0;34m\u001b[0m\u001b[0m\n\u001b[0;32m--> 151\u001b[0;31m                 \u001b[0;32mreturn\u001b[0m \u001b[0m_recursive_rotate_onto_sqp\u001b[0m\u001b[0;34m(\u001b[0m\u001b[0mnew_basis\u001b[0m\u001b[0;34m)\u001b[0m\u001b[0;34m\u001b[0m\u001b[0;34m\u001b[0m\u001b[0m\n\u001b[0m\u001b[1;32m    152\u001b[0m \u001b[0;34m\u001b[0m\u001b[0m\n\u001b[1;32m    153\u001b[0m         \u001b[0;31m# identify any basis elements that already single-qubit Paulis\u001b[0m\u001b[0;34m\u001b[0m\u001b[0;34m\u001b[0m\u001b[0m\n",
      "\u001b[0;32m~/anaconda3/envs/symred/lib/python3.9/site-packages/symred/symplectic/stabilizerop.py\u001b[0m in \u001b[0;36m_recursive_rotate_onto_sqp\u001b[0;34m(basis)\u001b[0m\n\u001b[1;32m    141\u001b[0m                 \u001b[0mnon_I\u001b[0m \u001b[0;34m=\u001b[0m \u001b[0mnp\u001b[0m\u001b[0;34m.\u001b[0m\u001b[0msetdiff1d\u001b[0m\u001b[0;34m(\u001b[0m\u001b[0mnp\u001b[0m\u001b[0;34m.\u001b[0m\u001b[0mwhere\u001b[0m\u001b[0;34m(\u001b[0m\u001b[0mpivot_row\u001b[0m\u001b[0;34m)\u001b[0m\u001b[0;34m[\u001b[0m\u001b[0;36m0\u001b[0m\u001b[0;34m]\u001b[0m\u001b[0;34m,\u001b[0m \u001b[0mnp\u001b[0m\u001b[0;34m.\u001b[0m\u001b[0marray\u001b[0m\u001b[0;34m(\u001b[0m\u001b[0mused_indices\u001b[0m\u001b[0;34m)\u001b[0m\u001b[0;34m)\u001b[0m\u001b[0;34m\u001b[0m\u001b[0;34m\u001b[0m\u001b[0m\n\u001b[1;32m    142\u001b[0m                 \u001b[0msupport\u001b[0m \u001b[0;34m=\u001b[0m \u001b[0mpivot_row\u001b[0m\u001b[0;34m*\u001b[0m\u001b[0mcol_sum\u001b[0m\u001b[0;34m\u001b[0m\u001b[0;34m\u001b[0m\u001b[0m\n\u001b[0;32m--> 143\u001b[0;31m                 \u001b[0mpivot_point\u001b[0m \u001b[0;34m=\u001b[0m \u001b[0mnon_I\u001b[0m\u001b[0;34m[\u001b[0m\u001b[0mnp\u001b[0m\u001b[0;34m.\u001b[0m\u001b[0margmin\u001b[0m\u001b[0;34m(\u001b[0m\u001b[0msupport\u001b[0m\u001b[0;34m[\u001b[0m\u001b[0mnon_I\u001b[0m\u001b[0;34m]\u001b[0m\u001b[0;34m)\u001b[0m\u001b[0;34m]\u001b[0m\u001b[0;34m\u001b[0m\u001b[0;34m\u001b[0m\u001b[0m\n\u001b[0m\u001b[1;32m    144\u001b[0m                 \u001b[0mpivot_rotation\u001b[0m \u001b[0;34m=\u001b[0m \u001b[0mupdate_sets\u001b[0m\u001b[0;34m(\u001b[0m\u001b[0mpivot_row\u001b[0m\u001b[0;34m.\u001b[0m\u001b[0mcopy\u001b[0m\u001b[0;34m(\u001b[0m\u001b[0;34m)\u001b[0m\u001b[0;34m,\u001b[0m \u001b[0mpivot_point\u001b[0m\u001b[0;34m)\u001b[0m\u001b[0;34m\u001b[0m\u001b[0;34m\u001b[0m\u001b[0m\n\u001b[1;32m    145\u001b[0m                 \u001b[0mrotated_basis\u001b[0m \u001b[0;34m=\u001b[0m \u001b[0mbasis\u001b[0m\u001b[0;34m.\u001b[0m\u001b[0m_rotate_by_single_Pword\u001b[0m\u001b[0;34m(\u001b[0m\u001b[0mpivot_rotation\u001b[0m\u001b[0;34m)\u001b[0m\u001b[0;34m\u001b[0m\u001b[0;34m\u001b[0m\u001b[0m\n",
      "\u001b[0;32m<__array_function__ internals>\u001b[0m in \u001b[0;36margmin\u001b[0;34m(*args, **kwargs)\u001b[0m\n",
      "\u001b[0;32m~/anaconda3/envs/symred/lib/python3.9/site-packages/numpy/core/fromnumeric.py\u001b[0m in \u001b[0;36margmin\u001b[0;34m(a, axis, out)\u001b[0m\n\u001b[1;32m   1272\u001b[0m \u001b[0;34m\u001b[0m\u001b[0m\n\u001b[1;32m   1273\u001b[0m     \"\"\"\n\u001b[0;32m-> 1274\u001b[0;31m     \u001b[0;32mreturn\u001b[0m \u001b[0m_wrapfunc\u001b[0m\u001b[0;34m(\u001b[0m\u001b[0ma\u001b[0m\u001b[0;34m,\u001b[0m \u001b[0;34m'argmin'\u001b[0m\u001b[0;34m,\u001b[0m \u001b[0maxis\u001b[0m\u001b[0;34m=\u001b[0m\u001b[0maxis\u001b[0m\u001b[0;34m,\u001b[0m \u001b[0mout\u001b[0m\u001b[0;34m=\u001b[0m\u001b[0mout\u001b[0m\u001b[0;34m)\u001b[0m\u001b[0;34m\u001b[0m\u001b[0;34m\u001b[0m\u001b[0m\n\u001b[0m\u001b[1;32m   1275\u001b[0m \u001b[0;34m\u001b[0m\u001b[0m\n\u001b[1;32m   1276\u001b[0m \u001b[0;34m\u001b[0m\u001b[0m\n",
      "\u001b[0;32m~/anaconda3/envs/symred/lib/python3.9/site-packages/numpy/core/fromnumeric.py\u001b[0m in \u001b[0;36m_wrapfunc\u001b[0;34m(obj, method, *args, **kwds)\u001b[0m\n\u001b[1;32m     56\u001b[0m \u001b[0;34m\u001b[0m\u001b[0m\n\u001b[1;32m     57\u001b[0m     \u001b[0;32mtry\u001b[0m\u001b[0;34m:\u001b[0m\u001b[0;34m\u001b[0m\u001b[0;34m\u001b[0m\u001b[0m\n\u001b[0;32m---> 58\u001b[0;31m         \u001b[0;32mreturn\u001b[0m \u001b[0mbound\u001b[0m\u001b[0;34m(\u001b[0m\u001b[0;34m*\u001b[0m\u001b[0margs\u001b[0m\u001b[0;34m,\u001b[0m \u001b[0;34m**\u001b[0m\u001b[0mkwds\u001b[0m\u001b[0;34m)\u001b[0m\u001b[0;34m\u001b[0m\u001b[0;34m\u001b[0m\u001b[0m\n\u001b[0m\u001b[1;32m     59\u001b[0m     \u001b[0;32mexcept\u001b[0m \u001b[0mTypeError\u001b[0m\u001b[0;34m:\u001b[0m\u001b[0;34m\u001b[0m\u001b[0;34m\u001b[0m\u001b[0m\n\u001b[1;32m     60\u001b[0m         \u001b[0;31m# A TypeError occurs if the object does have such a method in its\u001b[0m\u001b[0;34m\u001b[0m\u001b[0;34m\u001b[0m\u001b[0m\n",
      "\u001b[0;31mValueError\u001b[0m: attempt to get argmin of an empty sequence"
     ]
    }
   ],
   "source": [
    "stabs = PauliwordOp({'IIIZ': 1})\n",
    "H_reduced = cs_vqe_obj.project_onto_subspace(stabilizers= stabs,\n",
    "                                             enforce_clique_operator= True)"
   ]
  },
  {
   "cell_type": "code",
   "execution_count": 17,
   "id": "4a7bea5e",
   "metadata": {},
   "outputs": [
    {
     "data": {
      "text/plain": [
       "-0.500+0.000j III +\n",
       "0.100+0.000j XXX +\n",
       "0.200+0.000j YXX +\n",
       "0.700+0.000j XZX +\n",
       "0.700+0.000j XYX +\n",
       "0.100+0.000j YZX +\n",
       "0.200+0.000j XXZ +\n",
       "0.600+0.000j IIY +\n",
       "0.500+0.000j XXY +\n",
       "0.100+0.000j YXY +\n",
       "0.600+0.000j XZZ +\n",
       "0.700+0.000j ZZZ +\n",
       "0.200+0.000j YYZ +\n",
       "0.100+0.000j ZYY"
      ]
     },
     "execution_count": 17,
     "metadata": {},
     "output_type": "execute_result"
    }
   ],
   "source": [
    "H_reduced"
   ]
  },
  {
   "cell_type": "code",
   "execution_count": null,
   "id": "f4740eb6",
   "metadata": {},
   "outputs": [],
   "source": []
  }
 ],
 "metadata": {
  "kernelspec": {
   "display_name": "Python 3 (ipykernel)",
   "language": "python",
   "name": "python3"
  },
  "language_info": {
   "codemirror_mode": {
    "name": "ipython",
    "version": 3
   },
   "file_extension": ".py",
   "mimetype": "text/x-python",
   "name": "python",
   "nbconvert_exporter": "python",
   "pygments_lexer": "ipython3",
   "version": "3.9.7"
  }
 },
 "nbformat": 4,
 "nbformat_minor": 5
}
