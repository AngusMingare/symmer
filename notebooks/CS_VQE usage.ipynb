{
 "cells": [
  {
   "cell_type": "markdown",
   "id": "1c9f97d2",
   "metadata": {},
   "source": [
    "# Contextual Subspace VQE\n",
    "### in the Stabilizer Subspace Projection formalism\n",
    "[Contextual-Subspace VQE](https://doi.org/10.22331/q-2021-05-14-456) (CS-VQE) is predicated on a splitting of the Hamiltonian in two parts - one _noncontextual_ and one _contextual_ such that\n",
    "\\begin{equation}\n",
    "    H = H_\\mathrm{noncon} + H_\\mathrm{context}.\n",
    "\\end{equation}\n",
    "The noncontextual component gives way to an objective function that one may solve classically, whereas the contextual component is simulated on quantum hardware and provides corrections to the classical result. To ensure the quantum corrections are valid, i.e consistent with the noncontextual problem, one enforces noncontextual symmetries over the contextual Hamiltonian, in a similar procedure to [Qubit Tapering](https://arxiv.org/abs/1701.08213). \n",
    "\n",
    "The key difference between the two techniques is tapering symmetries are physical and therefore preserve the Hamiltonian energy spectrum exactly, whereas CS-VQE identifies pseudo-symmetries that result in a loss of information and is therefore approximate. However, one finds that in many cases CS-VQE still permits high precision simulations but at a dramatic reduction in qubit resource, even on top of qubit tapering, thus augmenting the capabilities of Noisy Intermediate-Scale Quantum (NISQ) hardware.\n",
    "\n",
    "To see CS-VQE in action, we will go through the toy example given in [this](https://arxiv.org/pdf/2207.03451.pdf) paper. First, we define the Hamiltonian:"
   ]
  },
  {
   "cell_type": "code",
   "execution_count": 1,
   "id": "291ee440",
   "metadata": {},
   "outputs": [
    {
     "name": "stdout",
     "output_type": "stream",
     "text": [
      "H =\n",
      " 0.600+0.000j IIYI +\n",
      " 0.700+0.000j XYXI +\n",
      " 0.700+0.000j XZXI +\n",
      " 0.600+0.000j XZZI +\n",
      " 0.100+0.000j YXYI +\n",
      " 0.700+0.000j ZZZI +\n",
      " 0.500+0.000j IIIZ +\n",
      " 0.100+0.000j XXXI +\n",
      " 0.500+0.000j XXYI +\n",
      " 0.200+0.000j XXZI +\n",
      " 0.200+0.000j YXXI +\n",
      " 0.200+0.000j YYZI +\n",
      " 0.100+0.000j YZXI +\n",
      " 0.100+0.000j ZYYI\n",
      "\n",
      "The ground state energy of H is -2.8192284734522626.\n"
     ]
    }
   ],
   "source": [
    "import numpy as np\n",
    "from symmer.symplectic import PauliwordOp\n",
    "from symmer.utils import exact_gs_energy\n",
    "\n",
    "# define the Hamiltonian and initiate as a symmer.symplectic.PauliwordOp object\n",
    "H_dict = {\n",
    "    'IIYI': 0.6,'XYXI': 0.7,'XZXI': 0.7,'XZZI': 0.6,'YXYI': 0.1,'ZZZI': 0.7,'IIIZ': 0.5, \n",
    "    'XXXI': 0.1,'XXYI': 0.5,'XXZI': 0.2,'YXXI': 0.2,'YYZI': 0.2,'YZXI': 0.1,'ZYYI': 0.1\n",
    "}\n",
    "H = PauliwordOp.from_dictionary(H_dict)\n",
    "true_gs_nrg, true_gs_vec = exact_gs_energy(H.to_sparse_matrix)\n",
    "\n",
    "print('H ='); print(H); print()\n",
    "print(f'The ground state energy of H is {true_gs_nrg}.')"
   ]
  },
  {
   "cell_type": "markdown",
   "id": "65f2a39f",
   "metadata": {},
   "source": [
    "Next, we may initiate the `symmer.projection.CS_VQE` class, which will take our Hamiltonian as an input and construct the CS-VQE model."
   ]
  },
  {
   "cell_type": "code",
   "execution_count": 2,
   "id": "90045aaf",
   "metadata": {},
   "outputs": [],
   "source": [
    "from symmer.projection import CS_VQE\n",
    "\n",
    "cs_vqe = CS_VQE(H)"
   ]
  },
  {
   "cell_type": "markdown",
   "id": "11db4c94",
   "metadata": {},
   "source": [
    "A noncontextual/contextual partition is identied:"
   ]
  },
  {
   "cell_type": "code",
   "execution_count": 3,
   "id": "9fb61dde",
   "metadata": {},
   "outputs": [
    {
     "name": "stdout",
     "output_type": "stream",
     "text": [
      "Noncontextual Hamiltonian:\n",
      "\n",
      " 0.500+0.000j IIIZ +\n",
      " 0.700+0.000j ZZZI +\n",
      " 0.600+0.000j IIYI +\n",
      " 0.600+0.000j XZZI +\n",
      " 0.700+0.000j XZXI +\n",
      " 0.700+0.000j XYXI +\n",
      " 0.100+0.000j YXYI\n",
      "\n",
      "Contextual Hamiltonian:\n",
      "\n",
      " 0.100+0.000j ZYYI +\n",
      " 0.100+0.000j YZXI +\n",
      " 0.200+0.000j XXZI +\n",
      " 0.200+0.000j YYZI +\n",
      " 0.100+0.000j XXXI +\n",
      " 0.500+0.000j XXYI +\n",
      " 0.200+0.000j YXXI\n",
      "\n",
      "Check the noncontextual Hamiltonian is indeed noncontextual: True\n",
      "The noncontextual/contextual parts sum to the original Hamiltonian? True\n"
     ]
    }
   ],
   "source": [
    "print('Noncontextual Hamiltonian:\\n')\n",
    "print(cs_vqe.noncontextual_operator); print()\n",
    "print('Contextual Hamiltonian:\\n')\n",
    "print(cs_vqe.contextual_operator); print()\n",
    "print('Check the noncontextual Hamiltonian is indeed noncontextual:',\n",
    "      cs_vqe.noncontextual_operator.is_noncontextual)\n",
    "print('The noncontextual/contextual parts sum to the original Hamiltonian?',\n",
    "      cs_vqe.noncontextual_operator + cs_vqe.contextual_operator == H)"
   ]
  },
  {
   "cell_type": "markdown",
   "id": "24628242",
   "metadata": {},
   "source": [
    "From the noncontextual part, we identify symmetry generators - an independent set $\\mathcal{S}$ such that each element $S \\in \\mathcal{S}$ commutes with every term of $H_\\mathrm{noncon}$:"
   ]
  },
  {
   "cell_type": "code",
   "execution_count": 4,
   "id": "06b536f1",
   "metadata": {},
   "outputs": [
    {
     "name": "stdout",
     "output_type": "stream",
     "text": [
      "The symmetry generators are \n",
      "\n",
      "-1 IIIZ \n",
      " 1 IXYI \n",
      "-1 YIYI\n",
      "\n",
      "Check that each symmetry generator commutes with the noncontextual Hamiltonian? True\n"
     ]
    }
   ],
   "source": [
    "print('The symmetry generators are \\n')\n",
    "print(cs_vqe.symmetry_generators); print()\n",
    "print('Check that each symmetry generator commutes with the noncontextual Hamiltonian?',\n",
    "     np.all(cs_vqe.noncontextual_operator.commutes_termwise(cs_vqe.symmetry_generators)))"
   ]
  },
  {
   "cell_type": "markdown",
   "id": "09f1fb9f",
   "metadata": {},
   "source": [
    "The terms of the noncontextual Hamiltonian that are not generated by $\\mathcal{S}$ form equivalence classes with respect to commutation. The noncontextual Hamiltonian may therefore be decomposed into its symmetry terms $\\mathcal{G}$ and a collection of $M$ commuting cliques $\\mathcal{C}_i$:\n",
    "\\begin{equation}\n",
    "H_\\mathrm{noncon} = \\sum_{G \\in \\mathcal{G}} h_G G + \\sum_{i=1}^{M} \\sum_{C \\in \\mathcal{C}_i} h_C C\n",
    "\\end{equation}\n",
    "Note that terms selected accross different cliques will anticommute. Finally, one may construct a clique observable by forming a linear combination over clique representatives:\n",
    "\\begin{equation}\n",
    "A(\\vec{r}) = \\sum_{i=1}^M r_i C_i\n",
    "\\end{equation}\n",
    "where $\\vec{r} \\in \\mathbb{R}^M$ and $|\\vec{r}| = 1$.\n"
   ]
  },
  {
   "cell_type": "code",
   "execution_count": 5,
   "id": "1565f781",
   "metadata": {},
   "outputs": [
    {
     "name": "stdout",
     "output_type": "stream",
     "text": [
      "Noncontextual decomposition:\n",
      "\n",
      "symmetry terms:\n",
      "  0.500+0.000j IIIZ\n",
      "clique_0 terms:\n",
      "  0.600+0.000j XZZI +\n",
      " 0.700+0.000j XYXI\n",
      "clique_1 terms:\n",
      "  0.600+0.000j IIYI +\n",
      " 0.100+0.000j YXYI\n",
      "clique_2 terms:\n",
      "  0.700+0.000j ZZZI +\n",
      " 0.700+0.000j XZXI\n",
      "\n",
      "and the clique operator A(r) = \n",
      "\n",
      "-0.658 XYXI +\n",
      " 0.253 YXYI +\n",
      "-0.709 XZXI\n"
     ]
    }
   ],
   "source": [
    "print('Noncontextual decomposition:\\n')\n",
    "for group, op in cs_vqe.decomposed.items():\n",
    "    print(f'{group} terms:\\n', op) \n",
    "print()\n",
    "print('and the clique operator A(r) = \\n')\n",
    "print(cs_vqe.clique_operator)"
   ]
  },
  {
   "cell_type": "markdown",
   "id": "97a06b7f",
   "metadata": {},
   "source": [
    "The noncontextual problem is fully paramatrized by the clique operator coefficient vector $\\vec{r}$ and an assignment of $\\pm1$ eigenvalues to the symmetry generators. The CS_VQE class calculates the optimal value of these at initialization with respect to the classical objective function defined in [this](https://arxiv.org/pdf/2002.05693.pdf) paper, stored as operator coefficients as seen above. We see that the noncontextual energy calculated in this way is indeed the actual ground state of the noncontextual Hamiltonian:"
   ]
  },
  {
   "cell_type": "code",
   "execution_count": 6,
   "id": "c9c9dcac",
   "metadata": {},
   "outputs": [
    {
     "name": "stdout",
     "output_type": "stream",
     "text": [
      "The ground state of the noncontextual Hamiltonian is -2.4748417658131507\n",
      "The energy obtained from minimization of the classical objective function is -2.474841765812711\n",
      "The error is -4.39648317751562e-13\n"
     ]
    }
   ],
   "source": [
    "H_noncon_nrg = exact_gs_energy(cs_vqe.noncontextual_operator.to_sparse_matrix)[0]\n",
    "print(f'The ground state of the noncontextual Hamiltonian is {H_noncon_nrg}')\n",
    "print(f'The energy obtained from minimization of the classical objective function is {cs_vqe.noncontextual_energy}')\n",
    "print(f'The error is {H_noncon_nrg - cs_vqe.noncontextual_energy}')"
   ]
  },
  {
   "cell_type": "markdown",
   "id": "9abf2f9a",
   "metadata": {},
   "source": [
    "With the noncontextual problem solved, we may turn our attention to the _contextual_ problem, from which we would like to derive quantum corrections to the noncontextual energy above. In order to do so, we choose a subset of symmetry generators to enforce over the contextual Hamiltonian, thus projecting into the corresponding stabilizer subspace (the _contextual_ subspace) and consequently performing some quantum simulation therein, e.g. Variational Quantum Eigensolver (VQE) or Quantum Phase Estimation (QPE). The difficulty is in choosing _which_ stabilizers to fix - for a small problem such as the one in question, we may look at the contextual ground state energy in each stabilizer subspace via brute force:"
   ]
  },
  {
   "cell_type": "code",
   "execution_count": 7,
   "id": "1edcf802",
   "metadata": {},
   "outputs": [
    {
     "name": "stdout",
     "output_type": "stream",
     "text": [
      "-1 IIIZ \n",
      " 1 IXYI \n",
      "-1 YIYI \n",
      "\n",
      "A(r)= -0.658 XYXI +\n",
      " 0.253 YXYI +\n",
      "-0.709 XZXI\n"
     ]
    }
   ],
   "source": [
    "# this means enforcing all different combinations of \n",
    "print(cs_vqe.symmetry_generators, '\\n')\n",
    "# note the signs are the value of these terms are important\n",
    "# and are defined by the noncontextual solution!\n",
    "\n",
    "\n",
    "# and whether to enforce script A\n",
    "print('A(r)=', cs_vqe.clique_operator)\n",
    "# again coefficients are important and determined by solving the noncontextual problem"
   ]
  },
  {
   "cell_type": "code",
   "execution_count": null,
   "id": "a5e481af",
   "metadata": {},
   "outputs": [],
   "source": []
  },
  {
   "cell_type": "code",
   "execution_count": 8,
   "id": "e327bbb8",
   "metadata": {},
   "outputs": [
    {
     "name": "stdout",
     "output_type": "stream",
     "text": [
      "stabilizers to fix: [-1.000+0.000j IIIZ,  1.000+0.000j IXYI, -1.000+0.000j YIYI]\n",
      "          fix A(r): True \n",
      "\n",
      "stabilizers to fix: [-1.000+0.000j IIIZ,  1.000+0.000j IXYI]\n",
      "          fix A(r): True \n",
      "\n",
      "stabilizers to fix: [-1.000+0.000j IIIZ, -1.000+0.000j YIYI]\n",
      "          fix A(r): True \n",
      "\n",
      "stabilizers to fix: [ 1.000+0.000j IXYI, -1.000+0.000j YIYI]\n",
      "          fix A(r): True \n",
      "\n",
      "stabilizers to fix: [-1.000+0.000j IIIZ,  1.000+0.000j IXYI, -1.000+0.000j YIYI]\n",
      "          fix A(r): False \n",
      "\n",
      "stabilizers to fix: [-1.000+0.000j IIIZ]\n",
      "          fix A(r): True \n",
      "\n",
      "stabilizers to fix: [ 1.000+0.000j IXYI]\n",
      "          fix A(r): True \n",
      "\n",
      "stabilizers to fix: [-1.000+0.000j YIYI]\n",
      "          fix A(r): True \n",
      "\n",
      "stabilizers to fix: [-1.000+0.000j IIIZ,  1.000+0.000j IXYI]\n",
      "          fix A(r): False \n",
      "\n",
      "stabilizers to fix: [-1.000+0.000j IIIZ, -1.000+0.000j YIYI]\n",
      "          fix A(r): False \n",
      "\n",
      "stabilizers to fix: [ 1.000+0.000j IXYI, -1.000+0.000j YIYI]\n",
      "          fix A(r): False \n",
      "\n",
      "stabilizers to fix: []\n",
      "          fix A(r): True \n",
      "\n",
      "stabilizers to fix: [-1.000+0.000j IIIZ]\n",
      "          fix A(r): False \n",
      "\n",
      "stabilizers to fix: [ 1.000+0.000j IXYI]\n",
      "          fix A(r): False \n",
      "\n",
      "stabilizers to fix: [-1.000+0.000j YIYI]\n",
      "          fix A(r): False \n",
      "\n",
      "stabilizers to fix: []\n",
      "          fix A(r): False \n",
      "\n"
     ]
    }
   ],
   "source": [
    "from itertools import combinations\n",
    "\n",
    "stabilizers = list(cs_vqe.symmetry_generators)\n",
    "\n",
    "\n",
    "combinations_of_stabs_with_A_fixed = [(list(subset_stabs),True) for L in range(len(stabilizers)+1) for subset_stabs in combinations(stabilizers, L) ]\n",
    "combinations_of_stabs_withOUT_A_fixed = [(list(subset_stabs),False) for L in range(len(stabilizers)+1) for subset_stabs in combinations(stabilizers, L) ]\n",
    "\n",
    "# combine into one list (and sort by how many stabilizers are fixed)\n",
    "combinations_brute_force = sorted([*combinations_of_stabs_with_A_fixed, *combinations_of_stabs_withOUT_A_fixed], \n",
    "                                  key=lambda x: -(len(x[0])+ int(x[1])))\n",
    "\n",
    "# combinations_brute_force has all the different combinations of possible stabilizers\n",
    "# the list contains which stabilizers to fix and the True/False flag determins whether A(r) is fixed\n",
    "\n",
    "for fixed_stabs, scriptA_flag in combinations_brute_force:\n",
    "    print('stabilizers to fix:', fixed_stabs)\n",
    "    print('          fix A(r):', scriptA_flag, '\\n')"
   ]
  },
  {
   "cell_type": "code",
   "execution_count": 9,
   "id": "193035b4",
   "metadata": {},
   "outputs": [],
   "source": [
    "# note the bottom case is when NO approximation is made and one returns the full problem Hamiltonian\n",
    "# no contextual subspace approximation"
   ]
  },
  {
   "cell_type": "code",
   "execution_count": 10,
   "id": "eeb32d3f",
   "metadata": {},
   "outputs": [
    {
     "name": "stdout",
     "output_type": "stream",
     "text": [
      "*********************************************\n",
      "*** Searching 0-qubit stabilizer subspace ***\n",
      "*********************************************\n",
      "Enforcing the symmetry generators\n",
      "-1 IIIZ \n",
      " 1 IXYI \n",
      "-1 YIYI\n",
      "\n",
      "plus the clique operator\n",
      "-0.658 XYXI +\n",
      " 0.253 YXYI +\n",
      "-0.709 XZXI\n",
      "\n",
      "We obtain the contextual energy error -2.474841765812711\n",
      "with error 0.3443867076395515\n",
      "qubit count of new CS-VQE H =  0\n",
      "\n",
      "*********************************************\n",
      "*** Searching 1-qubit stabilizer subspace ***\n",
      "*********************************************\n",
      "Enforcing the symmetry generators\n",
      "-1 IIIZ \n",
      " 1 IXYI\n",
      "\n",
      "plus the clique operator\n",
      "-0.658 XYXI +\n",
      " 0.253 YXYI +\n",
      "-0.709 XZXI\n",
      "\n",
      "We obtain the contextual energy error -2.6494886057860443\n",
      "with error 0.1697398676662183\n",
      "qubit count of new CS-VQE H =  1\n",
      "\n",
      "*********************************************\n",
      "*** Searching 1-qubit stabilizer subspace ***\n",
      "*********************************************\n",
      "Enforcing the symmetry generators\n",
      "-1 IIIZ \n",
      "-1 YIYI\n",
      "\n",
      "plus the clique operator\n",
      "-0.658 XYXI +\n",
      " 0.253 YXYI +\n",
      "-0.709 XZXI\n",
      "\n",
      "We obtain the contextual energy error -2.5108157683214145\n",
      "with error 0.30841270513084806\n",
      "qubit count of new CS-VQE H =  1\n",
      "\n",
      "*********************************************\n",
      "*** Searching 1-qubit stabilizer subspace ***\n",
      "*********************************************\n",
      "Enforcing the symmetry generators\n",
      " 1 IXYI \n",
      "-1 YIYI\n",
      "\n",
      "plus the clique operator\n",
      "-0.658 XYXI +\n",
      " 0.253 YXYI +\n",
      "-0.709 XZXI\n",
      "\n",
      "We obtain the contextual energy error -2.474841765812711\n",
      "with error 0.3443867076395515\n",
      "qubit count of new CS-VQE H =  1\n",
      "\n",
      "*********************************************\n",
      "*** Searching 1-qubit stabilizer subspace ***\n",
      "*********************************************\n",
      "Enforcing the symmetry generators\n",
      "-1 IIIZ \n",
      " 1 IXYI \n",
      "-1 YIYI\n",
      "\n",
      "We obtain the contextual energy error -2.474841765813149\n",
      "with error 0.3443867076391136\n",
      "qubit count of new CS-VQE H =  1\n",
      "\n",
      "*********************************************\n",
      "*** Searching 2-qubit stabilizer subspace ***\n",
      "*********************************************\n",
      "Enforcing the symmetry generators\n",
      "-1 IIIZ\n",
      "\n",
      "plus the clique operator\n",
      "-0.658 XYXI +\n",
      " 0.253 YXYI +\n",
      "-0.709 XZXI\n",
      "\n",
      "We obtain the contextual energy error -2.7065924860006723\n",
      "with error 0.11263598745159031\n",
      "qubit count of new CS-VQE H =  2\n",
      "\n",
      "*********************************************\n",
      "*** Searching 2-qubit stabilizer subspace ***\n",
      "*********************************************\n",
      "Enforcing the symmetry generators\n",
      " 1 IXYI\n",
      "\n",
      "plus the clique operator\n",
      "-0.658 XYXI +\n",
      " 0.253 YXYI +\n",
      "-0.709 XZXI\n",
      "\n",
      "We obtain the contextual energy error -2.6494886057860443\n",
      "with error 0.1697398676662183\n",
      "qubit count of new CS-VQE H =  2\n",
      "\n",
      "*********************************************\n",
      "*** Searching 2-qubit stabilizer subspace ***\n",
      "*********************************************\n",
      "Enforcing the symmetry generators\n",
      "-1 YIYI\n",
      "\n",
      "plus the clique operator\n",
      "-0.658 XYXI +\n",
      " 0.253 YXYI +\n",
      "-0.709 XZXI\n",
      "\n",
      "We obtain the contextual energy error -2.5108157683214136\n",
      "with error 0.30841270513084895\n",
      "qubit count of new CS-VQE H =  2\n",
      "\n",
      "*********************************************\n",
      "*** Searching 2-qubit stabilizer subspace ***\n",
      "*********************************************\n",
      "Enforcing the symmetry generators\n",
      "-1 IIIZ \n",
      " 1 IXYI\n",
      "\n",
      "We obtain the contextual energy error -2.754059968848248\n",
      "with error 0.06516850460401447\n",
      "qubit count of new CS-VQE H =  2\n",
      "\n",
      "*********************************************\n",
      "*** Searching 2-qubit stabilizer subspace ***\n",
      "*********************************************\n",
      "Enforcing the symmetry generators\n",
      "-1 IIIZ \n",
      "-1 YIYI\n",
      "\n",
      "We obtain the contextual energy error -2.52981982534675\n",
      "with error 0.2894086481055127\n",
      "qubit count of new CS-VQE H =  2\n",
      "\n",
      "*********************************************\n",
      "*** Searching 2-qubit stabilizer subspace ***\n",
      "*********************************************\n",
      "Enforcing the symmetry generators\n",
      " 1 IXYI \n",
      "-1 YIYI\n",
      "\n",
      "We obtain the contextual energy error -2.4748417658131494\n",
      "with error 0.34438670763911317\n",
      "qubit count of new CS-VQE H =  2\n",
      "\n",
      "*********************************************\n",
      "*** Searching 3-qubit stabilizer subspace ***\n",
      "*********************************************\n",
      "Enforcing the symmetry generators\n",
      "None\n",
      "\n",
      "plus the clique operator\n",
      "-0.658 XYXI +\n",
      " 0.253 YXYI +\n",
      "-0.709 XZXI\n",
      "\n",
      "We obtain the contextual energy error -2.706592486000671\n",
      "with error 0.11263598745159165\n",
      "qubit count of new CS-VQE H =  3\n",
      "\n",
      "*********************************************\n",
      "*** Searching 3-qubit stabilizer subspace ***\n",
      "*********************************************\n",
      "Enforcing the symmetry generators\n",
      "-1 IIIZ\n",
      "\n",
      "We obtain the contextual energy error -2.819228473452263\n",
      "with error -4.440892098500626e-16\n",
      "qubit count of new CS-VQE H =  3\n",
      "\n",
      "*********************************************\n",
      "*** Searching 3-qubit stabilizer subspace ***\n",
      "*********************************************\n",
      "Enforcing the symmetry generators\n",
      " 1 IXYI\n",
      "\n",
      "We obtain the contextual energy error -2.754059968848246\n",
      "with error 0.06516850460401669\n",
      "qubit count of new CS-VQE H =  3\n",
      "\n",
      "*********************************************\n",
      "*** Searching 3-qubit stabilizer subspace ***\n",
      "*********************************************\n",
      "Enforcing the symmetry generators\n",
      "-1 YIYI\n",
      "\n",
      "We obtain the contextual energy error -2.5298198253467516\n",
      "with error 0.2894086481055109\n",
      "qubit count of new CS-VQE H =  3\n",
      "\n",
      "*********************************************\n",
      "*** Searching 4-qubit stabilizer subspace ***\n",
      "*********************************************\n",
      "Enforcing the symmetry generators\n",
      "None\n",
      "\n",
      "We obtain the contextual energy error -2.8192284734522626\n",
      "with error 0.0\n",
      "qubit count of new CS-VQE H =  4\n",
      "\n"
     ]
    },
    {
     "name": "stderr",
     "output_type": "stream",
     "text": [
      "/home/tweaving/anaconda3/lib/python3.8/site-packages/symmer/projection/cs_vqe.py:303: UserWarning: No stabilizers were specifed so the operator was returned\n",
      "  warnings.warn('No stabilizers were specifed so the operator was returned')\n"
     ]
    }
   ],
   "source": [
    "from symmer.symplectic import StabilizerOp\n",
    "from functools import reduce\n",
    "\n",
    "nq_H = H.n_qubits # number of qubits for the full problem\n",
    "\n",
    "for fixed_stabs, scriptA_flag in combinations_brute_force:\n",
    "    n_stabs = len(fixed_stabs) + int(scriptA_flag)\n",
    "    subspace_qubits =  nq_H - n_stabs\n",
    "    message = f'*** Searching {subspace_qubits}-qubit stabilizer subspace ***'\n",
    "    print('*'*len(message)); print(message);print('*'*len(message)) \n",
    "    \n",
    "    if fixed_stabs:\n",
    "        sym_op = reduce(lambda x,y: x+y, fixed_stabs)\n",
    "        S = StabilizerOp(sym_op.symp_matrix, sym_op.coeff_vec)\n",
    "    else:\n",
    "        S = None\n",
    "              \n",
    "    print(f'Enforcing the symmetry generators\\n{S}\\n')\n",
    "    if scriptA_flag:\n",
    "        print(f'plus the clique operator\\n{cs_vqe.clique_operator}\\n')\n",
    "        \n",
    "    H_cs = cs_vqe.project_onto_subspace(stabilizers=S, enforce_clique_operator=scriptA_flag)\n",
    "    H_cs_nrg = exact_gs_energy(H_cs.to_sparse_matrix)[0]\n",
    "    print(f'We obtain the contextual energy error {H_cs_nrg}')\n",
    "    print(f'with error {H_cs_nrg - true_gs_nrg}')\n",
    "    print('qubit count of new CS-VQE H = ', H_cs.n_qubits)\n",
    "    print()"
   ]
  },
  {
   "cell_type": "code",
   "execution_count": 11,
   "id": "6a8b998b",
   "metadata": {},
   "outputs": [],
   "source": [
    "# note the warning is just to let a user know if no stabilizers are provided then the full H is returned.\n",
    "\n",
    "# looking at the errors obtained in each step \n",
    "# the optimal ordering of stabilizers to fix can be found"
   ]
  },
  {
   "cell_type": "markdown",
   "id": "4f9c2d9a",
   "metadata": {},
   "source": [
    "As was found in the [paper](https://arxiv.org/pdf/2207.03451.pdf) from which we took this example, it is possible to achieve high precision (in this case on the order $10^{-16}$!) in the 3-qubit contextual subspace (a saving of one qubit) stabilized by the single symmetry generator:"
   ]
  },
  {
   "cell_type": "code",
   "execution_count": 13,
   "id": "623e63cb",
   "metadata": {},
   "outputs": [
    {
     "name": "stdout",
     "output_type": "stream",
     "text": [
      "Enforcing -1.000+0.000j IIIZ we obtain an energy error of -4.440892098500626e-16.\n",
      "qubit count of reduced CS-VQE H: 3\n"
     ]
    }
   ],
   "source": [
    "S = cs_vqe.symmetry_generators[0]\n",
    "\n",
    "H_cs = cs_vqe.project_onto_subspace(S, enforce_clique_operator=False)\n",
    "H_cs_nrg = exact_gs_energy(H_cs.to_sparse_matrix)[0]\n",
    "print(f'Enforcing {S} we obtain an energy error of {H_cs_nrg - true_gs_nrg}.')\n",
    "print('qubit count of reduced CS-VQE H:', H_cs.n_qubits)"
   ]
  },
  {
   "cell_type": "markdown",
   "id": "c099560f",
   "metadata": {},
   "source": [
    "Stabilizer identification is crucial to the success of CS-VQE and is not a straightforward problem to solve. In the original [CS-VQE paper](https://doi.org/10.22331/q-2021-05-14-456) a greedy search heuristic was employed, that functioned by relaxing $d$-many stabilizer conditions at a time that minimize the contextual energy. This scales as $\\mathcal{O}(N^{d+1})$ where $N$ is the number of qubits in the full system. While technically scalable, it is not NISQ-friendly since each stabilizer trial requires a VQE simulation of the corresponding subspace."
   ]
  },
  {
   "cell_type": "code",
   "execution_count": 15,
   "id": "ef9fcabd",
   "metadata": {},
   "outputs": [
    {
     "name": "stdout",
     "output_type": "stream",
     "text": [
      "Enforcing  1.000+0.000j IXYI +\n",
      "-1.000+0.000j YIYI\n",
      "and A(r)\n",
      "\n",
      " we obtain an energy error of 0.3443867076395515.\n",
      "qubit count of reduced CS-VQE H: 1\n"
     ]
    }
   ],
   "source": [
    "## a user can define any linear combination of cs_vqe.symmetry_generators\n",
    "## aka add different indexed terms (note do not repeat terms)! \n",
    "S = cs_vqe.symmetry_generators[1] + cs_vqe.symmetry_generators[2] # +...\n",
    "\n",
    "## a user should define whether to enforce A(r)\n",
    "enforce_A = True # True / False\n",
    "\n",
    "H_cs = cs_vqe.project_onto_subspace(S, enforce_clique_operator=enforce_A)\n",
    "H_cs_nrg = exact_gs_energy(H_cs.to_sparse_matrix)[0]\n",
    "print(f'Enforcing {S}')\n",
    "if enforce_A:\n",
    "    print(f'and A(r)')\n",
    "print(f'\\n we obtain an energy error of {H_cs_nrg - true_gs_nrg}.')\n",
    "print('qubit count of reduced CS-VQE H:', H_cs.n_qubits)"
   ]
  }
 ],
 "metadata": {
  "kernelspec": {
   "display_name": "Python 3 (ipykernel)",
   "language": "python",
   "name": "python3"
  },
  "language_info": {
   "codemirror_mode": {
    "name": "ipython",
    "version": 3
   },
   "file_extension": ".py",
   "mimetype": "text/x-python",
   "name": "python",
   "nbconvert_exporter": "python",
   "pygments_lexer": "ipython3",
   "version": "3.8.8"
  },
  "vscode": {
   "interpreter": {
    "hash": "916dbcbb3f70747c44a77c7bcd40155683ae19c65e1c03b4aa3499c5328201f1"
   }
  }
 },
 "nbformat": 4,
 "nbformat_minor": 5
}
