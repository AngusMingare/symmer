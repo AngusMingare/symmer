{
 "cells": [
  {
   "cell_type": "code",
   "execution_count": 62,
   "id": "5cfc1453",
   "metadata": {},
   "outputs": [],
   "source": [
    "from symred.S3_projection import S3_projection, unitary_partitioning_rotations\n",
    "from symred.symplectic_form import *\n",
    "from scipy.optimize import shgo, differential_evolution\n",
    "from symred.utils import gf2_gaus_elim, unit_n_sphere_cartesian_coords\n",
    "from functools import reduce\n",
    "import json\n",
    "\n",
    "class CS_VQE(S3_projection):\n",
    "    \"\"\"\n",
    "    \"\"\"\n",
    "    def __init__(self,\n",
    "            operator: PauliwordOp,\n",
    "            ref_state: np.array = None,\n",
    "            target_sqp: str = 'Z',\n",
    "            basis_weighting_operator: PauliwordOp = None\n",
    "        ) -> None:\n",
    "        \"\"\" \n",
    "        \"\"\"\n",
    "        self.operator = operator\n",
    "        self.ref_state = ref_state\n",
    "        self.target_sqp = target_sqp\n",
    "        if basis_weighting_operator is not None:\n",
    "            self.basis_weighting_operator = basis_weighting_operator\n",
    "        else:\n",
    "            self.basis_weighting_operator = operator\n",
    "        self.contextual_operator = (operator-self.noncontextual_operator).cleanup_zeros()\n",
    "        # decompose the noncontextual set into a dictionary of its \n",
    "        # universally commuting elements and anticommuting cliques\n",
    "        self.noncontextual_reconstruction = (\n",
    "            self.noncontextual_operator.basis_reconstruction(self.noncontextual_basis)\n",
    "        )\n",
    "        self.r_indices = self.noncontextual_reconstruction[:,:self.n_cliques]\n",
    "        self.G_indices = self.noncontextual_reconstruction[:,self.n_cliques:]\n",
    "        self.clique_operator = (self.noncontextual_basis[:self.n_cliques]).sort(key='Z')\n",
    "        symmetry_generators_symp = self.noncontextual_basis.symp_matrix[self.n_cliques:]\n",
    "        self.symmetry_generators = StabilizerOp(\n",
    "            symmetry_generators_symp,\n",
    "            np.ones(symmetry_generators_symp.shape[0])\n",
    "        )\n",
    "        # determine the noncontextual ground state - this updates the coefficients of the clique \n",
    "        # representative operator C(r) and symmetry generators G with the optimal configuration\n",
    "        self.solve_noncontextual(ref_state)\n",
    "        \n",
    "    def basis_score(self, \n",
    "            basis: StabilizerOp\n",
    "        ) -> float:\n",
    "        \"\"\" Evaluate the score of an input basis according \n",
    "        to the basis weighting operator, for example:\n",
    "            - set Hamiltonian cofficients to 1 for unweighted number of commuting terms\n",
    "            - specify as the SOR Hamiltonian to weight according to second-order response\n",
    "            - input UCC operator to weight according to coupled-cluster theory <- best performance\n",
    "            - if None given then weights by Hamiltonian coefficient magnitude\n",
    "        \"\"\"\n",
    "        # mask terms of the weighting operator that are preserved under projection over the basis\n",
    "        mask_preserved = np.where(np.all(self.basis_weighting_operator.commutes_termwise(basis),axis=1))[0]\n",
    "        return (\n",
    "            np.linalg.norm(self.basis_weighting_operator.coeff_vec[mask_preserved]) /\n",
    "            np.linalg.norm(self.basis_weighting_operator.coeff_vec)\n",
    "            )\n",
    "    \n",
    "    def update_eigenvalue(self, stabilizer: StabilizerOp) -> None:\n",
    "        \"\"\" Update the +/-1 eigenvalue assigned to the input stabilizer\n",
    "        according to the noncontextual ground state configuration\n",
    "        \"\"\"\n",
    "        stabilizer.coeff_vec[0] = (-1) ** np.count_nonzero(\n",
    "            np.bitwise_and(\n",
    "                stabilizer.basis_reconstruction(self.symmetry_generators)==1, \n",
    "                self.symmetry_generators.coeff_vec==-1\n",
    "                )\n",
    "            )\n",
    "\n",
    "    @cached_property\n",
    "    def noncontextual_operator(self) -> PauliwordOp:\n",
    "        \"\"\" Extract a noncontextual set of Pauli terms from the operator\n",
    "\n",
    "        Implementation of the algorithm in https://doi.org/10.1103/PhysRevLett.123.200501\n",
    "        Does a single pass over the Hamiltonian and appends terms to noncontextual_operator \n",
    "        that do not make it contextual - easy to do multiple passes although this does not \n",
    "        seem to yield better results from experimentation.\n",
    "\n",
    "        TODO graph-based approach, currently uses legacy implementation\n",
    "        \"\"\"\n",
    "        # order the operator terms by coefficient magnitude\n",
    "        check_ops = self.operator.sort(key='magnitude')\n",
    "        # initialise as identity with 0 coefficient\n",
    "        I_symp = np.zeros(2*self.operator.n_qubits, dtype=int)\n",
    "        noncontextual_operator = PauliwordOp(I_symp, [0])\n",
    "        for i in range(check_ops.n_terms):\n",
    "            if (noncontextual_operator+check_ops[i]).is_noncontextual:\n",
    "                noncontextual_operator+=check_ops[i]\n",
    "        return noncontextual_operator\n",
    "\n",
    "    @cached_property\n",
    "    def noncontextual_basis(self) -> StabilizerOp:\n",
    "        \"\"\" Find an independent basis for the noncontextual symmetry\n",
    "        \"\"\"\n",
    "        self.decomposed = {}\n",
    "        # extract the universally commuting noncontextual terms\n",
    "        universal_mask = np.where(np.all(self.noncontextual_operator.adjacency_matrix, axis=1))\n",
    "        universal_operator = PauliwordOp(self.noncontextual_operator.symp_matrix[universal_mask],\n",
    "                                         self.noncontextual_operator.coeff_vec[universal_mask])\n",
    "        self.decomposed['symmetry'] = universal_operator\n",
    "        # identify the anticommuting cliques\n",
    "        clique_union = (self.noncontextual_operator - universal_operator).cleanup_zeros()\n",
    "        # order lexicographically and take difference between adjacent rows\n",
    "        clique_grouping_order = np.lexsort(clique_union.adjacency_matrix.T)\n",
    "        diff_adjacent = np.diff(clique_union.adjacency_matrix[clique_grouping_order], axis=0)\n",
    "        # the unique cliques are the non-zero rows in diff_adjacent\n",
    "        mask_unique_cliques = np.append(True, ~np.all(diff_adjacent==0, axis=1))\n",
    "        # determine the inverse mapping so terms of the same clique have the same index\n",
    "        inverse_index = np.zeros_like(clique_grouping_order)\n",
    "        inverse_index[clique_grouping_order] = np.cumsum(mask_unique_cliques) - 1\n",
    "        mask_cliques = np.stack([np.where(inverse_index==i)[0] for i in np.unique(inverse_index)])\n",
    "        # mask each clique and select a class represetative for its contribution in the noncontextual basis\n",
    "        clique_reps = []\n",
    "        for i, (Ci_symp, Ci_coef) in enumerate(\n",
    "            zip(\n",
    "                clique_union.symp_matrix[mask_cliques],\n",
    "                clique_union.coeff_vec[mask_cliques]\n",
    "            )\n",
    "        ):\n",
    "            Ci_operator = PauliwordOp(Ci_symp, Ci_coef)\n",
    "            self.decomposed[f'clique_{i}'] = Ci_operator\n",
    "            # choose cliques representative that maximises basis_score\n",
    "            rep_scores = [(Ci_operator[i], self.basis_score(Ci_operator[i])) for i in range(len(Ci_coef))]\n",
    "            clique_reps.append(sorted(rep_scores, key=lambda x:-x[1])[0][0].symp_matrix)\n",
    "\n",
    "        # now we are ready to build the noncontextual basis...\n",
    "        # perform Gaussian elimination on the symmetry terms:\n",
    "        reduced_universal = gf2_gaus_elim(universal_operator.symp_matrix)\n",
    "        reduced_universal = reduced_universal[np.where(np.any(reduced_universal, axis=1))]\n",
    "        basis = PauliwordOp(reduced_universal, np.ones(reduced_universal.shape[0]))\n",
    "        clique_reps = np.vstack(clique_reps)\n",
    "        basis = basis + PauliwordOp(clique_reps, np.ones(clique_reps.shape[0]))\n",
    "        basis_order = np.lexsort(basis.adjacency_matrix)\n",
    "        basis = StabilizerOp(basis.symp_matrix[basis_order],np.ones(basis.n_terms))\n",
    "        self.n_cliques = np.count_nonzero(~np.all(basis.adjacency_matrix, axis=1))\n",
    "        \n",
    "        return basis\n",
    "    \n",
    "    def noncontextual_objective_function(self, \n",
    "            nu: np.array, \n",
    "            r: np.array\n",
    "        ) -> float:\n",
    "        \"\"\" The classical objective function that encodes the noncontextual energies\n",
    "        \"\"\"\n",
    "        G_prod = (-1)**np.count_nonzero(np.logical_and(self.G_indices==1, nu == -1), axis=1)\n",
    "        r_part = np.sum(self.r_indices*r, axis=1)\n",
    "        r_part[np.where(r_part==0)]=1\n",
    "        return np.sum(self.noncontextual_operator.coeff_vec*G_prod*r_part).real\n",
    "\n",
    "    def solve_noncontextual(self, ref_state: np.array = None) -> None:\n",
    "        \"\"\" Minimize the classical objective function, yielding the noncontextual ground state\n",
    "        \"\"\"\n",
    "        def convex_problem(nu):\n",
    "            \"\"\" given +/-1 value assignments nu, solve for the clique operator coefficients.\n",
    "            Note that, with nu fixed, the optimization problem is now convex.\n",
    "            \"\"\"\n",
    "            # given M cliques, optimize over the unit (M-1)-sphere and convert to cartesians for the r vector\n",
    "            r_bounds = [(0, np.pi)]*(self.n_cliques-2)+[(0, 2*np.pi)]\n",
    "            optimizer_output = differential_evolution(\n",
    "                func=lambda angles:self.noncontextual_objective_function(\n",
    "                    nu, unit_n_sphere_cartesian_coords(angles)\n",
    "                    ), \n",
    "                bounds=r_bounds\n",
    "            )\n",
    "            optimized_energy = optimizer_output['fun']\n",
    "            optimized_angles = optimizer_output['x']\n",
    "            r_optimal = unit_n_sphere_cartesian_coords(optimized_angles)\n",
    "            return optimized_energy, r_optimal\n",
    "\n",
    "        if ref_state is None:\n",
    "            # optimize discrete value assignments nu by relaxation to continuous variables\n",
    "            nu_bounds = [(0, np.pi)]*self.symmetry_generators.n_terms\n",
    "            optimizer_output = shgo(func=lambda angles:convex_problem(np.cos(angles))[0], bounds=nu_bounds)\n",
    "            # if optimization was successful the optimal angles should consist of 0 and pi\n",
    "            self.symmetry_generators.coeff_vec = np.array(np.cos(optimizer_output['x']), dtype=int)\n",
    "        else:\n",
    "            # update the symmetry generator G coefficients w.r.t. the reference state\n",
    "            self.symmetry_generators.update_sector(ref_state=ref_state)\n",
    "        \n",
    "        # optimize the clique operator coefficients\n",
    "        fix_nu = self.symmetry_generators.coeff_vec\n",
    "        self.noncontextual_energy, r = convex_problem(fix_nu)\n",
    "        self.clique_operator.coeff_vec = r\n",
    "        \n",
    "    def contextual_subspace_projection(self,\n",
    "            stabilizers: List[PauliwordOp],\n",
    "            aux_operator: PauliwordOp = None\n",
    "        ) -> PauliwordOp:\n",
    "        \"\"\" input a list of independent operators one wishes to map onto single-qubit \n",
    "        Pauli operators and project into the corresponding stabilizer subspace\n",
    "        \"\"\"\n",
    "        # define the operator to be projected (aux_operator faciliates ansatze to be projected)\n",
    "        if aux_operator is not None:\n",
    "            operator_to_project = aux_operator.copy()\n",
    "        else:\n",
    "            operator_to_project = self.operator.copy()\n",
    "        \n",
    "        insert_rotations = []\n",
    "        fix_stabilizers = []\n",
    "        for stab in stabilizers:\n",
    "            if stab.n_terms > 1:\n",
    "                # if any stabilizers in the list contain more than one term then apply unitary partitioning\n",
    "                UP_rot = unitary_partitioning_rotations(stab)\n",
    "                insert_rotations+=UP_rot\n",
    "                stab = stab.recursive_rotate_by_Pword(UP_rot).cleanup_zeros()\n",
    "            else:\n",
    "                self.update_eigenvalue(stab)\n",
    "            fix_stabilizers.append(stab)\n",
    "        fix_stabilizers = reduce(lambda x,y:x+y, fix_stabilizers)\n",
    "                \n",
    "        # instantiate as StabilizerOp to ensure algebraic independence and coefficients are +/-1\n",
    "        fix_stabilizers = StabilizerOp(\n",
    "            fix_stabilizers.symp_matrix, \n",
    "            np.array(fix_stabilizers.coeff_vec, dtype=int),\n",
    "            target_sqp=self.target_sqp\n",
    "        )\n",
    "        # instantiate the parent S3_projection classwith the stabilizers we are enforcing\n",
    "        super().__init__(fix_stabilizers, target_sqp=self.target_sqp)\n",
    "\n",
    "        return self.perform_projection(\n",
    "            operator=operator_to_project,\n",
    "            insert_rotations=insert_rotations\n",
    "        )"
   ]
  },
  {
   "cell_type": "code",
   "execution_count": 63,
   "id": "452b385b",
   "metadata": {},
   "outputs": [
    {
     "name": "stdout",
     "output_type": "stream",
     "text": [
      "dict_keys(['H2_3-21G_SINGLET', 'H6_STO-3G_SINGLET', 'H2_6-31G_SINGLET', 'H2_6-311G_SINGLET', 'H3+_STO-3G_SINGLET', 'H3+_3-21G_SINGLET', 'HeH+_3-21G_SINGLET', 'HeH+_6-311G_SINGLET', 'H2O_STO-3G_SINGLET', 'BeH+_STO-3G_SINGLET', 'LiH_STO-3G_SINGLET', 'CH+_STO-3G_SINGLET', 'HF_STO-3G_SINGLET', 'B+_STO-3G_SINGLET', 'B_STO-3G_DOUBLET', 'N_STO-3G_QUARTET', 'OH-_STO-3G_SINGLET', 'O_STO-3G_TRIPLET', 'CH2_STO-3G_TRIPLET', 'BeH2_STO-3G_SINGLET', 'Be_STO-3G_SINGLET', 'C_STO-3G_TRIPLET', 'NH_STO-3G_SINGLET', 'Ne_STO-3G_SINGLET', 'F_STO-3G_DOUBLET', 'Li_STO-3G_DOUBLET', 'BH_STO-3G_SINGLET', 'NeH+_STO-3G_SINGLET', 'NH2-_STO-3G_SINGLET', 'BH3_STO-3G_SINGLET', 'BH2+_STO-3G_SINGLET', 'HCl_STO-3G_SINGLET', 'H4_STO-3G_SINGLET', 'NH3_STO-3G_SINGLET', 'F2_STO-3G_SINGLET', 'HCN_STO-3G_SINGLET', 'CH4_STO-3G_SINGLET', 'CH3NHCH3_STO-3G_SINGLET', 'CH3CH2NH2_STO-3G_SINGLET', 'CH3CH2OH_STO-3G_SINGLET', 'CH3OH_STO-3G_SINGLET', 'C2H6_STO-3G_SINGLET', 'CH3CN_STO-3G_SINGLET', 'CH3CHO_STO-3G_SINGLET', 'CH3CHOHCH3_STO-3G_SINGLET', 'CHONH2_STO-3G_SINGLET', 'CH3OCH3_STO-3G_SINGLET', 'C2H5F_STO-3G_SINGLET', 'CH3COCH3_STO-3G_SINGLET', 'CO2_STO-3G_SINGLET', 'O2_STO-3G_SINGLET', 'O3_STO-3G_SINGLET', 'HOOH_STO-3G_SINGLET', 'NaCl_STO-3G_SINGLET', 'H2S_STO-3G_SINGLET', 'SiH4_STO-3G_SINGLET'])\n"
     ]
    }
   ],
   "source": [
    "with open('data/molecule_data.json', 'r') as jfile:\n",
    "    molecule_geometries = json.load(jfile)\n",
    "print(molecule_geometries.keys())"
   ]
  },
  {
   "cell_type": "code",
   "execution_count": 64,
   "id": "e258dd18",
   "metadata": {},
   "outputs": [
    {
     "name": "stdout",
     "output_type": "stream",
     "text": [
      "Molecule geometry:\n",
      "H\t0.0\t0.0\t0.099457\n",
      "F\t0.0\t0.0\t-0.895109\n"
     ]
    }
   ],
   "source": [
    "# Set molecule parameters\n",
    "speciesname = 'HF_STO-3G_SINGLET'\n",
    "mol_data = molecule_geometries[speciesname]\n",
    "if 'name' in mol_data:\n",
    "    print(mol_data['name'])\n",
    "    \n",
    "atoms = mol_data['atoms']\n",
    "coords = mol_data['coords']\n",
    "basis = mol_data['basis']\n",
    "multiplicity = mol_data['multiplicity']\n",
    "charge = mol_data['charge']\n",
    "geometry = list(zip(atoms, coords))\n",
    "\n",
    "xyz_file = str(len(atoms))+'\\n '\n",
    "\n",
    "for atom, coords in geometry:\n",
    "    xyz_file += '\\n'+atom+'\\t'\n",
    "    xyz_file += '\\t'.join(list(map(str, coords)))\n",
    "\n",
    "print('Molecule geometry:')\n",
    "print(xyz_file[4:])"
   ]
  },
  {
   "cell_type": "code",
   "execution_count": 65,
   "id": "5dd1b194",
   "metadata": {},
   "outputs": [
    {
     "name": "stdout",
     "output_type": "stream",
     "text": [
      "HF converged?   True\n",
      "CCSD converged? True\n",
      "FCI converged?  True\n",
      "\n",
      "HF energy: -98.5710110679765\n",
      "MP2 energy: -98.5919816567085\n",
      "CCSD energy: -98.60330172368168\n",
      "FCI energy: -98.60330177725882\n"
     ]
    }
   ],
   "source": [
    "from symred.chem import PySCFDriver\n",
    "\n",
    "convergence = 1e6; max_hf_cycles=100_000; ram = 8_000\n",
    "run_mp2  = True; run_cisd = False; run_ccsd = True; run_fci  = True\n",
    "\n",
    "pyscf_obj = PySCFDriver(xyz_file,\n",
    "                        basis,\n",
    "                        #convergence=convergence,\n",
    "                        charge=charge,\n",
    "                        #max_ram_memory=ram,\n",
    "                        #max_hf_cycles=max_hf_cycles,                   \n",
    "                        run_mp2=run_mp2,\n",
    "                        run_cisd=run_cisd,\n",
    "                        run_ccsd=run_ccsd,\n",
    "                        run_fci=run_fci)\n",
    "\n",
    "pyscf_obj.run_pyscf()\n",
    "\n",
    "print('HF converged?  ', pyscf_obj.pyscf_hf.converged)\n",
    "print('CCSD converged?', pyscf_obj.pyscf_ccsd.converged)\n",
    "print('FCI converged? ', pyscf_obj.pyscf_fci.converged)\n",
    "\n",
    "hf_energy = pyscf_obj.pyscf_hf.e_tot\n",
    "mp2_energy = pyscf_obj.pyscf_mp2.e_tot\n",
    "ccsd_energy = pyscf_obj.pyscf_ccsd.e_tot\n",
    "fci_energy = pyscf_obj.pyscf_fci.e_tot\n",
    "\n",
    "print()\n",
    "print(f'HF energy: {hf_energy}')\n",
    "print(f'MP2 energy: {mp2_energy}')\n",
    "print(f'CCSD energy: {ccsd_energy}')\n",
    "print(f'FCI energy: {fci_energy}')"
   ]
  },
  {
   "cell_type": "code",
   "execution_count": 66,
   "id": "1f9fe4e1",
   "metadata": {},
   "outputs": [
    {
     "name": "stdout",
     "output_type": "stream",
     "text": [
      "Number of qubits: 12\n"
     ]
    }
   ],
   "source": [
    "from symred.chem import FermionicHamilt, FermioniCC\n",
    "from openfermion import get_fermion_operator, jordan_wigner, hermitian_conjugated\n",
    "\n",
    "H_fermion = FermionicHamilt(pyscf_obj.pyscf_hf)\n",
    "T_fermion = FermioniCC(pyscf_obj.pyscf_ccsd)\n",
    "H_fermion.build_operator()\n",
    "T_fermion.build_operator()\n",
    "\n",
    "n_qubits = H_fermion.n_qubits\n",
    "print('Number of qubits:', n_qubits)\n",
    "\n",
    "H = get_fermion_operator(H_fermion.fermionic_molecular_hamiltonian)\n",
    "T = T_fermion.fermionic_cc_operator\n",
    "T -= hermitian_conjugated(T)\n",
    "\n",
    "H_jw = jordan_wigner(H)\n",
    "T_jw = jordan_wigner(T)"
   ]
  },
  {
   "cell_type": "code",
   "execution_count": 67,
   "id": "bcab1761",
   "metadata": {
    "scrolled": false
   },
   "outputs": [],
   "source": [
    "from openfermion import QubitOperator\n",
    "\n",
    "def QubitOperator_to_dict(op, num_qubits):\n",
    "    assert(type(op) == QubitOperator)\n",
    "    op_dict = {}\n",
    "    term_dict = op.terms\n",
    "    terms = list(term_dict.keys())\n",
    "\n",
    "    for t in terms:    \n",
    "        letters = ['I' for i in range(num_qubits)]\n",
    "        for i in t:\n",
    "            letters[i[0]] = i[1]\n",
    "        p_string = ''.join(letters)        \n",
    "        op_dict[p_string] = term_dict[t]\n",
    "         \n",
    "    return op_dict\n",
    "\n",
    "H_q = PauliwordOp(QubitOperator_to_dict(H_jw, n_qubits))\n",
    "T_q = PauliwordOp(QubitOperator_to_dict(T_jw, n_qubits))\n",
    "T_q.coeff_vec = T_q.coeff_vec.imag"
   ]
  },
  {
   "cell_type": "code",
   "execution_count": 68,
   "id": "7446a8eb",
   "metadata": {},
   "outputs": [
    {
     "name": "stdout",
     "output_type": "stream",
     "text": [
      "0.0000165473 YZZZZZZZZZXI +\n",
      "-0.0000165473 XZZZZZZZZZYI +\n",
      "-0.0012871236 IIYZZZZZZZXI +\n",
      "0.0012871236 IIXZZZZZZZYI +\n",
      "0.0069759262 IIIIYZZZZZXI +\n",
      "-0.0069759262 IIIIXZZZZZYI +\n",
      "0.0000165473 IYZZZZZZZZZX +\n",
      "-0.0000165473 IXZZZZZZZZZY +\n",
      "-0.0012871236 IIIYZZZZZZZX +\n",
      "0.0012871236 IIIXZZZZZZZY +\n",
      "0.0069759262 IIIIIYZZZZZX +\n",
      "-0.0069759262 IIIIIXZZZZZY +\n",
      "-0.0000460388 YYIIIIIIIIYX +\n",
      "0.0000460388 YXIIIIIIIIYY +\n",
      "0.0000460388 XXIIIIIIIIYX +\n",
      "0.0000460388 XYIIIIIIIIYY +\n",
      "-0.0000460388 YXIIIIIIIIXX +\n",
      "-0.0000460388 YYIIIIIIIIXY +\n",
      "-0.0000460388 XYIIIIIIIIXX +\n",
      "0.0000460388 XXIIIIIIIIXY +\n",
      "-0.0000601072 YZZYIIIIIIYX +\n",
      "0.0000601072 YZZXIIIIIIYY +\n",
      "0.0000601072 XZZXIIIIIIYX +\n",
      "0.0000601072 XZZYIIIIIIYY +\n",
      "-0.0000601072 YZZXIIIIIIXX +\n",
      "-0.0000601072 YZZYIIIIIIXY +\n",
      "-0.0000601072 XZZYIIIIIIXX +\n",
      "0.0000601072 XZZXIIIIIIXY +\n",
      "0.0000101571 YZZZZYIIIIYX +\n",
      "-0.0000101571 YZZZZXIIIIYY +\n",
      "-0.0000101571 XZZZZXIIIIYX +\n",
      "-0.0000101571 XZZZZYIIIIYY +\n",
      "0.0000101571 YZZZZXIIIIXX +\n",
      "0.0000101571 YZZZZYIIIIXY +\n",
      "0.0000101571 XZZZZYIIIIXX +\n",
      "-0.0000101571 XZZZZXIIIIXY +\n",
      "0.0000601072 IYYIIIIIIIYX +\n",
      "-0.0000601072 IYXIIIIIIIYY +\n",
      "-0.0000601072 IXXIIIIIIIYX +\n",
      "-0.0000601072 IXYIIIIIIIYY +\n",
      "0.0000601072 IYXIIIIIIIXX +\n",
      "0.0000601072 IYYIIIIIIIXY +\n",
      "0.0000601072 IXYIIIIIIIXX +\n",
      "-0.0000601072 IXXIIIIIIIXY +\n",
      "-0.0000101571 IYZZYIIIIIYX +\n",
      "0.0000101571 IYZZXIIIIIYY +\n",
      "0.0000101571 IXZZXIIIIIYX +\n",
      "0.0000101571 IXZZYIIIIIYY +\n",
      "-0.0000101571 IYZZXIIIIIXX +\n",
      "-0.0000101571 IYZZYIIIIIXY +\n",
      "-0.0000101571 IXZZYIIIIIXX +\n",
      "0.0000101571 IXZZXIIIIIXY +\n",
      "-0.0030407315 IIYYIIIIIIYX +\n",
      "0.0030407315 IIYXIIIIIIYY +\n",
      "0.0030407315 IIXXIIIIIIYX +\n",
      "0.0030407315 IIXYIIIIIIYY +\n",
      "-0.0030407315 IIYXIIIIIIXX +\n",
      "-0.0030407315 IIYYIIIIIIXY +\n",
      "-0.0030407315 IIXYIIIIIIXX +\n",
      "0.0030407315 IIXXIIIIIIXY +\n",
      "-0.0037829494 IIYZZYIIIIYX +\n",
      "0.0037829494 IIYZZXIIIIYY +\n",
      "0.0037829494 IIXZZXIIIIYX +\n",
      "0.0037829494 IIXZZYIIIIYY +\n",
      "-0.0037829494 IIYZZXIIIIXX +\n",
      "-0.0037829494 IIYZZYIIIIXY +\n",
      "-0.0037829494 IIXZZYIIIIXX +\n",
      "0.0037829494 IIXZZXIIIIXY +\n",
      "0.0037829494 IIIYYIIIIIYX +\n",
      "-0.0037829494 IIIYXIIIIIYY +\n",
      "-0.0037829494 IIIXXIIIIIYX +\n",
      "-0.0037829494 IIIXYIIIIIYY +\n",
      "0.0037829494 IIIYXIIIIIXX +\n",
      "0.0037829494 IIIYYIIIIIXY +\n",
      "0.0037829494 IIIXYIIIIIXX +\n",
      "-0.0037829494 IIIXXIIIIIXY +\n",
      "-0.0170381599 IIIIYYIIIIYX +\n",
      "0.0170381599 IIIIYXIIIIYY +\n",
      "0.0170381599 IIIIXXIIIIYX +\n",
      "0.0170381599 IIIIXYIIIIYY +\n",
      "-0.0170381599 IIIIYXIIIIXX +\n",
      "-0.0170381599 IIIIYYIIIIXY +\n",
      "-0.0170381599 IIIIXYIIIIXX +\n",
      "0.0170381599 IIIIXXIIIIXY +\n",
      "-0.0022256981 IIIIIIYYIIYX +\n",
      "0.0022256981 IIIIIIYXIIYY +\n",
      "0.0022256981 IIIIIIXXIIYX +\n",
      "0.0022256981 IIIIIIXYIIYY +\n",
      "-0.0022256981 IIIIIIYXIIXX +\n",
      "-0.0022256981 IIIIIIYYIIXY +\n",
      "-0.0022256981 IIIIIIXYIIXX +\n",
      "0.0022256981 IIIIIIXXIIXY +\n",
      "-0.0022256981 IIIIIIIIYYYX +\n",
      "0.0022256981 IIIIIIIIYXYY +\n",
      "0.0022256981 IIIIIIIIXXYX +\n",
      "0.0022256981 IIIIIIIIXYYY +\n",
      "-0.0022256981 IIIIIIIIYXXX +\n",
      "-0.0022256981 IIIIIIIIYYXY +\n",
      "-0.0022256981 IIIIIIIIXYXX +\n",
      "0.0022256981 IIIIIIIIXXXY\n"
     ]
    }
   ],
   "source": [
    "print(T_q)"
   ]
  },
  {
   "cell_type": "code",
   "execution_count": 69,
   "id": "944f8d47",
   "metadata": {},
   "outputs": [
    {
     "name": "stdout",
     "output_type": "stream",
     "text": [
      "We are able to taper 4 qubits from the Hamiltonian.\n",
      "\n",
      "The symmetry generators are\n",
      "\n",
      "1+0j ZIZIZIIZIZZI +\n",
      "1+0j IZIZIZIZIZIZ +\n",
      "1+0j IIIIIIZZIIII +\n",
      "1+0j IIIIIIIIZZII\n",
      "\n",
      "and are rotated onto the single-qubit Pauli operators\n",
      "\n",
      "-1+0j IIIIIIIIXIII +\n",
      "-1+0j IIIIIIXIIIII +\n",
      "-1+0j IXIIIIIIIIII +\n",
      "-1+0j XIIIIIIIIIII\n",
      "\n",
      "via a sequence of Clifford pi/2 rotations\n",
      "\n",
      "[('IIIIIIYZIIII', None), ('IIIIIIIIYZII', None), ('IYIZIZIZIZIZ', None), ('YIZIZIIZIZZI', None)]\n"
     ]
    }
   ],
   "source": [
    "from symred.S3_projection import QubitTapering\n",
    "\n",
    "taper_hamiltonian = QubitTapering(H_q)\n",
    "\n",
    "print(f'We are able to taper {taper_hamiltonian.n_taper} qubits from the Hamiltonian.\\n')\n",
    "print('The symmetry generators are\\n')\n",
    "print(taper_hamiltonian.symmetry_generators)\n",
    "print('\\nand are rotated onto the single-qubit Pauli operators\\n')\n",
    "print(taper_hamiltonian.stabilizers.rotate_onto_single_qubit_paulis())\n",
    "print('\\nvia a sequence of Clifford pi/2 rotations\\n')\n",
    "print(taper_hamiltonian.stabilizers.stabilizer_rotations)"
   ]
  },
  {
   "cell_type": "code",
   "execution_count": 70,
   "id": "f43170c4",
   "metadata": {},
   "outputs": [
    {
     "name": "stdout",
     "output_type": "stream",
     "text": [
      "The symmetry sector corresponding with the single reference [1 1 1 1 1 1 1 1 1 1 0 0] is [-1 -1  1  1]\n"
     ]
    }
   ],
   "source": [
    "hf_array = H_fermion.hf_comp_basis_state\n",
    "taper_hamiltonian.stabilizers.update_sector(hf_array)\n",
    "print(f'The symmetry sector corresponding with the single reference {hf_array} is {taper_hamiltonian.stabilizers.coeff_vec}')"
   ]
  },
  {
   "cell_type": "code",
   "execution_count": 71,
   "id": "50beffcc",
   "metadata": {},
   "outputs": [
    {
     "name": "stdout",
     "output_type": "stream",
     "text": [
      "Tapering information:\n",
      "------------------------------------------------\n",
      "We are able to taper 4 qubits from the Hamiltonian\n",
      "The symmetry basis/sector is:\n",
      "-1 ZIZIZIIZIZZI +\n",
      "-1 IZIZIZIZIZIZ +\n",
      "1 IIIIIIZZIIII +\n",
      "1 IIIIIIIIZZII\n",
      "The tapered Hartree-Fock state is  1.0000000000 |11111100>\n",
      "------------------------------------------------\n"
     ]
    }
   ],
   "source": [
    "ham_tap = taper_hamiltonian.taper_it(ref_state=hf_array)\n",
    "#sor_tap = taper_hamiltonian.taper_it(aux_operator=sor_ham, ref_state=hf_array)\n",
    "#sor_tap.coeff_vec/=np.linalg.norm(sor_tap.coeff_vec)\n",
    "ucc_tap = taper_hamiltonian.taper_it(aux_operator=T_q, ref_state=hf_array)\n",
    "n_taper = taper_hamiltonian.n_taper\n",
    "tapered_qubits   = taper_hamiltonian.stab_qubit_indices\n",
    "untapered_qubits = taper_hamiltonian.free_qubit_indices\n",
    "hf_tapered = taper_hamiltonian.tapered_ref_state\n",
    "\n",
    "dashes = \"------------------------------------------------\"\n",
    "print(\"Tapering information:\")\n",
    "print(dashes)\n",
    "print(f'We are able to taper {taper_hamiltonian.n_taper} qubits from the Hamiltonian')\n",
    "print('The symmetry basis/sector is:') \n",
    "print(taper_hamiltonian.symmetry_generators)\n",
    "print(f'The tapered Hartree-Fock state is', QuantumState([hf_tapered]))\n",
    "print(dashes)"
   ]
  },
  {
   "cell_type": "code",
   "execution_count": 72,
   "id": "c1df952f",
   "metadata": {},
   "outputs": [],
   "source": [
    "cs_vqe = CS_VQE(ham_tap, hf_tapered, basis_weighting_operator=ucc_tap)"
   ]
  },
  {
   "cell_type": "code",
   "execution_count": 73,
   "id": "8e2ec94a",
   "metadata": {},
   "outputs": [
    {
     "name": "stdout",
     "output_type": "stream",
     "text": [
      "-98.57101106797673\n"
     ]
    }
   ],
   "source": [
    "print(cs_vqe.noncontextual_energy)"
   ]
  },
  {
   "cell_type": "code",
   "execution_count": 74,
   "id": "e6e2edf7",
   "metadata": {},
   "outputs": [
    {
     "data": {
      "text/plain": [
       "-98.5710110679765"
      ]
     },
     "execution_count": 74,
     "metadata": {},
     "output_type": "execute_result"
    }
   ],
   "source": [
    "hf_energy"
   ]
  },
  {
   "cell_type": "code",
   "execution_count": 75,
   "id": "533d72df",
   "metadata": {},
   "outputs": [
    {
     "name": "stdout",
     "output_type": "stream",
     "text": [
      "-60.4094496640+0.0000000000j IIIIIIII +\n",
      "1.2109573782+0.0000000000j IIIIIIIZ +\n",
      "3.9490960549+0.0000000000j IIIIIZII +\n",
      "0.3156150476+0.0000000000j IIIIIZIZ +\n",
      "3.9490960549+0.0000000000j IIIIZIII +\n",
      "0.3156150476+0.0000000000j IIIIZIIZ +\n",
      "0.8630877007+0.0000000000j IIIIZZII +\n",
      "1.7139111631+0.0000000000j IIIZIIII +\n",
      "0.1198799001+0.0000000000j IIIZIIIZ +\n",
      "0.3582499227+0.0000000000j IIIZIZII +\n",
      "0.3582499227+0.0000000000j IIIZZIII +\n",
      "-0.2826575867+0.0000000000j IIIZZZIZ +\n",
      "0.1198799001+0.0000000000j IIZIIIZI +\n",
      "-0.2826575867+0.0000000000j IIZIZZZI +\n",
      "2.3344614381+0.0000000000j IZIIIIII +\n",
      "0.1445212925+0.0000000000j IZIIIIIZ +\n",
      "0.3951603512+0.0000000000j IZIIIZII +\n",
      "0.3951603512+0.0000000000j IZIIZIII +\n",
      "-0.2391124371+0.0000000000j IZIIZZIZ +\n",
      "0.1472373783+0.0000000000j IZIZIIII +\n",
      "-0.6246084576+0.0000000000j IZIZIZIZ +\n",
      "-0.6246084576+0.0000000000j IZIZZIIZ +\n",
      "-0.2134788336+0.0000000000j IZIZZZII +\n",
      "-16.1784651559+0.0000000000j IZIZZZIZ +\n",
      "2.3344614381+0.0000000000j ZIIIIIII +\n",
      "0.1683523492+0.0000000000j ZIIIIIIZ +\n",
      "0.3951603512+0.0000000000j ZIIIIZII +\n",
      "0.3951603512+0.0000000000j ZIIIZIII +\n",
      "0.1858379010+0.0000000000j ZIIZIIII +\n",
      "-0.6246084576+0.0000000000j ZIZIIZZI +\n",
      "-0.6246084576+0.0000000000j ZIZIZIZI +\n",
      "-16.1784651559+0.0000000000j ZIZIZZZI +\n",
      "-0.2195983560+0.0000000000j ZIZIZZZZ +\n",
      "-0.2445500689+0.0000000000j ZIZZZZZI +\n",
      "0.2145831177+0.0000000000j ZZIIIIII +\n",
      "-0.3017198676+0.0000000000j ZZIZZZIZ +\n",
      "-0.3017198676+0.0000000000j ZZZIZZZI +\n",
      "1.3407333396+0.0000000000j ZZZZIIZZ\n"
     ]
    }
   ],
   "source": [
    "print(cs_vqe.decomposed['symmetry'])"
   ]
  },
  {
   "cell_type": "code",
   "execution_count": 76,
   "id": "5f2ca3c2",
   "metadata": {
    "scrolled": true
   },
   "outputs": [
    {
     "name": "stdout",
     "output_type": "stream",
     "text": [
      "1 IIIIIIIZ +\n",
      "-1 IIIIIZII +\n",
      "-1 IIIIZIII +\n",
      "-1 IIIZIIII +\n",
      "-1 IIZIIIZI +\n",
      "-1 IZIIIIII +\n",
      "-1 ZIIIIIII\n",
      "\n",
      "1.0000000000 IIIIIIZZ +\n",
      "-0.0000000000 IIXZIIXI\n"
     ]
    }
   ],
   "source": [
    "print(cs_vqe.symmetry_generators)\n",
    "print()\n",
    "print(cs_vqe.clique_operator)"
   ]
  },
  {
   "cell_type": "code",
   "execution_count": 77,
   "id": "f369925b",
   "metadata": {},
   "outputs": [],
   "source": [
    "UP_rot = unitary_partitioning_rotations(cs_vqe.clique_operator)"
   ]
  },
  {
   "cell_type": "code",
   "execution_count": 78,
   "id": "508713f6",
   "metadata": {},
   "outputs": [
    {
     "name": "stdout",
     "output_type": "stream",
     "text": [
      "1.0000000000+0.0000000000j IIIIIIZZ\n",
      "1.0000000000+0.0000000000j IIIIIIZZ\n"
     ]
    }
   ],
   "source": [
    "stab = cs_vqe.clique_operator.recursive_rotate_by_Pword(UP_rot).cleanup_zeros()\n",
    "print(stab)\n",
    "cs_vqe.update_eigenvalue(stab)\n",
    "print(stab)"
   ]
  },
  {
   "cell_type": "code",
   "execution_count": 80,
   "id": "2841f0d0",
   "metadata": {},
   "outputs": [
    {
     "name": "stdout",
     "output_type": "stream",
     "text": [
      "1.0000000000 IIIIIIZZ +\n",
      "-0.0000000000 IIXZIIXI\n"
     ]
    }
   ],
   "source": [
    "print(cs_vqe.clique_operator)"
   ]
  },
  {
   "cell_type": "code",
   "execution_count": 120,
   "id": "b3ba6e49",
   "metadata": {},
   "outputs": [
    {
     "name": "stderr",
     "output_type": "stream",
     "text": [
      "/tmp/ipykernel_31433/1852410258.py:216: ComplexWarning: Casting complex values to real discards the imaginary part\n",
      "  np.array(fix_stabilizers.coeff_vec, dtype=int),\n"
     ]
    }
   ],
   "source": [
    "stabs = [PauliwordOp({'IZIZIIIZ':1})]# [cs_vqe.clique_operator, PauliwordOp({'IZZZZ':10000})]\n",
    "ham_cs = cs_vqe.contextual_subspace_projection(stabs)"
   ]
  },
  {
   "cell_type": "code",
   "execution_count": 121,
   "id": "fe6b0567",
   "metadata": {},
   "outputs": [
    {
     "data": {
      "text/plain": [
       "0.0008010200788390875"
      ]
     },
     "execution_count": 121,
     "metadata": {},
     "output_type": "execute_result"
    }
   ],
   "source": [
    "from symred.utils import exact_gs_energy\n",
    "\n",
    "exact_gs_energy(ham_cs.to_sparse_matrix)[0] - fci_energy"
   ]
  },
  {
   "cell_type": "code",
   "execution_count": 92,
   "id": "198b8018",
   "metadata": {},
   "outputs": [
    {
     "data": {
      "text/plain": [
       "0.9656984768422359"
      ]
     },
     "execution_count": 92,
     "metadata": {},
     "output_type": "execute_result"
    }
   ],
   "source": [
    "cs_vqe.basis_weighting_operator = ucc_tap #cs_vqe.basis_weighting_operator.recursive_rotate_by_Pword(UP_rot)\n",
    "cs_vqe.basis_score(reduce(lambda x,y:x+y, [cs_vqe.clique_operator.recursive_rotate_by_Pword(UP_rot).cleanup_zeros()]))"
   ]
  },
  {
   "cell_type": "code",
   "execution_count": 114,
   "id": "91d7349a",
   "metadata": {},
   "outputs": [
    {
     "name": "stdout",
     "output_type": "stream",
     "text": [
      "0.0069759262+0.0000000000j IIIYIIZX\n",
      "1+0j ZIIIIIII +\n",
      "1+0j IZIIIIII +\n",
      "1+0j IIZIIIII +\n",
      "1+0j IIIZIIIZ +\n",
      "1+0j IIIIZIII +\n",
      "1+0j IIIIIZII +\n",
      "1+0j IIIIIIZI\n",
      "\n",
      "-0.0069759262+0.0000000000j IIIXIIZY\n",
      "1+0j ZIIIIIII +\n",
      "1+0j IZIIIIII +\n",
      "1+0j IIZIIIII +\n",
      "1+0j IIIZIIIZ +\n",
      "1+0j IIIIZIII +\n",
      "1+0j IIIIIZII +\n",
      "1+0j IIIIIIZI\n",
      "\n",
      "-0.0000601072+0.0000000000j YZIZZZYY +\n",
      "-0.0000601072+0.0000000000j YIIIIIYY +\n",
      "-0.0069759262+0.0000000000j IIXZIIYI\n",
      "1+0j ZIIIIIIZ +\n",
      "1+0j IZIIIIII +\n",
      "1+0j IIZIIIZZ +\n",
      "1+0j IIIZIIII +\n",
      "1+0j IIIIZIII +\n",
      "1+0j IIIIIZII\n",
      "\n",
      "-0.0037829494+0.0000000000j XZZYIIXX +\n",
      "0.0044513961+0.0000000000j IIIIIYXX +\n",
      "0.0044513961+0.0000000000j IIIIYIXX\n",
      "1+0j ZIIIZZIZ +\n",
      "1+0j IZIIIIII +\n",
      "1+0j IIZIIIII +\n",
      "1+0j IIIZZZIZ +\n",
      "1+0j IIIIIIZZ\n",
      "\n",
      "0.0037829494+0.0000000000j XZZYIIYY +\n",
      "-0.0044513961+0.0000000000j IIIIIYYY +\n",
      "-0.0044513961+0.0000000000j IIIIYIYY\n",
      "1+0j ZIIIZZIZ +\n",
      "1+0j IZIIIIII +\n",
      "1+0j IIZIIIII +\n",
      "1+0j IIIZZZIZ +\n",
      "1+0j IIIIIIZZ\n",
      "\n",
      "-0.0037829494+0.0000000000j YZZYIIXY +\n",
      "-0.0044513961+0.0000000000j IIIIIXXY +\n",
      "-0.0044513961+0.0000000000j IIIIXIXY\n",
      "1+0j ZIIIZZIZ +\n",
      "1+0j IZIIIIII +\n",
      "1+0j IIZIIIII +\n",
      "1+0j IIIZZZIZ +\n",
      "1+0j IIIIIIZZ\n",
      "\n",
      "-0.0037829494+0.0000000000j YZZYIIYX +\n",
      "-0.0044513961+0.0000000000j IIIIIXYX +\n",
      "-0.0044513961+0.0000000000j IIIIXIYX\n",
      "1+0j ZIIIZZIZ +\n",
      "1+0j IZIIIIII +\n",
      "1+0j IIZIIIII +\n",
      "1+0j IIIZZZIZ +\n",
      "1+0j IIIIIIZZ\n",
      "\n",
      "-0.0000101571+0.0000000000j ZIYZZZXX +\n",
      "-0.0000601072+0.0000000000j ZYIZZZXX +\n",
      "0.0069759262+0.0000000000j IIYZIIXI\n",
      "1+0j ZIIIIIII +\n",
      "1+0j IZZIIIZI +\n",
      "1+0j IIIZIIII +\n",
      "1+0j IIIIZIII +\n",
      "1+0j IIIIIZII\n",
      "\n",
      "0.0000101571+0.0000000000j ZZYIIIYY +\n",
      "0.0170381599+0.0000000000j IIYXIIYY\n",
      "1+0j ZIIIIIII +\n",
      "1+0j IZIIIIII +\n",
      "1+0j IIZIIIIZ +\n",
      "1+0j IIIIZIII +\n",
      "1+0j IIIIIZII +\n",
      "1+0j IIIIIIZZ\n",
      "\n",
      "-0.0000101571+0.0000000000j ZZYIIIXX +\n",
      "-0.0170381599+0.0000000000j IIYXIIXX\n",
      "1+0j ZIIIIIII +\n",
      "1+0j IZIIIIII +\n",
      "1+0j IIZIIIIZ +\n",
      "1+0j IIIIZIII +\n",
      "1+0j IIIIIZII +\n",
      "1+0j IIIIIIZZ\n",
      "\n",
      "0.0000101571+0.0000000000j ZZXIIIXY +\n",
      "0.0170381599+0.0000000000j IIXXIIXY\n",
      "1+0j ZIIIIIII +\n",
      "1+0j IZIIIIII +\n",
      "1+0j IIZIIIIZ +\n",
      "1+0j IIIIZIII +\n",
      "1+0j IIIIIZII +\n",
      "1+0j IIIIIIZZ\n",
      "\n",
      "-0.0170381599+0.0000000000j IIXYIIXX +\n",
      "0.0037829494+0.0000000000j IYXIIIXX\n",
      "1+0j ZIIIIIII +\n",
      "1+0j IZIZIIIZ +\n",
      "1+0j IIZIIIIZ +\n",
      "1+0j IIIIZIII +\n",
      "1+0j IIIIIZII +\n",
      "1+0j IIIIIIZZ\n",
      "\n",
      "0.0170381599+0.0000000000j IIXYIIYY +\n",
      "-0.0037829494+0.0000000000j IYXIIIYY\n",
      "1+0j ZIIIIIII +\n",
      "1+0j IZIZIIIZ +\n",
      "1+0j IIZIIIIZ +\n",
      "1+0j IIIIZIII +\n",
      "1+0j IIIIIZII +\n",
      "1+0j IIIIIIZZ\n",
      "\n",
      "-0.0170381599+0.0000000000j IIYYIIXY +\n",
      "0.0037829494+0.0000000000j IYYIIIXY +\n",
      "-0.0030407315+0.0000000000j YYIIIIXY\n",
      "1+0j ZIZIIIIZ +\n",
      "1+0j IZIZIIIZ +\n",
      "1+0j IIIIZIII +\n",
      "1+0j IIIIIZII +\n",
      "1+0j IIIIIIZZ\n",
      "\n",
      "-0.0170381599+0.0000000000j IIYYIIYX +\n",
      "0.0037829494+0.0000000000j IYYIIIYX +\n",
      "-0.0030407315+0.0000000000j YYIIIIYX\n",
      "1+0j ZIZIIIIZ +\n",
      "1+0j IZIZIIIZ +\n",
      "1+0j IIIIZIII +\n",
      "1+0j IIIIIZII +\n",
      "1+0j IIIIIIZZ\n",
      "\n",
      "0.0000101571+0.0000000000j ZZXIIIYX +\n",
      "0.0170381599+0.0000000000j IIXXIIYX\n",
      "1+0j ZIIIIIII +\n",
      "1+0j IZIIIIII +\n",
      "1+0j IIZIIIIZ +\n",
      "1+0j IIIIZIII +\n",
      "1+0j IIIIIZII +\n",
      "1+0j IIIIIIZZ\n",
      "\n"
     ]
    }
   ],
   "source": [
    "from symred.symplectic_form import ObservableGraph\n",
    "from symred.utils import gf2_basis_for_gf2_rref\n",
    "\n",
    "HamGraph = ObservableGraph(ucc_tap.symp_matrix, ucc_tap.coeff_vec)\n",
    "QWC_operators = HamGraph.clique_cover(clique_relation='QWC', colouring_strategy='largest_first')\n",
    "ucc_norm = np.linalg.norm(ucc_tap.coeff_vec)\n",
    "significant_QWC_groups = [op for op in QWC_operators.values() if np.linalg.norm(op.coeff_vec)>ucc_norm/10]\n",
    "for op in significant_QWC_groups:\n",
    "    print(op)\n",
    "    ZX_symp = np.hstack([op.Z_block, op.X_block])\n",
    "    reduced = gf2_gaus_elim(ZX_symp)\n",
    "    kernel  = gf2_basis_for_gf2_rref(reduced)\n",
    "    stabilizers = StabilizerOp(kernel, np.ones(kernel.shape[0]))\n",
    "    mask_diag = np.where(~np.any(stabilizers.X_block, axis=1))[0]\n",
    "    stabilizers = StabilizerOp(stabilizers.symp_matrix[mask_diag], stabilizers.coeff_vec[mask_diag])\n",
    "    print(stabilizers)\n",
    "    print()"
   ]
  },
  {
   "cell_type": "code",
   "execution_count": 115,
   "id": "2a718169",
   "metadata": {},
   "outputs": [
    {
     "data": {
      "text/plain": [
       "8"
      ]
     },
     "execution_count": 115,
     "metadata": {},
     "output_type": "execute_result"
    }
   ],
   "source": [
    "ham_tap.n_qubits"
   ]
  },
  {
   "cell_type": "code",
   "execution_count": 46,
   "id": "599577b5",
   "metadata": {},
   "outputs": [
    {
     "name": "stdout",
     "output_type": "stream",
     "text": [
      "0.8162231079921426\n",
      "[<symred.symplectic_form.PauliwordOp object at 0x7f6d29f636a0>, <symred.symplectic_form.PauliwordOp object at 0x7f6d29f63730>, <symred.symplectic_form.PauliwordOp object at 0x7f6d29f63760>]\n"
     ]
    },
    {
     "name": "stderr",
     "output_type": "stream",
     "text": [
      "/tmp/ipykernel_31433/1852410258.py:216: ComplexWarning: Casting complex values to real discards the imaginary part\n",
      "  np.array(fix_stabilizers.coeff_vec, dtype=int),\n"
     ]
    },
    {
     "data": {
      "text/plain": [
       "0.014216038728674718"
      ]
     },
     "execution_count": 46,
     "metadata": {},
     "output_type": "execute_result"
    }
   ],
   "source": [
    "random_stabs = []\n",
    "n_stabs = 3\n",
    "for i in range(10000):\n",
    "    random_Z_block = np.random.randint(0,2,(n_stabs,ham_tap.n_qubits))\n",
    "    symp_matrix = np.hstack([np.zeros_like(random_Z_block), random_Z_block])\n",
    "    try:\n",
    "        basis = StabilizerOp(symp_matrix, np.ones(n_stabs))\n",
    "        random_stabs.append([cs_vqe.basis_score(basis), basis])\n",
    "    except:\n",
    "        pass\n",
    "    \n",
    "score, stabs = sorted(random_stabs,key = lambda x:-x[0])[0]\n",
    "stabs = [stabs[i] for i in range(stabs.n_terms)]\n",
    "ham_cs = cs_vqe.contextual_subspace_projection(stabs)\n",
    "\n",
    "print(score)\n",
    "print(stabs)\n",
    "exact_gs_energy(ham_cs.to_sparse_matrix)[0] - fci_energy"
   ]
  },
  {
   "cell_type": "code",
   "execution_count": 47,
   "id": "3435e49a",
   "metadata": {},
   "outputs": [
    {
     "data": {
      "text/plain": [
       "<symred.symplectic_form.PauliwordOp at 0x7f6dcd9ca0d0>"
      ]
     },
     "execution_count": 47,
     "metadata": {},
     "output_type": "execute_result"
    }
   ],
   "source": [
    "ham_tap"
   ]
  },
  {
   "cell_type": "code",
   "execution_count": 24,
   "id": "6c3acd87",
   "metadata": {},
   "outputs": [
    {
     "name": "stdout",
     "output_type": "stream",
     "text": [
      "-0.0002116131+0.0000000000j IIIIY +\n",
      "0.0002116131+0.0000000000j IZZZY +\n",
      "0.0002116131+0.0000000000j ZIZZY +\n",
      "-0.0002116131+0.0000000000j ZZIIY +\n",
      "-0.0002116131+0.0000000000j IIIYI +\n",
      "0.0002116131+0.0000000000j IZZYZ +\n",
      "0.0002116131+0.0000000000j ZIZYZ +\n",
      "-0.0002116131+0.0000000000j ZZIYI +\n",
      "-0.0002116131+0.0000000000j IIYII +\n",
      "0.0002116131+0.0000000000j IZYZZ +\n",
      "0.0002116131+0.0000000000j ZIYZZ +\n",
      "-0.0002116131+0.0000000000j ZZYII +\n",
      "0.0008888408+0.0000000000j IXIIY +\n",
      "-0.0008888408+0.0000000000j IYIIX +\n",
      "-0.0008888408+0.0000000000j ZXZZY +\n",
      "0.0008888408+0.0000000000j ZYZZX +\n",
      "0.0008888408+0.0000000000j IXIYI +\n",
      "-0.0008888408+0.0000000000j IYIXI +\n",
      "-0.0008888408+0.0000000000j ZXZYZ +\n",
      "0.0008888408+0.0000000000j ZYZXZ +\n",
      "0.0008888408+0.0000000000j IXYII +\n",
      "-0.0008888408+0.0000000000j IYXII +\n",
      "-0.0008888408+0.0000000000j ZXYZZ +\n",
      "0.0008888408+0.0000000000j ZYXZZ +\n",
      "-0.0008888408+0.0000000000j XIIIY +\n",
      "0.0008888408+0.0000000000j XZZZY +\n",
      "0.0008888408+0.0000000000j YIIIX +\n",
      "-0.0008888408+0.0000000000j YZZZX +\n",
      "-0.0008888408+0.0000000000j XIIYI +\n",
      "0.0008888408+0.0000000000j XZZYZ +\n",
      "0.0008888408+0.0000000000j YIIXI +\n",
      "-0.0008888408+0.0000000000j YZZXZ +\n",
      "-0.0008888408+0.0000000000j XIYII +\n",
      "0.0008888408+0.0000000000j XZYZZ +\n",
      "0.0008888408+0.0000000000j YIXII +\n",
      "-0.0008888408+0.0000000000j YZXZZ +\n",
      "-0.0492383311+0.0000000000j XXIIY +\n",
      "0.0492383311+0.0000000000j XYIIX +\n",
      "0.0492383311+0.0000000000j YXIIX +\n",
      "0.0492383311+0.0000000000j YYIIY +\n",
      "-0.0492383311+0.0000000000j XXIYI +\n",
      "0.0492383311+0.0000000000j XYIXI +\n",
      "0.0492383311+0.0000000000j YXIXI +\n",
      "0.0492383311+0.0000000000j YYIYI +\n",
      "-0.0492383311+0.0000000000j XXYII +\n",
      "0.0492383311+0.0000000000j XYXII +\n",
      "0.0492383311+0.0000000000j YXXII +\n",
      "0.0492383311+0.0000000000j YYYII\n"
     ]
    }
   ],
   "source": [
    "print(cs_vqe.basis_weighting_operator)"
   ]
  },
  {
   "cell_type": "code",
   "execution_count": null,
   "id": "cb6d2c2e",
   "metadata": {},
   "outputs": [],
   "source": []
  }
 ],
 "metadata": {
  "kernelspec": {
   "display_name": "Python 3 (ipykernel)",
   "language": "python",
   "name": "python3"
  },
  "language_info": {
   "codemirror_mode": {
    "name": "ipython",
    "version": 3
   },
   "file_extension": ".py",
   "mimetype": "text/x-python",
   "name": "python",
   "nbconvert_exporter": "python",
   "pygments_lexer": "ipython3",
   "version": "3.8.8"
  }
 },
 "nbformat": 4,
 "nbformat_minor": 5
}
