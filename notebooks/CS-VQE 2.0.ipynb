{
 "cells": [
  {
   "cell_type": "code",
   "execution_count": 244,
   "id": "aae6a61e",
   "metadata": {},
   "outputs": [],
   "source": [
    "from symred.S3_projection import S3_projection, unitary_partitioning_rotations\n",
    "from symred.symplectic_form import *\n",
    "from scipy.optimize import shgo, differential_evolution\n",
    "from symred.utils import gf2_gaus_elim, unit_n_sphere_cartesian_coords\n",
    "from functools import reduce\n",
    "import json\n",
    "\n",
    "class CS_VQE(S3_projection):\n",
    "    \"\"\"\n",
    "    \"\"\"\n",
    "    def __init__(self,\n",
    "            operator: PauliwordOp,\n",
    "            ref_state: np.array = None,\n",
    "            target_sqp: str = 'Z',\n",
    "            basis_weighting_operator: PauliwordOp = None\n",
    "        ) -> None:\n",
    "        \"\"\" \n",
    "        \"\"\"\n",
    "        self.operator = operator\n",
    "        self.ref_state = ref_state\n",
    "        self.target_sqp = target_sqp\n",
    "        if basis_weighting_operator is not None:\n",
    "            self.basis_weighting_operator = basis_weighting_operator\n",
    "        else:\n",
    "            self.basis_weighting_operator = operator\n",
    "        self.contextual_operator = (operator-self.noncontextual_operator).cleanup_zeros()\n",
    "        # decompose the noncontextual set into a dictionary of its \n",
    "        # universally commuting elements and anticommuting cliques\n",
    "        self.noncontextual_reconstruction = (\n",
    "            self.noncontextual_operator.basis_reconstruction(self.noncontextual_basis)\n",
    "        )\n",
    "        self.r_indices = self.noncontextual_reconstruction[:,:self.n_cliques]\n",
    "        self.G_indices = self.noncontextual_reconstruction[:,self.n_cliques:]\n",
    "        self.clique_operator = (self.noncontextual_basis[:self.n_cliques]).sort(key='Z')\n",
    "        symmetry_generators_symp = self.noncontextual_basis.symp_matrix[self.n_cliques:]\n",
    "        self.symmetry_generators = StabilizerOp(\n",
    "            symmetry_generators_symp,\n",
    "            np.ones(symmetry_generators_symp.shape[0])\n",
    "        )\n",
    "        # determine the noncontextual ground state - this updates the coefficients of the clique \n",
    "        # representative operator C(r) and symmetry generators G with the optimal configuration\n",
    "        self.solve_noncontextual(ref_state)\n",
    "        \n",
    "    def basis_score(self, \n",
    "            basis: StabilizerOp\n",
    "        ) -> float:\n",
    "        \"\"\" Evaluate the score of an input basis according \n",
    "        to the basis weighting operator, for example:\n",
    "            - set Hamiltonian cofficients to 1 for unweighted number of commuting terms\n",
    "            - specify as the SOR Hamiltonian to weight according to second-order response\n",
    "            - input UCC operator to weight according to coupled-cluster theory <- best performance\n",
    "            - if None given then weights by Hamiltonian coefficient magnitude\n",
    "        \"\"\"\n",
    "        # mask terms of the weighting operator that are preserved under projection over the basis\n",
    "        mask_preserved = np.where(np.all(self.basis_weighting_operator.commutes_termwise(basis),axis=1))[0]\n",
    "        return (\n",
    "            np.linalg.norm(self.basis_weighting_operator.coeff_vec[mask_preserved]) /\n",
    "            np.linalg.norm(self.basis_weighting_operator.coeff_vec)\n",
    "            )\n",
    "    \n",
    "    def update_eigenvalue(self, stabilizer: StabilizerOp) -> None:\n",
    "        \"\"\" Update the +/-1 eigenvalue assigned to the input stabilizer\n",
    "        according to the noncontextual ground state configuration\n",
    "        \"\"\"\n",
    "        stabilizer.coeff_vec[0] = (-1) ** np.count_nonzero(\n",
    "            np.bitwise_and(\n",
    "                stabilizer.basis_reconstruction(self.symmetry_generators)==1, \n",
    "                self.symmetry_generators.coeff_vec==-1\n",
    "                )\n",
    "            )\n",
    "\n",
    "    @cached_property\n",
    "    def noncontextual_operator(self) -> PauliwordOp:\n",
    "        \"\"\" Extract a noncontextual set of Pauli terms from the operator\n",
    "\n",
    "        Implementation of the algorithm in https://doi.org/10.1103/PhysRevLett.123.200501\n",
    "        Does a single pass over the Hamiltonian and appends terms to noncontextual_operator \n",
    "        that do not make it contextual - easy to do multiple passes although this does not \n",
    "        seem to yield better results from experimentation.\n",
    "\n",
    "        TODO graph-based approach, currently uses legacy implementation\n",
    "        \"\"\"\n",
    "        # order the operator terms by coefficient magnitude\n",
    "        check_ops = self.operator.sort(key='magnitude')\n",
    "        # initialise as identity with 0 coefficient\n",
    "        I_symp = np.zeros(2*self.operator.n_qubits, dtype=int)\n",
    "        noncontextual_operator = PauliwordOp(I_symp, [0])\n",
    "        for i in range(check_ops.n_terms):\n",
    "            if (noncontextual_operator+check_ops[i]).is_noncontextual:\n",
    "                noncontextual_operator+=check_ops[i]\n",
    "        return noncontextual_operator\n",
    "\n",
    "    @cached_property\n",
    "    def noncontextual_basis(self) -> StabilizerOp:\n",
    "        \"\"\" Find an independent basis for the noncontextual symmetry\n",
    "        \"\"\"\n",
    "        self.decomposed = {}\n",
    "        # extract the universally commuting noncontextual terms\n",
    "        universal_mask = np.where(np.all(self.noncontextual_operator.adjacency_matrix, axis=1))\n",
    "        universal_operator = PauliwordOp(self.noncontextual_operator.symp_matrix[universal_mask],\n",
    "                                         self.noncontextual_operator.coeff_vec[universal_mask])\n",
    "        self.decomposed['symmetry'] = universal_operator\n",
    "        # identify the anticommuting cliques\n",
    "        clique_union = (self.noncontextual_operator - universal_operator).cleanup_zeros()\n",
    "        # order lexicographically and take difference between adjacent rows\n",
    "        clique_grouping_order = np.lexsort(clique_union.adjacency_matrix.T)\n",
    "        diff_adjacent = np.diff(clique_union.adjacency_matrix[clique_grouping_order], axis=0)\n",
    "        # the unique cliques are the non-zero rows in diff_adjacent\n",
    "        mask_unique_cliques = np.append(True, ~np.all(diff_adjacent==0, axis=1))\n",
    "        # determine the inverse mapping so terms of the same clique have the same index\n",
    "        inverse_index = np.zeros_like(clique_grouping_order)\n",
    "        inverse_index[clique_grouping_order] = np.cumsum(mask_unique_cliques) - 1\n",
    "        mask_cliques = np.stack([np.where(inverse_index==i)[0] for i in np.unique(inverse_index)])\n",
    "        # mask each clique and select a class represetative for its contribution in the noncontextual basis\n",
    "        clique_reps = []\n",
    "        for i, (Ci_symp, Ci_coef) in enumerate(\n",
    "            zip(\n",
    "                clique_union.symp_matrix[mask_cliques],\n",
    "                clique_union.coeff_vec[mask_cliques]\n",
    "            )\n",
    "        ):\n",
    "            Ci_operator = PauliwordOp(Ci_symp, Ci_coef)\n",
    "            self.decomposed[f'clique_{i}'] = Ci_operator\n",
    "            # choose cliques representative that maximises basis_score\n",
    "            rep_scores = [(Ci_operator[i], self.basis_score(Ci_operator[i])) for i in range(len(Ci_coef))]\n",
    "            clique_reps.append(sorted(rep_scores, key=lambda x:-x[1])[0][0].symp_matrix)\n",
    "\n",
    "        # now we are ready to build the noncontextual basis...\n",
    "        # perform Gaussian elimination on the symmetry terms:\n",
    "        reduced_universal = gf2_gaus_elim(universal_operator.symp_matrix)\n",
    "        reduced_universal = reduced_universal[np.where(np.any(reduced_universal, axis=1))]\n",
    "        basis = PauliwordOp(reduced_universal, np.ones(reduced_universal.shape[0]))\n",
    "        clique_reps = np.vstack(clique_reps)\n",
    "        basis = basis + PauliwordOp(clique_reps, np.ones(clique_reps.shape[0]))\n",
    "        basis_order = np.lexsort(basis.adjacency_matrix)\n",
    "        basis = StabilizerOp(basis.symp_matrix[basis_order],np.ones(basis.n_terms))\n",
    "        self.n_cliques = np.count_nonzero(~np.all(basis.adjacency_matrix, axis=1))\n",
    "        \n",
    "        return basis\n",
    "    \n",
    "    def noncontextual_objective_function(self, \n",
    "            nu: np.array, \n",
    "            r: np.array\n",
    "        ) -> float:\n",
    "        \"\"\" The classical objective function that encodes the noncontextual energies\n",
    "        \"\"\"\n",
    "        G_prod = (-1)**np.count_nonzero(np.logical_and(self.G_indices==1, nu == -1), axis=1)\n",
    "        r_part = np.sum(self.r_indices*r, axis=1)\n",
    "        r_part[np.where(r_part==0)]=1\n",
    "        return np.sum(self.noncontextual_operator.coeff_vec*G_prod*r_part).real\n",
    "\n",
    "    def solve_noncontextual(self, ref_state: np.array = None) -> None:\n",
    "        \"\"\" Minimize the classical objective function, yielding the noncontextual ground state\n",
    "        \"\"\"\n",
    "        def convex_problem(nu):\n",
    "            \"\"\" given +/-1 value assignments nu, solve for the clique operator coefficients.\n",
    "            Note that, with nu fixed, the optimization problem is now convex.\n",
    "            \"\"\"\n",
    "            # given M cliques, optimize over the unit (M-1)-sphere and convert to cartesians for the r vector\n",
    "            r_bounds = [(0, np.pi)]*(self.n_cliques-2)+[(0, 2*np.pi)]\n",
    "            optimizer_output = differential_evolution(\n",
    "                func=lambda angles:self.noncontextual_objective_function(\n",
    "                    nu, unit_n_sphere_cartesian_coords(angles)\n",
    "                    ), \n",
    "                bounds=r_bounds\n",
    "            )\n",
    "            optimized_energy = optimizer_output['fun']\n",
    "            optimized_angles = optimizer_output['x']\n",
    "            r_optimal = unit_n_sphere_cartesian_coords(optimized_angles)\n",
    "            return optimized_energy, r_optimal\n",
    "\n",
    "        if ref_state is None:\n",
    "            # optimize discrete value assignments nu by relaxation to continuous variables\n",
    "            nu_bounds = [(0, np.pi)]*self.symmetry_generators.n_terms\n",
    "            optimizer_output = shgo(func=lambda angles:convex_problem(np.cos(angles))[0], bounds=nu_bounds)\n",
    "            # if optimization was successful the optimal angles should consist of 0 and pi\n",
    "            self.symmetry_generators.coeff_vec = np.array(np.cos(optimizer_output['x']), dtype=int)\n",
    "        else:\n",
    "            # update the symmetry generator G coefficients w.r.t. the reference state\n",
    "            self.symmetry_generators.update_sector(ref_state=ref_state)\n",
    "        \n",
    "        # optimize the clique operator coefficients\n",
    "        fix_nu = self.symmetry_generators.coeff_vec\n",
    "        self.noncontextual_energy, r = convex_problem(fix_nu)\n",
    "        self.clique_operator.coeff_vec = r\n",
    "        \n",
    "    def contextual_subspace_projection(self,\n",
    "            stabilizers: List[PauliwordOp],\n",
    "            aux_operator: PauliwordOp = None\n",
    "        ) -> PauliwordOp:\n",
    "        \"\"\" input a list of independent operators one wishes to map onto single-qubit \n",
    "        Pauli operators and project into the corresponding stabilizer subspace\n",
    "        \"\"\"\n",
    "        # define the operator to be projected (aux_operator faciliates ansatze to be projected)\n",
    "        if aux_operator is not None:\n",
    "            operator_to_project = aux_operator.copy()\n",
    "        else:\n",
    "            operator_to_project = self.operator.copy()\n",
    "        \n",
    "        insert_rotations = []\n",
    "        fix_stabilizers = []\n",
    "        for stab in stabilizers:\n",
    "            if stab.n_terms > 1:\n",
    "                # if any stabilizers in the list contain more than one term then apply unitary partitioning\n",
    "                UP_rot = unitary_partitioning_rotations(stab)\n",
    "                insert_rotations+=UP_rot\n",
    "                stab = stab.recursive_rotate_by_Pword(UP_rot).cleanup_zeros()\n",
    "            else:\n",
    "                self.update_eigenvalue(stab)\n",
    "            fix_stabilizers.append(stab)\n",
    "        fix_stabilizers = reduce(lambda x,y:x+y, fix_stabilizers)\n",
    "                \n",
    "        # instantiate as StabilizerOp to ensure algebraic independence and coefficients are +/-1\n",
    "        fix_stabilizers = StabilizerOp(\n",
    "            fix_stabilizers.symp_matrix, \n",
    "            np.array(fix_stabilizers.coeff_vec, dtype=int),\n",
    "            target_sqp=self.target_sqp\n",
    "        )\n",
    "        # instantiate the parent S3_projection classwith the stabilizers we are enforcing\n",
    "        super().__init__(fix_stabilizers, target_sqp=self.target_sqp)\n",
    "\n",
    "        return self.perform_projection(\n",
    "            operator=operator_to_project,\n",
    "            insert_rotations=insert_rotations\n",
    "        )"
   ]
  },
  {
   "cell_type": "code",
   "execution_count": 245,
   "id": "6457ee12",
   "metadata": {},
   "outputs": [
    {
     "name": "stdout",
     "output_type": "stream",
     "text": [
      "dict_keys(['H2_3-21G_SINGLET', 'H6_STO-3G_SINGLET', 'H2_6-31G_SINGLET', 'H2_6-311G_SINGLET', 'H3+_STO-3G_SINGLET', 'H3+_3-21G_SINGLET', 'HeH+_3-21G_SINGLET', 'HeH+_6-311G_SINGLET', 'H2O_STO-3G_SINGLET', 'BeH+_STO-3G_SINGLET', 'LiH_STO-3G_SINGLET', 'CH+_STO-3G_SINGLET', 'HF_STO-3G_SINGLET', 'B+_STO-3G_SINGLET', 'B_STO-3G_DOUBLET', 'N_STO-3G_QUARTET', 'OH-_STO-3G_SINGLET', 'O_STO-3G_TRIPLET', 'CH2_STO-3G_TRIPLET', 'BeH2_STO-3G_SINGLET', 'Be_STO-3G_SINGLET', 'C_STO-3G_TRIPLET', 'NH_STO-3G_SINGLET', 'Ne_STO-3G_SINGLET', 'F_STO-3G_DOUBLET', 'Li_STO-3G_DOUBLET', 'BH_STO-3G_SINGLET', 'NeH+_STO-3G_SINGLET', 'NH2-_STO-3G_SINGLET', 'BH3_STO-3G_SINGLET', 'BH2+_STO-3G_SINGLET', 'HCl_STO-3G_SINGLET', 'H4_STO-3G_SINGLET', 'NH3_STO-3G_SINGLET', 'F2_STO-3G_SINGLET', 'HCN_STO-3G_SINGLET', 'CH4_STO-3G_SINGLET', 'CH3NHCH3_STO-3G_SINGLET', 'CH3CH2NH2_STO-3G_SINGLET', 'CH3CH2OH_STO-3G_SINGLET', 'CH3OH_STO-3G_SINGLET', 'C2H6_STO-3G_SINGLET', 'CH3CN_STO-3G_SINGLET', 'CH3CHO_STO-3G_SINGLET', 'CH3CHOHCH3_STO-3G_SINGLET', 'CHONH2_STO-3G_SINGLET', 'CH3OCH3_STO-3G_SINGLET', 'C2H5F_STO-3G_SINGLET', 'CH3COCH3_STO-3G_SINGLET', 'CO2_STO-3G_SINGLET', 'O2_STO-3G_SINGLET', 'O3_STO-3G_SINGLET', 'HOOH_STO-3G_SINGLET', 'NaCl_STO-3G_SINGLET', 'H2S_STO-3G_SINGLET', 'SiH4_STO-3G_SINGLET'])\n"
     ]
    }
   ],
   "source": [
    "with open('data/molecule_data.json', 'r') as jfile:\n",
    "    molecule_geometries = json.load(jfile)\n",
    "print(molecule_geometries.keys())"
   ]
  },
  {
   "cell_type": "code",
   "execution_count": 264,
   "id": "32f66f17",
   "metadata": {},
   "outputs": [
    {
     "name": "stdout",
     "output_type": "stream",
     "text": [
      "Molecule geometry:\n",
      "Be\t0\t0\t0\n"
     ]
    }
   ],
   "source": [
    "# Set molecule parameters\n",
    "speciesname = 'Be_STO-3G_SINGLET'\n",
    "mol_data = molecule_geometries[speciesname]\n",
    "if 'name' in mol_data:\n",
    "    print(mol_data['name'])\n",
    "    \n",
    "atoms = mol_data['atoms']\n",
    "coords = mol_data['coords']\n",
    "basis = mol_data['basis']\n",
    "multiplicity = mol_data['multiplicity']\n",
    "charge = mol_data['charge']\n",
    "geometry = list(zip(atoms, coords))\n",
    "\n",
    "xyz_file = str(len(atoms))+'\\n '\n",
    "\n",
    "for atom, coords in geometry:\n",
    "    xyz_file += '\\n'+atom+'\\t'\n",
    "    xyz_file += '\\t'.join(list(map(str, coords)))\n",
    "\n",
    "print('Molecule geometry:')\n",
    "print(xyz_file[4:])"
   ]
  },
  {
   "cell_type": "code",
   "execution_count": 265,
   "id": "de380912",
   "metadata": {},
   "outputs": [
    {
     "name": "stdout",
     "output_type": "stream",
     "text": [
      "HF converged?   True\n",
      "CCSD converged? True\n",
      "FCI converged?  True\n",
      "\n",
      "HF energy: -14.351880476202023\n",
      "MP2 energy: -14.376238850841515\n",
      "CCSD energy: -14.403650683524738\n",
      "FCI energy: -14.403655108067682\n"
     ]
    }
   ],
   "source": [
    "from symred.chem import PySCFDriver\n",
    "\n",
    "convergence = 1e6; max_hf_cycles=100_000; ram = 8_000\n",
    "run_mp2  = True; run_cisd = False; run_ccsd = True; run_fci  = True\n",
    "\n",
    "pyscf_obj = PySCFDriver(xyz_file,\n",
    "                        basis,\n",
    "                        #convergence=convergence,\n",
    "                        charge=charge,\n",
    "                        #max_ram_memory=ram,\n",
    "                        #max_hf_cycles=max_hf_cycles,                   \n",
    "                        run_mp2=run_mp2,\n",
    "                        run_cisd=run_cisd,\n",
    "                        run_ccsd=run_ccsd,\n",
    "                        run_fci=run_fci)\n",
    "\n",
    "pyscf_obj.run_pyscf()\n",
    "\n",
    "print('HF converged?  ', pyscf_obj.pyscf_hf.converged)\n",
    "print('CCSD converged?', pyscf_obj.pyscf_ccsd.converged)\n",
    "print('FCI converged? ', pyscf_obj.pyscf_fci.converged)\n",
    "\n",
    "hf_energy = pyscf_obj.pyscf_hf.e_tot\n",
    "mp2_energy = pyscf_obj.pyscf_mp2.e_tot\n",
    "ccsd_energy = pyscf_obj.pyscf_ccsd.e_tot\n",
    "fci_energy = pyscf_obj.pyscf_fci.e_tot\n",
    "\n",
    "print()\n",
    "print(f'HF energy: {hf_energy}')\n",
    "print(f'MP2 energy: {mp2_energy}')\n",
    "print(f'CCSD energy: {ccsd_energy}')\n",
    "print(f'FCI energy: {fci_energy}')"
   ]
  },
  {
   "cell_type": "code",
   "execution_count": 266,
   "id": "4bacb97c",
   "metadata": {},
   "outputs": [
    {
     "name": "stdout",
     "output_type": "stream",
     "text": [
      "Number of qubits: 10\n"
     ]
    }
   ],
   "source": [
    "from symred.chem import FermionicHamilt, FermioniCC\n",
    "from openfermion import get_fermion_operator, jordan_wigner, hermitian_conjugated\n",
    "\n",
    "H_fermion = FermionicHamilt(pyscf_obj.pyscf_hf)\n",
    "T_fermion = FermioniCC(pyscf_obj.pyscf_ccsd)\n",
    "H_fermion.build_operator()\n",
    "T_fermion.build_operator()\n",
    "\n",
    "n_qubits = H_fermion.n_qubits\n",
    "print('Number of qubits:', n_qubits)\n",
    "\n",
    "H = get_fermion_operator(H_fermion.fermionic_molecular_hamiltonian)\n",
    "T = T_fermion.fermionic_cc_operator\n",
    "T -= hermitian_conjugated(T)\n",
    "\n",
    "H_jw = jordan_wigner(H)\n",
    "T_jw = jordan_wigner(T)"
   ]
  },
  {
   "cell_type": "code",
   "execution_count": 267,
   "id": "1bdf1f69",
   "metadata": {
    "scrolled": false
   },
   "outputs": [],
   "source": [
    "from openfermion import QubitOperator\n",
    "\n",
    "def QubitOperator_to_dict(op, num_qubits):\n",
    "    assert(type(op) == QubitOperator)\n",
    "    op_dict = {}\n",
    "    term_dict = op.terms\n",
    "    terms = list(term_dict.keys())\n",
    "\n",
    "    for t in terms:    \n",
    "        letters = ['I' for i in range(num_qubits)]\n",
    "        for i in t:\n",
    "            letters[i[0]] = i[1]\n",
    "        p_string = ''.join(letters)        \n",
    "        op_dict[p_string] = term_dict[t]\n",
    "         \n",
    "    return op_dict\n",
    "\n",
    "H_q = PauliwordOp(QubitOperator_to_dict(H_jw, n_qubits))\n",
    "T_q = PauliwordOp(QubitOperator_to_dict(T_jw, n_qubits))\n",
    "T_q.coeff_vec = T_q.coeff_vec.imag"
   ]
  },
  {
   "cell_type": "code",
   "execution_count": 268,
   "id": "416830bd",
   "metadata": {},
   "outputs": [
    {
     "name": "stdout",
     "output_type": "stream",
     "text": [
      "-0.0001058066 YYIIYXIIII +\n",
      "0.0001058066 YXIIYYIIII +\n",
      "0.0001058066 XXIIYXIIII +\n",
      "0.0001058066 XYIIYYIIII +\n",
      "-0.0001058066 YXIIXXIIII +\n",
      "-0.0001058066 YYIIXYIIII +\n",
      "-0.0001058066 XYIIXXIIII +\n",
      "0.0001058066 XXIIXYIIII +\n",
      "-0.0004444204 YZZYYXIIII +\n",
      "0.0004444204 YZZXYYIIII +\n",
      "0.0004444204 XZZXYXIIII +\n",
      "0.0004444204 XZZYYYIIII +\n",
      "-0.0004444204 YZZXXXIIII +\n",
      "-0.0004444204 YZZYXYIIII +\n",
      "-0.0004444204 XZZYXXIIII +\n",
      "0.0004444204 XZZXXYIIII +\n",
      "0.0004444204 IYYIYXIIII +\n",
      "-0.0004444204 IYXIYYIIII +\n",
      "-0.0004444204 IXXIYXIIII +\n",
      "-0.0004444204 IXYIYYIIII +\n",
      "0.0004444204 IYXIXXIIII +\n",
      "0.0004444204 IYYIXYIIII +\n",
      "0.0004444204 IXYIXXIIII +\n",
      "-0.0004444204 IXXIXYIIII +\n",
      "-0.0246191655 IIYYYXIIII +\n",
      "0.0246191655 IIYXYYIIII +\n",
      "0.0246191655 IIXXYXIIII +\n",
      "0.0246191655 IIXYYYIIII +\n",
      "-0.0246191655 IIYXXXIIII +\n",
      "-0.0246191655 IIYYXYIIII +\n",
      "-0.0246191655 IIXYXXIIII +\n",
      "0.0246191655 IIXXXYIIII +\n",
      "-0.0001058066 YYIIIIYXII +\n",
      "0.0001058066 YXIIIIYYII +\n",
      "0.0001058066 XXIIIIYXII +\n",
      "0.0001058066 XYIIIIYYII +\n",
      "-0.0001058066 YXIIIIXXII +\n",
      "-0.0001058066 YYIIIIXYII +\n",
      "-0.0001058066 XYIIIIXXII +\n",
      "0.0001058066 XXIIIIXYII +\n",
      "-0.0004444204 YZZYIIYXII +\n",
      "0.0004444204 YZZXIIYYII +\n",
      "0.0004444204 XZZXIIYXII +\n",
      "0.0004444204 XZZYIIYYII +\n",
      "-0.0004444204 YZZXIIXXII +\n",
      "-0.0004444204 YZZYIIXYII +\n",
      "-0.0004444204 XZZYIIXXII +\n",
      "0.0004444204 XZZXIIXYII +\n",
      "0.0004444204 IYYIIIYXII +\n",
      "-0.0004444204 IYXIIIYYII +\n",
      "-0.0004444204 IXXIIIYXII +\n",
      "-0.0004444204 IXYIIIYYII +\n",
      "0.0004444204 IYXIIIXXII +\n",
      "0.0004444204 IYYIIIXYII +\n",
      "0.0004444204 IXYIIIXXII +\n",
      "-0.0004444204 IXXIIIXYII +\n",
      "-0.0246191655 IIYYIIYXII +\n",
      "0.0246191655 IIYXIIYYII +\n",
      "0.0246191655 IIXXIIYXII +\n",
      "0.0246191655 IIXYIIYYII +\n",
      "-0.0246191655 IIYXIIXXII +\n",
      "-0.0246191655 IIYYIIXYII +\n",
      "-0.0246191655 IIXYIIXXII +\n",
      "0.0246191655 IIXXIIXYII +\n",
      "-0.0001058066 YYIIIIIIYX +\n",
      "0.0001058066 YXIIIIIIYY +\n",
      "0.0001058066 XXIIIIIIYX +\n",
      "0.0001058066 XYIIIIIIYY +\n",
      "-0.0001058066 YXIIIIIIXX +\n",
      "-0.0001058066 YYIIIIIIXY +\n",
      "-0.0001058066 XYIIIIIIXX +\n",
      "0.0001058066 XXIIIIIIXY +\n",
      "-0.0004444204 YZZYIIIIYX +\n",
      "0.0004444204 YZZXIIIIYY +\n",
      "0.0004444204 XZZXIIIIYX +\n",
      "0.0004444204 XZZYIIIIYY +\n",
      "-0.0004444204 YZZXIIIIXX +\n",
      "-0.0004444204 YZZYIIIIXY +\n",
      "-0.0004444204 XZZYIIIIXX +\n",
      "0.0004444204 XZZXIIIIXY +\n",
      "0.0004444204 IYYIIIIIYX +\n",
      "-0.0004444204 IYXIIIIIYY +\n",
      "-0.0004444204 IXXIIIIIYX +\n",
      "-0.0004444204 IXYIIIIIYY +\n",
      "0.0004444204 IYXIIIIIXX +\n",
      "0.0004444204 IYYIIIIIXY +\n",
      "0.0004444204 IXYIIIIIXX +\n",
      "-0.0004444204 IXXIIIIIXY +\n",
      "-0.0246191655 IIYYIIIIYX +\n",
      "0.0246191655 IIYXIIIIYY +\n",
      "0.0246191655 IIXXIIIIYX +\n",
      "0.0246191655 IIXYIIIIYY +\n",
      "-0.0246191655 IIYXIIIIXX +\n",
      "-0.0246191655 IIYYIIIIXY +\n",
      "-0.0246191655 IIXYIIIIXX +\n",
      "0.0246191655 IIXXIIIIXY\n"
     ]
    }
   ],
   "source": [
    "print(T_q)"
   ]
  },
  {
   "cell_type": "code",
   "execution_count": 269,
   "id": "90170885",
   "metadata": {},
   "outputs": [
    {
     "name": "stdout",
     "output_type": "stream",
     "text": [
      "We are able to taper 5 qubits from the Hamiltonian.\n",
      "\n",
      "The symmetry generators are\n",
      "\n",
      "1+0j ZIZIIZIZIZ +\n",
      "1+0j IZIZIZIZIZ +\n",
      "1+0j IIIIZZIIII +\n",
      "1+0j IIIIIIZZII +\n",
      "1+0j IIIIIIIIZZ\n",
      "\n",
      "and are rotated onto the single-qubit Pauli operators\n",
      "\n",
      "-1+0j IIIIIIIIXI +\n",
      "-1+0j IIIIIIXIII +\n",
      "-1+0j IIIIXIIIII +\n",
      "-1+0j IXIIIIIIII +\n",
      "-1+0j XIIIIIIIII\n",
      "\n",
      "via a sequence of Clifford pi/2 rotations\n",
      "\n",
      "[('IIIIYZIIII', None), ('IIIIIIIIYZ', None), ('IIIIIIYZII', None), ('IYIZIZIZIZ', None), ('YIZIIZIZIZ', None)]\n"
     ]
    }
   ],
   "source": [
    "from symred.S3_projection import QubitTapering\n",
    "\n",
    "taper_hamiltonian = QubitTapering(H_q)\n",
    "\n",
    "print(f'We are able to taper {taper_hamiltonian.n_taper} qubits from the Hamiltonian.\\n')\n",
    "print('The symmetry generators are\\n')\n",
    "print(taper_hamiltonian.symmetry_generators)\n",
    "print('\\nand are rotated onto the single-qubit Pauli operators\\n')\n",
    "print(taper_hamiltonian.stabilizers.rotate_onto_single_qubit_paulis())\n",
    "print('\\nvia a sequence of Clifford pi/2 rotations\\n')\n",
    "print(taper_hamiltonian.stabilizers.stabilizer_rotations)"
   ]
  },
  {
   "cell_type": "code",
   "execution_count": 270,
   "id": "663f5bb9",
   "metadata": {},
   "outputs": [
    {
     "name": "stdout",
     "output_type": "stream",
     "text": [
      "The symmetry sector corresponding with the single reference [1 1 1 1 0 0 0 0 0 0] is [1 1 1 1 1]\n"
     ]
    }
   ],
   "source": [
    "hf_array = H_fermion.hf_comp_basis_state\n",
    "taper_hamiltonian.stabilizers.update_sector(hf_array)\n",
    "print(f'The symmetry sector corresponding with the single reference {hf_array} is {taper_hamiltonian.stabilizers.coeff_vec}')"
   ]
  },
  {
   "cell_type": "code",
   "execution_count": 271,
   "id": "5988b9d4",
   "metadata": {},
   "outputs": [
    {
     "name": "stdout",
     "output_type": "stream",
     "text": [
      "Tapering information:\n",
      "------------------------------------------------\n",
      "We are able to taper 5 qubits from the Hamiltonian\n",
      "The symmetry basis/sector is:\n",
      "1 ZIZIIZIZIZ +\n",
      "1 IZIZIZIZIZ +\n",
      "1 IIIIZZIIII +\n",
      "1 IIIIIIZZII +\n",
      "1 IIIIIIIIZZ\n",
      "The tapered Hartree-Fock state is  1.0000000000 |11000>\n",
      "------------------------------------------------\n"
     ]
    }
   ],
   "source": [
    "ham_tap = taper_hamiltonian.taper_it(ref_state=hf_array)\n",
    "#sor_tap = taper_hamiltonian.taper_it(aux_operator=sor_ham, ref_state=hf_array)\n",
    "#sor_tap.coeff_vec/=np.linalg.norm(sor_tap.coeff_vec)\n",
    "ucc_tap = taper_hamiltonian.taper_it(aux_operator=T_q, ref_state=hf_array)\n",
    "n_taper = taper_hamiltonian.n_taper\n",
    "tapered_qubits   = taper_hamiltonian.stab_qubit_indices\n",
    "untapered_qubits = taper_hamiltonian.free_qubit_indices\n",
    "hf_tapered = taper_hamiltonian.tapered_ref_state\n",
    "\n",
    "dashes = \"------------------------------------------------\"\n",
    "print(\"Tapering information:\")\n",
    "print(dashes)\n",
    "print(f'We are able to taper {taper_hamiltonian.n_taper} qubits from the Hamiltonian')\n",
    "print('The symmetry basis/sector is:') \n",
    "print(taper_hamiltonian.symmetry_generators)\n",
    "print(f'The tapered Hartree-Fock state is', QuantumState([hf_tapered]))\n",
    "print(dashes)"
   ]
  },
  {
   "cell_type": "code",
   "execution_count": 272,
   "id": "49747647",
   "metadata": {},
   "outputs": [],
   "source": [
    "cs_vqe = CS_VQE(ham_tap, hf_tapered, basis_weighting_operator=ucc_tap)"
   ]
  },
  {
   "cell_type": "code",
   "execution_count": 273,
   "id": "2ae02284",
   "metadata": {},
   "outputs": [
    {
     "name": "stdout",
     "output_type": "stream",
     "text": [
      "-14.351880476201988\n"
     ]
    }
   ],
   "source": [
    "print(cs_vqe.noncontextual_energy)"
   ]
  },
  {
   "cell_type": "code",
   "execution_count": 274,
   "id": "4b7ee9af",
   "metadata": {},
   "outputs": [
    {
     "data": {
      "text/plain": [
       "-14.351880476202023"
      ]
     },
     "execution_count": 274,
     "metadata": {},
     "output_type": "execute_result"
    }
   ],
   "source": [
    "hf_energy"
   ]
  },
  {
   "cell_type": "code",
   "execution_count": 287,
   "id": "acc9a841",
   "metadata": {},
   "outputs": [
    {
     "name": "stdout",
     "output_type": "stream",
     "text": [
      "-8.6720073786+0.0000000000j IIIII +\n",
      "-0.2968649525+0.0000000000j IIIIZ +\n",
      "-0.2968649525+0.0000000000j IIIZI +\n",
      "0.3892355930+0.0000000000j IIIZZ +\n",
      "-0.2968649525+0.0000000000j IIZII +\n",
      "0.3892355930+0.0000000000j IIZIZ +\n",
      "0.3892355930+0.0000000000j IIZZI +\n",
      "0.2634692003+0.0000000000j IIZZZ +\n",
      "-0.0466916923+0.0000000000j IZIII +\n",
      "0.1830962071+0.0000000000j IZIIZ +\n",
      "0.1830962071+0.0000000000j IZIZI +\n",
      "0.2807146486+0.0000000000j IZIZZ +\n",
      "0.1830962071+0.0000000000j IZZII +\n",
      "0.2807146486+0.0000000000j IZZIZ +\n",
      "0.2807146486+0.0000000000j IZZZI +\n",
      "2.2432292443-0.0000000000j IZZZZ\n"
     ]
    }
   ],
   "source": [
    "print(cs_vqe.decomposed['symmetry'])"
   ]
  },
  {
   "cell_type": "code",
   "execution_count": 289,
   "id": "48f5e2d2",
   "metadata": {
    "scrolled": true
   },
   "outputs": [
    {
     "name": "stdout",
     "output_type": "stream",
     "text": [
      "1 IIIIZ +\n",
      "1 IIIZI +\n",
      "1 IIZII +\n",
      "-1 IZIII\n",
      "\n",
      "-1.0000000000 ZIZZZ +\n",
      "-0.0000001784 XIIII\n"
     ]
    }
   ],
   "source": [
    "print(cs_vqe.symmetry_generators)\n",
    "print()\n",
    "print(cs_vqe.clique_operator)"
   ]
  },
  {
   "cell_type": "code",
   "execution_count": 290,
   "id": "131d4c2e",
   "metadata": {},
   "outputs": [],
   "source": [
    "UP_rot = unitary_partitioning_rotations(cs_vqe.clique_operator)"
   ]
  },
  {
   "cell_type": "code",
   "execution_count": 291,
   "id": "f8869170",
   "metadata": {},
   "outputs": [
    {
     "name": "stdout",
     "output_type": "stream",
     "text": [
      "-1.0000000000+0.0000000000j ZIZZZ\n",
      "1.0000000000+0.0000000000j ZIZZZ\n"
     ]
    }
   ],
   "source": [
    "stab = cs_vqe.clique_operator.recursive_rotate_by_Pword(UP_rot).cleanup_zeros()\n",
    "print(stab)\n",
    "cs_vqe.update_eigenvalue(stab)\n",
    "print(stab)"
   ]
  },
  {
   "cell_type": "code",
   "execution_count": 307,
   "id": "007b871d",
   "metadata": {},
   "outputs": [
    {
     "name": "stdout",
     "output_type": "stream",
     "text": [
      "0.0000000000+0.0000000000j IZZZZ\n",
      "-1.0000000000+0.0000000000j IZZZZ\n"
     ]
    }
   ],
   "source": [
    "S = PauliwordOp({'IZZZZ':0})\n",
    "print(S)\n",
    "cs_vqe.update_eigenvalue(S)\n",
    "print(S)"
   ]
  },
  {
   "cell_type": "code",
   "execution_count": null,
   "id": "bdaf4e9b",
   "metadata": {},
   "outputs": [],
   "source": []
  },
  {
   "cell_type": "code",
   "execution_count": 314,
   "id": "888b559f",
   "metadata": {},
   "outputs": [
    {
     "name": "stderr",
     "output_type": "stream",
     "text": [
      "/tmp/ipykernel_24488/1852410258.py:216: ComplexWarning: Casting complex values to real discards the imaginary part\n",
      "  np.array(fix_stabilizers.coeff_vec, dtype=int),\n"
     ]
    }
   ],
   "source": [
    "stabs = [cs_vqe.clique_operator, PauliwordOp({'IZZZZ':10000})]\n",
    "ham_cs = cs_vqe.contextual_subspace_projection(stabs)"
   ]
  },
  {
   "cell_type": "code",
   "execution_count": 315,
   "id": "045e6a46",
   "metadata": {},
   "outputs": [
    {
     "data": {
      "text/plain": [
       "0.00032650444009618695"
      ]
     },
     "execution_count": 315,
     "metadata": {},
     "output_type": "execute_result"
    }
   ],
   "source": [
    "from symred.utils import exact_gs_energy\n",
    "\n",
    "exact_gs_energy(ham_cs.to_sparse_matrix)[0] - fci_energy"
   ]
  },
  {
   "cell_type": "code",
   "execution_count": 316,
   "id": "bd40364e",
   "metadata": {},
   "outputs": [
    {
     "data": {
      "text/plain": [
       "0.9998279314217895"
      ]
     },
     "execution_count": 316,
     "metadata": {},
     "output_type": "execute_result"
    }
   ],
   "source": [
    "cs_vqe.basis_weighting_operator = ucc_tap #cs_vqe.basis_weighting_operator.recursive_rotate_by_Pword(UP_rot)\n",
    "cs_vqe.basis_score(reduce(lambda x,y:x+y, [cs_vqe.clique_operator.recursive_rotate_by_Pword(UP_rot).cleanup_zeros()]))"
   ]
  },
  {
   "cell_type": "code",
   "execution_count": null,
   "id": "a8eabf4a",
   "metadata": {},
   "outputs": [],
   "source": []
  },
  {
   "cell_type": "code",
   "execution_count": 331,
   "id": "4946dfdb",
   "metadata": {},
   "outputs": [
    {
     "name": "stdout",
     "output_type": "stream",
     "text": [
      "0.8162231079921426\n",
      "[<symred.symplectic_form.PauliwordOp object at 0x7fb3bf4051f0>, <symred.symplectic_form.PauliwordOp object at 0x7fb3bf552760>, <symred.symplectic_form.PauliwordOp object at 0x7fb3bf36d580>]\n"
     ]
    },
    {
     "name": "stderr",
     "output_type": "stream",
     "text": [
      "/tmp/ipykernel_24488/1852410258.py:216: ComplexWarning: Casting complex values to real discards the imaginary part\n",
      "  np.array(fix_stabilizers.coeff_vec, dtype=int),\n"
     ]
    },
    {
     "data": {
      "text/plain": [
       "4.373578894064025"
      ]
     },
     "execution_count": 331,
     "metadata": {},
     "output_type": "execute_result"
    }
   ],
   "source": [
    "random_stabs = []\n",
    "n_stabs = 3\n",
    "for i in range(10000):\n",
    "    random_Z_block = np.random.randint(0,2,(n_stabs,ham_tap.n_qubits))\n",
    "    symp_matrix = np.hstack([np.zeros_like(random_Z_block), random_Z_block])\n",
    "    try:\n",
    "        basis = StabilizerOp(symp_matrix, np.ones(n_stabs))\n",
    "        random_stabs.append([cs_vqe.basis_score(basis), basis])\n",
    "    except:\n",
    "        pass\n",
    "    \n",
    "score, stabs = sorted(random_stabs,key = lambda x:-x[0])[0]\n",
    "stabs = [stabs[i] for i in range(stabs.n_terms)]\n",
    "ham_cs = cs_vqe.contextual_subspace_projection(stabs)\n",
    "\n",
    "print(score)\n",
    "print(stabs)\n",
    "exact_gs_energy(ham_cs.to_sparse_matrix)[0] - fci_energy"
   ]
  },
  {
   "cell_type": "code",
   "execution_count": 201,
   "id": "0f2c530d",
   "metadata": {},
   "outputs": [
    {
     "data": {
      "text/plain": [
       "<symred.symplectic_form.PauliwordOp at 0x7fb3f0932130>"
      ]
     },
     "execution_count": 201,
     "metadata": {},
     "output_type": "execute_result"
    }
   ],
   "source": [
    "ham_tap"
   ]
  },
  {
   "cell_type": "code",
   "execution_count": 104,
   "id": "9c807384",
   "metadata": {},
   "outputs": [
    {
     "name": "stdout",
     "output_type": "stream",
     "text": [
      "-0.0002116131+0.0000000000j IIIIY +\n",
      "-0.0000000001+0.0000000000j IIZZY +\n",
      "0.0000000001+0.0000000000j IZIIY +\n",
      "0.0002116131+0.0000000000j IZZZY +\n",
      "0.0002116131+0.0000000000j ZIZZY +\n",
      "-0.0002116131+0.0000000000j ZZIIY +\n",
      "-0.0002116131+0.0000000000j IIIYI +\n",
      "-0.0000000001+0.0000000000j IIZYZ +\n",
      "0.0000000001+0.0000000000j IZIYI +\n",
      "0.0002116131+0.0000000000j IZZYZ +\n",
      "0.0002116131+0.0000000000j ZIZYZ +\n",
      "-0.0002116131+0.0000000000j ZZIYI +\n",
      "-0.0002116131+0.0000000000j IIYII +\n",
      "-0.0000000001+0.0000000000j IIYZZ +\n",
      "0.0000000001+0.0000000000j IZYII +\n",
      "0.0002116131+0.0000000000j IZYZZ +\n",
      "0.0002116131+0.0000000000j ZIYZZ +\n",
      "-0.0002116131+0.0000000000j ZZYII +\n",
      "0.0008888408+0.0000000000j IXIIY +\n",
      "-0.0000000037+0.0000000000j IXZZY +\n",
      "-0.0008888408+0.0000000000j IYIIX +\n",
      "0.0000000037+0.0000000000j IYZZX +\n",
      "-0.0008888408+0.0000000000j ZXZZY +\n",
      "0.0008888408+0.0000000000j ZYZZX +\n",
      "0.0008888408+0.0000000000j IXIYI +\n",
      "-0.0000000037+0.0000000000j IXZYZ +\n",
      "-0.0008888408+0.0000000000j IYIXI +\n",
      "0.0000000037+0.0000000000j IYZXZ +\n",
      "-0.0008888408+0.0000000000j ZXZYZ +\n",
      "0.0008888408+0.0000000000j ZYZXZ +\n",
      "0.0008888408+0.0000000000j IXYII +\n",
      "-0.0000000037+0.0000000000j IXYZZ +\n",
      "-0.0008888408+0.0000000000j IYXII +\n",
      "0.0000000037+0.0000000000j IYXZZ +\n",
      "-0.0008888408+0.0000000000j ZXYZZ +\n",
      "0.0008888408+0.0000000000j ZYXZZ +\n",
      "-0.0008888408+0.0000000000j XIIIY +\n",
      "0.0008888408+0.0000000000j XZZZY +\n",
      "0.0008888408+0.0000000000j YIIIX +\n",
      "-0.0000000000+0.0000000000j YIZZX +\n",
      "0.0000000000+0.0000000000j YZIIX +\n",
      "-0.0008888408+0.0000000000j YZZZX +\n",
      "-0.0008888408+0.0000000000j XIIYI +\n",
      "0.0008888408+0.0000000000j XZZYZ +\n",
      "0.0008888408+0.0000000000j YIIXI +\n",
      "-0.0000000000+0.0000000000j YIZXZ +\n",
      "0.0000000000+0.0000000000j YZIXI +\n",
      "-0.0008888408+0.0000000000j YZZXZ +\n",
      "-0.0008888408+0.0000000000j XIYII +\n",
      "0.0008888408+0.0000000000j XZYZZ +\n",
      "0.0008888408+0.0000000000j YIXII +\n",
      "-0.0000000000+0.0000000000j YIXZZ +\n",
      "0.0000000000+0.0000000000j YZXII +\n",
      "-0.0008888408+0.0000000000j YZXZZ +\n",
      "-0.0492383311+0.0000000000j XXIIY +\n",
      "0.0492383311+0.0000000000j XYIIX +\n",
      "0.0492383311+0.0000000000j YXIIX +\n",
      "0.0000000001+0.0000000000j YXZZX +\n",
      "0.0492383311+0.0000000000j YYIIY +\n",
      "0.0000000001+0.0000000000j YYZZY +\n",
      "-0.0492383311+0.0000000000j XXIYI +\n",
      "0.0492383311+0.0000000000j XYIXI +\n",
      "0.0492383311+0.0000000000j YXIXI +\n",
      "0.0000000001+0.0000000000j YXZXZ +\n",
      "0.0492383311+0.0000000000j YYIYI +\n",
      "0.0000000001+0.0000000000j YYZYZ +\n",
      "-0.0492383311+0.0000000000j XXYII +\n",
      "0.0492383311+0.0000000000j XYXII +\n",
      "0.0492383311+0.0000000000j YXXII +\n",
      "0.0000000001+0.0000000000j YXXZZ +\n",
      "0.0492383311+0.0000000000j YYYII +\n",
      "0.0000000001+0.0000000000j YYYZZ\n"
     ]
    }
   ],
   "source": [
    "print(cs_vqe.basis_weighting_operator)"
   ]
  },
  {
   "cell_type": "code",
   "execution_count": null,
   "id": "a7134390",
   "metadata": {},
   "outputs": [],
   "source": []
  }
 ],
 "metadata": {
  "kernelspec": {
   "display_name": "Python 3 (ipykernel)",
   "language": "python",
   "name": "python3"
  },
  "language_info": {
   "codemirror_mode": {
    "name": "ipython",
    "version": 3
   },
   "file_extension": ".py",
   "mimetype": "text/x-python",
   "name": "python",
   "nbconvert_exporter": "python",
   "pygments_lexer": "ipython3",
   "version": "3.8.8"
  }
 },
 "nbformat": 4,
 "nbformat_minor": 5
}
