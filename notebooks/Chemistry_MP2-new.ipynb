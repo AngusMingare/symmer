{
 "cells": [
  {
   "cell_type": "code",
   "execution_count": 1,
   "id": "f3710a6a",
   "metadata": {},
   "outputs": [],
   "source": [
    "from symred.chem import xyz_from_pubchem\n",
    "import numpy as np\n",
    "from openfermion import FermionOperator\n",
    "from scipy.sparse.linalg import expm\n",
    "from openfermion import get_sparse_operator"
   ]
  },
  {
   "cell_type": "code",
   "execution_count": 5,
   "id": "dec3d812",
   "metadata": {},
   "outputs": [],
   "source": [
    "mol_name = 'H2O'\n",
    "# mol_name = 'H2'\n",
    "\n",
    "# mol_name = 'LiH'"
   ]
  },
  {
   "cell_type": "code",
   "execution_count": null,
   "id": "63a6568e",
   "metadata": {},
   "outputs": [],
   "source": []
  },
  {
   "cell_type": "code",
   "execution_count": 6,
   "id": "d8ad2efa",
   "metadata": {},
   "outputs": [
    {
     "name": "stdout",
     "output_type": "stream",
     "text": [
      "Unable to find structure info in the PubChem databasefor the specified molecule LiH.\n",
      "2\n",
      " \n",
      "Li\t3\t0\t0\n",
      "H\t2\t0\t0\n",
      "\n"
     ]
    }
   ],
   "source": [
    "xyz_file = xyz_from_pubchem(mol_name)\n",
    "print(xyz_file)"
   ]
  },
  {
   "cell_type": "code",
   "execution_count": null,
   "id": "8e4cb1f5",
   "metadata": {},
   "outputs": [],
   "source": []
  },
  {
   "cell_type": "code",
   "execution_count": 11,
   "id": "72ba222a",
   "metadata": {},
   "outputs": [
    {
     "data": {
      "application/3dmoljs_load.v0": "<div id=\"3dmolviewer_1650474163397297\"  style=\"position: relative; width: 400px; height: 400px\">\n        <p id=\"3dmolwarning_1650474163397297\" style=\"background-color:#ffcccc;color:black\">You appear to be running in JupyterLab (or JavaScript failed to load for some other reason).  You need to install the 3dmol extension: <br>\n        <tt>jupyter labextension install jupyterlab_3dmol</tt></p>\n        </div>\n<script>\n\nvar loadScriptAsync = function(uri){\n  return new Promise((resolve, reject) => {\n    var tag = document.createElement('script');\n    tag.src = uri;\n    tag.async = true;\n    tag.onload = () => {\n      resolve();\n    };\n  var firstScriptTag = document.getElementsByTagName('script')[0];\n  firstScriptTag.parentNode.insertBefore(tag, firstScriptTag);\n});\n};\n\nif(typeof $3Dmolpromise === 'undefined') {\n$3Dmolpromise = null;\n  $3Dmolpromise = loadScriptAsync('https://3dmol.org/build/3Dmol.js');\n}\n\nvar viewer_1650474163397297 = null;\nvar warn = document.getElementById(\"3dmolwarning_1650474163397297\");\nif(warn) {\n    warn.parentNode.removeChild(warn);\n}\n$3Dmolpromise.then(function() {\nviewer_1650474163397297 = $3Dmol.createViewer($(\"#3dmolviewer_1650474163397297\"),{backgroundColor:\"white\"});\nviewer_1650474163397297.zoomTo();\n\tviewer_1650474163397297.addModel(\"4\\n \\nH\\t0\\t0\\t0\\nH\\t1\\t0\\t0\\nH\\t2\\t0\\t0\\nH\\t3\\t0\\t0\",\"xyz\");\n\tviewer_1650474163397297.setStyle({\"stick\": {}});\n\tviewer_1650474163397297.zoomTo();\nviewer_1650474163397297.render();\n});\n</script>",
      "text/html": [
       "<div id=\"3dmolviewer_1650474163397297\"  style=\"position: relative; width: 400px; height: 400px\">\n",
       "        <p id=\"3dmolwarning_1650474163397297\" style=\"background-color:#ffcccc;color:black\">You appear to be running in JupyterLab (or JavaScript failed to load for some other reason).  You need to install the 3dmol extension: <br>\n",
       "        <tt>jupyter labextension install jupyterlab_3dmol</tt></p>\n",
       "        </div>\n",
       "<script>\n",
       "\n",
       "var loadScriptAsync = function(uri){\n",
       "  return new Promise((resolve, reject) => {\n",
       "    var tag = document.createElement('script');\n",
       "    tag.src = uri;\n",
       "    tag.async = true;\n",
       "    tag.onload = () => {\n",
       "      resolve();\n",
       "    };\n",
       "  var firstScriptTag = document.getElementsByTagName('script')[0];\n",
       "  firstScriptTag.parentNode.insertBefore(tag, firstScriptTag);\n",
       "});\n",
       "};\n",
       "\n",
       "if(typeof $3Dmolpromise === 'undefined') {\n",
       "$3Dmolpromise = null;\n",
       "  $3Dmolpromise = loadScriptAsync('https://3dmol.org/build/3Dmol.js');\n",
       "}\n",
       "\n",
       "var viewer_1650474163397297 = null;\n",
       "var warn = document.getElementById(\"3dmolwarning_1650474163397297\");\n",
       "if(warn) {\n",
       "    warn.parentNode.removeChild(warn);\n",
       "}\n",
       "$3Dmolpromise.then(function() {\n",
       "viewer_1650474163397297 = $3Dmol.createViewer($(\"#3dmolviewer_1650474163397297\"),{backgroundColor:\"white\"});\n",
       "viewer_1650474163397297.zoomTo();\n",
       "\tviewer_1650474163397297.addModel(\"4\\n \\nH\\t0\\t0\\t0\\nH\\t1\\t0\\t0\\nH\\t2\\t0\\t0\\nH\\t3\\t0\\t0\",\"xyz\");\n",
       "\tviewer_1650474163397297.setStyle({\"stick\": {}});\n",
       "\tviewer_1650474163397297.zoomTo();\n",
       "viewer_1650474163397297.render();\n",
       "});\n",
       "</script>"
      ]
     },
     "metadata": {},
     "output_type": "display_data"
    }
   ],
   "source": [
    "from symred.chem import Draw_molecule\n",
    "\n",
    "viewer = Draw_molecule(xyz_file,\n",
    "                       width=400,\n",
    "                       height=400,\n",
    "                       style=\"stick\")\n",
    "viewer.show()"
   ]
  },
  {
   "cell_type": "code",
   "execution_count": 12,
   "id": "6cd9503d",
   "metadata": {},
   "outputs": [
    {
     "data": {
      "application/3dmoljs_load.v0": "<div id=\"3dmolviewer_1650474176204213\"  style=\"position: relative; width: 400px; height: 400px\">\n        <p id=\"3dmolwarning_1650474176204213\" style=\"background-color:#ffcccc;color:black\">You appear to be running in JupyterLab (or JavaScript failed to load for some other reason).  You need to install the 3dmol extension: <br>\n        <tt>jupyter labextension install jupyterlab_3dmol</tt></p>\n        </div>\n<script>\n\nvar loadScriptAsync = function(uri){\n  return new Promise((resolve, reject) => {\n    var tag = document.createElement('script');\n    tag.src = uri;\n    tag.async = true;\n    tag.onload = () => {\n      resolve();\n    };\n  var firstScriptTag = document.getElementsByTagName('script')[0];\n  firstScriptTag.parentNode.insertBefore(tag, firstScriptTag);\n});\n};\n\nif(typeof $3Dmolpromise === 'undefined') {\n$3Dmolpromise = null;\n  $3Dmolpromise = loadScriptAsync('https://3dmol.org/build/3Dmol.js');\n}\n\nvar viewer_1650474176204213 = null;\nvar warn = document.getElementById(\"3dmolwarning_1650474176204213\");\nif(warn) {\n    warn.parentNode.removeChild(warn);\n}\n$3Dmolpromise.then(function() {\nviewer_1650474176204213 = $3Dmol.createViewer($(\"#3dmolviewer_1650474176204213\"),{backgroundColor:\"white\"});\nviewer_1650474176204213.zoomTo();\n\tviewer_1650474176204213.addModel(\"4\\n \\nH\\t0\\t0\\t0\\nH\\t1\\t0\\t0\\nH\\t2\\t0\\t0\\nH\\t3\\t0\\t0\",\"xyz\");\n\tviewer_1650474176204213.setStyle({\"sphere\": {\"radius\": 0.2}});\n\tviewer_1650474176204213.zoomTo();\nviewer_1650474176204213.render();\n});\n</script>",
      "text/html": [
       "<div id=\"3dmolviewer_1650474176204213\"  style=\"position: relative; width: 400px; height: 400px\">\n",
       "        <p id=\"3dmolwarning_1650474176204213\" style=\"background-color:#ffcccc;color:black\">You appear to be running in JupyterLab (or JavaScript failed to load for some other reason).  You need to install the 3dmol extension: <br>\n",
       "        <tt>jupyter labextension install jupyterlab_3dmol</tt></p>\n",
       "        </div>\n",
       "<script>\n",
       "\n",
       "var loadScriptAsync = function(uri){\n",
       "  return new Promise((resolve, reject) => {\n",
       "    var tag = document.createElement('script');\n",
       "    tag.src = uri;\n",
       "    tag.async = true;\n",
       "    tag.onload = () => {\n",
       "      resolve();\n",
       "    };\n",
       "  var firstScriptTag = document.getElementsByTagName('script')[0];\n",
       "  firstScriptTag.parentNode.insertBefore(tag, firstScriptTag);\n",
       "});\n",
       "};\n",
       "\n",
       "if(typeof $3Dmolpromise === 'undefined') {\n",
       "$3Dmolpromise = null;\n",
       "  $3Dmolpromise = loadScriptAsync('https://3dmol.org/build/3Dmol.js');\n",
       "}\n",
       "\n",
       "var viewer_1650474176204213 = null;\n",
       "var warn = document.getElementById(\"3dmolwarning_1650474176204213\");\n",
       "if(warn) {\n",
       "    warn.parentNode.removeChild(warn);\n",
       "}\n",
       "$3Dmolpromise.then(function() {\n",
       "viewer_1650474176204213 = $3Dmol.createViewer($(\"#3dmolviewer_1650474176204213\"),{backgroundColor:\"white\"});\n",
       "viewer_1650474176204213.zoomTo();\n",
       "\tviewer_1650474176204213.addModel(\"4\\n \\nH\\t0\\t0\\t0\\nH\\t1\\t0\\t0\\nH\\t2\\t0\\t0\\nH\\t3\\t0\\t0\",\"xyz\");\n",
       "\tviewer_1650474176204213.setStyle({\"sphere\": {\"radius\": 0.2}});\n",
       "\tviewer_1650474176204213.zoomTo();\n",
       "viewer_1650474176204213.render();\n",
       "});\n",
       "</script>"
      ]
     },
     "metadata": {},
     "output_type": "display_data"
    }
   ],
   "source": [
    "xyz_file = '4\\n \\nH\\t0\\t0\\t0\\nH\\t1\\t0\\t0\\nH\\t2\\t0\\t0\\nH\\t3\\t0\\t0'\n",
    "\n",
    "viewer = Draw_molecule(xyz_file,\n",
    "                       width=400,\n",
    "                       height=400,\n",
    "                       style=\"sphere\")\n",
    "viewer.show()"
   ]
  },
  {
   "cell_type": "code",
   "execution_count": null,
   "id": "95f9bc28",
   "metadata": {},
   "outputs": [],
   "source": [
    "from symred.chem import PySCFDriver"
   ]
  },
  {
   "cell_type": "code",
   "execution_count": null,
   "id": "d9f43d4d",
   "metadata": {},
   "outputs": [],
   "source": [
    "basis = 'STO-3G'\n",
    "convergence = 1e6\n",
    "charge=0\n",
    "max_hf_cycles=50\n",
    "ram = 8_000\n",
    "run_mp2  = True,\n",
    "run_cisd = True,\n",
    "run_ccsd = True,\n",
    "run_fci  = True"
   ]
  },
  {
   "cell_type": "code",
   "execution_count": null,
   "id": "cfc5202e",
   "metadata": {},
   "outputs": [],
   "source": [
    "pyscf_obj = PySCFDriver(xyz_file,\n",
    "                       basis,\n",
    "                       convergence=convergence,\n",
    "                       charge=charge,\n",
    "                       max_ram_memory=ram,\n",
    "                       max_hf_cycles=max_hf_cycles,\n",
    "                       \n",
    "                       run_mp2=run_mp2,\n",
    "                       run_cisd=run_cisd,\n",
    "                       run_ccsd=run_ccsd,\n",
    "                       run_fci=run_fci)"
   ]
  },
  {
   "cell_type": "code",
   "execution_count": null,
   "id": "18b401b7",
   "metadata": {},
   "outputs": [],
   "source": [
    "pyscf_obj.run_pyscf()"
   ]
  },
  {
   "cell_type": "code",
   "execution_count": null,
   "id": "c0c0a3e9",
   "metadata": {},
   "outputs": [],
   "source": [
    "2*pyscf_obj.pyscf_hf.mol.nao"
   ]
  },
  {
   "cell_type": "code",
   "execution_count": null,
   "id": "27fced21",
   "metadata": {},
   "outputs": [],
   "source": [
    "from symred.chem import FermionicHamilt"
   ]
  },
  {
   "cell_type": "code",
   "execution_count": null,
   "id": "d577285b",
   "metadata": {},
   "outputs": [],
   "source": [
    "H_ferm = FermionicHamilt(pyscf_obj.pyscf_hf)\n",
    "\n",
    "H_ferm.build_operator()\n",
    "\n",
    "H_ferm.fermionic_molecular_hamiltonian"
   ]
  },
  {
   "cell_type": "code",
   "execution_count": null,
   "id": "a55e797c",
   "metadata": {},
   "outputs": [],
   "source": [
    "hf_state = H_ferm.hf_comp_basis_state\n",
    "hf_state\n"
   ]
  },
  {
   "cell_type": "code",
   "execution_count": null,
   "id": "14578438",
   "metadata": {},
   "outputs": [],
   "source": [
    "hf_ket = H_ferm.hf_ket\n",
    "hf_ket.shape"
   ]
  },
  {
   "cell_type": "code",
   "execution_count": null,
   "id": "55cb2185",
   "metadata": {},
   "outputs": [],
   "source": [
    "## check\n",
    "from functools import reduce\n",
    "state = {0: np.array([[1],[0]]), 1: np.array([[0],[1]])}\n",
    "ll = [state[bit] for bit in hf_state]\n",
    "kket = reduce(np.kron, ll)\n",
    "all(kket[:,0] == hf_ket)"
   ]
  },
  {
   "cell_type": "code",
   "execution_count": null,
   "id": "3cb837f4",
   "metadata": {},
   "outputs": [],
   "source": [
    "print(H_ferm.scf_method.energy_tot())\n",
    "print(pyscf_obj.pyscf_hf.energy_tot())\n",
    "\n",
    "H_mat = H_ferm.get_sparse_ham()\n",
    "hf_ket.conj().T @ H_mat @ hf_ket"
   ]
  },
  {
   "cell_type": "code",
   "execution_count": null,
   "id": "fb6897f7",
   "metadata": {},
   "outputs": [],
   "source": [
    "one_body_integrals = H_ferm._one_body_integrals\n",
    "two_body_integrals = H_ferm._two_body_integrals\n",
    "\n",
    "g = two_body_integrals\n",
    "fij = pyscf_obj.pyscf_hf.mo_energy\n",
    "\n",
    "nocc = H_ferm.n_electrons // 2  # this is never the active space\n",
    "ei = fij[:nocc]\n",
    "ai = fij[nocc:]\n",
    "abgij = g[nocc:, nocc:, :nocc, :nocc]\n",
    "amplitudes = abgij * 1.0 / (\n",
    "        ei.reshape(1, 1, -1, 1) + ei.reshape(1, 1, 1, -1) - ai.reshape(-1, 1, 1, 1) - ai.reshape(1, -1, 1, 1))\n",
    "E = 2.0 * np.einsum('abij,abij->', amplitudes, abgij) - np.einsum('abji,abij', amplitudes, abgij,\n",
    "                                                                        optimize='greedy')\n",
    "\n",
    "E"
   ]
  },
  {
   "cell_type": "code",
   "execution_count": null,
   "id": "f82cad3d",
   "metadata": {},
   "outputs": [],
   "source": [
    "pyscf_obj.pyscf_mp2.e_corr"
   ]
  },
  {
   "cell_type": "code",
   "execution_count": null,
   "id": "349fb3c2",
   "metadata": {},
   "outputs": [],
   "source": []
  },
  {
   "cell_type": "code",
   "execution_count": null,
   "id": "6acd41f9",
   "metadata": {},
   "outputs": [],
   "source": [
    "## key\n",
    "\n",
    "# i,j,I,J are occupied molecular orbitals\n",
    "# a,b,A,B are virtual molecular orbitals\n",
    "\n",
    "# lower case = spin down !!!\n",
    "# upper case = spin up   !!!"
   ]
  },
  {
   "cell_type": "code",
   "execution_count": null,
   "id": "0bd11fe2",
   "metadata": {},
   "outputs": [],
   "source": [
    "tIjAb=np.einsum('abij -> ijab', amplitudes, optimize='greedy')\n",
    "\n",
    "tIjAb.shape"
   ]
  },
  {
   "cell_type": "code",
   "execution_count": null,
   "id": "91c33472",
   "metadata": {},
   "outputs": [],
   "source": [
    "tijab = tIjAb - np.einsum(\"ijab -> ijba\", tIjAb, optimize='greedy')\n",
    "tijab.shape"
   ]
  },
  {
   "cell_type": "code",
   "execution_count": null,
   "id": "2e958bfd",
   "metadata": {},
   "outputs": [],
   "source": [
    "tIjAb=tIjAb\n",
    "tiJaB=tIjAb\n",
    "tijab=tijab\n",
    "tIJAB=tijab"
   ]
  },
  {
   "cell_type": "code",
   "execution_count": null,
   "id": "b7765806",
   "metadata": {},
   "outputs": [],
   "source": [
    "def alpha_occupied(i):\n",
    "    return 2 * i\n",
    "\n",
    "def alpha_unoccupied(i, n_alpha_electrons):\n",
    "    return 2 * (i + n_alpha_electrons)\n",
    "\n",
    "def beta_occupied(i):\n",
    "    return 2 * i + 1\n",
    "\n",
    "def beta_unoccupied(i, n_beta_electrons):\n",
    "    return 2 * (i + n_beta_electrons) + 1"
   ]
  },
  {
   "cell_type": "code",
   "execution_count": null,
   "id": "fc718931",
   "metadata": {},
   "outputs": [],
   "source": []
  },
  {
   "cell_type": "code",
   "execution_count": null,
   "id": "f2830908",
   "metadata": {},
   "outputs": [],
   "source": [
    "# restricted=True\n",
    "\n",
    "# threshold = 1e-12\n",
    "# excite_op =FermionOperator()\n",
    "# nvirt = tIjAb.shape[2]\n",
    "# nocc = tIjAb.shape[0]\n",
    "# assert (tIjAb.shape[1] == nocc and tIjAb.shape[3] == nvirt)\n",
    "\n",
    "\n",
    "# for (I, J, A, B), value in np.ndenumerate(tIJAB):\n",
    "#     if not np.isclose(value, 0.0, atol=threshold):\n",
    "#         I_occ = alpha_occupied(I)\n",
    "#         J_occ = alpha_occupied(J)\n",
    "#         A_vir = alpha_unoccupied(A, nocc)\n",
    "#         B_vir = alpha_unoccupied(B, nocc)\n",
    "#         excite_op+= FermionOperator(f'{A_vir}^ {I_occ} {B_vir}^ {J_occ}', value/2)\n",
    "        \n",
    "#         if (restricted):\n",
    "#             # spin down\n",
    "#             I_occ_d = beta_occupied(I)\n",
    "#             J_occ_d = beta_occupied(J)\n",
    "#             A_vir_d = beta_unoccupied(A, nocc)\n",
    "#             B_vir_d = beta_unoccupied(B, nocc)\n",
    "#             excite_op+= FermionOperator(f'{A_vir_d}^ {I_occ_d} {B_vir_d}^ {J_occ_d}', value/2)\n",
    "\n",
    "# for (i, j, a, b), value in np.ndenumerate(tijab):\n",
    "#     if not np.isclose(value, 0.0, atol=threshold):\n",
    "#             i_occ = beta_occupied(i)\n",
    "#             j_occ = beta_occupied(j)\n",
    "#             a_vir = beta_unoccupied(a, nocc)\n",
    "#             b_vir = beta_unoccupied(b, nocc)\n",
    "#             excite_op+= FermionOperator(f'{a_vir}^ {i_occ} {b_vir}^ {j_occ}', value/2)\n",
    "            \n",
    "            \n",
    "# for (I, j, A, b), value in np.ndenumerate(tIjAb):\n",
    "#     if not np.isclose(value, 0.0, atol=threshold):\n",
    "#         I_occ = alpha_occupied(I)\n",
    "#         j_occ_d = beta_occupied(j)\n",
    "#         A_vir = alpha_unoccupied(A, nocc)\n",
    "#         b_vir_d = beta_unoccupied(b, nocc)\n",
    "        \n",
    "#         excite_op+= FermionOperator(f'{A_vir}^ {I_occ} {b_vir_d}^ {j_occ_d}', value/2)\n",
    "        \n",
    "#         if (restricted):\n",
    "#             ## note tIjAb == tiJaB\n",
    "#             i_occ_d = beta_occupied(I)\n",
    "#             J_occ = alpha_occupied(j)\n",
    "#             a_vir_d = beta_unoccupied(A, nocc)\n",
    "#             B_vir = alpha_unoccupied(b, nocc)\n",
    "#             excite_op+= FermionOperator(f'{a_vir_d}^ {i_occ_d} {B_vir}^ {J_occ}', value/2)\n",
    "\n",
    "        \n",
    "#             # Add missing same--spin amplitudes in restricted / closed-shell cases:\n",
    "#             # T_IJAB = T_ijab = T_IjAb - T_IjBa\n",
    "#             same_spin_amp = tIjAb[I,j,A,b] / 2. - tiJaB[I,j,b,A] / 2.\n",
    "            \n",
    "#             # alpha\n",
    "#             excite_op+= FermionOperator(f'{A_vir}^ {I_occ} {B_vir}^ {J_occ}', same_spin_amp / 2)\n",
    "            \n",
    "#             # beta\n",
    "#             excite_op+= FermionOperator(f'{b_vir_d}^ {j_occ_d} {a_vir_d}^ {i_occ_d}', same_spin_amp / 2)\n",
    "\n",
    "\n",
    "# ######\n",
    "\n",
    "\n",
    "# print(len(list(excite_op)))\n",
    "# excite_op"
   ]
  },
  {
   "cell_type": "code",
   "execution_count": null,
   "id": "3883a351",
   "metadata": {},
   "outputs": [],
   "source": [
    "# restricted=True\n",
    "\n",
    "# threshold = 1e-12\n",
    "# excite_op =FermionOperator()\n",
    "# nvirt = tIjAb.shape[2]\n",
    "# nocc = tIjAb.shape[0]\n",
    "# assert (tIjAb.shape[1] == nocc and tIjAb.shape[3] == nvirt)\n",
    "\n",
    "\n",
    "# for (i,j,a,b), value in np.ndenumerate(tIJAB):\n",
    "#     # up,up,up,up\n",
    "#     if not np.isclose(value, 0.0, atol=threshold):\n",
    "#         # alpha\n",
    "#         excite_op+= FermionOperator(f'{alpha_unoccupied(a, nocc)}^ {alpha_occupied(i)} {alpha_unoccupied(b, nocc)}^ {alpha_occupied(j)}',\n",
    "#                                       value/2)\n",
    "        \n",
    "#         if (restricted):\n",
    "#             excite_op+= FermionOperator(f'{beta_unoccupied(a, nocc)}^ {beta_occupied(i)} {beta_unoccupied(b, nocc)}^ {beta_occupied(j)}',\n",
    "#                                           value/2)\n",
    "\n",
    "# for (i, j, a, b), value in np.ndenumerate(tijab):\n",
    "#     # down,down,down,down\n",
    "#     if not np.isclose(value, 0.0, atol=threshold):\n",
    "#         excite_op+= FermionOperator(f'{beta_unoccupied(a, nocc)}^ {beta_occupied(i)} {beta_unoccupied(b, nocc)}^ {beta_occupied(j)}',\n",
    "#                                       value/2)\n",
    "\n",
    "    \n",
    "# for (i, j, a, b), value in np.ndenumerate(tIjAb):\n",
    "#     # up,down,up,down\n",
    "#     if not np.isclose(value, 0.0, atol=threshold):\n",
    "        \n",
    "#         excite_op+= FermionOperator(f'{alpha_unoccupied(a, nocc)}^ {alpha_occupied(i)} {beta_unoccupied(b, nocc)}^ {beta_occupied(j)}',\n",
    "#                                       value/2)\n",
    "        \n",
    "#         if (restricted):\n",
    "#             # down,up ,up,down\n",
    "#             excite_op+= FermionOperator(f'{beta_unoccupied(a, nocc)}^ {beta_occupied(i)} {alpha_unoccupied(b, nocc)}^ {alpha_occupied(j)}',\n",
    "#                                           value/2)\n",
    "\n",
    "        \n",
    "#             # Add missing same--spin amplitudes in restricted / closed-shell cases:\n",
    "#             # T_IJAB = T_ijab = T_IjAb - T_IjBa\n",
    "#             same_spin_amp = tIjAb[i,j,a,b] / 2. - tiJaB[i,j,b,a] / 2.\n",
    "            \n",
    "#             # alpha\n",
    "#             excite_op+= FermionOperator(f'{alpha_unoccupied(a, nocc)}^ {alpha_occupied(i)} {alpha_unoccupied(b, nocc)}^ {alpha_occupied(j)}',\n",
    "#                               same_spin_amp/2)\n",
    "            \n",
    "#             # beta\n",
    "#             excite_op+= FermionOperator(f'{beta_unoccupied(a, nocc)}^ {beta_occupied(i)} {beta_unoccupied(b, nocc)}^ {beta_occupied(j)}',\n",
    "#                               same_spin_amp/2)\n",
    "\n",
    "            \n",
    "# for (i, j, a, b), value in np.ndenumerate(tIJAB):\n",
    "#     if not np.isclose(value, 0.0, atol=threshold):\n",
    "#         excite_op+= FermionOperator(f'{alpha_unoccupied(a, nocc)}^ {beta_occupied(i)} {alpha_unoccupied(b, nocc)}^ {alpha_occupied(j)}',\n",
    "#                               value/2)\n",
    "        \n",
    "#         excite_op+= FermionOperator(f'{beta_unoccupied(a, nocc)}^ {alpha_occupied(i)} {alpha_unoccupied(b, nocc)}^ {alpha_occupied(j)}',\n",
    "#                               value/2)\n",
    "        \n",
    "# #         if (restricted):\n",
    "# #             ## note tIjAb == tiJaB\n",
    "# #             excite_op+= FermionOperator(f'{beta_unoccupied(a, nocc)}^ {beta_occupied(i)} {alpha_unoccupied(b, nocc)}^ {alpha_occupied(j)}',\n",
    "# #                                           value/2)\n",
    "\n",
    "\n",
    "# ######\n",
    "\n",
    "\n",
    "# print(len(list(excite_op)))\n",
    "# excite_op"
   ]
  },
  {
   "cell_type": "code",
   "execution_count": null,
   "id": "0960245d",
   "metadata": {},
   "outputs": [],
   "source": [
    "# restricted=True\n",
    "\n",
    "# threshold = 1e-12\n",
    "# excite_op =FermionOperator()\n",
    "# nvirt = tIjAb.shape[2]\n",
    "# nocc = tIjAb.shape[0]\n",
    "# assert (tIjAb.shape[1] == nocc and tIjAb.shape[3] == nvirt)\n",
    "\n",
    "\n",
    "# for (i,j,a,b), value in np.ndenumerate(tIJAB):\n",
    "#     if not np.isclose(value, 0.0, atol=threshold):\n",
    "#         # up,up,up,up\n",
    "#         excite_op+= FermionOperator(f'{alpha_unoccupied(a, nocc)}^ {alpha_occupied(i)} {alpha_unoccupied(b, nocc)}^ {alpha_occupied(j)}',\n",
    "#                                       value/2)\n",
    "        \n",
    "#         if (restricted):\n",
    "#             # down,down,down,down\n",
    "#             excite_op+= FermionOperator(f'{beta_unoccupied(a, nocc)}^ {beta_occupied(i)} {beta_unoccupied(b, nocc)}^ {beta_occupied(j)}',\n",
    "#                                           value/2)\n",
    "\n",
    "# for (i, j, a, b), value in np.ndenumerate(tijab):\n",
    "#     if not np.isclose(value, 0.0, atol=threshold):\n",
    "#         # down,down,down,down\n",
    "#         excite_op+= FermionOperator(f'{beta_unoccupied(a, nocc)}^ {beta_occupied(i)} {beta_unoccupied(b, nocc)}^ {beta_occupied(j)}',\n",
    "#                                       value/2)\n",
    "\n",
    "    \n",
    "# for (i, j, a, b), value in np.ndenumerate(tIjAb):\n",
    "#     if not np.isclose(value, 0.0, atol=threshold):\n",
    "#         # up, up, down, down\n",
    "#         excite_op+= FermionOperator(f'{alpha_unoccupied(a, nocc)}^ {alpha_occupied(i)} {beta_unoccupied(b, nocc)}^ {beta_occupied(j)}',\n",
    "#                                       value/2)\n",
    "        \n",
    "#         if (restricted):\n",
    "#             # down, down, up, up\n",
    "#             excite_op+= FermionOperator(f'{beta_unoccupied(a, nocc)}^ {beta_occupied(i)} {alpha_unoccupied(b, nocc)}^ {alpha_occupied(j)}',\n",
    "#                                           value/2)\n",
    "\n",
    "        \n",
    "#             # Add missing same--spin amplitudes in restricted / closed-shell cases:\n",
    "#             # T_IJAB = T_ijab = T_IjAb - T_IjBa\n",
    "#             same_spin_amp = tIjAb[i,j,a,b] / 2. - tiJaB[i,j,b,a] / 2.\n",
    "            \n",
    "#             # up up, up, up\n",
    "#             excite_op+= FermionOperator(f'{alpha_unoccupied(a, nocc)}^ {alpha_occupied(i)} {alpha_unoccupied(b, nocc)}^ {alpha_occupied(j)}',\n",
    "#                               same_spin_amp/2)\n",
    "            \n",
    "#             # down, down, down, down\n",
    "#             excite_op+= FermionOperator(f'{beta_unoccupied(a, nocc)}^ {beta_occupied(i)} {beta_unoccupied(b, nocc)}^ {beta_occupied(j)}',\n",
    "#                               same_spin_amp/2)\n",
    "\n",
    "            \n",
    "# for (i, j, a, b), value in np.ndenumerate(tIJAB):\n",
    "#     if not np.isclose(value, 0.0, atol=threshold):\n",
    "#         # up, down, up, up\n",
    "#         excite_op+= FermionOperator(f'{alpha_unoccupied(a, nocc)}^ {beta_occupied(i)} {alpha_unoccupied(b, nocc)}^ {alpha_occupied(j)}',\n",
    "#                               value/2)\n",
    "        \n",
    "#         excite_op+= FermionOperator(f'{beta_unoccupied(a, nocc)}^ {alpha_occupied(i)} {alpha_unoccupied(b, nocc)}^ {alpha_occupied(j)}',\n",
    "#                               value/2)\n",
    "        \n",
    "# #         if (restricted):\n",
    "# #             ## note tIjAb == tiJaB\n",
    "# #             excite_op+= FermionOperator(f'{beta_unoccupied(a, nocc)}^ {beta_occupied(i)} {alpha_unoccupied(b, nocc)}^ {alpha_occupied(j)}',\n",
    "# #                                           value/2)\n",
    "\n",
    "\n",
    "# ######\n",
    "\n",
    "\n",
    "# print(len(list(excite_op)))\n",
    "# excite_op"
   ]
  },
  {
   "cell_type": "code",
   "execution_count": null,
   "id": "ea0118ce",
   "metadata": {},
   "outputs": [],
   "source": [
    "restricted=True\n",
    "\n",
    "threshold = 1e-12\n",
    "excite_op =FermionOperator()\n",
    "nvirt = tIjAb.shape[2]\n",
    "nocc = tIjAb.shape[0]\n",
    "assert (tIjAb.shape[1] == nocc and tIjAb.shape[3] == nvirt)\n",
    "\n",
    "\n",
    "for (i,j,a,b), value in np.ndenumerate(tIJAB):\n",
    "    # up,up,up,up\n",
    "    if not np.isclose(value, 0.0, atol=threshold):\n",
    "        # up,up,up,up\n",
    "        excite_op+= FermionOperator(f'{alpha_unoccupied(a, nocc)}^ {alpha_occupied(i)} {alpha_unoccupied(b, nocc)}^ {alpha_occupied(j)}',\n",
    "                                      value/2)\n",
    "        \n",
    "        if (restricted):\n",
    "            # down,down,down,down\n",
    "            excite_op+= FermionOperator(f'{beta_unoccupied(a, nocc)}^ {beta_occupied(i)} {beta_unoccupied(b, nocc)}^ {beta_occupied(j)}',\n",
    "                                          value/2)\n",
    "\n",
    "for (i, j, a, b), value in np.ndenumerate(tijab):\n",
    "    # down,down,down,down\n",
    "    if not np.isclose(value, 0.0, atol=threshold):\n",
    "        # up,up,up,up\n",
    "        excite_op+= FermionOperator(f'{alpha_unoccupied(a, nocc)}^ {alpha_occupied(i)} {alpha_unoccupied(b, nocc)}^ {alpha_occupied(j)}',\n",
    "                                      value/2)\n",
    "\n",
    "    \n",
    "for (i, j, a, b), value in np.ndenumerate(tIjAb):\n",
    "    if not np.isclose(value, 0.0, atol=threshold):\n",
    "        # up, up, down, down\n",
    "        excite_op+= FermionOperator(f'{alpha_unoccupied(a, nocc)}^ {alpha_occupied(i)} {beta_unoccupied(b, nocc)}^ {beta_occupied(j)}',\n",
    "                                      value/2)\n",
    "        \n",
    "        if (restricted):\n",
    "            # down, down, up, up\n",
    "            excite_op+= FermionOperator(f'{beta_unoccupied(a, nocc)}^ {beta_occupied(i)} {alpha_unoccupied(b, nocc)}^ {alpha_occupied(j)}',\n",
    "                                          value/2)\n",
    "\n",
    "        \n",
    "            # Add missing same--spin amplitudes in restricted / closed-shell cases:\n",
    "            # T_IJAB = T_ijab = T_IjAb - T_IjBa\n",
    "            same_spin_amp = tIjAb[i,j,a,b] / 2. - tiJaB[i,j,b,a] / 2.\n",
    "            \n",
    "            # up up, up, up\n",
    "            excite_op+= FermionOperator(f'{alpha_unoccupied(a, nocc)}^ {alpha_occupied(i)} {alpha_unoccupied(b, nocc)}^ {alpha_occupied(j)}',\n",
    "                              same_spin_amp/2)\n",
    "            \n",
    "            # down, down, down, down\n",
    "            excite_op+= FermionOperator(f'{beta_unoccupied(a, nocc)}^ {beta_occupied(i)} {beta_unoccupied(b, nocc)}^ {beta_occupied(j)}',\n",
    "                              same_spin_amp/2)\n",
    "\n",
    "\n",
    "\n",
    "######\n",
    "\n",
    "\n",
    "print(len(list(excite_op)))\n",
    "excite_op"
   ]
  },
  {
   "cell_type": "code",
   "execution_count": null,
   "id": "4ac064b1",
   "metadata": {},
   "outputs": [],
   "source": [
    "double_amplitudes.shape"
   ]
  },
  {
   "cell_type": "code",
   "execution_count": null,
   "id": "daad5a76",
   "metadata": {},
   "outputs": [],
   "source": [
    "# Store doubles, include factor of 1/2 for convention\n",
    "T2IJAB_Amps = tIJAB\n",
    "T2ijab_Amps = tijab\n",
    "T2IjAb_Amps = tIjAb\n",
    "\n",
    "double_amplitudes = np.zeros((2*pyscf_obj.pyscf_hf.mol.nao, ) * 4)\n",
    "\n",
    "for (i, j, a, b), value in np.ndenumerate(T2IJAB_Amps):\n",
    "    double_amplitudes[alpha_unoccupied(a),\n",
    "                      alpha_occupied(i),\n",
    "                      alpha_unoccupied(b),\n",
    "                      alpha_occupied(j)] = value / 2.\n",
    "    if (restricted):\n",
    "        double_amplitudes[beta_unoccupied(a),\n",
    "                          beta_occupied(i),\n",
    "                          beta_unoccupied(b),\n",
    "                          beta_occupied(j)] = value / 2.\n",
    "\n",
    "for (i, j, a, b), value in np.ndenumerate(T2ijab_Amps):\n",
    "    double_amplitudes[beta_unoccupied(a),\n",
    "                      beta_occupied(i),\n",
    "                      beta_unoccupied(b),\n",
    "                      beta_occupied(j)] = value / 2.\n",
    "\n",
    "for (i, j, a, b), value in np.ndenumerate(T2IjAb_Amps):\n",
    "    double_amplitudes[alpha_unoccupied(a),\n",
    "                      alpha_occupied(i),\n",
    "                      beta_unoccupied(b),\n",
    "                      beta_occupied(j)] = value / 2.\n",
    "\n",
    "    if (restricted):\n",
    "        double_amplitudes[beta_unoccupied(a),\n",
    "                          beta_occupied(i),\n",
    "                          alpha_unoccupied(b),\n",
    "                          alpha_occupied(j)] = value / 2.\n",
    "\n",
    "        # Add missing same--spin amplitudes in restricted / closed-shell cases:\n",
    "        # T_IJAB = T_ijab = T_IjAb - T_IjBa\n",
    "\n",
    "        same_spin_amp = T2IjAb_Amps[i,j,a,b] / 2. - T2IjAb_Amps[i,j,b,a] / 2.\n",
    "\n",
    "        double_amplitudes[alpha_unoccupied(a),\n",
    "                          alpha_occupied(i),\n",
    "                          alpha_unoccupied(b),\n",
    "                          alpha_occupied(j)] = same_spin_amp / 2.\n",
    "\n",
    "        double_amplitudes[beta_unoccupied(a),\n",
    "                          beta_occupied(i),\n",
    "                          beta_unoccupied(b),\n",
    "                          beta_occupied(j)] = same_spin_amp / 2.\n"
   ]
  },
  {
   "cell_type": "code",
   "execution_count": null,
   "id": "42a43290",
   "metadata": {},
   "outputs": [],
   "source": []
  },
  {
   "cell_type": "code",
   "execution_count": null,
   "id": "c9d67ab9",
   "metadata": {},
   "outputs": [],
   "source": [
    "print(len(list(generator)))\n",
    "generator"
   ]
  },
  {
   "cell_type": "code",
   "execution_count": null,
   "id": "8e1e8747",
   "metadata": {},
   "outputs": [],
   "source": [
    "#    # Store doubles, include factor of 1/2 for convention\n",
    "#     for entry in T2IJAB_Amps:\n",
    "#         i, j, a, b, value = entry\n",
    "#         double_amplitudes[alpha_unoccupied(a),\n",
    "#                           alpha_occupied(i),\n",
    "#                           alpha_unoccupied(b),\n",
    "#                           alpha_occupied(j)] = value / 2.\n",
    "#         if (restricted):\n",
    "#             double_amplitudes[beta_unoccupied(a),\n",
    "#                               beta_occupied(i),\n",
    "#                               beta_unoccupied(b),\n",
    "#                               beta_occupied(j)] = value / 2.\n",
    "\n",
    "#     for entry in T2ijab_Amps:\n",
    "#         i, j, a, b, value = entry\n",
    "#         double_amplitudes[beta_unoccupied(a),\n",
    "#                           beta_occupied(i),\n",
    "#                           beta_unoccupied(b),\n",
    "#                           beta_occupied(j)] = value / 2.\n",
    "\n",
    "#     for entry in T2IjAb_Amps:\n",
    "#         i, j, a, b, value = entry\n",
    "#         double_amplitudes[alpha_unoccupied(a),\n",
    "#                           alpha_occupied(i),\n",
    "#                           beta_unoccupied(b),\n",
    "#                           beta_occupied(j)] = value / 2.\n",
    "\n",
    "#         if (restricted):\n",
    "#             double_amplitudes[beta_unoccupied(a),\n",
    "#                               beta_occupied(i),\n",
    "#                               alpha_unoccupied(b),\n",
    "#                               alpha_occupied(j)] = value / 2."
   ]
  },
  {
   "cell_type": "code",
   "execution_count": null,
   "id": "adcc4bce",
   "metadata": {},
   "outputs": [],
   "source": [
    "# threshold = 1e-8\n",
    "# variables = {}\n",
    "# if tIjAb is not None:\n",
    "#     nvirt = tIjAb.shape[2]\n",
    "#     nocc = tIjAb.shape[0]\n",
    "#     assert (tIjAb.shape[1] == nocc and tIjAb.shape[3] == nvirt)\n",
    "\n",
    "#     for (I, j, A, b), value in np.ndenumerate(tIjAb):\n",
    "#         if not np.isclose(value, 0.0, atol=threshold):\n",
    "#             variables[(2 * (nocc + A), 2 * I, 2 * (nocc + b) + 1, j + 1)] = value\n",
    "#     for (i, J, a, B), value in np.ndenumerate(tiJaB):\n",
    "#         if not np.isclose(value, 0.0, atol=threshold):\n",
    "#             variables[(2 * (nocc + a) + 1, 2 * i + 1, 2 * (nocc + B), J)] = value\n",
    "#     for (i, j, a, b), value in np.ndenumerate(tijab):\n",
    "#         if not np.isclose(value, 0.0, atol=threshold):\n",
    "#             variables[(2 * (nocc + a) + 1, 2 * i + 1, 2 * (nocc + b) + 1, j + 1)] = value\n",
    "#     for (I, J, A, B), value in np.ndenumerate(tIJAB):\n",
    "#         if not np.isclose(value, 0.0, atol=threshold):\n",
    "#             variables[(2 * (nocc + A), 2 * I, 2 * (nocc + B), J)] = value\n",
    "\n",
    "# print(len(variables))\n",
    "# variables"
   ]
  },
  {
   "cell_type": "code",
   "execution_count": null,
   "id": "db450ac8",
   "metadata": {},
   "outputs": [],
   "source": [
    "generator"
   ]
  },
  {
   "cell_type": "code",
   "execution_count": null,
   "id": "bb1f952d",
   "metadata": {},
   "outputs": [],
   "source": [
    "mp2_ansatz = expm(get_sparse_operator(0.5*excite_op, n_qubits=H_ferm.n_qubits))\n",
    "## mp2_ansatz = expm(get_sparse_operator(excite_op, n_qubits=H_ferm.n_qubits))\n",
    "\n",
    "## help(qubit_operator_sparse)"
   ]
  },
  {
   "cell_type": "code",
   "execution_count": null,
   "id": "0882b510",
   "metadata": {},
   "outputs": [],
   "source": [
    "mp2_ket =  mp2_ansatz @ hf_ket\n",
    "print(np.allclose(mp2_ket, hf_ket))\n",
    "hf_ket.conj().T @ H_mat @ mp2_ket"
   ]
  },
  {
   "cell_type": "code",
   "execution_count": null,
   "id": "be0b9f40",
   "metadata": {},
   "outputs": [],
   "source": [
    "pyscf_obj.pyscf_mp2.e_tot"
   ]
  },
  {
   "cell_type": "code",
   "execution_count": null,
   "id": "bd582975",
   "metadata": {},
   "outputs": [],
   "source": []
  },
  {
   "cell_type": "code",
   "execution_count": null,
   "id": "54604f9b",
   "metadata": {},
   "outputs": [],
   "source": []
  },
  {
   "cell_type": "code",
   "execution_count": null,
   "id": "f71bd677",
   "metadata": {},
   "outputs": [],
   "source": [
    "# tIjAb=np.einsum('abij -> abij', amplitudes, optimize='greedy')\n",
    "\n",
    "# tIjAb.shape"
   ]
  },
  {
   "cell_type": "code",
   "execution_count": null,
   "id": "25a70c9c",
   "metadata": {},
   "outputs": [],
   "source": [
    "# pyscf_obj.pyscf_mp2.t2 # <-- these are the amplitudes!"
   ]
  },
  {
   "cell_type": "code",
   "execution_count": null,
   "id": "930f5b68",
   "metadata": {},
   "outputs": [],
   "source": [
    "# variables = {}\n",
    "# if tIjAb is not None:\n",
    "#     nvirt = tIjAb.shape[2]\n",
    "#     nocc = tIjAb.shape[0]\n",
    "#     assert (tIjAb.shape[1] == nocc and tIjAb.shape[3] == nvirt)\n",
    "#     for (I, J, A, B), value in np.ndenumerate(tIjAb):\n",
    "#         if not np.isclose(value, 0.0, atol=1e-8):\n",
    "#             variables[(nocc + A, I, nocc + B, J)] = value\n",
    "            \n",
    "\n",
    "nvirt = tIjAb.shape[2]\n",
    "nocc = tIjAb.shape[0]\n",
    "excite_op =FermionOperator()\n",
    "assert (tIjAb.shape[1] == nocc and tIjAb.shape[3] == nvirt)\n",
    "for (I, J, A, B), value in np.ndenumerate(tIjAb):\n",
    "    if not np.isclose(value, 0.0, atol=1e-8):\n",
    "        excite_op+= FermionOperator(f'{nocc + A}^ {I}^ {nocc + B} {J}', value)\n",
    "#         excite_op+= FermionOperator(f'{I}^ {J}^ {nocc + A} {nocc + B}', value)\n",
    "#         excite_op+= FermionOperator(f'{nocc + A}^ {nocc + B}^ {I} {J}', -value)"
   ]
  },
  {
   "cell_type": "code",
   "execution_count": null,
   "id": "bfd27f94",
   "metadata": {},
   "outputs": [],
   "source": [
    "tijab = tIjAb - np.einsum(\"ijab -> ijba\", tIjAb, optimize='greedy')\n",
    "\n",
    "nvirt = tijab.shape[2]\n",
    "nocc = tijab.shape[0]\n",
    "excite_op =FermionOperator()\n",
    "assert (tijab.shape[1] == nocc and tijab.shape[3] == nvirt)\n",
    "for (I, J, A, B), value in np.ndenumerate(tijab):\n",
    "    if not np.isclose(value, 0.0, atol=1e-8):\n",
    "        excite_op+= FermionOperator(f'{nocc + A}^ {I}^ {nocc + B} {J}', value)"
   ]
  },
  {
   "cell_type": "code",
   "execution_count": null,
   "id": "b7b3a501",
   "metadata": {},
   "outputs": [],
   "source": [
    "tijab = tIjAb - np.einsum(\"ijab -> ijba\", tIjAb, optimize='greedy')\n",
    "\n",
    "tIjAb=tIjAb\n",
    "tiJaB=tIjAb\n",
    "tijab=tijab\n",
    "tIJAB=tijab\n",
    "\n",
    "\n",
    "threshold = 1e-8\n",
    "excite_op =FermionOperator()\n",
    "nvirt = tIjAb.shape[2]\n",
    "nocc = tIjAb.shape[0]\n",
    "assert (tIjAb.shape[1] == nocc and tIjAb.shape[3] == nvirt)\n",
    "\n",
    "for (I, j, A, b), value in np.ndenumerate(tIjAb):\n",
    "    if not np.isclose(value, 0.0, atol=threshold):\n",
    "        excite_op+= FermionOperator(f'{2 * (nocc + A)}^ {2*I}^ {2 * (nocc + b) + 1} {j + 1}', value/2)\n",
    "#         variables[(2 * (nocc + A), 2 * I, 2 * (nocc + b) + 1, j + 1)] = value\n",
    "for (i, J, a, B), value in np.ndenumerate(tiJaB):\n",
    "    if not np.isclose(value, 0.0, atol=threshold):\n",
    "        excite_op+= FermionOperator(f'{2 * (nocc + a)+1}^ {2*i+1}^ {2 * (nocc + B)} {J}', value/2)\n",
    "#         variables[(2 * (nocc + a) + 1, 2 * i + 1, 2 * (nocc + B), J)] = value\n",
    "for (i, j, a, b), value in np.ndenumerate(tijab):\n",
    "    if not np.isclose(value, 0.0, atol=threshold):\n",
    "        excite_op+= FermionOperator(f'{2 * (nocc + a)+1}^ {2*i+1}^ {2 * (nocc + b)+1} {j+1}', value/2)\n",
    "#         variables[(2 * (nocc + a) + 1, 2 * i + 1, 2 * (nocc + b) + 1, j + 1)] = value\n",
    "for (I, J, A, B), value in np.ndenumerate(tijab):\n",
    "    if not np.isclose(value, 0.0, atol=threshold):\n",
    "#         variables[(2 * (nocc + A), 2 * I, 2 * (nocc + B), J)] = value\n",
    "        excite_op+= FermionOperator(f'{2 * (nocc + A)}^ {2*I}^ {2 * (nocc + B)} {J}', value/2)"
   ]
  },
  {
   "cell_type": "code",
   "execution_count": null,
   "id": "4588d9db",
   "metadata": {},
   "outputs": [],
   "source": [
    "# tijab = tIjAb - np.einsum(\"ijab -> ijba\", tIjAb, optimize='greedy')\n",
    "\n",
    "# tIjAb=tIjAb\n",
    "# tiJaB=tIjAb\n",
    "# tijab=tijab\n",
    "# tIJAB=tijab\n",
    "\n",
    "\n",
    "# threshold = 1e-8\n",
    "# excite_op =FermionOperator()\n",
    "# nvirt = tIjAb.shape[2]\n",
    "# nocc = tIjAb.shape[0]\n",
    "# assert (tIjAb.shape[1] == nocc and tIjAb.shape[3] == nvirt)\n",
    "\n",
    "# for (I, j, A, b), value in np.ndenumerate(tIjAb):\n",
    "#     if not np.isclose(value, 0.0, atol=threshold):\n",
    "#         term = [2 * (nocc + A), 2*I, 2 * (nocc + b) + 1, j + 1]\n",
    "#         excite_op+= FermionOperator(f'{term[0]}^ {term[1]}^ {term[2]} {term[3]}', value/2)\n",
    "#         excite_op+= FermionOperator(f'{2*term[0]+1}^ {2*term[1]+1}^ {2*term[2]+1} {2*term[3]+1}', value/2)\n",
    "# #         variables[(2 * (nocc + A), 2 * I, 2 * (nocc + b) + 1, j + 1)] = value\n",
    "# for (i, J, a, B), value in np.ndenumerate(tiJaB):\n",
    "#     if not np.isclose(value, 0.0, atol=threshold):\n",
    "#         term = [2 * (nocc + a)+1, 2*i+1, 2 * (nocc + B), J]\n",
    "#         excite_op+= FermionOperator(f'{term[0]}^ {term[1]}^ {term[2]} {term[3]}', value/2)\n",
    "#         excite_op+= FermionOperator(f'{2*term[0]+1}^ {2*term[1]+1}^ {2*term[2]+1} {2*term[3]+1}', value/2)\n",
    "# #         variables[(2 * (nocc + a) + 1, 2 * i + 1, 2 * (nocc + B), J)] = value\n",
    "# for (i, j, a, b), value in np.ndenumerate(tijab):\n",
    "#     if not np.isclose(value, 0.0, atol=threshold):\n",
    "#         term = [2 * (nocc + a)+1, 2*i+1, 2 * (nocc + b)+1, j+1]\n",
    "#         excite_op+= FermionOperator(f'{term[0]}^ {term[1]}^ {term[2]} {term[3]}', value/2)\n",
    "#         excite_op+= FermionOperator(f'{2*term[0]+1}^ {2*term[1]+1}^ {2*term[2]+1} {2*term[3]+1}', value/2)\n",
    "# #         variables[(2 * (nocc + a) + 1, 2 * i + 1, 2 * (nocc + b) + 1, j + 1)] = value\n",
    "# for (I, J, A, B), value in np.ndenumerate(tijab):\n",
    "#     if not np.isclose(value, 0.0, atol=threshold):\n",
    "#         term = [2 * (nocc + A), 2*I, 2 * (nocc + B), J]\n",
    "#         excite_op+= FermionOperator(f'{term[0]}^ {term[1]}^ {term[2]} {term[3]}', value/2)\n",
    "#         excite_op+= FermionOperator(f'{2*term[0]+1}^ {2*term[1]+1}^ {2*term[2]+1} {2*term[3]+1}', value/2)"
   ]
  },
  {
   "cell_type": "code",
   "execution_count": null,
   "id": "642df195",
   "metadata": {},
   "outputs": [],
   "source": []
  },
  {
   "cell_type": "code",
   "execution_count": null,
   "id": "79f8587b",
   "metadata": {},
   "outputs": [],
   "source": [
    "len(list(excite_op))\n",
    "\n",
    "# excite_op/2"
   ]
  },
  {
   "cell_type": "code",
   "execution_count": null,
   "id": "c5ca1c49",
   "metadata": {},
   "outputs": [],
   "source": [
    "len(list(generator))"
   ]
  },
  {
   "cell_type": "code",
   "execution_count": null,
   "id": "5b09ce73",
   "metadata": {},
   "outputs": [],
   "source": [
    "generator"
   ]
  },
  {
   "cell_type": "code",
   "execution_count": null,
   "id": "446a09ef",
   "metadata": {},
   "outputs": [],
   "source": []
  },
  {
   "cell_type": "code",
   "execution_count": null,
   "id": "b9242970",
   "metadata": {},
   "outputs": [],
   "source": [
    "mp2_ansatz = expm(get_sparse_operator(0.25*excite_op, n_qubits=H_ferm.n_qubits))\n",
    "## mp2_ansatz = expm(get_sparse_operator(excite_op, n_qubits=H_ferm.n_qubits))\n",
    "\n",
    "## help(qubit_operator_sparse)"
   ]
  },
  {
   "cell_type": "code",
   "execution_count": null,
   "id": "e495a84e",
   "metadata": {},
   "outputs": [],
   "source": []
  },
  {
   "cell_type": "code",
   "execution_count": null,
   "id": "69eb7cb8",
   "metadata": {},
   "outputs": [],
   "source": [
    "mp2_ket =  mp2_ansatz @ hf_ket\n",
    "mp2_ket.conj().T @ H_mat @ mp2_ket"
   ]
  },
  {
   "cell_type": "code",
   "execution_count": null,
   "id": "d71d7e59",
   "metadata": {},
   "outputs": [],
   "source": [
    "pyscf_obj.pyscf_mp2.e_tot"
   ]
  },
  {
   "cell_type": "code",
   "execution_count": null,
   "id": "745f3e90",
   "metadata": {},
   "outputs": [],
   "source": [
    "pyscf_obj.pyscf_mp2.e_hf"
   ]
  },
  {
   "cell_type": "code",
   "execution_count": null,
   "id": "ebe89615",
   "metadata": {},
   "outputs": [],
   "source": [
    "hf_ket.conj().T @ mp2_ket"
   ]
  },
  {
   "cell_type": "code",
   "execution_count": null,
   "id": "f4ab4659",
   "metadata": {},
   "outputs": [],
   "source": [
    "# t(a,i,b,j) = 0.25 * g(a,i,b,j)/(e(i) + e(j) -a(i) - b(j) )\n",
    "\n",
    "# +aibj\n",
    "# -abij"
   ]
  },
  {
   "cell_type": "code",
   "execution_count": null,
   "id": "a91dd80e",
   "metadata": {},
   "outputs": [],
   "source": []
  },
  {
   "cell_type": "code",
   "execution_count": null,
   "id": "f1a1246d",
   "metadata": {},
   "outputs": [],
   "source": [
    "pyscf_obj.pyscf_mp2.e_corr #+ pyscf_obj.pyscf_mp2.e_corr"
   ]
  },
  {
   "cell_type": "code",
   "execution_count": null,
   "id": "b55a06ef",
   "metadata": {},
   "outputs": [],
   "source": []
  },
  {
   "cell_type": "code",
   "execution_count": null,
   "id": "2b645978",
   "metadata": {},
   "outputs": [],
   "source": [
    "variables = {}\n",
    "if tIjAb is not None:\n",
    "    nvirt = tIjAb.shape[2]\n",
    "    nocc = tIjAb.shape[0]\n",
    "    assert (tIjAb.shape[1] == nocc and tIjAb.shape[3] == nvirt)\n",
    "    for (I, J, A, B), value in np.ndenumerate(tIjAb):\n",
    "        if not np.isclose(value, 0.0, atol=1e-8):\n",
    "            variables[(nocc + A, I, nocc + B, J)] = value\n",
    "\n",
    "dict(sorted(variables.items(), key=lambda x: np.abs(x[1]), reverse=True))"
   ]
  },
  {
   "cell_type": "code",
   "execution_count": null,
   "id": "da7e9391",
   "metadata": {},
   "outputs": [],
   "source": []
  },
  {
   "cell_type": "code",
   "execution_count": null,
   "id": "6283c6b0",
   "metadata": {},
   "outputs": [],
   "source": []
  },
  {
   "cell_type": "code",
   "execution_count": null,
   "id": "2e170fca",
   "metadata": {},
   "outputs": [],
   "source": [
    "from pyscf.cc.addons import spatial2spin\n",
    "\n",
    "t2 = spatial2spin(pyscf_obj.pyscf_mp2.t2)\n",
    "no, nv = t2.shape[1:3]\n",
    "nmo = no + nv\n",
    "double_amps = np.zeros((nmo, nmo, nmo, nmo))\n",
    "double_amps[no:,:no,no:,:no] = .5 * t2.transpose(2,0,3,1)"
   ]
  },
  {
   "cell_type": "code",
   "execution_count": null,
   "id": "7918f626",
   "metadata": {},
   "outputs": [],
   "source": []
  },
  {
   "cell_type": "code",
   "execution_count": null,
   "id": "f6e8aaa2",
   "metadata": {},
   "outputs": [],
   "source": [
    "# double_amplitudes_list=[]\n",
    "# double_amplitudes = double_amps\n",
    "# for i, j, k, l in zip(*double_amplitudes.nonzero()):\n",
    "#     double_amplitudes_list.append([[i, j, k, l],\n",
    "#                                    double_amplitudes[i, j, k, l]])\n",
    "    \n",
    "# double_amplitudes_list\n",
    "\n",
    "double_amplitudes_list=[]\n",
    "double_amplitudes = double_amps\n",
    "for i, j, k, l in zip(*double_amplitudes.nonzero()):\n",
    "    if not np.isclose(double_amplitudes[i, j, k, l], 0):\n",
    "        double_amplitudes_list.append([[i, j, k, l],\n",
    "                                       double_amplitudes[i, j, k, l]])\n",
    "\n",
    "print(len(double_amplitudes_list))\n",
    "double_amplitudes_list"
   ]
  },
  {
   "cell_type": "code",
   "execution_count": null,
   "id": "8a4196f9",
   "metadata": {},
   "outputs": [],
   "source": [
    "generator = FermionOperator()\n",
    "\n",
    "# Add double excitations\n",
    "for (i, j, k, l), t_ijkl in double_amplitudes_list:\n",
    "    i, j, k, l = int(i), int(j), int(k), int(l)\n",
    "    generator += FermionOperator(((i, 1), (j, 0), (k, 1), (l, 0)), t_ijkl)\n",
    "#     if anti_hermitian:\n",
    "#         generator += FermionOperator(((l, 1), (k, 0), (j, 1), (i, 0)),\n",
    "#                                      -t_ijkl)"
   ]
  },
  {
   "cell_type": "code",
   "execution_count": null,
   "id": "e9580313",
   "metadata": {
    "scrolled": true
   },
   "outputs": [],
   "source": [
    "generator"
   ]
  },
  {
   "cell_type": "code",
   "execution_count": null,
   "id": "f5f06211",
   "metadata": {},
   "outputs": [],
   "source": [
    "mp2_ansatz = expm(get_sparse_operator(0.25*generator, n_qubits=H_ferm.n_qubits))\n",
    "# mp2_ansatz = expm(get_sparse_operator(0.125*generator, n_qubits=H_ferm.n_qubits))"
   ]
  },
  {
   "cell_type": "code",
   "execution_count": null,
   "id": "4c69dae2",
   "metadata": {},
   "outputs": [],
   "source": []
  },
  {
   "cell_type": "code",
   "execution_count": null,
   "id": "749ceaff",
   "metadata": {},
   "outputs": [],
   "source": [
    "mp2_ket =  mp2_ansatz @ hf_ket\n",
    "mp2_ket.conj().T @ H_mat @ mp2_ket"
   ]
  },
  {
   "cell_type": "code",
   "execution_count": null,
   "id": "bcdb1aa1",
   "metadata": {},
   "outputs": [],
   "source": [
    "pyscf_obj.pyscf_mp2.e_tot"
   ]
  },
  {
   "cell_type": "code",
   "execution_count": null,
   "id": "2ea705dd",
   "metadata": {},
   "outputs": [],
   "source": []
  },
  {
   "cell_type": "code",
   "execution_count": null,
   "id": "d4f30a4e",
   "metadata": {},
   "outputs": [],
   "source": [
    "one_body_integrals = H_ferm._one_body_integrals\n",
    "two_body_integrals = H_ferm._two_body_integrals\n",
    "\n",
    "g = two_body_integrals\n",
    "fij = pyscf_obj.pyscf_hf.mo_energy\n",
    "\n",
    "nocc = H_ferm.n_electrons // 2  # this is never the active space\n",
    "ei = fij[:nocc]\n",
    "ai = fij[nocc:]\n",
    "V = g[nocc:, nocc:, :nocc, :nocc]\n",
    "amplitudes = abgij * 1.0 / (\n",
    "        ei.reshape(1, 1, -1, 1) + ei.reshape(1, 1, 1, -1) - ai.reshape(-1, 1, 1, 1) - ai.reshape(1, -1, 1, 1))\n",
    "E = 2.0 * np.einsum('abij,abij->', amplitudes, abgij) - np.einsum('abji,abij', amplitudes, abgij,\n",
    "                                                                        optimize='greedy')\n",
    "\n",
    "E"
   ]
  },
  {
   "cell_type": "code",
   "execution_count": null,
   "id": "3f0e8946",
   "metadata": {},
   "outputs": [],
   "source": []
  },
  {
   "cell_type": "markdown",
   "id": "dc2f54a5",
   "metadata": {},
   "source": [
    "https://citeseerx.ist.psu.edu/viewdoc/download?doi=10.1.1.154.2423&rep=rep1&type=pdf"
   ]
  },
  {
   "cell_type": "code",
   "execution_count": null,
   "id": "74951e25",
   "metadata": {},
   "outputs": [],
   "source": [
    "mp2_ansatz = expm(get_sparse_operator(0.5*generator, n_qubits=H_ferm.n_qubits))\n",
    "# mp2_ansatz = expm(get_sparse_operator(0.125*generator, n_qubits=H_ferm.n_qubits))"
   ]
  },
  {
   "cell_type": "code",
   "execution_count": null,
   "id": "3d040cf0",
   "metadata": {},
   "outputs": [],
   "source": [
    "mp2_ket =  mp2_ansatz @ hf_ket\n",
    "hf_ket.conj().T @ H_mat @ mp2_ket"
   ]
  },
  {
   "cell_type": "code",
   "execution_count": null,
   "id": "2128d7e9",
   "metadata": {},
   "outputs": [],
   "source": [
    "pyscf_obj.pyscf_mp2.e_corr"
   ]
  },
  {
   "cell_type": "code",
   "execution_count": null,
   "id": "5f16880f",
   "metadata": {},
   "outputs": [],
   "source": [
    "(hf_ket.conj().T @ H_mat @ mp2_ket - pyscf_obj.pyscf_mp2.e_hf).real"
   ]
  },
  {
   "cell_type": "code",
   "execution_count": null,
   "id": "49a647c3",
   "metadata": {},
   "outputs": [],
   "source": []
  },
  {
   "cell_type": "code",
   "execution_count": null,
   "id": "16add58e",
   "metadata": {},
   "outputs": [],
   "source": [
    "H_new = H_mat @ expm(get_sparse_operator(0.5*generator, n_qubits=H_ferm.n_qubits))\n",
    "\n",
    "(hf_ket.conj().T @ H_new @ hf_ket)"
   ]
  }
 ],
 "metadata": {
  "kernelspec": {
   "display_name": "Python 3 (ipykernel)",
   "language": "python",
   "name": "python3"
  },
  "language_info": {
   "codemirror_mode": {
    "name": "ipython",
    "version": 3
   },
   "file_extension": ".py",
   "mimetype": "text/x-python",
   "name": "python",
   "nbconvert_exporter": "python",
   "pygments_lexer": "ipython3",
   "version": "3.9.7"
  }
 },
 "nbformat": 4,
 "nbformat_minor": 5
}
