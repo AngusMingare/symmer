{
 "cells": [
  {
   "cell_type": "markdown",
   "id": "3c896a51",
   "metadata": {},
   "source": [
    "# Qubit Tapering \n",
    "### in the Stabilizer Subspace Projection formalism\n",
    "Here, we take a look at the qubit reduction technique of [tapering](https://arxiv.org/abs/1701.08213) and an implementation based on the core `S3_projection` class. Unlike [Contextual-Subspace VQE](https://doi.org/10.22331/q-2021-05-14-456), this technique is *exact*, in the sense that it perfectly preserves the energy spectrum of the input operator.\n",
    "\n",
    "At the core of qubit tapering is a symmetry of the Hamiltonian, which in this case means a set of universally commuting operators. The idea is that these operators must be simultaneously measureable and so can be treated independently of the remaining Hamiltonian terms. The method works by finding an independent generating set for the symmetry and seeks to find the 'correct' assignment of eigenvalues (called a *sector*), which completely determines the measurement outcome of the symmetry operators. Once this is obtained, the theory of stabilizers allows us to rotate the symmetry generators onto single Pauli $X$ operators, and since they must commute universally every operator of the rotated Hamiltonian will consist of an identity or Pauli $X$ in the corresponding qubit position. This means we can drop the qubit from the Hamiltonian, leaving in its place the eigenvalue determined by the chosen sector."
   ]
  },
  {
   "cell_type": "code",
   "execution_count": 1,
   "id": "21770fd0",
   "metadata": {},
   "outputs": [],
   "source": [
    "import numpy as np\n",
    "import scipy as sp\n",
    "from matplotlib import pyplot as plt\n",
    "import openfermion as of\n",
    "import openfermionpyscf as ofpyscf\n",
    "from symred.symplectic_form import PauliwordOp\n",
    "from symred.S3_projection import QubitTapering\n",
    "\n",
    "def get_ground_state(sparse_operator, initial_guess=None):\n",
    "    \"\"\"Compute lowest eigenvalue and eigenstate.\n",
    "    Args:\n",
    "        sparse_operator (LinearOperator): Operator to find the ground state of.\n",
    "        initial_guess (ndarray): Initial guess for ground state.  A good\n",
    "            guess dramatically reduces the cost required to converge.\n",
    "    Returns\n",
    "    -------\n",
    "        eigenvalue:\n",
    "            The lowest eigenvalue, a float.\n",
    "        eigenstate:\n",
    "            The lowest eigenstate in scipy.sparse csc format.\n",
    "    \"\"\"\n",
    "    values, vectors = sp.sparse.linalg.eigsh(sparse_operator,\n",
    "                                            k=1,\n",
    "                                            v0=initial_guess,\n",
    "                                            which='SA',\n",
    "                                            maxiter=1e7)\n",
    "\n",
    "    order = np.argsort(values)\n",
    "    values = values[order]\n",
    "    vectors = vectors[:, order]\n",
    "    eigenvalue = values[0]\n",
    "    eigenstate = vectors[:, 0]\n",
    "    return eigenvalue, eigenstate.T\n",
    "\n",
    "\n",
    "def plot_ground_state_amplitudes(eigenvalue,eigenvector, \n",
    "                                num_qubits: int, \n",
    "                                reverse_bitstrings: bool=False,\n",
    "                                return_amps: bool = False,\n",
    "                                matrix_type='sparse'\n",
    "                                )-> None:\n",
    "    \"\"\" Prints a barplot of the probability amplitudes for each \n",
    "    basis state in the ground eigenstate of the input operator\n",
    "    \"\"\"\n",
    "    bitstrings = [format(index, f'0{num_qubits}b') for index in range(2**(num_qubits))]\n",
    "    if reverse_bitstrings:\n",
    "        bitstrings.reverse()\n",
    "    amps = [(b_str, amp) for b_str,amp \n",
    "            in zip(bitstrings, np.square(abs(eigenvector))) if amp>1e-5]\n",
    "    amps = sorted(amps, key=lambda x:-x[1])\n",
    "    X, Y = zip(*amps)\n",
    "    \n",
    "    # plot and show the amplitudes\n",
    "    plt.bar(X, Y)\n",
    "    plt.xlabel('Basis state')\n",
    "    plt.ylabel('Amplitude in ground state')\n",
    "    plt.title(f'Energy = {eigenvalue: .10f}')\n",
    "    plt.xticks(rotation=90)\n",
    "    plt.show()\n",
    "\n",
    "    if return_amps:\n",
    "        return amps"
   ]
  },
  {
   "cell_type": "markdown",
   "id": "80ab8291",
   "metadata": {},
   "source": [
    "First, we shall construct a molecule using OpenFermion with PySCF the underlying quantum chemistry package. The resulting fermionic operator will be mapped onto qubits via the Jordan-Wigner transformation."
   ]
  },
  {
   "cell_type": "code",
   "execution_count": 2,
   "id": "67641e92",
   "metadata": {},
   "outputs": [
    {
     "name": "stdout",
     "output_type": "stream",
     "text": [
      "Jordan-Wigner Hamiltonian:\n",
      "\n",
      " (-1.0811274948287175+0j) IIIIIIII +\n",
      "(0.0645963760216659+0j) ZIIIIIII +\n",
      "(-0.014314043573277112+0j) YZZZZZYI +\n",
      "(-0.014314043573277112+0j) XZZZZZXI +\n",
      "(0.06459637602166592+0j) IZIIIIII +\n",
      "(-0.014314043573277108+0j) IYZZZZZY +\n",
      "(-0.014314043573277108+0j) IXZZZZZX +\n",
      "(0.03757987407097242+0j) IIZIIIII +\n",
      "(0.03757987407097245+0j) IIIZIIII +\n",
      "(0.03757987407097249+0j) IIIIZIII +\n",
      "(0.03757987407097264+0j) IIIIIZII +\n",
      "(0.013794448896003828+0j) IIIIIIZI +\n",
      "(0.01379444889600391+0j) IIIIIIIZ +\n",
      "(0.09088527438140576+0j) ZZIIIIII +\n",
      "(0.013664553284207652+0j) YIZZZZYI +\n",
      "(0.013664553284207652+0j) XIZZZZXI +\n",
      "(0.01894231869971845+0j) YXXYIIII +\n",
      "(-0.01894231869971845+0j) YYXXIIII +\n",
      "(-0.01894231869971845+0j) XXYYIIII +\n",
      "(0.01894231869971845+0j) XYYXIIII +\n",
      "(0.05724315606459445+0j) YXIIXYII +\n",
      "(-0.05724315606459445+0j) YYIIXXII +\n",
      "(-0.05724315606459445+0j) XXIIYYII +\n",
      "(0.05724315606459445+0j) XYIIYXII +\n",
      "(0.013664553284207652+0j) ZYZZZZZY +\n",
      "(0.013664553284207652+0j) ZXZZZZZX +\n",
      "(0.02356531427456293+0j) YXIIIIXY +\n",
      "(-0.02356531427456293+0j) YYIIIIXX +\n",
      "(-0.02356531427456293+0j) XXIIIIYY +\n",
      "(0.02356531427456293+0j) XYIIIIYX +\n",
      "(0.04988872339990405+0j) ZIZIIIII +\n",
      "(0.006724401693978354+0j) YZIZZZYI +\n",
      "(0.006724401693978354+0j) XZIZZZXI +\n",
      "(0.0688310420996225+0j) ZIIZIIII +\n",
      "(-0.026686233009991074+0j) YZZIZZYI +\n",
      "(-0.026686233009991074+0j) XZZIZZXI +\n",
      "(0.03341063470396943+0j) YZYYZZZY +\n",
      "(0.03341063470396943+0j) YZYXZZZX +\n",
      "(0.03341063470396943+0j) XZXYZZZY +\n",
      "(0.03341063470396943+0j) XZXXZZZX +\n",
      "(0.04220509815869698+0j) ZIIIZIII +\n",
      "(-0.006910563421449691+0j) YZZZIZYI +\n",
      "(-0.006910563421449691+0j) XZZZIZXI +\n",
      "(0.09944825422329144+0j) ZIIIIZII +\n",
      "(0.027645492722679313+0j) YZZZZIYI +\n",
      "(0.027645492722679313+0j) XZZZZIXI +\n",
      "(-0.034556056144128995+0j) YZZZYYZY +\n",
      "(-0.034556056144128995+0j) YZZZYXZX +\n",
      "(-0.034556056144128995+0j) XZZZXYZY +\n",
      "(-0.034556056144128995+0j) XZZZXXZX +\n",
      "(0.053818870005657604+0j) ZIIIIIZI +\n",
      "(0.07738418428022054+0j) ZIIIIIIZ +\n",
      "(-0.012718163506993244+0j) YZZZZZYZ +\n",
      "(-0.012718163506993244+0j) XZZZZZXZ +\n",
      "(0.0688310420996225+0j) IZZIIIII +\n",
      "(-0.026686233009991074+0j) IYIZZZZY +\n",
      "(-0.026686233009991074+0j) IXIZZZZX +\n",
      "(0.03341063470396943+0j) IYXXZZYI +\n",
      "(-0.03341063470396943+0j) IYYXZZXI +\n",
      "(-0.03341063470396943+0j) IXXYZZYI +\n",
      "(0.03341063470396943+0j) IXYYZZXI +\n",
      "(0.04988872339990405+0j) IZIZIIII +\n",
      "(0.006724401693978354+0j) IYZIZZZY +\n",
      "(0.006724401693978354+0j) IXZIZZZX +\n",
      "(0.09944825422329144+0j) IZIIZIII +\n",
      "(0.027645492722679313+0j) IYZZIZZY +\n",
      "(0.027645492722679313+0j) IXZZIZZX +\n",
      "(-0.034556056144128995+0j) IYZZXXYI +\n",
      "(0.034556056144128995+0j) IYZZYXXI +\n",
      "(0.034556056144128995+0j) IXZZXYYI +\n",
      "(-0.034556056144128995+0j) IXZZYYXI +\n",
      "(0.04220509815869698+0j) IZIIIZII +\n",
      "(-0.006910563421449691+0j) IYZZZIZY +\n",
      "(-0.006910563421449691+0j) IXZZZIZX +\n",
      "(0.07738418428022054+0j) IZIIIIZI +\n",
      "(-0.012718163506993244+0j) IYZZZZIY +\n",
      "(-0.012718163506993244+0j) IXZZZZIX +\n",
      "(0.053818870005657604+0j) IZIIIIIZ +\n",
      "(0.116377031243157+0j) IIZZIIII +\n",
      "(7.081367879451695e-05+0j) IIYXXYII +\n",
      "(-7.081367879451695e-05+0j) IIYYXXII +\n",
      "(-7.081367879451695e-05+0j) IIXXYYII +\n",
      "(7.081367879451695e-05+0j) IIXYYXII +\n",
      "(0.059275761883952+0j) IIYXIIXY +\n",
      "(-0.059275761883952+0j) IIYYIIXX +\n",
      "(-0.059275761883952+0j) IIXXIIYY +\n",
      "(0.059275761883952+0j) IIXYIIYX +\n",
      "(0.053572563345858165+0j) IIZIZIII +\n",
      "(0.05364337702465269+0j) IIZIIZII +\n",
      "(0.04187474515731866+0j) IIZIIIZI +\n",
      "(0.10115050704127067+0j) IIZIIIIZ +\n",
      "(0.05364337702465269+0j) IIIZZIII +\n",
      "(0.053572563345858165+0j) IIIZIZII +\n",
      "(0.10115050704127067+0j) IIIZIIZI +\n",
      "(0.04187474515731866+0j) IIIZIIIZ +\n",
      "(0.11637703124315699+0j) IIIIZZII +\n",
      "(0.020974924519075913+0j) IIIIYXXY +\n",
      "(-0.020974924519075913+0j) IIIIYYXX +\n",
      "(-0.020974924519075913+0j) IIIIXXYY +\n",
      "(0.020974924519075913+0j) IIIIXYYX +\n",
      "(0.04955837039852577+0j) IIIIZIZI +\n",
      "(0.07053329491760169+0j) IIIIZIIZ +\n",
      "(0.07053329491760169+0j) IIIIIZZI +\n",
      "(0.04955837039852577+0j) IIIIIZIZ +\n",
      "(0.09424410336976254+0j) IIIIIIZZ\n"
     ]
    }
   ],
   "source": [
    "# Two examples are provided -- comment out as necessary\n",
    "\n",
    "# One for which Hartree-Fock identifies the correct symmetry sector...\n",
    "#geometry=[\n",
    "#    (\"O\",(0,0,0)),\n",
    "#    (\"H\",(0.952519,0,0)),\n",
    "#    (\"H\",(-0.246530058,0.9200627021,0))\n",
    "#]\n",
    "\n",
    "# ...and one for which it does not.\n",
    "geometry=[\n",
    "    ('H', (0.0,0.0,0.0)),\n",
    "    ('H', (2.45366053071732,0.0,0.0)),\n",
    "    ('H', (2.45366053071732,2.45366053071732,0.0)),\n",
    "    ('H', (0.0,2.45366053071732,0.0))\n",
    "     ]    \n",
    "    \n",
    "basis = 'sto-3g'\n",
    "multiplicity = 1\n",
    "charge = 0\n",
    "\n",
    "molecule_data = of.MolecularData(geometry, basis, multiplicity, charge)\n",
    "#molecule.load()\n",
    "\n",
    "# Run pyscf.\n",
    "molecule = ofpyscf.run_pyscf(molecule_data,\n",
    "                     run_scf=1,run_mp2=1,run_cisd=1,run_ccsd=1,run_fci=1)\n",
    "\n",
    "n_qubits    = 2*molecule.n_orbitals\n",
    "n_electrons = molecule.n_electrons\n",
    "\n",
    "ham_fermionic = of.get_fermion_operator(molecule.get_molecular_hamiltonian())\n",
    "ham_jw = of.jordan_wigner(ham_fermionic)\n",
    "\n",
    "def QubitOperator_to_dict(op, num_qubits):\n",
    "    assert(type(op) == of.QubitOperator)\n",
    "    op_dict = {}\n",
    "    term_dict = op.terms\n",
    "    terms = list(term_dict.keys())\n",
    "\n",
    "    for t in terms:    \n",
    "        letters = ['I' for i in range(num_qubits)]\n",
    "        for i in t:\n",
    "            letters[i[0]] = i[1]\n",
    "        p_string = ''.join(letters)        \n",
    "        op_dict[p_string] = term_dict[t]\n",
    "         \n",
    "    return op_dict\n",
    "\n",
    "ham_dict = QubitOperator_to_dict(ham_jw, n_qubits)\n",
    "ham = PauliwordOp(ham_dict)\n",
    "\n",
    "print('Jordan-Wigner Hamiltonian:\\n\\n', ham)"
   ]
  },
  {
   "cell_type": "markdown",
   "id": "97bd01b8",
   "metadata": {},
   "source": [
    "We are now in a position to initialize our `QubitTapering` class, which will identify a set of independent operators that generate the Hamiltonian symmetry."
   ]
  },
  {
   "cell_type": "code",
   "execution_count": 3,
   "id": "651ece02",
   "metadata": {},
   "outputs": [
    {
     "name": "stdout",
     "output_type": "stream",
     "text": [
      "We are able to taper 4 qubits from the Hamiltonian.\n",
      "\n",
      "The symmetry generators are\n",
      "\n",
      "(1+0j) ZIIZIZZI +\n",
      "(1+0j) IZIZIZIZ +\n",
      "(1+0j) IIZZIIII +\n",
      "(1+0j) IIIIZZII\n",
      "\n",
      "and are rotated onto the single-qubit Pauli operators\n",
      "\n",
      "(-1+0j) IIIIXIII +\n",
      "(-1+0j) IIXIIIII +\n",
      "(-1+0j) IXIIIIII +\n",
      "(-1+0j) XIIIIIII\n",
      "\n",
      "via a sequence of Clifford pi/2 rotations\n",
      "\n",
      "['YIIZIZZI', 'IYIZIZIZ', 'IIYZIIII', 'IIIIYZII']\n"
     ]
    }
   ],
   "source": [
    "taper_hamiltonian = QubitTapering(ham)\n",
    "\n",
    "print(f'We are able to taper {taper_hamiltonian.n_taper} qubits from the Hamiltonian.\\n')\n",
    "print('The symmetry generators are\\n')\n",
    "print(taper_hamiltonian.symmetry_generators)\n",
    "print('\\nand are rotated onto the single-qubit Pauli operators\\n')\n",
    "print(taper_hamiltonian.stabilizers.rotate_onto_single_qubit_paulis())\n",
    "print('\\nvia a sequence of Clifford pi/2 rotations\\n')\n",
    "print(taper_hamiltonian.stabilizers.stabilizer_rotations[0])"
   ]
  },
  {
   "cell_type": "markdown",
   "id": "43fff4e2",
   "metadata": {},
   "source": [
    "In order to perform the stabilizer subspace projection, we must also supply a symmetry sector or reference state. Under the Jordan-Wigner transformation, the Hartree-Fock state for our $M$-electron, $N$-orbital molecular system with charge=0 and multiplicity=1 will be \n",
    "\n",
    "$$|\\mathrm{HF}\\rangle = |\\underbrace{1 \\dots 1}_{M \\,\\text{times}}\\; \\underbrace{0 \\dots 0}_{N-M \\,\\text{times}} \\rangle.$$\n",
    "\n",
    "Note that OpenFermion fills orbital occupations from the left... this will not always be the case! For example, if using Qiskit or some other quantum computing package the Hartree-Fock state will not look the same."
   ]
  },
  {
   "cell_type": "code",
   "execution_count": 4,
   "id": "03b40998",
   "metadata": {},
   "outputs": [
    {
     "name": "stdout",
     "output_type": "stream",
     "text": [
      "The Hartree-Fock state is |11110000>\n"
     ]
    }
   ],
   "source": [
    "hf_state = np.concatenate([np.ones(n_electrons, dtype=int),np.zeros(n_qubits-n_electrons, dtype=int)])\n",
    "hf_string = ''.join([str(i) for i in hf_state])\n",
    "print(f'The Hartree-Fock state is |{hf_string}>')"
   ]
  },
  {
   "cell_type": "markdown",
   "id": "231cb454",
   "metadata": {},
   "source": [
    "The corresponding sector is obtained by measuring each symmetry generator with respect to the reference state, yielding a $\\pm1$ eigenvalue assignment."
   ]
  },
  {
   "cell_type": "code",
   "execution_count": 5,
   "id": "7244101d",
   "metadata": {},
   "outputs": [
    {
     "name": "stdout",
     "output_type": "stream",
     "text": [
      "The symmetry sector corresponding with the reference state is [1 1 1 1]\n"
     ]
    }
   ],
   "source": [
    "taper_hamiltonian.stabilizers.update_sector(hf_state)\n",
    "print(f'The symmetry sector corresponding with the reference state is {taper_hamiltonian.stabilizers.coeff_vec}')"
   ]
  },
  {
   "cell_type": "markdown",
   "id": "0a633cab",
   "metadata": {},
   "source": [
    "This is everything we need to go ahead and perform the tapering process, which is effected by the `taper_it()` method that calls on the parent `S3_projection` class."
   ]
  },
  {
   "cell_type": "code",
   "execution_count": 6,
   "id": "3d54b931",
   "metadata": {},
   "outputs": [
    {
     "name": "stdout",
     "output_type": "stream",
     "text": [
      "Tapered Hamiltonian:\n",
      "\n",
      " (-0.8483734323424035+0j) IIII +\n",
      "(0.01379444889600391+0j) IIIZ +\n",
      "(0.013794448896003828+0j) IIZI +\n",
      "(0.18512937775116828+0j) IIZZ +\n",
      "(0.07515974814194512+0j) IZII +\n",
      "(0.23881143081565404+0j) IZIZ +\n",
      "(0.23881143081565398+0j) IZZI +\n",
      "(0.07515974814194487+0j) ZIII +\n",
      "(0.28467860458057775+0j) ZIIZ +\n",
      "(0.28467860458057775+0j) ZIZI +\n",
      "(0.3220696207523369+0j) ZZII +\n",
      "(0.06459637602166592-0j) ZZIZ +\n",
      "(0.0645963760216659-0j) ZZZI +\n",
      "(0.15476836856044107+0j) ZZZZ +\n",
      "(0.026382716791200897+0j) IIIX +\n",
      "(0.014314043573277108-0j) IIZX +\n",
      "(-0.04069676061724234+0j) IZZX +\n",
      "(0.040696760617242346+0j) ZIZX +\n",
      "(-0.026382716791200897+0j) ZZIX +\n",
      "(-0.014314043573277108+0j) ZZZX +\n",
      "(-0.026382716791200897+0j) IIXI +\n",
      "(-0.014314043573277112+0j) IIXZ +\n",
      "(0.04069676061724234+0j) IZXZ +\n",
      "(-0.040696760617242346+0j) ZIXZ +\n",
      "(0.026382716791200897+0j) ZZXI +\n",
      "(0.014314043573277112-0j) ZZXZ +\n",
      "(-0.04713062854912586+0j) IIYY +\n",
      "(0.04713062854912586+0j) ZZYY +\n",
      "(-0.05724315606459445+0j) IXII +\n",
      "(-0.05724315606459445+0j) IXZZ +\n",
      "(0.05724315606459445-0j) ZXIZ +\n",
      "(0.05724315606459445+0j) ZXZI +\n",
      "(-0.034556056144128995+0j) IXIX +\n",
      "(-0.034556056144128995+0j) IYIY +\n",
      "(0.034556056144128995-0j) ZXZX +\n",
      "(0.034556056144128995-0j) ZYZY +\n",
      "(0.034556056144128995+0j) IXXI +\n",
      "(0.034556056144128995-0j) IYYI +\n",
      "(-0.034556056144128995+0j) ZXXZ +\n",
      "(-0.034556056144128995+0j) ZYYZ +\n",
      "(-0.020974924519075913+0j) IXXX +\n",
      "(0.020974924519075913-0j) IXYY +\n",
      "(-0.020974924519075913+0j) IYXY +\n",
      "(-0.020974924519075913+0j) IYYX +\n",
      "(-0.01894231869971845+0j) XIII +\n",
      "(-0.01894231869971845+0j) XIZZ +\n",
      "(0.01894231869971845-0j) XZIZ +\n",
      "(0.01894231869971845+0j) XZZI +\n",
      "(0.03341063470396943+0j) XIIX +\n",
      "(-0.03341063470396943+0j) XZZX +\n",
      "(0.03341063470396943+0j) YIIY +\n",
      "(-0.03341063470396943+0j) YZZY +\n",
      "(-0.03341063470396943+0j) XIXI +\n",
      "(0.03341063470396943-0j) XZXZ +\n",
      "(-0.03341063470396943+0j) YIYI +\n",
      "(0.03341063470396943+0j) YZYZ +\n",
      "(-0.059275761883952+0j) XIXX +\n",
      "(0.059275761883952-0j) XIYY +\n",
      "(-0.059275761883952+0j) YIXY +\n",
      "(-0.059275761883952+0j) YIYX +\n",
      "(0.0001416273575890339+0j) XXII +\n",
      "(0.0001416273575890339+0j) YYII\n"
     ]
    }
   ],
   "source": [
    "ham_tap = taper_hamiltonian.taper_it(ref_state=hf_state)\n",
    "print('Tapered Hamiltonian:\\n\\n', ham_tap)"
   ]
  },
  {
   "cell_type": "markdown",
   "id": "1971fa84",
   "metadata": {},
   "source": [
    "We should also check that the ground state energy of the tapered Hamiltonian mathces that of the full system."
   ]
  },
  {
   "cell_type": "code",
   "execution_count": 7,
   "id": "2bde8799",
   "metadata": {},
   "outputs": [
    {
     "name": "stdout",
     "output_type": "stream",
     "text": [
      "The ground state energy of the full system is -1.874310895254176,\n",
      "whereas for the tapered system we find the energy is -1.8643897202426936.\n",
      "The absolute error is 0.009921175011482486.\n"
     ]
    }
   ],
   "source": [
    "true_gs_energy, true_gs_vec = get_ground_state(ham.to_sparse_matrix)\n",
    "tap_gs_energy, tap_gs = get_ground_state(ham_tap.to_sparse_matrix)\n",
    "\n",
    "print(f'The ground state energy of the full system is {true_gs_energy},')\n",
    "print(f'whereas for the tapered system we find the energy is {tap_gs_energy}.')\n",
    "print(f'The absolute error is {tap_gs_energy-true_gs_energy}.')"
   ]
  },
  {
   "cell_type": "markdown",
   "id": "7d0ff99a",
   "metadata": {},
   "source": [
    "Do they match? Depending on the molecule chosen, they might not! One can sometimes find that the Hartree-Fock state does not yield the correct symmetry sector, particularly in the strongly correlated regime."
   ]
  },
  {
   "cell_type": "code",
   "execution_count": 8,
   "id": "1daa0bed",
   "metadata": {},
   "outputs": [
    {
     "name": "stdout",
     "output_type": "stream",
     "text": [
      "The Hartree-Fock state has no overlap with the true ground state!\n",
      "Overlap of the Hartree-Fock state with the true ground state: <HF|True GS> = 0.0000000000\n"
     ]
    }
   ],
   "source": [
    "hf_vec = np.eye(1,len(true_gs_vec),int(hf_string,2))\n",
    "hf_overlap = np.square(np.abs(hf_vec.dot(true_gs_vec)))[0]\n",
    "\n",
    "if hf_overlap < 1e-18:\n",
    "    print('The Hartree-Fock state has no overlap with the true ground state!')\n",
    "else:\n",
    "    print('The Hartree-Fock state exhibits non-zero overlap with the true ground state.')\n",
    "print(f'Overlap of the Hartree-Fock state with the true ground state: <HF|True GS> = {hf_overlap:.10f}')"
   ]
  },
  {
   "cell_type": "markdown",
   "id": "3b96e647",
   "metadata": {},
   "source": [
    "If we instead take the dominant basis state (plotted below in a histogram), we should see that the energies do match in the resulting sector..."
   ]
  },
  {
   "cell_type": "code",
   "execution_count": 9,
   "id": "a17ca852",
   "metadata": {},
   "outputs": [
    {
     "data": {
      "image/png": "[encoded data removed]",
      "text/plain": [
       "<Figure size 432x288 with 1 Axes>"
      ]
     },
     "metadata": {
      "needs_background": "light"
     },
     "output_type": "display_data"
    },
    {
     "name": "stdout",
     "output_type": "stream",
     "text": [
      "In the sector [ 1  1 -1 -1], we find the ground state energy to be -1.8743108952541734.\n",
      "The absolute error is 2.6645352591003757e-15.\n"
     ]
    }
   ],
   "source": [
    "amps = plot_ground_state_amplitudes(true_gs_energy,true_gs_vec, n_qubits, return_amps=True)\n",
    "new_ref_state = [int(i) for i in amps[0][0]]\n",
    "ham_tap_2 = taper_hamiltonian.taper_it(ref_state=new_ref_state)\n",
    "tap_gs_energy_2, tap_gs_2 = get_ground_state(ham_tap_2.to_sparse_matrix)\n",
    "\n",
    "print(f'In the sector {taper_hamiltonian.stabilizers.coeff_vec}, we find the ground state energy to be {tap_gs_energy_2}.')\n",
    "print(f'The absolute error is {tap_gs_energy_2-true_gs_energy}.')"
   ]
  },
  {
   "cell_type": "markdown",
   "id": "6adcb2af",
   "metadata": {},
   "source": [
    "*The problem is...* \n",
    "\n",
    "we will not in general know how the basis states are distributed in the ground state!\n",
    "\n",
    "The scalability of tapering is highly predicated on finding new approaches to identifying the correct symmetry sector."
   ]
  }
 ],
 "metadata": {
  "kernelspec": {
   "display_name": "Python 3 (ipykernel)",
   "language": "python",
   "name": "python3"
  },
  "language_info": {
   "codemirror_mode": {
    "name": "ipython",
    "version": 3
   },
   "file_extension": ".py",
   "mimetype": "text/x-python",
   "name": "python",
   "nbconvert_exporter": "python",
   "pygments_lexer": "ipython3",
   "version": "3.8.8"
  }
 },
 "nbformat": 4,
 "nbformat_minor": 5
}
