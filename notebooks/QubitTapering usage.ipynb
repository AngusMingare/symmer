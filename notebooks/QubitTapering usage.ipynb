{
 "cells": [
  {
   "cell_type": "markdown",
   "id": "3c896a51",
   "metadata": {},
   "source": [
    "# Qubit Tapering \n",
    "### in the Stabilizer Subspace Projection formalism\n",
    "Here, we take a look at the qubit reduction technique of [tapering](https://arxiv.org/abs/1701.08213) and an implementation based on the core `S3_projection` class. Unlike [Contextual-Subspace VQE](https://doi.org/10.22331/q-2021-05-14-456), this technique is *exact*, in the sense that it perfectly preserves the energy spectrum of the input operator.\n",
    "\n",
    "At the core of qubit tapering is a symmetry of the Hamiltonian, which in this case means a set of universally commuting operators. The idea is that these operators must be simultaneously measureable and so can be treated independently of the remaining Hamiltonian terms. The method works by finding an independent generating set for the symmetry and seeks to find the 'correct' assignment of eigenvalues (called a *sector*), which completely determines the measurement outcome of the symmetry operators. Once this is obtained, the theory of stabilizers allows us to rotate the symmetry generators onto single Pauli $X$ operators, and since they must commute universally every operator of the rotated Hamiltonian will consist of an identity or Pauli $X$ in the corresponding qubit position. This means we can drop the qubit from the Hamiltonian, leaving in its place the eigenvalue determined by the chosen sector."
   ]
  },
  {
   "cell_type": "code",
   "execution_count": 1,
   "id": "21770fd0",
   "metadata": {},
   "outputs": [],
   "source": [
    "from symmer.symplectic import PauliwordOp, array_to_QuantumState\n",
    "from symmer.projection import QubitTapering\n",
    "from symmer.chemistry  import MoleculeBuilder, exact_gs_energy\n",
    "import numpy as np\n",
    "from matplotlib import pyplot as plt"
   ]
  },
  {
   "cell_type": "markdown",
   "id": "80ab8291",
   "metadata": {},
   "source": [
    "First, we shall construct a molecule using OpenFermion with PySCF the underlying quantum chemistry package. The resulting fermionic operator will be mapped onto qubits via the Jordan-Wigner transformation."
   ]
  },
  {
   "cell_type": "code",
   "execution_count": 18,
   "id": "67641e92",
   "metadata": {},
   "outputs": [
    {
     "name": "stdout",
     "output_type": "stream",
     "text": [
      "Molecule geometry:\n",
      "H\t0.0\t0.0\t0.0\n",
      "H\t2.45366053071732\t0.0\t0.0\n",
      "H\t2.45366053071732\t2.45366053071732\t0.0\n",
      "H\t0.0\t2.45366053071732\t0.0\n",
      "\n",
      "HF converged?   True\n",
      "CCSD converged? True\n",
      "FCI converged?  True\n",
      "\n",
      "HF energy:   -1.3334202453959\n",
      "MP2 energy:  -1.6160819607762897\n",
      "CCSD energy: -1.8261563135822825\n",
      "FCI energy:  -1.874310895254179\n",
      "\n",
      "\n",
      "Number of qubits: 8\n"
     ]
    }
   ],
   "source": [
    "# Two examples are provided -- comment out as necessary\n",
    "\n",
    "# One for which Hartree-Fock identifies the correct symmetry sector...\n",
    "#geometry=[\n",
    "#    (\"O\",(0,0,0)),\n",
    "#    (\"H\",(0.952519,0,0)),\n",
    "#    (\"H\",(-0.246530058,0.9200627021,0))\n",
    "#]\n",
    "\n",
    "# ...and one for which it does not.\n",
    "geometry=[\n",
    "    ('H', (0.0,0.0,0.0)),\n",
    "    ('H', (2.45366053071732,0.0,0.0)),\n",
    "    ('H', (2.45366053071732,2.45366053071732,0.0)),\n",
    "    ('H', (0.0,2.45366053071732,0.0))\n",
    "     ]    \n",
    "    \n",
    "basis = 'sto-3g'\n",
    "multiplicity = 1\n",
    "charge = 0\n",
    "\n",
    "molecule = MoleculeBuilder(geometry=geometry, charge=charge, basis=basis, spin=0, run_fci=True, print_info=True)"
   ]
  },
  {
   "cell_type": "code",
   "execution_count": 19,
   "id": "305eef63",
   "metadata": {},
   "outputs": [
    {
     "name": "stdout",
     "output_type": "stream",
     "text": [
      "Jordan-Wigner Hamiltonian:\n",
      "\n",
      "-1.081+0.000j IIIIIIII +\n",
      " 0.065+0.000j ZIIIIIII +\n",
      "-0.014+0.000j YZZZZZYI +\n",
      "-0.014+0.000j XZZZZZXI +\n",
      " 0.065+0.000j IZIIIIII +\n",
      "-0.014+0.000j IYZZZZZY +\n",
      "-0.014+0.000j IXZZZZZX +\n",
      " 0.038+0.000j IIZIIIII +\n",
      " 0.038+0.000j IIIZIIII +\n",
      " 0.038+0.000j IIIIZIII +\n",
      " 0.038+0.000j IIIIIZII +\n",
      " 0.014+0.000j IIIIIIZI +\n",
      " 0.014+0.000j IIIIIIIZ +\n",
      " 0.091+0.000j ZZIIIIII +\n",
      " 0.014+0.000j YIZZZZYI +\n",
      " 0.014+0.000j XIZZZZXI +\n",
      " 0.019+0.000j YXXYIIII +\n",
      "-0.019+0.000j YYXXIIII +\n",
      "-0.019+0.000j XXYYIIII +\n",
      " 0.019+0.000j XYYXIIII +\n",
      " 0.057+0.000j YXIIXYII +\n",
      "-0.057+0.000j YYIIXXII +\n",
      "-0.057+0.000j XXIIYYII +\n",
      " 0.057+0.000j XYIIYXII +\n",
      " 0.014+0.000j ZYZZZZZY +\n",
      " 0.014+0.000j ZXZZZZZX +\n",
      " 0.024+0.000j YXIIIIXY +\n",
      "-0.024+0.000j YYIIIIXX +\n",
      "-0.024+0.000j XXIIIIYY +\n",
      " 0.024+0.000j XYIIIIYX +\n",
      " 0.050+0.000j ZIZIIIII +\n",
      " 0.007+0.000j YZIZZZYI +\n",
      " 0.007+0.000j XZIZZZXI +\n",
      " 0.069+0.000j ZIIZIIII +\n",
      "-0.027+0.000j YZZIZZYI +\n",
      "-0.027+0.000j XZZIZZXI +\n",
      " 0.033+0.000j YZYYZZZY +\n",
      " 0.033+0.000j YZYXZZZX +\n",
      " 0.033+0.000j XZXYZZZY +\n",
      " 0.033+0.000j XZXXZZZX +\n",
      " 0.042+0.000j ZIIIZIII +\n",
      "-0.007+0.000j YZZZIZYI +\n",
      "-0.007+0.000j XZZZIZXI +\n",
      " 0.099+0.000j ZIIIIZII +\n",
      " 0.028+0.000j YZZZZIYI +\n",
      " 0.028+0.000j XZZZZIXI +\n",
      "-0.035+0.000j YZZZYYZY +\n",
      "-0.035+0.000j YZZZYXZX +\n",
      "-0.035+0.000j XZZZXYZY +\n",
      "-0.035+0.000j XZZZXXZX +\n",
      " 0.054+0.000j ZIIIIIZI +\n",
      " 0.077+0.000j ZIIIIIIZ +\n",
      "-0.013+0.000j YZZZZZYZ +\n",
      "-0.013+0.000j XZZZZZXZ +\n",
      " 0.069+0.000j IZZIIIII +\n",
      "-0.027+0.000j IYIZZZZY +\n",
      "-0.027+0.000j IXIZZZZX +\n",
      " 0.033+0.000j IYXXZZYI +\n",
      "-0.033+0.000j IYYXZZXI +\n",
      "-0.033+0.000j IXXYZZYI +\n",
      " 0.033+0.000j IXYYZZXI +\n",
      " 0.050+0.000j IZIZIIII +\n",
      " 0.007+0.000j IYZIZZZY +\n",
      " 0.007+0.000j IXZIZZZX +\n",
      " 0.099+0.000j IZIIZIII +\n",
      " 0.028+0.000j IYZZIZZY +\n",
      " 0.028+0.000j IXZZIZZX +\n",
      "-0.035+0.000j IYZZXXYI +\n",
      " 0.035+0.000j IYZZYXXI +\n",
      " 0.035+0.000j IXZZXYYI +\n",
      "-0.035+0.000j IXZZYYXI +\n",
      " 0.042+0.000j IZIIIZII +\n",
      "-0.007+0.000j IYZZZIZY +\n",
      "-0.007+0.000j IXZZZIZX +\n",
      " 0.077+0.000j IZIIIIZI +\n",
      "-0.013+0.000j IYZZZZIY +\n",
      "-0.013+0.000j IXZZZZIX +\n",
      " 0.054+0.000j IZIIIIIZ +\n",
      " 0.116+0.000j IIZZIIII +\n",
      " 0.000+0.000j IIYXXYII +\n",
      "-0.000+0.000j IIYYXXII +\n",
      "-0.000+0.000j IIXXYYII +\n",
      " 0.000+0.000j IIXYYXII +\n",
      " 0.059+0.000j IIYXIIXY +\n",
      "-0.059+0.000j IIYYIIXX +\n",
      "-0.059+0.000j IIXXIIYY +\n",
      " 0.059+0.000j IIXYIIYX +\n",
      " 0.054+0.000j IIZIZIII +\n",
      " 0.054+0.000j IIZIIZII +\n",
      " 0.042+0.000j IIZIIIZI +\n",
      " 0.101+0.000j IIZIIIIZ +\n",
      " 0.054+0.000j IIIZZIII +\n",
      " 0.054+0.000j IIIZIZII +\n",
      " 0.101+0.000j IIIZIIZI +\n",
      " 0.042+0.000j IIIZIIIZ +\n",
      " 0.116+0.000j IIIIZZII +\n",
      " 0.021+0.000j IIIIYXXY +\n",
      "-0.021+0.000j IIIIYYXX +\n",
      "-0.021+0.000j IIIIXXYY +\n",
      " 0.021+0.000j IIIIXYYX +\n",
      " 0.050+0.000j IIIIZIZI +\n",
      " 0.071+0.000j IIIIZIIZ +\n",
      " 0.071+0.000j IIIIIZZI +\n",
      " 0.050+0.000j IIIIIZIZ +\n",
      " 0.094+0.000j IIIIIIZZ\n"
     ]
    }
   ],
   "source": [
    "print('Jordan-Wigner Hamiltonian:\\n')\n",
    "print(molecule.H_q)"
   ]
  },
  {
   "cell_type": "markdown",
   "id": "97bd01b8",
   "metadata": {},
   "source": [
    "We are now in a position to initialize our `QubitTapering` class, which will identify a set of independent operators $\\mathcal{S}$ that generate the Hamiltonian symmetry. Since the set is independent, there will exist a Clifford rotation $U$ mapping the elements $S \\in \\mathcal{S}$ to single-qubit Pauli operators, i.e. $USU^* = \\sigma_p^{(i)}$ for some qubit position $i$ and $p \\in \\{1,2,3\\}$ corresponding with Pauli $\\{X,Y,Z\\}$ operators; this observation that each Hamiltonian symmetry contributes a qubits-worth degree of freedom is at the core of Qubit Tapering. Since $S$ commutes with each term of $H$ by definition, the single-qubit Pauli $\\sigma_p^{(i)}$ must commute with the rotated Hamiltonian $UHU^*$, meaning each term therein must consist either of identity or $\\sigma_p$ in the qubit position indexed by $i$. As such, the qubit may be dropped from the Hamiltonian, leaving in its place a $\\pm1$ eigenvalue. In our implementation, the above Clifford rotation is constructed as a sequence of $\\frac{\\pi}{2}$ rotations $U_k = e^{i \\frac{\\pi}{4} R_k}$, yielding $U = \\prod_{k=1}^{|\\mathcal{S}|} U_k$. See below for this example:"
   ]
  },
  {
   "cell_type": "code",
   "execution_count": 20,
   "id": "651ece02",
   "metadata": {},
   "outputs": [
    {
     "name": "stdout",
     "output_type": "stream",
     "text": [
      "We are able to taper 4 qubits from the Hamiltonian.\n",
      "\n",
      "The symmetry generators are\n",
      "\n",
      " 1 ZIIZIZZI \n",
      " 1 IZIZIZIZ \n",
      " 1 IIZZIIII \n",
      " 1 IIIIZZII\n",
      "\n",
      "and may be rotated onto the single-qubit Pauli operators\n",
      "\n",
      "-1 IIIIXIII \n",
      "-1 IIXIIIII \n",
      "-1 IXIIIIII \n",
      "-1 XIIIIIII\n",
      "\n",
      "via a sequence of rotations e^{i pi/4 R} where\n",
      "\n",
      "R_0 =  1.000+0.000j IIYZIIII\n",
      "R_1 =  1.000+0.000j IIIIYZII\n",
      "R_2 =  1.000+0.000j IYIZIZIZ\n",
      "R_3 =  1.000+0.000j YIIZIZZI\n"
     ]
    }
   ],
   "source": [
    "taper_hamiltonian = QubitTapering(molecule.H_q)\n",
    "\n",
    "print(f'We are able to taper {taper_hamiltonian.n_taper} qubits from the Hamiltonian.\\n')\n",
    "print('The symmetry generators are\\n')\n",
    "print(taper_hamiltonian.symmetry_generators)\n",
    "print('\\nand may be rotated onto the single-qubit Pauli operators\\n')\n",
    "print(taper_hamiltonian.stabilizers.rotate_onto_single_qubit_paulis())\n",
    "print('\\nvia a sequence of rotations e^{i pi/4 R} where\\n')\n",
    "for index, (rot, angle) in enumerate(taper_hamiltonian.stabilizers.stabilizer_rotations):\n",
    "    print(f'R_{index} = {rot}')"
   ]
  },
  {
   "cell_type": "markdown",
   "id": "43fff4e2",
   "metadata": {},
   "source": [
    "In order to perform the stabilizer subspace projection, we must also supply a symmetry sector or reference state. Under the Jordan-Wigner transformation, the Hartree-Fock state for our $M$-electron, $N$-orbital molecular system with charge=0 and multiplicity=1 will be \n",
    "\n",
    "$$|\\mathrm{HF}\\rangle = |\\underbrace{1 \\dots 1}_{M \\,\\text{times}}\\; \\underbrace{0 \\dots 0}_{N-M \\,\\text{times}} \\rangle.$$\n",
    "\n",
    "Note that OpenFermion fills orbital occupations from the left... this will not always be the case! For example, if using Qiskit or some other quantum computing package the Hartree-Fock state will not look the same."
   ]
  },
  {
   "cell_type": "code",
   "execution_count": 21,
   "id": "03b40998",
   "metadata": {},
   "outputs": [
    {
     "name": "stdout",
     "output_type": "stream",
     "text": [
      "The Hartree-Fock state is |11110000>\n"
     ]
    }
   ],
   "source": [
    "hf_string = ''.join([str(i) for i in molecule.hf_array])\n",
    "print(f'The Hartree-Fock state is |{hf_string}>')"
   ]
  },
  {
   "cell_type": "markdown",
   "id": "231cb454",
   "metadata": {},
   "source": [
    "The corresponding sector is obtained by measuring each symmetry generator with respect to the reference state, yielding a $\\pm1$ eigenvalue assignment."
   ]
  },
  {
   "cell_type": "code",
   "execution_count": 22,
   "id": "7244101d",
   "metadata": {},
   "outputs": [
    {
     "name": "stdout",
     "output_type": "stream",
     "text": [
      "The symmetry sector corresponding with the reference state is [1 1 1 1]\n"
     ]
    }
   ],
   "source": [
    "taper_hamiltonian.stabilizers.update_sector(molecule.hf_array)\n",
    "print(f'The symmetry sector corresponding with the reference state is {taper_hamiltonian.stabilizers.coeff_vec}')"
   ]
  },
  {
   "cell_type": "markdown",
   "id": "0a633cab",
   "metadata": {},
   "source": [
    "This is everything we need to go ahead and perform the tapering process, which is effected by the `taper_it()` method that calls on the parent `S3_projection` class."
   ]
  },
  {
   "cell_type": "code",
   "execution_count": 23,
   "id": "3d54b931",
   "metadata": {},
   "outputs": [
    {
     "name": "stdout",
     "output_type": "stream",
     "text": [
      "Tapered Hamiltonian:\n",
      "\n",
      "-0.848+0.000j IIII +\n",
      " 0.014+0.000j IIIZ +\n",
      " 0.014+0.000j IIZI +\n",
      " 0.185+0.000j IIZZ +\n",
      " 0.075+0.000j IZII +\n",
      " 0.239+0.000j IZIZ +\n",
      " 0.239+0.000j IZZI +\n",
      " 0.075+0.000j ZIII +\n",
      " 0.285+0.000j ZIIZ +\n",
      " 0.285+0.000j ZIZI +\n",
      " 0.322+0.000j ZZII +\n",
      " 0.065-0.000j ZZIZ +\n",
      " 0.065-0.000j ZZZI +\n",
      " 0.155+0.000j ZZZZ +\n",
      " 0.026+0.000j IIIX +\n",
      " 0.014-0.000j IIZX +\n",
      "-0.041+0.000j IZZX +\n",
      " 0.041+0.000j ZIZX +\n",
      "-0.026+0.000j ZZIX +\n",
      "-0.014+0.000j ZZZX +\n",
      "-0.026+0.000j IIXI +\n",
      "-0.014+0.000j IIXZ +\n",
      " 0.041+0.000j IZXZ +\n",
      "-0.041+0.000j ZIXZ +\n",
      " 0.026+0.000j ZZXI +\n",
      " 0.014+0.000j ZZXZ +\n",
      "-0.047+0.000j IIYY +\n",
      " 0.047+0.000j ZZYY +\n",
      "-0.057+0.000j IXII +\n",
      "-0.057+0.000j IXZZ +\n",
      " 0.057-0.000j ZXIZ +\n",
      " 0.057+0.000j ZXZI +\n",
      "-0.035+0.000j IXIX +\n",
      "-0.035+0.000j IYIY +\n",
      " 0.035+0.000j ZXZX +\n",
      " 0.035+0.000j ZYZY +\n",
      " 0.035+0.000j IXXI +\n",
      " 0.035-0.000j IYYI +\n",
      "-0.035+0.000j ZXXZ +\n",
      "-0.035+0.000j ZYYZ +\n",
      "-0.021+0.000j IXXX +\n",
      " 0.021-0.000j IXYY +\n",
      "-0.021+0.000j IYXY +\n",
      "-0.021+0.000j IYYX +\n",
      "-0.019+0.000j XIII +\n",
      "-0.019+0.000j XIZZ +\n",
      " 0.019-0.000j XZIZ +\n",
      " 0.019+0.000j XZZI +\n",
      " 0.033+0.000j XIIX +\n",
      "-0.033+0.000j XZZX +\n",
      " 0.033+0.000j YIIY +\n",
      "-0.033+0.000j YZZY +\n",
      "-0.033+0.000j XIXI +\n",
      " 0.033-0.000j XZXZ +\n",
      "-0.033+0.000j YIYI +\n",
      " 0.033+0.000j YZYZ +\n",
      "-0.059+0.000j XIXX +\n",
      " 0.059-0.000j XIYY +\n",
      "-0.059+0.000j YIXY +\n",
      "-0.059+0.000j YIYX +\n",
      " 0.000+0.000j XXII +\n",
      " 0.000+0.000j YYII\n"
     ]
    }
   ],
   "source": [
    "ham_tap = taper_hamiltonian.taper_it(ref_state=molecule.hf_array)\n",
    "print('Tapered Hamiltonian:\\n')\n",
    "print(ham_tap)"
   ]
  },
  {
   "cell_type": "markdown",
   "id": "1971fa84",
   "metadata": {},
   "source": [
    "We should also check that the ground state energy of the tapered Hamiltonian mathces that of the full system."
   ]
  },
  {
   "cell_type": "code",
   "execution_count": 24,
   "id": "2bde8799",
   "metadata": {},
   "outputs": [
    {
     "name": "stdout",
     "output_type": "stream",
     "text": [
      "The ground state energy of the full system is -1.87431089525418,\n",
      "whereas for the tapered system we find the energy is -1.8643897202426936.\n",
      "The absolute error is 0.009921175011486483.\n"
     ]
    }
   ],
   "source": [
    "true_gs_energy, true_gs_vec = exact_gs_energy(molecule.H_q.to_sparse_matrix)\n",
    "tapr_gs_energy, tapr_gs_vec = exact_gs_energy(ham_tap.to_sparse_matrix)\n",
    "\n",
    "print(f'The ground state energy of the full system is {true_gs_energy},')\n",
    "print(f'whereas for the tapered system we find the energy is {tapr_gs_energy}.')\n",
    "print(f'The absolute error is {tapr_gs_energy-true_gs_energy}.')"
   ]
  },
  {
   "cell_type": "markdown",
   "id": "7d0ff99a",
   "metadata": {},
   "source": [
    "Do they match? Depending on the molecule chosen, they might not! One can sometimes find that the Hartree-Fock state does not yield the correct symmetry sector, particularly in the strongly correlated regime."
   ]
  },
  {
   "cell_type": "code",
   "execution_count": 26,
   "id": "1daa0bed",
   "metadata": {},
   "outputs": [
    {
     "name": "stdout",
     "output_type": "stream",
     "text": [
      "The Hartree-Fock state has no overlap with the true ground state!\n",
      "Overlap of the Hartree-Fock state with the true ground state: <HF|True GS> = 0.0000000000\n"
     ]
    }
   ],
   "source": [
    "hf_vec = np.eye(1,len(true_gs_vec),int(hf_string,2))\n",
    "hf_overlap = np.square(np.abs(hf_vec.dot(true_gs_vec)))[0]\n",
    "\n",
    "if hf_overlap < 1e-18:\n",
    "    print('The Hartree-Fock state has no overlap with the true ground state!')\n",
    "else:\n",
    "    print('The Hartree-Fock state exhibits non-zero overlap with the true ground state.')\n",
    "print(f'Overlap of the Hartree-Fock state with the true ground state: <HF|True GS> = {hf_overlap:.10f}')"
   ]
  },
  {
   "cell_type": "markdown",
   "id": "3b96e647",
   "metadata": {},
   "source": [
    "If we instead take the dominant basis state in the true ground state, we should see that the energies do match in the resulting sector..."
   ]
  },
  {
   "cell_type": "code",
   "execution_count": 27,
   "id": "a17ca852",
   "metadata": {},
   "outputs": [
    {
     "name": "stdout",
     "output_type": "stream",
     "text": [
      "The true ground state is:\n",
      "\n",
      " 0.460+0.007j |11100100> +\n",
      "-0.460-0.007j |11011000> +\n",
      "-0.350-0.005j |01100110> +\n",
      "-0.350-0.005j |10011001> +\n",
      "-0.287-0.004j |00100111> +\n",
      " 0.287+0.004j |00011011> +\n",
      " 0.280+0.004j |10010110> +\n",
      " 0.280+0.004j |01101001> +\n",
      " 0.070+0.001j |01011010> +\n",
      " 0.070+0.001j |10100101>\n",
      "\n",
      "Taking the dominant amplitude  0.460+0.007j |11100100> for sector selection...\n",
      "we obtain the sector [ 1  1 -1 -1], in which the ground state energy is -1.8743108952541774.\n",
      "The absolute error is 2.6645352591003757e-15.\n"
     ]
    }
   ],
   "source": [
    "gs_psi = array_to_QuantumState(true_gs_vec).cleanup(zero_threshold=1e-5).sort()\n",
    "print('The true ground state is:\\n')\n",
    "print(gs_psi); print()\n",
    "print(f'Taking the dominant amplitude {gs_psi[0]} for sector selection...')\n",
    "\n",
    "ham_tap_2 = taper_hamiltonian.taper_it(ref_state=gs_psi.state_matrix[0])\n",
    "tap_gs_energy_2, tap_gs_2 = exact_gs_energy(ham_tap_2.to_sparse_matrix)\n",
    "\n",
    "print(f'we obtain the sector {taper_hamiltonian.stabilizers.coeff_vec}, in which the ground state energy is {tap_gs_energy_2}.')\n",
    "print(f'The absolute error is {tap_gs_energy_2-true_gs_energy}.')"
   ]
  },
  {
   "cell_type": "markdown",
   "id": "6adcb2af",
   "metadata": {},
   "source": [
    "*The problem is...* \n",
    "\n",
    "we will not in general know how the basis states are distributed in the ground state!\n",
    "\n",
    "The scalability of tapering is highly predicated on finding new approaches to identifying the correct symmetry sector."
   ]
  }
 ],
 "metadata": {
  "kernelspec": {
   "display_name": "Python 3 (ipykernel)",
   "language": "python",
   "name": "python3"
  },
  "language_info": {
   "codemirror_mode": {
    "name": "ipython",
    "version": 3
   },
   "file_extension": ".py",
   "mimetype": "text/x-python",
   "name": "python",
   "nbconvert_exporter": "python",
   "pygments_lexer": "ipython3",
   "version": "3.8.8"
  }
 },
 "nbformat": 4,
 "nbformat_minor": 5
}
