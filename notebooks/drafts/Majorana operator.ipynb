{
 "cells": [
  {
   "cell_type": "markdown",
   "id": "1f026262",
   "metadata": {},
   "source": [
    "# Majorana Operator "
   ]
  },
  {
   "cell_type": "code",
   "execution_count": 1,
   "id": "14a1e41c",
   "metadata": {},
   "outputs": [],
   "source": [
    "from symmer.symplectic import MajoranaOp\n",
    "import numpy as np"
   ]
  },
  {
   "cell_type": "markdown",
   "id": "e0ca9efd",
   "metadata": {},
   "source": [
    "# notes:\n",
    "\n",
    "https://arxiv.org/pdf/2101.09349.pdf (pg11)\n",
    "\n",
    "https://arxiv.org/abs/2110.10280"
   ]
  },
  {
   "cell_type": "code",
   "execution_count": null,
   "id": "79283105",
   "metadata": {},
   "outputs": [],
   "source": []
  },
  {
   "cell_type": "markdown",
   "id": "28cf77c9",
   "metadata": {},
   "source": [
    "The Majorana operators {γ0, γ1, . . . , γm−1}, for m even, are linear Hermitian operators acting on the\n",
    "fermionic Fock space \n",
    "\n",
    "$$H_{m/2} = \\{ |b\\rangle : b ∈ F_{2}^{m/2} \\}$$\n",
    "\n",
    "or equivalently the $m/2$-qubit complex Hilbert space satisfying $\\forall 0 \\leq i < j \\leq m-1$:\n",
    "\n",
    "1. $\\gamma_{i}^{2} = \\mathcal{I}$ - self inverse!\n",
    "2. $\\gamma_{i}\\gamma_{j} = -\\gamma_{j}\\gamma_{i}$ - anti-commute!\n"
   ]
  },
  {
   "cell_type": "code",
   "execution_count": null,
   "id": "adc02984",
   "metadata": {},
   "outputs": [],
   "source": []
  },
  {
   "cell_type": "markdown",
   "id": "36e876db",
   "metadata": {},
   "source": [
    "These M single-mode operators generate a basis (up to phase factors) for the full algebra of Majorana operators via arbitrary products (https://arxiv.org/pdf/1908.08067.pdf pg9), (https://arxiv.org/pdf/1908.08067.pdf) and more importantly (https://arxiv.org/pdf/2102.00620.pdf):\n",
    "\n",
    "$$\\gamma_{A} = i^{\\lfloor\\frac{|\\gamma_{A}|}{2}\\rfloor}\\prod_{k \\in A}^{M-1} \\gamma_{k}$$\n",
    "\n",
    "where $A \\subseteq \\{0,1,...,M-1 \\} $ and represents the \"support\" of $\\gamma_{A}$. We write this as $|A|$ where is the hamming weight of $\\gamma_{A}$.\n",
    "\n",
    "Note: phase factor not included in https://arxiv.org/pdf/1908.08067.pdf, but is in https://arxiv.org/pdf/2102.00620.pdf!"
   ]
  },
  {
   "cell_type": "code",
   "execution_count": null,
   "id": "56a23de7",
   "metadata": {},
   "outputs": [],
   "source": []
  },
  {
   "cell_type": "markdown",
   "id": "42da76a6",
   "metadata": {},
   "source": [
    "`MajoranaOp` class stores Majorana operator as a symplectic array and vector of coefficients.\n",
    "\n",
    "rows of symplectic array give an individual operator and associated coefficient in coeff vec gives coefficient (that will **by default have phase factor included in it**!)\n",
    "\n",
    "therefore symplectic matrix is size $N \\times M$ for $N$ terms and $M$ majorana sites (for $M/2$ fermionic sites)"
   ]
  },
  {
   "cell_type": "code",
   "execution_count": null,
   "id": "76b64e35",
   "metadata": {},
   "outputs": [],
   "source": []
  },
  {
   "cell_type": "code",
   "execution_count": null,
   "id": "5bb41d60",
   "metadata": {},
   "outputs": [],
   "source": []
  },
  {
   "cell_type": "code",
   "execution_count": 2,
   "id": "abd841f5",
   "metadata": {},
   "outputs": [
    {
     "name": "stdout",
     "output_type": "stream",
     "text": [
      "1j γ0 γ3 γ5\n"
     ]
    }
   ],
   "source": [
    "# Class defaults to calculate phase factors when initalized, as so:\n",
    "\n",
    "y1_y2_y3_y4 = [[0,3,5]]\n",
    "coeff = [1]\n",
    "Maj_with_phase = MajoranaOp.from_list(y1_y2_y3_y4, coeff, phase_factors_included=False) \n",
    "print(Maj_with_phase)\n"
   ]
  },
  {
   "cell_type": "code",
   "execution_count": 3,
   "id": "7882b39d",
   "metadata": {},
   "outputs": [
    {
     "name": "stdout",
     "output_type": "stream",
     "text": [
      "(1+0j) γ0 γ3 γ5\n"
     ]
    }
   ],
   "source": [
    "# can override so that phase has already been included\n",
    "Maj_withOUT_phase = MajoranaOp.from_list(y1_y2_y3_y4, coeff, phase_factors_included=True) \n",
    "print(Maj_withOUT_phase)\n",
    "\n",
    "# note internal functions of class use this method when multiplying and adding Majorana operators!"
   ]
  },
  {
   "cell_type": "code",
   "execution_count": null,
   "id": "fd884be2",
   "metadata": {},
   "outputs": [],
   "source": []
  },
  {
   "cell_type": "markdown",
   "id": "4e739642",
   "metadata": {},
   "source": [
    "# NOTE order matters!\n",
    "\n",
    "changing order of majorana operators generates a sign:\n",
    "\n",
    "$$\\gamma_{i}\\gamma_{j} = -\\gamma_{j}\\gamma_{i}$$\n",
    "\n",
    "`MajoranaOp` orders the majorana operators by increase index (normal order) therefore if not in normal order form a re-ordering is done, where sign is kept track of\n",
    "\n",
    "- code uses bubble sort to count number of times order change happens (generating a -1 sign each time)\n"
   ]
  },
  {
   "cell_type": "code",
   "execution_count": 4,
   "id": "d0f08ebb",
   "metadata": {},
   "outputs": [
    {
     "name": "stdout",
     "output_type": "stream",
     "text": [
      "1j γ3 γ4\n",
      "(-0-1j) γ3 γ4\n"
     ]
    }
   ],
   "source": [
    "ops = [\n",
    "            [4,3]# op1\n",
    "           ]\n",
    "\n",
    "Maj = MajoranaOp.from_list([ops[0][::-1]], [1])\n",
    "print(Maj)\n",
    "\n",
    "Maj_flipped = MajoranaOp.from_list(ops, [1])\n",
    "print(Maj_flipped)\n",
    "# order flipped! generating a sign!"
   ]
  },
  {
   "cell_type": "code",
   "execution_count": 5,
   "id": "3503e556",
   "metadata": {},
   "outputs": [
    {
     "data": {
      "text/plain": [
       "1j γ3 γ4"
      ]
     },
     "execution_count": 5,
     "metadata": {},
     "output_type": "execute_result"
    }
   ],
   "source": [
    "Maj"
   ]
  },
  {
   "cell_type": "markdown",
   "id": "03551f4b",
   "metadata": {},
   "source": [
    "# Hermitian and unitarity"
   ]
  },
  {
   "cell_type": "code",
   "execution_count": 88,
   "id": "bd1b2e6b",
   "metadata": {},
   "outputs": [
    {
     "name": "stdout",
     "output_type": "stream",
     "text": [
      "1j γ1 γ2 γ3 γ4 γ12\n",
      "self inverse (up to sign) check: (-1+0j) I\n",
      "unitary check: (1+0j) I\n"
     ]
    }
   ],
   "source": [
    "operators = [\n",
    "#             [1,2,3,4,5,7], # op1\n",
    "            [1,2,3,4,12]\n",
    "           ]\n",
    "coeffs = [1j]\n",
    "Maj = MajoranaOp.from_list(operators, coeffs, phase_factors_included=True)\n",
    "print(Maj)\n",
    "\n",
    "# unitary!\n",
    "print('self inverse (up to sign) check:', Maj*Maj)\n",
    "\n",
    "# unitary check!\n",
    "print('unitary check:', Maj * Maj.conjugate)\n",
    "\n",
    "# note if majorana op has complex phase in coefficient, \n",
    "# then hermitian check will return False, as phase sign is flipped"
   ]
  },
  {
   "cell_type": "code",
   "execution_count": null,
   "id": "dd079b60",
   "metadata": {},
   "outputs": [],
   "source": []
  },
  {
   "cell_type": "code",
   "execution_count": 82,
   "id": "34357a9f",
   "metadata": {},
   "outputs": [
    {
     "data": {
      "text/plain": [
       "True"
      ]
     },
     "execution_count": 82,
     "metadata": {},
     "output_type": "execute_result"
    }
   ],
   "source": [
    "from openfermion import MajoranaOperator, hermitian_conjugated, QubitOperator, jordan_wigner\n",
    "terms = [1,2,3,4,5]\n",
    "Q = MajoranaOperator(term=tuple(terms)) *1\n",
    "m1 = jordan_wigner(Q)\n",
    "m2 = hermitian_conjugated(m1)\n",
    "\n",
    "D = MajoranaOperator(term=tuple(terms[::-1])) *1\n",
    "jordan_wigner(D) == m2"
   ]
  },
  {
   "cell_type": "code",
   "execution_count": 50,
   "id": "5ef5fb81",
   "metadata": {},
   "outputs": [
    {
     "data": {
      "text/plain": [
       "MajoranaOperator.from_dict(terms={(): -1.0})"
      ]
     },
     "execution_count": 50,
     "metadata": {},
     "output_type": "execute_result"
    }
   ],
   "source": [
    "from openfermion import MajoranaOperator, hermitian_conjugated\n",
    "\n",
    "test = MajoranaOperator(term=(1,2,3)) *1\n",
    "test * test"
   ]
  },
  {
   "cell_type": "code",
   "execution_count": null,
   "id": "1fa2043c",
   "metadata": {},
   "outputs": [],
   "source": []
  },
  {
   "cell_type": "code",
   "execution_count": 15,
   "id": "3090c201",
   "metadata": {},
   "outputs": [
    {
     "data": {
      "text/plain": [
       "(-1+0j) γ1 γ2 γ3"
      ]
     },
     "execution_count": 15,
     "metadata": {},
     "output_type": "execute_result"
    }
   ],
   "source": [
    "new_terms = []\n",
    "for sym_vec in Maj.symp_matrix:\n",
    "    current_term = Maj.term_index_list[sym_vec]\n",
    "    new_terms.append(current_term[::-1]) # reverse order\n",
    "# note when reversed performs bubble sort to put back into correct order\n",
    "Maj_conj = MajoranaOp.from_list(new_terms, \n",
    "                                Maj.coeff_vec.conjugate(), \n",
    "                                phase_factors_included=True)\n",
    "Maj_conj"
   ]
  },
  {
   "cell_type": "code",
   "execution_count": null,
   "id": "81849c30",
   "metadata": {},
   "outputs": [],
   "source": [
    "operators = [\n",
    "#             [1,2,3,4,5,7], # op1\n",
    "            [3,2,1]\n",
    "           ]\n",
    "coeffs = [-1]\n",
    "Maj = MajoranaOp.from_list(operators, coeffs, phase_factors_included=True)\n",
    "Maj"
   ]
  },
  {
   "cell_type": "markdown",
   "id": "77e6f827",
   "metadata": {},
   "source": [
    "# commutation"
   ]
  },
  {
   "cell_type": "markdown",
   "id": "c79e7390",
   "metadata": {},
   "source": [
    "The anticommutator between two arbitrary Majorana operators $\\gamma_{A}$ and $\\gamma_{B}$ is determined by their individual supports and their overlap:\n",
    "\n",
    "\n",
    "\n",
    "$$\\{ \\gamma_{A}, \\gamma_{B} \\} = \\Big(1 + (-1)^{|A|\\dot|B|- |A\\cap B|} \\Big) \\gamma_{A}\\gamma_{B}$$\n",
    "\n",
    "Therefore:\n",
    "- if $|A|\\dot|B|- |A\\cap B| = 0$\n",
    "    - then terms anticommute\n",
    "    \n",
    "-else $|A|\\dot|B|- |A\\cap B| = 1$\n",
    "    - and terms commute\n"
   ]
  },
  {
   "cell_type": "code",
   "execution_count": null,
   "id": "d9607b0d",
   "metadata": {},
   "outputs": [],
   "source": []
  },
  {
   "cell_type": "markdown",
   "id": "ebf987a9",
   "metadata": {},
   "source": [
    "# check commutation relations\n",
    "\n",
    "uses above definition!"
   ]
  },
  {
   "cell_type": "markdown",
   "id": "b8e51c9c",
   "metadata": {},
   "source": [
    "### 1. termwise commutation!"
   ]
  },
  {
   "cell_type": "code",
   "execution_count": null,
   "id": "fe458dcb",
   "metadata": {},
   "outputs": [],
   "source": [
    "operators = [\n",
    "            [1,2,3,4], # op1\n",
    "            [5,6,10] # op2\n",
    "           ]\n",
    "coeffs = [1,1]\n",
    "Maj1 = MajoranaOp(operators, coeffs)\n",
    "\n",
    "\n",
    "operators2 = [\n",
    "            [0], # op1\n",
    "            [2], # op2\n",
    "            [3], # op3\n",
    "           ]\n",
    "coeffs2 = [1,\n",
    "           2,\n",
    "           3+1j]\n",
    "Maj2 = MajoranaOp(operators2, coeffs2)"
   ]
  },
  {
   "cell_type": "code",
   "execution_count": null,
   "id": "8243fd37",
   "metadata": {},
   "outputs": [],
   "source": [
    "print(Maj1)\n",
    "print()\n",
    "print(Maj2)"
   ]
  },
  {
   "cell_type": "code",
   "execution_count": null,
   "id": "8f2d9418",
   "metadata": {},
   "outputs": [],
   "source": [
    "Maj1.commutes_termwise(Maj2)"
   ]
  },
  {
   "cell_type": "code",
   "execution_count": null,
   "id": "8323c904",
   "metadata": {},
   "outputs": [],
   "source": [
    "print(Maj1.commutator(Maj2))"
   ]
  },
  {
   "cell_type": "code",
   "execution_count": null,
   "id": "1ac2b306",
   "metadata": {},
   "outputs": [],
   "source": []
  },
  {
   "cell_type": "code",
   "execution_count": null,
   "id": "911ccf06",
   "metadata": {},
   "outputs": [],
   "source": [
    "operator = [\n",
    "    [0,1,2,3],\n",
    "    [5,6],\n",
    "    [3,5],\n",
    "    [0,1,2,3,4,5,6,7],\n",
    "    [2,3],\n",
    "    [4]\n",
    "]\n",
    "\n",
    "coeffs = np.arange(2,len(operator)+2)\n",
    "\n",
    "###\n",
    "M = MajoranaOp(operator, coeffs)\n",
    "print(M)\n",
    "\n",
    "M.adjacency_matrix()"
   ]
  },
  {
   "cell_type": "code",
   "execution_count": null,
   "id": "46ba38ea",
   "metadata": {},
   "outputs": [],
   "source": [
    "print(M*M)\n",
    "print()\n",
    "\n",
    "C = M.to_OF_op()\n",
    "out = C*C\n",
    "print(out)"
   ]
  },
  {
   "cell_type": "code",
   "execution_count": null,
   "id": "924583c8",
   "metadata": {},
   "outputs": [],
   "source": [
    "M.adjacency_matrix()"
   ]
  },
  {
   "cell_type": "markdown",
   "id": "9727ed39",
   "metadata": {},
   "source": [
    "# convert from Fermions to Majoranas"
   ]
  },
  {
   "cell_type": "code",
   "execution_count": null,
   "id": "13392b71",
   "metadata": {},
   "outputs": [],
   "source": [
    "from openfermion import FermionOperator, get_majorana_operator\n",
    "from symmer.symplectic import convert_openF_fermionic_op_to_maj_op\n",
    "\n",
    "ham = (FermionOperator('0^ 3', .5) +\n",
    "       FermionOperator('3^ 0', 0.5) +\n",
    "      FermionOperator('3^ 2^ 0 1', 0.5))\n",
    "\n",
    "M_out = convert_openF_fermionic_op_to_maj_op(ham, phase_factors_included=True)\n",
    "\n",
    "# reason this is False is due to MajoranaOp including phase factors!\n",
    "print(M_out.to_OF_op() == get_majorana_operator(ham))"
   ]
  },
  {
   "cell_type": "code",
   "execution_count": null,
   "id": "2f7f333d",
   "metadata": {},
   "outputs": [],
   "source": []
  },
  {
   "cell_type": "code",
   "execution_count": null,
   "id": "f0742d7f",
   "metadata": {},
   "outputs": [],
   "source": []
  },
  {
   "cell_type": "markdown",
   "id": "dc25712f",
   "metadata": {},
   "source": [
    "# get basis for operator"
   ]
  },
  {
   "cell_type": "code",
   "execution_count": null,
   "id": "4a6869ea",
   "metadata": {},
   "outputs": [],
   "source": [
    "from symmer.utils import gf2_basis_for_gf2_rref, gf2_gaus_elim\n",
    "import os\n",
    "import json\n",
    "from openfermion import reverse_jordan_wigner, jordan_wigner\n",
    "from symmer.symplectic import PauliwordOp\n",
    "from functools import reduce"
   ]
  },
  {
   "cell_type": "code",
   "execution_count": null,
   "id": "c667b16d",
   "metadata": {},
   "outputs": [],
   "source": [
    "working_dir = os.getcwd()\n",
    "parent_dir = os.path.dirname(working_dir)\n",
    "data_dir = os.path.join(parent_dir,'data')\n",
    "\n",
    "file = 'O1_STO-3G_triplet_OO.json'\n",
    "# file = 'H2-Be1_STO-3G_singlet_BeH2BeH2.json'\n",
    "\n",
    "file_path = os.path.join(data_dir, file)\n",
    "with open(file_path, 'r') as input_file:\n",
    "    ham_dict = json.load(input_file)\n",
    "    \n",
    "ham = PauliwordOp(ham_dict)\n",
    "\n",
    "ham_opemF = ham.PauliwordOp_to_OF\n",
    "\n",
    "H_qubit = reduce(lambda x,y: x+y, ham_opemF)\n",
    "\n",
    "fermionic_H = reverse_jordan_wigner(H_qubit)\n",
    "maj_H = convert_openF_fermionic_op_to_maj_op(fermionic_H)"
   ]
  },
  {
   "cell_type": "code",
   "execution_count": null,
   "id": "41573579",
   "metadata": {},
   "outputs": [],
   "source": []
  },
  {
   "cell_type": "code",
   "execution_count": null,
   "id": "de12ecbf",
   "metadata": {},
   "outputs": [],
   "source": [
    "ZX_symp = maj_H.symp_matrix\n",
    "reduced = gf2_gaus_elim(ZX_symp)\n",
    "kernel  =  gf2_basis_for_gf2_rref(reduced)\n",
    "\n",
    "kernel = kernel.astype(int)\n",
    "kernel"
   ]
  },
  {
   "cell_type": "code",
   "execution_count": null,
   "id": "ca5a4019",
   "metadata": {},
   "outputs": [],
   "source": [
    "if kernel.shape[0]:\n",
    "    basis_coeffs = np.ones(kernel.shape[0])\n",
    "else:\n",
    "    basis_coeffs=[1]\n",
    "\n",
    "basis_op = MajoranaOp(kernel, basis_coeffs)\n",
    "print(basis_op)"
   ]
  },
  {
   "cell_type": "code",
   "execution_count": null,
   "id": "2b223fc1",
   "metadata": {},
   "outputs": [],
   "source": [
    "openF_M_op = maj_H.to_OF_op()\n",
    "basis_op_openF =  basis_op.to_OF_op()\n",
    "print('commmutes: ', openF_M_op*basis_op_openF == basis_op_openF*openF_M_op)\n",
    "\n",
    "# print(maj_H.commutes_termwise(basis_op))\n",
    "maj_H.commutes(basis_op)"
   ]
  },
  {
   "cell_type": "code",
   "execution_count": null,
   "id": "3437885d",
   "metadata": {},
   "outputs": [],
   "source": [
    "jordan_wigner(basis_op.to_OF_op())"
   ]
  },
  {
   "cell_type": "code",
   "execution_count": null,
   "id": "ea6a87f5",
   "metadata": {},
   "outputs": [],
   "source": []
  },
  {
   "cell_type": "markdown",
   "id": "89c5e1cc",
   "metadata": {},
   "source": [
    "## Get cliffords to map to terms!"
   ]
  },
  {
   "cell_type": "markdown",
   "id": "52e8d5ad",
   "metadata": {},
   "source": [
    "Section C of https://arxiv.org/pdf/2110.10280.pdf\n",
    "\n",
    "A Majorana fermion stabilizer code [32], or Majorana stabilizer code for brevity, is the simultaneous +1 eigenspace of a collection of commuting, Hermitian, even **weight Majorana operators**. The evenness constraint ensures that these operators are fermion-parity preserving, and hence physically observable. \n",
    "\n",
    "Therefore rotate down onto pairs of majorana modes!"
   ]
  },
  {
   "cell_type": "code",
   "execution_count": null,
   "id": "b7b53d3f",
   "metadata": {},
   "outputs": [],
   "source": [
    "from symred.majorana_operator import majorana_rotations"
   ]
  },
  {
   "cell_type": "code",
   "execution_count": null,
   "id": "89c32ee3",
   "metadata": {},
   "outputs": [],
   "source": [
    "basis_rot = majorana_rotations(basis_op)\n",
    "final_terms, rotations = basis_rot.get_rotations()\n",
    "\n",
    "\n",
    "rotated_basis = basis_op.copy()\n",
    "for rot in rotations:\n",
    "    rotated_basis = rot *rotated_basis * rot.conjugate\n",
    "    \n",
    "print(jordan_wigner(rotated_basis.to_OF_op()))"
   ]
  },
  {
   "cell_type": "code",
   "execution_count": null,
   "id": "c876fc6b",
   "metadata": {},
   "outputs": [],
   "source": [
    "## random test!\n",
    "\n",
    "from openfermion import reverse_jordan_wigner, jordan_wigner, QubitOperator\n",
    "\n",
    "basis = QubitOperator('X0 X1',1 ) + QubitOperator('Z0 Z1',1 ) + QubitOperator('Y3',1 )\n",
    "basis_ferm = reverse_jordan_wigner(basis)\n",
    "maj_test = convert_openF_fermionic_op_to_maj_op(basis_ferm, phase_factors_included=True)\n",
    "\n",
    "\n",
    "# maj_test = MajoranaOp([[1,2,3,4],[3,4,5,6], [2,3,5,7]], [1,1,1])\n",
    "# print(jordan_wigner(maj_test.to_OF_op()))\n",
    "\n",
    "test_rot = majorana_rotations(maj_test)\n",
    "final_terms, rotations = test_rot.get_rotations()\n",
    "\n",
    "\n",
    "rotated_op = maj_test.copy()\n",
    "for rot in rotations:\n",
    "    rotated_op = rot *rotated_op * rot.conjugate\n",
    "    \n",
    "print(jordan_wigner(rotated_op.to_OF_op()))"
   ]
  },
  {
   "cell_type": "code",
   "execution_count": null,
   "id": "d321f294",
   "metadata": {},
   "outputs": [],
   "source": [
    "symp_matrix = np.arange(9).reshape(3,3)\n",
    "N = np.einsum('ij->i', Maj.symp_matrix.astype(int))\n",
    "\n",
    "N%2"
   ]
  },
  {
   "cell_type": "code",
   "execution_count": null,
   "id": "522e3066",
   "metadata": {},
   "outputs": [],
   "source": [
    "symp_matrix"
   ]
  },
  {
   "cell_type": "code",
   "execution_count": null,
   "id": "8f0ad8f2",
   "metadata": {},
   "outputs": [],
   "source": [
    "Maj"
   ]
  },
  {
   "cell_type": "code",
   "execution_count": null,
   "id": "6497ddb5",
   "metadata": {},
   "outputs": [],
   "source": [
    "Maj.conjugate"
   ]
  },
  {
   "cell_type": "code",
   "execution_count": null,
   "id": "d8802d7c",
   "metadata": {},
   "outputs": [],
   "source": [
    "operators = [\n",
    "            [1,2,3,4,5,7], # op1\n",
    "           ]\n",
    "coeffs = [1j]\n",
    "Maj = MajoranaOp.from_list(operators, coeffs)\n",
    "print(Maj)\n"
   ]
  },
  {
   "cell_type": "code",
   "execution_count": null,
   "id": "3dad07e9",
   "metadata": {},
   "outputs": [],
   "source": []
  }
 ],
 "metadata": {
  "kernelspec": {
   "display_name": "Python 3 (ipykernel)",
   "language": "python",
   "name": "python3"
  },
  "language_info": {
   "codemirror_mode": {
    "name": "ipython",
    "version": 3
   },
   "file_extension": ".py",
   "mimetype": "text/x-python",
   "name": "python",
   "nbconvert_exporter": "python",
   "pygments_lexer": "ipython3",
   "version": "3.9.7"
  }
 },
 "nbformat": 4,
 "nbformat_minor": 5
}
