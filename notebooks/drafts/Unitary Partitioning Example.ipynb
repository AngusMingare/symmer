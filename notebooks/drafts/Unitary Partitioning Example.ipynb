{
 "cells": [
  {
   "cell_type": "code",
   "execution_count": 2,
   "id": "e2ad199a",
   "metadata": {},
   "outputs": [],
   "source": [
    "import numpy as np\n",
    "from symmer.symplectic import PauliwordOp, AntiCommutingOp \n",
    "from symmer.utils import random_anitcomm_2n_1_PauliwordOp\n",
    "from symmer.symplectic.anticommuting_op import conjugate_Pop_with_R"
   ]
  },
  {
   "cell_type": "code",
   "execution_count": null,
   "id": "ee1b3c89",
   "metadata": {},
   "outputs": [],
   "source": []
  },
  {
   "cell_type": "markdown",
   "id": "23774efa",
   "metadata": {},
   "source": [
    "# 1. Given an anticommuting set of operators"
   ]
  },
  {
   "cell_type": "code",
   "execution_count": 11,
   "id": "ad9a0546",
   "metadata": {},
   "outputs": [
    {
     "data": {
      "text/plain": [
       "21"
      ]
     },
     "execution_count": 11,
     "metadata": {},
     "output_type": "execute_result"
    }
   ],
   "source": [
    "# AC_dict = {'ZZZ':2, 'XXX':1, 'YYY':2}\n",
    "# test_op = AntiCommutingOp.from_dictionary(AC_dict)\n",
    "\n",
    "\n",
    "### randomly generate anticommuting operator\n",
    "nq = 10\n",
    "test_op = AntiCommutingOp.from_PauliwordOp(random_anitcomm_2n_1_PauliwordOp(nq))\n",
    "test_op.coeff_vec = (test_op.coeff_vec.real).astype(complex)\n",
    "test_op.n_terms"
   ]
  },
  {
   "cell_type": "code",
   "execution_count": 12,
   "id": "a2223686",
   "metadata": {},
   "outputs": [
    {
     "data": {
      "text/plain": [
       "-0.236+0.000j XYYZIZIXZI +\n",
       " 0.107+0.000j ZZZZXXIIYX +\n",
       "-1.028+0.000j YIIZYIXYXX +\n",
       "-0.972+0.000j YZIXXZIXII +\n",
       "-1.031+0.000j XYZXYZZXXZ +\n",
       " 0.240+0.000j ZIYZIZXYXI +\n",
       " 0.479+0.000j ZYZYIYIZZZ +\n",
       " 1.235+0.000j ZXZZXXZYIX +\n",
       "-0.985+0.000j IZZZZXYXZY +\n",
       " 0.431+0.000j IZXIXXIIZZ +\n",
       " 0.702+0.000j IIXYYYIXZX +\n",
       " 1.631+0.000j IYYZIIZZZX +\n",
       " 1.226+0.000j XIXXIIZXXZ +\n",
       "-1.559+0.000j IIYXXXYIXX +\n",
       "-0.672+0.000j ZZYXYYZIXX +\n",
       "-0.067+0.000j ZIIZYZZIIY +\n",
       "-0.973+0.000j XYZZYYXIXI +\n",
       " 1.671+0.000j IXZZIZZZIZ +\n",
       " 1.570+0.000j ZIZZXIYZIZ +\n",
       " 0.168+0.000j YIIYYZXZIY +\n",
       " 0.662+0.000j XXZIXYXXZZ"
      ]
     },
     "execution_count": 12,
     "metadata": {},
     "output_type": "execute_result"
    }
   ],
   "source": [
    "test_op"
   ]
  },
  {
   "cell_type": "markdown",
   "id": "40953bf6",
   "metadata": {},
   "source": [
    "# 2. Use unitary partitioning to find unitary mapping to a single term in the linear combination"
   ]
  },
  {
   "cell_type": "markdown",
   "id": "d9240c46",
   "metadata": {},
   "source": [
    "For full details see the following papers:\n",
    "- [PAPER](https://arxiv.org/abs/1908.08067)\n",
    "- [PAPER](https://journals.aps.org/prresearch/abstract/10.1103/PhysRevResearch.3.033195)\n",
    "\n",
    "TWO methods:\n",
    "1. linear combination of unitaries (LCU)\n",
    "2. a sequence of (exponentiated pauli) rotations"
   ]
  },
  {
   "cell_type": "code",
   "execution_count": null,
   "id": "3f1d28e8",
   "metadata": {},
   "outputs": [],
   "source": []
  },
  {
   "cell_type": "code",
   "execution_count": null,
   "id": "a47890b2",
   "metadata": {},
   "outputs": [],
   "source": []
  },
  {
   "cell_type": "code",
   "execution_count": null,
   "id": "72f93443",
   "metadata": {},
   "outputs": [],
   "source": []
  },
  {
   "cell_type": "markdown",
   "id": "422a287e",
   "metadata": {},
   "source": [
    "## 2.1 LCU method"
   ]
  },
  {
   "cell_type": "code",
   "execution_count": 14,
   "id": "d9b7e9e9",
   "metadata": {},
   "outputs": [],
   "source": [
    "# s_index gives index in symplectic matrix of Pauli term to be reduced too\n",
    "# if NOT defined then s_index is automatically chosen to be least Pauli dense term\n",
    "\n",
    "Ps_LCU, rotations_LCU, gamma_l_LCU, normed_clique_LCU = test_op.unitary_partitioning(up_method='LCU',\n",
    "                                                                                    s_index=2)\n",
    "\n",
    "# Ps_LCU = term that is reduced too\n",
    "# rotations_LCU = PauliwordOp of LCU unitary that does this\n",
    "# gamma_l_LCU = normalization factor of clique\n",
    "# normed_clique_LCU = normalized anticommuting operator"
   ]
  },
  {
   "cell_type": "code",
   "execution_count": 15,
   "id": "eaa5abc1",
   "metadata": {},
   "outputs": [
    {
     "data": {
      "text/plain": [
       " 1.000+0.000j YIIZYIXYXX"
      ]
     },
     "execution_count": 15,
     "metadata": {},
     "output_type": "execute_result"
    }
   ],
   "source": [
    "Ps_LCU"
   ]
  },
  {
   "cell_type": "code",
   "execution_count": 16,
   "id": "93c4ee50",
   "metadata": {},
   "outputs": [
    {
     "name": "stdout",
     "output_type": "stream",
     "text": [
      " 0.621+0.000j IIIIIIIIII +\n",
      " 0.000+0.030j IIIXIZIXXZ +\n",
      " 0.000+0.174j IZIYZZXZXX +\n",
      " 0.000+0.219j ZIXYYIYZIY +\n",
      "-0.000-0.118j ZXZZZYIZYY +\n",
      " 0.000+0.174j ZYZIIYIYIX +\n",
      "-0.000-0.184j ZYZYIZYZIY +\n",
      "-0.000-0.042j ZYYIYZXZYX +\n",
      " 0.000+0.280j XIZIZIZXXY +\n",
      "-0.000-0.012j XIIIIZYYXZ +\n",
      " 0.000+0.019j XZZIZXXYZI +\n",
      "-0.000-0.176j YZZIXXZZYZ +\n",
      " 0.000+0.077j YZXZZXXYYY +\n",
      " 0.000+0.043j XIYIYZIIIX +\n",
      "-0.000-0.278j YIYYZXZYII +\n",
      " 0.000+0.125j YIXXIYXZYI +\n",
      "-0.000-0.120j XZYYIYYYII +\n",
      "-0.000-0.221j XXZIZXYIXI +\n",
      "-0.000-0.298j YXZIYZYXXY +\n",
      "-0.000-0.086j XYZXYYXXYY +\n",
      "-0.000-0.291j YYYIYIYXYI\n"
     ]
    }
   ],
   "source": [
    "print(rotations_LCU)"
   ]
  },
  {
   "cell_type": "code",
   "execution_count": 17,
   "id": "f959495c",
   "metadata": {},
   "outputs": [
    {
     "data": {
      "text/plain": [
       "True"
      ]
     },
     "execution_count": 17,
     "metadata": {},
     "output_type": "execute_result"
    }
   ],
   "source": [
    "# clique normalized by gamma_l\n",
    "test_op == normed_clique_LCU.multiply_by_constant(gamma_l_LCU)"
   ]
  },
  {
   "cell_type": "code",
   "execution_count": 21,
   "id": "96984559",
   "metadata": {},
   "outputs": [
    {
     "name": "stdout",
     "output_type": "stream",
     "text": [
      "normaliziation factor: 4.506850638066699\n"
     ]
    },
    {
     "data": {
      "text/plain": [
       " 4.507+0.000j YIIZYIXYXX"
      ]
     },
     "execution_count": 21,
     "metadata": {},
     "output_type": "execute_result"
    }
   ],
   "source": [
    "# note what happens if rotation performed without normalization\n",
    "print('normaliziation factor:', gamma_l_LCU)\n",
    "\n",
    "rotations_LCU * test_op * rotations_LCU.dagger"
   ]
  },
  {
   "cell_type": "code",
   "execution_count": 27,
   "id": "401e52ba",
   "metadata": {},
   "outputs": [
    {
     "data": {
      "text/plain": [
       " 1.000+0.000j YIIZYIXYXX"
      ]
     },
     "execution_count": 27,
     "metadata": {},
     "output_type": "execute_result"
    }
   ],
   "source": [
    "conjugate_Pop_with_R(normed_clique_LCU, rotations_LCU) # legacy method (slower than cell above)"
   ]
  },
  {
   "cell_type": "markdown",
   "id": "421c03fc",
   "metadata": {},
   "source": [
    "## 2.2 Sequence of Rotations method"
   ]
  },
  {
   "cell_type": "code",
   "execution_count": 28,
   "id": "58a09e4c",
   "metadata": {},
   "outputs": [],
   "source": [
    "# Ps_SeqRot = term that is reduced too\n",
    "# rotations_SeqRot = list of PauliwordOp rotations. List of tuples of (P, angle_of_rotation)\n",
    "# gamma_l_SeqRot = normalization factor of clique\n",
    "# normed_clique_SeqRot = normalized anticommuting operator\n",
    "(Ps_SeqRot, rotations_SeqRot, \n",
    " gamma_l_SeqRot, normed_clique_SeqRot) = test_op.unitary_partitioning(up_method='seq_rot',\n",
    "                                                                      s_index=None)"
   ]
  },
  {
   "cell_type": "code",
   "execution_count": 29,
   "id": "86225bd3",
   "metadata": {},
   "outputs": [
    {
     "name": "stdout",
     "output_type": "stream",
     "text": [
      "[( 1.000-0.000j ZZYXZZIXXI, (0.1513289625252698+0j)), ( 1.000-0.000j YIXXIYXZYI, (0.9662569538276746-0j)), ( 1.000-0.000j YZXZZXIIZX, (0.6611913427182367-0j)), ( 1.000-0.000j XYYZIXZIYY, (0.577303845150653-0j)), ( 1.000-0.000j ZIZXYXXZYX, (0.1266084371034986+0j)), ( 1.000-0.000j ZYYIYIIYIY, (0.24661944109073136+0j)), ( 1.000-0.000j ZXYXZZZZZI, (-0.5615047608694494+0j)), ( 1.000-0.000j IZYXXZYIIZ, (-0.40174086231549927+0j)), ( 1.000-0.000j IZIYZZIXIY, (0.1695025126556427+0j)), ( 1.000-0.000j XYZXYXIIIX, (0.09214989920133716-0j)), ( 1.000-0.000j IYZXYYZYII, (0.5660826868464267+0j)), ( 1.000-0.000j XIIZYYZIYY, (-0.3832055317729474+0j)), ( 1.000-0.000j IIZZZZYXYI, (0.44370958722105064-0j)), ( 1.000-0.000j ZZZZIIZXYI, (-0.18300098996564748+0j)), ( 1.000-0.000j ZIXXIXZXZZ, (0.018180514332646468-0j)), ( 1.000-0.000j XYYXIIXXYX, (-0.2574489139136725+0j)), ( 1.000-0.000j IXYXYXZYZY, (-0.41229519008641624+0j)), ( 1.000-0.000j ZIYXZYYYZY, (0.3600968772879927+0j)), ( 1.000-0.000j YIXIIXXYZZ, (0.037744160138595634+0j)), ( 1.000-0.000j XXYYZIXIIY, (0.14751824553626777+0j))]\n"
     ]
    }
   ],
   "source": [
    "print(rotations_SeqRot)"
   ]
  },
  {
   "cell_type": "code",
   "execution_count": 30,
   "id": "1c8080e5",
   "metadata": {},
   "outputs": [
    {
     "data": {
      "text/plain": [
       "True"
      ]
     },
     "execution_count": 30,
     "metadata": {},
     "output_type": "execute_result"
    }
   ],
   "source": [
    "# clique normalized by gamma_l\n",
    "test_op == normed_clique_SeqRot.multiply_by_constant(gamma_l_SeqRot)"
   ]
  },
  {
   "cell_type": "code",
   "execution_count": 31,
   "id": "36c51402",
   "metadata": {},
   "outputs": [
    {
     "data": {
      "text/plain": [
       " 1.000+0.000j IIXYYYIXZX"
      ]
     },
     "execution_count": 31,
     "metadata": {},
     "output_type": "execute_result"
    }
   ],
   "source": [
    "# apply sequence of rotations on anticommuting operator (normalized)\n",
    "normed_clique_SeqRot.perform_rotations(rotations_SeqRot)"
   ]
  },
  {
   "cell_type": "code",
   "execution_count": 32,
   "id": "d88aeb3f",
   "metadata": {},
   "outputs": [
    {
     "data": {
      "text/plain": [
       " 4.507+0.000j IIXYYYIXZX"
      ]
     },
     "execution_count": 32,
     "metadata": {},
     "output_type": "execute_result"
    }
   ],
   "source": [
    "# without normalization\n",
    "test_op.perform_rotations(rotations_SeqRot)"
   ]
  },
  {
   "cell_type": "code",
   "execution_count": 33,
   "id": "05f9d442",
   "metadata": {},
   "outputs": [
    {
     "data": {
      "text/plain": [
       "[( 1.000-0.000j ZZYXZZIXXI, (0.1513289625252698+0j)),\n",
       " ( 1.000-0.000j YIXXIYXZYI, (0.9662569538276746-0j)),\n",
       " ( 1.000-0.000j YZXZZXIIZX, (0.6611913427182367-0j)),\n",
       " ( 1.000-0.000j XYYZIXZIYY, (0.577303845150653-0j)),\n",
       " ( 1.000-0.000j ZIZXYXXZYX, (0.1266084371034986+0j)),\n",
       " ( 1.000-0.000j ZYYIYIIYIY, (0.24661944109073136+0j)),\n",
       " ( 1.000-0.000j ZXYXZZZZZI, (-0.5615047608694494+0j)),\n",
       " ( 1.000-0.000j IZYXXZYIIZ, (-0.40174086231549927+0j)),\n",
       " ( 1.000-0.000j IZIYZZIXIY, (0.1695025126556427+0j)),\n",
       " ( 1.000-0.000j XYZXYXIIIX, (0.09214989920133716-0j)),\n",
       " ( 1.000-0.000j IYZXYYZYII, (0.5660826868464267+0j)),\n",
       " ( 1.000-0.000j XIIZYYZIYY, (-0.3832055317729474+0j)),\n",
       " ( 1.000-0.000j IIZZZZYXYI, (0.44370958722105064-0j)),\n",
       " ( 1.000-0.000j ZZZZIIZXYI, (-0.18300098996564748+0j)),\n",
       " ( 1.000-0.000j ZIXXIXZXZZ, (0.018180514332646468-0j)),\n",
       " ( 1.000-0.000j XYYXIIXXYX, (-0.2574489139136725+0j)),\n",
       " ( 1.000-0.000j IXYXYXZYZY, (-0.41229519008641624+0j)),\n",
       " ( 1.000-0.000j ZIYXZYYYZY, (0.3600968772879927+0j)),\n",
       " ( 1.000-0.000j YIXIIXXYZZ, (0.037744160138595634+0j)),\n",
       " ( 1.000-0.000j XXYYZIXIIY, (0.14751824553626777+0j))]"
      ]
     },
     "execution_count": 33,
     "metadata": {},
     "output_type": "execute_result"
    }
   ],
   "source": [
    "rotations_SeqRot"
   ]
  },
  {
   "cell_type": "markdown",
   "id": "9c6fa671",
   "metadata": {},
   "source": [
    "# 3. Further work\n",
    "\n",
    "Some methods require applying unitary partitioning operator (unitary of LCU or seq_rot) to other combinations of Pauli operators (such as a Hamiltonian)\n",
    "\n",
    "For examples see:\n",
    "- [PAPER1](https://arxiv.org/abs/2011.10027) \n",
    "- [PAPER2](https://arxiv.org/abs/2204.02150)\n",
    "- [PAPER3](https://arxiv.org/abs/2207.03451)\n",
    "\n",
    "This subsection looks at the scaling of the different methods"
   ]
  },
  {
   "cell_type": "code",
   "execution_count": 34,
   "id": "ca977868",
   "metadata": {},
   "outputs": [
    {
     "data": {
      "text/plain": [
       "100"
      ]
     },
     "execution_count": 34,
     "metadata": {},
     "output_type": "execute_result"
    }
   ],
   "source": [
    "### Generate a random linear combination of Pauli operators (on same no. of qubits as rotations above)\n",
    "\n",
    "n_terms= 100\n",
    "# n_terms= 500\n",
    "# n_terms= 12\n",
    "op = PauliwordOp.random(test_op.n_qubits, n_terms)\n",
    "\n",
    "# op = PauliwordOp.haar_random(test_op.n_qubits)\n",
    "op.n_terms"
   ]
  },
  {
   "cell_type": "code",
   "execution_count": 38,
   "id": "60fe7e71",
   "metadata": {},
   "outputs": [
    {
     "name": "stdout",
     "output_type": "stream",
     "text": [
      "max possible P terms on defined qubits: 1048576\n",
      "max terms SeqRot: 209715200\n"
     ]
    }
   ],
   "source": [
    "## SeqRot scaling\n",
    "print('max possible P terms on defined qubits:', 4**rotations_LCU.n_qubits)\n",
    "print('max terms SeqRot:', 2**rotations_LCU.n_terms * op.n_terms)"
   ]
  },
  {
   "cell_type": "code",
   "execution_count": 39,
   "id": "c0af0050",
   "metadata": {},
   "outputs": [
    {
     "data": {
      "text/plain": [
       "280099"
      ]
     },
     "execution_count": 39,
     "metadata": {},
     "output_type": "execute_result"
    }
   ],
   "source": [
    "op.perform_rotations(rotations_SeqRot).n_terms"
   ]
  },
  {
   "cell_type": "code",
   "execution_count": 40,
   "id": "a276b341",
   "metadata": {},
   "outputs": [
    {
     "name": "stdout",
     "output_type": "stream",
     "text": [
      "max terms on qubits: 1048576\n",
      "max terms LCU: 44100\n"
     ]
    }
   ],
   "source": [
    "## LCU scaling\n",
    "print('max terms on qubits:', 4**rotations_LCU.n_qubits)\n",
    "print('max terms LCU:', rotations_LCU.n_terms**2 * op.n_terms)"
   ]
  },
  {
   "cell_type": "code",
   "execution_count": 42,
   "id": "8cfcdec3",
   "metadata": {},
   "outputs": [
    {
     "data": {
      "text/plain": [
       "10524"
      ]
     },
     "execution_count": 42,
     "metadata": {},
     "output_type": "execute_result"
    }
   ],
   "source": [
    "# manual multiplication\n",
    "(rotations_LCU * op * rotations_LCU.dagger).n_terms"
   ]
  },
  {
   "cell_type": "markdown",
   "id": "e0ec1b37",
   "metadata": {},
   "source": [
    "**Important**: note how LCU method results in **fewer** terms!\n",
    "\n",
    "- SeqRot method increases terms as ~$2^{|U|}$\n",
    "- LCU method increases terms as  ~$|U|^{2}$\n",
    "\n",
    "where $|U|$ is the number of Pauli terms in the operator performing unitary partitioning.\n",
    "\n",
    "for further details see [PAPER](https://journals.aps.org/prresearch/abstract/10.1103/PhysRevResearch.3.033195)"
   ]
  },
  {
   "cell_type": "code",
   "execution_count": null,
   "id": "1fd44b93",
   "metadata": {},
   "outputs": [],
   "source": []
  }
 ],
 "metadata": {
  "kernelspec": {
   "display_name": "Python 3 (ipykernel)",
   "language": "python",
   "name": "python3"
  },
  "language_info": {
   "codemirror_mode": {
    "name": "ipython",
    "version": 3
   },
   "file_extension": ".py",
   "mimetype": "text/x-python",
   "name": "python",
   "nbconvert_exporter": "python",
   "pygments_lexer": "ipython3",
   "version": "3.7.13"
  }
 },
 "nbformat": 4,
 "nbformat_minor": 5
}
