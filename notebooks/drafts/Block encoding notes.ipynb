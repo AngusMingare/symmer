{
 "cells": [
  {
   "cell_type": "code",
   "execution_count": 1,
   "id": "ad135112",
   "metadata": {},
   "outputs": [],
   "source": [
    "from qiskit import QuantumCircuit, transpile\n",
    "from qiskit.quantum_info import Operator\n",
    "import numpy as np\n",
    "\n"
   ]
  },
  {
   "cell_type": "code",
   "execution_count": null,
   "id": "a104825c",
   "metadata": {},
   "outputs": [],
   "source": [
    "\n",
    "\n",
    "nq=3\n",
    "w = QuantumCircuit(nq)\n",
    "# w.mcp(np.pi,[0,1,2],3)\n",
    "diag = np.ones(2**nq)\n",
    "diag[-1]=-1\n",
    "\n",
    "w.diagonal(diag.tolist(), list(range(nq)))\n",
    "w = w.decompose().decompose().decompose().decompose().decompose()\n",
    "# # w.draw()\n",
    "# # w.num_nonlocal_gates()\n",
    "# # w.num_nonlocal_gates()\n",
    "# \n",
    "# # out = transpile(w, basis_gates=['cx', 'rx','ry'])\n",
    "# print(w.draw())\n",
    "print(w.reverse_bits().draw())\n",
    "print(w.global_phase)\n",
    "\n"
   ]
  },
  {
   "cell_type": "code",
   "execution_count": null,
   "id": "0d22628a",
   "metadata": {},
   "outputs": [],
   "source": []
  },
  {
   "cell_type": "markdown",
   "id": "24712274",
   "metadata": {},
   "source": [
    "# multicontrol Z gate"
   ]
  },
  {
   "cell_type": "code",
   "execution_count": 2,
   "id": "9ea32eb3",
   "metadata": {},
   "outputs": [],
   "source": [
    "def get_pattern(n_ctrl, pattern=[0]):\n",
    "    \"\"\"\n",
    "    find control sequence to implement an n_control gate \n",
    "    \"\"\"\n",
    "    if n_ctrl == pattern[-1]+1:\n",
    "        return pattern\n",
    "    else:\n",
    "        new_pattern = pattern*2\n",
    "        new_pattern[-1]+=1\n",
    "        return get_pattern(n_ctrl, new_pattern)\n",
    "\n",
    "def primitive_u1_block(angle, n_ctrl):\n",
    "    \"\"\"\n",
    "    get primative gates to perform multicontrol rotation\n",
    "    \"\"\"\n",
    "    primitive=QuantumCircuit(2)\n",
    "    primitive.p(angle, 1)\n",
    "    primitive.cx(0,1)\n",
    "    \n",
    "    return primitive\n",
    "\n",
    "def multicontrol_Z_gate(ctrl_list, target):\n",
    "    \"\"\"\n",
    "    return circuit that performs an n-control Z gate\n",
    "    \n",
    "    \"\"\"\n",
    "    # angle set to pi due to Z gate!\n",
    "    angle = np.pi/ (2**(len(ctrl_list)))\n",
    "    ctrl_list=sorted(ctrl_list)\n",
    "    \n",
    "    full_circ=QuantumCircuit(max([target, max(ctrl_list)])+1)    \n",
    "    i=0\n",
    "    while len(ctrl_list)>0:\n",
    "        circ=QuantumCircuit(max([target, max(ctrl_list)])+1) \n",
    "        n_ctrl= len(ctrl_list)\n",
    "        pattern = get_pattern(n_ctrl)\n",
    "    \n",
    "        if n_ctrl >1: \n",
    "            for s,i in enumerate(pattern):\n",
    "                j = ctrl_list[-i-1]\n",
    "                p = primitive_u1_block((-1)**s*angle, n_ctrl)\n",
    "                circ = circ.compose(p, [j,target])\n",
    "\n",
    "            circ = circ.compose(circ)\n",
    "        else:\n",
    "            #plus\n",
    "            circ.p(+angle, target)\n",
    "            circ.cx(ctrl_list[-1],target)\n",
    "            # minus\n",
    "            circ.p(-angle, target)\n",
    "            circ.cx(ctrl_list[-1],target)\n",
    "        \n",
    "        if i ==0 and n_ctrl>1:\n",
    "            # need correction for first term!\n",
    "            circ.p(angle, ctrl_list[-1])\n",
    "            i+=1\n",
    "        \n",
    "        full_circ=full_circ.compose(circ)\n",
    "        # make control list one shorter and set target to last control!\n",
    "        target = ctrl_list[-1]\n",
    "        ctrl_list = ctrl_list[:-1]\n",
    "        \n",
    "        \n",
    "    full_circ.p(angle, target)\n",
    "    return full_circ\n"
   ]
  },
  {
   "cell_type": "code",
   "execution_count": 3,
   "id": "7af48271",
   "metadata": {},
   "outputs": [
    {
     "data": {
      "text/plain": [
       "True"
      ]
     },
     "execution_count": 3,
     "metadata": {},
     "output_type": "execute_result"
    }
   ],
   "source": [
    "ctrl_list = [0,1,5,2] \n",
    "target=ctrl_list[-1]+1\n",
    "\n",
    "\n",
    "circ = multicontrol_Z_gate(ctrl_list,\n",
    "                           target)\n",
    "\n",
    "\n",
    "check = QuantumCircuit(max([target, max(ctrl_list)])+1)\n",
    "check.h(target)\n",
    "check.mcx(ctrl_list,target)\n",
    "check.h(target)\n",
    "\n",
    "\n",
    "\n",
    "np.allclose(Operator(check).data,\n",
    "            Operator(circ).data)\n"
   ]
  },
  {
   "cell_type": "code",
   "execution_count": null,
   "id": "013d6de5",
   "metadata": {},
   "outputs": [],
   "source": []
  },
  {
   "cell_type": "markdown",
   "id": "92ff4881",
   "metadata": {},
   "source": [
    "Block encoding ideas:\n",
    "- use diagonal gate to implement multicontrol Z gate (then use cascade of CNOTs on system reg to apply dense Pauli op)\n",
    "- use multiplexor rotation gates to implement iX / iY / iZ (then correct phase somewhere // at end of circuit)\n"
   ]
  },
  {
   "cell_type": "code",
   "execution_count": null,
   "id": "313638d7",
   "metadata": {},
   "outputs": [],
   "source": []
  }
 ],
 "metadata": {
  "kernelspec": {
   "display_name": "Python 3 (ipykernel)",
   "language": "python",
   "name": "python3"
  },
  "language_info": {
   "codemirror_mode": {
    "name": "ipython",
    "version": 3
   },
   "file_extension": ".py",
   "mimetype": "text/x-python",
   "name": "python",
   "nbconvert_exporter": "python",
   "pygments_lexer": "ipython3",
   "version": "3.9.12"
  }
 },
 "nbformat": 4,
 "nbformat_minor": 5
}
