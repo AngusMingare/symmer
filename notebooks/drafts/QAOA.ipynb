{
 "cells": [
  {
   "cell_type": "code",
   "execution_count": 6,
   "id": "4dd74cd0",
   "metadata": {},
   "outputs": [],
   "source": [
    "from symmer.operators import NoncontextualOp, PauliwordOp\n",
    "from symmer.utils import exact_gs_energy\n",
    "import numpy as np"
   ]
  },
  {
   "cell_type": "code",
   "execution_count": null,
   "id": "6e80dd8b",
   "metadata": {},
   "outputs": [],
   "source": []
  },
  {
   "cell_type": "code",
   "execution_count": 13,
   "id": "c8e2dda4",
   "metadata": {},
   "outputs": [
    {
     "data": {
      "text/plain": [
       "-1.137283834488502"
      ]
     },
     "execution_count": 13,
     "metadata": {},
     "output_type": "execute_result"
    }
   ],
   "source": [
    "H2_op = PauliwordOp.from_dictionary(\n",
    "    {\n",
    "    'IIII': (-0.09706626816762845+0j),\n",
    "    'IIIZ': (-0.22343153690813597+0j),\n",
    "    'IIZI': (-0.22343153690813597+0j),\n",
    "    'IIZZ': (0.17441287612261608+0j),\n",
    "    'IZII': (0.17141282644776884+0j),\n",
    "    'IZIZ': (0.12062523483390426+0j),\n",
    "    'IZZI': (0.16592785033770355+0j),\n",
    "    'ZIII': (0.17141282644776884+0j),\n",
    "    'ZIIZ': (0.16592785033770355+0j),\n",
    "    'ZIZI': (0.12062523483390426+0j),\n",
    "    'ZZII': (0.16868898170361213+0j),\n",
    "    'XXYY': (-0.0453026155037993+0j),\n",
    "    'XYYX': (0.0453026155037993+0j),\n",
    "    'YXXY': (0.0453026155037993+0j),\n",
    "    'YYXX': (-0.0453026155037993+0j),\n",
    "    }\n",
    ")\n",
    "\n",
    "e_gs, gs_psi = exact_gs_energy(H2_op.to_sparse_matrix)\n",
    "e_gs"
   ]
  },
  {
   "cell_type": "code",
   "execution_count": 15,
   "id": "3bce9ef0",
   "metadata": {},
   "outputs": [],
   "source": [
    "noncon = NoncontextualOp.from_PauliwordOp(H2_op)"
   ]
  },
  {
   "cell_type": "code",
   "execution_count": 16,
   "id": "6f4b1f97",
   "metadata": {},
   "outputs": [
    {
     "name": "stdout",
     "output_type": "stream",
     "text": [
      "-0.5307733570014558\n",
      "-1.1167593073964253\n"
     ]
    }
   ],
   "source": [
    "H_qubo_qaoa = noncon.get_qaoa(type='qubo')\n",
    "\n",
    "print(exact_gs_energy(H_qubo_qaoa[0]['H'].to_sparse_matrix)[0])\n",
    "print(exact_gs_energy(H_qubo_qaoa[1]['H'].to_sparse_matrix)[0])"
   ]
  },
  {
   "cell_type": "code",
   "execution_count": 20,
   "id": "024cce42",
   "metadata": {},
   "outputs": [],
   "source": [
    "## TODO: need to map QAOA solution \n",
    "\n",
    "\n",
    "# e_qaoa, psi_gs_qaoa = exact_gs_energy(H_qubo_qaoa[1]['H'].to_sparse_matrix)\n",
    "\n",
    "\n",
    "# # update sector with QAOA solution!\n",
    "# noncon.symmetry_generators.update_sector(psi_gs_qaoa)\n",
    "\n",
    "# # optimize r\n",
    "# noncon._convex_problem(noncon.symmetry_generators.coeff_vec)"
   ]
  },
  {
   "cell_type": "code",
   "execution_count": 21,
   "id": "6a58d67c",
   "metadata": {},
   "outputs": [
    {
     "name": "stdout",
     "output_type": "stream",
     "text": [
      "-0.5307733570014557\n",
      "-1.1167593073964253\n"
     ]
    }
   ],
   "source": [
    "H_qubo_qaoa = noncon.get_qaoa(type='pubo')\n",
    "\n",
    "print(exact_gs_energy(H_qubo_qaoa[0]['H'].to_sparse_matrix)[0])\n",
    "print(exact_gs_energy(H_qubo_qaoa[1]['H'].to_sparse_matrix)[0])"
   ]
  },
  {
   "cell_type": "code",
   "execution_count": null,
   "id": "de658703",
   "metadata": {},
   "outputs": [],
   "source": []
  },
  {
   "cell_type": "code",
   "execution_count": null,
   "id": "d0b85439",
   "metadata": {},
   "outputs": [],
   "source": []
  }
 ],
 "metadata": {
  "kernelspec": {
   "display_name": "Python 3 (ipykernel)",
   "language": "python",
   "name": "python3"
  },
  "language_info": {
   "codemirror_mode": {
    "name": "ipython",
    "version": 3
   },
   "file_extension": ".py",
   "mimetype": "text/x-python",
   "name": "python",
   "nbconvert_exporter": "python",
   "pygments_lexer": "ipython3",
   "version": "3.8.16"
  }
 },
 "nbformat": 4,
 "nbformat_minor": 5
}
