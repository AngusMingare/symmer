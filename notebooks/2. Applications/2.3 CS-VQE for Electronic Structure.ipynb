{
 "cells": [
  {
   "cell_type": "markdown",
   "id": "e26c20d1",
   "metadata": {},
   "source": [
    "# CS-VQE for Solving Electronic Structure\n",
    "\n",
    "The second-quantised molecular Hailtonian takes the form\n",
    "\n",
    "\\begin{equation}\n",
    "H = \\sum_{pq} h_{pq} \\hat{a}^*_p \\hat{a}_q + \\frac{1}{2} \\sum_{pqrs} h_{pqrs} \\hat{a}^*_p \\hat{a}^*_q \\hat{a}_r \\hat{a}_s\n",
    "\\end{equation}\n",
    "\n",
    "where $\\hat{a}$ is the Fermionic annihiliation operator, with its adjoint $\\hat{a}^*$ the creation operator. We may map this Hamiltonian onto qubits via some transformation such as Jordan-Wigner, where\n",
    "\n",
    "\\begin{equation}\n",
    "\\hat{a}_p \\mapsto \\frac{1}{2} (X_p + i Y_p) \\otimes \\bigotimes_{q<p} Z_q.\n",
    "\\end{equation}\n",
    "Let us see what this Hamiltonian looks like in practice:"
   ]
  },
  {
   "cell_type": "code",
   "execution_count": 1,
   "id": "ec5ea810",
   "metadata": {},
   "outputs": [
    {
     "ename": "OSError",
     "evalue": "dlopen(/Users/lex/anaconda3/envs/symred/lib/python3.9/site-packages/pyscf/lib/libnp_helper.dylib, 0x0006): Library not loaded: '/usr/local/opt/libomp/lib/libomp.dylib'\n  Referenced from: '/Users/lex/anaconda3/envs/symred/lib/python3.9/site-packages/pyscf/lib/libnp_helper.dylib'\n  Reason: tried: '/usr/local/opt/libomp/lib/libomp.dylib' (no such file), '/usr/local/lib/libomp.dylib' (no such file), '/usr/lib/libomp.dylib' (no such file)",
     "output_type": "error",
     "traceback": [
      "\u001b[0;31m---------------------------------------------------------------------------\u001b[0m",
      "\u001b[0;31mOSError\u001b[0m                                   Traceback (most recent call last)",
      "File \u001b[0;32m~/anaconda3/envs/symred/lib/python3.9/site-packages/pyscf/lib/misc.py:55\u001b[0m, in \u001b[0;36mload_library\u001b[0;34m(libname)\u001b[0m\n\u001b[1;32m     54\u001b[0m     _loaderpath \u001b[38;5;241m=\u001b[39m os\u001b[38;5;241m.\u001b[39mpath\u001b[38;5;241m.\u001b[39mdirname(\u001b[38;5;18m__file__\u001b[39m)\n\u001b[0;32m---> 55\u001b[0m     \u001b[38;5;28;01mreturn\u001b[39;00m \u001b[43mnumpy\u001b[49m\u001b[38;5;241;43m.\u001b[39;49m\u001b[43mctypeslib\u001b[49m\u001b[38;5;241;43m.\u001b[39;49m\u001b[43mload_library\u001b[49m\u001b[43m(\u001b[49m\u001b[43mlibname\u001b[49m\u001b[43m,\u001b[49m\u001b[43m \u001b[49m\u001b[43m_loaderpath\u001b[49m\u001b[43m)\u001b[49m\n\u001b[1;32m     56\u001b[0m \u001b[38;5;28;01mexcept\u001b[39;00m \u001b[38;5;167;01mOSError\u001b[39;00m:\n",
      "File \u001b[0;32m~/anaconda3/envs/symred/lib/python3.9/site-packages/numpy/ctypeslib.py:158\u001b[0m, in \u001b[0;36mload_library\u001b[0;34m(libname, loader_path)\u001b[0m\n\u001b[1;32m    157\u001b[0m \u001b[38;5;28;01mtry\u001b[39;00m:\n\u001b[0;32m--> 158\u001b[0m     \u001b[38;5;28;01mreturn\u001b[39;00m \u001b[43mctypes\u001b[49m\u001b[38;5;241;43m.\u001b[39;49m\u001b[43mcdll\u001b[49m\u001b[43m[\u001b[49m\u001b[43mlibpath\u001b[49m\u001b[43m]\u001b[49m\n\u001b[1;32m    159\u001b[0m \u001b[38;5;28;01mexcept\u001b[39;00m \u001b[38;5;167;01mOSError\u001b[39;00m:\n\u001b[1;32m    160\u001b[0m     \u001b[38;5;66;03m## defective lib file\u001b[39;00m\n",
      "File \u001b[0;32m~/anaconda3/envs/symred/lib/python3.9/ctypes/__init__.py:457\u001b[0m, in \u001b[0;36mLibraryLoader.__getitem__\u001b[0;34m(self, name)\u001b[0m\n\u001b[1;32m    456\u001b[0m \u001b[38;5;28;01mdef\u001b[39;00m \u001b[38;5;21m__getitem__\u001b[39m(\u001b[38;5;28mself\u001b[39m, name):\n\u001b[0;32m--> 457\u001b[0m     \u001b[38;5;28;01mreturn\u001b[39;00m \u001b[38;5;28;43mgetattr\u001b[39;49m\u001b[43m(\u001b[49m\u001b[38;5;28;43mself\u001b[39;49m\u001b[43m,\u001b[49m\u001b[43m \u001b[49m\u001b[43mname\u001b[49m\u001b[43m)\u001b[49m\n",
      "File \u001b[0;32m~/anaconda3/envs/symred/lib/python3.9/ctypes/__init__.py:452\u001b[0m, in \u001b[0;36mLibraryLoader.__getattr__\u001b[0;34m(self, name)\u001b[0m\n\u001b[1;32m    451\u001b[0m     \u001b[38;5;28;01mraise\u001b[39;00m \u001b[38;5;167;01mAttributeError\u001b[39;00m(name)\n\u001b[0;32m--> 452\u001b[0m dll \u001b[38;5;241m=\u001b[39m \u001b[38;5;28;43mself\u001b[39;49m\u001b[38;5;241;43m.\u001b[39;49m\u001b[43m_dlltype\u001b[49m\u001b[43m(\u001b[49m\u001b[43mname\u001b[49m\u001b[43m)\u001b[49m\n\u001b[1;32m    453\u001b[0m \u001b[38;5;28msetattr\u001b[39m(\u001b[38;5;28mself\u001b[39m, name, dll)\n",
      "File \u001b[0;32m~/anaconda3/envs/symred/lib/python3.9/ctypes/__init__.py:382\u001b[0m, in \u001b[0;36mCDLL.__init__\u001b[0;34m(self, name, mode, handle, use_errno, use_last_error, winmode)\u001b[0m\n\u001b[1;32m    381\u001b[0m \u001b[38;5;28;01mif\u001b[39;00m handle \u001b[38;5;129;01mis\u001b[39;00m \u001b[38;5;28;01mNone\u001b[39;00m:\n\u001b[0;32m--> 382\u001b[0m     \u001b[38;5;28mself\u001b[39m\u001b[38;5;241m.\u001b[39m_handle \u001b[38;5;241m=\u001b[39m \u001b[43m_dlopen\u001b[49m\u001b[43m(\u001b[49m\u001b[38;5;28;43mself\u001b[39;49m\u001b[38;5;241;43m.\u001b[39;49m\u001b[43m_name\u001b[49m\u001b[43m,\u001b[49m\u001b[43m \u001b[49m\u001b[43mmode\u001b[49m\u001b[43m)\u001b[49m\n\u001b[1;32m    383\u001b[0m \u001b[38;5;28;01melse\u001b[39;00m:\n",
      "\u001b[0;31mOSError\u001b[0m: dlopen(/Users/lex/anaconda3/envs/symred/lib/python3.9/site-packages/pyscf/lib/libnp_helper.dylib, 0x0006): Library not loaded: '/usr/local/opt/libomp/lib/libomp.dylib'\n  Referenced from: '/Users/lex/anaconda3/envs/symred/lib/python3.9/site-packages/pyscf/lib/libnp_helper.dylib'\n  Reason: tried: '/usr/local/opt/libomp/lib/libomp.dylib' (no such file), '/usr/local/lib/libomp.dylib' (no such file), '/usr/lib/libomp.dylib' (no such file)",
      "\nDuring handling of the above exception, another exception occurred:\n",
      "\u001b[0;31mOSError\u001b[0m                                   Traceback (most recent call last)",
      "Cell \u001b[0;32mIn [1], line 1\u001b[0m\n\u001b[0;32m----> 1\u001b[0m \u001b[38;5;28;01mfrom\u001b[39;00m \u001b[38;5;21;01msymmer\u001b[39;00m\u001b[38;5;21;01m.\u001b[39;00m\u001b[38;5;21;01mchemistry\u001b[39;00m \u001b[38;5;28;01mimport\u001b[39;00m MoleculeBuilder\n\u001b[1;32m      3\u001b[0m atoms  \u001b[38;5;241m=\u001b[39m [\u001b[38;5;124m'\u001b[39m\u001b[38;5;124mBe\u001b[39m\u001b[38;5;124m'\u001b[39m]\n\u001b[1;32m      4\u001b[0m coords \u001b[38;5;241m=\u001b[39m [(\u001b[38;5;241m0\u001b[39m,\u001b[38;5;241m0\u001b[39m,\u001b[38;5;241m0\u001b[39m)]\n",
      "File \u001b[0;32m~/anaconda3/envs/symred/lib/python3.9/site-packages/symmer/chemistry/__init__.py:2\u001b[0m\n\u001b[1;32m      1\u001b[0m \u001b[38;5;124;03m\"\"\"init for chemistry.\"\"\"\u001b[39;00m\n\u001b[0;32m----> 2\u001b[0m \u001b[38;5;28;01mfrom\u001b[39;00m \u001b[38;5;21;01m.\u001b[39;00m\u001b[38;5;21;01mutils\u001b[39;00m \u001b[38;5;28;01mimport\u001b[39;00m \u001b[38;5;241m*\u001b[39m\n\u001b[1;32m      3\u001b[0m \u001b[38;5;28;01mfrom\u001b[39;00m \u001b[38;5;21;01m.\u001b[39;00m\u001b[38;5;21;01mCI_qham\u001b[39;00m \u001b[38;5;28;01mimport\u001b[39;00m \u001b[38;5;241m*\u001b[39m\n\u001b[1;32m      4\u001b[0m \u001b[38;5;28;01mfrom\u001b[39;00m \u001b[38;5;21;01m.\u001b[39;00m\u001b[38;5;21;01mfermionic_ham\u001b[39;00m \u001b[38;5;28;01mimport\u001b[39;00m \u001b[38;5;241m*\u001b[39m\n",
      "File \u001b[0;32m~/anaconda3/envs/symred/lib/python3.9/site-packages/symmer/chemistry/utils.py:4\u001b[0m\n\u001b[1;32m      2\u001b[0m \u001b[38;5;28;01mimport\u001b[39;00m \u001b[38;5;21;01mos\u001b[39;00m\n\u001b[1;32m      3\u001b[0m \u001b[38;5;28;01mimport\u001b[39;00m \u001b[38;5;21;01mnumpy\u001b[39;00m \u001b[38;5;28;01mas\u001b[39;00m \u001b[38;5;21;01mnp\u001b[39;00m\n\u001b[0;32m----> 4\u001b[0m \u001b[38;5;28;01mfrom\u001b[39;00m \u001b[38;5;21;01mpyscf\u001b[39;00m \u001b[38;5;28;01mimport\u001b[39;00m gto\n\u001b[1;32m      5\u001b[0m \u001b[38;5;28;01mfrom\u001b[39;00m \u001b[38;5;21;01mopenfermion\u001b[39;00m\u001b[38;5;21;01m.\u001b[39;00m\u001b[38;5;21;01mchem\u001b[39;00m\u001b[38;5;21;01m.\u001b[39;00m\u001b[38;5;21;01mpubchem\u001b[39;00m \u001b[38;5;28;01mimport\u001b[39;00m geometry_from_pubchem\n\u001b[1;32m      6\u001b[0m \u001b[38;5;28;01mimport\u001b[39;00m \u001b[38;5;21;01mpy3Dmol\u001b[39;00m\n",
      "File \u001b[0;32m~/anaconda3/envs/symred/lib/python3.9/site-packages/pyscf/__init__.py:113\u001b[0m\n\u001b[1;32m    110\u001b[0m     _internal\u001b[38;5;241m.\u001b[39m_get_void_ptr \u001b[38;5;241m=\u001b[39m _get_void_ptr\n\u001b[1;32m    112\u001b[0m \u001b[38;5;28;01mfrom\u001b[39;00m \u001b[38;5;21;01mpyscf\u001b[39;00m \u001b[38;5;28;01mimport\u001b[39;00m __config__\n\u001b[0;32m--> 113\u001b[0m \u001b[38;5;28;01mfrom\u001b[39;00m \u001b[38;5;21;01mpyscf\u001b[39;00m \u001b[38;5;28;01mimport\u001b[39;00m lib\n\u001b[1;32m    114\u001b[0m \u001b[38;5;28;01mfrom\u001b[39;00m \u001b[38;5;21;01mpyscf\u001b[39;00m \u001b[38;5;28;01mimport\u001b[39;00m gto\n\u001b[1;32m    115\u001b[0m \u001b[38;5;28;01mfrom\u001b[39;00m \u001b[38;5;21;01mpyscf\u001b[39;00m \u001b[38;5;28;01mimport\u001b[39;00m scf\n",
      "File \u001b[0;32m~/anaconda3/envs/symred/lib/python3.9/site-packages/pyscf/lib/__init__.py:24\u001b[0m\n\u001b[1;32m     22\u001b[0m \u001b[38;5;28;01mfrom\u001b[39;00m \u001b[38;5;21;01mpyscf\u001b[39;00m\u001b[38;5;21;01m.\u001b[39;00m\u001b[38;5;21;01mlib\u001b[39;00m \u001b[38;5;28;01mimport\u001b[39;00m parameters\n\u001b[1;32m     23\u001b[0m param \u001b[38;5;241m=\u001b[39m parameters\n\u001b[0;32m---> 24\u001b[0m \u001b[38;5;28;01mfrom\u001b[39;00m \u001b[38;5;21;01mpyscf\u001b[39;00m\u001b[38;5;21;01m.\u001b[39;00m\u001b[38;5;21;01mlib\u001b[39;00m \u001b[38;5;28;01mimport\u001b[39;00m numpy_helper\n\u001b[1;32m     25\u001b[0m \u001b[38;5;28;01mfrom\u001b[39;00m \u001b[38;5;21;01mpyscf\u001b[39;00m\u001b[38;5;21;01m.\u001b[39;00m\u001b[38;5;21;01mlib\u001b[39;00m \u001b[38;5;28;01mimport\u001b[39;00m linalg_helper\n\u001b[1;32m     26\u001b[0m \u001b[38;5;28;01mfrom\u001b[39;00m \u001b[38;5;21;01mpyscf\u001b[39;00m\u001b[38;5;21;01m.\u001b[39;00m\u001b[38;5;21;01mlib\u001b[39;00m \u001b[38;5;28;01mimport\u001b[39;00m scipy_helper\n",
      "File \u001b[0;32m~/anaconda3/envs/symred/lib/python3.9/site-packages/pyscf/lib/numpy_helper.py:39\u001b[0m\n\u001b[1;32m     36\u001b[0m \u001b[38;5;28;01mexcept\u001b[39;00m (\u001b[38;5;167;01mImportError\u001b[39;00m, \u001b[38;5;167;01mOSError\u001b[39;00m):\n\u001b[1;32m     37\u001b[0m     FOUND_TBLIS \u001b[38;5;241m=\u001b[39m \u001b[38;5;28;01mFalse\u001b[39;00m\n\u001b[0;32m---> 39\u001b[0m _np_helper \u001b[38;5;241m=\u001b[39m \u001b[43mmisc\u001b[49m\u001b[38;5;241;43m.\u001b[39;49m\u001b[43mload_library\u001b[49m\u001b[43m(\u001b[49m\u001b[38;5;124;43m'\u001b[39;49m\u001b[38;5;124;43mlibnp_helper\u001b[39;49m\u001b[38;5;124;43m'\u001b[39;49m\u001b[43m)\u001b[49m\n\u001b[1;32m     41\u001b[0m BLOCK_DIM \u001b[38;5;241m=\u001b[39m \u001b[38;5;241m192\u001b[39m\n\u001b[1;32m     42\u001b[0m PLAIN \u001b[38;5;241m=\u001b[39m \u001b[38;5;241m0\u001b[39m\n",
      "File \u001b[0;32m~/anaconda3/envs/symred/lib/python3.9/site-packages/pyscf/lib/misc.py:63\u001b[0m, in \u001b[0;36mload_library\u001b[0;34m(libname)\u001b[0m\n\u001b[1;32m     61\u001b[0m         \u001b[38;5;28;01mfor\u001b[39;00m files \u001b[38;5;129;01min\u001b[39;00m os\u001b[38;5;241m.\u001b[39mlistdir(libpath):\n\u001b[1;32m     62\u001b[0m             \u001b[38;5;28;01mif\u001b[39;00m files\u001b[38;5;241m.\u001b[39mstartswith(libname):\n\u001b[0;32m---> 63\u001b[0m                 \u001b[38;5;28;01mreturn\u001b[39;00m \u001b[43mnumpy\u001b[49m\u001b[38;5;241;43m.\u001b[39;49m\u001b[43mctypeslib\u001b[49m\u001b[38;5;241;43m.\u001b[39;49m\u001b[43mload_library\u001b[49m\u001b[43m(\u001b[49m\u001b[43mlibname\u001b[49m\u001b[43m,\u001b[49m\u001b[43m \u001b[49m\u001b[43mlibpath\u001b[49m\u001b[43m)\u001b[49m\n\u001b[1;32m     64\u001b[0m \u001b[38;5;28;01mraise\u001b[39;00m\n",
      "File \u001b[0;32m~/anaconda3/envs/symred/lib/python3.9/site-packages/numpy/ctypeslib.py:158\u001b[0m, in \u001b[0;36mload_library\u001b[0;34m(libname, loader_path)\u001b[0m\n\u001b[1;32m    156\u001b[0m \u001b[38;5;28;01mif\u001b[39;00m os\u001b[38;5;241m.\u001b[39mpath\u001b[38;5;241m.\u001b[39mexists(libpath):\n\u001b[1;32m    157\u001b[0m     \u001b[38;5;28;01mtry\u001b[39;00m:\n\u001b[0;32m--> 158\u001b[0m         \u001b[38;5;28;01mreturn\u001b[39;00m \u001b[43mctypes\u001b[49m\u001b[38;5;241;43m.\u001b[39;49m\u001b[43mcdll\u001b[49m\u001b[43m[\u001b[49m\u001b[43mlibpath\u001b[49m\u001b[43m]\u001b[49m\n\u001b[1;32m    159\u001b[0m     \u001b[38;5;28;01mexcept\u001b[39;00m \u001b[38;5;167;01mOSError\u001b[39;00m:\n\u001b[1;32m    160\u001b[0m         \u001b[38;5;66;03m## defective lib file\u001b[39;00m\n\u001b[1;32m    161\u001b[0m         \u001b[38;5;28;01mraise\u001b[39;00m\n",
      "File \u001b[0;32m~/anaconda3/envs/symred/lib/python3.9/ctypes/__init__.py:457\u001b[0m, in \u001b[0;36mLibraryLoader.__getitem__\u001b[0;34m(self, name)\u001b[0m\n\u001b[1;32m    456\u001b[0m \u001b[38;5;28;01mdef\u001b[39;00m \u001b[38;5;21m__getitem__\u001b[39m(\u001b[38;5;28mself\u001b[39m, name):\n\u001b[0;32m--> 457\u001b[0m     \u001b[38;5;28;01mreturn\u001b[39;00m \u001b[38;5;28;43mgetattr\u001b[39;49m\u001b[43m(\u001b[49m\u001b[38;5;28;43mself\u001b[39;49m\u001b[43m,\u001b[49m\u001b[43m \u001b[49m\u001b[43mname\u001b[49m\u001b[43m)\u001b[49m\n",
      "File \u001b[0;32m~/anaconda3/envs/symred/lib/python3.9/ctypes/__init__.py:452\u001b[0m, in \u001b[0;36mLibraryLoader.__getattr__\u001b[0;34m(self, name)\u001b[0m\n\u001b[1;32m    450\u001b[0m \u001b[38;5;28;01mif\u001b[39;00m name[\u001b[38;5;241m0\u001b[39m] \u001b[38;5;241m==\u001b[39m \u001b[38;5;124m'\u001b[39m\u001b[38;5;124m_\u001b[39m\u001b[38;5;124m'\u001b[39m:\n\u001b[1;32m    451\u001b[0m     \u001b[38;5;28;01mraise\u001b[39;00m \u001b[38;5;167;01mAttributeError\u001b[39;00m(name)\n\u001b[0;32m--> 452\u001b[0m dll \u001b[38;5;241m=\u001b[39m \u001b[38;5;28;43mself\u001b[39;49m\u001b[38;5;241;43m.\u001b[39;49m\u001b[43m_dlltype\u001b[49m\u001b[43m(\u001b[49m\u001b[43mname\u001b[49m\u001b[43m)\u001b[49m\n\u001b[1;32m    453\u001b[0m \u001b[38;5;28msetattr\u001b[39m(\u001b[38;5;28mself\u001b[39m, name, dll)\n\u001b[1;32m    454\u001b[0m \u001b[38;5;28;01mreturn\u001b[39;00m dll\n",
      "File \u001b[0;32m~/anaconda3/envs/symred/lib/python3.9/ctypes/__init__.py:382\u001b[0m, in \u001b[0;36mCDLL.__init__\u001b[0;34m(self, name, mode, handle, use_errno, use_last_error, winmode)\u001b[0m\n\u001b[1;32m    379\u001b[0m \u001b[38;5;28mself\u001b[39m\u001b[38;5;241m.\u001b[39m_FuncPtr \u001b[38;5;241m=\u001b[39m _FuncPtr\n\u001b[1;32m    381\u001b[0m \u001b[38;5;28;01mif\u001b[39;00m handle \u001b[38;5;129;01mis\u001b[39;00m \u001b[38;5;28;01mNone\u001b[39;00m:\n\u001b[0;32m--> 382\u001b[0m     \u001b[38;5;28mself\u001b[39m\u001b[38;5;241m.\u001b[39m_handle \u001b[38;5;241m=\u001b[39m \u001b[43m_dlopen\u001b[49m\u001b[43m(\u001b[49m\u001b[38;5;28;43mself\u001b[39;49m\u001b[38;5;241;43m.\u001b[39;49m\u001b[43m_name\u001b[49m\u001b[43m,\u001b[49m\u001b[43m \u001b[49m\u001b[43mmode\u001b[49m\u001b[43m)\u001b[49m\n\u001b[1;32m    383\u001b[0m \u001b[38;5;28;01melse\u001b[39;00m:\n\u001b[1;32m    384\u001b[0m     \u001b[38;5;28mself\u001b[39m\u001b[38;5;241m.\u001b[39m_handle \u001b[38;5;241m=\u001b[39m handle\n",
      "\u001b[0;31mOSError\u001b[0m: dlopen(/Users/lex/anaconda3/envs/symred/lib/python3.9/site-packages/pyscf/lib/libnp_helper.dylib, 0x0006): Library not loaded: '/usr/local/opt/libomp/lib/libomp.dylib'\n  Referenced from: '/Users/lex/anaconda3/envs/symred/lib/python3.9/site-packages/pyscf/lib/libnp_helper.dylib'\n  Reason: tried: '/usr/local/opt/libomp/lib/libomp.dylib' (no such file), '/usr/local/lib/libomp.dylib' (no such file), '/usr/lib/libomp.dylib' (no such file)"
     ]
    }
   ],
   "source": [
    "from symmer.chemistry import MoleculeBuilder\n",
    "\n",
    "atoms  = ['Be']\n",
    "coords = [(0,0,0)]\n",
    "charge = 0\n",
    "spin   = 0\n",
    "basis  = 'sto-3g'\n",
    "\n",
    "molecule = MoleculeBuilder(\n",
    "    geometry=list(zip(atoms, coords)), \n",
    "    charge=charge, \n",
    "    basis=basis, \n",
    "    spin=spin, \n",
    "    run_fci=True, \n",
    "    print_info=True\n",
    ")"
   ]
  },
  {
   "cell_type": "code",
   "execution_count": null,
   "id": "64a90203",
   "metadata": {},
   "outputs": [],
   "source": [
    "molecule.data_dictionary()"
   ]
  },
  {
   "cell_type": "markdown",
   "id": "2b197d03",
   "metadata": {},
   "source": [
    "The second-quantised Hamiltonian for this molecular system:"
   ]
  },
  {
   "cell_type": "code",
   "execution_count": null,
   "id": "751d7737",
   "metadata": {
    "scrolled": true
   },
   "outputs": [],
   "source": [
    "print(molecule.H)"
   ]
  },
  {
   "cell_type": "markdown",
   "id": "731f3462",
   "metadata": {},
   "source": [
    "... and after a mapping onto qubits, we obtain the Hamiltonian"
   ]
  },
  {
   "cell_type": "code",
   "execution_count": null,
   "id": "6db8f02f",
   "metadata": {
    "scrolled": true
   },
   "outputs": [],
   "source": [
    "H = molecule.H_q\n",
    "print(H)"
   ]
  },
  {
   "cell_type": "markdown",
   "id": "b84ea4c4",
   "metadata": {},
   "source": [
    "Note that the ground state energy of this Hamiltonian matches the full-configuration interaction (FCI) energy above"
   ]
  },
  {
   "cell_type": "code",
   "execution_count": null,
   "id": "5be573ec",
   "metadata": {},
   "outputs": [],
   "source": [
    "from symmer.utils import exact_gs_energy\n",
    "from symmer.symplectic import QuantumState\n",
    "\n",
    "gs_nrg, gs_psi = exact_gs_energy(molecule.H_q.to_sparse_matrix)\n",
    "\n",
    "print(f'Ground state energy = {gs_nrg}, with FCI error {abs(gs_nrg - molecule.fci_energy)}.\\n')\n",
    "print('The ground state is:\\n'); print(gs_psi)"
   ]
  },
  {
   "cell_type": "markdown",
   "id": "fd8a9362",
   "metadata": {},
   "source": [
    "# Taper the Hamiltonian first\n",
    "\n",
    "Before we apply CS-VQE, one might as well perform qubit tapering since it does not introduce any systematic error"
   ]
  },
  {
   "cell_type": "code",
   "execution_count": null,
   "id": "1be9c499",
   "metadata": {},
   "outputs": [],
   "source": [
    "from symmer.projection import QubitTapering\n",
    "\n",
    "QT = QubitTapering(H)\n",
    "print(f'Qubit tapering permits a reduction of {H.n_qubits} -> {H.n_qubits-QT.n_taper} qubits.\\n')\n",
    "print('The following symmetry generators were identified:\\n')\n",
    "print(QT.symmetry_generators); print()\n",
    "print('which we may rotate onto the single-qubit Pauli operators\\n') \n",
    "print(QT.symmetry_generators.rotate_onto_single_qubit_paulis()); print()\n",
    "print('via a sequence of Clifford operations R_k = e^{i pi/4 P_k} where:\\n')\n",
    "for index, (P_k, angle) in enumerate(QT.symmetry_generators.stabilizer_rotations):\n",
    "    P_k.sigfig=0\n",
    "    print(f'P_{index} = {P_k}')"
   ]
  },
  {
   "cell_type": "code",
   "execution_count": null,
   "id": "def1b88b",
   "metadata": {},
   "outputs": [],
   "source": [
    "H_taper = QT.taper_it(ref_state=molecule.hf_array) \n",
    "UCC_taper = QT.taper_it(aux_operator=molecule.UCC_q)\n",
    "# note the reference state to place us in the correct symmetry sector!\n",
    "\n",
    "gs_nrg_tap, gs_psi_tap = exact_gs_energy(H_taper.to_sparse_matrix)\n",
    "\n",
    "print(f'The ground state energy of the Hamiltonian is {gs_nrg}')\n",
    "print(f'and for the {H_taper.n_qubits}-qubit tapered Hamiltonian it is {gs_nrg_tap};')\n",
    "print(f'the energy error is {abs(gs_nrg - gs_nrg_tap)}.\\n')\n",
    "print('The tapered ground state is:\\n')\n",
    "print(gs_psi_tap)"
   ]
  },
  {
   "cell_type": "markdown",
   "id": "bcfe828f",
   "metadata": {},
   "source": [
    "# Now we build the CS-VQE model\n",
    "\n",
    "This involves partitioning $H$ into _noncontextual_ and _contextual_ componenents satisfying $H = H_\\mathrm{noncon} + H_\\mathrm{context}$."
   ]
  },
  {
   "cell_type": "code",
   "execution_count": null,
   "id": "d3512213",
   "metadata": {},
   "outputs": [],
   "source": [
    "from symmer.projection import ContextualSubspace\n",
    "\n",
    "cs_vqe = ContextualSubspace(H_taper, noncontextual_strategy='SingleSweep_magnitude')"
   ]
  },
  {
   "cell_type": "markdown",
   "id": "d820c408",
   "metadata": {},
   "source": [
    "Noncontextual Hamiltonians have a very specific form, namely their terms $\\mathcal{T}$ may be decomposed as\n",
    "\\begin{equation}\n",
    "    \\mathcal{T} = \\mathcal{S} \\cup \\mathcal{C}_1 \\cup \\dots \\cup \\mathcal{C}_M \n",
    "\\end{equation}\n",
    "where $\\mathcal{S}$ contains the terms that commute globally (i.e. the noncontextual symmetries) and a collection of cliques with respect to commutation."
   ]
  },
  {
   "cell_type": "code",
   "execution_count": null,
   "id": "bf909985",
   "metadata": {},
   "outputs": [],
   "source": [
    "cs_vqe.noncontextual_operator.decomposed"
   ]
  },
  {
   "cell_type": "markdown",
   "id": "71976da4",
   "metadata": {},
   "source": [
    "Representing the Hamiltonian as a graph with edges denoting commutation between Pauli operators, this structure corresponds with a partition into complete subgraphs:"
   ]
  },
  {
   "cell_type": "code",
   "execution_count": null,
   "id": "c609c3fd",
   "metadata": {},
   "outputs": [],
   "source": [
    "from symmer.symplectic import ObservableGraph, PauliwordOp\n",
    "from matplotlib import pyplot as plt\n",
    "import networkx as nx\n",
    "import numpy as np\n",
    "\n",
    "adjmat = cs_vqe.noncontextual_operator.adjacency_matrix.copy()\n",
    "mask_nonsymmetries = ~np.all(adjmat, axis=1)\n",
    "adjmat = adjmat[mask_nonsymmetries,:][:,mask_nonsymmetries]\n",
    "np.fill_diagonal(adjmat, False)\n",
    "graph = nx.from_numpy_matrix(adjmat)\n",
    "\n",
    "plt.figure()\n",
    "pos = nx.spring_layout(graph, k=1)\n",
    "nx.draw_networkx_nodes(graph,pos,node_color='black', node_size=50)\n",
    "nx.draw_networkx_edges(graph, pos,width=1)\n",
    "plt.show()"
   ]
  },
  {
   "cell_type": "markdown",
   "id": "1cf8dec3",
   "metadata": {},
   "source": [
    "Identifying a generating set $\\mathcal{G}$ for the symmetry terms $\\mathcal{S}$ and constructing the clique operator $A(\\vec{r}) = \\sum_{i=1}^M r_i C_i$ for clique representatives $C_i \\in \\mathcal{C}_i$ and coefficients $\\vec{r} \\in \\mathbb{R}^M$ satisfying $|\\vec{r}|=1$ allows us to rewrite\n",
    "\n",
    "\\begin{equation}\n",
    "    H_\\mathrm{noncon} = \\sum_{P \\in \\overline{\\mathcal{G}}} \\bigg(h_{P}^\\prime + \\sum_{i=1}^M h_{P,i} C_i \\bigg) P,\n",
    "\\end{equation}\n",
    "\n",
    "and yields a classical objective function over parameters $\\vec{\\nu} \\in \\{\\pm 1\\}^{|\\mathcal{G}|}$ and $\\vec{r} \\in \\mathbb{R}^M$ for the noncontetual energy expectation value:\n",
    "\n",
    "\\begin{equation}\\label{classical_objective}\n",
    "\\begin{aligned}\n",
    "    \\eta(\\vec{\\nu}, \\vec{r}) \n",
    "    :={} & {\\langle H_\\mathrm{noncon} \\rangle_{(\\vec{\\nu}, \\vec{r})}} \\\\\n",
    "    ={} & \\sum_{P \\in \\overline{\\mathcal{G}}} \\bigg(h_{P}^\\prime + \\sum_{i=1}^M h_{P,i} \\langle{C_i}\\rangle_{(\\vec{\\nu}, \\vec{r})} \\bigg) \\langle{P}\\rangle_{(\\vec{\\nu}, \\vec{r})} \\\\\n",
    "    ={} & \\sum_{P \\in \\overline{\\mathcal{G}}} \\bigg(h_{P}^\\prime + \\sum_{i=1}^M h_{P,i} r_i \\bigg) \\prod_{G \\in \\mathcal{G}_{P}} \\nu_{f(G)}.\n",
    "\\end{aligned}\n",
    "\\end{equation}"
   ]
  },
  {
   "cell_type": "code",
   "execution_count": null,
   "id": "043e1a50",
   "metadata": {},
   "outputs": [],
   "source": [
    "print('The symmetry generators G are:\\n')\n",
    "print(cs_vqe.noncontextual_operator.symmetry_generators); print()\n",
    "print('The clique operator A(r) is:\\n')\n",
    "print(cs_vqe.noncontextual_operator.clique_operator); print()\n",
    "print(f'The optimal paramters are '+ \n",
    "      f'nu={cs_vqe.noncontextual_operator.symmetry_generators.coeff_vec}, r={cs_vqe.noncontextual_operator.clique_operator.coeff_vec},')\n",
    "print(f'which yields a noncontextual energy of n(nu,r) = {cs_vqe.noncontextual_operator.energy}')"
   ]
  },
  {
   "cell_type": "markdown",
   "id": "c2e65c05",
   "metadata": {},
   "source": [
    "# Quantum corrections\n",
    "\n",
    "We have obtained a classical estimate to the ground state energy from the noncontextual Hamiltonian - the power of CS-VQE is in how it derives quantum corrections from a VQE simulation of the contextual Hamiltonian. To ensure the corrections are valid, we constrain the contextual problem by the solution to the noncontextual one. This is achieved via stabilizer subspace projections - similar in vain to tapering, except the imposed symmetries are those of the noncontextual Hamiltonian. This results in a loss of information, since symmetry-breaking terms vanish under such a projection. \n",
    "\n",
    "We choose a set of stabilizers $\\mathcal{F}$ we would like to fix in the contextual subspace; identifying a unitary operation $U_\\mathcal{F}$ mapping $\\mathcal{F}$ to single-qubit Pauli operators we may obtain a reduced $(N-|\\mathcal{F}|)$-qubit Hamiltonian\n",
    "\n",
    "\\begin{equation}\n",
    "    \\tilde{H}= \\pi_{U_{\\mathcal{F}}} (H_\\mathrm{context})\n",
    "\\end{equation}\n",
    "\n",
    "with the projection $\\pi(\\cdot)$ defined in [this](https://arxiv.org/pdf/2204.02150.pdf) paper."
   ]
  },
  {
   "cell_type": "code",
   "execution_count": null,
   "id": "68cde7f5",
   "metadata": {},
   "outputs": [],
   "source": [
    "from symmer.symplectic import StabilizerOp\n",
    "\n",
    "cs_vqe.update_stabilizers(n_qubits = 3, strategy='aux_preserving', aux_operator=UCC_taper)\n",
    "# the user may specify stabilizers manually also:\n",
    "# cs_vqe.manual_stabilizers(['ZIZZZ', 'ZZIII'])\n",
    "\n",
    "H_cs = cs_vqe.project_onto_subspace()\n",
    "print(f'We may project into the contextual subspace stabilized by '+\n",
    "      f'{list(cs_vqe.stabilizers.to_dictionary.keys())} via a sequence of rotations:\\n')\n",
    "\n",
    "if cs_vqe.perform_unitary_partitioning:\n",
    "    print(f'Note the clique operator')\n",
    "    print(cs_vqe.noncontextual_operator.clique_operator) \n",
    "    print('is enforced for this set of stabilizers.')\n",
    "#for index, (P_k, angle) in enumerate(\n",
    "#    cs_vqe.unitary_partitioning_rotations+cs_vqe.stabilizers.stabilizer_rotations\n",
    "#    ):\n",
    "#    P_k.sigfig=0\n",
    "#    print(f'P_{index} = {P_k}')\n",
    "    \n",
    "print(f'\\nand tracing over qubit positions {cs_vqe.stab_qubit_indices} yields the {H_cs.n_qubits}-qubit Hamiltonian:\\n')\n",
    "print(H_cs)"
   ]
  },
  {
   "cell_type": "code",
   "execution_count": null,
   "id": "5313b96e",
   "metadata": {},
   "outputs": [],
   "source": [
    "cs_vqe.stabilizers.stabilizer_rotations"
   ]
  },
  {
   "cell_type": "code",
   "execution_count": null,
   "id": "f5e3b115",
   "metadata": {},
   "outputs": [],
   "source": [
    "cs_vqe.unitary_partitioning_rotations"
   ]
  },
  {
   "cell_type": "markdown",
   "id": "1e1c0c4b",
   "metadata": {},
   "source": [
    "Performing a VQE simulation over this Hamiltonian yields the quantum-corrected energy"
   ]
  },
  {
   "cell_type": "code",
   "execution_count": null,
   "id": "724f1ae9",
   "metadata": {},
   "outputs": [],
   "source": [
    "from symmer.symplectic import ObservableOp, AnsatzOp\n",
    "\n",
    "UCC_cs = cs_vqe.project_onto_subspace(UCC_taper)\n",
    "obs_cs = ObservableOp(H_cs.symp_matrix, H_cs.coeff_vec)\n",
    "anz_cs = AnsatzOp(UCC_cs.symp_matrix, np.random.random(UCC_cs.n_terms))\n",
    "ref_cs = molecule.hf_array[QT.free_qubit_indices][cs_vqe.free_qubit_indices]\n",
    "\n",
    "vqe_result, interim_data = obs_cs.VQE(\n",
    "    ansatz_op=anz_cs, \n",
    "    ref_state=ref_cs,\n",
    "    optimizer='BFGS',\n",
    "    maxiter=20\n",
    ")\n",
    "print(f'Converged VQE energy = {vqe_result.fun} with FCI error {abs(vqe_result.fun-molecule.fci_energy)}')"
   ]
  },
  {
   "cell_type": "code",
   "execution_count": null,
   "id": "e0b1c8bd",
   "metadata": {},
   "outputs": [],
   "source": [
    "fig, axis = plt.subplots(figsize=(10,6))\n",
    "\n",
    "X,Y = zip(*interim_data['values'])\n",
    "axis.plot(X, abs(np.array(Y)-molecule.fci_energy), color='black', label='$E(\\\\theta)$')\n",
    "axis.hlines(abs(cs_vqe.noncontextual_operator.energy-molecule.fci_energy), 1, X[-1], color='orange', ls='--', label='Noncontextual energy')\n",
    "axis.fill_between(X, 0, 0.0016, color='green', alpha=0.2, label='Chemical accuracy')\n",
    "axis.set_yscale('log')\n",
    "axis.set_ylabel('Error w.r.t. FCI [Ha]')\n",
    "axis.set_xlabel('nfev')\n",
    "axis.legend()\n",
    "plt.show()"
   ]
  },
  {
   "cell_type": "code",
   "execution_count": null,
   "id": "e98268b4",
   "metadata": {},
   "outputs": [],
   "source": []
  }
 ],
 "metadata": {
  "kernelspec": {
   "display_name": "Python 3 (ipykernel)",
   "language": "python",
   "name": "python3"
  },
  "language_info": {
   "codemirror_mode": {
    "name": "ipython",
    "version": 3
   },
   "file_extension": ".py",
   "mimetype": "text/x-python",
   "name": "python",
   "nbconvert_exporter": "python",
   "pygments_lexer": "ipython3",
   "version": "3.9.7"
  },
  "vscode": {
   "interpreter": {
    "hash": "916dbcbb3f70747c44a77c7bcd40155683ae19c65e1c03b4aa3499c5328201f1"
   }
  }
 },
 "nbformat": 4,
 "nbformat_minor": 5
}
