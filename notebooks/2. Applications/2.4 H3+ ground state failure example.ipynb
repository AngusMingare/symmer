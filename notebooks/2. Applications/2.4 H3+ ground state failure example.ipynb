{
 "cells": [
  {
   "cell_type": "markdown",
   "id": "2f5c6e01",
   "metadata": {},
   "source": [
    "# A cautionary tale of ground state energy calculation\n",
    "\n",
    "When calculating the ground state energy of an electronic structure Hamiltonian, some care should be exercised. Converting the Hamiltonian to a sparse matrix and finding the least eigenvalue will not always be the _true_ ground state with respect to the system it represents, since the diagonalization scheme used may not inherently observe any symmetries present in the underlying physical system.\n",
    "\n",
    "Consider the following $H_3^+$ example, consisting of 2 electrons in 6 spin-orbitals..."
   ]
  },
  {
   "cell_type": "code",
   "execution_count": 1,
   "id": "29fc03b7",
   "metadata": {},
   "outputs": [],
   "source": [
    "import numpy as np\n",
    "import os\n",
    "import json\n",
    "from matplotlib import pyplot as plt\n",
    "\n",
    "cwd = os.getcwd()\n",
    "notebook_dir =  os.path.dirname(cwd)\n",
    "symmer_dir = os.path.dirname(notebook_dir)\n",
    "test_dir = os.path.join(symmer_dir, 'tests')\n",
    "ham_data_dir = os.path.join(test_dir, 'hamiltonian_data')\n",
    "\n",
    "if not os.path.isdir(ham_data_dir):\n",
    "    raise ValueError('cannot find data dir')\n",
    "    \n",
    "filename = 'H3+_STO-3G_SINGLET_JW.json'\n",
    "\n",
    "if filename not in os.listdir(ham_data_dir):\n",
    "    raise ValueError('unknown file')\n",
    "    \n",
    "with open(os.path.join(ham_data_dir, filename), 'r') as infile:\n",
    "    data_dict = json.load(infile)"
   ]
  },
  {
   "cell_type": "code",
   "execution_count": 7,
   "id": "a652a0b1",
   "metadata": {},
   "outputs": [],
   "source": [
    "from symmer.symplectic import PauliwordOp\n",
    "\n",
    "fci_energy = data_dict['data']['calculated_properties']['FCI']['energy']\n",
    "hf_array   = np.asarray(data_dict['data']['hf_array'])\n",
    "n_particles = data_dict['data']['n_particles']\n",
    "number_operator = PauliwordOp.from_dictionary(data_dict['data']['auxiliary_operators']['number_operator'])\n",
    "H = PauliwordOp.from_dictionary(data_dict['hamiltonian'])"
   ]
  },
  {
   "cell_type": "markdown",
   "id": "1a12cea3",
   "metadata": {},
   "source": [
    "Naively computing the ground state energy by taking the smallest eigenvalue of the Hamiltonian does not match the FCI energy:"
   ]
  },
  {
   "cell_type": "code",
   "execution_count": 8,
   "id": "55e0ea78",
   "metadata": {},
   "outputs": [
    {
     "name": "stdout",
     "output_type": "stream",
     "text": [
      "Least eigenvalue = -1.3609986808737295 | FCI error = -0.08658598114704441\n"
     ]
    }
   ],
   "source": [
    "from symmer.utils import exact_gs_energy\n",
    "\n",
    "gs_nrg, psi = exact_gs_energy(H.to_sparse_matrix)\n",
    "\n",
    "print(f'Least eigenvalue = {gs_nrg} | FCI error = {gs_nrg - fci_energy}')"
   ]
  },
  {
   "cell_type": "markdown",
   "id": "c632ed58",
   "metadata": {},
   "source": [
    "What has gone wrong here? Taking a look at the corresponding eigenvector, we see the identified state actually contains 3 particles, whereas the underlying system only contains 2:"
   ]
  },
  {
   "cell_type": "code",
   "execution_count": 9,
   "id": "15aef568",
   "metadata": {},
   "outputs": [
    {
     "name": "stdout",
     "output_type": "stream",
     "text": [
      "Eigenvector with eigenvalue -1.3609986808737295:\n",
      "\n",
      "-0.000+0.000j |000111> +\n",
      "-0.124+0.001j |001011> +\n",
      "-0.000-0.000j |001101> +\n",
      " 0.000+0.000j |001110> +\n",
      "-0.000+0.000j |010011> +\n",
      " 0.000+0.000j |010110> +\n",
      "-0.000-0.000j |011001> +\n",
      " 0.000-0.000j |011100> +\n",
      "-0.150+0.002j |100011> +\n",
      "-0.000-0.000j |100110> +\n",
      " 0.000+0.000j |101001> +\n",
      " 0.150-0.002j |101100> +\n",
      " 0.000+0.000j |110000> +\n",
      " 0.000+0.000j |110001> +\n",
      "-0.000-0.000j |110010> +\n",
      " 0.000-0.000j |110100> +\n",
      " 0.969-0.010j |111000>\n"
     ]
    }
   ],
   "source": [
    "print(f'Eigenvector with eigenvalue {gs_nrg}:\\n')\n",
    "print(psi)"
   ]
  },
  {
   "cell_type": "markdown",
   "id": "b51b93ff",
   "metadata": {},
   "source": [
    "To counter this issue, we instead need to select the least eigenvalue that contains the _correct_ number of particles. This is implemented in `symmer.chemistry.exact_gs_energy`"
   ]
  },
  {
   "cell_type": "code",
   "execution_count": 11,
   "id": "5265519a",
   "metadata": {},
   "outputs": [
    {
     "name": "stdout",
     "output_type": "stream",
     "text": [
      "Least eigenvalue = -1.274412699726865 | FCI error = -1.7985612998927536e-13\n",
      "\n",
      "Eigenvector with eigenvalue -1.274412699726865:\n",
      "\n",
      " 0.096-0.006j |000011> +\n",
      " 0.096-0.006j |001100> +\n",
      " 0.000-0.000j |011000> +\n",
      " 0.000-0.000j |100100> +\n",
      "-0.989+0.063j |110000> +\n",
      "-0.000+0.000j |110001> +\n",
      " 0.000+0.000j |111000>\n"
     ]
    }
   ],
   "source": [
    "gs_nrg, psi = exact_gs_energy(\n",
    "    H.to_sparse_matrix, \n",
    "    n_particles=n_particles, \n",
    "    number_operator=number_operator\n",
    ")\n",
    "\n",
    "print(f'Least eigenvalue = {gs_nrg} | FCI error = {gs_nrg - fci_energy}\\n')\n",
    "print(f'Eigenvector with eigenvalue {gs_nrg}:\\n')\n",
    "print(psi)"
   ]
  },
  {
   "cell_type": "markdown",
   "id": "a3066e1c",
   "metadata": {},
   "source": [
    "Success! We have now recovered the true ground state by enforcing that only solutions with the correct number of particles are considered. Note however it is possible that no solution is identified at first - in this case, increase the `n_eigs` parameter in `symmer.chem.exact_gs_state` to increase the search space."
   ]
  }
 ],
 "metadata": {
  "kernelspec": {
   "display_name": "Python 3 (ipykernel)",
   "language": "python",
   "name": "python3"
  },
  "language_info": {
   "codemirror_mode": {
    "name": "ipython",
    "version": 3
   },
   "file_extension": ".py",
   "mimetype": "text/x-python",
   "name": "python",
   "nbconvert_exporter": "python",
   "pygments_lexer": "ipython3",
   "version": "3.8.13"
  },
  "vscode": {
   "interpreter": {
    "hash": "916dbcbb3f70747c44a77c7bcd40155683ae19c65e1c03b4aa3499c5328201f1"
   }
  }
 },
 "nbformat": 4,
 "nbformat_minor": 5
}
