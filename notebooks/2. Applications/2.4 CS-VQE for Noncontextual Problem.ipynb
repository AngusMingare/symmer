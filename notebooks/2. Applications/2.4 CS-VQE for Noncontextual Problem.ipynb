{
 "cells": [
  {
   "cell_type": "markdown",
   "id": "e26c20d1",
   "metadata": {},
   "source": [
    "# Noncontextual Electronic Structure\n",
    "\n",
    "How to solve $H_{noncontextual}$ given the following partition:\n",
    "\n",
    "$$H_{full} = H_\\mathrm{noncontextual} + H_\\mathrm{context}$$"
   ]
  },
  {
   "cell_type": "code",
   "execution_count": null,
   "id": "96276a2a",
   "metadata": {},
   "outputs": [],
   "source": []
  },
  {
   "cell_type": "markdown",
   "id": "a92ac90c",
   "metadata": {},
   "source": [
    "# First we need a Hamiltonian"
   ]
  },
  {
   "cell_type": "code",
   "execution_count": 1,
   "id": "ec5ea810",
   "metadata": {},
   "outputs": [],
   "source": [
    "import os\n",
    "import json\n",
    "\n",
    "cwd = os.getcwd()\n",
    "notebook_dir =  os.path.dirname(cwd)\n",
    "symmer_dir = os.path.dirname(notebook_dir)\n",
    "test_dir = os.path.join(symmer_dir, 'tests')\n",
    "ham_data_dir = os.path.join(test_dir, 'hamiltonian_data')\n",
    "\n",
    "if not os.path.isdir(ham_data_dir):\n",
    "    raise ValueError('cannot find data dir')"
   ]
  },
  {
   "cell_type": "code",
   "execution_count": 2,
   "id": "62b9d788",
   "metadata": {},
   "outputs": [],
   "source": [
    "# os.listdir(ham_data_dir)"
   ]
  },
  {
   "cell_type": "code",
   "execution_count": 3,
   "id": "18302774",
   "metadata": {},
   "outputs": [],
   "source": [
    "filename = 'B_STO-3G_DOUBLET_JW.json'#'H2O_STO-3G_SINGLET_BK.json'\n",
    "\n",
    "if filename not in os.listdir(ham_data_dir):\n",
    "    raise ValueError('unknown file')\n",
    "    \n",
    "with open(os.path.join(ham_data_dir, filename), 'r') as infile:\n",
    "    data_dict = json.load(infile)"
   ]
  },
  {
   "cell_type": "code",
   "execution_count": 4,
   "id": "9d2e3b76",
   "metadata": {},
   "outputs": [
    {
     "data": {
      "text/plain": [
       "10"
      ]
     },
     "execution_count": 4,
     "metadata": {},
     "output_type": "execute_result"
    }
   ],
   "source": [
    "from symmer.symplectic import PauliwordOp\n",
    "H = PauliwordOp.from_dictionary(data_dict['hamiltonian'])\n",
    "H.n_qubits"
   ]
  },
  {
   "cell_type": "markdown",
   "id": "bcfe828f",
   "metadata": {},
   "source": [
    "# Solving the noncontexutal problem!"
   ]
  },
  {
   "cell_type": "code",
   "execution_count": 5,
   "id": "63f6bc7b",
   "metadata": {},
   "outputs": [],
   "source": [
    "from symmer.projection import ContextualSubspace\n",
    "\n",
    "cs_vqe = ContextualSubspace(H, noncontextual_strategy='SingleSweep_magnitude')"
   ]
  },
  {
   "cell_type": "markdown",
   "id": "d820c408",
   "metadata": {},
   "source": [
    "Noncontextual Hamiltonians have a very specific form, namely their terms $\\mathcal{T}$ may be decomposed as\n",
    "\\begin{equation}\n",
    "    \\mathcal{T} = \\mathcal{S} \\cup \\mathcal{C}_1 \\cup \\dots \\cup \\mathcal{C}_M \n",
    "\\end{equation}\n",
    "where $\\mathcal{S}$ contains the terms that commute globally (i.e. the noncontextual symmetries) and a collection of cliques with respect to commutation."
   ]
  },
  {
   "cell_type": "code",
   "execution_count": 6,
   "id": "8c58e4ac",
   "metadata": {},
   "outputs": [
    {
     "data": {
      "text/plain": [
       "{'symmetry': -15.808+0.000j IIIIIIIIII +\n",
       "  3.977+0.000j ZIIIIIIIII +\n",
       "  0.198+0.000j IIZIIIIIII +\n",
       "  0.186+0.000j ZIIIIIIIIZ +\n",
       "  0.186+0.000j ZIIIIIIZII +\n",
       "  0.186+0.000j ZIIIIZIIII +\n",
       "  0.180+0.000j ZIIIIIZIII +\n",
       "  0.180+0.000j ZIIIIIIIZI +\n",
       "  0.180+0.000j ZIIIZIIIII +\n",
       "  0.171+0.000j ZIZIIIIIII +\n",
       "  0.171+0.000j IZIZIIIIII +\n",
       "  0.147+0.000j IIIIIIZZII +\n",
       "  0.147+0.000j IIIIZZIIII +\n",
       "  0.147+0.000j IIIIIIIIZZ +\n",
       "  0.133+0.000j IIZIIZIIII +\n",
       "  0.133+0.000j IIZIIIIZII +\n",
       "  0.133+0.000j IIZIIIIIIZ +\n",
       "  0.131+0.000j IIIIIIZIIZ +\n",
       "  0.131+0.000j IIIIIIIZZI +\n",
       "  0.131+0.000j IIIIZIIZII +\n",
       "  0.131+0.000j IIIIZIIIIZ +\n",
       "  0.131+0.000j IIIIIZZIII +\n",
       "  0.131+0.000j IIIIIZIIZI +\n",
       "  0.123+0.000j IIIIIIZIZI +\n",
       "  0.123+0.000j IIIIZIZIII +\n",
       "  0.123+0.000j IIIIIIIZIZ +\n",
       "  0.123+0.000j IIIIZIIIZI +\n",
       "  0.123+0.000j IIIIIZIZII +\n",
       "  0.123+0.000j IIIIIZIIIZ +\n",
       "  0.105+0.000j IIZIZIIIII +\n",
       "  0.105+0.000j IIZIIIZIII +\n",
       "  0.105+0.000j IIZIIIIIZI +\n",
       "  0.050+0.000j IIIIZIIIII +\n",
       "  0.050+0.000j IIIIIIIZII +\n",
       "  0.050+0.000j IIIIIIZIII +\n",
       "  0.050+0.000j IIIIIIIIZI +\n",
       "  0.050+0.000j IIIIIZIIII +\n",
       "  0.050+0.000j IIIIIIIIIZ,\n",
       " 'clique_0':  0.005+0.000j IXIXIIIIII +\n",
       "  0.062+0.000j IXZXIIIIII +\n",
       "  0.010+0.000j IXZXIIIIIZ +\n",
       "  0.003+0.000j IXZXIIIIZI +\n",
       "  0.010+0.000j IXZXIIIZII +\n",
       "  0.003+0.000j IXZXIIZIII +\n",
       "  0.010+0.000j IXZXIZIIII +\n",
       "  0.003+0.000j IXZXZIIIII +\n",
       "  0.005+0.000j IYIYIIIIII +\n",
       "  0.062+0.000j IYZYIIIIII +\n",
       "  0.010+0.000j IYZYIIIIIZ +\n",
       "  0.003+0.000j IYZYIIIIZI +\n",
       "  0.010+0.000j IYZYIIIZII +\n",
       "  0.003+0.000j IYZYIIZIII +\n",
       "  0.010+0.000j IYZYIZIIII +\n",
       "  0.003+0.000j IYZYZIIIII +\n",
       "  0.083+0.000j ZXZXIIIIII +\n",
       "  0.083+0.000j ZYZYIIIIII,\n",
       " 'clique_1':  0.198+0.000j IIIZIIIIII +\n",
       "  0.105+0.000j IIIZIIIIIZ +\n",
       "  0.133+0.000j IIIZIIIIZI +\n",
       "  0.105+0.000j IIIZIIIZII +\n",
       "  0.133+0.000j IIIZIIZIII +\n",
       "  0.105+0.000j IIIZIZIIII +\n",
       "  0.133+0.000j IIIZZIIIII +\n",
       "  0.132+0.000j IIZZIIIIII +\n",
       "  3.977+0.000j IZIIIIIIII +\n",
       "  0.180+0.000j IZIIIIIIIZ +\n",
       "  0.186+0.000j IZIIIIIIZI +\n",
       "  0.180+0.000j IZIIIIIZII +\n",
       "  0.186+0.000j IZIIIIZIII +\n",
       "  0.180+0.000j IZIIIZIIII +\n",
       "  0.186+0.000j IZIIZIIIII +\n",
       "  0.186+0.000j IZZIIIIIII +\n",
       "  0.186+0.000j ZIIZIIIIII +\n",
       "  0.723+0.000j ZZIIIIIIII}"
      ]
     },
     "execution_count": 6,
     "metadata": {},
     "output_type": "execute_result"
    }
   ],
   "source": [
    "cs_vqe.noncontextual_operator.decomposed"
   ]
  },
  {
   "cell_type": "code",
   "execution_count": 7,
   "id": "bf909985",
   "metadata": {},
   "outputs": [
    {
     "data": {
      "text/plain": [
       "-15.808+0.000j IIIIIIIIII +\n",
       " 3.977+0.000j IZIIIIIIII +\n",
       " 3.977+0.000j ZIIIIIIIII +\n",
       " 0.723+0.000j ZZIIIIIIII +\n",
       " 0.198+0.000j IIZIIIIIII +\n",
       " 0.198+0.000j IIIZIIIIII +\n",
       " 0.186+0.000j ZIIZIIIIII +\n",
       " 0.186+0.000j IZZIIIIIII +\n",
       " 0.186+0.000j IZIIIIZIII +\n",
       " 0.186+0.000j IZIIIIIIZI +\n",
       " 0.186+0.000j ZIIIIIIIIZ +\n",
       " 0.186+0.000j ZIIIIIIZII +\n",
       " 0.186+0.000j IZIIZIIIII +\n",
       " 0.186+0.000j ZIIIIZIIII +\n",
       " 0.180+0.000j IZIIIIIZII +\n",
       " 0.180+0.000j ZIIIIIZIII +\n",
       " 0.180+0.000j IZIIIIIIIZ +\n",
       " 0.180+0.000j IZIIIZIIII +\n",
       " 0.180+0.000j ZIIIIIIIZI +\n",
       " 0.180+0.000j ZIIIZIIIII +\n",
       " 0.171+0.000j ZIZIIIIIII +\n",
       " 0.171+0.000j IZIZIIIIII +\n",
       " 0.147+0.000j IIIIIIZZII +\n",
       " 0.147+0.000j IIIIZZIIII +\n",
       " 0.147+0.000j IIIIIIIIZZ +\n",
       " 0.133+0.000j IIZIIZIIII +\n",
       " 0.133+0.000j IIZIIIIZII +\n",
       " 0.133+0.000j IIZIIIIIIZ +\n",
       " 0.133+0.000j IIIZZIIIII +\n",
       " 0.133+0.000j IIIZIIZIII +\n",
       " 0.133+0.000j IIIZIIIIZI +\n",
       " 0.132+0.000j IIZZIIIIII +\n",
       " 0.131+0.000j IIIIIIZIIZ +\n",
       " 0.131+0.000j IIIIIIIZZI +\n",
       " 0.131+0.000j IIIIZIIZII +\n",
       " 0.131+0.000j IIIIZIIIIZ +\n",
       " 0.131+0.000j IIIIIZZIII +\n",
       " 0.131+0.000j IIIIIZIIZI +\n",
       " 0.123+0.000j IIIIIIZIZI +\n",
       " 0.123+0.000j IIIIZIZIII +\n",
       " 0.123+0.000j IIIIIIIZIZ +\n",
       " 0.123+0.000j IIIIZIIIZI +\n",
       " 0.123+0.000j IIIIIZIZII +\n",
       " 0.123+0.000j IIIIIZIIIZ +\n",
       " 0.105+0.000j IIZIZIIIII +\n",
       " 0.105+0.000j IIZIIIZIII +\n",
       " 0.105+0.000j IIZIIIIIZI +\n",
       " 0.105+0.000j IIIZIZIIII +\n",
       " 0.105+0.000j IIIZIIIZII +\n",
       " 0.105+0.000j IIIZIIIIIZ +\n",
       " 0.083+0.000j ZXZXIIIIII +\n",
       " 0.083+0.000j ZYZYIIIIII +\n",
       " 0.062+0.000j IYZYIIIIII +\n",
       " 0.062+0.000j IXZXIIIIII +\n",
       " 0.050+0.000j IIIIZIIIII +\n",
       " 0.050+0.000j IIIIIIIZII +\n",
       " 0.050+0.000j IIIIIIZIII +\n",
       " 0.050+0.000j IIIIIIIIZI +\n",
       " 0.050+0.000j IIIIIZIIII +\n",
       " 0.050+0.000j IIIIIIIIIZ +\n",
       " 0.010+0.000j IYZYIIIZII +\n",
       " 0.010+0.000j IYZYIIIIIZ +\n",
       " 0.010+0.000j IYZYIZIIII +\n",
       " 0.010+0.000j IXZXIIIZII +\n",
       " 0.010+0.000j IXZXIIIIIZ +\n",
       " 0.010+0.000j IXZXIZIIII +\n",
       " 0.005+0.000j IXIXIIIIII +\n",
       " 0.005+0.000j IYIYIIIIII +\n",
       " 0.003+0.000j IXZXZIIIII +\n",
       " 0.003+0.000j IYZYIIIIZI +\n",
       " 0.003+0.000j IYZYIIZIII +\n",
       " 0.003+0.000j IYZYZIIIII +\n",
       " 0.003+0.000j IXZXIIIIZI +\n",
       " 0.003+0.000j IXZXIIZIII"
      ]
     },
     "execution_count": 7,
     "metadata": {},
     "output_type": "execute_result"
    }
   ],
   "source": [
    "from symmer.symplectic import NoncontextualOp\n",
    "H_noncon = NoncontextualOp.from_PauliwordOp(cs_vqe.noncontextual_operator)\n",
    "H_noncon"
   ]
  },
  {
   "cell_type": "markdown",
   "id": "71976da4",
   "metadata": {},
   "source": [
    "# Solving the noncontexutal problem!"
   ]
  },
  {
   "cell_type": "markdown",
   "id": "39ecc62f",
   "metadata": {},
   "source": [
    "All terms in $H_{noncon}$ can be generated under the jordan product: $P_{a}\\cdot P_{b} = \\frac{1}{2} \\{P_{a}, P_{b} \\}$. This ensures only one term from the anticommuting set can be used, as joint assignement to anticommuting Pauli operator is not possible!\n"
   ]
  },
  {
   "cell_type": "markdown",
   "id": "1cf8dec3",
   "metadata": {},
   "source": [
    "Identifying a generating set $\\mathcal{G}$ for the symmetry terms $\\mathcal{S}$ and constructing the clique operator $A(\\vec{r}) = \\sum_{i=1}^M r_i C_i$ for clique representatives $C_i \\in \\mathcal{C}_i$ and coefficients $\\vec{r} \\in \\mathbb{R}^M$ satisfying $|\\vec{r}|=1$ allows us to rewrite\n",
    "\n",
    "\\begin{equation}\n",
    "    H_\\mathrm{noncon} = \\sum_{P \\in \\overline{\\mathcal{G}}} \\bigg(h_{P}^\\prime + \\sum_{i=1}^M h_{P,i} C_i \\bigg) P,\n",
    "\\end{equation}\n",
    "\n",
    "and yields a classical objective function over parameters $\\vec{\\nu} \\in \\{\\pm 1\\}^{|\\mathcal{G}|}$ and $\\vec{r} \\in \\mathbb{R}^M$ for the noncontetual energy expectation value:\n",
    "\n",
    "\\begin{equation}\\label{classical_objective}\n",
    "\\begin{aligned}\n",
    "    \\eta(\\vec{\\nu}, \\vec{r}) \n",
    "    :={} & {\\langle H_\\mathrm{noncon} \\rangle_{(\\vec{\\nu}, \\vec{r})}} \\\\\n",
    "    ={} & \\sum_{P \\in \\overline{\\mathcal{G}}} \\bigg(h_{P}^\\prime + \\sum_{i=1}^M h_{P,i} \\langle{C_i}\\rangle_{(\\vec{\\nu}, \\vec{r})} \\bigg) \\langle{P}\\rangle_{(\\vec{\\nu}, \\vec{r})} \\\\\n",
    "    ={} & \\sum_{P \\in \\overline{\\mathcal{G}}} \\bigg(h_{P}^\\prime + \\sum_{i=1}^M h_{P,i} r_i \\bigg) \\prod_{G \\in \\mathcal{G}_{P}} \\nu_{f(G)}.\n",
    "\\end{aligned}\n",
    "\\end{equation}"
   ]
  },
  {
   "cell_type": "markdown",
   "id": "9b2be6e0",
   "metadata": {},
   "source": [
    "### Different optimization strategies to find the ground state!"
   ]
  },
  {
   "cell_type": "code",
   "execution_count": 8,
   "id": "f2818f7e",
   "metadata": {},
   "outputs": [],
   "source": [
    "from symmer.utils import exact_gs_energy\n",
    "\n",
    "gs_energy, psi = exact_gs_energy(H_noncon.to_sparse_matrix)"
   ]
  },
  {
   "cell_type": "code",
   "execution_count": 9,
   "id": "f630f794",
   "metadata": {},
   "outputs": [
    {
     "name": "stdout",
     "output_type": "stream",
     "text": [
      "(-24.148988598855517-1.700029006457271e-16j)\n",
      "(-24.148988598855517-1.700029006457271e-16j)\n"
     ]
    }
   ],
   "source": [
    "i=8\n",
    "print(psi.dagger * H_noncon * psi)\n",
    "print(psi.dagger * H_noncon.symmetry_generators[i].dagger * H_noncon * H_noncon.symmetry_generators[i] * psi)"
   ]
  },
  {
   "cell_type": "code",
   "execution_count": 10,
   "id": "94b357c1",
   "metadata": {},
   "outputs": [
    {
     "data": {
      "text/plain": [
       "1"
      ]
     },
     "execution_count": 10,
     "metadata": {},
     "output_type": "execute_result"
    }
   ],
   "source": [
    "import numpy as np\n",
    "np.sum(np.array([False, True, False]))"
   ]
  },
  {
   "cell_type": "code",
   "execution_count": 11,
   "id": "33ad22fd",
   "metadata": {},
   "outputs": [
    {
     "name": "stderr",
     "output_type": "stream",
     "text": [
      "/home/tweaving/anaconda3/envs/symmer/lib/python3.8/site-packages/symmer/symplectic/independent_op.py:245: UserWarning: The stabilizers ['IIIIIZIIII'] were assigned zero values - bad reference state.\n",
      "  warnings.warn(f'The stabilizers {S_zero} were assigned zero values - bad reference state.')\n"
     ]
    },
    {
     "data": {
      "text/plain": [
       "(-24.148988598853645,\n",
       "  1 IIIIIIIIIZ \n",
       "  1 IIIIIIIIZI \n",
       "  1 IIIIIIIZII \n",
       "  1 IIIIIIZIII \n",
       " -1 IIIIIZIIII \n",
       "  1 IIIIZIIIII \n",
       " -1 IIZIIIIIII \n",
       "  1 IZIZIIIIII \n",
       " -1 ZIIIIIIIII)"
      ]
     },
     "execution_count": 11,
     "metadata": {},
     "output_type": "execute_result"
    }
   ],
   "source": [
    "# %%timeit\n",
    "H_noncon.solve(strategy='brute_force', ref_state=psi)\n",
    "H_noncon.energy, H_noncon.symmetry_generators"
   ]
  },
  {
   "cell_type": "code",
   "execution_count": 12,
   "id": "323ab3d2",
   "metadata": {},
   "outputs": [
    {
     "name": "stderr",
     "output_type": "stream",
     "text": [
      "/home/tweaving/anaconda3/envs/symmer/lib/python3.8/site-packages/symmer/symplectic/independent_op.py:245: UserWarning: The stabilizers ['IIIIIZIIII'] were assigned zero values - bad reference state.\n",
      "  warnings.warn(f'The stabilizers {S_zero} were assigned zero values - bad reference state.')\n"
     ]
    },
    {
     "data": {
      "text/plain": [
       "-23.94847036640804"
      ]
     },
     "execution_count": 12,
     "metadata": {},
     "output_type": "execute_result"
    }
   ],
   "source": [
    "# %%timeit\n",
    "H_noncon.solve(strategy='binary_relaxation', ref_state=psi)\n",
    "H_noncon.energy"
   ]
  },
  {
   "cell_type": "code",
   "execution_count": 13,
   "id": "31adf9dd",
   "metadata": {},
   "outputs": [],
   "source": [
    "# PUSO = Polynomial unconstrained spin Optimization\n",
    "# QUSO: Quadratic Unconstrained Spin Optimization"
   ]
  },
  {
   "cell_type": "code",
   "execution_count": 14,
   "id": "0424df70",
   "metadata": {},
   "outputs": [
    {
     "data": {
      "text/plain": [
       " 1 IIIIIIIIIZ \n",
       " 1 IIIIIIIIZI \n",
       " 1 IIIIIIIZII \n",
       " 1 IIIIIIZIII \n",
       " 1 IIIIIZIIII \n",
       " 1 IIIIZIIIII \n",
       "-1 IIZIIIIIII \n",
       " 1 IZIZIIIIII \n",
       "-1 ZIIIIIIIII"
      ]
     },
     "execution_count": 14,
     "metadata": {},
     "output_type": "execute_result"
    }
   ],
   "source": [
    "H_noncon.symmetry_generators"
   ]
  },
  {
   "cell_type": "code",
   "execution_count": 15,
   "id": "3acb2a85",
   "metadata": {},
   "outputs": [
    {
     "name": "stderr",
     "output_type": "stream",
     "text": [
      "/home/tweaving/anaconda3/envs/symmer/lib/python3.8/site-packages/symmer/symplectic/independent_op.py:245: UserWarning: The stabilizers ['IIIIIZIIII'] were assigned zero values - bad reference state.\n",
      "  warnings.warn(f'The stabilizers {S_zero} were assigned zero values - bad reference state.')\n"
     ]
    },
    {
     "data": {
      "text/plain": [
       "-24.148988598853556"
      ]
     },
     "execution_count": 15,
     "metadata": {},
     "output_type": "execute_result"
    }
   ],
   "source": [
    "# %%timeit\n",
    "H_noncon.solve(strategy='brute_force_PUSO', ref_state=psi)\n",
    "H_noncon.energy#, H_noncon.symmetry_generators"
   ]
  },
  {
   "cell_type": "code",
   "execution_count": 16,
   "id": "2831634a",
   "metadata": {},
   "outputs": [
    {
     "data": {
      "text/plain": [
       "array([ 1,  1,  1,  1, -1,  1, -1,  1, -1])"
      ]
     },
     "execution_count": 16,
     "metadata": {},
     "output_type": "execute_result"
    }
   ],
   "source": [
    "H_noncon.symmetry_generators.coeff_vec"
   ]
  },
  {
   "cell_type": "code",
   "execution_count": 17,
   "id": "27920508",
   "metadata": {},
   "outputs": [
    {
     "name": "stderr",
     "output_type": "stream",
     "text": [
      "/home/tweaving/anaconda3/envs/symmer/lib/python3.8/site-packages/symmer/symplectic/independent_op.py:245: UserWarning: The stabilizers ['IIIIIZIIII'] were assigned zero values - bad reference state.\n",
      "  warnings.warn(f'The stabilizers {S_zero} were assigned zero values - bad reference state.')\n"
     ]
    },
    {
     "data": {
      "text/plain": [
       "-24.148988598853556"
      ]
     },
     "execution_count": 17,
     "metadata": {},
     "output_type": "execute_result"
    }
   ],
   "source": [
    "# %%timeit\n",
    "H_noncon.solve(strategy='brute_force_QUSO', ref_state=psi)\n",
    "H_noncon.energy"
   ]
  },
  {
   "cell_type": "code",
   "execution_count": 18,
   "id": "e936e9c0",
   "metadata": {},
   "outputs": [
    {
     "name": "stderr",
     "output_type": "stream",
     "text": [
      "/home/tweaving/anaconda3/envs/symmer/lib/python3.8/site-packages/symmer/symplectic/independent_op.py:245: UserWarning: The stabilizers ['IIIIIZIIII'] were assigned zero values - bad reference state.\n",
      "  warnings.warn(f'The stabilizers {S_zero} were assigned zero values - bad reference state.')\n",
      "/home/tweaving/anaconda3/envs/symmer/lib/python3.8/site-packages/symmer/symplectic/noncontextual_op.py:511: QUBOVertWarning: The input problem has degree <= 2; consider using the ``qubovert.sim.anneal_qubo`` or ``qubovert.sim.anneal_quso`` functions, which are significantly faster than this function because they take advantage of the low degree.\n",
      "  puso_res = qv.sim.anneal_puso(spin_problem, num_anneals=self.num_anneals)\n",
      "/home/tweaving/anaconda3/envs/symmer/lib/python3.8/site-packages/symmer/symplectic/noncontextual_op.py:511: QUBOVertWarning: The input problem has degree <= 2; consider using the ``qubovert.sim.anneal_qubo`` or ``qubovert.sim.anneal_quso`` functions, which are significantly faster than this function because they take advantage of the low degree.\n",
      "  puso_res = qv.sim.anneal_puso(spin_problem, num_anneals=self.num_anneals)\n",
      "/home/tweaving/anaconda3/envs/symmer/lib/python3.8/site-packages/symmer/symplectic/noncontextual_op.py:511: QUBOVertWarning: The input problem has degree <= 2; consider using the ``qubovert.sim.anneal_qubo`` or ``qubovert.sim.anneal_quso`` functions, which are significantly faster than this function because they take advantage of the low degree.\n",
      "  puso_res = qv.sim.anneal_puso(spin_problem, num_anneals=self.num_anneals)\n",
      "/home/tweaving/anaconda3/envs/symmer/lib/python3.8/site-packages/symmer/symplectic/noncontextual_op.py:511: QUBOVertWarning: The input problem has degree <= 2; consider using the ``qubovert.sim.anneal_qubo`` or ``qubovert.sim.anneal_quso`` functions, which are significantly faster than this function because they take advantage of the low degree.\n",
      "  puso_res = qv.sim.anneal_puso(spin_problem, num_anneals=self.num_anneals)\n"
     ]
    },
    {
     "data": {
      "text/plain": [
       "-24.148988598853556"
      ]
     },
     "execution_count": 18,
     "metadata": {},
     "output_type": "execute_result"
    }
   ],
   "source": [
    "# %%timeit\n",
    "H_noncon.solve(strategy='annealing_PUSO', num_anneals=100, ref_state=psi)\n",
    "H_noncon.energy"
   ]
  },
  {
   "cell_type": "code",
   "execution_count": 19,
   "id": "629242b0",
   "metadata": {},
   "outputs": [
    {
     "name": "stdout",
     "output_type": "stream",
     "text": [
      " 0.168+0.986j |1111010000>\n"
     ]
    },
    {
     "data": {
      "text/plain": [
       "1.822542117224657e-12"
      ]
     },
     "execution_count": 19,
     "metadata": {},
     "output_type": "execute_result"
    }
   ],
   "source": [
    "# %%timeit\n",
    "ref = psi.cleanup(zero_threshold=1e-4).sort()[0].normalize\n",
    "print(ref)\n",
    "\n",
    "H_noncon.solve(strategy='annealing_QUSO', num_anneals=10, ref_state=ref)\n",
    "H_noncon.energy - gs_energy"
   ]
  },
  {
   "cell_type": "code",
   "execution_count": 20,
   "id": "b9df357c",
   "metadata": {},
   "outputs": [
    {
     "data": {
      "text/plain": [
       " 1 IIIIIIIIIZ \n",
       " 1 IIIIIIIIZI \n",
       " 1 IIIIIIIZII \n",
       " 1 IIIIIIZIII \n",
       "-1 IIIIIZIIII \n",
       " 1 IIIIZIIIII \n",
       "-1 IIZIIIIIII \n",
       " 1 IZIZIIIIII \n",
       "-1 ZIIIIIIIII"
      ]
     },
     "execution_count": 20,
     "metadata": {},
     "output_type": "execute_result"
    }
   ],
   "source": [
    "H_noncon.symmetry_generators.update_sector(ref)\n",
    "H_noncon.symmetry_generators"
   ]
  },
  {
   "cell_type": "code",
   "execution_count": null,
   "id": "7785b4df",
   "metadata": {},
   "outputs": [],
   "source": []
  },
  {
   "cell_type": "code",
   "execution_count": 21,
   "id": "9aeb12c3",
   "metadata": {},
   "outputs": [],
   "source": [
    "# # brute_force_PUSO\n",
    "# energy, nu, r = H_noncon._energy_via_brute_force_xUSO(x='P')\n",
    "# energy"
   ]
  },
  {
   "cell_type": "code",
   "execution_count": 22,
   "id": "abcdaa08",
   "metadata": {},
   "outputs": [],
   "source": [
    "# # brute_force_QUSO\n",
    "# energy, nu, r = H_noncon._energy_via_brute_force_xUSO(x='Q')\n",
    "# energy"
   ]
  },
  {
   "cell_type": "code",
   "execution_count": 23,
   "id": "bf850a88",
   "metadata": {},
   "outputs": [],
   "source": [
    "# # annealing_QUSO\n",
    "# energy, nu, r = H_noncon._energy_via_annealing_xUSO(x='Q', num_anneals=1000)\n",
    "# energy"
   ]
  },
  {
   "cell_type": "code",
   "execution_count": 24,
   "id": "9f9802a5",
   "metadata": {},
   "outputs": [],
   "source": [
    "# # annealing_PUSO\n",
    "# energy, nu, r = H_noncon._energy_via_annealing_xUSO(x='P', num_anneals=100)\n",
    "# energy"
   ]
  },
  {
   "cell_type": "code",
   "execution_count": null,
   "id": "884f6fa1",
   "metadata": {},
   "outputs": [],
   "source": []
  },
  {
   "cell_type": "code",
   "execution_count": null,
   "id": "bf4b3e9f",
   "metadata": {},
   "outputs": [],
   "source": []
  },
  {
   "cell_type": "code",
   "execution_count": null,
   "id": "b9915a42",
   "metadata": {},
   "outputs": [],
   "source": []
  },
  {
   "cell_type": "code",
   "execution_count": null,
   "id": "5ba40c39",
   "metadata": {},
   "outputs": [],
   "source": []
  }
 ],
 "metadata": {
  "kernelspec": {
   "display_name": "Python 3 (ipykernel)",
   "language": "python",
   "name": "python3"
  },
  "language_info": {
   "codemirror_mode": {
    "name": "ipython",
    "version": 3
   },
   "file_extension": ".py",
   "mimetype": "text/x-python",
   "name": "python",
   "nbconvert_exporter": "python",
   "pygments_lexer": "ipython3",
   "version": "3.8.13"
  },
  "vscode": {
   "interpreter": {
    "hash": "916dbcbb3f70747c44a77c7bcd40155683ae19c65e1c03b4aa3499c5328201f1"
   }
  }
 },
 "nbformat": 4,
 "nbformat_minor": 5
}
