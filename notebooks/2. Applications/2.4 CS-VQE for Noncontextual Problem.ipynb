{
 "cells": [
  {
   "cell_type": "markdown",
   "id": "e26c20d1",
   "metadata": {},
   "source": [
    "# Noncontextual Electronic Structure\n",
    "\n",
    "How to solve $H_{noncontextual}$ given the following partition:\n",
    "\n",
    "$$H_{full} = H_\\mathrm{noncontextual} + H_\\mathrm{context}$$"
   ]
  },
  {
   "cell_type": "code",
   "execution_count": null,
   "id": "94053048",
   "metadata": {},
   "outputs": [],
   "source": []
  },
  {
   "cell_type": "markdown",
   "id": "b563cba6",
   "metadata": {},
   "source": [
    "# First we need a Hamiltonian"
   ]
  },
  {
   "cell_type": "code",
   "execution_count": 1,
   "id": "ec5ea810",
   "metadata": {},
   "outputs": [],
   "source": [
    "import os\n",
    "import json\n",
    "\n",
    "cwd = os.getcwd()\n",
    "notebook_dir =  os.path.dirname(cwd)\n",
    "symmer_dir = os.path.dirname(notebook_dir)\n",
    "test_dir = os.path.join(symmer_dir, 'tests')\n",
    "ham_data_dir = os.path.join(test_dir, 'hamiltonian_data')\n",
    "\n",
    "if not os.path.isdir(ham_data_dir):\n",
    "    raise ValueError('cannot find data dir')"
   ]
  },
  {
   "cell_type": "code",
   "execution_count": 2,
   "id": "9149faaf",
   "metadata": {},
   "outputs": [],
   "source": [
    "# os.listdir(ham_data_dir)"
   ]
  },
  {
   "cell_type": "code",
   "execution_count": 3,
   "id": "adf76430",
   "metadata": {},
   "outputs": [],
   "source": [
    "filename = 'B_STO-3G_DOUBLET_JW.json'#'H2O_STO-3G_SINGLET_BK.json'\n",
    "\n",
    "if filename not in os.listdir(ham_data_dir):\n",
    "    raise ValueError('unknown file')\n",
    "    \n",
    "with open(os.path.join(ham_data_dir, filename), 'r') as infile:\n",
    "    data_dict = json.load(infile)"
   ]
  },
  {
   "cell_type": "code",
   "execution_count": 4,
   "id": "6efc9464",
   "metadata": {},
   "outputs": [
    {
     "data": {
      "text/plain": [
       "10"
      ]
     },
     "execution_count": 4,
     "metadata": {},
     "output_type": "execute_result"
    }
   ],
   "source": [
    "from symmer.symplectic import PauliwordOp\n",
    "H = PauliwordOp.from_dictionary(data_dict['hamiltonian'])\n",
    "H.n_qubits"
   ]
  },
  {
   "cell_type": "markdown",
   "id": "bcfe828f",
   "metadata": {},
   "source": [
    "# Solving the noncontexutal problem!"
   ]
  },
  {
   "cell_type": "code",
   "execution_count": 5,
   "id": "cf362cf0",
   "metadata": {},
   "outputs": [],
   "source": [
    "from symmer.projection import ContextualSubspace\n",
    "\n",
    "cs_vqe = ContextualSubspace(H, noncontextual_strategy='SingleSweep_magnitude')"
   ]
  },
  {
   "cell_type": "markdown",
   "id": "d820c408",
   "metadata": {},
   "source": [
    "Noncontextual Hamiltonians have a very specific form, namely their terms $\\mathcal{T}$ may be decomposed as\n",
    "\\begin{equation}\n",
    "    \\mathcal{T} = \\mathcal{S} \\cup \\mathcal{C}_1 \\cup \\dots \\cup \\mathcal{C}_M \n",
    "\\end{equation}\n",
    "where $\\mathcal{S}$ contains the terms that commute globally (i.e. the noncontextual symmetries) and a collection of cliques with respect to commutation."
   ]
  },
  {
   "cell_type": "code",
   "execution_count": 6,
   "id": "cadbdc9d",
   "metadata": {},
   "outputs": [
    {
     "data": {
      "text/plain": [
       "{'symmetry': -15.808+0.000j IIIIIIIIII +\n",
       "  0.050+0.000j IIIIIIIIIZ +\n",
       "  0.050+0.000j IIIIIIIIZI +\n",
       "  0.147+0.000j IIIIIIIIZZ +\n",
       "  0.050+0.000j IIIIIIIZII +\n",
       "  0.123+0.000j IIIIIIIZIZ +\n",
       "  0.131+0.000j IIIIIIIZZI +\n",
       "  0.050+0.000j IIIIIIZIII +\n",
       "  0.131+0.000j IIIIIIZIIZ +\n",
       "  0.123+0.000j IIIIIIZIZI +\n",
       "  0.147+0.000j IIIIIIZZII +\n",
       "  0.050+0.000j IIIIIZIIII +\n",
       "  0.123+0.000j IIIIIZIIIZ +\n",
       "  0.131+0.000j IIIIIZIIZI +\n",
       "  0.123+0.000j IIIIIZIZII +\n",
       "  0.131+0.000j IIIIIZZIII +\n",
       "  0.050+0.000j IIIIZIIIII +\n",
       "  0.131+0.000j IIIIZIIIIZ +\n",
       "  0.123+0.000j IIIIZIIIZI +\n",
       "  0.131+0.000j IIIIZIIZII +\n",
       "  0.123+0.000j IIIIZIZIII +\n",
       "  0.147+0.000j IIIIZZIIII +\n",
       "  0.198+0.000j IIZIIIIIII +\n",
       "  0.133+0.000j IIZIIIIIIZ +\n",
       "  0.105+0.000j IIZIIIIIZI +\n",
       "  0.133+0.000j IIZIIIIZII +\n",
       "  0.105+0.000j IIZIIIZIII +\n",
       "  0.133+0.000j IIZIIZIIII +\n",
       "  0.105+0.000j IIZIZIIIII +\n",
       "  0.171+0.000j IZIZIIIIII +\n",
       "  3.977+0.000j ZIIIIIIIII +\n",
       "  0.186+0.000j ZIIIIIIIIZ +\n",
       "  0.180+0.000j ZIIIIIIIZI +\n",
       "  0.186+0.000j ZIIIIIIZII +\n",
       "  0.180+0.000j ZIIIIIZIII +\n",
       "  0.186+0.000j ZIIIIZIIII +\n",
       "  0.180+0.000j ZIIIZIIIII +\n",
       "  0.171+0.000j ZIZIIIIIII,\n",
       " 'clique_0':  0.005+0.000j IXIXIIIIII +\n",
       "  0.062+0.000j IXZXIIIIII +\n",
       "  0.010+0.000j IXZXIIIIIZ +\n",
       "  0.003+0.000j IXZXIIIIZI +\n",
       "  0.010+0.000j IXZXIIIZII +\n",
       "  0.003+0.000j IXZXIIZIII +\n",
       "  0.010+0.000j IXZXIZIIII +\n",
       "  0.003+0.000j IXZXZIIIII +\n",
       "  0.005+0.000j IYIYIIIIII +\n",
       "  0.062+0.000j IYZYIIIIII +\n",
       "  0.010+0.000j IYZYIIIIIZ +\n",
       "  0.003+0.000j IYZYIIIIZI +\n",
       "  0.010+0.000j IYZYIIIZII +\n",
       "  0.003+0.000j IYZYIIZIII +\n",
       "  0.010+0.000j IYZYIZIIII +\n",
       "  0.003+0.000j IYZYZIIIII +\n",
       "  0.083+0.000j ZXZXIIIIII +\n",
       "  0.083+0.000j ZYZYIIIIII,\n",
       " 'clique_1':  0.198+0.000j IIIZIIIIII +\n",
       "  0.105+0.000j IIIZIIIIIZ +\n",
       "  0.133+0.000j IIIZIIIIZI +\n",
       "  0.105+0.000j IIIZIIIZII +\n",
       "  0.133+0.000j IIIZIIZIII +\n",
       "  0.105+0.000j IIIZIZIIII +\n",
       "  0.133+0.000j IIIZZIIIII +\n",
       "  0.132+0.000j IIZZIIIIII +\n",
       "  3.977+0.000j IZIIIIIIII +\n",
       "  0.180+0.000j IZIIIIIIIZ +\n",
       "  0.186+0.000j IZIIIIIIZI +\n",
       "  0.180+0.000j IZIIIIIZII +\n",
       "  0.186+0.000j IZIIIIZIII +\n",
       "  0.180+0.000j IZIIIZIIII +\n",
       "  0.186+0.000j IZIIZIIIII +\n",
       "  0.186+0.000j IZZIIIIIII +\n",
       "  0.186+0.000j ZIIZIIIIII +\n",
       "  0.723+0.000j ZZIIIIIIII}"
      ]
     },
     "execution_count": 6,
     "metadata": {},
     "output_type": "execute_result"
    }
   ],
   "source": [
    "cs_vqe.noncontextual_operator.decomposed"
   ]
  },
  {
   "cell_type": "code",
   "execution_count": 7,
   "id": "bf909985",
   "metadata": {},
   "outputs": [
    {
     "data": {
      "text/plain": [
       "-15.808+0.000j IIIIIIIIII +\n",
       " 0.050+0.000j IIIIIIIIIZ +\n",
       " 0.050+0.000j IIIIIIIIZI +\n",
       " 0.147+0.000j IIIIIIIIZZ +\n",
       " 0.050+0.000j IIIIIIIZII +\n",
       " 0.123+0.000j IIIIIIIZIZ +\n",
       " 0.131+0.000j IIIIIIIZZI +\n",
       " 0.050+0.000j IIIIIIZIII +\n",
       " 0.131+0.000j IIIIIIZIIZ +\n",
       " 0.123+0.000j IIIIIIZIZI +\n",
       " 0.147+0.000j IIIIIIZZII +\n",
       " 0.050+0.000j IIIIIZIIII +\n",
       " 0.123+0.000j IIIIIZIIIZ +\n",
       " 0.131+0.000j IIIIIZIIZI +\n",
       " 0.123+0.000j IIIIIZIZII +\n",
       " 0.131+0.000j IIIIIZZIII +\n",
       " 0.050+0.000j IIIIZIIIII +\n",
       " 0.131+0.000j IIIIZIIIIZ +\n",
       " 0.123+0.000j IIIIZIIIZI +\n",
       " 0.131+0.000j IIIIZIIZII +\n",
       " 0.123+0.000j IIIIZIZIII +\n",
       " 0.147+0.000j IIIIZZIIII +\n",
       " 0.198+0.000j IIIZIIIIII +\n",
       " 0.105+0.000j IIIZIIIIIZ +\n",
       " 0.133+0.000j IIIZIIIIZI +\n",
       " 0.105+0.000j IIIZIIIZII +\n",
       " 0.133+0.000j IIIZIIZIII +\n",
       " 0.105+0.000j IIIZIZIIII +\n",
       " 0.133+0.000j IIIZZIIIII +\n",
       " 0.198+0.000j IIZIIIIIII +\n",
       " 0.133+0.000j IIZIIIIIIZ +\n",
       " 0.105+0.000j IIZIIIIIZI +\n",
       " 0.133+0.000j IIZIIIIZII +\n",
       " 0.105+0.000j IIZIIIZIII +\n",
       " 0.133+0.000j IIZIIZIIII +\n",
       " 0.105+0.000j IIZIZIIIII +\n",
       " 0.132+0.000j IIZZIIIIII +\n",
       " 3.977+0.000j IZIIIIIIII +\n",
       " 0.180+0.000j IZIIIIIIIZ +\n",
       " 0.186+0.000j IZIIIIIIZI +\n",
       " 0.180+0.000j IZIIIIIZII +\n",
       " 0.186+0.000j IZIIIIZIII +\n",
       " 0.180+0.000j IZIIIZIIII +\n",
       " 0.186+0.000j IZIIZIIIII +\n",
       " 0.171+0.000j IZIZIIIIII +\n",
       " 0.186+0.000j IZZIIIIIII +\n",
       " 3.977+0.000j ZIIIIIIIII +\n",
       " 0.186+0.000j ZIIIIIIIIZ +\n",
       " 0.180+0.000j ZIIIIIIIZI +\n",
       " 0.186+0.000j ZIIIIIIZII +\n",
       " 0.180+0.000j ZIIIIIZIII +\n",
       " 0.186+0.000j ZIIIIZIIII +\n",
       " 0.180+0.000j ZIIIZIIIII +\n",
       " 0.186+0.000j ZIIZIIIIII +\n",
       " 0.171+0.000j ZIZIIIIIII +\n",
       " 0.723+0.000j ZZIIIIIIII +\n",
       " 0.005+0.000j IXIXIIIIII +\n",
       " 0.062+0.000j IXZXIIIIII +\n",
       " 0.010+0.000j IXZXIIIIIZ +\n",
       " 0.003+0.000j IXZXIIIIZI +\n",
       " 0.010+0.000j IXZXIIIZII +\n",
       " 0.003+0.000j IXZXIIZIII +\n",
       " 0.010+0.000j IXZXIZIIII +\n",
       " 0.003+0.000j IXZXZIIIII +\n",
       " 0.005+0.000j IYIYIIIIII +\n",
       " 0.062+0.000j IYZYIIIIII +\n",
       " 0.010+0.000j IYZYIIIIIZ +\n",
       " 0.003+0.000j IYZYIIIIZI +\n",
       " 0.010+0.000j IYZYIIIZII +\n",
       " 0.003+0.000j IYZYIIZIII +\n",
       " 0.010+0.000j IYZYIZIIII +\n",
       " 0.003+0.000j IYZYZIIIII +\n",
       " 0.083+0.000j ZXZXIIIIII +\n",
       " 0.083+0.000j ZYZYIIIIII"
      ]
     },
     "execution_count": 7,
     "metadata": {},
     "output_type": "execute_result"
    }
   ],
   "source": [
    "from symmer.symplectic import NoncontextualOp\n",
    "H_noncon = NoncontextualOp.from_PauliwordOp(cs_vqe.noncontextual_operator)\n",
    "H_noncon"
   ]
  },
  {
   "cell_type": "markdown",
   "id": "71976da4",
   "metadata": {},
   "source": [
    "# Solving the noncontexutal problem!"
   ]
  },
  {
   "cell_type": "markdown",
   "id": "4fe33674",
   "metadata": {},
   "source": [
    "All terms in $H_{noncon}$ can be generated under the jordan product: $P_{a}\\cdot P_{b} = \\frac{1}{2} \\{P_{a}, P_{b} \\}$. This ensures only one term from the anticommuting set can be used, as joint assignement to anticommuting Pauli operator is not possible!\n",
    "\n",
    "The expectation value of $H_{noncon}$ is therefore fixed by  and$\\vec{r}$"
   ]
  },
  {
   "cell_type": "markdown",
   "id": "1cf8dec3",
   "metadata": {},
   "source": [
    "Identifying a generating set $\\mathcal{G}$ for the symmetry terms $\\mathcal{S}$ and constructing the clique operator $A(\\vec{r}) = \\sum_{i=1}^M r_i C_i$ for clique representatives $C_i \\in \\mathcal{C}_i$ and coefficients $\\vec{r} \\in \\mathbb{R}^M$ satisfying $|\\vec{r}|=1$ allows us to rewrite\n",
    "\n",
    "\\begin{equation}\n",
    "    H_\\mathrm{noncon} = \\sum_{P \\in \\overline{\\mathcal{G}}} \\bigg(h_{P}^\\prime + \\sum_{i=1}^M h_{P,i} C_i \\bigg) P,\n",
    "\\end{equation}\n",
    "\n",
    "and yields a classical objective function over parameters $\\vec{\\nu} \\in \\{\\pm 1\\}^{|\\mathcal{G}|}$ and $\\vec{r} \\in \\mathbb{R}^M$ for the noncontetual energy expectation value:\n",
    "\n",
    "\\begin{equation}\\label{classical_objective}\n",
    "\\begin{aligned}\n",
    "    \\eta(\\vec{\\nu}, \\vec{r}) \n",
    "    :={} & {\\langle H_\\mathrm{noncon} \\rangle_{(\\vec{\\nu}, \\vec{r})}} \\\\\n",
    "    ={} & \\sum_{P \\in \\overline{\\mathcal{G}}} \\bigg(h_{P}^\\prime + \\sum_{i=1}^M h_{P,i} \\langle{C_i}\\rangle_{(\\vec{\\nu}, \\vec{r})} \\bigg) \\langle{P}\\rangle_{(\\vec{\\nu}, \\vec{r})} \\\\\n",
    "    ={} & \\sum_{P \\in \\overline{\\mathcal{G}}} \\bigg(h_{P}^\\prime + \\sum_{i=1}^M h_{P,i} r_i \\bigg) \\prod_{G \\in \\mathcal{G}_{P}} \\nu_{f(G)}.\n",
    "\\end{aligned}\n",
    "\\end{equation}"
   ]
  },
  {
   "cell_type": "markdown",
   "id": "7b03b7cb",
   "metadata": {},
   "source": [
    "### Different optimization strategies to find the ground state!"
   ]
  },
  {
   "cell_type": "code",
   "execution_count": 8,
   "id": "8b9865bf",
   "metadata": {},
   "outputs": [
    {
     "data": {
      "text/plain": [
       "-24.14898859885364"
      ]
     },
     "execution_count": 8,
     "metadata": {},
     "output_type": "execute_result"
    }
   ],
   "source": [
    "# %%timeit\n",
    "H_noncon.solve(strategy='brute_force')\n",
    "H_noncon.energy"
   ]
  },
  {
   "cell_type": "code",
   "execution_count": 9,
   "id": "df9c70ed",
   "metadata": {},
   "outputs": [
    {
     "data": {
      "text/plain": [
       "-24.148988598843847"
      ]
     },
     "execution_count": 9,
     "metadata": {},
     "output_type": "execute_result"
    }
   ],
   "source": [
    "# %%timeit\n",
    "H_noncon.solve(strategy='binary_relaxation')\n",
    "H_noncon.energy"
   ]
  },
  {
   "cell_type": "code",
   "execution_count": 10,
   "id": "5813300a",
   "metadata": {},
   "outputs": [],
   "source": [
    "# PUSO = Polynomial unconstrained spin Optimization\n",
    "# QUSO: Quadratic Unconstrained Spin Optimization"
   ]
  },
  {
   "cell_type": "code",
   "execution_count": 11,
   "id": "3ef881be",
   "metadata": {},
   "outputs": [
    {
     "data": {
      "text/plain": [
       "-24.075497798801486"
      ]
     },
     "execution_count": 11,
     "metadata": {},
     "output_type": "execute_result"
    }
   ],
   "source": [
    "# %%timeit\n",
    "H_noncon.solve(strategy='brute_force_PUSO')\n",
    "H_noncon.energy"
   ]
  },
  {
   "cell_type": "code",
   "execution_count": 12,
   "id": "13b20f3f",
   "metadata": {},
   "outputs": [
    {
     "data": {
      "text/plain": [
       "-24.148988598853506"
      ]
     },
     "execution_count": 12,
     "metadata": {},
     "output_type": "execute_result"
    }
   ],
   "source": [
    "# %%timeit\n",
    "H_noncon.solve(strategy='brute_force_QUSO')\n",
    "H_noncon.energy"
   ]
  },
  {
   "cell_type": "code",
   "execution_count": 13,
   "id": "62863ecf",
   "metadata": {},
   "outputs": [
    {
     "data": {
      "text/plain": [
       "-24.14898859885344"
      ]
     },
     "execution_count": 13,
     "metadata": {},
     "output_type": "execute_result"
    }
   ],
   "source": [
    "# %%timeit\n",
    "H_noncon.solve(strategy='annealing_PUSO', num_anneals=100)\n",
    "H_noncon.energy"
   ]
  },
  {
   "cell_type": "code",
   "execution_count": 14,
   "id": "a29a1787",
   "metadata": {},
   "outputs": [
    {
     "data": {
      "text/plain": [
       "-14.59161692426567"
      ]
     },
     "execution_count": 14,
     "metadata": {},
     "output_type": "execute_result"
    }
   ],
   "source": [
    "# %%timeit\n",
    "H_noncon.solve(strategy='annealing_QUSO', num_anneals=100)\n",
    "H_noncon.energy"
   ]
  },
  {
   "cell_type": "code",
   "execution_count": null,
   "id": "c92c2ce6",
   "metadata": {},
   "outputs": [],
   "source": []
  },
  {
   "cell_type": "code",
   "execution_count": null,
   "id": "5f571452",
   "metadata": {},
   "outputs": [],
   "source": []
  },
  {
   "cell_type": "code",
   "execution_count": 15,
   "id": "2d847a7b",
   "metadata": {},
   "outputs": [],
   "source": [
    "# # brute_force_PUSO\n",
    "# energy, nu, r = H_noncon._energy_via_brute_force_xUSO(x='P')\n",
    "# energy"
   ]
  },
  {
   "cell_type": "code",
   "execution_count": 16,
   "id": "7d00be9a",
   "metadata": {},
   "outputs": [],
   "source": [
    "# # brute_force_QUSO\n",
    "# energy, nu, r = H_noncon._energy_via_brute_force_xUSO(x='Q')\n",
    "# energy"
   ]
  },
  {
   "cell_type": "code",
   "execution_count": 17,
   "id": "cf16d60c",
   "metadata": {},
   "outputs": [],
   "source": [
    "# # annealing_QUSO\n",
    "# energy, nu, r = H_noncon._energy_via_annealing_xUSO(x='Q', num_anneals=1000)\n",
    "# energy"
   ]
  },
  {
   "cell_type": "code",
   "execution_count": 18,
   "id": "1d8080f3",
   "metadata": {},
   "outputs": [],
   "source": [
    "# # annealing_PUSO\n",
    "# energy, nu, r = H_noncon._energy_via_annealing_xUSO(x='P', num_anneals=100)\n",
    "# energy"
   ]
  },
  {
   "cell_type": "code",
   "execution_count": null,
   "id": "9c5b3852",
   "metadata": {},
   "outputs": [],
   "source": []
  },
  {
   "cell_type": "code",
   "execution_count": null,
   "id": "bec60efd",
   "metadata": {},
   "outputs": [],
   "source": []
  }
 ],
 "metadata": {
  "kernelspec": {
   "display_name": "Python 3 (ipykernel)",
   "language": "python",
   "name": "python3"
  },
  "language_info": {
   "codemirror_mode": {
    "name": "ipython",
    "version": 3
   },
   "file_extension": ".py",
   "mimetype": "text/x-python",
   "name": "python",
   "nbconvert_exporter": "python",
   "pygments_lexer": "ipython3",
   "version": "3.9.7"
  },
  "vscode": {
   "interpreter": {
    "hash": "916dbcbb3f70747c44a77c7bcd40155683ae19c65e1c03b4aa3499c5328201f1"
   }
  }
 },
 "nbformat": 4,
 "nbformat_minor": 5
}
