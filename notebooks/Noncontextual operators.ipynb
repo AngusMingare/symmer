{
 "cells": [
  {
   "cell_type": "code",
   "execution_count": 11,
   "id": "730ff20e",
   "metadata": {},
   "outputs": [],
   "source": [
    "from symred.symplectic import ObservableGraph"
   ]
  },
  {
   "cell_type": "code",
   "execution_count": 12,
   "id": "0d815f92",
   "metadata": {},
   "outputs": [],
   "source": [
    "from symred.chem import MoleculeBuilder\n",
    "from symred.projection import QubitTapering, CS_VQE\n",
    "from symred.symplectic import QuantumState\n",
    "import json"
   ]
  },
  {
   "cell_type": "code",
   "execution_count": 13,
   "id": "4709c445",
   "metadata": {},
   "outputs": [],
   "source": [
    "with open('data/molecule_data.json', 'r') as jfile:\n",
    "    molecule_geometries = json.load(jfile)"
   ]
  },
  {
   "cell_type": "code",
   "execution_count": 14,
   "id": "4e81404a",
   "metadata": {},
   "outputs": [
    {
     "name": "stdout",
     "output_type": "stream",
     "text": [
      "Molecule geometry:\n",
      "Be\t0\t0\t0\n",
      "\n",
      "HF converged?   True\n",
      "CCSD converged? True\n",
      "FCI converged?  True\n",
      "\n",
      "HF energy:   -14.351880476202023\n",
      "MP2 energy:  -14.376238850841515\n",
      "CCSD energy: -14.403650751752787\n",
      "FCI energy:  -14.403655108067682\n",
      "\n",
      "\n",
      "Number of qubits: 10\n"
     ]
    }
   ],
   "source": [
    "# Set molecule parameters\n",
    "speciesname = 'Be_STO-3G_SINGLET'\n",
    "#print(speciesname in scoring_data)\n",
    "mol_data = molecule_geometries[speciesname]\n",
    "if 'name' in mol_data:\n",
    "    print(mol_data['name'])\n",
    "    \n",
    "atoms  = mol_data['atoms']\n",
    "coords = mol_data['coords']\n",
    "basis  = mol_data['basis'] #'6-31g' #'cc-pVDZ' #\n",
    "spin   = mol_data['multiplicity']\n",
    "charge = mol_data['charge']\n",
    "geometry = list(zip(atoms, coords))\n",
    "molecule = MoleculeBuilder(geometry=geometry, charge=charge, basis=basis)"
   ]
  },
  {
   "cell_type": "code",
   "execution_count": 15,
   "id": "2bc9c768",
   "metadata": {},
   "outputs": [
    {
     "name": "stdout",
     "output_type": "stream",
     "text": [
      "We are able to taper 5 qubits from the Hamiltonian.\n",
      "\n",
      "The symmetry generators are\n",
      "\n",
      "1 ZIZIIZIZIZ \n",
      "1 IZIZIZIZIZ \n",
      "1 IIIIZZIIII \n",
      "1 IIIIIIZZII \n",
      "1 IIIIIIIIZZ\n",
      "\n",
      "and may be rotated via a sequence of Clifford pi/2 rotations\n",
      "\n",
      "[(1.000+0.000j IIIIYZIIII, None), (1.000+0.000j IIIIIIYZII, None), (1.000+0.000j IIIIIIIIYZ, None), (1.000+0.000j YIZIIZIZIZ, None), (1.000+0.000j IYIZIZIZIZ, None)]\n",
      "\n",
      "onto the single-qubit Pauli operators\n",
      "\n",
      "-1 XIIIIIIIII \n",
      "-1 IXIIIIIIII \n",
      "-1 IIIIXIIIII \n",
      "-1 IIIIIIXIII \n",
      "-1 IIIIIIIIXI\n",
      "\n",
      "The symetry sector corresponding with the reference [1 1 1 1 0 0 0 0 0 0] is [1 1 1 1 1]\n",
      "The tapered Hartree-Fock state is  1.0000000000 |11000>\n"
     ]
    }
   ],
   "source": [
    "taper_hamiltonian = QubitTapering(molecule.H_q)\n",
    "\n",
    "print(f'We are able to taper {taper_hamiltonian.n_taper} qubits from the Hamiltonian.\\n')\n",
    "print('The symmetry generators are\\n')\n",
    "print(taper_hamiltonian.symmetry_generators)\n",
    "print('\\nand may be rotated via a sequence of Clifford pi/2 rotations\\n')\n",
    "print(taper_hamiltonian.stabilizers.stabilizer_rotations)\n",
    "print('\\nonto the single-qubit Pauli operators\\n')\n",
    "print(taper_hamiltonian.stabilizers.rotate_onto_single_qubit_paulis())\n",
    "hf_array = molecule.H_fermion.hf_comp_basis_state\n",
    "taper_hamiltonian.stabilizers.update_sector(hf_array)\n",
    "print(f'\\nThe symetry sector corresponding with the reference {hf_array} is {taper_hamiltonian.stabilizers.coeff_vec}')\n",
    "ham_tap = taper_hamiltonian.taper_it(ref_state=hf_array)\n",
    "#sor_tap = taper_hamiltonian.taper_it(aux_operator=sor_ham, ref_state=hf_array)\n",
    "#sor_tap.coeff_vec/=np.linalg.norm(sor_tap.coeff_vec)\n",
    "ucc_tap = taper_hamiltonian.taper_it(aux_operator=molecule.T_q, ref_state=hf_array)\n",
    "n_taper = taper_hamiltonian.n_taper\n",
    "tapered_qubits   = taper_hamiltonian.stab_qubit_indices\n",
    "untapered_qubits = taper_hamiltonian.free_qubit_indices\n",
    "hf_tapered = taper_hamiltonian.tapered_ref_state\n",
    "\n",
    "print(f'The tapered Hartree-Fock state is', QuantumState([hf_tapered]))"
   ]
  },
  {
   "cell_type": "code",
   "execution_count": 16,
   "id": "085e1eeb",
   "metadata": {},
   "outputs": [],
   "source": [
    "cs_vqe = CS_VQE(ham_tap, hf_tapered, basis_weighting_operator=ucc_tap)"
   ]
  },
  {
   "cell_type": "code",
   "execution_count": 17,
   "id": "dc9b2db0",
   "metadata": {},
   "outputs": [
    {
     "name": "stdout",
     "output_type": "stream",
     "text": [
      "-8.672+0.000j IIIII +\n",
      "-0.060+0.000j XIIII +\n",
      "-0.047+0.000j ZIIII +\n",
      "-0.047+0.000j IZIII +\n",
      "0.038-0.000j XZIII +\n",
      "0.670+0.000j ZZIII +\n",
      "-0.297+0.000j IIZII +\n",
      "0.183+0.000j ZIZII +\n",
      "0.183+0.000j IZZII +\n",
      "0.010+0.000j XZZII +\n",
      "-0.297+0.000j IIIZI +\n",
      "0.183+0.000j ZIIZI +\n",
      "0.183+0.000j IZIZI +\n",
      "0.010+0.000j XZIZI +\n",
      "0.389+0.000j IIZZI +\n",
      "0.281+0.000j ZIZZI +\n",
      "0.281+0.000j IZZZI +\n",
      "-0.010+0.000j XZZZI +\n",
      "-0.297+0.000j IIIIZ +\n",
      "0.183+0.000j ZIIIZ +\n",
      "0.183+0.000j IZIIZ +\n",
      "0.010+0.000j XZIIZ +\n",
      "0.389+0.000j IIZIZ +\n",
      "0.281+0.000j ZIZIZ +\n",
      "0.281+0.000j IZZIZ +\n",
      "-0.010+0.000j XZZIZ +\n",
      "0.389+0.000j IIIZZ +\n",
      "0.281+0.000j ZIIZZ +\n",
      "0.281+0.000j IZIZZ +\n",
      "-0.010+0.000j XZIZZ +\n",
      "0.263+0.000j IIZZZ +\n",
      "0.060+0.000j XIZZZ +\n",
      "2.243-0.000j ZIZZZ +\n",
      "2.243-0.000j IZZZZ +\n",
      "-0.038+0.000j XZZZZ +\n",
      "0.286+0.000j ZZZZZ\n"
     ]
    }
   ],
   "source": [
    "print(cs_vqe.noncontextual_operator)"
   ]
  },
  {
   "cell_type": "code",
   "execution_count": 18,
   "id": "e7df5ee9",
   "metadata": {},
   "outputs": [],
   "source": [
    "H_graph = ObservableGraph(ham_tap.symp_matrix, ham_tap.coeff_vec)"
   ]
  },
  {
   "cell_type": "code",
   "execution_count": 43,
   "id": "9e9a8d24",
   "metadata": {},
   "outputs": [
    {
     "name": "stdout",
     "output_type": "stream",
     "text": [
      "-0.005+0.000j ZYYZZ +\n",
      "0.005+0.000j YZZYZ +\n",
      "-0.010+0.000j ZXZII +\n",
      "0.004-0.000j IZXZZ +\n",
      "-0.022+0.000j YXYII +\n",
      "0.005+0.000j IXIIX +\n",
      "0.005+0.000j IXIXI +\n",
      "-0.005+0.000j XIXII +\n",
      "0.012+0.000j IIIXX +\n",
      "0.022+0.000j YYZZZ +\n",
      "-8.672+0.000j IIIII +\n",
      "-0.010+0.000j XZIZZ +\n",
      "0.005+0.000j YZZZY\n"
     ]
    }
   ],
   "source": [
    "C_cliques = H_graph.clique_cover(clique_relation='C', colouring_strategy='random_sequential')\n",
    "print(C_cliques[0])"
   ]
  },
  {
   "cell_type": "code",
   "execution_count": 44,
   "id": "ca4cfe8f",
   "metadata": {},
   "outputs": [
    {
     "name": "stdout",
     "output_type": "stream",
     "text": [
      "-0.005+0.000j ZYYZZ +\n",
      "0.005+0.000j YZZYZ +\n",
      "-0.010+0.000j ZXZII +\n",
      "0.004-0.000j IZXZZ +\n",
      "-0.022+0.000j YXYII +\n",
      "0.005+0.000j IXIIX +\n",
      "0.005+0.000j IXIXI +\n",
      "-0.005+0.000j XIXII +\n",
      "0.012+0.000j IIIXX +\n",
      "0.022+0.000j YYZZZ +\n",
      "-8.672+0.000j IIIII +\n",
      "-0.010+0.000j XZIZZ +\n",
      "0.005+0.000j YZZZY\n",
      "\n",
      "-0.005+0.000j YIIIY +\n",
      "-0.022+0.000j XXIIX +\n",
      "0.010+0.000j XZIIZ +\n",
      "-0.010+0.000j ZXIIZ +\n",
      "0.005-0.000j XZXZZ +\n",
      "0.022-0.000j YYXII +\n",
      "-0.004+0.000j ZZIIX +\n",
      "0.005+0.000j IYIIY +\n",
      "-0.297+0.000j IIIZI +\n",
      "-0.004+0.000j IIXII +\n",
      "-0.022+0.000j YYIII +\n",
      "0.010+0.000j ZXIZZ +\n",
      "-0.005+0.000j ZXXZZ\n"
     ]
    }
   ],
   "source": [
    "C0 = C_cliques[0]\n",
    "C1 = C_cliques[1]\n",
    "\n",
    "C_union = C0+C1\n",
    "C_graph = ObservableGraph(C_union.symp_matrix, C_union.coeff_vec)\n",
    "print(C0)\n",
    "print()\n",
    "print(C1)\n",
    "\n",
    "AC_cliques = C_graph.clique_cover(clique_relation='AC', colouring_strategy='random_sequential')"
   ]
  },
  {
   "cell_type": "code",
   "execution_count": 46,
   "id": "03c03722",
   "metadata": {},
   "outputs": [
    {
     "name": "stdout",
     "output_type": "stream",
     "text": [
      "0.005+0.000j IYIIY +\n",
      "-0.010+0.000j ZXZII\n"
     ]
    }
   ],
   "source": [
    "print(AC_cliques[0])"
   ]
  },
  {
   "cell_type": "code",
   "execution_count": 22,
   "id": "ddd30f29",
   "metadata": {},
   "outputs": [
    {
     "name": "stdout",
     "output_type": "stream",
     "text": [
      "1 ZIIZZ \n",
      "1 ZZZZZ \n",
      "1 IIIZZ\n"
     ]
    }
   ],
   "source": [
    "import numpy as np\n",
    "from symred.symplectic import StabilizerOp, find_symmetry_basis\n",
    "\n",
    "random_Z_block = np.random.randint(0,2,(3, 5))\n",
    "S = StabilizerOp(np.hstack([np.zeros_like(random_Z_block), random_Z_block]), np.ones(3))\n",
    "print(S)"
   ]
  },
  {
   "cell_type": "code",
   "execution_count": 23,
   "id": "7fb11af6",
   "metadata": {},
   "outputs": [],
   "source": [
    "S.update_sector(hf_tapered)"
   ]
  },
  {
   "cell_type": "code",
   "execution_count": 24,
   "id": "57310f2d",
   "metadata": {},
   "outputs": [
    {
     "name": "stdout",
     "output_type": "stream",
     "text": [
      "-1 ZIIZZ \n",
      "1 ZZZZZ \n",
      "1 IIIZZ\n"
     ]
    }
   ],
   "source": [
    "print(S)"
   ]
  },
  {
   "cell_type": "code",
   "execution_count": 25,
   "id": "0919af08",
   "metadata": {},
   "outputs": [
    {
     "name": "stdout",
     "output_type": "stream",
     "text": [
      "-1 XIIII \n",
      "-1 IXIII \n",
      "-1 IIIXI\n"
     ]
    }
   ],
   "source": [
    "S.target_sqp = 'X'\n",
    "print(S.rotate_onto_single_qubit_paulis())"
   ]
  },
  {
   "cell_type": "code",
   "execution_count": 26,
   "id": "ccaa500e",
   "metadata": {},
   "outputs": [
    {
     "name": "stdout",
     "output_type": "stream",
     "text": [
      "-1 XIIII \n",
      "-1 IXIII \n",
      "-1 IIIXI\n"
     ]
    }
   ],
   "source": [
    "S.target_sqp = 'X'\n",
    "print(S.rotate_onto_single_qubit_paulis())"
   ]
  },
  {
   "cell_type": "code",
   "execution_count": null,
   "id": "3afa38a8",
   "metadata": {},
   "outputs": [],
   "source": []
  },
  {
   "cell_type": "code",
   "execution_count": null,
   "id": "f20e9816",
   "metadata": {},
   "outputs": [],
   "source": []
  }
 ],
 "metadata": {
  "kernelspec": {
   "display_name": "Python 3 (ipykernel)",
   "language": "python",
   "name": "python3"
  },
  "language_info": {
   "codemirror_mode": {
    "name": "ipython",
    "version": 3
   },
   "file_extension": ".py",
   "mimetype": "text/x-python",
   "name": "python",
   "nbconvert_exporter": "python",
   "pygments_lexer": "ipython3",
   "version": "3.8.8"
  }
 },
 "nbformat": 4,
 "nbformat_minor": 5
}
