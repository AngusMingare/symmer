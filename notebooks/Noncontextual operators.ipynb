{
 "cells": [
  {
   "cell_type": "code",
   "execution_count": 1,
   "id": "52cf6e0c",
   "metadata": {},
   "outputs": [],
   "source": [
    "from symred.symplectic import ObservableGraph"
   ]
  },
  {
   "cell_type": "code",
   "execution_count": 2,
   "id": "5f3f9226",
   "metadata": {},
   "outputs": [],
   "source": [
    "from symred.chem import MoleculeBuilder\n",
    "from symred.projection import QubitTapering, CS_VQE\n",
    "from symred.symplectic import QuantumState\n",
    "import json"
   ]
  },
  {
   "cell_type": "code",
   "execution_count": 3,
   "id": "a4abaadf",
   "metadata": {},
   "outputs": [],
   "source": [
    "with open('data/molecule_data.json', 'r') as jfile:\n",
    "    molecule_geometries = json.load(jfile)"
   ]
  },
  {
   "cell_type": "code",
   "execution_count": 4,
   "id": "aacca3f2",
   "metadata": {},
   "outputs": [
    {
     "name": "stdout",
     "output_type": "stream",
     "text": [
      "Molecule geometry:\n",
      "Be\t0\t0\t0\n",
      "\n",
      "HF converged?   True\n",
      "CCSD converged? True\n",
      "FCI converged?  True\n",
      "\n",
      "HF energy:   -14.351880476202023\n",
      "MP2 energy:  -14.376238850841515\n",
      "CCSD energy: -14.403650751752787\n",
      "FCI energy:  -14.403655108067682\n",
      "\n",
      "\n",
      "Number of qubits: 10\n"
     ]
    }
   ],
   "source": [
    "# Set molecule parameters\n",
    "speciesname = 'Be_STO-3G_SINGLET'\n",
    "#print(speciesname in scoring_data)\n",
    "mol_data = molecule_geometries[speciesname]\n",
    "if 'name' in mol_data:\n",
    "    print(mol_data['name'])\n",
    "    \n",
    "atoms  = mol_data['atoms']\n",
    "coords = mol_data['coords']\n",
    "basis  = mol_data['basis'] #'6-31g' #'cc-pVDZ' #\n",
    "spin   = mol_data['multiplicity']\n",
    "charge = mol_data['charge']\n",
    "geometry = list(zip(atoms, coords))\n",
    "molecule = MoleculeBuilder(geometry=geometry, charge=charge, basis=basis)"
   ]
  },
  {
   "cell_type": "code",
   "execution_count": 5,
   "id": "9e3ac57d",
   "metadata": {},
   "outputs": [
    {
     "name": "stdout",
     "output_type": "stream",
     "text": [
      "We are able to taper 5 qubits from the Hamiltonian.\n",
      "\n",
      "The symmetry generators are\n",
      "\n",
      "1.0000000000+0.0000000000j ZIZIIZIZIZ +\n",
      "1.0000000000+0.0000000000j IZIZIZIZIZ +\n",
      "1.0000000000+0.0000000000j IIIIZZIIII +\n",
      "1.0000000000+0.0000000000j IIIIIIZZII +\n",
      "1.0000000000+0.0000000000j IIIIIIIIZZ\n",
      "\n",
      "and may be rotated via a sequence of Clifford pi/2 rotations\n",
      "\n",
      "[('IIIIYZIIII', None), ('IIIIIIYZII', None), ('IIIIIIIIYZ', None), ('YIZIIZIZIZ', None), ('IYIZIZIZIZ', None)]\n",
      "\n",
      "onto the single-qubit Pauli operators\n",
      "\n",
      "-1.0000000000+0.0000000000j XIIIIIIIII +\n",
      "-1.0000000000+0.0000000000j IXIIIIIIII +\n",
      "-1.0000000000+0.0000000000j IIIIXIIIII +\n",
      "-1.0000000000+0.0000000000j IIIIIIXIII +\n",
      "-1.0000000000+0.0000000000j IIIIIIIIXI\n",
      "\n",
      "The symetry sector corresponding with the reference [1 1 1 1 0 0 0 0 0 0] is [1 1 1 1 1]\n",
      "The tapered Hartree-Fock state is  1.0000000000 |11000>\n"
     ]
    }
   ],
   "source": [
    "taper_hamiltonian = QubitTapering(molecule.H_q)\n",
    "\n",
    "print(f'We are able to taper {taper_hamiltonian.n_taper} qubits from the Hamiltonian.\\n')\n",
    "print('The symmetry generators are\\n')\n",
    "print(taper_hamiltonian.symmetry_generators)\n",
    "print('\\nand may be rotated via a sequence of Clifford pi/2 rotations\\n')\n",
    "print(taper_hamiltonian.stabilizers.stabilizer_rotations)\n",
    "print('\\nonto the single-qubit Pauli operators\\n')\n",
    "print(taper_hamiltonian.stabilizers.rotate_onto_single_qubit_paulis())\n",
    "hf_array = molecule.H_fermion.hf_comp_basis_state\n",
    "taper_hamiltonian.stabilizers.update_sector(hf_array)\n",
    "print(f'\\nThe symetry sector corresponding with the reference {hf_array} is {taper_hamiltonian.stabilizers.coeff_vec}')\n",
    "ham_tap = taper_hamiltonian.taper_it(ref_state=hf_array)\n",
    "#sor_tap = taper_hamiltonian.taper_it(aux_operator=sor_ham, ref_state=hf_array)\n",
    "#sor_tap.coeff_vec/=np.linalg.norm(sor_tap.coeff_vec)\n",
    "ucc_tap = taper_hamiltonian.taper_it(aux_operator=molecule.T_q, ref_state=hf_array)\n",
    "n_taper = taper_hamiltonian.n_taper\n",
    "tapered_qubits   = taper_hamiltonian.stab_qubit_indices\n",
    "untapered_qubits = taper_hamiltonian.free_qubit_indices\n",
    "hf_tapered = taper_hamiltonian.tapered_ref_state\n",
    "\n",
    "print(f'The tapered Hartree-Fock state is', QuantumState([hf_tapered]))"
   ]
  },
  {
   "cell_type": "code",
   "execution_count": 6,
   "id": "b6a9b176",
   "metadata": {},
   "outputs": [],
   "source": [
    "cs_vqe = CS_VQE(ham_tap, hf_tapered, basis_weighting_operator=ucc_tap)"
   ]
  },
  {
   "cell_type": "code",
   "execution_count": 7,
   "id": "13dab7d8",
   "metadata": {},
   "outputs": [
    {
     "name": "stdout",
     "output_type": "stream",
     "text": [
      "-8.6720073786+0.0000000000j IIIII +\n",
      "-0.0597715896+0.0000000000j XIIII +\n",
      "-0.0466916923+0.0000000000j ZIIII +\n",
      "-0.0466916923+0.0000000000j IZIII +\n",
      "0.0380616241-0.0000000000j XZIII +\n",
      "0.6698678645+0.0000000000j ZZIII +\n",
      "-0.2968649525+0.0000000000j IIZII +\n",
      "0.1830962071+0.0000000000j ZIZII +\n",
      "0.1830962071+0.0000000000j IZZII +\n",
      "0.0096106137+0.0000000000j XZZII +\n",
      "-0.2968649525+0.0000000000j IIIZI +\n",
      "0.1830962071+0.0000000000j ZIIZI +\n",
      "0.1830962071+0.0000000000j IZIZI +\n",
      "0.0096106137+0.0000000000j XZIZI +\n",
      "0.3892355930+0.0000000000j IIZZI +\n",
      "0.2807146486+0.0000000000j ZIZZI +\n",
      "0.2807146486+0.0000000000j IZZZI +\n",
      "-0.0096106137+0.0000000000j XZZZI +\n",
      "-0.2968649525+0.0000000000j IIIIZ +\n",
      "0.1830962071+0.0000000000j ZIIIZ +\n",
      "0.1830962071+0.0000000000j IZIIZ +\n",
      "0.0096106137+0.0000000000j XZIIZ +\n",
      "0.3892355930+0.0000000000j IIZIZ +\n",
      "0.2807146486+0.0000000000j ZIZIZ +\n",
      "0.2807146486+0.0000000000j IZZIZ +\n",
      "-0.0096106137+0.0000000000j XZZIZ +\n",
      "0.3892355930+0.0000000000j IIIZZ +\n",
      "0.2807146486+0.0000000000j ZIIZZ +\n",
      "0.2807146486+0.0000000000j IZIZZ +\n",
      "-0.0096106137+0.0000000000j XZIZZ +\n",
      "0.2634692003+0.0000000000j IIZZZ +\n",
      "0.0597715896+0.0000000000j XIZZZ +\n",
      "2.2432292443-0.0000000000j ZIZZZ +\n",
      "2.2432292443-0.0000000000j IZZZZ +\n",
      "-0.0380616241+0.0000000000j XZZZZ +\n",
      "0.2856181541+0.0000000000j ZZZZZ\n"
     ]
    }
   ],
   "source": [
    "print(cs_vqe.noncontextual_operator)"
   ]
  },
  {
   "cell_type": "code",
   "execution_count": 8,
   "id": "13e30eb7",
   "metadata": {},
   "outputs": [],
   "source": [
    "H_graph = ObservableGraph(ham_tap.symp_matrix, ham_tap.coeff_vec)"
   ]
  },
  {
   "cell_type": "code",
   "execution_count": 9,
   "id": "6c7d38a6",
   "metadata": {},
   "outputs": [],
   "source": [
    "C_cliques = H_graph.clique_cover(clique_relation='C', colouring_strategy='largest_first')"
   ]
  },
  {
   "cell_type": "code",
   "execution_count": 10,
   "id": "cb975912",
   "metadata": {},
   "outputs": [
    {
     "name": "stdout",
     "output_type": "stream",
     "text": [
      "0.2634692003+0.0000000000j IIZZZ +\n",
      "-0.0597715896+0.0000000000j XIIII +\n",
      "0.0597715896+0.0000000000j IXIII +\n",
      "0.0597715896+0.0000000000j XIZZZ +\n",
      "-0.0597715896+0.0000000000j IXZZZ +\n",
      "0.0121246896+0.0000000000j IIXXI +\n",
      "0.0121246896+0.0000000000j IIXIX +\n",
      "0.0121246896+0.0000000000j IIIXX +\n",
      "-8.6720073786+0.0000000000j IIIII\n",
      "\n",
      "0.6698678645+0.0000000000j ZZIII +\n",
      "-0.0221489539+0.0000000000j YYIII +\n",
      "-0.0038997696+0.0000000000j ZZXII +\n",
      "0.0217022449-0.0000000000j YYXII +\n",
      "-0.0038997696+0.0000000000j ZZIXI +\n",
      "0.0217022449-0.0000000000j YYIXI +\n",
      "-0.0038997696+0.0000000000j ZZIIX +\n",
      "0.0217022449-0.0000000000j YYIIX\n"
     ]
    }
   ],
   "source": [
    "C0 = C_cliques[0]\n",
    "C1 = C_cliques[2]\n",
    "\n",
    "C_union = C0+C1\n",
    "C_graph = ObservableGraph(C_union.symp_matrix, C_union.coeff_vec)\n",
    "print(C0)\n",
    "print()\n",
    "print(C1)\n",
    "\n",
    "AC_cliques = C_graph.clique_cover(clique_relation='AC', colouring_strategy='largest_first')"
   ]
  },
  {
   "cell_type": "code",
   "execution_count": 11,
   "id": "367971fd",
   "metadata": {},
   "outputs": [
    {
     "name": "stdout",
     "output_type": "stream",
     "text": [
      "0.0121246896+0.0000000000j IIXXI\n"
     ]
    }
   ],
   "source": [
    "print(AC_cliques[1])"
   ]
  },
  {
   "cell_type": "code",
   "execution_count": 13,
   "id": "1bd2378d",
   "metadata": {},
   "outputs": [
    {
     "name": "stdout",
     "output_type": "stream",
     "text": [
      "1.0000000000+0.0000000000j ZZZZZ +\n",
      "1.0000000000+0.0000000000j ZZIZI +\n",
      "1.0000000000+0.0000000000j IZZIZ\n"
     ]
    }
   ],
   "source": [
    "import numpy as np\n",
    "from symred.symplectic import StabilizerOp, find_symmetry_basis\n",
    "\n",
    "random_Z_block = np.random.randint(0,2,(3, 5))\n",
    "S = StabilizerOp(np.hstack([np.zeros_like(random_Z_block), random_Z_block]), np.ones(3))\n",
    "print(S)"
   ]
  },
  {
   "cell_type": "code",
   "execution_count": 14,
   "id": "a5ab6d96",
   "metadata": {},
   "outputs": [],
   "source": [
    "S.update_sector(hf_tapered)"
   ]
  },
  {
   "cell_type": "code",
   "execution_count": 15,
   "id": "f56f87bf",
   "metadata": {},
   "outputs": [
    {
     "name": "stdout",
     "output_type": "stream",
     "text": [
      "1.0000000000 ZZZZZ +\n",
      "1.0000000000 ZZIZI +\n",
      "-1.0000000000 IZZIZ\n"
     ]
    }
   ],
   "source": [
    "print(S)"
   ]
  },
  {
   "cell_type": "code",
   "execution_count": 16,
   "id": "03ba8a52",
   "metadata": {},
   "outputs": [
    {
     "name": "stdout",
     "output_type": "stream",
     "text": [
      "-1.0000000000+0.0000000000j XIIII +\n",
      "-1.0000000000+0.0000000000j IXIII +\n",
      "1.0000000000-0.0000000000j IIXII\n"
     ]
    }
   ],
   "source": [
    "S.target_sqp = 'X'\n",
    "print(S.rotate_onto_single_qubit_paulis())"
   ]
  },
  {
   "cell_type": "code",
   "execution_count": 17,
   "id": "d3b6e680",
   "metadata": {},
   "outputs": [
    {
     "name": "stdout",
     "output_type": "stream",
     "text": [
      "-1.0000000000+0.0000000000j XIIII +\n",
      "-1.0000000000+0.0000000000j IXIII +\n",
      "1.0000000000-0.0000000000j IIXII\n"
     ]
    }
   ],
   "source": [
    "S.target_sqp = 'X'\n",
    "print(S.rotate_onto_single_qubit_paulis())"
   ]
  },
  {
   "cell_type": "code",
   "execution_count": null,
   "id": "f55a49f1",
   "metadata": {},
   "outputs": [],
   "source": []
  },
  {
   "cell_type": "code",
   "execution_count": null,
   "id": "0caa53cd",
   "metadata": {},
   "outputs": [],
   "source": []
  }
 ],
 "metadata": {
  "kernelspec": {
   "display_name": "Python 3 (ipykernel)",
   "language": "python",
   "name": "python3"
  },
  "language_info": {
   "codemirror_mode": {
    "name": "ipython",
    "version": 3
   },
   "file_extension": ".py",
   "mimetype": "text/x-python",
   "name": "python",
   "nbconvert_exporter": "python",
   "pygments_lexer": "ipython3",
   "version": "3.8.8"
  }
 },
 "nbformat": 4,
 "nbformat_minor": 5
}
