{
 "cells": [
  {
   "cell_type": "code",
   "execution_count": 163,
   "id": "e8f40371",
   "metadata": {},
   "outputs": [],
   "source": [
    "import json\n",
    "from symmer.chemistry import MoleculeBuilder\n",
    "import os\n",
    "import numpy as np\n",
    "from openfermion import FermionOperator\n",
    "from symmer import PauliwordOp"
   ]
  },
  {
   "cell_type": "code",
   "execution_count": 6,
   "id": "df966575",
   "metadata": {},
   "outputs": [],
   "source": [
    "notebook_dir = os.getcwd()\n",
    "# notebook_dir =  os.path.dirname(cwd)\n",
    "symmer_dir = os.path.dirname(notebook_dir)\n",
    "test_dir = os.path.join(symmer_dir, 'tests')\n",
    "ham_data_dir = os.path.join(test_dir, 'hamiltonian_data')\n",
    "\n",
    "if not os.path.isdir(ham_data_dir):\n",
    "    raise ValueError('cannot find data dir')\n",
    "    \n",
    "filename = 'H4_STO-3G_SINGLET_JW.json'"
   ]
  },
  {
   "cell_type": "code",
   "execution_count": 9,
   "id": "2b869063",
   "metadata": {},
   "outputs": [
    {
     "data": {
      "text/plain": [
       "'/Users/lex/Documents/PhD/symmer/tests/hamiltonian_data'"
      ]
     },
     "execution_count": 9,
     "metadata": {},
     "output_type": "execute_result"
    }
   ],
   "source": [
    "ham_data_dir"
   ]
  },
  {
   "cell_type": "code",
   "execution_count": 19,
   "id": "69f03b4d",
   "metadata": {},
   "outputs": [],
   "source": [
    "speciesname = 'HCl_STO-3G_SINGLET_JW.json'\n",
    "\n",
    "with open(os.path.join(ham_data_dir, speciesname), 'r') as infile:\n",
    "    molecule_geometries = json.load(infile)\n",
    "\n",
    "\n",
    "# # build the molecule\n",
    "mol_data = molecule_geometries['data']\n",
    "geometry  = mol_data['geometry']\n",
    "charge = mol_data['charge']\n",
    "basis = mol_data['basis']\n",
    "spin = 0\n"
   ]
  },
  {
   "cell_type": "code",
   "execution_count": null,
   "id": "d0cbbf75",
   "metadata": {},
   "outputs": [],
   "source": []
  },
  {
   "cell_type": "code",
   "execution_count": 89,
   "id": "8659c4ed",
   "metadata": {},
   "outputs": [
    {
     "name": "stdout",
     "output_type": "stream",
     "text": [
      "Molecule geometry:\n",
      "Cl\t0.0\t0.0\t0.07452\n",
      "H\t0.0\t0.0\t-1.266846\n",
      "\n",
      "FCI converged?  True\n",
      "\n",
      "HF energy:   -455.1354456708121\n",
      "MP2 energy:  None\n",
      "CCSD energy: -455.1570668271786\n",
      "CISD energy: None\n",
      "FCI energy:  None\n",
      "\n",
      "\n",
      "Number of qubits: 20\n"
     ]
    }
   ],
   "source": [
    "molecule = MoleculeBuilder(geometry=geometry,\n",
    "                           charge=charge, \n",
    "                           basis=basis,\n",
    "                           spin=spin, \n",
    "                           run_fci=False, \n",
    "                           run_mp2=False,\n",
    "                           run_cisd=False,\n",
    "#                            run_ccsd=False,\n",
    "                           print_info=True,\n",
    "                          symmetry='True')"
   ]
  },
  {
   "cell_type": "code",
   "execution_count": 90,
   "id": "df3324f0",
   "metadata": {},
   "outputs": [
    {
     "data": {
      "text/plain": [
       "<pyscf.scf.hf_symm.SymAdaptedRHF at 0x7fb5382fd220>"
      ]
     },
     "execution_count": 90,
     "metadata": {},
     "output_type": "execute_result"
    }
   ],
   "source": [
    "molecule.pyscf_obj.pyscf_hf"
   ]
  },
  {
   "cell_type": "code",
   "execution_count": 91,
   "id": "d8bb2e8a",
   "metadata": {},
   "outputs": [
    {
     "name": "stdout",
     "output_type": "stream",
     "text": [
      "('C2v',)\n",
      "Coov\n"
     ]
    }
   ],
   "source": [
    "groupname = molecule.pyscf_obj.pyscf_hf.mol.groupname,\n",
    "print(groupname)\n",
    "topgroup=molecule.pyscf_obj.pyscf_hf.mol.topgroup\n",
    "print(topgroup)"
   ]
  },
  {
   "cell_type": "code",
   "execution_count": 92,
   "id": "2bbf20dd",
   "metadata": {},
   "outputs": [],
   "source": [
    "from pyscf import symm\n",
    "\n",
    "\n",
    "orbsym = symm.label_orb_symm(molecule.pyscf_obj.pyscf_hf.mol,\n",
    "                             molecule.pyscf_obj.pyscf_hf.mol.irrep_name,\n",
    "                             molecule.pyscf_obj.pyscf_hf.mol.symm_orb,\n",
    "                             molecule.pyscf_obj.pyscf_hf.mo_coeff)"
   ]
  },
  {
   "cell_type": "code",
   "execution_count": 93,
   "id": "0c9ba396",
   "metadata": {},
   "outputs": [],
   "source": [
    "# orb_sym_labels = np.zeros((len(orbsym)*2), dtype=object)\n",
    "\n",
    "# orb_sym_labels[0::2] = orbsym\n",
    "# orb_sym_labels[1::2] = orbsym"
   ]
  },
  {
   "cell_type": "code",
   "execution_count": null,
   "id": "db584a48",
   "metadata": {},
   "outputs": [],
   "source": []
  },
  {
   "cell_type": "code",
   "execution_count": 94,
   "id": "ad1cabe6",
   "metadata": {},
   "outputs": [
    {
     "data": {
      "text/plain": [
       "array(['A1', 'A1', 'A1', 'A1', 'A1', 'A1', 'B1', 'B1', 'B2', 'B2', 'A1',\n",
       "       'A1', 'A1', 'A1', 'B1', 'B1', 'B2', 'B2'], dtype='<U2')"
      ]
     },
     "execution_count": 94,
     "metadata": {},
     "output_type": "execute_result"
    }
   ],
   "source": [
    "labels_alpha = orbsym[np.where(molecule.hf_array[::2])]\n",
    "labels_beta = orbsym[np.where(molecule.hf_array[1::2])]\n",
    "\n",
    "labels = np.dstack((labels_alpha,labels_beta)).flatten()\n",
    "labels"
   ]
  },
  {
   "cell_type": "code",
   "execution_count": 95,
   "id": "cd134222",
   "metadata": {},
   "outputs": [],
   "source": [
    "# note can only have values of +1 or -1 here!\n",
    "C2 = {'A1': 1,\n",
    "      'A2': 1,\n",
    "      'B1':-1,\n",
    "      'B2':-1,}\n",
    "\n",
    "sig_h = { 'A1': 1,\n",
    "          'A2':-1,\n",
    "          'B1': 1,\n",
    "          'B2':-1,}\n",
    "\n"
   ]
  },
  {
   "cell_type": "code",
   "execution_count": 96,
   "id": "59b92e9a",
   "metadata": {},
   "outputs": [
    {
     "data": {
      "text/plain": [
       "array(['A1', 'A1', 'A1', 'A1', 'A1', 'A1', 'B1', 'B1', 'B2', 'B2', 'A1',\n",
       "       'A1', 'A1', 'A1', 'B1', 'B1', 'B2', 'B2'], dtype='<U2')"
      ]
     },
     "execution_count": 96,
     "metadata": {},
     "output_type": "execute_result"
    }
   ],
   "source": [
    "labels"
   ]
  },
  {
   "cell_type": "code",
   "execution_count": 137,
   "id": "e284fae3",
   "metadata": {},
   "outputs": [],
   "source": [
    "ferms = []\n",
    "symm_dict = sig_h # [C2 or sig_h]\n",
    "for qind, term in enumerate(labels):\n",
    "    if term in symm_dict.keys():\n",
    "        if symm_dict[term]==-1:\n",
    "\n",
    "            op = FermionOperator(f'',1) + FermionOperator(f'{qind}^ {qind}', -2)\n",
    "            ferms.append(op)"
   ]
  },
  {
   "cell_type": "code",
   "execution_count": 138,
   "id": "5d1f45bd",
   "metadata": {},
   "outputs": [
    {
     "data": {
      "text/plain": [
       "(1+0j) [Z8] +\n",
       "(1+0j) [Z9] +\n",
       "(1+0j) [Z16] +\n",
       "(1+0j) [Z17]"
      ]
     },
     "execution_count": 138,
     "metadata": {},
     "output_type": "execute_result"
    }
   ],
   "source": [
    "from functools import reduce\n",
    "from openfermion import jordan_wigner\n",
    "\n",
    "\n",
    "sig_h_sym_op_ferm = reduce(lambda x,y:x+y, ferms)\n",
    "\n",
    "jordan_wigner(sig_h_sym_op_ferm)\n",
    "\n"
   ]
  },
  {
   "cell_type": "code",
   "execution_count": null,
   "id": "7071511a",
   "metadata": {},
   "outputs": [],
   "source": []
  },
  {
   "cell_type": "markdown",
   "id": "71edef94",
   "metadata": {},
   "source": [
    "http://gernot-katzers-spice-pages.com/character_tables/C2v.html"
   ]
  },
  {
   "cell_type": "code",
   "execution_count": 139,
   "id": "faa74971",
   "metadata": {},
   "outputs": [
    {
     "data": {
      "text/plain": [
       " 1 IIIIIIZZIIIIIIZZIIII \n",
       " 1 IIIIIIIIZZIIIIIIZZII \n",
       " 1 ZIZIZIIZIZZIZIIZIZZI \n",
       " 1 IZIZIZIZIZIZIZIZIZIZ"
      ]
     },
     "execution_count": 139,
     "metadata": {},
     "output_type": "execute_result"
    }
   ],
   "source": [
    "from symmer.symplectic import IndependentOp\n",
    "\n",
    "stabs = IndependentOp.symmetry_generators(molecule.H_q, commuting_override=True)\n",
    "stabs"
   ]
  },
  {
   "cell_type": "code",
   "execution_count": 140,
   "id": "a03b9cba",
   "metadata": {},
   "outputs": [
    {
     "data": {
      "text/plain": [
       "(array([ 8,  9, 16, 17]),)"
      ]
     },
     "execution_count": 140,
     "metadata": {},
     "output_type": "execute_result"
    }
   ],
   "source": [
    "np.where(np.array(list(stabs[1].__str__()[3:]))!='I')"
   ]
  },
  {
   "cell_type": "code",
   "execution_count": null,
   "id": "aa49143c",
   "metadata": {},
   "outputs": [],
   "source": []
  },
  {
   "cell_type": "code",
   "execution_count": 149,
   "id": "1e430b0a",
   "metadata": {},
   "outputs": [
    {
     "data": {
      "text/plain": [
       "(1+0j) [Z6] +\n",
       "(1+0j) [Z7] +\n",
       "(1+0j) [Z8] +\n",
       "(1+0j) [Z9] +\n",
       "(1+0j) [Z14] +\n",
       "(1+0j) [Z15] +\n",
       "(1+0j) [Z16] +\n",
       "(1+0j) [Z17]"
      ]
     },
     "execution_count": 149,
     "metadata": {},
     "output_type": "execute_result"
    }
   ],
   "source": [
    "ferms = []\n",
    "symm_dict = C2 # [C2 or sig_h]\n",
    "for qind, term in enumerate(labels):\n",
    "    if term in symm_dict.keys():\n",
    "        if symm_dict[term]==-1:\n",
    "\n",
    "            op = FermionOperator(f'',1) + FermionOperator(f'{qind}^ {qind}', -2)\n",
    "            ferms.append(op)\n",
    "            \n",
    "            \n",
    "C2_sym_op_ferm = reduce(lambda x,y:x+y, ferms)\n",
    "\n",
    "jordan_wigner(C2_sym_op_ferm)"
   ]
  },
  {
   "cell_type": "code",
   "execution_count": 142,
   "id": "e0ae1ec9",
   "metadata": {},
   "outputs": [
    {
     "data": {
      "text/plain": [
       "(array([ 6,  7, 14, 15]),)"
      ]
     },
     "execution_count": 142,
     "metadata": {},
     "output_type": "execute_result"
    }
   ],
   "source": [
    "np.where(np.array(list(stabs[0].__str__()[3:]))!='I')"
   ]
  },
  {
   "cell_type": "code",
   "execution_count": 145,
   "id": "3f449e3c",
   "metadata": {},
   "outputs": [
    {
     "data": {
      "text/plain": [
       "(array([ 1,  3,  5,  7,  9, 11, 13, 15, 17, 19]),)"
      ]
     },
     "execution_count": 145,
     "metadata": {},
     "output_type": "execute_result"
    }
   ],
   "source": [
    "np.where(np.array(list(stabs[3].__str__()[3:]))!='I')"
   ]
  },
  {
   "cell_type": "code",
   "execution_count": 162,
   "id": "896030eb",
   "metadata": {},
   "outputs": [
    {
     "data": {
      "text/plain": [
       "(1+0j) [Z8 Z9 Z16 Z17]"
      ]
     },
     "execution_count": 162,
     "metadata": {},
     "output_type": "execute_result"
    }
   ],
   "source": [
    "sigH = list('I'*stabs.n_qubits)\n",
    "\n",
    "sigH[8]= 'Z'\n",
    "sigH[9]= 'Z'\n",
    "sigH[16]= 'Z'\n",
    "sigH[17]= 'Z'\n",
    "\n",
    "PauliwordOp.from_list([''.join(sigH)])#.to_openfermion"
   ]
  },
  {
   "cell_type": "code",
   "execution_count": 164,
   "id": "af2f5bf0",
   "metadata": {},
   "outputs": [],
   "source": [
    "sigH = list('I'*stabs.n_qubits)\n",
    "\n",
    "sigH[8]= 'Z'\n",
    "sigH[9]= 'Z'\n",
    "sigH[16]= 'Z'\n",
    "sigH[17]= 'Z'\n",
    "\n",
    "sigH = PauliwordOp.from_list([''.join(sigH)])#.to_openfermion\n"
   ]
  },
  {
   "cell_type": "code",
   "execution_count": 168,
   "id": "cb7cf2cf",
   "metadata": {},
   "outputs": [
    {
     "data": {
      "text/plain": [
       " 1.000+0.000j IIIIIIZZZZIIIIZZZZII"
      ]
     },
     "execution_count": 168,
     "metadata": {},
     "output_type": "execute_result"
    }
   ],
   "source": [
    "\n",
    "\n",
    "C2_term = list('I'*stabs.n_qubits)\n",
    "\n",
    "C2_term[6]= 'Z'\n",
    "C2_term[7]= 'Z'\n",
    "C2_term[8]= 'Z'\n",
    "C2_term[9]= 'Z'\n",
    "C2_term[14]= 'Z'\n",
    "C2_term[15]= 'Z'\n",
    "C2_term[16]= 'Z'\n",
    "C2_term[17]= 'Z'\n",
    "\n",
    "C2_term = PauliwordOp.from_list([''.join(C2_term)])\n",
    "C2_term"
   ]
  },
  {
   "cell_type": "code",
   "execution_count": 170,
   "id": "5813578d",
   "metadata": {},
   "outputs": [],
   "source": [
    "symm_ops = sigH + C2_term"
   ]
  },
  {
   "cell_type": "code",
   "execution_count": 172,
   "id": "ff0a19e8",
   "metadata": {},
   "outputs": [
    {
     "data": {
      "text/plain": [
       "(array([[0, 1, 0, 0],\n",
       "        [1, 1, 0, 0]]),\n",
       " array([ True,  True]))"
      ]
     },
     "execution_count": 172,
     "metadata": {},
     "output_type": "execute_result"
    }
   ],
   "source": [
    "symm_ops.basis_reconstruction(stabs)"
   ]
  },
  {
   "cell_type": "code",
   "execution_count": 169,
   "id": "c1c4079f",
   "metadata": {},
   "outputs": [],
   "source": [
    "# 'Z8 Z9 Z16 Z17' (sigma_h symmetry)\n",
    "\n",
    "# 'Z6 Z7 Z8 Z9 Z14 Z15 Z16 Z17' (C2 symmetry)"
   ]
  },
  {
   "cell_type": "code",
   "execution_count": null,
   "id": "c0974ea2",
   "metadata": {},
   "outputs": [],
   "source": []
  }
 ],
 "metadata": {
  "kernelspec": {
   "display_name": "Python 3 (ipykernel)",
   "language": "python",
   "name": "python3"
  },
  "language_info": {
   "codemirror_mode": {
    "name": "ipython",
    "version": 3
   },
   "file_extension": ".py",
   "mimetype": "text/x-python",
   "name": "python",
   "nbconvert_exporter": "python",
   "pygments_lexer": "ipython3",
   "version": "3.8.16"
  }
 },
 "nbformat": 4,
 "nbformat_minor": 5
}
