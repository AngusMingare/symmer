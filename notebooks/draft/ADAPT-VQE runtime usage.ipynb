{
 "cells": [
  {
   "cell_type": "code",
   "execution_count": 1,
   "id": "917442f2",
   "metadata": {},
   "outputs": [],
   "source": [
    "from symmer.simulation import VQE_Runtime"
   ]
  },
  {
   "cell_type": "code",
   "execution_count": 253,
   "id": "ae379cb2",
   "metadata": {},
   "outputs": [
    {
     "name": "stdout",
     "output_type": "stream",
     "text": [
      "Be_STO-3G_SINGLET\n",
      "Molecule geometry:\n",
      "Be\t0\t0\t0\n",
      "\n",
      "HF converged?   True\n",
      "CCSD converged? True\n",
      "FCI converged?  True\n",
      "\n",
      "HF energy:   -14.351880476202023\n",
      "MP2 energy:  -14.376238850841515\n",
      "CCSD energy: -14.403650751752787\n",
      "FCI energy:  -14.403655108067682\n",
      "\n",
      "\n",
      "Number of qubits: 10\n"
     ]
    }
   ],
   "source": [
    "import json\n",
    "import numpy as np\n",
    "from symmer.chem import MoleculeBuilder\n",
    "from symmer.projection import QubitTapering, CS_VQE, StabilizerIdentification\n",
    "from symmer.symplectic import ObservableGraph, PauliwordOp, AnsatzOp, ObservableOp\n",
    "\n",
    "with open('../data/molecule_data.json', 'r') as jfile:\n",
    "    molecule_geometries = json.load(jfile)    \n",
    "\n",
    "speciesname = 'Be_STO-3G_SINGLET'\n",
    "print(speciesname)\n",
    "# build the molecule\n",
    "mol_data = molecule_geometries[speciesname]\n",
    "atoms  = mol_data['atoms']\n",
    "coords = mol_data['coords']\n",
    "charge = mol_data['charge']\n",
    "basis = mol_data['basis']\n",
    "geometry = list(zip(atoms, coords))\n",
    "\n",
    "molecule = MoleculeBuilder(geometry=geometry, charge=charge, basis=basis, spin=0, run_fci=True, print_info=True)"
   ]
  },
  {
   "cell_type": "code",
   "execution_count": 254,
   "id": "0dea76bc",
   "metadata": {},
   "outputs": [
    {
     "name": "stdout",
     "output_type": "stream",
     "text": [
      "Qubit tapering permitted a reduction of 10 -> 5 qubits\n",
      "\n",
      "The following stabilizers were identified:\n",
      "\n",
      " 1 ZIZIIZIZIZ \n",
      " 1 IZIZIZIZIZ \n",
      " 1 IIIIZZIIII \n",
      " 1 IIIIIIZZII \n",
      " 1 IIIIIIIIZZ\n"
     ]
    }
   ],
   "source": [
    "# taper the Hamiltonian\n",
    "qubit_tapering = QubitTapering(molecule.H_q)\n",
    "hf_array = molecule.H_fermion.hf_comp_basis_state\n",
    "qubit_tapering.stabilizers.update_sector(hf_array)\n",
    "ham_tap = qubit_tapering.taper_it(ref_state=hf_array)\n",
    "ucc_tap = qubit_tapering.taper_it(aux_operator=molecule.UCC_q, ref_state=hf_array) #molecule.T_q\n",
    "hf_tapered = qubit_tapering.tapered_ref_state\n",
    "\n",
    "print(f'Qubit tapering permitted a reduction of {molecule.H_q.n_qubits} -> {ham_tap.n_qubits} qubits\\n')\n",
    "print('The following stabilizers were identified:\\n')\n",
    "print(qubit_tapering.stabilizers)"
   ]
  },
  {
   "cell_type": "code",
   "execution_count": 255,
   "id": "ea4b199c",
   "metadata": {},
   "outputs": [
    {
     "data": {
      "text/plain": [
       "PauliSumOp(SparsePauliOp([[False, False, False, False, False, False],\n",
       "               [False, False, False,  True, False, False],\n",
       "               [False, False, False, False,  True, False],\n",
       "               [False, False, False,  True,  True, False],\n",
       "               [False, False, False, False, False,  True],\n",
       "               [False, False, False,  True, False,  True],\n",
       "               [False, False, False, False,  True,  True],\n",
       "               [False, False, False,  True,  True,  True],\n",
       "               [ True, False, False, False, False, False],\n",
       "               [ True, False, False, False,  True,  True],\n",
       "               [False,  True, False, False, False, False],\n",
       "               [False,  True, False,  True, False,  True],\n",
       "               [ True,  True, False, False, False, False],\n",
       "               [ True,  True, False,  True,  True, False],\n",
       "               [False, False,  True, False, False, False],\n",
       "               [False, False,  True,  True,  True, False],\n",
       "               [ True, False,  True, False, False, False],\n",
       "               [ True, False,  True,  True, False,  True],\n",
       "               [False,  True,  True, False, False, False],\n",
       "               [False,  True,  True, False,  True,  True]],\n",
       "              coeffs=[-12.488598  +0.j,  -0.85829425+0.j,  -0.85829425+0.j,   0.02304318+0.j,\n",
       "  -0.85829425+0.j,   0.02304318+0.j,   0.02304318+0.j,   0.64247074+0.j,\n",
       "  -0.04340449+0.j,  -0.04340449+0.j,  -0.04340449+0.j,  -0.04340449+0.j,\n",
       "   0.01212469+0.j,   0.01212469+0.j,  -0.04340449+0.j,  -0.04340449+0.j,\n",
       "   0.01212469+0.j,   0.01212469+0.j,   0.01212469+0.j,   0.01212469+0.j]), coeff=1.0)"
      ]
     },
     "execution_count": 255,
     "metadata": {},
     "output_type": "execute_result"
    }
   ],
   "source": [
    "n_qubits = 3\n",
    "# CS-VQE and stabilizer identification\n",
    "cs_vqe = CS_VQE(ham_tap, hf_tapered, basis_weighting_operator=ucc_tap, noncontextual_form='diag')\n",
    "CC_stabilizers = StabilizerIdentification(ucc_tap)\n",
    "S = CC_stabilizers.symmetry_basis_by_subspace_dimension(n_qubits)\n",
    "ham_cs = cs_vqe.project_onto_subspace(S, enforce_clique_operator=False)\n",
    "ucc_cs = cs_vqe.project_onto_subspace(S, enforce_clique_operator=False, aux_operator=ucc_tap)\n",
    "ref_cs = hf_tapered[cs_vqe.free_qubit_indices]\n",
    "anz_cs = AnsatzOp(ucc_cs.symp_matrix, ucc_cs.coeff_vec)\n",
    "\n",
    "ham_cs.to_PauliSumOp"
   ]
  },
  {
   "cell_type": "code",
   "execution_count": 258,
   "id": "2496ad81",
   "metadata": {},
   "outputs": [
    {
     "name": "stdout",
     "output_type": "stream",
     "text": [
      "-0.9461446877+0.0000000000j |000> +\n",
      "-0.1869137323+0.0000000000j |001> +\n",
      "-0.1869137323+0.0000000000j |010> +\n",
      "-0.1869137323+0.0000000000j |100>\n",
      "\n",
      "Contextual subspace ground state error = 0.0003265059338524168\n"
     ]
    }
   ],
   "source": [
    "from symmer.symplectic import QuantumState, array_to_QuantumState\n",
    "from symmer.utils import exact_gs_energy\n",
    "\n",
    "gs_energy, gs_vec = exact_gs_energy(ham_cs.to_sparse_matrix)\n",
    "gs_psi = array_to_QuantumState(gs_vec)\n",
    "\n",
    "print(gs_psi)\n",
    "print()\n",
    "print(f'Contextual subspace ground state error = {gs_energy - molecule.fci_energy}')"
   ]
  },
  {
   "cell_type": "code",
   "execution_count": 259,
   "id": "7fbf8eb4",
   "metadata": {},
   "outputs": [
    {
     "name": "stdout",
     "output_type": "stream",
     "text": [
      "[-0.09847679 -0.09847679 -0.09847679 -0.09847679 -0.09847679 -0.09847679]\n",
      "[-0.09771918 -0.09771918 -0.09575265 -0.09575265 -0.09389815 -0.09389815]\n"
     ]
    },
    {
     "data": {
      "text/plain": [
       "0.0003265823239786414"
      ]
     },
     "execution_count": 259,
     "metadata": {},
     "output_type": "execute_result"
    }
   ],
   "source": [
    "print(anz_cs.coeff_vec)\n",
    "obs = ObservableOp(ham_cs.symp_matrix, ham_cs.coeff_vec)\n",
    "vqe_result = obs.VQE(\n",
    "    ansatz_op=anz_cs, \n",
    "    ref_state=ref_cs\n",
    ")\n",
    "\n",
    "opt_params = vqe_result[0]['x']\n",
    "print(anz_cs.coeff_vec)\n",
    "vqe_result[0]['fun'] - molecule.fci_energy"
   ]
  },
  {
   "cell_type": "code",
   "execution_count": 260,
   "id": "60c7206d",
   "metadata": {},
   "outputs": [],
   "source": [
    "operator = ham_cs\n",
    "\n",
    "QWC_decomposition = list(\n",
    "    ObservableGraph(\n",
    "        operator.symp_matrix, \n",
    "        operator.coeff_vec\n",
    "    ).clique_cover(\n",
    "        clique_relation='QWC', \n",
    "        colouring_strategy='largest_first'\n",
    "    ).values()\n",
    ")\n",
    "assert(sum(QWC_decomposition)==operator), 'Decomposition into QWC groups failed'"
   ]
  },
  {
   "cell_type": "code",
   "execution_count": 261,
   "id": "b067db45",
   "metadata": {},
   "outputs": [
    {
     "data": {
      "text/plain": [
       "-0.098 IIY +\n",
       "-0.098 ZZY +\n",
       "-0.096 IYI +\n",
       "-0.096 ZYZ +\n",
       "-0.094 YII +\n",
       "-0.094 YZZ"
      ]
     },
     "execution_count": 261,
     "metadata": {},
     "output_type": "execute_result"
    }
   ],
   "source": [
    "anz_cs"
   ]
  },
  {
   "cell_type": "code",
   "execution_count": 44,
   "id": "75ce11b4",
   "metadata": {},
   "outputs": [
    {
     "data": {
      "text/plain": [
       "(0.4601464834272761, 0.30399863297895874, 0.30399863297895874)"
      ]
     },
     "execution_count": 44,
     "metadata": {},
     "output_type": "execute_result"
    }
   ],
   "source": [
    "s = np.random.random(10)\n",
    "np.mean(s), np.std(s), np.sqrt(np.var(s))"
   ]
  },
  {
   "cell_type": "code",
   "execution_count": 46,
   "id": "b031305a",
   "metadata": {},
   "outputs": [],
   "source": [
    "from ast import operator\n",
    "import numpy as np\n",
    "from typing import List, Union\n",
    "from scipy.optimize import minimize\n",
    "from qiskit.quantum_info import Pauli, PauliTable\n",
    "from qiskit.opflow import PauliSumOp, PauliOp, PauliBasisChange\n",
    "from qiskit import QuantumCircuit, transpile\n",
    "import mthree\n",
    "\n",
    "class VQE_Runtime:\n",
    "    \"\"\" Runtime program for performing VQE routines.\n",
    "\n",
    "    Accepts a parametrized ansatz (QuantumCircuit) with an observable (PauliSumOp)\n",
    "    or observable grouping (List[PauliSumOp]), e.g. qubitwise commuting groups that\n",
    "    may be measured simultaneously. If no grouping is specified then a collecion\n",
    "    of randomized bases is generated and the qubitwise commuting terms of the operator\n",
    "    are decomposed in each measurement basis (classical shadows https://arxiv.org/abs/2002.08953)\n",
    "\n",
    "    For each measurement group, a change-of-basis is implemented in-circuit so that\n",
    "    only Pauli-Z measurements are necessary.\n",
    "\n",
    "    This class facilitates the submission of batch circuit jobs to the QPU, with the\n",
    "    returned measurement outcomes being used to estimate expectaton values in each\n",
    "    observable group, before being summed to yield an energy estimate of the full observable.\n",
    "    In the classical shadows scheme, the coefficients are corrected to allow for duplicated\n",
    "    terms accross the measurement groups.\n",
    "\n",
    "    Gradients are computed analytically via the parameter shift rule (eq.15 https://arxiv.org/abs/1906.08728).\n",
    "    Such gradient calculations are expensive for large numbers of parameters; each gradient requires 2*n_params\n",
    "    observable expectation value estimations, although they facilitate rapid convergence to the minimum energy \n",
    "    within the limitations of the provided ansatz.\n",
    "\n",
    "    The VQE_Runtime.run() wraps all this within a scipy.optimize.minimize routine, returning the optimizer\n",
    "    output, in addition to the interim energy, parameter and gradient values.\n",
    "    \"\"\"\n",
    "    n_shots     = 2**12\n",
    "    n_realize   = 1\n",
    "    n_groups    = 5\n",
    "    maxiter     = 10\n",
    "    optimizer   = 'SLSQP'\n",
    "    init_params = None\n",
    "    opt_setting = {'maxiter':10}\n",
    "    mitigate_errors = True\n",
    "    \n",
    "    def __init__(self,\n",
    "        backend,\n",
    "        user_messenger,\n",
    "        ansatz: QuantumCircuit,\n",
    "        observable: PauliSumOp = None,\n",
    "        observable_groups: List[Union[PauliSumOp, PauliOp]] = None\n",
    "    ) -> None:\n",
    "        \"\"\"\n",
    "        Args:\n",
    "            - backend (): \n",
    "                The target QPU for circuit jobs\n",
    "            - user_messenger (): \n",
    "                Allows readout during computation\n",
    "            - ansatz (QuantumCircuit): \n",
    "                The parametrized QuantumCircuit used in state preparation\n",
    "            - observable (PauliSumOp): \n",
    "                The observable for expecation value estimation\n",
    "            - observable_groups (List[PauliSumOp]): \n",
    "                Some Pauli operators may be estimated simultaneously. The grouping \n",
    "                specifies this - if None, will determine a random grouping.\n",
    "        \"\"\"\n",
    "        self.backend = backend\n",
    "        self.user_messenger = user_messenger\n",
    "        self.ansatz = ansatz\n",
    "        self.n_params = ansatz.num_parameters\n",
    "        self.n_qubits = ansatz.num_qubits\n",
    "        self.observable = observable\n",
    "        # if no observable grouping is specified, will group by classical shadows (i.e. random measurement bases)\n",
    "        if observable_groups is None:\n",
    "            assert(observable is not None), 'Must provide an observable or observable grouping'\n",
    "            self.observable_groups = self.prepare_classical_shadows_observable_groups()\n",
    "        else:\n",
    "            self.observable_groups = observable_groups\n",
    "\n",
    "        self.circuits,self.group_data = self.prepare_qubitwise_commuting_measurement_groups()\n",
    "\n",
    "        if self.mitigate_errors:\n",
    "            #self.maps = mthree.utils.final_measurement_mapping(self.circuits)\n",
    "            self.m3   = mthree.M3Mitigation(self.backend)\n",
    "            self.m3.cals_from_system(range(self.n_qubits))\n",
    "            \n",
    "    def QWC_terms(self, basis_symp_vec):\n",
    "        \"\"\" Given the symplectic representation of a measurement basis,\n",
    "        determines which operator terms may be measured in this basis\n",
    "\n",
    "        Returns:  \n",
    "            QWC_observable (PauliSumOp): \n",
    "                an observable consisting of the self.observable terms \n",
    "                that qubitwise commute with the measurement basis\n",
    "        \"\"\"\n",
    "        X_basis, Z_basis = np.hsplit(basis_symp_vec, 2)\n",
    "        X_block, Z_block = np.hsplit(self.observable.primitive.table.array, 2)\n",
    "        # identify the qubit positions on which there is at least one non-identity operation\n",
    "        non_I = (X_block | Z_block) & (X_basis | Z_basis)\n",
    "        # identift matches between the operator and basis, these indicate qubitwise commutation\n",
    "        X_match = np.all((X_block & non_I) == (X_basis & non_I), axis=1)\n",
    "        Z_match = np.all((Z_block & non_I) == (Z_basis & non_I), axis=1)\n",
    "        # mask the terms of self.observable that qubitwise commute with the basis\n",
    "        QWC_mask = X_match & Z_match\n",
    "        QWC_observable = self.observable[QWC_mask]\n",
    "        \n",
    "        return QWC_observable\n",
    "\n",
    "    def prepare_classical_shadows_observable_groups(self):\n",
    "        \"\"\" If no grouping is explicitly specified, we generate a grouping at random.\n",
    "        This is synonymous with classical shadows and can facilitate convergence on\n",
    "        the energy estimate using fewer quantum measurements than full state tomography.\n",
    "        \n",
    "        Returns:\n",
    "            - corrected_observable_groups (List[PauliSumOp]):\n",
    "                An observable groupingl each group contains terms that may be measured\n",
    "                simulataneously. Note duplications can occur between measurement groups,\n",
    "                hence this is corrected in the coefficients of the correpsonding terms.\n",
    "        \"\"\"\n",
    "        random_bases = np.random.randint(0,2,(self.n_groups,2*self.n_qubits), dtype=bool)\n",
    "        observable_groups = [\n",
    "            self.QWC_terms(basis_symp_vec) for basis_symp_vec in random_bases\n",
    "        ]\n",
    "        # need to account for duplicated terms accross shadow groups\n",
    "        num_duplicate_terms = {term:0 for term in self.observable.primitive.table.to_labels()}\n",
    "        for opgroup in observable_groups:\n",
    "            for term in opgroup.primitive.table.to_labels():\n",
    "                num_duplicate_terms[term]+=1\n",
    "\n",
    "        # dividing each coefficient by the number of duplications of the \n",
    "        # corresponding Pauli term will average the energy contributions\n",
    "        corrected_observable_groups = []\n",
    "        for opgroup in observable_groups:\n",
    "            pauli_list = opgroup.primitive.table.to_labels()\n",
    "            corrected_coeff_vec = []\n",
    "            for coeff, term in zip(opgroup.coeffs, pauli_list):\n",
    "                corrected_coeff_vec.append(coeff/num_duplicate_terms[term])\n",
    "            corrected_group_observable = PauliSumOp.from_list(\n",
    "                pauli_list=zip(pauli_list, corrected_coeff_vec)\n",
    "            )\n",
    "            corrected_observable_groups.append(corrected_group_observable)\n",
    "        \n",
    "        return corrected_observable_groups\n",
    "\n",
    "    def prepare_qubitwise_commuting_measurement_groups(self):\n",
    "        \"\"\" Given the grouping scheme, each measurement group is assigned a circuit\n",
    "        composed from the specified ansatz and the relevant change of basis gates.\n",
    "        For efficient expectation value computation post circuit execution, we return\n",
    "        a binary array representing the Z_block of the transormed group observable.\n",
    "\n",
    "        Returns:\n",
    "            - circuits (List[PauliSumOp]):\n",
    "                The paramtrized circuits in each measurement basis\n",
    "            - group_data (List[Tuple[np.array, np.array]]):\n",
    "                The minimal observable information necessary for expectation\n",
    "                value estimation per measurement group.\n",
    "        \"\"\"\n",
    "        circuits = []\n",
    "        group_data = []\n",
    "        for opgroup in self.observable_groups:\n",
    "            if isinstance(opgroup, PauliSumOp):\n",
    "                X_block, Z_block = np.hsplit(opgroup.primitive.table.array.astype(int), 2)\n",
    "                coeff_vec = opgroup.coeffs\n",
    "            elif isinstance(opgroup, PauliOp):\n",
    "                X_block, Z_block = np.hsplit(PauliTable(opgroup.primitive).array.astype(int), 2)\n",
    "                coeff_vec = np.array([opgroup.coeff])\n",
    "            else:\n",
    "                raise ValueError('Unrecognized observable group type, must be PauliSumOp or PauliOp')\n",
    "\n",
    "            new_Z_block = (X_block | Z_block)[:,::-1]  \n",
    "            group_data.append([new_Z_block, coeff_vec])\n",
    "            X_pos = np.einsum('ij->j', X_block)!=0\n",
    "            Z_pos = np.einsum('ij->j', Z_block)!=0\n",
    "            cob_group = PauliTable(np.hstack([X_pos, Z_pos])).to_labels()[0]\n",
    "            cob_gates, target = PauliBasisChange().get_cob_circuit(Pauli(cob_group))\n",
    "            qc = self.ansatz.compose(cob_gates.to_circuit())\n",
    "            qc.measure_all()\n",
    "            circuits.append(qc)\n",
    "\n",
    "        circuits = transpile(circuits, self.backend, optimization_level=3)\n",
    "\n",
    "        return circuits, group_data\n",
    "   \n",
    "    def get_counts(self, param_list: List[np.array]):\n",
    "        \"\"\" Given a list of parametrizations, bind the circuits and submit to the backend\n",
    "        \n",
    "        Returns:\n",
    "            - result (List[Dict[str:int]]):\n",
    "                A list of dictionaries in which keys are binary strings and \n",
    "                their values the frequency of said measurement outcome \n",
    "\n",
    "        \"\"\"\n",
    "        bound_circuits = []\n",
    "        for params in param_list:\n",
    "            bound_circuits+=[qc.bind_parameters(params) for qc in self.circuits]\n",
    "        \n",
    "        job = self.backend.run(\n",
    "            circuits = bound_circuits,\n",
    "            shots=self.n_shots\n",
    "        )\n",
    "        result = job.result()\n",
    "        raw_counts = result.get_counts()\n",
    "        \n",
    "        if self.mitigate_errors:\n",
    "            quasis = self.m3.apply_correction(raw_counts, range(self.n_qubits))\n",
    "            return quasis.nearest_probability_distribution()\n",
    "        else:\n",
    "            return [{binstr:freq/self.n_shots for binstr,freq in counts.items()} \n",
    "                    for counts in raw_counts] \n",
    "\n",
    "    def _estimate(self, countset):\n",
    "        \"\"\" Given the measurment outcomes retrieved from the the backend, calculate\n",
    "        the corresponding expectation values accross the measurement groups and sum\n",
    "\n",
    "        Returns:\n",
    "            expval.real (np.float):\n",
    "                The expectation value of the observable\n",
    "        \"\"\"\n",
    "        assert(len(countset)==len(self.group_data)), 'Incompatible number of counts and observables'\n",
    "        expval = 0\n",
    "        for (group_Z_block, coeff_vec), measurements in zip(self.group_data, countset):\n",
    "            for binstr, weight in measurements.items():\n",
    "                binarr = np.array([int(i) for i in binstr])\n",
    "                signed = (-1)**np.einsum('ij->i', np.bitwise_and(binarr, group_Z_block))\n",
    "                expval += weight*np.sum(signed*coeff_vec)\n",
    "        return expval.real\n",
    "\n",
    "    def estimate(self, x):\n",
    "        \"\"\" Wraps the _estimate method, calling get_counts to submit\n",
    "        the circuit jobs parametrized by the input array x\n",
    "        \"\"\"\n",
    "        samples = []\n",
    "        for sample in range(self.n_realize):\n",
    "            countset = self.get_counts([x])\n",
    "            energy = self._estimate(countset)\n",
    "            samples.append(energy)\n",
    "        return np.mean(samples), np.std(samples)\n",
    "        \n",
    "    def gradient(self, x):\n",
    "        \"\"\" Implementation of the parameter shif rule of https://arxiv.org/abs/1906.08728 (eq.15).\n",
    "        Requires 2*n_params estimation routines, hence expensive for highly parametrized circuits.\n",
    "        All circuits for the gradient estimation are submitted as a batch job. For example, given\n",
    "        parameters [a,b,c], the circuits submitted are of the following form:\n",
    "        [\n",
    "            [a+pi/4,b,c],[a,b+pi/4,c],[a,b,c+pi/4],[a-pi/4,b,c],[a,ba-pi/4,c],[a,b,ca-pi/4]\n",
    "        ],\n",
    "        so the returned measurement data must be split accordingly, using split_list function below.\n",
    "        \n",
    "        Returns:\n",
    "            estimated_gradient (np.array):\n",
    "                An array representing the gradient w.r.t. each parameter at the point x\n",
    "        \"\"\"\n",
    "        def split_list(alist, wanted_parts=1):\n",
    "            length = len(alist)\n",
    "            return [ alist[i*length // wanted_parts: (i+1)*length // wanted_parts] \n",
    "                    for i in range(wanted_parts) ]\n",
    "        \n",
    "        upper_shift_params = [x+np.pi/4*np.eye(1,self.n_params,i)[0] for i in range(self.n_params)]\n",
    "        lower_shift_params = [x-np.pi/4*np.eye(1,self.n_params,i)[0] for i in range(self.n_params)]\n",
    "        \n",
    "        # submit all circuits for gradient estimation as a batch job to the QPU\n",
    "        all_counts = self.get_counts(upper_shift_params+lower_shift_params)\n",
    "        # need to split the measurement results into the relevant sets \n",
    "        upper_shift_counts, lower_shift_counts = split_list(all_counts, 2)\n",
    "\n",
    "        upper_shift_energy = np.array([self._estimate(countset) for countset in split_list(upper_shift_counts, self.n_params)])\n",
    "        lower_shift_energy = np.array([self._estimate(countset) for countset in split_list(lower_shift_counts, self.n_params)])\n",
    "        \n",
    "        estimated_gradient = upper_shift_energy - lower_shift_energy\n",
    "        \n",
    "        return estimated_gradient\n",
    "    \n",
    "    def run(self):\n",
    "        \"\"\" Runs a scipy.optimize.minimize routine that minimizes the output of\n",
    "        self.estimate, informed by self.gradient (optimizer-dependent)\n",
    "\n",
    "        Recommended optimizers:\n",
    "            - SLSQP  (gradient-descent, does not evaluate Jacobian at each iterate like BFGS or CG so is faster)\n",
    "            - COBYLA (gradient-free)\n",
    "        \n",
    "        Returns:\n",
    "            - vqe_result (Dict[str,Union[int, float, bool, array]]):\n",
    "                The optimizer output\n",
    "            - interim_values (Dict[str,List[Union[float, array]]]):\n",
    "                The interim energy, parameter and gradient values\n",
    "        \"\"\"\n",
    "        interim_values = {'values':[], 'stddev':[], 'params':[], 'gradients':[], 'count':0}\n",
    "\n",
    "        if self.init_params is None:\n",
    "            self.init_params = np.zeros(self.n_params)\n",
    "            \n",
    "        def fun(x):\n",
    "            interim_values['count']+=1\n",
    "            countnum = interim_values['count']\n",
    "            energy, stddev = self.estimate(x)\n",
    "            self.user_messenger.publish(f'Optimization step #{countnum}: energy = {energy}')\n",
    "            interim_values['params'].append((interim_values['count'], x))\n",
    "            interim_values['values'].append((interim_values['count'], energy))\n",
    "            interim_values['stddev'].append((interim_values['count'], stddev))\n",
    "            return energy\n",
    "\n",
    "        def jac(x):\n",
    "            countnum = interim_values['count']\n",
    "            Delta = self.gradient(x)\n",
    "            grad_norm = np.sqrt(np.sum(np.square(Delta)))\n",
    "            self.user_messenger.publish(f'Optimization step #{countnum}: gradient norm = {grad_norm}')\n",
    "            interim_values['gradients'].append((interim_values['count'], Delta))\n",
    "            return Delta\n",
    "            \n",
    "        self.user_messenger.publish('Optimization commencing')\n",
    "        vqe_result = minimize(\n",
    "            fun=fun, \n",
    "            jac=jac,\n",
    "            x0=self.init_params,\n",
    "            method=self.optimizer,\n",
    "            #tol=opt_tol\n",
    "            options=self.opt_setting\n",
    "        )\n",
    "        vqe_result.success = bool(vqe_result.success) # to ensure serializable\n",
    "        self.user_messenger.publish('VQE complete')\n",
    "        \n",
    "        return vqe_result, interim_values"
   ]
  },
  {
   "cell_type": "code",
   "execution_count": null,
   "id": "70e1798c",
   "metadata": {},
   "outputs": [],
   "source": []
  },
  {
   "cell_type": "code",
   "execution_count": 47,
   "id": "c2ac847a",
   "metadata": {},
   "outputs": [],
   "source": [
    "#vqe_results, interim_values = vqe.run()"
   ]
  },
  {
   "cell_type": "code",
   "execution_count": 48,
   "id": "b7dc1e7a",
   "metadata": {},
   "outputs": [],
   "source": [
    "#vqe_results['fun'] - molecule.fci_energy"
   ]
  },
  {
   "cell_type": "code",
   "execution_count": 49,
   "id": "e188ad05",
   "metadata": {},
   "outputs": [
    {
     "name": "stderr",
     "output_type": "stream",
     "text": [
      "Exception ignored in: <function _TemporaryFileCloser.__del__ at 0x7f6d38650ee0>\n",
      "Traceback (most recent call last):\n",
      "  File \"/home/tweaving/anaconda3/lib/python3.8/tempfile.py\", line 440, in __del__\n",
      "    self.close()\n",
      "  File \"/home/tweaving/anaconda3/lib/python3.8/tempfile.py\", line 436, in close\n",
      "    unlink(self.name)\n",
      "FileNotFoundError: [Errno 2] No such file or directory: '/home/tweaving/qc-research/symmer/notebooks/draft/tmpr77zf106'\n"
     ]
    }
   ],
   "source": [
    "from qiskit import Aer\n",
    "from qiskit.providers.ibmq.runtime import UserMessenger\n",
    "\n",
    "backend = Aer.get_backend('qasm_simulator')\n",
    "user_messenger = UserMessenger()\n",
    "observable = ham_cs.to_PauliSumOp\n",
    "observable_groups = [group.to_PauliSumOp for group in QWC_decomposition]\n",
    "\n",
    "excitation_circuit = anz_cs.to_QuantumCircuit(bind_params=False)\n",
    "ansatz = QuantumCircuit(n_qubits)\n",
    "for i in np.where(ref_cs)[0]:\n",
    "    ansatz.x(n_qubits-1-i)\n",
    "#ansatz.barrier()\n",
    "ansatz = ansatz.compose(excitation_circuit)\n",
    "\n",
    "ansatz.draw()\n",
    "vqe = VQE_Runtime(\n",
    "        backend=backend,\n",
    "        user_messenger = user_messenger,\n",
    "        ansatz=ansatz,\n",
    "        observable=observable,\n",
    "        observable_groups=observable_groups\n",
    "    )"
   ]
  },
  {
   "cell_type": "code",
   "execution_count": 63,
   "id": "016a5447",
   "metadata": {},
   "outputs": [
    {
     "data": {
      "text/plain": [
       "(-14.352288933437142, 0.0007838721531418178)"
      ]
     },
     "execution_count": 63,
     "metadata": {},
     "output_type": "execute_result"
    }
   ],
   "source": [
    "\n",
    "vqe.estimate(np.zeros(anz_cs.n_terms))"
   ]
  },
  {
   "cell_type": "code",
   "execution_count": 126,
   "id": "686b4646",
   "metadata": {},
   "outputs": [
    {
     "name": "stdout",
     "output_type": "stream",
     "text": [
      "\"Optimization commencing\"\n",
      "\"Optimization step #1: energy = -14.351450746398362\"\n",
      "\"Optimization step #1: gradient norm = 0.4344043494155183\"\n",
      "\"Optimization step #2: energy = -14.369781923918797\"\n",
      "\"Optimization step #3: energy = -14.403766435804632\"\n",
      "\"Optimization step #3: gradient norm = 0.0375022187580866\"\n",
      "\"Optimization step #4: energy = -14.403456543585696\"\n",
      "\"Optimization step #5: energy = -14.402793346877264\"\n",
      "\"Optimization step #6: energy = -14.402046154388415\"\n",
      "\"Optimization step #7: energy = -14.402108639063163\"\n",
      "\"Optimization step #8: energy = -14.404760841208198\"\n",
      "\"Optimization step #8: gradient norm = 0.030363754231447434\"\n",
      "\"Optimization step #9: energy = -14.401988048477318\"\n",
      "\"Optimization step #10: energy = -14.404221011830794\"\n",
      "\"Optimization step #11: energy = -14.402693241297731\"\n",
      "\"Optimization step #12: energy = -14.403340568332018\"\n",
      "\"Optimization step #13: energy = -14.401341017941728\"\n",
      "\"Optimization step #14: energy = -14.401669068352685\"\n",
      "\"Optimization step #15: energy = -14.403124155802834\"\n",
      "\"Optimization step #16: energy = -14.40134163220866\"\n",
      "\"Optimization step #17: energy = -14.402604764779511\"\n",
      "\"Optimization step #18: energy = -14.40479575666643\"\n",
      "\"VQE complete\"\n"
     ]
    }
   ],
   "source": [
    "vqe.n_realize = 10\n",
    "vqe.n_shots = 2**15\n",
    "vqe_result, interim_values = vqe.run()"
   ]
  },
  {
   "cell_type": "code",
   "execution_count": 221,
   "id": "bc48aca5",
   "metadata": {},
   "outputs": [
    {
     "data": {
      "image/png": "[encoded data removed]",
      "text/plain": [
       "<Figure size 432x288 with 1 Axes>"
      ]
     },
     "metadata": {
      "needs_background": "light"
     },
     "output_type": "display_data"
    }
   ],
   "source": [
    "from matplotlib import pyplot as plt\n",
    "\n",
    "plt.rc('hatch', color='k', linewidth=5)\n",
    "fig, axis = plt.subplots()\n",
    "#while not job.status().value == 'job has successfully run':\n",
    "X,Y_stddev = zip(*interim_values['stddev'])\n",
    "X,Y = zip(*interim_values['values'])\n",
    "X,Y = np.array(X), np.array(Y)\n",
    "axis.hlines(molecule.mp2_energy - molecule.fci_energy, 1, len(X), color='orange', label='MP2 energy')\n",
    "axis.hlines(molecule.hf_energy - molecule.fci_energy, 1, len(X), color='red', label='HF energy')\n",
    "#axis.hlines(2*0.0016, 1, len(X), color='green', label='Chemical accuracy * 2')\n",
    "#axis.hlines(0.0016, 1, len(X), color='lime', label='Chemical accuracy')\n",
    "#axis.hlines(-0.0016, 1, len(X), color='lime', label='Chemical accuracy')\n",
    "axis.fill_between(X, -0.0016, 0.0016, alpha=0.3, color='green', label='Chemical accuracy', hatch=r\"//\")\n",
    "axis.plot([], [], alpha=0.5, marker='o', ls='--', label='Parameter gradient norm')\n",
    "\n",
    "Y_error = Y - molecule.fci_energy\n",
    "axis.plot(X, Y_error, color='black', label='Optimizer output')\n",
    "axis.hlines(vqe_result['fun'] - molecule.fci_energy, 1, len(X), color='black', label='Converged energy', ls='--')\n",
    "plt.fill_between(X, Y_error - Y_stddev, Y_error + Y_stddev, alpha=0.2, color='black')\n",
    "\n",
    "axis.set_xlabel('nfev')\n",
    "axis.set_ylabel('Energy error [Ha]')\n",
    "#axis.set_yscale('log')\n",
    "\n",
    "#try:\n",
    "#    axis_param = axis.twinx()\n",
    "#    X_grad, Y_grads = zip(*interim_values['gradients'])\n",
    "#    Y_grad_norm = [np.sqrt(np.sum(np.square(grad))) for grad in Y_grads]\n",
    "#    axis_param.plot(X_grad, Y_grad_norm, alpha=0.5, marker='o', ls='--')\n",
    "#    axis_param.set_ylabel('Parameter gradient norm $||\\Delta||$')\n",
    "    #for param_grad in zip(*Y_grads):\n",
    "    #    axis_param.plot(X_grad, param_grad, alpha=0.2)\n",
    "#except:\n",
    "#    pass\n",
    "\n",
    "axis.legend()\n",
    "plt.show()"
   ]
  },
  {
   "cell_type": "code",
   "execution_count": 75,
   "id": "6dea3422",
   "metadata": {},
   "outputs": [
    {
     "data": {
      "text/plain": [
       "(0.0025191553108652107,\n",
       " 0.011938150805230995,\n",
       " 0.013088809136778599,\n",
       " 0.010471294916158643,\n",
       " 0.010618246959922233,\n",
       " 0.009341842945951764,\n",
       " 0.00820000893378658,\n",
       " 0.010668830601629384,\n",
       " 0.008251752706938042,\n",
       " 0.008969684562567928,\n",
       " 0.009483606959464255,\n",
       " 0.010978868193304804)"
      ]
     },
     "execution_count": 75,
     "metadata": {},
     "output_type": "execute_result"
    }
   ],
   "source": [
    "Y_stddev"
   ]
  },
  {
   "cell_type": "code",
   "execution_count": 18,
   "id": "91e71f51",
   "metadata": {},
   "outputs": [
    {
     "name": "stdout",
     "output_type": "stream",
     "text": [
      "*********************\n",
      "*** ADAPT cycle 1 ***\n",
      "*********************\n",
      "1/6: Δ=0.1667552495734661\n",
      "2/6: Δ=0.14728598552009586\n",
      "3/6: Δ=0.2126304528078311\n",
      "4/6: Δ=0.180126955407653\n",
      "5/6: Δ=0.15863791687577233\n",
      "6/6: Δ=0.16358748620824848\n",
      "\n",
      "\"Optimization commencing\"\n",
      "\"Optimization step #1: energy = -14.36751076499694\"\n",
      "\"Optimization step #1: gradient norm = 0.13149904709776017\"\n",
      "\"Optimization step #2: energy = -14.375620067867606\"\n",
      "\"Optimization step #2: gradient norm = 0.025557117048492728\"\n",
      "\"Optimization step #3: energy = -14.369215937038922\"\n",
      "\"Optimization step #4: energy = -14.374037494736402\"\n",
      "\"Optimization step #5: energy = -14.371586320425994\"\n",
      "\"Optimization step #6: energy = -14.373868850741228\"\n",
      "\"Optimization step #7: energy = -14.366396002019817\"\n",
      "\"Optimization step #8: energy = -14.373340135725865\"\n",
      "\"Optimization step #9: energy = -14.372424528192564\"\n",
      "\"Optimization step #10: energy = -14.375315593703297\"\n",
      "\"Optimization step #11: energy = -14.379130061404648\"\n",
      "\"VQE complete\"\n",
      "\n",
      "ADAPT cycle 1  error = 0.024525046663033123\n",
      "\n",
      "*********************\n",
      "*** ADAPT cycle 2 ***\n",
      "*********************\n",
      "1/5: Δ=0.19379100139689243\n",
      "2/5: Δ=0.1321415937078907\n",
      "3/5: Δ=0.09149996427185414\n",
      "4/5: Δ=0.17398221213815468\n",
      "5/5: Δ=0.16628467936665636\n",
      "\n",
      "\"Optimization commencing\"\n",
      "\"Optimization step #1: energy = -14.377814318020835\"\n",
      "\"Optimization step #1: gradient norm = 0.12968501621208636\"\n",
      "\"Optimization step #2: energy = -14.387641123768049\"\n",
      "\"Optimization step #2: gradient norm = 0.07143446478762516\"\n",
      "\"Optimization step #3: energy = -14.389552394743797\"\n",
      "\"Optimization step #3: gradient norm = 0.011244634865577396\"\n",
      "\"Optimization step #4: energy = -14.384983550098895\"\n",
      "\"Optimization step #5: energy = -14.381656655413602\"\n",
      "\"Optimization step #6: energy = -14.383711018694948\"\n",
      "\"Optimization step #7: energy = -14.386623660651551\"\n",
      "\"Optimization step #8: energy = -14.388805281500378\"\n",
      "\"Optimization step #9: energy = -14.3831945391505\"\n",
      "\"Optimization step #10: energy = -14.383413744878187\"\n",
      "\"Optimization step #11: energy = -14.380140872176764\"\n",
      "\"Optimization step #12: energy = -14.385013319148513\"\n",
      "\"Optimization step #13: energy = -14.383050850122023\"\n",
      "\"Optimization step #14: energy = -14.381940573334603\"\n",
      "\"VQE complete\"\n",
      "\n",
      "ADAPT cycle 2  error = 0.021714534733078494\n",
      "\n",
      "*********************\n",
      "*** ADAPT cycle 3 ***\n",
      "*********************\n",
      "1/4: Δ=0.14384242259311186\n",
      "2/4: Δ=0.1382688526778164\n",
      "3/4: Δ=0.15220384626069716\n",
      "4/4: Δ=0.18840247800242338\n",
      "\n",
      "\"Optimization commencing\"\n",
      "\"Optimization step #1: energy = -14.390182773750547\"\n",
      "\"Optimization step #1: gradient norm = 0.08328105246815803\"\n",
      "\"Optimization step #2: energy = -14.393955927428427\"\n",
      "\"Optimization step #2: gradient norm = 0.06689619068040067\"\n",
      "\"Optimization step #3: energy = -14.334456169696953\"\n",
      "\"Optimization step #4: energy = -14.402866296896411\"\n",
      "\"Optimization step #4: gradient norm = 0.039718025231792985\"\n",
      "\"Optimization step #5: energy = -14.395221058364754\"\n",
      "\"Optimization step #6: energy = -14.389876997938824\"\n",
      "\"Optimization step #7: energy = -14.395181679840132\"\n",
      "\"Optimization step #8: energy = -14.392776099164616\"\n",
      "\"Optimization step #9: energy = -14.394709801408107\"\n",
      "\"Optimization step #10: energy = -14.398768781646202\"\n",
      "\"Optimization step #11: energy = -14.401084514011933\"\n",
      "\"Optimization step #12: energy = -14.395250437084405\"\n",
      "\"Optimization step #13: energy = -14.396729705093966\"\n",
      "\"Optimization step #14: energy = -14.394836915379312\"\n",
      "\"Optimization step #15: energy = -14.39157227852154\"\n",
      "\"VQE complete\"\n",
      "\n",
      "ADAPT cycle 3  error = 0.012082829546141483\n",
      "\n",
      "*********************\n",
      "*** ADAPT cycle 4 ***\n",
      "*********************\n",
      "1/3: Δ=0.17365344616327327\n",
      "2/3: Δ=0.15947945454348833\n",
      "3/3: Δ=0.09517469223245634\n",
      "\n",
      "\"Optimization commencing\"\n",
      "\"Optimization step #1: energy = -14.394654820562343\"\n",
      "\"Optimization step #1: gradient norm = 0.0776197689153037\"\n",
      "\"Optimization step #2: energy = -14.390857680014204\"\n",
      "\"Optimization step #3: energy = -14.396483571451029\"\n",
      "\"Optimization step #3: gradient norm = 0.02937674619932977\"\n",
      "\"Optimization step #4: energy = -14.397550199818715\"\n",
      "\"Optimization step #4: gradient norm = 0.08818710008148747\"\n",
      "\"Optimization step #5: energy = -12.318676257086658\"\n",
      "\"Optimization step #6: energy = -14.320903917463909\"\n",
      "\"Optimization step #7: energy = -14.393776575731133\"\n",
      "\"Optimization step #8: energy = -14.39445787872059\"\n",
      "\"Optimization step #9: energy = -14.398858348111938\"\n",
      "\"Optimization step #9: gradient norm = 0.06488007159874382\"\n",
      "\"Optimization step #10: energy = -11.313702175087041\"\n",
      "\"Optimization step #11: energy = -12.740874145282646\"\n",
      "\"Optimization step #12: energy = -14.083335434523843\"\n",
      "\"Optimization step #13: energy = -14.395291113149387\"\n",
      "\"Optimization step #14: energy = -14.396022695567137\"\n",
      "\"Optimization step #15: energy = -14.397810987279765\"\n",
      "\"Optimization step #16: energy = -14.394044068069054\"\n",
      "\"Optimization step #17: energy = -14.396337725819052\"\n",
      "\"Optimization step #18: energy = -14.395244092708154\"\n",
      "\"Optimization step #19: energy = -14.397030826782617\"\n",
      "\"Optimization step #20: energy = -14.395509886116582\"\n",
      "\"VQE complete\"\n",
      "\n",
      "ADAPT cycle 4  error = 0.008145221951100012\n",
      "\n",
      "*********************\n",
      "*** ADAPT cycle 5 ***\n",
      "*********************\n",
      "1/2: Δ=0.13474488788214245\n",
      "2/2: Δ=0.10799644471972591\n",
      "\n",
      "\"Optimization commencing\"\n",
      "\"Optimization step #1: energy = -14.396292571509083\"\n",
      "\"Optimization step #1: gradient norm = 0.07591617085570121\"\n",
      "\"Optimization step #2: energy = -14.394970543592985\"\n",
      "\"Optimization step #3: energy = -14.395741441030973\"\n",
      "\"Optimization step #4: energy = -14.397910891814115\"\n",
      "\"Optimization step #4: gradient norm = 0.05354100544793681\"\n",
      "\"Optimization step #5: energy = -14.398287974873238\"\n",
      "\"Optimization step #6: energy = -14.406853404481328\"\n",
      "\"Optimization step #6: gradient norm = 0.051166395602683934\"\n",
      "\"Optimization step #7: energy = -14.39264529149475\"\n",
      "\"Optimization step #8: energy = -14.39106396186016\"\n",
      "\"Optimization step #9: energy = -14.402469993022228\"\n",
      "\"Optimization step #10: energy = -14.395825489193195\"\n",
      "\"Optimization step #11: energy = -14.403487422386661\"\n",
      "\"Optimization step #12: energy = -14.38896423400343\"\n",
      "\"Optimization step #13: energy = -14.399794215241599\"\n",
      "\"Optimization step #14: energy = -14.39863493728032\"\n",
      "\"Optimization step #15: energy = -14.398755790661085\"\n",
      "\"Optimization step #16: energy = -14.399050249768319\"\n",
      "\"Optimization step #17: energy = -14.39622780756242\"\n",
      "\"VQE complete\"\n",
      "\n",
      "ADAPT cycle 5  error = 0.007427300505261414\n",
      "\n",
      "*********************\n",
      "*** ADAPT cycle 6 ***\n",
      "*********************\n",
      "1/1: Δ=0.14586462850315662\n",
      "\n",
      "\"Optimization commencing\"\n",
      "\"Optimization step #1: energy = -14.401560423138065\"\n",
      "\"Optimization step #1: gradient norm = 0.03867873496908749\"\n",
      "\"Optimization step #2: energy = -14.392842774147644\"\n",
      "\"Optimization step #3: energy = -14.402922942255287\"\n",
      "\"Optimization step #3: gradient norm = 0.050170614456907195\"\n",
      "\"Optimization step #4: energy = -14.370719560602605\"\n",
      "\"Optimization step #5: energy = -14.414059606014698\"\n",
      "\"Optimization step #5: gradient norm = 0.08163557793313933\"\n",
      "\"Optimization step #6: energy = -14.399529307513893\"\n",
      "\"Optimization step #7: energy = -14.401100683205845\"\n",
      "\"Optimization step #8: energy = -14.39925680121409\"\n",
      "\"Optimization step #9: energy = -14.412210609562411\"\n",
      "\"Optimization step #10: energy = -14.416209077232628\"\n",
      "\"Optimization step #10: gradient norm = 0.07147221380806536\"\n",
      "\"Optimization step #11: energy = -14.399886229035014\"\n",
      "\"Optimization step #12: energy = -14.402257855721373\"\n",
      "\"Optimization step #13: energy = -14.411784609797461\"\n",
      "\"Optimization step #14: energy = -14.401308448625297\"\n",
      "\"Optimization step #15: energy = -14.40209696673582\"\n",
      "\"Optimization step #16: energy = -14.39889161547596\"\n",
      "\"Optimization step #17: energy = -14.405520631247445\"\n",
      "\"Optimization step #18: energy = -14.404564578539611\"\n",
      "\"Optimization step #19: energy = -14.39833769744069\"\n",
      "\"Optimization step #20: energy = -14.399065878605967\"\n",
      "\"Optimization step #21: energy = -14.397777903005764\"\n",
      "\"VQE complete\"\n",
      "\n",
      "ADAPT cycle 6  error = 0.005877205061917579\n",
      "\n",
      "*********************\n",
      "*** ADAPT cycle 7 ***\n",
      "*********************\n"
     ]
    },
    {
     "ename": "IndexError",
     "evalue": "list index out of range",
     "output_type": "error",
     "traceback": [
      "\u001b[0;31m---------------------------------------------------------------------------\u001b[0m",
      "\u001b[0;31mIndexError\u001b[0m                                Traceback (most recent call last)",
      "\u001b[0;32m/tmp/ipykernel_12163/1299263055.py\u001b[0m in \u001b[0;36m<module>\u001b[0;34m\u001b[0m\n\u001b[1;32m     48\u001b[0m         \u001b[0mprint\u001b[0m\u001b[0;34m(\u001b[0m\u001b[0;34mf'{index+1}/{ansatz_pool.n_terms}: Δ={Delta}'\u001b[0m\u001b[0;34m)\u001b[0m\u001b[0;34m\u001b[0m\u001b[0;34m\u001b[0m\u001b[0m\n\u001b[1;32m     49\u001b[0m         \u001b[0mgradients\u001b[0m\u001b[0;34m.\u001b[0m\u001b[0mappend\u001b[0m\u001b[0;34m(\u001b[0m\u001b[0;34m(\u001b[0m\u001b[0mterm\u001b[0m\u001b[0;34m,\u001b[0m \u001b[0mDelta\u001b[0m\u001b[0;34m)\u001b[0m\u001b[0;34m)\u001b[0m\u001b[0;34m\u001b[0m\u001b[0;34m\u001b[0m\u001b[0m\n\u001b[0;32m---> 50\u001b[0;31m     \u001b[0mnew_term\u001b[0m\u001b[0;34m,\u001b[0m \u001b[0mnew_Delta\u001b[0m \u001b[0;34m=\u001b[0m \u001b[0msorted\u001b[0m\u001b[0;34m(\u001b[0m\u001b[0mgradients\u001b[0m\u001b[0;34m,\u001b[0m \u001b[0mkey\u001b[0m\u001b[0;34m=\u001b[0m\u001b[0;32mlambda\u001b[0m \u001b[0mx\u001b[0m\u001b[0;34m:\u001b[0m\u001b[0;34m-\u001b[0m\u001b[0mabs\u001b[0m\u001b[0;34m(\u001b[0m\u001b[0mx\u001b[0m\u001b[0;34m[\u001b[0m\u001b[0;36m1\u001b[0m\u001b[0;34m]\u001b[0m\u001b[0;34m)\u001b[0m\u001b[0;34m)\u001b[0m\u001b[0;34m[\u001b[0m\u001b[0;36m0\u001b[0m\u001b[0;34m]\u001b[0m\u001b[0;34m\u001b[0m\u001b[0;34m\u001b[0m\u001b[0m\n\u001b[0m\u001b[1;32m     51\u001b[0m     \u001b[0mansatz_pool\u001b[0m \u001b[0;34m-=\u001b[0m \u001b[0mnew_term\u001b[0m\u001b[0;34m\u001b[0m\u001b[0;34m\u001b[0m\u001b[0m\n\u001b[1;32m     52\u001b[0m     \u001b[0mansatz\u001b[0m \u001b[0;34m+=\u001b[0m \u001b[0mnew_term\u001b[0m\u001b[0;34m\u001b[0m\u001b[0;34m\u001b[0m\u001b[0m\n",
      "\u001b[0;31mIndexError\u001b[0m: list index out of range"
     ]
    }
   ],
   "source": [
    "from qiskit import Aer\n",
    "from qiskit.providers.ibmq.runtime import UserMessenger\n",
    "\n",
    "ansatz_pool = anz_cs\n",
    "obs = ObservableOp(ham_cs.symp_matrix, ham_cs.coeff_vec)\n",
    "\n",
    "backend = Aer.get_backend('qasm_simulator')\n",
    "user_messenger = UserMessenger()\n",
    "observable = ham_cs.to_PauliSumOp\n",
    "observable_groups = [group.to_PauliSumOp for group in QWC_decomposition]\n",
    "\n",
    "n_shots = 2**12\n",
    "ansatz = AnsatzOp(['I'*ham_cs.n_qubits], [0])\n",
    "error = 1\n",
    "cycle = 0\n",
    "max_cycles = 15# ansatz_pool.n_terms\n",
    "\n",
    "def get_ansatz_circuit(base, ref):\n",
    "    excitation_circuit = base.to_QuantumCircuit(bind_params=False)\n",
    "    ansatz = QuantumCircuit(n_qubits)\n",
    "    for i in np.where(ref)[0]:\n",
    "        ansatz.x(n_qubits-1-i)\n",
    "    #ansatz.barrier()\n",
    "    ansatz = ansatz.compose(excitation_circuit)\n",
    "    return ansatz\n",
    "\n",
    "while abs(error)>0.0016 and cycle<max_cycles:\n",
    "    cycle+=1\n",
    "    message = f'*** ADAPT cycle {cycle} ***'\n",
    "    print('*'*len(message)); print(message); print('*'*len(message))\n",
    "    \n",
    "    gradients = []\n",
    "    for index, term in enumerate(ansatz_pool):\n",
    "        ansatz_temp = ansatz + term\n",
    "        ansatz_temp.coeff_vec[-1]=0\n",
    "        ansatz_temp = AnsatzOp(ansatz_temp.symp_matrix, ansatz_temp.coeff_vec)\n",
    "        vqe = VQE_Runtime(backend=backend,user_messenger = user_messenger,\n",
    "            observable=observable,observable_groups=observable_groups,\n",
    "            ansatz=get_ansatz_circuit(ansatz_temp, ref_cs)\n",
    "        )\n",
    "        vqe.n_shots = n_shots\n",
    "        upper = ansatz_temp.coeff_vec.copy()\n",
    "        lower = ansatz_temp.coeff_vec.copy()\n",
    "        upper[-1] = np.pi/4\n",
    "        lower[-1] = -np.pi/4\n",
    "        \n",
    "        Delta = vqe.estimate(upper) - vqe.estimate(lower)\n",
    "        print(f'{index+1}/{ansatz_pool.n_terms}: Δ={Delta}')\n",
    "        gradients.append((term, Delta))\n",
    "    new_term, new_Delta = sorted(gradients, key=lambda x:-abs(x[1]))[0]\n",
    "    ansatz_pool -= new_term\n",
    "    ansatz += new_term\n",
    "    ansatz = AnsatzOp(ansatz.symp_matrix, ansatz.coeff_vec)\n",
    "    \n",
    "    print()\n",
    "    vqe = VQE_Runtime(backend=backend,user_messenger = user_messenger,\n",
    "        observable=observable,observable_groups=observable_groups,\n",
    "        ansatz=get_ansatz_circuit(ansatz, ref_cs)\n",
    "        )\n",
    "    vqe.n_shots = n_shots\n",
    "    vqe.n_realize = 5\n",
    "    vqe.init_params=ansatz.coeff_vec\n",
    "    vqe_result, interm_results = vqe.run()\n",
    "    print()\n",
    "    \n",
    "    error = vqe_result['fun'] - molecule.fci_energy\n",
    "    print(f'ADAPT cycle {cycle: <2} error = {error}')\n",
    "    print()"
   ]
  },
  {
   "cell_type": "code",
   "execution_count": 61,
   "id": "d75468b9",
   "metadata": {},
   "outputs": [
    {
     "data": {
      "text/plain": [
       "0.008 IYX +\n",
       "0.008 ZXY +\n",
       "-0.008 XZY +\n",
       "-0.029 XXY"
      ]
     },
     "execution_count": 61,
     "metadata": {},
     "output_type": "execute_result"
    }
   ],
   "source": [
    "ansatz"
   ]
  },
  {
   "cell_type": "code",
   "execution_count": 70,
   "id": "132d8d4f",
   "metadata": {},
   "outputs": [
    {
     "name": "stderr",
     "output_type": "stream",
     "text": [
      "/tmp/ipykernel_73142/2369120349.py:161: DeprecationWarning: The SparsePauliOp.table method is deprecated as of Qiskit Terra 0.19.0 and will be removed no sooner than 3 months after the releasedate. Use SparsePauliOp.paulis method instead.\n",
      "  X_block, Z_block = np.hsplit(opgroup.primitive.table.array.astype(int), 2)\n"
     ]
    },
    {
     "name": "stdout",
     "output_type": "stream",
     "text": [
      "\"Optimization commencing\"\n",
      "\"Optimization step #1: energy = -455.15579298208644\"\n",
      "\"Optimization step #1: gradient norm = 0.005949025100090213\"\n",
      "\"Optimization step #2: energy = -455.15359158949576\"\n",
      "\"Optimization step #3: energy = -455.15497009863805\"\n",
      "\"Optimization step #4: energy = -455.1550037646699\"\n",
      "\"Optimization step #5: energy = -455.15439917729753\"\n",
      "\"Optimization step #6: energy = -455.15509000031335\"\n",
      "\"Optimization step #7: energy = -455.1542917959254\"\n",
      "\"Optimization step #8: energy = -455.15671854335426\"\n",
      "\"VQE complete\"\n",
      "Error 0.0003482497948539276\n"
     ]
    }
   ],
   "source": [
    "vqe = VQE_Runtime(\n",
    "        backend=backend,\n",
    "        user_messenger = user_messenger,\n",
    "        ansatz=get_ansatz_circuit(ansatz, ref_cs),\n",
    "        observable=observable,\n",
    "        observable_groups=observable_groups\n",
    "    )\n",
    "vqe.n_shots = 2**17\n",
    "vqe.init_params=ansatz.coeff_vec\n",
    "vqe_result, interm_results = vqe.run()\n",
    "error = vqe_result['fun'] - molecule.fci_energy\n",
    "print(f'Error {error}')"
   ]
  },
  {
   "cell_type": "code",
   "execution_count": 69,
   "id": "1c1d33b0",
   "metadata": {},
   "outputs": [
    {
     "name": "stdout",
     "output_type": "stream",
     "text": [
      "0.016 IYX +\n",
      "0.015 ZXY +\n",
      "-0.030 XZY +\n",
      "-0.120 XXY\n",
      "0.0023010277520825184\n"
     ]
    }
   ],
   "source": [
    "print(ansatz)\n",
    "\n",
    "vqe_result, interim = obs.VQE(\n",
    "    ansatz_op=ansatz, \n",
    "    ref_state=ref_cs\n",
    ")\n",
    "\n",
    "error = vqe_result['fun'] - molecule.fci_energy\n",
    "print(error)"
   ]
  },
  {
   "cell_type": "code",
   "execution_count": 58,
   "id": "0ba1c257",
   "metadata": {},
   "outputs": [
    {
     "name": "stdout",
     "output_type": "stream",
     "text": [
      "ADAPT cycle 1  error 0.0055552837264940536\n",
      "ADAPT cycle 2  error 0.0038404180708653257\n",
      "ADAPT cycle 3  error 0.002315015469832815\n",
      "ADAPT cycle 4  error 0.002283532913736508\n",
      "ADAPT cycle 5  error 0.0022738447047458976\n",
      "ADAPT cycle 6  error 0.0022701327917502567\n",
      "ADAPT cycle 7  error 0.0022680790741560486\n",
      "ADAPT cycle 8  error 0.0022701204187001167\n",
      "ADAPT cycle 9  error 0.0022697071184438755\n",
      "ADAPT cycle 10 error 0.0008374117596758879\n"
     ]
    }
   ],
   "source": [
    "ansatz_pool = anz_cs\n",
    "obs = ObservableOp(ham_cs.symp_matrix, ham_cs.coeff_vec)\n",
    "\n",
    "ansatz = AnsatzOp(['I'*ham_cs.n_qubits], [0])\n",
    "error = 1\n",
    "cycle = 0\n",
    "max_cycles = ansatz_pool.n_terms\n",
    "\n",
    "while error>0.0016 and cycle<max_cycles:\n",
    "    cycle+=1\n",
    "    gradients = []\n",
    "    for term in ansatz_pool:\n",
    "        ansatz_temp = ansatz + term\n",
    "        ansatz_temp.coeff_vec[-1]=0\n",
    "        ansatz_temp = AnsatzOp(ansatz_temp.symp_matrix, ansatz_temp.coeff_vec)\n",
    "        \n",
    "        \n",
    "        Delta = obs.parameter_shift_at_index(\n",
    "            ansatz_op=ansatz_temp, \n",
    "            ref_state=ref_cs,\n",
    "            param_index=-1)\n",
    "        gradients.append((term, Delta))\n",
    "    \n",
    "    new_term, new_Delta = sorted(gradients, key=lambda x:-abs(x[1]))[0]\n",
    "    ansatz_pool -= new_term\n",
    "    ansatz += new_term\n",
    "    ansatz = AnsatzOp(ansatz.symp_matrix, ansatz.coeff_vec)\n",
    "    \n",
    "    vqe_result = obs.VQE(\n",
    "        ansatz_op=ansatz, \n",
    "        ref_state=ref_cs\n",
    "    )\n",
    "    \n",
    "    error = vqe_result[0]['fun'] - molecule.fci_energy\n",
    "    print(f'ADAPT cycle {cycle: <2} error {error}')"
   ]
  },
  {
   "cell_type": "code",
   "execution_count": 33,
   "id": "82750c97",
   "metadata": {},
   "outputs": [
    {
     "data": {
      "text/plain": [
       "-0.026 ZZY +\n",
       "0.039 IXY +\n",
       "0.027 IYX +\n",
       "0.015 ZXY +\n",
       "0.034 ZYX +\n",
       "-0.001 XIY +\n",
       "0.012 XZY +\n",
       "0.011 YIX +\n",
       "-0.007 YZX +\n",
       "-0.134 XXY"
      ]
     },
     "execution_count": 33,
     "metadata": {},
     "output_type": "execute_result"
    }
   ],
   "source": [
    "ansatz"
   ]
  },
  {
   "cell_type": "code",
   "execution_count": 177,
   "id": "1f179022",
   "metadata": {},
   "outputs": [
    {
     "name": "stdout",
     "output_type": "stream",
     "text": [
      "(-0.09575265353299389+0j) * ZYZ\n"
     ]
    },
    {
     "data": {
      "text/plain": [
       "EvolvedOp(PauliOp(Pauli('ZYZ'), coeff=(-0.09575265353299389+0j)), coeff=1.0)"
      ]
     },
     "execution_count": 177,
     "metadata": {},
     "output_type": "execute_result"
    }
   ],
   "source": [
    "op = anz_cs[3].to_PauliSumOp\n",
    "print(op)\n",
    "op.exp_i()"
   ]
  },
  {
   "cell_type": "code",
   "execution_count": 202,
   "id": "c181afee",
   "metadata": {},
   "outputs": [],
   "source": [
    "from qiskit.extensions import HamiltonianGate\n",
    "from qiskit.circuit import Parameter\n",
    "block = HamiltonianGate(op, 0.1)"
   ]
  },
  {
   "cell_type": "code",
   "execution_count": 203,
   "id": "04535318",
   "metadata": {},
   "outputs": [],
   "source": [
    "qc = QuantumCircuit(n_qubits)"
   ]
  },
  {
   "cell_type": "code",
   "execution_count": 204,
   "id": "bccaf44c",
   "metadata": {},
   "outputs": [
    {
     "data": {
      "text/plain": [
       "<qiskit.circuit.instructionset.InstructionSet at 0x7f6c3ae13a00>"
      ]
     },
     "execution_count": 204,
     "metadata": {},
     "output_type": "execute_result"
    }
   ],
   "source": [
    "qc.append(block, range(n_qubits))"
   ]
  },
  {
   "cell_type": "code",
   "execution_count": 219,
   "id": "5801e1a2",
   "metadata": {},
   "outputs": [
    {
     "data": {
      "text/plain": [
       "'ZYZ'"
      ]
     },
     "execution_count": 219,
     "metadata": {},
     "output_type": "execute_result"
    }
   ],
   "source": [
    "op.primitive.to_label()"
   ]
  },
  {
   "cell_type": "code",
   "execution_count": null,
   "id": "b7556973",
   "metadata": {},
   "outputs": [],
   "source": []
  }
 ],
 "metadata": {
  "kernelspec": {
   "display_name": "Python 3 (ipykernel)",
   "language": "python",
   "name": "python3"
  },
  "language_info": {
   "codemirror_mode": {
    "name": "ipython",
    "version": 3
   },
   "file_extension": ".py",
   "mimetype": "text/x-python",
   "name": "python",
   "nbconvert_exporter": "python",
   "pygments_lexer": "ipython3",
   "version": "3.8.8"
  }
 },
 "nbformat": 4,
 "nbformat_minor": 5
}
