{
 "cells": [
  {
   "cell_type": "code",
   "execution_count": 80,
   "id": "9fe628ae",
   "metadata": {},
   "outputs": [],
   "source": [
    "from qiskit import Aer, QuantumCircuit\n",
    "from qiskit.test.mock import FakeNairobi\n",
    "from qiskit.circuit.library import EfficientSU2\n",
    "from symmer.symplectic import random_PauliwordOp\n",
    "import mthree\n",
    "import numpy as np"
   ]
  },
  {
   "cell_type": "code",
   "execution_count": 81,
   "id": "3443cca5",
   "metadata": {},
   "outputs": [],
   "source": [
    "backend = FakeNairobi() #Aer.get_backend('ibm_oslo')"
   ]
  },
  {
   "cell_type": "code",
   "execution_count": 82,
   "id": "35b8ab0c",
   "metadata": {},
   "outputs": [
    {
     "name": "stdout",
     "output_type": "stream",
     "text": [
      "0.806+0.818j ZY +\n",
      "-0.861-0.009j XZ +\n",
      "-0.070-0.750j XI +\n",
      "-0.875+1.811j ZX +\n",
      "-0.256+0.218j ZY +\n",
      "0.254+0.228j II +\n",
      "-0.707-1.159j ZI +\n",
      "1.195-0.463j XI +\n",
      "-0.184-1.203j YX +\n",
      "-0.716-1.059j ZY\n"
     ]
    },
    {
     "data": {
      "text/html": [
       "<pre style=\"word-wrap: normal;white-space: pre;background: #fff0;line-height: 1.1;font-family: &quot;Courier New&quot;,Courier,monospace\">        ┌──────────┐┌──────────┐     ┌──────────┐┌──────────┐     ┌──────────┐»\n",
       "   q_0: ┤ Ry(θ[0]) ├┤ Rz(θ[2]) ├──■──┤ Ry(θ[4]) ├┤ Rz(θ[6]) ├──■──┤ Ry(θ[8]) ├»\n",
       "        ├──────────┤├──────────┤┌─┴─┐├──────────┤├──────────┤┌─┴─┐├──────────┤»\n",
       "   q_1: ┤ Ry(θ[1]) ├┤ Rz(θ[3]) ├┤ X ├┤ Ry(θ[5]) ├┤ Rz(θ[7]) ├┤ X ├┤ Ry(θ[9]) ├»\n",
       "        └──────────┘└──────────┘└───┘└──────────┘└──────────┘└───┘└──────────┘»\n",
       "meas: 2/══════════════════════════════════════════════════════════════════════»\n",
       "                                                                              »\n",
       "«        ┌───────────┐     ┌───────────┐┌───────────┐ ░ ┌─┐   \n",
       "«   q_0: ┤ Rz(θ[10]) ├──■──┤ Ry(θ[12]) ├┤ Rz(θ[14]) ├─░─┤M├───\n",
       "«        ├───────────┤┌─┴─┐├───────────┤├───────────┤ ░ └╥┘┌─┐\n",
       "«   q_1: ┤ Rz(θ[11]) ├┤ X ├┤ Ry(θ[13]) ├┤ Rz(θ[15]) ├─░──╫─┤M├\n",
       "«        └───────────┘└───┘└───────────┘└───────────┘ ░  ║ └╥┘\n",
       "«meas: 2/════════════════════════════════════════════════╩══╩═\n",
       "«                                                        0  1 </pre>"
      ],
      "text/plain": [
       "        ┌──────────┐┌──────────┐     ┌──────────┐┌──────────┐     ┌──────────┐»\n",
       "   q_0: ┤ Ry(θ[0]) ├┤ Rz(θ[2]) ├──■──┤ Ry(θ[4]) ├┤ Rz(θ[6]) ├──■──┤ Ry(θ[8]) ├»\n",
       "        ├──────────┤├──────────┤┌─┴─┐├──────────┤├──────────┤┌─┴─┐├──────────┤»\n",
       "   q_1: ┤ Ry(θ[1]) ├┤ Rz(θ[3]) ├┤ X ├┤ Ry(θ[5]) ├┤ Rz(θ[7]) ├┤ X ├┤ Ry(θ[9]) ├»\n",
       "        └──────────┘└──────────┘└───┘└──────────┘└──────────┘└───┘└──────────┘»\n",
       "meas: 2/══════════════════════════════════════════════════════════════════════»\n",
       "                                                                              »\n",
       "«        ┌───────────┐     ┌───────────┐┌───────────┐ ░ ┌─┐   \n",
       "«   q_0: ┤ Rz(θ[10]) ├──■──┤ Ry(θ[12]) ├┤ Rz(θ[14]) ├─░─┤M├───\n",
       "«        ├───────────┤┌─┴─┐├───────────┤├───────────┤ ░ └╥┘┌─┐\n",
       "«   q_1: ┤ Rz(θ[11]) ├┤ X ├┤ Ry(θ[13]) ├┤ Rz(θ[15]) ├─░──╫─┤M├\n",
       "«        └───────────┘└───┘└───────────┘└───────────┘ ░  ║ └╥┘\n",
       "«meas: 2/════════════════════════════════════════════════╩══╩═\n",
       "«                                                        0  1 "
      ]
     },
     "execution_count": 82,
     "metadata": {},
     "output_type": "execute_result"
    }
   ],
   "source": [
    "n_qubits = 2\n",
    "\n",
    "obs = random_PauliwordOp(2, 10)\n",
    "print(obs)\n",
    "qc = EfficientSU2(n_qubits).decompose()\n",
    "qc.measure_all()\n",
    "qc.draw()"
   ]
  },
  {
   "cell_type": "code",
   "execution_count": 83,
   "id": "26963936",
   "metadata": {},
   "outputs": [],
   "source": [
    "m3   = mthree.M3Mitigation(backend)\n",
    "m3.cals_from_system(range(n_qubits))"
   ]
  },
  {
   "cell_type": "code",
   "execution_count": 84,
   "id": "4caf34fa",
   "metadata": {},
   "outputs": [
    {
     "data": {
      "text/plain": [
       "<mthree.mitigation.M3Mitigation at 0x7f63a6aa4cd0>"
      ]
     },
     "execution_count": 84,
     "metadata": {},
     "output_type": "execute_result"
    }
   ],
   "source": [
    "m3"
   ]
  },
  {
   "cell_type": "code",
   "execution_count": 85,
   "id": "947fa281",
   "metadata": {},
   "outputs": [
    {
     "data": {
      "text/plain": [
       "{'01': 301, '11': 1101, '00': 1224, '10': 1470}"
      ]
     },
     "execution_count": 85,
     "metadata": {},
     "output_type": "execute_result"
    }
   ],
   "source": [
    "n_shots = 2**12\n",
    "job = backend.run(qc.bind_parameters(np.random.random(qc.num_parameters)), shots=n_shots)\n",
    "result = job.result()\n",
    "raw_counts = result.get_counts()\n",
    "raw_counts"
   ]
  },
  {
   "cell_type": "code",
   "execution_count": 86,
   "id": "3bb65347",
   "metadata": {},
   "outputs": [],
   "source": [
    "quasis = m3.apply_correction(raw_counts, range(n_qubits))"
   ]
  },
  {
   "cell_type": "code",
   "execution_count": 92,
   "id": "9784ff36",
   "metadata": {},
   "outputs": [
    {
     "data": {
      "text/plain": [
       "1.0"
      ]
     },
     "execution_count": 92,
     "metadata": {},
     "output_type": "execute_result"
    }
   ],
   "source": [
    "sum(quasis.values())"
   ]
  },
  {
   "cell_type": "code",
   "execution_count": 88,
   "id": "0e3d45d2",
   "metadata": {},
   "outputs": [
    {
     "data": {
      "text/plain": [
       "{'01': 0.059824121798929715,\n",
       " '11': 0.28500236850043403,\n",
       " '00': 0.2868225128164549,\n",
       " '10': 0.3683509968841815}"
      ]
     },
     "execution_count": 88,
     "metadata": {},
     "output_type": "execute_result"
    }
   ],
   "source": [
    "quasis.nearest_probability_distribution()"
   ]
  },
  {
   "cell_type": "code",
   "execution_count": 89,
   "id": "1e84c0bb",
   "metadata": {},
   "outputs": [
    {
     "data": {
      "text/plain": [
       "{'01': 0.073486328125,\n",
       " '11': 0.268798828125,\n",
       " '00': 0.298828125,\n",
       " '10': 0.35888671875}"
      ]
     },
     "execution_count": 89,
     "metadata": {},
     "output_type": "execute_result"
    }
   ],
   "source": [
    "{op:coeff/n_shots for op,coeff in raw_counts.items()}"
   ]
  },
  {
   "cell_type": "code",
   "execution_count": null,
   "id": "2a7dbadc",
   "metadata": {},
   "outputs": [],
   "source": []
  },
  {
   "cell_type": "code",
   "execution_count": null,
   "id": "5faed634",
   "metadata": {},
   "outputs": [],
   "source": []
  }
 ],
 "metadata": {
  "kernelspec": {
   "display_name": "Python 3 (ipykernel)",
   "language": "python",
   "name": "python3"
  },
  "language_info": {
   "codemirror_mode": {
    "name": "ipython",
    "version": 3
   },
   "file_extension": ".py",
   "mimetype": "text/x-python",
   "name": "python",
   "nbconvert_exporter": "python",
   "pygments_lexer": "ipython3",
   "version": "3.8.8"
  }
 },
 "nbformat": 4,
 "nbformat_minor": 5
}
