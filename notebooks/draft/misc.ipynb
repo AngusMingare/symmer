{
 "cells": [
  {
   "cell_type": "code",
   "execution_count": 5,
   "id": "dda4bea8",
   "metadata": {},
   "outputs": [
    {
     "name": "stdout",
     "output_type": "stream",
     "text": [
      "In the minimal STO-3G basis, FeMoco requires 478 qubits\n",
      "In the cc-pVDZ basis, FeMoco requires ~1062 qubits\n"
     ]
    }
   ],
   "source": [
    "#FeMoco: Fe7 Mo S9 C\n",
    "# In minimal STO-3G basis:\n",
    "# Fe n_qubits = 36\n",
    "# Mo n_qubits = 54\n",
    "# S n_qubits  = 18\n",
    "# C n_qubits  = 10\n",
    "\n",
    "# In cc-pVDZ basis:\n",
    "# Fe n_qubits = 86\n",
    "# Mo n_qubits = ?\n",
    "# S n_qubits  = 36\n",
    "# C n_qubits  = 28\n",
    "\n",
    "femoco_n_qubit_sto_3g = 7*36 + 1*54 + 9*18 + 1*10\n",
    "print(f'In the minimal STO-3G basis, FeMoco requires {femoco_n_qubit_sto_3g} qubits')\n",
    "\n",
    "femoco_n_qubit_cc_pVDZ = 7*86 + 1*108 + 9*36 + 1*28\n",
    "print(f'In the cc-pVDZ basis, FeMoco requires ~{femoco_n_qubit_cc_pVDZ} qubits')"
   ]
  },
  {
   "cell_type": "code",
   "execution_count": null,
   "id": "1d10d244",
   "metadata": {},
   "outputs": [],
   "source": []
  }
 ],
 "metadata": {
  "kernelspec": {
   "display_name": "Python 3 (ipykernel)",
   "language": "python",
   "name": "python3"
  },
  "language_info": {
   "codemirror_mode": {
    "name": "ipython",
    "version": 3
   },
   "file_extension": ".py",
   "mimetype": "text/x-python",
   "name": "python",
   "nbconvert_exporter": "python",
   "pygments_lexer": "ipython3",
   "version": "3.8.8"
  }
 },
 "nbformat": 4,
 "nbformat_minor": 5
}
