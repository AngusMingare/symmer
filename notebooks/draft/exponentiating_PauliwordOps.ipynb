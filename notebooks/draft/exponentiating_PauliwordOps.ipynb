{
 "cells": [
  {
   "cell_type": "code",
   "execution_count": 193,
   "id": "70eb84eb",
   "metadata": {},
   "outputs": [],
   "source": [
    "from symmer.symplectic import PauliwordOp, random_PauliwordOp\n",
    "from symmer.utils import symplectic_cleanup\n",
    "import numpy as np"
   ]
  },
  {
   "cell_type": "code",
   "execution_count": null,
   "id": "bc527aec",
   "metadata": {},
   "outputs": [],
   "source": [
    "P = random_PauliwordOp(10, 20)\n",
    "List = []\n",
    "for degree in range(10):\n",
    "    exp_self = sum([(P**i).multiply_by_constant(1/np.math.factorial(i)) for i in range(degree+1)])\n",
    "    List.append(sum(abs(exp_self.coeff_vec)))"
   ]
  },
  {
   "cell_type": "code",
   "execution_count": null,
   "id": "9026bb01",
   "metadata": {},
   "outputs": [],
   "source": [
    "from matplotlib import pyplot as plt"
   ]
  },
  {
   "cell_type": "code",
   "execution_count": null,
   "id": "3ecd01d9",
   "metadata": {},
   "outputs": [],
   "source": [
    "plt.plot(List)"
   ]
  },
  {
   "cell_type": "code",
   "execution_count": 192,
   "id": "97ed1921",
   "metadata": {},
   "outputs": [
    {
     "name": "stdout",
     "output_type": "stream",
     "text": [
      "1.717+1.006j YIY +\n",
      "-0.440-1.843j YXY\n",
      "\n",
      "0.000+1.006j YIY +\n",
      "0.000-1.843j YXY\n"
     ]
    }
   ],
   "source": [
    "P = random_PauliwordOp(3, 2)\n",
    "Q = random_PauliwordOp(3, 1)\n",
    "PQ = P*Q\n",
    "\n",
    "print(P*Q - Q*P)\n",
    "print()\n",
    "print(PQ - PQ.conjugate)"
   ]
  },
  {
   "cell_type": "code",
   "execution_count": 190,
   "id": "1ac48ba5",
   "metadata": {},
   "outputs": [
    {
     "data": {
      "text/plain": [
       "-0.373+1.423j XZY +\n",
       "-0.565+0.042j XYZ"
      ]
     },
     "execution_count": 190,
     "metadata": {},
     "output_type": "execute_result"
    }
   ],
   "source": [
    "PQ"
   ]
  },
  {
   "cell_type": "code",
   "execution_count": 191,
   "id": "2b97856f",
   "metadata": {},
   "outputs": [
    {
     "data": {
      "text/plain": [
       "-0.373-1.423j XZY +\n",
       "-0.565-0.042j XYZ"
      ]
     },
     "execution_count": 191,
     "metadata": {},
     "output_type": "execute_result"
    }
   ],
   "source": [
    "PQ.conjugate"
   ]
  },
  {
   "cell_type": "code",
   "execution_count": 202,
   "id": "bd831d57",
   "metadata": {},
   "outputs": [
    {
     "data": {
      "text/plain": [
       "(-0.6536436208636119-0.7568024953079282j)"
      ]
     },
     "execution_count": 202,
     "metadata": {},
     "output_type": "execute_result"
    }
   ],
   "source": [
    "np.exp(1j*4)"
   ]
  },
  {
   "cell_type": "code",
   "execution_count": 203,
   "id": "878d0ab9",
   "metadata": {},
   "outputs": [],
   "source": [
    "def A(theta, phi):\n",
    "    return np.array(\n",
    "        [\n",
    "            [1,0,0,0],\n",
    "            [0,np.cos(theta), np.exp(1j*phi)*np.sin(theta),0],\n",
    "            [0,np.exp(-1j*phi)*np.sin(theta), -np.cos(theta),0],\n",
    "            [0,0,0,1]\n",
    "        ]\n",
    "    )"
   ]
  },
  {
   "cell_type": "code",
   "execution_count": null,
   "id": "5cf11c2d",
   "metadata": {},
   "outputs": [],
   "source": []
  },
  {
   "cell_type": "code",
   "execution_count": 213,
   "id": "12f3cbf4",
   "metadata": {},
   "outputs": [],
   "source": [
    "P = np.array(\n",
    "    [\n",
    "        [0,0,0,0],\n",
    "        [0,1,0,0],\n",
    "        [0,0,0,0],\n",
    "        [0,0,0,0]\n",
    "    ]\n",
    ")"
   ]
  },
  {
   "cell_type": "code",
   "execution_count": 214,
   "id": "9e12c69f",
   "metadata": {},
   "outputs": [
    {
     "data": {
      "text/plain": [
       "array([[ 0.        +0.j,  0.        +0.j,  0.        +0.j,\n",
       "         0.        +0.j],\n",
       "       [ 0.        +0.j, -0.41614684+0.j,  0.        +0.j,\n",
       "         0.        +0.j],\n",
       "       [ 0.        +0.j,  0.        +0.j,  0.        +0.j,\n",
       "         0.        +0.j],\n",
       "       [ 0.        +0.j,  0.        +0.j,  0.        +0.j,\n",
       "         0.        +0.j]])"
      ]
     },
     "execution_count": 214,
     "metadata": {},
     "output_type": "execute_result"
    }
   ],
   "source": [
    "P@A(2,1)@P"
   ]
  },
  {
   "cell_type": "code",
   "execution_count": null,
   "id": "06dc0966",
   "metadata": {},
   "outputs": [],
   "source": []
  }
 ],
 "metadata": {
  "kernelspec": {
   "display_name": "Python 3 (ipykernel)",
   "language": "python",
   "name": "python3"
  },
  "language_info": {
   "codemirror_mode": {
    "name": "ipython",
    "version": 3
   },
   "file_extension": ".py",
   "mimetype": "text/x-python",
   "name": "python",
   "nbconvert_exporter": "python",
   "pygments_lexer": "ipython3",
   "version": "3.8.8"
  }
 },
 "nbformat": 4,
 "nbformat_minor": 5
}
