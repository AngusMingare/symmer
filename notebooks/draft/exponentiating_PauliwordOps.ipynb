{
 "cells": [
  {
   "cell_type": "code",
   "execution_count": 78,
   "id": "70eb84eb",
   "metadata": {},
   "outputs": [],
   "source": [
    "from symmer.symplectic import PauliwordOp, random_PauliwordOp, QuantumState, StabilizerOp\n",
    "from symmer.projection import S3_projection\n",
    "from symmer.utils import symplectic_cleanup\n",
    "import numpy as np"
   ]
  },
  {
   "cell_type": "code",
   "execution_count": 79,
   "id": "bc527aec",
   "metadata": {},
   "outputs": [],
   "source": [
    "P = random_PauliwordOp(3, 10)\n",
    "\n",
    "List = []\n",
    "for degree in range(10):\n",
    "    exp_self = sum([(P**i).multiply_by_constant(1/np.math.factorial(i)) for i in range(degree+1)])\n",
    "    List.append(sum(abs(exp_self.coeff_vec)))"
   ]
  },
  {
   "cell_type": "code",
   "execution_count": 80,
   "id": "9026bb01",
   "metadata": {},
   "outputs": [],
   "source": [
    "from matplotlib import pyplot as plt"
   ]
  },
  {
   "cell_type": "code",
   "execution_count": 81,
   "id": "3ecd01d9",
   "metadata": {},
   "outputs": [
    {
     "data": {
      "text/plain": [
       "[<matplotlib.lines.Line2D at 0x7f63b008e940>]"
      ]
     },
     "execution_count": 81,
     "metadata": {},
     "output_type": "execute_result"
    },
    {
     "data": {
      "image/png": "[encoded data removed]",
      "text/plain": [
       "<Figure size 432x288 with 1 Axes>"
      ]
     },
     "metadata": {
      "needs_background": "light"
     },
     "output_type": "display_data"
    }
   ],
   "source": [
    "plt.plot(List)"
   ]
  },
  {
   "cell_type": "code",
   "execution_count": 82,
   "id": "97ed1921",
   "metadata": {},
   "outputs": [
    {
     "name": "stdout",
     "output_type": "stream",
     "text": [
      "-3.392+0.100j ZII\n",
      "\n",
      "0.000-2.718j IZI +\n",
      "0.000+0.100j ZII\n"
     ]
    }
   ],
   "source": [
    "P = random_PauliwordOp(3, 2)\n",
    "Q = random_PauliwordOp(3, 1)\n",
    "PQ = P*Q\n",
    "\n",
    "print(P*Q - Q*P)\n",
    "print()\n",
    "print(PQ - PQ.conjugate)"
   ]
  },
  {
   "cell_type": "code",
   "execution_count": 83,
   "id": "1ac48ba5",
   "metadata": {},
   "outputs": [],
   "source": [
    "def exp_P(pauli, angle):\n",
    "    pauli.coeff_vec[0] = 1\n",
    "    return (\n",
    "        (pauli**0).multiply_by_constant(np.cos(angle)) + \n",
    "        (pauli).multiply_by_constant(1j*np.sin(angle))\n",
    "    )"
   ]
  },
  {
   "cell_type": "code",
   "execution_count": 166,
   "id": "fab9e8ad",
   "metadata": {},
   "outputs": [],
   "source": [
    "def entangling_block(theta,phi):\n",
    "    P1 = PauliwordOp(['IZ'], [1])\n",
    "    a1 = -(1/2)*(np.pi/2-phi)\n",
    "    \n",
    "    P2 = PauliwordOp(['XX'], [1])\n",
    "    a2 = -theta/2\n",
    "    \n",
    "    P3 = PauliwordOp(['YY'], [1])\n",
    "    a3 = -theta/2\n",
    "    \n",
    "    P4 = PauliwordOp(['ZZ'], [1])\n",
    "    a4 = -np.pi/4\n",
    "    \n",
    "    P5 = PauliwordOp(['ZI'], [1])\n",
    "    a5 = -np.pi/4\n",
    "    \n",
    "    P6 = PauliwordOp(['IZ'], [1])\n",
    "    a6 = theta/4\n",
    "    \n",
    "    return exp_P(P1, a1)*exp_P(P2, a2)*exp_P(P3, a3)*exp_P(P4, a4)*exp_P(P5, a5)*exp_P(P6, a6)"
   ]
  },
  {
   "cell_type": "code",
   "execution_count": 172,
   "id": "3ecb8c08",
   "metadata": {},
   "outputs": [],
   "source": [
    "def tensor(A, B):\n",
    "\n",
    "    A_expanded_X = np.hstack([A.X_block, np.zeros_like(A.X_block)])\n",
    "    A_expanded_Z = np.hstack([A.Z_block, np.zeros_like(A.Z_block)])\n",
    "    A_pad = PauliwordOp(np.hstack([A_expanded_X, A_expanded_Z]), A.coeff_vec)\n",
    "    \n",
    "    B_expanded_X = np.hstack([np.zeros_like(B.X_block), B.X_block])\n",
    "    B_expanded_Z = np.hstack([np.zeros_like(B.Z_block), B.Z_block])\n",
    "    B_pad = PauliwordOp(np.hstack([B_expanded_X, B_expanded_Z]), B.coeff_vec)\n",
    "    \n",
    "    return A_pad * B_pad"
   ]
  },
  {
   "cell_type": "code",
   "execution_count": 197,
   "id": "b6e4a186",
   "metadata": {},
   "outputs": [
    {
     "name": "stdout",
     "output_type": "stream",
     "text": [
      " 0.5129240192-0.1517295496j |0101> +\n",
      " 0.7574901860-0.3466711060j |0110> +\n",
      " 0.0000000000-0.0762474658j |1001> +\n",
      "-0.0167577741-0.1175600172j |1010>\n"
     ]
    }
   ],
   "source": [
    "anz = tensor(A = entangling_block(3,5), B = entangling_block(1,3))\n",
    "ref = QuantumState([[0,1,0,1]])\n",
    "\n",
    "print(anz * ref)"
   ]
  },
  {
   "cell_type": "code",
   "execution_count": 198,
   "id": "7c080bce",
   "metadata": {},
   "outputs": [
    {
     "data": {
      "text/plain": [
       "0.010-0.000j II +\n",
       "0.000-0.058j IZ +\n",
       "0.000-0.096j ZI +\n",
       "-0.529+0.000j ZZ +\n",
       "0.000-0.086j IX +\n",
       "0.000-0.029j IY +\n",
       "-0.794+0.000j ZX +\n",
       "-0.264+0.000j ZY"
      ]
     },
     "execution_count": 198,
     "metadata": {},
     "output_type": "execute_result"
    }
   ],
   "source": [
    "proj = S3_projection(StabilizerOp(['ZZII', 'ZZZZ'], [1,-1]))\n",
    "proj.perform_projection(operator=anz)"
   ]
  },
  {
   "cell_type": "code",
   "execution_count": null,
   "id": "066cdf7e",
   "metadata": {},
   "outputs": [],
   "source": []
  },
  {
   "cell_type": "code",
   "execution_count": 173,
   "id": "2b97856f",
   "metadata": {},
   "outputs": [
    {
     "name": "stdout",
     "output_type": "stream",
     "text": [
      "0.212-0.338j II +\n",
      "0.144+0.300j IZ +\n",
      "0.300+0.144j ZI +\n",
      "0.338-0.212j ZZ +\n",
      "0.084-0.084j XX +\n",
      "-0.328+0.328j XY +\n",
      "0.328-0.328j YX +\n",
      "0.084-0.084j YY\n",
      " 0.0300667749-0.2820642205j |01> +\n",
      " 0.8247377443+0.4892273681j |10>\n"
     ]
    }
   ],
   "source": [
    "anz = entangling_block(5,2)\n",
    "print(anz)\n",
    "ref = QuantumState([[0,1]])\n",
    "print(anz * ref)"
   ]
  },
  {
   "cell_type": "code",
   "execution_count": 187,
   "id": "57fa1a89",
   "metadata": {},
   "outputs": [
    {
     "name": "stdout",
     "output_type": "stream",
     "text": [
      " 0.1384603041-0.0272686808j |0101> +\n",
      "-0.0001392160+0.0000231032j |0110> +\n",
      "-0.0920916931+0.9856993879j |1001> +\n",
      " 0.0001216168-0.0009824938j |1010>\n"
     ]
    }
   ],
   "source": [
    "print(tensor(A = entangling_block(3,5), B = entangling_block(0.001,0.03)) * QuantumState([[1,0,0,1]]))"
   ]
  },
  {
   "cell_type": "code",
   "execution_count": null,
   "id": "847589f5",
   "metadata": {},
   "outputs": [],
   "source": []
  },
  {
   "cell_type": "code",
   "execution_count": 146,
   "id": "48de064f",
   "metadata": {},
   "outputs": [],
   "source": [
    "proj = S3_projection(StabilizerOp(['ZZ'], [1], target_sqp='X'))"
   ]
  },
  {
   "cell_type": "code",
   "execution_count": 147,
   "id": "66a50777",
   "metadata": {},
   "outputs": [
    {
     "data": {
      "text/plain": [
       "0.550-0.550j I +\n",
       "0.444+0.444j Z"
      ]
     },
     "execution_count": 147,
     "metadata": {},
     "output_type": "execute_result"
    }
   ],
   "source": [
    "proj.perform_projection(operator=anz)"
   ]
  },
  {
   "cell_type": "code",
   "execution_count": null,
   "id": "bd831d57",
   "metadata": {},
   "outputs": [],
   "source": []
  },
  {
   "cell_type": "code",
   "execution_count": 10,
   "id": "878d0ab9",
   "metadata": {},
   "outputs": [],
   "source": [
    "def A(theta, phi):\n",
    "    return np.array(\n",
    "        [\n",
    "            [1,0,0,0],\n",
    "            [0,np.cos(theta), np.exp(1j*phi)*np.sin(theta),0],\n",
    "            [0,np.exp(-1j*phi)*np.sin(theta), -np.cos(theta),0],\n",
    "            [0,0,0,1]\n",
    "        ]\n",
    "    )"
   ]
  },
  {
   "cell_type": "code",
   "execution_count": null,
   "id": "5cf11c2d",
   "metadata": {},
   "outputs": [],
   "source": []
  },
  {
   "cell_type": "code",
   "execution_count": 15,
   "id": "12f3cbf4",
   "metadata": {},
   "outputs": [],
   "source": [
    "P = np.array(\n",
    "    [\n",
    "        [1,0,0,0],\n",
    "        [0,1,0,0],\n",
    "        [0,0,1,0],\n",
    "        [0,0,0,0]\n",
    "    ]\n",
    ")"
   ]
  },
  {
   "cell_type": "code",
   "execution_count": 18,
   "id": "9e12c69f",
   "metadata": {},
   "outputs": [
    {
     "name": "stdout",
     "output_type": "stream",
     "text": [
      "[[ 1.        +0.j  0.        +0.j  0.        +0.j  0.        +0.j]\n",
      " [ 0.        +0.j -0.41614684+0.j  0.90929743+0.j  0.        +0.j]\n",
      " [ 0.        +0.j  0.90929743+0.j  0.41614684+0.j  0.        +0.j]\n",
      " [ 0.        +0.j  0.        +0.j  0.        +0.j  0.        +0.j]]\n"
     ]
    }
   ],
   "source": [
    "print(P@A(2,0)@P)"
   ]
  },
  {
   "cell_type": "code",
   "execution_count": null,
   "id": "06dc0966",
   "metadata": {},
   "outputs": [],
   "source": []
  }
 ],
 "metadata": {
  "kernelspec": {
   "display_name": "Python 3 (ipykernel)",
   "language": "python",
   "name": "python3"
  },
  "language_info": {
   "codemirror_mode": {
    "name": "ipython",
    "version": 3
   },
   "file_extension": ".py",
   "mimetype": "text/x-python",
   "name": "python",
   "nbconvert_exporter": "python",
   "pygments_lexer": "ipython3",
   "version": "3.8.8"
  }
 },
 "nbformat": 4,
 "nbformat_minor": 5
}
