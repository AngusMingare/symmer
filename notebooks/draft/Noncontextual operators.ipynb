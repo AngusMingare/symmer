{
 "cells": [
  {
   "cell_type": "code",
   "execution_count": 1,
   "id": "730ff20e",
   "metadata": {},
   "outputs": [],
   "source": [
    "from symred.symplectic import ObservableGraph"
   ]
  },
  {
   "cell_type": "code",
   "execution_count": 66,
   "id": "0d815f92",
   "metadata": {},
   "outputs": [],
   "source": [
    "from symred.chem import MoleculeBuilder\n",
    "from symred.projection import QubitTapering, CS_VQE\n",
    "from symred.symplectic import QuantumState, find_symmetry_basis\n",
    "import numpy as np\n",
    "import json"
   ]
  },
  {
   "cell_type": "code",
   "execution_count": 67,
   "id": "4709c445",
   "metadata": {},
   "outputs": [],
   "source": [
    "with open('data/molecule_data.json', 'r') as jfile:\n",
    "    molecule_geometries = json.load(jfile)"
   ]
  },
  {
   "cell_type": "code",
   "execution_count": 68,
   "id": "4e81404a",
   "metadata": {},
   "outputs": [
    {
     "name": "stdout",
     "output_type": "stream",
     "text": [
      "Molecule geometry:\n",
      "Be\t0\t0\t0\n",
      "\n",
      "HF converged?   True\n",
      "CCSD converged? True\n",
      "FCI converged?  True\n",
      "\n",
      "HF energy:   -14.351880476202023\n",
      "MP2 energy:  -14.376238850841515\n",
      "CCSD energy: -14.403650751752787\n",
      "FCI energy:  -14.403655108067682\n",
      "\n",
      "\n",
      "Number of qubits: 10\n"
     ]
    }
   ],
   "source": [
    "# Set molecule parameters\n",
    "speciesname = 'Be_STO-3G_SINGLET'\n",
    "#print(speciesname in scoring_data)\n",
    "mol_data = molecule_geometries[speciesname]\n",
    "if 'name' in mol_data:\n",
    "    print(mol_data['name'])\n",
    "    \n",
    "atoms  = mol_data['atoms']\n",
    "coords = mol_data['coords']\n",
    "basis  = mol_data['basis'] #'6-31g' #'cc-pVDZ' #\n",
    "spin   = mol_data['multiplicity']\n",
    "charge = mol_data['charge']\n",
    "geometry = list(zip(atoms, coords))\n",
    "molecule = MoleculeBuilder(geometry=geometry, charge=charge, basis=basis)"
   ]
  },
  {
   "cell_type": "code",
   "execution_count": 69,
   "id": "2bc9c768",
   "metadata": {},
   "outputs": [
    {
     "name": "stdout",
     "output_type": "stream",
     "text": [
      "We are able to taper 5 qubits from the Hamiltonian.\n",
      "\n",
      "The symmetry generators are\n",
      "\n",
      " 1 ZIZIIZIZIZ \n",
      " 1 IZIZIZIZIZ \n",
      " 1 IIIIZZIIII \n",
      " 1 IIIIIIZZII \n",
      " 1 IIIIIIIIZZ\n",
      "\n",
      "and may be rotated via a sequence of Clifford pi/2 rotations\n",
      "\n",
      "None\n",
      "\n",
      "onto the single-qubit Pauli operators\n",
      "\n",
      "-1 XIIIIIIIII \n",
      "-1 IXIIIIIIII \n",
      "-1 IIIIXIIIII \n",
      "-1 IIIIIIXIII \n",
      "-1 IIIIIIIIXI\n",
      "\n",
      "The symetry sector corresponding with the reference [1 1 1 1 0 0 0 0 0 0] is [1 1 1 1 1]\n",
      "The tapered Hartree-Fock state is  1.0000000000 |11000>\n"
     ]
    }
   ],
   "source": [
    "taper_hamiltonian = QubitTapering(molecule.H_q)\n",
    "\n",
    "print(f'We are able to taper {taper_hamiltonian.n_taper} qubits from the Hamiltonian.\\n')\n",
    "print('The symmetry generators are\\n')\n",
    "print(taper_hamiltonian.symmetry_generators)\n",
    "print('\\nand may be rotated via a sequence of Clifford pi/2 rotations\\n')\n",
    "print(taper_hamiltonian.stabilizers.stabilizer_rotations)\n",
    "print('\\nonto the single-qubit Pauli operators\\n')\n",
    "print(taper_hamiltonian.stabilizers.rotate_onto_single_qubit_paulis())\n",
    "hf_array = molecule.H_fermion.hf_comp_basis_state\n",
    "taper_hamiltonian.stabilizers.update_sector(hf_array)\n",
    "print(f'\\nThe symetry sector corresponding with the reference {hf_array} is {taper_hamiltonian.stabilizers.coeff_vec}')\n",
    "ham_tap = taper_hamiltonian.taper_it(ref_state=hf_array)\n",
    "#sor_tap = taper_hamiltonian.taper_it(aux_operator=sor_ham, ref_state=hf_array)\n",
    "#sor_tap.coeff_vec/=np.linalg.norm(sor_tap.coeff_vec)\n",
    "ucc_tap = taper_hamiltonian.taper_it(aux_operator=molecule.T_q, ref_state=hf_array)\n",
    "n_taper = taper_hamiltonian.n_taper\n",
    "tapered_qubits   = taper_hamiltonian.stab_qubit_indices\n",
    "untapered_qubits = taper_hamiltonian.free_qubit_indices\n",
    "hf_tapered = taper_hamiltonian.tapered_ref_state\n",
    "\n",
    "print(f'The tapered Hartree-Fock state is', QuantumState([hf_tapered]))"
   ]
  },
  {
   "cell_type": "code",
   "execution_count": 70,
   "id": "085e1eeb",
   "metadata": {},
   "outputs": [],
   "source": [
    "cs_vqe = CS_VQE(ham_tap, hf_tapered, basis_weighting_operator=ucc_tap)"
   ]
  },
  {
   "cell_type": "code",
   "execution_count": 71,
   "id": "dc9b2db0",
   "metadata": {},
   "outputs": [
    {
     "name": "stdout",
     "output_type": "stream",
     "text": [
      "{'symmetry': -8.672+0.000j IIIII +\n",
      "-0.047+0.000j IZIII +\n",
      "-0.297+0.000j IIZII +\n",
      "0.183+0.000j IZZII +\n",
      "-0.297+0.000j IIIZI +\n",
      "0.183+0.000j IZIZI +\n",
      "0.389+0.000j IIZZI +\n",
      "0.281+0.000j IZZZI +\n",
      "-0.297+0.000j IIIIZ +\n",
      "0.183+0.000j IZIIZ +\n",
      "0.389+0.000j IIZIZ +\n",
      "0.281+0.000j IZZIZ +\n",
      "0.389+0.000j IIIZZ +\n",
      "0.281+0.000j IZIZZ +\n",
      "0.263+0.000j IIZZZ +\n",
      "2.243-0.000j IZZZZ, 'clique_0': -0.047+0.000j ZIIII +\n",
      "0.670+0.000j ZZIII +\n",
      "0.183+0.000j ZIZII +\n",
      "0.183+0.000j ZIIZI +\n",
      "0.281+0.000j ZIZZI +\n",
      "0.183+0.000j ZIIIZ +\n",
      "0.281+0.000j ZIZIZ +\n",
      "0.281+0.000j ZIIZZ +\n",
      "2.243-0.000j ZIZZZ +\n",
      "0.286+0.000j ZZZZZ, 'clique_1': -0.060+0.000j XIIII +\n",
      "0.038-0.000j XZIII +\n",
      "0.010+0.000j XZZII +\n",
      "0.010+0.000j XZIZI +\n",
      "-0.010+0.000j XZZZI +\n",
      "0.010+0.000j XZIIZ +\n",
      "-0.010+0.000j XZZIZ +\n",
      "-0.010+0.000j XZIZZ +\n",
      "0.060+0.000j XIZZZ +\n",
      "-0.038+0.000j XZZZZ}\n"
     ]
    }
   ],
   "source": [
    "print(cs_vqe.decomposed)"
   ]
  },
  {
   "cell_type": "code",
   "execution_count": 72,
   "id": "e7df5ee9",
   "metadata": {},
   "outputs": [],
   "source": [
    "H_graph = ObservableGraph(ham_tap.symp_matrix, ham_tap.coeff_vec)"
   ]
  },
  {
   "cell_type": "code",
   "execution_count": 73,
   "id": "9e9a8d24",
   "metadata": {},
   "outputs": [
    {
     "name": "stdout",
     "output_type": "stream",
     "text": [
      "0.022+0.000j YYZZZ +\n",
      "-0.022+0.000j YYIII +\n",
      "0.263+0.000j IIZZZ +\n",
      "0.389+0.000j IIZZI +\n",
      "0.389+0.000j IIZIZ +\n",
      "0.389+0.000j IIIZZ +\n",
      "-0.297+0.000j IIZII +\n",
      "-0.297+0.000j IIIZI +\n",
      "-0.297+0.000j IIIIZ +\n",
      "-8.672+0.000j IIIII\n"
     ]
    }
   ],
   "source": [
    "C_cliques = H_graph.clique_cover(clique_relation='QWC', colouring_strategy='largest_first')\n",
    "C0 = C_cliques[0]\n",
    "\n",
    "print(C0)"
   ]
  },
  {
   "cell_type": "code",
   "execution_count": 74,
   "id": "8716f956",
   "metadata": {},
   "outputs": [
    {
     "data": {
      "text/plain": [
       "-8.672+0.000j IIIII +\n",
       "-0.047+0.000j ZIIII +\n",
       "-0.047+0.000j IZIII +\n",
       "0.670+0.000j ZZIII +\n",
       "-0.297+0.000j IIZII +\n",
       "0.183+0.000j ZIZII +\n",
       "0.183+0.000j IZZII +\n",
       "-0.297+0.000j IIIZI +\n",
       "0.183+0.000j ZIIZI +\n",
       "0.183+0.000j IZIZI +\n",
       "0.389+0.000j IIZZI +\n",
       "0.281+0.000j ZIZZI +\n",
       "0.281+0.000j IZZZI +\n",
       "-0.297+0.000j IIIIZ +\n",
       "0.183+0.000j ZIIIZ +\n",
       "0.183+0.000j IZIIZ +\n",
       "0.389+0.000j IIZIZ +\n",
       "0.281+0.000j ZIZIZ +\n",
       "0.281+0.000j IZZIZ +\n",
       "0.389+0.000j IIIZZ +\n",
       "0.281+0.000j ZIIZZ +\n",
       "0.281+0.000j IZIZZ +\n",
       "0.263+0.000j IIZZZ +\n",
       "2.243-0.000j ZIZZZ +\n",
       "2.243-0.000j IZZZZ +\n",
       "0.286+0.000j ZZZZZ"
      ]
     },
     "execution_count": 74,
     "metadata": {},
     "output_type": "execute_result"
    }
   ],
   "source": [
    "from symred.symplectic import PauliwordOp\n",
    "\n",
    "mask_diagonal = np.where(~np.any(ham_tap.X_block, axis=1))[0]\n",
    "diag_op = PauliwordOp(ham_tap.symp_matrix[mask_diagonal], ham_tap.coeff_vec[mask_diagonal])\n",
    "\n",
    "diag_op"
   ]
  },
  {
   "cell_type": "code",
   "execution_count": 86,
   "id": "c1ec7424",
   "metadata": {},
   "outputs": [
    {
     "data": {
      "text/plain": [
       "0.022+0.000j YYZZZ +\n",
       "-0.022+0.000j YYIII +\n",
       "0.263+0.000j IIZZZ +\n",
       "0.389+0.000j IIZZI +\n",
       "0.389+0.000j IIZIZ +\n",
       "0.389+0.000j IIIZZ +\n",
       "-0.297+0.000j IIZII +\n",
       "-0.297+0.000j IIIZI +\n",
       "-0.297+0.000j IIIIZ +\n",
       "-8.672+0.000j IIIII"
      ]
     },
     "execution_count": 86,
     "metadata": {},
     "output_type": "execute_result"
    }
   ],
   "source": [
    "C_cliques[0]"
   ]
  },
  {
   "cell_type": "code",
   "execution_count": 78,
   "id": "be37ae45",
   "metadata": {},
   "outputs": [
    {
     "data": {
      "text/plain": [
       " 1 XZIII \n",
       " 1 IIZII \n",
       " 1 IIIZI \n",
       " 1 IIIIZ"
      ]
     },
     "execution_count": 78,
     "metadata": {},
     "output_type": "execute_result"
    }
   ],
   "source": [
    "find_symmetry_basis(C_cliques[0])"
   ]
  },
  {
   "cell_type": "code",
   "execution_count": 92,
   "id": "043dbad4",
   "metadata": {},
   "outputs": [
    {
     "name": "stdout",
     "output_type": "stream",
     "text": [
      "[[1 1 1 1 1 1 1 0 0 0]\n",
      " [1 1 0 0 0 1 1 0 0 0]\n",
      " [0 0 1 1 1 0 0 0 0 0]\n",
      " [0 0 1 1 0 0 0 0 0 0]\n",
      " [0 0 1 0 1 0 0 0 0 0]\n",
      " [0 0 0 1 1 0 0 0 0 0]\n",
      " [0 0 1 0 0 0 0 0 0 0]\n",
      " [0 0 0 1 0 0 0 0 0 0]\n",
      " [0 0 0 0 1 0 0 0 0 0]\n",
      " [0 0 0 0 0 0 0 0 0 0]]\n",
      "[[1 1 0 0 0 1 1 0 0 0]\n",
      " [0 0 1 0 0 0 0 0 0 0]\n",
      " [0 0 0 1 0 0 0 0 0 0]\n",
      " [0 0 0 0 1 0 0 0 0 0]\n",
      " [0 0 0 0 0 0 0 0 0 0]\n",
      " [0 0 0 0 0 0 0 0 0 0]\n",
      " [0 0 0 0 0 0 0 0 0 0]\n",
      " [0 0 0 0 0 0 0 0 0 0]\n",
      " [0 0 0 0 0 0 0 0 0 0]\n",
      " [0 0 0 0 0 0 0 0 0 0]]\n",
      "[[1 0 0 0 0 0 1 0 0 0]\n",
      " [0 1 0 0 0 0 1 0 0 0]\n",
      " [0 0 0 0 0 1 1 0 0 0]\n",
      " [0 0 0 0 0 0 0 1 0 0]\n",
      " [0 0 0 0 0 0 0 0 1 0]\n",
      " [0 0 0 0 0 0 0 0 0 1]]\n"
     ]
    },
    {
     "data": {
      "text/plain": [
       " 1 XZIII \n",
       " 1 IYIII \n",
       " 1 ZZIII \n",
       " 1 IIZII \n",
       " 1 IIIZI \n",
       " 1 IIIIZ"
      ]
     },
     "execution_count": 92,
     "metadata": {},
     "output_type": "execute_result"
    }
   ],
   "source": [
    "from symred.utils import gf2_gaus_elim, gf2_basis_for_gf2_rref\n",
    "from symred.symplectic import StabilizerOp\n",
    "\n",
    "operator = C_cliques[0]\n",
    "\n",
    "ZX_symp = np.hstack([operator.Z_block, operator.X_block])\n",
    "print(ZX_symp)\n",
    "reduced = gf2_gaus_elim(ZX_symp)\n",
    "print(reduced)\n",
    "kernel  = gf2_basis_for_gf2_rref(reduced)\n",
    "print(kernel)\n",
    "stabilizers = ObservableGraph(kernel, np.ones(kernel.shape[0]))\n",
    "#if np.any(~stabilizers.adjacency_matrix):\n",
    "#    # if any of the stabilizers are not mutually commuting, take the largest commuting subset\n",
    "#    stabilizers = stabilizers.clique_cover(clique_relation='C', colouring_strategy='largest_first')[0]\n",
    "\n",
    "StabilizerOp(stabilizers.symp_matrix, np.ones(stabilizers.n_terms))"
   ]
  },
  {
   "cell_type": "code",
   "execution_count": 101,
   "id": "d3256c05",
   "metadata": {},
   "outputs": [
    {
     "name": "stdout",
     "output_type": "stream",
     "text": [
      "[[1 1 0 0 0 1 1 0 0 0]\n",
      " [0 0 1 0 0 0 0 0 0 0]\n",
      " [0 0 0 1 0 0 0 0 0 0]\n",
      " [0 0 0 0 1 0 0 0 0 0]\n",
      " [0 0 0 0 0 0 0 0 0 0]\n",
      " [0 0 0 0 0 0 0 0 0 0]\n",
      " [0 0 0 0 0 0 0 0 0 0]\n",
      " [0 0 0 0 0 0 0 0 0 0]\n",
      " [0 0 0 0 0 0 0 0 0 0]\n",
      " [0 0 0 0 0 0 0 0 0 0]]\n",
      "[[1 0 0 0 0 0 0 0 0 0]\n",
      " [1 0 0 0 0 0 0 0 0 0]\n",
      " [0 1 0 0 0 0 0 0 0 0]\n",
      " [0 0 1 0 0 0 0 0 0 0]\n",
      " [0 0 0 1 0 0 0 0 0 0]\n",
      " [1 0 0 0 0 0 0 0 0 0]\n",
      " [1 0 0 0 0 0 0 0 0 0]\n",
      " [0 0 0 0 0 0 0 0 0 0]\n",
      " [0 0 0 0 0 0 0 0 0 0]\n",
      " [0 0 0 0 0 0 0 0 0 0]]\n",
      "[[1 0 0 0 0 0 0 0 0 0]\n",
      " [0 1 0 0 0 0 0 0 0 0]\n",
      " [0 0 1 0 0 0 0 0 0 0]\n",
      " [0 0 0 1 0 0 0 0 0 0]\n",
      " [0 0 0 0 1 0 0 0 0 0]\n",
      " [0 0 0 0 0 1 0 0 0 0]\n",
      " [0 0 0 0 0 0 1 0 0 0]\n",
      " [0 0 0 0 0 0 0 1 0 0]\n",
      " [0 0 0 0 0 0 0 0 1 0]\n",
      " [0 0 0 0 0 0 0 0 0 1]]\n",
      "[[1 0 0 0 0 0 0 0 0 0 0 0 0 0 0 0 1 0 0 0]\n",
      " [0 1 0 0 0 0 0 0 0 0 0 0 1 0 0 0 0 0 0 0]\n",
      " [0 0 1 0 0 0 0 0 0 0 0 0 0 1 0 0 0 0 0 0]\n",
      " [0 0 0 1 0 0 0 0 0 0 0 0 0 0 1 0 0 0 0 0]\n",
      " [0 0 0 0 0 0 0 0 0 0 1 0 0 0 0 0 1 0 0 0]\n",
      " [0 0 0 0 0 0 0 0 0 0 0 1 0 0 0 0 1 0 0 0]\n",
      " [0 0 0 0 0 0 0 0 0 0 0 0 0 0 0 1 1 0 0 0]\n",
      " [0 0 0 0 0 0 0 0 0 0 0 0 0 0 0 0 0 1 0 0]\n",
      " [0 0 0 0 0 0 0 0 0 0 0 0 0 0 0 0 0 0 1 0]\n",
      " [0 0 0 0 0 0 0 0 0 0 0 0 0 0 0 0 0 0 0 1]]\n",
      "[4 5 6 7 8 9]\n",
      "10\n",
      "[[1 0 0 0 0 0 1 0 0 0]\n",
      " [0 1 0 0 0 0 1 0 0 0]\n",
      " [0 0 0 0 0 1 1 0 0 0]\n",
      " [0 0 0 0 0 0 0 1 0 0]\n",
      " [0 0 0 0 0 0 0 0 1 0]\n",
      " [0 0 0 0 0 0 0 0 0 1]]\n"
     ]
    }
   ],
   "source": [
    "gf2_matrix_in_rreform = reduced\n",
    "print(reduced)\n",
    "rows_to_columns = gf2_matrix_in_rreform.T\n",
    "print(rows_to_columns)\n",
    "eye = np.eye(gf2_matrix_in_rreform.shape[1], dtype=int)\n",
    "print(eye.T)\n",
    "# do column reduced form as row reduced form\n",
    "rrf = gf2_gaus_elim(np.hstack((rows_to_columns, eye.T)))\n",
    "print(rrf)\n",
    "\n",
    "zero_rrf = np.where(~rrf[:, :gf2_matrix_in_rreform.shape[0]].any(axis=1))[0]\n",
    "print(zero_rrf)\n",
    "basis = rrf[zero_rrf, gf2_matrix_in_rreform.shape[0]:]\n",
    "print(gf2_matrix_in_rreform.shape[0])\n",
    "print(basis)"
   ]
  },
  {
   "cell_type": "code",
   "execution_count": 77,
   "id": "1648d015",
   "metadata": {},
   "outputs": [
    {
     "data": {
      "text/plain": [
       "False"
      ]
     },
     "execution_count": 77,
     "metadata": {},
     "output_type": "execute_result"
    }
   ],
   "source": [
    "test_op = diag_op + C_cliques[0] + C_cliques[4] + C_cliques[7]\n",
    "test_op.is_noncontextual"
   ]
  },
  {
   "cell_type": "code",
   "execution_count": 30,
   "id": "53aa4562",
   "metadata": {},
   "outputs": [
    {
     "name": "stdout",
     "output_type": "stream",
     "text": [
      "(array([3, 7, 9]),)\n"
     ]
    }
   ],
   "source": [
    "import numpy as np\n",
    "order_by_anticom = np.argsort(np.count_nonzero(~C0.commutes_termwise(C1), axis=1))[::-1]\n",
    "print(np.where(C0.commutes_termwise(C1)[order_by_anticom[0]]))"
   ]
  },
  {
   "cell_type": "code",
   "execution_count": 18,
   "id": "6bfa3b3b",
   "metadata": {},
   "outputs": [
    {
     "name": "stdout",
     "output_type": "stream",
     "text": [
      " 1 XIIIX \n",
      " 1 IXIXX \n",
      " 1 ZIIZZ \n",
      " 1 IZIZI \n",
      " 1 IIZII\n",
      "\n",
      " 1 XZZZI \n",
      " 1 ZXZZI \n",
      " 1 ZZXII \n",
      " 1 ZZIXI \n",
      " 1 IIIIX\n"
     ]
    }
   ],
   "source": [
    "from symred.symplectic import find_symmetry_basis\n",
    "\n",
    "sym_0 = find_symmetry_basis(C0)\n",
    "sym_1 = find_symmetry_basis(C1)\n",
    "\n",
    "print(sym_0)\n",
    "print()\n",
    "print(sym_1)"
   ]
  },
  {
   "cell_type": "code",
   "execution_count": 19,
   "id": "24857afa",
   "metadata": {},
   "outputs": [
    {
     "data": {
      "text/plain": [
       "array([[ True, False, False, False,  True],\n",
       "       [ True, False, False, False,  True],\n",
       "       [False,  True,  True, False, False],\n",
       "       [ True, False,  True, False,  True],\n",
       "       [ True,  True, False,  True,  True]])"
      ]
     },
     "execution_count": 19,
     "metadata": {},
     "output_type": "execute_result"
    }
   ],
   "source": [
    "sym_0.commutes_termwise(sym_1)"
   ]
  },
  {
   "cell_type": "code",
   "execution_count": 14,
   "id": "ca4cfe8f",
   "metadata": {},
   "outputs": [
    {
     "name": "stdout",
     "output_type": "stream",
     "text": [
      "0.183+0.000j IZIZI +\n",
      "-0.022+0.000j XYIYI +\n",
      "2.243-0.000j ZIZZZ +\n",
      "-0.005+0.000j XIIIX +\n",
      "0.281+0.000j IZZZI +\n",
      "0.005-0.000j XZZZX +\n",
      "-8.672+0.000j IIIII +\n",
      "-0.297+0.000j IIZII +\n",
      "0.281+0.000j ZIIZZ +\n",
      "-0.022+0.000j XXIXI\n",
      "\n",
      "0.012+0.000j IIXXI +\n",
      "-0.004+0.000j ZZIXI +\n",
      "-0.005+0.000j ZXZZX +\n",
      "0.022-0.000j YYIIX +\n",
      "-0.022+0.000j YYIII +\n",
      "-0.004+0.000j IIIIX +\n",
      "-0.022+0.000j XXXII +\n",
      "-0.004+0.000j ZZXII +\n",
      "-0.010+0.000j XZZZI +\n",
      "0.010+0.000j ZXZZI\n"
     ]
    }
   ],
   "source": [
    "C_union = C0+C1\n",
    "C_graph = ObservableGraph(C_union.symp_matrix, C_union.coeff_vec)\n",
    "print(C0)\n",
    "print()\n",
    "print(C1)\n",
    "\n",
    "AC_cliques = C_graph.clique_cover(clique_relation='AC', colouring_strategy='random_sequential')"
   ]
  },
  {
   "cell_type": "code",
   "execution_count": 46,
   "id": "03c03722",
   "metadata": {},
   "outputs": [
    {
     "name": "stdout",
     "output_type": "stream",
     "text": [
      "0.005+0.000j IYIIY +\n",
      "-0.010+0.000j ZXZII\n"
     ]
    }
   ],
   "source": [
    "print(AC_cliques[0])"
   ]
  },
  {
   "cell_type": "code",
   "execution_count": 22,
   "id": "ddd30f29",
   "metadata": {},
   "outputs": [
    {
     "name": "stdout",
     "output_type": "stream",
     "text": [
      "1 ZIIZZ \n",
      "1 ZZZZZ \n",
      "1 IIIZZ\n"
     ]
    }
   ],
   "source": [
    "import numpy as np\n",
    "from symred.symplectic import StabilizerOp, find_symmetry_basis\n",
    "\n",
    "random_Z_block = np.random.randint(0,2,(3, 5))\n",
    "S = StabilizerOp(np.hstack([np.zeros_like(random_Z_block), random_Z_block]), np.ones(3))\n",
    "print(S)"
   ]
  },
  {
   "cell_type": "code",
   "execution_count": 23,
   "id": "7fb11af6",
   "metadata": {},
   "outputs": [],
   "source": [
    "S.update_sector(hf_tapered)"
   ]
  },
  {
   "cell_type": "code",
   "execution_count": 24,
   "id": "57310f2d",
   "metadata": {},
   "outputs": [
    {
     "name": "stdout",
     "output_type": "stream",
     "text": [
      "-1 ZIIZZ \n",
      "1 ZZZZZ \n",
      "1 IIIZZ\n"
     ]
    }
   ],
   "source": [
    "print(S)"
   ]
  },
  {
   "cell_type": "code",
   "execution_count": 25,
   "id": "0919af08",
   "metadata": {},
   "outputs": [
    {
     "name": "stdout",
     "output_type": "stream",
     "text": [
      "-1 XIIII \n",
      "-1 IXIII \n",
      "-1 IIIXI\n"
     ]
    }
   ],
   "source": [
    "S.target_sqp = 'X'\n",
    "print(S.rotate_onto_single_qubit_paulis())"
   ]
  },
  {
   "cell_type": "code",
   "execution_count": 26,
   "id": "ccaa500e",
   "metadata": {},
   "outputs": [
    {
     "name": "stdout",
     "output_type": "stream",
     "text": [
      "-1 XIIII \n",
      "-1 IXIII \n",
      "-1 IIIXI\n"
     ]
    }
   ],
   "source": [
    "S.target_sqp = 'X'\n",
    "print(S.rotate_onto_single_qubit_paulis())"
   ]
  },
  {
   "cell_type": "code",
   "execution_count": null,
   "id": "3afa38a8",
   "metadata": {},
   "outputs": [],
   "source": []
  },
  {
   "cell_type": "code",
   "execution_count": null,
   "id": "f20e9816",
   "metadata": {},
   "outputs": [],
   "source": []
  }
 ],
 "metadata": {
  "kernelspec": {
   "display_name": "Python 3 (ipykernel)",
   "language": "python",
   "name": "python3"
  },
  "language_info": {
   "codemirror_mode": {
    "name": "ipython",
    "version": 3
   },
   "file_extension": ".py",
   "mimetype": "text/x-python",
   "name": "python",
   "nbconvert_exporter": "python",
   "pygments_lexer": "ipython3",
   "version": "3.8.8"
  }
 },
 "nbformat": 4,
 "nbformat_minor": 5
}
