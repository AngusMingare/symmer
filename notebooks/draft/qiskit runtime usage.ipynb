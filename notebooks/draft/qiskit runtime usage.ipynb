{
 "cells": [
  {
   "cell_type": "markdown",
   "id": "cf1c800b",
   "metadata": {},
   "source": [
    "# Connect to IBMQ and specify the target backend"
   ]
  },
  {
   "cell_type": "code",
   "execution_count": 3,
   "id": "0e499547",
   "metadata": {},
   "outputs": [
    {
     "ename": "RequestsApiError",
     "evalue": "'401 Client Error: Unauthorized for url: https://auth.quantum-computing.ibm.com/api/users/loginWithToken. Login failed., Error code: 3446.'",
     "output_type": "error",
     "traceback": [
      "\u001b[0;31m---------------------------------------------------------------------------\u001b[0m",
      "\u001b[0;31mHTTPError\u001b[0m                                 Traceback (most recent call last)",
      "\u001b[0;32m~/anaconda3/lib/python3.8/site-packages/qiskit/providers/ibmq/api/session.py\u001b[0m in \u001b[0;36mrequest\u001b[0;34m(self, method, url, bare, **kwargs)\u001b[0m\n\u001b[1;32m    277\u001b[0m             \u001b[0mresponse\u001b[0m \u001b[0;34m=\u001b[0m \u001b[0msuper\u001b[0m\u001b[0;34m(\u001b[0m\u001b[0;34m)\u001b[0m\u001b[0;34m.\u001b[0m\u001b[0mrequest\u001b[0m\u001b[0;34m(\u001b[0m\u001b[0mmethod\u001b[0m\u001b[0;34m,\u001b[0m \u001b[0mfinal_url\u001b[0m\u001b[0;34m,\u001b[0m \u001b[0mheaders\u001b[0m\u001b[0;34m=\u001b[0m\u001b[0mheaders\u001b[0m\u001b[0;34m,\u001b[0m \u001b[0;34m**\u001b[0m\u001b[0mkwargs\u001b[0m\u001b[0;34m)\u001b[0m\u001b[0;34m\u001b[0m\u001b[0;34m\u001b[0m\u001b[0m\n\u001b[0;32m--> 278\u001b[0;31m             \u001b[0mresponse\u001b[0m\u001b[0;34m.\u001b[0m\u001b[0mraise_for_status\u001b[0m\u001b[0;34m(\u001b[0m\u001b[0;34m)\u001b[0m\u001b[0;34m\u001b[0m\u001b[0;34m\u001b[0m\u001b[0m\n\u001b[0m\u001b[1;32m    279\u001b[0m         \u001b[0;32mexcept\u001b[0m \u001b[0mRequestException\u001b[0m \u001b[0;32mas\u001b[0m \u001b[0mex\u001b[0m\u001b[0;34m:\u001b[0m\u001b[0;34m\u001b[0m\u001b[0;34m\u001b[0m\u001b[0m\n",
      "\u001b[0;32m~/anaconda3/lib/python3.8/site-packages/requests/models.py\u001b[0m in \u001b[0;36mraise_for_status\u001b[0;34m(self)\u001b[0m\n\u001b[1;32m   1021\u001b[0m         \u001b[0;32mif\u001b[0m \u001b[0mhttp_error_msg\u001b[0m\u001b[0;34m:\u001b[0m\u001b[0;34m\u001b[0m\u001b[0;34m\u001b[0m\u001b[0m\n\u001b[0;32m-> 1022\u001b[0;31m             \u001b[0;32mraise\u001b[0m \u001b[0mHTTPError\u001b[0m\u001b[0;34m(\u001b[0m\u001b[0mhttp_error_msg\u001b[0m\u001b[0;34m,\u001b[0m \u001b[0mresponse\u001b[0m\u001b[0;34m=\u001b[0m\u001b[0mself\u001b[0m\u001b[0;34m)\u001b[0m\u001b[0;34m\u001b[0m\u001b[0;34m\u001b[0m\u001b[0m\n\u001b[0m\u001b[1;32m   1023\u001b[0m \u001b[0;34m\u001b[0m\u001b[0m\n",
      "\u001b[0;31mHTTPError\u001b[0m: 401 Client Error: Unauthorized for url: https://auth.quantum-computing.ibm.com/api/users/loginWithToken",
      "\nThe above exception was the direct cause of the following exception:\n",
      "\u001b[0;31mRequestsApiError\u001b[0m                          Traceback (most recent call last)",
      "\u001b[0;32m/tmp/ipykernel_19311/1089198079.py\u001b[0m in \u001b[0;36m<module>\u001b[0;34m\u001b[0m\n\u001b[1;32m      3\u001b[0m \u001b[0;32mfrom\u001b[0m \u001b[0mqiskit\u001b[0m\u001b[0;34m.\u001b[0m\u001b[0mcircuit\u001b[0m\u001b[0;34m.\u001b[0m\u001b[0mrandom\u001b[0m \u001b[0;32mimport\u001b[0m \u001b[0mrandom_circuit\u001b[0m\u001b[0;34m\u001b[0m\u001b[0;34m\u001b[0m\u001b[0m\n\u001b[1;32m      4\u001b[0m \u001b[0;34m\u001b[0m\u001b[0m\n\u001b[0;32m----> 5\u001b[0;31m \u001b[0mprovider\u001b[0m \u001b[0;34m=\u001b[0m \u001b[0mIBMQ\u001b[0m\u001b[0;34m.\u001b[0m\u001b[0mload_account\u001b[0m\u001b[0;34m(\u001b[0m\u001b[0;34m)\u001b[0m\u001b[0;34m\u001b[0m\u001b[0;34m\u001b[0m\u001b[0m\n\u001b[0m\u001b[1;32m      6\u001b[0m \u001b[0;31m#backend  = provider.backend.ibm_oslo\u001b[0m\u001b[0;34m\u001b[0m\u001b[0;34m\u001b[0m\u001b[0;34m\u001b[0m\u001b[0m\n\u001b[1;32m      7\u001b[0m \u001b[0;31m#qpconfig = backend.configuration().to_dict()\u001b[0m\u001b[0;34m\u001b[0m\u001b[0;34m\u001b[0m\u001b[0;34m\u001b[0m\u001b[0m\n",
      "\u001b[0;32m~/anaconda3/lib/python3.8/site-packages/qiskit/providers/ibmq/ibmqfactory.py\u001b[0m in \u001b[0;36mload_account\u001b[0;34m(self)\u001b[0m\n\u001b[1;32m    189\u001b[0m             \u001b[0mself\u001b[0m\u001b[0;34m.\u001b[0m\u001b[0mdisable_account\u001b[0m\u001b[0;34m(\u001b[0m\u001b[0;34m)\u001b[0m\u001b[0;34m\u001b[0m\u001b[0;34m\u001b[0m\u001b[0m\n\u001b[1;32m    190\u001b[0m \u001b[0;34m\u001b[0m\u001b[0m\n\u001b[0;32m--> 191\u001b[0;31m         \u001b[0mself\u001b[0m\u001b[0;34m.\u001b[0m\u001b[0m_initialize_providers\u001b[0m\u001b[0;34m(\u001b[0m\u001b[0mcredentials\u001b[0m\u001b[0;34m,\u001b[0m \u001b[0mpreferences\u001b[0m\u001b[0;34m)\u001b[0m\u001b[0;34m\u001b[0m\u001b[0;34m\u001b[0m\u001b[0m\n\u001b[0m\u001b[1;32m    192\u001b[0m \u001b[0;34m\u001b[0m\u001b[0m\n\u001b[1;32m    193\u001b[0m         \u001b[0;31m# Prevent edge case where no hubs are available.\u001b[0m\u001b[0;34m\u001b[0m\u001b[0;34m\u001b[0m\u001b[0;34m\u001b[0m\u001b[0m\n",
      "\u001b[0;32m~/anaconda3/lib/python3.8/site-packages/qiskit/providers/ibmq/ibmqfactory.py\u001b[0m in \u001b[0;36m_initialize_providers\u001b[0;34m(self, credentials, preferences)\u001b[0m\n\u001b[1;32m    454\u001b[0m             \u001b[0mpreferences\u001b[0m\u001b[0;34m:\u001b[0m \u001b[0mAccount\u001b[0m \u001b[0mpreferences\u001b[0m\u001b[0;34m.\u001b[0m\u001b[0;34m\u001b[0m\u001b[0;34m\u001b[0m\u001b[0m\n\u001b[1;32m    455\u001b[0m         \"\"\"\n\u001b[0;32m--> 456\u001b[0;31m         auth_client = AuthClient(credentials.token,\n\u001b[0m\u001b[1;32m    457\u001b[0m                                  \u001b[0mcredentials\u001b[0m\u001b[0;34m.\u001b[0m\u001b[0mbase_url\u001b[0m\u001b[0;34m,\u001b[0m\u001b[0;34m\u001b[0m\u001b[0;34m\u001b[0m\u001b[0m\n\u001b[1;32m    458\u001b[0m                                  **credentials.connection_parameters())\n",
      "\u001b[0;32m~/anaconda3/lib/python3.8/site-packages/qiskit/providers/ibmq/api/clients/auth.py\u001b[0m in \u001b[0;36m__init__\u001b[0;34m(self, api_token, auth_url, **request_kwargs)\u001b[0m\n\u001b[1;32m     39\u001b[0m \u001b[0;34m\u001b[0m\u001b[0m\n\u001b[1;32m     40\u001b[0m         \u001b[0mself\u001b[0m\u001b[0;34m.\u001b[0m\u001b[0mauth_api\u001b[0m \u001b[0;34m=\u001b[0m \u001b[0mApi\u001b[0m\u001b[0;34m(\u001b[0m\u001b[0mRetrySession\u001b[0m\u001b[0;34m(\u001b[0m\u001b[0mauth_url\u001b[0m\u001b[0;34m,\u001b[0m \u001b[0;34m**\u001b[0m\u001b[0mrequest_kwargs\u001b[0m\u001b[0;34m)\u001b[0m\u001b[0;34m)\u001b[0m\u001b[0;34m\u001b[0m\u001b[0;34m\u001b[0m\u001b[0m\n\u001b[0;32m---> 41\u001b[0;31m         \u001b[0mself\u001b[0m\u001b[0;34m.\u001b[0m\u001b[0mbase_api\u001b[0m \u001b[0;34m=\u001b[0m \u001b[0mself\u001b[0m\u001b[0;34m.\u001b[0m\u001b[0m_init_service_clients\u001b[0m\u001b[0;34m(\u001b[0m\u001b[0;34m**\u001b[0m\u001b[0mrequest_kwargs\u001b[0m\u001b[0;34m)\u001b[0m\u001b[0;34m\u001b[0m\u001b[0;34m\u001b[0m\u001b[0m\n\u001b[0m\u001b[1;32m     42\u001b[0m \u001b[0;34m\u001b[0m\u001b[0m\n\u001b[1;32m     43\u001b[0m     \u001b[0;32mdef\u001b[0m \u001b[0m_init_service_clients\u001b[0m\u001b[0;34m(\u001b[0m\u001b[0mself\u001b[0m\u001b[0;34m,\u001b[0m \u001b[0;34m**\u001b[0m\u001b[0mrequest_kwargs\u001b[0m\u001b[0;34m:\u001b[0m \u001b[0mAny\u001b[0m\u001b[0;34m)\u001b[0m \u001b[0;34m->\u001b[0m \u001b[0mApi\u001b[0m\u001b[0;34m:\u001b[0m\u001b[0;34m\u001b[0m\u001b[0;34m\u001b[0m\u001b[0m\n",
      "\u001b[0;32m~/anaconda3/lib/python3.8/site-packages/qiskit/providers/ibmq/api/clients/auth.py\u001b[0m in \u001b[0;36m_init_service_clients\u001b[0;34m(self, **request_kwargs)\u001b[0m\n\u001b[1;32m     51\u001b[0m         \"\"\"\n\u001b[1;32m     52\u001b[0m         \u001b[0;31m# Request an access token.\u001b[0m\u001b[0;34m\u001b[0m\u001b[0;34m\u001b[0m\u001b[0;34m\u001b[0m\u001b[0m\n\u001b[0;32m---> 53\u001b[0;31m         \u001b[0maccess_token\u001b[0m \u001b[0;34m=\u001b[0m \u001b[0mself\u001b[0m\u001b[0;34m.\u001b[0m\u001b[0m_request_access_token\u001b[0m\u001b[0;34m(\u001b[0m\u001b[0;34m)\u001b[0m\u001b[0;34m\u001b[0m\u001b[0;34m\u001b[0m\u001b[0m\n\u001b[0m\u001b[1;32m     54\u001b[0m         \u001b[0;31m# Use the token for the next auth server requests.\u001b[0m\u001b[0;34m\u001b[0m\u001b[0;34m\u001b[0m\u001b[0;34m\u001b[0m\u001b[0m\n\u001b[1;32m     55\u001b[0m         \u001b[0mself\u001b[0m\u001b[0;34m.\u001b[0m\u001b[0mauth_api\u001b[0m\u001b[0;34m.\u001b[0m\u001b[0msession\u001b[0m\u001b[0;34m.\u001b[0m\u001b[0maccess_token\u001b[0m \u001b[0;34m=\u001b[0m \u001b[0maccess_token\u001b[0m\u001b[0;34m\u001b[0m\u001b[0;34m\u001b[0m\u001b[0m\n",
      "\u001b[0;32m~/anaconda3/lib/python3.8/site-packages/qiskit/providers/ibmq/api/clients/auth.py\u001b[0m in \u001b[0;36m_request_access_token\u001b[0;34m(self)\u001b[0m\n\u001b[1;32m     73\u001b[0m         \"\"\"\n\u001b[1;32m     74\u001b[0m         \u001b[0;32mtry\u001b[0m\u001b[0;34m:\u001b[0m\u001b[0;34m\u001b[0m\u001b[0;34m\u001b[0m\u001b[0m\n\u001b[0;32m---> 75\u001b[0;31m             \u001b[0mresponse\u001b[0m \u001b[0;34m=\u001b[0m \u001b[0mself\u001b[0m\u001b[0;34m.\u001b[0m\u001b[0mauth_api\u001b[0m\u001b[0;34m.\u001b[0m\u001b[0mlogin\u001b[0m\u001b[0;34m(\u001b[0m\u001b[0mself\u001b[0m\u001b[0;34m.\u001b[0m\u001b[0mapi_token\u001b[0m\u001b[0;34m)\u001b[0m\u001b[0;34m\u001b[0m\u001b[0;34m\u001b[0m\u001b[0m\n\u001b[0m\u001b[1;32m     76\u001b[0m             \u001b[0;32mreturn\u001b[0m \u001b[0mresponse\u001b[0m\u001b[0;34m[\u001b[0m\u001b[0;34m'id'\u001b[0m\u001b[0;34m]\u001b[0m\u001b[0;34m\u001b[0m\u001b[0;34m\u001b[0m\u001b[0m\n\u001b[1;32m     77\u001b[0m         \u001b[0;32mexcept\u001b[0m \u001b[0mRequestsApiError\u001b[0m \u001b[0;32mas\u001b[0m \u001b[0mex\u001b[0m\u001b[0;34m:\u001b[0m\u001b[0;34m\u001b[0m\u001b[0;34m\u001b[0m\u001b[0m\n",
      "\u001b[0;32m~/anaconda3/lib/python3.8/site-packages/qiskit/providers/ibmq/api/rest/root.py\u001b[0m in \u001b[0;36mlogin\u001b[0;34m(self, api_token)\u001b[0m\n\u001b[1;32m    123\u001b[0m         \"\"\"\n\u001b[1;32m    124\u001b[0m         \u001b[0murl\u001b[0m \u001b[0;34m=\u001b[0m \u001b[0mself\u001b[0m\u001b[0;34m.\u001b[0m\u001b[0mget_url\u001b[0m\u001b[0;34m(\u001b[0m\u001b[0;34m'login'\u001b[0m\u001b[0;34m)\u001b[0m\u001b[0;34m\u001b[0m\u001b[0;34m\u001b[0m\u001b[0m\n\u001b[0;32m--> 125\u001b[0;31m         \u001b[0;32mreturn\u001b[0m \u001b[0mself\u001b[0m\u001b[0;34m.\u001b[0m\u001b[0msession\u001b[0m\u001b[0;34m.\u001b[0m\u001b[0mpost\u001b[0m\u001b[0;34m(\u001b[0m\u001b[0murl\u001b[0m\u001b[0;34m,\u001b[0m \u001b[0mjson\u001b[0m\u001b[0;34m=\u001b[0m\u001b[0;34m{\u001b[0m\u001b[0;34m'apiToken'\u001b[0m\u001b[0;34m:\u001b[0m \u001b[0mapi_token\u001b[0m\u001b[0;34m}\u001b[0m\u001b[0;34m)\u001b[0m\u001b[0;34m.\u001b[0m\u001b[0mjson\u001b[0m\u001b[0;34m(\u001b[0m\u001b[0;34m)\u001b[0m\u001b[0;34m\u001b[0m\u001b[0;34m\u001b[0m\u001b[0m\n\u001b[0m\u001b[1;32m    126\u001b[0m \u001b[0;34m\u001b[0m\u001b[0m\n\u001b[1;32m    127\u001b[0m     \u001b[0;32mdef\u001b[0m \u001b[0muser_info\u001b[0m\u001b[0;34m(\u001b[0m\u001b[0mself\u001b[0m\u001b[0;34m)\u001b[0m \u001b[0;34m->\u001b[0m \u001b[0mDict\u001b[0m\u001b[0;34m[\u001b[0m\u001b[0mstr\u001b[0m\u001b[0;34m,\u001b[0m \u001b[0mAny\u001b[0m\u001b[0;34m]\u001b[0m\u001b[0;34m:\u001b[0m\u001b[0;34m\u001b[0m\u001b[0;34m\u001b[0m\u001b[0m\n",
      "\u001b[0;32m~/anaconda3/lib/python3.8/site-packages/requests/sessions.py\u001b[0m in \u001b[0;36mpost\u001b[0;34m(self, url, data, json, **kwargs)\u001b[0m\n\u001b[1;32m    633\u001b[0m         \"\"\"\n\u001b[1;32m    634\u001b[0m \u001b[0;34m\u001b[0m\u001b[0m\n\u001b[0;32m--> 635\u001b[0;31m         \u001b[0;32mreturn\u001b[0m \u001b[0mself\u001b[0m\u001b[0;34m.\u001b[0m\u001b[0mrequest\u001b[0m\u001b[0;34m(\u001b[0m\u001b[0;34m\"POST\"\u001b[0m\u001b[0;34m,\u001b[0m \u001b[0murl\u001b[0m\u001b[0;34m,\u001b[0m \u001b[0mdata\u001b[0m\u001b[0;34m=\u001b[0m\u001b[0mdata\u001b[0m\u001b[0;34m,\u001b[0m \u001b[0mjson\u001b[0m\u001b[0;34m=\u001b[0m\u001b[0mjson\u001b[0m\u001b[0;34m,\u001b[0m \u001b[0;34m**\u001b[0m\u001b[0mkwargs\u001b[0m\u001b[0;34m)\u001b[0m\u001b[0;34m\u001b[0m\u001b[0;34m\u001b[0m\u001b[0m\n\u001b[0m\u001b[1;32m    636\u001b[0m \u001b[0;34m\u001b[0m\u001b[0m\n\u001b[1;32m    637\u001b[0m     \u001b[0;32mdef\u001b[0m \u001b[0mput\u001b[0m\u001b[0;34m(\u001b[0m\u001b[0mself\u001b[0m\u001b[0;34m,\u001b[0m \u001b[0murl\u001b[0m\u001b[0;34m,\u001b[0m \u001b[0mdata\u001b[0m\u001b[0;34m=\u001b[0m\u001b[0;32mNone\u001b[0m\u001b[0;34m,\u001b[0m \u001b[0;34m**\u001b[0m\u001b[0mkwargs\u001b[0m\u001b[0;34m)\u001b[0m\u001b[0;34m:\u001b[0m\u001b[0;34m\u001b[0m\u001b[0;34m\u001b[0m\u001b[0m\n",
      "\u001b[0;32m~/anaconda3/lib/python3.8/site-packages/qiskit/providers/ibmq/api/session.py\u001b[0m in \u001b[0;36mrequest\u001b[0;34m(self, method, url, bare, **kwargs)\u001b[0m\n\u001b[1;32m    298\u001b[0m                 \u001b[0mself\u001b[0m\u001b[0;34m.\u001b[0m\u001b[0m_modify_chained_exception_messages\u001b[0m\u001b[0;34m(\u001b[0m\u001b[0mex\u001b[0m\u001b[0;34m)\u001b[0m\u001b[0;34m\u001b[0m\u001b[0;34m\u001b[0m\u001b[0m\n\u001b[1;32m    299\u001b[0m \u001b[0;34m\u001b[0m\u001b[0m\n\u001b[0;32m--> 300\u001b[0;31m             \u001b[0;32mraise\u001b[0m \u001b[0mRequestsApiError\u001b[0m\u001b[0;34m(\u001b[0m\u001b[0mmessage\u001b[0m\u001b[0;34m,\u001b[0m \u001b[0mstatus_code\u001b[0m\u001b[0;34m)\u001b[0m \u001b[0;32mfrom\u001b[0m \u001b[0mex\u001b[0m\u001b[0;34m\u001b[0m\u001b[0;34m\u001b[0m\u001b[0m\n\u001b[0m\u001b[1;32m    301\u001b[0m \u001b[0;34m\u001b[0m\u001b[0m\n\u001b[1;32m    302\u001b[0m         \u001b[0;32mreturn\u001b[0m \u001b[0mresponse\u001b[0m\u001b[0;34m\u001b[0m\u001b[0;34m\u001b[0m\u001b[0m\n",
      "\u001b[0;31mRequestsApiError\u001b[0m: '401 Client Error: Unauthorized for url: https://auth.quantum-computing.ibm.com/api/users/loginWithToken. Login failed., Error code: 3446.'"
     ]
    }
   ],
   "source": [
    "from qiskit import IBMQ, assemble, transpile\n",
    "from qiskit import QuantumCircuit\n",
    "from qiskit.circuit.random import random_circuit\n",
    "\n",
    "provider = IBMQ.load_account()\n",
    "#backend  = provider.backend.ibm_oslo\n",
    "#qpconfig = backend.configuration().to_dict()\n",
    "#print(qpconfig)"
   ]
  },
  {
   "cell_type": "code",
   "execution_count": 2,
   "id": "95ef083f",
   "metadata": {},
   "outputs": [
    {
     "ename": "NameError",
     "evalue": "name 'provider' is not defined",
     "output_type": "error",
     "traceback": [
      "\u001b[0;31m---------------------------------------------------------------------------\u001b[0m",
      "\u001b[0;31mNameError\u001b[0m                                 Traceback (most recent call last)",
      "\u001b[0;32m/tmp/ipykernel_19311/3045933519.py\u001b[0m in \u001b[0;36m<module>\u001b[0;34m\u001b[0m\n\u001b[1;32m      1\u001b[0m \u001b[0mbackends_listed\u001b[0m \u001b[0;34m=\u001b[0m \u001b[0;34m[\u001b[0m\u001b[0;34m]\u001b[0m\u001b[0;34m\u001b[0m\u001b[0;34m\u001b[0m\u001b[0m\n\u001b[0;32m----> 2\u001b[0;31m \u001b[0;32mfor\u001b[0m \u001b[0mname\u001b[0m \u001b[0;32min\u001b[0m \u001b[0mprovider\u001b[0m\u001b[0;34m.\u001b[0m\u001b[0mbackend\u001b[0m\u001b[0;34m.\u001b[0m\u001b[0mbackends\u001b[0m\u001b[0;34m(\u001b[0m\u001b[0;34m)\u001b[0m\u001b[0;34m:\u001b[0m\u001b[0;34m\u001b[0m\u001b[0;34m\u001b[0m\u001b[0m\n\u001b[0m\u001b[1;32m      3\u001b[0m     \u001b[0mstatus\u001b[0m \u001b[0;34m=\u001b[0m \u001b[0mname\u001b[0m\u001b[0;34m.\u001b[0m\u001b[0mstatus\u001b[0m\u001b[0;34m(\u001b[0m\u001b[0;34m)\u001b[0m\u001b[0;34m\u001b[0m\u001b[0;34m\u001b[0m\u001b[0m\n\u001b[1;32m      4\u001b[0m     \u001b[0;32mif\u001b[0m \u001b[0mstatus\u001b[0m\u001b[0;34m.\u001b[0m\u001b[0mstatus_msg\u001b[0m\u001b[0;34m==\u001b[0m\u001b[0;34m'active'\u001b[0m\u001b[0;34m:\u001b[0m\u001b[0;34m\u001b[0m\u001b[0;34m\u001b[0m\u001b[0m\n\u001b[1;32m      5\u001b[0m         backends_listed.append(\n",
      "\u001b[0;31mNameError\u001b[0m: name 'provider' is not defined"
     ]
    }
   ],
   "source": [
    "backends_listed = []\n",
    "for name in provider.backend.backends():\n",
    "    status = name.status()\n",
    "    if status.status_msg=='active':\n",
    "        backends_listed.append(\n",
    "            (name, status.pending_jobs)\n",
    "        )"
   ]
  },
  {
   "cell_type": "code",
   "execution_count": 3,
   "id": "c804fba8",
   "metadata": {},
   "outputs": [
    {
     "name": "stdout",
     "output_type": "stream",
     "text": [
      "The least active backend is ibmq_armonk with 4 job(s) in the queue.\n"
     ]
    }
   ],
   "source": [
    "backend, n_jobs = sorted(backends_listed, key=lambda x:x[1])[0]\n",
    "print(f'The least active backend is {backend} with {n_jobs} job(s) in the queue.')"
   ]
  },
  {
   "cell_type": "code",
   "execution_count": 4,
   "id": "c4d1a77e",
   "metadata": {},
   "outputs": [
    {
     "name": "stdout",
     "output_type": "stream",
     "text": [
      "{'backend_name': 'ibmq_armonk', 'backend_version': '2.4.35', 'n_qubits': 1, 'basis_gates': ['id', 'rz', 'sx', 'x'], 'gates': [{'name': 'id', 'parameters': [], 'qasm_def': 'gate id q { U(0, 0, 0) q; }', 'coupling_map': [[0]]}, {'name': 'rz', 'parameters': ['theta'], 'qasm_def': 'gate rz(theta) q { U(0, 0, theta) q; }', 'coupling_map': [[0]]}, {'name': 'sx', 'parameters': [], 'qasm_def': 'gate sx q { U(pi/2, 3*pi/2, pi/2) q; }', 'coupling_map': [[0]]}, {'name': 'x', 'parameters': [], 'qasm_def': 'gate x q { U(pi, 0, pi) q; }', 'coupling_map': [[0]]}], 'local': False, 'simulator': False, 'conditional': False, 'open_pulse': True, 'memory': True, 'max_shots': 20000, 'coupling_map': None, 'dynamic_reprate_enabled': False, 'supported_instructions': ['measure', 'rz', 'id', 'u2', 'sx', 'delay', 'play', 'shiftf', 'acquire', 'u1', 'x', 'setf', 'u3'], 'max_experiments': 100, 'sample_name': 'family: Canary, revision: 1.2', 'n_registers': 1, 'credits_required': True, 'online_date': datetime.datetime(2019, 10, 16, 4, 0, tzinfo=tzutc()), 'description': '1 qubit device', 'dt': 0.2222222222222222, 'dtm': 0.2222222222222222, 'processor_type': {'family': 'Canary', 'revision': 1.2}, 'parametric_pulses': ['gaussian', 'gaussian_square', 'drag', 'constant'], 'allow_q_object': True, 'clops': None, 'measure_esp_enabled': False, 'multi_meas_enabled': True, 'quantum_volume': 1, 'qubit_channel_mapping': [['m0', 'd0']], 'supported_features': ['qobj'], 'timing_constraints': {'acquire_alignment': 16, 'granularity': 16, 'min_length': 64, 'pulse_alignment': 1}, 'uchannels_enabled': True, 'url': 'None', 'input_allowed': ['job', 'runtime'], 'allow_object_storage': True, 'pulse_num_channels': 9, 'pulse_num_qubits': 3, 'live_data': False, 'n_uchannels': 0, 'u_channel_lo': [], 'meas_levels': [1, 2], 'qubit_lo_range': [[4.471684962879873, 5.471684962879873]], 'meas_lo_range': [[6.493370669000001, 7.493370669000001]], 'meas_kernels': ['hw_boxcar'], 'discriminators': ['linear_discriminator', 'quadratic_discriminator'], 'rep_times': [1000.0], 'meas_map': [[0]], 'acquisition_latency': [], 'conditional_latency': [], 'hamiltonian': {'description': 'Qubits are modeled as Duffing oscillators. In this case, the system includes higher energy states, i.e. not just |0> and |1>. The Pauli operators are generalized via the following set of transformations:\\n\\n$(\\\\mathbb{I}-\\\\sigma_{i}^z)/2 \\\\rightarrow O_i \\\\equiv b^\\\\dagger_{i} b_{i}$,\\n\\n$\\\\sigma_{+} \\\\rightarrow b^\\\\dagger$,\\n\\n$\\\\sigma_{-} \\\\rightarrow b$,\\n\\n$\\\\sigma_{i}^X \\\\rightarrow b^\\\\dagger_{i} + b_{i}$.\\n\\nQubits are coupled through resonator buses. The provided Hamiltonian has been projected into the zero excitation subspace of the resonator buses leading to an effective qubit-qubit flip-flop interaction. The qubit resonance frequencies in the Hamiltonian are the cavity dressed frequencies and not exactly what is returned by the backend defaults, which also includes the dressing due to the qubit-qubit interactions.\\n\\nQuantities are returned in angular frequencies, with units 2*pi*GHz.\\n\\nWARNING: Currently not all system Hamiltonian information is available to the public, missing values have been replaced with 0.\\n', 'h_latex': '\\\\begin{align} \\\\mathcal{H}/\\\\hbar = & \\\\sum_{i=0}^{0}\\\\left(\\\\frac{\\\\omega_{q,i}}{2}(\\\\mathbb{I}-\\\\sigma_i^{z})+\\\\frac{\\\\Delta_{i}}{2}(O_i^2-O_i)+\\\\Omega_{d,i}D_i(t)\\\\sigma_i^{X}\\\\right) \\\\\\\\ \\\\end{align}', 'h_str': ['_SUM[i,0,0,wq{i}/2*(I{i}-Z{i})]', '_SUM[i,0,0,delta{i}/2*O{i}*O{i}]', '_SUM[i,0,0,-delta{i}/2*O{i}]', '_SUM[i,0,0,omegad{i}*X{i}||D{i}]'], 'osc': {}, 'qub': {'0': 3}, 'vars': {'delta0': -2.1814775258495027, 'omegad0': 0.1041377749420436, 'wq0': 31.238017910692506}}, 'channels': {'acquire0': {'operates': {'qubits': [0]}, 'purpose': 'acquire', 'type': 'acquire'}, 'd0': {'operates': {'qubits': [0]}, 'purpose': 'drive', 'type': 'drive'}, 'm0': {'operates': {'qubits': [0]}, 'purpose': 'measure', 'type': 'measure'}}}\n"
     ]
    }
   ],
   "source": [
    "qpconfig = backend.configuration().to_dict()\n",
    "print(qpconfig)"
   ]
  },
  {
   "cell_type": "markdown",
   "id": "10386c1c",
   "metadata": {},
   "source": [
    "# Build a quantum circuit to be submitted to the backend"
   ]
  },
  {
   "cell_type": "code",
   "execution_count": 5,
   "id": "2319afbc",
   "metadata": {},
   "outputs": [
    {
     "data": {
      "text/html": [
       "<pre style=\"word-wrap: normal;white-space: pre;background: #fff0;line-height: 1.1;font-family: &quot;Courier New&quot;,Courier,monospace\">        ┌───┐ ░ ┌─┐\n",
       "   q_0: ┤ H ├─░─┤M├\n",
       "        └───┘ ░ └╥┘\n",
       "meas: 1/═════════╩═\n",
       "                 0 </pre>"
      ],
      "text/plain": [
       "        ┌───┐ ░ ┌─┐\n",
       "   q_0: ┤ H ├─░─┤M├\n",
       "        └───┘ ░ └╥┘\n",
       "meas: 1/═════════╩═\n",
       "                 0 "
      ]
     },
     "execution_count": 5,
     "metadata": {},
     "output_type": "execute_result"
    }
   ],
   "source": [
    "n_qubits = qpconfig['n_qubits']\n",
    "qc = QuantumCircuit(n_qubits)\n",
    "for i in range(n_qubits):\n",
    "    qc.h(i)\n",
    "qc.measure_all()\n",
    "qc.draw()"
   ]
  },
  {
   "cell_type": "markdown",
   "id": "62fae09b",
   "metadata": {},
   "source": [
    "each quantum processor will have a set of native gates it recognises - the quantum circuit above may contain gates that are not directly supported. Transpilation decomposes the circuit into native gates."
   ]
  },
  {
   "cell_type": "code",
   "execution_count": 6,
   "id": "019e6e60",
   "metadata": {},
   "outputs": [
    {
     "name": "stderr",
     "output_type": "stream",
     "text": [
      "/home/tweaving/.local/lib/python3.8/site-packages/sympy/core/expr.py:3949: SymPyDeprecationWarning: \n",
      "\n",
      "expr_free_symbols method has been deprecated since SymPy 1.9. See\n",
      "https://github.com/sympy/sympy/issues/21494 for more info.\n",
      "\n",
      "  SymPyDeprecationWarning(feature=\"expr_free_symbols method\",\n"
     ]
    },
    {
     "data": {
      "text/html": [
       "<pre style=\"word-wrap: normal;white-space: pre;background: #fff0;line-height: 1.1;font-family: &quot;Courier New&quot;,Courier,monospace\">global phase: π/4\n",
       "        ┌─────────┐┌────┐┌─────────┐ ░ ┌─┐\n",
       "   q_0: ┤ Rz(π/2) ├┤ √X ├┤ Rz(π/2) ├─░─┤M├\n",
       "        └─────────┘└────┘└─────────┘ ░ └╥┘\n",
       "meas: 1/════════════════════════════════╩═\n",
       "                                        0 </pre>"
      ],
      "text/plain": [
       "global phase: π/4\n",
       "        ┌─────────┐┌────┐┌─────────┐ ░ ┌─┐\n",
       "   q_0: ┤ Rz(π/2) ├┤ √X ├┤ Rz(π/2) ├─░─┤M├\n",
       "        └─────────┘└────┘└─────────┘ ░ └╥┘\n",
       "meas: 1/════════════════════════════════╩═\n",
       "                                        0 "
      ]
     },
     "execution_count": 6,
     "metadata": {},
     "output_type": "execute_result"
    }
   ],
   "source": [
    "transpiled = transpile(qc, backend=backend)\n",
    "transpiled.draw()"
   ]
  },
  {
   "cell_type": "markdown",
   "id": "6da9a78f",
   "metadata": {},
   "source": [
    "# Create a job from the transpiled circuit and submit to the backend"
   ]
  },
  {
   "cell_type": "code",
   "execution_count": 7,
   "id": "e9f84cd2",
   "metadata": {},
   "outputs": [],
   "source": [
    "job = backend.run(transpiled)"
   ]
  },
  {
   "cell_type": "markdown",
   "id": "1d5d80e7",
   "metadata": {},
   "source": [
    "Various features of the job progress can be monitored, such as its position in the queue or whether it has been completed."
   ]
  },
  {
   "cell_type": "code",
   "execution_count": 46,
   "id": "0cdca5f7",
   "metadata": {},
   "outputs": [
    {
     "name": "stdout",
     "output_type": "stream",
     "text": [
      "Job ID: 62ac95af900bfe1d1d32ff1b\n",
      "Queue position: None\n",
      "Executing job?  False\n",
      "Completed job?  True\n"
     ]
    }
   ],
   "source": [
    "print(f'Job ID: {job.job_id()}')\n",
    "print(f'Queue position: {job.queue_position()}')\n",
    "print(f'Executing job?  {job.running()}')\n",
    "print(f'Completed job?  {job.done()}')"
   ]
  },
  {
   "cell_type": "markdown",
   "id": "6b4aec1d",
   "metadata": {},
   "source": [
    "# Once complete, the results may be retrieved"
   ]
  },
  {
   "cell_type": "code",
   "execution_count": 47,
   "id": "9b402faa",
   "metadata": {},
   "outputs": [],
   "source": [
    "retrieved_job = backend.retrieve_job(job.job_id())\n",
    "result = retrieved_job.result()"
   ]
  },
  {
   "cell_type": "code",
   "execution_count": 48,
   "id": "7d78c402",
   "metadata": {},
   "outputs": [
    {
     "data": {
      "text/plain": [
       "{'backend_name': 'ibmq_armonk',\n",
       " 'backend_version': '2.4.35',\n",
       " 'qobj_id': '875b2b31-b2bb-4416-92c5-10c1d12274fe',\n",
       " 'job_id': '62ac95af900bfe1d1d32ff1b',\n",
       " 'success': True,\n",
       " 'results': [{'shots': 4000,\n",
       "   'success': True,\n",
       "   'data': {'counts': {'0x0': 2038, '0x1': 1962}},\n",
       "   'meas_level': 2,\n",
       "   'header': {'qubit_labels': [['q', 0]],\n",
       "    'n_qubits': 1,\n",
       "    'qreg_sizes': [['q', 1]],\n",
       "    'clbit_labels': [['meas', 0]],\n",
       "    'memory_slots': 1,\n",
       "    'creg_sizes': [['meas', 1]],\n",
       "    'name': 'circuit-0',\n",
       "    'global_phase': 0.7853981633974483,\n",
       "    'metadata': {}}}],\n",
       " 'date': datetime.datetime(2022, 6, 17, 15, 58, 12, tzinfo=tzlocal()),\n",
       " 'status': 'Successful completion',\n",
       " 'header': {'backend_name': 'ibmq_armonk', 'backend_version': '2.4.35'},\n",
       " 'execution_id': 'dbdd414e-ee4d-11ec-9b61-b02628f7f59e',\n",
       " 'time_taken': 21.234611988067627,\n",
       " 'error': None,\n",
       " 'client_version': {'qiskit': '0.32.1'}}"
      ]
     },
     "execution_count": 48,
     "metadata": {},
     "output_type": "execute_result"
    }
   ],
   "source": [
    "result.to_dict()"
   ]
  },
  {
   "cell_type": "markdown",
   "id": "e52d0c4b",
   "metadata": {},
   "source": [
    "Qiskit has a number of quantum state visualization tools, such as histogram:"
   ]
  },
  {
   "cell_type": "code",
   "execution_count": 49,
   "id": "d185d543",
   "metadata": {},
   "outputs": [
    {
     "data": {
      "image/png": "[encoded data removed]",
      "text/plain": [
       "<Figure size 504x360 with 1 Axes>"
      ]
     },
     "execution_count": 49,
     "metadata": {},
     "output_type": "execute_result"
    }
   ],
   "source": [
    "from qiskit.visualization import plot_histogram\n",
    "plot_histogram(result.get_counts())"
   ]
  },
  {
   "cell_type": "markdown",
   "id": "53b0de25",
   "metadata": {},
   "source": [
    "# Now let's run a CS-VQE simulation"
   ]
  },
  {
   "cell_type": "code",
   "execution_count": 31,
   "id": "36f7f69d",
   "metadata": {},
   "outputs": [
    {
     "name": "stdout",
     "output_type": "stream",
     "text": [
      "dict_keys(['H2_3-21G_SINGLET', 'H6_STO-3G_SINGLET', 'H2_6-31G_SINGLET', 'H2_6-311G_SINGLET', 'H3+_STO-3G_SINGLET', 'H3+_3-21G_SINGLET', 'HeH+_3-21G_SINGLET', 'HeH+_6-311G_SINGLET', 'H2O_STO-3G_SINGLET', 'BeH+_STO-3G_SINGLET', 'LiOH_STO-3G_SINGLET', 'LiH_STO-3G_SINGLET', 'NaH_STO-3G_SINGLET', 'LiH_3-21G_SINGLET', 'CH+_STO-3G_SINGLET', 'HF_STO-3G_SINGLET', 'HF_3-21G_SINGLET', 'B+_STO-3G_SINGLET', 'B_STO-3G_DOUBLET', 'N_STO-3G_QUARTET', 'OH-_STO-3G_SINGLET', 'O_STO-3G_TRIPLET', 'CH2_STO-3G_TRIPLET', 'BeH2_STO-3G_SINGLET', 'Be_STO-3G_SINGLET', 'C_STO-3G_TRIPLET', 'NH_STO-3G_SINGLET', 'Ne_STO-3G_SINGLET', 'F_STO-3G_DOUBLET', 'Li_STO-3G_DOUBLET', 'BH_STO-3G_SINGLET', 'NeH+_STO-3G_SINGLET', 'NH2-_STO-3G_SINGLET', 'BH3_STO-3G_SINGLET', 'BH2+_STO-3G_SINGLET', 'HCl_STO-3G_SINGLET', 'H4_STO-3G_SINGLET', 'NH3_STO-3G_SINGLET', 'NH4+_STO-3G_SINGLET', 'MgH2_STO-3G_SINGLET', 'Mg_STO-3G_SINGLET', 'F2_STO-3G_SINGLET', 'HCN_STO-3G_SINGLET', 'CH4_STO-3G_SINGLET', 'CH3NHCH3_STO-3G_SINGLET', 'CH3CH2NH2_STO-3G_SINGLET', 'CH3CH2OH_STO-3G_SINGLET', 'CH3OH_STO-3G_SINGLET', 'C2H6_STO-3G_SINGLET', 'CH3CN_STO-3G_SINGLET', 'CH3CHO_STO-3G_SINGLET', 'CH3CHOHCH3_STO-3G_SINGLET', 'CHONH2_STO-3G_SINGLET', 'CH3OCH3_STO-3G_SINGLET', 'C2H5F_STO-3G_SINGLET', 'CH3COCH3_STO-3G_SINGLET', 'C6H6_STO-3G_SINGLET', 'N2_STO-3G_SINGLET', 'CO_STO-3G_SINGLET', 'CO2_STO-3G_SINGLET', 'O2_STO-3G_SINGLET', 'O3_STO-3G_SINGLET', 'HOOH_STO-3G_SINGLET', 'NaCl_STO-3G_SINGLET', 'H2S_STO-3G_SINGLET', 'SiH4_STO-3G_SINGLET'])\n"
     ]
    }
   ],
   "source": [
    "import json\n",
    "with open('../data/molecule_data.json', 'r') as jfile:\n",
    "    molecule_geometries = json.load(jfile)\n",
    "print(molecule_geometries.keys())"
   ]
  },
  {
   "cell_type": "markdown",
   "id": "8732caae",
   "metadata": {},
   "source": [
    "Build the molecule:"
   ]
  },
  {
   "cell_type": "code",
   "execution_count": 32,
   "id": "20dde324",
   "metadata": {},
   "outputs": [
    {
     "name": "stdout",
     "output_type": "stream",
     "text": [
      "Be_STO-3G_SINGLET\n",
      "Molecule geometry:\n",
      "Be\t0\t0\t0\n",
      "\n",
      "HF converged?   True\n",
      "CCSD converged? True\n",
      "FCI converged?  True\n",
      "\n",
      "HF energy:   -14.351880476202023\n",
      "MP2 energy:  -14.376238850841515\n",
      "CCSD energy: -14.403650751752787\n",
      "FCI energy:  -14.403655108067682\n",
      "\n",
      "\n",
      "Number of qubits: 10\n"
     ]
    }
   ],
   "source": [
    "from symmer.chem import MoleculeBuilder\n",
    "from symmer.projection import QubitTapering, CS_VQE, StabilizerIdentification\n",
    "\n",
    "speciesname = 'Be_STO-3G_SINGLET'\n",
    "print(speciesname)\n",
    "# build the molecule\n",
    "mol_data = molecule_geometries[speciesname]\n",
    "atoms  = mol_data['atoms']\n",
    "coords = mol_data['coords']\n",
    "charge = mol_data['charge']\n",
    "basis = mol_data['basis']\n",
    "geometry = list(zip(atoms, coords))\n",
    "molecule = MoleculeBuilder(geometry=geometry, charge=charge, basis=basis, spin=0, run_fci=True, print_info=True)"
   ]
  },
  {
   "cell_type": "markdown",
   "id": "87d4a22b",
   "metadata": {},
   "source": [
    "Taper the Hamiltonian:"
   ]
  },
  {
   "cell_type": "code",
   "execution_count": 33,
   "id": "56ad9440",
   "metadata": {},
   "outputs": [
    {
     "name": "stdout",
     "output_type": "stream",
     "text": [
      "Qubit tapering permitted a reduction of 10 -> 5 qubits\n",
      "\n",
      "The following stabilizers were identified:\n",
      "\n",
      " 1 ZIZIIZIZIZ \n",
      " 1 IZIZIZIZIZ \n",
      " 1 IIIIZZIIII \n",
      " 1 IIIIIIZZII \n",
      " 1 IIIIIIIIZZ\n"
     ]
    }
   ],
   "source": [
    "# taper the Hamiltonian\n",
    "qubit_tapering = QubitTapering(molecule.H_q)\n",
    "hf_array = molecule.H_fermion.hf_comp_basis_state\n",
    "qubit_tapering.stabilizers.update_sector(hf_array)\n",
    "ham_tap = qubit_tapering.taper_it(ref_state=hf_array)\n",
    "ucc_tap = qubit_tapering.taper_it(aux_operator=molecule.T_q, ref_state=hf_array)\n",
    "hf_tapered = qubit_tapering.tapered_ref_state\n",
    "\n",
    "print(f'Qubit tapering permitted a reduction of {molecule.H_q.n_qubits} -> {ham_tap.n_qubits} qubits\\n')\n",
    "print('The following stabilizers were identified:\\n')\n",
    "print(qubit_tapering.stabilizers)"
   ]
  },
  {
   "cell_type": "markdown",
   "id": "42eac5e4",
   "metadata": {},
   "source": [
    "Build CS-VQE model and find optimal stabilizers:"
   ]
  },
  {
   "cell_type": "code",
   "execution_count": 36,
   "id": "09591db7",
   "metadata": {},
   "outputs": [],
   "source": [
    "n_qubits = 3\n",
    "# CS-VQE and stabilizer identification\n",
    "cs_vqe = CS_VQE(ham_tap, hf_tapered, basis_weighting_operator=ucc_tap, noncontextual_form='diag')\n",
    "CC_stabilizers = StabilizerIdentification(ucc_tap)\n",
    "S = CC_stabilizers.symmetry_basis_by_subspace_dimension(n_qubits)\n",
    "ham_cs = cs_vqe.project_onto_subspace(S, enforce_clique_operator=False)"
   ]
  },
  {
   "cell_type": "code",
   "execution_count": 37,
   "id": "66e74586",
   "metadata": {},
   "outputs": [
    {
     "data": {
      "text/plain": [
       "PauliSumOp(SparsePauliOp(['III', 'IIZ', 'IZI', 'IZZ', 'ZII', 'ZIZ', 'ZZI', 'ZZZ', 'IIX', 'ZZX', 'IXI', 'ZXZ', 'IXX', 'IYY', 'XII', 'XZZ', 'XIX', 'YIY', 'XXI', 'YYI'],\n",
       "              coeffs=[-12.488598  +0.j,  -0.85829425+0.j,  -0.85829425+0.j,   0.02304318+0.j,\n",
       "  -0.85829425+0.j,   0.02304318+0.j,   0.02304318+0.j,   0.64247074+0.j,\n",
       "  -0.04340449+0.j,  -0.04340449+0.j,  -0.04340449+0.j,  -0.04340449+0.j,\n",
       "   0.01212469+0.j,   0.01212469+0.j,  -0.04340449+0.j,  -0.04340449+0.j,\n",
       "   0.01212469+0.j,   0.01212469+0.j,   0.01212469+0.j,   0.01212469+0.j]), coeff=1.0)"
      ]
     },
     "execution_count": 37,
     "metadata": {},
     "output_type": "execute_result"
    }
   ],
   "source": [
    "ham_cs.to_PauliSumOp"
   ]
  },
  {
   "cell_type": "markdown",
   "id": "e09671b7",
   "metadata": {},
   "source": [
    "# Build an Ansatz"
   ]
  },
  {
   "cell_type": "code",
   "execution_count": 39,
   "id": "d0684c02",
   "metadata": {},
   "outputs": [
    {
     "data": {
      "text/html": [
       "<pre style=\"word-wrap: normal;white-space: pre;background: #fff0;line-height: 1.1;font-family: &quot;Courier New&quot;,Courier,monospace\">     ┌──────────┐┌──────────┐ ░            ░ ┌──────────┐ ┌──────────┐\n",
       "q_0: ┤ Ry(θ[0]) ├┤ Rz(θ[3]) ├─░───■────────░─┤ Ry(θ[6]) ├─┤ Rz(θ[9]) ├\n",
       "     ├──────────┤├──────────┤ ░ ┌─┴─┐      ░ ├──────────┤┌┴──────────┤\n",
       "q_1: ┤ Ry(θ[1]) ├┤ Rz(θ[4]) ├─░─┤ X ├──■───░─┤ Ry(θ[7]) ├┤ Rz(θ[10]) ├\n",
       "     ├──────────┤├──────────┤ ░ └───┘┌─┴─┐ ░ ├──────────┤├───────────┤\n",
       "q_2: ┤ Ry(θ[2]) ├┤ Rz(θ[5]) ├─░──────┤ X ├─░─┤ Ry(θ[8]) ├┤ Rz(θ[11]) ├\n",
       "     └──────────┘└──────────┘ ░      └───┘ ░ └──────────┘└───────────┘</pre>"
      ],
      "text/plain": [
       "     ┌──────────┐┌──────────┐ ░            ░ ┌──────────┐ ┌──────────┐\n",
       "q_0: ┤ Ry(θ[0]) ├┤ Rz(θ[3]) ├─░───■────────░─┤ Ry(θ[6]) ├─┤ Rz(θ[9]) ├\n",
       "     ├──────────┤├──────────┤ ░ ┌─┴─┐      ░ ├──────────┤┌┴──────────┤\n",
       "q_1: ┤ Ry(θ[1]) ├┤ Rz(θ[4]) ├─░─┤ X ├──■───░─┤ Ry(θ[7]) ├┤ Rz(θ[10]) ├\n",
       "     ├──────────┤├──────────┤ ░ └───┘┌─┴─┐ ░ ├──────────┤├───────────┤\n",
       "q_2: ┤ Ry(θ[2]) ├┤ Rz(θ[5]) ├─░──────┤ X ├─░─┤ Ry(θ[8]) ├┤ Rz(θ[11]) ├\n",
       "     └──────────┘└──────────┘ ░      └───┘ ░ └──────────┘└───────────┘"
      ]
     },
     "execution_count": 39,
     "metadata": {},
     "output_type": "execute_result"
    }
   ],
   "source": [
    "from qiskit.circuit.library import EfficientSU2\n",
    "\n",
    "ansatz = EfficientSU2(num_qubits=n_qubits, reps=1, entanglement=\"linear\", insert_barriers=True)\n",
    "ansatz.decompose().draw()#\"mpl\", style=\"iqx\")"
   ]
  },
  {
   "cell_type": "markdown",
   "id": "4fab4c37",
   "metadata": {},
   "source": [
    "# Define the classical optimizer for VQE"
   ]
  },
  {
   "cell_type": "markdown",
   "id": "d46a28cb",
   "metadata": {},
   "source": [
    "# Initiate the Qiskit VQE object and run"
   ]
  },
  {
   "cell_type": "code",
   "execution_count": 12,
   "id": "b524d01f",
   "metadata": {},
   "outputs": [],
   "source": [
    "from qiskit_nature.runtime import VQEProgram\n",
    "\n",
    "# Pass an qiskit.algorithms.optimizer.Optimizer object (like the ``optimizer`` variable from before)\n",
    "# or SPSA/QN-SPSA as dictionary. Here we're using the dictionary version\n",
    "optimizer = {\n",
    "    \"name\": \"QN-SPSA\",  # leverage the Quantum Natural SPSA\n",
    "    # 'name': 'SPSA',  # set to ordinary SPSA\n",
    "    \"maxiter\": 100,\n",
    "    \"resamplings\": {1: 100},  # 100 samples of the QFI for the first step, then 1 sample per step\n",
    "}"
   ]
  },
  {
   "cell_type": "code",
   "execution_count": 13,
   "id": "ac29164f",
   "metadata": {},
   "outputs": [
    {
     "ename": "NameError",
     "evalue": "name 'initial_point' is not defined",
     "output_type": "error",
     "traceback": [
      "\u001b[0;31m---------------------------------------------------------------------------\u001b[0m",
      "\u001b[0;31mNameError\u001b[0m                                 Traceback (most recent call last)",
      "\u001b[0;32m/tmp/ipykernel_18899/838880058.py\u001b[0m in \u001b[0;36m<module>\u001b[0;34m\u001b[0m\n\u001b[1;32m      2\u001b[0m     \u001b[0mansatz\u001b[0m\u001b[0;34m=\u001b[0m\u001b[0mansatz\u001b[0m\u001b[0;34m,\u001b[0m\u001b[0;34m\u001b[0m\u001b[0;34m\u001b[0m\u001b[0m\n\u001b[1;32m      3\u001b[0m     \u001b[0moptimizer\u001b[0m\u001b[0;34m=\u001b[0m\u001b[0moptimizer\u001b[0m\u001b[0;34m,\u001b[0m\u001b[0;34m\u001b[0m\u001b[0;34m\u001b[0m\u001b[0m\n\u001b[0;32m----> 4\u001b[0;31m     \u001b[0minitial_point\u001b[0m\u001b[0;34m=\u001b[0m\u001b[0minitial_point\u001b[0m\u001b[0;34m,\u001b[0m\u001b[0;34m\u001b[0m\u001b[0;34m\u001b[0m\u001b[0m\n\u001b[0m\u001b[1;32m      5\u001b[0m     \u001b[0mprovider\u001b[0m\u001b[0;34m=\u001b[0m\u001b[0mprovider\u001b[0m\u001b[0;34m,\u001b[0m\u001b[0;34m\u001b[0m\u001b[0;34m\u001b[0m\u001b[0m\n\u001b[1;32m      6\u001b[0m     \u001b[0mbackend\u001b[0m\u001b[0;34m=\u001b[0m\u001b[0mbackend\u001b[0m\u001b[0;34m,\u001b[0m\u001b[0;34m\u001b[0m\u001b[0;34m\u001b[0m\u001b[0m\n",
      "\u001b[0;31mNameError\u001b[0m: name 'initial_point' is not defined"
     ]
    }
   ],
   "source": [
    "runtime_vqe = VQEProgram(\n",
    "    ansatz=ansatz,\n",
    "    optimizer=optimizer,\n",
    "    initial_point=initial_point,\n",
    "    provider=provider,\n",
    "    backend=backend,\n",
    "    shots=1024,\n",
    "    measurement_error_mitigation=True\n",
    ")"
   ]
  },
  {
   "cell_type": "code",
   "execution_count": 59,
   "id": "838474b9",
   "metadata": {},
   "outputs": [
    {
     "ename": "KeyboardInterrupt",
     "evalue": "",
     "output_type": "error",
     "traceback": [
      "\u001b[0;31m---------------------------------------------------------------------------\u001b[0m",
      "\u001b[0;31mKeyboardInterrupt\u001b[0m                         Traceback (most recent call last)",
      "\u001b[0;32m/tmp/ipykernel_18010/4202782015.py\u001b[0m in \u001b[0;36m<module>\u001b[0;34m\u001b[0m\n\u001b[0;32m----> 1\u001b[0;31m \u001b[0mvqe_job\u001b[0m \u001b[0;34m=\u001b[0m \u001b[0mruntime_vqe\u001b[0m\u001b[0;34m.\u001b[0m\u001b[0mcompute_minimum_eigenvalue\u001b[0m\u001b[0;34m(\u001b[0m\u001b[0moperator\u001b[0m\u001b[0;34m=\u001b[0m\u001b[0mham_cs\u001b[0m\u001b[0;34m.\u001b[0m\u001b[0mto_PauliSumOp\u001b[0m\u001b[0;34m)\u001b[0m\u001b[0;34m\u001b[0m\u001b[0;34m\u001b[0m\u001b[0m\n\u001b[0m",
      "\u001b[0;32m~/.local/lib/python3.8/site-packages/qiskit_nature/runtime/vqe_program.py\u001b[0m in \u001b[0;36mcompute_minimum_eigenvalue\u001b[0;34m(self, operator, aux_operators)\u001b[0m\n\u001b[1;32m    280\u001b[0m         \u001b[0;31m# print job ID if something goes wrong\u001b[0m\u001b[0;34m\u001b[0m\u001b[0;34m\u001b[0m\u001b[0;34m\u001b[0m\u001b[0m\n\u001b[1;32m    281\u001b[0m         \u001b[0;32mtry\u001b[0m\u001b[0;34m:\u001b[0m\u001b[0;34m\u001b[0m\u001b[0;34m\u001b[0m\u001b[0m\n\u001b[0;32m--> 282\u001b[0;31m             \u001b[0mresult\u001b[0m \u001b[0;34m=\u001b[0m \u001b[0mjob\u001b[0m\u001b[0;34m.\u001b[0m\u001b[0mresult\u001b[0m\u001b[0;34m(\u001b[0m\u001b[0;34m)\u001b[0m\u001b[0;34m\u001b[0m\u001b[0;34m\u001b[0m\u001b[0m\n\u001b[0m\u001b[1;32m    283\u001b[0m         \u001b[0;32mexcept\u001b[0m \u001b[0mException\u001b[0m \u001b[0;32mas\u001b[0m \u001b[0mexc\u001b[0m\u001b[0;34m:\u001b[0m\u001b[0;34m\u001b[0m\u001b[0;34m\u001b[0m\u001b[0m\n\u001b[1;32m    284\u001b[0m             \u001b[0;32mraise\u001b[0m \u001b[0mRuntimeError\u001b[0m\u001b[0;34m(\u001b[0m\u001b[0;34mf\"The job {job.job_id()} failed unexpectedly.\"\u001b[0m\u001b[0;34m)\u001b[0m \u001b[0;32mfrom\u001b[0m \u001b[0mexc\u001b[0m\u001b[0;34m\u001b[0m\u001b[0;34m\u001b[0m\u001b[0m\n",
      "\u001b[0;32m~/anaconda3/lib/python3.8/site-packages/qiskit/providers/ibmq/runtime/runtime_job.py\u001b[0m in \u001b[0;36mresult\u001b[0;34m(self, timeout, wait, decoder)\u001b[0m\n\u001b[1;32m    147\u001b[0m         \u001b[0m_decoder\u001b[0m \u001b[0;34m=\u001b[0m \u001b[0mdecoder\u001b[0m \u001b[0;32mor\u001b[0m \u001b[0mself\u001b[0m\u001b[0;34m.\u001b[0m\u001b[0m_result_decoder\u001b[0m\u001b[0;34m\u001b[0m\u001b[0;34m\u001b[0m\u001b[0m\n\u001b[1;32m    148\u001b[0m         \u001b[0;32mif\u001b[0m \u001b[0mself\u001b[0m\u001b[0;34m.\u001b[0m\u001b[0m_results\u001b[0m \u001b[0;32mis\u001b[0m \u001b[0;32mNone\u001b[0m \u001b[0;32mor\u001b[0m \u001b[0;34m(\u001b[0m\u001b[0m_decoder\u001b[0m \u001b[0;34m!=\u001b[0m \u001b[0mself\u001b[0m\u001b[0;34m.\u001b[0m\u001b[0m_result_decoder\u001b[0m\u001b[0;34m)\u001b[0m\u001b[0;34m:\u001b[0m\u001b[0;34m\u001b[0m\u001b[0;34m\u001b[0m\u001b[0m\n\u001b[0;32m--> 149\u001b[0;31m             \u001b[0mself\u001b[0m\u001b[0;34m.\u001b[0m\u001b[0mwait_for_final_state\u001b[0m\u001b[0;34m(\u001b[0m\u001b[0mtimeout\u001b[0m\u001b[0;34m=\u001b[0m\u001b[0mtimeout\u001b[0m\u001b[0;34m,\u001b[0m \u001b[0mwait\u001b[0m\u001b[0;34m=\u001b[0m\u001b[0mwait\u001b[0m\u001b[0;34m)\u001b[0m\u001b[0;34m\u001b[0m\u001b[0;34m\u001b[0m\u001b[0m\n\u001b[0m\u001b[1;32m    150\u001b[0m             \u001b[0;32mif\u001b[0m \u001b[0mself\u001b[0m\u001b[0;34m.\u001b[0m\u001b[0m_status\u001b[0m \u001b[0;34m==\u001b[0m \u001b[0mJobStatus\u001b[0m\u001b[0;34m.\u001b[0m\u001b[0mERROR\u001b[0m\u001b[0;34m:\u001b[0m\u001b[0;34m\u001b[0m\u001b[0;34m\u001b[0m\u001b[0m\n\u001b[1;32m    151\u001b[0m                 raise RuntimeJobFailureError(f\"Unable to retrieve job result. \"\n",
      "\u001b[0;32m~/anaconda3/lib/python3.8/site-packages/qiskit/providers/ibmq/runtime/runtime_job.py\u001b[0m in \u001b[0;36mwait_for_final_state\u001b[0;34m(self, timeout, wait)\u001b[0m\n\u001b[1;32m    211\u001b[0m                 raise JobTimeoutError(\n\u001b[1;32m    212\u001b[0m                     'Timeout while waiting for job {}.'.format(self.job_id()))\n\u001b[0;32m--> 213\u001b[0;31m             \u001b[0mtime\u001b[0m\u001b[0;34m.\u001b[0m\u001b[0msleep\u001b[0m\u001b[0;34m(\u001b[0m\u001b[0mwait\u001b[0m\u001b[0;34m)\u001b[0m\u001b[0;34m\u001b[0m\u001b[0;34m\u001b[0m\u001b[0m\n\u001b[0m\u001b[1;32m    214\u001b[0m             \u001b[0mstatus\u001b[0m \u001b[0;34m=\u001b[0m \u001b[0mself\u001b[0m\u001b[0;34m.\u001b[0m\u001b[0mstatus\u001b[0m\u001b[0;34m(\u001b[0m\u001b[0;34m)\u001b[0m\u001b[0;34m\u001b[0m\u001b[0;34m\u001b[0m\u001b[0m\n\u001b[1;32m    215\u001b[0m \u001b[0;34m\u001b[0m\u001b[0m\n",
      "\u001b[0;31mKeyboardInterrupt\u001b[0m: "
     ]
    }
   ],
   "source": [
    "vqe_job = runtime_vqe.compute_minimum_eigenvalue(operator=ham_cs.to_PauliSumOp)"
   ]
  },
  {
   "cell_type": "code",
   "execution_count": 60,
   "id": "7dd2647c",
   "metadata": {},
   "outputs": [
    {
     "ename": "NameError",
     "evalue": "name 'vqe_job' is not defined",
     "output_type": "error",
     "traceback": [
      "\u001b[0;31m---------------------------------------------------------------------------\u001b[0m",
      "\u001b[0;31mNameError\u001b[0m                                 Traceback (most recent call last)",
      "\u001b[0;32m/tmp/ipykernel_18010/1025353777.py\u001b[0m in \u001b[0;36m<module>\u001b[0;34m\u001b[0m\n\u001b[0;32m----> 1\u001b[0;31m \u001b[0mprint\u001b[0m\u001b[0;34m(\u001b[0m\u001b[0;34mf'Job ID: {vqe_job.job_id()}'\u001b[0m\u001b[0;34m)\u001b[0m\u001b[0;34m\u001b[0m\u001b[0;34m\u001b[0m\u001b[0m\n\u001b[0m\u001b[1;32m      2\u001b[0m \u001b[0mprint\u001b[0m\u001b[0;34m(\u001b[0m\u001b[0;34mf'Queue position: {vqe_job.queue_position()}'\u001b[0m\u001b[0;34m)\u001b[0m\u001b[0;34m\u001b[0m\u001b[0;34m\u001b[0m\u001b[0m\n\u001b[1;32m      3\u001b[0m \u001b[0mprint\u001b[0m\u001b[0;34m(\u001b[0m\u001b[0;34mf'Executing job?  {vqe_job.running()}'\u001b[0m\u001b[0;34m)\u001b[0m\u001b[0;34m\u001b[0m\u001b[0;34m\u001b[0m\u001b[0m\n\u001b[1;32m      4\u001b[0m \u001b[0mprint\u001b[0m\u001b[0;34m(\u001b[0m\u001b[0;34mf'Completed job?  {vqe_job.done()}'\u001b[0m\u001b[0;34m)\u001b[0m\u001b[0;34m\u001b[0m\u001b[0;34m\u001b[0m\u001b[0m\n",
      "\u001b[0;31mNameError\u001b[0m: name 'vqe_job' is not defined"
     ]
    }
   ],
   "source": [
    "print(f'Job ID: {vqe_job.job_id()}')\n",
    "print(f'Queue position: {vqe_job.queue_position()}')\n",
    "print(f'Executing job?  {vqe_job.running()}')\n",
    "print(f'Completed job?  {vqe_job.done()}')"
   ]
  },
  {
   "cell_type": "code",
   "execution_count": null,
   "id": "6b8142fa",
   "metadata": {},
   "outputs": [],
   "source": [
    "retrieved_job = backend.retrieve_job(vqe_job.job_id())\n",
    "result = retrieved_job.result()"
   ]
  },
  {
   "cell_type": "code",
   "execution_count": null,
   "id": "a20dda32",
   "metadata": {},
   "outputs": [],
   "source": [
    "result.to_dict()"
   ]
  },
  {
   "cell_type": "code",
   "execution_count": 5,
   "id": "8d650630",
   "metadata": {},
   "outputs": [],
   "source": [
    "from qiskit_ibm_runtime import QiskitRuntimeService\n",
    "#token = \"79d7ac8b5e8ccb0dc53055b301ee7f02eaa147024039f20d1c5af280fc066c6426739e194af6f7fa44c27004aa7ed9a22df031085512b2f97d77207b9c2534fb\"\n",
    "#QiskitRuntimeService.save_account(channel=\"ibm_quantum\", token=token)"
   ]
  },
  {
   "cell_type": "code",
   "execution_count": 18,
   "id": "61e49c8a",
   "metadata": {},
   "outputs": [],
   "source": [
    "service = QiskitRuntimeService(channel='ibm_quantum')"
   ]
  },
  {
   "cell_type": "code",
   "execution_count": 29,
   "id": "ee69400d",
   "metadata": {},
   "outputs": [
    {
     "name": "stdout",
     "output_type": "stream",
     "text": [
      "ibmq_qasm_simulator backend has 15 queued jobs.\n",
      "ibmq_armonk backend has 0 queued jobs.\n",
      "ibmq_santiago backend has 84 queued jobs.\n",
      "ibmq_bogota backend has 248 queued jobs.\n",
      "ibmq_lima backend has 28 queued jobs.\n",
      "ibmq_belem backend has 24 queued jobs.\n",
      "ibmq_quito backend has 29 queued jobs.\n",
      "simulator_statevector backend has 16 queued jobs.\n",
      "simulator_mps backend has 16 queued jobs.\n",
      "simulator_extended_stabilizer backend has 16 queued jobs.\n",
      "simulator_stabilizer backend has 16 queued jobs.\n",
      "ibmq_manila backend has 232 queued jobs.\n",
      "ibm_oslo backend has 10 queued jobs.\n"
     ]
    }
   ],
   "source": [
    "for name in service.backends():\n",
    "    print(f'{name.name} backend has {name.status().pending_jobs} queued jobs.')"
   ]
  },
  {
   "cell_type": "code",
   "execution_count": 70,
   "id": "7e31895a",
   "metadata": {},
   "outputs": [],
   "source": [
    "from qiskit_ibm_runtime import QiskitRuntimeService\n",
    "backend_name = 'simulator_statevector'\n",
    "options = {\n",
    "    'backend_name': backend_name\n",
    "}\n",
    "\n",
    "optimizer = {\n",
    "    \"name\": \"QN-SPSA\",  # leverage the Quantum Natural SPSA\n",
    "    # 'name': 'SPSA',  # set to ordinary SPSA\n",
    "    \"maxiter\": 100,\n",
    "    \"resamplings\": {1: 100},  # 100 samples of the QFI for the first step, then 1 sample per step\n",
    "}\n",
    "\n",
    "runtime_inputs = {\n",
    "    'ansatz': ansatz,\n",
    "    'initial_parameters': None,\n",
    "    'operator': ham_cs.to_PauliSumOp,\n",
    "    'optimizer': optimizer,\n",
    "    # 'aux_operators': None, # array\n",
    "    # 'initial_layout': None, # [null,array,object]\n",
    "    'measurement_error_mitigation': True, # boolean\n",
    "    # 'shots': 1024 # integer\n",
    "}\n",
    "\n",
    "job = service.run(\n",
    "    program_id='vqe',\n",
    "    options=options,\n",
    "    inputs=runtime_inputs,\n",
    "    instance='ibm-q/open/main'\n",
    ")"
   ]
  },
  {
   "cell_type": "code",
   "execution_count": 82,
   "id": "a2ceeab7",
   "metadata": {},
   "outputs": [
    {
     "name": "stdout",
     "output_type": "stream",
     "text": [
      "Job ID: cam9rsct0i3e1o6f4b1g\n",
      "Job staus: JobStatus.ERROR\n"
     ]
    }
   ],
   "source": [
    "print(f'Job ID: {job.job_id}')\n",
    "print(f'Job staus: {job.status()}')"
   ]
  },
  {
   "cell_type": "code",
   "execution_count": 83,
   "id": "1f36f8b6",
   "metadata": {},
   "outputs": [],
   "source": [
    "job.interim_results()"
   ]
  },
  {
   "cell_type": "code",
   "execution_count": 84,
   "id": "8ea21b0f",
   "metadata": {},
   "outputs": [
    {
     "ename": "RuntimeJobFailureError",
     "evalue": "'Unable to retrieve job result. Job cam9rsct0i3e1o6f4b1g has failed:\\n2022-06-17T15:29:58.625666702Z 06/17/2022 03:29:58 PM - jaeger_tracing - INFO Initializing Jaeger Tracer with UDP reporter\\n2022-06-17T15:29:58.631674293Z 06/17/2022 03:29:58 PM - jaeger_tracing - INFO Using sampler ConstSampler(True)\\n2022-06-17T15:29:58.632497629Z 06/17/2022 03:29:58 PM - jaeger_tracing - INFO opentracing.tracer initialized to <jaeger_client.tracer.Tracer object at 0x7fb993fe36d0>[app_name=ntc-job]\\n2022-06-17T15:29:58.633764519Z 06/17/2022 03:29:58 PM - programruntime.program_starter_wrapper - INFO Executing program.py (job cam9rsct0i3e1o6f4b1g)\\n2022-06-17T15:29:58.641203124Z --- Logging error ---\\n2022-06-17T15:29:58.641214822Z Traceback (most recent call last):\\n2022-06-17T15:29:58.641219581Z   File \"/provider/programruntime/program_starter_wrapper.py\", line 70, in execute\\n2022-06-17T15:29:58.641227232Z     final_result = self.main(backend, self.messenger, **self.user_params)\\n2022-06-17T15:29:58.641232333Z   File \"/code/program.py\", line 1144, in main\\n2022-06-17T15:29:58.641237137Z     _quantum_instance = QuantumInstance(\\n2022-06-17T15:29:58.641242045Z   File \"/usr/local/lib/python3.8/site-packages/qiskit/utils/quantum_instance.py\", line 332, in __init__\\n2022-06-17T15:29:58.641246747Z     raise QiskitError(\\n2022-06-17T15:29:58.641251357Z qiskit.exceptions.QiskitError: \\'Measurement error mitigation does not work with the statevector simulation.\\'\\n2022-06-17T15:29:58.641255789Z \\n2022-06-17T15:29:58.641260262Z During handling of the above exception, another exception occurred:\\n2022-06-17T15:29:58.641270460Z \\n2022-06-17T15:29:58.641274343Z Traceback (most recent call last):\\n2022-06-17T15:29:58.641280236Z   File \"/usr/local/lib/python3.8/logging/__init__.py\", line 1085, in emit\\n2022-06-17T15:29:58.641284825Z     msg = self.format(record)\\n2022-06-17T15:29:58.641288419Z   File \"/usr/local/lib/python3.8/logging/__init__.py\", line 929, in format\\n2022-06-17T15:29:58.641289674Z     return fmt.format(record)\\n2022-06-17T15:29:58.641294207Z   File \"/usr/local/lib/python3.8/logging/__init__.py\", line 668, in format\\n2022-06-17T15:29:58.641298693Z     record.message = record.getMessage()\\n2022-06-17T15:29:58.641304683Z   File \"/usr/local/lib/python3.8/logging/__init__.py\", line 373, in getMessage\\n2022-06-17T15:29:58.641309163Z     msg = msg % self.args\\n2022-06-17T15:29:58.641313915Z TypeError: not all arguments converted during string formatting\\n2022-06-17T15:29:58.641318658Z Call stack:\\n2022-06-17T15:29:58.641323473Z   File \"/code/program_starter.py\", line 55, in <module>\\n2022-06-17T15:29:58.641328261Z     starter.execute()\\n2022-06-17T15:29:58.641333024Z   File \"/provider/programruntime/program_starter_wrapper.py\", line 74, in execute\\n2022-06-17T15:29:58.641337949Z     logger.error(f\"Error executing program job {self.provider.execution_id}\", ex)\\n2022-06-17T15:29:58.641344040Z Message: \\'Error executing program job cam9rsct0i3e1o6f4b1g\\'\\n2022-06-17T15:29:58.641348704Z Arguments: (QiskitError(\\'Measurement error mitigation does not work with the statevector simulation.\\'),)\\n2022-06-17T15:29:58.641353214Z 06/17/2022 03:29:58 PM - jaeger_tracing - INFO Span publisher exited\\n2022-06-17T15:29:58.641914063Z Traceback (most recent call last):\\n2022-06-17T15:29:58.641924692Z   File \"/code/program_starter.py\", line 55, in <module>\\n2022-06-17T15:29:58.641931003Z     starter.execute()\\n2022-06-17T15:29:58.641934449Z   File \"/provider/programruntime/program_starter_wrapper.py\", line 76, in execute\\n2022-06-17T15:29:58.641939861Z     raise ex\\n2022-06-17T15:29:58.641944533Z   File \"/provider/programruntime/program_starter_wrapper.py\", line 70, in execute\\n2022-06-17T15:29:58.641949317Z     final_result = self.main(backend, self.messenger, **self.user_params)\\n2022-06-17T15:29:58.641955011Z   File \"/code/program.py\", line 1144, in main\\n2022-06-17T15:29:58.641968504Z     _quantum_instance = QuantumInstance(\\n2022-06-17T15:29:58.641973481Z   File \"/usr/local/lib/python3.8/site-packages/qiskit/utils/quantum_instance.py\", line 332, in __init__\\n2022-06-17T15:29:58.641977920Z     raise QiskitError(\\n2022-06-17T15:29:58.641982522Z qiskit.exceptions.QiskitError: \\'Measurement error mitigation does not work with the statevector simulation.\\'\\n'",
     "output_type": "error",
     "traceback": [
      "\u001b[0;31m---------------------------------------------------------------------------\u001b[0m",
      "\u001b[0;31mRuntimeJobFailureError\u001b[0m                    Traceback (most recent call last)",
      "\u001b[0;32m/tmp/ipykernel_19311/1801179568.py\u001b[0m in \u001b[0;36m<module>\u001b[0;34m\u001b[0m\n\u001b[1;32m      1\u001b[0m \u001b[0;31m# Get results\u001b[0m\u001b[0;34m\u001b[0m\u001b[0;34m\u001b[0m\u001b[0;34m\u001b[0m\u001b[0m\n\u001b[0;32m----> 2\u001b[0;31m \u001b[0mresult\u001b[0m \u001b[0;34m=\u001b[0m \u001b[0mjob\u001b[0m\u001b[0;34m.\u001b[0m\u001b[0mresult\u001b[0m\u001b[0;34m(\u001b[0m\u001b[0;34m)\u001b[0m\u001b[0;34m\u001b[0m\u001b[0;34m\u001b[0m\u001b[0m\n\u001b[0m\u001b[1;32m      3\u001b[0m \u001b[0mresult\u001b[0m\u001b[0;34m[\u001b[0m\u001b[0;34m'optimal_value'\u001b[0m\u001b[0;34m]\u001b[0m\u001b[0;34m\u001b[0m\u001b[0;34m\u001b[0m\u001b[0m\n",
      "\u001b[0;32m~/anaconda3/lib/python3.8/site-packages/qiskit_ibm_runtime/runtime_job.py\u001b[0m in \u001b[0;36mresult\u001b[0;34m(self, timeout, decoder)\u001b[0m\n\u001b[1;32m    177\u001b[0m             \u001b[0mself\u001b[0m\u001b[0;34m.\u001b[0m\u001b[0mwait_for_final_state\u001b[0m\u001b[0;34m(\u001b[0m\u001b[0mtimeout\u001b[0m\u001b[0;34m=\u001b[0m\u001b[0mtimeout\u001b[0m\u001b[0;34m)\u001b[0m\u001b[0;34m\u001b[0m\u001b[0;34m\u001b[0m\u001b[0m\n\u001b[1;32m    178\u001b[0m             \u001b[0;32mif\u001b[0m \u001b[0mself\u001b[0m\u001b[0;34m.\u001b[0m\u001b[0m_status\u001b[0m \u001b[0;34m==\u001b[0m \u001b[0mJobStatus\u001b[0m\u001b[0;34m.\u001b[0m\u001b[0mERROR\u001b[0m\u001b[0;34m:\u001b[0m\u001b[0;34m\u001b[0m\u001b[0;34m\u001b[0m\u001b[0m\n\u001b[0;32m--> 179\u001b[0;31m                 raise RuntimeJobFailureError(\n\u001b[0m\u001b[1;32m    180\u001b[0m                     \u001b[0;34mf\"Unable to retrieve job result. \"\u001b[0m \u001b[0;34mf\"{self.error_message()}\"\u001b[0m\u001b[0;34m\u001b[0m\u001b[0;34m\u001b[0m\u001b[0m\n\u001b[1;32m    181\u001b[0m                 )\n",
      "\u001b[0;31mRuntimeJobFailureError\u001b[0m: 'Unable to retrieve job result. Job cam9rsct0i3e1o6f4b1g has failed:\\n2022-06-17T15:29:58.625666702Z 06/17/2022 03:29:58 PM - jaeger_tracing - INFO Initializing Jaeger Tracer with UDP reporter\\n2022-06-17T15:29:58.631674293Z 06/17/2022 03:29:58 PM - jaeger_tracing - INFO Using sampler ConstSampler(True)\\n2022-06-17T15:29:58.632497629Z 06/17/2022 03:29:58 PM - jaeger_tracing - INFO opentracing.tracer initialized to <jaeger_client.tracer.Tracer object at 0x7fb993fe36d0>[app_name=ntc-job]\\n2022-06-17T15:29:58.633764519Z 06/17/2022 03:29:58 PM - programruntime.program_starter_wrapper - INFO Executing program.py (job cam9rsct0i3e1o6f4b1g)\\n2022-06-17T15:29:58.641203124Z --- Logging error ---\\n2022-06-17T15:29:58.641214822Z Traceback (most recent call last):\\n2022-06-17T15:29:58.641219581Z   File \"/provider/programruntime/program_starter_wrapper.py\", line 70, in execute\\n2022-06-17T15:29:58.641227232Z     final_result = self.main(backend, self.messenger, **self.user_params)\\n2022-06-17T15:29:58.641232333Z   File \"/code/program.py\", line 1144, in main\\n2022-06-17T15:29:58.641237137Z     _quantum_instance = QuantumInstance(\\n2022-06-17T15:29:58.641242045Z   File \"/usr/local/lib/python3.8/site-packages/qiskit/utils/quantum_instance.py\", line 332, in __init__\\n2022-06-17T15:29:58.641246747Z     raise QiskitError(\\n2022-06-17T15:29:58.641251357Z qiskit.exceptions.QiskitError: \\'Measurement error mitigation does not work with the statevector simulation.\\'\\n2022-06-17T15:29:58.641255789Z \\n2022-06-17T15:29:58.641260262Z During handling of the above exception, another exception occurred:\\n2022-06-17T15:29:58.641270460Z \\n2022-06-17T15:29:58.641274343Z Traceback (most recent call last):\\n2022-06-17T15:29:58.641280236Z   File \"/usr/local/lib/python3.8/logging/__init__.py\", line 1085, in emit\\n2022-06-17T15:29:58.641284825Z     msg = self.format(record)\\n2022-06-17T15:29:58.641288419Z   File \"/usr/local/lib/python3.8/logging/__init__.py\", line 929, in format\\n2022-06-17T15:29:58.641289674Z     return fmt.format(record)\\n2022-06-17T15:29:58.641294207Z   File \"/usr/local/lib/python3.8/logging/__init__.py\", line 668, in format\\n2022-06-17T15:29:58.641298693Z     record.message = record.getMessage()\\n2022-06-17T15:29:58.641304683Z   File \"/usr/local/lib/python3.8/logging/__init__.py\", line 373, in getMessage\\n2022-06-17T15:29:58.641309163Z     msg = msg % self.args\\n2022-06-17T15:29:58.641313915Z TypeError: not all arguments converted during string formatting\\n2022-06-17T15:29:58.641318658Z Call stack:\\n2022-06-17T15:29:58.641323473Z   File \"/code/program_starter.py\", line 55, in <module>\\n2022-06-17T15:29:58.641328261Z     starter.execute()\\n2022-06-17T15:29:58.641333024Z   File \"/provider/programruntime/program_starter_wrapper.py\", line 74, in execute\\n2022-06-17T15:29:58.641337949Z     logger.error(f\"Error executing program job {self.provider.execution_id}\", ex)\\n2022-06-17T15:29:58.641344040Z Message: \\'Error executing program job cam9rsct0i3e1o6f4b1g\\'\\n2022-06-17T15:29:58.641348704Z Arguments: (QiskitError(\\'Measurement error mitigation does not work with the statevector simulation.\\'),)\\n2022-06-17T15:29:58.641353214Z 06/17/2022 03:29:58 PM - jaeger_tracing - INFO Span publisher exited\\n2022-06-17T15:29:58.641914063Z Traceback (most recent call last):\\n2022-06-17T15:29:58.641924692Z   File \"/code/program_starter.py\", line 55, in <module>\\n2022-06-17T15:29:58.641931003Z     starter.execute()\\n2022-06-17T15:29:58.641934449Z   File \"/provider/programruntime/program_starter_wrapper.py\", line 76, in execute\\n2022-06-17T15:29:58.641939861Z     raise ex\\n2022-06-17T15:29:58.641944533Z   File \"/provider/programruntime/program_starter_wrapper.py\", line 70, in execute\\n2022-06-17T15:29:58.641949317Z     final_result = self.main(backend, self.messenger, **self.user_params)\\n2022-06-17T15:29:58.641955011Z   File \"/code/program.py\", line 1144, in main\\n2022-06-17T15:29:58.641968504Z     _quantum_instance = QuantumInstance(\\n2022-06-17T15:29:58.641973481Z   File \"/usr/local/lib/python3.8/site-packages/qiskit/utils/quantum_instance.py\", line 332, in __init__\\n2022-06-17T15:29:58.641977920Z     raise QiskitError(\\n2022-06-17T15:29:58.641982522Z qiskit.exceptions.QiskitError: \\'Measurement error mitigation does not work with the statevector simulation.\\'\\n'"
     ]
    }
   ],
   "source": [
    "# Get results\n",
    "result = job.result()\n",
    "result['optimal_value']"
   ]
  },
  {
   "cell_type": "code",
   "execution_count": null,
   "id": "690aa0fc",
   "metadata": {},
   "outputs": [],
   "source": []
  },
  {
   "cell_type": "code",
   "execution_count": null,
   "id": "7882b69a",
   "metadata": {},
   "outputs": [],
   "source": []
  },
  {
   "cell_type": "code",
   "execution_count": 68,
   "id": "34a326dc",
   "metadata": {},
   "outputs": [
    {
     "data": {
      "text/plain": [
       "-14.40332860213383"
      ]
     },
     "execution_count": 68,
     "metadata": {},
     "output_type": "execute_result"
    }
   ],
   "source": [
    "from symmer.utils import exact_gs_energy\n",
    "exact_gs_energy(ham_cs.to_sparse_matrix)[0]"
   ]
  },
  {
   "cell_type": "code",
   "execution_count": null,
   "id": "93f3926a",
   "metadata": {},
   "outputs": [],
   "source": []
  }
 ],
 "metadata": {
  "kernelspec": {
   "display_name": "Python 3 (ipykernel)",
   "language": "python",
   "name": "python3"
  },
  "language_info": {
   "codemirror_mode": {
    "name": "ipython",
    "version": 3
   },
   "file_extension": ".py",
   "mimetype": "text/x-python",
   "name": "python",
   "nbconvert_exporter": "python",
   "pygments_lexer": "ipython3",
   "version": "3.8.8"
  }
 },
 "nbformat": 4,
 "nbformat_minor": 5
}
