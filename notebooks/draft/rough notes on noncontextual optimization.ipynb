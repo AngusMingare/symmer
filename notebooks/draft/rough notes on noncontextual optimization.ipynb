{
 "cells": [
  {
   "cell_type": "code",
   "execution_count": 1,
   "id": "abbe240a",
   "metadata": {},
   "outputs": [],
   "source": [
    "import qubovert as qv\n",
    "import numpy as np\n",
    "\n",
    "# See: https://github.com/jtiosue/qubovert/blob/master/notebook_examples/qubovert_tutorial.ipynb"
   ]
  },
  {
   "cell_type": "code",
   "execution_count": 2,
   "id": "a3100d7f",
   "metadata": {},
   "outputs": [],
   "source": [
    "xs = [qv.spin_var('x%d' % i) for i in range(5)]"
   ]
  },
  {
   "cell_type": "code",
   "execution_count": 3,
   "id": "28f9692d",
   "metadata": {},
   "outputs": [
    {
     "data": {
      "text/plain": [
       "{('x0', 'x1'): 0.5, ('x2',): 0.2, ('x0', 'x1', 'x2', 'x3'): -0.9, ('x4',): 1}"
      ]
     },
     "execution_count": 3,
     "metadata": {},
     "output_type": "execute_result"
    }
   ],
   "source": [
    "## Cost function\n",
    "\n",
    "C = 0.5*xs[0]*xs[1] + 0.2*xs[2] + -0.9*xs[0]*xs[1]*xs[2]*xs[3] + xs[4]\n",
    "\n",
    "C"
   ]
  },
  {
   "cell_type": "code",
   "execution_count": 4,
   "id": "38e688c5",
   "metadata": {},
   "outputs": [
    {
     "data": {
      "text/plain": [
       "{0: 1, 1: -1, 2: -1, 3: 1, 4: -1}"
      ]
     },
     "execution_count": 4,
     "metadata": {},
     "output_type": "execute_result"
    }
   ],
   "source": [
    "PUSO = C.to_puso()\n",
    "\n",
    "brute = PUSO.solve_bruteforce()\n",
    "brute"
   ]
  },
  {
   "cell_type": "code",
   "execution_count": 5,
   "id": "74c029ed",
   "metadata": {},
   "outputs": [
    {
     "data": {
      "text/plain": [
       "-2.6"
      ]
     },
     "execution_count": 5,
     "metadata": {},
     "output_type": "execute_result"
    }
   ],
   "source": [
    "0.5*brute[0]*brute[1] + 0.2*brute[2] + -0.9*brute[0]*brute[1]*brute[2]*brute[3] + brute[4]"
   ]
  },
  {
   "cell_type": "code",
   "execution_count": 6,
   "id": "5a1a07c3",
   "metadata": {},
   "outputs": [
    {
     "name": "stdout",
     "output_type": "stream",
     "text": [
      "5\n",
      "5\n"
     ]
    }
   ],
   "source": [
    "print(C.num_binary_variables)\n",
    "print(PUSO.num_binary_variables)"
   ]
  },
  {
   "cell_type": "code",
   "execution_count": null,
   "id": "0d46b5da",
   "metadata": {},
   "outputs": [],
   "source": []
  },
  {
   "cell_type": "code",
   "execution_count": 7,
   "id": "6d688c6d",
   "metadata": {},
   "outputs": [
    {
     "data": {
      "text/plain": [
       "[AnnealResult(state={0: -1, 1: 1, 2: -1, 3: 1, 4: -1}, value=-2.6, spin=True),\n",
       " AnnealResult(state={0: -1, 1: 1, 2: -1, 3: 1, 4: -1}, value=-2.6, spin=True),\n",
       " AnnealResult(state={0: -1, 1: 1, 2: -1, 3: 1, 4: -1}, value=-2.6, spin=True)]"
      ]
     },
     "execution_count": 7,
     "metadata": {},
     "output_type": "execute_result"
    }
   ],
   "source": [
    "puso_res = qv.sim.anneal_puso(PUSO, num_anneals=3)\n",
    "puso_res"
   ]
  },
  {
   "cell_type": "code",
   "execution_count": 8,
   "id": "75a35553",
   "metadata": {},
   "outputs": [
    {
     "data": {
      "text/plain": [
       "AnnealResult(state={0: -1, 1: 1, 2: -1, 3: 1, 4: -1}, value=-2.6, spin=True)"
      ]
     },
     "execution_count": 8,
     "metadata": {},
     "output_type": "execute_result"
    }
   ],
   "source": [
    "puso_res.best"
   ]
  },
  {
   "cell_type": "code",
   "execution_count": null,
   "id": "3521392f",
   "metadata": {},
   "outputs": [],
   "source": []
  },
  {
   "cell_type": "code",
   "execution_count": null,
   "id": "922ddb41",
   "metadata": {},
   "outputs": [],
   "source": []
  },
  {
   "cell_type": "code",
   "execution_count": 9,
   "id": "9c0a4039",
   "metadata": {},
   "outputs": [
    {
     "name": "stdout",
     "output_type": "stream",
     "text": [
      "num PUBO variables 5\n",
      "num QUBO variables 7\n",
      "\n"
     ]
    }
   ],
   "source": [
    "Q = C.to_qubo()\n",
    "print(\"num PUBO variables\", C.num_binary_variables)\n",
    "print(\"num QUBO variables\", Q.num_binary_variables)\n",
    "print()\n",
    "# print(Q)"
   ]
  },
  {
   "cell_type": "code",
   "execution_count": null,
   "id": "2d22688d",
   "metadata": {},
   "outputs": [],
   "source": []
  },
  {
   "cell_type": "code",
   "execution_count": 10,
   "id": "805334cf",
   "metadata": {},
   "outputs": [
    {
     "data": {
      "text/plain": [
       "[{'x0': 1, 'x1': -1, 'x2': -1, 'x3': 1, 'x4': -1},\n",
       " {'x0': -1, 'x1': 1, 'x2': -1, 'x3': 1, 'x4': -1}]"
      ]
     },
     "execution_count": 10,
     "metadata": {},
     "output_type": "execute_result"
    }
   ],
   "source": [
    "solutions = Q.solve_bruteforce(all_solutions=True)\n",
    "\n",
    "solutions = [C.convert_solution(x) for x in solutions]\n",
    "solutions"
   ]
  },
  {
   "cell_type": "code",
   "execution_count": 11,
   "id": "2403d746",
   "metadata": {},
   "outputs": [
    {
     "name": "stdout",
     "output_type": "stream",
     "text": [
      "\t {'x0': 1, 'x1': -1, 'x2': -1, 'x3': 1, 'x4': -1} is valid\n",
      "\t {'x0': -1, 'x1': 1, 'x2': -1, 'x3': 1, 'x4': -1} is valid\n"
     ]
    }
   ],
   "source": [
    "for s in solutions:\n",
    "    print(\"\\t\", s, \"is\", \"valid\" if C.is_solution_valid(s) else \"invalid\")"
   ]
  },
  {
   "cell_type": "code",
   "execution_count": null,
   "id": "ff3fd5bf",
   "metadata": {},
   "outputs": [],
   "source": []
  },
  {
   "cell_type": "markdown",
   "id": "b888eae4",
   "metadata": {},
   "source": [
    "## trying with noncontextual H!!!!"
   ]
  },
  {
   "cell_type": "code",
   "execution_count": 12,
   "id": "8da3809c",
   "metadata": {},
   "outputs": [
    {
     "name": "stdout",
     "output_type": "stream",
     "text": [
      "The heisenberg Hamiltonian is\n",
      "\n",
      "-0.273+0.000j IIYY +\n",
      "-0.273+0.000j IYYI +\n",
      "-0.273+0.000j YYII +\n",
      "-0.089+0.000j IIXX +\n",
      "-0.089+0.000j IXXI +\n",
      "-0.089+0.000j XXII +\n",
      "-0.064+0.000j IIZZ +\n",
      "-0.064+0.000j IZZI +\n",
      "-0.064+0.000j ZZII\n",
      "\n",
      "with ground state energy -0.8252540522879801 and corresponding eigenvector\n",
      "\n",
      "-0.304+0.000j |0000> +\n",
      " 0.000+0.000j |0001> +\n",
      " 0.000+0.000j |0010> +\n",
      " 0.332+0.000j |0011> +\n",
      " 0.000+0.000j |0100> +\n",
      " 0.390+0.000j |0101> +\n",
      " 0.381+0.000j |0110> +\n",
      "-0.000+0.000j |0111> +\n",
      " 0.000+0.000j |1000> +\n",
      " 0.381+0.000j |1001> +\n",
      " 0.390+0.000j |1010> +\n",
      "-0.000+0.000j |1011> +\n",
      " 0.332+0.000j |1100> +\n",
      "-0.000+0.000j |1101> +\n",
      "-0.000+0.000j |1110> +\n",
      "-0.304+0.000j |1111>\n"
     ]
    }
   ],
   "source": [
    "import numpy as np\n",
    "from symmer.symplectic import PauliwordOp, QuantumState\n",
    "from symmer.utils import exact_gs_energy\n",
    "\n",
    "def place_sites(indices, pauli, N):\n",
    "    I = ['I']*N\n",
    "    for i in indices:\n",
    "        I[i] = pauli\n",
    "    return ''.join(I)\n",
    "    \n",
    "def HeisenbergHam(N, J_X=1, J_Y=1, J_Z=1, h=1):\n",
    "    constants = {'X':J_X, 'Y':J_Y, 'Z':J_Z, 'h':h}\n",
    "    H_dict = {}\n",
    "    for i in range(N-1):\n",
    "        for P in ['X','Y','Z']:\n",
    "            H_dict[place_sites([i, i+1], P, N)] = constants[P]\n",
    "    for i in range(N):\n",
    "        H_dict[place_sites([i], 'Z', N)] = constants['h']\n",
    "\n",
    "    return PauliwordOp.from_dictionary(H_dict).cleanup().multiply_by_constant(-1/2).sort()\n",
    "\n",
    "J_X, J_Y, J_Z, h = np.random.random(4)\n",
    "H = HeisenbergHam(4, J_X, J_Y, J_Z, h=0)\n",
    "gs_nrg, gs_psi = exact_gs_energy(H.to_sparse_matrix)\n",
    "print('The heisenberg Hamiltonian is\\n')\n",
    "print(H); print()\n",
    "print(f'with ground state energy {gs_nrg} and corresponding eigenvector\\n')\n",
    "print(gs_psi)"
   ]
  },
  {
   "cell_type": "code",
   "execution_count": 13,
   "id": "0c9ca563",
   "metadata": {},
   "outputs": [],
   "source": [
    "from symmer.projection import ContextualSubspace\n",
    "\n",
    "cs_vqe = ContextualSubspace(H, noncontextual_strategy='SingleSweep_magnitude')"
   ]
  },
  {
   "cell_type": "code",
   "execution_count": 14,
   "id": "09fe0baa",
   "metadata": {},
   "outputs": [
    {
     "data": {
      "text/plain": [
       "-0.064+0.000j IIZZ +\n",
       "-0.064+0.000j ZZII +\n",
       "-0.089+0.000j IIXX +\n",
       "-0.273+0.000j IIYY +\n",
       "-0.273+0.000j IYYI +\n",
       "-0.089+0.000j XXII +\n",
       "-0.273+0.000j YYII"
      ]
     },
     "execution_count": 14,
     "metadata": {},
     "output_type": "execute_result"
    }
   ],
   "source": [
    "cs_vqe.noncontextual_operator"
   ]
  },
  {
   "cell_type": "code",
   "execution_count": 15,
   "id": "6c58e2f9",
   "metadata": {},
   "outputs": [],
   "source": [
    "from symmer.symplectic import NoncontextualOp"
   ]
  },
  {
   "cell_type": "code",
   "execution_count": 16,
   "id": "bacd0c7a",
   "metadata": {},
   "outputs": [
    {
     "data": {
      "text/plain": [
       "-0.064+0.000j IIZZ +\n",
       "-0.064+0.000j ZZII +\n",
       "-0.089+0.000j IIXX +\n",
       "-0.273+0.000j IIYY +\n",
       "-0.273+0.000j IYYI +\n",
       "-0.089+0.000j XXII +\n",
       "-0.273+0.000j YYII"
      ]
     },
     "execution_count": 16,
     "metadata": {},
     "output_type": "execute_result"
    }
   ],
   "source": [
    "H_noncon = NoncontextualOp.from_PauliwordOp(cs_vqe.noncontextual_operator)\n",
    "\n",
    "\n",
    "H_noncon"
   ]
  },
  {
   "cell_type": "code",
   "execution_count": 17,
   "id": "c36862c3",
   "metadata": {},
   "outputs": [
    {
     "data": {
      "text/plain": [
       " 1 ZZZZ \n",
       " 1 IIYY \n",
       " 1 XXZZ"
      ]
     },
     "execution_count": 17,
     "metadata": {},
     "output_type": "execute_result"
    }
   ],
   "source": [
    "H_noncon.symmetry_generators"
   ]
  },
  {
   "cell_type": "code",
   "execution_count": 18,
   "id": "05f676d0",
   "metadata": {},
   "outputs": [
    {
     "data": {
      "text/plain": [
       " 1.000+0.000j IYYI +\n",
       " 1.000+0.000j IIZZ"
      ]
     },
     "execution_count": 18,
     "metadata": {},
     "output_type": "execute_result"
    }
   ],
   "source": [
    "H_noncon.clique_operator"
   ]
  },
  {
   "cell_type": "code",
   "execution_count": 19,
   "id": "e025430f",
   "metadata": {},
   "outputs": [
    {
     "data": {
      "text/plain": [
       "array([1., 1., 1.])"
      ]
     },
     "execution_count": 19,
     "metadata": {},
     "output_type": "execute_result"
    }
   ],
   "source": [
    "q_vec = np.ones(H_noncon.symmetry_generators.n_terms)\n",
    "q_vec"
   ]
  },
  {
   "cell_type": "code",
   "execution_count": 20,
   "id": "00bb8538",
   "metadata": {},
   "outputs": [
    {
     "data": {
      "text/plain": [
       "array([0.4472136 , 0.89442719])"
      ]
     },
     "execution_count": 20,
     "metadata": {},
     "output_type": "execute_result"
    }
   ],
   "source": [
    "r_vec = np.array(range(1, H_noncon.symmetry_generators.n_terms))\n",
    "r_vec = r_vec/np.linalg.norm(r_vec)\n",
    "\n",
    "# r_vec = r_vec.reshape([-1,1])\n",
    "r_vec"
   ]
  },
  {
   "cell_type": "code",
   "execution_count": 21,
   "id": "2a6a3bee",
   "metadata": {},
   "outputs": [
    {
     "data": {
      "text/plain": [
       "-0.2358018065657227"
      ]
     },
     "execution_count": 21,
     "metadata": {},
     "output_type": "execute_result"
    }
   ],
   "source": [
    "H_noncon.noncontextual_objective_function(q_vec, r_vec)"
   ]
  },
  {
   "cell_type": "code",
   "execution_count": null,
   "id": "9718854e",
   "metadata": {},
   "outputs": [],
   "source": []
  },
  {
   "cell_type": "code",
   "execution_count": 22,
   "id": "636d2b3e",
   "metadata": {},
   "outputs": [
    {
     "data": {
      "text/plain": [
       "-0.8243786561190207"
      ]
     },
     "execution_count": 22,
     "metadata": {},
     "output_type": "execute_result"
    }
   ],
   "source": [
    "H_noncon.solve(strategy='brute_force')\n",
    "H_noncon.energy"
   ]
  },
  {
   "cell_type": "code",
   "execution_count": 23,
   "id": "7099920b",
   "metadata": {},
   "outputs": [],
   "source": [
    "r_vec = H_noncon.clique_operator.coeff_vec"
   ]
  },
  {
   "cell_type": "code",
   "execution_count": 24,
   "id": "4c11ce76",
   "metadata": {},
   "outputs": [],
   "source": [
    "r_part = np.sum(H_noncon.r_indices * r_vec, axis=1)\n",
    "r_part[np.where(r_part==0)]=1 # set all zero terms to 1 (aka multiply be value of 1)\n",
    "q_vec_SPIN = [qv.spin_var('x%d' % i) for i in range(H_noncon.symmetry_generators.n_terms)]\n",
    "\n",
    "COST=0\n",
    "for P_index, term in enumerate(H_noncon.G_indices):\n",
    "    non_zero_inds = term.nonzero()[0]\n",
    "    \n",
    "    # collect all the spin terms\n",
    "    G_term=1\n",
    "    for i in non_zero_inds:\n",
    "        G_term *= q_vec_SPIN[i]\n",
    "    \n",
    "    # cost function\n",
    "    COST+=G_term * H_noncon.coeff_vec[P_index].real * H_noncon.pauli_mult_signs[P_index] * r_part[P_index].real"
   ]
  },
  {
   "cell_type": "code",
   "execution_count": null,
   "id": "5786978d",
   "metadata": {},
   "outputs": [],
   "source": []
  },
  {
   "cell_type": "code",
   "execution_count": 25,
   "id": "2ba5a57b",
   "metadata": {},
   "outputs": [
    {
     "data": {
      "text/plain": [
       "{0: 1, 1: 1, 2: -1}"
      ]
     },
     "execution_count": 25,
     "metadata": {},
     "output_type": "execute_result"
    }
   ],
   "source": [
    "spin_problem = COST.to_puso()\n",
    "\n",
    "brute = spin_problem.solve_bruteforce()\n",
    "brute"
   ]
  },
  {
   "cell_type": "code",
   "execution_count": 26,
   "id": "f01c732a",
   "metadata": {},
   "outputs": [
    {
     "data": {
      "text/plain": [
       "-0.8243786561190207"
      ]
     },
     "execution_count": 26,
     "metadata": {},
     "output_type": "execute_result"
    }
   ],
   "source": [
    "solution = COST.convert_solution(brute)\n",
    "COST.value(solution)"
   ]
  },
  {
   "cell_type": "code",
   "execution_count": 27,
   "id": "03baab1f",
   "metadata": {},
   "outputs": [
    {
     "data": {
      "text/plain": [
       "{0: 1, 1: 1, 2: -1}"
      ]
     },
     "execution_count": 27,
     "metadata": {},
     "output_type": "execute_result"
    }
   ],
   "source": [
    "spin_problem = COST.to_puso()\n",
    "\n",
    "brute = spin_problem.solve_bruteforce()\n",
    "brute"
   ]
  },
  {
   "cell_type": "code",
   "execution_count": 28,
   "id": "07bff02d",
   "metadata": {},
   "outputs": [],
   "source": [
    "puso_res = qv.sim.anneal_quso(spin_problem, num_anneals=3)\n",
    "anneal = puso_res.best.state"
   ]
  },
  {
   "cell_type": "code",
   "execution_count": 29,
   "id": "44bc5cef",
   "metadata": {},
   "outputs": [
    {
     "data": {
      "text/plain": [
       "-0.8243786561190207"
      ]
     },
     "execution_count": 29,
     "metadata": {},
     "output_type": "execute_result"
    }
   ],
   "source": [
    "solution_anneal = COST.convert_solution(anneal)\n",
    "COST.value(solution_anneal)"
   ]
  },
  {
   "cell_type": "code",
   "execution_count": null,
   "id": "45ac82d8",
   "metadata": {},
   "outputs": [],
   "source": []
  },
  {
   "cell_type": "code",
   "execution_count": null,
   "id": "61e21da2",
   "metadata": {},
   "outputs": [],
   "source": []
  },
  {
   "cell_type": "code",
   "execution_count": null,
   "id": "f6990676",
   "metadata": {},
   "outputs": [],
   "source": []
  },
  {
   "cell_type": "code",
   "execution_count": 30,
   "id": "a96adbdf",
   "metadata": {},
   "outputs": [],
   "source": [
    "# Symmer version!"
   ]
  },
  {
   "cell_type": "code",
   "execution_count": 31,
   "id": "42b6bd33",
   "metadata": {},
   "outputs": [
    {
     "data": {
      "text/plain": [
       "2.973177259946169e-13"
      ]
     },
     "execution_count": 31,
     "metadata": {},
     "output_type": "execute_result"
    }
   ],
   "source": [
    "# brute_force_PUSO\n",
    "energy, nu, r = H_noncon._energy_via_brute_force_xUSO(x='P')\n",
    "energy - H_noncon.energy"
   ]
  },
  {
   "cell_type": "code",
   "execution_count": 32,
   "id": "59501414",
   "metadata": {},
   "outputs": [
    {
     "data": {
      "text/plain": [
       "9.992007221626409e-16"
      ]
     },
     "execution_count": 32,
     "metadata": {},
     "output_type": "execute_result"
    }
   ],
   "source": [
    "# brute_force_PUSO\n",
    "energy, nu, r = H_noncon._energy_via_brute_force_xUSO(x='P')\n",
    "energy - H_noncon.energy"
   ]
  },
  {
   "cell_type": "code",
   "execution_count": 33,
   "id": "b19644fb",
   "metadata": {},
   "outputs": [
    {
     "data": {
      "text/plain": [
       "-1.1102230246251565e-16"
      ]
     },
     "execution_count": 33,
     "metadata": {},
     "output_type": "execute_result"
    }
   ],
   "source": [
    "# brute_force_QUSO\n",
    "energy, nu, r = H_noncon._energy_via_brute_force_xUSO(x='Q')\n",
    "energy- H_noncon.energy"
   ]
  },
  {
   "cell_type": "code",
   "execution_count": 34,
   "id": "469a6deb",
   "metadata": {},
   "outputs": [
    {
     "data": {
      "text/plain": [
       "0.5230692213380259"
      ]
     },
     "execution_count": 34,
     "metadata": {},
     "output_type": "execute_result"
    }
   ],
   "source": [
    "# annealing_QUSO\n",
    "energy, nu, r = H_noncon._energy_via_annealing_xUSO(x='Q', num_anneals=100)\n",
    "energy-H_noncon.energy"
   ]
  },
  {
   "cell_type": "code",
   "execution_count": 35,
   "id": "2e1b85ea",
   "metadata": {},
   "outputs": [
    {
     "name": "stderr",
     "output_type": "stream",
     "text": [
      "/Users/lex/anaconda3/envs/symred/lib/python3.9/site-packages/symmer/symplectic/noncontextual_op.py:440: QUBOVertWarning: The input problem has degree <= 2; consider using the ``qubovert.sim.anneal_qubo`` or ``qubovert.sim.anneal_quso`` functions, which are significantly faster than this function because they take advantage of the low degree.\n",
      "  puso_res = qv.sim.anneal_puso(spin_problem, num_anneals=num_anneals)\n",
      "/Users/lex/anaconda3/envs/symred/lib/python3.9/site-packages/symmer/symplectic/noncontextual_op.py:440: QUBOVertWarning: The input problem has degree <= 2; consider using the ``qubovert.sim.anneal_qubo`` or ``qubovert.sim.anneal_quso`` functions, which are significantly faster than this function because they take advantage of the low degree.\n",
      "  puso_res = qv.sim.anneal_puso(spin_problem, num_anneals=num_anneals)\n",
      "/Users/lex/anaconda3/envs/symred/lib/python3.9/site-packages/symmer/symplectic/noncontextual_op.py:440: QUBOVertWarning: The input problem has degree <= 2; consider using the ``qubovert.sim.anneal_qubo`` or ``qubovert.sim.anneal_quso`` functions, which are significantly faster than this function because they take advantage of the low degree.\n",
      "  puso_res = qv.sim.anneal_puso(spin_problem, num_anneals=num_anneals)\n",
      "/Users/lex/anaconda3/envs/symred/lib/python3.9/site-packages/symmer/symplectic/noncontextual_op.py:440: QUBOVertWarning: The input problem has degree <= 2; consider using the ``qubovert.sim.anneal_qubo`` or ``qubovert.sim.anneal_quso`` functions, which are significantly faster than this function because they take advantage of the low degree.\n",
      "  puso_res = qv.sim.anneal_puso(spin_problem, num_anneals=num_anneals)\n",
      "/Users/lex/anaconda3/envs/symred/lib/python3.9/site-packages/symmer/symplectic/noncontextual_op.py:440: QUBOVertWarning: The input problem has degree <= 2; consider using the ``qubovert.sim.anneal_qubo`` or ``qubovert.sim.anneal_quso`` functions, which are significantly faster than this function because they take advantage of the low degree.\n",
      "  puso_res = qv.sim.anneal_puso(spin_problem, num_anneals=num_anneals)\n",
      "/Users/lex/anaconda3/envs/symred/lib/python3.9/site-packages/symmer/symplectic/noncontextual_op.py:440: QUBOVertWarning: The input problem has degree <= 2; consider using the ``qubovert.sim.anneal_qubo`` or ``qubovert.sim.anneal_quso`` functions, which are significantly faster than this function because they take advantage of the low degree.\n",
      "  puso_res = qv.sim.anneal_puso(spin_problem, num_anneals=num_anneals)\n",
      "/Users/lex/anaconda3/envs/symred/lib/python3.9/site-packages/symmer/symplectic/noncontextual_op.py:440: QUBOVertWarning: The input problem has degree <= 2; consider using the ``qubovert.sim.anneal_qubo`` or ``qubovert.sim.anneal_quso`` functions, which are significantly faster than this function because they take advantage of the low degree.\n",
      "  puso_res = qv.sim.anneal_puso(spin_problem, num_anneals=num_anneals)\n",
      "/Users/lex/anaconda3/envs/symred/lib/python3.9/site-packages/symmer/symplectic/noncontextual_op.py:440: QUBOVertWarning: The input problem has degree <= 2; consider using the ``qubovert.sim.anneal_qubo`` or ``qubovert.sim.anneal_quso`` functions, which are significantly faster than this function because they take advantage of the low degree.\n",
      "  puso_res = qv.sim.anneal_puso(spin_problem, num_anneals=num_anneals)\n",
      "/Users/lex/anaconda3/envs/symred/lib/python3.9/site-packages/symmer/symplectic/noncontextual_op.py:440: QUBOVertWarning: The input problem has degree <= 2; consider using the ``qubovert.sim.anneal_qubo`` or ``qubovert.sim.anneal_quso`` functions, which are significantly faster than this function because they take advantage of the low degree.\n",
      "  puso_res = qv.sim.anneal_puso(spin_problem, num_anneals=num_anneals)\n",
      "/Users/lex/anaconda3/envs/symred/lib/python3.9/site-packages/symmer/symplectic/noncontextual_op.py:440: QUBOVertWarning: The input problem has degree <= 2; consider using the ``qubovert.sim.anneal_qubo`` or ``qubovert.sim.anneal_quso`` functions, which are significantly faster than this function because they take advantage of the low degree.\n",
      "  puso_res = qv.sim.anneal_puso(spin_problem, num_anneals=num_anneals)\n",
      "/Users/lex/anaconda3/envs/symred/lib/python3.9/site-packages/symmer/symplectic/noncontextual_op.py:440: QUBOVertWarning: The input problem has degree <= 2; consider using the ``qubovert.sim.anneal_qubo`` or ``qubovert.sim.anneal_quso`` functions, which are significantly faster than this function because they take advantage of the low degree.\n",
      "  puso_res = qv.sim.anneal_puso(spin_problem, num_anneals=num_anneals)\n",
      "/Users/lex/anaconda3/envs/symred/lib/python3.9/site-packages/symmer/symplectic/noncontextual_op.py:440: QUBOVertWarning: The input problem has degree <= 2; consider using the ``qubovert.sim.anneal_qubo`` or ``qubovert.sim.anneal_quso`` functions, which are significantly faster than this function because they take advantage of the low degree.\n",
      "  puso_res = qv.sim.anneal_puso(spin_problem, num_anneals=num_anneals)\n",
      "/Users/lex/anaconda3/envs/symred/lib/python3.9/site-packages/symmer/symplectic/noncontextual_op.py:440: QUBOVertWarning: The input problem has degree <= 2; consider using the ``qubovert.sim.anneal_qubo`` or ``qubovert.sim.anneal_quso`` functions, which are significantly faster than this function because they take advantage of the low degree.\n",
      "  puso_res = qv.sim.anneal_puso(spin_problem, num_anneals=num_anneals)\n",
      "/Users/lex/anaconda3/envs/symred/lib/python3.9/site-packages/symmer/symplectic/noncontextual_op.py:440: QUBOVertWarning: The input problem has degree <= 2; consider using the ``qubovert.sim.anneal_qubo`` or ``qubovert.sim.anneal_quso`` functions, which are significantly faster than this function because they take advantage of the low degree.\n",
      "  puso_res = qv.sim.anneal_puso(spin_problem, num_anneals=num_anneals)\n",
      "/Users/lex/anaconda3/envs/symred/lib/python3.9/site-packages/symmer/symplectic/noncontextual_op.py:440: QUBOVertWarning: The input problem has degree <= 2; consider using the ``qubovert.sim.anneal_qubo`` or ``qubovert.sim.anneal_quso`` functions, which are significantly faster than this function because they take advantage of the low degree.\n",
      "  puso_res = qv.sim.anneal_puso(spin_problem, num_anneals=num_anneals)\n",
      "/Users/lex/anaconda3/envs/symred/lib/python3.9/site-packages/symmer/symplectic/noncontextual_op.py:440: QUBOVertWarning: The input problem has degree <= 2; consider using the ``qubovert.sim.anneal_qubo`` or ``qubovert.sim.anneal_quso`` functions, which are significantly faster than this function because they take advantage of the low degree.\n",
      "  puso_res = qv.sim.anneal_puso(spin_problem, num_anneals=num_anneals)\n",
      "/Users/lex/anaconda3/envs/symred/lib/python3.9/site-packages/symmer/symplectic/noncontextual_op.py:440: QUBOVertWarning: The input problem has degree <= 2; consider using the ``qubovert.sim.anneal_qubo`` or ``qubovert.sim.anneal_quso`` functions, which are significantly faster than this function because they take advantage of the low degree.\n",
      "  puso_res = qv.sim.anneal_puso(spin_problem, num_anneals=num_anneals)\n",
      "/Users/lex/anaconda3/envs/symred/lib/python3.9/site-packages/symmer/symplectic/noncontextual_op.py:440: QUBOVertWarning: The input problem has degree <= 2; consider using the ``qubovert.sim.anneal_qubo`` or ``qubovert.sim.anneal_quso`` functions, which are significantly faster than this function because they take advantage of the low degree.\n",
      "  puso_res = qv.sim.anneal_puso(spin_problem, num_anneals=num_anneals)\n",
      "/Users/lex/anaconda3/envs/symred/lib/python3.9/site-packages/symmer/symplectic/noncontextual_op.py:440: QUBOVertWarning: The input problem has degree <= 2; consider using the ``qubovert.sim.anneal_qubo`` or ``qubovert.sim.anneal_quso`` functions, which are significantly faster than this function because they take advantage of the low degree.\n",
      "  puso_res = qv.sim.anneal_puso(spin_problem, num_anneals=num_anneals)\n",
      "/Users/lex/anaconda3/envs/symred/lib/python3.9/site-packages/symmer/symplectic/noncontextual_op.py:440: QUBOVertWarning: The input problem has degree <= 2; consider using the ``qubovert.sim.anneal_qubo`` or ``qubovert.sim.anneal_quso`` functions, which are significantly faster than this function because they take advantage of the low degree.\n",
      "  puso_res = qv.sim.anneal_puso(spin_problem, num_anneals=num_anneals)\n",
      "/Users/lex/anaconda3/envs/symred/lib/python3.9/site-packages/symmer/symplectic/noncontextual_op.py:440: QUBOVertWarning: The input problem has degree <= 2; consider using the ``qubovert.sim.anneal_qubo`` or ``qubovert.sim.anneal_quso`` functions, which are significantly faster than this function because they take advantage of the low degree.\n",
      "  puso_res = qv.sim.anneal_puso(spin_problem, num_anneals=num_anneals)\n",
      "/Users/lex/anaconda3/envs/symred/lib/python3.9/site-packages/symmer/symplectic/noncontextual_op.py:440: QUBOVertWarning: The input problem has degree <= 2; consider using the ``qubovert.sim.anneal_qubo`` or ``qubovert.sim.anneal_quso`` functions, which are significantly faster than this function because they take advantage of the low degree.\n",
      "  puso_res = qv.sim.anneal_puso(spin_problem, num_anneals=num_anneals)\n",
      "/Users/lex/anaconda3/envs/symred/lib/python3.9/site-packages/symmer/symplectic/noncontextual_op.py:440: QUBOVertWarning: The input problem has degree <= 2; consider using the ``qubovert.sim.anneal_qubo`` or ``qubovert.sim.anneal_quso`` functions, which are significantly faster than this function because they take advantage of the low degree.\n",
      "  puso_res = qv.sim.anneal_puso(spin_problem, num_anneals=num_anneals)\n",
      "/Users/lex/anaconda3/envs/symred/lib/python3.9/site-packages/symmer/symplectic/noncontextual_op.py:440: QUBOVertWarning: The input problem has degree <= 2; consider using the ``qubovert.sim.anneal_qubo`` or ``qubovert.sim.anneal_quso`` functions, which are significantly faster than this function because they take advantage of the low degree.\n",
      "  puso_res = qv.sim.anneal_puso(spin_problem, num_anneals=num_anneals)\n",
      "/Users/lex/anaconda3/envs/symred/lib/python3.9/site-packages/symmer/symplectic/noncontextual_op.py:440: QUBOVertWarning: The input problem has degree <= 2; consider using the ``qubovert.sim.anneal_qubo`` or ``qubovert.sim.anneal_quso`` functions, which are significantly faster than this function because they take advantage of the low degree.\n",
      "  puso_res = qv.sim.anneal_puso(spin_problem, num_anneals=num_anneals)\n",
      "/Users/lex/anaconda3/envs/symred/lib/python3.9/site-packages/symmer/symplectic/noncontextual_op.py:440: QUBOVertWarning: The input problem has degree <= 2; consider using the ``qubovert.sim.anneal_qubo`` or ``qubovert.sim.anneal_quso`` functions, which are significantly faster than this function because they take advantage of the low degree.\n",
      "  puso_res = qv.sim.anneal_puso(spin_problem, num_anneals=num_anneals)\n",
      "/Users/lex/anaconda3/envs/symred/lib/python3.9/site-packages/symmer/symplectic/noncontextual_op.py:440: QUBOVertWarning: The input problem has degree <= 2; consider using the ``qubovert.sim.anneal_qubo`` or ``qubovert.sim.anneal_quso`` functions, which are significantly faster than this function because they take advantage of the low degree.\n",
      "  puso_res = qv.sim.anneal_puso(spin_problem, num_anneals=num_anneals)\n"
     ]
    },
    {
     "name": "stderr",
     "output_type": "stream",
     "text": [
      "/Users/lex/anaconda3/envs/symred/lib/python3.9/site-packages/symmer/symplectic/noncontextual_op.py:440: QUBOVertWarning: The input problem has degree <= 2; consider using the ``qubovert.sim.anneal_qubo`` or ``qubovert.sim.anneal_quso`` functions, which are significantly faster than this function because they take advantage of the low degree.\n",
      "  puso_res = qv.sim.anneal_puso(spin_problem, num_anneals=num_anneals)\n",
      "/Users/lex/anaconda3/envs/symred/lib/python3.9/site-packages/symmer/symplectic/noncontextual_op.py:440: QUBOVertWarning: The input problem has degree <= 2; consider using the ``qubovert.sim.anneal_qubo`` or ``qubovert.sim.anneal_quso`` functions, which are significantly faster than this function because they take advantage of the low degree.\n",
      "  puso_res = qv.sim.anneal_puso(spin_problem, num_anneals=num_anneals)\n",
      "/Users/lex/anaconda3/envs/symred/lib/python3.9/site-packages/symmer/symplectic/noncontextual_op.py:440: QUBOVertWarning: The input problem has degree <= 2; consider using the ``qubovert.sim.anneal_qubo`` or ``qubovert.sim.anneal_quso`` functions, which are significantly faster than this function because they take advantage of the low degree.\n",
      "  puso_res = qv.sim.anneal_puso(spin_problem, num_anneals=num_anneals)\n",
      "/Users/lex/anaconda3/envs/symred/lib/python3.9/site-packages/symmer/symplectic/noncontextual_op.py:440: QUBOVertWarning: The input problem has degree <= 2; consider using the ``qubovert.sim.anneal_qubo`` or ``qubovert.sim.anneal_quso`` functions, which are significantly faster than this function because they take advantage of the low degree.\n",
      "  puso_res = qv.sim.anneal_puso(spin_problem, num_anneals=num_anneals)\n",
      "/Users/lex/anaconda3/envs/symred/lib/python3.9/site-packages/symmer/symplectic/noncontextual_op.py:440: QUBOVertWarning: The input problem has degree <= 2; consider using the ``qubovert.sim.anneal_qubo`` or ``qubovert.sim.anneal_quso`` functions, which are significantly faster than this function because they take advantage of the low degree.\n",
      "  puso_res = qv.sim.anneal_puso(spin_problem, num_anneals=num_anneals)\n",
      "/Users/lex/anaconda3/envs/symred/lib/python3.9/site-packages/symmer/symplectic/noncontextual_op.py:440: QUBOVertWarning: The input problem has degree <= 2; consider using the ``qubovert.sim.anneal_qubo`` or ``qubovert.sim.anneal_quso`` functions, which are significantly faster than this function because they take advantage of the low degree.\n",
      "  puso_res = qv.sim.anneal_puso(spin_problem, num_anneals=num_anneals)\n",
      "/Users/lex/anaconda3/envs/symred/lib/python3.9/site-packages/symmer/symplectic/noncontextual_op.py:440: QUBOVertWarning: The input problem has degree <= 2; consider using the ``qubovert.sim.anneal_qubo`` or ``qubovert.sim.anneal_quso`` functions, which are significantly faster than this function because they take advantage of the low degree.\n",
      "  puso_res = qv.sim.anneal_puso(spin_problem, num_anneals=num_anneals)\n",
      "/Users/lex/anaconda3/envs/symred/lib/python3.9/site-packages/symmer/symplectic/noncontextual_op.py:440: QUBOVertWarning: The input problem has degree <= 2; consider using the ``qubovert.sim.anneal_qubo`` or ``qubovert.sim.anneal_quso`` functions, which are significantly faster than this function because they take advantage of the low degree.\n",
      "  puso_res = qv.sim.anneal_puso(spin_problem, num_anneals=num_anneals)\n",
      "/Users/lex/anaconda3/envs/symred/lib/python3.9/site-packages/symmer/symplectic/noncontextual_op.py:440: QUBOVertWarning: The input problem has degree <= 2; consider using the ``qubovert.sim.anneal_qubo`` or ``qubovert.sim.anneal_quso`` functions, which are significantly faster than this function because they take advantage of the low degree.\n",
      "  puso_res = qv.sim.anneal_puso(spin_problem, num_anneals=num_anneals)\n",
      "/Users/lex/anaconda3/envs/symred/lib/python3.9/site-packages/symmer/symplectic/noncontextual_op.py:440: QUBOVertWarning: The input problem has degree <= 2; consider using the ``qubovert.sim.anneal_qubo`` or ``qubovert.sim.anneal_quso`` functions, which are significantly faster than this function because they take advantage of the low degree.\n",
      "  puso_res = qv.sim.anneal_puso(spin_problem, num_anneals=num_anneals)\n",
      "/Users/lex/anaconda3/envs/symred/lib/python3.9/site-packages/symmer/symplectic/noncontextual_op.py:440: QUBOVertWarning: The input problem has degree <= 2; consider using the ``qubovert.sim.anneal_qubo`` or ``qubovert.sim.anneal_quso`` functions, which are significantly faster than this function because they take advantage of the low degree.\n",
      "  puso_res = qv.sim.anneal_puso(spin_problem, num_anneals=num_anneals)\n",
      "/Users/lex/anaconda3/envs/symred/lib/python3.9/site-packages/symmer/symplectic/noncontextual_op.py:440: QUBOVertWarning: The input problem has degree <= 2; consider using the ``qubovert.sim.anneal_qubo`` or ``qubovert.sim.anneal_quso`` functions, which are significantly faster than this function because they take advantage of the low degree.\n",
      "  puso_res = qv.sim.anneal_puso(spin_problem, num_anneals=num_anneals)\n",
      "/Users/lex/anaconda3/envs/symred/lib/python3.9/site-packages/symmer/symplectic/noncontextual_op.py:440: QUBOVertWarning: The input problem has degree <= 2; consider using the ``qubovert.sim.anneal_qubo`` or ``qubovert.sim.anneal_quso`` functions, which are significantly faster than this function because they take advantage of the low degree.\n",
      "  puso_res = qv.sim.anneal_puso(spin_problem, num_anneals=num_anneals)\n",
      "/Users/lex/anaconda3/envs/symred/lib/python3.9/site-packages/symmer/symplectic/noncontextual_op.py:440: QUBOVertWarning: The input problem has degree <= 2; consider using the ``qubovert.sim.anneal_qubo`` or ``qubovert.sim.anneal_quso`` functions, which are significantly faster than this function because they take advantage of the low degree.\n",
      "  puso_res = qv.sim.anneal_puso(spin_problem, num_anneals=num_anneals)\n",
      "/Users/lex/anaconda3/envs/symred/lib/python3.9/site-packages/symmer/symplectic/noncontextual_op.py:440: QUBOVertWarning: The input problem has degree <= 2; consider using the ``qubovert.sim.anneal_qubo`` or ``qubovert.sim.anneal_quso`` functions, which are significantly faster than this function because they take advantage of the low degree.\n",
      "  puso_res = qv.sim.anneal_puso(spin_problem, num_anneals=num_anneals)\n",
      "/Users/lex/anaconda3/envs/symred/lib/python3.9/site-packages/symmer/symplectic/noncontextual_op.py:440: QUBOVertWarning: The input problem has degree <= 2; consider using the ``qubovert.sim.anneal_qubo`` or ``qubovert.sim.anneal_quso`` functions, which are significantly faster than this function because they take advantage of the low degree.\n",
      "  puso_res = qv.sim.anneal_puso(spin_problem, num_anneals=num_anneals)\n",
      "/Users/lex/anaconda3/envs/symred/lib/python3.9/site-packages/symmer/symplectic/noncontextual_op.py:440: QUBOVertWarning: The input problem has degree <= 2; consider using the ``qubovert.sim.anneal_qubo`` or ``qubovert.sim.anneal_quso`` functions, which are significantly faster than this function because they take advantage of the low degree.\n",
      "  puso_res = qv.sim.anneal_puso(spin_problem, num_anneals=num_anneals)\n",
      "/Users/lex/anaconda3/envs/symred/lib/python3.9/site-packages/symmer/symplectic/noncontextual_op.py:440: QUBOVertWarning: The input problem has degree <= 2; consider using the ``qubovert.sim.anneal_qubo`` or ``qubovert.sim.anneal_quso`` functions, which are significantly faster than this function because they take advantage of the low degree.\n",
      "  puso_res = qv.sim.anneal_puso(spin_problem, num_anneals=num_anneals)\n",
      "/Users/lex/anaconda3/envs/symred/lib/python3.9/site-packages/symmer/symplectic/noncontextual_op.py:440: QUBOVertWarning: The input problem has degree <= 2; consider using the ``qubovert.sim.anneal_qubo`` or ``qubovert.sim.anneal_quso`` functions, which are significantly faster than this function because they take advantage of the low degree.\n",
      "  puso_res = qv.sim.anneal_puso(spin_problem, num_anneals=num_anneals)\n",
      "/Users/lex/anaconda3/envs/symred/lib/python3.9/site-packages/symmer/symplectic/noncontextual_op.py:440: QUBOVertWarning: The input problem has degree <= 2; consider using the ``qubovert.sim.anneal_qubo`` or ``qubovert.sim.anneal_quso`` functions, which are significantly faster than this function because they take advantage of the low degree.\n",
      "  puso_res = qv.sim.anneal_puso(spin_problem, num_anneals=num_anneals)\n",
      "/Users/lex/anaconda3/envs/symred/lib/python3.9/site-packages/symmer/symplectic/noncontextual_op.py:440: QUBOVertWarning: The input problem has degree <= 2; consider using the ``qubovert.sim.anneal_qubo`` or ``qubovert.sim.anneal_quso`` functions, which are significantly faster than this function because they take advantage of the low degree.\n",
      "  puso_res = qv.sim.anneal_puso(spin_problem, num_anneals=num_anneals)\n",
      "/Users/lex/anaconda3/envs/symred/lib/python3.9/site-packages/symmer/symplectic/noncontextual_op.py:440: QUBOVertWarning: The input problem has degree <= 2; consider using the ``qubovert.sim.anneal_qubo`` or ``qubovert.sim.anneal_quso`` functions, which are significantly faster than this function because they take advantage of the low degree.\n",
      "  puso_res = qv.sim.anneal_puso(spin_problem, num_anneals=num_anneals)\n",
      "/Users/lex/anaconda3/envs/symred/lib/python3.9/site-packages/symmer/symplectic/noncontextual_op.py:440: QUBOVertWarning: The input problem has degree <= 2; consider using the ``qubovert.sim.anneal_qubo`` or ``qubovert.sim.anneal_quso`` functions, which are significantly faster than this function because they take advantage of the low degree.\n",
      "  puso_res = qv.sim.anneal_puso(spin_problem, num_anneals=num_anneals)\n",
      "/Users/lex/anaconda3/envs/symred/lib/python3.9/site-packages/symmer/symplectic/noncontextual_op.py:440: QUBOVertWarning: The input problem has degree <= 2; consider using the ``qubovert.sim.anneal_qubo`` or ``qubovert.sim.anneal_quso`` functions, which are significantly faster than this function because they take advantage of the low degree.\n",
      "  puso_res = qv.sim.anneal_puso(spin_problem, num_anneals=num_anneals)\n",
      "/Users/lex/anaconda3/envs/symred/lib/python3.9/site-packages/symmer/symplectic/noncontextual_op.py:440: QUBOVertWarning: The input problem has degree <= 2; consider using the ``qubovert.sim.anneal_qubo`` or ``qubovert.sim.anneal_quso`` functions, which are significantly faster than this function because they take advantage of the low degree.\n",
      "  puso_res = qv.sim.anneal_puso(spin_problem, num_anneals=num_anneals)\n",
      "/Users/lex/anaconda3/envs/symred/lib/python3.9/site-packages/symmer/symplectic/noncontextual_op.py:440: QUBOVertWarning: The input problem has degree <= 2; consider using the ``qubovert.sim.anneal_qubo`` or ``qubovert.sim.anneal_quso`` functions, which are significantly faster than this function because they take advantage of the low degree.\n",
      "  puso_res = qv.sim.anneal_puso(spin_problem, num_anneals=num_anneals)\n",
      "/Users/lex/anaconda3/envs/symred/lib/python3.9/site-packages/symmer/symplectic/noncontextual_op.py:440: QUBOVertWarning: The input problem has degree <= 2; consider using the ``qubovert.sim.anneal_qubo`` or ``qubovert.sim.anneal_quso`` functions, which are significantly faster than this function because they take advantage of the low degree.\n",
      "  puso_res = qv.sim.anneal_puso(spin_problem, num_anneals=num_anneals)\n",
      "/Users/lex/anaconda3/envs/symred/lib/python3.9/site-packages/symmer/symplectic/noncontextual_op.py:440: QUBOVertWarning: The input problem has degree <= 2; consider using the ``qubovert.sim.anneal_qubo`` or ``qubovert.sim.anneal_quso`` functions, which are significantly faster than this function because they take advantage of the low degree.\n",
      "  puso_res = qv.sim.anneal_puso(spin_problem, num_anneals=num_anneals)\n",
      "/Users/lex/anaconda3/envs/symred/lib/python3.9/site-packages/symmer/symplectic/noncontextual_op.py:440: QUBOVertWarning: The input problem has degree <= 2; consider using the ``qubovert.sim.anneal_qubo`` or ``qubovert.sim.anneal_quso`` functions, which are significantly faster than this function because they take advantage of the low degree.\n",
      "  puso_res = qv.sim.anneal_puso(spin_problem, num_anneals=num_anneals)\n",
      "/Users/lex/anaconda3/envs/symred/lib/python3.9/site-packages/symmer/symplectic/noncontextual_op.py:440: QUBOVertWarning: The input problem has degree <= 2; consider using the ``qubovert.sim.anneal_qubo`` or ``qubovert.sim.anneal_quso`` functions, which are significantly faster than this function because they take advantage of the low degree.\n",
      "  puso_res = qv.sim.anneal_puso(spin_problem, num_anneals=num_anneals)\n",
      "/Users/lex/anaconda3/envs/symred/lib/python3.9/site-packages/symmer/symplectic/noncontextual_op.py:440: QUBOVertWarning: The input problem has degree <= 2; consider using the ``qubovert.sim.anneal_qubo`` or ``qubovert.sim.anneal_quso`` functions, which are significantly faster than this function because they take advantage of the low degree.\n",
      "  puso_res = qv.sim.anneal_puso(spin_problem, num_anneals=num_anneals)\n",
      "/Users/lex/anaconda3/envs/symred/lib/python3.9/site-packages/symmer/symplectic/noncontextual_op.py:440: QUBOVertWarning: The input problem has degree <= 2; consider using the ``qubovert.sim.anneal_qubo`` or ``qubovert.sim.anneal_quso`` functions, which are significantly faster than this function because they take advantage of the low degree.\n",
      "  puso_res = qv.sim.anneal_puso(spin_problem, num_anneals=num_anneals)\n"
     ]
    },
    {
     "name": "stderr",
     "output_type": "stream",
     "text": [
      "/Users/lex/anaconda3/envs/symred/lib/python3.9/site-packages/symmer/symplectic/noncontextual_op.py:440: QUBOVertWarning: The input problem has degree <= 2; consider using the ``qubovert.sim.anneal_qubo`` or ``qubovert.sim.anneal_quso`` functions, which are significantly faster than this function because they take advantage of the low degree.\n",
      "  puso_res = qv.sim.anneal_puso(spin_problem, num_anneals=num_anneals)\n",
      "/Users/lex/anaconda3/envs/symred/lib/python3.9/site-packages/symmer/symplectic/noncontextual_op.py:440: QUBOVertWarning: The input problem has degree <= 2; consider using the ``qubovert.sim.anneal_qubo`` or ``qubovert.sim.anneal_quso`` functions, which are significantly faster than this function because they take advantage of the low degree.\n",
      "  puso_res = qv.sim.anneal_puso(spin_problem, num_anneals=num_anneals)\n",
      "/Users/lex/anaconda3/envs/symred/lib/python3.9/site-packages/symmer/symplectic/noncontextual_op.py:440: QUBOVertWarning: The input problem has degree <= 2; consider using the ``qubovert.sim.anneal_qubo`` or ``qubovert.sim.anneal_quso`` functions, which are significantly faster than this function because they take advantage of the low degree.\n",
      "  puso_res = qv.sim.anneal_puso(spin_problem, num_anneals=num_anneals)\n",
      "/Users/lex/anaconda3/envs/symred/lib/python3.9/site-packages/symmer/symplectic/noncontextual_op.py:440: QUBOVertWarning: The input problem has degree <= 2; consider using the ``qubovert.sim.anneal_qubo`` or ``qubovert.sim.anneal_quso`` functions, which are significantly faster than this function because they take advantage of the low degree.\n",
      "  puso_res = qv.sim.anneal_puso(spin_problem, num_anneals=num_anneals)\n",
      "/Users/lex/anaconda3/envs/symred/lib/python3.9/site-packages/symmer/symplectic/noncontextual_op.py:440: QUBOVertWarning: The input problem has degree <= 2; consider using the ``qubovert.sim.anneal_qubo`` or ``qubovert.sim.anneal_quso`` functions, which are significantly faster than this function because they take advantage of the low degree.\n",
      "  puso_res = qv.sim.anneal_puso(spin_problem, num_anneals=num_anneals)\n",
      "/Users/lex/anaconda3/envs/symred/lib/python3.9/site-packages/symmer/symplectic/noncontextual_op.py:440: QUBOVertWarning: The input problem has degree <= 2; consider using the ``qubovert.sim.anneal_qubo`` or ``qubovert.sim.anneal_quso`` functions, which are significantly faster than this function because they take advantage of the low degree.\n",
      "  puso_res = qv.sim.anneal_puso(spin_problem, num_anneals=num_anneals)\n",
      "/Users/lex/anaconda3/envs/symred/lib/python3.9/site-packages/symmer/symplectic/noncontextual_op.py:440: QUBOVertWarning: The input problem has degree <= 2; consider using the ``qubovert.sim.anneal_qubo`` or ``qubovert.sim.anneal_quso`` functions, which are significantly faster than this function because they take advantage of the low degree.\n",
      "  puso_res = qv.sim.anneal_puso(spin_problem, num_anneals=num_anneals)\n",
      "/Users/lex/anaconda3/envs/symred/lib/python3.9/site-packages/symmer/symplectic/noncontextual_op.py:440: QUBOVertWarning: The input problem has degree <= 2; consider using the ``qubovert.sim.anneal_qubo`` or ``qubovert.sim.anneal_quso`` functions, which are significantly faster than this function because they take advantage of the low degree.\n",
      "  puso_res = qv.sim.anneal_puso(spin_problem, num_anneals=num_anneals)\n",
      "/Users/lex/anaconda3/envs/symred/lib/python3.9/site-packages/symmer/symplectic/noncontextual_op.py:440: QUBOVertWarning: The input problem has degree <= 2; consider using the ``qubovert.sim.anneal_qubo`` or ``qubovert.sim.anneal_quso`` functions, which are significantly faster than this function because they take advantage of the low degree.\n",
      "  puso_res = qv.sim.anneal_puso(spin_problem, num_anneals=num_anneals)\n",
      "/Users/lex/anaconda3/envs/symred/lib/python3.9/site-packages/symmer/symplectic/noncontextual_op.py:440: QUBOVertWarning: The input problem has degree <= 2; consider using the ``qubovert.sim.anneal_qubo`` or ``qubovert.sim.anneal_quso`` functions, which are significantly faster than this function because they take advantage of the low degree.\n",
      "  puso_res = qv.sim.anneal_puso(spin_problem, num_anneals=num_anneals)\n",
      "/Users/lex/anaconda3/envs/symred/lib/python3.9/site-packages/symmer/symplectic/noncontextual_op.py:440: QUBOVertWarning: The input problem has degree <= 2; consider using the ``qubovert.sim.anneal_qubo`` or ``qubovert.sim.anneal_quso`` functions, which are significantly faster than this function because they take advantage of the low degree.\n",
      "  puso_res = qv.sim.anneal_puso(spin_problem, num_anneals=num_anneals)\n",
      "/Users/lex/anaconda3/envs/symred/lib/python3.9/site-packages/symmer/symplectic/noncontextual_op.py:440: QUBOVertWarning: The input problem has degree <= 2; consider using the ``qubovert.sim.anneal_qubo`` or ``qubovert.sim.anneal_quso`` functions, which are significantly faster than this function because they take advantage of the low degree.\n",
      "  puso_res = qv.sim.anneal_puso(spin_problem, num_anneals=num_anneals)\n",
      "/Users/lex/anaconda3/envs/symred/lib/python3.9/site-packages/symmer/symplectic/noncontextual_op.py:440: QUBOVertWarning: The input problem has degree <= 2; consider using the ``qubovert.sim.anneal_qubo`` or ``qubovert.sim.anneal_quso`` functions, which are significantly faster than this function because they take advantage of the low degree.\n",
      "  puso_res = qv.sim.anneal_puso(spin_problem, num_anneals=num_anneals)\n",
      "/Users/lex/anaconda3/envs/symred/lib/python3.9/site-packages/symmer/symplectic/noncontextual_op.py:440: QUBOVertWarning: The input problem has degree <= 2; consider using the ``qubovert.sim.anneal_qubo`` or ``qubovert.sim.anneal_quso`` functions, which are significantly faster than this function because they take advantage of the low degree.\n",
      "  puso_res = qv.sim.anneal_puso(spin_problem, num_anneals=num_anneals)\n",
      "/Users/lex/anaconda3/envs/symred/lib/python3.9/site-packages/symmer/symplectic/noncontextual_op.py:440: QUBOVertWarning: The input problem has degree <= 2; consider using the ``qubovert.sim.anneal_qubo`` or ``qubovert.sim.anneal_quso`` functions, which are significantly faster than this function because they take advantage of the low degree.\n",
      "  puso_res = qv.sim.anneal_puso(spin_problem, num_anneals=num_anneals)\n",
      "/Users/lex/anaconda3/envs/symred/lib/python3.9/site-packages/symmer/symplectic/noncontextual_op.py:440: QUBOVertWarning: The input problem has degree <= 2; consider using the ``qubovert.sim.anneal_qubo`` or ``qubovert.sim.anneal_quso`` functions, which are significantly faster than this function because they take advantage of the low degree.\n",
      "  puso_res = qv.sim.anneal_puso(spin_problem, num_anneals=num_anneals)\n",
      "/Users/lex/anaconda3/envs/symred/lib/python3.9/site-packages/symmer/symplectic/noncontextual_op.py:440: QUBOVertWarning: The input problem has degree <= 2; consider using the ``qubovert.sim.anneal_qubo`` or ``qubovert.sim.anneal_quso`` functions, which are significantly faster than this function because they take advantage of the low degree.\n",
      "  puso_res = qv.sim.anneal_puso(spin_problem, num_anneals=num_anneals)\n",
      "/Users/lex/anaconda3/envs/symred/lib/python3.9/site-packages/symmer/symplectic/noncontextual_op.py:440: QUBOVertWarning: The input problem has degree <= 2; consider using the ``qubovert.sim.anneal_qubo`` or ``qubovert.sim.anneal_quso`` functions, which are significantly faster than this function because they take advantage of the low degree.\n",
      "  puso_res = qv.sim.anneal_puso(spin_problem, num_anneals=num_anneals)\n",
      "/Users/lex/anaconda3/envs/symred/lib/python3.9/site-packages/symmer/symplectic/noncontextual_op.py:440: QUBOVertWarning: The input problem has degree <= 2; consider using the ``qubovert.sim.anneal_qubo`` or ``qubovert.sim.anneal_quso`` functions, which are significantly faster than this function because they take advantage of the low degree.\n",
      "  puso_res = qv.sim.anneal_puso(spin_problem, num_anneals=num_anneals)\n",
      "/Users/lex/anaconda3/envs/symred/lib/python3.9/site-packages/symmer/symplectic/noncontextual_op.py:440: QUBOVertWarning: The input problem has degree <= 2; consider using the ``qubovert.sim.anneal_qubo`` or ``qubovert.sim.anneal_quso`` functions, which are significantly faster than this function because they take advantage of the low degree.\n",
      "  puso_res = qv.sim.anneal_puso(spin_problem, num_anneals=num_anneals)\n",
      "/Users/lex/anaconda3/envs/symred/lib/python3.9/site-packages/symmer/symplectic/noncontextual_op.py:440: QUBOVertWarning: The input problem has degree <= 2; consider using the ``qubovert.sim.anneal_qubo`` or ``qubovert.sim.anneal_quso`` functions, which are significantly faster than this function because they take advantage of the low degree.\n",
      "  puso_res = qv.sim.anneal_puso(spin_problem, num_anneals=num_anneals)\n",
      "/Users/lex/anaconda3/envs/symred/lib/python3.9/site-packages/symmer/symplectic/noncontextual_op.py:440: QUBOVertWarning: The input problem has degree <= 2; consider using the ``qubovert.sim.anneal_qubo`` or ``qubovert.sim.anneal_quso`` functions, which are significantly faster than this function because they take advantage of the low degree.\n",
      "  puso_res = qv.sim.anneal_puso(spin_problem, num_anneals=num_anneals)\n",
      "/Users/lex/anaconda3/envs/symred/lib/python3.9/site-packages/symmer/symplectic/noncontextual_op.py:440: QUBOVertWarning: The input problem has degree <= 2; consider using the ``qubovert.sim.anneal_qubo`` or ``qubovert.sim.anneal_quso`` functions, which are significantly faster than this function because they take advantage of the low degree.\n",
      "  puso_res = qv.sim.anneal_puso(spin_problem, num_anneals=num_anneals)\n",
      "/Users/lex/anaconda3/envs/symred/lib/python3.9/site-packages/symmer/symplectic/noncontextual_op.py:440: QUBOVertWarning: The input problem has degree <= 2; consider using the ``qubovert.sim.anneal_qubo`` or ``qubovert.sim.anneal_quso`` functions, which are significantly faster than this function because they take advantage of the low degree.\n",
      "  puso_res = qv.sim.anneal_puso(spin_problem, num_anneals=num_anneals)\n",
      "/Users/lex/anaconda3/envs/symred/lib/python3.9/site-packages/symmer/symplectic/noncontextual_op.py:440: QUBOVertWarning: The input problem has degree <= 2; consider using the ``qubovert.sim.anneal_qubo`` or ``qubovert.sim.anneal_quso`` functions, which are significantly faster than this function because they take advantage of the low degree.\n",
      "  puso_res = qv.sim.anneal_puso(spin_problem, num_anneals=num_anneals)\n",
      "/Users/lex/anaconda3/envs/symred/lib/python3.9/site-packages/symmer/symplectic/noncontextual_op.py:440: QUBOVertWarning: The input problem has degree <= 2; consider using the ``qubovert.sim.anneal_qubo`` or ``qubovert.sim.anneal_quso`` functions, which are significantly faster than this function because they take advantage of the low degree.\n",
      "  puso_res = qv.sim.anneal_puso(spin_problem, num_anneals=num_anneals)\n",
      "/Users/lex/anaconda3/envs/symred/lib/python3.9/site-packages/symmer/symplectic/noncontextual_op.py:440: QUBOVertWarning: The input problem has degree <= 2; consider using the ``qubovert.sim.anneal_qubo`` or ``qubovert.sim.anneal_quso`` functions, which are significantly faster than this function because they take advantage of the low degree.\n",
      "  puso_res = qv.sim.anneal_puso(spin_problem, num_anneals=num_anneals)\n",
      "/Users/lex/anaconda3/envs/symred/lib/python3.9/site-packages/symmer/symplectic/noncontextual_op.py:440: QUBOVertWarning: The input problem has degree <= 2; consider using the ``qubovert.sim.anneal_qubo`` or ``qubovert.sim.anneal_quso`` functions, which are significantly faster than this function because they take advantage of the low degree.\n",
      "  puso_res = qv.sim.anneal_puso(spin_problem, num_anneals=num_anneals)\n",
      "/Users/lex/anaconda3/envs/symred/lib/python3.9/site-packages/symmer/symplectic/noncontextual_op.py:440: QUBOVertWarning: The input problem has degree <= 2; consider using the ``qubovert.sim.anneal_qubo`` or ``qubovert.sim.anneal_quso`` functions, which are significantly faster than this function because they take advantage of the low degree.\n",
      "  puso_res = qv.sim.anneal_puso(spin_problem, num_anneals=num_anneals)\n",
      "/Users/lex/anaconda3/envs/symred/lib/python3.9/site-packages/symmer/symplectic/noncontextual_op.py:440: QUBOVertWarning: The input problem has degree <= 2; consider using the ``qubovert.sim.anneal_qubo`` or ``qubovert.sim.anneal_quso`` functions, which are significantly faster than this function because they take advantage of the low degree.\n",
      "  puso_res = qv.sim.anneal_puso(spin_problem, num_anneals=num_anneals)\n",
      "/Users/lex/anaconda3/envs/symred/lib/python3.9/site-packages/symmer/symplectic/noncontextual_op.py:440: QUBOVertWarning: The input problem has degree <= 2; consider using the ``qubovert.sim.anneal_qubo`` or ``qubovert.sim.anneal_quso`` functions, which are significantly faster than this function because they take advantage of the low degree.\n",
      "  puso_res = qv.sim.anneal_puso(spin_problem, num_anneals=num_anneals)\n",
      "/Users/lex/anaconda3/envs/symred/lib/python3.9/site-packages/symmer/symplectic/noncontextual_op.py:440: QUBOVertWarning: The input problem has degree <= 2; consider using the ``qubovert.sim.anneal_qubo`` or ``qubovert.sim.anneal_quso`` functions, which are significantly faster than this function because they take advantage of the low degree.\n",
      "  puso_res = qv.sim.anneal_puso(spin_problem, num_anneals=num_anneals)\n",
      "/Users/lex/anaconda3/envs/symred/lib/python3.9/site-packages/symmer/symplectic/noncontextual_op.py:440: QUBOVertWarning: The input problem has degree <= 2; consider using the ``qubovert.sim.anneal_qubo`` or ``qubovert.sim.anneal_quso`` functions, which are significantly faster than this function because they take advantage of the low degree.\n",
      "  puso_res = qv.sim.anneal_puso(spin_problem, num_anneals=num_anneals)\n"
     ]
    },
    {
     "name": "stderr",
     "output_type": "stream",
     "text": [
      "/Users/lex/anaconda3/envs/symred/lib/python3.9/site-packages/symmer/symplectic/noncontextual_op.py:440: QUBOVertWarning: The input problem has degree <= 2; consider using the ``qubovert.sim.anneal_qubo`` or ``qubovert.sim.anneal_quso`` functions, which are significantly faster than this function because they take advantage of the low degree.\n",
      "  puso_res = qv.sim.anneal_puso(spin_problem, num_anneals=num_anneals)\n",
      "/Users/lex/anaconda3/envs/symred/lib/python3.9/site-packages/symmer/symplectic/noncontextual_op.py:440: QUBOVertWarning: The input problem has degree <= 2; consider using the ``qubovert.sim.anneal_qubo`` or ``qubovert.sim.anneal_quso`` functions, which are significantly faster than this function because they take advantage of the low degree.\n",
      "  puso_res = qv.sim.anneal_puso(spin_problem, num_anneals=num_anneals)\n",
      "/Users/lex/anaconda3/envs/symred/lib/python3.9/site-packages/symmer/symplectic/noncontextual_op.py:440: QUBOVertWarning: The input problem has degree <= 2; consider using the ``qubovert.sim.anneal_qubo`` or ``qubovert.sim.anneal_quso`` functions, which are significantly faster than this function because they take advantage of the low degree.\n",
      "  puso_res = qv.sim.anneal_puso(spin_problem, num_anneals=num_anneals)\n",
      "/Users/lex/anaconda3/envs/symred/lib/python3.9/site-packages/symmer/symplectic/noncontextual_op.py:440: QUBOVertWarning: The input problem has degree <= 2; consider using the ``qubovert.sim.anneal_qubo`` or ``qubovert.sim.anneal_quso`` functions, which are significantly faster than this function because they take advantage of the low degree.\n",
      "  puso_res = qv.sim.anneal_puso(spin_problem, num_anneals=num_anneals)\n"
     ]
    },
    {
     "data": {
      "text/plain": [
       "2.3314683517128287e-15"
      ]
     },
     "execution_count": 35,
     "metadata": {},
     "output_type": "execute_result"
    }
   ],
   "source": [
    "# annealing_PUSO\n",
    "energy, nu, r = H_noncon._energy_via_annealing_xUSO(x='P', num_anneals=100)\n",
    "energy-H_noncon.energy"
   ]
  },
  {
   "cell_type": "code",
   "execution_count": null,
   "id": "05dcab02",
   "metadata": {},
   "outputs": [],
   "source": []
  },
  {
   "cell_type": "code",
   "execution_count": null,
   "id": "666b1514",
   "metadata": {},
   "outputs": [],
   "source": []
  },
  {
   "cell_type": "code",
   "execution_count": null,
   "id": "3359961d",
   "metadata": {},
   "outputs": [],
   "source": []
  },
  {
   "cell_type": "code",
   "execution_count": null,
   "id": "405ae5dc",
   "metadata": {},
   "outputs": [],
   "source": []
  }
 ],
 "metadata": {
  "kernelspec": {
   "display_name": "Python 3 (ipykernel)",
   "language": "python",
   "name": "python3"
  },
  "language_info": {
   "codemirror_mode": {
    "name": "ipython",
    "version": 3
   },
   "file_extension": ".py",
   "mimetype": "text/x-python",
   "name": "python",
   "nbconvert_exporter": "python",
   "pygments_lexer": "ipython3",
   "version": "3.9.7"
  },
  "vscode": {
   "interpreter": {
    "hash": "916dbcbb3f70747c44a77c7bcd40155683ae19c65e1c03b4aa3499c5328201f1"
   }
  }
 },
 "nbformat": 4,
 "nbformat_minor": 5
}
