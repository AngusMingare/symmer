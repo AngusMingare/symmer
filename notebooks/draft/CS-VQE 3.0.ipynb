{
 "cells": [
  {
   "cell_type": "code",
   "execution_count": 1,
   "id": "f2399a14",
   "metadata": {},
   "outputs": [],
   "source": [
    "from symmer.projection import (\n",
    "    S3_projection, QubitTapering, CS_VQE_LW, CS_VQE,\n",
    "    StabilizerIdentification, ObservableBiasing, stabilizer_walk\n",
    ")\n",
    "from symmer.symplectic import *\n",
    "from symmer.utils import gf2_gaus_elim, gf2_basis_for_gf2_rref, exact_gs_energy, QubitOperator_to_dict\n",
    "from symmer.chem import geometry_from_pubchem, MoleculeBuilder, get_T2_mp2\n",
    "from matplotlib import pyplot as plt\n",
    "from functools import reduce\n",
    "from openfermion import jordan_wigner\n",
    "import json\n",
    "\n",
    "with open('../data/molecule_data.json', 'r') as infile:\n",
    "    molecule_geometries = json.load(infile)"
   ]
  },
  {
   "cell_type": "code",
   "execution_count": 20,
   "id": "84456bbc",
   "metadata": {},
   "outputs": [
    {
     "name": "stdout",
     "output_type": "stream",
     "text": [
      "Molecule geometry:\n",
      "F\t0.0\t0.0\t0.093761\n",
      "H\t0.0\t0.0\t-0.84385\n",
      "\n",
      "HF converged?   True\n",
      "CCSD converged? True\n",
      "FCI converged?  True\n",
      "\n",
      "HF energy:   -99.46021892473368\n",
      "MP2 energy:  -99.58344905881171\n",
      "CCSD energy: -99.58706294718117\n",
      "FCI energy:  -99.58791845765421\n",
      "\n",
      "\n",
      "Number of qubits: 22\n"
     ]
    }
   ],
   "source": [
    "speciesname = 'HF_3-21G_SINGLET'\n",
    "mol_data = molecule_geometries[speciesname]\n",
    "atoms  = mol_data['atoms']\n",
    "coords = mol_data['coords']\n",
    "basis = mol_data['basis']\n",
    "charge = mol_data['charge']\n",
    "geometry = list(zip(atoms, coords))\n",
    "molecule = MoleculeBuilder(geometry=geometry, charge=charge, basis=basis, spin=0, run_fci=True, print_info=True)\n",
    "\n",
    "# taper the Hamiltonian\n",
    "taper_hamiltonian = QubitTapering(molecule.H_q)\n",
    "hf_array = molecule.H_fermion.hf_comp_basis_state\n",
    "taper_hamiltonian.stabilizers.update_sector(hf_array)\n",
    "ham_tap = taper_hamiltonian.taper_it(ref_state=hf_array)\n",
    "ucc_tap = taper_hamiltonian.taper_it(aux_operator=molecule.T_q, ref_state=hf_array)\n",
    "hf_tapered = taper_hamiltonian.tapered_ref_state\n",
    "\n",
    "# initiate stabilizer identification classes\n",
    "CC_stabilizers = StabilizerIdentification(ucc_tap)"
   ]
  },
  {
   "cell_type": "code",
   "execution_count": 21,
   "id": "e25639aa",
   "metadata": {},
   "outputs": [
    {
     "data": {
      "text/plain": [
       "19"
      ]
     },
     "execution_count": 21,
     "metadata": {},
     "output_type": "execute_result"
    }
   ],
   "source": [
    "ham_tap.n_qubits"
   ]
  },
  {
   "cell_type": "code",
   "execution_count": 3,
   "id": "5406e569",
   "metadata": {},
   "outputs": [],
   "source": [
    "# build CS-VQE model\n",
    "cs_vqe = CS_VQE(ham_tap, hf_tapered, basis_weighting_operator=ucc_tap, noncontextual_form='diag')\n",
    "nc_before = cs_vqe.noncontextual_energy"
   ]
  },
  {
   "cell_type": "code",
   "execution_count": 4,
   "id": "f58fdd1e",
   "metadata": {},
   "outputs": [
    {
     "name": "stdout",
     "output_type": "stream",
     "text": [
      " 1 ZIIIIIIIIIIIIIIIIIIIIIIIII \n",
      " 1 IZIIIIIIIIIIIIIIIIIIIIIIII \n",
      " 1 IIZIIIIIIIIIIIIIIIIIIIIIII \n",
      " 1 IIIZIIIIIIIIIIIIIIIIIIIIII \n",
      " 1 IIIIZIIIIIIIIIIIIIIIIIIIII \n",
      " 1 IIIIIZIIZZIZZIZIZIIZIZIZZI \n",
      " 1 IIIIIIZIZZIZIZIZIZIZIZIZIZ \n",
      " 1 IIIIIIIZZIIIIIZZZZIIIIZZII \n",
      " 1 IIIIIIIIIIZZIIIIZZIIZZIIII\n"
     ]
    }
   ],
   "source": [
    "S = CC_stabilizers.symmetry_basis_by_subspace_dimension(17)\n",
    "print(S)"
   ]
  },
  {
   "cell_type": "code",
   "execution_count": null,
   "id": "e16cf7b4",
   "metadata": {},
   "outputs": [],
   "source": [
    "ham_cs  = cs_vqe.project_onto_subspace(S)\n",
    "matrix  = ham_cs.to_sparse_matrix"
   ]
  },
  {
   "cell_type": "code",
   "execution_count": null,
   "id": "4d4f64e0",
   "metadata": {},
   "outputs": [],
   "source": [
    "error_1 = exact_gs_energy(matrix)[0] - molecule.fci_energy\n",
    "error_1"
   ]
  },
  {
   "cell_type": "code",
   "execution_count": 125,
   "id": "bc687c33",
   "metadata": {},
   "outputs": [
    {
     "data": {
      "text/plain": [
       "array([1, 2])"
      ]
     },
     "execution_count": 125,
     "metadata": {},
     "output_type": "execute_result"
    }
   ],
   "source": [
    "unique_comm, inverse = np.unique(cs_vqe.contextual_operator.commutes_termwise(S), axis=0, return_inverse=True)\n",
    "single_anti = np.where(np.count_nonzero(~unique_comm, axis=1)==1)[0]\n",
    "single_anti\n",
    "#inverse==np.where(np.all(unique_comm, axis=1))[0]"
   ]
  },
  {
   "cell_type": "code",
   "execution_count": 126,
   "id": "51c1a4ea",
   "metadata": {},
   "outputs": [
    {
     "data": {
      "text/plain": [
       "0.060+0.000j IXIII +\n",
       "-0.060+0.000j IXZZZ +\n",
       "-0.038+0.000j ZXIII +\n",
       "-0.010+0.000j ZXIIZ +\n",
       "-0.010+0.000j ZXIZI +\n",
       "0.010+0.000j ZXIZZ +\n",
       "-0.010+0.000j ZXZII +\n",
       "0.010+0.000j ZXZIZ +\n",
       "0.010+0.000j ZXZZI +\n",
       "0.038+0.000j ZXZZZ"
      ]
     },
     "execution_count": 126,
     "metadata": {},
     "output_type": "execute_result"
    }
   ],
   "source": [
    "which = 1\n",
    "clique_0_mask = inverse==single_anti[which]\n",
    "OG = ObservableGraph(\n",
    "    cs_vqe.contextual_operator.symp_matrix[clique_0_mask], \n",
    "    cs_vqe.contextual_operator.coeff_vec[clique_0_mask]\n",
    ")\n",
    "commuting_cliques = OG.clique_cover(clique_relation='C', colouring_strategy='largest_first')\n",
    "clique_0 = sorted(commuting_cliques.values(), key=lambda x:-x.n_terms)[0]\n",
    "clique_0"
   ]
  },
  {
   "cell_type": "code",
   "execution_count": 127,
   "id": "86d32146",
   "metadata": {},
   "outputs": [],
   "source": [
    "C1 = S[int(np.where(~unique_comm[single_anti[which]])[0][0])]\n",
    "clique_1_mask = np.where(\n",
    "    C1.commutes_termwise(ham_tap) & np.all(~ham_tap.commutes_termwise(clique_0), axis=1)\n",
    ")[1]\n",
    "clique_1 = PauliwordOp(\n",
    "    ham_tap.symp_matrix[clique_1_mask],\n",
    "    ham_tap.coeff_vec[clique_1_mask]\n",
    ")"
   ]
  },
  {
   "cell_type": "code",
   "execution_count": 128,
   "id": "04b2859a",
   "metadata": {},
   "outputs": [],
   "source": [
    "#C1 = S[int(np.where(~unique_comm[single_anti[0]])[0][0])]"
   ]
  },
  {
   "cell_type": "code",
   "execution_count": 129,
   "id": "be473348",
   "metadata": {},
   "outputs": [],
   "source": [
    "#(cs_vqe.noncontextual_operator + clique_0).is_noncontextual"
   ]
  },
  {
   "cell_type": "code",
   "execution_count": 130,
   "id": "96ed5bdc",
   "metadata": {},
   "outputs": [
    {
     "data": {
      "text/plain": [
       "True"
      ]
     },
     "execution_count": 130,
     "metadata": {},
     "output_type": "execute_result"
    }
   ],
   "source": [
    "noncon_op = clique_0 + clique_1# + S\n",
    "universal_mask = np.where(np.all(ham_tap.commutes_termwise(noncon_op), axis=1))\n",
    "noncon_op += PauliwordOp(\n",
    "    ham_tap.symp_matrix[universal_mask], \n",
    "    ham_tap.coeff_vec[universal_mask]\n",
    ")\n",
    "noncon_op.is_noncontextual"
   ]
  },
  {
   "cell_type": "code",
   "execution_count": 131,
   "id": "3d070827",
   "metadata": {},
   "outputs": [],
   "source": [
    "cs_vqe.noncontextual_operator = noncon_op\n",
    "ref_state = hf_tapered\n",
    "self = cs_vqe\n",
    "self.symmetry_generators, self.clique_operator = self.noncontextual_basis()\n",
    "# Reconstruct the noncontextual Hamiltonian into its G and C(r) components\n",
    "self.G_indices, self.r_indices, self.pauli_mult_signs = self.noncontextual_reconstruction()\n",
    "# determine the noncontextual ground state - this updates the coefficients of the clique \n",
    "# representative operator C(r) and symmetry generators G with the optimal configuration\n",
    "self.solve_noncontextual(ref_state)\n",
    "# Determine the unitary partitioning rotations and the single Pauli operator that is rotated onto\n",
    "if self.n_cliques > 0:\n",
    "    self.unitary_partitioning_rotations, self.C0 = self.clique_operator.gen_seq_rotations()\n",
    "    self.C0.coeff_vec[0] = round(self.C0.coeff_vec[0].real)\n",
    "    \n",
    "nc_after = cs_vqe.noncontextual_energy"
   ]
  },
  {
   "cell_type": "code",
   "execution_count": 132,
   "id": "93f891e7",
   "metadata": {},
   "outputs": [
    {
     "data": {
      "text/plain": [
       "0.000 IXIII +\n",
       "-1.000 IZZZZ"
      ]
     },
     "execution_count": 132,
     "metadata": {},
     "output_type": "execute_result"
    }
   ],
   "source": [
    "cs_vqe.clique_operator"
   ]
  },
  {
   "cell_type": "code",
   "execution_count": 133,
   "id": "994c344e",
   "metadata": {},
   "outputs": [
    {
     "data": {
      "text/plain": [
       "0.000326505291548429"
      ]
     },
     "execution_count": 133,
     "metadata": {},
     "output_type": "execute_result"
    }
   ],
   "source": [
    "S_new = S - C1\n",
    "error_2 = exact_gs_energy(cs_vqe.project_onto_subspace(S_new, enforce_clique_operator=True).to_sparse_matrix)[0] - molecule.fci_energy\n",
    "error_2"
   ]
  },
  {
   "cell_type": "code",
   "execution_count": 134,
   "id": "225ec721",
   "metadata": {},
   "outputs": [
    {
     "data": {
      "text/plain": [
       "6.423075404882184e-10"
      ]
     },
     "execution_count": 134,
     "metadata": {},
     "output_type": "execute_result"
    }
   ],
   "source": [
    "error_1 - error_2"
   ]
  },
  {
   "cell_type": "code",
   "execution_count": 135,
   "id": "f0fa0c1e",
   "metadata": {},
   "outputs": [
    {
     "data": {
      "text/plain": [
       "-14.351880476202032"
      ]
     },
     "execution_count": 135,
     "metadata": {},
     "output_type": "execute_result"
    }
   ],
   "source": [
    "nc_before"
   ]
  },
  {
   "cell_type": "code",
   "execution_count": 136,
   "id": "560a3e06",
   "metadata": {},
   "outputs": [
    {
     "data": {
      "text/plain": [
       "-14.35188047620202"
      ]
     },
     "execution_count": 136,
     "metadata": {},
     "output_type": "execute_result"
    }
   ],
   "source": [
    "nc_after"
   ]
  },
  {
   "cell_type": "code",
   "execution_count": 137,
   "id": "1429d2b1",
   "metadata": {},
   "outputs": [
    {
     "data": {
      "text/plain": [
       "-14.351880476202023"
      ]
     },
     "execution_count": 137,
     "metadata": {},
     "output_type": "execute_result"
    }
   ],
   "source": [
    "molecule.hf_energy"
   ]
  },
  {
   "cell_type": "code",
   "execution_count": 138,
   "id": "51cada96",
   "metadata": {},
   "outputs": [
    {
     "data": {
      "text/plain": [
       " 1 ZIZZZ \n",
       " 1 IZZZZ"
      ]
     },
     "execution_count": 138,
     "metadata": {},
     "output_type": "execute_result"
    }
   ],
   "source": [
    "S"
   ]
  },
  {
   "cell_type": "code",
   "execution_count": null,
   "id": "8c339213",
   "metadata": {},
   "outputs": [],
   "source": []
  }
 ],
 "metadata": {
  "kernelspec": {
   "display_name": "Python 3 (ipykernel)",
   "language": "python",
   "name": "python3"
  },
  "language_info": {
   "codemirror_mode": {
    "name": "ipython",
    "version": 3
   },
   "file_extension": ".py",
   "mimetype": "text/x-python",
   "name": "python",
   "nbconvert_exporter": "python",
   "pygments_lexer": "ipython3",
   "version": "3.8.8"
  }
 },
 "nbformat": 4,
 "nbformat_minor": 5
}
