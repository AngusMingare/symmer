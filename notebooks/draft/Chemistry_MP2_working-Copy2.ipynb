{
 "cells": [
  {
   "cell_type": "code",
   "execution_count": 1,
   "id": "f3710a6a",
   "metadata": {},
   "outputs": [],
   "source": [
    "from symred.chem import xyz_from_pubchem\n",
    "import numpy as np\n",
    "from openfermion import FermionOperator\n",
    "from scipy.sparse.linalg import expm\n",
    "from openfermion import get_sparse_operator"
   ]
  },
  {
   "cell_type": "code",
   "execution_count": 2,
   "id": "dec3d812",
   "metadata": {},
   "outputs": [],
   "source": [
    "mol_name = 'H2O'\n",
    "# # mol_name = 'H2'\n",
    "\n",
    "# mol_name = 'LiH'"
   ]
  },
  {
   "cell_type": "code",
   "execution_count": null,
   "id": "63a6568e",
   "metadata": {},
   "outputs": [],
   "source": []
  },
  {
   "cell_type": "code",
   "execution_count": 3,
   "id": "d8ad2efa",
   "metadata": {},
   "outputs": [
    {
     "name": "stdout",
     "output_type": "stream",
     "text": [
      "3\n",
      " \n",
      "O\t0\t0\t0\n",
      "H\t0.2774\t0.8929\t0.2544\n",
      "H\t0.6068\t-0.2383\t-0.7169\n",
      "\n"
     ]
    }
   ],
   "source": [
    "xyz_file = xyz_from_pubchem(mol_name)\n",
    "print(xyz_file)"
   ]
  },
  {
   "cell_type": "code",
   "execution_count": 4,
   "id": "95f9bc28",
   "metadata": {},
   "outputs": [],
   "source": [
    "from symred.chem import PySCFDriver"
   ]
  },
  {
   "cell_type": "code",
   "execution_count": 5,
   "id": "d9f43d4d",
   "metadata": {},
   "outputs": [],
   "source": [
    "basis = 'STO-3G'\n",
    "convergence = 1e6\n",
    "charge=0\n",
    "max_hf_cycles=50\n",
    "ram = 8_000\n",
    "run_mp2  = True,\n",
    "run_cisd = True,\n",
    "run_ccsd = True,\n",
    "run_fci  = True"
   ]
  },
  {
   "cell_type": "code",
   "execution_count": 6,
   "id": "cfc5202e",
   "metadata": {},
   "outputs": [],
   "source": [
    "pyscf_obj = PySCFDriver(xyz_file,\n",
    "                       basis,\n",
    "                       convergence=convergence,\n",
    "                       charge=charge,\n",
    "                       max_ram_memory=ram,\n",
    "                       max_hf_cycles=max_hf_cycles,\n",
    "                       \n",
    "                       run_mp2=run_mp2,\n",
    "                       run_cisd=run_cisd,\n",
    "                       run_ccsd=run_ccsd,\n",
    "                       run_fci=run_fci)"
   ]
  },
  {
   "cell_type": "code",
   "execution_count": 7,
   "id": "18b401b7",
   "metadata": {},
   "outputs": [],
   "source": [
    "pyscf_obj.run_pyscf()"
   ]
  },
  {
   "cell_type": "code",
   "execution_count": 8,
   "id": "c0c0a3e9",
   "metadata": {},
   "outputs": [
    {
     "data": {
      "text/plain": [
       "14"
      ]
     },
     "execution_count": 8,
     "metadata": {},
     "output_type": "execute_result"
    }
   ],
   "source": [
    "2*pyscf_obj.pyscf_hf.mol.nao"
   ]
  },
  {
   "cell_type": "code",
   "execution_count": 9,
   "id": "27fced21",
   "metadata": {},
   "outputs": [],
   "source": [
    "from symred.chem import FermionicHamilt"
   ]
  },
  {
   "cell_type": "code",
   "execution_count": 10,
   "id": "d577285b",
   "metadata": {},
   "outputs": [],
   "source": [
    "H_ferm = FermionicHamilt(pyscf_obj.pyscf_hf)\n",
    "\n",
    "H_ferm.build_operator()\n",
    "# H_ferm.fermionic_molecular_hamiltonian"
   ]
  },
  {
   "cell_type": "code",
   "execution_count": 11,
   "id": "a55e797c",
   "metadata": {},
   "outputs": [
    {
     "data": {
      "text/plain": [
       "array([1, 1, 1, 1, 1, 1, 1, 1, 1, 1, 0, 0, 0, 0])"
      ]
     },
     "execution_count": 11,
     "metadata": {},
     "output_type": "execute_result"
    }
   ],
   "source": [
    "hf_state = H_ferm.hf_comp_basis_state\n",
    "hf_state\n"
   ]
  },
  {
   "cell_type": "code",
   "execution_count": 17,
   "id": "14578438",
   "metadata": {},
   "outputs": [
    {
     "data": {
      "text/plain": [
       "(16384,)"
      ]
     },
     "execution_count": 17,
     "metadata": {},
     "output_type": "execute_result"
    }
   ],
   "source": [
    "hf_ket = H_ferm.hf_ket\n",
    "hf_ket.shape"
   ]
  },
  {
   "cell_type": "code",
   "execution_count": 12,
   "id": "3cb837f4",
   "metadata": {},
   "outputs": [
    {
     "name": "stdout",
     "output_type": "stream",
     "text": [
      "-74.96386325726527\n",
      "-74.96386325726527\n"
     ]
    },
    {
     "ename": "NameError",
     "evalue": "name 'hf_ket' is not defined",
     "output_type": "error",
     "traceback": [
      "\u001b[0;31m---------------------------------------------------------------------------\u001b[0m",
      "\u001b[0;31mNameError\u001b[0m                                 Traceback (most recent call last)",
      "\u001b[0;32m/var/folders/7l/9g4tmq2s5zg48_szmd8z7qh40000gn/T/ipykernel_58723/459904161.py\u001b[0m in \u001b[0;36m<cell line: 5>\u001b[0;34m()\u001b[0m\n\u001b[1;32m      3\u001b[0m \u001b[0;34m\u001b[0m\u001b[0m\n\u001b[1;32m      4\u001b[0m \u001b[0mH_mat\u001b[0m \u001b[0;34m=\u001b[0m \u001b[0mH_ferm\u001b[0m\u001b[0;34m.\u001b[0m\u001b[0mget_sparse_ham\u001b[0m\u001b[0;34m(\u001b[0m\u001b[0;34m)\u001b[0m\u001b[0;34m\u001b[0m\u001b[0;34m\u001b[0m\u001b[0m\n\u001b[0;32m----> 5\u001b[0;31m \u001b[0mhf_ket\u001b[0m\u001b[0;34m.\u001b[0m\u001b[0mconj\u001b[0m\u001b[0;34m(\u001b[0m\u001b[0;34m)\u001b[0m\u001b[0;34m.\u001b[0m\u001b[0mT\u001b[0m \u001b[0;34m@\u001b[0m \u001b[0mH_mat\u001b[0m \u001b[0;34m@\u001b[0m \u001b[0mhf_ket\u001b[0m\u001b[0;34m\u001b[0m\u001b[0;34m\u001b[0m\u001b[0m\n\u001b[0m",
      "\u001b[0;31mNameError\u001b[0m: name 'hf_ket' is not defined"
     ]
    }
   ],
   "source": [
    "print(H_ferm.scf_method.energy_tot())\n",
    "print(pyscf_obj.pyscf_hf.energy_tot())\n",
    "\n",
    "H_mat = H_ferm.get_sparse_ham()\n",
    "hf_ket.conj().T @ H_mat @ hf_ket"
   ]
  },
  {
   "cell_type": "code",
   "execution_count": null,
   "id": "fb6897f7",
   "metadata": {},
   "outputs": [],
   "source": [
    "one_body_integrals = H_ferm._one_body_integrals\n",
    "two_body_integrals = H_ferm._two_body_integrals\n",
    "\n",
    "g = two_body_integrals\n",
    "fij = pyscf_obj.pyscf_hf.mo_energy\n",
    "\n",
    "nocc = H_ferm.n_electrons // 2  # this is never the active space\n",
    "e_orbs_occ = fij[:nocc]\n",
    "e_i = e_orbs_occ.reshape(1, 1, -1, 1)\n",
    "e_j = e_orbs_occ.reshape(1, 1, 1, -1)\n",
    "\n",
    "e_orbs_vir = fij[nocc:]\n",
    "e_a = e_orbs_vir.reshape(-1, 1, 1, 1)\n",
    "e_b = e_orbs_vir.reshape(1, -1, 1, 1)\n",
    "\n",
    "abgij = g[nocc:, nocc:, :nocc, :nocc]\n",
    "amplitudes = abgij * 1.0 / (e_i + e_j - e_a - e_b)\n",
    "E = 2.0 * np.einsum('abij,abij->', amplitudes, abgij) - np.einsum('abji,abij', amplitudes, abgij,\n",
    "                                                                        optimize='greedy')\n",
    "\n",
    "E"
   ]
  },
  {
   "cell_type": "code",
   "execution_count": 53,
   "id": "ca98febf",
   "metadata": {},
   "outputs": [
    {
     "data": {
      "text/plain": [
       "array([-2.02456292e+01, -1.29168653e+00, -6.16741573e-01, -4.92519800e-01,\n",
       "       -3.99932004e-01, -1.31278880e-02, -4.49575683e-03])"
      ]
     },
     "execution_count": 53,
     "metadata": {},
     "output_type": "execute_result"
    }
   ],
   "source": [
    "F_MO@ state_new"
   ]
  },
  {
   "cell_type": "code",
   "execution_count": 44,
   "id": "96150792",
   "metadata": {},
   "outputs": [
    {
     "data": {
      "text/plain": [
       "array([-19.99076276,  -1.17811723,  -0.56047599,  -0.35032754,\n",
       "        -0.2639027 ,   0.63476246,   0.76806442])"
      ]
     },
     "execution_count": 44,
     "metadata": {},
     "output_type": "execute_result"
    }
   ],
   "source": [
    "pyscf_obj.pyscf_hf.mo_energy"
   ]
  },
  {
   "cell_type": "code",
   "execution_count": 39,
   "id": "f0d6ae6e",
   "metadata": {},
   "outputs": [
    {
     "data": {
      "text/plain": [
       "-23.008080140342994"
      ]
     },
     "execution_count": 39,
     "metadata": {},
     "output_type": "execute_result"
    }
   ],
   "source": [
    "sum(np.diag(F_MO[:5]))"
   ]
  },
  {
   "cell_type": "code",
   "execution_count": 47,
   "id": "a913925e",
   "metadata": {},
   "outputs": [
    {
     "data": {
      "text/plain": [
       "5"
      ]
     },
     "execution_count": 47,
     "metadata": {},
     "output_type": "execute_result"
    }
   ],
   "source": [
    "pyscf_obj.pyscf_hf.mol.nelectron//2"
   ]
  },
  {
   "cell_type": "code",
   "execution_count": 56,
   "id": "9fc31066",
   "metadata": {},
   "outputs": [
    {
     "data": {
      "text/plain": [
       "7"
      ]
     },
     "execution_count": 56,
     "metadata": {},
     "output_type": "execute_result"
    }
   ],
   "source": [
    "F_MO.shape[0]"
   ]
  },
  {
   "cell_type": "code",
   "execution_count": 71,
   "id": "2686f92f",
   "metadata": {},
   "outputs": [],
   "source": [
    "F_MO = pyscf_obj.pyscf_hf.mo_coeff.T @  pyscf_obj.pyscf_hf.get_fock() @ pyscf_obj.pyscf_hf.mo_coeff\n",
    "\n",
    "two_body_integrals = np.zeros((F_MO.shape[0],F_MO.shape[0],F_MO.shape[0],F_MO.shape[0]))\n",
    "\n",
    "from openfermion import InteractionOperator #, get_sparse_operator, FermionOperator\n",
    "from openfermion.chem.molecular_data import spinorb_from_spatial\n",
    "\n",
    "one_body_coefficients, two_body_coefficients = spinorb_from_spatial(\n",
    "    F_MO, two_body_integrals\n",
    ")\n",
    "\n",
    "FF = InteractionOperator(0,\n",
    "                      one_body_coefficients,\n",
    "                      two_body_coefficients)\n",
    "\n"
   ]
  },
  {
   "cell_type": "code",
   "execution_count": 185,
   "id": "3edfb88f",
   "metadata": {},
   "outputs": [
    {
     "data": {
      "text/plain": [
       "array([[ True,  True,  True,  True,  True,  True,  True],\n",
       "       [ True,  True,  True,  True,  True,  True,  True],\n",
       "       [ True,  True,  True,  True,  True,  True,  True],\n",
       "       [ True,  True,  True,  True,  True,  True,  True],\n",
       "       [ True,  True,  True,  True,  True,  True,  True],\n",
       "       [ True,  True,  True,  True,  True,  True,  True],\n",
       "       [ True,  True,  True,  True,  True,  True,  True]])"
      ]
     },
     "execution_count": 185,
     "metadata": {},
     "output_type": "execute_result"
    }
   ],
   "source": [
    "J = pyscf_obj.pyscf_hf.get_j()\n",
    "K = pyscf_obj.pyscf_hf.get_k()\n",
    "hcore = pyscf_obj.pyscf_hf.get_hcore()\n",
    "pyscf_obj.pyscf_hf.get_fock() ==  hcore + (J-0.5*K) "
   ]
  },
  {
   "cell_type": "code",
   "execution_count": 186,
   "id": "5f70fe04",
   "metadata": {},
   "outputs": [
    {
     "data": {
      "text/plain": [
       "(-84.04822776924128+0j)"
      ]
     },
     "execution_count": 186,
     "metadata": {},
     "output_type": "execute_result"
    }
   ],
   "source": [
    "JK_MO = pyscf_obj.pyscf_hf.mo_coeff.T @  (J/2-K/4) @ pyscf_obj.pyscf_hf.mo_coeff\n",
    "F_MO = pyscf_obj.pyscf_hf.mo_coeff.T @  pyscf_obj.pyscf_hf.get_fock() @ pyscf_obj.pyscf_hf.mo_coeff\n",
    "F_MO = F_MO - JK_MO\n",
    "\n",
    "two_body_integrals = np.zeros((F_MO.shape[0],F_MO.shape[0],F_MO.shape[0],F_MO.shape[0]))\n",
    "\n",
    "from openfermion import InteractionOperator #, get_sparse_operator, FermionOperator\n",
    "from openfermion.chem.molecular_data import spinorb_from_spatial\n",
    "\n",
    "one_body_coefficients, two_body_coefficients = spinorb_from_spatial(\n",
    "    F_MO, two_body_integrals\n",
    ")\n",
    "\n",
    "FF = InteractionOperator(0,\n",
    "                      one_body_coefficients,\n",
    "                      two_body_coefficients)\n",
    "\n",
    "H_ferm.hf_ket.T @ get_sparse_operator(FF) @ H_ferm.hf_ket"
   ]
  },
  {
   "cell_type": "code",
   "execution_count": 198,
   "id": "7715ea57",
   "metadata": {},
   "outputs": [],
   "source": [
    "V = get_sparse_operator(H_ferm.fermionic_molecular_hamiltonian) - get_sparse_operator(FF)"
   ]
  },
  {
   "cell_type": "code",
   "execution_count": 199,
   "id": "9fe888a5",
   "metadata": {},
   "outputs": [
    {
     "data": {
      "text/plain": [
       "(-74.96386325726526+0j)"
      ]
     },
     "execution_count": 199,
     "metadata": {},
     "output_type": "execute_result"
    }
   ],
   "source": [
    "H_ferm.hf_ket.T @ get_sparse_operator(FF) @ H_ferm.hf_ket + H_ferm.hf_ket.T @ V @ H_ferm.hf_ket"
   ]
  },
  {
   "cell_type": "code",
   "execution_count": 200,
   "id": "eddc4687",
   "metadata": {},
   "outputs": [
    {
     "data": {
      "text/plain": [
       "-75.00118490739871"
      ]
     },
     "execution_count": 200,
     "metadata": {},
     "output_type": "execute_result"
    }
   ],
   "source": [
    "pyscf_obj.pyscf_mp2.e_tot"
   ]
  },
  {
   "cell_type": "code",
   "execution_count": 183,
   "id": "5b52e911",
   "metadata": {},
   "outputs": [
    {
     "data": {
      "text/plain": [
       "(-127.00077278102881+0j)"
      ]
     },
     "execution_count": 183,
     "metadata": {},
     "output_type": "execute_result"
    }
   ],
   "source": [
    "F_MO = pyscf_obj.pyscf_hf.mo_coeff.T @  (hcore + J/3 -K ) @ pyscf_obj.pyscf_hf.mo_coeff\n",
    "# F_MO = pyscf_obj.pyscf_hf.mo_coeff.T @  pyscf_obj.pyscf_hf.get_fock() @ pyscf_obj.pyscf_hf.mo_coeff\n",
    "# F_MO = F_MO - JK_MO\n",
    "\n",
    "two_body_integrals = np.zeros((F_MO.shape[0],F_MO.shape[0],F_MO.shape[0],F_MO.shape[0]))\n",
    "\n",
    "from openfermion import InteractionOperator #, get_sparse_operator, FermionOperator\n",
    "from openfermion.chem.molecular_data import spinorb_from_spatial\n",
    "\n",
    "one_body_coefficients, two_body_coefficients = spinorb_from_spatial(\n",
    "    F_MO, two_body_integrals\n",
    ")\n",
    "\n",
    "FF = InteractionOperator(0,\n",
    "                      one_body_coefficients,\n",
    "                      two_body_coefficients)\n",
    "\n",
    "H_ferm.hf_ket.T @ get_sparse_operator(FF) @ H_ferm.hf_ket"
   ]
  },
  {
   "cell_type": "code",
   "execution_count": 143,
   "id": "eb4efb3e",
   "metadata": {},
   "outputs": [],
   "source": [
    "F_MO = pyscf_obj.pyscf_hf.mo_coeff.T @  pyscf_obj.pyscf_hf.get_fock() @ pyscf_obj.pyscf_hf.mo_coeff\n",
    "J_MO = pyscf_obj.pyscf_hf.mo_coeff.T @  pyscf_obj.pyscf_hf.get_k() @ pyscf_obj.pyscf_hf.mo_coeff\n",
    "\n",
    "F_MO = F_MO  - 2*J_MO\n",
    "\n",
    "two_body_integrals = np.zeros((F_MO.shape[0],F_MO.shape[0],F_MO.shape[0],F_MO.shape[0]))\n",
    "\n",
    "from openfermion import InteractionOperator #, get_sparse_operator, FermionOperator\n",
    "from openfermion.chem.molecular_data import spinorb_from_spatial\n",
    "\n",
    "one_body_coefficients, two_body_coefficients = spinorb_from_spatial(\n",
    "    F_MO, two_body_integrals\n",
    ")\n",
    "\n",
    "FF = InteractionOperator(0,\n",
    "                      one_body_coefficients,\n",
    "                      two_body_coefficients)\n",
    "\n"
   ]
  },
  {
   "cell_type": "code",
   "execution_count": 146,
   "id": "a81f7235",
   "metadata": {},
   "outputs": [
    {
     "data": {
      "text/plain": [
       "(18.165113509361472+0j)"
      ]
     },
     "execution_count": 146,
     "metadata": {},
     "output_type": "execute_result"
    }
   ],
   "source": [
    "H_ferm.hf_ket.T @ get_sparse_operator(FF) @ H_ferm.hf_ket"
   ]
  },
  {
   "cell_type": "code",
   "execution_count": 148,
   "id": "722db690",
   "metadata": {},
   "outputs": [
    {
     "name": "stdout",
     "output_type": "stream",
     "text": [
      "(-84.04822776924131, 38.0320674885553)\n"
     ]
    },
    {
     "data": {
      "text/plain": [
       "-46.01616028068601"
      ]
     },
     "execution_count": 148,
     "metadata": {},
     "output_type": "execute_result"
    }
   ],
   "source": [
    "print(pyscf_obj.pyscf_hf.energy_elec())\n",
    "sum(pyscf_obj.pyscf_hf.energy_elec())"
   ]
  },
  {
   "cell_type": "code",
   "execution_count": 111,
   "id": "e69ed5d5",
   "metadata": {},
   "outputs": [
    {
     "data": {
      "text/plain": [
       "(23.557312121617983+0j)"
      ]
     },
     "execution_count": 111,
     "metadata": {},
     "output_type": "execute_result"
    }
   ],
   "source": [
    "sum(pyscf_obj.pyscf_hf.energy_elec()) - H_ferm.hf_ket.T @ get_sparse_operator(FF) @ H_ferm.hf_ket"
   ]
  },
  {
   "cell_type": "code",
   "execution_count": 92,
   "id": "19a70c70",
   "metadata": {},
   "outputs": [
    {
     "data": {
      "text/plain": [
       "(-46.01616028068598+0j)"
      ]
     },
     "execution_count": 92,
     "metadata": {},
     "output_type": "execute_result"
    }
   ],
   "source": [
    "H_ferm.hf_ket.T @ get_sparse_operator(FF) @ H_ferm.hf_ket"
   ]
  },
  {
   "cell_type": "code",
   "execution_count": 36,
   "id": "c140a5f8",
   "metadata": {},
   "outputs": [
    {
     "data": {
      "text/plain": [
       "-0.8146034351637497"
      ]
     },
     "execution_count": 36,
     "metadata": {},
     "output_type": "execute_result"
    }
   ],
   "source": [
    "ind = 5\n",
    "pyscf_obj.pyscf_hf.mo_coeff[:,ind].T @ F_MO @ pyscf_obj.pyscf_hf.mo_coeff[:,ind]"
   ]
  },
  {
   "cell_type": "code",
   "execution_count": 23,
   "id": "8d73491e",
   "metadata": {},
   "outputs": [],
   "source": [
    "state_new = pyscf_obj.pyscf_hf.mo_occ//2"
   ]
  },
  {
   "cell_type": "code",
   "execution_count": 19,
   "id": "13ba7980",
   "metadata": {},
   "outputs": [
    {
     "data": {
      "text/plain": [
       "(7, 7)"
      ]
     },
     "execution_count": 19,
     "metadata": {},
     "output_type": "execute_result"
    }
   ],
   "source": [
    "np.ones"
   ]
  },
  {
   "cell_type": "code",
   "execution_count": null,
   "id": "3da74c14",
   "metadata": {},
   "outputs": [],
   "source": [
    "ijgij = g[:nocc, :nocc, :nocc, :nocc]\n",
    "h_ij = one_body_integrals[:nocc, :nocc]\n",
    "g_ijji = np.einsum('ijkl->ijlk',ijgij)\n",
    "\n",
    "np.einsum('ii->', h_ij) + (np.einsum('ijij->',ijgij)  - 2*np.einsum('ijji->', ijgij))"
   ]
  },
  {
   "cell_type": "code",
   "execution_count": 136,
   "id": "32604d29",
   "metadata": {},
   "outputs": [
    {
     "data": {
      "text/plain": [
       "array([-19.99076276,  -1.17811723,  -0.56047599,  -0.35032754,\n",
       "        -0.2639027 ,   0.63476246,   0.76806442])"
      ]
     },
     "execution_count": 136,
     "metadata": {},
     "output_type": "execute_result"
    }
   ],
   "source": [
    "fij"
   ]
  },
  {
   "cell_type": "code",
   "execution_count": null,
   "id": "f6fc04db",
   "metadata": {},
   "outputs": [],
   "source": [
    "one_body_integrals = H_ferm._one_body_integrals\n",
    "two_body_integrals = H_ferm._two_body_integrals\n",
    "\n",
    "g = two_body_integrals\n",
    "fij = pyscf_obj.pyscf_hf.mo_energy\n",
    "\n",
    "nocc = H_ferm.n_electrons // 2  # this is never the active space\n",
    "e_orbs_occ = fij[:nocc]\n",
    "e_i = e_orbs_occ.reshape(1, 1, -1, 1)\n",
    "e_j = e_orbs_occ.reshape(1, 1, 1, -1)\n",
    "\n",
    "e_orbs_vir = fij[nocc:]\n",
    "e_a = e_orbs_vir.reshape(-1, 1, 1, 1)\n",
    "e_b = e_orbs_vir.reshape(1, -1, 1, 1)\n",
    "\n",
    "abgij = g[nocc:, nocc:, :nocc, :nocc]"
   ]
  }
 ],
 "metadata": {
  "kernelspec": {
   "display_name": "Python 3 (ipykernel)",
   "language": "python",
   "name": "python3"
  },
  "language_info": {
   "codemirror_mode": {
    "name": "ipython",
    "version": 3
   },
   "file_extension": ".py",
   "mimetype": "text/x-python",
   "name": "python",
   "nbconvert_exporter": "python",
   "pygments_lexer": "ipython3",
   "version": "3.9.7"
  }
 },
 "nbformat": 4,
 "nbformat_minor": 5
}
