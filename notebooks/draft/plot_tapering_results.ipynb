{
 "cells": [
  {
   "cell_type": "code",
   "execution_count": 60,
   "id": "57cdf7ea",
   "metadata": {},
   "outputs": [],
   "source": [
    "import numpy as np\n",
    "import json\n",
    "from matplotlib import pyplot as plt"
   ]
  },
  {
   "cell_type": "code",
   "execution_count": 61,
   "id": "b4d1355f",
   "metadata": {},
   "outputs": [],
   "source": [
    "with open('../data/molecule_data.json', 'r') as jfile:\n",
    "    molecule_geometries = json.load(jfile)\n",
    "with open('../data/score_data.json', 'r') as infile:\n",
    "    scoring_data_1 = json.load(infile)\n",
    "with open('../data/score_data_2.json', 'r') as infile:\n",
    "    scoring_data_2 = json.load(infile)\n",
    "with open('../data/score_vs_energy.json', 'r') as infile:\n",
    "    randomized = json.load(infile)"
   ]
  },
  {
   "cell_type": "code",
   "execution_count": 62,
   "id": "29249d67",
   "metadata": {},
   "outputs": [],
   "source": [
    "qubit_data = []\n",
    "\n",
    "for speciesname in scoring_data_1:\n",
    "    before = scoring_data_1[speciesname]['n_qubits_pre_taper']\n",
    "    after = scoring_data_1[speciesname]['n_qubits_post_taper']\n",
    "    qubit_data.append((before, after))\n",
    "\n",
    "X,Y = zip(*qubit_data)"
   ]
  },
  {
   "cell_type": "code",
   "execution_count": 63,
   "id": "86dd4290",
   "metadata": {},
   "outputs": [
    {
     "data": {
      "text/plain": [
       "Text(0, 0.5, 'Number of qubits post-taper [%]')"
      ]
     },
     "execution_count": 63,
     "metadata": {},
     "output_type": "execute_result"
    },
    {
     "data": {
      "image/png": "[encoded data removed]",
      "text/plain": [
       "<Figure size 432x288 with 1 Axes>"
      ]
     },
     "metadata": {
      "needs_background": "light"
     },
     "output_type": "display_data"
    }
   ],
   "source": [
    "plt.scatter(X,(np.array(Y)/np.array(X))*100, marker='+')\n",
    "#plt.plot(np.arange(max(X)), color='black')\n",
    "\n",
    "plt.plot(np.arange(3.5, max(X)+1), (np.arange(3.5, max(X)+1)-3.5)/np.arange(3.5, max(X)+1)*100, color='black')\n",
    "plt.ylim(0,100)\n",
    "plt.xlabel('Number of qubits pre-taper')\n",
    "plt.ylabel('Number of qubits post-taper [%]')"
   ]
  },
  {
   "cell_type": "code",
   "execution_count": 64,
   "id": "af16d68f",
   "metadata": {},
   "outputs": [
    {
     "data": {
      "text/plain": [
       "56"
      ]
     },
     "execution_count": 64,
     "metadata": {},
     "output_type": "execute_result"
    }
   ],
   "source": [
    "max(X)"
   ]
  },
  {
   "cell_type": "code",
   "execution_count": 66,
   "id": "46acd75a",
   "metadata": {},
   "outputs": [
    {
     "data": {
      "text/plain": [
       "{'n_qubits_pre_taper': 26,\n",
       " 'n_qubits_post_taper': 24,\n",
       " 'hf_energy': -287.9102132258574,\n",
       " 'mp2_energy': -287.9599882077335,\n",
       " 'ccsd_energy': -287.98331927437494,\n",
       " 'fci_energy': -287.98400189426894,\n",
       " 'cs_vqe_energies': [-287.91390840277353,\n",
       "  -287.9165194957439,\n",
       "  -287.9187208573084,\n",
       "  -287.92074479350885,\n",
       "  -287.92508041125546,\n",
       "  -287.9285338939273,\n",
       "  -287.9312820593918,\n",
       "  -287.9338856263861,\n",
       "  -287.9389367612898,\n",
       "  -287.9433261532974,\n",
       "  -287.95223191525145,\n",
       "  -287.95812610319797,\n",
       "  -287.9800507668436,\n",
       "  -287.9807572621113,\n",
       "  -287.98087977474177,\n",
       "  -287.9811909521003],\n",
       " 'stabilizer_score': [0.23161125393596746,\n",
       "  0.2996860071292941,\n",
       "  0.3513426507842232,\n",
       "  0.40463600482925893,\n",
       "  0.4918587590772561,\n",
       "  0.5476892734940909,\n",
       "  0.5841220811806812,\n",
       "  0.6197360829103988,\n",
       "  0.6679378007452789,\n",
       "  0.7167882759170372,\n",
       "  0.7977071951663229,\n",
       "  0.8417532088172136,\n",
       "  0.9897643299092561,\n",
       "  0.9959277764173413,\n",
       "  0.9962083722417867,\n",
       "  0.9966701259176071,\n",
       "  0.9971590273905704,\n",
       "  0.99783076417236,\n",
       "  0.9985291796079009,\n",
       "  0.9994079438574047,\n",
       "  0.9996892839751037,\n",
       "  0.9999990497233133,\n",
       "  0.9999994834258116]}"
      ]
     },
     "execution_count": 66,
     "metadata": {},
     "output_type": "execute_result"
    }
   ],
   "source": [
    "scoring_data_1['SiH4_STO-3G_SINGLET']"
   ]
  },
  {
   "cell_type": "code",
   "execution_count": null,
   "id": "dc9537ed",
   "metadata": {},
   "outputs": [],
   "source": []
  }
 ],
 "metadata": {
  "kernelspec": {
   "display_name": "Python 3 (ipykernel)",
   "language": "python",
   "name": "python3"
  },
  "language_info": {
   "codemirror_mode": {
    "name": "ipython",
    "version": 3
   },
   "file_extension": ".py",
   "mimetype": "text/x-python",
   "name": "python",
   "nbconvert_exporter": "python",
   "pygments_lexer": "ipython3",
   "version": "3.8.8"
  }
 },
 "nbformat": 4,
 "nbformat_minor": 5
}
