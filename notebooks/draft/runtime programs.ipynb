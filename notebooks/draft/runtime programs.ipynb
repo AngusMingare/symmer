{
 "cells": [
  {
   "cell_type": "markdown",
   "id": "8b27ecd9",
   "metadata": {},
   "source": [
    "# build molecule, taper and construct CS-VQE model"
   ]
  },
  {
   "cell_type": "code",
   "execution_count": 1,
   "id": "747512fb",
   "metadata": {},
   "outputs": [
    {
     "name": "stdout",
     "output_type": "stream",
     "text": [
      "Be_STO-3G_SINGLET\n",
      "Molecule geometry:\n",
      "Be\t0\t0\t0\n",
      "\n",
      "HF converged?   True\n",
      "CCSD converged? True\n",
      "FCI converged?  True\n",
      "\n",
      "HF energy:   -14.351880476202023\n",
      "MP2 energy:  -14.376238850841515\n",
      "CCSD energy: -14.403650751752787\n",
      "FCI energy:  -14.403655108067682\n",
      "\n",
      "\n",
      "Number of qubits: 10\n"
     ]
    }
   ],
   "source": [
    "import json\n",
    "import numpy as np\n",
    "from symmer.chem import MoleculeBuilder\n",
    "from symmer.projection import QubitTapering, CS_VQE, StabilizerIdentification\n",
    "from symmer.symplectic import ObservableGraph, PauliwordOp\n",
    "\n",
    "with open('../data/molecule_data.json', 'r') as jfile:\n",
    "    molecule_geometries = json.load(jfile)    \n",
    "\n",
    "speciesname = 'Be_STO-3G_SINGLET'\n",
    "print(speciesname)\n",
    "# build the molecule\n",
    "mol_data = molecule_geometries[speciesname]\n",
    "atoms  = mol_data['atoms']\n",
    "coords = mol_data['coords']\n",
    "charge = mol_data['charge']\n",
    "basis = mol_data['basis']\n",
    "geometry = list(zip(atoms, coords))\n",
    "molecule = MoleculeBuilder(geometry=geometry, charge=charge, basis=basis, spin=0, run_fci=True, print_info=True)"
   ]
  },
  {
   "cell_type": "code",
   "execution_count": 2,
   "id": "a4158b4c",
   "metadata": {},
   "outputs": [
    {
     "name": "stdout",
     "output_type": "stream",
     "text": [
      "Qubit tapering permitted a reduction of 10 -> 5 qubits\n",
      "\n",
      "The following stabilizers were identified:\n",
      "\n",
      " 1 ZIZIIZIZIZ \n",
      " 1 IZIZIZIZIZ \n",
      " 1 IIIIZZIIII \n",
      " 1 IIIIIIZZII \n",
      " 1 IIIIIIIIZZ\n"
     ]
    }
   ],
   "source": [
    "# taper the Hamiltonian\n",
    "qubit_tapering = QubitTapering(molecule.H_q)\n",
    "hf_array = molecule.H_fermion.hf_comp_basis_state\n",
    "qubit_tapering.stabilizers.update_sector(hf_array)\n",
    "ham_tap = qubit_tapering.taper_it(ref_state=hf_array)\n",
    "ucc_tap = qubit_tapering.taper_it(aux_operator=molecule.T_q, ref_state=hf_array)\n",
    "hf_tapered = qubit_tapering.tapered_ref_state\n",
    "\n",
    "print(f'Qubit tapering permitted a reduction of {molecule.H_q.n_qubits} -> {ham_tap.n_qubits} qubits\\n')\n",
    "print('The following stabilizers were identified:\\n')\n",
    "print(qubit_tapering.stabilizers)"
   ]
  },
  {
   "cell_type": "code",
   "execution_count": 3,
   "id": "de1556ee",
   "metadata": {},
   "outputs": [
    {
     "data": {
      "text/plain": [
       "PauliSumOp(SparsePauliOp(['III', 'IIZ', 'IZI', 'IZZ', 'ZII', 'ZIZ', 'ZZI', 'ZZZ', 'IIX', 'ZZX', 'IXI', 'ZXZ', 'IXX', 'IYY', 'XII', 'XZZ', 'XIX', 'YIY', 'XXI', 'YYI'],\n",
       "              coeffs=[-12.488598  +0.j,  -0.85829425+0.j,  -0.85829425+0.j,   0.02304318+0.j,\n",
       "  -0.85829425+0.j,   0.02304318+0.j,   0.02304318+0.j,   0.64247074+0.j,\n",
       "  -0.04340449+0.j,  -0.04340449+0.j,  -0.04340449+0.j,  -0.04340449+0.j,\n",
       "   0.01212469+0.j,   0.01212469+0.j,  -0.04340449+0.j,  -0.04340449+0.j,\n",
       "   0.01212469+0.j,   0.01212469+0.j,   0.01212469+0.j,   0.01212469+0.j]), coeff=1.0)"
      ]
     },
     "execution_count": 3,
     "metadata": {},
     "output_type": "execute_result"
    }
   ],
   "source": [
    "n_qubits = 3\n",
    "# CS-VQE and stabilizer identification\n",
    "cs_vqe = CS_VQE(ham_tap, hf_tapered, basis_weighting_operator=ucc_tap, noncontextual_form='diag')\n",
    "CC_stabilizers = StabilizerIdentification(ucc_tap)\n",
    "S = CC_stabilizers.symmetry_basis_by_subspace_dimension(n_qubits)\n",
    "ham_cs = cs_vqe.project_onto_subspace(S, enforce_clique_operator=False)\n",
    "ham_cs.to_PauliSumOp"
   ]
  },
  {
   "cell_type": "code",
   "execution_count": 4,
   "id": "a45cc437",
   "metadata": {},
   "outputs": [
    {
     "data": {
      "text/plain": [
       "0.0003265064114810201"
      ]
     },
     "execution_count": 4,
     "metadata": {},
     "output_type": "execute_result"
    }
   ],
   "source": [
    "from symmer.symplectic import AnsatzOp, ObservableOp\n",
    "\n",
    "ucc_cs = cs_vqe.project_onto_subspace(S, enforce_clique_operator=False, aux_operator=ucc_tap)\n",
    "ref_cs = hf_tapered[cs_vqe.free_qubit_indices]\n",
    "\n",
    "ucc_trunc = ucc_cs#.sort()[:40]\n",
    "anz_cs = AnsatzOp(ucc_trunc.symp_matrix, ucc_trunc.coeff_vec)\n",
    "\n",
    "obs = ObservableOp(ham_cs.symp_matrix, ham_cs.coeff_vec)\n",
    "vqe_result = obs.VQE(\n",
    "    ansatz_op=anz_cs, \n",
    "    ref_state=ref_cs\n",
    ")\n",
    "\n",
    "opt_params = vqe_result[0]['x']\n",
    "vqe_result[0]['fun'] - molecule.fci_energy"
   ]
  },
  {
   "cell_type": "code",
   "execution_count": 5,
   "id": "112604d3",
   "metadata": {},
   "outputs": [
    {
     "data": {
      "text/html": [
       "<pre style=\"word-wrap: normal;white-space: pre;background: #fff0;line-height: 1.1;font-family: &quot;Courier New&quot;,Courier,monospace\">      ░ ┌─────┐┌───┐┌─────────────┐┌───┐┌───┐ ░ ┌─────┐┌───┐          »\n",
       "q_0: ─░─┤ Sdg ├┤ H ├┤ Rz(-2*P[0]) ├┤ H ├┤ S ├─░─┤ Sdg ├┤ H ├──■───────»\n",
       "      ░ └─────┘└───┘└─────────────┘└───┘└───┘ ░ └─────┘└───┘┌─┴─┐     »\n",
       "q_1: ─░───────────────────────────────────────░─────────────┤ X ├──■──»\n",
       "      ░                                       ░             └───┘┌─┴─┐»\n",
       "q_2: ─░───────────────────────────────────────░──────────────────┤ X ├»\n",
       "      ░                                       ░                  └───┘»\n",
       "«                              ┌───┐┌───┐ ░                                 »\n",
       "«q_0: ──────────────────────■──┤ H ├┤ S ├─░─────────────────────────────────»\n",
       "«                         ┌─┴─┐└───┘└───┘ ░ ┌─────┐┌───┐┌─────────────┐┌───┐»\n",
       "«q_1: ─────────────────■──┤ X ├───────────░─┤ Sdg ├┤ H ├┤ Rz(-2*P[2]) ├┤ H ├»\n",
       "«     ┌─────────────┐┌─┴─┐└───┘           ░ └─────┘└───┘└─────────────┘└───┘»\n",
       "«q_2: ┤ Rz(-2*P[1]) ├┤ X ├────────────────░─────────────────────────────────»\n",
       "«     └─────────────┘└───┘                ░                                 »\n",
       "«           ░                                                           ░ »\n",
       "«q_0: ──────░───────────────■─────────────────────────────■─────────────░─»\n",
       "«     ┌───┐ ░ ┌─────┐┌───┐┌─┴─┐                         ┌─┴─┐┌───┐┌───┐ ░ »\n",
       "«q_1: ┤ S ├─░─┤ Sdg ├┤ H ├┤ X ├──■───────────────────■──┤ X ├┤ H ├┤ S ├─░─»\n",
       "«     └───┘ ░ └─────┘└───┘└───┘┌─┴─┐┌─────────────┐┌─┴─┐└───┘└───┘└───┘ ░ »\n",
       "«q_2: ──────░──────────────────┤ X ├┤ Rz(-2*P[3]) ├┤ X ├────────────────░─»\n",
       "«           ░                  └───┘└─────────────┘└───┘                ░ »\n",
       "«                                           ░                                 »\n",
       "«q_0: ──────────────────────────────────────░────■────────────────────────────»\n",
       "«                                           ░  ┌─┴─┐                          »\n",
       "«q_1: ──────────────────────────────────────░──┤ X ├────────■─────────────────»\n",
       "«     ┌─────┐┌───┐┌─────────────┐┌───┐┌───┐ ░ ┌┴───┴┐┌───┐┌─┴─┐┌─────────────┐»\n",
       "«q_2: ┤ Sdg ├┤ H ├┤ Rz(-2*P[4]) ├┤ H ├┤ S ├─░─┤ Sdg ├┤ H ├┤ X ├┤ Rz(-2*P[5]) ├»\n",
       "«     └─────┘└───┘└─────────────┘└───┘└───┘ ░ └─────┘└───┘└───┘└─────────────┘»\n",
       "«                     ░ \n",
       "«q_0: ───────■────────░─\n",
       "«          ┌─┴─┐      ░ \n",
       "«q_1: ──■──┤ X ├──────░─\n",
       "«     ┌─┴─┐├───┤┌───┐ ░ \n",
       "«q_2: ┤ X ├┤ H ├┤ S ├─░─\n",
       "«     └───┘└───┘└───┘ ░ </pre>"
      ],
      "text/plain": [
       "      ░ ┌─────┐┌───┐┌─────────────┐┌───┐┌───┐ ░ ┌─────┐┌───┐          »\n",
       "q_0: ─░─┤ Sdg ├┤ H ├┤ Rz(-2*P[0]) ├┤ H ├┤ S ├─░─┤ Sdg ├┤ H ├──■───────»\n",
       "      ░ └─────┘└───┘└─────────────┘└───┘└───┘ ░ └─────┘└───┘┌─┴─┐     »\n",
       "q_1: ─░───────────────────────────────────────░─────────────┤ X ├──■──»\n",
       "      ░                                       ░             └───┘┌─┴─┐»\n",
       "q_2: ─░───────────────────────────────────────░──────────────────┤ X ├»\n",
       "      ░                                       ░                  └───┘»\n",
       "«                              ┌───┐┌───┐ ░                                 »\n",
       "«q_0: ──────────────────────■──┤ H ├┤ S ├─░─────────────────────────────────»\n",
       "«                         ┌─┴─┐└───┘└───┘ ░ ┌─────┐┌───┐┌─────────────┐┌───┐»\n",
       "«q_1: ─────────────────■──┤ X ├───────────░─┤ Sdg ├┤ H ├┤ Rz(-2*P[2]) ├┤ H ├»\n",
       "«     ┌─────────────┐┌─┴─┐└───┘           ░ └─────┘└───┘└─────────────┘└───┘»\n",
       "«q_2: ┤ Rz(-2*P[1]) ├┤ X ├────────────────░─────────────────────────────────»\n",
       "«     └─────────────┘└───┘                ░                                 »\n",
       "«           ░                                                           ░ »\n",
       "«q_0: ──────░───────────────■─────────────────────────────■─────────────░─»\n",
       "«     ┌───┐ ░ ┌─────┐┌───┐┌─┴─┐                         ┌─┴─┐┌───┐┌───┐ ░ »\n",
       "«q_1: ┤ S ├─░─┤ Sdg ├┤ H ├┤ X ├──■───────────────────■──┤ X ├┤ H ├┤ S ├─░─»\n",
       "«     └───┘ ░ └─────┘└───┘└───┘┌─┴─┐┌─────────────┐┌─┴─┐└───┘└───┘└───┘ ░ »\n",
       "«q_2: ──────░──────────────────┤ X ├┤ Rz(-2*P[3]) ├┤ X ├────────────────░─»\n",
       "«           ░                  └───┘└─────────────┘└───┘                ░ »\n",
       "«                                           ░                                 »\n",
       "«q_0: ──────────────────────────────────────░────■────────────────────────────»\n",
       "«                                           ░  ┌─┴─┐                          »\n",
       "«q_1: ──────────────────────────────────────░──┤ X ├────────■─────────────────»\n",
       "«     ┌─────┐┌───┐┌─────────────┐┌───┐┌───┐ ░ ┌┴───┴┐┌───┐┌─┴─┐┌─────────────┐»\n",
       "«q_2: ┤ Sdg ├┤ H ├┤ Rz(-2*P[4]) ├┤ H ├┤ S ├─░─┤ Sdg ├┤ H ├┤ X ├┤ Rz(-2*P[5]) ├»\n",
       "«     └─────┘└───┘└─────────────┘└───┘└───┘ ░ └─────┘└───┘└───┘└─────────────┘»\n",
       "«                     ░ \n",
       "«q_0: ───────■────────░─\n",
       "«          ┌─┴─┐      ░ \n",
       "«q_1: ──■──┤ X ├──────░─\n",
       "«     ┌─┴─┐├───┤┌───┐ ░ \n",
       "«q_2: ┤ X ├┤ H ├┤ S ├─░─\n",
       "«     └───┘└───┘└───┘ ░ "
      ]
     },
     "execution_count": 5,
     "metadata": {},
     "output_type": "execute_result"
    }
   ],
   "source": [
    "from qiskit import QuantumCircuit\n",
    "ansatz = QuantumCircuit(n_qubits)\n",
    "for i in np.where(ref_cs)[0]:\n",
    "    ansatz.x(n_qubits-1-i)\n",
    "ansatz = ansatz.compose(anz_cs.to_QuantumCircuit(bind_params=False))\n",
    "ansatz.draw()"
   ]
  },
  {
   "cell_type": "code",
   "execution_count": 6,
   "id": "dfcc777b",
   "metadata": {},
   "outputs": [
    {
     "data": {
      "text/plain": [
       "(0.0003613743596702079-1.386064397710712e-32j)"
      ]
     },
     "execution_count": 6,
     "metadata": {},
     "output_type": "execute_result"
    }
   ],
   "source": [
    "from qiskit.quantum_info import Statevector\n",
    "from symmer.symplectic import QuantumState\n",
    "qc = ansatz.bind_parameters(opt_params)\n",
    "psi = Statevector.from_instruction(qc).to_dict()\n",
    "state_matrix, coeff_vec = zip(*[([int(i) for i in bstring], coeff) for bstring, coeff in psi.items()])\n",
    "state_matrix = np.array(state_matrix)\n",
    "coeff_vec = np.array(coeff_vec)\n",
    "\n",
    "psi = QuantumState(state_matrix, coeff_vec)\n",
    "psi.conjugate * ham_cs * psi - molecule.fci_energy"
   ]
  },
  {
   "cell_type": "code",
   "execution_count": 7,
   "id": "d1aa7421",
   "metadata": {},
   "outputs": [],
   "source": [
    "#from qiskit.circuit.library import EfficientSU2\n",
    "#ansatz = EfficientSU2(n_qubits)\n",
    "#ansatz.decompose().draw()"
   ]
  },
  {
   "cell_type": "code",
   "execution_count": 8,
   "id": "f3eb53fb",
   "metadata": {},
   "outputs": [],
   "source": [
    "#import qiskit.circuit.library.n_local as lib_local\n",
    "\n",
    "#ansatz = getattr(lib_local, \"EfficientSU2\")\n",
    "#ansatz(3).decompose().draw()"
   ]
  },
  {
   "cell_type": "markdown",
   "id": "6b4ad73e",
   "metadata": {},
   "source": [
    "# VQE using ``symmer-vqe-Ve6OdoVd8X`` runtime program"
   ]
  },
  {
   "cell_type": "code",
   "execution_count": 9,
   "id": "938d96a0",
   "metadata": {},
   "outputs": [],
   "source": [
    "from qiskit_ibm_runtime import QiskitRuntimeService\n",
    "# only run the following the first time you connect to the service\n",
    "#token = \"a26e0769ddee03aa5f95f38edb1266efa1190059c7d60c1784ca3ec1e4c3c84bc375947c2bc8d2bc4ab39e32ea64ae6376b1f631936a416c7b8bdaed8b94a9cb\"\n",
    "#QiskitRuntimeService.save_account(channel=\"ibm_quantum\", token=token, overwrite=True)\n",
    "service = QiskitRuntimeService(channel='ibm_quantum')"
   ]
  },
  {
   "cell_type": "code",
   "execution_count": 10,
   "id": "c5baa769",
   "metadata": {},
   "outputs": [],
   "source": [
    "#program_id = service.upload_program(data=\"../../symmer/simulation/vqe_runtime.py\", metadata=meta)\n",
    "program_id = 'symmer-vqe-Ve6OdoVd8X'"
   ]
  },
  {
   "cell_type": "code",
   "execution_count": 17,
   "id": "fd90d8b1",
   "metadata": {},
   "outputs": [],
   "source": [
    "#service.update_program(program_id=program_id, data=\"../../symmer/simulation/vqe_runtime.py\", metadata=meta)\n",
    "# service.delete_program(program_id) # to delete program"
   ]
  },
  {
   "cell_type": "code",
   "execution_count": 18,
   "id": "e66f07c7",
   "metadata": {},
   "outputs": [
    {
     "name": "stdout",
     "output_type": "stream",
     "text": [
      "symmer-vqe-Ve6OdoVd8X:\n",
      "  Name: symmer_vqe\n",
      "  Description: VQE program using symmer\n",
      "  Creation date: 2022-06-22T18:15:41.099082Z\n",
      "  Update date: 2022-06-23T12:09:11.083029Z\n",
      "  Max execution time: 100000\n",
      "  Backend requirements:\n",
      "    none\n",
      "  Input parameters:\n",
      "    Properties:\n",
      "        - ansatz:\n",
      "            Description: Parametrized Ansatz\n",
      "            Type: QuantumCircuit\n",
      "            Required: True\n",
      "        - init_params:\n",
      "            Default: None\n",
      "            Description: Initial vector of parameters. This is a numpy array.\n",
      "            Type: array\n",
      "            Required: False\n",
      "        - maxiter:\n",
      "            Default: 10\n",
      "            Description: Maximum number of optimizer iterations.\n",
      "            Type: int\n",
      "            Required: False\n",
      "        - n_groups:\n",
      "            Default: 5\n",
      "            Description: The number of classical shadow groups.\n",
      "            Type: integer\n",
      "            Required: False\n",
      "        - n_realize:\n",
      "            Default: 1\n",
      "            Description: The number of realizations of each energy estimation - these are averaged over.\n",
      "            Type: integer\n",
      "            Required: False\n",
      "        - n_shots:\n",
      "            Default: 2**12\n",
      "            Description: The number of shots used for each circuit evaluation.\n",
      "            Type: integer\n",
      "            Required: False\n",
      "        - observable:\n",
      "            Default: None\n",
      "            Description: The observable on which we wish to perform eigenvalue estimation\n",
      "            Type: PauliSumOp\n",
      "            Required: False\n",
      "        - observable_groups:\n",
      "            Default: None\n",
      "            Description: Decomposition of operator into groups, e.g. qubit-wise commuting\n",
      "            Type: List[Union[PauliSumOp, PauliOp]]\n",
      "            Required: False\n",
      "        - use_measurement_mitigation:\n",
      "            Default: False\n",
      "            Description: Use measurement mitigation, default=False.\n",
      "            Type: boolean\n",
      "            Required: False\n",
      "  Interim results:\n",
      "    Description: Parameter vector at current optimization step. This is a numpy array.\n",
      "    Type: array\n",
      "  Returns:\n",
      "    Description: Tuple of final result in SciPy optimizer format and dictionary of interim values\n",
      "    Type: Tuple[scipy.optimize.optimize.OptimizeResult, Dict]\n"
     ]
    }
   ],
   "source": [
    "prog = service.program(program_id)\n",
    "print(prog)"
   ]
  },
  {
   "cell_type": "code",
   "execution_count": 215,
   "id": "4acae5a2",
   "metadata": {},
   "outputs": [
    {
     "name": "stdout",
     "output_type": "stream",
     "text": [
      "      ░ ┌───────────┐┌─────────────┐┌────────────┐ ░ ┌───────────┐          »\n",
      "q_0: ─░─┤ U2(0,π/2) ├┤ Rz(-2*P[0]) ├┤ U2(π/2,-π) ├─░─┤ U2(0,π/2) ├──■───────»\n",
      "      ░ └───────────┘└─────────────┘└────────────┘ ░ └───────────┘┌─┴─┐     »\n",
      "q_1: ─░────────────────────────────────────────────░──────────────┤ X ├──■──»\n",
      "      ░                                            ░              └───┘┌─┴─┐»\n",
      "q_2: ─░────────────────────────────────────────────░───────────────────┤ X ├»\n",
      "      ░                                            ░                   └───┘»\n",
      "«                              ┌────────────┐ ░                             »\n",
      "«q_0: ──────────────────────■──┤ U2(π/2,-π) ├─░─────────────────────────────»\n",
      "«                         ┌─┴─┐└────────────┘ ░ ┌───────────┐┌─────────────┐»\n",
      "«q_1: ─────────────────■──┤ X ├───────────────░─┤ U2(0,π/2) ├┤ Rz(-2*P[2]) ├»\n",
      "«     ┌─────────────┐┌─┴─┐└───┘               ░ └───────────┘└─────────────┘»\n",
      "«q_2: ┤ Rz(-2*P[1]) ├┤ X ├────────────────────░─────────────────────────────»\n",
      "«     └─────────────┘└───┘                    ░                             »\n",
      "«                    ░                                                 »\n",
      "«q_0: ───────────────░────────────────■─────────────────────────────■──»\n",
      "«     ┌────────────┐ ░ ┌───────────┐┌─┴─┐                         ┌─┴─┐»\n",
      "«q_1: ┤ U2(π/2,-π) ├─░─┤ U2(0,π/2) ├┤ X ├──■───────────────────■──┤ X ├»\n",
      "«     └────────────┘ ░ └───────────┘└───┘┌─┴─┐┌─────────────┐┌─┴─┐└───┘»\n",
      "«q_2: ───────────────░───────────────────┤ X ├┤ Rz(-2*P[3]) ├┤ X ├─────»\n",
      "«                    ░                   └───┘└─────────────┘└───┘     »\n",
      "«                    ░                                            ░ »\n",
      "«q_0: ───────────────░────────────────────────────────────────────░─»\n",
      "«     ┌────────────┐ ░                                            ░ »\n",
      "«q_1: ┤ U2(π/2,-π) ├─░────────────────────────────────────────────░─»\n",
      "«     └────────────┘ ░ ┌───────────┐┌─────────────┐┌────────────┐ ░ »\n",
      "«q_2: ───────────────░─┤ U2(0,π/2) ├┤ Rz(-2*P[4]) ├┤ U2(π/2,-π) ├─░─»\n",
      "«                    ░ └───────────┘└─────────────┘└────────────┘ ░ »\n",
      "«                                                          ░ \n",
      "«q_0: ──────■─────────────────────────────────────■────────░─\n",
      "«         ┌─┴─┐                                 ┌─┴─┐      ░ \n",
      "«q_1: ────┤ X ├──────■───────────────────■──────┤ X ├──────░─\n",
      "«     ┌───┴───┴───┐┌─┴─┐┌─────────────┐┌─┴─┐┌───┴───┴────┐ ░ \n",
      "«q_2: ┤ U2(0,π/2) ├┤ X ├┤ Rz(-2*P[5]) ├┤ X ├┤ U2(π/2,-π) ├─░─\n",
      "«     └───────────┘└───┘└─────────────┘└───┘└────────────┘ ░ \n"
     ]
    },
    {
     "ename": "IndexError",
     "evalue": "list index out of range",
     "output_type": "error",
     "traceback": [
      "\u001b[0;31m---------------------------------------------------------------------------\u001b[0m",
      "\u001b[0;31mIndexError\u001b[0m                                Traceback (most recent call last)",
      "\u001b[0;32m/tmp/ipykernel_20734/2347097231.py\u001b[0m in \u001b[0;36m<module>\u001b[0;34m\u001b[0m\n\u001b[1;32m      7\u001b[0m \u001b[0mmaps\u001b[0m \u001b[0;34m=\u001b[0m \u001b[0mmthree\u001b[0m\u001b[0;34m.\u001b[0m\u001b[0mutils\u001b[0m\u001b[0;34m.\u001b[0m\u001b[0mfinal_measurement_mapping\u001b[0m\u001b[0;34m(\u001b[0m\u001b[0mcircuits\u001b[0m\u001b[0;34m)\u001b[0m\u001b[0;34m\u001b[0m\u001b[0;34m\u001b[0m\u001b[0m\n\u001b[1;32m      8\u001b[0m \u001b[0mmit\u001b[0m  \u001b[0;34m=\u001b[0m \u001b[0mmthree\u001b[0m\u001b[0;34m.\u001b[0m\u001b[0mM3Mitigation\u001b[0m\u001b[0;34m(\u001b[0m\u001b[0mbackend\u001b[0m\u001b[0;34m)\u001b[0m\u001b[0;34m\u001b[0m\u001b[0;34m\u001b[0m\u001b[0m\n\u001b[0;32m----> 9\u001b[0;31m \u001b[0mmit\u001b[0m\u001b[0;34m.\u001b[0m\u001b[0mcals_from_system\u001b[0m\u001b[0;34m(\u001b[0m\u001b[0mmaps\u001b[0m\u001b[0;34m)\u001b[0m\u001b[0;34m\u001b[0m\u001b[0;34m\u001b[0m\u001b[0m\n\u001b[0m",
      "\u001b[0;32m~/anaconda3/lib/python3.8/site-packages/mthree/mitigation.py\u001b[0m in \u001b[0;36mcals_from_system\u001b[0;34m(self, qubits, shots, method, initial_reset, rep_delay, cals_file, async_cal)\u001b[0m\n\u001b[1;32m    157\u001b[0m         \u001b[0mself\u001b[0m\u001b[0;34m.\u001b[0m\u001b[0mrep_delay\u001b[0m \u001b[0;34m=\u001b[0m \u001b[0mrep_delay\u001b[0m\u001b[0;34m\u001b[0m\u001b[0;34m\u001b[0m\u001b[0m\n\u001b[1;32m    158\u001b[0m         \u001b[0mself\u001b[0m\u001b[0;34m.\u001b[0m\u001b[0mcal_timestamp\u001b[0m \u001b[0;34m=\u001b[0m \u001b[0;32mNone\u001b[0m\u001b[0;34m\u001b[0m\u001b[0;34m\u001b[0m\u001b[0m\n\u001b[0;32m--> 159\u001b[0;31m         self._grab_additional_cals(qubits, shots=shots,  method=method,\n\u001b[0m\u001b[1;32m    160\u001b[0m                                    \u001b[0mrep_delay\u001b[0m\u001b[0;34m=\u001b[0m\u001b[0mrep_delay\u001b[0m\u001b[0;34m,\u001b[0m \u001b[0minitial_reset\u001b[0m\u001b[0;34m=\u001b[0m\u001b[0minitial_reset\u001b[0m\u001b[0;34m,\u001b[0m\u001b[0;34m\u001b[0m\u001b[0;34m\u001b[0m\u001b[0m\n\u001b[1;32m    161\u001b[0m                                    async_cal=async_cal)\n",
      "\u001b[0;32m~/anaconda3/lib/python3.8/site-packages/mthree/mitigation.py\u001b[0m in \u001b[0;36m_grab_additional_cals\u001b[0;34m(self, qubits, shots, method, rep_delay, initial_reset, async_cal)\u001b[0m\n\u001b[1;32m    299\u001b[0m         \u001b[0;32melif\u001b[0m \u001b[0mmethod\u001b[0m \u001b[0;34m==\u001b[0m \u001b[0;34m'balanced'\u001b[0m\u001b[0;34m:\u001b[0m\u001b[0;34m\u001b[0m\u001b[0;34m\u001b[0m\u001b[0m\n\u001b[1;32m    300\u001b[0m             \u001b[0mcal_strings\u001b[0m \u001b[0;34m=\u001b[0m \u001b[0mbalanced_cal_strings\u001b[0m\u001b[0;34m(\u001b[0m\u001b[0mnum_cal_qubits\u001b[0m\u001b[0;34m)\u001b[0m\u001b[0;34m\u001b[0m\u001b[0;34m\u001b[0m\u001b[0m\n\u001b[0;32m--> 301\u001b[0;31m             trans_qcs = balanced_cal_circuits(cal_strings, qubits,\n\u001b[0m\u001b[1;32m    302\u001b[0m                                               \u001b[0mself\u001b[0m\u001b[0;34m.\u001b[0m\u001b[0mnum_qubits\u001b[0m\u001b[0;34m,\u001b[0m\u001b[0;34m\u001b[0m\u001b[0;34m\u001b[0m\u001b[0m\n\u001b[1;32m    303\u001b[0m                                               initial_reset=initial_reset)\n",
      "\u001b[0;32m~/anaconda3/lib/python3.8/site-packages/mthree/circuits.py\u001b[0m in \u001b[0;36mbalanced_cal_circuits\u001b[0;34m(cal_strings, layout, system_qubits, initial_reset)\u001b[0m\n\u001b[1;32m     84\u001b[0m     \"\"\"\n\u001b[1;32m     85\u001b[0m     \u001b[0mcircs\u001b[0m \u001b[0;34m=\u001b[0m \u001b[0;34m[\u001b[0m\u001b[0;34m]\u001b[0m\u001b[0;34m\u001b[0m\u001b[0;34m\u001b[0m\u001b[0m\n\u001b[0;32m---> 86\u001b[0;31m     \u001b[0mnum_active_qubits\u001b[0m \u001b[0;34m=\u001b[0m \u001b[0mlen\u001b[0m\u001b[0;34m(\u001b[0m\u001b[0mcal_strings\u001b[0m\u001b[0;34m[\u001b[0m\u001b[0;36m0\u001b[0m\u001b[0;34m]\u001b[0m\u001b[0;34m)\u001b[0m\u001b[0;34m\u001b[0m\u001b[0;34m\u001b[0m\u001b[0m\n\u001b[0m\u001b[1;32m     87\u001b[0m     \u001b[0;32mfor\u001b[0m \u001b[0mstring\u001b[0m \u001b[0;32min\u001b[0m \u001b[0mcal_strings\u001b[0m\u001b[0;34m:\u001b[0m\u001b[0;34m\u001b[0m\u001b[0;34m\u001b[0m\u001b[0m\n\u001b[1;32m     88\u001b[0m         \u001b[0mqc\u001b[0m \u001b[0;34m=\u001b[0m \u001b[0mQuantumCircuit\u001b[0m\u001b[0;34m(\u001b[0m\u001b[0msystem_qubits\u001b[0m\u001b[0;34m,\u001b[0m \u001b[0mnum_active_qubits\u001b[0m\u001b[0;34m)\u001b[0m\u001b[0;34m\u001b[0m\u001b[0;34m\u001b[0m\u001b[0m\n",
      "\u001b[0;31mIndexError\u001b[0m: list index out of range"
     ]
    }
   ],
   "source": [
    "import mthree\n",
    "from qiskit import Aer, transpile\n",
    "backend = Aer.get_backend('qasm_simulator')\n",
    "x = np.ones(ansatz.num_parameters)\n",
    "circuits = transpile([ansatz], backend, optimization_level=3)\n",
    "print(circuits[0])\n",
    "maps = mthree.utils.final_measurement_mapping(circuits)\n",
    "mit  = mthree.M3Mitigation(backend)\n",
    "mit.cals_from_system(maps)"
   ]
  },
  {
   "cell_type": "code",
   "execution_count": 214,
   "id": "05b7c74f",
   "metadata": {},
   "outputs": [
    {
     "data": {
      "text/plain": [
       "[{}]"
      ]
     },
     "execution_count": 214,
     "metadata": {},
     "output_type": "execute_result"
    }
   ],
   "source": [
    "maps"
   ]
  },
  {
   "cell_type": "code",
   "execution_count": 204,
   "id": "8bcff154",
   "metadata": {},
   "outputs": [
    {
     "ename": "IndexError",
     "evalue": "list index out of range",
     "output_type": "error",
     "traceback": [
      "\u001b[0;31m---------------------------------------------------------------------------\u001b[0m",
      "\u001b[0;31mIndexError\u001b[0m                                Traceback (most recent call last)",
      "\u001b[0;32m/tmp/ipykernel_20734/2569041665.py\u001b[0m in \u001b[0;36m<module>\u001b[0;34m\u001b[0m\n\u001b[0;32m----> 1\u001b[0;31m \u001b[0mmit\u001b[0m\u001b[0;34m.\u001b[0m\u001b[0mcals_from_system\u001b[0m\u001b[0;34m(\u001b[0m\u001b[0mmaps\u001b[0m\u001b[0;34m)\u001b[0m\u001b[0;34m\u001b[0m\u001b[0;34m\u001b[0m\u001b[0m\n\u001b[0m",
      "\u001b[0;32m~/anaconda3/lib/python3.8/site-packages/mthree/mitigation.py\u001b[0m in \u001b[0;36mcals_from_system\u001b[0;34m(self, qubits, shots, method, initial_reset, rep_delay, cals_file, async_cal)\u001b[0m\n\u001b[1;32m    157\u001b[0m         \u001b[0mself\u001b[0m\u001b[0;34m.\u001b[0m\u001b[0mrep_delay\u001b[0m \u001b[0;34m=\u001b[0m \u001b[0mrep_delay\u001b[0m\u001b[0;34m\u001b[0m\u001b[0;34m\u001b[0m\u001b[0m\n\u001b[1;32m    158\u001b[0m         \u001b[0mself\u001b[0m\u001b[0;34m.\u001b[0m\u001b[0mcal_timestamp\u001b[0m \u001b[0;34m=\u001b[0m \u001b[0;32mNone\u001b[0m\u001b[0;34m\u001b[0m\u001b[0;34m\u001b[0m\u001b[0m\n\u001b[0;32m--> 159\u001b[0;31m         self._grab_additional_cals(qubits, shots=shots,  method=method,\n\u001b[0m\u001b[1;32m    160\u001b[0m                                    \u001b[0mrep_delay\u001b[0m\u001b[0;34m=\u001b[0m\u001b[0mrep_delay\u001b[0m\u001b[0;34m,\u001b[0m \u001b[0minitial_reset\u001b[0m\u001b[0;34m=\u001b[0m\u001b[0minitial_reset\u001b[0m\u001b[0;34m,\u001b[0m\u001b[0;34m\u001b[0m\u001b[0;34m\u001b[0m\u001b[0m\n\u001b[1;32m    161\u001b[0m                                    async_cal=async_cal)\n",
      "\u001b[0;32m~/anaconda3/lib/python3.8/site-packages/mthree/mitigation.py\u001b[0m in \u001b[0;36m_grab_additional_cals\u001b[0;34m(self, qubits, shots, method, rep_delay, initial_reset, async_cal)\u001b[0m\n\u001b[1;32m    299\u001b[0m         \u001b[0;32melif\u001b[0m \u001b[0mmethod\u001b[0m \u001b[0;34m==\u001b[0m \u001b[0;34m'balanced'\u001b[0m\u001b[0;34m:\u001b[0m\u001b[0;34m\u001b[0m\u001b[0;34m\u001b[0m\u001b[0m\n\u001b[1;32m    300\u001b[0m             \u001b[0mcal_strings\u001b[0m \u001b[0;34m=\u001b[0m \u001b[0mbalanced_cal_strings\u001b[0m\u001b[0;34m(\u001b[0m\u001b[0mnum_cal_qubits\u001b[0m\u001b[0;34m)\u001b[0m\u001b[0;34m\u001b[0m\u001b[0;34m\u001b[0m\u001b[0m\n\u001b[0;32m--> 301\u001b[0;31m             trans_qcs = balanced_cal_circuits(cal_strings, qubits,\n\u001b[0m\u001b[1;32m    302\u001b[0m                                               \u001b[0mself\u001b[0m\u001b[0;34m.\u001b[0m\u001b[0mnum_qubits\u001b[0m\u001b[0;34m,\u001b[0m\u001b[0;34m\u001b[0m\u001b[0;34m\u001b[0m\u001b[0m\n\u001b[1;32m    303\u001b[0m                                               initial_reset=initial_reset)\n",
      "\u001b[0;32m~/anaconda3/lib/python3.8/site-packages/mthree/circuits.py\u001b[0m in \u001b[0;36mbalanced_cal_circuits\u001b[0;34m(cal_strings, layout, system_qubits, initial_reset)\u001b[0m\n\u001b[1;32m     84\u001b[0m     \"\"\"\n\u001b[1;32m     85\u001b[0m     \u001b[0mcircs\u001b[0m \u001b[0;34m=\u001b[0m \u001b[0;34m[\u001b[0m\u001b[0;34m]\u001b[0m\u001b[0;34m\u001b[0m\u001b[0;34m\u001b[0m\u001b[0m\n\u001b[0;32m---> 86\u001b[0;31m     \u001b[0mnum_active_qubits\u001b[0m \u001b[0;34m=\u001b[0m \u001b[0mlen\u001b[0m\u001b[0;34m(\u001b[0m\u001b[0mcal_strings\u001b[0m\u001b[0;34m[\u001b[0m\u001b[0;36m0\u001b[0m\u001b[0;34m]\u001b[0m\u001b[0;34m)\u001b[0m\u001b[0;34m\u001b[0m\u001b[0;34m\u001b[0m\u001b[0m\n\u001b[0m\u001b[1;32m     87\u001b[0m     \u001b[0;32mfor\u001b[0m \u001b[0mstring\u001b[0m \u001b[0;32min\u001b[0m \u001b[0mcal_strings\u001b[0m\u001b[0;34m:\u001b[0m\u001b[0;34m\u001b[0m\u001b[0;34m\u001b[0m\u001b[0m\n\u001b[1;32m     88\u001b[0m         \u001b[0mqc\u001b[0m \u001b[0;34m=\u001b[0m \u001b[0mQuantumCircuit\u001b[0m\u001b[0;34m(\u001b[0m\u001b[0msystem_qubits\u001b[0m\u001b[0;34m,\u001b[0m \u001b[0mnum_active_qubits\u001b[0m\u001b[0;34m)\u001b[0m\u001b[0;34m\u001b[0m\u001b[0;34m\u001b[0m\u001b[0m\n",
      "\u001b[0;31mIndexError\u001b[0m: list index out of range"
     ]
    }
   ],
   "source": [
    "mit.cals_from_system(maps)"
   ]
  },
  {
   "cell_type": "code",
   "execution_count": 19,
   "id": "5d73b4f0",
   "metadata": {},
   "outputs": [],
   "source": [
    "operator = ham_cs\n",
    "\n",
    "QWC_decomposition = list(\n",
    "    ObservableGraph(\n",
    "        operator.symp_matrix, \n",
    "        operator.coeff_vec\n",
    "    ).clique_cover(\n",
    "        clique_relation='QWC', \n",
    "        colouring_strategy='largest_first'\n",
    "    ).values()\n",
    ")\n",
    "assert(sum(QWC_decomposition)==operator), 'Decomposition into QWC groups failed'"
   ]
  },
  {
   "cell_type": "code",
   "execution_count": 20,
   "id": "d98bfca5",
   "metadata": {},
   "outputs": [
    {
     "name": "stdout",
     "output_type": "stream",
     "text": [
      "ibmq_qasm_simulator backend with 32 qubits has 1 queued jobs.\n",
      "ibmq_armonk backend with 1 qubits has 2 queued jobs.\n",
      "ibmq_lima backend with 5 qubits has 43 queued jobs.\n",
      "ibmq_belem backend with 5 qubits has 35 queued jobs.\n",
      "ibmq_quito backend with 5 qubits has 81 queued jobs.\n",
      "simulator_statevector backend with 32 qubits has 1 queued jobs.\n",
      "simulator_mps backend with 100 qubits has 1 queued jobs.\n",
      "simulator_extended_stabilizer backend with 63 qubits has 1 queued jobs.\n",
      "simulator_stabilizer backend with 5000 qubits has 1 queued jobs.\n",
      "ibmq_manila backend with 5 qubits has 254 queued jobs.\n",
      "ibm_nairobi backend with 7 qubits has 27 queued jobs.\n",
      "ibm_oslo backend with 7 qubits has 38 queued jobs.\n"
     ]
    }
   ],
   "source": [
    "for name in service.backends():\n",
    "    print(f'{name.name} backend with {name.num_qubits} qubits has {name.status().pending_jobs} queued jobs.')"
   ]
  },
  {
   "cell_type": "code",
   "execution_count": 178,
   "id": "19a9547f",
   "metadata": {},
   "outputs": [],
   "source": [
    "backend_name = 'ibmq_qasm_simulator' #'ibm_nairobi'\n",
    "\n",
    "options = {\n",
    "    'backend_name': backend_name\n",
    "}\n",
    "\n",
    "inputs = {\n",
    "    \"ansatz\": ansatz,\n",
    "    #\"observable\": ham_cs.to_PauliSumOp,\n",
    "    \"observable_groups\": [op.to_PauliSumOp for op in QWC_decomposition],\n",
    "    \"init_params\": None,\n",
    "    \"optimizer\": 'SLSQP',\n",
    "    #\"n_groups\":10,\n",
    "    \"maxiter\": 10,\n",
    "    \"n_shots\": 2**14, # 18 < np.log2(0.0016**-2) < 19\n",
    "    \"n_realize\":10\n",
    "}"
   ]
  },
  {
   "cell_type": "code",
   "execution_count": 179,
   "id": "09a9093a",
   "metadata": {},
   "outputs": [],
   "source": [
    "job = service.run(\n",
    "    program_id=program_id, \n",
    "    options=options, \n",
    "    inputs=inputs,\n",
    "    instance='ibm-q/open/main'\n",
    ")"
   ]
  },
  {
   "cell_type": "code",
   "execution_count": 181,
   "id": "4ae15f0a",
   "metadata": {},
   "outputs": [
    {
     "name": "stdout",
     "output_type": "stream",
     "text": [
      "Job ID: caq5jronvf39qe4cq7n0\n",
      "Job status: JobStatus.RUNNING\n"
     ]
    }
   ],
   "source": [
    "print(f'Job ID: {job.job_id}')\n",
    "print(f'Job status: {job.status()}')\n",
    "#print(job.error_message())"
   ]
  },
  {
   "cell_type": "code",
   "execution_count": 190,
   "id": "5fcdd345",
   "metadata": {},
   "outputs": [
    {
     "name": "stdout",
     "output_type": "stream",
     "text": [
      "-14.351880476202023 -14.403655108067682\n"
     ]
    },
    {
     "data": {
      "text/plain": [
       "['VQE complete',\n",
       " 'Optimization step #17: energy = -14.406099277222944',\n",
       " 'Optimization step #16: energy = -14.404922297564084',\n",
       " 'Optimization step #15: energy = -14.398133472037685',\n",
       " 'Optimization step #14: energy = -14.402600805739734',\n",
       " 'Optimization step #13: energy = -14.405131495174057',\n",
       " 'Optimization step #12: energy = -14.40406798541403',\n",
       " 'Optimization step #11: energy = -14.400054689574446',\n",
       " 'Optimization step #10: energy = -14.404126710177636',\n",
       " 'Optimization step #9: energy = -14.40539147695253',\n",
       " 'Optimization step #8: energy = -14.403100696906833',\n",
       " 'Optimization step #7: energy = -14.403540641954763',\n",
       " 'Optimization step #6: energy = -14.401076504022239',\n",
       " 'Optimization step #5: energy = -14.403199349482914',\n",
       " 'Optimization step #4: energy = -14.401827442503997',\n",
       " 'Optimization step #3: energy = -14.402444169960045',\n",
       " 'Optimization step #2: energy = -14.37113389304306',\n",
       " 'Optimization step #1: energy = -14.35195087769181',\n",
       " 'Optimization commencing']"
      ]
     },
     "execution_count": 190,
     "metadata": {},
     "output_type": "execute_result"
    }
   ],
   "source": [
    "print(molecule.hf_energy, molecule.fci_energy)\n",
    "job.interim_results()"
   ]
  },
  {
   "cell_type": "code",
   "execution_count": 191,
   "id": "58cfae55",
   "metadata": {},
   "outputs": [],
   "source": [
    "vqe_result, interim_values = job.result()"
   ]
  },
  {
   "cell_type": "code",
   "execution_count": 192,
   "id": "88af3ba2",
   "metadata": {},
   "outputs": [
    {
     "data": {
      "image/png": "[encoded data removed]",
      "text/plain": [
       "<Figure size 432x288 with 2 Axes>"
      ]
     },
     "metadata": {
      "needs_background": "light"
     },
     "output_type": "display_data"
    }
   ],
   "source": [
    "from matplotlib import pyplot as plt\n",
    "\n",
    "fig, axis = plt.subplots()\n",
    "#while not job.status().value == 'job has successfully run':\n",
    "X,Y = zip(*interim_values['values'])\n",
    "X,Y = np.array(X), np.array(Y)\n",
    "axis.hlines(molecule.mp2_energy - molecule.fci_energy, 1, len(X), color='orange', label='MP2 energy')\n",
    "axis.hlines(molecule.hf_energy - molecule.fci_energy, 1, len(X), color='red', label='HF energy')\n",
    "axis.hlines(0.0016, 1, len(X), color='green', label='Chemical accuracy')\n",
    "\n",
    "axis.plot(X, abs(Y - molecule.fci_energy), color='black', label='Optimizer output')\n",
    "axis.hlines(abs(vqe_result['fun'] - molecule.fci_energy), 1, len(X), color='black', label='Converged energy', ls='--')\n",
    "\n",
    "axis.set_xlabel('nfev')\n",
    "axis.set_ylabel('Energy error [Ha]')\n",
    "axis.set_yscale('log')\n",
    "\n",
    "try:\n",
    "    axis_param = axis.twinx()\n",
    "    X_grad, Y_grads = zip(*interim_values['gradients'])\n",
    "    for param_grad in zip(*Y_grads):\n",
    "        axis_param.plot(X_grad, param_grad, alpha=0.5)\n",
    "except:\n",
    "    pass\n",
    "\n",
    "axis.legend()\n",
    "plt.show()"
   ]
  },
  {
   "cell_type": "code",
   "execution_count": 87,
   "id": "c6546440",
   "metadata": {},
   "outputs": [
    {
     "data": {
      "text/plain": [
       "27.77777777777778"
      ]
     },
     "execution_count": 87,
     "metadata": {},
     "output_type": "execute_result"
    }
   ],
   "source": [
    "100_000/60/60 #hours"
   ]
  },
  {
   "cell_type": "markdown",
   "id": "3aa62486",
   "metadata": {},
   "source": [
    "# program metadata"
   ]
  },
  {
   "cell_type": "code",
   "execution_count": null,
   "id": "44efc4f3",
   "metadata": {},
   "outputs": [],
   "source": []
  },
  {
   "cell_type": "code",
   "execution_count": 15,
   "id": "c6e724fa",
   "metadata": {},
   "outputs": [],
   "source": [
    "meta = {\n",
    "    \"name\": \"symmer_vqe\",\n",
    "    \"description\": \"VQE program using symmer\",\n",
    "    \"max_execution_time\": 100000,\n",
    "    \"spec\": {},\n",
    "}"
   ]
  },
  {
   "cell_type": "code",
   "execution_count": 16,
   "id": "93444b19",
   "metadata": {},
   "outputs": [],
   "source": [
    "meta[\"spec\"][\"parameters\"] = {\n",
    "    \"$schema\": \"https://json-schema.org/draft/2019-09/schema\",\n",
    "    \"properties\": {\n",
    "        \"ansatz\": {\n",
    "            \"description\": \"Parametrized Ansatz\",\n",
    "            \"type\": \"QuantumCircuit\",\n",
    "        },\n",
    "        \"observable_groups\": {\n",
    "            \"description\": \"Decomposition of operator into groups, e.g. qubit-wise commuting\",\n",
    "            \"type\": \"List[Union[PauliSumOp, PauliOp]]\",\n",
    "            \"default\": \"None\"\n",
    "        },\n",
    "        \"observable\": {\n",
    "            \"description\": \"The observable on which we wish to perform eigenvalue estimation\",\n",
    "            \"type\": \"PauliSumOp\",\n",
    "            \"default\": \"None\",\n",
    "        },\n",
    "        \"maxiter\": {\n",
    "            \"description\": \"Maximum number of optimizer iterations.\",\n",
    "            \"type\": \"int\",\n",
    "            \"default\": \"10\",\n",
    "        },\n",
    "        \"init_params\": {\n",
    "            \"description\": \"Initial vector of parameters. This is a numpy array.\",\n",
    "            \"type\": \"array\",\n",
    "            \"default\": \"None\",\n",
    "        },\n",
    "        \"n_shots\": {\n",
    "            \"description\": \"The number of shots used for each circuit evaluation.\",\n",
    "            \"type\": \"integer\",\n",
    "            \"default\": \"2**12\",\n",
    "        },\n",
    "        \"n_realize\": {\n",
    "            \"description\": \"The number of realizations of each energy estimation - these are averaged over.\",\n",
    "            \"type\": \"integer\",\n",
    "            \"default\": \"1\",\n",
    "        },\n",
    "        \"n_groups\": {\n",
    "            \"description\": \"The number of classical shadow groups.\",\n",
    "            \"type\": \"integer\",\n",
    "            \"default\": \"5\",\n",
    "        },\n",
    "        \"use_measurement_mitigation\": {\n",
    "            \"description\": \"Use measurement mitigation, default=False.\",\n",
    "            \"type\": \"boolean\",\n",
    "            \"default\": \"False\",\n",
    "        },\n",
    "    },\n",
    "    \"required\": [\"ansatz\"],\n",
    "}\n",
    "\n",
    "meta[\"spec\"][\"return_values\"] = {\n",
    "    \"$schema\": \"https://json-schema.org/draft/2019-09/schema\",\n",
    "    \"description\": \"Tuple of final result in SciPy optimizer format and dictionary of interim values\",\n",
    "    \"type\": \"Tuple[scipy.optimize.optimize.OptimizeResult, Dict]\",\n",
    "}\n",
    "\n",
    "meta[\"spec\"][\"interim_results\"] = {\n",
    "    \"$schema\": \"https://json-schema.org/draft/2019-09/schema\",\n",
    "    \"description\": \"Parameter vector at current optimization step. This is a numpy array.\",\n",
    "    \"type\": \"array\",\n",
    "}"
   ]
  },
  {
   "cell_type": "code",
   "execution_count": null,
   "id": "3397edb0",
   "metadata": {},
   "outputs": [],
   "source": []
  }
 ],
 "metadata": {
  "kernelspec": {
   "display_name": "Python 3 (ipykernel)",
   "language": "python",
   "name": "python3"
  },
  "language_info": {
   "codemirror_mode": {
    "name": "ipython",
    "version": 3
   },
   "file_extension": ".py",
   "mimetype": "text/x-python",
   "name": "python",
   "nbconvert_exporter": "python",
   "pygments_lexer": "ipython3",
   "version": "3.8.8"
  }
 },
 "nbformat": 4,
 "nbformat_minor": 5
}
