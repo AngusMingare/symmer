{
 "cells": [
  {
   "cell_type": "markdown",
   "id": "8b27ecd9",
   "metadata": {},
   "source": [
    "# build molecule, taper and construct CS-VQE model"
   ]
  },
  {
   "cell_type": "code",
   "execution_count": 4,
   "id": "747512fb",
   "metadata": {},
   "outputs": [
    {
     "name": "stdout",
     "output_type": "stream",
     "text": [
      "Be_STO-3G_SINGLET\n",
      "Molecule geometry:\n",
      "Be\t0\t0\t0\n",
      "\n",
      "HF converged?   True\n",
      "CCSD converged? True\n",
      "FCI converged?  True\n",
      "\n",
      "HF energy:   -14.351880476202023\n",
      "MP2 energy:  -14.376238850841515\n",
      "CCSD energy: -14.403650751752787\n",
      "FCI energy:  -14.403655108067682\n",
      "\n",
      "\n",
      "Number of qubits: 10\n"
     ]
    }
   ],
   "source": [
    "import json\n",
    "import numpy as np\n",
    "from symmer.chem import MoleculeBuilder\n",
    "from symmer.projection import QubitTapering, CS_VQE, StabilizerIdentification\n",
    "from symmer.symplectic import ObservableGraph, PauliwordOp\n",
    "\n",
    "with open('../data/molecule_data.json', 'r') as jfile:\n",
    "    molecule_geometries = json.load(jfile)    \n",
    "\n",
    "speciesname = 'Be_STO-3G_SINGLET'\n",
    "print(speciesname)\n",
    "# build the molecule\n",
    "mol_data = molecule_geometries[speciesname]\n",
    "atoms  = mol_data['atoms']\n",
    "coords = mol_data['coords']\n",
    "charge = mol_data['charge']\n",
    "basis = mol_data['basis']\n",
    "geometry = list(zip(atoms, coords))\n",
    "molecule = MoleculeBuilder(geometry=geometry, charge=charge, basis=basis, spin=0, run_fci=True, print_info=True)"
   ]
  },
  {
   "cell_type": "code",
   "execution_count": 5,
   "id": "a4158b4c",
   "metadata": {},
   "outputs": [
    {
     "name": "stdout",
     "output_type": "stream",
     "text": [
      "Qubit tapering permitted a reduction of 10 -> 5 qubits\n",
      "\n",
      "The following stabilizers were identified:\n",
      "\n",
      " 1 ZIZIIZIZIZ \n",
      " 1 IZIZIZIZIZ \n",
      " 1 IIIIZZIIII \n",
      " 1 IIIIIIZZII \n",
      " 1 IIIIIIIIZZ\n"
     ]
    }
   ],
   "source": [
    "# taper the Hamiltonian\n",
    "qubit_tapering = QubitTapering(molecule.H_q)\n",
    "hf_array = molecule.H_fermion.hf_comp_basis_state\n",
    "qubit_tapering.stabilizers.update_sector(hf_array)\n",
    "ham_tap = qubit_tapering.taper_it(ref_state=hf_array)\n",
    "ucc_tap = qubit_tapering.taper_it(aux_operator=molecule.T_q, ref_state=hf_array)\n",
    "hf_tapered = qubit_tapering.tapered_ref_state\n",
    "\n",
    "print(f'Qubit tapering permitted a reduction of {molecule.H_q.n_qubits} -> {ham_tap.n_qubits} qubits\\n')\n",
    "print('The following stabilizers were identified:\\n')\n",
    "print(qubit_tapering.stabilizers)"
   ]
  },
  {
   "cell_type": "code",
   "execution_count": 6,
   "id": "de1556ee",
   "metadata": {},
   "outputs": [
    {
     "data": {
      "text/plain": [
       "PauliSumOp(SparsePauliOp(['III', 'IIZ', 'IZI', 'IZZ', 'ZII', 'ZIZ', 'ZZI', 'ZZZ', 'IIX', 'ZZX', 'IXI', 'ZXZ', 'IXX', 'IYY', 'XII', 'XZZ', 'XIX', 'YIY', 'XXI', 'YYI'],\n",
       "              coeffs=[-12.488598  +0.j,  -0.85829425+0.j,  -0.85829425+0.j,   0.02304318+0.j,\n",
       "  -0.85829425+0.j,   0.02304318+0.j,   0.02304318+0.j,   0.64247074+0.j,\n",
       "  -0.04340449+0.j,  -0.04340449+0.j,  -0.04340449+0.j,  -0.04340449+0.j,\n",
       "   0.01212469+0.j,   0.01212469+0.j,  -0.04340449+0.j,  -0.04340449+0.j,\n",
       "   0.01212469+0.j,   0.01212469+0.j,   0.01212469+0.j,   0.01212469+0.j]), coeff=1.0)"
      ]
     },
     "execution_count": 6,
     "metadata": {},
     "output_type": "execute_result"
    }
   ],
   "source": [
    "n_qubits = 3\n",
    "# CS-VQE and stabilizer identification\n",
    "cs_vqe = CS_VQE(ham_tap, hf_tapered, basis_weighting_operator=ucc_tap, noncontextual_form='diag')\n",
    "CC_stabilizers = StabilizerIdentification(ucc_tap)\n",
    "S = CC_stabilizers.symmetry_basis_by_subspace_dimension(n_qubits)\n",
    "ham_cs = cs_vqe.project_onto_subspace(S, enforce_clique_operator=False)\n",
    "ham_cs.to_PauliSumOp"
   ]
  },
  {
   "cell_type": "code",
   "execution_count": 7,
   "id": "a45cc437",
   "metadata": {},
   "outputs": [],
   "source": [
    "from symmer.symplectic import AnsatzOp, ObservableOp\n",
    "\n",
    "ucc_cs = cs_vqe.project_onto_subspace(S, enforce_clique_operator=False, aux_operator=ucc_tap)\n",
    "ref_cs = hf_tapered[cs_vqe.free_qubit_indices]\n",
    "anz_cs = AnsatzOp(ucc_cs.symp_matrix, ucc_cs.coeff_vec)\n",
    "\n",
    "#ucc_trunc = ucc_cs#.sort()[:40]\n",
    "#anz_cs = AnsatzOp(ucc_trunc.symp_matrix, ucc_trunc.coeff_vec)\n",
    "\n",
    "#obs = ObservableOp(ham_cs.symp_matrix, ham_cs.coeff_vec)\n",
    "#vqe_result = obs.VQE(\n",
    "#    ansatz_op=anz_cs, \n",
    "#    ref_state=ref_cs\n",
    "#)\n",
    "\n",
    "#opt_params = vqe_result[0]['x']\n",
    "#vqe_result[0]['fun'] - molecule.fci_energy"
   ]
  },
  {
   "cell_type": "code",
   "execution_count": 8,
   "id": "112604d3",
   "metadata": {},
   "outputs": [
    {
     "data": {
      "text/html": [
       "<pre style=\"word-wrap: normal;white-space: pre;background: #fff0;line-height: 1.1;font-family: &quot;Courier New&quot;,Courier,monospace\">      ░ ┌─────┐┌───┐┌─────────────┐┌───┐┌───┐ ░ ┌─────┐┌───┐          »\n",
       "q_0: ─░─┤ Sdg ├┤ H ├┤ Rz(-2*P[0]) ├┤ H ├┤ S ├─░─┤ Sdg ├┤ H ├──■───────»\n",
       "      ░ └─────┘└───┘└─────────────┘└───┘└───┘ ░ └─────┘└───┘┌─┴─┐     »\n",
       "q_1: ─░───────────────────────────────────────░─────────────┤ X ├──■──»\n",
       "      ░                                       ░             └───┘┌─┴─┐»\n",
       "q_2: ─░───────────────────────────────────────░──────────────────┤ X ├»\n",
       "      ░                                       ░                  └───┘»\n",
       "«                              ┌───┐┌───┐ ░                                 »\n",
       "«q_0: ──────────────────────■──┤ H ├┤ S ├─░─────────────────────────────────»\n",
       "«                         ┌─┴─┐└───┘└───┘ ░ ┌─────┐┌───┐┌─────────────┐┌───┐»\n",
       "«q_1: ─────────────────■──┤ X ├───────────░─┤ Sdg ├┤ H ├┤ Rz(-2*P[2]) ├┤ H ├»\n",
       "«     ┌─────────────┐┌─┴─┐└───┘           ░ └─────┘└───┘└─────────────┘└───┘»\n",
       "«q_2: ┤ Rz(-2*P[1]) ├┤ X ├────────────────░─────────────────────────────────»\n",
       "«     └─────────────┘└───┘                ░                                 »\n",
       "«           ░                                                           ░ »\n",
       "«q_0: ──────░───────────────■─────────────────────────────■─────────────░─»\n",
       "«     ┌───┐ ░ ┌─────┐┌───┐┌─┴─┐                         ┌─┴─┐┌───┐┌───┐ ░ »\n",
       "«q_1: ┤ S ├─░─┤ Sdg ├┤ H ├┤ X ├──■───────────────────■──┤ X ├┤ H ├┤ S ├─░─»\n",
       "«     └───┘ ░ └─────┘└───┘└───┘┌─┴─┐┌─────────────┐┌─┴─┐└───┘└───┘└───┘ ░ »\n",
       "«q_2: ──────░──────────────────┤ X ├┤ Rz(-2*P[3]) ├┤ X ├────────────────░─»\n",
       "«           ░                  └───┘└─────────────┘└───┘                ░ »\n",
       "«                                           ░                                 »\n",
       "«q_0: ──────────────────────────────────────░────■────────────────────────────»\n",
       "«                                           ░  ┌─┴─┐                          »\n",
       "«q_1: ──────────────────────────────────────░──┤ X ├────────■─────────────────»\n",
       "«     ┌─────┐┌───┐┌─────────────┐┌───┐┌───┐ ░ ┌┴───┴┐┌───┐┌─┴─┐┌─────────────┐»\n",
       "«q_2: ┤ Sdg ├┤ H ├┤ Rz(-2*P[4]) ├┤ H ├┤ S ├─░─┤ Sdg ├┤ H ├┤ X ├┤ Rz(-2*P[5]) ├»\n",
       "«     └─────┘└───┘└─────────────┘└───┘└───┘ ░ └─────┘└───┘└───┘└─────────────┘»\n",
       "«                     ░ \n",
       "«q_0: ───────■────────░─\n",
       "«          ┌─┴─┐      ░ \n",
       "«q_1: ──■──┤ X ├──────░─\n",
       "«     ┌─┴─┐├───┤┌───┐ ░ \n",
       "«q_2: ┤ X ├┤ H ├┤ S ├─░─\n",
       "«     └───┘└───┘└───┘ ░ </pre>"
      ],
      "text/plain": [
       "      ░ ┌─────┐┌───┐┌─────────────┐┌───┐┌───┐ ░ ┌─────┐┌───┐          »\n",
       "q_0: ─░─┤ Sdg ├┤ H ├┤ Rz(-2*P[0]) ├┤ H ├┤ S ├─░─┤ Sdg ├┤ H ├──■───────»\n",
       "      ░ └─────┘└───┘└─────────────┘└───┘└───┘ ░ └─────┘└───┘┌─┴─┐     »\n",
       "q_1: ─░───────────────────────────────────────░─────────────┤ X ├──■──»\n",
       "      ░                                       ░             └───┘┌─┴─┐»\n",
       "q_2: ─░───────────────────────────────────────░──────────────────┤ X ├»\n",
       "      ░                                       ░                  └───┘»\n",
       "«                              ┌───┐┌───┐ ░                                 »\n",
       "«q_0: ──────────────────────■──┤ H ├┤ S ├─░─────────────────────────────────»\n",
       "«                         ┌─┴─┐└───┘└───┘ ░ ┌─────┐┌───┐┌─────────────┐┌───┐»\n",
       "«q_1: ─────────────────■──┤ X ├───────────░─┤ Sdg ├┤ H ├┤ Rz(-2*P[2]) ├┤ H ├»\n",
       "«     ┌─────────────┐┌─┴─┐└───┘           ░ └─────┘└───┘└─────────────┘└───┘»\n",
       "«q_2: ┤ Rz(-2*P[1]) ├┤ X ├────────────────░─────────────────────────────────»\n",
       "«     └─────────────┘└───┘                ░                                 »\n",
       "«           ░                                                           ░ »\n",
       "«q_0: ──────░───────────────■─────────────────────────────■─────────────░─»\n",
       "«     ┌───┐ ░ ┌─────┐┌───┐┌─┴─┐                         ┌─┴─┐┌───┐┌───┐ ░ »\n",
       "«q_1: ┤ S ├─░─┤ Sdg ├┤ H ├┤ X ├──■───────────────────■──┤ X ├┤ H ├┤ S ├─░─»\n",
       "«     └───┘ ░ └─────┘└───┘└───┘┌─┴─┐┌─────────────┐┌─┴─┐└───┘└───┘└───┘ ░ »\n",
       "«q_2: ──────░──────────────────┤ X ├┤ Rz(-2*P[3]) ├┤ X ├────────────────░─»\n",
       "«           ░                  └───┘└─────────────┘└───┘                ░ »\n",
       "«                                           ░                                 »\n",
       "«q_0: ──────────────────────────────────────░────■────────────────────────────»\n",
       "«                                           ░  ┌─┴─┐                          »\n",
       "«q_1: ──────────────────────────────────────░──┤ X ├────────■─────────────────»\n",
       "«     ┌─────┐┌───┐┌─────────────┐┌───┐┌───┐ ░ ┌┴───┴┐┌───┐┌─┴─┐┌─────────────┐»\n",
       "«q_2: ┤ Sdg ├┤ H ├┤ Rz(-2*P[4]) ├┤ H ├┤ S ├─░─┤ Sdg ├┤ H ├┤ X ├┤ Rz(-2*P[5]) ├»\n",
       "«     └─────┘└───┘└─────────────┘└───┘└───┘ ░ └─────┘└───┘└───┘└─────────────┘»\n",
       "«                     ░ \n",
       "«q_0: ───────■────────░─\n",
       "«          ┌─┴─┐      ░ \n",
       "«q_1: ──■──┤ X ├──────░─\n",
       "«     ┌─┴─┐├───┤┌───┐ ░ \n",
       "«q_2: ┤ X ├┤ H ├┤ S ├─░─\n",
       "«     └───┘└───┘└───┘ ░ "
      ]
     },
     "execution_count": 8,
     "metadata": {},
     "output_type": "execute_result"
    }
   ],
   "source": [
    "from qiskit import QuantumCircuit\n",
    "ansatz = QuantumCircuit(n_qubits)\n",
    "for i in np.where(ref_cs)[0]:\n",
    "    ansatz.x(n_qubits-1-i)\n",
    "ansatz = ansatz.compose(anz_cs.to_QuantumCircuit(bind_params=False))\n",
    "ansatz.draw()"
   ]
  },
  {
   "cell_type": "code",
   "execution_count": 9,
   "id": "dfcc777b",
   "metadata": {},
   "outputs": [],
   "source": [
    "#from qiskit.quantum_info import Statevector\n",
    "#from symmer.symplectic import QuantumState\n",
    "#qc = ansatz.bind_parameters(opt_params)\n",
    "#psi = Statevector.from_instruction(qc).to_dict()\n",
    "#state_matrix, coeff_vec = zip(*[([int(i) for i in bstring], coeff) for bstring, coeff in psi.items()])\n",
    "#state_matrix = np.array(state_matrix)\n",
    "#coeff_vec = np.array(coeff_vec)\n",
    "\n",
    "#psi = QuantumState(state_matrix, coeff_vec)\n",
    "#psi.conjugate * ham_cs * psi - molecule.fci_energy"
   ]
  },
  {
   "cell_type": "code",
   "execution_count": 12,
   "id": "d1aa7421",
   "metadata": {},
   "outputs": [
    {
     "data": {
      "text/html": [
       "<pre style=\"word-wrap: normal;white-space: pre;background: #fff0;line-height: 1.1;font-family: &quot;Courier New&quot;,Courier,monospace\">     ┌──────────┐┌──────────┐          ┌──────────┐┌──────────┐             »\n",
       "q_0: ┤ Ry(θ[0]) ├┤ Rz(θ[3]) ├──■────■──┤ Ry(θ[6]) ├┤ Rz(θ[9]) ├─────────────»\n",
       "     ├──────────┤├──────────┤┌─┴─┐  │  └──────────┘├──────────┤┌───────────┐»\n",
       "q_1: ┤ Ry(θ[1]) ├┤ Rz(θ[4]) ├┤ X ├──┼───────■──────┤ Ry(θ[7]) ├┤ Rz(θ[10]) ├»\n",
       "     ├──────────┤├──────────┤└───┘┌─┴─┐   ┌─┴─┐    ├──────────┤├───────────┤»\n",
       "q_2: ┤ Ry(θ[2]) ├┤ Rz(θ[5]) ├─────┤ X ├───┤ X ├────┤ Ry(θ[8]) ├┤ Rz(θ[11]) ├»\n",
       "     └──────────┘└──────────┘     └───┘   └───┘    └──────────┘└───────────┘»\n",
       "«               ┌───────────┐┌───────────┐                       ┌───────────┐»\n",
       "«q_0: ──■────■──┤ Ry(θ[12]) ├┤ Rz(θ[15]) ├───────────────■────■──┤ Ry(θ[18]) ├»\n",
       "«     ┌─┴─┐  │  └───────────┘├───────────┤┌───────────┐┌─┴─┐  │  └───────────┘»\n",
       "«q_1: ┤ X ├──┼────────■──────┤ Ry(θ[13]) ├┤ Rz(θ[16]) ├┤ X ├──┼────────■──────»\n",
       "«     └───┘┌─┴─┐    ┌─┴─┐    ├───────────┤├───────────┤└───┘┌─┴─┐    ┌─┴─┐    »\n",
       "«q_2: ─────┤ X ├────┤ X ├────┤ Ry(θ[14]) ├┤ Rz(θ[17]) ├─────┤ X ├────┤ X ├────»\n",
       "«          └───┘    └───┘    └───────────┘└───────────┘     └───┘    └───┘    »\n",
       "«     ┌───────────┐             \n",
       "«q_0: ┤ Rz(θ[21]) ├─────────────\n",
       "«     ├───────────┤┌───────────┐\n",
       "«q_1: ┤ Ry(θ[19]) ├┤ Rz(θ[22]) ├\n",
       "«     ├───────────┤├───────────┤\n",
       "«q_2: ┤ Ry(θ[20]) ├┤ Rz(θ[23]) ├\n",
       "«     └───────────┘└───────────┘</pre>"
      ],
      "text/plain": [
       "     ┌──────────┐┌──────────┐          ┌──────────┐┌──────────┐             »\n",
       "q_0: ┤ Ry(θ[0]) ├┤ Rz(θ[3]) ├──■────■──┤ Ry(θ[6]) ├┤ Rz(θ[9]) ├─────────────»\n",
       "     ├──────────┤├──────────┤┌─┴─┐  │  └──────────┘├──────────┤┌───────────┐»\n",
       "q_1: ┤ Ry(θ[1]) ├┤ Rz(θ[4]) ├┤ X ├──┼───────■──────┤ Ry(θ[7]) ├┤ Rz(θ[10]) ├»\n",
       "     ├──────────┤├──────────┤└───┘┌─┴─┐   ┌─┴─┐    ├──────────┤├───────────┤»\n",
       "q_2: ┤ Ry(θ[2]) ├┤ Rz(θ[5]) ├─────┤ X ├───┤ X ├────┤ Ry(θ[8]) ├┤ Rz(θ[11]) ├»\n",
       "     └──────────┘└──────────┘     └───┘   └───┘    └──────────┘└───────────┘»\n",
       "«               ┌───────────┐┌───────────┐                       ┌───────────┐»\n",
       "«q_0: ──■────■──┤ Ry(θ[12]) ├┤ Rz(θ[15]) ├───────────────■────■──┤ Ry(θ[18]) ├»\n",
       "«     ┌─┴─┐  │  └───────────┘├───────────┤┌───────────┐┌─┴─┐  │  └───────────┘»\n",
       "«q_1: ┤ X ├──┼────────■──────┤ Ry(θ[13]) ├┤ Rz(θ[16]) ├┤ X ├──┼────────■──────»\n",
       "«     └───┘┌─┴─┐    ┌─┴─┐    ├───────────┤├───────────┤└───┘┌─┴─┐    ┌─┴─┐    »\n",
       "«q_2: ─────┤ X ├────┤ X ├────┤ Ry(θ[14]) ├┤ Rz(θ[17]) ├─────┤ X ├────┤ X ├────»\n",
       "«          └───┘    └───┘    └───────────┘└───────────┘     └───┘    └───┘    »\n",
       "«     ┌───────────┐             \n",
       "«q_0: ┤ Rz(θ[21]) ├─────────────\n",
       "«     ├───────────┤┌───────────┐\n",
       "«q_1: ┤ Ry(θ[19]) ├┤ Rz(θ[22]) ├\n",
       "«     ├───────────┤├───────────┤\n",
       "«q_2: ┤ Ry(θ[20]) ├┤ Rz(θ[23]) ├\n",
       "«     └───────────┘└───────────┘"
      ]
     },
     "execution_count": 12,
     "metadata": {},
     "output_type": "execute_result"
    }
   ],
   "source": [
    "from qiskit.circuit.library import EfficientSU2\n",
    "ansatz = EfficientSU2(n_qubits)#, reps=1)\n",
    "ansatz.decompose().draw()"
   ]
  },
  {
   "cell_type": "code",
   "execution_count": 13,
   "id": "f3eb53fb",
   "metadata": {},
   "outputs": [],
   "source": [
    "#import qiskit.circuit.library.n_local as lib_local\n",
    "\n",
    "#ansatz = getattr(lib_local, \"EfficientSU2\")\n",
    "#ansatz(3).decompose().draw()"
   ]
  },
  {
   "cell_type": "markdown",
   "id": "6b4ad73e",
   "metadata": {},
   "source": [
    "# VQE using ``symmer-vqe-Ve6OdoVd8X`` runtime program"
   ]
  },
  {
   "cell_type": "code",
   "execution_count": 14,
   "id": "938d96a0",
   "metadata": {},
   "outputs": [],
   "source": [
    "from qiskit_ibm_runtime import QiskitRuntimeService\n",
    "# only run the following the first time you connect to the service\n",
    "#token = \"a26e0769ddee03aa5f95f38edb1266efa1190059c7d60c1784ca3ec1e4c3c84bc375947c2bc8d2bc4ab39e32ea64ae6376b1f631936a416c7b8bdaed8b94a9cb\"\n",
    "#QiskitRuntimeService.save_account(channel=\"ibm_quantum\", token=token, overwrite=True)\n",
    "service = QiskitRuntimeService(channel='ibm_quantum')"
   ]
  },
  {
   "cell_type": "code",
   "execution_count": 15,
   "id": "c5baa769",
   "metadata": {},
   "outputs": [],
   "source": [
    "#program_id = service.upload_program(data=\"../../symmer/simulation/vqe_runtime.py\", metadata=meta)\n",
    "program_id = 'symmer-vqe-Ve6OdoVd8X'"
   ]
  },
  {
   "cell_type": "code",
   "execution_count": 17,
   "id": "fd90d8b1",
   "metadata": {},
   "outputs": [],
   "source": [
    "#service.update_program(program_id=program_id, data=\"../../symmer/simulation/vqe_runtime.py\", metadata=meta)\n",
    "# service.delete_program(program_id) # to delete program"
   ]
  },
  {
   "cell_type": "code",
   "execution_count": 18,
   "id": "e66f07c7",
   "metadata": {},
   "outputs": [
    {
     "name": "stdout",
     "output_type": "stream",
     "text": [
      "Program name: symmer_vqe\n",
      "Description:  VQE program using symmer\n"
     ]
    }
   ],
   "source": [
    "prog = service.program(program_id)\n",
    "print(f'Program name: {prog.name}')\n",
    "print(f'Description:  {prog.description}')"
   ]
  },
  {
   "cell_type": "code",
   "execution_count": 19,
   "id": "5d73b4f0",
   "metadata": {},
   "outputs": [],
   "source": [
    "operator = ham_cs\n",
    "\n",
    "QWC_decomposition = list(\n",
    "    ObservableGraph(\n",
    "        operator.symp_matrix, \n",
    "        operator.coeff_vec\n",
    "    ).clique_cover(\n",
    "        clique_relation='QWC', \n",
    "        colouring_strategy='largest_first'\n",
    "    ).values()\n",
    ")\n",
    "assert(sum(QWC_decomposition)==operator), 'Decomposition into QWC groups failed'"
   ]
  },
  {
   "cell_type": "code",
   "execution_count": 20,
   "id": "d98bfca5",
   "metadata": {},
   "outputs": [],
   "source": [
    "#for name in service.backends():\n",
    "#    print(f'Backend name: {name.name: <29} | '+\n",
    "#          f'Number of qubits: {name.num_qubits: <4} | '+\n",
    "#          f'Number of jobs queued: {name.status().pending_jobs}'\n",
    "#    )"
   ]
  },
  {
   "cell_type": "code",
   "execution_count": 21,
   "id": "9c496d9c",
   "metadata": {},
   "outputs": [
    {
     "data": {
      "text/html": [
       "<pre style=\"word-wrap: normal;white-space: pre;background: #fff0;line-height: 1.1;font-family: &quot;Courier New&quot;,Courier,monospace\">      ░ ┌──────────┐┌──────────┐ ░ ┌───┐           ░ ┌──────────┐ ┌──────────┐»\n",
       "q_0: ─░─┤ Rx(θ[0]) ├┤ Ry(θ[3]) ├─░─┤ X ├──■────────░─┤ Rx(θ[6]) ├─┤ Ry(θ[9]) ├»\n",
       "      ░ ├──────────┤├──────────┤ ░ └─┬─┘┌─┴─┐      ░ ├──────────┤┌┴──────────┤»\n",
       "q_1: ─░─┤ Rx(θ[1]) ├┤ Ry(θ[4]) ├─░───┼──┤ X ├──■───░─┤ Rx(θ[7]) ├┤ Ry(θ[10]) ├»\n",
       "      ░ ├──────────┤├──────────┤ ░   │  └───┘┌─┴─┐ ░ ├──────────┤├───────────┤»\n",
       "q_2: ─░─┤ Rx(θ[2]) ├┤ Ry(θ[5]) ├─░───■───────┤ X ├─░─┤ Rx(θ[8]) ├┤ Ry(θ[11]) ├»\n",
       "      ░ └──────────┘└──────────┘ ░           └───┘ ░ └──────────┘└───────────┘»\n",
       "«      ░ ┌───┐           ░ ┌───────────┐┌───────────┐\n",
       "«q_0: ─░─┤ X ├──■────────░─┤ Rx(θ[12]) ├┤ Ry(θ[15]) ├\n",
       "«      ░ └─┬─┘┌─┴─┐      ░ ├───────────┤├───────────┤\n",
       "«q_1: ─░───┼──┤ X ├──■───░─┤ Rx(θ[13]) ├┤ Ry(θ[16]) ├\n",
       "«      ░   │  └───┘┌─┴─┐ ░ ├───────────┤├───────────┤\n",
       "«q_2: ─░───■───────┤ X ├─░─┤ Rx(θ[14]) ├┤ Ry(θ[17]) ├\n",
       "«      ░           └───┘ ░ └───────────┘└───────────┘</pre>"
      ],
      "text/plain": [
       "      ░ ┌──────────┐┌──────────┐ ░ ┌───┐           ░ ┌──────────┐ ┌──────────┐»\n",
       "q_0: ─░─┤ Rx(θ[0]) ├┤ Ry(θ[3]) ├─░─┤ X ├──■────────░─┤ Rx(θ[6]) ├─┤ Ry(θ[9]) ├»\n",
       "      ░ ├──────────┤├──────────┤ ░ └─┬─┘┌─┴─┐      ░ ├──────────┤┌┴──────────┤»\n",
       "q_1: ─░─┤ Rx(θ[1]) ├┤ Ry(θ[4]) ├─░───┼──┤ X ├──■───░─┤ Rx(θ[7]) ├┤ Ry(θ[10]) ├»\n",
       "      ░ ├──────────┤├──────────┤ ░   │  └───┘┌─┴─┐ ░ ├──────────┤├───────────┤»\n",
       "q_2: ─░─┤ Rx(θ[2]) ├┤ Ry(θ[5]) ├─░───■───────┤ X ├─░─┤ Rx(θ[8]) ├┤ Ry(θ[11]) ├»\n",
       "      ░ └──────────┘└──────────┘ ░           └───┘ ░ └──────────┘└───────────┘»\n",
       "«      ░ ┌───┐           ░ ┌───────────┐┌───────────┐\n",
       "«q_0: ─░─┤ X ├──■────────░─┤ Rx(θ[12]) ├┤ Ry(θ[15]) ├\n",
       "«      ░ └─┬─┘┌─┴─┐      ░ ├───────────┤├───────────┤\n",
       "«q_1: ─░───┼──┤ X ├──■───░─┤ Rx(θ[13]) ├┤ Ry(θ[16]) ├\n",
       "«      ░   │  └───┘┌─┴─┐ ░ ├───────────┤├───────────┤\n",
       "«q_2: ─░───■───────┤ X ├─░─┤ Rx(θ[14]) ├┤ Ry(θ[17]) ├\n",
       "«      ░           └───┘ ░ └───────────┘└───────────┘"
      ]
     },
     "execution_count": 21,
     "metadata": {},
     "output_type": "execute_result"
    }
   ],
   "source": [
    "from qiskit import QuantumCircuit\n",
    "from qiskit.circuit.library import EfficientSU2\n",
    "\n",
    "#excitation_circuit = anz_cs.to_QuantumCircuit(bind_params=False)\n",
    "excitation_circuit = EfficientSU2(n_qubits, su2_gates=['rx', 'ry'], entanglement='circular', reps=2, insert_barriers=True)\n",
    "\n",
    "ansatz = QuantumCircuit(n_qubits)\n",
    "for i in np.where(ref_cs)[0]:\n",
    "    ansatz.x(n_qubits-1-i)\n",
    "ansatz.barrier()\n",
    "ansatz = ansatz.compose(excitation_circuit)\n",
    "\n",
    "ansatz.decompose().draw()"
   ]
  },
  {
   "cell_type": "code",
   "execution_count": 22,
   "id": "2f192609",
   "metadata": {},
   "outputs": [
    {
     "data": {
      "text/plain": [
       "16384"
      ]
     },
     "execution_count": 22,
     "metadata": {},
     "output_type": "execute_result"
    }
   ],
   "source": [
    "2**14"
   ]
  },
  {
   "cell_type": "code",
   "execution_count": 241,
   "id": "19a9547f",
   "metadata": {},
   "outputs": [],
   "source": [
    "backend_name = 'ibmq_qasm_simulator' #'ibm_nairobi'\n",
    "\n",
    "options = {\n",
    "    'backend_name': backend_name\n",
    "}\n",
    "\n",
    "inputs = {\n",
    "    \"ansatz\": ansatz,\n",
    "    \"observable\": ham_cs.to_PauliSumOp,\n",
    "    \"observable_groups\": [op.to_PauliSumOp for op in QWC_decomposition],\n",
    "    \"init_params\": np.zeros(ansatz.num_parameters),\n",
    "    \"optimizer\": 'SLSQP',\n",
    "    \"n_groups\":5,\n",
    "    \"opt_setting\": {\"maxiter\":10, \"gtol\": 1e-6},\n",
    "    \"n_shots\": 2**13, # 18 < np.log2(0.0016**-2) < 19\n",
    "    \"n_realize\":5\n",
    "}"
   ]
  },
  {
   "cell_type": "code",
   "execution_count": 242,
   "id": "09a9093a",
   "metadata": {},
   "outputs": [],
   "source": [
    "job = service.run(\n",
    "    program_id=program_id, \n",
    "    options=options, \n",
    "    inputs=inputs,\n",
    "    instance='ibm-q/open/main'\n",
    ")"
   ]
  },
  {
   "cell_type": "code",
   "execution_count": 243,
   "id": "d5837222",
   "metadata": {},
   "outputs": [],
   "source": [
    "#service.backend(backend_name).status()"
   ]
  },
  {
   "cell_type": "code",
   "execution_count": 246,
   "id": "4ae15f0a",
   "metadata": {},
   "outputs": [
    {
     "name": "stdout",
     "output_type": "stream",
     "text": [
      "Job ID: casovg3e68ooh09r3fig\n",
      "Job status: JobStatus.RUNNING\n"
     ]
    }
   ],
   "source": [
    "print(f'Job ID: {job.job_id}')\n",
    "print(f'Job status: {job.status()}')\n",
    "#print(job.error_message())"
   ]
  },
  {
   "cell_type": "code",
   "execution_count": 272,
   "id": "5fcdd345",
   "metadata": {},
   "outputs": [
    {
     "name": "stdout",
     "output_type": "stream",
     "text": [
      "-14.351880476202023 -14.403655108067682\n"
     ]
    },
    {
     "data": {
      "text/plain": [
       "['Optimization step #18: energy = -14.402772151763525',\n",
       " 'VQE complete',\n",
       " 'Optimization step #17: energy = -14.403753562802896',\n",
       " 'Optimization step #16: energy = -14.401595758181756',\n",
       " 'Optimization step #15: energy = -14.404786679395249',\n",
       " 'Optimization step #14: energy = -14.400303948807164',\n",
       " 'Optimization step #13: energy = -14.392153213181132',\n",
       " 'Optimization step #12: energy = -14.400704519081945',\n",
       " 'Optimization step #11: energy = -14.39456450167306',\n",
       " 'Optimization step #10: energy = -14.40305523086125',\n",
       " 'Optimization step #9: energy = -14.397757253813632',\n",
       " 'Optimization step #8: energy = -14.381760695180162',\n",
       " 'Optimization step #7: gradient norm = 0.11860087357455545',\n",
       " 'Optimization step #7: energy = -14.40586215320992',\n",
       " 'Optimization step #6: energy = -14.387954314521973',\n",
       " 'Optimization step #5: gradient norm = 0.11600758751423443',\n",
       " 'Optimization step #5: energy = -14.401608258264664',\n",
       " 'Optimization step #4: energy = -14.397248986626229',\n",
       " 'Optimization step #3: gradient norm = 0.19487876599146675',\n",
       " 'Optimization step #3: energy = -14.399629558820866',\n",
       " 'Optimization step #2: gradient norm = 0.1809559831408249',\n",
       " 'Optimization step #2: energy = -14.388095200656448',\n",
       " 'Optimization step #1: gradient norm = 0.2792679329448006',\n",
       " 'Optimization step #1: energy = -14.351272896410899',\n",
       " 'Optimization commencing']"
      ]
     },
     "execution_count": 272,
     "metadata": {},
     "output_type": "execute_result"
    }
   ],
   "source": [
    "print(molecule.hf_energy, molecule.fci_energy)\n",
    "job.interim_results()"
   ]
  },
  {
   "cell_type": "code",
   "execution_count": 273,
   "id": "58cfae55",
   "metadata": {},
   "outputs": [],
   "source": [
    "vqe_result, interim_values = job.result()"
   ]
  },
  {
   "cell_type": "code",
   "execution_count": null,
   "id": "7969d9d0",
   "metadata": {},
   "outputs": [],
   "source": []
  },
  {
   "cell_type": "code",
   "execution_count": 274,
   "id": "88af3ba2",
   "metadata": {},
   "outputs": [
    {
     "data": {
      "image/png": "[encoded data removed]",
      "text/plain": [
       "<Figure size 432x288 with 2 Axes>"
      ]
     },
     "metadata": {
      "needs_background": "light"
     },
     "output_type": "display_data"
    }
   ],
   "source": [
    "from matplotlib import pyplot as plt\n",
    "\n",
    "fig, axis = plt.subplots()\n",
    "#while not job.status().value == 'job has successfully run':\n",
    "X,Y = zip(*interim_values['values'])\n",
    "X,Y = np.array(X), np.array(Y)\n",
    "axis.hlines(molecule.mp2_energy - molecule.fci_energy, 1, len(X), color='orange', label='MP2 energy')\n",
    "axis.hlines(molecule.hf_energy - molecule.fci_energy, 1, len(X), color='red', label='HF energy')\n",
    "axis.hlines(2*0.0016, 1, len(X), color='green', label='Chemical accuracy * 2')\n",
    "axis.hlines(0.0016, 1, len(X), color='lime', label='Chemical accuracy')\n",
    "axis.plot([], [], alpha=0.5, marker='o', ls='--', label='Parameter gradient norm')\n",
    "\n",
    "\n",
    "axis.plot(X, abs(Y - molecule.fci_energy), color='black', label='Optimizer output')\n",
    "axis.hlines(abs(vqe_result['fun'] - molecule.fci_energy), 1, len(X), color='black', label='Converged energy', ls='--')\n",
    "\n",
    "axis.set_xlabel('nfev')\n",
    "axis.set_ylabel('Energy error [Ha]')\n",
    "axis.set_yscale('log')\n",
    "\n",
    "try:\n",
    "    axis_param = axis.twinx()\n",
    "    X_grad, Y_grads = zip(*interim_values['gradients'])\n",
    "    Y_grad_norm = [np.sqrt(np.sum(np.square(grad))) for grad in Y_grads]\n",
    "    axis_param.plot(X_grad, Y_grad_norm, alpha=0.5, marker='o', ls='--')\n",
    "    axis_param.set_ylabel('Parameter gradient norm $||\\Delta||$')\n",
    "    #for param_grad in zip(*Y_grads):\n",
    "    #    axis_param.plot(X_grad, param_grad, alpha=0.2)\n",
    "except:\n",
    "    pass\n",
    "\n",
    "axis.legend()\n",
    "plt.show()"
   ]
  },
  {
   "cell_type": "markdown",
   "id": "3aa62486",
   "metadata": {},
   "source": [
    "# program metadata"
   ]
  },
  {
   "cell_type": "code",
   "execution_count": null,
   "id": "44efc4f3",
   "metadata": {},
   "outputs": [],
   "source": []
  },
  {
   "cell_type": "code",
   "execution_count": 2,
   "id": "c6e724fa",
   "metadata": {},
   "outputs": [],
   "source": [
    "meta = {\n",
    "    \"name\": \"symmer_vqe\",\n",
    "    \"description\": \"VQE program using symmer\",\n",
    "    \"max_execution_time\": 100000,\n",
    "    \"spec\": {},\n",
    "}"
   ]
  },
  {
   "cell_type": "code",
   "execution_count": 3,
   "id": "93444b19",
   "metadata": {},
   "outputs": [],
   "source": [
    "meta[\"spec\"][\"parameters\"] = {\n",
    "    \"$schema\": \"https://json-schema.org/draft/2019-09/schema\",\n",
    "    \"properties\": {\n",
    "        \"ansatz\": {\n",
    "            \"description\": \"Parametrized Ansatz\",\n",
    "            \"type\": \"QuantumCircuit\",\n",
    "        },\n",
    "        \"observable_groups\": {\n",
    "            \"description\": \"Decomposition of operator into groups, e.g. qubit-wise commuting\",\n",
    "            \"type\": \"List[Union[PauliSumOp, PauliOp]]\",\n",
    "            \"default\": \"None\"\n",
    "        },\n",
    "        \"observable\": {\n",
    "            \"description\": \"The observable on which we wish to perform eigenvalue estimation\",\n",
    "            \"type\": \"PauliSumOp\",\n",
    "            \"default\": \"None\",\n",
    "        },\n",
    "        \"opt_setting\": {\n",
    "            \"description\": \"Optimizer settings\",\n",
    "            \"type\": \"dict\",\n",
    "            \"default\": \"{'maxiter':10}\",\n",
    "        },\n",
    "        \"init_params\": {\n",
    "            \"description\": \"Initial vector of parameters. This is a numpy array.\",\n",
    "            \"type\": \"array\",\n",
    "            \"default\": \"None\",\n",
    "        },\n",
    "        \"n_shots\": {\n",
    "            \"description\": \"The number of shots used for each circuit evaluation.\",\n",
    "            \"type\": \"integer\",\n",
    "            \"default\": \"2**12\",\n",
    "        },\n",
    "        \"n_realize\": {\n",
    "            \"description\": \"The number of realizations of each energy estimation - these are averaged over.\",\n",
    "            \"type\": \"integer\",\n",
    "            \"default\": \"1\",\n",
    "        },\n",
    "        \"n_groups\": {\n",
    "            \"description\": \"The number of classical shadow groups.\",\n",
    "            \"type\": \"integer\",\n",
    "            \"default\": \"5\",\n",
    "        },\n",
    "        \"mitigate_errors\": {\n",
    "            \"description\": \"Use matrix-free measurement mitigation (mthree), default=False.\",\n",
    "            \"type\": \"boolean\",\n",
    "            \"default\": \"False\",\n",
    "        },\n",
    "    },\n",
    "    \"required\": [\"ansatz\"],\n",
    "}\n",
    "\n",
    "meta[\"spec\"][\"return_values\"] = {\n",
    "    \"$schema\": \"https://json-schema.org/draft/2019-09/schema\",\n",
    "    \"description\": \"Tuple of final result in SciPy optimizer format and dictionary of interim values\",\n",
    "    \"type\": \"Tuple[scipy.optimize.optimize.OptimizeResult, Dict]\",\n",
    "}\n",
    "\n",
    "meta[\"spec\"][\"interim_results\"] = {\n",
    "    \"$schema\": \"https://json-schema.org/draft/2019-09/schema\",\n",
    "    \"description\": \"Parameter vector at current optimization step. This is a numpy array.\",\n",
    "    \"type\": \"array\",\n",
    "}"
   ]
  },
  {
   "cell_type": "code",
   "execution_count": null,
   "id": "08e08b07",
   "metadata": {},
   "outputs": [],
   "source": []
  }
 ],
 "metadata": {
  "kernelspec": {
   "display_name": "Python 3 (ipykernel)",
   "language": "python",
   "name": "python3"
  },
  "language_info": {
   "codemirror_mode": {
    "name": "ipython",
    "version": 3
   },
   "file_extension": ".py",
   "mimetype": "text/x-python",
   "name": "python",
   "nbconvert_exporter": "python",
   "pygments_lexer": "ipython3",
   "version": "3.8.8"
  }
 },
 "nbformat": 4,
 "nbformat_minor": 5
}
