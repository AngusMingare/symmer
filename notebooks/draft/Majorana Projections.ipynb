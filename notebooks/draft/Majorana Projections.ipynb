{
 "cells": [
  {
   "cell_type": "code",
   "execution_count": 121,
   "id": "25d503f8",
   "metadata": {},
   "outputs": [],
   "source": [
    "from symred.majorana_operator import MajoranaOp, majorana_rotations\n",
    "import numpy as np\n",
    "from openfermion import jordan_wigner"
   ]
  },
  {
   "cell_type": "code",
   "execution_count": 122,
   "id": "c4c824c3",
   "metadata": {},
   "outputs": [
    {
     "name": "stdout",
     "output_type": "stream",
     "text": [
      "(-1+0j) γ1 γ2 γ3 γ4 +\n",
      "(-1+0j) γ3 γ4 γ5 γ6 +\n",
      "(-1+0j) γ2 γ3 γ6 γ7\n",
      "\n",
      "(1+0j) [X0 X2] +\n",
      "(1+0j) [X1 X3] +\n",
      "(1+0j) [Z1 Z3]\n"
     ]
    }
   ],
   "source": [
    "M = MajoranaOp([[1,2,3,4],[3,4,5,6],[2,3,6,7]], [1,1,1])\n",
    "print(M)\n",
    "print()\n",
    "print(jordan_wigner(M.to_OF_op()))"
   ]
  },
  {
   "cell_type": "code",
   "execution_count": 123,
   "id": "387c8d7e",
   "metadata": {},
   "outputs": [
    {
     "data": {
      "text/plain": [
       "array([[1, 1, 1],\n",
       "       [1, 1, 1],\n",
       "       [1, 1, 1]])"
      ]
     },
     "execution_count": 123,
     "metadata": {},
     "output_type": "execute_result"
    }
   ],
   "source": [
    "M.adjacency_matrix()"
   ]
  },
  {
   "cell_type": "code",
   "execution_count": 124,
   "id": "4639fdf7",
   "metadata": {},
   "outputs": [
    {
     "name": "stdout",
     "output_type": "stream",
     "text": [
      "(1+0j) [X1 X3]\n",
      "(1+0j) [X0 X2]\n",
      "(1+0j) [Z1]\n"
     ]
    }
   ],
   "source": [
    "M_rot = majorana_rotations(M)\n",
    "terms, rotations = M_rot.get_rotations()\n",
    "for t in terms:\n",
    "    print(jordan_wigner(t.to_OF_op()))"
   ]
  },
  {
   "cell_type": "code",
   "execution_count": 125,
   "id": "ad29c860",
   "metadata": {},
   "outputs": [
    {
     "data": {
      "text/plain": [
       "[(-1+0j) γ3 γ4 γ5 γ6, (-1+0j) γ1 γ2 γ3 γ4, -1j γ2 γ3]"
      ]
     },
     "execution_count": 125,
     "metadata": {},
     "output_type": "execute_result"
    }
   ],
   "source": [
    "terms"
   ]
  },
  {
   "cell_type": "code",
   "execution_count": null,
   "id": "7e5068e8",
   "metadata": {},
   "outputs": [],
   "source": []
  },
  {
   "cell_type": "code",
   "execution_count": null,
   "id": "2cbcfd60",
   "metadata": {},
   "outputs": [],
   "source": []
  }
 ],
 "metadata": {
  "kernelspec": {
   "display_name": "Python 3 (ipykernel)",
   "language": "python",
   "name": "python3"
  },
  "language_info": {
   "codemirror_mode": {
    "name": "ipython",
    "version": 3
   },
   "file_extension": ".py",
   "mimetype": "text/x-python",
   "name": "python",
   "nbconvert_exporter": "python",
   "pygments_lexer": "ipython3",
   "version": "3.8.8"
  }
 },
 "nbformat": 4,
 "nbformat_minor": 5
}
