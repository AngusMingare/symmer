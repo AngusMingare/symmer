{
 "cells": [
  {
   "cell_type": "code",
   "execution_count": 1,
   "id": "edfb75f6",
   "metadata": {},
   "outputs": [
    {
     "name": "stderr",
     "output_type": "stream",
     "text": [
      "/home/tim/anaconda3/lib/python3.7/site-packages/pyscf/lib/misc.py:46: H5pyDeprecationWarning: Using default_file_mode other than 'r' is deprecated. Pass the mode to h5py.File() instead.\n",
      "  h5py.get_config().default_file_mode = 'a'\n",
      "2022-05-25 17:33:29.492827: W external/org_tensorflow/tensorflow/stream_executor/platform/default/dso_loader.cc:64] Could not load dynamic library 'libcudart.so.11.0'; dlerror: libcudart.so.11.0: cannot open shared object file: No such file or directory\n",
      "2022-05-25 17:33:29.528462: W external/org_tensorflow/tensorflow/stream_executor/platform/default/dso_loader.cc:64] Could not load dynamic library 'libcudart.so.11.0'; dlerror: libcudart.so.11.0: cannot open shared object file: No such file or directory\n",
      "2022-05-25 17:33:29.531533: W external/org_tensorflow/tensorflow/stream_executor/platform/default/dso_loader.cc:64] Could not load dynamic library 'libcudart.so.11.0'; dlerror: libcudart.so.11.0: cannot open shared object file: No such file or directory\n"
     ]
    }
   ],
   "source": [
    "from symmer.chem.chem_utils import xyz_from_pubchem, Draw_molecule\n",
    "import numpy as np\n",
    "from openfermion import FermionOperator\n",
    "from scipy.sparse.linalg import expm\n",
    "from openfermion import get_sparse_operator"
   ]
  },
  {
   "cell_type": "code",
   "execution_count": 40,
   "id": "c8b721b1",
   "metadata": {},
   "outputs": [
    {
     "data": {
      "application/3dmoljs_load.v0": "<div id=\"3dmolviewer_16534965263043964\"  style=\"position: relative; width: 400px; height: 400px\">\n        <p id=\"3dmolwarning_16534965263043964\" style=\"background-color:#ffcccc;color:black\">You appear to be running in JupyterLab (or JavaScript failed to load for some other reason).  You need to install the 3dmol extension: <br>\n        <tt>jupyter labextension install jupyterlab_3dmol</tt></p>\n        </div>\n<script>\n\nvar loadScriptAsync = function(uri){\n  return new Promise((resolve, reject) => {\n    var tag = document.createElement('script');\n    tag.src = uri;\n    tag.async = true;\n    tag.onload = () => {\n      resolve();\n    };\n  var firstScriptTag = document.getElementsByTagName('script')[0];\n  firstScriptTag.parentNode.insertBefore(tag, firstScriptTag);\n});\n};\n\nif(typeof $3Dmolpromise === 'undefined') {\n$3Dmolpromise = null;\n  $3Dmolpromise = loadScriptAsync('https://3dmol.org/build/3Dmol.js');\n}\n\nvar viewer_16534965263043964 = null;\nvar warn = document.getElementById(\"3dmolwarning_16534965263043964\");\nif(warn) {\n    warn.parentNode.removeChild(warn);\n}\n$3Dmolpromise.then(function() {\nviewer_16534965263043964 = $3Dmol.createViewer($(\"#3dmolviewer_16534965263043964\"),{backgroundColor:\"white\"});\nviewer_16534965263043964.zoomTo();\n\tviewer_16534965263043964.addModel(\"1\\n \\nN\\t0\\t0\\t0\",\"xyz\");\n\tviewer_16534965263043964.setStyle({\"sphere\": {\"radius\": 0.2}});\n\tviewer_16534965263043964.zoomTo();\nviewer_16534965263043964.render();\n});\n</script>",
      "text/html": [
       "<div id=\"3dmolviewer_16534965263043964\"  style=\"position: relative; width: 400px; height: 400px\">\n",
       "        <p id=\"3dmolwarning_16534965263043964\" style=\"background-color:#ffcccc;color:black\">You appear to be running in JupyterLab (or JavaScript failed to load for some other reason).  You need to install the 3dmol extension: <br>\n",
       "        <tt>jupyter labextension install jupyterlab_3dmol</tt></p>\n",
       "        </div>\n",
       "<script>\n",
       "\n",
       "var loadScriptAsync = function(uri){\n",
       "  return new Promise((resolve, reject) => {\n",
       "    var tag = document.createElement('script');\n",
       "    tag.src = uri;\n",
       "    tag.async = true;\n",
       "    tag.onload = () => {\n",
       "      resolve();\n",
       "    };\n",
       "  var firstScriptTag = document.getElementsByTagName('script')[0];\n",
       "  firstScriptTag.parentNode.insertBefore(tag, firstScriptTag);\n",
       "});\n",
       "};\n",
       "\n",
       "if(typeof $3Dmolpromise === 'undefined') {\n",
       "$3Dmolpromise = null;\n",
       "  $3Dmolpromise = loadScriptAsync('https://3dmol.org/build/3Dmol.js');\n",
       "}\n",
       "\n",
       "var viewer_16534965263043964 = null;\n",
       "var warn = document.getElementById(\"3dmolwarning_16534965263043964\");\n",
       "if(warn) {\n",
       "    warn.parentNode.removeChild(warn);\n",
       "}\n",
       "$3Dmolpromise.then(function() {\n",
       "viewer_16534965263043964 = $3Dmol.createViewer($(\"#3dmolviewer_16534965263043964\"),{backgroundColor:\"white\"});\n",
       "viewer_16534965263043964.zoomTo();\n",
       "\tviewer_16534965263043964.addModel(\"1\\n \\nN\\t0\\t0\\t0\",\"xyz\");\n",
       "\tviewer_16534965263043964.setStyle({\"sphere\": {\"radius\": 0.2}});\n",
       "\tviewer_16534965263043964.zoomTo();\n",
       "viewer_16534965263043964.render();\n",
       "});\n",
       "</script>"
      ]
     },
     "metadata": {},
     "output_type": "display_data"
    }
   ],
   "source": [
    "geometry=[\n",
    "    ('H', (0.0,0.0,0.0)),\n",
    "    ('H', (2.45366053071732,0.0,0.0)),\n",
    "    ('H', (2.45366053071732,2.45366053071732,0.0)),\n",
    "    ('H', (0.0,2.45366053071732,0.0))\n",
    "     ] \n",
    "\n",
    "geometry=[('N', (0,0,0))]#, ('N', (1000,0,0))]\n",
    "\n",
    "def list_to_xyz(geometry) -> str:\n",
    "    \"\"\" Convert the geometry stored as a list to xyz string\n",
    "    \"\"\"\n",
    "    xyz_file = str(len(geometry))+'\\n '\n",
    "\n",
    "    for atom, coords in geometry:\n",
    "        xyz_file += '\\n'+atom+'\\t'\n",
    "        xyz_file += '\\t'.join(list(map(str, coords)))\n",
    "    \n",
    "    return xyz_file\n",
    "\n",
    "xyz_file = list_to_xyz(geometry) #'4\\n \\nH\\t0\\t0\\t0\\nH\\t2.45366053071732\\t0\\t0\\nH\\t2.45366053071732\\t2.45366053071732\\t0\\nH\\t0\\t2.45366053071732\\t0'\n",
    "\n",
    "viewer = Draw_molecule(xyz_file,\n",
    "                       width=400,\n",
    "                       height=400,\n",
    "                       style=\"sphere\")\n",
    "viewer.show()"
   ]
  },
  {
   "cell_type": "code",
   "execution_count": 41,
   "id": "438efaf9",
   "metadata": {},
   "outputs": [
    {
     "name": "stdout",
     "output_type": "stream",
     "text": [
      "1\n",
      " \n",
      "N\t0\t0\t0\n"
     ]
    }
   ],
   "source": [
    "print(xyz_file)"
   ]
  },
  {
   "cell_type": "code",
   "execution_count": 42,
   "id": "4af41f8b",
   "metadata": {},
   "outputs": [],
   "source": [
    "from symmer.chem import PySCFDriver"
   ]
  },
  {
   "cell_type": "code",
   "execution_count": 43,
   "id": "8afc465e",
   "metadata": {},
   "outputs": [],
   "source": [
    "basis = 'sto-3g' # 'STO-3G'#\n",
    "convergence = 1e-6\n",
    "charge= 0\n",
    "max_hf_cycles=50\n",
    "ram = 8_000\n",
    "run_mp2  = True\n",
    "run_cisd = False\n",
    "run_ccsd = True\n",
    "run_fci  = True"
   ]
  },
  {
   "cell_type": "code",
   "execution_count": 50,
   "id": "c558040b",
   "metadata": {},
   "outputs": [],
   "source": [
    "pyscf_obj = PySCFDriver(xyz_file,\n",
    "                       basis,\n",
    "                       convergence=convergence,\n",
    "                       charge=0,\n",
    "                       spin=1,\n",
    "                       max_ram_memory=ram,\n",
    "                       max_hf_cycles=max_hf_cycles,\n",
    "                       \n",
    "                       run_mp2=run_mp2,\n",
    "                       run_cisd=run_cisd,\n",
    "                       run_ccsd=run_ccsd,\n",
    "                       run_fci=run_fci)"
   ]
  },
  {
   "cell_type": "code",
   "execution_count": 51,
   "id": "406a070b",
   "metadata": {},
   "outputs": [],
   "source": [
    "pyscf_obj.run_pyscf()"
   ]
  },
  {
   "cell_type": "code",
   "execution_count": 52,
   "id": "6f8a0934",
   "metadata": {},
   "outputs": [
    {
     "data": {
      "text/plain": [
       "True"
      ]
     },
     "execution_count": 52,
     "metadata": {},
     "output_type": "execute_result"
    }
   ],
   "source": [
    "pyscf_obj.pyscf_hf.converged"
   ]
  },
  {
   "cell_type": "code",
   "execution_count": 53,
   "id": "511e6d2c",
   "metadata": {},
   "outputs": [
    {
     "data": {
      "text/plain": [
       "True"
      ]
     },
     "execution_count": 53,
     "metadata": {},
     "output_type": "execute_result"
    }
   ],
   "source": [
    "pyscf_obj.pyscf_ccsd.converged"
   ]
  },
  {
   "cell_type": "code",
   "execution_count": null,
   "id": "d918c7a3",
   "metadata": {},
   "outputs": [],
   "source": []
  },
  {
   "cell_type": "code",
   "execution_count": 54,
   "id": "59e66864",
   "metadata": {},
   "outputs": [],
   "source": [
    "# T1 = pyscf_obj.pyscf_ccsd.t1\n",
    "# T2 = pyscf_obj.pyscf_ccsd.t2\n",
    "\n",
    "# from pyscf import cc\n",
    "# ccsd = cc.CCSD(pyscf_obj.pyscf_hf)\n",
    "# ccsd.kernel(t1= T1, t2=T2)\n",
    "# ccsd.converged\n"
   ]
  },
  {
   "cell_type": "code",
   "execution_count": 55,
   "id": "87c963a7",
   "metadata": {},
   "outputs": [],
   "source": [
    "from symmer.chem import FermionicHamilt\n",
    "\n",
    "H_ferm = FermionicHamilt(pyscf_obj.pyscf_hf)"
   ]
  },
  {
   "cell_type": "code",
   "execution_count": 56,
   "id": "9216852e",
   "metadata": {},
   "outputs": [],
   "source": [
    "H_ferm.build_fermionic_hamiltonian_operator()\n",
    "H_f = H_ferm.fermionic_molecular_hamiltonian"
   ]
  },
  {
   "cell_type": "code",
   "execution_count": 57,
   "id": "54f111eb",
   "metadata": {},
   "outputs": [
    {
     "data": {
      "text/plain": [
       "array([-15.3220493 , -15.29989026,  -0.93701256,  -0.78753493,\n",
       "        -0.35301588,  -0.31189736,  -0.43525292,   0.32755162,\n",
       "         0.20419606,   0.24531458])"
      ]
     },
     "execution_count": 57,
     "metadata": {},
     "output_type": "execute_result"
    }
   ],
   "source": [
    "H_ferm.fock_spin_mo_basis.diagonal()"
   ]
  },
  {
   "cell_type": "code",
   "execution_count": 58,
   "id": "169558ce",
   "metadata": {},
   "outputs": [
    {
     "data": {
      "text/plain": [
       "-0.011925312762693503"
      ]
     },
     "execution_count": 58,
     "metadata": {},
     "output_type": "execute_result"
    }
   ],
   "source": [
    "pyscf_obj.pyscf_mp2.e_corr"
   ]
  },
  {
   "cell_type": "code",
   "execution_count": 59,
   "id": "c06e4622",
   "metadata": {},
   "outputs": [],
   "source": [
    "from symmer.chem.fermionic_ham import get_T2_mp2"
   ]
  },
  {
   "cell_type": "code",
   "execution_count": null,
   "id": "f3377392",
   "metadata": {},
   "outputs": [],
   "source": []
  },
  {
   "cell_type": "code",
   "execution_count": 60,
   "id": "bb405792",
   "metadata": {},
   "outputs": [],
   "source": [
    "T2_ferm = get_T2_mp2(pyscf_obj.pyscf_mp2.t2)\n",
    "mp2_ket = get_sparse_operator(T2_ferm) @ H_ferm.hf_ket"
   ]
  },
  {
   "cell_type": "code",
   "execution_count": 61,
   "id": "17328980",
   "metadata": {},
   "outputs": [],
   "source": [
    "v_pert = H_ferm.get_perturbation_correlation_potential()"
   ]
  },
  {
   "cell_type": "code",
   "execution_count": 62,
   "id": "a97f2817",
   "metadata": {},
   "outputs": [
    {
     "data": {
      "text/plain": [
       "0j"
      ]
     },
     "execution_count": 62,
     "metadata": {},
     "output_type": "execute_result"
    }
   ],
   "source": [
    "H_ferm.hf_ket.conj().T @ mp2_ket"
   ]
  },
  {
   "cell_type": "code",
   "execution_count": 63,
   "id": "1fa27b3c",
   "metadata": {},
   "outputs": [
    {
     "data": {
      "text/plain": [
       "0j"
      ]
     },
     "execution_count": 63,
     "metadata": {},
     "output_type": "execute_result"
    }
   ],
   "source": [
    "H_ferm.hf_ket.conj().T @ v_pert @ mp2_ket - pyscf_obj.pyscf_mp2.e_corr"
   ]
  },
  {
   "cell_type": "code",
   "execution_count": 64,
   "id": "910c7de3",
   "metadata": {},
   "outputs": [
    {
     "data": {
      "text/plain": [
       "0j"
      ]
     },
     "execution_count": 64,
     "metadata": {},
     "output_type": "execute_result"
    }
   ],
   "source": [
    "H_ferm.hf_ket.conj().T @ v_pert @ mp2_ket - pyscf_obj.pyscf_mp2.e_corr"
   ]
  },
  {
   "cell_type": "code",
   "execution_count": 65,
   "id": "bb326f80",
   "metadata": {},
   "outputs": [
    {
     "name": "stdout",
     "output_type": "stream",
     "text": [
      " 1.0000000000 |1111111000>\n"
     ]
    }
   ],
   "source": [
    "from symmer.symplectic import QuantumState, PauliwordOp\n",
    "\n",
    "hf_state = H_ferm.hf_comp_basis_state\n",
    "HF_state = QuantumState([hf_state], [1])\n",
    "\n",
    "print(HF_state)"
   ]
  },
  {
   "cell_type": "code",
   "execution_count": 66,
   "id": "b06e5014",
   "metadata": {},
   "outputs": [],
   "source": [
    "from openfermion import jordan_wigner\n",
    "from symmer.utils import QubitOperator_to_dict\n",
    "\n",
    "T2 = PauliwordOp(QubitOperator_to_dict(jordan_wigner(T2_ferm), H_ferm.n_qubits))"
   ]
  },
  {
   "cell_type": "code",
   "execution_count": 67,
   "id": "472bd688",
   "metadata": {},
   "outputs": [
    {
     "name": "stdout",
     "output_type": "stream",
     "text": [
      "-0.0007131640+0.0000000000j |0011111011> +\n",
      "-0.0018671833+0.0000000000j |0110111011> +\n",
      " 0.0018529366+0.0000000000j |1001111011> +\n",
      "-0.0687551188+0.0000000000j |1100111011> +\n",
      "-0.0368966592+0.0000000000j |1111001011>\n"
     ]
    }
   ],
   "source": [
    "print(T2 * HF_state)"
   ]
  },
  {
   "cell_type": "code",
   "execution_count": 68,
   "id": "211a9d11",
   "metadata": {},
   "outputs": [
    {
     "name": "stdout",
     "output_type": "stream",
     "text": [
      "We are able to taper 5 qubits from the Hamiltonian.\n",
      "\n",
      "The symmetry generators are\n",
      "\n",
      " 1 ZIZIIZIZIZ \n",
      " 1 IZIZIZIZIZ \n",
      " 1 IIIIZZIIII \n",
      " 1 IIIIIIZZII \n",
      " 1 IIIIIIIIZZ\n",
      "\n",
      "and may be rotated via a sequence of Clifford pi/2 rotations\n",
      "\n",
      "None\n",
      "\n",
      "onto the single-qubit Pauli operators\n",
      "\n",
      "-1 IIIIIIIIXI \n",
      "-1 IIIIIIXIII \n",
      "-1 IIIIXIIIII \n",
      "-1 IXIIIIIIII \n",
      "-1 XIIIIIIIII\n",
      "\n",
      "The symetry sector corresponding with the reference [1 1 1 1 1 1 1 0 0 0] is [-1 -1  1 -1  1]\n",
      "The tapered Hartree-Fock state is  1.0000000000 |11100>\n"
     ]
    }
   ],
   "source": [
    "from symmer.projection import QubitTapering\n",
    "\n",
    "H_q = PauliwordOp(QubitOperator_to_dict(jordan_wigner(H_f), H_ferm.n_qubits))\n",
    "\n",
    "taper_hamiltonian = QubitTapering(H_q)\n",
    "\n",
    "print(f'We are able to taper {taper_hamiltonian.n_taper} qubits from the Hamiltonian.\\n')\n",
    "print('The symmetry generators are\\n')\n",
    "print(taper_hamiltonian.symmetry_generators)\n",
    "print('\\nand may be rotated via a sequence of Clifford pi/2 rotations\\n')\n",
    "print(taper_hamiltonian.stabilizers.stabilizer_rotations)\n",
    "print('\\nonto the single-qubit Pauli operators\\n')\n",
    "print(taper_hamiltonian.stabilizers.rotate_onto_single_qubit_paulis())\n",
    "hf_array = H_ferm.hf_comp_basis_state\n",
    "taper_hamiltonian.stabilizers.update_sector(hf_array)\n",
    "print(f'\\nThe symetry sector corresponding with the reference {hf_array} is {taper_hamiltonian.stabilizers.coeff_vec}')\n",
    "ham_tap = taper_hamiltonian.taper_it(ref_state=hf_array)\n",
    "#sor_tap = taper_hamiltonian.taper_it(aux_operator=molecule.SOR_q, ref_state=hf_array)\n",
    "#sor_tap.coeff_vec/=np.linalg.norm(sor_tap.coeff_vec)\n",
    "#ucc_tap = taper_hamiltonian.taper_it(aux_operator=molecule.T_q, ref_state=hf_array)\n",
    "n_taper = taper_hamiltonian.n_taper\n",
    "tapered_qubits   = taper_hamiltonian.stab_qubit_indices\n",
    "untapered_qubits = taper_hamiltonian.free_qubit_indices\n",
    "hf_tapered = taper_hamiltonian.tapered_ref_state\n",
    "\n",
    "print(f'The tapered Hartree-Fock state is', QuantumState([hf_tapered]))"
   ]
  },
  {
   "cell_type": "code",
   "execution_count": 69,
   "id": "2c0963ff",
   "metadata": {},
   "outputs": [],
   "source": [
    "from symmer.utils import exact_gs_energy\n",
    "\n",
    "gs_energy, gs_vector = exact_gs_energy(H_q.to_sparse_matrix)"
   ]
  },
  {
   "cell_type": "code",
   "execution_count": 70,
   "id": "ce2e7732",
   "metadata": {},
   "outputs": [
    {
     "name": "stdout",
     "output_type": "stream",
     "text": [
      "The energy in sector (1, 1, 1, 1, 1) is -53.268102989094295, with error 0.45090717349964393 w.r.t. FCI\n",
      "The energy in sector (1, 1, 1, 1, -1) is -53.59565460717697, with error 0.12335555541697119 w.r.t. FCI\n",
      "The energy in sector (1, 1, 1, -1, 1) is -53.595654607176904, with error 0.12335555541703513 w.r.t. FCI\n",
      "The energy in sector (1, 1, 1, -1, -1) is -53.350340026038936, with error 0.3686701365550036 w.r.t. FCI\n",
      "The energy in sector (1, 1, -1, 1, 1) is -53.595654607176975, with error 0.12335555541696408 w.r.t. FCI\n",
      "The energy in sector (1, 1, -1, 1, -1) is -53.350340026038964, with error 0.36867013655497516 w.r.t. FCI\n",
      "The energy in sector (1, 1, -1, -1, 1) is -53.350340026038936, with error 0.3686701365550036 w.r.t. FCI\n",
      "The energy in sector (1, 1, -1, -1, -1) is -53.71901016259391, with error 2.842170943040401e-14 w.r.t. FCI\n",
      "The energy in sector (1, -1, 1, 1, 1) is -53.02760904295053, with error 0.6914011196434089 w.r.t. FCI\n",
      "The energy in sector (1, -1, 1, 1, -1) is -52.80813614169475, with error 0.9108740208991861 w.r.t. FCI\n",
      "The energy in sector (1, -1, 1, -1, 1) is -52.80813614169478, with error 0.9108740208991577 w.r.t. FCI\n",
      "The energy in sector (1, -1, 1, -1, -1) is -53.25927115893063, with error 0.45973900366330867 w.r.t. FCI\n",
      "The energy in sector (1, -1, -1, 1, 1) is -52.80813614169482, with error 0.9108740208991222 w.r.t. FCI\n",
      "The energy in sector (1, -1, -1, 1, -1) is -53.259271158930666, with error 0.45973900366327314 w.r.t. FCI\n",
      "The energy in sector (1, -1, -1, -1, 1) is -53.2592711589307, with error 0.4597390036632376 w.r.t. FCI\n",
      "The energy in sector (1, -1, -1, -1, -1) is -53.08109977856282, with error 0.637910384031116 w.r.t. FCI\n",
      "The energy in sector (-1, 1, 1, 1, 1) is -53.027609042950594, with error 0.6914011196433449 w.r.t. FCI\n",
      "The energy in sector (-1, 1, 1, 1, -1) is -52.80813614169473, with error 0.9108740208992074 w.r.t. FCI\n",
      "The energy in sector (-1, 1, 1, -1, 1) is -52.80813614169484, with error 0.9108740208991009 w.r.t. FCI\n",
      "The energy in sector (-1, 1, 1, -1, -1) is -53.25927115893069, with error 0.4597390036632518 w.r.t. FCI\n",
      "The energy in sector (-1, 1, -1, 1, 1) is -52.808136141694796, with error 0.9108740208991435 w.r.t. FCI\n",
      "The energy in sector (-1, 1, -1, 1, -1) is -53.259271158930645, with error 0.45973900366329445 w.r.t. FCI\n",
      "The energy in sector (-1, 1, -1, -1, 1) is -53.259271158930694, with error 0.4597390036632447 w.r.t. FCI\n",
      "The energy in sector (-1, 1, -1, -1, -1) is -53.081099778562816, with error 0.6379103840311231 w.r.t. FCI\n",
      "The energy in sector (-1, -1, 1, 1, 1) is -53.181167957136935, with error 0.5378422054570038 w.r.t. FCI\n",
      "The energy in sector (-1, -1, 1, 1, -1) is -53.59565460717695, with error 0.1233555554169925 w.r.t. FCI\n",
      "The energy in sector (-1, -1, 1, -1, 1) is -53.59565460717693, with error 0.12335555541700671 w.r.t. FCI\n",
      "The energy in sector (-1, -1, 1, -1, -1) is -53.350340026038936, with error 0.3686701365550036 w.r.t. FCI\n",
      "The energy in sector (-1, -1, -1, 1, 1) is -53.59565460717697, with error 0.12335555541697119 w.r.t. FCI\n",
      "The energy in sector (-1, -1, -1, 1, -1) is -53.350340026038936, with error 0.3686701365550036 w.r.t. FCI\n",
      "The energy in sector (-1, -1, -1, -1, 1) is -53.35034002603894, with error 0.3686701365549965 w.r.t. FCI\n",
      "The energy in sector (-1, -1, -1, -1, -1) is -53.719010162593904, with error 3.552713678800501e-14 w.r.t. FCI\n"
     ]
    }
   ],
   "source": [
    "from itertools import product\n",
    "\n",
    "for comb in product([+1,-1], repeat=n_taper):\n",
    "    ham_tap = taper_hamiltonian.taper_it(sector=comb)\n",
    "    tap_gs  = exact_gs_energy(ham_tap.to_sparse_matrix)[0]\n",
    "    error = tap_gs - pyscf_obj.pyscf_fci.e_tot \n",
    "    print(f'The energy in sector {comb} is {tap_gs}, with error {error} w.r.t. FCI')"
   ]
  },
  {
   "cell_type": "code",
   "execution_count": 71,
   "id": "8a8eab3d",
   "metadata": {},
   "outputs": [
    {
     "name": "stdout",
     "output_type": "stream",
     "text": [
      "-53.719010162593904 -53.71901016259394\n"
     ]
    }
   ],
   "source": [
    "tap_gs = exact_gs_energy(ham_tap.to_sparse_matrix)[0]\n",
    "print(tap_gs, pyscf_obj.pyscf_fci.e_tot)"
   ]
  },
  {
   "cell_type": "code",
   "execution_count": 72,
   "id": "9431262a",
   "metadata": {},
   "outputs": [
    {
     "data": {
      "text/plain": [
       "3.552713678800501e-14"
      ]
     },
     "execution_count": 72,
     "metadata": {},
     "output_type": "execute_result"
    }
   ],
   "source": [
    "tap_gs - pyscf_obj.pyscf_fci.e_tot"
   ]
  },
  {
   "cell_type": "code",
   "execution_count": 73,
   "id": "601bf075",
   "metadata": {},
   "outputs": [
    {
     "data": {
      "text/plain": [
       "(4, 3)"
      ]
     },
     "execution_count": 73,
     "metadata": {},
     "output_type": "execute_result"
    }
   ],
   "source": [
    "pyscf_obj.pyscf_fci.nelec"
   ]
  },
  {
   "cell_type": "code",
   "execution_count": 74,
   "id": "320e0a9c",
   "metadata": {},
   "outputs": [
    {
     "name": "stdout",
     "output_type": "stream",
     "text": [
      "0.1644740738892594\n",
      "0.15254876112656746\n",
      "0.12335555570629708\n"
     ]
    }
   ],
   "source": [
    "print(pyscf_obj.pyscf_hf.e_tot - pyscf_obj.pyscf_fci.e_tot)\n",
    "print(pyscf_obj.pyscf_mp2.e_tot - pyscf_obj.pyscf_fci.e_tot)\n",
    "print(pyscf_obj.pyscf_ccsd.e_tot - pyscf_obj.pyscf_fci.e_tot)"
   ]
  },
  {
   "cell_type": "code",
   "execution_count": null,
   "id": "f7685dcc",
   "metadata": {},
   "outputs": [],
   "source": []
  },
  {
   "cell_type": "code",
   "execution_count": 75,
   "id": "0e859e67",
   "metadata": {},
   "outputs": [
    {
     "ename": "ValueError",
     "evalue": "operands could not be broadcast together with shapes (5,10) (8,) ",
     "output_type": "error",
     "traceback": [
      "\u001b[0;31m---------------------------------------------------------------------------\u001b[0m",
      "\u001b[0;31mValueError\u001b[0m                                Traceback (most recent call last)",
      "\u001b[0;32m/tmp/ipykernel_3582/1786091887.py\u001b[0m in \u001b[0;36m<module>\u001b[0;34m\u001b[0m\n\u001b[0;32m----> 1\u001b[0;31m \u001b[0mtaper_hamiltonian\u001b[0m\u001b[0;34m.\u001b[0m\u001b[0mstabilizers\u001b[0m\u001b[0;34m.\u001b[0m\u001b[0mupdate_sector\u001b[0m\u001b[0;34m(\u001b[0m\u001b[0mnp\u001b[0m\u001b[0;34m.\u001b[0m\u001b[0marray\u001b[0m\u001b[0;34m(\u001b[0m\u001b[0;34m[\u001b[0m\u001b[0;36m1\u001b[0m\u001b[0;34m,\u001b[0m \u001b[0;36m1\u001b[0m\u001b[0;34m,\u001b[0m \u001b[0;36m0\u001b[0m\u001b[0;34m,\u001b[0m \u001b[0;36m1\u001b[0m\u001b[0;34m,\u001b[0m \u001b[0;36m1\u001b[0m\u001b[0;34m,\u001b[0m \u001b[0;36m0\u001b[0m\u001b[0;34m,\u001b[0m \u001b[0;36m0\u001b[0m\u001b[0;34m,\u001b[0m \u001b[0;36m0\u001b[0m\u001b[0;34m]\u001b[0m\u001b[0;34m)\u001b[0m\u001b[0;34m)\u001b[0m\u001b[0;34m\u001b[0m\u001b[0m\n\u001b[0m\u001b[1;32m      2\u001b[0m \u001b[0mprint\u001b[0m\u001b[0;34m(\u001b[0m\u001b[0;34mf'\\nThe symetry sector corresponding with the reference {hf_array} is {taper_hamiltonian.stabilizers.coeff_vec}'\u001b[0m\u001b[0;34m)\u001b[0m\u001b[0;34m\u001b[0m\u001b[0m\n\u001b[1;32m      3\u001b[0m \u001b[0mham_tap\u001b[0m \u001b[0;34m=\u001b[0m \u001b[0mtaper_hamiltonian\u001b[0m\u001b[0;34m.\u001b[0m\u001b[0mtaper_it\u001b[0m\u001b[0;34m(\u001b[0m\u001b[0mref_state\u001b[0m\u001b[0;34m=\u001b[0m\u001b[0mnp\u001b[0m\u001b[0;34m.\u001b[0m\u001b[0marray\u001b[0m\u001b[0;34m(\u001b[0m\u001b[0;34m[\u001b[0m\u001b[0;36m1\u001b[0m\u001b[0;34m,\u001b[0m \u001b[0;36m1\u001b[0m\u001b[0;34m,\u001b[0m \u001b[0;36m0\u001b[0m\u001b[0;34m,\u001b[0m \u001b[0;36m1\u001b[0m\u001b[0;34m,\u001b[0m \u001b[0;36m1\u001b[0m\u001b[0;34m,\u001b[0m \u001b[0;36m0\u001b[0m\u001b[0;34m,\u001b[0m \u001b[0;36m0\u001b[0m\u001b[0;34m,\u001b[0m \u001b[0;36m0\u001b[0m\u001b[0;34m]\u001b[0m\u001b[0;34m)\u001b[0m\u001b[0;34m)\u001b[0m\u001b[0;34m\u001b[0m\u001b[0m\n\u001b[1;32m      4\u001b[0m \u001b[0mexact_gs_energy\u001b[0m\u001b[0;34m(\u001b[0m\u001b[0mham_tap\u001b[0m\u001b[0;34m.\u001b[0m\u001b[0mto_sparse_matrix\u001b[0m\u001b[0;34m)\u001b[0m\u001b[0;34m[\u001b[0m\u001b[0;36m0\u001b[0m\u001b[0;34m]\u001b[0m \u001b[0;34m-\u001b[0m \u001b[0mpyscf_obj\u001b[0m\u001b[0;34m.\u001b[0m\u001b[0mpyscf_fci\u001b[0m\u001b[0;34m.\u001b[0m\u001b[0me_tot\u001b[0m\u001b[0;34m\u001b[0m\u001b[0m\n",
      "\u001b[0;32m~/anaconda3/lib/python3.7/site-packages/symmer/symplectic/stabilizerop.py\u001b[0m in \u001b[0;36mupdate_sector\u001b[0;34m(self, ref_state)\u001b[0m\n\u001b[1;32m    175\u001b[0m         \"\"\"\n\u001b[1;32m    176\u001b[0m         \u001b[0mref_state\u001b[0m \u001b[0;34m=\u001b[0m \u001b[0mnp\u001b[0m\u001b[0;34m.\u001b[0m\u001b[0marray\u001b[0m\u001b[0;34m(\u001b[0m\u001b[0mref_state\u001b[0m\u001b[0;34m)\u001b[0m\u001b[0;34m\u001b[0m\u001b[0m\n\u001b[0;32m--> 177\u001b[0;31m         \u001b[0mself\u001b[0m\u001b[0;34m.\u001b[0m\u001b[0mcoeff_vec\u001b[0m \u001b[0;34m=\u001b[0m \u001b[0;34m(\u001b[0m\u001b[0;34m-\u001b[0m\u001b[0;36m1\u001b[0m\u001b[0;34m)\u001b[0m\u001b[0;34m**\u001b[0m\u001b[0mnp\u001b[0m\u001b[0;34m.\u001b[0m\u001b[0mcount_nonzero\u001b[0m\u001b[0;34m(\u001b[0m\u001b[0mself\u001b[0m\u001b[0;34m.\u001b[0m\u001b[0mZ_block\u001b[0m \u001b[0;34m&\u001b[0m \u001b[0mref_state\u001b[0m\u001b[0;34m,\u001b[0m \u001b[0maxis\u001b[0m\u001b[0;34m=\u001b[0m\u001b[0;36m1\u001b[0m\u001b[0;34m)\u001b[0m\u001b[0;34m\u001b[0m\u001b[0m\n\u001b[0m\u001b[1;32m    178\u001b[0m \u001b[0;34m\u001b[0m\u001b[0m\n\u001b[1;32m    179\u001b[0m     \u001b[0;32mdef\u001b[0m \u001b[0mrotate_onto_single_qubit_paulis\u001b[0m\u001b[0;34m(\u001b[0m\u001b[0mself\u001b[0m\u001b[0;34m)\u001b[0m \u001b[0;34m->\u001b[0m \u001b[0;34m\"StabilizerOp\"\u001b[0m\u001b[0;34m:\u001b[0m\u001b[0;34m\u001b[0m\u001b[0m\n",
      "\u001b[0;31mValueError\u001b[0m: operands could not be broadcast together with shapes (5,10) (8,) "
     ]
    }
   ],
   "source": [
    "taper_hamiltonian.stabilizers.update_sector(np.array([1, 1, 0, 1, 1, 0, 0, 0]))\n",
    "print(f'\\nThe symetry sector corresponding with the reference {hf_array} is {taper_hamiltonian.stabilizers.coeff_vec}')\n",
    "ham_tap = taper_hamiltonian.taper_it(ref_state=np.array([1, 1, 0, 1, 1, 0, 0, 0]))\n",
    "exact_gs_energy(ham_tap.to_sparse_matrix)[0] - pyscf_obj.pyscf_fci.e_tot"
   ]
  },
  {
   "cell_type": "code",
   "execution_count": 76,
   "id": "f2ad3a00",
   "metadata": {},
   "outputs": [
    {
     "name": "stdout",
     "output_type": "stream",
     "text": [
      "The symetry sector corresponding with the reference [0 0 1 1 1 1 1 0 1 1] is [-1 -1  1 -1  1]\n",
      "The symetry sector corresponding with the reference [0 1 1 0 1 1 1 0 1 1] is [-1 -1  1 -1  1]\n",
      "The symetry sector corresponding with the reference [1 0 0 1 1 1 1 0 1 1] is [-1 -1  1 -1  1]\n",
      "The symetry sector corresponding with the reference [1 1 0 0 1 1 1 0 1 1] is [-1 -1  1 -1  1]\n",
      "The symetry sector corresponding with the reference [1 1 1 1 0 0 1 0 1 1] is [-1 -1  1 -1  1]\n"
     ]
    }
   ],
   "source": [
    "T2_state = T2*HF_state\n",
    "\n",
    "for term in T2_state.state_matrix:\n",
    "    taper_hamiltonian.stabilizers.update_sector(term)\n",
    "    print(f'The symetry sector corresponding with the reference {term} is {taper_hamiltonian.stabilizers.coeff_vec}')"
   ]
  },
  {
   "cell_type": "code",
   "execution_count": 77,
   "id": "4128831e",
   "metadata": {},
   "outputs": [
    {
     "name": "stdout",
     "output_type": "stream",
     "text": [
      "-0.0237610795-0.2671649690j |1111010101> +\n",
      " 0.1036707163-0.0714405514j |1111010110> +\n",
      " 0.1036707163-0.0714405514j |1111011001> +\n",
      "-0.4408250397+0.0497532387j |1111011010> +\n",
      " 0.1036707163-0.0714405514j |1111100101> +\n",
      "-0.4408250397+0.0497532387j |1111100110> +\n",
      "-0.4408250397+0.0497532387j |1111101001> +\n",
      " 0.1835805347+0.5063556727j |1111101010>\n"
     ]
    }
   ],
   "source": [
    "from symmer.utils import exact_gs_energy\n",
    "from symmer.symplectic import array_to_QuantumState\n",
    "\n",
    "gs = array_to_QuantumState(exact_gs_energy(H_q.to_sparse_matrix)[1]).cleanup(zero_threshold=1e-8)\n",
    "print(gs)"
   ]
  },
  {
   "cell_type": "code",
   "execution_count": 78,
   "id": "792dd2af",
   "metadata": {},
   "outputs": [
    {
     "data": {
      "text/plain": [
       "array([-0.32469602+0.j, -0.32469602+0.j, -1.        +0.j, -1.        +0.j,\n",
       "       -1.        +0.j])"
      ]
     },
     "execution_count": 78,
     "metadata": {},
     "output_type": "execute_result"
    }
   ],
   "source": [
    "gs.sectors_present(taper_hamiltonian.symmetry_generators)"
   ]
  },
  {
   "cell_type": "code",
   "execution_count": 39,
   "id": "49b84e19",
   "metadata": {},
   "outputs": [
    {
     "name": "stdout",
     "output_type": "stream",
     "text": [
      "1.000+0.000j ZIIZIZZI\n",
      "\n",
      "(1+0j)\n",
      "(1+0j)\n",
      "1.000+0.000j IZIZIZIZ\n",
      "\n",
      "(1+0j)\n",
      "(1+0j)\n",
      "1.000+0.000j IIZZIIII\n",
      "\n",
      "(1+0j)\n",
      "(1+0j)\n",
      "1.000+0.000j IIIIZZII\n",
      "\n",
      "(1+0j)\n",
      "(1+0j)\n"
     ]
    }
   ],
   "source": [
    "op = PauliwordOp(['XZX'],[1])\n",
    "r_state = QuantumState(np.random.randint(0,2,(10,3)), np.random.rand(10)+1j*np.random.rand(10))\n",
    "for op in taper_hamiltonian.symmetry_generators:\n",
    "    op.coeff_vec[0]=1\n",
    "    print(op)\n",
    "    print()\n",
    "    print(HF_state.conjugate * op * HF_state)\n",
    "    print((HF_state.state_op.to_sparse_matrix.H @ op.to_sparse_matrix @ HF_state.state_op.to_sparse_matrix)[-1,-1])"
   ]
  },
  {
   "cell_type": "code",
   "execution_count": 314,
   "id": "7dae540d",
   "metadata": {},
   "outputs": [
    {
     "name": "stdout",
     "output_type": "stream",
     "text": [
      " 1.0000000000 |1111111000>\n"
     ]
    }
   ],
   "source": [
    "print(HF_state)"
   ]
  },
  {
   "cell_type": "code",
   "execution_count": 303,
   "id": "41bdc180",
   "metadata": {},
   "outputs": [
    {
     "data": {
      "text/plain": [
       "(-3.9462117730293147-5.551115123125783e-17j)"
      ]
     },
     "execution_count": 303,
     "metadata": {},
     "output_type": "execute_result"
    }
   ],
   "source": [
    "(r_state.state_op.to_sparse_matrix.H @ op.to_sparse_matrix @ r_state.state_op.to_sparse_matrix)[-1,-1]"
   ]
  },
  {
   "cell_type": "code",
   "execution_count": 137,
   "id": "eced3d72",
   "metadata": {},
   "outputs": [
    {
     "data": {
      "text/plain": [
       "array([[1, 1, 1, 0, 0, 1, 0, 1, 1, 1, 0, 1, 0, 1, 1, 1, 0, 1, 1, 0]])"
      ]
     },
     "execution_count": 137,
     "metadata": {},
     "output_type": "execute_result"
    }
   ],
   "source": [
    "np.random.randint(0,2,(1,20))"
   ]
  },
  {
   "cell_type": "code",
   "execution_count": 82,
   "id": "cb791b24",
   "metadata": {},
   "outputs": [],
   "source": [
    "from scipy.sparse.linalg import eigsh\n",
    "\n",
    "eigvecs, eigvals = eigsh(H_q.to_sparse_matrix)"
   ]
  },
  {
   "cell_type": "code",
   "execution_count": 84,
   "id": "1d08bf9d",
   "metadata": {},
   "outputs": [],
   "source": [
    "eigvecs,eigvals = eigvals,eigvecs"
   ]
  },
  {
   "cell_type": "code",
   "execution_count": 99,
   "id": "4761705d",
   "metadata": {},
   "outputs": [
    {
     "data": {
      "text/plain": [
       "array([-53.71901016, -53.71901016, -53.71901016, -53.71901016,\n",
       "       -53.59565461, -53.59565461])"
      ]
     },
     "execution_count": 99,
     "metadata": {},
     "output_type": "execute_result"
    }
   ],
   "source": [
    "eigvals[order]"
   ]
  },
  {
   "cell_type": "code",
   "execution_count": 102,
   "id": "ca354395",
   "metadata": {},
   "outputs": [
    {
     "name": "stdout",
     "output_type": "stream",
     "text": [
      "\n",
      "The symetry sector corresponding with the reference [1, 1, 1, 1, 0, 1, 0, 1, 0, 1] is [-1 -1 -1 -1 -1]\n"
     ]
    }
   ],
   "source": [
    "taper_hamiltonian.stabilizers.update_sector([1,1,1,1,0,1,0,1,0,1])\n",
    "print(f'\\nThe symetry sector corresponding with the reference {[1,1,1,1,0,1,0,1,0,1]} is {taper_hamiltonian.stabilizers.coeff_vec}')"
   ]
  },
  {
   "cell_type": "code",
   "execution_count": 114,
   "id": "82351c3b",
   "metadata": {},
   "outputs": [
    {
     "name": "stdout",
     "output_type": "stream",
     "text": [
      "The symetry sector corresponding with the reference [1 1 1 1 0 1 0 1 0 1] is [-1 -1 -1 -1 -1]\n",
      "The symetry sector corresponding with the reference [1 1 1 1 0 1 0 1 1 0] is [ 1  1 -1 -1 -1]\n",
      "The symetry sector corresponding with the reference [1 1 1 1 0 1 1 0 0 1] is [ 1  1 -1 -1 -1]\n",
      "The symetry sector corresponding with the reference [1 1 1 1 0 1 1 0 1 0] is [-1 -1 -1 -1 -1]\n",
      "The symetry sector corresponding with the reference [1 1 1 1 1 0 0 1 0 1] is [ 1  1 -1 -1 -1]\n",
      "The symetry sector corresponding with the reference [1 1 1 1 1 0 0 1 1 0] is [-1 -1 -1 -1 -1]\n",
      "The symetry sector corresponding with the reference [1 1 1 1 1 0 1 0 0 1] is [-1 -1 -1 -1 -1]\n",
      "The symetry sector corresponding with the reference [1 1 1 1 1 0 1 0 1 0] is [ 1  1 -1 -1 -1]\n"
     ]
    }
   ],
   "source": [
    "for row in array_to_QuantumState(eigvecs.T[order][0]).cleanup(zero_threshold=1e-8).state_matrix:\n",
    "    taper_hamiltonian.stabilizers.update_sector(row)\n",
    "    print(f'The symetry sector corresponding with the reference {row} is {taper_hamiltonian.stabilizers.coeff_vec}')"
   ]
  },
  {
   "cell_type": "code",
   "execution_count": 100,
   "id": "7e97f66f",
   "metadata": {},
   "outputs": [
    {
     "name": "stdout",
     "output_type": "stream",
     "text": [
      " 0.3164680304+0.6023396146j |1111010101> +\n",
      " 0.0236638629+0.1152160462j |1111010110> +\n",
      " 0.0236638629+0.1152160462j |1111011001> +\n",
      "-0.2217323129-0.1101427450j |1111011010> +\n",
      " 0.0236638629+0.1152160462j |1111100101> +\n",
      "-0.2217323129-0.1101427450j |1111100110> +\n",
      "-0.2217323129-0.1101427450j |1111101001> +\n",
      "-0.5500815714+0.0951376027j |1111101010>\n",
      "\n",
      "-0.2014684997+0.4433599935j |1111010101> +\n",
      "-0.1047827929-0.3155325682j |1111010110> +\n",
      "-0.1047827929-0.3155325682j |1111011001> +\n",
      "-0.1451206646-0.0570686196j |1111011010> +\n",
      "-0.1047827929-0.3155325682j |1111100101> +\n",
      "-0.1451206646-0.0570686196j |1111100110> +\n",
      "-0.1451206646-0.0570686196j |1111101001> +\n",
      " 0.4391899422+0.4066735112j |1111101010>\n",
      "\n",
      " 0.1482897596-0.3906071488j |1111010101> +\n",
      "-0.1321226273-0.3651915727j |1111010110> +\n",
      "-0.1321226273-0.3651915727j |1111011001> +\n",
      "-0.2108096434-0.0808182838j |1111011010> +\n",
      "-0.1321226273-0.3651915727j |1111100101> +\n",
      "-0.2108096434-0.0808182838j |1111100110> +\n",
      "-0.2108096434-0.0808182838j |1111101001> +\n",
      "-0.3418647064-0.3212226682j |1111101010>\n",
      "\n",
      "-0.1306677770-0.3240698227j |1111010101> +\n",
      " 0.0199060251+0.2438907504j |1111010110> +\n",
      " 0.0199060251+0.2438907504j |1111011001> +\n",
      "-0.3549088148-0.2659692005j |1111011010> +\n",
      " 0.0199060251+0.2438907504j |1111100101> +\n",
      "-0.3549088148-0.2659692005j |1111100110> +\n",
      "-0.3549088148-0.2659692005j |1111101001> +\n",
      " 0.3276099447+0.0289812866j |1111101010>\n",
      "\n",
      "-0.1330512340+0.0747074332j |1111000111> +\n",
      "-0.0508599537+0.1505291583j |1111001011> +\n",
      " 0.2133802126-0.3395951629j |1111001101> +\n",
      "-0.0146266287+0.0253876897j |1111001110> +\n",
      "-0.0414255818+0.1419424644j |1111010011> +\n",
      " 0.0917362289-0.2599855928j |1111010110> +\n",
      "-0.0413370577-0.1294098149j |1111011001> +\n",
      " 0.0140856891+0.3513773359j |1111011010> +\n",
      " 0.0414255818-0.1419424644j |1111011100> +\n",
      "-0.0576360022-0.0101225237j |1111100011> +\n",
      "-0.0503991713+0.3893954076j |1111100101> +\n",
      " 0.1762962800-0.0582579008j |1111100110> +\n",
      "-0.1903819691-0.2931194351j |1111101001> +\n",
      " 0.0576360022+0.0101225237j |1111101100> +\n",
      "-0.2133802126+0.3395951629j |1111110001> +\n",
      " 0.0146266287-0.0253876897j |1111110010> +\n",
      " 0.1330512340-0.0747074332j |1111110100> +\n",
      " 0.0508599537-0.1505291583j |1111111000>\n",
      "\n",
      "-0.0921676690-0.0918723708j |1111000111> +\n",
      "-0.1668816679-0.0275541788j |1111001011> +\n",
      " 0.4180554742+0.1025301300j |1111001101> +\n",
      "-0.0490779073-0.0026844001j |1111001110> +\n",
      "-0.1229986865-0.1118098153j |1111010011> +\n",
      "-0.2979716208-0.0579325745j |1111010110> +\n",
      "-0.1509752797+0.0628493207j |1111011001> +\n",
      " 0.2027789716-0.0691877575j |1111011010> +\n",
      " 0.1229986865+0.1118098153j |1111011100> +\n",
      "-0.0578250818-0.0219272908j |1111100011> +\n",
      " 0.4489469005-0.0049167462j |1111100101> +\n",
      "-0.0909802169-0.1667325694j |1111100110> +\n",
      "-0.1117987546+0.2359203269j |1111101001> +\n",
      " 0.0578250818+0.0219272908j |1111101100> +\n",
      "-0.4180554742-0.1025301300j |1111110001> +\n",
      " 0.0490779073+0.0026844001j |1111110010> +\n",
      " 0.0921676690+0.0918723708j |1111110100> +\n",
      " 0.1668816679+0.0275541788j |1111111000>\n",
      "\n"
     ]
    }
   ],
   "source": [
    "order = np.argsort(eigvals)\n",
    "for vec in eigvecs.T[order]:\n",
    "    print(array_to_QuantumState(vec).cleanup(zero_threshold=1e-8))\n",
    "    print()"
   ]
  },
  {
   "cell_type": "code",
   "execution_count": null,
   "id": "37f2654c",
   "metadata": {},
   "outputs": [],
   "source": []
  },
  {
   "cell_type": "code",
   "execution_count": 69,
   "id": "2d479bba",
   "metadata": {},
   "outputs": [],
   "source": [
    "from symmer.chem.fermionic_ham import FermioniCC\n",
    "\n",
    "CC_ferm = FermioniCC(pyscf_obj.pyscf_ccsd)\n",
    "CC_ferm.build_operator()\n",
    "T_f = CC_ferm.fermionic_cc_operator\n",
    "T_q = PauliwordOp(QubitOperator_to_dict(jordan_wigner(T_f), H_ferm.n_qubits))"
   ]
  },
  {
   "cell_type": "code",
   "execution_count": 70,
   "id": "f17c0ee9",
   "metadata": {},
   "outputs": [],
   "source": [
    "# from scipy.sparse.linalg import expm\n",
    "\n",
    "# T_exp = expm(T_q.to_sparse_matrix)"
   ]
  },
  {
   "cell_type": "code",
   "execution_count": 71,
   "id": "914d54e5",
   "metadata": {},
   "outputs": [
    {
     "name": "stdout",
     "output_type": "stream",
     "text": [
      "-1.0000000227+0.0000000000j |1111001011>\n"
     ]
    }
   ],
   "source": [
    "print(T_q*HF_state)"
   ]
  },
  {
   "cell_type": "code",
   "execution_count": 72,
   "id": "bceb8bb7",
   "metadata": {},
   "outputs": [
    {
     "name": "stdout",
     "output_type": "stream",
     "text": [
      "The symetry sector corresponding with the reference [1 1 1 1 0 0 1 0 1 1] is [-1 -1  1 -1  1]\n"
     ]
    }
   ],
   "source": [
    "CC_state_1 = T_q*HF_state\n",
    "\n",
    "for term in CC_state_1.state_matrix:\n",
    "    taper_hamiltonian.stabilizers.update_sector(term)\n",
    "    print(f'The symetry sector corresponding with the reference {term} is {taper_hamiltonian.stabilizers.coeff_vec}')"
   ]
  },
  {
   "cell_type": "code",
   "execution_count": 74,
   "id": "3c47d066",
   "metadata": {},
   "outputs": [
    {
     "name": "stderr",
     "output_type": "stream",
     "text": [
      "/home/tim/anaconda3/lib/python3.7/site-packages/scipy/sparse/linalg/dsolve/linsolve.py:318: SparseEfficiencyWarning: splu requires CSC matrix format\n",
      "  warn('splu requires CSC matrix format', SparseEfficiencyWarning)\n",
      "/home/tim/anaconda3/lib/python3.7/site-packages/scipy/sparse/linalg/dsolve/linsolve.py:216: SparseEfficiencyWarning: spsolve is more efficient when sparse b is in the CSC matrix format\n",
      "  'is in the CSC matrix format', SparseEfficiencyWarning)\n"
     ]
    },
    {
     "name": "stdout",
     "output_type": "stream",
     "text": [
      "-1.0000000227+0.0000000000j |1111001011> +\n",
      " 1.0000000000+0.0000000000j |1111111000>\n",
      "The symetry sector corresponding with the reference [1 1 1 1 0 0 1 0 1 1] is [-1 -1  1 -1  1]\n",
      "The symetry sector corresponding with the reference [1 1 1 1 1 1 1 0 0 0] is [-1 -1  1 -1  1]\n"
     ]
    }
   ],
   "source": [
    "from scipy.sparse.linalg import expm\n",
    "\n",
    "T_exp = expm(T_q.to_sparse_matrix)\n",
    "\n",
    "cc_ket = T_exp @ H_ferm.hf_ket\n",
    "CC_state_full = array_to_QuantumState(cc_ket).cleanup(zero_threshold=1e-8)\n",
    "print(CC_state_full)\n",
    "for term in CC_state_full.state_matrix:\n",
    "    taper_hamiltonian.stabilizers.update_sector(term)\n",
    "    print(f'The symetry sector corresponding with the reference {term} is {taper_hamiltonian.stabilizers.coeff_vec}')"
   ]
  },
  {
   "cell_type": "code",
   "execution_count": 77,
   "id": "6758c614",
   "metadata": {},
   "outputs": [
    {
     "data": {
      "text/plain": [
       "(-1.2227872048242716e-09+0j)"
      ]
     },
     "execution_count": 77,
     "metadata": {},
     "output_type": "execute_result"
    }
   ],
   "source": [
    "(H_ferm.hf_ket.conj().T @ H_q.to_sparse_matrix @ cc_ket) - pyscf_obj.pyscf_ccsd.e_tot"
   ]
  },
  {
   "cell_type": "code",
   "execution_count": 76,
   "id": "5b0caf4d",
   "metadata": {},
   "outputs": [
    {
     "data": {
      "text/plain": [
       "-53.59565460688764"
      ]
     },
     "execution_count": 76,
     "metadata": {},
     "output_type": "execute_result"
    }
   ],
   "source": [
    "pyscf_obj.pyscf_ccsd.e_tot"
   ]
  },
  {
   "cell_type": "code",
   "execution_count": 15,
   "id": "e6819dd8",
   "metadata": {},
   "outputs": [],
   "source": [
    "hf_ket = H_ferm.hf_ket\n",
    "H_mat = H_ferm.get_sparse_ham()"
   ]
  },
  {
   "cell_type": "code",
   "execution_count": null,
   "id": "f0a34750",
   "metadata": {},
   "outputs": [],
   "source": []
  },
  {
   "cell_type": "code",
   "execution_count": 16,
   "id": "8e6864f9",
   "metadata": {},
   "outputs": [],
   "source": [
    "from pyscf.cc.addons import spatial2spin\n",
    "\n",
    "# doubles!\n",
    "\n",
    "t2 = spatial2spin(pyscf_obj.pyscf_ccsd.t2)\n",
    "no, nv = t2.shape[1:3]\n",
    "nmo = no + nv\n",
    "double_amps = np.zeros((nmo, nmo, nmo, nmo))\n",
    "double_amps[no:,:no,no:,:no] = .5 * t2.transpose(2,0,3,1)"
   ]
  },
  {
   "cell_type": "code",
   "execution_count": 17,
   "id": "8a6c432d",
   "metadata": {},
   "outputs": [
    {
     "data": {
      "text/plain": [
       "(8, 8)"
      ]
     },
     "execution_count": 17,
     "metadata": {},
     "output_type": "execute_result"
    }
   ],
   "source": [
    "# singles\n",
    "\n",
    "t1 = spatial2spin(pyscf_obj.pyscf_ccsd.t1)\n",
    "no, nv = t1.shape\n",
    "nmo = no + nv\n",
    "ccsd_single_amps = np.zeros((nmo, nmo))\n",
    "ccsd_single_amps[no:,:no] = t1.T\n",
    "ccsd_single_amps.shape"
   ]
  },
  {
   "cell_type": "code",
   "execution_count": null,
   "id": "eaa79141",
   "metadata": {},
   "outputs": [],
   "source": []
  },
  {
   "cell_type": "code",
   "execution_count": null,
   "id": "59c3eec8",
   "metadata": {},
   "outputs": [],
   "source": []
  },
  {
   "cell_type": "code",
   "execution_count": 18,
   "id": "be185cf1",
   "metadata": {},
   "outputs": [
    {
     "data": {
      "text/plain": [
       "[[[4, 0, 5, 1], -0.5456412208879349],\n",
       " [[4, 0, 6, 2], 2.208863578892679e-08],\n",
       " [[4, 0, 7, 3], -1.7451411549163962e-08],\n",
       " [[4, 1, 5, 0], 0.5456412208879349],\n",
       " [[4, 1, 7, 2], 3.954004733809075e-08],\n",
       " [[4, 2, 5, 3], 0.0366321093272368],\n",
       " [[4, 2, 6, 0], -2.208863578892679e-08],\n",
       " [[4, 2, 7, 1], -3.954004733809075e-08],\n",
       " [[4, 3, 5, 2], -0.0366321093272368],\n",
       " [[4, 3, 7, 0], 1.7451411549163962e-08],\n",
       " [[5, 0, 4, 1], 0.5456412208879349],\n",
       " [[5, 0, 6, 3], 3.954004733809075e-08],\n",
       " [[5, 1, 4, 0], -0.5456412208879349],\n",
       " [[5, 1, 6, 2], -1.7451411549163962e-08],\n",
       " [[5, 1, 7, 3], 2.208863578892679e-08],\n",
       " [[5, 2, 4, 3], -0.0366321093272368],\n",
       " [[5, 2, 6, 1], 1.7451411549163962e-08],\n",
       " [[5, 3, 4, 2], 0.0366321093272368],\n",
       " [[5, 3, 6, 0], -3.954004733809075e-08],\n",
       " [[5, 3, 7, 1], -2.208863578892679e-08],\n",
       " [[6, 0, 4, 2], -2.208863578892679e-08],\n",
       " [[6, 0, 5, 3], -3.954004733809075e-08],\n",
       " [[6, 0, 7, 1], 0.0006616412681631195],\n",
       " [[6, 1, 5, 2], 1.7451411549163962e-08],\n",
       " [[6, 1, 7, 0], -0.0006616412681631195],\n",
       " [[6, 2, 4, 0], 2.208863578892679e-08],\n",
       " [[6, 2, 5, 1], -1.7451411549163962e-08],\n",
       " [[6, 2, 7, 3], -0.5515703776378225],\n",
       " [[6, 3, 5, 0], 3.954004733809075e-08],\n",
       " [[6, 3, 7, 2], 0.5515703776378225],\n",
       " [[7, 0, 4, 3], 1.7451411549163962e-08],\n",
       " [[7, 0, 6, 1], -0.0006616412681631195],\n",
       " [[7, 1, 4, 2], -3.954004733809075e-08],\n",
       " [[7, 1, 5, 3], -2.208863578892679e-08],\n",
       " [[7, 1, 6, 0], 0.0006616412681631195],\n",
       " [[7, 2, 4, 1], 3.954004733809075e-08],\n",
       " [[7, 2, 6, 3], 0.5515703776378225],\n",
       " [[7, 3, 4, 0], -1.7451411549163962e-08],\n",
       " [[7, 3, 5, 1], 2.208863578892679e-08],\n",
       " [[7, 3, 6, 2], -0.5515703776378225]]"
      ]
     },
     "execution_count": 18,
     "metadata": {},
     "output_type": "execute_result"
    }
   ],
   "source": [
    "double_amplitudes_list=[]\n",
    "double_amplitudes = double_amps\n",
    "for i, j, k, l in zip(*double_amplitudes.nonzero()):\n",
    "    if not np.isclose(double_amplitudes[i, j, k, l], 0):\n",
    "        double_amplitudes_list.append([[i, j, k, l],\n",
    "                                       double_amplitudes[i, j, k, l]])\n",
    "    \n",
    "double_amplitudes_list"
   ]
  },
  {
   "cell_type": "code",
   "execution_count": 19,
   "id": "1253eaed",
   "metadata": {},
   "outputs": [
    {
     "data": {
      "text/plain": [
       "[[[4, 0], -3.912181678103236e-15],\n",
       " [[4, 2], -6.110293692729721e-08],\n",
       " [[5, 1], -3.912181678103236e-15],\n",
       " [[5, 3], -6.110293692729721e-08],\n",
       " [[6, 0], -0.4435278092467373],\n",
       " [[6, 2], 4.3248127744901715e-15],\n",
       " [[7, 1], -0.4435278092467373],\n",
       " [[7, 3], 4.3248127744901715e-15]]"
      ]
     },
     "execution_count": 19,
     "metadata": {},
     "output_type": "execute_result"
    }
   ],
   "source": [
    "single_amplitudes_list = []\n",
    "for i, j in zip(*ccsd_single_amps.nonzero()):\n",
    "    single_amplitudes_list.append([[i, j], ccsd_single_amps[i, j]])\n",
    "\n",
    "single_amplitudes_list"
   ]
  },
  {
   "cell_type": "code",
   "execution_count": 20,
   "id": "1a5470c2",
   "metadata": {},
   "outputs": [],
   "source": [
    "generator_t2 = FermionOperator()\n",
    "\n",
    "# Add double excitations\n",
    "for (i, j, k, l), t_ijkl in double_amplitudes_list:\n",
    "    i, j, k, l = int(i), int(j), int(k), int(l)\n",
    "    generator_t2 += FermionOperator(((i, 1), (j, 0), (k, 1), (l, 0)), t_ijkl)\n",
    "#     if anti_hermitian:\n",
    "#         generator += FermionOperator(((l, 1), (k, 0), (j, 1), (i, 0)),\n",
    "#                                      -t_ijkl)"
   ]
  },
  {
   "cell_type": "code",
   "execution_count": 21,
   "id": "1289e9bc",
   "metadata": {},
   "outputs": [],
   "source": [
    "generator_t1 = FermionOperator()\n",
    "for (i, j), t_ij in single_amplitudes_list:\n",
    "    i, j = int(i), int(j)\n",
    "    generator_t1 += FermionOperator(((i, 1), (j, 0)), t_ij)"
   ]
  },
  {
   "cell_type": "code",
   "execution_count": null,
   "id": "224a9999",
   "metadata": {},
   "outputs": [],
   "source": []
  },
  {
   "cell_type": "code",
   "execution_count": 22,
   "id": "8790e5b5",
   "metadata": {},
   "outputs": [],
   "source": [
    "T = generator_t1 + 0.5*generator_t2\n",
    "\n",
    "ccsd_ansatz = expm(get_sparse_operator(T, n_qubits=H_ferm.n_qubits))"
   ]
  },
  {
   "cell_type": "code",
   "execution_count": 96,
   "id": "ca116cc2",
   "metadata": {},
   "outputs": [
    {
     "data": {
      "text/plain": [
       "(-1.8261563137028727+0j)"
      ]
     },
     "execution_count": 96,
     "metadata": {},
     "output_type": "execute_result"
    }
   ],
   "source": [
    "ccsd_ket =  ccsd_ansatz @ hf_ket\n",
    "hf_ket.conj().T @ H_mat @ ccsd_ket"
   ]
  },
  {
   "cell_type": "code",
   "execution_count": 97,
   "id": "d87a984a",
   "metadata": {},
   "outputs": [
    {
     "data": {
      "text/plain": [
       "-1.8261563137028722"
      ]
     },
     "execution_count": 97,
     "metadata": {},
     "output_type": "execute_result"
    }
   ],
   "source": [
    "pyscf_obj.pyscf_ccsd.e_tot "
   ]
  },
  {
   "cell_type": "code",
   "execution_count": 98,
   "id": "2a240c62",
   "metadata": {},
   "outputs": [
    {
     "data": {
      "text/plain": [
       "(1+0j)"
      ]
     },
     "execution_count": 98,
     "metadata": {},
     "output_type": "execute_result"
    }
   ],
   "source": [
    "# intermediate normalization\n",
    "hf_ket.conj().T  @ ccsd_ket\n"
   ]
  },
  {
   "cell_type": "code",
   "execution_count": 99,
   "id": "4be2e209",
   "metadata": {},
   "outputs": [
    {
     "data": {
      "text/plain": [
       "(-1.7418931709154082+0j)"
      ]
     },
     "execution_count": 99,
     "metadata": {},
     "output_type": "execute_result"
    }
   ],
   "source": [
    "normalized_state = ccsd_ket / np.sqrt(ccsd_ket.conj().T@ccsd_ket)\n",
    "\n",
    "E_from_vec = normalized_state.conj().T @ H_mat @ normalized_state\n",
    "E_from_vec"
   ]
  },
  {
   "cell_type": "code",
   "execution_count": 100,
   "id": "4f5042a6",
   "metadata": {},
   "outputs": [
    {
     "data": {
      "text/plain": [
       "0.08426314278746405"
      ]
     },
     "execution_count": 100,
     "metadata": {},
     "output_type": "execute_result"
    }
   ],
   "source": [
    "abs(pyscf_obj.pyscf_ccsd.e_tot - E_from_vec)"
   ]
  },
  {
   "cell_type": "code",
   "execution_count": null,
   "id": "c81f4b7b",
   "metadata": {},
   "outputs": [],
   "source": []
  },
  {
   "cell_type": "code",
   "execution_count": 86,
   "id": "ea8ffaad",
   "metadata": {
    "scrolled": true
   },
   "outputs": [
    {
     "name": "stdout",
     "output_type": "stream",
     "text": [
      "(0.5276099995527699+0j)|00001111>\n",
      "(-1.8433902498537798e-08+0j)|00011011>\n",
      "(1.8433902498537798e-08+0j)|00100111>\n",
      "(0.08576206597664797+0j)|00110011>\n",
      "(-0.4725840345446496+0j)|00111100>\n",
      "(0.014071962063256225+0j)|01001110>\n",
      "(2.250980991942932e-08+0j)|01100110>\n",
      "(0.19207141387290994+0j)|01110010>\n",
      "(-0.014071962063256225+0j)|10001101>\n",
      "(2.2509809919429316e-08+0j)|10011001>\n",
      "(-0.19207141387290996+0j)|10110001>\n",
      "(-0.47771932255267385+0j)|11000011>\n",
      "(0.03172735005536297+0j)|11001100>\n",
      "(2.6460860497891207e-08+0j)|11011000>\n",
      "(-2.6460860497891207e-08+0j)|11100100>\n",
      "(0.43305382406373405+0j)|11110000>\n"
     ]
    }
   ],
   "source": [
    "for ind, amp in enumerate(normalized_state):\n",
    "    if not np.isclose(amp, 0):\n",
    "        binary_string = np.binary_repr(ind, width=H_ferm.n_qubits)\n",
    "        print(f'{amp}|{binary_string}>')"
   ]
  },
  {
   "cell_type": "code",
   "execution_count": 87,
   "id": "352dd690",
   "metadata": {},
   "outputs": [
    {
     "data": {
      "text/plain": [
       "(-1.5162206379375986+0j)"
      ]
     },
     "execution_count": 87,
     "metadata": {},
     "output_type": "execute_result"
    }
   ],
   "source": [
    "trotter_op = np.eye(2**H_ferm.n_qubits)\n",
    "for op in list(generator_t2):\n",
    "    trotter_op*= expm(get_sparse_operator(op, n_qubits=H_ferm.n_qubits))\n",
    "\n",
    "    \n",
    "ccsd_trotter = trotter_op @ hf_ket\n",
    "\n",
    "\n",
    "normalized_trotter = ccsd_trotter / np.sqrt(ccsd_trotter.conj().T@ccsd_trotter)\n",
    "\n",
    "normalized_trotter.conj().T @ H_mat @ normalized_trotter"
   ]
  },
  {
   "cell_type": "code",
   "execution_count": 88,
   "id": "d2a919b5",
   "metadata": {},
   "outputs": [
    {
     "name": "stdout",
     "output_type": "stream",
     "text": [
      "(0.8277926697224702+0j)|00001111>\n",
      "(0.0004549263477769256+0j)|00110011>\n",
      "(-0.3751679040580851+0j)|00111100>\n",
      "(-1.5187538762098153e-08+0j)|01011010>\n",
      "(2.7186649612082093e-08+0j)|01100110>\n",
      "(-1.199911084998394e-08+0j)|01101001>\n",
      "(-1.199911084998394e-08+0j)|10010110>\n",
      "(2.7186649612082093e-08+0j)|10011001>\n",
      "(-1.5187538762098153e-08+0j)|10100101>\n",
      "(-0.3792446292495347+0j)|11000011>\n",
      "(0.025187231373688078+0j)|11001100>\n",
      "(0.1718931276157827+0j)|11110000>\n"
     ]
    }
   ],
   "source": [
    "for ind, amp in enumerate(normalized_trotter):\n",
    "    if not np.isclose(amp, 0):\n",
    "        binary_string = np.binary_repr(ind, width=H_ferm.n_qubits)\n",
    "        print(f'{amp}|{binary_string}>')"
   ]
  },
  {
   "cell_type": "code",
   "execution_count": 89,
   "id": "14f32f72",
   "metadata": {},
   "outputs": [
    {
     "data": {
      "text/plain": [
       "(256, 256)"
      ]
     },
     "execution_count": 89,
     "metadata": {},
     "output_type": "execute_result"
    }
   ],
   "source": [
    "ccsd_ansatz.shape"
   ]
  },
  {
   "cell_type": "code",
   "execution_count": null,
   "id": "2d3cd071",
   "metadata": {},
   "outputs": [],
   "source": []
  },
  {
   "cell_type": "code",
   "execution_count": null,
   "id": "c1c6ba58",
   "metadata": {},
   "outputs": [],
   "source": []
  },
  {
   "cell_type": "code",
   "execution_count": 90,
   "id": "af897264",
   "metadata": {},
   "outputs": [
    {
     "data": {
      "text/plain": [
       "matrix([[-1.82615631+0.j]])"
      ]
     },
     "execution_count": 90,
     "metadata": {},
     "output_type": "execute_result"
    }
   ],
   "source": [
    "zero_state = np.zeros((H_mat.shape[0],1))\n",
    "zero_state[0]=1\n",
    "\n",
    "# T = generator_t1 + 0.5*generator_t2\n",
    "hf_ket.conj().T @ np.linalg.pinv(ccsd_ansatz.todense()) @ H_mat @ ccsd_ansatz @ hf_ket"
   ]
  },
  {
   "cell_type": "code",
   "execution_count": 33,
   "id": "bbb5f755",
   "metadata": {},
   "outputs": [
    {
     "data": {
      "text/plain": [
       "-1.8743108952541805"
      ]
     },
     "execution_count": 33,
     "metadata": {},
     "output_type": "execute_result"
    }
   ],
   "source": [
    "vals, vecs = np.linalg.eigh(H_mat.todense())\n",
    "min(vals)"
   ]
  },
  {
   "cell_type": "code",
   "execution_count": 34,
   "id": "a67d0179",
   "metadata": {},
   "outputs": [
    {
     "data": {
      "text/plain": [
       "-2.096006827134742"
      ]
     },
     "execution_count": 34,
     "metadata": {},
     "output_type": "execute_result"
    }
   ],
   "source": [
    "H_rot =  np.linalg.pinv(ccsd_ansatz.todense()) @ H_mat.todense() @ ccsd_ansatz \n",
    "# H_rot =  H_mat.todense() @ ccsd_ansatz \n",
    "# H_rot = np.linalg.pinv(ccsd_ansatz.todense()) @ H_mat.todense() \n",
    "\n",
    "vals, vecs = np.linalg.eigh(H_rot)\n",
    "min(vals)"
   ]
  },
  {
   "cell_type": "code",
   "execution_count": 40,
   "id": "f23fe1e0",
   "metadata": {},
   "outputs": [
    {
     "name": "stdout",
     "output_type": "stream",
     "text": [
      "-2.0960068271347416\n"
     ]
    }
   ],
   "source": [
    "ccsd_ansatz_inv = expm(get_sparse_operator(-1*T, n_qubits=H_ferm.n_qubits))\n",
    "H_rot =  ccsd_ansatz_inv @ H_mat @ ccsd_ansatz \n",
    "\n",
    "vals, vecs = np.linalg.eigh(H_rot.todense())\n",
    "print(min(vals))"
   ]
  },
  {
   "cell_type": "code",
   "execution_count": 41,
   "id": "d52ac0be",
   "metadata": {},
   "outputs": [
    {
     "data": {
      "text/plain": [
       "(-1.826156313702873+0j)"
      ]
     },
     "execution_count": 41,
     "metadata": {},
     "output_type": "execute_result"
    }
   ],
   "source": [
    "hf_ket.conj().T @ H_rot @ hf_ket"
   ]
  },
  {
   "cell_type": "code",
   "execution_count": 77,
   "id": "241d7b97",
   "metadata": {},
   "outputs": [
    {
     "name": "stdout",
     "output_type": "stream",
     "text": [
      "1.0000000000+0.0000000000j XXXXIIII\n"
     ]
    }
   ],
   "source": [
    "from symred.symplectic_form import PauliwordOp\n",
    "conv_dic = {0: 'I', 1:'X'}\n",
    "P = ''.join([conv_dic[i] for i in H_ferm.hf_comp_basis_state])\n",
    "HF_ansatz = PauliwordOp([P],[1])\n",
    "print(HF_ansatz)\n",
    "\n",
    "HF_ans_mat = HF_ansatz.to_sparse_matrix"
   ]
  },
  {
   "cell_type": "code",
   "execution_count": 66,
   "id": "909734c4",
   "metadata": {},
   "outputs": [
    {
     "data": {
      "text/plain": [
       "True"
      ]
     },
     "execution_count": 66,
     "metadata": {},
     "output_type": "execute_result"
    }
   ],
   "source": [
    "np.allclose(HF_ans_mat.conj().T.todense(),  HF_ans_mat.todense())"
   ]
  },
  {
   "cell_type": "code",
   "execution_count": 75,
   "id": "dba1c483",
   "metadata": {},
   "outputs": [
    {
     "data": {
      "text/plain": [
       "True"
      ]
     },
     "execution_count": 75,
     "metadata": {},
     "output_type": "execute_result"
    }
   ],
   "source": [
    "np.allclose(HF_ans_mat@zero_state, hf_ket.reshape(-1,1))"
   ]
  },
  {
   "cell_type": "code",
   "execution_count": 76,
   "id": "569e20bd",
   "metadata": {},
   "outputs": [
    {
     "data": {
      "text/plain": [
       "array([[-9.28833265+0.j]])"
      ]
     },
     "execution_count": 76,
     "metadata": {},
     "output_type": "execute_result"
    }
   ],
   "source": [
    "# H_rot =  HF_ans_mat.conj().T @ ccsd_ansatz_inv @ H_mat @ ccsd_ansatz @ HF_ans_mat\n",
    "# vals, vecs = np.linalg.eigh(H_rot.todense())\n",
    "# print(min(vals))\n",
    "\n",
    "\n",
    "fin_state = ccsd_ansatz @ HF_ans_mat@zero_state\n",
    "fin_state.conj().T @ H_mat @ fin_state \n"
   ]
  },
  {
   "cell_type": "code",
   "execution_count": 82,
   "id": "17518a65",
   "metadata": {},
   "outputs": [
    {
     "data": {
      "text/plain": [
       "matrix([[-1.82615631+0.j]])"
      ]
     },
     "execution_count": 82,
     "metadata": {},
     "output_type": "execute_result"
    }
   ],
   "source": [
    "zero_state = np.zeros((H_mat.shape[0],1))\n",
    "zero_state[0]=1\n",
    "\n",
    "zero_state.conj().T @HF_ans_mat.conj().T @ np.linalg.pinv(ccsd_ansatz.todense()) @ H_mat @ ccsd_ansatz @ HF_ans_mat@ zero_state"
   ]
  },
  {
   "cell_type": "code",
   "execution_count": 83,
   "id": "4ca442c5",
   "metadata": {},
   "outputs": [
    {
     "data": {
      "text/plain": [
       "matrix([[-9.28833265+0.j]])"
      ]
     },
     "execution_count": 83,
     "metadata": {},
     "output_type": "execute_result"
    }
   ],
   "source": [
    "zero_state.conj().T @HF_ans_mat.conj().T @ ccsd_ansatz.todense().conj().T @ H_mat @ ccsd_ansatz @ HF_ans_mat@ zero_state\n",
    "\n"
   ]
  },
  {
   "cell_type": "code",
   "execution_count": 130,
   "id": "ffaf06e6",
   "metadata": {},
   "outputs": [
    {
     "name": "stdout",
     "output_type": "stream",
     "text": [
      "False\n"
     ]
    },
    {
     "data": {
      "text/plain": [
       "matrix([[1.+0.j]])"
      ]
     },
     "execution_count": 130,
     "metadata": {},
     "output_type": "execute_result"
    }
   ],
   "source": [
    "state1 = ccsd_ansatz @ HF_ans_mat@ zero_state\n",
    "\n",
    "state2 = state1.conj().T\n",
    "\n",
    "state3 = zero_state.conj().T @HF_ans_mat.conj().T @ np.linalg.pinv(ccsd_ansatz.todense())\n",
    "\n",
    "print(np.allclose(state2,\n",
    "           state3))\n",
    "\n",
    "state3 @ state1"
   ]
  },
  {
   "cell_type": "code",
   "execution_count": null,
   "id": "af64a32e",
   "metadata": {},
   "outputs": [],
   "source": [
    "from openfermion import hermitian_conjugated\n",
    "T = generator_t1 + 0.5*generator_t2\n",
    "\n",
    "T_dagger = hermitian_conjugated(T)\n",
    "\n",
    "ccsd_ansatz = expm(get_sparse_operator(T, n_qubits=H_ferm.n_qubits))"
   ]
  }
 ],
 "metadata": {
  "kernelspec": {
   "display_name": "Python 3 (ipykernel)",
   "language": "python",
   "name": "python3"
  },
  "language_info": {
   "codemirror_mode": {
    "name": "ipython",
    "version": 3
   },
   "file_extension": ".py",
   "mimetype": "text/x-python",
   "name": "python",
   "nbconvert_exporter": "python",
   "pygments_lexer": "ipython3",
   "version": "3.7.0"
  }
 },
 "nbformat": 4,
 "nbformat_minor": 5
}
