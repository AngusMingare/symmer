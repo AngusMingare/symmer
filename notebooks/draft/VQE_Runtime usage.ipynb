{
 "cells": [
  {
   "cell_type": "markdown",
   "id": "1a334199",
   "metadata": {},
   "source": [
    "# Symmer VQE Qiskit Runtime program\n",
    "\n",
    "The way in which one should interface with IBM's quantum processing units (QPUs) is via **Qiskit Runtime** programs. This allows one to fully occupy a QPU's resource for the duration of the program, instead of returning to the back of the queue for *every single circuit run*. For an algorithm such as VQE, in which *many* calls to the QPU are made, this is crucial and accelerates wall-time by several orders of magnitude.\n",
    "\n",
    "Here, we present some basic usage of our VQE implementation within **Symmer** and how one submits jobs to remote IBM backends - including **real quantum devices**! We shall demostrate the algorithm in combination with Qubit Tapering and Contextual Subspace VQE applied to a chosen molecular system.\n",
    "\n",
    "The ``symmer.vqe_runtime.VQE_Runtime`` class lies at the core of the ``symmer-vqe-Ve6OdoVd8X`` runtime program, whereas ``symmer.vqe_runtime.main`` is the entry-point into the program; this function must cohere to Qiskit's conventions, namely its first two arguments are ``backend`` and ``user_messenger``.\n",
    "\n",
    "Note that VQE_Runtime not only supports standard VQE, but also contains an implementation of [qubit-ADAPT-VQE](https://journals.aps.org/prxquantum/abstract/10.1103/PRXQuantum.2.020310). This allows one to leverage otherwise unwieldy problem-specific ansatze such as unitary coupled-cluster (UCC) and yield an ansatz of considerably shallower depth via a gradient-based argument."
   ]
  },
  {
   "cell_type": "markdown",
   "id": "8b27ecd9",
   "metadata": {},
   "source": [
    "# Building our molecule"
   ]
  },
  {
   "cell_type": "code",
   "execution_count": 448,
   "id": "747512fb",
   "metadata": {},
   "outputs": [
    {
     "name": "stdout",
     "output_type": "stream",
     "text": [
      "HCl_STO-3G_SINGLET\n",
      "Molecule geometry:\n",
      "Cl\t0.0\t0.0\t0.07452\n",
      "H\t0.0\t0.0\t-1.266846\n",
      "\n",
      "HF converged?   True\n",
      "CCSD converged? True\n",
      "FCI converged?  True\n",
      "\n",
      "HF energy:   -455.1354456708123\n",
      "MP2 energy:  -455.1497064364202\n",
      "CCSD energy: -455.1570668271788\n",
      "FCI energy:  -455.1570667931492\n",
      "\n",
      "\n",
      "Number of qubits: 20\n"
     ]
    }
   ],
   "source": [
    "import json\n",
    "import numpy as np\n",
    "from symmer.chem import MoleculeBuilder\n",
    "from symmer.projection import QubitTapering, CS_VQE, StabilizerIdentification\n",
    "from symmer.symplectic import ObservableGraph, PauliwordOp\n",
    "\n",
    "with open('../data/molecule_data.json', 'r') as jfile:\n",
    "    molecule_geometries = json.load(jfile)    \n",
    "\n",
    "speciesname = 'HCl_STO-3G_SINGLET'\n",
    "print(speciesname)\n",
    "# build the molecule\n",
    "mol_data = molecule_geometries[speciesname]\n",
    "atoms  = mol_data['atoms']\n",
    "coords = mol_data['coords']\n",
    "charge = mol_data['charge']\n",
    "basis = mol_data['basis']\n",
    "geometry = list(zip(atoms, coords))\n",
    "molecule = MoleculeBuilder(geometry=geometry, charge=charge, basis=basis, spin=0, run_fci=True, print_info=True)"
   ]
  },
  {
   "cell_type": "markdown",
   "id": "8158bb82",
   "metadata": {},
   "source": [
    "# Qubit Tapering\n",
    "Next, we [taper](https://arxiv.org/abs/1701.08213) our molecule to reduce the number of qubits required. This is achieved by identifying symmetries (globally commuting Pauli operators), each of which may be mapped to a single qubit and projected out of the problem. "
   ]
  },
  {
   "cell_type": "code",
   "execution_count": 449,
   "id": "a4158b4c",
   "metadata": {},
   "outputs": [
    {
     "name": "stdout",
     "output_type": "stream",
     "text": [
      "Qubit tapering permitted a reduction of 20 -> 17 qubits\n",
      "\n",
      "The following stabilizers were identified:\n",
      "\n",
      "-1 ZIZIZIIZIZZIZIIZIZZI \n",
      "-1 IZIZIZIZIZIZIZIZIZIZ \n",
      " 1 IIIIIIZZZZIIIIZZZZII\n"
     ]
    }
   ],
   "source": [
    "# taper the Hamiltonian\n",
    "qubit_tapering = QubitTapering(molecule.H_q)\n",
    "hf_array = molecule.H_fermion.hf_comp_basis_state\n",
    "qubit_tapering.stabilizers.update_sector(hf_array)\n",
    "ham_tap = qubit_tapering.taper_it(ref_state=hf_array)\n",
    "ucc_tap = qubit_tapering.taper_it(aux_operator=molecule.UCC_q, ref_state=hf_array)\n",
    "hf_tapered = qubit_tapering.tapered_ref_state\n",
    "\n",
    "print(f'Qubit tapering permitted a reduction of {molecule.H_q.n_qubits} -> {ham_tap.n_qubits} qubits\\n')\n",
    "print('The following stabilizers were identified:\\n')\n",
    "print(qubit_tapering.stabilizers)"
   ]
  },
  {
   "cell_type": "markdown",
   "id": "93da3e45",
   "metadata": {},
   "source": [
    "# Further CS-VQE reduction\n",
    "Qubit tapering is exact, in that it perfectly preserves the energy spectrum of the original Hamiltonian. [Contextual Subspace VQE](https://quantum-journal.org/papers/q-2021-05-14-456/) (CS-VQE) on the other hand is approximate, since it enforces pseudo-symmetries whereas those in tapering are physical. Despite this, if one constructs these artificial symmetries carefully then *enough* information may be retained such that high-precision simulations are still feasible. In fact, it has been demonstrated that chemical accuracy can be achieved at a dramatic reduction in qubit resource through a combination of Qubit Tapering + CS-VQE.\n",
    "\n",
    "The biggest strength of CS-VQE is that any number of qubits may be specified to yield a contextual subspace Hamiltonian of that size, meaning it is fully-tailorable to the available quantum device. Below, ``symmer.projection.cs_vqe.CS_VQE`` builds the CS-VQE model, whereas ``symmer.projection.stabilizers.StabilizerIdentification`` tries to find optimal pseudo-symmetries."
   ]
  },
  {
   "cell_type": "code",
   "execution_count": 618,
   "id": "de1556ee",
   "metadata": {},
   "outputs": [],
   "source": [
    "n_qubits = 3\n",
    "# CS-VQE and stabilizer identification\n",
    "cs_vqe = CS_VQE(ham_tap, hf_tapered, basis_weighting_operator=ucc_tap, noncontextual_form='diag')\n",
    "CC_stabilizers = StabilizerIdentification(ucc_tap)\n",
    "S = CC_stabilizers.symmetry_basis_by_subspace_dimension(n_qubits)\n",
    "ham_cs = cs_vqe.project_onto_subspace(S, enforce_clique_operator=False)"
   ]
  },
  {
   "cell_type": "markdown",
   "id": "e19d55cd",
   "metadata": {},
   "source": [
    "One observes that it is possible to achieve chemical accuracy (1.6mHa) at a reduction in qubit number:"
   ]
  },
  {
   "cell_type": "code",
   "execution_count": 620,
   "id": "734904a5",
   "metadata": {},
   "outputs": [
    {
     "name": "stdout",
     "output_type": "stream",
     "text": [
      "-0.1172488490+0.0000000000j |001> +\n",
      "-0.0000000000+0.0000000000j |010> +\n",
      " 0.0322424104+0.0000000000j |011> +\n",
      " 0.0000000000+0.0000000000j |100> +\n",
      "-0.0322424104+0.0000000000j |101> +\n",
      "-0.9917150877+0.0000000000j |110> +\n",
      "-0.0259758770+0.0000000000j |111>\n",
      "\n",
      "Contextual subspace ground state error = 0.000837380287691758\n",
      "Achieves chemical accuracy? True\n"
     ]
    }
   ],
   "source": [
    "from symmer.symplectic import QuantumState, array_to_QuantumState\n",
    "from symmer.utils import exact_gs_energy\n",
    "\n",
    "gs_energy, gs_vec = exact_gs_energy(ham_cs.to_sparse_matrix)\n",
    "gs_psi = array_to_QuantumState(gs_vec)\n",
    "error = gs_energy - molecule.fci_energy\n",
    "\n",
    "print(gs_psi)\n",
    "print()\n",
    "print(f'Contextual subspace ground state error = {error}')\n",
    "print(f'Achieves chemical accuracy? {error < 0.0016}')"
   ]
  },
  {
   "cell_type": "markdown",
   "id": "6b4ad73e",
   "metadata": {},
   "source": [
    "# VQE using ``symmer-vqe-Ve6OdoVd8X`` runtime program"
   ]
  },
  {
   "cell_type": "markdown",
   "id": "e19639af",
   "metadata": {},
   "source": [
    "First things first, we need to connect to the IBMQ service. The first time this is run, you will need to provide an IBMQ token in order to access your account."
   ]
  },
  {
   "cell_type": "code",
   "execution_count": 464,
   "id": "938d96a0",
   "metadata": {},
   "outputs": [],
   "source": [
    "from qiskit_ibm_runtime import QiskitRuntimeService\n",
    "# only run the following the first time you connect to the service\n",
    "#token = \"a26e0769ddee03aa5f95f38edb1266efa1190059c7d60c1784ca3ec1e4c3c84bc375947c2bc8d2bc4ab39e32ea64ae6376b1f631936a416c7b8bdaed8b94a9cb\"\n",
    "#QiskitRuntimeService.save_account(channel=\"ibm_quantum\", token=token, overwrite=True)\n",
    "service = QiskitRuntimeService(channel='ibm_quantum')"
   ]
  },
  {
   "cell_type": "markdown",
   "id": "ef2f4f27",
   "metadata": {},
   "source": [
    "One can monitor the hardware that is available via their service provider:"
   ]
  },
  {
   "cell_type": "code",
   "execution_count": 605,
   "id": "53fc9206",
   "metadata": {},
   "outputs": [
    {
     "name": "stdout",
     "output_type": "stream",
     "text": [
      "Backend name: ibmq_qasm_simulator           | Number of qubits: 32   | Number of jobs queued: 12\n",
      "Backend name: ibmq_lima                     | Number of qubits: 5    | Number of jobs queued: 30\n",
      "Backend name: ibmq_belem                    | Number of qubits: 5    | Number of jobs queued: 33\n",
      "Backend name: ibmq_quito                    | Number of qubits: 5    | Number of jobs queued: 38\n",
      "Backend name: simulator_statevector         | Number of qubits: 32   | Number of jobs queued: 9\n",
      "Backend name: simulator_mps                 | Number of qubits: 100  | Number of jobs queued: 9\n",
      "Backend name: simulator_extended_stabilizer | Number of qubits: 63   | Number of jobs queued: 8\n",
      "Backend name: simulator_stabilizer          | Number of qubits: 5000 | Number of jobs queued: 8\n",
      "Backend name: ibmq_manila                   | Number of qubits: 5    | Number of jobs queued: 216\n",
      "Backend name: ibm_nairobi                   | Number of qubits: 7    | Number of jobs queued: 83\n",
      "Backend name: ibm_oslo                      | Number of qubits: 7    | Number of jobs queued: 51\n"
     ]
    }
   ],
   "source": [
    "for name in service.backends():\n",
    "    print(f'Backend name: {name.name: <29} | '+\n",
    "          f'Number of qubits: {name.num_qubits: <4} | '+\n",
    "          f'Number of jobs queued: {name.status().pending_jobs}'\n",
    "    )"
   ]
  },
  {
   "cell_type": "markdown",
   "id": "5128ea88",
   "metadata": {},
   "source": [
    "We will specify the Symmer VQE runtime program by its program_id:"
   ]
  },
  {
   "cell_type": "code",
   "execution_count": 606,
   "id": "c5baa769",
   "metadata": {},
   "outputs": [],
   "source": [
    "#program_id = service.upload_program(data=\"../../symmer/simulation/vqe_runtime.py\", metadata=meta)\n",
    "program_id = 'symmer-vqe-Ve6OdoVd8X'"
   ]
  },
  {
   "cell_type": "code",
   "execution_count": 607,
   "id": "fd90d8b1",
   "metadata": {},
   "outputs": [],
   "source": [
    "#service.update_program(program_id=program_id, data=\"../../symmer/simulation/vqe_runtime.py\", metadata=meta)\n",
    "# service.delete_program(program_id) # to delete program"
   ]
  },
  {
   "cell_type": "code",
   "execution_count": 613,
   "id": "e66f07c7",
   "metadata": {},
   "outputs": [
    {
     "name": "stdout",
     "output_type": "stream",
     "text": [
      "Program name: symmer_vqe\n",
      "Description:  VQE program using symmer\n"
     ]
    }
   ],
   "source": [
    "prog = service.program(program_id)\n",
    "print(f'Program name: {prog.name}')\n",
    "print(f'Description:  {prog.description}')"
   ]
  },
  {
   "cell_type": "markdown",
   "id": "c1cbfa79",
   "metadata": {},
   "source": [
    "Before we can submit a Symmer VQE job, we must decompose the Hamiltonian into qubit-wise commuting sets. Such sets are simultaneously measureable and therefore reduces the number of quantum measurements required to evaluate the expectation value of our Hamiltonian."
   ]
  },
  {
   "cell_type": "code",
   "execution_count": 469,
   "id": "5d73b4f0",
   "metadata": {},
   "outputs": [],
   "source": [
    "operator = ham_cs\n",
    "\n",
    "QWC_decomposition = list(\n",
    "    ObservableGraph(\n",
    "        operator.symp_matrix, \n",
    "        operator.coeff_vec\n",
    "    ).clique_cover(\n",
    "        clique_relation='QWC', \n",
    "        colouring_strategy='largest_first'\n",
    "    ).values()\n",
    ")\n",
    "assert(sum(QWC_decomposition)==operator), 'Decomposition into QWC groups failed'"
   ]
  },
  {
   "cell_type": "markdown",
   "id": "f8985bfa",
   "metadata": {},
   "source": [
    "The next ingredient is the all-important ansatz. This is the parametrized quantum state over which we optimize throughout VQE. The choice of ansatz can restrict the permitted region of Hilbert space, hence it is important that in designing an ansatz one ensures the true ground state is contained within its image."
   ]
  },
  {
   "cell_type": "code",
   "execution_count": 603,
   "id": "9c496d9c",
   "metadata": {},
   "outputs": [
    {
     "data": {
      "text/html": [
       "<pre style=\"word-wrap: normal;white-space: pre;background: #fff0;line-height: 1.1;font-family: &quot;Courier New&quot;,Courier,monospace\">     ┌──────────┐┌──────────┐ ░ ┌───┐           ░ ┌──────────┐ ┌──────────┐ ░ »\n",
       "q_0: ┤ Rx(θ[0]) ├┤ Ry(θ[3]) ├─░─┤ X ├──■────────░─┤ Rx(θ[6]) ├─┤ Ry(θ[9]) ├─░─»\n",
       "     ├──────────┤├──────────┤ ░ └─┬─┘┌─┴─┐      ░ ├──────────┤┌┴──────────┤ ░ »\n",
       "q_1: ┤ Rx(θ[1]) ├┤ Ry(θ[4]) ├─░───┼──┤ X ├──■───░─┤ Rx(θ[7]) ├┤ Ry(θ[10]) ├─░─»\n",
       "     ├──────────┤├──────────┤ ░   │  └───┘┌─┴─┐ ░ ├──────────┤├───────────┤ ░ »\n",
       "q_2: ┤ Rx(θ[2]) ├┤ Ry(θ[5]) ├─░───■───────┤ X ├─░─┤ Rx(θ[8]) ├┤ Ry(θ[11]) ├─░─»\n",
       "     └──────────┘└──────────┘ ░           └───┘ ░ └──────────┘└───────────┘ ░ »\n",
       "«     ┌───┐           ░ ┌───────────┐┌───────────┐\n",
       "«q_0: ┤ X ├──■────────░─┤ Rx(θ[12]) ├┤ Ry(θ[15]) ├\n",
       "«     └─┬─┘┌─┴─┐      ░ ├───────────┤├───────────┤\n",
       "«q_1: ──┼──┤ X ├──■───░─┤ Rx(θ[13]) ├┤ Ry(θ[16]) ├\n",
       "«       │  └───┘┌─┴─┐ ░ ├───────────┤├───────────┤\n",
       "«q_2: ──■───────┤ X ├─░─┤ Rx(θ[14]) ├┤ Ry(θ[17]) ├\n",
       "«               └───┘ ░ └───────────┘└───────────┘</pre>"
      ],
      "text/plain": [
       "     ┌──────────┐┌──────────┐ ░ ┌───┐           ░ ┌──────────┐ ┌──────────┐ ░ »\n",
       "q_0: ┤ Rx(θ[0]) ├┤ Ry(θ[3]) ├─░─┤ X ├──■────────░─┤ Rx(θ[6]) ├─┤ Ry(θ[9]) ├─░─»\n",
       "     ├──────────┤├──────────┤ ░ └─┬─┘┌─┴─┐      ░ ├──────────┤┌┴──────────┤ ░ »\n",
       "q_1: ┤ Rx(θ[1]) ├┤ Ry(θ[4]) ├─░───┼──┤ X ├──■───░─┤ Rx(θ[7]) ├┤ Ry(θ[10]) ├─░─»\n",
       "     ├──────────┤├──────────┤ ░   │  └───┘┌─┴─┐ ░ ├──────────┤├───────────┤ ░ »\n",
       "q_2: ┤ Rx(θ[2]) ├┤ Ry(θ[5]) ├─░───■───────┤ X ├─░─┤ Rx(θ[8]) ├┤ Ry(θ[11]) ├─░─»\n",
       "     └──────────┘└──────────┘ ░           └───┘ ░ └──────────┘└───────────┘ ░ »\n",
       "«     ┌───┐           ░ ┌───────────┐┌───────────┐\n",
       "«q_0: ┤ X ├──■────────░─┤ Rx(θ[12]) ├┤ Ry(θ[15]) ├\n",
       "«     └─┬─┘┌─┴─┐      ░ ├───────────┤├───────────┤\n",
       "«q_1: ──┼──┤ X ├──■───░─┤ Rx(θ[13]) ├┤ Ry(θ[16]) ├\n",
       "«       │  └───┘┌─┴─┐ ░ ├───────────┤├───────────┤\n",
       "«q_2: ──■───────┤ X ├─░─┤ Rx(θ[14]) ├┤ Ry(θ[17]) ├\n",
       "«               └───┘ ░ └───────────┘└───────────┘"
      ]
     },
     "execution_count": 603,
     "metadata": {},
     "output_type": "execute_result"
    }
   ],
   "source": [
    "from qiskit.circuit.library import EfficientSU2\n",
    "ansatz = EfficientSU2(n_qubits, su2_gates=['rx', 'ry'], entanglement='circular', reps=2, insert_barriers=True)\n",
    "ansatz.decompose().draw()"
   ]
  },
  {
   "cell_type": "code",
   "execution_count": null,
   "id": "86b78389",
   "metadata": {},
   "outputs": [],
   "source": [
    "backend_name = 'ibmq_qasm_simulator' #'ibm_nairobi'\n",
    "\n",
    "options = {\n",
    "    'backend_name': backend_name\n",
    "}\n",
    "\n",
    "inputs = {\n",
    "    #observable\n",
    "        \"observable_groups\": [op.to_PauliSumOp for op in QWC_decomposition],\n",
    "    # standard VQE\n",
    "        \"ansatz_circuit\": ansatz,\n",
    "        \"init_params\": np.zeros(ansatz.num_parameters),\n",
    "    # optimizer settings\n",
    "        \"optimizer\": 'SLSQP',\n",
    "        \"opt_setting\": {\"maxiter\":10, \"gtol\": 1e-6},\n",
    "    # expectation value estimation options\n",
    "        \"n_shots\": 2**12, # 18 < np.log2(0.0016**-2) < 19\n",
    "        \"n_realize\":5,\n",
    "        \"mitigate_errors\": True\n",
    "}\n",
    "\n",
    "job = service.run(\n",
    "    program_id=program_id, \n",
    "    options=options, \n",
    "    inputs=inputs,\n",
    "    instance='ibm-q/open/main'\n",
    ")"
   ]
  },
  {
   "cell_type": "code",
   "execution_count": null,
   "id": "1db2168c",
   "metadata": {},
   "outputs": [],
   "source": [
    "service.backend(backend_name).status()"
   ]
  },
  {
   "cell_type": "code",
   "execution_count": 622,
   "id": "ad225fba",
   "metadata": {},
   "outputs": [
    {
     "name": "stdout",
     "output_type": "stream",
     "text": [
      "Job ID: cb45asrshjg0cvoguvng\n",
      "Job status: JobStatus.QUEUED\n",
      "None\n"
     ]
    }
   ],
   "source": [
    "#job = service.job('cb3bmkqoit2rk73c3csg')\n",
    "print(f'Job ID: {job.job_id}')\n",
    "print(f'Job status: {job.status()}')\n",
    "print(job.error_message())\n",
    "job.interim_results()"
   ]
  },
  {
   "cell_type": "code",
   "execution_count": null,
   "id": "e37c2652",
   "metadata": {},
   "outputs": [],
   "source": [
    "#vqe_result, interim_values = job.result()"
   ]
  },
  {
   "cell_type": "code",
   "execution_count": null,
   "id": "f0eb0506",
   "metadata": {},
   "outputs": [],
   "source": [
    "#plot"
   ]
  },
  {
   "cell_type": "markdown",
   "id": "b27ee8da",
   "metadata": {},
   "source": [
    "# Now let's try running ADAPT-VQE over the UCCSD pool"
   ]
  },
  {
   "cell_type": "markdown",
   "id": "318edc3b",
   "metadata": {},
   "source": [
    "We must project the UCC operator into the contextual subspace - note that it is able to achieve the same energy error as was obtained by direct diagonalization of the Hamiltonian."
   ]
  },
  {
   "cell_type": "code",
   "execution_count": 624,
   "id": "e04ec4de",
   "metadata": {},
   "outputs": [
    {
     "data": {
      "text/plain": [
       "0.0008382295017668184"
      ]
     },
     "execution_count": 624,
     "metadata": {},
     "output_type": "execute_result"
    }
   ],
   "source": [
    "from symmer.symplectic import AnsatzOp, ObservableOp\n",
    "\n",
    "ucc_cs = cs_vqe.project_onto_subspace(S, enforce_clique_operator=False, aux_operator=ucc_tap)\n",
    "ref_cs = hf_tapered[cs_vqe.free_qubit_indices]\n",
    "anz_cs = AnsatzOp(ucc_cs.symp_matrix, ucc_cs.coeff_vec)\n",
    "\n",
    "#ucc_trunc = ucc_cs#.sort()[:40]\n",
    "#anz_cs = AnsatzOp(ucc_trunc.symp_matrix, ucc_trunc.coeff_vec)\n",
    "\n",
    "obs = ObservableOp(ham_cs.symp_matrix, ham_cs.coeff_vec)\n",
    "vqe_result = obs.VQE(\n",
    "    ansatz_op=anz_cs, \n",
    "    ref_state=ref_cs\n",
    ")\n",
    "\n",
    "opt_params = vqe_result[0]['x']\n",
    "vqe_result[0]['fun'] - molecule.fci_energy"
   ]
  },
  {
   "cell_type": "code",
   "execution_count": null,
   "id": "04810785",
   "metadata": {},
   "outputs": [],
   "source": [
    "from qiskit import QuantumCircuit\n",
    "ansatz = QuantumCircuit(n_qubits)\n",
    "for i in np.where(ref_cs)[0]:\n",
    "    ansatz.x(n_qubits-1-i)\n",
    "ansatz = ansatz.compose(anz_cs.to_QuantumCircuit(bind_params=False))"
   ]
  },
  {
   "cell_type": "code",
   "execution_count": null,
   "id": "1cdf91bf",
   "metadata": {},
   "outputs": [],
   "source": [
    "from qiskit.quantum_info import Statevector\n",
    "from symmer.symplectic import QuantumState\n",
    "\n",
    "qc = ansatz.bind_parameters(opt_params)\n",
    "psi = Statevector.from_instruction(qc).to_dict()\n",
    "state_matrix, coeff_vec = zip(*[([int(i) for i in bstring], coeff) for bstring, coeff in psi.items()])\n",
    "state_matrix = np.array(state_matrix)\n",
    "coeff_vec = np.array(coeff_vec)\n",
    "\n",
    "psi = QuantumState(state_matrix, coeff_vec)\n",
    "psi.conjugate * ham_cs * psi - molecule.fci_energy"
   ]
  },
  {
   "cell_type": "code",
   "execution_count": 472,
   "id": "19a9547f",
   "metadata": {},
   "outputs": [],
   "source": [
    "backend_name = 'ibmq_qasm_simulator' #'ibm_nairobi'\n",
    "\n",
    "options = {\n",
    "    'backend_name': backend_name\n",
    "}\n",
    "\n",
    "inputs = {\n",
    "    #observable\n",
    "        \"observable\": ham_cs.to_PauliSumOp,\n",
    "        \"observable_groups\": [op.to_PauliSumOp for op in QWC_decomposition],\n",
    "    # standard VQE\n",
    "        #\"ansatz_circuit\": ansatz,\n",
    "        #\"init_params\": np.zeros(ansatz.num_parameters),\n",
    "    # ADAPT-VQE\n",
    "        \"adapt_flag\": True,\n",
    "        \"ansatz_pool\":[P for P in anz_cs.to_PauliSumOp],\n",
    "        \"adapt_max_cycles\":5,\n",
    "        \"adapt_termination_threshold\":0.0016,\n",
    "        \"reference_state\": ref_cs,\n",
    "        \"reference_energy\": molecule.fci_energy,\n",
    "    # optimizer settings\n",
    "        \"optimizer\": 'SLSQP',\n",
    "        \"opt_setting\": {\"maxiter\":10, \"gtol\": 1e-6},\n",
    "    # expectation value estimation options\n",
    "        \"n_shots\": 2**12, # 18 < np.log2(0.0016**-2) < 19\n",
    "        \"n_realize\":5,\n",
    "        \"mitigate_errors\": True\n",
    "}"
   ]
  },
  {
   "cell_type": "code",
   "execution_count": 473,
   "id": "09a9093a",
   "metadata": {},
   "outputs": [],
   "source": [
    "job = service.run(\n",
    "    program_id=program_id, \n",
    "    options=options, \n",
    "    inputs=inputs,\n",
    "    instance='ibm-q/open/main'\n",
    ")"
   ]
  },
  {
   "cell_type": "code",
   "execution_count": 595,
   "id": "d5837222",
   "metadata": {},
   "outputs": [
    {
     "data": {
      "text/html": [
       "<pre>&lt;qiskit.providers.models.backendstatus.BackendStatus object at 0x7f0361edb850&gt;</pre><b>name</b>: ibmq_qasm_simulator<br/><b>version</b>: 0.1.547, <b>pending jobs</b>: 6<br/><b>status</b>: active<br/>"
      ],
      "text/plain": [
       "<qiskit.providers.models.backendstatus.BackendStatus at 0x7f0361edb850>"
      ]
     },
     "execution_count": 595,
     "metadata": {},
     "output_type": "execute_result"
    }
   ],
   "source": [
    "service.backend(backend_name).status()"
   ]
  },
  {
   "cell_type": "code",
   "execution_count": 477,
   "id": "4ae15f0a",
   "metadata": {
    "scrolled": true
   },
   "outputs": [
    {
     "name": "stdout",
     "output_type": "stream",
     "text": [
      "Job ID: cb452sut8dnt32r4ss20\n",
      "Job status: JobStatus.RUNNING\n",
      "None\n"
     ]
    }
   ],
   "source": [
    "#job = service.job('cb3bmkqoit2rk73c3csg')\n",
    "print(f'Job ID: {job.job_id}')\n",
    "print(f'Job status: {job.status()}')\n",
    "print(job.error_message())"
   ]
  },
  {
   "cell_type": "code",
   "execution_count": 497,
   "id": "5fcdd345",
   "metadata": {},
   "outputs": [
    {
     "name": "stdout",
     "output_type": "stream",
     "text": [
      "-455.1354456708123 -455.1570667931492\n"
     ]
    },
    {
     "data": {
      "text/plain": [
       "['ADAPT-VQE terminated.',\n",
       " 'ADAPT cycle 4 value = -0.00084357220197262',\n",
       " 'VQE optimal params = [-0.02261678  0.02802148  0.01313245  0.12310369]',\n",
       " 'VQE optimal energy = -455.1579103653512',\n",
       " 'VQE complete',\n",
       " 'Optimization step #21: energy = -455.1579103653512',\n",
       " 'Optimization step #20: energy = -455.15300539637354',\n",
       " 'Optimization step #19: energy = -455.1545200256413',\n",
       " 'Optimization step #18: energy = -455.1559544337447',\n",
       " 'Optimization step #17: energy = -455.154671505651',\n",
       " 'Optimization step #16: energy = -455.15274538183985',\n",
       " 'Optimization step #15: energy = -455.1512517011288',\n",
       " 'Optimization step #14: energy = -455.15254820230166',\n",
       " 'Optimization step #13: energy = -455.1570047169518',\n",
       " 'Optimization step #12: energy = -455.152434017687',\n",
       " 'Optimization step #11: gradient norm = 0.04688445073189836',\n",
       " 'Optimization step #11: energy = -455.1575021133828',\n",
       " 'Optimization step #10: energy = -455.1529315190716',\n",
       " 'Optimization step #9: energy = -455.1531461385631',\n",
       " 'Optimization step #8: gradient norm = 0.056630339314484635',\n",
       " 'Optimization step #8: energy = -455.1564952207379',\n",
       " 'Optimization step #7: gradient norm = 0.0884281236117888',\n",
       " 'Optimization step #7: energy = -455.1554348094395',\n",
       " 'Optimization step #6: energy = -455.1499523013484',\n",
       " 'Optimization step #5: gradient norm = 0.11459311185260028',\n",
       " 'Optimization step #5: energy = -455.1548721436119',\n",
       " 'Optimization step #4: energy = -455.1342409360608',\n",
       " 'Optimization step #3: gradient norm = 0.12811416108664672',\n",
       " 'Optimization step #3: energy = -455.15215601504326',\n",
       " 'Optimization step #2: energy = -453.60158190714293',\n",
       " 'Optimization step #1: gradient norm = 0.9728794801507634',\n",
       " 'Optimization step #1: energy = -455.06140577888044',\n",
       " 'Optimization commencing',\n",
       " 'Optimal pool indices: [14, 12, 11, 3]',\n",
       " 'delta_15 = -0.0020348176100810633',\n",
       " 'delta_13 = 0.01412413739188878',\n",
       " 'delta_10 = -0.5528445862032072',\n",
       " 'delta_9 = -0.5796945456302751',\n",
       " 'delta_8 = -0.6119148477309295',\n",
       " 'delta_7 = -0.5568853343235105',\n",
       " 'delta_6 = -0.6119344809812901',\n",
       " 'delta_5 = -0.5930806776954114',\n",
       " 'delta_4 = -0.5864653467194785',\n",
       " 'delta_3 = -0.6241188996597771',\n",
       " 'delta_2 = -0.5537201699830234',\n",
       " 'delta_1 = -0.5982848107431664',\n",
       " 'delta_0 = -0.5625833838043945',\n",
       " '*** ADAPT cycle 4 ***',\n",
       " 'ADAPT cycle 3 value = 0.0025252131548541',\n",
       " 'VQE optimal params = [0.06290957 0.01221406 0.12649988]',\n",
       " 'VQE optimal energy = -455.1545415799944',\n",
       " 'VQE complete',\n",
       " 'Optimization step #15: energy = -455.1545415799944',\n",
       " 'Optimization step #14: energy = -455.1471695600834',\n",
       " 'Optimization step #13: energy = -455.1520606627497',\n",
       " 'Optimization step #12: energy = -455.153083807728',\n",
       " 'Optimization step #11: energy = -455.1503109603535',\n",
       " 'Optimization step #10: energy = -455.15394912200827',\n",
       " 'Optimization step #9: energy = -455.15202859529035',\n",
       " 'Optimization step #8: energy = -455.151734957661',\n",
       " 'Optimization step #7: energy = -455.1514837243493',\n",
       " 'Optimization step #6: energy = -455.1498995133469',\n",
       " 'Optimization step #5: energy = -455.1544145304389',\n",
       " 'Optimization step #4: gradient norm = 0.04731442451912169',\n",
       " 'Optimization step #4: energy = -455.1547151715192',\n",
       " 'Optimization step #3: gradient norm = 0.07795671246986235',\n",
       " 'Optimization step #3: energy = -455.1523956591682',\n",
       " 'Optimization step #2: energy = -454.52553065924775',\n",
       " 'Optimization step #1: gradient norm = 0.7166988073544618',\n",
       " 'Optimization step #1: energy = -455.0898463035654',\n",
       " 'Optimization commencing',\n",
       " 'Optimal pool indices: [14, 12, 11]',\n",
       " 'delta_15 = -0.01926961698853802',\n",
       " 'delta_13 = -0.010326922514423131',\n",
       " 'delta_11 = -0.5712119115754604',\n",
       " 'delta_10 = -0.5571717951439723',\n",
       " 'delta_9 = -0.5495018083481114',\n",
       " 'delta_8 = -0.5531192725043184',\n",
       " 'delta_7 = -0.5400494013613866',\n",
       " 'delta_6 = -0.5472318398532252',\n",
       " 'delta_5 = -0.5480814753914274',\n",
       " 'delta_4 = -0.5062814653128385',\n",
       " 'delta_3 = -0.5563699014674626',\n",
       " 'delta_2 = -0.5362867185147593',\n",
       " 'delta_1 = -0.5433537738186374',\n",
       " 'delta_0 = -0.5425524539578532',\n",
       " '*** ADAPT cycle 3 ***',\n",
       " 'ADAPT cycle 2 value = 0.0031091436313204213',\n",
       " 'VQE optimal params = [0.00111725 0.10785649]',\n",
       " 'VQE optimal energy = -455.1539576495179',\n",
       " 'VQE complete',\n",
       " 'Optimization step #20: energy = -455.1539576495179',\n",
       " 'Optimization step #19: energy = -455.150267198648',\n",
       " 'Optimization step #18: energy = -455.1507966854688',\n",
       " 'Optimization step #17: energy = -455.1506101276559',\n",
       " 'Optimization step #16: energy = -455.1508319282013',\n",
       " 'Optimization step #15: energy = -455.1525912167397',\n",
       " 'Optimization step #14: energy = -455.1538234349449',\n",
       " 'Optimization step #13: energy = -455.15237661077043',\n",
       " 'Optimization step #12: energy = -455.14923860371465',\n",
       " 'Optimization step #11: energy = -455.1405429930277',\n",
       " 'Optimization step #10: energy = -454.5749206598589',\n",
       " 'Optimization step #9: gradient norm = 0.03478612505003942',\n",
       " 'Optimization step #9: energy = -455.1543989734506',\n",
       " 'Optimization step #8: energy = -455.15171475053756',\n",
       " 'Optimization step #7: energy = -455.1515253668088',\n",
       " 'Optimization step #6: energy = -455.15211642850545',\n",
       " 'Optimization step #5: energy = -455.1518841360961',\n",
       " 'Optimization step #4: gradient norm = 0.047419558248738114',\n",
       " 'Optimization step #4: energy = -455.1531231999423',\n",
       " 'Optimization step #3: gradient norm = 0.13271468387096857',\n",
       " 'Optimization step #3: energy = -455.15045133867307',\n",
       " 'Optimization step #2: energy = -454.41626558229416',\n",
       " 'Optimization step #1: gradient norm = 0.7796000613162891',\n",
       " 'Optimization step #1: energy = -455.08365621704996',\n",
       " 'Optimization commencing',\n",
       " 'Optimal pool indices: [14, 12]',\n",
       " 'delta_15 = 0.011397166156712046',\n",
       " 'delta_13 = 0.016984845093816148',\n",
       " 'delta_12 = -0.5922951109978385',\n",
       " 'delta_11 = -0.294375322685255',\n",
       " 'delta_10 = -0.2394737701666827',\n",
       " 'delta_9 = -0.2506747832153451',\n",
       " 'delta_8 = -0.2953204275311805',\n",
       " 'delta_7 = -0.23338677285198628',\n",
       " 'delta_6 = -0.325506444632083',\n",
       " 'delta_5 = -0.31333808242118266',\n",
       " 'delta_4 = -0.23018821858249794',\n",
       " 'delta_3 = -0.3105863829360942',\n",
       " 'delta_2 = -0.2587427131417144',\n",
       " 'delta_1 = -0.3023178084473557',\n",
       " 'delta_0 = -0.3390076697946256',\n",
       " '*** ADAPT cycle 2 ***',\n",
       " 'ADAPT cycle 1 value = 0.005162137350623652',\n",
       " 'VQE optimal params = [0.11811224]',\n",
       " 'VQE optimal energy = -455.1519046557986',\n",
       " 'VQE complete',\n",
       " 'Optimization step #3: gradient norm = 0.001053865213066274',\n",
       " 'Optimization step #3: energy = -455.1519046557986',\n",
       " 'Optimization step #2: energy = -455.1238284219788',\n",
       " 'Optimization step #1: gradient norm = 0.2706962812052325',\n",
       " 'Optimization step #1: energy = -455.1345215246305',\n",
       " 'Optimization commencing',\n",
       " 'Optimal pool indices: [14]',\n",
       " 'delta_15 = -0.3047729018046539',\n",
       " 'delta_14 = -0.3130028033706935',\n",
       " 'delta_13 = -0.2766835858080299',\n",
       " 'delta_12 = 0.29782311660642335',\n",
       " 'delta_11 = -0.07553649237348736',\n",
       " 'delta_10 = 0.04787842897661676',\n",
       " 'delta_9 = 0.047815593541031376',\n",
       " 'delta_8 = -0.09886848029560724',\n",
       " 'delta_7 = 0.08120241596554933',\n",
       " 'delta_6 = -0.07993453727141286',\n",
       " 'delta_5 = -0.07926768627243064',\n",
       " 'delta_4 = 0.07344094211623542',\n",
       " 'delta_3 = 0.12661078700506323',\n",
       " 'delta_2 = -0.14165957373529636',\n",
       " 'delta_1 = -0.11062738037043118',\n",
       " 'delta_0 = 0.1084854629401093',\n",
       " '*** ADAPT cycle 1 ***']"
      ]
     },
     "execution_count": 497,
     "metadata": {},
     "output_type": "execute_result"
    }
   ],
   "source": [
    "print(molecule.hf_energy, molecule.fci_energy)\n",
    "job.interim_results()"
   ]
  },
  {
   "cell_type": "code",
   "execution_count": 498,
   "id": "58cfae55",
   "metadata": {},
   "outputs": [
    {
     "data": {
      "text/plain": [
       "{'optimal_energy': -455.1579103653512,\n",
       " 'optimal_params': array([-0.02261678,  0.02802148,  0.01313245,  0.12310369]),\n",
       " 'optimal_pool_indices': [14, 12, 11, 3],\n",
       " 'optimal_pool_labels': ['YXX', 'XXY', 'YZX', 'ZZY']}"
      ]
     },
     "execution_count": 498,
     "metadata": {},
     "output_type": "execute_result"
    }
   ],
   "source": [
    "adapt_vqe_result, adapt_vqe_interim_data = job.result()\n",
    "adapt_vqe_result"
   ]
  },
  {
   "cell_type": "code",
   "execution_count": 602,
   "id": "34aba9fc",
   "metadata": {},
   "outputs": [
    {
     "data": {
      "image/png": "[encoded data removed]",
      "text/plain": [
       "<Figure size 432x288 with 1 Axes>"
      ]
     },
     "metadata": {
      "needs_background": "light"
     },
     "output_type": "display_data"
    }
   ],
   "source": [
    "from matplotlib import pyplot as plt\n",
    "\n",
    "fig, axis = plt.subplots()\n",
    "plt.rc('hatch', color='k', linewidth=5)\n",
    "\n",
    "X_shift = 0\n",
    "n_cycles = len(adapt_vqe_interim_data)\n",
    "prev_best = None\n",
    "    \n",
    "for index in range(1, n_cycles+1):\n",
    "    adapt_data = adapt_vqe_interim_data[str(index)]\n",
    "    c = plt.cm.jet(index/n_cycles)\n",
    "    converged_value = adapt_data['vqe_result']['fun']\n",
    "    interim_results = adapt_data['interim_results']\n",
    "    \n",
    "    X,Y_stddev = zip(*interim_results['stddev'])\n",
    "    Y_stddev = Y_stddev\n",
    "    X,Y = zip(*interim_results['values'])\n",
    "    X,Y = np.array(X)+X_shift, np.array(Y)\n",
    "\n",
    "    Y_error = Y - molecule.fci_energy\n",
    "    axis.plot(X, Y_error, color=c, label='Optimizer output')\n",
    "    plt.fill_between(X, Y_error - Y_stddev, Y_error + Y_stddev, alpha=0.2, color='black')\n",
    "    \n",
    "    if prev_best is not None:\n",
    "        plt.vlines(X_shift+1, Y_error[0], prev_best, color=c, ls=':')\n",
    "    X_shift += len(X)-1\n",
    "    prev_best = Y_error[-1]\n",
    "\n",
    "axis.hlines(molecule.mp2_energy - molecule.fci_energy, 1, X_shift+2, color='orange', label='MP2 energy')\n",
    "axis.hlines(molecule.hf_energy - molecule.fci_energy, 1, X_shift+2, color='red', label='HF energy')\n",
    "axis.fill_between(np.arange(X_shift+2), -0.0016, 0.0016, alpha=0.3, color='green', label='Chemical accuracy', hatch=r\"//\")\n",
    "axis.plot([], [], alpha=0.5, marker='o', ls='--', label='Parameter gradient norm')\n",
    "\n",
    "axis.set_xlabel('nfev')\n",
    "axis.set_ylabel('Energy error [Ha]')\n",
    "axis.set_ylim([-0.01, (molecule.hf_energy - molecule.fci_energy)*1.2])\n",
    "#axis.set_yscale('log')\n",
    "#axis.set_ylim([1e-6, 1e1])\n",
    "plt.show()"
   ]
  },
  {
   "cell_type": "markdown",
   "id": "2ecb0bc9",
   "metadata": {},
   "source": [
    "# Now perform a high-fidelity VQE simulation of the ADAPT ansatz circuit"
   ]
  },
  {
   "cell_type": "code",
   "execution_count": 538,
   "id": "a8fc91e8",
   "metadata": {},
   "outputs": [
    {
     "data": {
      "text/html": [
       "<pre style=\"word-wrap: normal;white-space: pre;background: #fff0;line-height: 1.1;font-family: &quot;Courier New&quot;,Courier,monospace\">           ░  ░ ┌─────┐┌───┐                                   ┌───┐┌───┐ ░ »\n",
       "q_0: ──────░──░─┤ Sdg ├┤ H ├──■─────────────────────────────■──┤ H ├┤ S ├─░─»\n",
       "     ┌───┐ ░  ░ └─────┘└───┘┌─┴─┐                         ┌─┴─┐└───┘└───┘ ░ »\n",
       "q_1: ┤ X ├─░──░─────────────┤ X ├──■───────────────────■──┤ X ├───────────░─»\n",
       "     ├───┤ ░  ░             └───┘┌─┴─┐┌─────────────┐┌─┴─┐└───┘           ░ »\n",
       "q_2: ┤ X ├─░──░──────────────────┤ X ├┤ Rz(-2*P[0]) ├┤ X ├────────────────░─»\n",
       "     └───┘ ░  ░                  └───┘└─────────────┘└───┘                ░ »\n",
       "«      ┌───┐                                    ┌───┐ ░ ┌─────┐┌───┐          »\n",
       "«q_0: ─┤ H ├───■─────────────────────────────■──┤ H ├─░─┤ Sdg ├┤ H ├──■───────»\n",
       "«      └───┘ ┌─┴─┐                         ┌─┴─┐└───┘ ░ └┬───┬┘└───┘┌─┴─┐     »\n",
       "«q_1: ───────┤ X ├──■───────────────────■──┤ X ├──────░──┤ H ├──────┤ X ├──■──»\n",
       "«     ┌─────┐├───┤┌─┴─┐┌─────────────┐┌─┴─┐├───┤┌───┐ ░  ├───┤      └───┘┌─┴─┐»\n",
       "«q_2: ┤ Sdg ├┤ H ├┤ X ├┤ Rz(-2*P[1]) ├┤ X ├┤ H ├┤ S ├─░──┤ H ├───────────┤ X ├»\n",
       "«     └─────┘└───┘└───┘└─────────────┘└───┘└───┘└───┘ ░  └───┘           └───┘»\n",
       "«                              ┌───┐┌───┐ ░  ┌───┐                          »\n",
       "«q_0: ──────────────────────■──┤ H ├┤ S ├─░──┤ H ├───■──────────────────────»\n",
       "«                         ┌─┴─┐├───┤└───┘ ░  ├───┤ ┌─┴─┐                    »\n",
       "«q_1: ─────────────────■──┤ X ├┤ H ├──────░──┤ H ├─┤ X ├──■─────────────────»\n",
       "«     ┌─────────────┐┌─┴─┐├───┤└───┘      ░ ┌┴───┴┐├───┤┌─┴─┐┌─────────────┐»\n",
       "«q_2: ┤ Rz(-2*P[2]) ├┤ X ├┤ H ├───────────░─┤ Sdg ├┤ H ├┤ X ├┤ Rz(-2*P[3]) ├»\n",
       "«     └─────────────┘└───┘└───┘           ░ └─────┘└───┘└───┘└─────────────┘»\n",
       "«               ┌───┐ ░ \n",
       "«q_0: ───────■──┤ H ├─░─\n",
       "«          ┌─┴─┐├───┤ ░ \n",
       "«q_1: ──■──┤ X ├┤ H ├─░─\n",
       "«     ┌─┴─┐├───┤├───┤ ░ \n",
       "«q_2: ┤ X ├┤ H ├┤ S ├─░─\n",
       "«     └───┘└───┘└───┘ ░ </pre>"
      ],
      "text/plain": [
       "           ░  ░ ┌─────┐┌───┐                                   ┌───┐┌───┐ ░ »\n",
       "q_0: ──────░──░─┤ Sdg ├┤ H ├──■─────────────────────────────■──┤ H ├┤ S ├─░─»\n",
       "     ┌───┐ ░  ░ └─────┘└───┘┌─┴─┐                         ┌─┴─┐└───┘└───┘ ░ »\n",
       "q_1: ┤ X ├─░──░─────────────┤ X ├──■───────────────────■──┤ X ├───────────░─»\n",
       "     ├───┤ ░  ░             └───┘┌─┴─┐┌─────────────┐┌─┴─┐└───┘           ░ »\n",
       "q_2: ┤ X ├─░──░──────────────────┤ X ├┤ Rz(-2*P[0]) ├┤ X ├────────────────░─»\n",
       "     └───┘ ░  ░                  └───┘└─────────────┘└───┘                ░ »\n",
       "«      ┌───┐                                    ┌───┐ ░ ┌─────┐┌───┐          »\n",
       "«q_0: ─┤ H ├───■─────────────────────────────■──┤ H ├─░─┤ Sdg ├┤ H ├──■───────»\n",
       "«      └───┘ ┌─┴─┐                         ┌─┴─┐└───┘ ░ └┬───┬┘└───┘┌─┴─┐     »\n",
       "«q_1: ───────┤ X ├──■───────────────────■──┤ X ├──────░──┤ H ├──────┤ X ├──■──»\n",
       "«     ┌─────┐├───┤┌─┴─┐┌─────────────┐┌─┴─┐├───┤┌───┐ ░  ├───┤      └───┘┌─┴─┐»\n",
       "«q_2: ┤ Sdg ├┤ H ├┤ X ├┤ Rz(-2*P[1]) ├┤ X ├┤ H ├┤ S ├─░──┤ H ├───────────┤ X ├»\n",
       "«     └─────┘└───┘└───┘└─────────────┘└───┘└───┘└───┘ ░  └───┘           └───┘»\n",
       "«                              ┌───┐┌───┐ ░  ┌───┐                          »\n",
       "«q_0: ──────────────────────■──┤ H ├┤ S ├─░──┤ H ├───■──────────────────────»\n",
       "«                         ┌─┴─┐├───┤└───┘ ░  ├───┤ ┌─┴─┐                    »\n",
       "«q_1: ─────────────────■──┤ X ├┤ H ├──────░──┤ H ├─┤ X ├──■─────────────────»\n",
       "«     ┌─────────────┐┌─┴─┐├───┤└───┘      ░ ┌┴───┴┐├───┤┌─┴─┐┌─────────────┐»\n",
       "«q_2: ┤ Rz(-2*P[2]) ├┤ X ├┤ H ├───────────░─┤ Sdg ├┤ H ├┤ X ├┤ Rz(-2*P[3]) ├»\n",
       "«     └─────────────┘└───┘└───┘           ░ └─────┘└───┘└───┘└─────────────┘»\n",
       "«               ┌───┐ ░ \n",
       "«q_0: ───────■──┤ H ├─░─\n",
       "«          ┌─┴─┐├───┤ ░ \n",
       "«q_1: ──■──┤ X ├┤ H ├─░─\n",
       "«     ┌─┴─┐├───┤├───┤ ░ \n",
       "«q_2: ┤ X ├┤ H ├┤ S ├─░─\n",
       "«     └───┘└───┘└───┘ ░ "
      ]
     },
     "execution_count": 538,
     "metadata": {},
     "output_type": "execute_result"
    }
   ],
   "source": [
    "anz_cs_adapt = sum([anz_cs[i] for i in [14, 12, 11, 3]])\n",
    "anz_cs_adapt = AnsatzOp(anz_cs_adapt.symp_matrix, anz_cs_adapt.coeff_vec)\n",
    "excitation_circuit = anz_cs_adapt.to_QuantumCircuit(bind_params=False)\n",
    "\n",
    "ansatz = QuantumCircuit(n_qubits)\n",
    "for i in np.where(ref_cs)[0]:\n",
    "    ansatz.x(n_qubits-1-i)\n",
    "ansatz.barrier()\n",
    "ansatz = ansatz.compose(excitation_circuit)\n",
    "\n",
    "ansatz.draw()"
   ]
  },
  {
   "cell_type": "code",
   "execution_count": 575,
   "id": "5e001ec7",
   "metadata": {},
   "outputs": [],
   "source": [
    "inputs = {\n",
    "    #observable\n",
    "        \"observable\": ham_cs.to_PauliSumOp,\n",
    "        \"observable_groups\": [op.to_PauliSumOp for op in QWC_decomposition],\n",
    "    # standard VQE\n",
    "        \"ansatz_circuit\": ansatz,\n",
    "        \"init_params\": np.zeros(ansatz.num_parameters),\n",
    "    # optimizer settings\n",
    "        \"optimizer\": 'SLSQP',\n",
    "        \"opt_setting\": {\"maxiter\":10, \"gtol\": 1e-6},\n",
    "    # expectation value estimation options\n",
    "        \"n_shots\": 2**12, # 18 < np.log2(0.0016**-2) < 19\n",
    "        \"n_realize\":5,\n",
    "        \"mitigate_errors\": True\n",
    "}"
   ]
  },
  {
   "cell_type": "code",
   "execution_count": 576,
   "id": "60c9c0c6",
   "metadata": {},
   "outputs": [],
   "source": [
    "job = service.run(\n",
    "    program_id=program_id, \n",
    "    options=options, \n",
    "    inputs=inputs,\n",
    "    instance='ibm-q/open/main'\n",
    ")"
   ]
  },
  {
   "cell_type": "code",
   "execution_count": 617,
   "id": "7d03d01c",
   "metadata": {},
   "outputs": [
    {
     "name": "stdout",
     "output_type": "stream",
     "text": [
      "Job ID: cb45asrshjg0cvoguvng\n",
      "Job status: JobStatus.QUEUED\n",
      "None\n"
     ]
    },
    {
     "data": {
      "text/html": [
       "<pre>&lt;qiskit.providers.models.backendstatus.BackendStatus object at 0x7f03e4bdb130&gt;</pre><b>name</b>: ibmq_qasm_simulator<br/><b>version</b>: 0.1.547, <b>pending jobs</b>: 3<br/><b>status</b>: active<br/>"
      ],
      "text/plain": [
       "<qiskit.providers.models.backendstatus.BackendStatus at 0x7f03e4bdb130>"
      ]
     },
     "execution_count": 617,
     "metadata": {},
     "output_type": "execute_result"
    }
   ],
   "source": [
    "#job = service.job('cb3bmkqoit2rk73c3csg')\n",
    "print(f'Job ID: {job.job_id}')\n",
    "print(f'Job status: {job.status()}')\n",
    "print(job.error_message())\n",
    "service.backend(backend_name).status()"
   ]
  },
  {
   "cell_type": "code",
   "execution_count": 601,
   "id": "4ecc18e3",
   "metadata": {},
   "outputs": [
    {
     "name": "stdout",
     "output_type": "stream",
     "text": [
      "-455.1354456708123 -455.1570667931492\n"
     ]
    }
   ],
   "source": [
    "print(molecule.hf_energy, molecule.fci_energy)\n",
    "job.interim_results()"
   ]
  },
  {
   "cell_type": "code",
   "execution_count": null,
   "id": "9b6018e6",
   "metadata": {},
   "outputs": [],
   "source": [
    "#vqe_result, interim_values = job.result()"
   ]
  },
  {
   "cell_type": "code",
   "execution_count": 150,
   "id": "d29a3b29",
   "metadata": {},
   "outputs": [
    {
     "data": {
      "image/png": "[encoded data removed]",
      "text/plain": [
       "<Figure size 432x288 with 1 Axes>"
      ]
     },
     "metadata": {
      "needs_background": "light"
     },
     "output_type": "display_data"
    }
   ],
   "source": [
    "from matplotlib import pyplot as plt\n",
    "\n",
    "plt.rc('hatch', color='k', linewidth=5)\n",
    "fig, axis = plt.subplots()\n",
    "#while not job.status().value == 'job has successfully run':\n",
    "X,Y_stddev = zip(*interim_values['stddev'])\n",
    "X,Y = zip(*interim_values['values'])\n",
    "X,Y = np.array(X), np.array(Y)\n",
    "axis.hlines(molecule.mp2_energy - molecule.fci_energy, 1, len(X), color='orange', label='MP2 energy')\n",
    "axis.hlines(molecule.hf_energy - molecule.fci_energy, 1, len(X), color='red', label='HF energy')\n",
    "#axis.hlines(2*0.0016, 1, len(X), color='green', label='Chemical accuracy * 2')\n",
    "#axis.hlines(0.0016, 1, len(X), color='lime', label='Chemical accuracy')\n",
    "#axis.hlines(-0.0016, 1, len(X), color='lime', label='Chemical accuracy')\n",
    "axis.fill_between(X, -0.0016, 0.0016, alpha=0.3, color='green', label='Chemical accuracy', hatch=r\"//\")\n",
    "axis.plot([], [], alpha=0.5, marker='o', ls='--', label='Parameter gradient norm')\n",
    "\n",
    "Y_error = Y - molecule.fci_energy\n",
    "Y_lower = Y_error - Y_stddev\n",
    "Y_upper = Y_error + Y_stddev\n",
    "axis.plot(X, Y_error, color='black', label='Optimizer output')\n",
    "axis.hlines(vqe_result['fun'] - molecule.fci_energy, 1, len(X), color='black', label='Converged energy', ls='--')\n",
    "plt.fill_between(X, Y_lower, Y_upper, alpha=0.2, color='black')\n",
    "\n",
    "axis.set_xlabel('nfev')\n",
    "axis.set_ylabel('Energy error [Ha]')\n",
    "axis.set_ylim([np.min(Y_error)*2,(molecule.hf_energy-molecule.fci_energy)*2])\n",
    "#axis.set_yscale('log')\n",
    "\n",
    "#try:\n",
    "#    axis_param = axis.twinx()\n",
    "#    X_grad, Y_grads = zip(*interim_values['gradients'])\n",
    "#    Y_grad_norm = [np.sqrt(np.sum(np.square(grad))) for grad in Y_grads]\n",
    "#    axis_param.plot(X_grad, Y_grad_norm, alpha=0.5, marker='o', ls='--')\n",
    "#    axis_param.set_ylabel('Parameter gradient norm $||\\Delta||$')\n",
    "    #for param_grad in zip(*Y_grads):\n",
    "    #    axis_param.plot(X_grad, param_grad, alpha=0.2)\n",
    "#except:\n",
    "#    pass\n",
    "\n",
    "fig.legend()\n",
    "plt.show()"
   ]
  },
  {
   "cell_type": "markdown",
   "id": "3aa62486",
   "metadata": {},
   "source": [
    "# program metadata"
   ]
  },
  {
   "cell_type": "code",
   "execution_count": 11,
   "id": "c6e724fa",
   "metadata": {},
   "outputs": [],
   "source": [
    "meta = {\n",
    "    \"name\": \"symmer_vqe\",\n",
    "    \"description\": \"VQE program using symmer\",\n",
    "    \"max_execution_time\": 100000,\n",
    "    \"spec\": {},\n",
    "}"
   ]
  },
  {
   "cell_type": "code",
   "execution_count": 12,
   "id": "93444b19",
   "metadata": {},
   "outputs": [],
   "source": [
    "meta[\"spec\"][\"parameters\"] = {\n",
    "    \"$schema\": \"https://json-schema.org/draft/2019-09/schema\",\n",
    "    \"properties\": {\n",
    "        \"adapt_flag\": {\n",
    "            \"description\": \"Indicates whether ADAPT-VQE should be performed.\",\n",
    "            \"type\": \"bool\",\n",
    "            \"default\": \"True\",\n",
    "        },\n",
    "        \"adapt_max_cycles\": {\n",
    "            \"description\": \"The maximum number of ADAPT-VQE cycles.\",\n",
    "            \"type\": \"integer\",\n",
    "            \"default\": \"5\",\n",
    "        },\n",
    "        \"adapt_termination_threshold\": {\n",
    "            \"description\": \"ADAPT-VQE will terminate upon achieving this threshold.\",\n",
    "            \"type\": \"float\",\n",
    "            \"default\": \"0.1\",\n",
    "        },\n",
    "        \"ansatz_circuit\": {\n",
    "            \"description\": \"Parametrized Ansatz\",\n",
    "            \"type\": \"QuantumCircuit\",\n",
    "            \"default\": \"None\",\n",
    "        },\n",
    "        \"ansatz_pool\": {\n",
    "            \"description\": \"The operator whose terms shall be taken as the excitation pool for ADAPT-VQE.\",\n",
    "            \"type\": \"PauliSumOp\",\n",
    "            \"default\": \"None\",\n",
    "        },\n",
    "        \"observable_groups\": {\n",
    "            \"description\": \"Decomposition of operator into groups, e.g. qubit-wise commuting\",\n",
    "            \"type\": \"List[Union[PauliSumOp, PauliOp]]\",\n",
    "            \"default\": \"None\"\n",
    "        },\n",
    "        \"observable\": {\n",
    "            \"description\": \"The observable on which we wish to perform eigenvalue estimation\",\n",
    "            \"type\": \"PauliSumOp\",\n",
    "            \"default\": \"None\",\n",
    "        },\n",
    "        \"opt_setting\": {\n",
    "            \"description\": \"Optimizer settings\",\n",
    "            \"type\": \"dict\",\n",
    "            \"default\": \"{'maxiter':10}\",\n",
    "        },\n",
    "        \"init_params\": {\n",
    "            \"description\": \"Initial vector of parameters. This is a numpy array.\",\n",
    "            \"type\": \"array\",\n",
    "            \"default\": \"None\",\n",
    "        },\n",
    "        \"n_shots\": {\n",
    "            \"description\": \"The number of shots used for each circuit evaluation.\",\n",
    "            \"type\": \"integer\",\n",
    "            \"default\": \"2**12\",\n",
    "        },\n",
    "        \"n_realize\": {\n",
    "            \"description\": \"The number of realizations of each energy estimation - these are averaged over.\",\n",
    "            \"type\": \"integer\",\n",
    "            \"default\": \"1\",\n",
    "        },\n",
    "        \"n_groups\": {\n",
    "            \"description\": \"The number of classical shadow groups.\",\n",
    "            \"type\": \"integer\",\n",
    "            \"default\": \"5\",\n",
    "        },\n",
    "        \"mitigate_errors\": {\n",
    "            \"description\": \"Use matrix-free measurement mitigation (mthree), default=False.\",\n",
    "            \"type\": \"boolean\",\n",
    "            \"default\": \"True\",\n",
    "        },\n",
    "        \"reference_energy\": {\n",
    "            \"description\": \"A target energy, such as full-configuration-interaction (FCI) if it is available.\",\n",
    "            \"type\": \"float\",\n",
    "            \"default\": \"None\",\n",
    "        },\n",
    "        \"reference_state\": {\n",
    "            \"description\": \"A single basis state in which to initiate the ansatz circuit.\",\n",
    "            \"type\": \"array\",\n",
    "            \"default\": \"None\",\n",
    "        },\n",
    "    },\n",
    "    \"required\": [],\n",
    "}\n",
    "\n",
    "meta[\"spec\"][\"return_values\"] = {\n",
    "    \"$schema\": \"https://json-schema.org/draft/2019-09/schema\",\n",
    "    \"description\": \"Tuple of final result in SciPy optimizer format and dictionary of interim values\",\n",
    "    \"type\": \"Tuple[scipy.optimize.optimize.OptimizeResult, Dict]\",\n",
    "}\n",
    "\n",
    "meta[\"spec\"][\"interim_results\"] = {\n",
    "    \"$schema\": \"https://json-schema.org/draft/2019-09/schema\",\n",
    "    \"description\": \"Parameter vector at current optimization step. This is a numpy array.\",\n",
    "    \"type\": \"array\",\n",
    "}"
   ]
  }
 ],
 "metadata": {
  "kernelspec": {
   "display_name": "Python 3 (ipykernel)",
   "language": "python",
   "name": "python3"
  },
  "language_info": {
   "codemirror_mode": {
    "name": "ipython",
    "version": 3
   },
   "file_extension": ".py",
   "mimetype": "text/x-python",
   "name": "python",
   "nbconvert_exporter": "python",
   "pygments_lexer": "ipython3",
   "version": "3.8.8"
  }
 },
 "nbformat": 4,
 "nbformat_minor": 5
}
