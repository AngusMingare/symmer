{
 "cells": [
  {
   "cell_type": "code",
   "execution_count": 1,
   "id": "c72945b3",
   "metadata": {},
   "outputs": [],
   "source": [
    "from symmer.symplectic import get_PauliwordOp_projector, PauliwordOp, QuantumState"
   ]
  },
  {
   "cell_type": "code",
   "execution_count": 5,
   "id": "0de88654",
   "metadata": {},
   "outputs": [
    {
     "data": {
      "text/plain": [
       "-0.033-0.108j |000> +\n",
       "-0.127-0.254j |001> +\n",
       "-0.365-0.027j |010> +\n",
       " 0.248-0.218j |011> +\n",
       " 0.566+0.239j |100> +\n",
       "-0.456-0.127j |101> +\n",
       "-0.143+0.155j |110> +\n",
       "-0.131+0.014j |111>"
      ]
     },
     "execution_count": 5,
     "metadata": {},
     "output_type": "execute_result"
    }
   ],
   "source": [
    "test = QuantumState.haar_random(3, vec_type='ket')\n",
    "test"
   ]
  },
  {
   "cell_type": "code",
   "execution_count": 7,
   "id": "59946fa4",
   "metadata": {},
   "outputs": [],
   "source": [
    "proj = get_PauliwordOp_projector('II0')"
   ]
  },
  {
   "cell_type": "code",
   "execution_count": 8,
   "id": "722afb93",
   "metadata": {},
   "outputs": [
    {
     "data": {
      "text/plain": [
       "-0.033-0.108j |000> +\n",
       "-0.365-0.027j |010> +\n",
       " 0.566+0.239j |100> +\n",
       "-0.143+0.155j |110>"
      ]
     },
     "execution_count": 8,
     "metadata": {},
     "output_type": "execute_result"
    }
   ],
   "source": [
    "proj*test"
   ]
  },
  {
   "cell_type": "code",
   "execution_count": 15,
   "id": "cd079f1e",
   "metadata": {},
   "outputs": [
    {
     "data": {
      "text/plain": [
       "-0.080-0.181j |000> +\n",
       "-0.080-0.181j |001> +\n",
       " 0.055+0.056j |100> +\n",
       " 0.055+0.056j |101>"
      ]
     },
     "execution_count": 15,
     "metadata": {},
     "output_type": "execute_result"
    }
   ],
   "source": [
    "proj_plus = get_PauliwordOp_projector('I0+')\n",
    "\n",
    "proj_plus*test"
   ]
  },
  {
   "cell_type": "code",
   "execution_count": 16,
   "id": "5829214a",
   "metadata": {},
   "outputs": [
    {
     "data": {
      "text/plain": [
       " 0.707+0.000j IIZ +\n",
       " 0.707+0.000j IIX"
      ]
     },
     "execution_count": 16,
     "metadata": {},
     "output_type": "execute_result"
    }
   ],
   "source": [
    "from symmer.evolution.gate_library import Had\n",
    "\n",
    "H3 = Had(n_qubits=3, index=2)\n",
    "H3"
   ]
  },
  {
   "cell_type": "code",
   "execution_count": 17,
   "id": "04400965",
   "metadata": {},
   "outputs": [
    {
     "data": {
      "text/plain": [
       "-0.114-0.256j |000> +\n",
       " 0.078+0.079j |100>"
      ]
     },
     "execution_count": 17,
     "metadata": {},
     "output_type": "execute_result"
    }
   ],
   "source": [
    "H3*proj_plus*test"
   ]
  },
  {
   "cell_type": "code",
   "execution_count": null,
   "id": "008c6411",
   "metadata": {},
   "outputs": [],
   "source": []
  }
 ],
 "metadata": {
  "kernelspec": {
   "display_name": "Python 3 (ipykernel)",
   "language": "python",
   "name": "python3"
  },
  "language_info": {
   "codemirror_mode": {
    "name": "ipython",
    "version": 3
   },
   "file_extension": ".py",
   "mimetype": "text/x-python",
   "name": "python",
   "nbconvert_exporter": "python",
   "pygments_lexer": "ipython3",
   "version": "3.9.7"
  }
 },
 "nbformat": 4,
 "nbformat_minor": 5
}
