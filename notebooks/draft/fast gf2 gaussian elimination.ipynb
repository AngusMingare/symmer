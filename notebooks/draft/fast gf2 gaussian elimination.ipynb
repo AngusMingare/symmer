{
 "cells": [
  {
   "cell_type": "code",
   "execution_count": 1,
   "id": "42b49255",
   "metadata": {},
   "outputs": [],
   "source": [
    "from symmer.utils import gf2_gaus_elim\n",
    "from symmer.utils import random_symplectic_matrix"
   ]
  },
  {
   "cell_type": "code",
   "execution_count": 122,
   "id": "89823b2e",
   "metadata": {},
   "outputs": [
    {
     "data": {
      "text/plain": [
       "array([[0, 1, 1, ..., 1, 1, 1],\n",
       "       [0, 1, 0, ..., 0, 1, 1],\n",
       "       [0, 0, 0, ..., 0, 0, 0],\n",
       "       ...,\n",
       "       [0, 0, 0, ..., 0, 0, 1],\n",
       "       [1, 0, 0, ..., 1, 0, 0],\n",
       "       [1, 1, 1, ..., 0, 1, 0]])"
      ]
     },
     "execution_count": 122,
     "metadata": {},
     "output_type": "execute_result"
    }
   ],
   "source": [
    "B = random_symplectic_matrix(50,100000)\n",
    "B"
   ]
  },
  {
   "cell_type": "code",
   "execution_count": 12,
   "id": "8689e519",
   "metadata": {},
   "outputs": [
    {
     "name": "stdout",
     "output_type": "stream",
     "text": [
      "580 µs ± 29.3 µs per loop (mean ± std. dev. of 7 runs, 1000 loops each)\n"
     ]
    }
   ],
   "source": [
    "%timeit gf2_gaus_elim(B)"
   ]
  },
  {
   "cell_type": "code",
   "execution_count": 74,
   "id": "d361ac10",
   "metadata": {},
   "outputs": [],
   "source": [
    "B = np.array([\n",
    "    [1,1,0,0],\n",
    "    [1,1,0,1],\n",
    "    [0,1,1,1],\n",
    "    [0,0,1,0],\n",
    "    [0,0,0,1]\n",
    "])"
   ]
  },
  {
   "cell_type": "code",
   "execution_count": 87,
   "id": "e59fc3a8",
   "metadata": {},
   "outputs": [
    {
     "name": "stdout",
     "output_type": "stream",
     "text": [
      "[[0 0 0 0 1 1]\n",
      " [1 0 0 1 1 0]\n",
      " [0 1 1 1 1 1]\n",
      " [0 1 1 1 0 0]\n",
      " [1 0 0 0 0 1]\n",
      " [1 0 0 1 1 0]]\n",
      "[[0 0 0 0 1 1]\n",
      " [1 0 0 0 1 0]\n",
      " [0 1 1 1 1 1]\n",
      " [0 1 1 1 0 0]\n",
      " [1 0 0 1 0 1]\n",
      " [1 0 0 0 1 0]]\n",
      "[[0 0 0 0 1 1]\n",
      " [1 0 0 0 0 0]\n",
      " [0 1 1 1 1 1]\n",
      " [0 1 1 1 0 0]\n",
      " [1 0 0 1 1 1]\n",
      " [1 0 0 0 0 0]]\n",
      "[[0 0 0 0 1 1]\n",
      " [1 0 0 0 0 0]\n",
      " [0 1 0 1 1 1]\n",
      " [0 1 0 1 0 0]\n",
      " [1 0 0 1 1 1]\n",
      " [1 0 0 0 0 0]]\n",
      "[[0 0 0 0 1 1]\n",
      " [1 0 0 0 0 0]\n",
      " [0 1 0 0 1 1]\n",
      " [0 1 0 0 0 0]\n",
      " [1 0 0 1 1 1]\n",
      " [1 0 0 0 0 0]]\n",
      "[[0 0 0 0 1 1]\n",
      " [1 0 0 0 0 0]\n",
      " [0 1 0 0 0 1]\n",
      " [0 1 0 0 1 0]\n",
      " [1 0 0 1 1 1]\n",
      " [1 0 0 0 0 0]]\n",
      "[[0 0 0 0 1 1]\n",
      " [1 0 0 0 0 0]\n",
      " [0 1 0 0 0 0]\n",
      " [0 1 0 0 1 1]\n",
      " [1 0 0 1 1 1]\n",
      " [1 0 0 0 0 0]]\n",
      "[[0 0 0 0 1 1]\n",
      " [1 0 0 0 0 0]\n",
      " [0 1 0 0 0 0]\n",
      " [0 1 0 0 1 1]\n",
      " [0 0 0 1 1 1]\n",
      " [1 0 0 0 0 0]]\n",
      "[[0 0 0 0 1 1]\n",
      " [1 0 0 0 0 0]\n",
      " [0 1 0 0 0 0]\n",
      " [0 1 0 0 1 1]\n",
      " [0 0 0 1 0 1]\n",
      " [1 0 0 0 0 0]]\n",
      "[[0 0 0 0 1 1]\n",
      " [1 0 0 0 0 0]\n",
      " [0 1 0 0 0 0]\n",
      " [0 1 0 0 1 1]\n",
      " [0 0 0 1 0 0]\n",
      " [1 0 0 0 0 0]]\n",
      "[[0 0 0 0 1 0]\n",
      " [1 0 0 0 0 0]\n",
      " [0 1 0 0 0 0]\n",
      " [0 1 0 0 1 0]\n",
      " [0 0 0 1 0 0]\n",
      " [1 0 0 0 0 0]]\n",
      "[[0 0 0 0 1 0]\n",
      " [1 0 0 0 0 0]\n",
      " [0 1 0 0 0 0]\n",
      " [0 1 0 0 1 0]\n",
      " [0 0 0 1 0 0]\n",
      " [1 0 0 0 0 0]]\n"
     ]
    }
   ],
   "source": [
    "import numpy as np\n",
    "\n",
    "max_i, max_j = B.shape\n",
    "all_indices = np.arange(max_j)\n",
    "B_copy = B.copy()\n",
    "print(B_copy)\n",
    "\n",
    "for j in range(max_j):\n",
    "    try:\n",
    "        pivot = np.where(B_copy[:,j])[0][0]\n",
    "        update_set = np.setdiff1d(np.where(B_copy[pivot]), j)\n",
    "        for k in update_set:\n",
    "            B_copy[:,k] = np.bitwise_xor(B_copy[:,k], B_copy[:,j])\n",
    "            print(B_copy)\n",
    "    except:\n",
    "        pass\n",
    "        \n",
    "print(B_copy)"
   ]
  },
  {
   "cell_type": "code",
   "execution_count": 123,
   "id": "b258e714",
   "metadata": {},
   "outputs": [],
   "source": [
    "import numpy as np\n",
    "\n",
    "def gf2_reduction(B):\n",
    "    \"\"\" O(N*M) Gaussian reduction over Gaussian field of binary numbers\n",
    "    \"\"\"\n",
    "    B_copy = B.copy()\n",
    "    # iterate over rows of array\n",
    "    for i, row_i in enumerate(B_copy):\n",
    "        # if not a row of zeros\n",
    "        if np.any(row_i):\n",
    "            # find the first non-zero entry of row i\n",
    "            pivot = np.where(row_i)[0][0]\n",
    "            # find the non-zero entries in column i\n",
    "            update_set = np.setdiff1d(np.where(B_copy[:, pivot]), i)\n",
    "            # XOR the rows containing non-zero entries in column i with row i\n",
    "            B_copy[update_set] = np.bitwise_xor(B_copy[update_set], row_i)\n",
    "    return B_copy"
   ]
  },
  {
   "cell_type": "code",
   "execution_count": 124,
   "id": "fa54e708",
   "metadata": {},
   "outputs": [
    {
     "data": {
      "text/plain": [
       "array([[0, 1, 1, ..., 1, 1, 1],\n",
       "       [0, 1, 0, ..., 0, 1, 1],\n",
       "       [0, 0, 0, ..., 0, 0, 0],\n",
       "       ...,\n",
       "       [0, 0, 0, ..., 0, 0, 1],\n",
       "       [1, 0, 0, ..., 1, 0, 0],\n",
       "       [1, 1, 1, ..., 0, 1, 0]])"
      ]
     },
     "execution_count": 124,
     "metadata": {},
     "output_type": "execute_result"
    }
   ],
   "source": [
    "B"
   ]
  },
  {
   "cell_type": "code",
   "execution_count": 125,
   "id": "05a6fb6b",
   "metadata": {},
   "outputs": [
    {
     "name": "stdout",
     "output_type": "stream",
     "text": [
      "3.06 s ± 55 ms per loop (mean ± std. dev. of 7 runs, 1 loop each)\n"
     ]
    }
   ],
   "source": [
    "%timeit gf2_reduction(B)"
   ]
  },
  {
   "cell_type": "code",
   "execution_count": 126,
   "id": "0e55b9ae",
   "metadata": {},
   "outputs": [
    {
     "name": "stdout",
     "output_type": "stream",
     "text": [
      "3.67 s ± 42.5 ms per loop (mean ± std. dev. of 7 runs, 1 loop each)\n"
     ]
    }
   ],
   "source": [
    "%timeit gf2_gaus_elim(B)"
   ]
  },
  {
   "cell_type": "code",
   "execution_count": 127,
   "id": "b80c6466",
   "metadata": {},
   "outputs": [
    {
     "data": {
      "text/plain": [
       "array([[0, 1, 0, ..., 0, 0, 0],\n",
       "       [0, 0, 1, ..., 0, 0, 0],\n",
       "       [0, 0, 0, ..., 0, 0, 0],\n",
       "       ...,\n",
       "       [0, 0, 0, ..., 0, 0, 0],\n",
       "       [0, 0, 0, ..., 0, 0, 0],\n",
       "       [0, 0, 0, ..., 0, 0, 0]])"
      ]
     },
     "execution_count": 127,
     "metadata": {},
     "output_type": "execute_result"
    }
   ],
   "source": [
    "gf2_reduction(B)"
   ]
  },
  {
   "cell_type": "code",
   "execution_count": 129,
   "id": "9d21b7e7",
   "metadata": {},
   "outputs": [
    {
     "data": {
      "text/plain": [
       "array([[1, 0, 0, ..., 0, 0, 0],\n",
       "       [0, 1, 0, ..., 0, 0, 0],\n",
       "       [0, 0, 1, ..., 0, 0, 0],\n",
       "       ...,\n",
       "       [0, 0, 0, ..., 0, 0, 0],\n",
       "       [0, 0, 0, ..., 0, 0, 0],\n",
       "       [0, 0, 0, ..., 0, 0, 0]])"
      ]
     },
     "execution_count": 129,
     "metadata": {},
     "output_type": "execute_result"
    }
   ],
   "source": [
    "gf2_gaus_elim(B)"
   ]
  },
  {
   "cell_type": "code",
   "execution_count": null,
   "id": "2c258503",
   "metadata": {},
   "outputs": [],
   "source": []
  }
 ],
 "metadata": {
  "kernelspec": {
   "display_name": "Python 3 (ipykernel)",
   "language": "python",
   "name": "python3"
  },
  "language_info": {
   "codemirror_mode": {
    "name": "ipython",
    "version": 3
   },
   "file_extension": ".py",
   "mimetype": "text/x-python",
   "name": "python",
   "nbconvert_exporter": "python",
   "pygments_lexer": "ipython3",
   "version": "3.8.8"
  }
 },
 "nbformat": 4,
 "nbformat_minor": 5
}
