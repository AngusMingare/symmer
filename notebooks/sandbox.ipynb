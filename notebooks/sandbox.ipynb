{
 "cells": [
  {
   "cell_type": "code",
   "execution_count": 1,
   "id": "1437cc10",
   "metadata": {},
   "outputs": [],
   "source": [
    "from symred.symplectic_form import PauliwordOp, StabilizerOp\n",
    "from symred.S3_projection import (S3_projection, \n",
    "                                  gf2_gaus_elim, \n",
    "                                  gf2_basis_for_gf2_rref, \n",
    "                                  QubitTapering, \n",
    "                                  CS_VQE, \n",
    "                                  CheatS_VQE)\n",
    "from symred.build_model import build_molecule_for_projection\n",
    "from symred.utils import exact_gs_energy, quasi_model\n",
    "import json\n",
    "import numpy as np\n",
    "from functools import reduce\n",
    "import matplotlib.pyplot as plt\n",
    "import openfermion as of\n",
    "import openfermionpyscf as ofpyscf\n",
    "from openfermion.circuits import ( uccsd_singlet_get_packed_amplitudes,\n",
    "                                   uccsd_singlet_generator, uccsd_generator,\n",
    "                                   uccsd_convert_amplitude_format)\n",
    "from cirq.testing import random_unitary\n",
    "from itertools import combinations, product\n",
    "\n",
    "import warnings\n",
    "warnings.filterwarnings(\"ignore\")"
   ]
  },
  {
   "cell_type": "code",
   "execution_count": 2,
   "id": "55e66d5b",
   "metadata": {},
   "outputs": [
    {
     "name": "stdout",
     "output_type": "stream",
     "text": [
      "dict_keys(['H2_3-21G_SINGLET', 'H6_STO-3G_SINGLET', 'H2_6-31G_SINGLET', 'H2_6-311G_SINGLET', 'H3+_STO-3G_SINGLET', 'H3+_3-21G_SINGLET', 'HeH+_3-21G_SINGLET', 'HeH+_6-311G_SINGLET', 'H2O_STO-3G_SINGLET', 'BeH+_STO-3G_SINGLET', 'LiH_STO-3G_SINGLET', 'CH+_STO-3G_SINGLET', 'HF_STO-3G_SINGLET', 'B+_STO-3G_SINGLET', 'B_STO-3G_DOUBLET', 'N_STO-3G_QUARTET', 'OH-_STO-3G_SINGLET', 'O_STO-3G_TRIPLET', 'CH2_STO-3G_TRIPLET', 'BeH2_STO-3G_SINGLET', 'Be_STO-3G_SINGLET', 'C_STO-3G_TRIPLET', 'NH_STO-3G_SINGLET', 'Ne_STO-3G_SINGLET', 'F_STO-3G_DOUBLET', 'Li_STO-3G_DOUBLET', 'BH_STO-3G_SINGLET', 'NeH+_STO-3G_SINGLET', 'NH2+_STO-3G_SINGLET', 'BH2+_STO-3G_SINGLET', 'HCl_STO-3G_SINGLET', 'H4_STO-3G_SINGLET', 'NH3_STO-3G_SINGLET', 'F2_STO-3G_SINGLET', 'HCN_STO-3G_SINGLET', 'CH4_STO-3G_SINGLET', 'CH3OH_STO-3G_SINGLET', 'C2H6_STO-3G_SINGLET', 'CH3CN_STO-3G_SINGLET', 'CH3CHO_STO-3G_SINGLET', 'CH3CHOHCH3_STO-3G_SINGLET', 'CHONH2_STO-3G_SINGLET', 'CO2_STO-3G_SINGLET', 'O2_STO-3G_SINGLET', 'O3_STO-3G_SINGLET', 'HOOH_STO-3G_SINGLET', 'NaCl_STO-3G_SINGLET', 'H2S_STO-3G_SINGLET', 'SiH4_STO-3G_SINGLET'])\n"
     ]
    }
   ],
   "source": [
    "with open('data/molecule_data.json', 'r') as jfile:\n",
    "    molecule_geometries = json.load(jfile)\n",
    "with open('data/model_data.json', 'r') as jfile:\n",
    "    model_data = json.load(jfile)\n",
    "print(molecule_geometries.keys())"
   ]
  },
  {
   "cell_type": "markdown",
   "id": "fa695f0a",
   "metadata": {},
   "source": [
    "# Build the molecule with PySCF"
   ]
  },
  {
   "cell_type": "code",
   "execution_count": 349,
   "id": "5e89abe4",
   "metadata": {},
   "outputs": [],
   "source": [
    "# Set molecule parameters\n",
    "speciesname = 'H2O_STO-3G_SINGLET'\n",
    "mol_data = molecule_geometries[speciesname]\n",
    "if 'name' in mol_data:\n",
    "    print(mol_data['name'])\n",
    "    \n",
    "atoms = mol_data['atoms']\n",
    "coords = mol_data['coords']\n",
    "basis = mol_data['basis']\n",
    "multiplicity = mol_data['multiplicity']\n",
    "charge = mol_data['charge']\n",
    "geometry = list(zip(atoms, coords))\n",
    "\n",
    "delete_input = True\n",
    "delete_output = True\n",
    "cisd=1\n",
    "ccsd=1\n",
    "fci =1 # wouldn't advise turning this on over 32 qubits!\n",
    "\n",
    "# Run pyscf.\n",
    "molecule_data = of.MolecularData(geometry, basis, multiplicity, charge)\n",
    "calculated_molecule = ofpyscf.run_pyscf(molecule_data,\n",
    "                     run_scf=1,run_mp2=1,run_cisd=cisd,run_ccsd=ccsd,run_fci=fci)"
   ]
  },
  {
   "cell_type": "markdown",
   "id": "b48bcd2c",
   "metadata": {},
   "source": [
    "# Convert to qubits, taper and construct CS-VQE model"
   ]
  },
  {
   "cell_type": "code",
   "execution_count": 350,
   "id": "7c1bed3e",
   "metadata": {},
   "outputs": [
    {
     "name": "stdout",
     "output_type": "stream",
     "text": [
      "------------------------------------------------\n",
      "Information concerning the full system:\n",
      "------------------------------------------------\n",
      "Number of qubits in full problem: 14\n",
      "The Hartree-Fock state is |11111111110000>\n",
      "HF   energy = -74.96203968\n",
      "MP2  energy = -74.99708212\n",
      "CISD energy = -75.01016645\n",
      "CCSD energy = -75.01073164\n",
      "FCI energy  = -75.01084665\n",
      "------------------------------------------------\n",
      "Tapering information:\n",
      "------------------------------------------------\n",
      "We are able to taper 4 qubits from the Hamiltonian\n",
      "The symmetry sector is:\n",
      "-1 ZIZIIZZIIZZIIZ +\n",
      "-1 IZIZIZIZIZIZIZ +\n",
      "1 IIIIZZIIIIIIZZ +\n",
      "1 IIIIIIIIZZIIII\n",
      "The tapered Hartree-Fock state is |1111110000>\n",
      "------------------------------------------------\n",
      "CS-VQE information:\n",
      "------------------------------------------------\n",
      "Noncontextual GS energy: -75.33102646955547\n",
      "Symmetry generators:    \n",
      "1 IIIIIIIIIZ +\n",
      "1 IIIIIIIZII +\n",
      "1 IIIIIIZIII +\n",
      "-1 IIIIIZIIII +\n",
      "-1 IIIIZIIIII +\n",
      "-1 IIIZIIIIII +\n",
      "-1 IIZIIIIIIZ +\n",
      "1 IZZIZZIZIZ +\n",
      "1 ZIZZIZZIIZ\n",
      "Clique representatives: \n",
      "1.0000000000 IIIIIIIIZI +\n",
      "0.0000000000 IIIZZIZZXZ\n",
      "------------------------------------------------\n"
     ]
    }
   ],
   "source": [
    "model = build_molecule_for_projection(calculated_molecule, basis_weighting='ham_coeff')"
   ]
  },
  {
   "cell_type": "code",
   "execution_count": 361,
   "id": "2daf8583",
   "metadata": {},
   "outputs": [
    {
     "name": "stdout",
     "output_type": "stream",
     "text": [
      "1-qubit CS-VQE error:  0.048807\n",
      "2-qubit CS-VQE error:  0.036406\n",
      "3-qubit CS-VQE error:  0.033303\n",
      "4-qubit CS-VQE error:  0.026674\n",
      "5-qubit CS-VQE error:  0.021022\n",
      "6-qubit CS-VQE error:  0.012401\n",
      "7-qubit CS-VQE error:  0.001138\n",
      "------ done ------\n",
      "7-qubit CS-VQE error:  0.001138 | stabilizer indices: [8, 9, 4]\n"
     ]
    }
   ],
   "source": [
    "def greedy_search(N_sim, depth=1):\n",
    "    all_indices = set(range(model.ham_tap.n_qubits))\n",
    "    best_relax_indices = []\n",
    "    for index in range(N_sim):\n",
    "        cs_vqe_errors = []\n",
    "        for i in range(model.ham_tap.n_qubits):\n",
    "            if i not in best_relax_indices:\n",
    "                stab_indices = list(all_indices-set(best_relax_indices+[i]))\n",
    "                projected = model.contextual_subspace_projection(stab_indices)\n",
    "                nrg = exact_gs_energy(projected.to_sparse_matrix)[0]\n",
    "                error = abs(nrg-model.fci_energy)\n",
    "                cs_vqe_errors.append([i, abs(nrg-model.fci_energy)])\n",
    "        best_index, best_error = sorted(cs_vqe_errors, key=lambda x:x[1])[0]\n",
    "        print(f'{projected.n_qubits}-qubit CS-VQE error: {best_error: .6f}')\n",
    "        best_relax_indices.append(best_index)\n",
    "    print('------ done ------')\n",
    "    return list(all_indices-set(best_relax_indices))\n",
    "\n",
    "stab_indices = greedy_search(7)\n",
    "projected = model.contextual_subspace_projection(stab_indices)\n",
    "nrg = exact_gs_energy(projected.to_sparse_matrix)[0]\n",
    "error = abs(nrg-model.fci_energy)\n",
    "print(f'{projected.n_qubits}-qubit CS-VQE error: {error: .6f} | stabilizer indices: {stab_indices}')"
   ]
  },
  {
   "cell_type": "code",
   "execution_count": 352,
   "id": "6728a8e0",
   "metadata": {},
   "outputs": [
    {
     "name": "stdout",
     "output_type": "stream",
     "text": [
      "Number of qubits:   0\n",
      "Stabilizer indices: [9, 8, 7, 6, 5, 4, 3, 2, 0, 1]\n",
      "Energy Error:       0.0488069697071154\n",
      "\n",
      "Number of qubits:   1\n",
      "Stabilizer indices: [9, 8, 7, 6, 5, 4, 2, 0, 1]\n",
      "Energy Error:       0.04880696970708698\n",
      "\n",
      "Number of qubits:   2\n",
      "Stabilizer indices: [9, 8, 7, 6, 5, 2, 0, 1]\n",
      "Energy Error:       0.04880696970707277\n",
      "\n",
      "Number of qubits:   3\n",
      "Stabilizer indices: [9, 8, 7, 6, 5, 0, 1]\n",
      "Energy Error:       0.04418017733044621\n",
      "\n",
      "Number of qubits:   4\n",
      "Stabilizer indices: [9, 8, 7, 6, 5, 1]\n",
      "Energy Error:       0.04090377510556209\n",
      "\n",
      "Number of qubits:   5\n",
      "Stabilizer indices: [9, 8, 7, 6, 1]\n",
      "Energy Error:       0.03508031177027249\n",
      "\n",
      "Number of qubits:   6\n",
      "Stabilizer indices: [9, 8, 7, 6]\n",
      "Energy Error:       0.01994136173317429\n",
      "\n",
      "Number of qubits:   7\n",
      "Stabilizer indices: [9, 8, 7]\n",
      "Energy Error:       0.011406404476105081\n",
      "\n",
      "Number of qubits:   8\n",
      "Stabilizer indices: [9, 8]\n",
      "Energy Error:       7.877402249789611e-05\n",
      "\n",
      "Number of qubits:   9\n",
      "Stabilizer indices: [9]\n",
      "Energy Error:       5.2677457063055044e-05\n",
      "\n"
     ]
    }
   ],
   "source": [
    "taper_qubit_map = {q_pos:index for index,q_pos in enumerate(model.untapered_qubits)}\n",
    "\n",
    "def HOMO_LUMO_hopping(N):\n",
    "    assert(N<=model.ham_tap.n_qubits), 'N exceeds the full number of qubits'\n",
    "    order = []\n",
    "    i=1\n",
    "    hop=model.HL_index\n",
    "    while hop in range(model.ham.n_qubits):\n",
    "        order.append(hop)\n",
    "        hop+=(i)*(-1)**(i)\n",
    "        i+=1\n",
    "    if 0 in order:\n",
    "        order+=list(range(max(order)+1, model.ham.n_qubits))\n",
    "    else:\n",
    "        order+=list(range(min(order)))[::-1]\n",
    "    taper_order = [taper_qubit_map[i] for i in order if i not in model.tapered_qubits]\n",
    "    return taper_order[:N]\n",
    "\n",
    "def HOMO_LUMO_upper_first(N):\n",
    "    upper = list(range(model.HL_index, model.ham.n_qubits))\n",
    "    lower = list(range(model.HL_index))\n",
    "    order = upper + lower[::-1]\n",
    "    taper_order = [taper_qubit_map[i] for i in order if i not in model.tapered_qubits]\n",
    "    return taper_order[:N]\n",
    "\n",
    "def left_to_right(N):\n",
    "    return list(range(N))\n",
    "\n",
    "def right_to_left(N):\n",
    "    return list(range(model.ham_tap.n_qubits - N, model.ham_tap.n_qubits)) \n",
    "    \n",
    "stab_qubit_map = {q_pos:index+1 for index, q_pos in \n",
    "                     enumerate(np.argmax(model.symmetry_generators.symp_matrix!=0, axis=1) \n",
    "                               % model.ham_tap.n_qubits)}\n",
    "C_qubit = list(set(range(model.ham_tap.n_qubits)).difference(stab_qubit_map.keys()))[0]\n",
    "stab_qubit_map[C_qubit] = 0\n",
    "\n",
    "def stab_ordering(N, q_ord_method):\n",
    "    qubit_ordering = q_ord_method(N)\n",
    "    fixed_qubits = set(range(model.ham_tap.n_qubits)).difference(qubit_ordering)\n",
    "    fixed_stabs = [stab_qubit_map[i] for i in fixed_qubits]\n",
    "    return fixed_stabs\n",
    "\n",
    "if model.ham_tap.n_qubits>=16:\n",
    "    N_max = 16\n",
    "else:\n",
    "    N_max = model.ham_tap.n_qubits\n",
    "    \n",
    "for N_sim in range(N_max):\n",
    "    stab_indices = stab_ordering(N_sim, HOMO_LUMO_hopping)\n",
    "    projected = model.contextual_subspace_projection(stab_indices)\n",
    "    nrg = exact_gs_energy(projected.to_sparse_matrix)[0]\n",
    "    print(f'Number of qubits:   {N_sim}\\n'+\n",
    "          f'Stabilizer indices: {stab_indices}\\n'+\n",
    "          f'Energy Error:       {abs(nrg-model.fci_energy)}')\n",
    "    print()"
   ]
  },
  {
   "cell_type": "code",
   "execution_count": 362,
   "id": "c83c180a",
   "metadata": {},
   "outputs": [
    {
     "name": "stdout",
     "output_type": "stream",
     "text": [
      "8-qubit CS-VQE error:  0.034456 | stabilizer indices: [0, 1]\n",
      "8-qubit CS-VQE error:  0.040593 | stabilizer indices: [0, 2]\n",
      "8-qubit CS-VQE error:  0.047232 | stabilizer indices: [0, 3]\n",
      "8-qubit CS-VQE error:  0.025261 | stabilizer indices: [0, 4]\n",
      "8-qubit CS-VQE error:  0.031213 | stabilizer indices: [0, 5]\n",
      "8-qubit CS-VQE error:  0.032915 | stabilizer indices: [0, 6]\n",
      "8-qubit CS-VQE error:  0.029647 | stabilizer indices: [0, 7]\n",
      "8-qubit CS-VQE error:  0.024382 | stabilizer indices: [0, 8]\n",
      "8-qubit CS-VQE error:  0.024377 | stabilizer indices: [0, 9]\n",
      "8-qubit CS-VQE error:  0.047232 | stabilizer indices: [1, 2]\n",
      "8-qubit CS-VQE error:  0.040593 | stabilizer indices: [1, 3]\n",
      "8-qubit CS-VQE error:  0.025261 | stabilizer indices: [1, 4]\n",
      "8-qubit CS-VQE error:  0.032915 | stabilizer indices: [1, 5]\n"
     ]
    },
    {
     "ename": "KeyboardInterrupt",
     "evalue": "",
     "output_type": "error",
     "traceback": [
      "\u001b[0;31m---------------------------------------------------------------------------\u001b[0m",
      "\u001b[0;31mKeyboardInterrupt\u001b[0m                         Traceback (most recent call last)",
      "\u001b[0;32m/tmp/ipykernel_40080/387627142.py\u001b[0m in \u001b[0;36m<module>\u001b[0;34m\u001b[0m\n\u001b[1;32m      4\u001b[0m     \u001b[0mcomb\u001b[0m\u001b[0;34m=\u001b[0m\u001b[0mlist\u001b[0m\u001b[0;34m(\u001b[0m\u001b[0mcomb\u001b[0m\u001b[0;34m)\u001b[0m\u001b[0;34m\u001b[0m\u001b[0;34m\u001b[0m\u001b[0m\n\u001b[1;32m      5\u001b[0m     \u001b[0mprojected\u001b[0m \u001b[0;34m=\u001b[0m \u001b[0mmodel\u001b[0m\u001b[0;34m.\u001b[0m\u001b[0mcontextual_subspace_projection\u001b[0m\u001b[0;34m(\u001b[0m\u001b[0mcomb\u001b[0m\u001b[0;34m)\u001b[0m\u001b[0;34m\u001b[0m\u001b[0;34m\u001b[0m\u001b[0m\n\u001b[0;32m----> 6\u001b[0;31m     \u001b[0mnrg\u001b[0m \u001b[0;34m=\u001b[0m \u001b[0mexact_gs_energy\u001b[0m\u001b[0;34m(\u001b[0m\u001b[0mprojected\u001b[0m\u001b[0;34m.\u001b[0m\u001b[0mto_sparse_matrix\u001b[0m\u001b[0;34m)\u001b[0m\u001b[0;34m[\u001b[0m\u001b[0;36m0\u001b[0m\u001b[0;34m]\u001b[0m\u001b[0;34m\u001b[0m\u001b[0;34m\u001b[0m\u001b[0m\n\u001b[0m\u001b[1;32m      7\u001b[0m     \u001b[0merror\u001b[0m \u001b[0;34m=\u001b[0m \u001b[0mabs\u001b[0m\u001b[0;34m(\u001b[0m\u001b[0mnrg\u001b[0m\u001b[0;34m-\u001b[0m\u001b[0mmodel\u001b[0m\u001b[0;34m.\u001b[0m\u001b[0mfci_energy\u001b[0m\u001b[0;34m)\u001b[0m\u001b[0;34m\u001b[0m\u001b[0;34m\u001b[0m\u001b[0m\n\u001b[1;32m      8\u001b[0m     \u001b[0mprint\u001b[0m\u001b[0;34m(\u001b[0m\u001b[0;34mf'{projected.n_qubits}-qubit CS-VQE error: {error: .6f} | stabilizer indices: {comb}'\u001b[0m\u001b[0;34m)\u001b[0m\u001b[0;34m\u001b[0m\u001b[0;34m\u001b[0m\u001b[0m\n",
      "\u001b[0;32m~/anaconda3/lib/python3.8/site-packages/cached_property.py\u001b[0m in \u001b[0;36m__get__\u001b[0;34m(self, obj, cls)\u001b[0m\n\u001b[1;32m     34\u001b[0m             \u001b[0;32mreturn\u001b[0m \u001b[0mself\u001b[0m\u001b[0;34m.\u001b[0m\u001b[0m_wrap_in_coroutine\u001b[0m\u001b[0;34m(\u001b[0m\u001b[0mobj\u001b[0m\u001b[0;34m)\u001b[0m\u001b[0;34m\u001b[0m\u001b[0;34m\u001b[0m\u001b[0m\n\u001b[1;32m     35\u001b[0m \u001b[0;34m\u001b[0m\u001b[0m\n\u001b[0;32m---> 36\u001b[0;31m         \u001b[0mvalue\u001b[0m \u001b[0;34m=\u001b[0m \u001b[0mobj\u001b[0m\u001b[0;34m.\u001b[0m\u001b[0m__dict__\u001b[0m\u001b[0;34m[\u001b[0m\u001b[0mself\u001b[0m\u001b[0;34m.\u001b[0m\u001b[0mfunc\u001b[0m\u001b[0;34m.\u001b[0m\u001b[0m__name__\u001b[0m\u001b[0;34m]\u001b[0m \u001b[0;34m=\u001b[0m \u001b[0mself\u001b[0m\u001b[0;34m.\u001b[0m\u001b[0mfunc\u001b[0m\u001b[0;34m(\u001b[0m\u001b[0mobj\u001b[0m\u001b[0;34m)\u001b[0m\u001b[0;34m\u001b[0m\u001b[0;34m\u001b[0m\u001b[0m\n\u001b[0m\u001b[1;32m     37\u001b[0m         \u001b[0;32mreturn\u001b[0m \u001b[0mvalue\u001b[0m\u001b[0;34m\u001b[0m\u001b[0;34m\u001b[0m\u001b[0m\n\u001b[1;32m     38\u001b[0m \u001b[0;34m\u001b[0m\u001b[0m\n",
      "\u001b[0;32m~/anaconda3/lib/python3.8/site-packages/symred/symplectic_form.py\u001b[0m in \u001b[0;36mto_sparse_matrix\u001b[0;34m(self)\u001b[0m\n\u001b[1;32m    508\u001b[0m                                   )\n\u001b[1;32m    509\u001b[0m         \u001b[0;32mfor\u001b[0m \u001b[0mPvec_single\u001b[0m\u001b[0;34m,\u001b[0m \u001b[0mcoeff_single\u001b[0m \u001b[0;32min\u001b[0m \u001b[0mzip\u001b[0m\u001b[0;34m(\u001b[0m\u001b[0mself\u001b[0m\u001b[0;34m.\u001b[0m\u001b[0msymp_matrix\u001b[0m\u001b[0;34m,\u001b[0m \u001b[0mself\u001b[0m\u001b[0;34m.\u001b[0m\u001b[0mcoeff_vec\u001b[0m\u001b[0;34m)\u001b[0m\u001b[0;34m:\u001b[0m\u001b[0;34m\u001b[0m\u001b[0;34m\u001b[0m\u001b[0m\n\u001b[0;32m--> 510\u001b[0;31m             \u001b[0mout_matrix\u001b[0m \u001b[0;34m+=\u001b[0m \u001b[0msymplectic_to_sparse_matrix\u001b[0m\u001b[0;34m(\u001b[0m\u001b[0mPvec_single\u001b[0m\u001b[0;34m,\u001b[0m \u001b[0mcoeff_single\u001b[0m\u001b[0;34m)\u001b[0m\u001b[0;34m\u001b[0m\u001b[0;34m\u001b[0m\u001b[0m\n\u001b[0m\u001b[1;32m    511\u001b[0m \u001b[0;34m\u001b[0m\u001b[0m\n\u001b[1;32m    512\u001b[0m         \u001b[0;32mreturn\u001b[0m \u001b[0mout_matrix\u001b[0m\u001b[0;34m\u001b[0m\u001b[0;34m\u001b[0m\u001b[0m\n",
      "\u001b[0;32m~/anaconda3/lib/python3.8/site-packages/symred/symplectic_form.py\u001b[0m in \u001b[0;36msymplectic_to_sparse_matrix\u001b[0;34m(symp_vec, coeff)\u001b[0m\n\u001b[1;32m    105\u001b[0m     \u001b[0mvals\u001b[0m \u001b[0;34m=\u001b[0m \u001b[0mglobal_phase\u001b[0m \u001b[0;34m*\u001b[0m \u001b[0;34m(\u001b[0m\u001b[0;34m-\u001b[0m\u001b[0;36m1\u001b[0m\u001b[0;34m)\u001b[0m \u001b[0;34m**\u001b[0m \u001b[0;34m(\u001b[0m\u001b[0mcount1_in_int_bitstring\u001b[0m\u001b[0;34m(\u001b[0m\u001b[0mrow_inds_and_Zint\u001b[0m\u001b[0;34m)\u001b[0m\u001b[0;34m%\u001b[0m\u001b[0;36m2\u001b[0m\u001b[0;34m)\u001b[0m\u001b[0;34m\u001b[0m\u001b[0;34m\u001b[0m\u001b[0m\n\u001b[1;32m    106\u001b[0m \u001b[0;34m\u001b[0m\u001b[0m\n\u001b[0;32m--> 107\u001b[0;31m     sparse_matrix = csr_matrix(\n\u001b[0m\u001b[1;32m    108\u001b[0m         \u001b[0;34m(\u001b[0m\u001b[0mvals\u001b[0m\u001b[0;34m,\u001b[0m \u001b[0;34m(\u001b[0m\u001b[0mrow_ind\u001b[0m\u001b[0;34m,\u001b[0m \u001b[0mcol_ind\u001b[0m\u001b[0;34m)\u001b[0m\u001b[0;34m)\u001b[0m\u001b[0;34m,\u001b[0m\u001b[0;34m\u001b[0m\u001b[0;34m\u001b[0m\u001b[0m\n\u001b[1;32m    109\u001b[0m         \u001b[0mshape\u001b[0m\u001b[0;34m=\u001b[0m\u001b[0;34m(\u001b[0m\u001b[0mdimension\u001b[0m\u001b[0;34m,\u001b[0m \u001b[0mdimension\u001b[0m\u001b[0;34m)\u001b[0m\u001b[0;34m,\u001b[0m\u001b[0;34m\u001b[0m\u001b[0;34m\u001b[0m\u001b[0m\n",
      "\u001b[0;32m~/.local/lib/python3.8/site-packages/scipy/sparse/compressed.py\u001b[0m in \u001b[0;36m__init__\u001b[0;34m(self, arg1, shape, dtype, copy)\u001b[0m\n\u001b[1;32m     52\u001b[0m                     \u001b[0;31m# (data, ij) format\u001b[0m\u001b[0;34m\u001b[0m\u001b[0;34m\u001b[0m\u001b[0;34m\u001b[0m\u001b[0m\n\u001b[1;32m     53\u001b[0m                     \u001b[0;32mfrom\u001b[0m \u001b[0;34m.\u001b[0m\u001b[0mcoo\u001b[0m \u001b[0;32mimport\u001b[0m \u001b[0mcoo_matrix\u001b[0m\u001b[0;34m\u001b[0m\u001b[0;34m\u001b[0m\u001b[0m\n\u001b[0;32m---> 54\u001b[0;31m                     other = self.__class__(coo_matrix(arg1, shape=shape,\n\u001b[0m\u001b[1;32m     55\u001b[0m                                                       dtype=dtype))\n\u001b[1;32m     56\u001b[0m                     \u001b[0mself\u001b[0m\u001b[0;34m.\u001b[0m\u001b[0m_set_self\u001b[0m\u001b[0;34m(\u001b[0m\u001b[0mother\u001b[0m\u001b[0;34m)\u001b[0m\u001b[0;34m\u001b[0m\u001b[0;34m\u001b[0m\u001b[0m\n",
      "\u001b[0;32m~/.local/lib/python3.8/site-packages/scipy/sparse/compressed.py\u001b[0m in \u001b[0;36m__init__\u001b[0;34m(self, arg1, shape, dtype, copy)\u001b[0m\n\u001b[1;32m     32\u001b[0m                 \u001b[0marg1\u001b[0m \u001b[0;34m=\u001b[0m \u001b[0marg1\u001b[0m\u001b[0;34m.\u001b[0m\u001b[0mcopy\u001b[0m\u001b[0;34m(\u001b[0m\u001b[0;34m)\u001b[0m\u001b[0;34m\u001b[0m\u001b[0;34m\u001b[0m\u001b[0m\n\u001b[1;32m     33\u001b[0m             \u001b[0;32melse\u001b[0m\u001b[0;34m:\u001b[0m\u001b[0;34m\u001b[0m\u001b[0;34m\u001b[0m\u001b[0m\n\u001b[0;32m---> 34\u001b[0;31m                 \u001b[0marg1\u001b[0m \u001b[0;34m=\u001b[0m \u001b[0marg1\u001b[0m\u001b[0;34m.\u001b[0m\u001b[0masformat\u001b[0m\u001b[0;34m(\u001b[0m\u001b[0mself\u001b[0m\u001b[0;34m.\u001b[0m\u001b[0mformat\u001b[0m\u001b[0;34m)\u001b[0m\u001b[0;34m\u001b[0m\u001b[0;34m\u001b[0m\u001b[0m\n\u001b[0m\u001b[1;32m     35\u001b[0m             \u001b[0mself\u001b[0m\u001b[0;34m.\u001b[0m\u001b[0m_set_self\u001b[0m\u001b[0;34m(\u001b[0m\u001b[0marg1\u001b[0m\u001b[0;34m)\u001b[0m\u001b[0;34m\u001b[0m\u001b[0;34m\u001b[0m\u001b[0m\n\u001b[1;32m     36\u001b[0m \u001b[0;34m\u001b[0m\u001b[0m\n",
      "\u001b[0;32m~/.local/lib/python3.8/site-packages/scipy/sparse/base.py\u001b[0m in \u001b[0;36masformat\u001b[0;34m(self, format, copy)\u001b[0m\n\u001b[1;32m    320\u001b[0m             \u001b[0;31m# Forward the copy kwarg, if it's accepted.\u001b[0m\u001b[0;34m\u001b[0m\u001b[0;34m\u001b[0m\u001b[0;34m\u001b[0m\u001b[0m\n\u001b[1;32m    321\u001b[0m             \u001b[0;32mtry\u001b[0m\u001b[0;34m:\u001b[0m\u001b[0;34m\u001b[0m\u001b[0;34m\u001b[0m\u001b[0m\n\u001b[0;32m--> 322\u001b[0;31m                 \u001b[0;32mreturn\u001b[0m \u001b[0mconvert_method\u001b[0m\u001b[0;34m(\u001b[0m\u001b[0mcopy\u001b[0m\u001b[0;34m=\u001b[0m\u001b[0mcopy\u001b[0m\u001b[0;34m)\u001b[0m\u001b[0;34m\u001b[0m\u001b[0;34m\u001b[0m\u001b[0m\n\u001b[0m\u001b[1;32m    323\u001b[0m             \u001b[0;32mexcept\u001b[0m \u001b[0mTypeError\u001b[0m\u001b[0;34m:\u001b[0m\u001b[0;34m\u001b[0m\u001b[0;34m\u001b[0m\u001b[0m\n\u001b[1;32m    324\u001b[0m                 \u001b[0;32mreturn\u001b[0m \u001b[0mconvert_method\u001b[0m\u001b[0;34m(\u001b[0m\u001b[0;34m)\u001b[0m\u001b[0;34m\u001b[0m\u001b[0;34m\u001b[0m\u001b[0m\n",
      "\u001b[0;32m~/.local/lib/python3.8/site-packages/scipy/sparse/coo.py\u001b[0m in \u001b[0;36mtocsr\u001b[0;34m(self, copy)\u001b[0m\n\u001b[1;32m    404\u001b[0m             \u001b[0mdata\u001b[0m \u001b[0;34m=\u001b[0m \u001b[0mnp\u001b[0m\u001b[0;34m.\u001b[0m\u001b[0mempty_like\u001b[0m\u001b[0;34m(\u001b[0m\u001b[0mself\u001b[0m\u001b[0;34m.\u001b[0m\u001b[0mdata\u001b[0m\u001b[0;34m,\u001b[0m \u001b[0mdtype\u001b[0m\u001b[0;34m=\u001b[0m\u001b[0mupcast\u001b[0m\u001b[0;34m(\u001b[0m\u001b[0mself\u001b[0m\u001b[0;34m.\u001b[0m\u001b[0mdtype\u001b[0m\u001b[0;34m)\u001b[0m\u001b[0;34m)\u001b[0m\u001b[0;34m\u001b[0m\u001b[0;34m\u001b[0m\u001b[0m\n\u001b[1;32m    405\u001b[0m \u001b[0;34m\u001b[0m\u001b[0m\n\u001b[0;32m--> 406\u001b[0;31m             coo_tocsr(M, N, self.nnz, row, col, self.data,\n\u001b[0m\u001b[1;32m    407\u001b[0m                       indptr, indices, data)\n\u001b[1;32m    408\u001b[0m \u001b[0;34m\u001b[0m\u001b[0m\n",
      "\u001b[0;31mKeyboardInterrupt\u001b[0m: "
     ]
    }
   ],
   "source": [
    "cs_vqe_errors = []\n",
    "#for N_sim in range(\n",
    "for comb in combinations(list(range(model.ham_tap.n_qubits)), r=2):\n",
    "    comb=list(comb)\n",
    "    projected = model.contextual_subspace_projection(comb)\n",
    "    nrg = exact_gs_energy(projected.to_sparse_matrix)[0]\n",
    "    error = abs(nrg-model.fci_energy)\n",
    "    print(f'{projected.n_qubits}-qubit CS-VQE error: {error: .6f} | stabilizer indices: {comb}')\n",
    "    cs_vqe_errors.append([comb, abs(nrg-model.fci_energy)])\n",
    "    \n",
    "print(sorted(cs_vqe_errors, key=lambda x:x[1])[0])"
   ]
  },
  {
   "cell_type": "code",
   "execution_count": null,
   "id": "b502914b",
   "metadata": {},
   "outputs": [],
   "source": []
  },
  {
   "cell_type": "markdown",
   "id": "020ad966",
   "metadata": {},
   "source": [
    "# CheatS-VQE"
   ]
  },
  {
   "cell_type": "code",
   "execution_count": 369,
   "id": "205eb8c3",
   "metadata": {
    "scrolled": false
   },
   "outputs": [
    {
     "name": "stdout",
     "output_type": "stream",
     "text": [
      "[1 1 1 1 1 1 0 0 0 0]\n",
      "[0, 1, 2]\n",
      "1+0j ZIIZZZZZII +\n",
      "1+0j ZZZIZZIZIZ +\n",
      "1+0j ZIZIIIIIIZ\n",
      "7-qubit CS-VQE error:  0.025449\n"
     ]
    }
   ],
   "source": [
    "print(model.hf_tapered)\n",
    "HL_index = 6\n",
    "\n",
    "rot_ham = model.ham_tap#._rotate_by_single_Pword(*model.unitary_partitioning)\n",
    "rot_sor = model.sor_tap._rotate_by_single_Pword(*model.unitary_partitioning)\n",
    "\n",
    "def XY_action_terms(q_pos):\n",
    "    mask = np.where(rot_ham.X_block[:,q_pos]==1)[0]\n",
    "    return PauliwordOp(rot_ham.symp_matrix[mask],\n",
    "                       rot_ham.coeff_vec[mask])\n",
    "\n",
    "sim_qubits = HOMO_LUMO_upper_first(7)\n",
    "qubit_positions = list(set(range(model.ham_tap.n_qubits)).difference(sim_qubits))\n",
    "print(qubit_positions)\n",
    "\n",
    "reference_hamiltonian = []\n",
    "for index,q_pos in enumerate(sim_qubits[::-1]):\n",
    "    ref = XY_action_terms(q_pos)\n",
    "    ref.coeff_vec=np.square(ref.coeff_vec)\n",
    "    reference_hamiltonian.append(ref)\n",
    "reference_hamiltonian = reduce(lambda x,y:x+y, reference_hamiltonian)\n",
    "cheat = CheatS_VQE(reference_hamiltonian, ref_state=model.hf_tapered)\n",
    "\n",
    "sampled_bases = []\n",
    "for sample in range(10000):\n",
    "    trial_basis = np.random.randint(0,2,(len(qubit_positions),model.ham_tap.n_qubits))\n",
    "    for i,j in enumerate(qubit_positions):\n",
    "        trial_basis[i,j]=1\n",
    "    basis_symp = np.hstack([np.zeros_like(trial_basis), trial_basis])\n",
    "    try:\n",
    "        basis = StabilizerOp(basis_symp, np.ones(len(qubit_positions)))\n",
    "        sampled_bases.append([basis, cheat.weighted_objective(basis)])\n",
    "    except:\n",
    "        pass\n",
    "     \n",
    "basis = sorted(sampled_bases, key=lambda x:-x[1])[0][0]\n",
    "print(basis)\n",
    "cheat = CheatS_VQE(rot_ham, ref_state=model.hf_tapered)\n",
    "projected = cheat.project_onto_subspace(basis)\n",
    "nrg = exact_gs_energy(projected.to_sparse_matrix)[0]\n",
    "error = abs(nrg-model.fci_energy)\n",
    "print(f'{projected.n_qubits}-qubit CS-VQE error: {error: .6f}')"
   ]
  },
  {
   "cell_type": "code",
   "execution_count": 34,
   "id": "c7329712",
   "metadata": {},
   "outputs": [
    {
     "name": "stdout",
     "output_type": "stream",
     "text": [
      "0.0003265059338506404\n",
      "1+0j IZZZZ +\n",
      "1+0j ZIZZZ\n"
     ]
    }
   ],
   "source": [
    "from itertools import product, combinations\n",
    "from symred.symplectic_form import StabilizerOp\n",
    "\n",
    "cheat = CheatS_VQE(operator=model.ham_tap, ref_state=model.hf_tapered, target_sqp='Z')\n",
    "\n",
    "N_sim = 3\n",
    "N_fix = model.ham_tap.n_qubits-N_sim\n",
    "reconum,commute,sor_sum,abs_sum,errors = [],[],[],[],[]\n",
    "samples=[]\n",
    "for comb in range(1000):\n",
    "    Z_block = np.random.randint(0,2,(N_fix, model.ham_tap.n_qubits))\n",
    "    basis_symp = np.hstack([np.zeros_like(Z_block), Z_block])\n",
    "    try:\n",
    "        basis = StabilizerOp(basis_symp, np.ones(N_fix))\n",
    "        projected = cheat.project_onto_subspace(basis)\n",
    "        nrg = get_ground_state(projected.to_sparse_matrix)[0]\n",
    "        sor_val = cheat.weighted_objective(basis, model.sor_tap)\n",
    "        #print(nrg-model.fci_energy)\n",
    "        abs_val = cheat.weighted_objective(basis)\n",
    "        sor_sum.append(sor_val)\n",
    "        abs_sum.append(abs_val)\n",
    "        commute.append(np.count_nonzero(np.all(model.sor_tap.commutes_termwise(basis), axis=1)))\n",
    "        errors.append(nrg-model.fci_energy)\n",
    "        reconum.append(np.count_nonzero(model.ham_tap.basis_reconstruction(basis)))\n",
    "        samples.append([basis, nrg-model.fci_energy])\n",
    "    except:\n",
    "        pass\n",
    "\n",
    "basis, error = sorted(samples, key=lambda x:x[1])[0]\n",
    "print(error)\n",
    "print(basis)"
   ]
  },
  {
   "cell_type": "code",
   "execution_count": 35,
   "id": "32caa363",
   "metadata": {},
   "outputs": [
    {
     "data": {
      "image/png": "[encoded data removed]",
      "text/plain": [
       "<Figure size 432x288 with 1 Axes>"
      ]
     },
     "metadata": {
      "needs_background": "light"
     },
     "output_type": "display_data"
    },
    {
     "data": {
      "image/png": "[encoded data removed]",
      "text/plain": [
       "<Figure size 432x288 with 1 Axes>"
      ]
     },
     "metadata": {
      "needs_background": "light"
     },
     "output_type": "display_data"
    },
    {
     "data": {
      "image/png": "[encoded data removed]",
      "text/plain": [
       "<Figure size 432x288 with 1 Axes>"
      ]
     },
     "metadata": {
      "needs_background": "light"
     },
     "output_type": "display_data"
    }
   ],
   "source": [
    "def plot_error(X, label):\n",
    "    fig = plt.figure()\n",
    "    ax = fig.add_subplot()#projection='3d')\n",
    "    ax.scatter(X,np.log10(errors), marker='+')\n",
    "    ax.hlines(np.log10(0.0016), min(X), max(X), color='green')\n",
    "    ax.set_xlabel(label)\n",
    "    ax.set_ylabel('error')\n",
    "    plt.show()\n",
    "    \n",
    "plot_error(commute,'Number of terms commuting with basis')\n",
    "plot_error(abs_sum,'Hamiltonian weighting objective')\n",
    "plot_error(sor_sum,'Second-order-response weighting objective')"
   ]
  },
  {
   "cell_type": "code",
   "execution_count": 36,
   "id": "5533eccb",
   "metadata": {},
   "outputs": [
    {
     "data": {
      "image/png": "[encoded data removed]",
      "text/plain": [
       "<Figure size 432x288 with 1 Axes>"
      ]
     },
     "metadata": {
      "needs_background": "light"
     },
     "output_type": "display_data"
    }
   ],
   "source": [
    "fig = plt.figure()\n",
    "ax = fig.add_subplot(projection='3d')\n",
    "ax.scatter(commute,sor_sum,np.log10(errors), marker='+')\n",
    "ax.set_xlabel('commute')\n",
    "ax.set_ylabel('SOR')\n",
    "ax.set_zlabel('error')\n",
    "plt.show()"
   ]
  },
  {
   "cell_type": "code",
   "execution_count": 31,
   "id": "fe027c36",
   "metadata": {},
   "outputs": [
    {
     "name": "stdout",
     "output_type": "stream",
     "text": [
      "{'IIIIIIIZ': (1+0j), 'IIIIIZII': (1+0j), 'IIIIZIII': (1+0j), 'IIZIIIII': (1+0j), 'IZIIZIII': (-1+0j), 'IZZIZIZI': (-1+0j), 'ZZIIIIZI': (1+0j)}\n",
      "{'IZIZZZIZ': (-1+0j), 'IIIXIIZZ': (-5.641608257625234e-11+0j)}\n"
     ]
    }
   ],
   "source": [
    "print(model.symmetry_generators.to_dictionary)\n",
    "model.clique_operator = PauliwordOp({'IZIZZZIZ': (-1+0j), 'IIIXIIZZ': (-5.641608257625234e-11+0j)}\n",
    ")\n",
    "print(model.clique_operator.to_dictionary)"
   ]
  },
  {
   "cell_type": "code",
   "execution_count": 32,
   "id": "745d5a2a",
   "metadata": {},
   "outputs": [
    {
     "name": "stdout",
     "output_type": "stream",
     "text": [
      "1+0j IZIZZZIZ +\n",
      "1+0j IIIXIIZZ +\n",
      "1+0j IIIIIZII +\n",
      "1+0j IIIIZIII +\n",
      "1+0j IIZIIIII +\n",
      "1+0j IZIIIIIZ +\n",
      "1+0j IZIIZIII +\n",
      "1+0j IZZIZIZI +\n",
      "1+0j ZZIIIIZI\n"
     ]
    }
   ],
   "source": [
    "basis=StabilizerOp({'IZIIIIIZ':1, \n",
    "                    'IZZIZIZI':1, \n",
    "                    'IIIIIZII':1, \n",
    "                    'IIIIZIII':1, \n",
    "                    'IIZIIIII':1, \n",
    "                    'IZIIZIII':1, \n",
    "                    'ZZIIIIZI':1})+model.clique_operator\n",
    "model.update_basis(basis)\n",
    "print(model.noncontextual_basis)"
   ]
  },
  {
   "cell_type": "code",
   "execution_count": null,
   "id": "46b3eab9",
   "metadata": {},
   "outputs": [],
   "source": []
  },
  {
   "cell_type": "code",
   "execution_count": 200,
   "id": "78b5ec12",
   "metadata": {},
   "outputs": [
    {
     "data": {
      "text/plain": [
       "                        fun: (-1.106171123178879-0j)\n",
       " lowest_optimization_result:       fun: (-1.106171123178879-0j)\n",
       " hess_inv: array([[1, 0, 0, 0, 0, 0, 0, 0, 0, 0],\n",
       "       [0, 1, 0, 0, 0, 0, 0, 0, 0, 0],\n",
       "       [0, 0, 1, 0, 0, 0, 0, 0, 0, 0],\n",
       "       [0, 0, 0, 1, 0, 0, 0, 0, 0, 0],\n",
       "       [0, 0, 0, 0, 1, 0, 0, 0, 0, 0],\n",
       "       [0, 0, 0, 0, 0, 1, 0, 0, 0, 0],\n",
       "       [0, 0, 0, 0, 0, 0, 1, 0, 0, 0],\n",
       "       [0, 0, 0, 0, 0, 0, 0, 1, 0, 0],\n",
       "       [0, 0, 0, 0, 0, 0, 0, 0, 1, 0],\n",
       "       [0, 0, 0, 0, 0, 0, 0, 0, 0, 1]])\n",
       "      jac: array([0., 0., 0., 0., 0., 0., 0., 0., 0., 0.])\n",
       "  message: 'Optimization terminated successfully.'\n",
       "     nfev: 11\n",
       "      nit: 0\n",
       "     njev: 1\n",
       "   status: 0\n",
       "  success: True\n",
       "        x: array([ -916.45739918,  3155.31651859,   928.12084745,  3485.37152612,\n",
       "        3933.32638615,  3556.89826034,  5607.64080284, 17223.67462884,\n",
       "       33325.81886109, 63374.26832529])\n",
       "                    message: ['requested number of basinhopping iterations completed successfully']\n",
       "      minimization_failures: 0\n",
       "                       nfev: 110011\n",
       "                        nit: 10000\n",
       "                       njev: 10001\n",
       "                          x: array([ -916.45739918,  3155.31651859,   928.12084745,  3485.37152612,\n",
       "        3933.32638615,  3556.89826034,  5607.64080284, 17223.67462884,\n",
       "       33325.81886109, 63374.26832529])"
      ]
     },
     "execution_count": 200,
     "metadata": {},
     "output_type": "execute_result"
    }
   ],
   "source": [
    "from scipy.optimize import basinhopping\n",
    "\n",
    "def Z_to_symplectic(Z_block):\n",
    "    return np.hstack([np.zeros_like(Z_block), Z_block])\n",
    "\n",
    "def random_Z_basis(N):\n",
    "    random_Z_block = np.random.randint(0,2,(N,model.ham_tap.n_qubits))\n",
    "    return Z_to_symplectic(random_Z_block)\n",
    "\n",
    "def indices_to_symp(indices):\n",
    "    assert(np.all(np.array(indices)<2**model.ham_tap.n_qubits))\n",
    "    binind = [format(abs(int(i)), f'0{model.ham_tap.n_qubits}b') for i in indices]\n",
    "    binind = [np.array([int(i) for i in bin]) for bin in binind]\n",
    "    return Z_to_symplectic(np.vstack(binind))\n",
    "\n",
    "def func(basis_indices):\n",
    "    try:\n",
    "        basis_symp = indices_to_symp(basis_indices)\n",
    "        basis = StabilizerOp(basis_symp, np.ones(basis_symp.shape[0]))\n",
    "        return -cheat.weighted_objective(basis, aux_operator=model.sor_tap)\n",
    "    except:\n",
    "        return 0\n",
    "    \n",
    "def func_2(basis_indices):\n",
    "    try:\n",
    "        basis_symp = indices_to_symp(basis_indices)\n",
    "        basis = StabilizerOp(basis_symp, np.ones(basis_symp.shape[0]))\n",
    "        return -np.count_nonzero(np.all(model.sor_tap.commutes_termwise(basis), axis=1))\n",
    "    except:\n",
    "        return 0\n",
    "    \n",
    "N=10\n",
    "n = model.ham_tap.n_qubits\n",
    "x0=2**np.arange(n-N, n)\n",
    "opt_result = basinhopping(func=func, x0=x0, stepsize=2**(model.ham_tap.n_qubits//2), niter=10000)\n",
    "opt_result"
   ]
  },
  {
   "cell_type": "code",
   "execution_count": 202,
   "id": "89ddb1fe",
   "metadata": {},
   "outputs": [
    {
     "name": "stdout",
     "output_type": "stream",
     "text": [
      "[[0 0 0 0 0 0 0 0 0 0 0 0 0 0 0 0 0 0 0 0 0 0 0 0 1 1 1 0 0 1 0 1 0 0]\n",
      " [0 0 0 0 0 0 0 0 0 0 0 0 0 0 0 0 0 0 0 0 0 0 1 1 0 0 0 1 0 1 0 0 1 1]\n",
      " [0 0 0 0 0 0 0 0 0 0 0 0 0 0 0 0 0 0 0 0 0 0 0 0 1 1 1 0 1 0 0 0 0 0]\n",
      " [0 0 0 0 0 0 0 0 0 0 0 0 0 0 0 0 0 0 0 0 0 0 1 1 0 1 1 0 0 1 1 1 0 1]\n",
      " [0 0 0 0 0 0 0 0 0 0 0 0 0 0 0 0 0 0 0 0 0 0 1 1 1 1 0 1 0 1 1 1 0 1]\n",
      " [0 0 0 0 0 0 0 0 0 0 0 0 0 0 0 0 0 0 0 0 0 0 1 1 0 1 1 1 1 0 0 1 0 0]\n",
      " [0 0 0 0 0 0 0 0 0 0 0 0 0 0 0 0 0 0 0 0 0 1 0 1 0 1 1 1 1 0 0 1 1 1]\n",
      " [0 0 0 0 0 0 0 0 0 0 0 0 0 0 0 0 0 0 0 1 0 0 0 0 1 1 0 1 0 0 0 1 1 1]\n",
      " [0 0 0 0 0 0 0 0 0 0 0 0 0 0 0 0 0 0 1 0 0 0 0 0 1 0 0 0 1 0 1 1 0 1]\n",
      " [0 0 0 0 0 0 0 0 0 0 0 0 0 0 0 0 0 0 1 1 1 1 0 1 1 1 1 0 0 0 1 1 1 0]]\n",
      "0.02162112233395419\n"
     ]
    }
   ],
   "source": [
    "basis_symp = indices_to_symp(opt_result['x'])\n",
    "print(basis_symp)\n",
    "basis = StabilizerOp(basis_symp, np.ones(basis_symp.shape[0]))\n",
    "projected = cheat.project_onto_subspace(basis)\n",
    "nrg = get_ground_state(projected.to_sparse_matrix)[0]\n",
    "print(nrg-model.fci_energy)"
   ]
  },
  {
   "cell_type": "code",
   "execution_count": null,
   "id": "a01dbc18",
   "metadata": {},
   "outputs": [],
   "source": []
  },
  {
   "cell_type": "code",
   "execution_count": null,
   "id": "b11c63e5",
   "metadata": {},
   "outputs": [],
   "source": [
    "from quantumtools.Hamiltonian import QubitHamiltonian, HamiltonianGraph"
   ]
  },
  {
   "cell_type": "code",
   "execution_count": null,
   "id": "1777b573",
   "metadata": {},
   "outputs": [],
   "source": [
    "terms, coeffs = zip(*model.ham_tap.to_dictionary.items())\n",
    "terms, coeffs = list(terms), list(coeffs)\n",
    "graph = HamiltonianGraph(terms, coeffs)\n",
    "g_dict = graph.clique_cover('C', 'largest_first')\n",
    "largest_C_set = sorted(g_dict.items(), key=lambda x:-x[1].n_terms)[0][1]"
   ]
  },
  {
   "cell_type": "code",
   "execution_count": null,
   "id": "6f8a9e3d",
   "metadata": {},
   "outputs": [],
   "source": [
    "print(largest_C_set)"
   ]
  },
  {
   "cell_type": "code",
   "execution_count": null,
   "id": "875d0815",
   "metadata": {},
   "outputs": [],
   "source": [
    "basis = StabilizerOp(['IXIII', 'ZIZZZ', 'IZZII', 'IIZII', 'IIZZI', 'IIIZZ'],[1,1,1,1,1,1])\n",
    "print(basis)\n",
    "model.update_basis(basis=basis)"
   ]
  },
  {
   "cell_type": "code",
   "execution_count": null,
   "id": "0f11223e",
   "metadata": {},
   "outputs": [],
   "source": [
    "for comb in combinations([0,1,2,3,4], r=2):\n",
    "    comb=list(comb)\n",
    "    print(comb)\n",
    "    projected = model.contextual_subspace_projection(comb)\n",
    "    print(get_ground_state(projected.to_sparse_matrix)[0]-true_gs)\n",
    "    print()"
   ]
  },
  {
   "cell_type": "code",
   "execution_count": 13,
   "id": "b8b7a6f3",
   "metadata": {},
   "outputs": [
    {
     "data": {
      "text/plain": [
       "'hello -1'"
      ]
     },
     "execution_count": 13,
     "metadata": {},
     "output_type": "execute_result"
    }
   ],
   "source": [
    "f'hello {-1.000000001: .0f}'"
   ]
  },
  {
   "cell_type": "code",
   "execution_count": 17,
   "id": "21df0060",
   "metadata": {},
   "outputs": [
    {
     "data": {
      "text/plain": [
       "'-1'"
      ]
     },
     "execution_count": 17,
     "metadata": {},
     "output_type": "execute_result"
    }
   ],
   "source": [
    "format(-1.00000023, '.0f')"
   ]
  },
  {
   "cell_type": "code",
   "execution_count": null,
   "id": "ddba2a82",
   "metadata": {},
   "outputs": [],
   "source": []
  }
 ],
 "metadata": {
  "kernelspec": {
   "display_name": "Python 3 (ipykernel)",
   "language": "python",
   "name": "python3"
  },
  "language_info": {
   "codemirror_mode": {
    "name": "ipython",
    "version": 3
   },
   "file_extension": ".py",
   "mimetype": "text/x-python",
   "name": "python",
   "nbconvert_exporter": "python",
   "pygments_lexer": "ipython3",
   "version": "3.8.8"
  }
 },
 "nbformat": 4,
 "nbformat_minor": 5
}
