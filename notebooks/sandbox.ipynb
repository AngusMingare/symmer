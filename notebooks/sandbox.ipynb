{
 "cells": [
  {
   "cell_type": "code",
   "execution_count": 2,
   "id": "1437cc10",
   "metadata": {},
   "outputs": [],
   "source": [
    "from symred.symplectic_form import PauliwordOp\n",
    "from symred.S3_projection import (S3_projection, \n",
    "                                  gf2_gaus_elim, \n",
    "                                  gf2_basis_for_gf2_rref, \n",
    "                                  QubitTapering, \n",
    "                                  CS_VQE, \n",
    "                                  CheatS_VQE)\n",
    "from symred.build_model import build_molecule_for_projection\n",
    "from symred.utils import get_ground_state\n",
    "import json\n",
    "import numpy as np\n",
    "import openfermion as of\n",
    "import openfermionpyscf as ofpyscf\n",
    "from openfermion.circuits import ( uccsd_singlet_get_packed_amplitudes,\n",
    "                                   uccsd_singlet_generator, uccsd_generator,\n",
    "                                   uccsd_convert_amplitude_format)\n",
    "from itertools import combinations, product"
   ]
  },
  {
   "cell_type": "code",
   "execution_count": 3,
   "id": "55e66d5b",
   "metadata": {},
   "outputs": [
    {
     "name": "stdout",
     "output_type": "stream",
     "text": [
      "dict_keys(['H2_3-21G_SINGLET', 'H6_STO-3G_SINGLET', 'H2_6-31G_SINGLET', 'H2_6-311G_SINGLET', 'H3+_STO-3G_SINGLET', 'H3+_3-21G_SINGLET', 'HeH+_3-21G_SINGLET', 'HeH+_6-311G_SINGLET', 'H2O_STO-3G_SINGLET', 'BeH+_STO-3G_SINGLET', 'LiH_STO-3G_SINGLET', 'CH+_STO-3G_SINGLET', 'HF_STO-3G_SINGLET', 'B+_STO-3G_SINGLET', 'B_STO-3G_DOUBLET', 'N_STO-3G_QUARTET', 'OH-_STO-3G_SINGLET', 'O_STO-3G_TRIPLET', 'CH2_STO-3G_TRIPLET', 'BeH2_STO-3G_SINGLET', 'Be_STO-3G_SINGLET', 'C_STO-3G_TRIPLET', 'NH_STO-3G_SINGLET', 'Ne_STO-3G_SINGLET', 'F_STO-3G_DOUBLET', 'Li_STO-3G_DOUBLET', 'BH_STO-3G_SINGLET', 'NeH+_STO-3G_SINGLET', 'NH2+_STO-3G_SINGLET', 'BH2+_STO-3G_SINGLET', 'HCl_STO-3G_SINGLET', 'H4_STO-3G_SINGLET', 'NH3_STO-3G_SINGLET', 'F2_STO-3G_SINGLET', 'HCN_STO-3G_SINGLET', 'CH4_STO-3G_SINGLET', 'CH3OH_STO-3G_SINGLET', 'C2H6_STO-3G_SINGLET', 'CH3CN_STO-3G_SINGLET', 'CH3CHO_STO-3G_SINGLET', 'CH3CHOHCH3_STO-3G_SINGLET', 'CHONH2_STO-3G_SINGLET', 'CO2_STO-3G_SINGLET', 'O2_STO-3G_SINGLET', 'O3_STO-3G_SINGLET', 'HOOH_STO-3G_SINGLET', 'NaCl_STO-3G_SINGLET', 'H2S_STO-3G_SINGLET', 'SiH4_STO-3G_SINGLET'])\n"
     ]
    }
   ],
   "source": [
    "with open('molecule_geometries/molecule_data.json', 'r') as jfile:\n",
    "    molecule_geometries = json.load(jfile)\n",
    "print(molecule_geometries.keys())"
   ]
  },
  {
   "cell_type": "code",
   "execution_count": 7,
   "id": "5e89abe4",
   "metadata": {},
   "outputs": [],
   "source": [
    "# Set molecule parameters\n",
    "speciesname = 'Be_STO-3G_SINGLET'\n",
    "mol_data = molecule_geometries[speciesname]\n",
    "if 'name' in mol_data:\n",
    "    print(mol_data['name'])\n",
    "    \n",
    "atoms = mol_data['atoms']\n",
    "coords = mol_data['coords']\n",
    "basis = mol_data['basis']\n",
    "multiplicity = mol_data['multiplicity']\n",
    "charge = mol_data['charge']\n",
    "geometry = list(zip(atoms, coords))\n",
    "\n",
    "delete_input = True\n",
    "delete_output = True\n",
    "cisd=1\n",
    "ccsd=1\n",
    "fci =1 # wouldn't advise turning this on over 32 qubits!\n",
    "\n",
    "# Run pyscf.\n",
    "molecule_data = of.MolecularData(geometry, basis, multiplicity, charge)\n",
    "calculated_molecule = ofpyscf.run_pyscf(molecule_data,\n",
    "                     run_scf=1,run_mp2=1,run_cisd=cisd,run_ccsd=ccsd,run_fci=fci)"
   ]
  },
  {
   "cell_type": "code",
   "execution_count": 8,
   "id": "7c1bed3e",
   "metadata": {},
   "outputs": [
    {
     "name": "stdout",
     "output_type": "stream",
     "text": [
      "------------------------------------------------\n",
      "Information concerning the full system:\n",
      "------------------------------------------------\n",
      "Number of qubits in full problem: 10\n",
      "The Hartree-Fock state is |1111000000>\n",
      "HF   energy = -14.35188048\n",
      "MP2  energy = -14.37623885\n",
      "CISD energy = -14.40364578\n",
      "CCSD energy = -14.40365075\n",
      "FCI energy  = -14.40365511\n",
      "------------------------------------------------\n",
      "Tapering information:\n",
      "------------------------------------------------\n",
      "We are able to taper 5 qubits from the Hamiltonian\n",
      "The symmetry sector is:\n",
      " 1.00000000 ZIZIIZIZIZ +\n",
      " 1.00000000 IZIZIZIZIZ +\n",
      " 1.00000000 IIIIZZIIII +\n",
      " 1.00000000 IIIIIIZZII +\n",
      " 1.00000000 IIIIIIIIZZ\n",
      "The tapered Hartree-Fock state is |11000>\n",
      "------------------------------------------------\n",
      "CS-VQE information:\n",
      "------------------------------------------------\n",
      "Noncontextual GS energy: -14.351880476202028\n",
      "Symmetry generators:    \n",
      "-1.00000000 ZIIII +\n",
      " 1.00000000 IIZII +\n",
      " 1.00000000 IIIZI +\n",
      " 1.00000000 IIIIZ\n",
      "Clique representatives: \n",
      "-0.00000000 IXIII +\n",
      "-1.00000000 IZIII\n",
      "------------------------------------------------\n"
     ]
    }
   ],
   "source": [
    "model = build_molecule_for_projection(calculated_molecule)"
   ]
  },
  {
   "cell_type": "code",
   "execution_count": null,
   "id": "0d0bd97f",
   "metadata": {},
   "outputs": [],
   "source": []
  },
  {
   "cell_type": "code",
   "execution_count": 9,
   "id": "453ae35b",
   "metadata": {},
   "outputs": [
    {
     "name": "stdout",
     "output_type": "stream",
     "text": [
      "-14.403655108067637\n",
      "-14.403655108067706\n"
     ]
    }
   ],
   "source": [
    "print(get_ground_state(model.ham.to_sparse_matrix)[0])\n",
    "true_gs = get_ground_state(model.ham_tap.to_sparse_matrix)[0]\n",
    "print(true_gs)"
   ]
  },
  {
   "cell_type": "code",
   "execution_count": 15,
   "id": "c7329712",
   "metadata": {},
   "outputs": [
    {
     "name": "stdout",
     "output_type": "stream",
     "text": [
      "(87.29431830869024+0j)\n",
      "0.000326505933868404\n",
      " 1.00000000+0.00000000j ZZIII +\n",
      " 1.00000000+0.00000000j ZIZZZ\n"
     ]
    }
   ],
   "source": [
    "from itertools import product, combinations\n",
    "from symred.symplectic_form import StabilizerOp\n",
    "\n",
    "print(np.sum(np.square(model.ham_tap.coeff_vec)))\n",
    "cheat = CheatS_VQE(operator=model.ham_tap, ref_state=model.hf_tapered, target_sqp='Z')\n",
    "\n",
    "N=2\n",
    "reconum,commute,sor_sum,abs_sum,errors = [],[],[],[],[]\n",
    "samples=[]\n",
    "for comb in range(500):\n",
    "    Z_block = np.random.randint(0,2,(N, model.ham_tap.n_qubits))\n",
    "    basis_symp = np.hstack([np.zeros_like(Z_block), Z_block])\n",
    "    try:\n",
    "        basis = StabilizerOp(basis_symp, np.ones(N))\n",
    "        projected = cheat.project_onto_subspace(basis)\n",
    "        nrg = get_ground_state(projected.to_sparse_matrix)[0]\n",
    "        \n",
    "        sor_val = cheat.weighted_objective(basis, model.sor_tap)\n",
    "        abs_val = cheat.weighted_objective(basis)\n",
    "        sor_sum.append(sor_val)\n",
    "        abs_sum.append(abs_val)\n",
    "        commute.append(np.count_nonzero(np.all(model.sor_tap.commutes_termwise(basis), axis=1)))\n",
    "        errors.append(nrg-true_gs)\n",
    "        reconum.append(np.count_nonzero(model.ham_tap.basis_reconstruction(basis)))\n",
    "        samples.append([basis, nrg-true_gs])\n",
    "    except:\n",
    "        pass\n",
    "\n",
    "basis, error = sorted(samples, key=lambda x:x[1])[0]\n",
    "print(error)\n",
    "print(basis)"
   ]
  },
  {
   "cell_type": "code",
   "execution_count": 18,
   "id": "32caa363",
   "metadata": {},
   "outputs": [
    {
     "data": {
      "image/png": "[encoded data removed]",
      "text/plain": [
       "<Figure size 432x288 with 1 Axes>"
      ]
     },
     "metadata": {
      "needs_background": "light"
     },
     "output_type": "display_data"
    }
   ],
   "source": [
    "import matplotlib.pyplot as plt\n",
    "\n",
    "fig = plt.figure()\n",
    "ax = fig.add_subplot(projection='3d')\n",
    "\n",
    "ax.scatter(sor_sum,abs_sum,np.log10(errors), marker='+')\n",
    "#ax.hlines(np.log10(0.0016), min(sor_sum), max(sor_sum), color='green')\n",
    "ax.set_xlabel('SOR')\n",
    "ax.set_ylabel('abs')\n",
    "ax.set_zlabel('error')\n",
    "\n",
    "plt.show()"
   ]
  },
  {
   "cell_type": "code",
   "execution_count": 19,
   "id": "dbae7e29",
   "metadata": {},
   "outputs": [],
   "source": [
    "#samples=[]\n",
    "#for a,b,c,d in combinations(product([0,1], repeat=8), r=4):\n",
    "#    try:\n",
    "#        basis = StabilizerOp(np.array([a,b,c,d]), [1,1,1,1])\n",
    "#        projected = cheat.project_onto_subspace(basis)\n",
    "#        nrg = get_ground_state(projected.to_sparse_matrix)[0]\n",
    "#        print(nrg-true_gs)\n",
    "#        sor_val = cheat.weighted_objective(basis, model.sor_tap)\n",
    "#        sample.append([basis, nrg-true_gs, sor_val])\n",
    "#    except:\n",
    "#        pass"
   ]
  },
  {
   "cell_type": "code",
   "execution_count": 20,
   "id": "2f5af49e",
   "metadata": {},
   "outputs": [
    {
     "data": {
      "text/plain": [
       "(1.5533836426265828+0j)"
      ]
     },
     "execution_count": 20,
     "metadata": {},
     "output_type": "execute_result"
    }
   ],
   "source": [
    "cheat.weighted_objective(basis, model.sor_tap)"
   ]
  },
  {
   "cell_type": "code",
   "execution_count": null,
   "id": "a01dbc18",
   "metadata": {},
   "outputs": [],
   "source": []
  },
  {
   "cell_type": "code",
   "execution_count": null,
   "id": "b11c63e5",
   "metadata": {},
   "outputs": [],
   "source": [
    "from quantumtools.Hamiltonian import QubitHamiltonian, HamiltonianGraph"
   ]
  },
  {
   "cell_type": "code",
   "execution_count": null,
   "id": "1777b573",
   "metadata": {},
   "outputs": [],
   "source": [
    "terms, coeffs = zip(*model.ham_tap.to_dictionary.items())\n",
    "terms, coeffs = list(terms), list(coeffs)\n",
    "graph = HamiltonianGraph(terms, coeffs)\n",
    "g_dict = graph.clique_cover('C', 'largest_first')\n",
    "largest_C_set = sorted(g_dict.items(), key=lambda x:-x[1].n_terms)[0][1]"
   ]
  },
  {
   "cell_type": "code",
   "execution_count": null,
   "id": "6f8a9e3d",
   "metadata": {},
   "outputs": [],
   "source": [
    "print(largest_C_set)"
   ]
  },
  {
   "cell_type": "code",
   "execution_count": null,
   "id": "75a4de56",
   "metadata": {},
   "outputs": [],
   "source": [
    "basis = StabilizerOp(['IXIII', 'ZIZZZ', 'IZZII', 'IIZII', 'IIZZI', 'IIIZZ'],[1,1,1,1,1,1])\n",
    "print(basis)\n",
    "model.update_basis(basis=basis)"
   ]
  },
  {
   "cell_type": "code",
   "execution_count": null,
   "id": "ebeef677",
   "metadata": {},
   "outputs": [],
   "source": [
    "for comb in combinations([0,1,2,3,4], r=2):\n",
    "    comb=list(comb)\n",
    "    print(comb)\n",
    "    projected = model.contextual_subspace_projection(comb)\n",
    "    print(get_ground_state(projected.to_sparse_matrix)[0]-true_gs)\n",
    "    print()"
   ]
  },
  {
   "cell_type": "code",
   "execution_count": null,
   "id": "b8b7a6f3",
   "metadata": {},
   "outputs": [],
   "source": []
  },
  {
   "cell_type": "code",
   "execution_count": null,
   "id": "6be3f63b",
   "metadata": {},
   "outputs": [],
   "source": []
  }
 ],
 "metadata": {
  "kernelspec": {
   "display_name": "Python 3 (ipykernel)",
   "language": "python",
   "name": "python3"
  },
  "language_info": {
   "codemirror_mode": {
    "name": "ipython",
    "version": 3
   },
   "file_extension": ".py",
   "mimetype": "text/x-python",
   "name": "python",
   "nbconvert_exporter": "python",
   "pygments_lexer": "ipython3",
   "version": "3.8.8"
  }
 },
 "nbformat": 4,
 "nbformat_minor": 5
}
