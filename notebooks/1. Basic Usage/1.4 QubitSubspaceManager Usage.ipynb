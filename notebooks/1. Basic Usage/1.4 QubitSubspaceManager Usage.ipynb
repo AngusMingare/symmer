{
 "cells": [
  {
   "cell_type": "markdown",
   "id": "14a24dbb",
   "metadata": {},
   "source": [
    "# Using the QubitSubspaceManager to automate qubit reduction\n",
    "\n",
    "`Symmer` currently implements the following qubit reduction techniques:\n",
    "- Qubit Tapering\n",
    "- Contextual subspace\n",
    "\n",
    "We developed the `QubitSubspaceManager` to automate these subspace tools for ease-of-use, so that you can reduce the number of qubits in your problem *without* any prerequisite knowledge of how these techniques operate under the hood.\n",
    "\n",
    "Let's import the Hamiltonian data for a single beryllium atom to demonstrate how to get started with the subspace manager:"
   ]
  },
  {
   "cell_type": "code",
   "execution_count": 1,
   "id": "0408aca9",
   "metadata": {},
   "outputs": [],
   "source": [
    "import numpy as np\n",
    "import os, json\n",
    "\n",
    "cwd = os.getcwd()\n",
    "notebook_dir =  os.path.dirname(cwd)\n",
    "symmer_dir = os.path.dirname(notebook_dir)\n",
    "test_dir = os.path.join(symmer_dir, 'tests')\n",
    "ham_data_dir = os.path.join(test_dir, 'hamiltonian_data')\n",
    "if not os.path.isdir(ham_data_dir):\n",
    "    raise ValueError('cannot find data dir')\n",
    "    \n",
    "filename = 'Be_STO-3G_SINGLET_JW.json'\n",
    "\n",
    "if filename not in os.listdir(ham_data_dir):\n",
    "    raise ValueError('unknown file')\n",
    "    \n",
    "with open(os.path.join(ham_data_dir, filename), 'r') as infile:\n",
    "    data_dict = json.load(infile)"
   ]
  },
  {
   "cell_type": "markdown",
   "id": "20d50b37",
   "metadata": {},
   "source": [
    "Convert the Hamiltonian dictionary into a PauliwordOp object:"
   ]
  },
  {
   "cell_type": "code",
   "execution_count": 2,
   "id": "ee47703a",
   "metadata": {},
   "outputs": [
    {
     "name": "stdout",
     "output_type": "stream",
     "text": [
      "Number of qubits in the Hamiltonian: 10\n",
      "Number of terms  in the Hamiltonian: 156\n",
      "Exact ground state energy: -14.40366 Ha\n"
     ]
    }
   ],
   "source": [
    "from symmer import PauliwordOp\n",
    "from symmer.utils import exact_gs_energy\n",
    "\n",
    "H = PauliwordOp.from_dictionary(data_dict['hamiltonian'])\n",
    "print(f'Number of qubits in the Hamiltonian: {H.n_qubits}')\n",
    "print(f'Number of terms  in the Hamiltonian: {H.n_terms}')\n",
    "\n",
    "gs_energy, gs_state = exact_gs_energy(H.to_sparse_matrix)\n",
    "print(f'Exact ground state energy: {gs_energy: .5f} Ha')"
   ]
  },
  {
   "cell_type": "markdown",
   "id": "e9d6fc2d",
   "metadata": {},
   "source": [
    "Now import `QubitSubspaceManager` - you may supply the Hamiltonian as input and nothing else, although you will see better results if you are able to include additional information such as a reference state with non-zero overlap with the ground state (e.g. Hartree-Fock in the case of electronic structure)."
   ]
  },
  {
   "cell_type": "code",
   "execution_count": 3,
   "id": "151bfbf6",
   "metadata": {},
   "outputs": [
    {
     "name": "stderr",
     "output_type": "stream",
     "text": [
      "/home/tweaving/anaconda3/envs/symmer/lib/python3.8/site-packages/symmer/projection/qubit_subspace_manager.py:58: UserWarning: No reference state supplied - trying to identify one via alternative means.\n",
      "  warnings.warn('No reference state supplied - trying to identify one via alternative means.')\n"
     ]
    }
   ],
   "source": [
    "from symmer import QubitSubspaceManager\n",
    "from symmer.utils import exact_gs_energy\n",
    "\n",
    "QSM = QubitSubspaceManager(H)"
   ]
  },
  {
   "cell_type": "markdown",
   "id": "47ebb277",
   "metadata": {},
   "source": [
    "As above, you run the qubit reduction procedure with no additional input, like so:"
   ]
  },
  {
   "cell_type": "code",
   "execution_count": 4,
   "id": "2df479da",
   "metadata": {},
   "outputs": [
    {
     "name": "stderr",
     "output_type": "stream",
     "text": [
      "/home/tweaving/anaconda3/envs/symmer/lib/python3.8/site-packages/symmer/operators/independent_op.py:248: UserWarning: The stabilizers ['IIIIX', 'IIIXI', 'IIXII'] were assigned zero values - bad reference state.\n",
      "  warnings.warn(f'The stabilizers {S_zero} were assigned zero values - bad reference state.')\n"
     ]
    },
    {
     "name": "stdout",
     "output_type": "stream",
     "text": [
      "Number of qubits in the 4-qubit reduced Hamiltonian: 4\n",
      "Number of terms  in the 4-qubit reduced Hamiltonian: 36\n",
      "Error with respect to the true ground state:  0.304 mHa\n"
     ]
    }
   ],
   "source": [
    "n_qubits = 4 # the desired number of qubits in the reduced space\n",
    "H_reduced = QSM.get_reduced_hamiltonian(n_qubits=n_qubits)\n",
    "reduced_gs_energy, reduced_gs_state = exact_gs_energy(H_reduced.to_sparse_matrix)\n",
    "\n",
    "print(f'Number of qubits in the {n_qubits}-qubit reduced Hamiltonian: {H_reduced.n_qubits}')\n",
    "print(f'Number of terms  in the {n_qubits}-qubit reduced Hamiltonian: {H_reduced.n_terms}')\n",
    "print(f'Error with respect to the true ground state: {abs(gs_energy - reduced_gs_energy)*1e3: .3f} mHa')"
   ]
  },
  {
   "cell_type": "markdown",
   "id": "d64390a9",
   "metadata": {},
   "source": [
    "Even with no additional input into the `QubitSubspaceManager`, we were able to identify a reduction from $10 \\rightarrow 4$ qubits while only incurring an energy error of $0.3$mHa, well below the generally accepted threshold of chemical precision at $1.6$mHa! However, if we provide some additional information, we can do even better...\n",
    "\n",
    "We shall also define the Hartree-Fock state and Coupled-Cluster operator:"
   ]
  },
  {
   "cell_type": "code",
   "execution_count": 5,
   "id": "532ad80c",
   "metadata": {},
   "outputs": [
    {
     "name": "stdout",
     "output_type": "stream",
     "text": [
      "Hartree-Fock state:  1.000+0.000j |1111000000>\n",
      "\n",
      "Coupled-Cluster Singles Doubles (CCSD) generator:\n",
      "\n",
      " 0.025+0.000j IIXXIIIIXY +\n",
      " 0.025+0.000j IIXXIIIIYX +\n",
      "-0.025+0.000j IIXYIIIIXX +\n",
      " 0.025+0.000j IIXYIIIIYY +\n",
      "-0.025+0.000j IIYXIIIIXX +\n",
      " 0.025+0.000j IIYXIIIIYY +\n",
      "-0.025+0.000j IIYYIIIIXY +\n",
      "-0.025+0.000j IIYYIIIIYX +\n",
      " 0.025+0.000j IIXXIIXYII +\n",
      " 0.025+0.000j IIXXIIYXII +\n",
      "-0.025+0.000j IIXYIIXXII +\n",
      " 0.025+0.000j IIXYIIYYII +\n",
      "-0.025+0.000j IIYXIIXXII +\n",
      " 0.025+0.000j IIYXIIYYII +\n",
      "-0.025+0.000j IIYYIIXYII +\n",
      "-0.025+0.000j IIYYIIYXII +\n",
      " 0.025+0.000j IIXXXYIIII +\n",
      " 0.025+0.000j IIXXYXIIII +\n",
      "-0.025+0.000j IIXYXXIIII +\n",
      " 0.025+0.000j IIXYYYIIII +\n",
      "-0.025+0.000j IIYXXXIIII +\n",
      " 0.025+0.000j IIYXYYIIII +\n",
      "-0.025+0.000j IIYYXYIIII +\n",
      "-0.025+0.000j IIYYYXIIII +\n",
      "-0.000+0.000j IXXIIIIIXY +\n",
      "-0.000+0.000j IXXIIIIIYX +\n",
      " 0.000+0.000j IXYIIIIIXX +\n",
      "-0.000+0.000j IXYIIIIIYY +\n",
      " 0.000+0.000j IYXIIIIIXX +\n",
      "-0.000+0.000j IYXIIIIIYY +\n",
      " 0.000+0.000j IYYIIIIIXY +\n",
      " 0.000+0.000j IYYIIIIIYX +\n",
      "-0.000+0.000j IXXIIIXYII +\n",
      "-0.000+0.000j IXXIIIYXII +\n",
      " 0.000+0.000j IXYIIIXXII +\n",
      "-0.000+0.000j IXYIIIYYII +\n",
      " 0.000+0.000j IYXIIIXXII +\n",
      "-0.000+0.000j IYXIIIYYII +\n",
      " 0.000+0.000j IYYIIIXYII +\n",
      " 0.000+0.000j IYYIIIYXII +\n",
      "-0.000+0.000j IXXIXYIIII +\n",
      "-0.000+0.000j IXXIYXIIII +\n",
      " 0.000+0.000j IXYIXXIIII +\n",
      "-0.000+0.000j IXYIYYIIII +\n",
      " 0.000+0.000j IYXIXXIIII +\n",
      "-0.000+0.000j IYXIYYIIII +\n",
      " 0.000+0.000j IYYIXYIIII +\n",
      " 0.000+0.000j IYYIYXIIII +\n",
      " 0.000+0.000j XZZXIIIIXY +\n",
      " 0.000+0.000j XZZXIIIIYX +\n",
      "-0.000+0.000j XZZYIIIIXX +\n",
      " 0.000+0.000j XZZYIIIIYY +\n",
      "-0.000+0.000j YZZXIIIIXX +\n",
      " 0.000+0.000j YZZXIIIIYY +\n",
      "-0.000+0.000j YZZYIIIIXY +\n",
      "-0.000+0.000j YZZYIIIIYX +\n",
      " 0.000+0.000j XZZXIIXYII +\n",
      " 0.000+0.000j XZZXIIYXII +\n",
      "-0.000+0.000j XZZYIIXXII +\n",
      " 0.000+0.000j XZZYIIYYII +\n",
      "-0.000+0.000j YZZXIIXXII +\n",
      " 0.000+0.000j YZZXIIYYII +\n",
      "-0.000+0.000j YZZYIIXYII +\n",
      "-0.000+0.000j YZZYIIYXII +\n",
      " 0.000+0.000j XZZXXYIIII +\n",
      " 0.000+0.000j XZZXYXIIII +\n",
      "-0.000+0.000j XZZYXXIIII +\n",
      " 0.000+0.000j XZZYYYIIII +\n",
      "-0.000+0.000j YZZXXXIIII +\n",
      " 0.000+0.000j YZZXYYIIII +\n",
      "-0.000+0.000j YZZYXYIIII +\n",
      "-0.000+0.000j YZZYYXIIII +\n",
      " 0.000+0.000j XXIIIIIIXY +\n",
      " 0.000+0.000j XXIIIIIIYX +\n",
      "-0.000+0.000j XYIIIIIIXX +\n",
      " 0.000+0.000j XYIIIIIIYY +\n",
      "-0.000+0.000j YXIIIIIIXX +\n",
      " 0.000+0.000j YXIIIIIIYY +\n",
      "-0.000+0.000j YYIIIIIIXY +\n",
      "-0.000+0.000j YYIIIIIIYX +\n",
      " 0.000+0.000j XXIIIIXYII +\n",
      " 0.000+0.000j XXIIIIYXII +\n",
      "-0.000+0.000j XYIIIIXXII +\n",
      " 0.000+0.000j XYIIIIYYII +\n",
      "-0.000+0.000j YXIIIIXXII +\n",
      " 0.000+0.000j YXIIIIYYII +\n",
      "-0.000+0.000j YYIIIIXYII +\n",
      "-0.000+0.000j YYIIIIYXII +\n",
      " 0.000+0.000j XXIIXYIIII +\n",
      " 0.000+0.000j XXIIYXIIII +\n",
      "-0.000+0.000j XYIIXXIIII +\n",
      " 0.000+0.000j XYIIYYIIII +\n",
      "-0.000+0.000j YXIIXXIIII +\n",
      " 0.000+0.000j YXIIYYIIII +\n",
      "-0.000+0.000j YYIIXYIIII +\n",
      "-0.000+0.000j YYIIYXIIII\n"
     ]
    }
   ],
   "source": [
    "from symmer import QuantumState\n",
    "\n",
    "# Hartree-Fock state\n",
    "HF_state = QuantumState(data_dict['data']['hf_array'])\n",
    "# Coupled-Cluster Singles Doubles (CCSD) generator\n",
    "CCSD_gen = PauliwordOp.from_dictionary(data_dict['data']['auxiliary_operators']['UCCSD_operator'])\n",
    "print(f'Hartree-Fock state: {HF_state}\\n')\n",
    "print('Coupled-Cluster Singles Doubles (CCSD) generator:\\n')\n",
    "print(CCSD_gen)"
   ]
  },
  {
   "cell_type": "markdown",
   "id": "8e1d3ab3",
   "metadata": {},
   "source": [
    "Now, we shall re-initialise the `QubitSubspaceManager` but with this new information:"
   ]
  },
  {
   "cell_type": "code",
   "execution_count": 6,
   "id": "6128c611",
   "metadata": {},
   "outputs": [
    {
     "name": "stdout",
     "output_type": "stream",
     "text": [
      "Number of qubits in the 3-qubit reduced Hamiltonian: 3\n",
      "Number of terms  in the 3-qubit reduced Hamiltonian: 20\n",
      "Error with respect to the true ground state:  0.327 mHa\n"
     ]
    }
   ],
   "source": [
    "from symmer import QubitSubspaceManager\n",
    "from symmer.utils import exact_gs_energy\n",
    "\n",
    "# input the Hartree-Fock state as the ref_state\n",
    "QSM = QubitSubspaceManager(H, ref_state=HF_state)\n",
    "\n",
    "n_qubits = 3 # the desired number of qubits in the reduced space\n",
    "# include the CCSD generator as the aux_operator:\n",
    "H_reduced = QSM.get_reduced_hamiltonian(n_qubits=n_qubits, aux_operator=CCSD_gen)\n",
    "reduced_gs_energy, reduced_gs_state = exact_gs_energy(H_reduced.to_sparse_matrix)\n",
    "\n",
    "print(f'Number of qubits in the {n_qubits}-qubit reduced Hamiltonian: {H_reduced.n_qubits}')\n",
    "print(f'Number of terms  in the {n_qubits}-qubit reduced Hamiltonian: {H_reduced.n_terms}')\n",
    "print(f'Error with respect to the true ground state: {abs(gs_energy - reduced_gs_energy)*1e3: .3f} mHa')"
   ]
  },
  {
   "cell_type": "markdown",
   "id": "92df2a61",
   "metadata": {},
   "source": [
    "We have now manged to maintain the same error level of $0.3$mHa but at an even more dramatic reduction of $10 \\rightarrow 3$ qubits!\n",
    "\n",
    "It is also possible the project the aux_operator into the same 3-qubit subspace so that you can then run VQE over the contextual subspace:"
   ]
  },
  {
   "cell_type": "code",
   "execution_count": 7,
   "id": "1595ea00",
   "metadata": {},
   "outputs": [
    {
     "name": "stdout",
     "output_type": "stream",
     "text": [
      "3-qubit reduced Hartree-Fock state:  1.000+0.000j |000>\n",
      "\n",
      "3-qubit reduced CCSD generator:\n",
      "\n",
      "-0.098+0.000j IIY +\n",
      "-0.098+0.000j ZZY +\n",
      "-0.098+0.000j IYI +\n",
      "-0.098+0.000j ZYZ +\n",
      "-0.098+0.000j YII +\n",
      "-0.098+0.000j YZZ\n"
     ]
    }
   ],
   "source": [
    "CCSD_reduced = QSM.project_auxiliary_operator(CCSD_gen)\n",
    "HF_reduced   = QSM.project_auxiliary_state(HF_state)\n",
    "print(f'{n_qubits}-qubit reduced Hartree-Fock state: {HF_reduced}\\n')\n",
    "print(f'{n_qubits}-qubit reduced CCSD generator:\\n')\n",
    "print(CCSD_reduced)"
   ]
  },
  {
   "cell_type": "markdown",
   "id": "d8dac55f",
   "metadata": {},
   "source": [
    "And finally, VQE:"
   ]
  },
  {
   "cell_type": "code",
   "execution_count": 8,
   "id": "deccba66",
   "metadata": {},
   "outputs": [
    {
     "name": "stdout",
     "output_type": "stream",
     "text": [
      "VQE error:  0.00033 Ha\n"
     ]
    }
   ],
   "source": [
    "from symmer.evolution import VQE_Driver\n",
    "\n",
    "vqe = VQE_Driver(observable=H_reduced, excitation_ops=CCSD_reduced, ref_state=HF_reduced)\n",
    "vqe.verbose = False\n",
    "vqe_result, interim_data = vqe.run()\n",
    "vqe_error = vqe_result['fun'] - gs_energy\n",
    "print(f'VQE error: {vqe_error: .5f} Ha')"
   ]
  },
  {
   "cell_type": "code",
   "execution_count": 9,
   "id": "fd3ce7d9",
   "metadata": {},
   "outputs": [
    {
     "data": {
      "image/png": "[encoded data removed]",
      "text/plain": [
       "<Figure size 640x480 with 2 Axes>"
      ]
     },
     "metadata": {},
     "output_type": "display_data"
    }
   ],
   "source": [
    "from matplotlib import pyplot as plt\n",
    "\n",
    "fig, axis = plt.subplots()\n",
    "X,Y = zip(*interim_data['energy'].items())\n",
    "axis.plot(X, abs(np.array(Y)-gs_energy), color='black', label='$E(\\\\theta)$')\n",
    "axis.fill_between(X, 0, 0.0016, color='green', alpha=0.2, label='Chemical precision')\n",
    "axis.set_yscale('log')\n",
    "axis.set_ylabel('FCI Error [$\\log_{10}$(Ha)]')\n",
    "axis.set_xlabel('nfev')\n",
    "axis_param = axis.twinx()\n",
    "X,Y_params = zip(*interim_data['params'].items())\n",
    "axis_param.plot(X, Y_params, ls=':', lw=1)\n",
    "axis_param.set_ylabel('Ansatz parameters $\\\\theta$')\n",
    "axis.legend()\n",
    "plt.show()"
   ]
  }
 ],
 "metadata": {
  "kernelspec": {
   "display_name": "Python 3 (ipykernel)",
   "language": "python",
   "name": "python3"
  },
  "language_info": {
   "codemirror_mode": {
    "name": "ipython",
    "version": 3
   },
   "file_extension": ".py",
   "mimetype": "text/x-python",
   "name": "python",
   "nbconvert_exporter": "python",
   "pygments_lexer": "ipython3",
   "version": "3.8.13"
  }
 },
 "nbformat": 4,
 "nbformat_minor": 5
}
