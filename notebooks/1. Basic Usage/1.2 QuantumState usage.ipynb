{
 "cells": [
  {
   "cell_type": "markdown",
   "id": "c07b9d6d",
   "metadata": {},
   "source": [
    "# The `QuantumState` class\n",
    "\n",
    "Express an N-qubit quantum state as an array of N columns, where rows are binary bit values, complemented by a vector of coefficients. Note the similarity with the symplectic representation - indeed, the QuantumState class will infact set the above array as the X block in a PauliwordOp, with the Z block its complement.\n",
    "\n",
    "What we are doing here is writing $|0\\rangle = Z|0\\rangle$ and $|1\\rangle = X|0\\rangle$, which ensures correct phases when multiplying the state by Pauli operators, since\n",
    "\n",
    "$$X|0\\rangle = XZ|0\\rangle = -iY|0\\rangle = |1\\rangle,\\; X|1\\rangle = XX|0\\rangle = |0\\rangle$$\n",
    "$$Y|0\\rangle = YZ|0\\rangle = iX|0\\rangle = i|1\\rangle,\\; Y|1\\rangle = YX|0\\rangle = -iZ|0\\rangle = -i|0\\rangle$$\n",
    "$$Z|0\\rangle = ZZ|0\\rangle = |0\\rangle,\\; Z|1\\rangle = ZX|0\\rangle = iY|0\\rangle = -|1\\rangle$$\n",
    "\n",
    "Finally, we have $$| \\vec{b} \\rangle = \\bigotimes_{i=1}^N \\big(b_i X + (1-b_i) Z\\big) | \\vec{0} \\rangle$$ and we may drop the zero vector and use the functionality of PauliwordOp to manipulate quantum states. In this represenation, a quantum state is stored as an operator consisting of Paulis $X, Z$, which is implicitly applied to the zero (or vacuum) state. "
   ]
  },
  {
   "cell_type": "code",
   "execution_count": 21,
   "id": "b71a6aa8",
   "metadata": {},
   "outputs": [],
   "source": [
    "import numpy as np\n",
    "from symmer.symplectic import PauliwordOp, QuantumState"
   ]
  },
  {
   "cell_type": "markdown",
   "id": "14efa282",
   "metadata": {},
   "source": [
    "Firstly, note the correct phases under multiplication by a Pauli Y:"
   ]
  },
  {
   "cell_type": "code",
   "execution_count": 22,
   "id": "e5131b2d",
   "metadata": {},
   "outputs": [
    {
     "name": "stdout",
     "output_type": "stream",
     "text": [
      " 1.000+0.000j |0> ->  0.000+1.000j |1>\n",
      " 1.000+0.000j |1> ->  0.000-1.000j |0>\n"
     ]
    }
   ],
   "source": [
    "zero = QuantumState([[0]])\n",
    "one = QuantumState([[1]])\n",
    "Y = PauliwordOp.from_list(['Y'], [1])\n",
    "\n",
    "print(f'{zero} -> {Y * zero}')\n",
    "print(f'{one} -> {Y * one}')"
   ]
  },
  {
   "cell_type": "markdown",
   "id": "2e3a82d3",
   "metadata": {},
   "source": [
    "Now, let's see what happens when we apply the Hadamard gate to the zero state:"
   ]
  },
  {
   "cell_type": "code",
   "execution_count": 23,
   "id": "3a03866a",
   "metadata": {},
   "outputs": [
    {
     "name": "stdout",
     "output_type": "stream",
     "text": [
      "Zero state:  1.000+0.000j |00>\n",
      "\n",
      "After application of a Hadamard gate on each qubit position:\n",
      "\n",
      " 0.500+0.000j |00> +\n",
      " 0.500+0.000j |01> +\n",
      " 0.500+0.000j |10> +\n",
      " 0.500-0.000j |11>\n"
     ]
    }
   ],
   "source": [
    "from symmer.evolution import Had\n",
    "psi = QuantumState([[0,0]])\n",
    "H = Had(1, 0)\n",
    "HH = H.tensor(H)\n",
    "eq_superposition = HH * psi\n",
    "print(f'Zero state: {psi}\\n')\n",
    "print(f'After application of a Hadamard gate on each qubit position:\\n\\n{eq_superposition}')"
   ]
  },
  {
   "cell_type": "markdown",
   "id": "bd6c7f78",
   "metadata": {},
   "source": [
    "Observe that the QuantumState is represented internally by its `state_op`, a PauliwordOp object that governs its behaviour under multiplication"
   ]
  },
  {
   "cell_type": "code",
   "execution_count": 24,
   "id": "6c007a11",
   "metadata": {},
   "outputs": [
    {
     "name": "stdout",
     "output_type": "stream",
     "text": [
      " 0.500+0.000j ZZ +\n",
      " 0.500+0.000j ZX +\n",
      " 0.500+0.000j XZ +\n",
      " 0.500-0.000j XX\n"
     ]
    }
   ],
   "source": [
    "print(eq_superposition.state_op)"
   ]
  },
  {
   "cell_type": "markdown",
   "id": "66c9bd60",
   "metadata": {},
   "source": [
    "Try evaluating expectation values for randomly generated states and Hermitian operators:"
   ]
  },
  {
   "cell_type": "code",
   "execution_count": 25,
   "id": "277acf81",
   "metadata": {},
   "outputs": [
    {
     "name": "stdout",
     "output_type": "stream",
     "text": [
      " 0.236+0.024j |01011> +\n",
      " 0.221+0.270j |10001> +\n",
      " 0.112+0.245j |10001> +\n",
      " 0.144+0.300j |10110> +\n",
      " 0.188+0.324j |11000> +\n",
      " 0.292+0.235j |11001> +\n",
      " 0.076+0.306j |01110> +\n",
      " 0.063+0.074j |01011> +\n",
      " 0.207+0.201j |10000> +\n",
      " 0.322+0.249j |10010>\n",
      "\n",
      " 0.209+0.121j |11110> +\n",
      " 0.210+0.298j |01010> +\n",
      " 0.055+0.066j |11010> +\n",
      " 0.289+0.319j |11111> +\n",
      " 0.242+0.344j |11111> +\n",
      " 0.020+0.218j |11111> +\n",
      " 0.263+0.076j |01001> +\n",
      " 0.308+0.179j |11001> +\n",
      " 0.317+0.217j |10100> +\n",
      " 0.196+0.048j |10111>\n"
     ]
    }
   ],
   "source": [
    "N = 5 # number of qubits\n",
    "M = 10 # number of terms\n",
    "\n",
    "psi_1 = QuantumState.random_state(N, M)\n",
    "psi_2 = QuantumState.random_state(N, M)\n",
    "\n",
    "print(psi_1)\n",
    "print()\n",
    "print(psi_2)"
   ]
  },
  {
   "cell_type": "code",
   "execution_count": 26,
   "id": "2c9aa59f",
   "metadata": {},
   "outputs": [
    {
     "name": "stdout",
     "output_type": "stream",
     "text": [
      " 0.148+0.043j |01001> +\n",
      " 0.118+0.168j |01010> +\n",
      " 0.168+0.055j |01011> +\n",
      " 0.043+0.172j |01110> +\n",
      " 0.117+0.113j |10000> +\n",
      " 0.187+0.291j |10001> +\n",
      " 0.181+0.140j |10010> +\n",
      " 0.178+0.122j |10100> +\n",
      " 0.081+0.169j |10110> +\n",
      " 0.110+0.027j |10111> +\n",
      " 0.106+0.183j |11000> +\n",
      " 0.338+0.233j |11001> +\n",
      " 0.031+0.037j |11010> +\n",
      " 0.118+0.068j |11110> +\n",
      " 0.311+0.497j |11111>\n",
      "\n",
      "Norm: (0.9999999999999999+0j)\n"
     ]
    }
   ],
   "source": [
    "psi = (psi_1 + psi_2).normalize\n",
    "print(psi)\n",
    "print()\n",
    "print('Norm:', psi.dagger * psi)"
   ]
  },
  {
   "cell_type": "markdown",
   "id": "54218b69",
   "metadata": {},
   "source": [
    "We may also generate haar-random states, although this is more computationally expensive due to an internal QR-decomposition."
   ]
  },
  {
   "cell_type": "code",
   "execution_count": 27,
   "id": "05dc6d0a",
   "metadata": {},
   "outputs": [
    {
     "name": "stdout",
     "output_type": "stream",
     "text": [
      "-0.009+0.044j |00000> +\n",
      "-0.036-0.036j |00001> +\n",
      "-0.093+0.027j |00010> +\n",
      " 0.306+0.094j |00011> +\n",
      " 0.182-0.058j |00100> +\n",
      " 0.058+0.059j |00101> +\n",
      " 0.256+0.302j |00110> +\n",
      " 0.188-0.128j |00111> +\n",
      "-0.064-0.104j |01000> +\n",
      " 0.215-0.025j |01001> +\n",
      " 0.146+0.247j |01010> +\n",
      "-0.208-0.058j |01011> +\n",
      "-0.031-0.014j |01100> +\n",
      "-0.072-0.038j |01101> +\n",
      "-0.044-0.022j |01110> +\n",
      "-0.257+0.020j |01111> +\n",
      " 0.096+0.078j |10000> +\n",
      " 0.098+0.068j |10001> +\n",
      "-0.004-0.041j |10010> +\n",
      " 0.172-0.006j |10011> +\n",
      " 0.110-0.157j |10100> +\n",
      " 0.144-0.136j |10101> +\n",
      " 0.059+0.147j |10110> +\n",
      "-0.103+0.125j |10111> +\n",
      "-0.034+0.005j |11000> +\n",
      "-0.041+0.155j |11001> +\n",
      " 0.103-0.003j |11010> +\n",
      "-0.289-0.012j |11011> +\n",
      " 0.029+0.077j |11100> +\n",
      " 0.115-0.070j |11101> +\n",
      "-0.091+0.124j |11110> +\n",
      " 0.075-0.039j |11111>\n"
     ]
    }
   ],
   "source": [
    "psi = QuantumState.haar_random(N)\n",
    "print(psi)"
   ]
  },
  {
   "cell_type": "code",
   "execution_count": 28,
   "id": "bc1e9705",
   "metadata": {},
   "outputs": [
    {
     "name": "stdout",
     "output_type": "stream",
     "text": [
      "Generate a random Hermitian operator:\n",
      "\n",
      " 1.118+0.000j YZXYZ +\n",
      " 0.222+0.000j ZIZIX +\n",
      " 0.675+0.000j XXIYX +\n",
      "-2.429+0.000j ZZXXI +\n",
      " 0.131+0.000j ZZZZZ +\n",
      "-1.408+0.000j ZYXYY +\n",
      "-0.834+0.000j YXIZX +\n",
      " 1.586+0.000j ZIYYI +\n",
      "-1.057+0.000j ZZYXY +\n",
      " 1.316+0.000j YIZIY\n",
      "\n",
      "Expectation value <psi|op|psi> = 0.4313721369770473\n"
     ]
    }
   ],
   "source": [
    "print('Generate a random Hermitian operator:\\n')\n",
    "op = PauliwordOp.random(N, 10, complex_coeffs=False)\n",
    "print(op)\n",
    "print()\n",
    "print('Expectation value <psi|op|psi> =', (psi.dagger * op * psi).real)"
   ]
  },
  {
   "cell_type": "markdown",
   "id": "bca48c97",
   "metadata": {},
   "source": [
    "It is also possible to convert from a $2^N$ dimensional statevector over $N$ qubits to a `QuantumState` object, via the `from_array` initialization method:"
   ]
  },
  {
   "cell_type": "code",
   "execution_count": 29,
   "id": "bb741ebd",
   "metadata": {},
   "outputs": [
    {
     "name": "stdout",
     "output_type": "stream",
     "text": [
      " 0.408+0.000j |0000000000> +\n",
      " 0.577+0.000j |0011111010> +\n",
      " 0.707+0.000j |0111110100>\n",
      "(1+0j)\n"
     ]
    }
   ],
   "source": [
    "statevector = np.zeros(2**10).reshape([-1,1])\n",
    "statevector[0]   = np.sqrt(1/6)\n",
    "statevector[250] = np.sqrt(2/6)\n",
    "statevector[500] = np.sqrt(3/6)\n",
    "psi = QuantumState.from_array(statevector)\n",
    "print(psi)\n",
    "print(psi.dagger * psi)"
   ]
  },
  {
   "cell_type": "markdown",
   "id": "ca88faef",
   "metadata": {},
   "source": [
    "# Manipulating Quantum Measurement Data\n",
    "\n",
    "Given a dictionary of measurement outcomes from a quantum experiment, we may intialize a QuantumState for further postprocessing.\n",
    "\n",
    "- Dictionary given as: \n",
    "    - key=bitstring\n",
    "    - value=number of occurences or relative frequency"
   ]
  },
  {
   "cell_type": "code",
   "execution_count": 30,
   "id": "7c0d7bcd",
   "metadata": {},
   "outputs": [
    {
     "data": {
      "text/plain": [
       " 4.000+0.000j |0101> +\n",
       " 10.000+0.000j |1101> +\n",
       " 20.000+0.000j |0001> +\n",
       " 16.000+0.000j |1111>"
      ]
     },
     "execution_count": 30,
     "metadata": {},
     "output_type": "execute_result"
    }
   ],
   "source": [
    "measurement_data = {\n",
    "    '0101':4,\n",
    "    '1101':10,\n",
    "    '0001':20,\n",
    "    '1111':16\n",
    "}\n",
    "\n",
    "psi_measured = QuantumState.from_dictionary(measurement_data)\n",
    "psi_measured"
   ]
  },
  {
   "cell_type": "markdown",
   "id": "a5ef6ef0",
   "metadata": {},
   "source": [
    "The coefficients here are the number of occurences of each output bitstring. These may be normalized using `normalize_counts` to ensure the correct probability distrubution is preserved:"
   ]
  },
  {
   "cell_type": "code",
   "execution_count": 31,
   "id": "4d645b45",
   "metadata": {},
   "outputs": [
    {
     "name": "stdout",
     "output_type": "stream",
     "text": [
      " 0.283+0.000j |0101> +\n",
      " 0.447+0.000j |1101> +\n",
      " 0.632+0.000j |0001> +\n",
      " 0.566+0.000j |1111>\n"
     ]
    },
    {
     "data": {
      "image/png": "[encoded data removed]",
      "text/plain": [
       "<Figure size 300x200 with 1 Axes>"
      ]
     },
     "metadata": {
      "needs_background": "light"
     },
     "output_type": "display_data"
    }
   ],
   "source": [
    "print(psi_measured.normalize_counts)\n",
    "ax = psi_measured.normalize_counts.plot_state(dpi=50)"
   ]
  },
  {
   "cell_type": "markdown",
   "id": "98feda0a",
   "metadata": {},
   "source": [
    "This is __not__ the same as taking the $L^2$-norm - the probability distrubtions do not align."
   ]
  },
  {
   "cell_type": "code",
   "execution_count": 32,
   "id": "2bd472ba",
   "metadata": {},
   "outputs": [
    {
     "name": "stdout",
     "output_type": "stream",
     "text": [
      " 0.144+0.000j |0101> +\n",
      " 0.360+0.000j |1101> +\n",
      " 0.720+0.000j |0001> +\n",
      " 0.576+0.000j |1111>\n"
     ]
    },
    {
     "data": {
      "image/png": "[encoded data removed]",
      "text/plain": [
       "<Figure size 300x200 with 1 Axes>"
      ]
     },
     "metadata": {
      "needs_background": "light"
     },
     "output_type": "display_data"
    }
   ],
   "source": [
    "print(psi_measured.normalize)\n",
    "# this shouldn't be used for normalizing quantum experiment data\n",
    "# ... but functionality is still useful for normalizing states in the general setting\n",
    "ax = psi_measured.normalize.plot_state(dpi=50)"
   ]
  },
  {
   "cell_type": "markdown",
   "id": "480c0ade",
   "metadata": {},
   "source": [
    "# State sampling\n",
    "\n",
    "It is also possible to randomly sample the state, just like a quantum experiment - this is particularly useful for the purposes of bootstrapping for statistical analysis of quantum experiments."
   ]
  },
  {
   "cell_type": "code",
   "execution_count": 33,
   "id": "5653acac",
   "metadata": {},
   "outputs": [
    {
     "data": {
      "text/plain": [
       " 0.200+0.000j |0101> +\n",
       " 0.447+0.000j |1101> +\n",
       " 0.529+0.000j |0001> +\n",
       " 0.693+0.000j |1111>"
      ]
     },
     "execution_count": 33,
     "metadata": {},
     "output_type": "execute_result"
    }
   ],
   "source": [
    "psi_measured_normalized = psi_measured.normalize_counts\n",
    "psi_measured_normalized.sample_state(n_samples=50, return_normalized=True)"
   ]
  },
  {
   "cell_type": "markdown",
   "id": "5eaed274",
   "metadata": {},
   "source": [
    "Given enough samples, the original state will be reproduced exactly:"
   ]
  },
  {
   "cell_type": "code",
   "execution_count": 34,
   "id": "f14fe0a8",
   "metadata": {},
   "outputs": [
    {
     "name": "stdout",
     "output_type": "stream",
     "text": [
      "With n_samples=1         , <psi_sampled|psi_true> = (0.565685424949238+0j)\n",
      "With n_samples=4         , <psi_sampled|psi_true> = (0.9536631057245559+0j)\n",
      "With n_samples=16        , <psi_sampled|psi_true> = (0.9785368169228137+0j)\n",
      "With n_samples=64        , <psi_sampled|psi_true> = (0.9880094617859954+0j)\n",
      "With n_samples=256       , <psi_sampled|psi_true> = (0.9979956122926343+0j)\n",
      "With n_samples=1024      , <psi_sampled|psi_true> = (0.9996961647743783+0j)\n",
      "With n_samples=4096      , <psi_sampled|psi_true> = (0.9999363594211486+0j)\n",
      "With n_samples=16384     , <psi_sampled|psi_true> = (0.9999952211731546+0j)\n",
      "With n_samples=65536     , <psi_sampled|psi_true> = (0.999992069869821+0j)\n",
      "With n_samples=262144    , <psi_sampled|psi_true> = (0.9999998393622556+0j)\n",
      "With n_samples=1048576   , <psi_sampled|psi_true> = (0.9999992981791623+0j)\n",
      "With n_samples=4194304   , <psi_sampled|psi_true> = (0.9999999843659798+0j)\n",
      "With n_samples=16777216  , <psi_sampled|psi_true> = (0.9999999898761083+0j)\n",
      "With n_samples=67108864  , <psi_sampled|psi_true> = (0.9999999978134162+0j)\n",
      "With n_samples=268435456 , <psi_sampled|psi_true> = (0.9999999998605718+0j)\n"
     ]
    }
   ],
   "source": [
    "for n_samples in 2**np.arange(0, 30, 2):\n",
    "    psi_sampled = psi_measured_normalized.sample_state(n_samples=n_samples, return_normalized=True)\n",
    "    print(f'With n_samples={n_samples: <10}, <psi_sampled|psi_true> = {psi_sampled.dagger * psi_measured_normalized}')"
   ]
  },
  {
   "cell_type": "markdown",
   "id": "cfd71f22",
   "metadata": {},
   "source": [
    "# Plotting probabillity amplitudes of quantum state"
   ]
  },
  {
   "cell_type": "code",
   "execution_count": 35,
   "id": "8b6fe4c7",
   "metadata": {},
   "outputs": [
    {
     "name": "stdout",
     "output_type": "stream",
     "text": [
      " 0.067+0.238j |000> +\n",
      " 0.307-0.022j |001> +\n",
      " 0.314-0.032j |010> +\n",
      "-0.070+0.090j |011> +\n",
      " 0.091-0.128j |100> +\n",
      "-0.064-0.075j |101> +\n",
      " 0.227+0.551j |110> +\n",
      "-0.197-0.550j |111>\n"
     ]
    }
   ],
   "source": [
    "%matplotlib inline\n",
    "random_state = QuantumState.haar_random(3, vec_type='ket')\n",
    "print(random_state)"
   ]
  },
  {
   "cell_type": "code",
   "execution_count": 36,
   "id": "2fdfbaf2",
   "metadata": {},
   "outputs": [
    {
     "data": {
      "image/png": "[encoded data removed]",
      "text/plain": [
       "<Figure size 600x400 with 1 Axes>"
      ]
     },
     "metadata": {
      "needs_background": "light"
     },
     "output_type": "display_data"
    }
   ],
   "source": [
    "ax = random_state.plot_state(dpi=100)"
   ]
  },
  {
   "cell_type": "code",
   "execution_count": 37,
   "id": "267f7600",
   "metadata": {},
   "outputs": [
    {
     "data": {
      "image/png": "[encoded data removed]",
      "text/plain": [
       "<Figure size 600x400 with 1 Axes>"
      ]
     },
     "metadata": {
      "needs_background": "light"
     },
     "output_type": "display_data"
    }
   ],
   "source": [
    "%matplotlib inline\n",
    "random_large_state = QuantumState.haar_random(10, vec_type='ket')\n",
    "ax2 = random_large_state.plot_state(logscale=False)"
   ]
  },
  {
   "cell_type": "code",
   "execution_count": 38,
   "id": "47ba9923",
   "metadata": {},
   "outputs": [
    {
     "data": {
      "text/plain": [
       "<AxesSubplot:xlabel='binary output', ylabel='probability amplitude'>"
      ]
     },
     "execution_count": 38,
     "metadata": {},
     "output_type": "execute_result"
    },
    {
     "data": {
      "image/png": "[encoded data removed]",
      "text/plain": [
       "<Figure size 600x400 with 1 Axes>"
      ]
     },
     "metadata": {
      "needs_background": "light"
     },
     "output_type": "display_data"
    }
   ],
   "source": [
    "a = np.arange(2**4)\n",
    "a = a/np.linalg.norm(a)\n",
    "psi = QuantumState.from_array(a.reshape([-1,1]))\n",
    "psi.plot_state()"
   ]
  },
  {
   "cell_type": "code",
   "execution_count": 39,
   "id": "da477775",
   "metadata": {},
   "outputs": [
    {
     "data": {
      "text/plain": [
       "<AxesSubplot:xlabel='binary output', ylabel='probability amplitude'>"
      ]
     },
     "execution_count": 39,
     "metadata": {},
     "output_type": "execute_result"
    },
    {
     "data": {
      "image/png": "[encoded data removed]",
      "text/plain": [
       "<Figure size 600x400 with 1 Axes>"
      ]
     },
     "metadata": {
      "needs_background": "light"
     },
     "output_type": "display_data"
    }
   ],
   "source": [
    "psi.plot_state(logscale=True)"
   ]
  },
  {
   "cell_type": "code",
   "execution_count": 40,
   "id": "057c57e0",
   "metadata": {},
   "outputs": [
    {
     "data": {
      "text/plain": [
       "<AxesSubplot:xlabel='binary output', ylabel='probability amplitude'>"
      ]
     },
     "execution_count": 40,
     "metadata": {},
     "output_type": "execute_result"
    },
    {
     "data": {
      "image/png": "[encoded data removed]",
      "text/plain": [
       "<Figure size 600x400 with 1 Axes>"
      ]
     },
     "metadata": {
      "needs_background": "light"
     },
     "output_type": "display_data"
    }
   ],
   "source": [
    "psi.plot_state(probability_threshold=0.1)"
   ]
  },
  {
   "cell_type": "code",
   "execution_count": null,
   "id": "dcd1cabd",
   "metadata": {},
   "outputs": [],
   "source": []
  }
 ],
 "metadata": {
  "kernelspec": {
   "display_name": "Python 3 (ipykernel)",
   "language": "python",
   "name": "python3"
  },
  "language_info": {
   "codemirror_mode": {
    "name": "ipython",
    "version": 3
   },
   "file_extension": ".py",
   "mimetype": "text/x-python",
   "name": "python",
   "nbconvert_exporter": "python",
   "pygments_lexer": "ipython3",
   "version": "3.8.13"
  }
 },
 "nbformat": 4,
 "nbformat_minor": 5
}
