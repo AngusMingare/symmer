{
 "cells": [
  {
   "cell_type": "markdown",
   "id": "185d6c41",
   "metadata": {},
   "source": [
    "# Importing Hamiltonian data\n",
    "\n",
    "There are sample Hamiltonians stored in `symmer/tests/hamiltonian_data`"
   ]
  },
  {
   "cell_type": "code",
   "execution_count": 1,
   "id": "603b73fd",
   "metadata": {},
   "outputs": [],
   "source": [
    "import os\n",
    "from symmer import PauliwordOp, QuantumState\n",
    "import json\n",
    "import numpy as np"
   ]
  },
  {
   "cell_type": "code",
   "execution_count": 2,
   "id": "969ca4d4",
   "metadata": {},
   "outputs": [],
   "source": [
    "cwd = os.getcwd()\n",
    "notebook_dir =  os.path.dirname(cwd)\n",
    "symmer_dir = os.path.dirname(notebook_dir)\n",
    "test_dir = os.path.join(symmer_dir, 'tests')\n",
    "ham_data_dir = os.path.join(test_dir, 'hamiltonian_data')\n",
    "\n",
    "if not os.path.isdir(ham_data_dir):\n",
    "    raise ValueError('cannot find data dir')"
   ]
  },
  {
   "cell_type": "code",
   "execution_count": 3,
   "id": "286e552f",
   "metadata": {},
   "outputs": [
    {
     "data": {
      "text/plain": [
       "['C_STO-3G_TRIPLET_JW.json',\n",
       " 'H2_6-31G_SINGLET_JW.json',\n",
       " 'HCl_STO-3G_SINGLET_BK.json',\n",
       " 'HeH+_6-311G_SINGLET_BK.json',\n",
       " 'BeH2_STO-3G_SINGLET_JW.json',\n",
       " 'NH4+_STO-3G_SINGLET_BK.json',\n",
       " 'SiH4_STO-3G_SINGLET_JW.json',\n",
       " 'LiOH_STO-3G_SINGLET_JW.json',\n",
       " 'H2O_STO-3G_SINGLET_BK.json',\n",
       " 'LiOH_STO-3G_SINGLET_BK.json',\n",
       " 'OH-_STO-3G_SINGLET_BK.json',\n",
       " 'Be_STO-3G_SINGLET_JW.json',\n",
       " 'O2_STO-3G_TRIPLET_JW.json',\n",
       " 'BeH+_STO-3G_SINGLET_BK.json',\n",
       " 'H3+_3-21G_SINGLET_BK.json',\n",
       " 'H3+_3-21G_SINGLET_JW.json',\n",
       " 'H3+_STO-3G_SINGLET_JW.json',\n",
       " 'HCN_STO-3G_SINGLET_JW.json',\n",
       " 'H4_STO-3G_SINGLET_BK.json',\n",
       " 'NH2-_STO-3G_SINGLET_BK.json',\n",
       " 'LiH_STO-3G_SINGLET_JW.json',\n",
       " 'CH2_STO-3G_TRIPLET_JW.json',\n",
       " 'H6_STO-3G_SINGLET_JW.json',\n",
       " 'H2O_STO-3G_SINGLET_JW.json',\n",
       " 'CH+_STO-3G_SINGLET_BK.json',\n",
       " 'CH2_STO-3G_TRIPLET_BK.json',\n",
       " 'BeH+_STO-3G_SINGLET_JW.json',\n",
       " 'Li_STO-3G_DOUBLET_BK.json',\n",
       " 'H6_STO-3G_SINGLET_BK.json',\n",
       " 'NH_STO-3G_SINGLET_JW.json',\n",
       " 'CH3OH_STO-3G_SINGLET_JW.json',\n",
       " 'HF_3-21G_SINGLET_BK.json',\n",
       " 'HeH+_3-21G_SINGLET_JW.json',\n",
       " 'LiH_STO-3G_SINGLET_BK.json',\n",
       " 'NaCl_STO-3G_SINGLET_BK.json',\n",
       " 'N_STO-3G_QUARTET_BK.json',\n",
       " 'B+_STO-3G_SINGLET_JW.json',\n",
       " 'Li_STO-3G_DOUBLET_JW.json',\n",
       " 'NaH_STO-3G_SINGLET_JW.json',\n",
       " 'MgH2_STO-3G_SINGLET_BK.json',\n",
       " 'NH_STO-3G_SINGLET_BK.json',\n",
       " 'NH2-_STO-3G_SINGLET_JW.json',\n",
       " 'H4_STO-3G_SINGLET_JW.json',\n",
       " 'Mg_STO-3G_SINGLET_BK.json',\n",
       " 'CH3OH_STO-3G_SINGLET_BK.json',\n",
       " 'CO2_STO-3G_SINGLET_JW.json',\n",
       " 'CH4_STO-3G_SINGLET_JW.json',\n",
       " 'NaCl_STO-3G_SINGLET_JW.json',\n",
       " 'H3+_STO-3G_SINGLET_BK.json',\n",
       " 'NH3_STO-3G_SINGLET_JW.json',\n",
       " 'OH-_STO-3G_SINGLET_JW.json',\n",
       " 'H3O+_STO-3G_SINGLET_JW.json',\n",
       " 'BH_STO-3G_SINGLET_JW.json',\n",
       " 'HF_STO-3G_SINGLET_BK.json',\n",
       " 'NaH_STO-3G_SINGLET_BK.json',\n",
       " 'O2_STO-3G_TRIPLET_BK.json',\n",
       " 'CO2_STO-3G_SINGLET_BK.json',\n",
       " 'HeH+_6-311G_SINGLET_JW.json',\n",
       " 'N2_STO-3G_SINGLET_BK.json',\n",
       " 'NeH+_STO-3G_SINGLET_BK.json',\n",
       " 'C_STO-3G_TRIPLET_BK.json',\n",
       " 'H2_6-311G_SINGLET_BK.json',\n",
       " 'B_STO-3G_DOUBLET_JW.json',\n",
       " 'BeH2_STO-3G_SINGLET_BK.json',\n",
       " 'B+_STO-3G_SINGLET_BK.json',\n",
       " 'HeH+_3-21G_SINGLET_BK.json',\n",
       " 'HCN_STO-3G_SINGLET_BK.json',\n",
       " 'N_STO-3G_QUARTET_JW.json',\n",
       " 'HF_STO-3G_SINGLET_JW.json',\n",
       " 'HOOH_STO-3G_SINGLET_BK.json',\n",
       " 'CH+_STO-3G_SINGLET_JW.json',\n",
       " 'CH4_STO-3G_SINGLET_BK.json',\n",
       " 'H2S_STO-3G_SINGLET_BK.json',\n",
       " 'MgH2_STO-3G_SINGLET_JW.json',\n",
       " 'BH2+_STO-3G_SINGLET_JW.json',\n",
       " 'Mg_STO-3G_SINGLET_JW.json',\n",
       " 'B_STO-3G_DOUBLET_BK.json',\n",
       " 'NH4+_STO-3G_SINGLET_JW.json',\n",
       " 'H2_6-311G_SINGLET_JW.json',\n",
       " 'F2_STO-3G_SINGLET_JW.json',\n",
       " 'HF_3-21G_SINGLET_JW.json',\n",
       " 'NeH+_STO-3G_SINGLET_JW.json',\n",
       " 'H3O+_STO-3G_SINGLET_BK.json',\n",
       " 'O_STO-3G_TRIPLET_JW.json',\n",
       " 'BH_STO-3G_SINGLET_BK.json',\n",
       " 'H2_3-21G_SINGLET_JW.json',\n",
       " 'HOOH_STO-3G_SINGLET_JW.json',\n",
       " 'NH3_STO-3G_SINGLET_BK.json',\n",
       " 'N2_STO-3G_SINGLET_JW.json',\n",
       " 'LiH_3-21G_SINGLET_BK.json',\n",
       " 'H2S_STO-3G_SINGLET_JW.json',\n",
       " 'CO_STO-3G_SINGLET_BK.json',\n",
       " 'Be_STO-3G_SINGLET_BK.json',\n",
       " 'H2_3-21G_SINGLET_BK.json',\n",
       " 'H2_6-31G_SINGLET_BK.json',\n",
       " 'SiH4_STO-3G_SINGLET_BK.json',\n",
       " 'BH2+_STO-3G_SINGLET_BK.json',\n",
       " 'F2_STO-3G_SINGLET_BK.json',\n",
       " 'CO_STO-3G_SINGLET_JW.json',\n",
       " 'HCl_STO-3G_SINGLET_JW.json',\n",
       " 'LiH_3-21G_SINGLET_JW.json']"
      ]
     },
     "execution_count": 3,
     "metadata": {},
     "output_type": "execute_result"
    }
   ],
   "source": [
    "# possible json import files! \n",
    "os.listdir(ham_data_dir)"
   ]
  },
  {
   "cell_type": "code",
   "execution_count": 4,
   "id": "4f338a43",
   "metadata": {},
   "outputs": [],
   "source": [
    "filename = 'H4_STO-3G_SINGLET_JW.json'\n",
    "\n",
    "if filename not in os.listdir(ham_data_dir):\n",
    "    raise ValueError('unknown file')\n",
    "    \n",
    "with open(os.path.join(ham_data_dir, filename), 'r') as infile:\n",
    "    data_dict = json.load(infile)"
   ]
  },
  {
   "cell_type": "markdown",
   "id": "aca66754",
   "metadata": {},
   "source": [
    "# DATA keys"
   ]
  },
  {
   "cell_type": "code",
   "execution_count": 5,
   "id": "bd035fa1",
   "metadata": {},
   "outputs": [
    {
     "data": {
      "text/plain": [
       "['qubit_encoding',\n",
       " 'unit',\n",
       " 'geometry',\n",
       " 'basis',\n",
       " 'charge',\n",
       " 'spin',\n",
       " 'hf_array',\n",
       " 'n_particles',\n",
       " 'n_qubits',\n",
       " 'convergence_threshold',\n",
       " 'point_group',\n",
       " 'calculated_properties',\n",
       " 'auxiliary_operators']"
      ]
     },
     "execution_count": 5,
     "metadata": {},
     "output_type": "execute_result"
    }
   ],
   "source": [
    "list(data_dict['data'].keys())"
   ]
  },
  {
   "cell_type": "markdown",
   "id": "9ce7801d",
   "metadata": {},
   "source": [
    "# EXAMPLE usage"
   ]
  },
  {
   "cell_type": "code",
   "execution_count": 6,
   "id": "8700289f",
   "metadata": {},
   "outputs": [],
   "source": [
    "H_op = PauliwordOp.from_dictionary(data_dict['hamiltonian'])"
   ]
  },
  {
   "cell_type": "code",
   "execution_count": 7,
   "id": "8229f4b9",
   "metadata": {},
   "outputs": [
    {
     "data": {
      "text/plain": [
       "-1.081+0.000j IIIIIIII +\n",
       " 0.014+0.000j IIIIIIIZ +\n",
       " 0.014+0.000j IIIIIIZI +\n",
       " 0.094+0.000j IIIIIIZZ +\n",
       " 0.038+0.000j IIIIIZII +\n",
       " 0.050+0.000j IIIIIZIZ +\n",
       " 0.071+0.000j IIIIIZZI +\n",
       " 0.038+0.000j IIIIZIII +\n",
       " 0.071+0.000j IIIIZIIZ +\n",
       " 0.050+0.000j IIIIZIZI +\n",
       " 0.116+0.000j IIIIZZII +\n",
       " 0.038+0.000j IIIZIIII +\n",
       " 0.042+0.000j IIIZIIIZ +\n",
       " 0.101+0.000j IIIZIIZI +\n",
       " 0.054+0.000j IIIZIZII +\n",
       " 0.054+0.000j IIIZZIII +\n",
       " 0.038+0.000j IIZIIIII +\n",
       " 0.101+0.000j IIZIIIIZ +\n",
       " 0.042+0.000j IIZIIIZI +\n",
       " 0.054+0.000j IIZIIZII +\n",
       " 0.054+0.000j IIZIZIII +\n",
       " 0.116+0.000j IIZZIIII +\n",
       " 0.065+0.000j IZIIIIII +\n",
       " 0.054+0.000j IZIIIIIZ +\n",
       " 0.077+0.000j IZIIIIZI +\n",
       " 0.042+0.000j IZIIIZII +\n",
       " 0.099+0.000j IZIIZIII +\n",
       " 0.050+0.000j IZIZIIII +\n",
       " 0.069+0.000j IZZIIIII +\n",
       " 0.065+0.000j ZIIIIIII +\n",
       " 0.077+0.000j ZIIIIIIZ +\n",
       " 0.054+0.000j ZIIIIIZI +\n",
       " 0.099+0.000j ZIIIIZII +\n",
       " 0.042+0.000j ZIIIZIII +\n",
       " 0.069+0.000j ZIIZIIII +\n",
       " 0.050+0.000j ZIZIIIII +\n",
       " 0.091+0.000j ZZIIIIII +\n",
       "-0.021+0.000j IIIIXXYY +\n",
       " 0.021+0.000j IIIIXYYX +\n",
       " 0.021+0.000j IIIIYXXY +\n",
       "-0.021+0.000j IIIIYYXX +\n",
       "-0.059+0.000j IIXXIIYY +\n",
       " 0.059+0.000j IIXYIIYX +\n",
       " 0.059+0.000j IIYXIIXY +\n",
       "-0.059+0.000j IIYYIIXX +\n",
       "-0.000+0.000j IIXXYYII +\n",
       " 0.000+0.000j IIXYYXII +\n",
       " 0.000+0.000j IIYXXYII +\n",
       "-0.000+0.000j IIYYXXII +\n",
       "-0.027+0.000j IXIZZZZX +\n",
       " 0.007+0.000j IXZIZZZX +\n",
       " 0.028+0.000j IXZZIZZX +\n",
       "-0.007+0.000j IXZZZIZX +\n",
       "-0.013+0.000j IXZZZZIX +\n",
       "-0.014+0.000j IXZZZZZX +\n",
       "-0.027+0.000j IYIZZZZY +\n",
       " 0.007+0.000j IYZIZZZY +\n",
       " 0.028+0.000j IYZZIZZY +\n",
       "-0.007+0.000j IYZZZIZY +\n",
       "-0.013+0.000j IYZZZZIY +\n",
       "-0.014+0.000j IYZZZZZY +\n",
       " 0.014+0.000j ZXZZZZZX +\n",
       " 0.014+0.000j ZYZZZZZY +\n",
       " 0.035+0.000j IXZZXYYI +\n",
       "-0.035+0.000j IXZZYYXI +\n",
       "-0.035+0.000j IYZZXXYI +\n",
       " 0.035+0.000j IYZZYXXI +\n",
       "-0.033+0.000j IXXYZZYI +\n",
       " 0.033+0.000j IXYYZZXI +\n",
       " 0.033+0.000j IYXXZZYI +\n",
       "-0.033+0.000j IYYXZZXI +\n",
       " 0.014+0.000j XIZZZZXI +\n",
       " 0.007+0.000j XZIZZZXI +\n",
       "-0.027+0.000j XZZIZZXI +\n",
       "-0.007+0.000j XZZZIZXI +\n",
       " 0.028+0.000j XZZZZIXI +\n",
       "-0.014+0.000j XZZZZZXI +\n",
       "-0.013+0.000j XZZZZZXZ +\n",
       " 0.014+0.000j YIZZZZYI +\n",
       " 0.007+0.000j YZIZZZYI +\n",
       "-0.027+0.000j YZZIZZYI +\n",
       "-0.007+0.000j YZZZIZYI +\n",
       " 0.028+0.000j YZZZZIYI +\n",
       "-0.014+0.000j YZZZZZYI +\n",
       "-0.013+0.000j YZZZZZYZ +\n",
       "-0.035+0.000j XZZZXXZX +\n",
       "-0.035+0.000j XZZZXYZY +\n",
       "-0.035+0.000j YZZZYXZX +\n",
       "-0.035+0.000j YZZZYYZY +\n",
       " 0.033+0.000j XZXXZZZX +\n",
       " 0.033+0.000j XZXYZZZY +\n",
       " 0.033+0.000j YZYXZZZX +\n",
       " 0.033+0.000j YZYYZZZY +\n",
       "-0.024+0.000j XXIIIIYY +\n",
       " 0.024+0.000j XYIIIIYX +\n",
       " 0.024+0.000j YXIIIIXY +\n",
       "-0.024+0.000j YYIIIIXX +\n",
       "-0.057+0.000j XXIIYYII +\n",
       " 0.057+0.000j XYIIYXII +\n",
       " 0.057+0.000j YXIIXYII +\n",
       "-0.057+0.000j YYIIXXII +\n",
       "-0.019+0.000j XXYYIIII +\n",
       " 0.019+0.000j XYYXIIII +\n",
       " 0.019+0.000j YXXYIIII +\n",
       "-0.019+0.000j YYXXIIII"
      ]
     },
     "execution_count": 7,
     "metadata": {},
     "output_type": "execute_result"
    }
   ],
   "source": [
    "H_op"
   ]
  },
  {
   "cell_type": "code",
   "execution_count": null,
   "id": "c97c5348",
   "metadata": {},
   "outputs": [],
   "source": []
  },
  {
   "cell_type": "code",
   "execution_count": 8,
   "id": "20e1754c",
   "metadata": {},
   "outputs": [
    {
     "data": {
      "text/plain": [
       " 1.000+0.000j |11110000>"
      ]
     },
     "execution_count": 8,
     "metadata": {},
     "output_type": "execute_result"
    }
   ],
   "source": [
    "hf_occ_basis_list = data_dict['data']['hf_array']\n",
    "\n",
    "HF_state = QuantumState(np.array(hf_occ_basis_list).reshape(1,-1), [1])\n",
    "HF_state"
   ]
  },
  {
   "cell_type": "code",
   "execution_count": 9,
   "id": "e1939a6d",
   "metadata": {},
   "outputs": [
    {
     "data": {
      "text/plain": [
       "'sto-3g'"
      ]
     },
     "execution_count": 9,
     "metadata": {},
     "output_type": "execute_result"
    }
   ],
   "source": [
    "data_dict['data']['basis']"
   ]
  },
  {
   "cell_type": "code",
   "execution_count": 10,
   "id": "ff874416",
   "metadata": {},
   "outputs": [
    {
     "data": {
      "text/plain": [
       "0"
      ]
     },
     "execution_count": 10,
     "metadata": {},
     "output_type": "execute_result"
    }
   ],
   "source": [
    "data_dict['data']['charge']"
   ]
  },
  {
   "cell_type": "code",
   "execution_count": 11,
   "id": "e175747c",
   "metadata": {},
   "outputs": [
    {
     "data": {
      "text/plain": [
       "0"
      ]
     },
     "execution_count": 11,
     "metadata": {},
     "output_type": "execute_result"
    }
   ],
   "source": [
    "data_dict['data']['spin']"
   ]
  },
  {
   "cell_type": "code",
   "execution_count": 12,
   "id": "cf48d91a",
   "metadata": {},
   "outputs": [
    {
     "data": {
      "text/plain": [
       "'jordan_wigner'"
      ]
     },
     "execution_count": 12,
     "metadata": {},
     "output_type": "execute_result"
    }
   ],
   "source": [
    "data_dict['data']['qubit_encoding']"
   ]
  },
  {
   "cell_type": "code",
   "execution_count": 13,
   "id": "5359c992",
   "metadata": {},
   "outputs": [
    {
     "data": {
      "text/plain": [
       "4"
      ]
     },
     "execution_count": 13,
     "metadata": {},
     "output_type": "execute_result"
    }
   ],
   "source": [
    "data_dict['data']['n_particles']"
   ]
  },
  {
   "cell_type": "code",
   "execution_count": 14,
   "id": "a361775e",
   "metadata": {},
   "outputs": [
    {
     "data": {
      "text/plain": [
       "{'HF': {'energy': -1.333349777097312, 'converged': True},\n",
       " 'MP2': {'energy': -1.6161399127016058, 'converged': True},\n",
       " 'CCSD': {'energy': -1.8261847366338488, 'converged': True},\n",
       " 'FCI': {'energy': -1.86439214542294, 'converged': True}}"
      ]
     },
     "execution_count": 14,
     "metadata": {},
     "output_type": "execute_result"
    }
   ],
   "source": [
    "data_dict['data']['calculated_properties']"
   ]
  },
  {
   "cell_type": "code",
   "execution_count": 15,
   "id": "7cc6ffd2",
   "metadata": {},
   "outputs": [
    {
     "data": {
      "text/plain": [
       "1e-06"
      ]
     },
     "execution_count": 15,
     "metadata": {},
     "output_type": "execute_result"
    }
   ],
   "source": [
    "data_dict['data']['convergence_threshold']# SCF convergence threshold"
   ]
  },
  {
   "cell_type": "code",
   "execution_count": 16,
   "id": "9efb1597",
   "metadata": {},
   "outputs": [
    {
     "data": {
      "text/plain": [
       "dict_keys(['number_operator', 'alpha_parity_operator', 'beta_parity_operator', 'UCCSD_operator'])"
      ]
     },
     "execution_count": 16,
     "metadata": {},
     "output_type": "execute_result"
    }
   ],
   "source": [
    "data_dict['data']['auxiliary_operators'].keys()\n"
   ]
  },
  {
   "cell_type": "code",
   "execution_count": 17,
   "id": "c78ea7a4",
   "metadata": {},
   "outputs": [],
   "source": [
    "number_operator = PauliwordOp.from_dictionary(data_dict['data']['auxiliary_operators']['number_operator'])\n",
    "alpha_parity_operator = PauliwordOp.from_dictionary(data_dict['data']['auxiliary_operators']['alpha_parity_operator'])\n",
    "beta_parity_operator = PauliwordOp.from_dictionary(data_dict['data']['auxiliary_operators']['beta_parity_operator'])\n",
    "UCCSD_operator = PauliwordOp.from_dictionary(data_dict['data']['auxiliary_operators']['UCCSD_operator'][0])\n"
   ]
  },
  {
   "cell_type": "code",
   "execution_count": null,
   "id": "f3f37190",
   "metadata": {},
   "outputs": [],
   "source": []
  },
  {
   "cell_type": "code",
   "execution_count": 18,
   "id": "58291638",
   "metadata": {},
   "outputs": [
    {
     "data": {
      "text/plain": [
       "(4+0j)"
      ]
     },
     "execution_count": 18,
     "metadata": {},
     "output_type": "execute_result"
    }
   ],
   "source": [
    "HF_state.dagger *number_operator * HF_state"
   ]
  },
  {
   "cell_type": "code",
   "execution_count": 19,
   "id": "9f4a1a9c",
   "metadata": {},
   "outputs": [
    {
     "data": {
      "text/plain": [
       "4"
      ]
     },
     "execution_count": 19,
     "metadata": {},
     "output_type": "execute_result"
    }
   ],
   "source": [
    "data_dict['data']['n_particles']"
   ]
  },
  {
   "cell_type": "code",
   "execution_count": null,
   "id": "a4cbe4db",
   "metadata": {},
   "outputs": [],
   "source": []
  },
  {
   "cell_type": "code",
   "execution_count": null,
   "id": "b432df7d",
   "metadata": {},
   "outputs": [],
   "source": []
  }
 ],
 "metadata": {
  "kernelspec": {
   "display_name": "Python 3 (ipykernel)",
   "language": "python",
   "name": "python3"
  },
  "language_info": {
   "codemirror_mode": {
    "name": "ipython",
    "version": 3
   },
   "file_extension": ".py",
   "mimetype": "text/x-python",
   "name": "python",
   "nbconvert_exporter": "python",
   "pygments_lexer": "ipython3",
   "version": "3.10.10"
  }
 },
 "nbformat": 4,
 "nbformat_minor": 5
}
