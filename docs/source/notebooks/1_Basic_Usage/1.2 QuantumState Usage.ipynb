{
 "cells": [
  {
   "cell_type": "markdown",
   "id": "bd6df0df",
   "metadata": {
    "collapsed": false,
    "jupyter": {
     "outputs_hidden": false
    },
    "pycharm": {
     "name": "#%% md\n"
    }
   },
   "source": [
    "# Getting Started with QuantumState"
   ]
  },
  {
   "cell_type": "markdown",
   "id": "da69e454",
   "metadata": {
    "collapsed": false,
    "jupyter": {
     "outputs_hidden": false
    },
    "pycharm": {
     "name": "#%% md\n"
    }
   },
   "source": [
    "In Quantum mechanics:\n",
    "```{note}\n",
    "Every isolated physical system has associated with it a complex inner product space or Hilbert Space. This is known as its state space. A complete description of the system is given by its state vector, |ψ>, a unit-normalised vector in the state space.\n",
    "```\n",
    "\n",
    "In quantum computing, we have finite dimentional quantum states that act in a Hilbert Space of dimension $2^{n}\\times 2^{n}$ for $n$ qubits. In the computational (Pauli $Z$ basis) we write such states as:\n",
    "\n",
    "$$ |\\psi \\rangle = \\sum_{i=0}^{2^{n}-1} = c_{i}|i \\rangle$$\n",
    " \n",
    "where:\n",
    "- The $c_{i}$ terms represent complex coefficients.\n",
    "- The state must be normalized, i.e. $ \\sum_{i=0}^{2^{n}-1} |c_{i}|^{2} = 1$\n",
    "- $|i \\rangle$ represent binary bitstrings aka: $i \\in \\{0,1\\}^{\\otimes n}$"
   ]
  },
  {
   "cell_type": "markdown",
   "id": "e0ddcac7",
   "metadata": {
    "collapsed": false,
    "jupyter": {
     "outputs_hidden": false
    },
    "pycharm": {
     "name": "#%% md\n"
    }
   },
   "source": [
    "The `QuantumState` class is used to describe such states and provide access to useful ways to manipulate such states. \n",
    "\n",
    "```{note}\n",
    "The normalization conidition is relaxed for greater utility.\n",
    "```"
   ]
  },
  {
   "cell_type": "markdown",
   "id": "6dd3807e",
   "metadata": {
    "collapsed": false,
    "jupyter": {
     "outputs_hidden": false
    },
    "pycharm": {
     "name": "#%% md\n"
    }
   },
   "source": [
    "## Initialization"
   ]
  },
  {
   "cell_type": "code",
   "execution_count": 1,
   "id": "648bcef9",
   "metadata": {
    "collapsed": false,
    "jupyter": {
     "outputs_hidden": false
    },
    "pycharm": {
     "name": "#%%\n"
    }
   },
   "outputs": [],
   "source": [
    "from symmer import QuantumState"
   ]
  },
  {
   "cell_type": "markdown",
   "id": "7f304d56",
   "metadata": {
    "collapsed": false,
    "jupyter": {
     "outputs_hidden": false
    },
    "pycharm": {
     "name": "#%% md\n"
    }
   },
   "source": [
    "The following ways can be used to initalize a quantum state:\n",
    "1. `QuantumState.from_array`\n",
    "2. `QuantumState.from_dictionary`\n",
    "3. `QuantumState.random`\n",
    "4. `QuantumState.haar_random`\n",
    "5. `QuantumState.zero`"
   ]
  },
  {
   "cell_type": "markdown",
   "id": "4e18d09d",
   "metadata": {
    "collapsed": false,
    "jupyter": {
     "outputs_hidden": false
    },
    "pycharm": {
     "name": "#%% md\n"
    }
   },
   "source": [
    "The `from_array` method take in a vector of size $2^{n}\\times 1$ to define a ket and $1 \\times 2^{n}$ to define a bra"
   ]
  },
  {
   "cell_type": "code",
   "execution_count": 2,
   "id": "1bf50de1",
   "metadata": {
    "collapsed": false,
    "jupyter": {
     "outputs_hidden": false
    },
    "pycharm": {
     "name": "#%%\n"
    }
   },
   "outputs": [
    {
     "data": {
      "text/plain": [
       " 0.183+0.000j |00> +\n",
       " 0.365+0.000j |01> +\n",
       " 0.548+0.000j |10> +\n",
       " 0.730+0.000j |11>"
      ]
     },
     "execution_count": 2,
     "metadata": {},
     "output_type": "execute_result"
    }
   ],
   "source": [
    "import numpy as np\n",
    "\n",
    "normalized_vec_ket = np.array([[0.18257419],\n",
    "                           [0.36514837],\n",
    "                           [0.54772256],\n",
    "                           [0.73029674]])\n",
    "\n",
    "psi_ket = QuantumState.from_array(normalized_vec_ket)\n",
    "psi_ket"
   ]
  },
  {
   "cell_type": "code",
   "execution_count": 3,
   "id": "cc42538f",
   "metadata": {
    "collapsed": false,
    "jupyter": {
     "outputs_hidden": false
    },
    "pycharm": {
     "name": "#%%\n"
    }
   },
   "outputs": [
    {
     "data": {
      "text/plain": [
       " 0.183+0.000j <00| +\n",
       " 0.365+0.000j <01| +\n",
       " 0.548+0.000j <10| +\n",
       " 0.730+0.000j <11|"
      ]
     },
     "execution_count": 3,
     "metadata": {},
     "output_type": "execute_result"
    }
   ],
   "source": [
    "normalized_vec_bra = np.array([[0.18257419, 0.36514837, 0.54772256, 0.73029674]])\n",
    "\n",
    "psi_bra = QuantumState.from_array(normalized_vec_bra)\n",
    "psi_bra"
   ]
  },
  {
   "cell_type": "markdown",
   "id": "516777e0",
   "metadata": {
    "collapsed": false,
    "jupyter": {
     "outputs_hidden": false
    },
    "pycharm": {
     "name": "#%% md\n"
    }
   },
   "source": [
    "Note we can also build a state that is  **NOT normalized**:"
   ]
  },
  {
   "cell_type": "code",
   "execution_count": 4,
   "id": "0a6b5359",
   "metadata": {
    "collapsed": false,
    "jupyter": {
     "outputs_hidden": false
    },
    "pycharm": {
     "name": "#%%\n"
    }
   },
   "outputs": [
    {
     "name": "stderr",
     "output_type": "stream",
     "text": [
      "/Users/lex/anaconda3/envs/sym/lib/python3.8/site-packages/symmer/operators/base.py:2091: UserWarning: statevector is not normalized\n",
      "  warnings.warn(f'statevector is not normalized')\n"
     ]
    },
    {
     "data": {
      "text/plain": [
       " 1.000+0.000j |00> +\n",
       " 2.000+0.000j |01> +\n",
       " 3.000+0.000j |10> +\n",
       " 4.000+0.000j |11>"
      ]
     },
     "execution_count": 4,
     "metadata": {},
     "output_type": "execute_result"
    }
   ],
   "source": [
    "import numpy as np\n",
    "\n",
    "ket_unormalized = np.array([[1],\n",
    "                           [2],\n",
    "                           [3],\n",
    "                           [4]])\n",
    "\n",
    "psi_ket = QuantumState.from_array(ket_unormalized)\n",
    "psi_ket"
   ]
  },
  {
   "cell_type": "markdown",
   "id": "d321e318",
   "metadata": {
    "collapsed": false,
    "jupyter": {
     "outputs_hidden": false
    },
    "pycharm": {
     "name": "#%% md\n"
    }
   },
   "source": [
    "This will throw up an error. We can also check the state is normalized via the `_is_normalized` method:"
   ]
  },
  {
   "cell_type": "code",
   "execution_count": 5,
   "id": "6d0a7d03",
   "metadata": {
    "collapsed": false,
    "jupyter": {
     "outputs_hidden": false
    },
    "pycharm": {
     "name": "#%%\n"
    }
   },
   "outputs": [
    {
     "data": {
      "text/plain": [
       "False"
      ]
     },
     "execution_count": 5,
     "metadata": {},
     "output_type": "execute_result"
    }
   ],
   "source": [
    "psi_ket._is_normalized()"
   ]
  },
  {
   "cell_type": "markdown",
   "id": "98f12b2f",
   "metadata": {
    "collapsed": false,
    "jupyter": {
     "outputs_hidden": false
    },
    "pycharm": {
     "name": "#%% md\n"
    }
   },
   "source": [
    "We can re-normalize a state by running `normalize` that returns a new `QuantumState` that has been normalized"
   ]
  },
  {
   "cell_type": "code",
   "execution_count": 6,
   "id": "a276576d",
   "metadata": {
    "collapsed": false,
    "jupyter": {
     "outputs_hidden": false
    },
    "pycharm": {
     "name": "#%%\n"
    }
   },
   "outputs": [
    {
     "name": "stdout",
     "output_type": "stream",
     "text": [
      "now normalized: True\n"
     ]
    },
    {
     "data": {
      "text/plain": [
       " 0.183+0.000j |00> +\n",
       " 0.365+0.000j |01> +\n",
       " 0.548+0.000j |10> +\n",
       " 0.730+0.000j |11>"
      ]
     },
     "execution_count": 6,
     "metadata": {},
     "output_type": "execute_result"
    }
   ],
   "source": [
    "psi_renormalized = psi_ket.normalize\n",
    "\n",
    "print('now normalized:', psi_renormalized._is_normalized())\n",
    "psi_renormalized"
   ]
  },
  {
   "cell_type": "markdown",
   "id": "731fa0bb",
   "metadata": {
    "collapsed": false,
    "jupyter": {
     "outputs_hidden": false
    },
    "pycharm": {
     "name": "#%% md\n"
    }
   },
   "source": [
    "which does the following:\n",
    "\n",
    "$$|\\psi_{norm} \\rangle = \\frac{|\\psi \\rangle}{\\sum_{i=0}^{2^{n}-1} |c_{i}|^{2}} = \\frac{\\sum_{i=0}^{2^{n}-1} c_{i}|i \\rangle}{\\sum_{i=0}^{2^{n}-1} |c_{i}|^{2}} $$"
   ]
  },
  {
   "cell_type": "markdown",
   "id": "75cce3b7",
   "metadata": {
    "collapsed": false,
    "jupyter": {
     "outputs_hidden": false
    },
    "pycharm": {
     "name": "#%% md\n"
    }
   },
   "source": [
    "The `from_dictionary` method take in a dictioinary of binary keys and coefficient values:"
   ]
  },
  {
   "cell_type": "code",
   "execution_count": 7,
   "id": "d359fdbf",
   "metadata": {
    "collapsed": false,
    "jupyter": {
     "outputs_hidden": false
    },
    "pycharm": {
     "name": "#%%\n"
    }
   },
   "outputs": [
    {
     "data": {
      "text/plain": [
       " 0.183+0.000j |00> +\n",
       " 0.365+0.000j |01> +\n",
       " 0.548+0.000j |10> +\n",
       " 0.730+0.000j |11>"
      ]
     },
     "execution_count": 7,
     "metadata": {},
     "output_type": "execute_result"
    }
   ],
   "source": [
    "input_dict = {'00': (0.18257419+0j),\n",
    "             '01': (0.36514837+0j),\n",
    "             '10': (0.54772256+0j),\n",
    "             '11': (0.73029674+0j)}\n",
    "\n",
    "\n",
    "psi_from_dict = QuantumState.from_dictionary(input_dict)\n",
    "psi_from_dict"
   ]
  },
  {
   "cell_type": "markdown",
   "id": "e476f162",
   "metadata": {
    "collapsed": false,
    "jupyter": {
     "outputs_hidden": false
    },
    "pycharm": {
     "name": "#%% md\n"
    }
   },
   "source": [
    "Note this method doesn't allow bras to be defined."
   ]
  },
  {
   "cell_type": "markdown",
   "id": "7b7adf72",
   "metadata": {
    "collapsed": false,
    "jupyter": {
     "outputs_hidden": false
    },
    "pycharm": {
     "name": "#%% md\n"
    }
   },
   "source": [
    "The `from_dictionary` also allows a user to define unormalized quantum states. Let us consider a dictionary the represents the bitstrings obtained by measuring a quantum state in the computaitonal basis.\n",
    "\n",
    "Here:\n",
    "- $|00 \\rangle$ was obtained $200$ times\n",
    "- $|01 \\rangle$ was obtained $58$ times\n",
    "- $|10 \\rangle$ was obtained $42$ times\n",
    "- $|11 \\rangle$ was obtained $200$ times"
   ]
  },
  {
   "cell_type": "code",
   "execution_count": 8,
   "id": "2837e728",
   "metadata": {
    "collapsed": false,
    "jupyter": {
     "outputs_hidden": false
    },
    "pycharm": {
     "name": "#%%\n"
    }
   },
   "outputs": [
    {
     "data": {
      "text/plain": [
       " 200.000+0.000j |00> +\n",
       " 58.000+0.000j |01> +\n",
       " 42.000+0.000j |10> +\n",
       " 100.000+0.000j |11>"
      ]
     },
     "execution_count": 8,
     "metadata": {},
     "output_type": "execute_result"
    }
   ],
   "source": [
    "count_dicts = {'00': 200,\n",
    "             '01': 58,\n",
    "             '10': 42,\n",
    "             '11': 100}\n",
    "\n",
    "\n",
    "psi_from_counts = QuantumState.from_dictionary(count_dicts)\n",
    "psi_from_counts"
   ]
  },
  {
   "cell_type": "markdown",
   "id": "d805a1ed",
   "metadata": {
    "collapsed": false,
    "jupyter": {
     "outputs_hidden": false
    },
    "pycharm": {
     "name": "#%% md\n"
    }
   },
   "source": [
    "This is **useful** as when performing real quantum experiments we often get data as samples from a quantum state. Here the cofficients of each bitstring represents the number of times it was measured."
   ]
  },
  {
   "cell_type": "markdown",
   "id": "c4c897d5",
   "metadata": {
    "collapsed": false,
    "jupyter": {
     "outputs_hidden": false
    },
    "pycharm": {
     "name": "#%% md\n"
    }
   },
   "source": [
    "Clearly this state is not normalized. To renormalize such a state we do the apply the `normalize_counts` method:"
   ]
  },
  {
   "cell_type": "code",
   "execution_count": 9,
   "id": "ef807a93",
   "metadata": {
    "collapsed": false,
    "jupyter": {
     "outputs_hidden": false
    },
    "pycharm": {
     "name": "#%%\n"
    }
   },
   "outputs": [
    {
     "data": {
      "text/plain": [
       " 0.707+0.000j |00> +\n",
       " 0.381+0.000j |01> +\n",
       " 0.324+0.000j |10> +\n",
       " 0.500+0.000j |11>"
      ]
     },
     "execution_count": 9,
     "metadata": {},
     "output_type": "execute_result"
    }
   ],
   "source": [
    "psi_counts_normalized = psi_from_counts.normalize_counts\n",
    "psi_counts_normalized"
   ]
  },
  {
   "cell_type": "markdown",
   "id": "c38cc191",
   "metadata": {
    "collapsed": false,
    "jupyter": {
     "outputs_hidden": false
    },
    "pycharm": {
     "name": "#%% md\n"
    }
   },
   "source": [
    "$$|\\psi_{\\text{normalize counts}} \\rangle = \\frac{|\\psi \\rangle}{\\sum_{i=0}^{2^{n}-1} |c_{i}|} = \\frac{c_{i}|i \\rangle}{\\sum_{i=0}^{2^{n}-1} |c_{i}|}$$"
   ]
  },
  {
   "cell_type": "markdown",
   "id": "c6dc436c",
   "metadata": {
    "collapsed": false,
    "jupyter": {
     "outputs_hidden": false
    },
    "pycharm": {
     "name": "#%% md\n"
    }
   },
   "source": [
    "Importantly this is **NOT** the same as `normalize`"
   ]
  },
  {
   "cell_type": "code",
   "execution_count": 10,
   "id": "e3dafd8d",
   "metadata": {
    "collapsed": false,
    "jupyter": {
     "outputs_hidden": false
    },
    "pycharm": {
     "name": "#%%\n"
    }
   },
   "outputs": [
    {
     "data": {
      "text/plain": [
       " 0.852+0.000j |00> +\n",
       " 0.247+0.000j |01> +\n",
       " 0.179+0.000j |10> +\n",
       " 0.426+0.000j |11>"
      ]
     },
     "execution_count": 10,
     "metadata": {},
     "output_type": "execute_result"
    }
   ],
   "source": [
    "psi_counts_l2_norm = psi_from_counts.normalize\n",
    "psi_counts_l2_norm"
   ]
  },
  {
   "cell_type": "markdown",
   "id": "fff4024d",
   "metadata": {
    "collapsed": false,
    "jupyter": {
     "outputs_hidden": false
    },
    "pycharm": {
     "name": "#%% md\n"
    }
   },
   "source": [
    "The `normalize_counts` counts method allows a quantum state determined from an experiment to be manipulated in a more efficent manor in symmer."
   ]
  },
  {
   "cell_type": "markdown",
   "id": "900d7007",
   "metadata": {
    "collapsed": false,
    "jupyter": {
     "outputs_hidden": false
    },
    "pycharm": {
     "name": "#%% md\n"
    }
   },
   "source": [
    "The correct re-normalization from experimental counts is the `normalize_counts` method! Therefore care must be used when deciding which normalization routine to use. In most cases:\n",
    "1. use `normalize` when manipulating standard quantum states\n",
    "2. use `normalize_counts` when inputting data from experiments / sampling a given state."
   ]
  },
  {
   "cell_type": "markdown",
   "id": "c206f7fb",
   "metadata": {
    "collapsed": false,
    "jupyter": {
     "outputs_hidden": false
    },
    "pycharm": {
     "name": "#%% md\n"
    }
   },
   "source": [
    "The `random` quantum state initalization method picks random coefficients and random bitstrings from a uniform random distribution. The use is as follows:"
   ]
  },
  {
   "cell_type": "code",
   "execution_count": 11,
   "id": "d08f85b8",
   "metadata": {
    "collapsed": false,
    "jupyter": {
     "outputs_hidden": false
    },
    "pycharm": {
     "name": "#%%\n"
    }
   },
   "outputs": [
    {
     "name": "stdout",
     "output_type": "stream",
     "text": [
      " 0.067+0.145j |00000> +\n",
      " 0.251+0.162j |00001> +\n",
      " 0.323+0.440j |00111> +\n",
      " 0.496+0.012j |10010> +\n",
      " 0.258+0.243j |10101> +\n",
      " 0.029+0.125j |10111> +\n",
      " 0.238+0.277j |11000> +\n",
      " 0.090+0.239j |11111>\n",
      "\n",
      " 0.072+0.062j |00001> +\n",
      " 0.016+0.319j |01001> +\n",
      " 0.141+0.287j |01110> +\n",
      " 0.007+0.152j |10001> +\n",
      " 0.144+0.152j |11001> +\n",
      " 0.133+0.302j |11010> +\n",
      " 0.361+0.406j |11100> +\n",
      " 0.162+0.370j |11110> +\n",
      " 0.265+0.288j |11111>\n"
     ]
    }
   ],
   "source": [
    "N = 5 # number of qubits\n",
    "M = 10 # number of terms \n",
    "\n",
    "psi_1 = QuantumState.random(N, M)\n",
    "psi_2 = QuantumState.random(N, M)\n",
    "\n",
    "print(psi_1)\n",
    "print()\n",
    "print(psi_2)"
   ]
  },
  {
   "cell_type": "markdown",
   "id": "51eec6eb",
   "metadata": {
    "collapsed": false,
    "jupyter": {
     "outputs_hidden": false
    },
    "pycharm": {
     "name": "#%% md\n"
    }
   },
   "source": [
    "Note that the `random` method:\n",
    "- produces duplicated bitstrings when generating a state and thus the number of terms can be slightly lower!"
   ]
  },
  {
   "cell_type": "code",
   "execution_count": 12,
   "id": "1617baa1",
   "metadata": {
    "collapsed": false,
    "jupyter": {
     "outputs_hidden": false
    },
    "pycharm": {
     "name": "#%%\n"
    }
   },
   "outputs": [
    {
     "data": {
      "text/plain": [
       " 0.320+0.454j |00> +\n",
       " 0.093+0.268j |01> +\n",
       " 0.095+0.071j |10> +\n",
       " 0.568+0.524j |11>"
      ]
     },
     "execution_count": 12,
     "metadata": {},
     "output_type": "execute_result"
    }
   ],
   "source": [
    "n_qubits = 2\n",
    "n_terms = 7\n",
    "\n",
    "# can be at most 4 unqiue terms and thus forcing 7 means there will be duplicated terms that are delt with\\\n",
    "# under the hood\n",
    "\n",
    "psi_duplicated = QuantumState.random(n_qubits, n_terms)\n",
    "psi_duplicated"
   ]
  },
  {
   "cell_type": "markdown",
   "id": "720c0b16",
   "metadata": {
    "collapsed": false,
    "jupyter": {
     "outputs_hidden": false
    },
    "pycharm": {
     "name": "#%% md\n"
    }
   },
   "source": [
    "The `haar_random` method generates a quantum state from the all zero state that has had a haar random unitary applied to it.\n",
    "\n",
    "$$|\\psi_{\\text{haar}} \\rangle = U_{\\text{haar}}|0 \\rangle$$"
   ]
  },
  {
   "cell_type": "code",
   "execution_count": 13,
   "id": "30693c48",
   "metadata": {
    "collapsed": false,
    "jupyter": {
     "outputs_hidden": false
    },
    "pycharm": {
     "name": "#%%\n"
    }
   },
   "outputs": [
    {
     "data": {
      "text/plain": [
       " 0.281-0.316j |000> +\n",
       " 0.230+0.351j |001> +\n",
       "-0.064-0.030j |010> +\n",
       "-0.256+0.232j |011> +\n",
       "-0.274-0.343j |100> +\n",
       " 0.031+0.348j |101> +\n",
       " 0.297+0.290j |110> +\n",
       " 0.029-0.179j |111>"
      ]
     },
     "execution_count": 13,
     "metadata": {},
     "output_type": "execute_result"
    }
   ],
   "source": [
    "N = 3 # number of qubits\n",
    "\n",
    "psi_haar = QuantumState.haar_random(N)\n",
    "psi_haar"
   ]
  },
  {
   "cell_type": "markdown",
   "id": "44929b25",
   "metadata": {
    "collapsed": false,
    "jupyter": {
     "outputs_hidden": false
    },
    "pycharm": {
     "name": "#%% md\n"
    }
   },
   "source": [
    "The `QuantumState.zero` method allows use to initalize the all zero state:"
   ]
  },
  {
   "cell_type": "code",
   "execution_count": 14,
   "id": "ef61051e",
   "metadata": {
    "collapsed": false,
    "jupyter": {
     "outputs_hidden": false
    },
    "pycharm": {
     "name": "#%%\n"
    }
   },
   "outputs": [
    {
     "data": {
      "text/plain": [
       " 1.000+0.000j |000>"
      ]
     },
     "execution_count": 14,
     "metadata": {},
     "output_type": "execute_result"
    }
   ],
   "source": [
    "n_qubits = 3\n",
    "all_zero_state = QuantumState.zero(n_qubits)\n",
    "all_zero_state"
   ]
  },
  {
   "cell_type": "markdown",
   "id": "400fd8d9",
   "metadata": {
    "collapsed": false,
    "jupyter": {
     "outputs_hidden": false
    },
    "pycharm": {
     "name": "#%% md\n"
    }
   },
   "source": [
    "## Methods"
   ]
  },
  {
   "cell_type": "markdown",
   "id": "8c07bb19",
   "metadata": {
    "collapsed": false,
    "jupyter": {
     "outputs_hidden": false
    },
    "pycharm": {
     "name": "#%% md\n"
    }
   },
   "source": [
    "We can get the Hermitian conjugate transpose of a quantum state using the `dagger` method:"
   ]
  },
  {
   "cell_type": "code",
   "execution_count": 15,
   "id": "5912abec",
   "metadata": {
    "collapsed": false,
    "jupyter": {
     "outputs_hidden": false
    },
    "pycharm": {
     "name": "#%%\n"
    }
   },
   "outputs": [
    {
     "name": "stdout",
     "output_type": "stream",
     "text": [
      " 0.263+0.296j |01> +\n",
      " 0.633+0.473j |10> +\n",
      " 0.310+0.351j |11>\n",
      "\n",
      " 0.263-0.296j <01| +\n",
      " 0.633-0.473j <10| +\n",
      " 0.310-0.351j <11|\n"
     ]
    }
   ],
   "source": [
    "n_qubits = 2\n",
    "n_terms = 7\n",
    "psi_1 = QuantumState.random(n_qubits, n_terms)\n",
    "print(psi_1)\n",
    "print()\n",
    "psi_1_dagger = psi_1.dagger\n",
    "print(psi_1_dagger)"
   ]
  },
  {
   "cell_type": "markdown",
   "id": "7b64269b",
   "metadata": {
    "collapsed": false,
    "jupyter": {
     "outputs_hidden": false
    },
    "pycharm": {
     "name": "#%% md\n"
    }
   },
   "source": [
    "We can measure the overlap of a quantum state using this:\n",
    "\n",
    "$$\\text{overalp} =  \\langle \\psi | \\psi \\rangle$$"
   ]
  },
  {
   "cell_type": "code",
   "execution_count": 16,
   "id": "4229cfaa",
   "metadata": {
    "collapsed": false,
    "jupyter": {
     "outputs_hidden": false
    },
    "pycharm": {
     "name": "#%%\n"
    }
   },
   "outputs": [
    {
     "data": {
      "text/plain": [
       "(0.9999999999999998+0j)"
      ]
     },
     "execution_count": 16,
     "metadata": {},
     "output_type": "execute_result"
    }
   ],
   "source": [
    "psi_1.dagger * psi_1"
   ]
  },
  {
   "cell_type": "markdown",
   "id": "d1ef71ca",
   "metadata": {
    "collapsed": false,
    "jupyter": {
     "outputs_hidden": false
    },
    "pycharm": {
     "name": "#%% md\n"
    }
   },
   "source": [
    "For an unormalized quantum state we see the overalp of a state with itself will not be one:"
   ]
  },
  {
   "cell_type": "code",
   "execution_count": 17,
   "id": "86ba0e52",
   "metadata": {
    "collapsed": false,
    "jupyter": {
     "outputs_hidden": false
    },
    "pycharm": {
     "name": "#%%\n"
    }
   },
   "outputs": [
    {
     "name": "stdout",
     "output_type": "stream",
     "text": [
      "overalp unormalized: (30+0j)\n",
      "using overlap to renormalize: True\n"
     ]
    },
    {
     "name": "stderr",
     "output_type": "stream",
     "text": [
      "/Users/lex/anaconda3/envs/sym/lib/python3.8/site-packages/symmer/operators/base.py:2091: UserWarning: statevector is not normalized\n",
      "  warnings.warn(f'statevector is not normalized')\n"
     ]
    },
    {
     "data": {
      "text/plain": [
       " 0.183+0.000j |00> +\n",
       " 0.365+0.000j |01> +\n",
       " 0.548+0.000j |10> +\n",
       " 0.730+0.000j |11>"
      ]
     },
     "execution_count": 17,
     "metadata": {},
     "output_type": "execute_result"
    }
   ],
   "source": [
    "ket_unormalized = np.array([[1],\n",
    "                           [2],\n",
    "                           [3],\n",
    "                           [4]])\n",
    "\n",
    "psi_ket = QuantumState.from_array(ket_unormalized)\n",
    "\n",
    "overlap = psi_ket.dagger * psi_ket\n",
    "print('overalp unormalized:', overlap)\n",
    "\n",
    "# This can however be used to re-normalize a quantum state\n",
    "psi_ket_normed = psi_ket * (1/np.sqrt(overlap))\n",
    "print('using overlap to renormalize:', psi_ket_normed._is_normalized())\n",
    "psi_ket_normed"
   ]
  },
  {
   "cell_type": "markdown",
   "id": "d5ca4077",
   "metadata": {
    "collapsed": false,
    "jupyter": {
     "outputs_hidden": false
    },
    "pycharm": {
     "name": "#%% md\n"
    }
   },
   "source": [
    "We can also measure the overlap of different quantum states:\n",
    "\n",
    "$$\\text{overalp} =  \\langle \\psi_{1} | \\psi_{2} \\rangle$$"
   ]
  },
  {
   "cell_type": "code",
   "execution_count": 18,
   "id": "d0b0ee1a",
   "metadata": {
    "collapsed": false,
    "jupyter": {
     "outputs_hidden": false
    },
    "pycharm": {
     "name": "#%%\n"
    }
   },
   "outputs": [
    {
     "data": {
      "text/plain": [
       "(0.2874816901032643-0.05516269673460425j)"
      ]
     },
     "execution_count": 18,
     "metadata": {},
     "output_type": "execute_result"
    }
   ],
   "source": [
    "n_q = 4\n",
    "n_terms = 10\n",
    "psi_1 = QuantumState.random(n_q,n_terms)\n",
    "psi_2 = QuantumState.random(n_q,n_terms)\n",
    "\n",
    "psi_1.dagger * psi_2"
   ]
  },
  {
   "cell_type": "code",
   "execution_count": null,
   "id": "776b9f46",
   "metadata": {
    "collapsed": false,
    "jupyter": {
     "outputs_hidden": false
    },
    "pycharm": {
     "name": "#%%\n"
    }
   },
   "outputs": [],
   "source": []
  },
  {
   "cell_type": "markdown",
   "id": "b28a7697",
   "metadata": {
    "collapsed": false,
    "jupyter": {
     "outputs_hidden": false
    },
    "pycharm": {
     "name": "#%% md\n"
    }
   },
   "source": [
    "We can also measure the expectation value of a quantum state:"
   ]
  },
  {
   "cell_type": "markdown",
   "id": "6ee20d18",
   "metadata": {
    "collapsed": false,
    "jupyter": {
     "outputs_hidden": false
    },
    "pycharm": {
     "name": "#%% md\n"
    }
   },
   "source": [
    "$$\\langle \\hat{O} \\rangle =  \\langle \\psi |  \\hat{O} | \\psi \\rangle$$"
   ]
  },
  {
   "cell_type": "code",
   "execution_count": 19,
   "id": "ff5380fc",
   "metadata": {
    "collapsed": false,
    "jupyter": {
     "outputs_hidden": false
    },
    "pycharm": {
     "name": "#%%\n"
    }
   },
   "outputs": [
    {
     "name": "stdout",
     "output_type": "stream",
     "text": [
      "Generate a random Hermitian operator:\n",
      "\n",
      " 1.077+0.000j IXIZ +\n",
      "-0.104+0.000j IIYY +\n",
      " 1.422+0.000j ZIII +\n",
      "-1.211+0.000j XIYX +\n",
      " 0.724+0.000j XIXI +\n",
      " 0.953+0.000j IIXI +\n",
      "-0.818+0.000j IZII +\n",
      "-0.411+0.000j XZXI +\n",
      " 1.194+0.000j IZYZ +\n",
      "-0.286+0.000j IIZX\n",
      "\n",
      "Expectation value <psi|op|psi> = -1.0369313079409164\n"
     ]
    }
   ],
   "source": [
    "from symmer import PauliwordOp\n",
    "\n",
    "n_qubits = 4\n",
    "n_terms = 10\n",
    "psi = QuantumState.random(n_qubits,\n",
    "                            n_terms)\n",
    "\n",
    "print('Generate a random Hermitian operator:\\n')\n",
    "op = PauliwordOp.random(n_qubits, \n",
    "                        10, \n",
    "                        complex_coeffs=False)\n",
    "print(op)\n",
    "print()\n",
    "print('Expectation value <psi|op|psi> =', (psi.dagger * op * psi).real)"
   ]
  },
  {
   "cell_type": "markdown",
   "id": "72ef5f18",
   "metadata": {
    "collapsed": false,
    "jupyter": {
     "outputs_hidden": false
    },
    "pycharm": {
     "name": "#%% md\n"
    }
   },
   "source": [
    "Note here that psi is the same on both sides. This means we can use the `PauliwordOp.expval` for a faster measurement:"
   ]
  },
  {
   "cell_type": "code",
   "execution_count": 20,
   "id": "de05e626",
   "metadata": {
    "collapsed": false,
    "jupyter": {
     "outputs_hidden": false
    },
    "pycharm": {
     "name": "#%%\n"
    }
   },
   "outputs": [
    {
     "name": "stderr",
     "output_type": "stream",
     "text": [
      "2023-08-25 14:56:15,843\tINFO worker.py:1621 -- Started a local Ray instance.\n"
     ]
    },
    {
     "name": "stdout",
     "output_type": "stream",
     "text": [
      "Expectation value <psi|op|psi> = (-1.036931307940916+0j)\n"
     ]
    }
   ],
   "source": [
    "exp_val = op.expval(psi)\n",
    "print('Expectation value <psi|op|psi> =', exp_val)"
   ]
  },
  {
   "cell_type": "markdown",
   "id": "8b0b1042",
   "metadata": {
    "collapsed": false,
    "jupyter": {
     "outputs_hidden": false
    },
    "pycharm": {
     "name": "#%% md\n"
    }
   },
   "source": [
    "We can also evaluate non-diagonal elements:\n",
    "\n",
    "$$\\langle \\psi_{1} |  \\hat{O} | \\psi_{2} \\rangle$$\n",
    "\n",
    "However, we cannot use the `expval` method to achieve this and have to do use the standard:"
   ]
  },
  {
   "cell_type": "code",
   "execution_count": 21,
   "id": "1ff45d13",
   "metadata": {
    "collapsed": false,
    "jupyter": {
     "outputs_hidden": false
    },
    "pycharm": {
     "name": "#%%\n"
    }
   },
   "outputs": [
    {
     "name": "stdout",
     "output_type": "stream",
     "text": [
      "Expectation value <psi_1|op|psi_2> = -0.2929390180505392\n"
     ]
    }
   ],
   "source": [
    "n_qubits = 4\n",
    "n_terms = 10\n",
    "psi2 = QuantumState.random(n_qubits,\n",
    "                            n_terms)\n",
    "\n",
    "print('Expectation value <psi_1|op|psi_2> =', (psi.dagger * op * psi2).real)"
   ]
  },
  {
   "cell_type": "code",
   "execution_count": null,
   "id": "7295f4ed",
   "metadata": {
    "collapsed": false,
    "jupyter": {
     "outputs_hidden": false
    },
    "pycharm": {
     "name": "#%%\n"
    }
   },
   "outputs": [],
   "source": []
  },
  {
   "cell_type": "markdown",
   "id": "5da8d1ad",
   "metadata": {
    "collapsed": false,
    "jupyter": {
     "outputs_hidden": false
    },
    "pycharm": {
     "name": "#%% md\n"
    }
   },
   "source": [
    "We can also evolve a quantum state as follows:\n",
    "\n",
    "$$ | \\psi' \\rangle = \\hat{O} | \\psi \\rangle$$"
   ]
  },
  {
   "cell_type": "code",
   "execution_count": 22,
   "id": "e4bae4c6",
   "metadata": {
    "collapsed": false,
    "jupyter": {
     "outputs_hidden": false
    },
    "pycharm": {
     "name": "#%%\n"
    }
   },
   "outputs": [
    {
     "name": "stdout",
     "output_type": "stream",
     "text": [
      "psi =  1.000+0.000j |000>\n",
      "\n",
      "op =   1.000+0.000j XXI\n",
      "\n",
      "psi' = op * psi =   1.000-0.000j |110>\n"
     ]
    }
   ],
   "source": [
    "psi = QuantumState.zero(3)\n",
    "print('psi =', psi)\n",
    "print()\n",
    "op = PauliwordOp.from_list(['XXI'])\n",
    "print('op = ', op)\n",
    "\n",
    "print()\n",
    "psi_prime = op * psi\n",
    "print('psi\\' = op * psi = ', psi_prime)"
   ]
  },
  {
   "cell_type": "markdown",
   "id": "102c5586",
   "metadata": {
    "collapsed": false,
    "jupyter": {
     "outputs_hidden": false
    },
    "pycharm": {
     "name": "#%% md\n"
    }
   },
   "source": [
    "Aka we can multiply a PauliwordOp and Quantum state. Note these have be defined on the same number of qubits.\n",
    "\n",
    "Furthermore, the operator being applied on the state need not be unitary (and thus the normalization can change). In the example above op is unitary. Let us see an example when this is not the case:"
   ]
  },
  {
   "cell_type": "code",
   "execution_count": 23,
   "id": "40ea4ac0",
   "metadata": {
    "collapsed": false,
    "jupyter": {
     "outputs_hidden": false
    },
    "pycharm": {
     "name": "#%%\n"
    }
   },
   "outputs": [
    {
     "name": "stdout",
     "output_type": "stream",
     "text": [
      "psi =  1.000+0.000j |000>\n",
      "\n",
      "op =   2.000+0.000j XXI +\n",
      " 3.000+0.000j ZYY\n",
      "\n",
      "psi' = op * psi =  -3.000+0.000j |011> +\n",
      " 2.000-0.000j |110>\n",
      "psi' is normalized: False\n"
     ]
    }
   ],
   "source": [
    "psi = QuantumState.zero(3)\n",
    "print('psi =', psi)\n",
    "print()\n",
    "non_unitary_op = PauliwordOp.from_list(['XXI', 'ZYY'], [2,3])\n",
    "print('op = ', non_unitary_op)\n",
    "\n",
    "print()\n",
    "psi_prime = non_unitary_op * psi\n",
    "print('psi\\' = op * psi = ', psi_prime)\n",
    "print('psi\\' is normalized:', psi_prime._is_normalized())"
   ]
  },
  {
   "cell_type": "markdown",
   "id": "c1f594ac",
   "metadata": {
    "collapsed": false,
    "jupyter": {
     "outputs_hidden": false
    },
    "pycharm": {
     "name": "#%% md\n"
    }
   },
   "source": [
    "## Manipulating Quantum Measurement Data\n",
    "\n",
    "Given a dictionary of measurement outcomes from a quantum experiment, we may intialize a QuantumState for further postprocessing.\n",
    "\n",
    "- Dictionary given as: \n",
    "    - key=bitstring\n",
    "    - value=number of occurences or relative frequency"
   ]
  },
  {
   "cell_type": "code",
   "execution_count": 24,
   "id": "bbe16a57",
   "metadata": {
    "collapsed": false,
    "jupyter": {
     "outputs_hidden": false
    },
    "pycharm": {
     "name": "#%%\n"
    }
   },
   "outputs": [
    {
     "data": {
      "text/plain": [
       " 4.000+0.000j |0101> +\n",
       " 10.000+0.000j |1101> +\n",
       " 20.000+0.000j |0001> +\n",
       " 16.000+0.000j |1111>"
      ]
     },
     "execution_count": 24,
     "metadata": {},
     "output_type": "execute_result"
    }
   ],
   "source": [
    "measurement_data = {\n",
    "    '0101':4,\n",
    "    '1101':10,\n",
    "    '0001':20,\n",
    "    '1111':16\n",
    "}\n",
    "\n",
    "psi_measured = QuantumState.from_dictionary(measurement_data)\n",
    "psi_measured"
   ]
  },
  {
   "cell_type": "markdown",
   "id": "965916b0",
   "metadata": {
    "collapsed": false,
    "jupyter": {
     "outputs_hidden": false
    },
    "pycharm": {
     "name": "#%% md\n"
    }
   },
   "source": [
    "The coefficients here are the number of occurences of each output bitstring. These may be normalized using `normalize_counts` to ensure the correct probability distrubution is preserved:"
   ]
  },
  {
   "cell_type": "code",
   "execution_count": 25,
   "id": "744d4afe",
   "metadata": {
    "collapsed": false,
    "jupyter": {
     "outputs_hidden": false
    },
    "pycharm": {
     "name": "#%%\n"
    }
   },
   "outputs": [
    {
     "name": "stdout",
     "output_type": "stream",
     "text": [
      " 0.283+0.000j |0101> +\n",
      " 0.447+0.000j |1101> +\n",
      " 0.632+0.000j |0001> +\n",
      " 0.566+0.000j |1111>\n"
     ]
    },
    {
     "data": {
      "image/png": "[encoded data removed]",
      "text/plain": [
       "<Figure size 320x240 with 1 Axes>"
      ]
     },
     "metadata": {},
     "output_type": "display_data"
    }
   ],
   "source": [
    "print(psi_measured.normalize_counts)\n",
    "ax = psi_measured.normalize_counts.plot_state(dpi=50)"
   ]
  },
  {
   "cell_type": "markdown",
   "id": "ffe0d3fa",
   "metadata": {
    "collapsed": false,
    "jupyter": {
     "outputs_hidden": false
    },
    "pycharm": {
     "name": "#%% md\n"
    }
   },
   "source": [
    "This is __not__ the same as taking the $L^2$-norm - the probability distrubtions do not align, as mentioned before."
   ]
  },
  {
   "cell_type": "code",
   "execution_count": 26,
   "id": "31bff1fa",
   "metadata": {
    "collapsed": false,
    "jupyter": {
     "outputs_hidden": false
    },
    "pycharm": {
     "name": "#%%\n"
    }
   },
   "outputs": [
    {
     "name": "stdout",
     "output_type": "stream",
     "text": [
      " 0.144+0.000j |0101> +\n",
      " 0.360+0.000j |1101> +\n",
      " 0.720+0.000j |0001> +\n",
      " 0.576+0.000j |1111>\n"
     ]
    },
    {
     "data": {
      "image/png": "[encoded data removed]",
      "text/plain": [
       "<Figure size 320x240 with 1 Axes>"
      ]
     },
     "metadata": {},
     "output_type": "display_data"
    }
   ],
   "source": [
    "print(psi_measured.normalize)\n",
    "# this shouldn't be used for normalizing quantum experiment data\n",
    "# ... but functionality is still useful for normalizing states in the general setting\n",
    "ax = psi_measured.normalize.plot_state(dpi=50)"
   ]
  },
  {
   "cell_type": "markdown",
   "id": "5ee68f98",
   "metadata": {
    "collapsed": false,
    "jupyter": {
     "outputs_hidden": false
    },
    "pycharm": {
     "name": "#%% md\n"
    }
   },
   "source": [
    "## State sampling\n",
    "\n",
    "It is also possible to randomly sample the state, just like a quantum experiment - this is particularly useful for the purposes of bootstrapping for statistical analysis of quantum experiments."
   ]
  },
  {
   "cell_type": "code",
   "execution_count": 27,
   "id": "a92ee070",
   "metadata": {
    "collapsed": false,
    "jupyter": {
     "outputs_hidden": false
    },
    "pycharm": {
     "name": "#%%\n"
    }
   },
   "outputs": [
    {
     "data": {
      "text/plain": [
       " 0.316+0.000j |0101> +\n",
       " 0.424+0.000j |1101> +\n",
       " 0.648+0.000j |0001> +\n",
       " 0.548+0.000j |1111>"
      ]
     },
     "execution_count": 27,
     "metadata": {},
     "output_type": "execute_result"
    }
   ],
   "source": [
    "psi_measured_normalized = psi_measured.normalize_counts\n",
    "psi_measured_normalized.sample_state(n_samples=50, return_normalized=True)"
   ]
  },
  {
   "cell_type": "markdown",
   "id": "55822c60",
   "metadata": {
    "collapsed": false,
    "jupyter": {
     "outputs_hidden": false
    },
    "pycharm": {
     "name": "#%% md\n"
    }
   },
   "source": [
    "Given enough samples, the original state will be reproduced exactly:"
   ]
  },
  {
   "cell_type": "code",
   "execution_count": 28,
   "id": "91a92536",
   "metadata": {
    "collapsed": false,
    "jupyter": {
     "outputs_hidden": false
    },
    "pycharm": {
     "name": "#%%\n"
    }
   },
   "outputs": [
    {
     "name": "stdout",
     "output_type": "stream",
     "text": [
      "With n_samples=1         , <psi_sampled|psi_true> = (0.565685424949238+0j)\n",
      "With n_samples=4         , <psi_sampled|psi_true> = (0.939834563766817+0j)\n",
      "With n_samples=16        , <psi_sampled|psi_true> = (0.9920789746996936+0j)\n",
      "With n_samples=64        , <psi_sampled|psi_true> = (0.9980780654610442+0j)\n",
      "With n_samples=256       , <psi_sampled|psi_true> = (0.9998086542387652+0j)\n",
      "With n_samples=1024      , <psi_sampled|psi_true> = (0.9998076901702848+0j)\n",
      "With n_samples=4096      , <psi_sampled|psi_true> = (0.99989709263263+0j)\n",
      "With n_samples=16384     , <psi_sampled|psi_true> = (0.9999938107198831+0j)\n",
      "With n_samples=65536     , <psi_sampled|psi_true> = (0.9999994619112661+0j)\n",
      "With n_samples=262144    , <psi_sampled|psi_true> = (0.9999992264077784+0j)\n",
      "With n_samples=1048576   , <psi_sampled|psi_true> = (0.9999992217148499+0j)\n",
      "With n_samples=4194304   , <psi_sampled|psi_true> = (0.9999999281758942+0j)\n",
      "With n_samples=16777216  , <psi_sampled|psi_true> = (0.9999999698532791+0j)\n",
      "With n_samples=67108864  , <psi_sampled|psi_true> = (0.9999999957903308+0j)\n",
      "With n_samples=268435456 , <psi_sampled|psi_true> = (0.9999999978895546+0j)\n"
     ]
    }
   ],
   "source": [
    "for n_samples in 2**np.arange(0, 30, 2):\n",
    "    psi_sampled = psi_measured_normalized.sample_state(n_samples=n_samples, return_normalized=True)\n",
    "    print(f'With n_samples={n_samples: <10}, <psi_sampled|psi_true> = {psi_sampled.dagger * psi_measured_normalized}')"
   ]
  },
  {
   "cell_type": "markdown",
   "id": "ff63db3d",
   "metadata": {
    "collapsed": false,
    "jupyter": {
     "outputs_hidden": false
    },
    "pycharm": {
     "name": "#%% md\n"
    }
   },
   "source": [
    "## Plotting probabillity amplitudes of quantum state"
   ]
  },
  {
   "cell_type": "code",
   "execution_count": 29,
   "id": "0507a7e8",
   "metadata": {
    "collapsed": false,
    "jupyter": {
     "outputs_hidden": false
    },
    "pycharm": {
     "name": "#%%\n"
    }
   },
   "outputs": [
    {
     "name": "stdout",
     "output_type": "stream",
     "text": [
      " 0.380-0.321j |000> +\n",
      "-0.026+0.389j |001> +\n",
      " 0.414+0.032j |010> +\n",
      " 0.434-0.036j |011> +\n",
      " 0.003+0.187j |100> +\n",
      "-0.004+0.170j |101> +\n",
      " 0.233-0.089j |110> +\n",
      "-0.224+0.251j |111>\n"
     ]
    }
   ],
   "source": [
    "%matplotlib inline\n",
    "random_state = QuantumState.haar_random(3, vec_type='ket')\n",
    "print(random_state)"
   ]
  },
  {
   "cell_type": "code",
   "execution_count": 30,
   "id": "3753c2b5",
   "metadata": {
    "collapsed": false,
    "jupyter": {
     "outputs_hidden": false
    },
    "pycharm": {
     "name": "#%%\n"
    }
   },
   "outputs": [
    {
     "data": {
      "image/png": "[encoded data removed]",
      "text/plain": [
       "<Figure size 640x480 with 1 Axes>"
      ]
     },
     "metadata": {},
     "output_type": "display_data"
    }
   ],
   "source": [
    "ax = random_state.plot_state(dpi=100)"
   ]
  },
  {
   "cell_type": "code",
   "execution_count": 31,
   "id": "2390a4c1",
   "metadata": {
    "collapsed": false,
    "jupyter": {
     "outputs_hidden": false
    },
    "pycharm": {
     "name": "#%%\n"
    }
   },
   "outputs": [
    {
     "data": {
      "image/png": "[encoded data removed]",
      "text/plain": [
       "<Figure size 640x480 with 1 Axes>"
      ]
     },
     "metadata": {},
     "output_type": "display_data"
    }
   ],
   "source": [
    "%matplotlib inline\n",
    "random_large_state = QuantumState.haar_random(10, vec_type='ket')\n",
    "ax2 = random_large_state.plot_state(logscale=False)"
   ]
  },
  {
   "cell_type": "code",
   "execution_count": 32,
   "id": "2870f1a5",
   "metadata": {
    "collapsed": false,
    "jupyter": {
     "outputs_hidden": false
    },
    "pycharm": {
     "name": "#%%\n"
    }
   },
   "outputs": [
    {
     "data": {
      "image/png": "[encoded data removed]",
      "text/plain": [
       "<Figure size 640x480 with 1 Axes>"
      ]
     },
     "metadata": {},
     "output_type": "display_data"
    }
   ],
   "source": [
    "a = np.arange(2**4)\n",
    "a = a/np.linalg.norm(a)\n",
    "psi = QuantumState.from_array(a.reshape([-1,1]))\n",
    "ax = psi.plot_state()"
   ]
  },
  {
   "cell_type": "code",
   "execution_count": 33,
   "id": "44e0482f",
   "metadata": {
    "collapsed": false,
    "jupyter": {
     "outputs_hidden": false
    },
    "pycharm": {
     "name": "#%%\n"
    }
   },
   "outputs": [
    {
     "data": {
      "text/plain": [
       "<Axes: xlabel='binary output', ylabel='probability amplitude'>"
      ]
     },
     "execution_count": 33,
     "metadata": {},
     "output_type": "execute_result"
    },
    {
     "data": {
      "image/png": "[encoded data removed]",
      "text/plain": [
       "<Figure size 640x480 with 1 Axes>"
      ]
     },
     "metadata": {},
     "output_type": "display_data"
    }
   ],
   "source": [
    "psi.plot_state(logscale=True)"
   ]
  },
  {
   "cell_type": "code",
   "execution_count": 34,
   "id": "c7091393",
   "metadata": {
    "collapsed": false,
    "jupyter": {
     "outputs_hidden": false
    },
    "pycharm": {
     "name": "#%%\n"
    }
   },
   "outputs": [
    {
     "data": {
      "text/plain": [
       "<Axes: xlabel='binary output', ylabel='probability amplitude'>"
      ]
     },
     "execution_count": 34,
     "metadata": {},
     "output_type": "execute_result"
    },
    {
     "data": {
      "image/png": "[encoded data removed]",
      "text/plain": [
       "<Figure size 640x480 with 1 Axes>"
      ]
     },
     "metadata": {},
     "output_type": "display_data"
    }
   ],
   "source": [
    "psi.plot_state(probability_threshold=0.1)"
   ]
  },
  {
   "cell_type": "code",
   "execution_count": null,
   "id": "fc87b4bc",
   "metadata": {
    "collapsed": false,
    "jupyter": {
     "outputs_hidden": false
    },
    "pycharm": {
     "name": "#%%\n"
    }
   },
   "outputs": [],
   "source": []
  },
  {
   "cell_type": "code",
   "execution_count": 35,
   "id": "eecc33f9",
   "metadata": {
    "collapsed": false,
    "jupyter": {
     "outputs_hidden": false
    },
    "pycharm": {
     "name": "#%%\n"
    }
   },
   "outputs": [],
   "source": [
    "## Final comments"
   ]
  },
  {
   "cell_type": "markdown",
   "id": "0efde06d",
   "metadata": {
    "collapsed": false,
    "jupyter": {
     "outputs_hidden": false
    },
    "pycharm": {
     "name": "#%% md\n"
    }
   },
   "source": [
    "Please note that `QuantumState`, while efficient, represents a full statevector simulation that is most efficient for states that can be efficiently described in the computational basis (efficiently meaning not too many basis states). For states that are not necessarily entangled, but require all computational basis states, e.g. the plus state on each qubit (act with Hadmard gate on each qubit). `QuantumState` will keep track a vector of size $2^{n}$. In such cases, alternative python libraries can describe these systems more efficiently if this becomes a bottleneck (e.g. qiskit circuit simulation tools). The goal of `QuantumState` is not to compete with these optimized libraries and has slightly different usage. In fact we find they can be used together, for example getting the statevector out of a qiskit statevector simulation and initalizing a `QuantumState` to perform analysis on."
   ]
  },
  {
   "cell_type": "code",
   "execution_count": 36,
   "id": "1b4a56c7",
   "metadata": {
    "collapsed": false,
    "jupyter": {
     "outputs_hidden": false
    },
    "pycharm": {
     "name": "#%%\n"
    }
   },
   "outputs": [
    {
     "data": {
      "image/png": "[encoded data removed]",
      "text/plain": [
       "<Figure size 640x480 with 1 Axes>"
      ]
     },
     "metadata": {},
     "output_type": "display_data"
    }
   ],
   "source": [
    "ax = random_state.plot_state(dpi=100)"
   ]
  },
  {
   "cell_type": "code",
   "execution_count": 37,
   "id": "d83fc2dc",
   "metadata": {
    "collapsed": false,
    "jupyter": {
     "outputs_hidden": false
    },
    "pycharm": {
     "name": "#%%\n"
    }
   },
   "outputs": [
    {
     "data": {
      "image/png": "[encoded data removed]",
      "text/plain": [
       "<Figure size 640x480 with 1 Axes>"
      ]
     },
     "metadata": {},
     "output_type": "display_data"
    }
   ],
   "source": [
    "%matplotlib inline\n",
    "random_large_state = QuantumState.haar_random(10, vec_type='ket')\n",
    "ax2 = random_large_state.plot_state(logscale=False)"
   ]
  },
  {
   "cell_type": "code",
   "execution_count": 38,
   "id": "386ecd52",
   "metadata": {
    "collapsed": false,
    "jupyter": {
     "outputs_hidden": false
    },
    "pycharm": {
     "name": "#%%\n"
    }
   },
   "outputs": [
    {
     "data": {
      "image/png": "[encoded data removed]",
      "text/plain": [
       "<Figure size 640x480 with 1 Axes>"
      ]
     },
     "metadata": {},
     "output_type": "display_data"
    }
   ],
   "source": [
    "a = np.arange(2**4)\n",
    "a = a/np.linalg.norm(a)\n",
    "psi = QuantumState.from_array(a.reshape([-1,1]))\n",
    "ax = psi.plot_state()"
   ]
  },
  {
   "cell_type": "code",
   "execution_count": 39,
   "id": "602b1046",
   "metadata": {
    "collapsed": false,
    "jupyter": {
     "outputs_hidden": false
    },
    "pycharm": {
     "name": "#%%\n"
    }
   },
   "outputs": [
    {
     "data": {
      "text/plain": [
       "<Axes: xlabel='binary output', ylabel='probability amplitude'>"
      ]
     },
     "execution_count": 39,
     "metadata": {},
     "output_type": "execute_result"
    },
    {
     "data": {
      "image/png": "[encoded data removed]",
      "text/plain": [
       "<Figure size 640x480 with 1 Axes>"
      ]
     },
     "metadata": {},
     "output_type": "display_data"
    }
   ],
   "source": [
    "psi.plot_state(logscale=True)"
   ]
  },
  {
   "cell_type": "code",
   "execution_count": 40,
   "id": "86581630",
   "metadata": {
    "collapsed": false,
    "jupyter": {
     "outputs_hidden": false
    },
    "pycharm": {
     "name": "#%%\n"
    }
   },
   "outputs": [
    {
     "data": {
      "text/plain": [
       "<Axes: xlabel='binary output', ylabel='probability amplitude'>"
      ]
     },
     "execution_count": 40,
     "metadata": {},
     "output_type": "execute_result"
    },
    {
     "data": {
      "image/png": "[encoded data removed]",
      "text/plain": [
       "<Figure size 640x480 with 1 Axes>"
      ]
     },
     "metadata": {},
     "output_type": "display_data"
    }
   ],
   "source": [
    "psi.plot_state(probability_threshold=0.1)"
   ]
  },
  {
   "cell_type": "code",
   "execution_count": null,
   "id": "bb0532f8",
   "metadata": {
    "collapsed": false,
    "jupyter": {
     "outputs_hidden": false
    },
    "pycharm": {
     "name": "#%%\n"
    }
   },
   "outputs": [],
   "source": []
  },
  {
   "cell_type": "code",
   "execution_count": 41,
   "id": "843f0bdf",
   "metadata": {
    "collapsed": false,
    "jupyter": {
     "outputs_hidden": false
    },
    "pycharm": {
     "name": "#%%\n"
    }
   },
   "outputs": [],
   "source": [
    "## Final comments"
   ]
  },
  {
   "cell_type": "markdown",
   "id": "f9d7c21e",
   "metadata": {
    "collapsed": false,
    "jupyter": {
     "outputs_hidden": false
    },
    "pycharm": {
     "name": "#%% md\n"
    }
   },
   "source": [
    "Please note that `QuantumState`, while efficient, represents a full statevector simulation that is most efficient for states that can be efficiently described in the computational basis (efficiently meaning not too many basis states). For states that are not necessarily entangled, but require all computational basis states, e.g. the plus state on each qubit (act with Hadmard gate on each qubit). `QuantumState` will keep track a vector of size $2^{n}$. In such cases, alternative python libraries can describe these systems more efficiently if this becomes a bottleneck (e.g. qiskit circuit simulation tools). The goal of `QuantumState` is not to compete with these optimized libraries and has slightly different usage. In fact we find they can be used together, for example getting the statevector out of a qiskit statevector simulation and initalizing a `QuantumState` to perform analysis on."
   ]
  },
  {
   "cell_type": "code",
   "execution_count": 42,
   "id": "267f7600",
   "metadata": {
    "pycharm": {
     "name": "#%%\n"
    }
   },
   "outputs": [
    {
     "data": {
      "image/png": "[encoded data removed]",
      "text/plain": [
       "<Figure size 640x480 with 1 Axes>"
      ]
     },
     "metadata": {},
     "output_type": "display_data"
    }
   ],
   "source": [
    "%matplotlib inline\n",
    "random_large_state = QuantumState.haar_random(10, vec_type='ket')\n",
    "ax2 = random_large_state.plot_state(logscale=False)"
   ]
  },
  {
   "cell_type": "code",
   "execution_count": 43,
   "id": "47ba9923",
   "metadata": {
    "pycharm": {
     "name": "#%%\n"
    }
   },
   "outputs": [
    {
     "data": {
      "image/png": "[encoded data removed]",
      "text/plain": [
       "<Figure size 640x480 with 1 Axes>"
      ]
     },
     "metadata": {},
     "output_type": "display_data"
    }
   ],
   "source": [
    "a = np.arange(2**4)\n",
    "a = a/np.linalg.norm(a)\n",
    "psi = QuantumState.from_array(a.reshape([-1,1]))\n",
    "ax = psi.plot_state()"
   ]
  },
  {
   "cell_type": "code",
   "execution_count": 44,
   "id": "da477775",
   "metadata": {
    "pycharm": {
     "name": "#%%\n"
    }
   },
   "outputs": [
    {
     "data": {
      "text/plain": [
       "<Axes: xlabel='binary output', ylabel='probability amplitude'>"
      ]
     },
     "execution_count": 44,
     "metadata": {},
     "output_type": "execute_result"
    },
    {
     "data": {
      "image/png": "[encoded data removed]",
      "text/plain": [
       "<Figure size 640x480 with 1 Axes>"
      ]
     },
     "metadata": {},
     "output_type": "display_data"
    }
   ],
   "source": [
    "psi.plot_state(logscale=True)"
   ]
  },
  {
   "cell_type": "code",
   "execution_count": 45,
   "id": "057c57e0",
   "metadata": {
    "pycharm": {
     "name": "#%%\n"
    }
   },
   "outputs": [
    {
     "data": {
      "text/plain": [
       "<Axes: xlabel='binary output', ylabel='probability amplitude'>"
      ]
     },
     "execution_count": 45,
     "metadata": {},
     "output_type": "execute_result"
    },
    {
     "data": {
      "image/png": "[encoded data removed]",
      "text/plain": [
       "<Figure size 640x480 with 1 Axes>"
      ]
     },
     "metadata": {},
     "output_type": "display_data"
    }
   ],
   "source": [
    "psi.plot_state(probability_threshold=0.1)"
   ]
  },
  {
   "cell_type": "code",
   "execution_count": null,
   "id": "dcd1cabd",
   "metadata": {
    "pycharm": {
     "name": "#%%\n"
    }
   },
   "outputs": [],
   "source": []
  },
  {
   "cell_type": "code",
   "execution_count": null,
   "outputs": [],
   "source": [
    "## Final comments"
   ],
   "metadata": {
    "collapsed": false,
    "pycharm": {
     "name": "#%%\n"
    }
   }
  },
  {
   "cell_type": "markdown",
   "id": "08435d7e-32ba-48e3-b4f0-3e8974f7c738",
   "metadata": {
    "pycharm": {
     "name": "#%% md\n"
    }
   },
   "source": [
    "Please note that `QuantumState`, while efficient, represents a full statevector simulation that is most efficient for states that can be efficiently described in the computational basis (efficiently meaning not too many basis states). For states that are not necessarily entangled, but require all computational basis states, e.g. the plus state on each qubit (act with Hadmard gate on each qubit). `QuantumState` will keep track a vector of size $2^{n}$. In such cases, alternative python libraries can describe these systems more efficiently if this becomes a bottleneck (e.g. qiskit circuit simulation tools). The goal of `QuantumState` is not to compete with these optimized libraries and has slightly different usage. In fact we find they can be used together, for example getting the statevector out of a qiskit statevector simulation and initalizing a `QuantumState` to perform analysis on."
   ]
  },
  {
   "cell_type": "code",
   "execution_count": null,
   "id": "0bd7034a-b9c8-42a2-979f-b3fe9c832fbc",
   "metadata": {
    "pycharm": {
     "name": "#%%\n"
    }
   },
   "outputs": [],
   "source": []
  }
 ],
 "metadata": {
  "kernelspec": {
   "display_name": "Python 3 (ipykernel)",
   "language": "python",
   "name": "python3"
  },
  "language_info": {
   "codemirror_mode": {
    "name": "ipython",
    "version": 3
   },
   "file_extension": ".py",
   "mimetype": "text/x-python",
   "name": "python",
   "nbconvert_exporter": "python",
   "pygments_lexer": "ipython3",
   "version": "3.8.16"
  }
 },
 "nbformat": 4,
 "nbformat_minor": 5
}