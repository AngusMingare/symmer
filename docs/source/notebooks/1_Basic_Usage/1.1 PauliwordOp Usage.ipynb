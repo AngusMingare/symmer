{
 "cells": [
  {
   "cell_type": "markdown",
   "id": "f3768eba",
   "metadata": {
    "pycharm": {
     "name": "#%% md\n"
    }
   },
   "source": [
    "# Getting Started with PauliwordOp"
   ]
  },
  {
   "cell_type": "markdown",
   "id": "09fc3eff-9766-4869-b97e-297f491ed7ca",
   "metadata": {
    "pycharm": {
     "name": "#%% md\n"
    }
   },
   "source": [
    "The Pauli spin matrices $\\{X, Y, Z \\}$ are defined as:\n",
    "\n",
    "$$X = \\begin{bmatrix}\n",
    "0 & 1\\\\ \n",
    "1 & 0\n",
    "\\end{bmatrix}$$\n",
    "\n",
    "$$Y = \\begin{bmatrix}\n",
    "0 & -1i\\\\ \n",
    "1i & 0\n",
    "\\end{bmatrix}$$\n",
    "\n",
    "$$Z = \\begin{bmatrix}\n",
    "1 & 0\\\\ \n",
    "0 & -1\n",
    "\\end{bmatrix}$$\n",
    "\n",
    "A Pauli operator $P_{i}$ is defined as an $n$-fold tensor products of such single qubit Pauli matrices. We can write this as:\n",
    "\n",
    "$$P_{i} = \\bigotimes_{k=0}^{n-1} \\sigma_{i} = \\sigma_{0} \\otimes \\sigma_{1}  \\otimes ... \\otimes \\sigma_{n-1}$$\n",
    "\n"
   ]
  },
  {
   "cell_type": "markdown",
   "id": "df1b548e-3fac-4e62-8f50-c74d6ced86c6",
   "metadata": {
    "pycharm": {
     "name": "#%% md\n"
    }
   },
   "source": [
    "The `PauliwordOp` class is used to describe arbitrary linear combination of Pauli operators and provide useful manipulation functions."
   ]
  },
  {
   "cell_type": "markdown",
   "id": "6aa1b796-f746-417d-8ba3-cbb306aec601",
   "metadata": {
    "pycharm": {
     "name": "#%% md\n"
    }
   },
   "source": [
    "## Initialization"
   ]
  },
  {
   "cell_type": "markdown",
   "id": "e15871ad-3dc0-44d8-93a4-de766fd1fbae",
   "metadata": {
    "pycharm": {
     "name": "#%% md\n"
    }
   },
   "source": [
    "First we need to import `PauliwordOp`"
   ]
  },
  {
   "cell_type": "code",
   "execution_count": 1,
   "id": "b8b96530-dc5a-42af-8324-c99af619daa1",
   "metadata": {
    "pycharm": {
     "name": "#%%\n"
    }
   },
   "outputs": [
    {
     "name": "stderr",
     "output_type": "stream",
     "text": [
      "2023-08-23 18:11:19,796\tINFO util.py:159 -- Outdated packages:\n",
      "  ipywidgets==7.7.2 found, needs ipywidgets>=8\n",
      "Run `pip install -U ipywidgets`, then restart the notebook server for rich notebook output.\n"
     ]
    }
   ],
   "source": [
    "from symmer import PauliwordOp"
   ]
  },
  {
   "cell_type": "markdown",
   "id": "342e9dce-b578-4963-97c4-fd915fc1795c",
   "metadata": {
    "pycharm": {
     "name": "#%% md\n"
    }
   },
   "source": [
    "We can then initialize a Pauli operator via the following methods:\n",
    "1. `from_list`\n",
    "2. `from_dictionary`\n",
    "3. `from_matrix`\n",
    "4. `random`\n",
    "5. `haar_random`\n",
    "6. `from_qiskit`\n",
    "7. `from_openfermion`\n",
    "8. `empty`"
   ]
  },
  {
   "cell_type": "code",
   "execution_count": 2,
   "id": "88499054",
   "metadata": {
    "pycharm": {
     "name": "#%%\n"
    }
   },
   "outputs": [
    {
     "data": {
      "text/plain": [
       " 1.000+0.000j ZI +\n",
       " 2.000+0.000j ZZ +\n",
       " 3.000+0.000j ZX +\n",
       " 4.000+0.000j YZ +\n",
       " 5.000+0.000j XX +\n",
       " 6.000+0.000j XY"
      ]
     },
     "execution_count": 2,
     "metadata": {},
     "output_type": "execute_result"
    }
   ],
   "source": [
    "term_list = ['ZI', 'ZZ', 'ZX', 'YZ', 'XX', 'XY']\n",
    "coeffs = [1,2,3,4,5,6]\n",
    "\n",
    "PauliwordOp.from_list(term_list,\n",
    "                      coeffs)"
   ]
  },
  {
   "cell_type": "code",
   "execution_count": 3,
   "id": "eff541ba",
   "metadata": {
    "pycharm": {
     "name": "#%%\n"
    }
   },
   "outputs": [
    {
     "data": {
      "text/plain": [
       " 1.000+0.000j ZI +\n",
       " 2.000+0.000j ZZ +\n",
       " 3.000+0.000j ZX +\n",
       " 4.000+0.000j YZ +\n",
       " 5.000+0.000j XX +\n",
       " 6.000+0.000j XY"
      ]
     },
     "execution_count": 3,
     "metadata": {},
     "output_type": "execute_result"
    }
   ],
   "source": [
    "term_dict = {'ZI': (1+0j),\n",
    " 'ZZ': (2+0j),\n",
    " 'ZX': (3+0j),\n",
    " 'YZ': (4+0j),\n",
    " 'XX': (5+0j),\n",
    " 'XY': (6+0j)}\n",
    "             \n",
    "PauliwordOp.from_dictionary(term_dict)"
   ]
  },
  {
   "cell_type": "code",
   "execution_count": 4,
   "id": "61cb78d0",
   "metadata": {
    "pycharm": {
     "name": "#%%\n"
    },
    "scrolled": true
   },
   "outputs": [
    {
     "data": {
      "text/plain": [
       " 1.000+0.000j ZI +\n",
       " 2.000+0.000j ZZ +\n",
       " 3.000+0.000j ZX +\n",
       " 4.000+0.000j YZ +\n",
       " 5.000+0.000j XX +\n",
       " 6.000+0.000j XY"
      ]
     },
     "execution_count": 4,
     "metadata": {},
     "output_type": "execute_result"
    }
   ],
   "source": [
    "import numpy as np\n",
    "\n",
    "mat = np.array([[ 3.+0.j,  3.+0.j,  0.-4.j,  5.-6.j],\n",
    "                   [ 3.+0.j, -1.+0.j,  5.+6.j,  0.+4.j],\n",
    "                   [ 0.+4.j,  5.-6.j, -3.+0.j, -3.+0.j],\n",
    "                   [ 5.+6.j,  0.-4.j, -3.+0.j,  1.+0.j]])\n",
    "\n",
    "PauliwordOp.from_matrix(mat, \n",
    "                        disable_loading_bar=True)"
   ]
  },
  {
   "cell_type": "code",
   "execution_count": null,
   "id": "de47f3eb-d09b-49ad-9824-c16687609981",
   "metadata": {
    "pycharm": {
     "name": "#%%\n"
    }
   },
   "outputs": [],
   "source": []
  },
  {
   "cell_type": "code",
   "execution_count": 5,
   "id": "40346a0b-128b-4a13-87c5-3508ef6f2704",
   "metadata": {
    "pycharm": {
     "name": "#%%\n"
    }
   },
   "outputs": [
    {
     "data": {
      "text/plain": [
       "-0.847+0.000j IZX +\n",
       " 0.184+0.000j III +\n",
       " 3.090+0.000j ZXI +\n",
       " 0.176+0.000j ZIZ +\n",
       "-0.551+0.000j XZX +\n",
       " 0.198+0.000j XZX +\n",
       "-0.207+0.000j XXI +\n",
       "-2.701+0.000j IYY"
      ]
     },
     "execution_count": 5,
     "metadata": {},
     "output_type": "execute_result"
    }
   ],
   "source": [
    "n_qubits= 3\n",
    "n_terms = 8\n",
    "random = PauliwordOp.random(n_qubits, \n",
    "                             n_terms,\n",
    "                               diagonal=False,\n",
    "                               complex_coeffs=False)\n",
    "\n",
    "random"
   ]
  },
  {
   "cell_type": "markdown",
   "id": "a2c0b71d-1318-4bb1-b97e-4fdc7c68d395",
   "metadata": {
    "pycharm": {
     "name": "#%% md\n"
    }
   },
   "source": [
    "```{note}\n",
    "random method can generate repeated terms!\n",
    "```"
   ]
  },
  {
   "cell_type": "code",
   "execution_count": 6,
   "id": "725331a4-55e4-4b79-9dee-2b9713908e81",
   "metadata": {
    "pycharm": {
     "name": "#%%\n"
    }
   },
   "outputs": [
    {
     "data": {
      "text/plain": [
       " 0.042-0.113j II +\n",
       "-0.173-0.406j IZ +\n",
       " 0.274-0.090j ZI +\n",
       "-0.016-0.010j ZZ +\n",
       "-0.151+0.298j IX +\n",
       " 0.087-0.144j IY +\n",
       "-0.056-0.182j ZX +\n",
       "-0.109-0.184j ZY +\n",
       " 0.176-0.072j XI +\n",
       "-0.292-0.191j XZ +\n",
       "-0.015+0.261j YI +\n",
       "-0.083+0.005j YZ +\n",
       " 0.021-0.368j XX +\n",
       " 0.019+0.224j XY +\n",
       "-0.186+0.024j YX +\n",
       "-0.178+0.013j YY"
      ]
     },
     "execution_count": 6,
     "metadata": {},
     "output_type": "execute_result"
    }
   ],
   "source": [
    "import networkx as nx\n",
    "\n",
    "n_qubits= 2\n",
    "haar_random = PauliwordOp.haar_random(n_qubits, \n",
    "                                disable_loading_bar=True)\n",
    "\n",
    "haar_random"
   ]
  },
  {
   "cell_type": "code",
   "execution_count": 7,
   "id": "a88e2501-c452-45fc-89f7-55098c78c95b",
   "metadata": {
    "pycharm": {
     "name": "#%%\n"
    }
   },
   "outputs": [
    {
     "name": "stdout",
     "output_type": "stream",
     "text": [
      "IBM op:\n",
      "1.0 * XX\n",
      "+ 2.0 * YY \n",
      "\n",
      "symmer op:\n",
      " 1.000+0.000j XX +\n",
      " 2.000+0.000j YY\n"
     ]
    }
   ],
   "source": [
    "from qiskit.opflow import PauliSumOp \n",
    "\n",
    "ibm_op = PauliSumOp.from_list([('XX', 1), ('YY', 2)])\n",
    "\n",
    "P = PauliwordOp.from_qiskit(ibm_op)\n",
    "\n",
    "print(f'IBM op:')\n",
    "print(ibm_op, '\\n')\n",
    "\n",
    "print(f'symmer op:')\n",
    "print(P)"
   ]
  },
  {
   "cell_type": "code",
   "execution_count": 8,
   "id": "d8261983-8788-4737-af8e-99a0be479691",
   "metadata": {
    "pycharm": {
     "name": "#%%\n"
    }
   },
   "outputs": [
    {
     "name": "stdout",
     "output_type": "stream",
     "text": [
      "openfermion op:\n",
      "1 [X0 X1] +\n",
      "2.0 [Y0 Y1] \n",
      "\n",
      "symmer op:\n",
      " 1.000+0.000j XX +\n",
      " 2.000+0.000j YY\n"
     ]
    }
   ],
   "source": [
    "from openfermion import QubitOperator\n",
    "\n",
    "of_op = QubitOperator('X0 X1', 1) + QubitOperator('Y0 Y1', 2)\n",
    "\n",
    "P = PauliwordOp.from_openfermion(of_op)\n",
    "\n",
    "print(f'openfermion op:')\n",
    "print(of_op, '\\n')\n",
    "\n",
    "print(f'symmer op:')\n",
    "print(P)"
   ]
  },
  {
   "cell_type": "code",
   "execution_count": null,
   "id": "76ed82b8-1f01-42b9-978a-e527b711a93d",
   "metadata": {
    "pycharm": {
     "name": "#%%\n"
    }
   },
   "outputs": [],
   "source": []
  },
  {
   "cell_type": "markdown",
   "id": "77cb802f-ecf9-464a-a482-6b506c2fb8c9",
   "metadata": {
    "pycharm": {
     "name": "#%% md\n"
    }
   },
   "source": [
    "An empty Pauliword can be initizalized as follows:"
   ]
  },
  {
   "cell_type": "code",
   "execution_count": 57,
   "id": "ba7aef2d-24d5-44ea-9c9a-b54fb441f737",
   "metadata": {
    "pycharm": {
     "name": "#%%\n"
    }
   },
   "outputs": [
    {
     "data": {
      "text/plain": [
       " 0.000+0.000j II"
      ]
     },
     "execution_count": 57,
     "metadata": {},
     "output_type": "execute_result"
    }
   ],
   "source": [
    "n_qubits = 2\n",
    "empty = PauliwordOp.empty(n_qubits)\n",
    "empty"
   ]
  },
  {
   "cell_type": "markdown",
   "id": "de1ef5c9-ac76-40d8-b145-db72a95a5619",
   "metadata": {
    "pycharm": {
     "name": "#%% md\n"
    }
   },
   "source": [
    "This can be useful if we want to add terms to a given variable (without having to define it during)."
   ]
  },
  {
   "cell_type": "markdown",
   "id": "2c9e0394-be03-4864-b8f1-25e4b310e4f1",
   "metadata": {
    "pycharm": {
     "name": "#%% md\n"
    }
   },
   "source": [
    "## Basic mathematical operations"
   ]
  },
  {
   "cell_type": "markdown",
   "id": "e3ee7864-0f8d-462d-9fa5-0290174c9ad0",
   "metadata": {
    "pycharm": {
     "name": "#%% md\n"
    }
   },
   "source": [
    "### Addition"
   ]
  },
  {
   "cell_type": "markdown",
   "id": "d07ffb25-c7c3-4cbb-be9f-b6709c930196",
   "metadata": {
    "pycharm": {
     "name": "#%% md\n"
    }
   },
   "source": [
    "Addition is performed between `PauliwordOp` using the standard `+` operator:"
   ]
  },
  {
   "cell_type": "code",
   "execution_count": 9,
   "id": "2c2a79c1-1dd3-4d97-9816-68c702137aea",
   "metadata": {
    "pycharm": {
     "name": "#%%\n"
    }
   },
   "outputs": [
    {
     "data": {
      "text/plain": [
       " 1.000+0.000j ZI +\n",
       " 2.000+0.000j ZZ +\n",
       " 1.000+0.000j XX +\n",
       " 2.000+0.000j YY"
      ]
     },
     "execution_count": 9,
     "metadata": {},
     "output_type": "execute_result"
    }
   ],
   "source": [
    "P1 = PauliwordOp.from_dictionary({\n",
    "                                 'ZI': (1+0j),\n",
    "                                 'ZZ': (2+0j)}\n",
    "                                )\n",
    "\n",
    "P2 = PauliwordOp.from_dictionary({\n",
    "                                 'XX': (1+0j),\n",
    "                                 'YY': (2+0j)}\n",
    "                                )\n",
    "\n",
    "P_add = P1 + P2\n",
    "P_add"
   ]
  },
  {
   "cell_type": "markdown",
   "id": "3eb5903e-cfb5-4c71-87af-bd95395df5b9",
   "metadata": {
    "pycharm": {
     "name": "#%% md\n"
    }
   },
   "source": [
    "And a new `PauliwordOp` is returned"
   ]
  },
  {
   "cell_type": "markdown",
   "id": "b7228193-ab7a-433f-bfda-55710765079c",
   "metadata": {
    "pycharm": {
     "name": "#%% md\n"
    }
   },
   "source": [
    "```{note}\n",
    "You can only add PauliwordOp operators with the SAME number of qubits.\n",
    "```"
   ]
  },
  {
   "cell_type": "markdown",
   "id": "e1f172bc-be5a-4b6a-bd2f-7acb8a72959d",
   "metadata": {
    "pycharm": {
     "name": "#%% md\n"
    }
   },
   "source": [
    "### Multiplication"
   ]
  },
  {
   "cell_type": "markdown",
   "id": "935a25f5-be01-4fef-a727-cf8205eae234",
   "metadata": {
    "pycharm": {
     "name": "#%% md\n"
    }
   },
   "source": [
    "Multiplication is performed between `PauliwordOp` using the standard `*` operator:"
   ]
  },
  {
   "cell_type": "code",
   "execution_count": 10,
   "id": "16a6f334-9506-41dc-9743-970e43822199",
   "metadata": {
    "pycharm": {
     "name": "#%%\n"
    }
   },
   "outputs": [
    {
     "data": {
      "text/plain": [
       "-4.000+0.000j XX +\n",
       " 0.000-2.000j XY +\n",
       " 0.000+1.000j YX +\n",
       "-2.000+0.000j YY"
      ]
     },
     "execution_count": 10,
     "metadata": {},
     "output_type": "execute_result"
    }
   ],
   "source": [
    "P_mult = P1 * P2\n",
    "P_mult"
   ]
  },
  {
   "cell_type": "markdown",
   "id": "f9daf3a7-a09d-45e0-bf38-fd07d8c80ccc",
   "metadata": {
    "pycharm": {
     "name": "#%% md\n"
    }
   },
   "source": [
    "And a new `PauliwordOp` is returned"
   ]
  },
  {
   "cell_type": "markdown",
   "id": "ad4b78e1-5cd2-403f-a389-750af885347e",
   "metadata": {
    "pycharm": {
     "name": "#%% md\n"
    }
   },
   "source": [
    "```{note}\n",
    "As with addition, you can only multiply PauliwordOp operators with the SAME number of qubits.\n",
    "```"
   ]
  },
  {
   "cell_type": "markdown",
   "source": [
    "To multiply a PauliwordOp by a constant we recommend using:"
   ],
   "metadata": {
    "collapsed": false,
    "pycharm": {
     "name": "#%% md\n"
    }
   }
  },
  {
   "cell_type": "code",
   "execution_count": null,
   "outputs": [],
   "source": [
    "P1.multiply_by_constant(4)\n",
    "P1"
   ],
   "metadata": {
    "collapsed": false,
    "pycharm": {
     "name": "#%%\n",
     "is_executing": true
    }
   }
  },
  {
   "cell_type": "markdown",
   "id": "a5a1e50a-7a27-456e-bab8-eac93cbb7d67",
   "metadata": {
    "pycharm": {
     "name": "#%% md\n"
    }
   },
   "source": [
    "### Commutativity"
   ]
  },
  {
   "cell_type": "markdown",
   "id": "8e913d57-95b0-451a-8183-8abf630ff175",
   "metadata": {
    "pycharm": {
     "name": "#%% md\n"
    }
   },
   "source": [
    "We can find the commutation properties between Pauli operators within a `PauliwordOp` by:"
   ]
  },
  {
   "cell_type": "code",
   "execution_count": 11,
   "id": "897dc947-3afb-49d5-a824-bf7bbafec8a1",
   "metadata": {
    "pycharm": {
     "name": "#%%\n"
    }
   },
   "outputs": [
    {
     "name": "stdout",
     "output_type": "stream",
     "text": [
      "[[ True  True False]\n",
      " [ True  True  True]\n",
      " [False  True  True]]\n"
     ]
    }
   ],
   "source": [
    "P = PauliwordOp.from_list(['XX', 'YY', 'ZX'])\n",
    "print(P.adjacency_matrix)"
   ]
  },
  {
   "cell_type": "markdown",
   "id": "22d91923-a747-404f-b6e2-0952381fefe8",
   "metadata": {
    "pycharm": {
     "name": "#%% md\n"
    }
   },
   "source": [
    "This is more commonly known as the adjacency_matrix."
   ]
  },
  {
   "cell_type": "markdown",
   "id": "613815d0-343b-4939-89b6-c64882f09f65",
   "metadata": {
    "pycharm": {
     "name": "#%% md\n"
    }
   },
   "source": [
    "We can also find the commutatation properties between terms of two different 'PauliwordOp' operators via"
   ]
  },
  {
   "cell_type": "code",
   "execution_count": 12,
   "id": "66425dda-2e23-45b0-bea7-e485274ff0d0",
   "metadata": {
    "pycharm": {
     "name": "#%%\n"
    }
   },
   "outputs": [
    {
     "name": "stdout",
     "output_type": "stream",
     "text": [
      "[[ True  True False]\n",
      " [False False  True]]\n"
     ]
    }
   ],
   "source": [
    "# termwise commutativy\n",
    "P1 = PauliwordOp.from_list(['ZZ', 'ZI'])\n",
    "P2 = PauliwordOp.from_list(['XX', 'YY', 'ZX'])\n",
    "print(P1.commutes_termwise(P2))"
   ]
  },
  {
   "cell_type": "markdown",
   "id": "1bc45c91-a30a-4440-8317-802ca62e439a",
   "metadata": {
    "pycharm": {
     "name": "#%% md\n"
    }
   },
   "source": [
    "We see that:\n",
    "- `ZZ` commutes with all terms in `P2` apart from `ZX`\n",
    "- `ZI` anticommutes with all terms in `P2` apart from `ZX` which it commutes with"
   ]
  },
  {
   "cell_type": "markdown",
   "id": "7ab82b06-9aad-4b09-a95d-17d75eddc7f3",
   "metadata": {
    "pycharm": {
     "name": "#%% md\n"
    }
   },
   "source": [
    "Finally, we can also find commutativity relations between operators. Operators $A$ and $B$ commute if:\n",
    "\n",
    "$$[A,B] = AB - BA  = 0$$"
   ]
  },
  {
   "cell_type": "code",
   "execution_count": 13,
   "id": "10a4b8f7-f80a-4183-a911-47d867bdac5f",
   "metadata": {
    "pycharm": {
     "name": "#%%\n"
    }
   },
   "outputs": [
    {
     "data": {
      "text/plain": [
       "True"
      ]
     },
     "execution_count": 13,
     "metadata": {},
     "output_type": "execute_result"
    }
   ],
   "source": [
    "# termwise commutativy\n",
    "A = PauliwordOp.from_list(['ZZ'])\n",
    "B = PauliwordOp.from_list(['XX', 'YY'])\n",
    "\n",
    "A.commutes(B)"
   ]
  },
  {
   "cell_type": "code",
   "execution_count": 14,
   "id": "9e68a227-520b-4173-b2a7-e1ca07e826b4",
   "metadata": {
    "pycharm": {
     "name": "#%%\n"
    }
   },
   "outputs": [
    {
     "data": {
      "text/plain": [
       "False"
      ]
     },
     "execution_count": 14,
     "metadata": {},
     "output_type": "execute_result"
    }
   ],
   "source": [
    "A = PauliwordOp.from_list(['ZZ'])\n",
    "B = PauliwordOp.from_list(['XI'])\n",
    "\n",
    "A.commutes(B)"
   ]
  },
  {
   "cell_type": "code",
   "execution_count": null,
   "outputs": [],
   "source": [
    "```{note}\n",
    "Note the difference between: commutes and commutes_termwise\n",
    "```"
   ],
   "metadata": {
    "collapsed": false,
    "pycharm": {
     "name": "#%%\n"
    }
   }
  },
  {
   "cell_type": "markdown",
   "id": "b6b19b62",
   "metadata": {
    "pycharm": {
     "name": "#%% md\n"
    }
   },
   "source": [
    "### Tensoring PauliwordOps\n",
    "\n",
    "We can tensor PauliwordOps as follows:"
   ]
  },
  {
   "cell_type": "code",
   "execution_count": 15,
   "id": "46de4925",
   "metadata": {
    "pycharm": {
     "name": "#%%\n"
    }
   },
   "outputs": [
    {
     "name": "stdout",
     "output_type": "stream",
     "text": [
      " 2.000+2.000j XZ\n"
     ]
    }
   ],
   "source": [
    "P1 = PauliwordOp.from_list(['X'], [1 + 1j])\n",
    "P2 = PauliwordOp.from_list(['Z'], [2])\n",
    "\n",
    "print(P1.tensor(P2))"
   ]
  },
  {
   "cell_type": "markdown",
   "id": "24a2760a",
   "metadata": {
    "pycharm": {
     "name": "#%% md\n"
    }
   },
   "source": [
    "... which includes linear combinations defined over different numbers of qubits:"
   ]
  },
  {
   "cell_type": "code",
   "execution_count": 16,
   "id": "8a1f206f",
   "metadata": {
    "pycharm": {
     "name": "#%%\n"
    }
   },
   "outputs": [
    {
     "name": "stdout",
     "output_type": "stream",
     "text": [
      "-1.000+21.000j ZXYZZ +\n",
      "-37.000+29.000j ZXYXY +\n",
      " 4.000+7.000j XIYZZ +\n",
      "-6.000+17.000j XIYXY\n"
     ]
    }
   ],
   "source": [
    "P1 = PauliwordOp.from_list(['XIY', 'ZXY'], [2+1j, 3+5j])\n",
    "P2 = PauliwordOp.from_list(['ZZ', 'XY'], [3+2j, 1+8j])\n",
    "\n",
    "print(P1.tensor(P2))"
   ]
  },
  {
   "cell_type": "markdown",
   "id": "8bca19f3",
   "metadata": {
    "pycharm": {
     "name": "#%% md\n"
    }
   },
   "source": [
    "# Exporting to different representations"
   ]
  },
  {
   "cell_type": "markdown",
   "id": "5b727c18-f8c2-474a-bbd9-6f838e094105",
   "metadata": {
    "pycharm": {
     "name": "#%% md\n"
    }
   },
   "source": [
    "Given the following Pauli operator `op`:"
   ]
  },
  {
   "cell_type": "code",
   "execution_count": 17,
   "id": "5065cdeb",
   "metadata": {
    "pycharm": {
     "name": "#%%\n"
    }
   },
   "outputs": [
    {
     "name": "stdout",
     "output_type": "stream",
     "text": [
      " 1.000+0.000j XX +\n",
      " 2.000+1.000j ZZ +\n",
      " 3.000+0.000j II\n"
     ]
    }
   ],
   "source": [
    "op = PauliwordOp.from_dictionary(\n",
    "    {\n",
    "        'XX':1,\n",
    "        'ZZ':2 + 1j,\n",
    "        'II':3\n",
    "    }\n",
    ")\n",
    "print(op)"
   ]
  },
  {
   "cell_type": "markdown",
   "id": "6c2fb88d",
   "metadata": {
    "pycharm": {
     "name": "#%% md\n"
    }
   },
   "source": [
    "We can convert it into a scipy `csr` matrix via the `to_sparse_matrix` method:"
   ]
  },
  {
   "cell_type": "code",
   "execution_count": 18,
   "id": "cb6eb284",
   "metadata": {
    "pycharm": {
     "name": "#%%\n"
    },
    "scrolled": true
   },
   "outputs": [
    {
     "name": "stdout",
     "output_type": "stream",
     "text": [
      "<class 'scipy.sparse._csr.csr_matrix'>\n",
      "[[5.+1.j 0.+0.j 0.+0.j 1.+0.j]\n",
      " [0.+0.j 1.-1.j 1.+0.j 0.+0.j]\n",
      " [0.+0.j 1.+0.j 1.-1.j 0.+0.j]\n",
      " [1.+0.j 0.+0.j 0.+0.j 5.+1.j]]\n"
     ]
    }
   ],
   "source": [
    "op_sparse_matrix = op.to_sparse_matrix\n",
    "\n",
    "print(type(op_sparse_matrix))\n",
    "print(op_sparse_matrix.toarray())"
   ]
  },
  {
   "cell_type": "markdown",
   "id": "b3cce8ce",
   "metadata": {
    "pycharm": {
     "name": "#%% md\n"
    }
   },
   "source": [
    "We tabulate the operator into a pandas dataframe (`pandas.core.frame.DataFrame`)"
   ]
  },
  {
   "cell_type": "code",
   "execution_count": 19,
   "id": "b484f197",
   "metadata": {
    "pycharm": {
     "name": "#%%\n"
    }
   },
   "outputs": [
    {
     "data": {
      "text/html": [
       "<div>\n",
       "<style scoped>\n",
       "    .dataframe tbody tr th:only-of-type {\n",
       "        vertical-align: middle;\n",
       "    }\n",
       "\n",
       "    .dataframe tbody tr th {\n",
       "        vertical-align: top;\n",
       "    }\n",
       "\n",
       "    .dataframe thead th {\n",
       "        text-align: right;\n",
       "    }\n",
       "</style>\n",
       "<table border=\"1\" class=\"dataframe\">\n",
       "  <thead>\n",
       "    <tr style=\"text-align: right;\">\n",
       "      <th></th>\n",
       "      <th>Pauli terms</th>\n",
       "      <th>Coefficients (real)</th>\n",
       "      <th>Coefficients (imaginary)</th>\n",
       "    </tr>\n",
       "  </thead>\n",
       "  <tbody>\n",
       "    <tr>\n",
       "      <th>0</th>\n",
       "      <td>II</td>\n",
       "      <td>1.0</td>\n",
       "      <td>0.0</td>\n",
       "    </tr>\n",
       "    <tr>\n",
       "      <th>1</th>\n",
       "      <td>ZZ</td>\n",
       "      <td>2.0</td>\n",
       "      <td>1.0</td>\n",
       "    </tr>\n",
       "    <tr>\n",
       "      <th>2</th>\n",
       "      <td>XX</td>\n",
       "      <td>3.0</td>\n",
       "      <td>0.0</td>\n",
       "    </tr>\n",
       "  </tbody>\n",
       "</table>\n",
       "</div>"
      ],
      "text/plain": [
       "  Pauli terms  Coefficients (real)  Coefficients (imaginary)\n",
       "0          II                  1.0                       0.0\n",
       "1          ZZ                  2.0                       1.0\n",
       "2          XX                  3.0                       0.0"
      ]
     },
     "execution_count": 19,
     "metadata": {},
     "output_type": "execute_result"
    }
   ],
   "source": [
    "dataframe = op.to_dataframe\n",
    "dataframe"
   ]
  },
  {
   "cell_type": "markdown",
   "id": "f1669095",
   "metadata": {
    "pycharm": {
     "name": "#%% md\n"
    }
   },
   "source": [
    "We can also output the operator to different backends such as to openfermion:"
   ]
  },
  {
   "cell_type": "code",
   "execution_count": 20,
   "id": "57261e6f",
   "metadata": {
    "pycharm": {
     "name": "#%%\n"
    }
   },
   "outputs": [
    {
     "data": {
      "text/plain": [
       "(3+0j) [] +\n",
       "(1+0j) [X0 X1] +\n",
       "(2+1j) [Z0 Z1]"
      ]
     },
     "execution_count": 20,
     "metadata": {},
     "output_type": "execute_result"
    }
   ],
   "source": [
    "op.to_openfermion"
   ]
  },
  {
   "cell_type": "markdown",
   "id": "1c7438bf",
   "metadata": {
    "pycharm": {
     "name": "#%% md\n"
    }
   },
   "source": [
    "and qiskit:"
   ]
  },
  {
   "cell_type": "code",
   "execution_count": 21,
   "id": "cda97c5e",
   "metadata": {
    "pycharm": {
     "name": "#%%\n"
    }
   },
   "outputs": [
    {
     "data": {
      "text/plain": [
       "PauliSumOp(SparsePauliOp(['II', 'ZZ', 'XX'],\n",
       "              coeffs=[3.+0.j, 2.+1.j, 1.+0.j]), coeff=1.0)"
      ]
     },
     "execution_count": 21,
     "metadata": {},
     "output_type": "execute_result"
    }
   ],
   "source": [
    "op.to_qiskit"
   ]
  },
  {
   "cell_type": "markdown",
   "id": "5810ab1f-46d4-4044-8330-36e84ec8e369",
   "metadata": {
    "pycharm": {
     "name": "#%% md\n"
    }
   },
   "source": [
    "and to a simple dictionary:"
   ]
  },
  {
   "cell_type": "code",
   "execution_count": 22,
   "id": "e31fb0d5",
   "metadata": {
    "pycharm": {
     "name": "#%%\n"
    }
   },
   "outputs": [
    {
     "data": {
      "text/plain": [
       "{'II': (3+0j), 'ZZ': (2+1j), 'XX': (1+0j)}"
      ]
     },
     "execution_count": 22,
     "metadata": {},
     "output_type": "execute_result"
    }
   ],
   "source": [
    "op.to_dictionary"
   ]
  },
  {
   "cell_type": "code",
   "execution_count": null,
   "outputs": [],
   "source": [
    "# Other Methods"
   ],
   "metadata": {
    "collapsed": false,
    "pycharm": {
     "name": "#%%\n"
    }
   }
  },
  {
   "cell_type": "code",
   "execution_count": 23,
   "id": "1b35310f-f5d7-4142-96e8-4c855553ed3d",
   "metadata": {
    "pycharm": {
     "name": "#%%\n"
    }
   },
   "outputs": [],
   "source": [
    "op = PauliwordOp.from_dictionary({\n",
    " 'III': (0.44635739706240757+0j),\n",
    " 'IZI': (-1.3319405851037809+0j),\n",
    " 'IZZ': (1.0470696736027791+0j),\n",
    " 'ZIY': (-0.05713271668152262+0j),\n",
    " 'ZXI': (0.8028744054919319+0j),\n",
    " 'IXX': (0.24469102625407302+0j),\n",
    " 'YII': (-0.3680101467816112+0j),\n",
    " 'YIX': (1.2592176764100222+0j)})"
   ]
  },
  {
   "cell_type": "code",
   "execution_count": 24,
   "id": "701b3e3d-e3db-435d-bc98-57ee1762946e",
   "metadata": {
    "pycharm": {
     "name": "#%%\n"
    }
   },
   "outputs": [
    {
     "data": {
      "image/png": "[encoded data removed]",
      "text/plain": [
       "<Figure size 640x480 with 1 Axes>"
      ]
     },
     "metadata": {},
     "output_type": "display_data"
    }
   ],
   "source": [
    "import networkx as nx\n",
    "\n",
    "Graph = op.get_graph(edge_relation='C')\n",
    "\n",
    "nx.draw(Graph)"
   ]
  },
  {
   "cell_type": "code",
   "execution_count": 25,
   "id": "17a59823-223a-45a8-aa38-9fa7e66f7971",
   "metadata": {
    "pycharm": {
     "name": "#%%\n"
    }
   },
   "outputs": [
    {
     "name": "stdout",
     "output_type": "stream",
     "text": [
      "{0:  0.446+0.000j III +\n",
      "-0.057+0.000j ZIY +\n",
      " 0.803+0.000j ZXI, 1: -1.332+0.000j IZI +\n",
      " 1.047+0.000j IZZ +\n",
      "-0.368+0.000j YII, 2:  0.245+0.000j IXX +\n",
      " 1.259+0.000j YIX}\n"
     ]
    }
   ],
   "source": [
    "dict_of_cliques = op.clique_cover(edge_relation='C')\n",
    "print(dict_of_cliques)"
   ]
  },
  {
   "cell_type": "markdown",
   "id": "2cf9f812-78b8-456f-8c33-9fcdb8d0ecaf",
   "metadata": {
    "pycharm": {
     "name": "#%% md\n"
    }
   },
   "source": [
    "Try the above function, but change edge relation to one of: \n",
    "- `C` = Pauli operators in clique must commute\n",
    "- `AC` = Pauli operators in clique must anticommute\n",
    "- `QWC` = Pauli operators in clique must qubitwise commute"
   ]
  },
  {
   "cell_type": "code",
   "execution_count": null,
   "id": "390100b5-28d3-4e95-b5df-63d3574ac3e6",
   "metadata": {
    "pycharm": {
     "name": "#%%\n"
    }
   },
   "outputs": [],
   "source": []
  },
  {
   "cell_type": "markdown",
   "id": "7ec49379-4460-4dd4-b3d8-1007a416081b",
   "metadata": {
    "pycharm": {
     "name": "#%% md\n"
    }
   },
   "source": [
    "We can also get the generators for a Pauli operator. For example:"
   ]
  },
  {
   "cell_type": "code",
   "execution_count": 52,
   "id": "6507cc5b-8d7b-4aa0-8a22-f2d131fce1c2",
   "metadata": {
    "pycharm": {
     "name": "#%%\n"
    }
   },
   "outputs": [],
   "source": [
    "P = PauliwordOp.from_dictionary({\n",
    "'III': (1+0j),\n",
    " 'IIZ': (1+0j),\n",
    " 'IZI': (1+0j),\n",
    " 'IZZ': (1+0j),\n",
    " 'ZII': (1+0j),\n",
    " 'ZIZ': (1+0j),\n",
    " 'ZZI': (1+0j),\n",
    " 'ZZZ': (1+0j),\n",
    " 'IIX': (1+0j),\n",
    " 'IXI': (1+0j),\n",
    " 'IXX': (1+0j),\n",
    " 'XII': (1+0j),\n",
    " 'XIX': (1+0j),\n",
    " 'XXI': (1+0j),\n",
    " 'XXX': (1+0j)})\n"
   ]
  },
  {
   "cell_type": "markdown",
   "id": "620a6e96-96fd-4f93-8847-e0ec60f13631",
   "metadata": {
    "pycharm": {
     "name": "#%% md\n"
    }
   },
   "source": [
    "has the following generators:"
   ]
  },
  {
   "cell_type": "code",
   "execution_count": 53,
   "id": "e73f31f5-bff0-4dc0-ad50-85332c027b09",
   "metadata": {
    "pycharm": {
     "name": "#%%\n"
    }
   },
   "outputs": [
    {
     "data": {
      "text/plain": [
       " 1.000+0.000j IIZ +\n",
       " 1.000+0.000j IZI +\n",
       " 1.000+0.000j ZII +\n",
       " 1.000+0.000j IIX +\n",
       " 1.000+0.000j IXI +\n",
       " 1.000+0.000j XII"
      ]
     },
     "execution_count": 53,
     "metadata": {},
     "output_type": "execute_result"
    }
   ],
   "source": [
    "P.generators"
   ]
  },
  {
   "cell_type": "markdown",
   "id": "fd45582b-9f9b-41c0-b682-2337dea9eeb0",
   "metadata": {
    "pycharm": {
     "name": "#%% md\n"
    }
   },
   "source": [
    "# Attributes"
   ]
  },
  {
   "cell_type": "markdown",
   "id": "e41f355f-2bc0-40cd-957a-3a4b69149de3",
   "metadata": {
    "pycharm": {
     "name": "#%% md\n"
    }
   },
   "source": [
    "Note the number of significant figures a Pauli operator is reported too by default is **3**:"
   ]
  },
  {
   "cell_type": "code",
   "execution_count": 26,
   "id": "9aea1941-e1f3-4d90-92de-66c2c6b2ef84",
   "metadata": {
    "pycharm": {
     "name": "#%%\n"
    }
   },
   "outputs": [
    {
     "name": "stdout",
     "output_type": "stream",
     "text": [
      " 0.000+0.000j XX +\n",
      " 0.000+0.000j ZZ\n"
     ]
    }
   ],
   "source": [
    "P = PauliwordOp.from_dictionary(\n",
    "    {\n",
    "        'XX': 0.0001,\n",
    "        'ZZ': 0.0001j,\n",
    "    }\n",
    ")\n",
    "print(P)"
   ]
  },
  {
   "cell_type": "markdown",
   "id": "fde9ff6e-40d5-4218-a023-91b2abce6cc6",
   "metadata": {
    "pycharm": {
     "name": "#%% md\n"
    }
   },
   "source": [
    "in order to increase this we need in increase `sigfig` attribute:"
   ]
  },
  {
   "cell_type": "code",
   "execution_count": 27,
   "id": "7cf332a5-cf05-4098-9403-1d55c1a933a7",
   "metadata": {
    "pycharm": {
     "name": "#%%\n"
    }
   },
   "outputs": [
    {
     "name": "stdout",
     "output_type": "stream",
     "text": [
      " 0.00010+0.00000j XX +\n",
      " 0.00000+0.00010j ZZ\n"
     ]
    }
   ],
   "source": [
    "P.sigfig= 5\n",
    "print(P)"
   ]
  },
  {
   "cell_type": "markdown",
   "id": "87674de5-07f9-4c94-87c0-7a7d3999b82e",
   "metadata": {
    "pycharm": {
     "name": "#%% md\n"
    }
   },
   "source": [
    "We can also access the coefficients of each Pauli operator via the coeff_vec attribute"
   ]
  },
  {
   "cell_type": "code",
   "execution_count": 28,
   "id": "2fe1b460-74f5-428a-a41a-f49b4f85153d",
   "metadata": {
    "pycharm": {
     "name": "#%%\n"
    }
   },
   "outputs": [
    {
     "name": "stdout",
     "output_type": "stream",
     "text": [
      "[0.0001+0.j     0.    +0.0001j]\n"
     ]
    }
   ],
   "source": [
    "print(P.coeff_vec)"
   ]
  },
  {
   "cell_type": "markdown",
   "id": "7eb88e73-db59-40e0-9472-b4c455e187b0",
   "metadata": {
    "pycharm": {
     "name": "#%% md\n"
    }
   },
   "source": [
    "That returns a numpy array"
   ]
  },
  {
   "cell_type": "code",
   "execution_count": null,
   "outputs": [],
   "source": [
    "# pip install sphinx_design\n",
    "# pip install sphinx-copybutton\n",
    "# https://myst-nb.readthedocs.io/en/latest/quickstart.html"
   ],
   "metadata": {
    "collapsed": false,
    "pycharm": {
     "name": "#%%\n"
    }
   }
  },
  {
   "cell_type": "code",
   "execution_count": null,
   "outputs": [],
   "source": [],
   "metadata": {
    "collapsed": false,
    "pycharm": {
     "name": "#%%\n"
    }
   }
  },
  {
   "cell_type": "code",
   "execution_count": null,
   "id": "bf97cf9e-8fcf-41c8-9028-812d7c44488d",
   "metadata": {
    "pycharm": {
     "name": "#%%\n"
    }
   },
   "outputs": [],
   "source": []
  }
 ],
 "metadata": {
  "kernelspec": {
   "display_name": "Python 3 (ipykernel)",
   "language": "python",
   "name": "python3"
  },
  "language_info": {
   "codemirror_mode": {
    "name": "ipython",
    "version": 3
   },
   "file_extension": ".py",
   "mimetype": "text/x-python",
   "name": "python",
   "nbconvert_exporter": "python",
   "pygments_lexer": "ipython3",
   "version": "3.9.17"
  }
 },
 "nbformat": 4,
 "nbformat_minor": 5
}