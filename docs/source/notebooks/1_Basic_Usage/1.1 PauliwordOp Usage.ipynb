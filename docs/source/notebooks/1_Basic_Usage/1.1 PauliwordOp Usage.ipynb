{
 "cells": [
  {
   "cell_type": "markdown",
   "id": "f3768eba",
   "metadata": {
    "pycharm": {
     "name": "#%% md\n"
    }
   },
   "source": [
    "# Getting Started with PauliwordOp"
   ]
  },
  {
   "cell_type": "markdown",
   "id": "09fc3eff-9766-4869-b97e-297f491ed7ca",
   "metadata": {
    "pycharm": {
     "name": "#%% md\n"
    }
   },
   "source": [
    "The Pauli spin matrices $\\{X, Y, Z \\}$ are defined as:\n",
    "\n",
    "$$X = \\begin{bmatrix}\n",
    "0 & 1\\\\ \n",
    "1 & 0\n",
    "\\end{bmatrix}$$\n",
    "\n",
    "$$Y = \\begin{bmatrix}\n",
    "0 & -1i\\\\ \n",
    "1i & 0\n",
    "\\end{bmatrix}$$\n",
    "\n",
    "$$Z = \\begin{bmatrix}\n",
    "1 & 0\\\\ \n",
    "0 & -1\n",
    "\\end{bmatrix}$$\n",
    "\n",
    "A Pauli operator $P_{i}$ is defined as an $n$-fold tensor products of such single qubit Pauli matrices. We can write this as:\n",
    "\n",
    "$$P_{i} = \\bigotimes_{k=0}^{n-1} \\sigma_{i} = \\sigma_{0} \\otimes \\sigma_{1}  \\otimes ... \\otimes \\sigma_{n-1}$$\n",
    "\n"
   ]
  },
  {
   "cell_type": "markdown",
   "id": "df1b548e-3fac-4e62-8f50-c74d6ced86c6",
   "metadata": {
    "pycharm": {
     "name": "#%% md\n"
    }
   },
   "source": [
    "The `PauliwordOp` class is used to describe arbitrary linear combination of Pauli operators and provide useful manipulation functions."
   ]
  },
  {
   "cell_type": "markdown",
   "id": "6aa1b796-f746-417d-8ba3-cbb306aec601",
   "metadata": {
    "pycharm": {
     "name": "#%% md\n"
    }
   },
   "source": [
    "## Initialization"
   ]
  },
  {
   "cell_type": "markdown",
   "id": "e15871ad-3dc0-44d8-93a4-de766fd1fbae",
   "metadata": {
    "pycharm": {
     "name": "#%% md\n"
    }
   },
   "source": [
    "First we need to import `PauliwordOp`"
   ]
  },
  {
   "cell_type": "code",
   "execution_count": 1,
   "id": "b8b96530-dc5a-42af-8324-c99af619daa1",
   "metadata": {
    "pycharm": {
     "name": "#%%\n"
    }
   },
   "outputs": [],
   "source": [
    "from symmer import PauliwordOp"
   ]
  },
  {
   "cell_type": "markdown",
   "id": "342e9dce-b578-4963-97c4-fd915fc1795c",
   "metadata": {
    "pycharm": {
     "name": "#%% md\n"
    }
   },
   "source": [
    "We can then initialize a Pauli operator via the following methods:\n",
    "1. `from_list`\n",
    "2. `from_dictionary`\n",
    "3. `from_matrix`\n",
    "4. `random`\n",
    "5. `haar_random`\n",
    "6. `from_qiskit`\n",
    "7. `from_openfermion`\n",
    "8. `empty`"
   ]
  },
  {
   "cell_type": "code",
   "execution_count": 2,
   "id": "88499054",
   "metadata": {
    "pycharm": {
     "name": "#%%\n"
    }
   },
   "outputs": [
    {
     "data": {
      "text/plain": [
       " 1.000+0.000j ZI +\n",
       " 2.000+0.000j ZZ +\n",
       " 3.000+0.000j ZX +\n",
       " 4.000+0.000j YZ +\n",
       " 5.000+0.000j XX +\n",
       " 6.000+0.000j XY"
      ]
     },
     "execution_count": 2,
     "metadata": {},
     "output_type": "execute_result"
    }
   ],
   "source": [
    "term_list = ['ZI', 'ZZ', 'ZX', 'YZ', 'XX', 'XY']\n",
    "coeffs = [1,2,3,4,5,6]\n",
    "\n",
    "PauliwordOp.from_list(term_list,\n",
    "                      coeffs)"
   ]
  },
  {
   "cell_type": "code",
   "execution_count": 3,
   "id": "eff541ba",
   "metadata": {
    "pycharm": {
     "name": "#%%\n"
    }
   },
   "outputs": [
    {
     "data": {
      "text/plain": [
       " 1.000+0.000j ZI +\n",
       " 2.000+0.000j ZZ +\n",
       " 3.000+0.000j ZX +\n",
       " 4.000+0.000j YZ +\n",
       " 5.000+0.000j XX +\n",
       " 6.000+0.000j XY"
      ]
     },
     "execution_count": 3,
     "metadata": {},
     "output_type": "execute_result"
    }
   ],
   "source": [
    "term_dict = {'ZI': (1+0j),\n",
    " 'ZZ': (2+0j),\n",
    " 'ZX': (3+0j),\n",
    " 'YZ': (4+0j),\n",
    " 'XX': (5+0j),\n",
    " 'XY': (6+0j)}\n",
    "             \n",
    "PauliwordOp.from_dictionary(term_dict)"
   ]
  },
  {
   "cell_type": "markdown",
   "id": "a757330e",
   "metadata": {
    "collapsed": false,
    "jupyter": {
     "outputs_hidden": false
    },
    "pycharm": {
     "name": "#%% md\n"
    }
   },
   "source": [
    "The `from_matrix` has two methods:\n",
    "- projector: builds operator by matrix elements\n",
    "- full_basis: builds operator by searching over basis of Pauli operators (size $4^{n}$)"
   ]
  },
  {
   "cell_type": "code",
   "execution_count": 4,
   "id": "6e491a1a",
   "metadata": {
    "collapsed": false,
    "jupyter": {
     "outputs_hidden": false
    },
    "pycharm": {
     "name": "#%%\n"
    }
   },
   "outputs": [
    {
     "data": {
      "text/plain": [
       " 1.000+0.000j ZI +\n",
       " 2.000+0.000j ZZ +\n",
       " 3.000+0.000j ZX +\n",
       " 4.000+0.000j YZ +\n",
       " 5.000+0.000j XX +\n",
       " 6.000+0.000j XY"
      ]
     },
     "execution_count": 4,
     "metadata": {},
     "output_type": "execute_result"
    }
   ],
   "source": [
    "import numpy as np\n",
    "\n",
    "mat = np.array([[ 3.+0.j,  3.+0.j,  0.-4.j,  5.-6.j],\n",
    "                   [ 3.+0.j, -1.+0.j,  5.+6.j,  0.+4.j],\n",
    "                   [ 0.+4.j,  5.-6.j, -3.+0.j, -3.+0.j],\n",
    "                   [ 5.+6.j,  0.-4.j, -3.+0.j,  1.+0.j]])\n",
    "\n",
    "PauliwordOp.from_matrix(mat, \n",
    "                        strategy='projector',\n",
    "                        disable_loading_bar=True)"
   ]
  },
  {
   "cell_type": "code",
   "execution_count": 5,
   "id": "ac1218be",
   "metadata": {
    "collapsed": false,
    "jupyter": {
     "outputs_hidden": false
    },
    "pycharm": {
     "name": "#%%\n"
    }
   },
   "outputs": [
    {
     "data": {
      "application/vnd.jupyter.widget-view+json": {
       "model_id": "4f4c3995bc8848f59c68b1e029a0168f",
       "version_major": 2,
       "version_minor": 0
      },
      "text/plain": [
       "Building operator via full basis:   0%|          | 0/16 [00:00<?, ?it/s]"
      ]
     },
     "metadata": {},
     "output_type": "display_data"
    },
    {
     "data": {
      "text/plain": [
       " 1.000+0.000j ZI +\n",
       " 2.000+0.000j ZZ +\n",
       " 3.000+0.000j ZX +\n",
       " 4.000-0.000j YZ +\n",
       " 5.000+0.000j XX +\n",
       " 6.000-0.000j XY"
      ]
     },
     "execution_count": 5,
     "metadata": {},
     "output_type": "execute_result"
    }
   ],
   "source": [
    "from tqdm.notebook import tqdm\n",
    "\n",
    "PauliwordOp.from_matrix(mat, \n",
    "                        strategy='full_basis',\n",
    "                        disable_loading_bar=False)"
   ]
  },
  {
   "cell_type": "markdown",
   "id": "08346666",
   "metadata": {
    "collapsed": false,
    "jupyter": {
     "outputs_hidden": false
    },
    "pycharm": {
     "name": "#%% md\n"
    }
   },
   "source": [
    "The `random` initalization method allows a user to define the number of qubits, terms and whether it is a diagonal operator and has complex coefficents:"
   ]
  },
  {
   "cell_type": "code",
   "execution_count": 6,
   "id": "53048c39",
   "metadata": {
    "collapsed": false,
    "jupyter": {
     "outputs_hidden": false
    },
    "pycharm": {
     "name": "#%%\n"
    }
   },
   "outputs": [
    {
     "data": {
      "text/plain": [
       "-0.820+0.000j IIX +\n",
       " 1.366+0.000j ZZI +\n",
       "-0.235+0.000j YII +\n",
       " 0.592+0.000j IZX +\n",
       " 0.716+0.000j XIX +\n",
       " 1.592+0.000j IXZ +\n",
       "-0.621+0.000j ZZZ +\n",
       " 0.397+0.000j III"
      ]
     },
     "execution_count": 6,
     "metadata": {},
     "output_type": "execute_result"
    }
   ],
   "source": [
    "n_qubits= 3\n",
    "n_terms = 8\n",
    "random = PauliwordOp.random(n_qubits, \n",
    "                             n_terms,\n",
    "                               diagonal=False,\n",
    "                               complex_coeffs=False)\n",
    "\n",
    "random"
   ]
  },
  {
   "cell_type": "markdown",
   "id": "5630cb98",
   "metadata": {
    "collapsed": false,
    "jupyter": {
     "outputs_hidden": false
    },
    "pycharm": {
     "name": "#%% md\n"
    }
   },
   "source": [
    "```{note}\n",
    "random method can generate repeated Pauli operators!\n",
    "```"
   ]
  },
  {
   "cell_type": "markdown",
   "id": "83e2a992",
   "metadata": {
    "collapsed": false,
    "jupyter": {
     "outputs_hidden": false
    },
    "pycharm": {
     "name": "#%% md\n"
    }
   },
   "source": [
    "The `haar_random` initalization method builds a PauliwordOp of a untiary taken from the Haar distribution (i.e. a random unitary). Note this first generate a Haar random unitary and then uses the `from_matrix` method."
   ]
  },
  {
   "cell_type": "code",
   "execution_count": 7,
   "id": "fd7ae40f",
   "metadata": {
    "collapsed": false,
    "jupyter": {
     "outputs_hidden": false
    },
    "pycharm": {
     "name": "#%%\n"
    }
   },
   "outputs": [
    {
     "data": {
      "text/plain": [
       "-0.373+0.044j II +\n",
       " 0.080-0.072j IZ +\n",
       "-0.035-0.157j ZI +\n",
       "-0.255-0.073j ZZ +\n",
       "-0.177+0.269j IX +\n",
       "-0.089-0.031j IY +\n",
       "-0.200-0.091j ZX +\n",
       " 0.032-0.025j ZY +\n",
       " 0.127-0.077j XI +\n",
       " 0.012-0.034j XZ +\n",
       "-0.396+0.089j YI +\n",
       " 0.010+0.140j YZ +\n",
       "-0.106+0.169j XX +\n",
       " 0.092+0.274j XY +\n",
       " 0.074-0.484j YX +\n",
       " 0.035-0.128j YY"
      ]
     },
     "execution_count": 7,
     "metadata": {},
     "output_type": "execute_result"
    }
   ],
   "source": [
    "import networkx as nx\n",
    "\n",
    "n_qubits= 2\n",
    "haar_random = PauliwordOp.haar_random(n_qubits, \n",
    "                                disable_loading_bar=True)\n",
    "\n",
    "haar_random"
   ]
  },
  {
   "cell_type": "code",
   "execution_count": 8,
   "id": "96d3b3ae",
   "metadata": {
    "collapsed": false,
    "jupyter": {
     "outputs_hidden": false
    },
    "pycharm": {
     "name": "#%%\n"
    }
   },
   "outputs": [
    {
     "name": "stdout",
     "output_type": "stream",
     "text": [
      "IBM op:\n",
      "1.0 * XX\n",
      "+ 2.0 * YY \n",
      "\n",
      "symmer op:\n",
      " 1.000+0.000j XX +\n",
      " 2.000+0.000j YY\n"
     ]
    }
   ],
   "source": [
    "from qiskit.opflow import PauliSumOp \n",
    "\n",
    "ibm_op = PauliSumOp.from_list([('XX', 1), ('YY', 2)])\n",
    "\n",
    "P = PauliwordOp.from_qiskit(ibm_op)\n",
    "\n",
    "print(f'IBM op:')\n",
    "print(ibm_op, '\\n')\n",
    "\n",
    "print(f'symmer op:')\n",
    "print(P)"
   ]
  },
  {
   "cell_type": "code",
   "execution_count": 9,
   "id": "11c26586",
   "metadata": {
    "collapsed": false,
    "jupyter": {
     "outputs_hidden": false
    },
    "pycharm": {
     "name": "#%%\n"
    }
   },
   "outputs": [
    {
     "name": "stdout",
     "output_type": "stream",
     "text": [
      "openfermion op:\n",
      "1 [X0 X1] +\n",
      "2.0 [Y0 Y1] \n",
      "\n",
      "symmer op:\n",
      " 1.000+0.000j XX +\n",
      " 2.000+0.000j YY\n"
     ]
    }
   ],
   "source": [
    "from openfermion import QubitOperator\n",
    "\n",
    "of_op = QubitOperator('X0 X1', 1) + QubitOperator('Y0 Y1', 2)\n",
    "\n",
    "P = PauliwordOp.from_openfermion(of_op)\n",
    "\n",
    "print(f'openfermion op:')\n",
    "print(of_op, '\\n')\n",
    "\n",
    "print(f'symmer op:')\n",
    "print(P)"
   ]
  },
  {
   "cell_type": "code",
   "execution_count": null,
   "id": "78d94167",
   "metadata": {
    "collapsed": false,
    "jupyter": {
     "outputs_hidden": false
    },
    "pycharm": {
     "name": "#%%\n"
    }
   },
   "outputs": [],
   "source": []
  },
  {
   "cell_type": "markdown",
   "id": "0c262d6a",
   "metadata": {
    "collapsed": false,
    "jupyter": {
     "outputs_hidden": false
    },
    "pycharm": {
     "name": "#%% md\n"
    }
   },
   "source": [
    "An empty Pauliword can be initizalized as follows:"
   ]
  },
  {
   "cell_type": "code",
   "execution_count": 10,
   "id": "ed9a26a8",
   "metadata": {
    "collapsed": false,
    "jupyter": {
     "outputs_hidden": false
    },
    "pycharm": {
     "name": "#%%\n"
    }
   },
   "outputs": [
    {
     "data": {
      "text/plain": [
       " 0.000+0.000j II"
      ]
     },
     "execution_count": 10,
     "metadata": {},
     "output_type": "execute_result"
    }
   ],
   "source": [
    "n_qubits = 2\n",
    "empty = PauliwordOp.empty(n_qubits)\n",
    "empty"
   ]
  },
  {
   "cell_type": "markdown",
   "id": "826a32a1",
   "metadata": {
    "collapsed": false,
    "jupyter": {
     "outputs_hidden": false
    },
    "pycharm": {
     "name": "#%% md\n"
    }
   },
   "source": [
    "This can be useful if we want to add terms to a given variable (without having to define it during)."
   ]
  },
  {
   "cell_type": "markdown",
   "id": "ba0bc491",
   "metadata": {
    "collapsed": false,
    "jupyter": {
     "outputs_hidden": false
    },
    "pycharm": {
     "name": "#%% md\n"
    }
   },
   "source": [
    "## Basic mathematical operations"
   ]
  },
  {
   "cell_type": "markdown",
   "id": "dd9bf766",
   "metadata": {
    "collapsed": false,
    "jupyter": {
     "outputs_hidden": false
    },
    "pycharm": {
     "name": "#%% md\n"
    }
   },
   "source": [
    "### Addition"
   ]
  },
  {
   "cell_type": "markdown",
   "id": "9e6ed910",
   "metadata": {
    "collapsed": false,
    "jupyter": {
     "outputs_hidden": false
    },
    "pycharm": {
     "name": "#%% md\n"
    }
   },
   "source": [
    "Addition is performed between `PauliwordOp` using the standard `+` operator:"
   ]
  },
  {
   "cell_type": "code",
   "execution_count": 11,
   "id": "1e7a063d",
   "metadata": {
    "collapsed": false,
    "jupyter": {
     "outputs_hidden": false
    },
    "pycharm": {
     "name": "#%%\n"
    }
   },
   "outputs": [
    {
     "data": {
      "text/plain": [
       " 1.000+0.000j ZI +\n",
       " 2.000+0.000j ZZ +\n",
       " 1.000+0.000j XX +\n",
       " 2.000+0.000j YY"
      ]
     },
     "execution_count": 11,
     "metadata": {},
     "output_type": "execute_result"
    }
   ],
   "source": [
    "P1 = PauliwordOp.from_dictionary({\n",
    "                                 'ZI': (1+0j),\n",
    "                                 'ZZ': (2+0j)}\n",
    "                                )\n",
    "\n",
    "P2 = PauliwordOp.from_dictionary({\n",
    "                                 'XX': (1+0j),\n",
    "                                 'YY': (2+0j)}\n",
    "                                )\n",
    "\n",
    "P_add = P1 + P2\n",
    "P_add"
   ]
  },
  {
   "cell_type": "markdown",
   "id": "ac106db5",
   "metadata": {
    "collapsed": false,
    "jupyter": {
     "outputs_hidden": false
    },
    "pycharm": {
     "name": "#%% md\n"
    }
   },
   "source": [
    "And a new `PauliwordOp` is returned"
   ]
  },
  {
   "cell_type": "markdown",
   "id": "d62a8ef2",
   "metadata": {
    "collapsed": false,
    "jupyter": {
     "outputs_hidden": false
    },
    "pycharm": {
     "name": "#%% md\n"
    }
   },
   "source": [
    "```{note}\n",
    "You can only add PauliwordOp operators with the SAME number of qubits.\n",
    "```"
   ]
  },
  {
   "cell_type": "markdown",
   "id": "ac0a02c2",
   "metadata": {
    "collapsed": false,
    "jupyter": {
     "outputs_hidden": false
    },
    "pycharm": {
     "name": "#%% md\n"
    }
   },
   "source": [
    "### Multiplication"
   ]
  },
  {
   "cell_type": "markdown",
   "id": "01b7dce2",
   "metadata": {
    "collapsed": false,
    "jupyter": {
     "outputs_hidden": false
    },
    "pycharm": {
     "name": "#%% md\n"
    }
   },
   "source": [
    "Multiplication is performed between `PauliwordOp` using the standard `*` operator:"
   ]
  },
  {
   "cell_type": "code",
   "execution_count": 12,
   "id": "6e7e6936",
   "metadata": {
    "collapsed": false,
    "jupyter": {
     "outputs_hidden": false
    },
    "pycharm": {
     "name": "#%%\n"
    }
   },
   "outputs": [
    {
     "data": {
      "text/plain": [
       "-4.000+0.000j XX +\n",
       " 0.000-2.000j XY +\n",
       " 0.000+1.000j YX +\n",
       "-2.000+0.000j YY"
      ]
     },
     "execution_count": 12,
     "metadata": {},
     "output_type": "execute_result"
    }
   ],
   "source": [
    "P_mult = P1 * P2\n",
    "P_mult"
   ]
  },
  {
   "cell_type": "markdown",
   "id": "f679851f",
   "metadata": {
    "collapsed": false,
    "jupyter": {
     "outputs_hidden": false
    },
    "pycharm": {
     "name": "#%% md\n"
    }
   },
   "source": [
    "And a new `PauliwordOp` is returned"
   ]
  },
  {
   "cell_type": "markdown",
   "id": "16d0b96c",
   "metadata": {
    "collapsed": false,
    "jupyter": {
     "outputs_hidden": false
    },
    "pycharm": {
     "name": "#%% md\n"
    }
   },
   "source": [
    "```{note}\n",
    "As with addition, you can only multiply PauliwordOp operators with the SAME number of qubits.\n",
    "```"
   ]
  },
  {
   "cell_type": "markdown",
   "id": "97a99655",
   "metadata": {
    "collapsed": false,
    "jupyter": {
     "outputs_hidden": false
    },
    "pycharm": {
     "name": "#%% md\n"
    }
   },
   "source": [
    "To multiply a PauliwordOp by a constant we recommend using:"
   ]
  },
  {
   "cell_type": "code",
   "execution_count": 13,
   "id": "1d7b96d6",
   "metadata": {
    "collapsed": false,
    "jupyter": {
     "outputs_hidden": false
    },
    "pycharm": {
     "name": "#%%\n"
    }
   },
   "outputs": [
    {
     "data": {
      "text/plain": [
       " 1.000+0.000j ZI +\n",
       " 2.000+0.000j ZZ"
      ]
     },
     "execution_count": 13,
     "metadata": {},
     "output_type": "execute_result"
    }
   ],
   "source": [
    "P1.multiply_by_constant(4)\n",
    "P1"
   ]
  },
  {
   "cell_type": "markdown",
   "id": "18713884",
   "metadata": {
    "collapsed": false,
    "jupyter": {
     "outputs_hidden": false
    },
    "pycharm": {
     "name": "#%% md\n"
    }
   },
   "source": [
    "### Commutativity"
   ]
  },
  {
   "cell_type": "markdown",
   "id": "9e249769",
   "metadata": {
    "collapsed": false,
    "jupyter": {
     "outputs_hidden": false
    },
    "pycharm": {
     "name": "#%% md\n"
    }
   },
   "source": [
    "We can find the commutation properties between Pauli operators within a `PauliwordOp` by:"
   ]
  },
  {
   "cell_type": "code",
   "execution_count": 14,
   "id": "3cda049b",
   "metadata": {
    "collapsed": false,
    "jupyter": {
     "outputs_hidden": false
    },
    "pycharm": {
     "name": "#%%\n"
    }
   },
   "outputs": [
    {
     "name": "stdout",
     "output_type": "stream",
     "text": [
      "[[ True  True False]\n",
      " [ True  True  True]\n",
      " [False  True  True]]\n"
     ]
    }
   ],
   "source": [
    "P = PauliwordOp.from_list(['XX', 'YY', 'ZX'])\n",
    "print(P.adjacency_matrix)"
   ]
  },
  {
   "cell_type": "markdown",
   "id": "de6dfc21",
   "metadata": {
    "collapsed": false,
    "jupyter": {
     "outputs_hidden": false
    },
    "pycharm": {
     "name": "#%% md\n"
    }
   },
   "source": [
    "This is more commonly known as the adjacency_matrix."
   ]
  },
  {
   "cell_type": "markdown",
   "id": "c5181a6d",
   "metadata": {
    "collapsed": false,
    "jupyter": {
     "outputs_hidden": false
    },
    "pycharm": {
     "name": "#%% md\n"
    }
   },
   "source": [
    "We can also find the commutatation properties between terms of two different 'PauliwordOp' operators via"
   ]
  },
  {
   "cell_type": "code",
   "execution_count": 15,
   "id": "fb71d0cf",
   "metadata": {
    "collapsed": false,
    "jupyter": {
     "outputs_hidden": false
    },
    "pycharm": {
     "name": "#%%\n"
    }
   },
   "outputs": [
    {
     "name": "stdout",
     "output_type": "stream",
     "text": [
      "[[ True  True False]\n",
      " [False False  True]]\n"
     ]
    }
   ],
   "source": [
    "# termwise commutativy\n",
    "P1 = PauliwordOp.from_list(['ZZ', 'ZI'])\n",
    "P2 = PauliwordOp.from_list(['XX', 'YY', 'ZX'])\n",
    "print(P1.commutes_termwise(P2))"
   ]
  },
  {
   "cell_type": "markdown",
   "id": "babcb030",
   "metadata": {
    "collapsed": false,
    "jupyter": {
     "outputs_hidden": false
    },
    "pycharm": {
     "name": "#%% md\n"
    }
   },
   "source": [
    "We see that:\n",
    "- `ZZ` commutes with all terms in `P2` apart from `ZX`\n",
    "- `ZI` anticommutes with all terms in `P2` apart from `ZX` which it commutes with"
   ]
  },
  {
   "cell_type": "markdown",
   "id": "176c4b7a",
   "metadata": {
    "collapsed": false,
    "jupyter": {
     "outputs_hidden": false
    },
    "pycharm": {
     "name": "#%% md\n"
    }
   },
   "source": [
    "Finally, we can also find commutativity relations between operators. Operators $A$ and $B$ commute if:\n",
    "\n",
    "$$[A,B] = AB - BA  = 0$$"
   ]
  },
  {
   "cell_type": "code",
   "execution_count": 16,
   "id": "93f40034",
   "metadata": {
    "collapsed": false,
    "jupyter": {
     "outputs_hidden": false
    },
    "pycharm": {
     "name": "#%%\n"
    }
   },
   "outputs": [
    {
     "data": {
      "text/plain": [
       "True"
      ]
     },
     "execution_count": 16,
     "metadata": {},
     "output_type": "execute_result"
    }
   ],
   "source": [
    "# termwise commutativy\n",
    "A = PauliwordOp.from_list(['ZZ'])\n",
    "B = PauliwordOp.from_list(['XX', 'YY'])\n",
    "\n",
    "A.commutes(B)"
   ]
  },
  {
   "cell_type": "code",
   "execution_count": 17,
   "id": "62fb5e44",
   "metadata": {
    "collapsed": false,
    "jupyter": {
     "outputs_hidden": false
    },
    "pycharm": {
     "name": "#%%\n"
    }
   },
   "outputs": [
    {
     "data": {
      "text/plain": [
       "False"
      ]
     },
     "execution_count": 17,
     "metadata": {},
     "output_type": "execute_result"
    }
   ],
   "source": [
    "A = PauliwordOp.from_list(['ZZ'])\n",
    "B = PauliwordOp.from_list(['XI'])\n",
    "\n",
    "A.commutes(B)"
   ]
  },
  {
   "cell_type": "markdown",
   "id": "6e937244-8944-49bc-a591-44a143902ff8",
   "metadata": {
    "collapsed": false,
    "jupyter": {
     "outputs_hidden": false
    },
    "pycharm": {
     "name": "#%%\n"
    }
   },
   "source": [
    "```{note}\n",
    "Note the difference between: commutes and commutes_termwise\n",
    "```"
   ]
  },
  {
   "cell_type": "markdown",
   "id": "9541383f",
   "metadata": {
    "collapsed": false,
    "jupyter": {
     "outputs_hidden": false
    },
    "pycharm": {
     "name": "#%% md\n"
    }
   },
   "source": [
    "### Tensoring PauliwordOps\n",
    "\n",
    "We can tensor PauliwordOps as follows:"
   ]
  },
  {
   "cell_type": "code",
   "execution_count": 18,
   "id": "ea7a9f6b",
   "metadata": {
    "collapsed": false,
    "jupyter": {
     "outputs_hidden": false
    },
    "pycharm": {
     "name": "#%%\n"
    }
   },
   "outputs": [
    {
     "name": "stdout",
     "output_type": "stream",
     "text": [
      " 2.000+2.000j XZ\n"
     ]
    }
   ],
   "source": [
    "P1 = PauliwordOp.from_list(['X'], [1 + 1j])\n",
    "P2 = PauliwordOp.from_list(['Z'], [2])\n",
    "\n",
    "print(P1.tensor(P2))"
   ]
  },
  {
   "cell_type": "markdown",
   "id": "8123d0cf",
   "metadata": {
    "collapsed": false,
    "jupyter": {
     "outputs_hidden": false
    },
    "pycharm": {
     "name": "#%% md\n"
    }
   },
   "source": [
    "... which includes linear combinations defined over different numbers of qubits:"
   ]
  },
  {
   "cell_type": "code",
   "execution_count": 19,
   "id": "31d68929",
   "metadata": {
    "collapsed": false,
    "jupyter": {
     "outputs_hidden": false
    },
    "pycharm": {
     "name": "#%%\n"
    }
   },
   "outputs": [
    {
     "name": "stdout",
     "output_type": "stream",
     "text": [
      "-1.000+21.000j ZXYZZ +\n",
      "-37.000+29.000j ZXYXY +\n",
      " 4.000+7.000j XIYZZ +\n",
      "-6.000+17.000j XIYXY\n"
     ]
    }
   ],
   "source": [
    "P1 = PauliwordOp.from_list(['XIY', 'ZXY'], [2+1j, 3+5j])\n",
    "P2 = PauliwordOp.from_list(['ZZ', 'XY'], [3+2j, 1+8j])\n",
    "\n",
    "print(P1.tensor(P2))"
   ]
  },
  {
   "cell_type": "markdown",
   "id": "77e6742b",
   "metadata": {
    "collapsed": false,
    "jupyter": {
     "outputs_hidden": false
    },
    "pycharm": {
     "name": "#%% md\n"
    }
   },
   "source": [
    "## Exporting to different representations"
   ]
  },
  {
   "cell_type": "markdown",
   "id": "048011c1",
   "metadata": {
    "collapsed": false,
    "jupyter": {
     "outputs_hidden": false
    },
    "pycharm": {
     "name": "#%% md\n"
    }
   },
   "source": [
    "Given the following Pauli operator `op`:"
   ]
  },
  {
   "cell_type": "code",
   "execution_count": 20,
   "id": "628f3886",
   "metadata": {
    "collapsed": false,
    "jupyter": {
     "outputs_hidden": false
    },
    "pycharm": {
     "name": "#%%\n"
    }
   },
   "outputs": [
    {
     "name": "stdout",
     "output_type": "stream",
     "text": [
      " 1.000+0.000j XX +\n",
      " 2.000+1.000j ZZ +\n",
      " 3.000+0.000j II\n"
     ]
    }
   ],
   "source": [
    "op = PauliwordOp.from_dictionary(\n",
    "    {\n",
    "        'XX':1,\n",
    "        'ZZ':2 + 1j,\n",
    "        'II':3\n",
    "    }\n",
    ")\n",
    "print(op)"
   ]
  },
  {
   "cell_type": "markdown",
   "id": "625b1fcf",
   "metadata": {
    "collapsed": false,
    "jupyter": {
     "outputs_hidden": false
    },
    "pycharm": {
     "name": "#%% md\n"
    }
   },
   "source": [
    "We can convert it into a scipy `csr` matrix via the `to_sparse_matrix` method:"
   ]
  },
  {
   "cell_type": "code",
   "execution_count": 21,
   "id": "b31c365b",
   "metadata": {
    "collapsed": false,
    "jupyter": {
     "outputs_hidden": false
    },
    "pycharm": {
     "name": "#%%\n"
    }
   },
   "outputs": [
    {
     "name": "stdout",
     "output_type": "stream",
     "text": [
      "<class 'scipy.sparse._csr.csr_matrix'>\n",
      "  (0, 0)\t(5+1j)\n",
      "  (0, 3)\t(1+0j)\n",
      "  (1, 1)\t(1-1j)\n",
      "  (1, 2)\t(1+0j)\n",
      "  (2, 1)\t(1+0j)\n",
      "  (2, 2)\t(1-1j)\n",
      "  (3, 0)\t(1+0j)\n",
      "  (3, 3)\t(5+1j)\n"
     ]
    }
   ],
   "source": [
    "op_sparse_matrix = op.to_sparse_matrix\n",
    "\n",
    "print(type(op_sparse_matrix))\n",
    "print(op_sparse_matrix)"
   ]
  },
  {
   "cell_type": "markdown",
   "id": "f25ff0a2",
   "metadata": {
    "collapsed": false,
    "jupyter": {
     "outputs_hidden": false
    },
    "pycharm": {
     "name": "#%% md\n"
    }
   },
   "source": [
    "We can use the `toarray` of `scipy.sparse._csr.csr_matrix` to make this a dense matrix"
   ]
  },
  {
   "cell_type": "code",
   "execution_count": 22,
   "id": "86b0ed7a",
   "metadata": {
    "collapsed": false,
    "jupyter": {
     "outputs_hidden": false
    },
    "pycharm": {
     "name": "#%%\n"
    }
   },
   "outputs": [
    {
     "name": "stdout",
     "output_type": "stream",
     "text": [
      "[[5.+1.j 0.+0.j 0.+0.j 1.+0.j]\n",
      " [0.+0.j 1.-1.j 1.+0.j 0.+0.j]\n",
      " [0.+0.j 1.+0.j 1.-1.j 0.+0.j]\n",
      " [1.+0.j 0.+0.j 0.+0.j 5.+1.j]]\n"
     ]
    }
   ],
   "source": [
    "print(op_sparse_matrix.toarray())"
   ]
  },
  {
   "cell_type": "markdown",
   "id": "1c2a88b2",
   "metadata": {
    "collapsed": false,
    "jupyter": {
     "outputs_hidden": false
    },
    "pycharm": {
     "name": "#%% md\n"
    }
   },
   "source": [
    "We tabulate the operator into a pandas dataframe (`pandas.core.frame.DataFrame`)"
   ]
  },
  {
   "cell_type": "code",
   "execution_count": 23,
   "id": "6bd2f698",
   "metadata": {
    "collapsed": false,
    "jupyter": {
     "outputs_hidden": false
    },
    "pycharm": {
     "name": "#%%\n"
    }
   },
   "outputs": [
    {
     "data": {
      "text/html": [
       "<div>\n",
       "<style scoped>\n",
       "    .dataframe tbody tr th:only-of-type {\n",
       "        vertical-align: middle;\n",
       "    }\n",
       "\n",
       "    .dataframe tbody tr th {\n",
       "        vertical-align: top;\n",
       "    }\n",
       "\n",
       "    .dataframe thead th {\n",
       "        text-align: right;\n",
       "    }\n",
       "</style>\n",
       "<table border=\"1\" class=\"dataframe\">\n",
       "  <thead>\n",
       "    <tr style=\"text-align: right;\">\n",
       "      <th></th>\n",
       "      <th>Pauli terms</th>\n",
       "      <th>Coefficients (real)</th>\n",
       "      <th>Coefficients (imaginary)</th>\n",
       "    </tr>\n",
       "  </thead>\n",
       "  <tbody>\n",
       "    <tr>\n",
       "      <th>0</th>\n",
       "      <td>II</td>\n",
       "      <td>1.0</td>\n",
       "      <td>0.0</td>\n",
       "    </tr>\n",
       "    <tr>\n",
       "      <th>1</th>\n",
       "      <td>ZZ</td>\n",
       "      <td>2.0</td>\n",
       "      <td>1.0</td>\n",
       "    </tr>\n",
       "    <tr>\n",
       "      <th>2</th>\n",
       "      <td>XX</td>\n",
       "      <td>3.0</td>\n",
       "      <td>0.0</td>\n",
       "    </tr>\n",
       "  </tbody>\n",
       "</table>\n",
       "</div>"
      ],
      "text/plain": [
       "  Pauli terms  Coefficients (real)  Coefficients (imaginary)\n",
       "0          II                  1.0                       0.0\n",
       "1          ZZ                  2.0                       1.0\n",
       "2          XX                  3.0                       0.0"
      ]
     },
     "execution_count": 23,
     "metadata": {},
     "output_type": "execute_result"
    }
   ],
   "source": [
    "dataframe = op.to_dataframe\n",
    "dataframe"
   ]
  },
  {
   "cell_type": "markdown",
   "id": "f86c1fe3",
   "metadata": {
    "collapsed": false,
    "jupyter": {
     "outputs_hidden": false
    },
    "pycharm": {
     "name": "#%% md\n"
    }
   },
   "source": [
    "We can also output the operator to different backends such as to openfermion:"
   ]
  },
  {
   "cell_type": "code",
   "execution_count": 24,
   "id": "85549b95",
   "metadata": {
    "collapsed": false,
    "jupyter": {
     "outputs_hidden": false
    },
    "pycharm": {
     "name": "#%%\n"
    }
   },
   "outputs": [
    {
     "data": {
      "text/plain": [
       "(3+0j) [] +\n",
       "(1+0j) [X0 X1] +\n",
       "(2+1j) [Z0 Z1]"
      ]
     },
     "execution_count": 24,
     "metadata": {},
     "output_type": "execute_result"
    }
   ],
   "source": [
    "op.to_openfermion"
   ]
  },
  {
   "cell_type": "markdown",
   "id": "72905b1b",
   "metadata": {
    "collapsed": false,
    "jupyter": {
     "outputs_hidden": false
    },
    "pycharm": {
     "name": "#%% md\n"
    }
   },
   "source": [
    "and qiskit:"
   ]
  },
  {
   "cell_type": "code",
   "execution_count": 25,
   "id": "6113600d",
   "metadata": {
    "collapsed": false,
    "jupyter": {
     "outputs_hidden": false
    },
    "pycharm": {
     "name": "#%%\n"
    }
   },
   "outputs": [
    {
     "data": {
      "text/plain": [
       "PauliSumOp(SparsePauliOp(['II', 'ZZ', 'XX'],\n",
       "              coeffs=[3.+0.j, 2.+1.j, 1.+0.j]), coeff=1.0)"
      ]
     },
     "execution_count": 25,
     "metadata": {},
     "output_type": "execute_result"
    }
   ],
   "source": [
    "op.to_qiskit"
   ]
  },
  {
   "cell_type": "markdown",
   "id": "1cde8e4e",
   "metadata": {
    "collapsed": false,
    "jupyter": {
     "outputs_hidden": false
    },
    "pycharm": {
     "name": "#%% md\n"
    }
   },
   "source": [
    "and to a simple dictionary:"
   ]
  },
  {
   "cell_type": "code",
   "execution_count": 26,
   "id": "3d787c24",
   "metadata": {
    "collapsed": false,
    "jupyter": {
     "outputs_hidden": false
    },
    "pycharm": {
     "name": "#%%\n"
    }
   },
   "outputs": [
    {
     "data": {
      "text/plain": [
       "{'II': (3+0j), 'ZZ': (2+1j), 'XX': (1+0j)}"
      ]
     },
     "execution_count": 26,
     "metadata": {},
     "output_type": "execute_result"
    }
   ],
   "source": [
    "op.to_dictionary"
   ]
  },
  {
   "cell_type": "markdown",
   "id": "dc4a1794-e848-49c0-87e7-303b7a172072",
   "metadata": {
    "collapsed": false,
    "jupyter": {
     "outputs_hidden": false
    },
    "pycharm": {
     "name": "#%%\n"
    }
   },
   "source": []
  },
  {
   "cell_type": "markdown",
   "id": "3ddbb2ef-9edf-4144-b7ac-d4987ce9dff0",
   "metadata": {},
   "source": [
    "PauliwordOp also has graph functionality:\n",
    "1. Nodes / Vertices are used to represent Pauli operators\n",
    "2. Edges are used to represent a defined commutation relation between Pauli operators"
   ]
  },
  {
   "cell_type": "code",
   "execution_count": 27,
   "id": "a2231fb5",
   "metadata": {
    "collapsed": false,
    "jupyter": {
     "outputs_hidden": false
    },
    "pycharm": {
     "name": "#%%\n"
    }
   },
   "outputs": [],
   "source": [
    "op = PauliwordOp.from_dictionary({\n",
    " 'III': (0.44635739706240757+0j),\n",
    " 'IZI': (-1.3319405851037809+0j),\n",
    " 'IZZ': (1.0470696736027791+0j),\n",
    " 'ZIY': (-0.05713271668152262+0j),\n",
    " 'ZXI': (0.8028744054919319+0j),\n",
    " 'IXX': (0.24469102625407302+0j),\n",
    " 'YII': (-0.3680101467816112+0j),\n",
    " 'YIX': (1.2592176764100222+0j)})"
   ]
  },
  {
   "cell_type": "code",
   "execution_count": 28,
   "id": "36aa0dac",
   "metadata": {
    "collapsed": false,
    "jupyter": {
     "outputs_hidden": false
    },
    "pycharm": {
     "name": "#%%\n"
    }
   },
   "outputs": [
    {
     "data": {
      "image/png": "[encoded data removed]",
      "text/plain": [
       "<Figure size 640x480 with 1 Axes>"
      ]
     },
     "metadata": {},
     "output_type": "display_data"
    }
   ],
   "source": [
    "import networkx as nx\n",
    "\n",
    "Graph = op.get_graph(edge_relation='C')\n",
    "\n",
    "nx.draw(Graph)"
   ]
  },
  {
   "cell_type": "code",
   "execution_count": 29,
   "id": "a15395bf",
   "metadata": {
    "collapsed": false,
    "jupyter": {
     "outputs_hidden": false
    },
    "pycharm": {
     "name": "#%%\n"
    }
   },
   "outputs": [
    {
     "name": "stdout",
     "output_type": "stream",
     "text": [
      "{0:  0.446+0.000j III +\n",
      "-0.057+0.000j ZIY +\n",
      " 0.803+0.000j ZXI, 1: -1.332+0.000j IZI +\n",
      " 1.047+0.000j IZZ +\n",
      "-0.368+0.000j YII, 2:  0.245+0.000j IXX +\n",
      " 1.259+0.000j YIX}\n"
     ]
    }
   ],
   "source": [
    "dict_of_cliques = op.clique_cover(edge_relation='C')\n",
    "print(dict_of_cliques)"
   ]
  },
  {
   "cell_type": "markdown",
   "id": "942a2126",
   "metadata": {
    "collapsed": false,
    "jupyter": {
     "outputs_hidden": false
    },
    "pycharm": {
     "name": "#%% md\n"
    }
   },
   "source": [
    "Try the above functions, but change edge relation to one of: \n",
    "- `C` = Pauli operators in clique must commute\n",
    "- `AC` = Pauli operators in clique must anticommute\n",
    "- `QWC` = Pauli operators in clique must qubitwise commute"
   ]
  },
  {
   "cell_type": "code",
   "execution_count": null,
   "id": "b7e38560",
   "metadata": {
    "collapsed": false,
    "jupyter": {
     "outputs_hidden": false
    },
    "pycharm": {
     "name": "#%%\n"
    }
   },
   "outputs": [],
   "source": []
  },
  {
   "cell_type": "markdown",
   "id": "65dd5b73",
   "metadata": {
    "collapsed": false,
    "jupyter": {
     "outputs_hidden": false
    },
    "pycharm": {
     "name": "#%% md\n"
    }
   },
   "source": [
    "We can also get the generators for a Pauli operator. For example:"
   ]
  },
  {
   "cell_type": "code",
   "execution_count": 30,
   "id": "93d0bcb0",
   "metadata": {
    "collapsed": false,
    "jupyter": {
     "outputs_hidden": false
    },
    "pycharm": {
     "name": "#%%\n"
    }
   },
   "outputs": [],
   "source": [
    "P = PauliwordOp.from_dictionary({\n",
    "'III': (1+0j),\n",
    " 'IIZ': (1+0j),\n",
    " 'IZI': (1+0j),\n",
    " 'IZZ': (1+0j),\n",
    " 'ZII': (1+0j),\n",
    " 'ZIZ': (1+0j),\n",
    " 'ZZI': (1+0j),\n",
    " 'ZZZ': (1+0j),\n",
    " 'IIX': (1+0j),\n",
    " 'IXI': (1+0j),\n",
    " 'IXX': (1+0j),\n",
    " 'XII': (1+0j),\n",
    " 'XIX': (1+0j),\n",
    " 'XXI': (1+0j),\n",
    " 'XXX': (1+0j)})\n"
   ]
  },
  {
   "cell_type": "markdown",
   "id": "ce73b7d1",
   "metadata": {
    "collapsed": false,
    "jupyter": {
     "outputs_hidden": false
    },
    "pycharm": {
     "name": "#%% md\n"
    }
   },
   "source": [
    "has the following generators:"
   ]
  },
  {
   "cell_type": "code",
   "execution_count": 31,
   "id": "9d7d0292",
   "metadata": {
    "collapsed": false,
    "jupyter": {
     "outputs_hidden": false
    },
    "pycharm": {
     "name": "#%%\n"
    }
   },
   "outputs": [
    {
     "data": {
      "text/plain": [
       " 1.000+0.000j IIZ +\n",
       " 1.000+0.000j IZI +\n",
       " 1.000+0.000j ZII +\n",
       " 1.000+0.000j IIX +\n",
       " 1.000+0.000j IXI +\n",
       " 1.000+0.000j XII"
      ]
     },
     "execution_count": 31,
     "metadata": {},
     "output_type": "execute_result"
    }
   ],
   "source": [
    "P.generators"
   ]
  },
  {
   "cell_type": "markdown",
   "id": "2d5caf42",
   "metadata": {
    "collapsed": false,
    "jupyter": {
     "outputs_hidden": false
    },
    "pycharm": {
     "name": "#%% md\n"
    }
   },
   "source": [
    "We can get the Hermitian conjugate of an operator by using the `dagger`"
   ]
  },
  {
   "cell_type": "code",
   "execution_count": 32,
   "id": "9d436161",
   "metadata": {
    "collapsed": false,
    "jupyter": {
     "outputs_hidden": false
    },
    "pycharm": {
     "name": "#%%\n"
    }
   },
   "outputs": [
    {
     "name": "stdout",
     "output_type": "stream",
     "text": [
      " 1.000+0.000j XX +\n",
      " 2.000+1.000j ZZ +\n",
      " 3.000-4.000j YY\n",
      "\n",
      " 1.000-0.000j XX +\n",
      " 2.000-1.000j ZZ +\n",
      " 3.000+4.000j YY\n"
     ]
    }
   ],
   "source": [
    "op = PauliwordOp.from_dictionary(\n",
    "    {\n",
    "        'XX':1,\n",
    "        'ZZ':2 + 1j,\n",
    "        'YY':3 - 4j\n",
    "    }\n",
    ")\n",
    "print(op)\n",
    "print()\n",
    "print(op.dagger)"
   ]
  },
  {
   "cell_type": "markdown",
   "id": "a44c860c",
   "metadata": {
    "collapsed": false,
    "jupyter": {
     "outputs_hidden": false
    },
    "pycharm": {
     "name": "#%% md\n"
    }
   },
   "source": [
    "We can use this to show a Haar random unitary is in fact unitary:"
   ]
  },
  {
   "cell_type": "code",
   "execution_count": 33,
   "id": "6fc9dc51",
   "metadata": {
    "collapsed": false,
    "jupyter": {
     "outputs_hidden": false
    },
    "pycharm": {
     "name": "#%%\n"
    }
   },
   "outputs": [
    {
     "data": {
      "text/plain": [
       " 1.000+0.000j II"
      ]
     },
     "execution_count": 33,
     "metadata": {},
     "output_type": "execute_result"
    }
   ],
   "source": [
    "n_qubits= 2\n",
    "haar_random = PauliwordOp.haar_random(n_qubits, \n",
    "                                disable_loading_bar=True)\n",
    "\n",
    "haar_random * haar_random.dagger"
   ]
  },
  {
   "cell_type": "markdown",
   "id": "55f4664c-87ca-4d8f-b8ce-848e7a7f2843",
   "metadata": {},
   "source": [
    "We can get the Hermitian conjugate of an operator by using the `dagger`"
   ]
  },
  {
   "cell_type": "code",
   "execution_count": 34,
   "id": "bec8807c-e91d-4ce7-9ffd-0af842a77a18",
   "metadata": {},
   "outputs": [
    {
     "name": "stdout",
     "output_type": "stream",
     "text": [
      " 1.000+0.000j XX +\n",
      " 2.000+1.000j ZZ +\n",
      " 3.000-4.000j YY\n",
      "\n",
      " 1.000-0.000j XX +\n",
      " 2.000-1.000j ZZ +\n",
      " 3.000+4.000j YY\n"
     ]
    }
   ],
   "source": [
    "op = PauliwordOp.from_dictionary(\n",
    "    {\n",
    "        'XX':1,\n",
    "        'ZZ':2 + 1j,\n",
    "        'YY':3 - 4j\n",
    "    }\n",
    ")\n",
    "print(op)\n",
    "print()\n",
    "print(op.dagger)"
   ]
  },
  {
   "cell_type": "markdown",
   "id": "e3291b7a-901c-41c9-ba09-21727d659c2f",
   "metadata": {},
   "source": [
    "We can use this to show a Haar random unitary is in fact unitary:"
   ]
  },
  {
   "cell_type": "code",
   "execution_count": 35,
   "id": "149a6df1-8d99-40a3-a655-34d7ae893c64",
   "metadata": {},
   "outputs": [
    {
     "data": {
      "text/plain": [
       " 1.000+0.000j II"
      ]
     },
     "execution_count": 35,
     "metadata": {},
     "output_type": "execute_result"
    }
   ],
   "source": [
    "n_qubits= 2\n",
    "haar_random = PauliwordOp.haar_random(n_qubits, \n",
    "                                disable_loading_bar=True)\n",
    "\n",
    "haar_random * haar_random.dagger"
   ]
  },
  {
   "cell_type": "markdown",
   "id": "fd45582b-9f9b-41c0-b682-2337dea9eeb0",
   "metadata": {
    "pycharm": {
     "name": "#%% md\n"
    }
   },
   "source": [
    "## Attributes"
   ]
  },
  {
   "cell_type": "markdown",
   "id": "e41f355f-2bc0-40cd-957a-3a4b69149de3",
   "metadata": {
    "pycharm": {
     "name": "#%% md\n"
    }
   },
   "source": [
    "Note the number of significant figures a Pauli operator is reported too by default is **3**:"
   ]
  },
  {
   "cell_type": "code",
   "execution_count": 36,
   "id": "9aea1941-e1f3-4d90-92de-66c2c6b2ef84",
   "metadata": {
    "pycharm": {
     "name": "#%%\n"
    }
   },
   "outputs": [
    {
     "name": "stdout",
     "output_type": "stream",
     "text": [
      " 0.000+0.000j XX +\n",
      " 0.000+0.000j ZZ\n"
     ]
    }
   ],
   "source": [
    "P = PauliwordOp.from_dictionary(\n",
    "    {\n",
    "        'XX': 0.0001,\n",
    "        'ZZ': 0.0001j,\n",
    "    }\n",
    ")\n",
    "print(P)"
   ]
  },
  {
   "cell_type": "markdown",
   "id": "fde9ff6e-40d5-4218-a023-91b2abce6cc6",
   "metadata": {
    "pycharm": {
     "name": "#%% md\n"
    }
   },
   "source": [
    "in order to increase this we need in increase `sigfig` attribute:"
   ]
  },
  {
   "cell_type": "code",
   "execution_count": 37,
   "id": "7cf332a5-cf05-4098-9403-1d55c1a933a7",
   "metadata": {
    "pycharm": {
     "name": "#%%\n"
    }
   },
   "outputs": [
    {
     "name": "stdout",
     "output_type": "stream",
     "text": [
      " 0.00010+0.00000j XX +\n",
      " 0.00000+0.00010j ZZ\n"
     ]
    }
   ],
   "source": [
    "P.sigfig= 5\n",
    "print(P)"
   ]
  },
  {
   "cell_type": "markdown",
   "id": "87674de5-07f9-4c94-87c0-7a7d3999b82e",
   "metadata": {
    "pycharm": {
     "name": "#%% md\n"
    }
   },
   "source": [
    "We can also access the coefficients of each Pauli operator via the coeff_vec attribute"
   ]
  },
  {
   "cell_type": "code",
   "execution_count": 38,
   "id": "2fe1b460-74f5-428a-a41a-f49b4f85153d",
   "metadata": {
    "pycharm": {
     "name": "#%%\n"
    }
   },
   "outputs": [
    {
     "name": "stdout",
     "output_type": "stream",
     "text": [
      "[0.0001+0.j     0.    +0.0001j]\n"
     ]
    }
   ],
   "source": [
    "print(P.coeff_vec)"
   ]
  },
  {
   "cell_type": "markdown",
   "id": "7eb88e73-db59-40e0-9472-b4c455e187b0",
   "metadata": {
    "pycharm": {
     "name": "#%% md\n"
    }
   },
   "source": [
    "That returns a numpy array"
   ]
  },
  {
   "cell_type": "code",
   "execution_count": null,
   "id": "3ead89e2",
   "metadata": {
    "collapsed": false,
    "jupyter": {
     "outputs_hidden": false
    },
    "pycharm": {
     "name": "#%%\n"
    }
   },
   "outputs": [],
   "source": []
  }
 ],
 "metadata": {
  "kernelspec": {
   "display_name": "Python 3 (ipykernel)",
   "language": "python",
   "name": "python3"
  },
  "language_info": {
   "codemirror_mode": {
    "name": "ipython",
    "version": 3
   },
   "file_extension": ".py",
   "mimetype": "text/x-python",
   "name": "python",
   "nbconvert_exporter": "python",
   "pygments_lexer": "ipython3",
   "version": "3.8.16"
  }
 },
 "nbformat": 4,
 "nbformat_minor": 5
}
